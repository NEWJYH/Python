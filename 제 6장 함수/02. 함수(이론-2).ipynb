{
 "cells": [
  {
   "cell_type": "markdown",
   "id": "6609b029",
   "metadata": {},
   "source": [
    "2. 함수의 선언 및 구현"
   ]
  },
  {
   "cell_type": "markdown",
   "id": "4e8728a4",
   "metadata": {},
   "source": [
    "1) 함수의 문법\n",
    "    - 파이썬에서 함수를 선언 및 구현하는 방법은 아래와 같다.\n",
    "    def 함수이름 (매개변수1, 매개변수2 ):\n",
    "           문장 1\n",
    "           문장 2\n",
    "      \n",
    "      def <- 함수를 정의하는 키워드\n",
    "      매개변수 <- 외부로부터 작업에 필요한 데이터를 받는다.\n",
    "                 없어도 된다.\n",
    "      : 콜론을 찍어서 함수 정의가 끝나지 않았음을 표시한다.\n",
    "    - 함수는 크게 선언부(헤더)와 구현부(정의부,몸체)로 나누어진다.\n",
    "      선언부에는 def 키워드로 시작하면 이어서 함수 이름, 매개변수\n",
    "      (인자값, parameter, arguments)를 적어주며 \n",
    "      끝에 콜론(:)을 찍어준다. 아시다시피 콜론(:)은 인터프리터에게\n",
    "      성급하게 해석하지 말라고 하는 의미이다.\n",
    "      함수는 구현부(정의부, 몸체)까지 입력되어야 비로소 해석을 시작할수\n",
    "      있다. 매개변수는 외부에서 전달되는 데이터를 함수로\n",
    "      전달하는 변수이다.\n",
    "      함수의 구현부는 함수가 수행하는 작업을 위한 명령어들이 들어간다."
   ]
  },
  {
   "cell_type": "markdown",
   "id": "30098273",
   "metadata": {},
   "source": [
    "2) 함수의 구현과 호출\n",
    "    - 아래와 같이 함수를 선언 및 구현하고 호출하면 되는 것이다.\n",
    "    "
   ]
  },
  {
   "cell_type": "code",
   "execution_count": 1,
   "id": "22552c67",
   "metadata": {},
   "outputs": [
    {
     "name": "stdout",
     "output_type": "stream",
     "text": [
      "안녕 철수\n"
     ]
    }
   ],
   "source": [
    "# 함수 선언 및 구현\n",
    "def say_hello(name):\n",
    "    print(f\"안녕 {name}\")\n",
    "    \n",
    "# 함수 호출\n",
    "say_hello(\"철수\")"
   ]
  },
  {
   "cell_type": "markdown",
   "id": "7917f265",
   "metadata": {},
   "source": [
    "    - 위의 함수는 함수 이름은 say_hello()이고 name은 매개변수이다.\n",
    "      함수의 구현부는 print()함수를 통해 매개변수를 출력하는 것이다.\n",
    "      함수는 구현되었다고 해서 실행되는 것은 아니고\n",
    "      함수를 호출해야 실행된다."
   ]
  },
  {
   "cell_type": "code",
   "execution_count": 2,
   "id": "ce62167d",
   "metadata": {
    "scrolled": true
   },
   "outputs": [
    {
     "name": "stdout",
     "output_type": "stream",
     "text": [
      "안녕 철수야 어서 집에 오너라\n"
     ]
    }
   ],
   "source": [
    "# 함수 선언 및 구현\n",
    "def say_hello(name,msg):\n",
    "    print(f\"안녕 {name}야 {msg}\")\n",
    "    \n",
    "# 함수 호출\n",
    "name = \"철수\"\n",
    "msg = \"어서 집에 오너라\"\n",
    "say_hello(name,msg)"
   ]
  },
  {
   "cell_type": "code",
   "execution_count": 3,
   "id": "39dcefbe",
   "metadata": {},
   "outputs": [
    {
     "name": "stdout",
     "output_type": "stream",
     "text": [
      "55\n"
     ]
    }
   ],
   "source": [
    "def get_sum(start,end):\n",
    "    sum = 0\n",
    "    for i in range(start,end+1):\n",
    "        sum += i\n",
    "    return sum\n",
    "\n",
    "value = get_sum(1,10)\n",
    "print(value)"
   ]
  },
  {
   "cell_type": "markdown",
   "id": "d77cbd29",
   "metadata": {},
   "source": [
    "3) 함수의 장점\n",
    "     - 프로그램 안에서 중복된 코드를 제거한다.\n",
    "     - 복잡한 프로그래밍 작업을 더 간단한 작업들로 분해할 수 있다.\n",
    "     - 각 함수들은 레고 블록처럼 다른 함수들과 연결되어서 \n",
    "       하나의 프로그램을 구성한다.\n",
    "     - 함수는 한 번 만들어지면 다른 프로그램에서도 얼마든지 재사용될수\n",
    "       있다.\n",
    "     - 함수를 사용하면 가독성이 증대되고, 유지 관리도 매우 쉬워진다."
   ]
  },
  {
   "cell_type": "markdown",
   "id": "fb5447c5",
   "metadata": {},
   "source": [
    "4) 함수의 이름\n",
    "    - 함수의 이름은 식별자에 대한 규칙만 따른다면 어떤 이름이라도 상관없다.\n",
    "      다만 가독성이 좋을 수 있도록 함수의 기능을 알려주는 이름을 \n",
    "      명명하는 것이 좋다.\n",
    "      일반적으로 함수의 목적을 설명하는 동사 또는 \n",
    "      동사 + 동사를 사용하면 된다.\n",
    "      \n",
    "      square(side) //정수를 제곱하는 함수\n",
    "      compute_average(list) //평균을 구하는 함수\n",
    "      set_cursor_type(c) //커서의 타입을 설정하는 함수\n",
    "      "
   ]
  },
  {
   "cell_type": "markdown",
   "id": "03f6c1c6",
   "metadata": {},
   "source": [
    "4) 함수의 호출\n",
    "    - 함수를 선언하고 구현하는 최고의 목적은 바로 함수를 실행시켜\n",
    "      그 기능을 하도록 하는데 있다.\n",
    "      그렇다면 함수를 사용하려면 당연히 호출(call)을 해야하 하는 것이다.\n",
    "      함수 호출(function call)이란 그냥 print()와 같이\n",
    "      함수의 이름을 코드로 적어주면 된다.\n",
    "      함수 안의 문장들은 호출되기 전까지는 전혀 실행되지 않는다.\n",
    "    - 함수가 호출되면 함수 안의 있는 문장들이 순차적으로\n",
    "      실행되면 실행이 끝나면 다시 호출한 곳으로 돌아간다.\n",
    "      예를 들어서 get_sum()을 호출한다고 하면 아래와 같은 순서로\n",
    "      프로그램이 실행된다."
   ]
  },
  {
   "cell_type": "code",
   "execution_count": 4,
   "id": "952f6ebf",
   "metadata": {},
   "outputs": [
    {
     "name": "stdout",
     "output_type": "stream",
     "text": [
      "55\n",
      "210\n"
     ]
    }
   ],
   "source": [
    "def get_sum(start,end):\n",
    "    sum = 0\n",
    "    for i in range(start, end + 1 ):\n",
    "        sum += i\n",
    "    return sum\n",
    "\n",
    "print(get_sum(1,10))\n",
    "print(get_sum(1,20))\n",
    "# 함수는 일단 작성되면 위와 같이 몇번에 상관없이\n",
    "# 필요하다면 언제든 호출 가능하다.\n",
    "# 이것이 바로 함수의 가장 큰 장점인 것이다.\n"
   ]
  }
 ],
 "metadata": {
  "kernelspec": {
   "display_name": "Python 3",
   "language": "python",
   "name": "python3"
  },
  "language_info": {
   "codemirror_mode": {
    "name": "ipython",
    "version": 3
   },
   "file_extension": ".py",
   "mimetype": "text/x-python",
   "name": "python",
   "nbconvert_exporter": "python",
   "pygments_lexer": "ipython3",
   "version": "3.8.8"
  }
 },
 "nbformat": 4,
 "nbformat_minor": 5
}
