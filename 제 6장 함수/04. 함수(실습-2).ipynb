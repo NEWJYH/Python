{
 "cells": [
  {
   "cell_type": "code",
   "execution_count": 5,
   "id": "0ede6ebf",
   "metadata": {},
   "outputs": [
    {
     "name": "stdout",
     "output_type": "stream",
     "text": [
      "제곱을 만들어주는 프로그램\n",
      "정수를 입력해주세요 : 0\n",
      "제곱하기 전 0, 제곱한 후 0\n"
     ]
    }
   ],
   "source": [
    "# 파이썬에서는 오버로딩의 개념이 없다는 점!!!!\n",
    "\n",
    "# 정수를 사용자로부터 입력받아서 제곱한 값을 반환하는 함수를 만들어보시오.\n",
    "# 사용자가 5를 입력하면 출력 값은 25가 되어야한다.\n",
    "\n",
    "# 함수를 선언부\n",
    "def square(num):\n",
    "    return num * num # 반환값 처리\n",
    "\n",
    "\n",
    "# 프로그램 구현부\n",
    "print(\"제곱을 만들어주는 프로그램\")\n",
    "USER_INPUT = int(input(\"정수를 입력해주세요 : \"))\n",
    "\n",
    "print(f\"제곱하기 전 {USER_INPUT}, 제곱한 후 {square(USER_INPUT)}\")"
   ]
  },
  {
   "cell_type": "code",
   "execution_count": 13,
   "id": "984de7d7",
   "metadata": {},
   "outputs": [
    {
     "name": "stdout",
     "output_type": "stream",
     "text": [
      "둘중 더 큰수를 반환하는 함수\n",
      "첫번째 정수를 입력하세요45\n",
      "두번째 정수를 입력하세요65\n",
      "입력받은 값 1 = 45\n",
      "입력받은 값 2 = 65\n",
      "\n",
      "두 수 중 큰 값 = 65\n",
      "두 수 중 작은 값 = 45\n"
     ]
    }
   ],
   "source": [
    "# 두개의 정수를 입력받아서 두 수 중에서 더 큰 수를 찾아서\n",
    "# 리턴하는 함수를 만들어보자.\n",
    "# return 문은 최소화 하는게 좋은 코드이다.\n",
    "\n",
    "# 함수 구현부\n",
    "def max_(a,b):\n",
    "    max = 0\n",
    "    if a > b:\n",
    "        max = a\n",
    "    else:\n",
    "        max = b\n",
    "    return max\n",
    "\n",
    "def min_(a,b):\n",
    "    min = 0\n",
    "    if a > b:\n",
    "        min = b\n",
    "    else:\n",
    "        min = a\n",
    "    return min\n",
    "\n",
    "# 프로그램명\n",
    "print(\"둘중 더 큰수를 반환하는 함수\")\n",
    "# 사용자 입력부\n",
    "USER_INPUT1 = int(input(\"첫번째 정수를 입력하세요\"))\n",
    "USER_INPUT2 = int(input(\"두번째 정수를 입력하세요\"))\n",
    "# 함수 사용부\n",
    "answer1 = max_(USER_INPUT1, USER_INPUT2)\n",
    "answer2 = min_(USER_INPUT1, USER_INPUT2)\n",
    "# 프로그램 출력부\n",
    "print(f\"입력받은 값 1 = {USER_INPUT1}\")\n",
    "print(f\"입력받은 값 2 = {USER_INPUT2}\")\n",
    "print()\n",
    "print(f\"두 수 중 큰 값 = {answer1}\")\n",
    "print(f\"두 수 중 작은 값 = {answer2}\")"
   ]
  },
  {
   "cell_type": "code",
   "execution_count": 14,
   "id": "81fd41ea",
   "metadata": {},
   "outputs": [
    {
     "name": "stdout",
     "output_type": "stream",
     "text": [
      "거듭제곱을 구하는 프로그램\n",
      "거듭제곱 정수부 : 5\n",
      "거듭제곱 지수부 : 15\n",
      "입력한 정수부 : 5 지수부 : 15\n",
      "거듭제곱은 : 152587890625\n"
     ]
    }
   ],
   "source": [
    "# 거듭제곱을 구하는 함수를 만드시오\n",
    "def involution(num1,num2):\n",
    "    answer = num1\n",
    "    for i in range(1,num2 + 1):\n",
    "        answer *= num1\n",
    "    return answer\n",
    "\n",
    "# 프로그램명\n",
    "print(\"거듭제곱을 구하는 프로그램\")\n",
    "\n",
    "# 사용자 입력부\n",
    "USER_INPUT1 = int(input(\"거듭제곱 정수부 : \"))\n",
    "USER_INPUT2 = int(input(\"거듭제곱 지수부 : \"))\n",
    "\n",
    "# 함수 활용부\n",
    "answer = involution(USER_INPUT1,USER_INPUT2)\n",
    "\n",
    "print(f\"입력한 정수부 : {USER_INPUT1} 지수부 : {USER_INPUT2}\")\n",
    "print(f\"거듭제곱은 : {answer}\")"
   ]
  },
  {
   "cell_type": "code",
   "execution_count": 24,
   "id": "ca8b71b2",
   "metadata": {},
   "outputs": [
    {
     "name": "stdout",
     "output_type": "stream",
     "text": [
      "16\n"
     ]
    }
   ],
   "source": [
    "def power(x,y):\n",
    "    result = 1\n",
    "    for i in range(y):\n",
    "        result *= x\n",
    "    return result\n",
    "\n",
    "a = power(2,4)\n",
    "print(a)"
   ]
  }
 ],
 "metadata": {
  "kernelspec": {
   "display_name": "Python 3",
   "language": "python",
   "name": "python3"
  },
  "language_info": {
   "codemirror_mode": {
    "name": "ipython",
    "version": 3
   },
   "file_extension": ".py",
   "mimetype": "text/x-python",
   "name": "python",
   "nbconvert_exporter": "python",
   "pygments_lexer": "ipython3",
   "version": "3.8.8"
  }
 },
 "nbformat": 4,
 "nbformat_minor": 5
}
