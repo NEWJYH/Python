{
 "cells": [
  {
   "cell_type": "code",
   "execution_count": 12,
   "id": "2e90dbc3",
   "metadata": {},
   "outputs": [
    {
     "name": "stdout",
     "output_type": "stream",
     "text": [
      "Hello 신은혁\n",
      "Hello 홍길동\n",
      "Hello 신은혁 반갑습니다\n",
      "Hello 홍길동 반갑습니다\n"
     ]
    }
   ],
   "source": [
    "# 함수(function)에 대한 실습\n",
    "# 1. 함수는 프로그램 안에서 중복된 코드를 제거한다.\n",
    "# 2. 복잡한 프로그래밍 작업을 더 간단한 작업들로 분해할 수 있다.\n",
    "# 3. 함수는 한번 만들어두면 재사용이 얼마든지 가능하다.\n",
    "# 4. 함수를 사용하면 가독성이 증대되고, 유지관리도 쉬워진다.\n",
    "\n",
    "# 간단한 함수\n",
    "\n",
    "def say_hello(name):\n",
    "    print(f\"Hello {name}\")\n",
    "\n",
    "# 위와 같이 함수를 정의만 했다면 출력값은 없다.\n",
    "# 출력 값이 나오게 할려면 call(호출)을 해야한다.\n",
    "\n",
    "# 함수 호출(function call)\n",
    "say_hello(\"신은혁\")\n",
    "say_hello(\"홍길동\")\n",
    "# 함수가 호출되어 10을 출력을 하긴 하지만 가독성이 좋지않다.\n",
    "# 이유는 함수의매개변수명이 name이니 웬만하면 이름을 매개변수 값으로\n",
    "# 주는것이 현명한 코드가 될것이다.\n",
    "\n",
    "\n",
    "def say_hello(name, msg):\n",
    "    print(f\"Hello {name} {msg}\")\n",
    "\n",
    "    \n",
    "say_hello(\"신은혁\",\"반갑습니다\")\n",
    "say_hello(\"홍길동\",\"반갑습니다\")\n",
    "\n",
    "# 파이썬에서는 오버로딩의 개념이 없다.\n",
    "# 같은 함수의 이름이라면 마지막에 정의되어진\n",
    "# 함수만 인식하게 된다.\n",
    "# 하여 함수명은, 고유한 함수명을 짓도록 한다."
   ]
  },
  {
   "cell_type": "code",
   "execution_count": 15,
   "id": "b1dbb580",
   "metadata": {},
   "outputs": [
    {
     "name": "stdout",
     "output_type": "stream",
     "text": [
      "55\n"
     ]
    }
   ],
   "source": [
    "# 값을 반환하는 함수 예제\n",
    "def get_sum(start, end):\n",
    "    sum = 0\n",
    "    for i in range(start,end+1):\n",
    "        sum += i\n",
    "    return sum\n",
    "\n",
    "result = get_sum(1,10)\n",
    "print(result)"
   ]
  }
 ],
 "metadata": {
  "kernelspec": {
   "display_name": "Python 3",
   "language": "python",
   "name": "python3"
  },
  "language_info": {
   "codemirror_mode": {
    "name": "ipython",
    "version": 3
   },
   "file_extension": ".py",
   "mimetype": "text/x-python",
   "name": "python",
   "nbconvert_exporter": "python",
   "pygments_lexer": "ipython3",
   "version": "3.8.8"
  }
 },
 "nbformat": 4,
 "nbformat_minor": 5
}
