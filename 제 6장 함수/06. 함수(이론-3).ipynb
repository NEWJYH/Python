{
 "cells": [
  {
   "cell_type": "markdown",
   "id": "b8010b3a",
   "metadata": {},
   "source": [
    "3. 인수와 매개변수 그리고 반환값"
   ]
  },
  {
   "cell_type": "markdown",
   "id": "a867f2e0",
   "metadata": {},
   "source": [
    "1) 인수(arguments)와 매개변수(parameter)의 차이점\n",
    "    - 인수(arguments)는 호출 프로그램에 의하여 \n",
    "      함수에 실제로 전달되는 값이다.\n",
    "    - 매개변수(parameter)는 이 값을 전달받는 변수이다.\n",
    "    "
   ]
  },
  {
   "cell_type": "code",
   "execution_count": 10,
   "id": "7675c05b",
   "metadata": {},
   "outputs": [
    {
     "name": "stdout",
     "output_type": "stream",
     "text": [
      "55\n"
     ]
    }
   ],
   "source": [
    "def get_sum(start, end, li = 1):\n",
    "    # 여기서 start, end는 매개변수\n",
    "    sum = 0\n",
    "    for i in range(start, end + 1, li):\n",
    "        sum += i\n",
    "    return sum\n",
    "\n",
    "\n",
    "value = get_sum(1, 10)\n",
    "        # 1,10은 인수\n",
    "print(value)"
   ]
  },
  {
   "cell_type": "markdown",
   "id": "e012f8d5",
   "metadata": {},
   "source": [
    "    - 함수가 호출될 때마다 인수는 달라질 수 있다."
   ]
  },
  {
   "cell_type": "code",
   "execution_count": 8,
   "id": "30fc6fe6",
   "metadata": {},
   "outputs": [
    {
     "ename": "TypeError",
     "evalue": "get_sum() missing 1 required positional argument: 'end'",
     "output_type": "error",
     "traceback": [
      "\u001b[1;31m---------------------------------------------------------------------------\u001b[0m",
      "\u001b[1;31mTypeError\u001b[0m                                 Traceback (most recent call last)",
      "\u001b[1;32m<ipython-input-8-3680c13a2611>\u001b[0m in \u001b[0;36m<module>\u001b[1;34m\u001b[0m\n\u001b[0;32m      1\u001b[0m \u001b[1;31m# 10이 get_sum()의 인수가 된다.\u001b[0m\u001b[1;33m\u001b[0m\u001b[1;33m\u001b[0m\u001b[1;33m\u001b[0m\u001b[0m\n\u001b[1;32m----> 2\u001b[1;33m \u001b[0mx\u001b[0m \u001b[1;33m=\u001b[0m \u001b[0mget_sum\u001b[0m\u001b[1;33m(\u001b[0m\u001b[1;36m10\u001b[0m\u001b[1;33m)\u001b[0m\u001b[1;33m\u001b[0m\u001b[1;33m\u001b[0m\u001b[0m\n\u001b[0m\u001b[0;32m      3\u001b[0m \u001b[1;33m\u001b[0m\u001b[0m\n\u001b[0;32m      4\u001b[0m \u001b[1;31m# 20이 get_sum()의 인수가 된다.\u001b[0m\u001b[1;33m\u001b[0m\u001b[1;33m\u001b[0m\u001b[1;33m\u001b[0m\u001b[0m\n\u001b[0;32m      5\u001b[0m \u001b[0my\u001b[0m \u001b[1;33m=\u001b[0m \u001b[0mget_sum\u001b[0m\u001b[1;33m(\u001b[0m\u001b[1;36m20\u001b[0m\u001b[1;33m)\u001b[0m\u001b[1;33m\u001b[0m\u001b[1;33m\u001b[0m\u001b[0m\n",
      "\u001b[1;31mTypeError\u001b[0m: get_sum() missing 1 required positional argument: 'end'"
     ]
    }
   ],
   "source": [
    "# 10이 get_sum()의 인수가 된다.\n",
    "x = get_sum(10)\n",
    "\n",
    "# 20이 get_sum()의 인수가 된다.\n",
    "y = get_sum(20)"
   ]
  },
  {
   "cell_type": "markdown",
   "id": "b493dfef",
   "metadata": {},
   "source": [
    "     - 여기서 반드시 주의해야 할 점은 매개변수의 개수는 정확히 일치하여야\n",
    "       한다는 점이다.\n",
    "       즉, 매개변수가 두 개이면 인수도 두개를 전달해야 한다.\n",
    "       그렇치 않다면 에러가 발생한 것을 실습에서 확인한바 있다."
   ]
  },
  {
   "cell_type": "markdown",
   "id": "0c277cfb",
   "metadata": {},
   "source": [
    "2) 반환값(return value)\n",
    "    - 함수가 호출한 곳으로 반환하는 작업의 결과값이다.\n",
    "    - 함수는 자신을 호출한 곳으로 값을 반환할 수 있다.\n",
    "      값을 반환하려면 return 문장 다음에 수식을 써주면 \n",
    "      수식의 값이 반환된다.\n",
    "    - 함수는 반환값은 결국 return 문장 뒤에 있는 수식의 계산값이 된다.\n",
    "      return 뒤에 오는 수식은 파이썬에서 유효한 수식이면\n",
    "      무엇이든 가능하다.\n",
    "      \n",
    "      return 0\n",
    "      return x\n",
    "      return (x*x)+2\n",
    "      \n",
    "    - 파이썬은 함수가 값을 반환하지 않는 경우에는\n",
    "      None 이라는 특별한 값을 반환한다.\n",
    "      None은 어떤 객체도 참조하지 않는다 라는 것을 의미한다."
   ]
  },
  {
   "cell_type": "markdown",
   "id": "5ac1f029",
   "metadata": {},
   "source": [
    "4. 값을 반환하지 않는 함수"
   ]
  },
  {
   "cell_type": "markdown",
   "id": "e94d2097",
   "metadata": {},
   "source": [
    "1) 값을 반환하지 않는 함수\n",
    "    - 프로그래밍을 하다 보면 어떤 값을 계산하지 않지만\n",
    "      몇 개의 명령어들을 실행하는 경우도 있다.\n",
    "      만약 이런 경우가 자주 있다면 이 때에서 역시 함수를 만들어서 \n",
    "      사용할 수가 있다.\n",
    "      예를 들어, 화면에 사람들의 이름과 나이를 박스로 만들어서\n",
    "      출력할 때에는 아래와 같이 printinfo()라는 함수를 작성하여\n",
    "      사용하는 것도 코드 절약과 재활용이 될것이다.\n",
    "      "
   ]
  },
  {
   "cell_type": "code",
   "execution_count": 11,
   "id": "2dcc499b",
   "metadata": {},
   "outputs": [
    {
     "name": "stdout",
     "output_type": "stream",
     "text": [
      "================\n",
      "이름 : 홍길동\n",
      "나이 : 35\n",
      "================\n"
     ]
    }
   ],
   "source": [
    "def printinfo(name,age):\n",
    "    print(\"================\")\n",
    "    print(f\"이름 : {name}\")\n",
    "    print(f\"나이 : {age}\")\n",
    "    print(\"================\")\n",
    "    return\n",
    "\n",
    "printinfo(\"홍길동\", 35)\n",
    "\n",
    "# 함수 안의 return문 뒤에 아무 내용도 없다면 함수의 종료를 알린다.\n",
    "# 하여, 호출한 곳으로 되돌아가게 된다."
   ]
  },
  {
   "cell_type": "markdown",
   "id": "984d4527",
   "metadata": {},
   "source": [
    "5. 디폴트 인수"
   ]
  },
  {
   "cell_type": "markdown",
   "id": "42e24357",
   "metadata": {},
   "source": [
    "1) 디폴트 인수(default argument)\n",
    "    - 파이썬에서는 함수의 매개변수가 기본값을 가질 수 있다.\n",
    "      이것을 디폴트 인수(default argument)라고 한다.\n",
    "      예를 들어보면 아래와 같이 인사하는  함수 greet()가 있다고 하자.\n",
    "      greet()는 항상 2개의 인수를 받아야한다."
   ]
  },
  {
   "cell_type": "code",
   "execution_count": 26,
   "id": "ed66b7e7",
   "metadata": {},
   "outputs": [
    {
     "name": "stdout",
     "output_type": "stream",
     "text": [
      "안녕 영희 별일없죠?\n"
     ]
    }
   ],
   "source": [
    "def greet(name,msg =\"별일없죠?\"):\n",
    "    print(f\"안녕 {name} {msg}\")\n",
    "    \n",
    "greet(\"영희\")\n",
    "# 위의 msg의 값을 미리 \"별일 없죠?\" 라고 정해 놓은 것이다.\n",
    "# 이런 것을 두고 디폴트 인수라고 한다."
   ]
  },
  {
   "cell_type": "markdown",
   "id": "edd0d057",
   "metadata": {},
   "source": [
    "6. 키워드 인수"
   ]
  },
  {
   "cell_type": "markdown",
   "id": "0d302401",
   "metadata": {},
   "source": [
    "1) 키워드 인수(keyword argument)\n",
    "    - 파이썬에서는 대부분의 인수들은 함수 호출 시에 위치에 의하여 구별된다.\n",
    "      예를 들자면 pow(1,10)은 pow(10,1)과 다르다.\n",
    "      이유는 함수 호출 pow(1,10)은 1의 10제곱을 구할 것이며,\n",
    "      pow(10,1)은 10의 1제곱을 구할 것이다.\n",
    "     \n",
    "    - 하지만, 키워드 인수(keyword argument)는 인수들 앞에 키워드를 \n",
    "      두어서 인수들을 구분한다.\n",
    "      키워드 인수는 함수를 호출할때, 인수의 이름을 명시적으로 지정해서\n",
    "      전달하는 방법이다.\n",
    "      예를 들어서 아래와 같이 인수 3개인 함수가 있다고 하자."
   ]
  },
  {
   "cell_type": "code",
   "execution_count": 14,
   "id": "6a79501f",
   "metadata": {},
   "outputs": [],
   "source": [
    "def calc(x,y,z):\n",
    "    return x + y + z"
   ]
  },
  {
   "cell_type": "markdown",
   "id": "931b2d06",
   "metadata": {},
   "source": [
    "1) 키워드 인수(keyword argument)\n",
    "    - 물론 위의 함수는 아래와 같이 호출하는 것이 정상적일 것이다.\n",
    "      10은 매개변수 x로 전달되고 20은 y로 30은 z로 전달된다.\n",
    "      이와 같이 기본 인수 전달방식을 위치 인수(positional argument)\n",
    "      라고도 한다."
   ]
  },
  {
   "cell_type": "code",
   "execution_count": 15,
   "id": "a2bb72be",
   "metadata": {},
   "outputs": [
    {
     "data": {
      "text/plain": [
       "60"
      ]
     },
     "execution_count": 15,
     "metadata": {},
     "output_type": "execute_result"
    }
   ],
   "source": [
    "calc(10,20,30)"
   ]
  },
  {
   "cell_type": "markdown",
   "id": "a8d8b56e",
   "metadata": {},
   "source": [
    "1) 키워드 인수(keyword argument)\n",
    "    - 하지만, 아래와 같이 매개변수의 이름에 값을 직접 대입하여서도 \n",
    "      전달할 수가 있다.\n",
    "      이 방법의 장점은 인수의 위치가 매개변수의 위치와 달라도 된다는 것이다.\n",
    "      키워드 인수를 사용할 때는 인수들이 어떤 순서로 전달 되어도\n",
    "      상관 없다."
   ]
  },
  {
   "cell_type": "code",
   "execution_count": 22,
   "id": "53b2c2d6",
   "metadata": {},
   "outputs": [],
   "source": [
    "def calc(x,y,z):\n",
    "    print(f\"x = {x}, y = {y} z = {z}\")\n",
    "    return x + y + z"
   ]
  },
  {
   "cell_type": "code",
   "execution_count": 23,
   "id": "2c70fd59",
   "metadata": {},
   "outputs": [
    {
     "name": "stdout",
     "output_type": "stream",
     "text": [
      "x = 10, y = 20 z = 30\n"
     ]
    },
    {
     "data": {
      "text/plain": [
       "60"
      ]
     },
     "execution_count": 23,
     "metadata": {},
     "output_type": "execute_result"
    }
   ],
   "source": [
    "calc(x=10,y=20,z=30)"
   ]
  },
  {
   "cell_type": "code",
   "execution_count": 24,
   "id": "2283a1db",
   "metadata": {},
   "outputs": [
    {
     "name": "stdout",
     "output_type": "stream",
     "text": [
      "x = 10, y = 20 z = 30\n"
     ]
    },
    {
     "data": {
      "text/plain": [
       "60"
      ]
     },
     "execution_count": 24,
     "metadata": {},
     "output_type": "execute_result"
    }
   ],
   "source": [
    "calc(y=20,x=10,z=30)"
   ]
  }
 ],
 "metadata": {
  "kernelspec": {
   "display_name": "Python 3",
   "language": "python",
   "name": "python3"
  },
  "language_info": {
   "codemirror_mode": {
    "name": "ipython",
    "version": 3
   },
   "file_extension": ".py",
   "mimetype": "text/x-python",
   "name": "python",
   "nbconvert_exporter": "python",
   "pygments_lexer": "ipython3",
   "version": "3.8.8"
  }
 },
 "nbformat": 4,
 "nbformat_minor": 5
}
