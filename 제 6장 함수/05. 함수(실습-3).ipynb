{
 "cells": [
  {
   "cell_type": "code",
   "execution_count": 2,
   "id": "80417f32",
   "metadata": {},
   "outputs": [
    {
     "name": "stdout",
     "output_type": "stream",
     "text": [
      "섭씨 -> 화씨, 화씨 ->섭씨 변환기\n",
      "화씨온도를 입력해주세요 : 113\n",
      "섭씨온도를 입력해주세요 : 45\n",
      "섭씨 -> 화씨 결과 :     113.00\n",
      "화씨 -> 섭씨 결과 :      45.00\n"
     ]
    }
   ],
   "source": [
    "# 섭씨 온도를 입력받아\n",
    "# 화씨 온도로 변환하여 반환하는 함수 FtoC()를 작성하시오.\n",
    "\n",
    "# 공식 : \n",
    "# 화씨 = (섭씨 * (9/5)) + 32 \n",
    "\n",
    "def CtoF(ctem):\n",
    "    result = (ctem * (9.0 / 5.0)) + 32.0\n",
    "    return result\n",
    "\n",
    "def FtoC(ftem):\n",
    "    result = (ftem - 32.0) * (5.0 / 9.0)\n",
    "    return result\n",
    "\n",
    "\n",
    "print(\"섭씨 -> 화씨, 화씨 ->섭씨 변환기\")\n",
    "\n",
    "F_tem = float(input(\"화씨온도를 입력해주세요 : \"))\n",
    "C_tem = float(input(\"섭씨온도를 입력해주세요 : \"))\n",
    "\n",
    "print(f\"섭씨 -> 화씨 결과 : {CtoF(C_tem):>10,.2f}\" )\n",
    "print(f\"화씨 -> 섭씨 결과 : {FtoC(F_tem):>10,.2f}\" )"
   ]
  },
  {
   "cell_type": "code",
   "execution_count": 5,
   "id": "9349b1e4",
   "metadata": {},
   "outputs": [
    {
     "name": "stdout",
     "output_type": "stream",
     "text": [
      "정수를 입력하세요 : \n",
      "5\n",
      "입력한 정수 : 5 소수 여부 True\n"
     ]
    }
   ],
   "source": [
    "# 사용자로부터 정수를 입력받아\n",
    "# 소수를 판별하는 함수 is_prime()을 작성해보자.\n",
    "# 소수이면 true, 소수가 아니면 False를 출력\n",
    "\n",
    "# 1과 자기자신으로만 나누어지는 수를 소수라 한다.\n",
    "\n",
    "\n",
    "def is_prime(num):\n",
    "    temp = True\n",
    "    for i in range(2,num):\n",
    "        if num%i == 0:\n",
    "            temp = False\n",
    "    return temp\n",
    "\n",
    "INPUT_USER = int(input(\"정수를 입력하세요 : \\n\"))\n",
    "\n",
    "print(f\"입력한 정수 : {INPUT_USER} 소수 여부 : {is_prime(INPUT_USER)}\" )\n",
    "\n",
    "            "
   ]
  },
  {
   "cell_type": "code",
   "execution_count": 11,
   "id": "9c9ffe6e",
   "metadata": {},
   "outputs": [
    {
     "name": "stdout",
     "output_type": "stream",
     "text": [
      "첫 번째 수 입력 : 4\n",
      "원하는 연산을 입력(+,-,*,/) : +\n",
      "첫 번째 수 입력 : 25\n",
      "4.0 + 25.0 = 29.0\n",
      "계산을 계속하시겠습니까?(y,n) : \n",
      "첫 번째 수 입력 : 4\n",
      "원하는 연산을 입력(+,-,*,/) : +\n",
      "첫 번째 수 입력 : 56\n",
      "4.0 + 56.0 = 60.0\n",
      "계산을 계속하시겠습니까?(y,n) : n\n"
     ]
    }
   ],
   "source": [
    "# 간단한 사칙연산 계산기 만들기\n",
    "\n",
    "def add(x,y):\n",
    "    return x + y\n",
    "\n",
    "def sub(x,y):\n",
    "    return x - y\n",
    "\n",
    "def mul(x,y):\n",
    "    return x * y\n",
    "\n",
    "def div(x,y):\n",
    "    return round(x/y, 2)\n",
    "\n",
    "\n",
    "\n",
    "answer = 0\n",
    "choice = \"\"\n",
    "\n",
    "while True:\n",
    "    n1 = float(input(\"첫 번째 수 입력 : \"))\n",
    "    op = input(\"원하는 연산을 입력(+,-,*,/) : \")\n",
    "    n2 = float(input(\"첫 번째 수 입력 : \"))\n",
    "    \n",
    "    if op == \"+\":\n",
    "        answer = add(n1,n2)\n",
    "    elif op == \"-\":\n",
    "        answer = sub(n1,n2)\n",
    "    elif op == \"*\":\n",
    "        answer = mul(n1,n2)\n",
    "    elif op == \"/\":\n",
    "        answer = div(n1,n2)\n",
    "    else:\n",
    "        print(\"잘못된 연산자 입력입니다.\")\n",
    "        \n",
    "    print(f\"{n1} {op} {n2} = {answer}\")    \n",
    "    \n",
    "    choice = input(\"계산을 계속하시겠습니까?(y or n) : \")\n",
    "    if choice == \"y\" or choice == \"Y\":\n",
    "        continue\n",
    "    elif choice == \"n\" or choice == \"N\":\n",
    "        break\n",
    "    else:\n",
    "        continue"
   ]
  }
 ],
 "metadata": {
  "kernelspec": {
   "display_name": "Python 3",
   "language": "python",
   "name": "python3"
  },
  "language_info": {
   "codemirror_mode": {
    "name": "ipython",
    "version": 3
   },
   "file_extension": ".py",
   "mimetype": "text/x-python",
   "name": "python",
   "nbconvert_exporter": "python",
   "pygments_lexer": "ipython3",
   "version": "3.8.8"
  }
 },
 "nbformat": 4,
 "nbformat_minor": 5
}
