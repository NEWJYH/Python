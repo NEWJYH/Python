{
 "cells": [
  {
   "cell_type": "code",
   "execution_count": 5,
   "id": "981231a1",
   "metadata": {},
   "outputs": [
    {
     "name": "stdout",
     "output_type": "stream",
     "text": [
      "회원명을 입력해주세요 : \n",
      "ㅋㅋ\n",
      "회원님의 이름을 입력해주세요 : \n",
      "1\n",
      "==========\n",
      "이름 : ㅋㅋ\n",
      "나이 : 1\n",
      "==========\n",
      "계속하시겠습니까? (종료 : q, Q)  \n",
      "ㅂ\n",
      "입력을 종료합니다.\n"
     ]
    }
   ],
   "source": [
    "# 함수가 리턴값이 없는 경우에 대한 예제\n",
    "\n",
    "def printInfo(name, age):\n",
    "    print(\"==========\")\n",
    "    print(f\"이름 : {name}\")\n",
    "    print(f\"나이 : {age}\")\n",
    "    print(\"==========\")\n",
    "    return\n",
    "\n",
    "while True:\n",
    "    name = input(\"회원명을 입력해주세요 : \\n\")\n",
    "    age = int(input(\"회원님의 이름을 입력해주세요 : \\n\"))\n",
    "    printInfo(name,age)\n",
    "    \n",
    "    end_Input = input(\"계속하시겠습니까? (종료 : q, Q)  \\n\")\n",
    "    if end_Input == \"Q\" or end_Input ==\"q\" or end_Input== \"ㅂ\":\n",
    "        print(\"입력을 종료합니다.\")\n",
    "        break"
   ]
  },
  {
   "cell_type": "code",
   "execution_count": 18,
   "id": "c82c75fe",
   "metadata": {},
   "outputs": [
    {
     "name": "stdout",
     "output_type": "stream",
     "text": [
      "안녕하세요 은혁님, 반갑습니다.\n",
      "안녕하세요 은혁님, 안녕히가세요\n"
     ]
    }
   ],
   "source": [
    "# default argument (디폴트 인수) \n",
    "# 함수의 매개변수가 기본 값을 가지게 하는 방법\n",
    "\n",
    "def hello(name, msg = \"반갑습니다.\"):\n",
    "    print(f\"안녕하세요 {name}, {msg}\")\n",
    "    return\n",
    "\n",
    "hello(\"은혁님\")\n",
    "hello (\"은혁님\",\"안녕히가세요\")"
   ]
  },
  {
   "cell_type": "code",
   "execution_count": 22,
   "id": "5dbf5a9a",
   "metadata": {},
   "outputs": [
    {
     "name": "stdout",
     "output_type": "stream",
     "text": [
      "x = 10, y = 100, z = 10000\n",
      "10110\n",
      "x = 10000, y = 100, z = 10\n",
      "10110\n"
     ]
    }
   ],
   "source": [
    "# Keyword argument(키워드 인수)\n",
    "# 통상 프로그래밍 언어라면 \n",
    "# 함수의 매개변수의 위치를 기준으로해서\n",
    "# 해당 인수를 매칭을 해줌으로써 함수에 값이 전달(복사)가 된다.\n",
    "# 이것을 다른 말로 위치 인수 방식(positional argument)이라고 한다.\n",
    "\n",
    "def calc(x,y,z=10):\n",
    "    print(f\"x = {x}, y = {y}, z = {z}\")\n",
    "    return x + y + z\n",
    "# 통상적으로 calc()를 호출시에는 위치 인수 방식\n",
    "print(calc(10,100,10000))\n",
    "\n",
    "# 키워드 인수 형태로 호출하는 방법\n",
    "print(calc(z = 10,y = 100,x = 10000))"
   ]
  }
 ],
 "metadata": {
  "kernelspec": {
   "display_name": "Python 3",
   "language": "python",
   "name": "python3"
  },
  "language_info": {
   "codemirror_mode": {
    "name": "ipython",
    "version": 3
   },
   "file_extension": ".py",
   "mimetype": "text/x-python",
   "name": "python",
   "nbconvert_exporter": "python",
   "pygments_lexer": "ipython3",
   "version": "3.8.8"
  }
 },
 "nbformat": 4,
 "nbformat_minor": 5
}
