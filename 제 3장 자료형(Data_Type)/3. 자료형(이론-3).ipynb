{
 "cells": [
  {
   "cell_type": "markdown",
   "id": "683fd6b4",
   "metadata": {},
   "source": [
    "2. 문자열(string)\n"
   ]
  },
  {
   "cell_type": "markdown",
   "id": "e63239cc",
   "metadata": {},
   "source": [
    "6) 인덱싱\n",
    "    - 문자열 중에서 하나의 문자를 추출하려면 어떻게 해야할까?\n",
    "      예를 들어서 암호화 프로그램에서는 문자열에서\n",
    "      하나의 문자를 추출하는 것이 필요하다.\n",
    "      \n",
    "      인덱싱(indexing)이란 문자열에 [와 ]를 붙여서 문자를 추출하는 것이다.\n",
    "      \n",
    "      [와 ] 사이에는 인덱스라는 숫자가 들어간다.\n",
    "      인덱스(index)는 문자열에 포함된 각각의 문자에 매겨진 번호이다.\n",
    "      예를 들어서 문자열 \"Python\"에서 각 문자의 인덱스는 아래와 같다.\n",
    "      P 0 y 1 t 2 h 3 o 4 n 5\n",
    "      \n",
    "    - 첫 번째 문자의 인덱스는 0이다. 두 번째 문자는 1이고 세번째 문자는 \n",
    "      2가 된다. 인덱스에서 헷깔리는 것이 바로 0부터 시작한다는 점이다.\n",
    "      \n",
    "    - 아울러 인덱스는 음수가 될 수도 있다. \n",
    "      이것은 파이썬의 특별한 기능이다.\n",
    "      인덱스가 음수가 되면 오른쪽에서 왼쪽으로 번호가 매겨진다.\n",
    "       P  y  t  h  o  n\n",
    "       0  1  2  3  4  5\n",
    "      -6 -5 -4 -3 -2 -1\n",
    "      \n",
    "      음수 인덱스는 -1부터 시작한다는 것을 알도록 하자. "
   ]
  },
  {
   "cell_type": "code",
   "execution_count": 5,
   "id": "945e82c4",
   "metadata": {},
   "outputs": [
    {
     "name": "stdout",
     "output_type": "stream",
     "text": [
      "P\n",
      "n\n"
     ]
    },
    {
     "ename": "TypeError",
     "evalue": "'str' object does not support item assignment",
     "output_type": "error",
     "traceback": [
      "\u001b[1;31m---------------------------------------------------------------------------\u001b[0m",
      "\u001b[1;31mTypeError\u001b[0m                                 Traceback (most recent call last)",
      "\u001b[1;32m<ipython-input-5-5763e4dc1f06>\u001b[0m in \u001b[0;36m<module>\u001b[1;34m\u001b[0m\n\u001b[0;32m      6\u001b[0m \u001b[1;31m# word[50] IndexError: string index out of range\u001b[0m\u001b[1;33m\u001b[0m\u001b[1;33m\u001b[0m\u001b[1;33m\u001b[0m\u001b[0m\n\u001b[0;32m      7\u001b[0m \u001b[1;31m# 인덱스에 해당하지 않는 수를 입력하면 위와 같이 인덱스의 범위를 벗어났다는 에러가 출력된다.\u001b[0m\u001b[1;33m\u001b[0m\u001b[1;33m\u001b[0m\u001b[1;33m\u001b[0m\u001b[0m\n\u001b[1;32m----> 8\u001b[1;33m \u001b[0mword\u001b[0m\u001b[1;33m[\u001b[0m\u001b[1;36m0\u001b[0m\u001b[1;33m]\u001b[0m \u001b[1;33m=\u001b[0m \u001b[1;34m'c'\u001b[0m\u001b[1;33m\u001b[0m\u001b[1;33m\u001b[0m\u001b[0m\n\u001b[0m",
      "\u001b[1;31mTypeError\u001b[0m: 'str' object does not support item assignment"
     ]
    }
   ],
   "source": [
    "word = \"Python\"\n",
    "print(word[0])\n",
    "print(word[5])\n",
    "# 위와 같이 인덱스 0은 \"P\"라는 문자이며 인덱스 5는 \"n\"이다.\n",
    "# 하여 n-1로 생각하면 편한다.\n",
    "\n",
    "# word[50] # IndexError: string index out of range\n",
    "# 인덱스에 해당하지 않는 수를 입력하면 \n",
    "# 위와 같이 인덱스의 범위를 벗어났다는 에러가 출력된다.\n",
    "\n",
    "# word[0] = 'c' #TypeError: 'str' object does not support item assignment\n",
    "# 파이썬에서는 한번 작성된 문자열은 변경이 불가능하다.\n",
    "# 따라서 위와 같이 0번째 인덱스에 문자를 바꿀려고 하면 에러가 발생한다.\n",
    "# C와 Java같은 경우 가능함 C++ C#\n"
   ]
  },
  {
   "cell_type": "markdown",
   "id": "f9091787",
   "metadata": {},
   "source": [
    "3. 리스트"
   ]
  },
  {
   "cell_type": "markdown",
   "id": "389675f5",
   "metadata": {},
   "source": [
    "1) 리스트\n",
    "    - 파이썬은 여러 개의 값을 모아서 하나의 변수에 저장할 수 있다.\n",
    "      가장 널리 사용되는 것이 리스트(list)이다.\n",
    "      리스트는 목록 또는 알람표라고 할 수 있다.\n",
    "      리스트는 [] 안에 값을 나열하고 값과 값 사이에 콤마 (,)를 찍으면 된다.\n",
    "      예를 들면 아래와 같다."
   ]
  },
  {
   "cell_type": "code",
   "execution_count": 11,
   "id": "b3f506ef",
   "metadata": {},
   "outputs": [
    {
     "name": "stdout",
     "output_type": "stream",
     "text": [
      "['milk', 'eggs', 'cheese', 'butter', 'cream']\n"
     ]
    }
   ],
   "source": [
    "shopping_list = [\"milk\", \"eggs\", \"cheese\",\"butter\", \"cream\"]\n",
    "print(shopping_list)"
   ]
  },
  {
   "cell_type": "markdown",
   "id": "b874245c",
   "metadata": {},
   "source": [
    "1) 리스트    \n",
    "    - 파이썬에서 리스트는 아주 유용하다.\n",
    "      그 이유는 필요에 따라서 리스트를 조작할 수 있기 때문이다.\n",
    "      즉, 리스트의 항목을 삭제하거나 교체할 수 있다는 의미이다.\n",
    "      먼저 파이썬의 리스트 안에 저장된 항목들은 번호를 가지고 있다.\n",
    "     "
   ]
  },
  {
   "cell_type": "code",
   "execution_count": 12,
   "id": "8b79aefe",
   "metadata": {},
   "outputs": [
    {
     "name": "stdout",
     "output_type": "stream",
     "text": [
      "milk\n",
      "eggs\n",
      "cheese\n",
      "butter\n",
      "cream\n"
     ]
    }
   ],
   "source": [
    "print(shopping_list[0])\n",
    "print(shopping_list[1])\n",
    "print(shopping_list[2])\n",
    "print(shopping_list[3])\n",
    "print(shopping_list[4])"
   ]
  },
  {
   "cell_type": "markdown",
   "id": "adc3b1cd",
   "metadata": {},
   "source": [
    "1) 리스트\n",
    "    - 하여, 리스트의 내용을 번호(인덱스)를 가지고 \n",
    "      특정한 항목을 출력할수가 있다.\n",
    "    - 아울러, 아래와 같이 항목 변경도 가능하다. 리스트는 변경가능한 객체이다."
   ]
  },
  {
   "cell_type": "code",
   "execution_count": 13,
   "id": "ed8cfe46",
   "metadata": {},
   "outputs": [
    {
     "name": "stdout",
     "output_type": "stream",
     "text": [
      "['milk', 'eggs', 'cheese', 'butter', 'cream']\n",
      "['milk', 'eggs', 'apple', 'butter', 'cream']\n"
     ]
    }
   ],
   "source": [
    "print(shopping_list)\n",
    "shopping_list[2] = \"apple\"\n",
    "print(shopping_list)"
   ]
  },
  {
   "cell_type": "markdown",
   "id": "9e26791f",
   "metadata": {},
   "source": [
    "4. 파이썬 튜터"
   ]
  },
  {
   "cell_type": "markdown",
   "id": "35ac783f",
   "metadata": {},
   "source": [
    "1) 파이썬 튜터\n",
    "    - 어떠한 소스코드를 보다가 모르는 부분이 생기면 타 언어들도 마찬가지지만\n",
    "      documents가 존재한다.\n",
    "      즉 documents는 소스코드를 설명해 주는 문서이다.\n",
    "    - http://www.pythontutor.com에 접속하여서 코드를 입력하고\n",
    "      \"Visualize Execution\"버튼을 누르면 된다."
   ]
  }
 ],
 "metadata": {
  "kernelspec": {
   "display_name": "Python 3",
   "language": "python",
   "name": "python3"
  },
  "language_info": {
   "codemirror_mode": {
    "name": "ipython",
    "version": 3
   },
   "file_extension": ".py",
   "mimetype": "text/x-python",
   "name": "python",
   "nbconvert_exporter": "python",
   "pygments_lexer": "ipython3",
   "version": "3.8.8"
  }
 },
 "nbformat": 4,
 "nbformat_minor": 5
}
