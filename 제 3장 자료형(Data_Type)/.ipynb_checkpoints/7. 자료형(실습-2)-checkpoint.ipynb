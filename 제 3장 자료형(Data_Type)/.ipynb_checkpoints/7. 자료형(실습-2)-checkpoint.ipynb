{
 "cells": [
  {
   "cell_type": "code",
   "execution_count": 14,
   "id": "9dd0959e",
   "metadata": {},
   "outputs": [
    {
     "name": "stdout",
     "output_type": "stream",
     "text": [
      "word 변수의 값 Python의 길이 6\n",
      "word[0] P\n",
      "word[5] n\n",
      "ABC\n",
      "BCD\n",
      "CDE\n",
      "ABC\n"
     ]
    }
   ],
   "source": [
    "# 문자열의 인덱싱\n",
    "\n",
    "# 인덱싱이란?\n",
    "# 문자열에서 문자를 추출하는데 문자열에는 각각 해당하는 문자에 번호(인덱스)가\n",
    "# 존재한다.\n",
    "# [인덱스]하면 문자열에서 문자를 추출할 수가 있다.\n",
    "# 인덱스라 함은 무조건 0부터 시작이 된다. 마지막 인덱스는 n-1이 성립이 된다.\n",
    "# 파이썬의 특수기능 인덱스를 처리할때 음수도 사용이 가능하다라는 것이다.\n",
    "\n",
    "word = \"Python\"\n",
    "print(\"word 변수의 값 Python의 길이\",len(word))\n",
    "print(\"word[0]\",word[0])\n",
    "print(\"word[5]\",word[5])\n",
    "# len(문자열) - 1 = 인덱스 끝번호\n",
    "\n",
    "# 해당 문자열의 인덱스의 범위 밖에 값을 주면 \n",
    "# index out of range 라는 에러가 발생한다.\n",
    "# print(word[100])\n",
    "# IndexError: string index out of range\n",
    "\n",
    "# TypeError: 'str' object does not support item assignment\n",
    "# word[2] = 'B'\n",
    "# 파이썬에서는 한번 작성된 문자열은 변경이 불가능하다.\n",
    "# 다른 언어 C C++ Java는 가능\n",
    "\n",
    "# 사용자로부터 문자열을 입력 3개를 받도록 한다.\n",
    "# 각 해당 문자열으 첫 번째 문자를 인덱싱 하여\n",
    "# 문자를 합쳐서 문자열로 만드는 프로그램을 만들어 보자.\n",
    "first_string = input()\n",
    "second_string = input()\n",
    "third_string = input()\n",
    "\n",
    "# 위의 3개의 문자열중 첫 번째 단어만 추출하여 또 다른 문자열을 만들고 있다.\n",
    "sum_string_index0 = first_string[0] + second_string[0] + third_string[0]\n",
    "\n",
    "print(sum_string_index0)"
   ]
  },
  {
   "cell_type": "code",
   "execution_count": 24,
   "id": "9b2bcdc7",
   "metadata": {},
   "outputs": [
    {
     "name": "stdout",
     "output_type": "stream",
     "text": [
      "4\n",
      "['서울', '부산', '광주', '인천']\n",
      "['서울', '부산', '광주', '인천', '대구']\n",
      "['서울', '전주', '광주', '인천', '대구']\n",
      "['대구', '부산', 100, 10.78]\n",
      "이름 : 정영훈\n",
      "나이 : 31\n",
      "주소 : 화순\n",
      "키 : 172\n",
      "몸무게 : 65\n",
      "['정영훈', 31, '화순', 172, 65]\n"
     ]
    }
   ],
   "source": [
    "# 리스트에 대한 실습\n",
    "\n",
    "# 리스트의 정의 : 여러 개의 값을 모아서 하나의 변수에 저장할 수가 있는 데이터 타입\n",
    "# 아주 유용하게 널리 사용된다.\n",
    "# 리스트는 [] 안에 값을 저장한다.\n",
    "\n",
    "city = [\"서울\", \"부산\", \"광주\", \"인천\"]\n",
    "# 파이썬 튜터로 확인 -> 주소의 주소를 가지는 형태 배열과 동일하다.\n",
    "\n",
    "# 리스트의 길이를 알아내고 싶을 떄도 len()함수를 사용하면 된다.\n",
    "print(len(city))\n",
    "print(city)\n",
    "\n",
    "# 리스트에 값 추가\n",
    "city.append(\"대구\")\n",
    "print(city)\n",
    "\n",
    "# 리스트는 아래와 같이 해당하는 인덱스의 값이 변경 가능한 객체이다.\n",
    "city[1] = \"전주\"\n",
    "print(city)\n",
    "\n",
    "# 리스트는 정수, 문자열에 국한되지 않고 여러 개의 값을 저장할 수가 있다.\n",
    "temp = [\"대구\",\"부산\",100,10.78]\n",
    "print(temp)\n",
    "\n",
    "# 한 사람의 정보를 출력\n",
    "name = input(\"이름 : \")\n",
    "age = int(input(\"나이 : \"))\n",
    "address = input(\"주소 : \")\n",
    "tall = int(input(\"키 : \"))\n",
    "weight = int(input(\"몸무게 : \"))\n",
    "\n",
    "person = [name, age, address, tall, weight]\n",
    "print(person)"
   ]
  }
 ],
 "metadata": {
  "kernelspec": {
   "display_name": "Python 3",
   "language": "python",
   "name": "python3"
  },
  "language_info": {
   "codemirror_mode": {
    "name": "ipython",
    "version": 3
   },
   "file_extension": ".py",
   "mimetype": "text/x-python",
   "name": "python",
   "nbconvert_exporter": "python",
   "pygments_lexer": "ipython3",
   "version": "3.8.8"
  }
 },
 "nbformat": 4,
 "nbformat_minor": 5
}
