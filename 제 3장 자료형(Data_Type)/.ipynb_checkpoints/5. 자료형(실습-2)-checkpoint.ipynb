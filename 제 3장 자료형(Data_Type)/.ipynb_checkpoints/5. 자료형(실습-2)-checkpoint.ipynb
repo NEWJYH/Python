{
 "cells": [
  {
   "cell_type": "code",
   "execution_count": 19,
   "id": "9a56d801",
   "metadata": {},
   "outputs": [
    {
     "name": "stdout",
     "output_type": "stream",
     "text": [
      "물건 값을 입력하세요 : 75841\n",
      "천원권 지폐 갯수 입력하세요 : 100\n",
      "500원 동전 갯수 입력하세요 : 50\n",
      "100원 동전 갯수 입력하세요 : 50\n",
      "거스름돈 54159\n",
      "거스름돈 500원 갯수 108,100원 갯수1, 50원 갯수1, 10원 갯수0, 1원 갯수9\n"
     ]
    }
   ],
   "source": [
    "# 자동 판매기를 시뮬레이션 하는 프로그램을 작성하는데 \n",
    "# 사용자는 1000원권 지폐와 500원 100원 동전을 사용할수가 있다.\n",
    "# 물건 값을 사용자로부터 입력받아서 \n",
    "# 1000권 지폐, 500원짜리 동전, 100원짜리 동전의 개수를 입력하면 \n",
    "# 거스름돈을 계산하여서 동전으로 반환하는 프로그램을 만들어 보자.\n",
    "# 예) 물건값 750원 낸돈 1000원 거스름돈은?\n",
    "\n",
    "# 물건 가격\n",
    "itemPrice = int(input(\"물건 값을 입력하세요 : \"))\n",
    "\n",
    "# 보유 지폐량\n",
    "bills_1000 = int(input(\"천원권 지폐 갯수 입력하세요 : \"))\n",
    "coin_500 = int(input(\"500원 동전 갯수 입력하세요 : \"))\n",
    "coin_100 = int(input(\"100원 동전 갯수 입력하세요 : \"))\n",
    "\n",
    "# 거스름돈 구하기\n",
    "nod_money = ((bills_1000 * 1000) + (coin_500 * 500) + (coin_100 * 100)) - itemPrice\n",
    "print(\"거스름돈\",nod_money)\n",
    "# 거스름돈(500원 동전 개수)를 계산\n",
    "nCoin500 = nod_money // 500\n",
    "nod_money = nod_money % 500 # 500원으로 나눈 나머지 값\n",
    "\n",
    "# 거스름돈(100원 동전 개수)를 계산\n",
    "nCoin100 = nod_money // 100\n",
    "nod_money = nod_money % 100 # 100원으로 나눈 나머지 값\n",
    "\n",
    "# 거스름돈(50원 동전 개수)를 계산\n",
    "nCoin50 = nod_money // 50\n",
    "nod_money = nod_money % 50 # 50원으로 나눈 나머지 값\n",
    "\n",
    "# 거스름돈(10원 동전 개수)를 계산\n",
    "nCoin10 = nod_money // 10\n",
    "nod_money = nod_money % 10 # 10원으로 나눈 나머지 값\n",
    "\n",
    "# 거스름돈(1원 동전 개수)를 계산\n",
    "nCoin1 = nod_money\n",
    "\n",
    "print(f\"거스름돈 500원 갯수 {nCoin500},100원 갯수{nCoin100}, 50원 갯수{nCoin50}, 10원 갯수{nCoin10}, 1원 갯수{nCoin1}\")"
   ]
  },
  {
   "cell_type": "code",
   "execution_count": 41,
   "id": "9842a227",
   "metadata": {},
   "outputs": [
    {
     "name": "stdout",
     "output_type": "stream",
     "text": [
      "Happy New Year 2022\n",
      "Happy New Year 2022\n",
      "doesn't\n",
      "\"Yes\" I can do it\n",
      "c\\name\n"
     ]
    }
   ],
   "source": [
    "# 문자열에 대한 실습\n",
    "\n",
    "# 큰 따옴표 (double quotation)로 묶으면 문자열이 된다.\n",
    "welcome = \"Happy New Year 2022\"\n",
    "print(welcome)\n",
    "\n",
    "# 작은 따옴표 (Single quotation)로 묶어도 문자열이 된다.\n",
    "welcome ='Happy New Year 2022'\n",
    "print(welcome)\n",
    "\n",
    "# for i in welcome:\n",
    "#     if i == \" \":\n",
    "#         continue\n",
    "#     else:\n",
    "#         print(i)\n",
    "\n",
    "\n",
    "# 파이썬에서는 따옴표를 출력하고자할때 \\를 이용한다.\n",
    "# 역슬러쉬가 따옴표 앞에 있으면 '는 특수한 의미를 잃어버리고\n",
    "# 하나의 문자로 편승이 되어 문자열을 이룬다.\n",
    "message = \"doesn\\'t\"\n",
    "print(message)\n",
    "message = \"\\\"Yes\\\" I can do it\"\n",
    "print(message)\n",
    "print(r\"c\\name\")"
   ]
  }
 ],
 "metadata": {
  "kernelspec": {
   "display_name": "Python 3",
   "language": "python",
   "name": "python3"
  },
  "language_info": {
   "codemirror_mode": {
    "name": "ipython",
    "version": 3
   },
   "file_extension": ".py",
   "mimetype": "text/x-python",
   "name": "python",
   "nbconvert_exporter": "python",
   "pygments_lexer": "ipython3",
   "version": "3.8.8"
  }
 },
 "nbformat": 4,
 "nbformat_minor": 5
}
