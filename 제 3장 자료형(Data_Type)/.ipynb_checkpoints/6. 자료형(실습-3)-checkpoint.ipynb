{
 "cells": [
  {
   "cell_type": "code",
   "execution_count": 6,
   "id": "925481c4",
   "metadata": {},
   "outputs": [
    {
     "name": "stdout",
     "output_type": "stream",
     "text": [
      "First\n",
      "Second\n",
      "Third\n",
      "c:\temp\n",
      "ame\n",
      "c:\\temp\\name\n"
     ]
    }
   ],
   "source": [
    "# 이스케이프 문자\n",
    "\n",
    "\n",
    "# 툭수문자 형태인 \\n은 개행(Enter)을 하는 문자이다.\n",
    "message = \"First\\nSecond\\nThird\"\n",
    "print(message)\n",
    "\n",
    "# \\t는 탭만큼 띄우는 문자이다.\n",
    "message = \"c:\\temp\\name\"\n",
    "# \\n\n",
    "print(message)\n",
    "\n",
    "# 파일 입출력을 할때 특수문자를 무시하는 방법\n",
    "# r\"\\\" 는 이스케이프 문자를 취소한다.\n",
    "message = r\"c:\\temp\\name\"\n",
    "print(message)\n",
    "# 정상적인 경로 확인 가능\n",
    "# 위에서 살펴 봤던 \\t , \\n 이런 이스케이프 문자들의 \n",
    "# 기능을 제거 시키기 위해서는\n",
    "# 문자열 시작 앞에 r을 붙여준다."
   ]
  },
  {
   "cell_type": "code",
   "execution_count": 10,
   "id": "4be1b789",
   "metadata": {},
   "outputs": [
    {
     "name": "stdout",
     "output_type": "stream",
     "text": [
      "영어 문자열의 길이 5\n",
      "한글 문자열의 길이 3\n"
     ]
    }
   ],
   "source": [
    "# 문자열의 길이를 알고자 한다면 len()함수를 이용한다.\n",
    "message = \"World\"\n",
    "print(\"영어 문자열의 길이\",len(message)) \n",
    "\n",
    "message = \"신은혁\"\n",
    "print(\"한글 문자열의 길이\",len(message)) \n"
   ]
  },
  {
   "cell_type": "code",
   "execution_count": 30,
   "id": "92aa3e99",
   "metadata": {},
   "outputs": [
    {
     "name": "stdout",
     "output_type": "stream",
     "text": [
      "김은옥여자응\n",
      "김은옥여자응\n",
      "Shin Eun Hyuk\n",
      "Person100\n",
      "('김은옥', '여자', '응')\n",
      "<class 'str'>\n",
      "<class 'int'>\n",
      "123456\n",
      "->->->->->->->->->->\n",
      "->->->->->->->->->->\n",
      "가격 1000\n",
      "가격 %s 1000\n",
      "현재 시간 : 13:49\n",
      "현재 시간은 10시 38분 12초입니다.\n"
     ]
    }
   ],
   "source": [
    "# 문자열의 연결\n",
    "python = \"김은옥\" + \"여자\" + \"응\"\n",
    "print(python)\n",
    "python = \"김은옥\"  \"여자\"  \"응\"\n",
    "print(python)\n",
    "# + 연산자는 문자열 사이에 들어가면 문자열을 연결해주는 역할을 한다.\n",
    "first_name = \" Eun Hyuk\"\n",
    "last_name = \"Shin\"\n",
    "\n",
    "name = last_name + first_name\n",
    "print(name)\n",
    "\n",
    "\n",
    "# TypeError: can only concatenate str (not \"int\") to str\n",
    "# 파이썬에서는 모든 데이터에는 데이터 타입이 존재한다.\n",
    "# Person은 문자열이고, 100은 int 타입이다.\n",
    "# 하여 타입의 일치가 되지 않아 서로 연결을  하는데 에러가 발생을 한다.\n",
    "# temp = \"Person\" + 100\n",
    "# print(temp)\n",
    "\n",
    "# 해결하기 위해서는 숫자 100을 str()를 이용하여 \n",
    "# 문자열로 변환시켜 타입을 서로 일치시켜야\n",
    "# + 연산자가 문자열 연결해주는데 문제가 없다.\n",
    "temp = \"Person\" + str(100)\n",
    "print(temp)\n",
    "\n",
    "# ValueError: invalid literal for int() with base 10: 'Person'\n",
    "# temp = int(\"Person\") + 100\n",
    "# print(temp)\n",
    "\n",
    "# 튜플화\n",
    "python = \"김은옥\" , \"여자\",  \"응\"\n",
    "print(python)\n",
    "\n",
    "# 문자열을 숫자로 변환\n",
    "price = \"123456\"\n",
    "print(type(price))\n",
    "# class str\n",
    "\n",
    "price = int(\"123456\")\n",
    "print(type(price))\n",
    "# class int\n",
    "print(price)\n",
    "# 123456\n",
    "\n",
    "# 정수일때는 int()함수를 이용하고 \n",
    "# 실수일때는 float()함수를 이용하면 된다.\n",
    "# 이런경우를 형변환 타입캐스팅이라고 한다.\n",
    "\n",
    "# 문자열의 반복\n",
    "# 문자열에서 * (곱하기) 연산자를 사용하면 그만큼 반복이 된다.\n",
    "arrow = \"->\" * 10\n",
    "print(arrow)\n",
    "\n",
    "# 위와 아래는 같은 결과\n",
    "arrow = \"->\"\n",
    "print(arrow * 10)\n",
    "\n",
    "# %s(형식 지정자)\n",
    "price = 1000\n",
    "print(\"가격 %s\"% price)\n",
    "# 가격 1000\n",
    "print(\"가격 %s\",price)\n",
    "# 가격 %s 1000\n",
    "# %s는 문자열이나 숫자값을 변수에 대입해서 자주 변경이 있을 경우\n",
    "# 이런 형식을 지정하여 상황에 맞게끔 출력을 하도록 하면 될 것이다.\n",
    "\n",
    "time = \"13:49\"\n",
    "print(\"현재 시간 : %s\"% time)\n",
    "\n",
    "# %s에 정수건 문자열이건 다 가능\n",
    "\n",
    "\n",
    "temp = \"현재 시간은 %s시 %s분 %s초입니다.\"\n",
    "print(temp % (10,38,12))\n",
    "# 현재 시간은 10시 38분 12초입니다.\n",
    "\n",
    "# %s를 2개 이상 사용하고자 할때는 해당하는 %s의 갯수만큼\n",
    "# 소괄호로 묶어서 형식 지정자에 대입을 해줘야한다.\n"
   ]
  }
 ],
 "metadata": {
  "kernelspec": {
   "display_name": "Python 3",
   "language": "python",
   "name": "python3"
  },
  "language_info": {
   "codemirror_mode": {
    "name": "ipython",
    "version": 3
   },
   "file_extension": ".py",
   "mimetype": "text/x-python",
   "name": "python",
   "nbconvert_exporter": "python",
   "pygments_lexer": "ipython3",
   "version": "3.8.8"
  }
 },
 "nbformat": 4,
 "nbformat_minor": 5
}
