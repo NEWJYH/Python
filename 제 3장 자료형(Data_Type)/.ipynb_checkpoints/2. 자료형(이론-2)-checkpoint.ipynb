{
 "cells": [
  {
   "cell_type": "markdown",
   "id": "c1cd2c2e",
   "metadata": {},
   "source": [
    "2. 문자열(string)"
   ]
  },
  {
   "cell_type": "markdown",
   "id": "a76e2647",
   "metadata": {},
   "source": [
    "1) 파이썬의 문자열\n",
    "    - CPU는 0,1로 연산을 하므로 숫자가 중요하지만 \n",
    "      인간에게는 문자열(string)을 사용하여 정보를 표현하고 저장하므로\n",
    "      문자열의 처리도 매우 중요한 부분이다. \n",
    "      프로그래밍을 할 때 아주 많이 접하는 문제가 문자열을 나누고 합치고\n",
    "      문자열에서 특정한 단어를 검색하는 작업이 있을 것이다.\n",
    "      예) 이메일 주소 \"aaa@google.com\"에서 @문자를 중심으로 아이디와\n",
    "          도메인을 분리하는 문제를 생각해보면 타 프로그래밍 언어에서는\n",
    "          문자열을 처리하는 작업이 꽤 복잡하다.\n",
    "          하지만, 파이썬에서는 최근에 개발된 언어이니 만큼 \n",
    "          문자열 처리하는 작업이 놀랄 정도로 간단하고 직관적이다.\n",
    "    \n",
    "    - 문자열(string)은 문자열들의 순서 있는 집합(sequence of characters)\n",
    "      이다. 프로그래머가 아닌 사람들은 이것을 텍스트데이터라고 부른다.\n",
    "      프로그래머들만 텍스트 데이터를 문자열이라고 부른다.\n",
    "      전문적인 용어를 사용해야만 혼돈이 없기 떄문이다.\n",
    "      문자열은 아래 그림처럼 일렬로 나열된 문자들이다.\n",
    "      H E L L O\n",
    "      H <- 문자\n",
    "      HELLO <- 문자열"
   ]
  },
  {
   "cell_type": "markdown",
   "id": "445a5b3f",
   "metadata": {},
   "source": [
    "1) 파이썬의 문자열\n",
    "    - 파이썬에서는 큰따옴표(\"\")로 텍스트를 감싸면 문자열이 된다.\n",
    "    \n",
    "    - 문자열은 변수에 저장될 수 있다. \n",
    "      변수에 저장된 문자열을 print()함수를 이용하여 출력한다.\n",
    "      아니면 변수이름만 입력하고 엔터키를 눌러도 출력된다.\n",
    "    \n",
    "    - 아울러, 작은따옴표('')를 사용해도 문자열을 만들 수 있다.\n",
    "      하지만 문자열을 큰따옴표(\")로 시작했다가 작은따옴표(')로 끝내면\n",
    "      문법적인 오류가 생긴다(주의)\n",
    "    \n",
    "    - 아울러 따옴표로 시작했는데\n",
    "      단어의 끝에 따옴표가 없어도 문법적인 오류가 된다.\n",
    "      greeting = \"Hello'\n",
    "      => SyntaxError : EOL shile scanning string literal\n",
    "      greeting = \"Hello\n",
    "      => SyntaxError : EOL shile scanning string literal\n",
    "          \n",
    "    - 문법(syntax)이라는 것은 컴퓨터에서는 프로그래밍의 문장을\n",
    "      바르게 구성하기 위한 규칙을 의미한다.\n",
    "    \n",
    "    - 위에서 EOL이라는 것은 \"End Of Line\"즉 줄의 끝을 만났다는 의미이다.\n",
    "      큰 따옴표가 있을 것으로 기대하였는데 줄의 끝을 만날 때가지\n",
    "      발견하지 못했다는 의미가 되는 것이다."
   ]
  },
  {
   "cell_type": "markdown",
   "id": "3e10a16b",
   "metadata": {},
   "source": [
    "1) 파이썬의 문자열\n",
    "    - 파이썬에서는 왜 문자열을 나타내는데 큰따옴표와 작은 따옴표를\n",
    "      동시에 사용하는 이유가 무엇일까? \n",
    "      그것은 바로 문자열 안에 따옴표가 틀어가는 경우를 처리하기 위해서이다.\n",
    "      아래 문장을 보도록 하자\n",
    "      \n",
    "      >>>message=\"철수가 \"안녕\"이라고 말했습니다\" # 컴파일러가 혼돈을 이르킴\n",
    "      SyntaxError: invalid syntax\n",
    "      \n",
    "      >>>message=\"철수가 '안녕'이라고 말했습니다\"\n",
    "      >>>print(message)\n",
    "      철수가 '안녕'이라고 말했습니다.\n",
    "   \n",
    "      \n",
    "    - 파이썬에서는 따옴표를 출력할 때 \\를 사용할수 있는데, 문자앞에 \\가 붙으면\n",
    "      문자의 특수한 의미를 잃어버린다.\n",
    "      따옴표 앞에 붙이면 문자열을 나타내는 따옴표의 특수한 의미를 \n",
    "      잃어버리고 하나으 문자가 된다.\n",
    "      \n",
    "      >>> message = 'doesn\\'t' # \\를 사용하여 작은 따옴표를 출력한다.\n",
    "      >>> print(message)\n",
    "      doesn't\n",
    "      \n",
    "      >>> message = \"\\\"yes,\\\" he said.\"\n",
    "      >>> print(message)\n",
    "      \"yes,\" he said.\n",
    "     "
   ]
  },
  {
   "cell_type": "code",
   "execution_count": 1,
   "id": "7473a95b",
   "metadata": {},
   "outputs": [
    {
     "name": "stdout",
     "output_type": "stream",
     "text": [
      "\"yes,\" he said.\n"
     ]
    }
   ],
   "source": [
    "message = \"\\\"yes,\\\" he said.\"\n",
    "print(message)"
   ]
  },
  {
   "cell_type": "markdown",
   "id": "538dc85d",
   "metadata": {},
   "source": [
    "1) 파이썬의 문자열\n",
    "    - 아울러 \\n은 줄바꿈 문자를 나타내는 특수한 문자이다.\n",
    "      문자열의 중간에 \\n이 있으면 줄바꿈을 해서 출력한다.\n",
    "      >>> a = \"첫 번째 줄 \\n 두 번째 줄\"\n",
    "      >>> print(a)\n",
    "      첫 번째 줄 \n",
    "      두 번째 줄\n",
    "      \n",
    "    - 또한, print()함수 사용시에 \\가 앞에 붙은 문자를 \n",
    "      특수 문자 취급하고 싶지 않다면 첫 번째 따옴표 앞에 r을 추가하여\n",
    "      특수 문자의 의미를 없앨수 있다.\n",
    "      >>> print(\"c.\\temp\\name\") # 여기서 \\n은 줄바꿈으로 해석된다.\n",
    "      c:\\temp\n",
    "      ame\n",
    "      \n",
    "      >>> print(r\"c:\\temp\\name\") # 문자열 앞에 r을 붙이면 특수문자로 해석x\n",
    "      c:\\temp\\name\n",
    "      \n",
    "    - 문자열의 길이는 len()함수를 사용하면 알 수 가 있다.\n",
    "      >>> len(\"hello\")\n",
    "      5"
   ]
  },
  {
   "cell_type": "markdown",
   "id": "c76cc3e8",
   "metadata": {},
   "source": [
    "1) 파이썬의 문자열\n",
    "    - 이스케이프 문자란 일반 문자가 아니고 시스템을 제어하기 위한 \n",
    "      특수한 문자이다.\n",
    "      파이썬에서 사용되는 이스케이프 문자에는 아래와 같다.\n",
    "      \n",
    "      이스케이프 문자        출력되는 문자\n",
    "      \\\\                   백슬러시 \\\n",
    "      \\'                   작은 따옴표 '\n",
    "      \\\"                   큰 따옴표 \"\n",
    "      \\n                   줄 바꿈 문자\n",
    "      \\t                   탭 문자"
   ]
  },
  {
   "cell_type": "markdown",
   "id": "9be29dc7",
   "metadata": {},
   "source": [
    "2) 문자열의 연결\n",
    "    - 파이썬 쉘에서 2개 이상의 문자열 리터럴\n",
    "      (즉 따옴표로 감싸진 문자열)이 서로 붙어 있으면 자동으로 연결된다.\n",
    "      이것은 리터럴에만 허용된다.\n",
    "      >>> 'Py''thon'\n",
    "      'Python\"\n",
    "     \n",
    "    - 변수나 수식은 해당하지 않지만 만약 변수와 변수,\n",
    "      또는 변수와 리터럴을 연결하고 싶으면 + 연산자로 합칠 수 있다.\n",
    "      아래와 같이 되는 것은 문자열 접합이라고 한다.\n",
    "      >>> 'Py' + 'thon'\n",
    "      'python'\n",
    "      \n",
    "      >>> first_name = \"홍\"\n",
    "      >>> last_name = \"길동\"\n",
    "      >>> name = first_name + last_name\n",
    "      >>> print(name)\n",
    "      홍길동"
   ]
  },
  {
   "cell_type": "code",
   "execution_count": 6,
   "id": "19092932",
   "metadata": {},
   "outputs": [
    {
     "name": "stdout",
     "output_type": "stream",
     "text": [
      "Python\n",
      "홍길동\n",
      "python\n"
     ]
    }
   ],
   "source": [
    "Python = 'Py''thon'\n",
    "print(Python)\n",
    "first_name = \"홍\"\n",
    "last_name = \"길동\"\n",
    "name = first_name + last_name\n",
    "print(name)\n",
    "print('py'+'thon')"
   ]
  },
  {
   "cell_type": "markdown",
   "id": "b0b8a00c",
   "metadata": {},
   "source": [
    "3) 문자열과 정수 간의 변환\n",
    "    - + 연산자는 2개의 문자열을 합치거나 2개의 정수를 합칠 수 있지만\n",
    "      만약 아래와 같은 경우 즉,\n",
    "      문자열과 정수를 합치라고 한다면 오류가 난다.\n",
    "      >>> \"Student\" + 26\n",
    "      TypeError: Can't convert 'int' object to str implicitly\n",
    "      \n",
    "    - 그 이유는 바로 파이썬에서는 모든 데이터에는 타입(type)이 있다.\n",
    "      자료형이라고도 한다. 위에서 \"Student\"는 문자열 타입이고\n",
    "      26은 정수형 타입이다. 타입이 다른 데이터를 + 연산자로 합치려고 시도하면\n",
    "      오류가 발생하는 것이다.\n",
    "      26을 str()을 이용하여 문자열로 변환한 후 합쳐야 하는 것이다.\n",
    "      >>> \"Student\" + str(26)\n",
    "      'Student26'\n",
    "      \n",
    "    - 반대로 문자열을 숫자로 변환하는 함수도 있다. 아래와 같이 말이다.\n",
    "      >>> price = int(\"259000\") # 문자열을 정수로\n",
    "      >>> height = float(\"290.54\") # 문자열을 실수로\n",
    "      \n",
    "   !!! 자료형(Data Type)은 프로그래밍 언어에서 정수값, 실수값 등의\n",
    "       여러 종류의 데이터를 식별하는 분류로써 데이터 타입 또는 \n",
    "       타입이라고도 한다.\n",
    "       파이썬은 변수를 생성할 때, 자료형을 적지 않지만, \n",
    "       C언어, 자바등은 다른 언어에서는 변수를 생성할 때 변수의 자료형을\n",
    "       명시해야 한다."
   ]
  },
  {
   "cell_type": "markdown",
   "id": "74998a6e",
   "metadata": {},
   "source": [
    "4) 문자열의 반복\n",
    "    - 파이썬에서 특이한 점은 동일한 문자열을 반복시켜서\n",
    "      새로운 문자열을 생성할 수 있다는 점이다.\n",
    "      예를 들어서 \"=\"을 반복하여 \"========\"과 같은 줄을 손쉽게 만들수 있다.\n",
    "      \n",
    "      >>> line = \"=\"*50\n",
    "      print(line)\n",
    "      =================================================\n",
    "    \n",
    "    - 어떠한 문자열도 * 연산자를 이용하여서 반복시킬수 있다.\n",
    "      예를 들어서 \"Congratulation!\" 를 3번 되풀이 하려면\n",
    "      아래와 같이 작성하면 된다.\n",
    "      \n",
    "      >>> message = \"Congratulations!\"\n",
    "      >>> print(message * 3)"
   ]
  },
  {
   "cell_type": "code",
   "execution_count": 9,
   "id": "6652e5cb",
   "metadata": {},
   "outputs": [
    {
     "name": "stdout",
     "output_type": "stream",
     "text": [
      "==================================================\n",
      "Congratulations !Congratulations !Congratulations !\n"
     ]
    }
   ],
   "source": [
    "line = \"=\"*50\n",
    "print(line)\n",
    "message = \"Congratulations !\"\n",
    "print(message * 3)"
   ]
  },
  {
   "cell_type": "markdown",
   "id": "8890744c",
   "metadata": {},
   "source": [
    "5) 문자열의 출력\n",
    "     - 문자열에 변수의 값을 삽입하여 출력하고 싶으면 %s를 이용한다.\n",
    "       예를 들어서 물건의 가격을 변수에 저장한 후에 \n",
    "       \"상품의 가격은 10000원입니다.\"와 같이 출력한다고 하면 \n",
    "       아래와 같이 하면된다.\n",
    "       "
   ]
  },
  {
   "cell_type": "code",
   "execution_count": 10,
   "id": "e08169de",
   "metadata": {},
   "outputs": [
    {
     "name": "stdout",
     "output_type": "stream",
     "text": [
      "상품의 가격은 10000원입니다.\n"
     ]
    }
   ],
   "source": [
    "price = 10000\n",
    "print(\"상품의 가격은 %s원입니다.\" %price)"
   ]
  },
  {
   "cell_type": "markdown",
   "id": "1306af68",
   "metadata": {},
   "source": [
    "      위의 코드에서 10000을 가지는 변수 price가 생성되었다.\n",
    "      print()함수에서 상품의 가격이 들어갈 부분은 %s로 표시되었다.\n",
    "      %s자리에 price값의 값을 출력하라고 할려주는 것이다.\n",
    "      물론 처음부터 \"상품의 가격은 10000원입니다.\"라고 하여도 되지만\n",
    "      상품의 가격은 항상 변할 수 있기 때문에 변수를 사용하는 것이 좋다."
   ]
  },
  {
   "cell_type": "code",
   "execution_count": 11,
   "id": "55e96228",
   "metadata": {},
   "outputs": [
    {
     "name": "stdout",
     "output_type": "stream",
     "text": [
      "현재 시간은 12:00pm 입니다.\n"
     ]
    }
   ],
   "source": [
    "message = \"현재 시간은 %s 입니다.\"\n",
    "time = \"12:00pm\"\n",
    "print(message%time)"
   ]
  },
  {
   "cell_type": "markdown",
   "id": "a1fb1bb7",
   "metadata": {},
   "source": [
    "       문자열 안에서 하나 이상의 %s를 사용할 수도 있다.\n",
    "       이때는 값들을 괄호로 묶어서 % 뒤에 명기해야 한다."
   ]
  },
  {
   "cell_type": "code",
   "execution_count": 13,
   "id": "0e404be8",
   "metadata": {},
   "outputs": [
    {
     "name": "stdout",
     "output_type": "stream",
     "text": [
      "오늘은 2월 6일 입니다.\n"
     ]
    }
   ],
   "source": [
    "message = \"오늘은 %s월 %s일 입니다.\"\n",
    "print(message%(2,6))"
   ]
  }
 ],
 "metadata": {
  "kernelspec": {
   "display_name": "Python 3",
   "language": "python",
   "name": "python3"
  },
  "language_info": {
   "codemirror_mode": {
    "name": "ipython",
    "version": 3
   },
   "file_extension": ".py",
   "mimetype": "text/x-python",
   "name": "python",
   "nbconvert_exporter": "python",
   "pygments_lexer": "ipython3",
   "version": "3.8.8"
  }
 },
 "nbformat": 4,
 "nbformat_minor": 5
}
