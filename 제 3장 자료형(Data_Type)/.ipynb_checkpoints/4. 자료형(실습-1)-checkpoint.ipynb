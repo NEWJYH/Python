{
 "cells": [
  {
   "cell_type": "code",
   "execution_count": 6,
   "id": "8d7b2855",
   "metadata": {},
   "outputs": [
    {
     "name": "stdout",
     "output_type": "stream",
     "text": [
      "정수형 <class 'int'>\n",
      "실수형 <class 'float'>\n",
      "문자형 <class 'str'>\n"
     ]
    }
   ],
   "source": [
    "# 파이썬에서의 자료형(Data-type)\n",
    "print(\"정수형\",type(17))\n",
    "print(\"실수형\",type(17.0))\n",
    "print(\"문자형\",type(\"안녕하세요\"))"
   ]
  },
  {
   "cell_type": "code",
   "execution_count": 27,
   "id": "ac5ba04d",
   "metadata": {},
   "outputs": [
    {
     "name": "stdout",
     "output_type": "stream",
     "text": [
      "반지름이 5인 구의 부피는 523.5986666666666이다.\n",
      "math 라이브러리 사용\n",
      "523.5987755982989\n",
      "523.5987755982989\n",
      "함수사용\n",
      "523.5987755982989\n"
     ]
    }
   ],
   "source": [
    "# 반지름이 r인 구의 부피는? 4/3 * PI * (r**3)\n",
    "# 반지름이 5인 구의 부피를 계산하는 프로그램\n",
    "RADIUS = 5\n",
    "PI = 3.141592\n",
    "volume = 4.0/3.0 * PI * (RADIUS**3)\n",
    "print(f\"반지름이 {RADIUS}인 구의 부피는 {volume}이다.\")\n",
    "\n",
    "# math 라이브러리 사용\n",
    "print(\"math 라이브러리 사용\")\n",
    "from math import * \n",
    "r = 5.0\n",
    "Volume = 4.0/3.0 * pi * r ** 3\n",
    "print(Volume)\n",
    "Volume = 4.0/3.0 * pi * pow(r,3)\n",
    "print(Volume)\n",
    "\n",
    "# 함수 사용\n",
    "print(\"함수사용\")\n",
    "def R_Volume(radius):\n",
    "    return 4.0/3.0 * pi * pow(radius,3)\n",
    "answer = R_Volume(5)\n",
    "print(answer)"
   ]
  },
  {
   "cell_type": "code",
   "execution_count": 25,
   "id": "8617b4a5",
   "metadata": {},
   "outputs": [
    {
     "name": "stdout",
     "output_type": "stream",
     "text": [
      "구의 반지름 5.0 구의 겉넓이 314.1592653589793\n",
      "구의 반지름 5.0 구의 겉넓이 314.1592653589793\n"
     ]
    }
   ],
   "source": [
    "# 구의 겉넓이의 공식 : 4 * pi * r**2\n",
    "outer_area = 4 * pi * pow(r,2)\n",
    "print(\"구의 반지름\",r,\"구의 겉넓이\",outer_area)\n",
    "print(\"구의 반지름 \"+str(r)+\" 구의 겉넓이 \"+str(outer_area))\n",
    "# 문자열 즉 숫자로 변환되지 않는 문자열에다가 int()를 사용하면 error발생\n",
    "# 아울러 + 연산이 이루어지지않음\n",
    "# 하여 이때 실수값을 str()를 이용하여 변환하면 + 연산자 사용 가능"
   ]
  },
  {
   "cell_type": "code",
   "execution_count": 33,
   "id": "864b2cd8",
   "metadata": {},
   "outputs": [
    {
     "name": "stdout",
     "output_type": "stream",
     "text": [
      "걸리는 시간(초) :  133333333.33333333\n",
      "걸리는 년도(년) :  4.227972264501945\n"
     ]
    }
   ],
   "source": [
    "# 지구에서 가장 가까운 별은 프록시마 켄타우리라는 별이라고 한다.\n",
    "# 프록시마 켄타우리는 지구로부터 40 * 10의 12승 km떨어져 있다고 한다.\n",
    "# 빛의 속도로 이별에 간다면 시간이 얼마나 걸리는지 계산하는 프로그램을 만들어보시오.\n",
    "\n",
    "# 빛의 속도 값 저장\n",
    "from math import *\n",
    "light_speed = 300000\n",
    "distance = 40 * pow(10, 12)\n",
    "# print(distance)\n",
    "seconds = distance / light_speed\n",
    "print(\"걸리는 시간(초) : \",seconds)\n",
    "light_year = seconds/(60*60*24*365)\n",
    "print(\"걸리는 년도(년) : \", light_year)"
   ]
  },
  {
   "cell_type": "code",
   "execution_count": 34,
   "id": "bfa7c788",
   "metadata": {},
   "outputs": [
    {
     "name": "stdout",
     "output_type": "stream",
     "text": [
      "True\n"
     ]
    }
   ],
   "source": [
    "# 정수 10과 실수 10.0은 동일하다\n",
    "print(10 == 10.0)"
   ]
  }
 ],
 "metadata": {
  "kernelspec": {
   "display_name": "Python 3",
   "language": "python",
   "name": "python3"
  },
  "language_info": {
   "codemirror_mode": {
    "name": "ipython",
    "version": 3
   },
   "file_extension": ".py",
   "mimetype": "text/x-python",
   "name": "python",
   "nbconvert_exporter": "python",
   "pygments_lexer": "ipython3",
   "version": "3.8.8"
  }
 },
 "nbformat": 4,
 "nbformat_minor": 5
}
