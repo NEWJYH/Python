{
 "cells": [
  {
   "cell_type": "markdown",
   "id": "bd8fc3f7",
   "metadata": {},
   "source": [
    "제 3장 자료형(Data-Type)"
   ]
  },
  {
   "cell_type": "markdown",
   "id": "7149f37b",
   "metadata": {},
   "source": [
    "1. 자료형(data-type)"
   ]
  },
  {
   "cell_type": "markdown",
   "id": "c735bfdc",
   "metadata": {},
   "source": [
    "1) 파이썬의 자료형\n",
    "    - 파이썬이 처리하는 자료형에는 3가지 종류가 있다.\n",
    "     1. 정수(integer) : 1,2,3,4....\n",
    "     2. 실수(floating-point) : 1.1, 1.2 ,1.3...\n",
    "     3. 문자열(string) : \"hi\", \"hello\"....\n",
    "    \n",
    "    - type()함수는 자료형을 알고 싶을 때 사용한다.\n",
    "    \n",
    "    \n",
    "    class -> 설계도, 도면, 붕어빵 틀\n",
    "    "
   ]
  },
  {
   "cell_type": "code",
   "execution_count": 1,
   "id": "b87c1d1d",
   "metadata": {},
   "outputs": [
    {
     "name": "stdout",
     "output_type": "stream",
     "text": [
      "type_str <class 'str'>\n",
      "type_float <class 'float'>\n",
      "type_int <class 'int'>\n"
     ]
    }
   ],
   "source": [
    "type_str = type(\"Hello World\")\n",
    "print(\"type_str\",type_str)\n",
    "type_float = type(3.2)\n",
    "print(\"type_float\",type_float)\n",
    "type_int = type(17)\n",
    "print(\"type_int\",type_int)"
   ]
  },
  {
   "cell_type": "markdown",
   "id": "7a698d3f",
   "metadata": {},
   "source": [
    "1) 파이썬의 자료형\n",
    "    - 파이썬의 변수에는 어떤 자료형의 데이터든지 저장이 가능하다.\n",
    "      또 중간에 다른 자료형의 데이터를 저장하여도 된다.\n",
    "      x = 3.2\n",
    "      x = \"hello\"\n",
    "      x\n",
    "      => hello\n",
    "    \n",
    "   - 하여, 일상적인 경우에 개발자는 데이터의 종류에 신경 쓰지 않아도 된다.\n",
    "     하지만 문자열과 숫자는 서로 구분하여야 한다.\n",
    "     문자열 \"10\"과 숫자 10은 cpu에서 아주 다르게 취급된다.\n",
    "     많이 사용하는 함수 중 input()함수가 있다.\n",
    "     input()함수는 사용자로부터 \n",
    "     텍스트 형태의 데이터를 받아서 반환하는 함수이다.\n",
    "     x = input(\"정수 입력\")\n",
    "     =>정수 입력 : 55\n",
    "     x\n",
    "     => \"55\"\n",
    "   \n",
    "   - 위와 같이 input()함수가 반환하는 것은 문자열 \"55\" 인것을 알수 있다.\n",
    "     이 때 정수로 바꾸고 싶다면 int()함수를 사용하도록 해야한다.\n",
    "     아울러 문자열을 실수로 변경해주는 함수는 float()이다.\n",
    "   "
   ]
  },
  {
   "cell_type": "markdown",
   "id": "2cca74c1",
   "metadata": {},
   "source": [
    "1) 파이썬의 자료형\n",
    "    - 이번에는 반대로 정수를 문자열로 변환하고자 한다면 \n",
    "      str()함수를 사용하면 된다.\n",
    "      print(\"나는\" + str(3)+\"학년이다\")\n",
    "      =>나는 3학년이다.\n",
    "    \n",
    "    - 하여, 파이썬에서는 정수 10과 \"10\"을 비교하면 같지 않다고 나온다.\n",
    "      하지만 정수 10과 실수 10.0을 비교하면\n",
    "      같다고 출력된다.\n",
    "      파이썬에서는 값이 같은지를 비교하는 연산자는 비교연산자인 ==을 사용한다.\n",
    "      10 == \"10\"\n",
    "      => False\n",
    "      10 == 10.0\n",
    "      => True"
   ]
  },
  {
   "cell_type": "code",
   "execution_count": null,
   "id": "d31db660",
   "metadata": {},
   "outputs": [],
   "source": [
    "# 프로그래머는 무조건 깐깐하고 자기가 본것 만 믿어야한다."
   ]
  }
 ],
 "metadata": {
  "kernelspec": {
   "display_name": "Python 3",
   "language": "python",
   "name": "python3"
  },
  "language_info": {
   "codemirror_mode": {
    "name": "ipython",
    "version": 3
   },
   "file_extension": ".py",
   "mimetype": "text/x-python",
   "name": "python",
   "nbconvert_exporter": "python",
   "pygments_lexer": "ipython3",
   "version": "3.8.8"
  }
 },
 "nbformat": 4,
 "nbformat_minor": 5
}
