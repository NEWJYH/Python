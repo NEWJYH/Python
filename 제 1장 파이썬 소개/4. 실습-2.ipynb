{
 "cells": [
  {
   "cell_type": "code",
   "execution_count": null,
   "id": "55cfc700",
   "metadata": {},
   "outputs": [],
   "source": [
    "# 현업에서는 파이참과 비쥬얼스튜디오 코드로 사용함\n",
    "# 우리는 파이참으로 파이썬에 특화되있는 애디터를 사용해보려고합니다.\n",
    "# 구글 파이참 무료 검색\n",
    "# 커뮤니티 버전 다운받기\n",
    "# 프로패셔널 라이센스 필요 사야함\n",
    "\n",
    "# 파이참 실행"
   ]
  },
  {
   "cell_type": "code",
   "execution_count": 3,
   "id": "e64cd5ed",
   "metadata": {},
   "outputs": [
    {
     "name": "stdout",
     "output_type": "stream",
     "text": [
      "두꺼운 옷을 입으세요!\n"
     ]
    }
   ],
   "source": [
    "# if\n",
    "\n",
    "# 변수 temp에 10을 저장하겠다.\n",
    "temp = 10\n",
    "# 스택에 변수는 자리를 잡게 됨\n",
    "\n",
    "# temp > 20은 조건이고, :(콜론)은 문장이 끝이 나지 않았음을 알리는 것\n",
    "if temp > 20 :\n",
    "    print(\"얇은 옷을 입으세요!\")\n",
    "else:\n",
    "    print(\"두꺼운 옷을 입으세요!\")    "
   ]
  },
  {
   "cell_type": "code",
   "execution_count": 9,
   "id": "0ffdcc7e",
   "metadata": {},
   "outputs": [
    {
     "name": "stdout",
     "output_type": "stream",
     "text": [
      "숫자게임 시작합니다.\n",
      "1에서 100 사이의 숫자를 추측해보세요.62\n",
      "입력된 숫자는 62\n",
      "맞추었습니다.\n",
      "게임이 종료 되었습니다.\n"
     ]
    }
   ],
   "source": [
    "# guess_Number\n",
    "print(\"숫자게임 시작합니다.\")\n",
    "number = 62\n",
    "\n",
    "# input()는 사용자로부터 값을 입력받기 위해서 사용된다.\n",
    "exact_num = input(\"1에서 100 사이의 숫자를 추측해보세요.\")\n",
    "print(f\"입력된 숫자는 {exact_num}\")\n",
    "\n",
    "# 문자열로 넘어온 값을 int()를 이용하여 숫자로 바꿔주고 있다.\n",
    "guess = int(exact_num)\n",
    "\n",
    "if guess == number :\n",
    "    print(\"맞추었습니다.\")\n",
    "else:\n",
    "    print(\"틀렸습니다.\")\n",
    "    \n",
    "print(\"게임이 종료 되었습니다.\")"
   ]
  },
  {
   "cell_type": "code",
   "execution_count": 12,
   "id": "c87e6fe5",
   "metadata": {},
   "outputs": [
    {
     "name": "stdout",
     "output_type": "stream",
     "text": [
      "현재 신호를 입력하시오 : stop\n",
      "현재 신호를 입력하시오 : stop\n",
      "현재 신호를 입력하시오 : stop\n",
      "현재 신호를 입력하시오 : stop\n",
      "현재 신호를 입력하시오 : stop\n",
      "현재 신호를 입력하시오 : stop\n",
      "현재 신호를 입력하시오 : go\n",
      "OK 진행합니다.\n"
     ]
    }
   ],
   "source": [
    "# 반복문 예제\n",
    "sign = \"stop\"\n",
    "\n",
    "# sign이라는 변수의 값이 문자열 stop이라면 계속 루프를 하라는 코드\n",
    "while sign == \"stop\":\n",
    "    sign = input(\"현재 신호를 입력하시오 : \")\n",
    "    \n",
    "print(\"OK 진행합니다.\")"
   ]
  }
 ],
 "metadata": {
  "kernelspec": {
   "display_name": "Python 3",
   "language": "python",
   "name": "python3"
  },
  "language_info": {
   "codemirror_mode": {
    "name": "ipython",
    "version": 3
   },
   "file_extension": ".py",
   "mimetype": "text/x-python",
   "name": "python",
   "nbconvert_exporter": "python",
   "pygments_lexer": "ipython3",
   "version": "3.8.8"
  }
 },
 "nbformat": 4,
 "nbformat_minor": 5
}
