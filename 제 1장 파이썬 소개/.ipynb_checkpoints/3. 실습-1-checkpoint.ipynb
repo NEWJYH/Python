{
 "cells": [
  {
   "cell_type": "code",
   "execution_count": 6,
   "id": "8561c62f",
   "metadata": {},
   "outputs": [
    {
     "name": "stdout",
     "output_type": "stream",
     "text": [
      "화씨 온도 90.0도는 섭씨 온도 값으로 변경하면 32.22222222222222 입니다.\n"
     ]
    }
   ],
   "source": [
    "# ftemp = 90.0이라는 실수를 저장한다\n",
    "ftemp = 90.0\n",
    "\n",
    "ctemp = (ftemp-32.0)*5.0/9.0\n",
    "print(\"화씨 온도 90.0도는 섭씨 온도 값으로 변경하면\",ctemp,\"입니다.\")"
   ]
  },
  {
   "cell_type": "code",
   "execution_count": 7,
   "id": "c789f1d2",
   "metadata": {},
   "outputs": [
    {
     "name": "stdout",
     "output_type": "stream",
     "text": [
      "1 는 홀수입니다.\n",
      "3 는 홀수입니다.\n",
      "5 는 홀수입니다.\n",
      "7 는 홀수입니다.\n",
      "9 는 홀수입니다.\n",
      "11 는 홀수입니다.\n",
      "13 는 홀수입니다.\n"
     ]
    }
   ],
   "source": [
    "for i in range(15):\n",
    "    if i%2 == 1:\n",
    "        print(i,\"는 홀수입니다.\")"
   ]
  },
  {
   "cell_type": "code",
   "execution_count": 1,
   "id": "e6c2fafb",
   "metadata": {},
   "outputs": [],
   "source": [
    "# python 그래픽 터틀 그래픽\n",
    "\n",
    "# 사각형 그려보기\n",
    "\n",
    "import turtle \n",
    "# 파이썬의 터틀 모듈을 가져온다.\n",
    "\n",
    "# 그림을 그리기 위해서 캔버스(그리는 공간)을 불러온다.\n",
    "t = turtle.Pen()\n",
    "\n",
    "# 캔버스의 마우스 형태의 그림을 터틀이라는 거북이 모양으로 바꾸어준다.\n",
    "t.shape(\"turtle\")\n",
    "\n",
    "# 펜의 색깔을 파란색으로 설정\n",
    "t.pencolor(\"blue\")\n",
    "\n",
    "# 직선으로 100픽셀만큼 선을 그려라 \n",
    "t.forward(100)\n",
    "\n",
    "# 오른쪽 90도만큼 방향을 바꾸어라\n",
    "t.right(90)\n",
    "\n",
    "# 직선으로 100픽셀만큼 그려라\n",
    "t.forward(100)\n",
    "\n",
    "# 오른쪽 90도만큼 방향을 바꾸어라\n",
    "t.right(90)\n",
    "\n",
    "# 직선으로 100픽셀만큼 그려라\n",
    "t.forward(100)\n",
    "\n",
    "# 오른쪽 90도만큼 방향을 바꾸어라\n",
    "t.right(90)\n",
    "\n",
    "# 직선으로 100픽셀만큼 그려라\n",
    "t.forward(100)"
   ]
  },
  {
   "cell_type": "code",
   "execution_count": null,
   "id": "200ca9e2",
   "metadata": {},
   "outputs": [],
   "source": [
    "# 파이썬은 페이스북, 인스타그램 등 만들어져있음"
   ]
  }
 ],
 "metadata": {
  "kernelspec": {
   "display_name": "Python 3",
   "language": "python",
   "name": "python3"
  },
  "language_info": {
   "codemirror_mode": {
    "name": "ipython",
    "version": 3
   },
   "file_extension": ".py",
   "mimetype": "text/x-python",
   "name": "python",
   "nbconvert_exporter": "python",
   "pygments_lexer": "ipython3",
   "version": "3.8.8"
  }
 },
 "nbformat": 4,
 "nbformat_minor": 5
}
