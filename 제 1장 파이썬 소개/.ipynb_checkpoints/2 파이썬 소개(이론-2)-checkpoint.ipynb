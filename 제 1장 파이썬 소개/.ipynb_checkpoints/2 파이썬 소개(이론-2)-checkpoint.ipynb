{
 "cells": [
  {
   "cell_type": "markdown",
   "id": "2daa43e0",
   "metadata": {},
   "source": [
    "4. 첫 번째 프로그램 분석하기\n",
    "1) 파이썬 프로그램은 여러 줄의 명령어로 이루어진다.\n",
    "   한줄의 명령어를 문장(statement)이라고 부른다.\n",
    "\n",
    "2) 문장들은 파이썬 인터프리터에 의하여 순차적으로 실행된다.\n",
    "print(\"Hello World!\")\n",
    " ㄴ print() 함수는 문자열을 화면에 출력한다.\n",
    " ㄴ\"\" 문자열은 따옴표로 둘러싸인 문자들의 모임이다 텍스트 데이터를 나타낸다.\n",
    "   쌍따옴표(더블 코테이션)\n",
    "   홀따옴표(싱글 코테이션)이라고 부름"
   ]
  },
  {
   "cell_type": "code",
   "execution_count": 1,
   "id": "769e81e1",
   "metadata": {
    "scrolled": true
   },
   "outputs": [
    {
     "name": "stdout",
     "output_type": "stream",
     "text": [
      "Hello World!!\n"
     ]
    }
   ],
   "source": [
    "print(\"Hello World!!\")"
   ]
  },
  {
   "cell_type": "markdown",
   "id": "385b36c1",
   "metadata": {},
   "source": [
    "5. 문자열, print()함수\n",
    "\n",
    "1) 문자열(string): 큰따옴표(\"\")나 작은 따옴표('')안에 들어 있는 텍스트 데이터들을 의미한다.\n",
    "\n",
    "2) 반드시 따옴표가 있어야한다.\n",
    "\n",
    "3) print()함수 : 여러 개의 값들은 화면에 차례대로 출력할 수 있다."
   ]
  },
  {
   "cell_type": "code",
   "execution_count": 2,
   "id": "03e55c53",
   "metadata": {},
   "outputs": [
    {
     "ename": "SyntaxError",
     "evalue": "invalid syntax (<ipython-input-2-10cb182148e3>, line 1)",
     "output_type": "error",
     "traceback": [
      "\u001b[1;36m  File \u001b[1;32m\"<ipython-input-2-10cb182148e3>\"\u001b[1;36m, line \u001b[1;32m1\u001b[0m\n\u001b[1;33m    print(Hello World)\u001b[0m\n\u001b[1;37m                ^\u001b[0m\n\u001b[1;31mSyntaxError\u001b[0m\u001b[1;31m:\u001b[0m invalid syntax\n"
     ]
    }
   ],
   "source": [
    "# 2)\n",
    "print(Hello World)"
   ]
  },
  {
   "cell_type": "code",
   "execution_count": 3,
   "id": "e9630b4b",
   "metadata": {},
   "outputs": [
    {
     "name": "stdout",
     "output_type": "stream",
     "text": [
      "결과값은 14 입니다\n"
     ]
    }
   ],
   "source": [
    "# 3)\n",
    "print(\"결과값은\",2*7,\"입니다.\")\n",
    "# 하나의 출력함수에 여러가지 기능을 추가해놨음(오버로딩)"
   ]
  },
  {
   "cell_type": "markdown",
   "id": "949713d8",
   "metadata": {},
   "source": [
    "6. 스크립트 모드\n",
    "\n",
    "1) 코드가 복잡해지면 인터프리트 모드는 번거롭다.\n",
    "   - 명령어를 한 줄씩 입력하여 실행하는 것은 초보 프로그래머한테 아주 편리한 기능\n",
    "     (이것을 인터프리트 모드라고 한다)\n",
    "     한 줄의 명령어를 입력하여 실행하고 결과를 즉시 알 수 있으며 현재 상태를\n",
    "     언제든지 파악 가능하다.\n",
    "     하지만, 코드가 복잡해지면 인터프리트 모드는 아주 번거롭다.\n"
   ]
  },
  {
   "cell_type": "markdown",
   "id": "ec6977a8",
   "metadata": {},
   "source": [
    "7. 소스 파일 작성하기\n",
    "\n",
    "1) 텍스트 에디터를 이용하여 명령어들을 파일에 저장한 후에 파일을 읽어서\n",
    "   명령어들을 하니씩 실행하는 방법이 있다.\n",
    "   명령어들이 저장된 파일을 소스 파일(source file)이라고 한다."
   ]
  },
  {
   "cell_type": "markdown",
   "id": "5138ddb5",
   "metadata": {},
   "source": [
    "8. IDLE을 이용한 소스 파일 작성\n",
    "\n",
    "1) 파이썬 쉘의 메뉴 중에서 [File] -> [New File]을 선택한다."
   ]
  },
  {
   "cell_type": "markdown",
   "id": "5ba7f3f2",
   "metadata": {},
   "source": [
    "9. IDLE을 이용한 소스 파일 실행\n",
    "\n",
    "1) 파이썬 쉘 메뉴 중에서 메뉴 [Run] -> [Run Module]을 선택한다."
   ]
  },
  {
   "cell_type": "markdown",
   "id": "415506d2",
   "metadata": {},
   "source": [
    "10. 프로그램의 간단한 분석\n",
    "\n",
    "앞의 프로그램을 간단히 분석해본다."
   ]
  },
  {
   "cell_type": "markdown",
   "id": "b70ce019",
   "metadata": {},
   "source": [
    "11. 변수\n",
    "\n",
    "1) 변수는 컴퓨터의 메모리 안에 만들어지는 공간으로 우리는 여기에 숫자나 문자를 \n",
    "   저장할 수 있다.\n",
    "   \n",
    "2) 변수에 값을 저장할때"
   ]
  },
  {
   "cell_type": "markdown",
   "id": "b29299cd",
   "metadata": {},
   "source": [
    "12. 터틀 그래픽\n",
    "\n",
    "1) 카테시안 공간에서 커서(터틀)를 이요하여서 그림을 그리는 기능을 말한다.\n",
    "   (터틀 그래픽은 거북이가 화면 위에서 지나가면서 그림을 그리는 것이라고 생각하세요)"
   ]
  },
  {
   "cell_type": "markdown",
   "id": "5833f8ff",
   "metadata": {},
   "source": [
    "13. 터틀 그래픽 윈도우\n",
    "\n",
    "1) 터틀 그래픽 윈도우는 아래와 같이 실행하여 그림을 그린다."
   ]
  },
  {
   "cell_type": "markdown",
   "id": "b5f2e37d",
   "metadata": {},
   "source": [
    "14. 조건문과 반복문의 간단한 소개\n",
    "\n",
    "1) 예를 들면 날씨에 따라서 옷을 선택해주는 프로그램\n",
    "\n",
    "2) 조건문의 구조\n",
    "\n",
    "3) 조건문 예제 코드\n",
    "temp = 10\n",
    "if temp > 20:\n",
    "    print(\"얇은 옷을 입으세요!\")\n",
    "else:\n",
    "    print(\"두꺼운 옷을 입으세요\")\n",
    "    \n",
    "4) 반복문 소개\n",
    "while 조건 : <조건이 만족하는 동안 무한>\n",
    "    명령어(true)\n",
    "    \n",
    "5) 반복문 코드\n",
    "sign = \"stop\"\n",
    "while sign == \"stop\":\n",
    "    sign = input(\"현재 신호를 입력하시오:\")\n",
    "print(\"OK! 진행합니다.\")"
   ]
  },
  {
   "cell_type": "markdown",
   "id": "9036b955",
   "metadata": {},
   "source": [
    "15. 핵심 정리\n",
    "\n",
    "1) 프로그램은 명령어들로 이루어진 텍스트 파일 형태로 작성된다. \n",
    "   이것을 소스파일이라고 한다.\n",
    "\n",
    "2) 파이썬 인터프리터는 소스 파일을 해석하여서 컴퓨터가 이해라 수 있는 기계어 파일로\n",
    "   변환하여 생성한다.\n",
    "   \n",
    "3) 문장들은 기본적으로 순차적으로 실행되지만 조건에 따라서 서로 다른 경로로\n",
    "   실행되거나 반복될 수 있다.\n",
    "   "
   ]
  }
 ],
 "metadata": {
  "kernelspec": {
   "display_name": "Python 3",
   "language": "python",
   "name": "python3"
  },
  "language_info": {
   "codemirror_mode": {
    "name": "ipython",
    "version": 3
   },
   "file_extension": ".py",
   "mimetype": "text/x-python",
   "name": "python",
   "nbconvert_exporter": "python",
   "pygments_lexer": "ipython3",
   "version": "3.8.8"
  }
 },
 "nbformat": 4,
 "nbformat_minor": 5
}
