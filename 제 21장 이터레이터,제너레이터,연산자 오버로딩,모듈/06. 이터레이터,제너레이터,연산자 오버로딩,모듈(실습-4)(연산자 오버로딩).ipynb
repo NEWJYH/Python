{
 "cells": [
  {
   "cell_type": "code",
   "execution_count": 1,
   "id": "7e3b37e0",
   "metadata": {},
   "outputs": [
    {
     "name": "stdout",
     "output_type": "stream",
     "text": [
      "안녕하세요 반갑습니다.\n",
      "안녕하세요 반갑습니다.\n"
     ]
    }
   ],
   "source": [
    "# 연산자 오버로딩의 실습 -1 \n",
    "# 연산자 오버로딩 : 객체에서 필요한 연산자를 재정의를 하는 것.\n",
    "# 연산자 중복을 위해 미리 정의된 특별한 메소드 존재 : \n",
    "# __로지작 __로 끝나는 특수메소드(매직 메소드)\n",
    "\n",
    "# 해당 메소드를 클래스에 재정의해서 구현하면,\n",
    "# 객체 단에서 여러가지 파이썬 내장 함수나 \n",
    "# 연산자를 재정의하여 사용이 가능하다.\n",
    "# 단, 사용자 정의 클래스에 한한다.\n",
    "\n",
    "# 문자열(str 클래스)의 대한 실습\n",
    "# str 클래스 내에 __add__() 특수 메소드는 미리 정의가 되어 있기 때문에\n",
    "# 아래와 같이 사용할 수가 있다.\n",
    "str1 = \"안녕하세요\"\n",
    "str2 = \" 반갑습니다.\"\n",
    "str3 = str1 + str2\n",
    "str4 = str1.__add__(str2)\n",
    "print(str3)\n",
    "print(str4)"
   ]
  },
  {
   "cell_type": "code",
   "execution_count": 4,
   "id": "3b740f73",
   "metadata": {},
   "outputs": [
    {
     "name": "stdout",
     "output_type": "stream",
     "text": [
      "(1, 2) (3, 4)\n"
     ]
    }
   ],
   "source": [
    "# 사용자 정의 클래스를 만들어서 연산자 오버로딩 적용시키기\n",
    "\n",
    "class Point:\n",
    "    def __init__(self,x=0,y=0):\n",
    "        self.x = x\n",
    "        self.y = y\n",
    "    \n",
    "    def __add__(self,other):\n",
    "        # Point 객체끼리 + 연산을 정의하고 해당 인스턴스를 리턴하고 있다.\n",
    "        x = self.x + other.x\n",
    "        y = self.y + other.y\n",
    "        return Point(x, y)\n",
    "    \n",
    "    # Point 객체의 문자열로 표현하여 반환하는 __str__()\n",
    "    # 특수 메소드도 재정의를 해야 주소값이 출력이 되지 않는다.\n",
    "    def __str__(self):\n",
    "        return f\"{self.x, self.y}\"\n",
    "    \n",
    "p1 = Point(1,2)\n",
    "p2 = Point(3,4)\n",
    "print(p1,p2) \n",
    "# 객체의 주소값으로 연산이 이루어질수 없기 떄문에 TypeError 발생함\n",
    "# print(p1+p2)"
   ]
  },
  {
   "cell_type": "code",
   "execution_count": 32,
   "id": "5eae8963",
   "metadata": {},
   "outputs": [
    {
     "name": "stdout",
     "output_type": "stream",
     "text": [
      "40\n",
      "140\n",
      "240\n",
      "340\n",
      "sub 240\n",
      "rsub 1760\n",
      "1660\n",
      "166000\n",
      "1660\n"
     ]
    }
   ],
   "source": [
    "# 연산자 오버로딩 실습 -2\n",
    "class NumBox:\n",
    "    def __init__(self, num=0):\n",
    "        self.num = num\n",
    "        \n",
    "    def __add__(self, num):\n",
    "        self.num += num\n",
    "    # 위 코드는 객체 + int\n",
    "    \n",
    "    # 아래 코드는 int + 객체\n",
    "    def __radd__(self, num):\n",
    "        self.num += num\n",
    "    \n",
    "    def __sub__(self, num):\n",
    "        self.num -= num\n",
    "\n",
    "    def __rsub__(self, num):\n",
    "        self.num = num - self.num\n",
    "        \n",
    "    def __mul__(self, num):\n",
    "        self.num *= num\n",
    "    \n",
    "    def __floordiv__(self,num):\n",
    "        self.num //= num\n",
    "    \n",
    "    def __str__(self):\n",
    "        return f\"{self.num}\"\n",
    "    \n",
    "n = NumBox(40)\n",
    "print(n)\n",
    "# 객체와 int간에는 연산이 안 이루어진다.\n",
    "# 하여 클래스 안에 __add__()특수 메서드를 재정의 하면 비로소 연산이 이루어진다.\n",
    "n + 100\n",
    "print(n)\n",
    "100 + n\n",
    "print(n)\n",
    "n.__add__(100)\n",
    "print(n)\n",
    "n - 100\n",
    "print(f\"sub {n}\")\n",
    "2000 - n\n",
    "print(f\"rsub {n}\")\n",
    "n.__sub__(100)\n",
    "print(n)\n",
    "n*100\n",
    "print(n)\n",
    "n//100\n",
    "print(n)"
   ]
  }
 ],
 "metadata": {
  "kernelspec": {
   "display_name": "Python 3",
   "language": "python",
   "name": "python3"
  },
  "language_info": {
   "codemirror_mode": {
    "name": "ipython",
    "version": 3
   },
   "file_extension": ".py",
   "mimetype": "text/x-python",
   "name": "python",
   "nbconvert_exporter": "python",
   "pygments_lexer": "ipython3",
   "version": "3.8.8"
  }
 },
 "nbformat": 4,
 "nbformat_minor": 5
}
