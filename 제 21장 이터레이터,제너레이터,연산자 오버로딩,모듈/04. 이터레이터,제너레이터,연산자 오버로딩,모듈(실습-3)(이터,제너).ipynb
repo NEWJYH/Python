{
 "cells": [
  {
   "cell_type": "code",
   "execution_count": 5,
   "id": "9302e5aa",
   "metadata": {},
   "outputs": [
    {
     "name": "stdout",
     "output_type": "stream",
     "text": [
      "0 a\n",
      "1 b\n",
      "2 c\n"
     ]
    }
   ],
   "source": [
    "# lab2\n",
    "\n",
    "# 문제 2\n",
    "\n",
    "# 이터레이터를 구현하는 MyEnumerate 라는 클래스를 작성해보자.\n",
    "# 첫 번째 요소는 0으로 시작되는 인덱스 이고,\n",
    "# 두 번째 요소는 주어진 자료구조의 현재 요소이다.\n",
    "# 각 반복마다 튜플을 반환해야 한다.\n",
    "# for index, letter in MyEnumerate(\"abc\"):\n",
    "#    print(index, letter)\n",
    "# 실행 결과\n",
    "# 0 : a\n",
    "# 1 : b\n",
    "# 2 : c\n",
    "\n",
    "class MyEnumerate:\n",
    "    def __init__(self, string):\n",
    "        self.string = string\n",
    "        self.index = 0\n",
    "        \n",
    "    def __iter__(self):\n",
    "        return self\n",
    "    \n",
    "    def __next__(self):\n",
    "        if self.index >= len(self.string):\n",
    "            raise StopIteration\n",
    "        # 인덱스와 인덱스에 해당하는 문자열의 값을 튜플로 만들어서\n",
    "        # 벨류 변수에 저장하고 리턴을 해주면 된다.\n",
    "        value = (self.index, self.string[self.index])\n",
    "        self.index += 1\n",
    "        return value\n",
    "    \n",
    "    \n",
    "if __name__ == \"__main__\":\n",
    "    for index, letter in MyEnumerate('abc'):\n",
    "        print(index, letter)"
   ]
  },
  {
   "cell_type": "code",
   "execution_count": null,
   "id": "3368a721",
   "metadata": {},
   "outputs": [
    {
     "name": "stdout",
     "output_type": "stream",
     "text": [
      "0 1 2 3 4 5 6 7 8 9 10 11 12 13 14 15 16 17 18 19 20 21 22 23 24 25 26 27 28 29 30 31 32 33 34 35 36 37 38 39 40 41 42 43 44 45 46 47 48 49 50 51 52 53 54 55 56 57 58 59 60 61 62 63 64 65 66 67 68 69 70 71 72 73 74 75 76 77 78 79 80 81 82 83 84 85 86 87 88 89 90 91 92 93 94 95 96 97 98 99 100 101 102 103 104 105 106 107 108 109 110 111 112 113 114 115 116 117 118 119 120 121 122 123 124 125 126 127 128 129 130 131 132 133 134 135 "
     ]
    }
   ],
   "source": [
    "# 문제 3\n",
    "# 호출될 때마다 앞의 수에 1을 더해서 반환하는 함수를 작성해보자.\n",
    "# range()와 아주 유사하지만 이 함수는 상한 값을이 없다.\n",
    "# 함수는 제너레이터를 이용하여 구현된다.\n",
    "import time\n",
    "\n",
    "\n",
    "# 앞의 수에 1씩 더해서 그 값을 보내는 제너레이터 형태의 함수 정의\n",
    "def inf_sequence():\n",
    "    num = 0\n",
    "    while True:\n",
    "        yield num\n",
    "        time.sleep(0.1) \n",
    "        # cpu 빨리 실행되기 때문에 눈으로 확인하기 힘들어서\n",
    "        # sleep을 이용함 \n",
    "        num += 1\n",
    "\n",
    "if __name__ == \"__main__\":\n",
    "    for n in inf_sequence():\n",
    "        print(n, end=\" \")"
   ]
  }
 ],
 "metadata": {
  "kernelspec": {
   "display_name": "Python 3",
   "language": "python",
   "name": "python3"
  },
  "language_info": {
   "codemirror_mode": {
    "name": "ipython",
    "version": 3
   },
   "file_extension": ".py",
   "mimetype": "text/x-python",
   "name": "python",
   "nbconvert_exporter": "python",
   "pygments_lexer": "ipython3",
   "version": "3.8.8"
  }
 },
 "nbformat": 4,
 "nbformat_minor": 5
}
