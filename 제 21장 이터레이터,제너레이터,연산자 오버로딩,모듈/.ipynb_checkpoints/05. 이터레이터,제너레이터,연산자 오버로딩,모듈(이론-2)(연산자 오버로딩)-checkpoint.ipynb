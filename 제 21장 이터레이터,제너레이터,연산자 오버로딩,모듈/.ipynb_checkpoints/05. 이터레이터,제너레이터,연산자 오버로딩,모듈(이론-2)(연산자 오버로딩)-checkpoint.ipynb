{
 "cells": [
  {
   "cell_type": "markdown",
   "id": "c4cae37c",
   "metadata": {},
   "source": [
    "3. 연산자 오버로딩"
   ]
  },
  {
   "cell_type": "markdown",
   "id": "614049ee",
   "metadata": {},
   "source": [
    "1) 연산자 오버로딩이란?\n",
    "    - 우리는 문자열을 결합하기 위하여 + 연산자를 사용하고\n",
    "      2개의 문자열을 비교하기 위하여 == 연산자를 사용한다.\n",
    "      이들 연산자들은 실제로는 str클래스 안에 정의된 메소드이다.\n",
    "      연산자를 메소드로 정의하는 것을 \n",
    "      연산자 오버로딩(operator overloading)이라고 한다.\n",
    "      연산자 오버로딩을 이용하면 여러 가지 연산자들을 클래스들의 메소드로\n",
    "      연결할 수 있다. 그리고 이들 연산자 오버로딩 메소드들은\n",
    "      여러 가지로 이용된다.\n",
    "      따라서 사용자들이 클래스를 직접 정의하는 경우에는 이들 연산자\n",
    "      오버로딩 메소드들을 적절하게 정의하여야 한다.\n",
    "      예를 들어서 객체와 객체를 서로 비교하는 __eq__() 연산자는\n",
    "      객체 비교인 == 형태의 구문에서 호출된다."
   ]
  },
  {
   "cell_type": "markdown",
   "id": "21d447ca",
   "metadata": {},
   "source": [
    "1) 연산자 오버로딩이란?\n",
    "    - 예를 들어서 + 연산자에 대응되는 메소드는 __add__(self, other) 이고\n",
    "      == 연산자에 대응되는 메소드는 __eq__(self, other)이다.\n",
    "      문자열을 연결할 때 + 연산자 대신에 이들 메소드를 사용하여도 된다.\n",
    "      물론 일부러 그럴 이유는 전혀 없지만 말이다."
   ]
  },
  {
   "cell_type": "code",
   "execution_count": 1,
   "id": "56326e0f",
   "metadata": {},
   "outputs": [
    {
     "name": "stdout",
     "output_type": "stream",
     "text": [
      "ImpossibleDream\n"
     ]
    }
   ],
   "source": [
    "s1 = \"Impossible\"\n",
    "s2 = \"Dream\"\n",
    "s3 = s1.__add__(s2) # s1+s2\n",
    "print(s3)\n",
    "# 우리가 if obj1 > obj2 와 같은 구문을 사용하면,\n",
    "# 파이썬은 자동적으로 객체 안에 정의된 obj1.__lt__(obj2)\n",
    "# 와 obj1.__gt__(obj2) 메소드를 호출한다."
   ]
  },
  {
   "cell_type": "markdown",
   "id": "1a151b8b",
   "metadata": {},
   "source": [
    "1) 연산자 오버로딩이란?\n",
    "    - 연산자                    수식 예          내부적인 함수 호출\n",
    "      덧셈                      x + y           x.__add__(y)\n",
    "      뺼셈                      x - y           x.__sub__(y)\n",
    "      곱셈                      x * y           x.__mul__(y)\n",
    "      지수                      x ** y          x.__pow__(y)\n",
    "      나눗셈(실수)               x / y           x.__truediv__(y)\n",
    "      나눗셈(정수)               x // y          x.__floordiv__(y)\n",
    "      나머지                    x % y           x.__mod__(y)\n",
    "      작음                      x < y           x.__lt__(y)\n",
    "      작거나 같음                x <= y          x.__le__(y)\n",
    "      같음                      x == y          x.__eq__(y)\n",
    "      같지 않음                  x != y          x.__ne__(y)\n",
    "      큼                        x > y           x.__gt__(y)\n",
    "      크거나 같음                x >= y          x.__ge__(y)"
   ]
  },
  {
   "cell_type": "markdown",
   "id": "cea5bf68",
   "metadata": {},
   "source": [
    "2) 클래스에서 연산자 정의하기\n",
    "    - 우리가 작성하는 클래스에서도 \n",
    "      기본 연산자들을 우리 마음대로 재정의하여서 사용할 수 있다.\n",
    "      예를 들어서 2차원 공간에서 한 점을 클래스로 정의하였다고 가정하자.\n",
    "      점과 점을 + 연산으로 합할 수 있다면 편리할 것이다."
   ]
  },
  {
   "cell_type": "code",
   "execution_count": 15,
   "id": "ab52c6eb",
   "metadata": {},
   "outputs": [
    {
     "name": "stdout",
     "output_type": "stream",
     "text": [
      "(4, 6)\n",
      "(4, 6)\n"
     ]
    }
   ],
   "source": [
    "class Point:\n",
    "    def __init__(self,x=0,y=0):\n",
    "        self.x = x\n",
    "        self.y = y\n",
    "\n",
    "#   - 기본적으로 Point 클래스 객체에 대해서는 + 연산이 정의 되지 않는다.\n",
    "#      하지만 우리가 만약 다음과 같이 add (self, other)를 정의한다면,\n",
    "#      Point 클래스에 대해서도 + 연산자를 적용할수 있다.        \n",
    "        \n",
    "    def __add__(self, other):\n",
    "        x = self.x + other.x\n",
    "        y = self.y + other.y\n",
    "        return Point(x, y)\n",
    "        \n",
    "    def __str__(self):\n",
    "        return f\"{self.x, self.y}\"\n",
    "        \n",
    "p1 = Point(1,2)\n",
    "p2 = Point(3,4)\n",
    "p3 = p1+p2\n",
    "print(p1+p2)\n",
    "print(p3)"
   ]
  }
 ],
 "metadata": {
  "kernelspec": {
   "display_name": "Python 3",
   "language": "python",
   "name": "python3"
  },
  "language_info": {
   "codemirror_mode": {
    "name": "ipython",
    "version": 3
   },
   "file_extension": ".py",
   "mimetype": "text/x-python",
   "name": "python",
   "nbconvert_exporter": "python",
   "pygments_lexer": "ipython3",
   "version": "3.8.8"
  }
 },
 "nbformat": 4,
 "nbformat_minor": 5
}
