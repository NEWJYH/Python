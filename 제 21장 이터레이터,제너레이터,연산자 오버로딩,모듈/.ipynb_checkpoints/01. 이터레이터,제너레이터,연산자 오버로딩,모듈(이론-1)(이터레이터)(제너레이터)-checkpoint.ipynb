{
 "cells": [
  {
   "cell_type": "markdown",
   "id": "5c3ac9d0",
   "metadata": {},
   "source": [
    "1. 이터레이터"
   ]
  },
  {
   "cell_type": "markdown",
   "id": "83643093",
   "metadata": {},
   "source": [
    "1) 이터레이터란?\n",
    "    - 우리는 for 루프를 이용하여 리스트 안의 요소들에 대하여 \n",
    "      반복할 수 있었다. "
   ]
  },
  {
   "cell_type": "code",
   "execution_count": 4,
   "id": "ff7d87d9",
   "metadata": {},
   "outputs": [
    {
     "name": "stdout",
     "output_type": "stream",
     "text": [
      "1 2 3 4 "
     ]
    }
   ],
   "source": [
    "for i in [1,2,3,4]:\n",
    "    print(i,end=\" \")"
   ]
  },
  {
   "cell_type": "markdown",
   "id": "804e8de1",
   "metadata": {},
   "source": [
    "1) 이터레이터란?\n",
    "    - 또 문자열의 각 문자에 대해서도 반복할 수 있었으며\n",
    "      딕셔너리, 파일도 마찬가지였다."
   ]
  },
  {
   "cell_type": "code",
   "execution_count": 5,
   "id": "9551b716",
   "metadata": {},
   "outputs": [
    {
     "name": "stdout",
     "output_type": "stream",
     "text": [
      "p y t h o n "
     ]
    }
   ],
   "source": [
    "for c in \"python\":\n",
    "    print(c, end=\" \")"
   ]
  },
  {
   "cell_type": "markdown",
   "id": "bd1423f2",
   "metadata": {},
   "source": [
    "1) 이터레이터란?\n",
    "    - 파이썬에서는 for 루프와 함께 사용할 수 있는\n",
    "      여러 종류의 반복 가능한 객체(iterable)가 있으며\n",
    "      이들 객체는 이터레이터(iterator)이라고 불린다.\n",
    "      이터레이션(iteration)이 반복을 의미하므로\n",
    "      \"반복가능한 객체\"라고 해석할수 있다.\n",
    "      (list, tuple, range, dictionary, set)\n",
    "      \n",
    "      \n",
    "      x = [1,2,3] --iter()--> iterator ---> next() --> 1\n",
    "                                       ---> next() --> 2\n",
    "                                       ---> next() --> 3\n",
    "                                       ---> next() --> x"
   ]
  },
  {
   "cell_type": "markdown",
   "id": "703eb405",
   "metadata": {},
   "source": [
    "1) 이터레이터란?\n",
    "    - 객체가 반복 가능한 객체가 되려면 \n",
    "      다음과 같은 2개의 메소드를 구현해야 한다.\n",
    "      \n",
    "      __iter__()은 반복가능한 객체 자신을 반환한다.\n",
    "      \n",
    "      __next__()은 다음 반복을 위한 값을 반환한다.\n",
    "      만약 더 이상의 값이 없으면 stopIteration예외를 발생하면 된다.\n",
    "      \n",
    "    - 예를 들어서 MyCounter 클래스를 이터레이터 클래스로 정의해보자."
   ]
  },
  {
   "cell_type": "code",
   "execution_count": 7,
   "id": "d63034f5",
   "metadata": {},
   "outputs": [
    {
     "name": "stdout",
     "output_type": "stream",
     "text": [
      "1 2 3 4 5 6 7 8 9 10 "
     ]
    }
   ],
   "source": [
    "class MyCounter:\n",
    "    # 생성자를 정의한다.\n",
    "    def __init__(self,low,high):\n",
    "        self.current = low\n",
    "        self.high = high\n",
    "        \n",
    "    # 이터레이터 객체로서 자신을 반환한다.\n",
    "    def __iter__(self):\n",
    "        return self\n",
    "    \n",
    "    def __next__(self):\n",
    "        # current가 high 보다 크면 StopIteration예외를 발생한다.\n",
    "        # current가 high 보다 작으면 다음 값을 반환한다.\n",
    "        if self.current > self.high:\n",
    "            raise StopIteration\n",
    "        else:\n",
    "            self.current += 1\n",
    "            # self.current가 1증가 했지만 이전 값을 출력하기 위해서\n",
    "            # -1을 하여 리턴하였다.\n",
    "            return self.current-1\n",
    "        \n",
    "# 정의된 MyCounter 객체를 for 루프에서 사용해보자.\n",
    "c = MyCounter(1,10)\n",
    "for i in c:\n",
    "    print(i,end=\" \")"
   ]
  },
  {
   "cell_type": "markdown",
   "id": "98b8a822",
   "metadata": {},
   "source": [
    "2. 제너레이터"
   ]
  },
  {
   "cell_type": "markdown",
   "id": "a1b3df11",
   "metadata": {},
   "source": [
    "2) 제너레이터란?\n",
    "    - 파이썬 제너레이터는 2.3 버전부터 도입되었다.\n",
    "      제너레이터(generators)는 키워드 yield를 사용하여\n",
    "      함수로부터 반복 가능한 객체를 생성하는 하나의 방법이다.\n",
    "      우리는 yield 문장을 사용하여 함수를 제너레이터로 만들 수 있다.\n",
    "      \n",
    "      __next__() ---> def myGenerator():\n",
    "                          yield \"first\"\n",
    "                          yield \"second\"\n",
    "                          yield \"third\"                          "
   ]
  },
  {
   "cell_type": "code",
   "execution_count": 9,
   "id": "c73086c5",
   "metadata": {},
   "outputs": [
    {
     "name": "stdout",
     "output_type": "stream",
     "text": [
      "first\n",
      "second\n",
      "third\n"
     ]
    }
   ],
   "source": [
    "def myGenerator():\n",
    "    yield \"first\"\n",
    "    yield \"second\"\n",
    "    yield \"third\"\n",
    "    \n",
    "for word in myGenerator():\n",
    "    print(word)"
   ]
  },
  {
   "cell_type": "markdown",
   "id": "fe019bca",
   "metadata": {},
   "source": [
    "2) 제너레이터란?\n",
    "    - 위의 예제에서 우리는 yield 문장을 사용하여 \n",
    "      간단한 제너레이터를 생성하였다.\n",
    "      정의된 제너레이터를 for루프에서 이터레이터로 사용할 수 있다."
   ]
  },
  {
   "cell_type": "code",
   "execution_count": 10,
   "id": "94292411",
   "metadata": {
    "scrolled": true
   },
   "outputs": [
    {
     "name": "stdout",
     "output_type": "stream",
     "text": [
      "first\n",
      "second\n",
      "third\n"
     ]
    }
   ],
   "source": [
    "for word in myGenerator():\n",
    "    print(word)\n",
    "    \n",
    "# 앞의 이터레이터는 클래스를 이용하여 반복 가능한 객체를 생성하는 것이고,\n",
    "# 제너레이터는 함수를 이용하여 반복가능한 객체를 생성하는 것이다.\n",
    "# MyCounter 클래스와 유사한 제너레이터 함수를 정의하여 보자."
   ]
  },
  {
   "cell_type": "code",
   "execution_count": 11,
   "id": "a3953d0e",
   "metadata": {},
   "outputs": [
    {
     "name": "stdout",
     "output_type": "stream",
     "text": [
      "1 2 3 4 5 6 7 8 9 10 "
     ]
    }
   ],
   "source": [
    "def MyCounterGen(low,high):\n",
    "    while low <= high:\n",
    "        yield low\n",
    "        low += 1\n",
    "        \n",
    "for i in MyCounterGen(1,10):\n",
    "    print(i, end=\" \")"
   ]
  },
  {
   "cell_type": "markdown",
   "id": "67d07049",
   "metadata": {},
   "source": [
    "2) 제너레이터란?\n",
    "    - 위의 예제에서 우리는 yield 문장을 사용하여 \n",
    "      간단한 제너레이터를 생성하였다. \n",
    "      정의된 제너레이터를 for루프에서 이터레이터로 사용할 수 있다.\n",
    "      \n",
    "    - 이터레이터와 제너레이터의 가장 큰 차이점은 단순히 yield를 쓰냐 \n",
    "      안쓰냐 차이도 있지만 가장 큰 차이는 이터레이터는 모든 동작을 완료한\n",
    "      후 결과를 한번에 메모리 적재 시키는 것에 반해,\n",
    "      제너레이터는 각각의 yield에서 한번 실행 시킨 후 대기 상태에\n",
    "      들어가 결과를 반환하고, 이후 다음 코드를 진행하여 \n",
    "      또 다시 yield를 만날 경우 대기 상태에 들어가 \n",
    "      결과를 반환하는 방식이라는 것이다."
   ]
  },
  {
   "cell_type": "code",
   "execution_count": 12,
   "id": "67f868db",
   "metadata": {},
   "outputs": [
    {
     "name": "stdout",
     "output_type": "stream",
     "text": [
      "1 2 3 "
     ]
    }
   ],
   "source": [
    "import time\n",
    "def gen(count):\n",
    "    start = 1\n",
    "    while start <= count:\n",
    "        yield start\n",
    "        time.sleep(2) # yield start 실행후 2초간 대기\n",
    "        start += 1\n",
    "        \n",
    "for i in gen(3):\n",
    "    print(i, end=\" \")"
   ]
  },
  {
   "cell_type": "markdown",
   "id": "4c4284d8",
   "metadata": {},
   "source": [
    "2) 제너레이터란?\n",
    "    - 위의 코드 처럼 time.sleep을 이용하여 확실히 밖에 값을 전달하고\n",
    "      출력 후 함수로 되돌아 온다는 걸 알 수 있다.\n",
    "      위의 코드를 실행하면 1출력 후 2초간 대기, 2출력후 2초간 대기,\n",
    "      3출력 후 2초간 대기가 되는데,\n",
    "      함수엔 결과를 yield를 이용해 밖으로 보내주기만 하고 \n",
    "      출력하는 기능은 없다는 것이다.\n",
    "      즉, yield를 이용해 값을 함수 밖으로 보내고 대기 상태에 들어간 후\n",
    "      실행 순서를 양보하여 함수 밖의 print(i, end=\" \")가 \n",
    "      출력 후 실행 순서가 함수로 다시 되돌아온다는 것이다."
   ]
  }
 ],
 "metadata": {
  "kernelspec": {
   "display_name": "Python 3",
   "language": "python",
   "name": "python3"
  },
  "language_info": {
   "codemirror_mode": {
    "name": "ipython",
    "version": 3
   },
   "file_extension": ".py",
   "mimetype": "text/x-python",
   "name": "python",
   "nbconvert_exporter": "python",
   "pygments_lexer": "ipython3",
   "version": "3.8.8"
  }
 },
 "nbformat": 4,
 "nbformat_minor": 5
}
