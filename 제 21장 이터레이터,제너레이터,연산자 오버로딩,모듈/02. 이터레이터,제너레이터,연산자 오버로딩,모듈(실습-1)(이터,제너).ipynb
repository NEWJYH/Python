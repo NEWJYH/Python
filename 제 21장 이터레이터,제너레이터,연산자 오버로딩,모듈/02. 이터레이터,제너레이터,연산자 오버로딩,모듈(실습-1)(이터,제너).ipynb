{
 "cells": [
  {
   "cell_type": "code",
   "execution_count": 1,
   "id": "10d493c6",
   "metadata": {},
   "outputs": [
    {
     "name": "stdout",
     "output_type": "stream",
     "text": [
      "1 2 3 4 5 6 7 8 9 10 "
     ]
    }
   ],
   "source": [
    "# 이터레이터에 대한 실습\n",
    "# 이터레이터 라는 것은 객체를 반복가능한 객체로 만들어 주는 것\n",
    "# __iter__(), __next__() 2개의 메소드를 클래스에 정의를 해주어야\n",
    "# 비로소 반복가능하게 되는 것이다.\n",
    "\n",
    "class MyCounter:\n",
    "    # 생성자를 정의한다.\n",
    "    def __init__(self,low, high):\n",
    "        self.current = low\n",
    "        self.high = high\n",
    "    \n",
    "    # 반복 가능한 객체가 되기 위해서 아래 2가지의 메소드를\n",
    "    # 추가 및 정의를 한다.\n",
    "    # 이터레이터 객체로서 자신을 반환한다.\n",
    "    def __iter__(self):\n",
    "        return self\n",
    "    \n",
    "    def __next__(self):\n",
    "        # current가 high 보다 크면 StopIteration예외를 발생한다.\n",
    "        # current가 high 보다 작으면 다음 값을 반환한다.\n",
    "        if self.current > self.high:\n",
    "            raise StopIteration\n",
    "        else:\n",
    "            self.current += 1\n",
    "            # self.current가 1증가 했지만 \n",
    "            # 이전 값을 출력하기 위해서 -1을 하여 리턴하였다.\n",
    "            return self.current - 1\n",
    "        \n",
    "# 정의된 MyCounter 객체를 for 루프에서 사용해보자.\n",
    "c = MyCounter(1,10)\n",
    "for i in c:\n",
    "    print(i,end=\" \")"
   ]
  },
  {
   "cell_type": "code",
   "execution_count": 6,
   "id": "269c09e6",
   "metadata": {},
   "outputs": [
    {
     "name": "stdout",
     "output_type": "stream",
     "text": [
      "10\n",
      "20\n",
      "30\n"
     ]
    },
    {
     "ename": "StopIteration",
     "evalue": "",
     "output_type": "error",
     "traceback": [
      "\u001b[1;31m---------------------------------------------------------------------------\u001b[0m",
      "\u001b[1;31mStopIteration\u001b[0m                             Traceback (most recent call last)",
      "\u001b[1;32m<ipython-input-6-edf9b0cf6732>\u001b[0m in \u001b[0;36m<module>\u001b[1;34m\u001b[0m\n\u001b[0;32m      9\u001b[0m \u001b[0mprint\u001b[0m\u001b[1;33m(\u001b[0m\u001b[0mlist1_iter\u001b[0m\u001b[1;33m.\u001b[0m\u001b[0m__next__\u001b[0m\u001b[1;33m(\u001b[0m\u001b[1;33m)\u001b[0m\u001b[1;33m)\u001b[0m\u001b[1;33m\u001b[0m\u001b[1;33m\u001b[0m\u001b[0m\n\u001b[0;32m     10\u001b[0m \u001b[0mprint\u001b[0m\u001b[1;33m(\u001b[0m\u001b[0mlist1_iter\u001b[0m\u001b[1;33m.\u001b[0m\u001b[0m__next__\u001b[0m\u001b[1;33m(\u001b[0m\u001b[1;33m)\u001b[0m\u001b[1;33m)\u001b[0m\u001b[1;33m\u001b[0m\u001b[1;33m\u001b[0m\u001b[0m\n\u001b[1;32m---> 11\u001b[1;33m \u001b[0mprint\u001b[0m\u001b[1;33m(\u001b[0m\u001b[0mlist1_iter\u001b[0m\u001b[1;33m.\u001b[0m\u001b[0m__next__\u001b[0m\u001b[1;33m(\u001b[0m\u001b[1;33m)\u001b[0m\u001b[1;33m)\u001b[0m\u001b[1;33m\u001b[0m\u001b[1;33m\u001b[0m\u001b[0m\n\u001b[0m",
      "\u001b[1;31mStopIteration\u001b[0m: "
     ]
    }
   ],
   "source": [
    "# StopIteration 예외 발생 시키기 실습\n",
    "list1 = [10, 20, 30]\n",
    "# iter() 내장 함수로 리스트를 이터레이터로 쓸수 있도록 설정\n",
    "list1_iter = iter(list1)\n",
    "# list1 = list1.__iter__()\n",
    "\n",
    "# __next__()이용하여 값을 가져오도록 한다.\n",
    "print(list1_iter.__next__())\n",
    "print(list1_iter.__next__())\n",
    "print(list1_iter.__next__())\n",
    "# 아래 코드를 실행하면 더이상 꺼내올 리스트의 값이 없으므로\n",
    "# StopIteration 예외가 발생함을 알 수가 있다.\n",
    "print(list1_iter.__next__())"
   ]
  },
  {
   "cell_type": "code",
   "execution_count": null,
   "id": "9b726f33",
   "metadata": {},
   "outputs": [],
   "source": [
    "# 제너레이터에 대한 실습\n",
    "# 제너레이터(generators)는 키워드 yield를 사용해서 \n",
    "# 함수로부터 반복 가능한 객체를 생성하는 방법이다.\n",
    "# yield 키워드로 함수를 반복가능한 제너레이터를 만들 수 있다.\n",
    "\n",
    "# 이터레이터(iterators)는 클래스를 반복가능한 클래스를 만들어 주는 것이며,\n",
    "# 또한 모든 로직을 수행한 후 한번에 메모리에 적재해서 출력한다.\n",
    "# 그에 반해 제너레이터는 yield 키워드로 되어 있는 문장을 실행하면\n",
    "# 대기상태로 빠지고 다음 문장을 실행한다.\n",
    "# 그리고 난 후 다시 yield 키워드를 만나면 또 다시 대기상태로 빠지는\n",
    "# 그러한 형태를 취하며 아울러 메모리 적재방식에서도\n",
    "# 하나하나씩 출력을 한다는 것이 차이점이다."
   ]
  }
 ],
 "metadata": {
  "kernelspec": {
   "display_name": "Python 3",
   "language": "python",
   "name": "python3"
  },
  "language_info": {
   "codemirror_mode": {
    "name": "ipython",
    "version": 3
   },
   "file_extension": ".py",
   "mimetype": "text/x-python",
   "name": "python",
   "nbconvert_exporter": "python",
   "pygments_lexer": "ipython3",
   "version": "3.8.8"
  }
 },
 "nbformat": 4,
 "nbformat_minor": 5
}
