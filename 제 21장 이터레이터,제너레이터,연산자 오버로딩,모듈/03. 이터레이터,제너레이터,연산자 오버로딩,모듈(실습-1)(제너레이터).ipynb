{
 "cells": [
  {
   "cell_type": "code",
   "execution_count": null,
   "id": "d2e9be21",
   "metadata": {},
   "outputs": [],
   "source": [
    "# 제너레이터에 대한 실습\n",
    "# 제너레이터(generators)는 키워드 yield를 사용해서 \n",
    "# 함수로부터 반복 가능한 객체를 생성하는 방법이다.\n",
    "# yield 키워드로 함수를 반복가능한 제너레이터를 만들 수 있다.\n",
    "\n",
    "# 이터레이터(iterators)는 클래스를 반복가능한 클래스를 만들어 주는 것이며,\n",
    "# 또한 모든 로직을 수행한 후 한번에 메모리에 적재해서 출력한다.\n",
    "# 그에 반해 제너레이터는 yield 키워드로 되어 있는 문장을 실행하면\n",
    "# 대기상태로 빠지고 다음 문장을 실행한다.\n",
    "# 그리고 난 후 다시 yield 키워드를 만나면 또 다시 대기상태로 빠지는\n",
    "# 그러한 형태를 취하며 아울러 메모리 적재방식에서도\n",
    "# 하나하나씩 출력을 한다는 것이 차이점이다."
   ]
  },
  {
   "cell_type": "code",
   "execution_count": 1,
   "id": "ab5ec539",
   "metadata": {},
   "outputs": [
    {
     "name": "stdout",
     "output_type": "stream",
     "text": [
      "1 2 3 4 5 6 7 8 9 10 "
     ]
    }
   ],
   "source": [
    "def MyCounterGen(low, high):\n",
    "    while low <= high:\n",
    "        yield low\n",
    "        low += 1\n",
    "        \n",
    "if __name__ == \"__main__\":\n",
    "    for n in MyCounterGen(1, 10):\n",
    "        print(n, end=\" \")"
   ]
  },
  {
   "cell_type": "code",
   "execution_count": 2,
   "id": "97b6e609",
   "metadata": {},
   "outputs": [
    {
     "name": "stdout",
     "output_type": "stream",
     "text": [
      "while 문 안\n",
      "for 문 실행 n 값 :  1 while 문 : start 값 : 1\n",
      "while 문 안\n",
      "for 문 실행 n 값 :  2 while 문 : start 값 : 2\n",
      "while 문 안\n",
      "for 문 실행 n 값 :  3 while 문 : start 값 : 3\n",
      "while 문 안\n",
      "for 문 실행 n 값 :  4 while 문 : start 값 : 4\n",
      "while 문 안\n",
      "for 문 실행 n 값 :  5 while 문 : start 값 : 5\n"
     ]
    }
   ],
   "source": [
    "import time\n",
    "def gen(count):\n",
    "    start = 1\n",
    "    while start <= count:\n",
    "        print(\"while 문 안\")\n",
    "        yield start # yield를 실행하고 대기 상태로 빠진다.\n",
    "        time.sleep(2) # yield start를 실행한 후  2초간 대기\n",
    "        print(f\"while 문 : start 값 : {start}\")\n",
    "        start += 1\n",
    "        \n",
    "if __name__ == \"__main__\":\n",
    "    for n in gen(5):\n",
    "        print(\"for 문 실행 n 값 : \",n,end=\" \")"
   ]
  },
  {
   "cell_type": "code",
   "execution_count": 9,
   "id": "fc6cdc9c",
   "metadata": {},
   "outputs": [
    {
     "name": "stdout",
     "output_type": "stream",
     "text": [
      "main()내에서의 n의 값 :  10\n",
      "main()내에서의 n의 값 :  20\n",
      "main()내에서의 n의 값 :  30\n"
     ]
    },
    {
     "ename": "StopIteration",
     "evalue": "",
     "output_type": "error",
     "traceback": [
      "\u001b[1;31m---------------------------------------------------------------------------\u001b[0m",
      "\u001b[1;31mStopIteration\u001b[0m                             Traceback (most recent call last)",
      "\u001b[1;32m<ipython-input-9-d178abf29728>\u001b[0m in \u001b[0;36m<module>\u001b[1;34m\u001b[0m\n\u001b[0;32m     20\u001b[0m     \u001b[1;31m# 아래 코드에서는 더이상 가져올게 없기 때문에\u001b[0m\u001b[1;33m\u001b[0m\u001b[1;33m\u001b[0m\u001b[1;33m\u001b[0m\u001b[0m\n\u001b[0;32m     21\u001b[0m     \u001b[1;31m# StopIteration 예외가 발생함을 알 수가 있다.\u001b[0m\u001b[1;33m\u001b[0m\u001b[1;33m\u001b[0m\u001b[1;33m\u001b[0m\u001b[0m\n\u001b[1;32m---> 22\u001b[1;33m     \u001b[0mn\u001b[0m \u001b[1;33m=\u001b[0m \u001b[0mnext\u001b[0m\u001b[1;33m(\u001b[0m\u001b[0mtest_gen\u001b[0m\u001b[1;33m)\u001b[0m\u001b[1;33m\u001b[0m\u001b[1;33m\u001b[0m\u001b[0m\n\u001b[0m\u001b[0;32m     23\u001b[0m     \u001b[0mprint\u001b[0m\u001b[1;33m(\u001b[0m\u001b[1;34m\"main()내에서의 n의 값 : \"\u001b[0m\u001b[1;33m,\u001b[0m\u001b[0mn\u001b[0m\u001b[1;33m)\u001b[0m\u001b[1;33m\u001b[0m\u001b[1;33m\u001b[0m\u001b[0m\n",
      "\u001b[1;31mStopIteration\u001b[0m: "
     ]
    }
   ],
   "source": [
    "# yield from 을 사용한 실습\n",
    "import time\n",
    "def gen():\n",
    "    list1 = [10,20,30]\n",
    "    yield from list1\n",
    "    # 대기상태로 빠지지 않는다.\n",
    "    # 해당 리스트 요소의 값을 하나씩 꺼내서 보내준다.\n",
    "    # 하위 두줄은 실행되지 않는다.\n",
    "    # time.sleep(2)\n",
    "    # print(\"gen() 함수 내에서 list1의 요소의 값 \", list1)\n",
    "    \n",
    "if __name__ == \"__main__\":\n",
    "    test_gen = gen()\n",
    "    n = next(test_gen)\n",
    "    print(\"main()내에서의 n의 값 : \",n)\n",
    "    n = next(test_gen)\n",
    "    print(\"main()내에서의 n의 값 : \",n)\n",
    "    n = next(test_gen)\n",
    "    print(\"main()내에서의 n의 값 : \",n)\n",
    "    # 아래 코드에서는 더이상 가져올게 없기 때문에 \n",
    "    # StopIteration 예외가 발생함을 알 수가 있다.\n",
    "    n = next(test_gen)\n",
    "    print(\"main()내에서의 n의 값 : \",n)"
   ]
  },
  {
   "cell_type": "code",
   "execution_count": 11,
   "id": "28f7267c",
   "metadata": {},
   "outputs": [
    {
     "name": "stdout",
     "output_type": "stream",
     "text": [
      "1 1 2 3 5 8 13 21 34 "
     ]
    }
   ],
   "source": [
    "# lab1 \n",
    "# 이터레이터 실습\n",
    "\n",
    "# 문제\n",
    "# 피보나치 이터레이터 만들기\n",
    "# 피보나치 수열이란 앞의 두수를 합하여 바로 뒤의 수가 되는 수열을 의미한다.\n",
    "# 출력 결과\n",
    "# 1 1 2 3 5 8 13 21 34 .....\n",
    "\n",
    "# 풀이\n",
    "class Fibonacci:\n",
    "    def __init__(self,a=1,b=0,maxValue = 50):\n",
    "        self.a = a\n",
    "        self.b = b\n",
    "        self.maxValue = maxValue\n",
    "        \n",
    "    def __iter__(self):\n",
    "        return self\n",
    "    \n",
    "    def __next__(self):\n",
    "        n = self.a + self.b\n",
    "        if n > self.maxValue:\n",
    "            raise StopIteration\n",
    "        self.a = self.b\n",
    "        self.b = n\n",
    "        return n\n",
    "    \n",
    "if __name__ == \"__main__\":\n",
    "    for n in Fibonacci():\n",
    "        print(n, end=\" \")"
   ]
  }
 ],
 "metadata": {
  "kernelspec": {
   "display_name": "Python 3",
   "language": "python",
   "name": "python3"
  },
  "language_info": {
   "codemirror_mode": {
    "name": "ipython",
    "version": 3
   },
   "file_extension": ".py",
   "mimetype": "text/x-python",
   "name": "python",
   "nbconvert_exporter": "python",
   "pygments_lexer": "ipython3",
   "version": "3.8.8"
  }
 },
 "nbformat": 4,
 "nbformat_minor": 5
}
