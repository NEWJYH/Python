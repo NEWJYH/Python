{
 "cells": [
  {
   "cell_type": "code",
   "execution_count": null,
   "id": "9e56cb13",
   "metadata": {},
   "outputs": [],
   "source": [
    "# 문제 1\n",
    "# 원(Circle)을 나타내는 클래스를 만들고\n",
    "# 반지름(radius)을 생성자의 매개변수로 받아서 초기화 하고\n",
    "# getter(), setter(), area()즉 원의 면적을 구하는\n",
    "# 메소드를 작성하고, Circle 클래스 +,>,< 연산자를 중복 정의 해보시오.\n",
    "# 출력 결과는 아래와 같이 나오게 하시오.\n",
    "# 출력 결과\n",
    "# c1의 반지름 : 4\n",
    "# c2이 반지름 : 5\n",
    "# c1의 반지름과 c2의 반지름을 합한 값 : 9\n",
    "# c3 > c2의 결과 : True\n",
    "# c1 < c2의 결과 : True\n",
    "# 원의 반지름 : 9 "
   ]
  },
  {
   "cell_type": "code",
   "execution_count": 12,
   "id": "a3fe2da3",
   "metadata": {},
   "outputs": [
    {
     "name": "stdout",
     "output_type": "stream",
     "text": [
      "c1의 반지름 : 4\n",
      "c2의 반지름 : 5\n",
      "True\n",
      "True\n",
      "원의 반지름 : 9\n",
      "3\n"
     ]
    }
   ],
   "source": [
    "class Circle:\n",
    "    num = 0\n",
    "    # 생성자\n",
    "    def __init__(self, radius):\n",
    "        Circle.num += 1\n",
    "        import math\n",
    "        self.radius = radius\n",
    "        self.pi = math.pi\n",
    "    \n",
    "    # getter()\n",
    "    def getRadius(self):\n",
    "        return self.radius\n",
    "    \n",
    "    # setter()\n",
    "    def setRadius(self,radius):\n",
    "        self.radius = radius\n",
    "        \n",
    "    def Area(self):\n",
    "        return (self.radius **2 )* self.pi\n",
    "    \n",
    "    def __add__(self, other):\n",
    "        radius = self.radius + other.radius\n",
    "        return Circle(radius)\n",
    "    \n",
    "    def __gt__(self,other):\n",
    "        return self.radius > other.radius\n",
    "    \n",
    "    def __lt__(self,other):\n",
    "        return self.radius < other.radius\n",
    "    \n",
    "    def __str__(self):\n",
    "        return f\"원의 반지름 : {self.radius}\"\n",
    "    \n",
    "    \n",
    "c1 = Circle(4)\n",
    "print(f\"c1의 반지름 : {c1.getRadius()}\")\n",
    "c2 = Circle(5)\n",
    "print(f\"c2의 반지름 : {c2.getRadius()}\")\n",
    "c3 = c1 + c2\n",
    "print(c3>c2)\n",
    "print(c1<c2)\n",
    "print(c3)"
   ]
  },
  {
   "cell_type": "code",
   "execution_count": null,
   "id": "71704f0e",
   "metadata": {},
   "outputs": [],
   "source": [
    "# lab5\n",
    "# 문제 2번\n",
    "# 클래스 2개를 만드는데 먼저 Figure 클래스를 만들고 \n",
    "# 생성자에서 width와 height를 받아서 초기화\n",
    "# Quadrangle 클래스를 만들어 아래와 같이 출력결과가 나오도록 프로그램을 작성.\n",
    "# 출력 결과\n",
    "# 너비의 합 : 5\n",
    "# 높이의 합 : 7"
   ]
  },
  {
   "cell_type": "code",
   "execution_count": 16,
   "id": "0c2b3f89",
   "metadata": {},
   "outputs": [
    {
     "name": "stdout",
     "output_type": "stream",
     "text": [
      "너비의 합 : 5\n",
      "높이의 합 : 7\n"
     ]
    }
   ],
   "source": [
    "\n",
    "class Figure:\n",
    "    Counter = 0\n",
    "    \n",
    "    def __init__(self, width = 1,height = 1):\n",
    "        Figure.Counter += 1\n",
    "        self.width = width\n",
    "        self.height = height\n",
    "        \n",
    "class Quadrangle:\n",
    "    \n",
    "    def __init__(self, Figure):\n",
    "        self.width = Figure.width\n",
    "        self.height = Figure.height\n",
    "        \n",
    "    def __add__(self, other):\n",
    "        width = self.width + other.width\n",
    "        height = self.height + other.height\n",
    "        return Quadrangle(Figure(width,height))\n",
    "    \n",
    "    def __str__(self):\n",
    "        return f\"너비의 합 : {self.width}\\n높이의 합 : {self.height}\"\n",
    "    \n",
    "    \n",
    "f1 = Figure(2,3)\n",
    "f2 = Figure(3,4)\n",
    "\n",
    "q1 = Quadrangle(f1)\n",
    "q2 = Quadrangle(f2)\n",
    "q3 = q1 + q2\n",
    "print(q3)"
   ]
  }
 ],
 "metadata": {
  "kernelspec": {
   "display_name": "Python 3",
   "language": "python",
   "name": "python3"
  },
  "language_info": {
   "codemirror_mode": {
    "name": "ipython",
    "version": 3
   },
   "file_extension": ".py",
   "mimetype": "text/x-python",
   "name": "python",
   "nbconvert_exporter": "python",
   "pygments_lexer": "ipython3",
   "version": "3.8.8"
  }
 },
 "nbformat": 4,
 "nbformat_minor": 5
}
