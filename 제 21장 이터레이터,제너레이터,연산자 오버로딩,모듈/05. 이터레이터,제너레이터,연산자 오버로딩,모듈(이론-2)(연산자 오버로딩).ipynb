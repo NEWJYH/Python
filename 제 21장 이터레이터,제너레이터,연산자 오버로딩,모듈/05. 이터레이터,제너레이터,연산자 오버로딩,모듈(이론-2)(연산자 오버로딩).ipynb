{
 "cells": [
  {
   "cell_type": "markdown",
   "id": "c4cae37c",
   "metadata": {},
   "source": [
    "3. 연산자 오버로딩"
   ]
  },
  {
   "cell_type": "markdown",
   "id": "614049ee",
   "metadata": {},
   "source": [
    "1) 연산자 오버로딩이란?\n",
    "    - 우리는 문자열을 결합하기 위하여 + 연산자를 사용하고\n",
    "      2개의 문자열을 비교하기 위하여 == 연산자를 사용한다.\n",
    "      이들 연산자들은 실제로는 str클래스 안에 정의된 메소드이다.\n",
    "      연산자를 메소드로 정의하는 것을 \n",
    "      연산자 오버로딩(operator overloading)이라고 한다.\n",
    "      연산자 오버로딩을 이용하면 여러 가지 연산자들을 클래스들의 메소드로\n",
    "      연결할 수 있다. 그리고 이들 연산자 오버로딩 메소드들은\n",
    "      여러 가지로 이용된다.\n",
    "      따라서 사용자들이 클래스를 직접 정의하는 경우에는 이들 연산자\n",
    "      오버로딩 메소드들을 적절하게 정의하여야 한다.\n",
    "      예를 들어서 객체와 객체를 서로 비교하는 __eq__() 연산자는\n",
    "      객체 비교인 == 형태의 구문에서 호출된다."
   ]
  },
  {
   "cell_type": "markdown",
   "id": "21d447ca",
   "metadata": {},
   "source": []
  },
  {
   "cell_type": "markdown",
   "id": "1a151b8b",
   "metadata": {},
   "source": []
  },
  {
   "cell_type": "markdown",
   "id": "cea5bf68",
   "metadata": {},
   "source": []
  },
  {
   "cell_type": "markdown",
   "id": "e63497b0",
   "metadata": {},
   "source": []
  },
  {
   "cell_type": "markdown",
   "id": "2ec6ed73",
   "metadata": {},
   "source": []
  },
  {
   "cell_type": "markdown",
   "id": "feedaa77",
   "metadata": {},
   "source": []
  },
  {
   "cell_type": "markdown",
   "id": "df1cf181",
   "metadata": {},
   "source": []
  },
  {
   "cell_type": "markdown",
   "id": "0ad8d4b9",
   "metadata": {},
   "source": []
  }
 ],
 "metadata": {
  "kernelspec": {
   "display_name": "Python 3",
   "language": "python",
   "name": "python3"
  },
  "language_info": {
   "codemirror_mode": {
    "name": "ipython",
    "version": 3
   },
   "file_extension": ".py",
   "mimetype": "text/x-python",
   "name": "python",
   "nbconvert_exporter": "python",
   "pygments_lexer": "ipython3",
   "version": "3.8.8"
  }
 },
 "nbformat": 4,
 "nbformat_minor": 5
}
