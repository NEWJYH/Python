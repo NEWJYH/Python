{
 "cells": [
  {
   "cell_type": "code",
   "execution_count": 16,
   "id": "faa987d1",
   "metadata": {},
   "outputs": [
    {
     "name": "stdout",
     "output_type": "stream",
     "text": [
      "['파이썬', 'C언어', 'C++언어', 'C#언어', 'HTML', 'CSS', 'JAVA']\n",
      "C#언어 C언어 HTML\n"
     ]
    }
   ],
   "source": [
    "# 문제 1 \n",
    "# random 모듈에 있는 함수를 사용해서 7개의 단어 중에서 랜덤하게 3개만 선택하여\n",
    "# 출력하는 프로그램을 작성하여 보자.\n",
    "import random\n",
    "words = []\n",
    "words.append(\"파이썬\")\n",
    "words.append(\"C언어\")\n",
    "words.append(\"C++언어\")\n",
    "words.append(\"C#언어\")\n",
    "words.append(\"HTML\")\n",
    "words.append(\"CSS\")\n",
    "words.append(\"JAVA\")\n",
    "print(words)\n",
    "\n",
    "# 풀이\n",
    "mystring = []\n",
    "for i in range(3):\n",
    "    mystring.append(random.choice(words))\n",
    "mystring = \" \".join(mystring)\n",
    "print(mystring)"
   ]
  },
  {
   "cell_type": "code",
   "execution_count": 24,
   "id": "30f0c66d",
   "metadata": {},
   "outputs": [
    {
     "name": "stdout",
     "output_type": "stream",
     "text": [
      "j k g q p h t l h q\n"
     ]
    }
   ],
   "source": [
    "# 문제 2\n",
    "# random 모듈에 있는 함수를 사용하여서 알파벳 a부터 z사이에서 랜덤하게 10개의\n",
    "# 문자를 출력하는 프로그램을 작성하시오.\n",
    "import random\n",
    "str1 ='abcdefghijklmnopqrstuvwxyz'\n",
    "mystring = []\n",
    "for i in range(10):\n",
    "    mystring.append(random.choice(str1))\n",
    "    \n",
    "mystring = \" \".join(mystring)\n",
    "print(mystring)"
   ]
  },
  {
   "cell_type": "code",
   "execution_count": 48,
   "id": "88b48c34",
   "metadata": {},
   "outputs": [
    {
     "name": "stdout",
     "output_type": "stream",
     "text": [
      "[162, 142, 194, 190, 160]\n",
      "4\n"
     ]
    }
   ],
   "source": [
    "# 문제 3\n",
    "# 100과 200사이에서 5개의 짝수 난수를 발생시키는 프로그램을 작성하시오.\n",
    "# 풀이\n",
    "print(random.sample([i for i in range(100,201) if i%2 == 0 ], 5))\n",
    "# random.sample(a,b)\n",
    "# a시퀸스에서 b만큼 랜덤하게 뽑아준다."
   ]
  }
 ],
 "metadata": {
  "kernelspec": {
   "display_name": "Python 3",
   "language": "python",
   "name": "python3"
  },
  "language_info": {
   "codemirror_mode": {
    "name": "ipython",
    "version": 3
   },
   "file_extension": ".py",
   "mimetype": "text/x-python",
   "name": "python",
   "nbconvert_exporter": "python",
   "pygments_lexer": "ipython3",
   "version": "3.8.8"
  }
 },
 "nbformat": 4,
 "nbformat_minor": 5
}
