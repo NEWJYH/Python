{
 "cells": [
  {
   "cell_type": "code",
   "execution_count": 6,
   "id": "83ee16d2",
   "metadata": {},
   "outputs": [],
   "source": [
    "# 기본생성자와 매개변수 생성자\n",
    "# gatter() setter() 캡슐화\n",
    "\n",
    "# 생성자에 대한실습\n",
    "# 개념 : 인스턴스를 생성하기 위해서 꼭 필요한 존재이다.\n",
    "# 아울러 필드의 초기화 메서드 역할을 한다.\n",
    "# __init__() 작성해줌으로써 생성자가 호출된다.\n",
    "# 만약 클래스에 생성자가 존재하지 않으면 인터프리터가 알아서 하나의\n",
    "# 기본 생성자를 추가해준다.\n",
    "\n",
    "class Person:\n",
    "    name = \"\"\n",
    "    age = 0\n",
    "    height = 0\n",
    "    weight = 0\n",
    "    address = \"\"\n",
    "    \n",
    "    # 기본생성자를 작성함\n",
    "    def __init__(self):\n",
    "        self.name = \"홍길동\"\n",
    "        self.age = 35\n",
    "        self.height = 175\n",
    "        self.weight = 70\n",
    "        self.address = \"경북\"\n",
    "        print(\"Person의 기본생성자 호출\")\n",
    "        \n",
    "    # getter()는 리턴값만 존재하고 매개변수는 존재하지 않는다.\n",
    "    def getName(self):\n",
    "        return self.name\n",
    "    def getAge(self):\n",
    "        return self.age\n",
    "    def getHeight(self):\n",
    "        return self.height\n",
    "    def getWeight(self):\n",
    "        return self.weight\n",
    "    def getAddress(self):\n",
    "        return sefl.address\n",
    "    \n",
    "    # setter() 메서드\n",
    "    def setName(self,name):\n",
    "        self.name = name\n",
    "        \n",
    "    # __str__ 멤버 변수의 값을 간단하게 확인하고자 할 때 사용하면\n",
    "    # 편리하다.\n",
    "    def __str__(self):\n",
    "        print(self.name)\n",
    "        print(self.age)\n",
    "        print(self.height)\n",
    "        print(self.weight)\n",
    "        print(self.address)\n",
    "        \n"
   ]
  },
  {
   "cell_type": "code",
   "execution_count": 10,
   "id": "c0424a07",
   "metadata": {
    "scrolled": true
   },
   "outputs": [
    {
     "name": "stdout",
     "output_type": "stream",
     "text": [
      "Person의 기본생성자 호출\n",
      "__str__\n",
      "홍길동\n",
      "35\n",
      "175\n",
      "70\n",
      "경북\n",
      "-----------\n",
      "Person의 기본생성자 호출\n",
      "__str__\n",
      "홍길동\n",
      "35\n",
      "175\n",
      "70\n",
      "경북\n"
     ]
    }
   ],
   "source": [
    "# from Person import *\n",
    "if __name__==\"__main__\":\n",
    "    # 기본 생성자 호출\n",
    "    Person1 = Person()\n",
    "    Person1.__str__()\n",
    "    print(\"-----------\")\n",
    "    Person2 = Person()\n",
    "    Person2.__str__()"
   ]
  }
 ],
 "metadata": {
  "kernelspec": {
   "display_name": "Python 3",
   "language": "python",
   "name": "python3"
  },
  "language_info": {
   "codemirror_mode": {
    "name": "ipython",
    "version": 3
   },
   "file_extension": ".py",
   "mimetype": "text/x-python",
   "name": "python",
   "nbconvert_exporter": "python",
   "pygments_lexer": "ipython3",
   "version": "3.8.8"
  }
 },
 "nbformat": 4,
 "nbformat_minor": 5
}
