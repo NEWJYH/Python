{
 "cells": [
  {
   "cell_type": "code",
   "execution_count": 24,
   "id": "1afeacd6",
   "metadata": {},
   "outputs": [],
   "source": [
    "# 매개변수가 있는 생성자에 대한 실습\n",
    "class Monitor:\n",
    "    # 필드 선언\n",
    "    # __private 성질은 같은 클래스에서만 접근 가능한 것이다. \n",
    "    __company = \"\"\n",
    "    __inch = 0\n",
    "    __price = 0\n",
    "    __color = \"\"\n",
    "    \n",
    "    # 파이썬에서는 1개 이상의 생성자를 만들 수가 없다.\n",
    "    # 오버로딩 : 영어 뜻으로는 과적하다.\n",
    "    \n",
    "    # 같은 메서드명 으로 다른 일을 하게끔 만드는 작업\n",
    "    # 매개변수의 타입과 개수에 따라서 같은 이름의 메서드라도 \n",
    "    # 다른 메서드가 호출이 되는 형태를 지칭한다.\n",
    "    # def __init__(self):\n",
    "    #    print(\"기본 생성자 호출\")\n",
    "        \n",
    "    # 매개변수가 4개 존재하는 생성자\n",
    "    def __init__(self,company,inch,price,color):\n",
    "        # self.company는 맴버변수를 칭하는 것이며,\n",
    "        # company는 외부에서 생성자를 호출할때 매개변수값으로 들어오는 것을 의미한다.\n",
    "        # __private 성질은 같은 클래스에서만 접근 가능한 것이다. \n",
    "        self.__company = company\n",
    "        self.__inch = inch\n",
    "        self.__price = price\n",
    "        self.__color = color\n",
    "        print(\"매개변수가 있는 생성자 호출\")\n",
    "        \n",
    "    # 멤버 변수들의 값들을 찍어 보기 위한 메서드\n",
    "    def __str__(self):\n",
    "        print(f\"제조사 : {self.__company}\")\n",
    "        print(f\"인  치 : {self.__inch}\")        \n",
    "        print(f\"가  격 : {self.__price}\")        \n",
    "        print(f\"색  상 : {self.__color}\") \n",
    "\n",
    "    # getter()메서드 값만 읽어가는 메서드\n",
    "    def getCompany(self):\n",
    "        return self.__company\n",
    "    def getInch(self):\n",
    "        return self.__inch\n",
    "    def getPrice(self):\n",
    "        return self.__price\n",
    "    def getColor(self):\n",
    "        return self.__color\n",
    "\n",
    "    # setter 꼭필요한 setter만 있는것이 좋음\n",
    "    def setCompany(self,value):\n",
    "        self.__company = value\n",
    "    def setInch(self,value):\n",
    "        self.__inch = value\n",
    "    def setPrice(self,value):\n",
    "        self.__price = value\n",
    "    def setColor(self,value):\n",
    "        self.__color = value\n",
    "        "
   ]
  },
  {
   "cell_type": "code",
   "execution_count": 31,
   "id": "da42a636",
   "metadata": {},
   "outputs": [
    {
     "name": "stdout",
     "output_type": "stream",
     "text": [
      "매개변수가 있는 생성자 호출\n",
      "제조사 : Samsung\n",
      "인  치 : 80\n",
      "가  격 : 5000000\n",
      "색  상 : Black\n",
      "---------------------------------------\n",
      "제조사 : LG\n",
      "인  치 : 27\n",
      "가  격 : 1500000\n",
      "색  상 : Whilte\n"
     ]
    }
   ],
   "source": [
    "# from Monitor import *  \n",
    "# Monitor 클래스를 이용한 실습\n",
    "\n",
    "if __name__ == \"__main__\":\n",
    "    # monitor1 = Monitor()\n",
    "    # monitor1.__str__()\n",
    "    # TypeError: __init__() missing 4 required positional arguments: \n",
    "    # 'company', 'inch', 'price', and 'color'\n",
    "    \n",
    "    # 매개변수가 있는 생성자를 호출하는 방법\n",
    "    monitor1 = Monitor(\"Samsung\",80,5000000,\"Black\")\n",
    "    monitor1.__str__()\n",
    "    print(\"---------------------------------------\")\n",
    "    monitor1.setCompany(\"LG\")\n",
    "    monitor1.setInch(27)\n",
    "    monitor1.setPrice(1500000)\n",
    "    monitor1.setColor(\"Whilte\")\n",
    "    monitor1.__str__()"
   ]
  }
 ],
 "metadata": {
  "kernelspec": {
   "display_name": "Python 3",
   "language": "python",
   "name": "python3"
  },
  "language_info": {
   "codemirror_mode": {
    "name": "ipython",
    "version": 3
   },
   "file_extension": ".py",
   "mimetype": "text/x-python",
   "name": "python",
   "nbconvert_exporter": "python",
   "pygments_lexer": "ipython3",
   "version": "3.8.8"
  }
 },
 "nbformat": 4,
 "nbformat_minor": 5
}
