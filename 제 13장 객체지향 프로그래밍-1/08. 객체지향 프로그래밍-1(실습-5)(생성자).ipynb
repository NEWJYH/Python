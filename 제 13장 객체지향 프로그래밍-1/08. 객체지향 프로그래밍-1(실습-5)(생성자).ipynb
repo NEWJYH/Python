{
 "cells": [
  {
   "cell_type": "code",
   "execution_count": null,
   "id": "a19b0160",
   "metadata": {},
   "outputs": [],
   "source": [
    "# 문제 \n",
    "# 원을 클래스로 표시해보자.\n",
    "# 원은 반지름(radius)을 가지고 있다.\n",
    "# 원의 넓이와 둘레를 계산하는 메소드를 정의해보자.\n",
    "# 생성자는 매개변수가 존재하는 생성자를 만들어 보자.\n",
    "\n",
    "# 출력결과\n",
    "# 원의 반지름 : 10\n",
    "# 원의 넓이 : 314.16\n",
    "# 원읠 둘레 : 62.83\n",
    "\n",
    "# 원(Circle)"
   ]
  },
  {
   "cell_type": "code",
   "execution_count": 27,
   "id": "08479473",
   "metadata": {},
   "outputs": [],
   "source": [
    "class Circle:\n",
    "    import math \n",
    "    __radius = 0\n",
    "    __area = 0\n",
    "    __circumference = 0\n",
    "    __pi = math.pi\n",
    "    \n",
    "    def __init__(self,radius):\n",
    "        self.__radius = radius\n",
    "        # 초기화와 동시에 계산\n",
    "        self.calc()\n",
    "        \n",
    "    def calc(self):\n",
    "        self.Area()\n",
    "        self.Circumference()\n",
    "        \n",
    "    def Area(self):\n",
    "        self.__area = self.__pi* (self.__radius ** 2)\n",
    "    def Circumference(self):\n",
    "        self.__circumference = self.__radius * 2 * self.__pi\n",
    "\n",
    "        \n",
    "    # getter()\n",
    "    def getRadius(self):\n",
    "        return self.__radius\n",
    "    def getArea(self):\n",
    "        return self.__area\n",
    "    def getCircumference(self):\n",
    "        return self.__circumference\n",
    "\n",
    "    def printCalc(self):\n",
    "        print(f\"원의 반지름 : {self.getRadius()}\")\n",
    "        print(f\"원의 넓  이 : {round(self.getArea(),2)}\")    \n",
    "        print(f\"원의 둘  레 : {round(self.getCircumference(),2)}\")    "
   ]
  },
  {
   "cell_type": "code",
   "execution_count": 28,
   "id": "dbc7b756",
   "metadata": {},
   "outputs": [
    {
     "name": "stdout",
     "output_type": "stream",
     "text": [
      "원의 반지름 : 10\n",
      "원의 넓  이 : 314.16\n",
      "원의 둘  레 : 62.83\n"
     ]
    }
   ],
   "source": [
    "if __name__ == \"__main__\":\n",
    "    myCircle = Circle(10)\n",
    "    myCircle.printCalc()\n",
    "  "
   ]
  },
  {
   "cell_type": "code",
   "execution_count": null,
   "id": "21b98f8b",
   "metadata": {},
   "outputs": [],
   "source": [
    "# 문제\n",
    "# 은행 계좌에 돈을 저금 할 수 있고 인출을 할 수도 있다.\n",
    "# 은행 계좌를 간단하게 클래스로 정의 해보자.\n",
    "# 은행 계좌(Account)는 현재 잔액(balance)을 필드로 선언하고\n",
    "# 기본생성자를 작성하고\n",
    "# 입금(deposit)메서드와 출금(withdraw)메소드를 작성해보자.\n",
    "\n",
    "# 출력 결과\n",
    "# 통장에 1,000,000원이 입금됨\n",
    "# 현재 잔액 : 1,000,000\n",
    "# 통장에 200,000만원이 출금됨\n",
    "# 현재 잔액 : 800,000"
   ]
  },
  {
   "cell_type": "code",
   "execution_count": 38,
   "id": "6f80eb8c",
   "metadata": {},
   "outputs": [],
   "source": [
    "class Account:\n",
    "    __balance = 0\n",
    "    \n",
    "    def __init__(self):\n",
    "        self.__balance = 0\n",
    "        print(\"통장이 계설되었습니다\")\n",
    "        \n",
    "    def deposit(self,value):\n",
    "        self.__balance += value\n",
    "        print(f\"통장에 {value:,}원이 입금 되었습니다.\")\n",
    "        \n",
    "    def withdraw(self,value):\n",
    "        if self.__balance >= value:\n",
    "            self.__balance -= value\n",
    "            print(f\"통장에 {value:,}원이 출금 되었습니다.\")\n",
    "            return value\n",
    "        else:\n",
    "            print(\"잔액이 부족합니다.\")\n",
    "            \n",
    "    def printBalance(self):\n",
    "        print(f\"현재 잔액 : {self.__balance:,}원\")"
   ]
  },
  {
   "cell_type": "code",
   "execution_count": 44,
   "id": "689e8cef",
   "metadata": {},
   "outputs": [
    {
     "name": "stdout",
     "output_type": "stream",
     "text": [
      "통장이 계설되었습니다\n",
      "통장에 1,000,000원이 입금 되었습니다.\n",
      "현재 잔액 : 1,000,000원\n",
      "통장에 800,000원이 출금 되었습니다.\n",
      "현재 잔액 : 200,000원\n",
      "통장에 200,000원이 출금 되었습니다.\n",
      "현재 잔액 : 0원\n"
     ]
    }
   ],
   "source": [
    "if __name__ == \"__main__\":\n",
    "    Sinhan = Account()\n",
    "    Sinhan.deposit(1000000)\n",
    "    Sinhan.printBalance()\n",
    "    Sinhan.withdraw(800000)\n",
    "    Sinhan.printBalance()\n",
    "    Sinhan.withdraw(200000)\n",
    "    Sinhan.printBalance()   "
   ]
  }
 ],
 "metadata": {
  "kernelspec": {
   "display_name": "Python 3",
   "language": "python",
   "name": "python3"
  },
  "language_info": {
   "codemirror_mode": {
    "name": "ipython",
    "version": 3
   },
   "file_extension": ".py",
   "mimetype": "text/x-python",
   "name": "python",
   "nbconvert_exporter": "python",
   "pygments_lexer": "ipython3",
   "version": "3.8.8"
  }
 },
 "nbformat": 4,
 "nbformat_minor": 5
}
