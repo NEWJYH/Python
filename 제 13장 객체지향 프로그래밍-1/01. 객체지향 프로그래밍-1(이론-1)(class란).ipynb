{
 "cells": [
  {
   "cell_type": "markdown",
   "id": "677e0d22",
   "metadata": {},
   "source": [
    "제 13장 객체 지향 프로그래밍"
   ]
  },
  {
   "cell_type": "markdown",
   "id": "e8f67d56",
   "metadata": {},
   "source": [
    "1. 객체 지향 프로그래밍이란?"
   ]
  },
  {
   "cell_type": "markdown",
   "id": "957ddb3d",
   "metadata": {},
   "source": [
    "1) 객체 지향 프로그래밍이란?\n",
    "    - 객체 지향 프로그래밍\n",
    "      (OOP : object-oriented prgramming)\n",
    "      은 우리가 살고 있는 실제 세계가 객체(object)들로\n",
    "      구성되어 있는 것과 비슷하게, 소프트웨어도 객체로 구성하는\n",
    "      방법이다. 실제 세계에는 사람, 텔레비전, 세탁기,\n",
    "      냉장고 등의 많은 객체가 존재한다.\n",
    "      객체들은 객체 나름대로 고유한 기능을 수행하면서\n",
    "      다른 객체들과 상호 작용한다.\n",
    "      \n",
    "    - 객체지향 프로그래밍 용어는 대부분의 프로그래밍 언어에서\n",
    "      비슷하게 사용하나, 일부 프로그래밍 언어에서는 용어를 조금\n",
    "      달리 사용한다. 예를 들어 자바에서 메서드(Method)로 칭하는\n",
    "      것을 C++에서 멤버 함수(Member Function)로 칭한다."
   ]
  },
  {
   "cell_type": "markdown",
   "id": "a2a3c729",
   "metadata": {},
   "source": [
    "2) 클래스의 개념\n",
    "    - 파이썬은 객체지향 개념을 적용할 수 있는 프로그래밍\n",
    "      언어이다. 객체지향 프로그래밍 언어에서 가장 핵심적인\n",
    "      단어는 클래스(class)이다.\n",
    "      \n",
    "      지금 가지 배운 내용은 객체 지향적인 요소를 최대한 \n",
    "      배제한 절차 지향적 프로그래밍의 일반적인 요소들이다.\n",
    "      \n",
    "    - 클래스를 생성하는 방법은 다음과 같이 간단하다.\n",
    "      \n",
    "      class 클래스명:\n",
    "          # 관련 코드 구현"
   ]
  },
  {
   "cell_type": "markdown",
   "id": "c5da0d24",
   "metadata": {},
   "source": [
    "2) 클래스의 개념\n",
    "    - 이런 형식으로 된 클래스의 개념을 살펴보면, \n",
    "      클래스는 '현실 세계의 사물을 컴퓨터 안에서 구현하려고 \n",
    "      고안된 개념'이다. 현실 세계의 자동차를 생각해보자.\n",
    "      자동차에는 색상, 속도 등 속성이 있다.\n",
    "      또 액셀 밟기(속도 올리기), 브레이크 밟기(속도 내리기)등\n",
    "      기능도 표현할 수 있다. 이것을 클래스 형식으로 구현해 보자"
   ]
  },
  {
   "cell_type": "code",
   "execution_count": 4,
   "id": "5a59a17e",
   "metadata": {},
   "outputs": [
    {
     "name": "stdout",
     "output_type": "stream",
     "text": [
      "470\n",
      "Black\n"
     ]
    }
   ],
   "source": [
    "class car:\n",
    "    def __init__(self,color,speed):\n",
    "        self.color = color\n",
    "        self.speed = speed\n",
    "        self.maxspeed = speed\n",
    "        \n",
    "    def speedUP(self,UP):\n",
    "        self.speed += UP\n",
    "        \n",
    "    def speedDown(self,Down):\n",
    "        self.speed -= Down\n",
    "        \n",
    "c = car(\"Black\",500)\n",
    "c.speedDown(30)\n",
    "print(c.speed)\n",
    "print(c.color)"
   ]
  },
  {
   "cell_type": "markdown",
   "id": "b3be76a0",
   "metadata": {},
   "source": [
    "2) 클래스의 개념\n",
    "    - 속성과 기능을 갖춘 자동차 클래스가 완성되었다.\n",
    "      이렇게 현실 세계의 다양한 사물을 클래스로 표현할 수 있다.\n",
    "      이제는 자동차 클래스의 개념을 실제 코드로 구현해보자.\n",
    "      먼저 자동차의 속성은 지금까지 사용한 변수처럼 생성한다.\n",
    "      이것을 필드(Field)라고 한다.\n",
    "      또 자동차의 기능을 지금까지 사용한 함수 형식으로 구현한다.\n",
    "      단 클래스 안에서 구현된 함수는 함수라고 하지 않고,\n",
    "      메서드라고 한다.\n",
    "      위의 그림을 코드로 적으면 다음과 같다."
   ]
  },
  {
   "cell_type": "markdown",
   "id": "1917d3d9",
   "metadata": {},
   "source": [
    "2) 클래스의 개념\n",
    "    - Car 클래스의 개념도는 아래와 같다.\n",
    "    \n",
    "      class Car:\n",
    "      // 자동차의 필드\n",
    "      색상\n",
    "      현재 속도 = 0\n",
    "      // 자동차의 메서드\n",
    "      def upSpeed(증가할 속도량):\n",
    "      // 현재 속도에서 증가할 속도량 만큼 속도를 올리는 코드\n",
    "      def downSpeed(감소할 속도량):\n",
    "      // 현재 속도에서 감소할 속도량 만큼 속도를 내리는 코드"
   ]
  },
  {
   "cell_type": "code",
   "execution_count": 20,
   "id": "58fe1dd9",
   "metadata": {},
   "outputs": [
    {
     "name": "stdout",
     "output_type": "stream",
     "text": [
      "green\n",
      "110\n",
      "80\n",
      "black\n",
      "black 80\n"
     ]
    }
   ],
   "source": [
    "class Car:\n",
    "\n",
    "    def __init__(self,color,speed):\n",
    "        self.color = color\n",
    "        self.speed = speed\n",
    "    \n",
    "    def upSpeed(self, value):\n",
    "        self.speed += value\n",
    "        \n",
    "    def downSpeed(self, value):\n",
    "        self.speed -= value\n",
    "    \n",
    "    def Printself(self):\n",
    "        print(self.color,self.speed)\n",
    "    \n",
    "myCar = Car(\"green\",60)\n",
    "print(myCar.color)\n",
    "myCar.upSpeed(50)\n",
    "print(myCar.speed)\n",
    "myCar.downSpeed(30)\n",
    "print(myCar.speed)\n",
    "myCar.color = \"black\"\n",
    "print(myCar.color)\n",
    "myCar.Printself()"
   ]
  },
  {
   "cell_type": "markdown",
   "id": "f3a00673",
   "metadata": {},
   "source": [
    "2) 클래스의 개념\n",
    "    - 아무것도 출력되지 않는다.\n",
    "      다시 한번 말하지만 위의 코드는 Car 클래스의 설계도,\n",
    "      붕어빵 틀과 같은 존재이다.\n",
    "      \n",
    "    - 코드에서 self라는 단어가 나오는데 조금 개념이 어렵다.\n",
    "      간단히 설명하면 self는 클래스 자기 자신의 주소를 \n",
    "      가지고 있는데, self.speed는 speed를 의미한다.\n",
    "      즉, 자신의 클래스에 있는 speed 멤버변수(필드)라고\n",
    "      해석하면 되겠다. 그런데 self.speed를 사용하려면\n",
    "      매개변수로 self를 받아야한다.\n",
    "      \n",
    "    - 주의할 점은 매개변수 self를 실제로 전달받지는 않으며,\n",
    "      value만 전달 받는 것이다.\n",
    "      \n",
    "      즉 upSpeed() 메서드의 매개변수는 value 하나 뿐이다.\n",
    "      \n",
    "     - 아울러 이 self 라는 단어는 객체를 생성 해야지만 비로소\n",
    "       활성화가 이루어진다.\n",
    "       (아직은 잘 이해가 되지 않더라도 계속 학습하다 보면\n",
    "       의미를 알수 있을 것이다.)"
   ]
  }
 ],
 "metadata": {
  "kernelspec": {
   "display_name": "Python 3",
   "language": "python",
   "name": "python3"
  },
  "language_info": {
   "codemirror_mode": {
    "name": "ipython",
    "version": 3
   },
   "file_extension": ".py",
   "mimetype": "text/x-python",
   "name": "python",
   "nbconvert_exporter": "python",
   "pygments_lexer": "ipython3",
   "version": "3.8.8"
  }
 },
 "nbformat": 4,
 "nbformat_minor": 5
}
