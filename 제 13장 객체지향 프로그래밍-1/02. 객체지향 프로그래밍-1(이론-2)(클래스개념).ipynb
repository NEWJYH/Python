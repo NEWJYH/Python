{
 "cells": [
  {
   "cell_type": "markdown",
   "id": "ce3b4488",
   "metadata": {},
   "source": [
    "2. 클래스"
   ]
  },
  {
   "cell_type": "markdown",
   "id": "51c2124e",
   "metadata": {},
   "source": [
    "2) 클래스의 개념\n",
    "    - 앞에 Car 클래스 코드를 실제로 작동해 보자.\n",
    "      메서드의 첫 번째 매개변수에 self를 사용하는 이유는\n",
    "      메서드 안에 서 필드(color,speed 등)에 접근하기 위해서\n",
    "      이다. 그래서 self를 매개변수로 보기보다는 메서드 안에\n",
    "      무조건 써야 하는 것 정도로 이해하는 것이 좋겠다.\n",
    "      하지만, 메서드 안에서 필드에 접근할 일이 없다면 \n",
    "      self는 생략이 가능하다.??????\n",
    "      Car 클래스에 메서드나 멤버변수(필드)는 얼마든지 추가,\n",
    "      삭제 가능하다."
   ]
  },
  {
   "cell_type": "code",
   "execution_count": 37,
   "id": "989b79a5",
   "metadata": {},
   "outputs": [],
   "source": [
    "class Car:\n",
    "    color = \" \"\n",
    "    speed = 0\n",
    "    \n",
    "#     def __init__(self,color,speed = 0):\n",
    "#         self.color = color\n",
    "#         self.speed = speed\n",
    "        \n",
    "    def upSpeed(self,value):\n",
    "        self.speed += value\n",
    "        \n",
    "    def downSpeed(self,value):\n",
    "        self.speed -= value\n",
    "        \n",
    "    # 추가된 메서드\n",
    "    def printMessage(self):\n",
    "        print(\"시험 출력이다\")"
   ]
  },
  {
   "cell_type": "markdown",
   "id": "0b90e8ed",
   "metadata": {},
   "source": [
    "2) 클래스의 개념\n",
    "    - printMessage() 안에서는 필드를 사용하지 않으므로\n",
    "      이 때는 self 생략이 가능하다."
   ]
  },
  {
   "cell_type": "markdown",
   "id": "7d8e5fd3",
   "metadata": {},
   "source": [
    "3) 인스턴스의 생성\n",
    "    - 앞에서 자동차 클래스를 잘 완성했다.\n",
    "      하지만 자동차 클래스를 생성했다고 실제 자동차의 실체를 \n",
    "      만든 것은 아니다. 자동차 클래스를 생성한 것은\n",
    "      자동차 설계도를 그린 것에 비유할 수 있다.\n",
    "      자동차 설계도를 그렸다고 자동차를 만든 것은 아니다.\n",
    "      이 설계도를 기반으로 실제 자동차를 제작하는 작업을 해야한다\n",
    "      이렇게 실제 생산되는 자동차를 인스턴스라고 한다.\n",
    "      인스턴스를 객체라고 하는데, 여기서는 인스턴스로 통일한다."
   ]
  },
  {
   "cell_type": "code",
   "execution_count": 38,
   "id": "a5234bd9",
   "metadata": {},
   "outputs": [
    {
     "name": "stdout",
     "output_type": "stream",
     "text": [
      "시험 출력이다\n"
     ]
    }
   ],
   "source": [
    "myCar1 = Car()\n",
    "myCar2 = Car()\n",
    "myCar3 = Car()\n",
    "myCar3.printMessage()"
   ]
  },
  {
   "cell_type": "markdown",
   "id": "9e9c4c4b",
   "metadata": {},
   "source": [
    "3) 인스턴스의 생성\n",
    "    - 자동차 설계도를 그린 후에는 실제로 자동차를 여러 대 \n",
    "      생산하는 것처럼, 클래스를 만든 후에는 인스턴스를 여러개\n",
    "      생성해야 한다. \n",
    "      위의 그림은 설계도(클래스)로 자동차(인스턴스)를\n",
    "      여러 대 생산하는 개념을 보여준다."
   ]
  },
  {
   "cell_type": "markdown",
   "id": "2feb7665",
   "metadata": {},
   "source": [
    "3) 인스턴스의 생성\n",
    "    - 자동차 세 대의 인스턴스를 생성하는 코드는 다음과 같다.\n",
    "    \n",
    "        myCar1 = Car(\"Blue\")\n",
    "        myCar2 = Car(\"Green\")\n",
    "        myCar3 = Car(\"Yellow\")\n",
    "        \n",
    "     - 자동차 세 대의 인스턴스를 생성했다.\n",
    "       이 인스턴스 3개는 각자 색상, 속도 필드를 \n",
    "       별도로 가지고 있다.\n"
   ]
  },
  {
   "cell_type": "markdown",
   "id": "e07464ca",
   "metadata": {},
   "source": [
    "4) 필드에 값 대입\n",
    "    - 자동차 인스턴스가 생성되면 각 자동차는 독립적인\n",
    "      메모리 공간을 차지한다.\n",
    "      그러므로 다음과 같이 각 인스턴스에는 별도의 필드가 \n",
    "      존재하며, 각각 별도의 값을 대입할 수 있다.\n",
    "      처음에는 자동차가 멈춰있기 때문에 속도를 0으로\n",
    "      초기화 했으나 필요하다면 30,50 등 값을 대입해도 된다."
   ]
  },
  {
   "cell_type": "code",
   "execution_count": 39,
   "id": "60aff06a",
   "metadata": {},
   "outputs": [],
   "source": [
    "myCar1.color =\"빨강\"\n",
    "myCar1.speed = 0\n",
    "myCar2.color = \"파랑\"\n",
    "myCar2.speed = 0\n",
    "myCar3.color = \"노랑\"\n",
    "myCar3.speed = 0"
   ]
  },
  {
   "cell_type": "markdown",
   "id": "efc80463",
   "metadata": {},
   "source": [
    "5) 메서드의 호출\n",
    "    - Car 클래스에서 upSpeed()와 downSpeed(),\n",
    "      printMessage() 메서드를 3개 만들어 놓았다.\n",
    "      이 메서드도 각 인스턴스마다 별도로 있다 생각하고\n",
    "      사용하면 된다.\n",
    "      메서드의 호출도 인스턴스명.메서드명() 형식으로 사용한다.\n",
    "      myCar1 은 30으로 속도를 증가시켰으며,\n",
    "      myCar2 는 60으로 속도를 감소시켰다."
   ]
  },
  {
   "cell_type": "code",
   "execution_count": 40,
   "id": "6eb266c0",
   "metadata": {},
   "outputs": [
    {
     "name": "stdout",
     "output_type": "stream",
     "text": [
      "시험 출력이다\n"
     ]
    }
   ],
   "source": [
    "myCar1.upSpeed(30)\n",
    "myCar2.downSpeed(60)\n",
    "myCar3.printMessage()"
   ]
  },
  {
   "cell_type": "markdown",
   "id": "c080f055",
   "metadata": {},
   "source": [
    "3. 클래스의 완전한 작동 구현"
   ]
  },
  {
   "cell_type": "markdown",
   "id": "2b2bdd16",
   "metadata": {},
   "source": [
    "    - 이제는 앞에서 개념을 익히고 부분적으로 코드를 작성했던\n",
    "      자동차 클래스의 내용을 완성해보자."
   ]
  },
  {
   "cell_type": "code",
   "execution_count": 45,
   "id": "afb1a7e5",
   "metadata": {},
   "outputs": [
    {
     "name": "stdout",
     "output_type": "stream",
     "text": [
      "자동차1의 색상은 빨강색이고 현재 속도는  30km/h 입니다.\n",
      "자동차2의 색상은 파랑색이고 현재 속도는  60km/h 입니다.\n",
      "자동차3의 색상은 노랑색이고 현재 속도는   0km/h 입니다.\n"
     ]
    }
   ],
   "source": [
    "# 클래스 선언부\n",
    "class Car:\n",
    "    color =\"\"\n",
    "    speed = 0\n",
    "    \n",
    "    def upSpeed(self,value):\n",
    "        self.speed +=value\n",
    "        \n",
    "    def downSpeed(self,value):\n",
    "        self.speed -= value\n",
    "        \n",
    "\n",
    "if __name__ == \"__main__\":\n",
    "    myCar1 = Car()\n",
    "    myCar1.color = \"빨강\"\n",
    "    myCar2 = Car()    \n",
    "    myCar2.color = \"파랑\"\n",
    "    myCar3 = Car()\n",
    "    myCar3.color = \"노랑\"\n",
    "    myCar1.upSpeed(30)\n",
    "    myCar2.upSpeed(60)\n",
    "    myCar3.upSpeed(0)\n",
    "    \n",
    "    myCarlist = [myCar1,myCar2,myCar3]\n",
    "    k = 1\n",
    "    for n in myCarlist:\n",
    "        print(f\"자동차{k}의 색상은 {n.color}색이고 현재 속도는 {n.speed:>3}km/h 입니다.\")\n",
    "        k+=1"
   ]
  },
  {
   "cell_type": "markdown",
   "id": "1f0855db",
   "metadata": {},
   "source": [
    "1) Car 클래스의 분석\n",
    "    - Car 클래스는 단순하지만 클래스의 생성과 사용을 잘 표현한다.\n",
    "      코드 자체는 어렵지 않지만, 클래스를 처음 접하면 혼란스러울 수도 \n",
    "      있으니, 다음 순서로 클래스를 사용한다는 것을 기억해 두자.\n",
    "      \n",
    "      단계     작업          형식               예\n",
    "      1단계    클래스 선언    class 클래스명 :    class Car:\n",
    "                            # 필드 선언            color = \" \"\n",
    "                                                  speed = 0 \n",
    "                            # 메서드 선언           def upSpeed():\n",
    "                                                        ...\n",
    "     \n",
    "      2단게   인스턴스 생성   인스턴스 = 클래스명()  myCar=Car()\n",
    "      \n",
    "      \n",
    "      3단계   필드나 메서드사용 인스턴스.필드명 =값   myCar1.color =\"빨강\"\n",
    "                             인스턴스.메서드()    myCar1.upspeed()\n",
    "                             \n",
    "                             \n",
    "    - 앞으로 클래스를 생성하고 사용할 때 이 순서와 큰 틀에서 크게 벗어나지\n",
    "      않을 것이니 위의 표의 내용을 잘 기억해 두도록 하자."
   ]
  }
 ],
 "metadata": {
  "kernelspec": {
   "display_name": "Python 3",
   "language": "python",
   "name": "python3"
  },
  "language_info": {
   "codemirror_mode": {
    "name": "ipython",
    "version": 3
   },
   "file_extension": ".py",
   "mimetype": "text/x-python",
   "name": "python",
   "nbconvert_exporter": "python",
   "pygments_lexer": "ipython3",
   "version": "3.8.8"
  }
 },
 "nbformat": 4,
 "nbformat_minor": 5
}
