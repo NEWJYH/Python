{
 "cells": [
  {
   "cell_type": "code",
   "execution_count": 2,
   "id": "35fef9b3",
   "metadata": {},
   "outputs": [],
   "source": [
    "# 인스턴스 변수 : 인스턴스를 생성해야 비로소 사용할수 있는 변수\n",
    "# 인스턴스 변수는 메모리 공간에 독립적으로 공간을 차지하고 있어서\n",
    "# 해당 인스턴스에게만 영향을 끼친다.\n",
    "# 인스턴스 변수 접근 방법 : 인스턴스명.인스턴스 변수명\n",
    "\n",
    "# 클래스 변수 : 클래스가 로딩이 되면서 메모리상단(메소드영역, 클래스 영역)\n",
    "# 미리 공간을 할당하고 저장이된다.\n",
    "# 클래스 변수는 모든 인스턴스에게 공유되는 변수를 클래스 변수라고 한다.\n",
    "# 클래스 변수의 접근 방법 : 클래스명 . 클래스 변수명(권장사항)\n",
    "# 클래스 변수의 값의 변경은 모든 인스턴스에 영향을 끼친다.\n",
    "# 클래스 변수는 인스턴스 생성 없이도 접근이 가능하다.\n",
    "\n",
    "class Car:\n",
    "    color = \"\" # 인스턴스 변수\n",
    "    speed = 0 # 인스턴스 변수\n",
    "    count = 0 # 클래스 변수\n",
    "    # 클래스 변수는 반드시 클래스 바로 아래 필드를 선언 해줘야한다.\n",
    "    \n",
    "    # 기본생성자\n",
    "    def __init__(self):\n",
    "        self.color = \"노랑\" # self. 인스턴스\n",
    "        self.speed = 0  # self. 인스턴스 \n",
    "        Car.count += 1  # 클래스명. 클래스변수\n",
    "   \n"
   ]
  },
  {
   "cell_type": "code",
   "execution_count": 3,
   "id": "0e7efe71",
   "metadata": {},
   "outputs": [
    {
     "name": "stdout",
     "output_type": "stream",
     "text": [
      "0\n",
      "클래스 변수 id값 : 140721098532624\n",
      "1\n",
      "클래스 변수 id값 : 140721098532656\n",
      "1\n",
      "클래스 변수 id값 : 140721098532656\n",
      "True\n",
      "True\n",
      "2\n",
      "클래스 변수 id값 : 140721098532688\n",
      "클래스 변수 id값 : 140721098532688\n",
      "클래스 변수 id값 : 140721098532688\n",
      "True\n",
      "True\n"
     ]
    }
   ],
   "source": [
    "if __name__ == \"__main__\":\n",
    "    print(Car.count)  # 인스턴스를 생성하지 않았는데도 값이 출력되고 있다.\n",
    "    print(f\"클래스 변수 id값 : {id(Car.count)}\")\n",
    "    # 인스턴스 생성\n",
    "    car1 = Car()\n",
    "    print(Car.count)\n",
    "    # 인스턴스를 생성하면 파이썬에서는 새로이 메모리 영역을 할당한다\n",
    "    print(f\"클래스 변수 id값 : {id(Car.count)}\")\n",
    "    print(car1.count)\n",
    "    print(f\"클래스 변수 id값 : {id(car1.count)}\")\n",
    "    print(id(Car.count) == id(car1.count)) # True\n",
    "    print(Car.count is car1.count) # True\n",
    "    car2 = Car()\n",
    "    print(Car.count)\n",
    "    print(f\"클래스 변수 id값 : {id(Car.count)}\")\n",
    "    print(f\"클래스 변수 id값 : {id(car1.count)}\")\n",
    "    print(f\"클래스 변수 id값 : {id(car2.count)}\")\n",
    "    print(id(Car.count) == id(car2.count)) # True\n",
    "    print(Car.count is car2.count) # True"
   ]
  },
  {
   "cell_type": "code",
   "execution_count": 5,
   "id": "72460827",
   "metadata": {},
   "outputs": [],
   "source": [
    "# 클래스 변수와 인스턴스 변수의 다른 예제\n",
    "class Card:\n",
    "    kind = \"\"\n",
    "    number = 0\n",
    "    width = 10 # 클래스 변수\n",
    "    height = 250 # 클래스 변수\n",
    "    count = 0\n",
    "    Cardlist = []\n",
    "    \n",
    "    def __init__(self, kind, number):\n",
    "        self.kind = kind\n",
    "        self.number = number\n",
    "        Card.count += 1\n",
    "        Card.Cardlist.append([kind,number])\n",
    " \n",
    "    def __str__(self):\n",
    "        print(f\"kind : {self.kind}\")\n",
    "        print(f\"number : {self.number}\")  \n",
    "        print(f\"width : {Card.width}\")  \n",
    "        print(f\"height : {Card.height}\")\n",
    "        print(f\"count : {Card.count}\")\n",
    "        print(f\"Cardlist : {Card.Cardlist}\")"
   ]
  },
  {
   "cell_type": "code",
   "execution_count": 6,
   "id": "22047998",
   "metadata": {},
   "outputs": [
    {
     "name": "stdout",
     "output_type": "stream",
     "text": [
      "kind : 다이아몬드\n",
      "number : 10\n",
      "width : 10\n",
      "height : 250\n",
      "count : 1\n",
      "Cardlist : [['다이아몬드', 10]]\n",
      "kind : 스페이드\n",
      "number : 11\n",
      "width : 10\n",
      "height : 250\n",
      "count : 2\n",
      "Cardlist : [['다이아몬드', 10], ['스페이드', 11]]\n",
      "2\n"
     ]
    }
   ],
   "source": [
    "if __name__ == \"__main__\":\n",
    "    card1 = Card(\"다이아몬드\",10)\n",
    "    card1.__str__()\n",
    "    card2 = Card(\"스페이드\",11)\n",
    "    card2.__str__()\n",
    "    print(Card.count)"
   ]
  }
 ],
 "metadata": {
  "kernelspec": {
   "display_name": "Python 3",
   "language": "python",
   "name": "python3"
  },
  "language_info": {
   "codemirror_mode": {
    "name": "ipython",
    "version": 3
   },
   "file_extension": ".py",
   "mimetype": "text/x-python",
   "name": "python",
   "nbconvert_exporter": "python",
   "pygments_lexer": "ipython3",
   "version": "3.8.8"
  }
 },
 "nbformat": 4,
 "nbformat_minor": 5
}
