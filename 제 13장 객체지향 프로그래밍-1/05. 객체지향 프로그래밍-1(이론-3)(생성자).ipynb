{
 "cells": [
  {
   "cell_type": "markdown",
   "id": "f5c26997",
   "metadata": {},
   "source": [
    "4. 생성자"
   ]
  },
  {
   "cell_type": "markdown",
   "id": "b922b9f4",
   "metadata": {},
   "source": [
    "1) 생성자의 개념\n",
    "    - 생성자(Constructor)는 인스턴스를 생성하면 무조건 호출되는 메서드이다."
   ]
  },
  {
   "cell_type": "code",
   "execution_count": null,
   "id": "0d0bd476",
   "metadata": {},
   "outputs": [],
   "source": [
    "myCar1 = Car()\n",
    "myCar1.color = \"빨강\"\n",
    "myCar1.speed = 0"
   ]
  },
  {
   "cell_type": "markdown",
   "id": "6b67a042",
   "metadata": {},
   "source": [
    "1) 생성자의 개념\n",
    "    - myCar1 인스턴스를 생성한 후 색상을 \"빨강\"으로,\n",
    "      속도를 0으로 초기화한다.\n",
    "      차라리 인스턴스를 생성하면서 동시에 \"빨강\"과 0으로 초기화 한다면 어떨까?\n",
    "      훨씬 코드도 간결하고 인스턴스를 생성하면서 값을 초기화하기 때문에\n",
    "      필드에 초깃값을 대입하는 것도 잊어버리지 않을 것이다.\n",
    "      이렇게 인스턴스를 생성하면서 필드값을 초기화시키는 메서드를\n",
    "      생성자라고 한다."
   ]
  },
  {
   "cell_type": "markdown",
   "id": "34d9e082",
   "metadata": {},
   "source": [
    "2) 생성자의 기본\n",
    "    - 생성자 __init__()라는 이름을 갖는다.\n",
    "      init()는 앞뒤에 언더바(_)가 2개씩 있다.\n",
    "      init은 Initialize의 약자로 초기화한다는 의미이다.\n",
    "      언더바가 2개 붙은 것은 파이썬에서 예약해 놓은 것이므로, 프로그램을\n",
    "      작성할 때는 이 이름을 사용해서 새로운 함수나 변수명을 만들지 말아야 한다는\n",
    "      것이다."
   ]
  },
  {
   "cell_type": "code",
   "execution_count": null,
   "id": "4ca3fce4",
   "metadata": {},
   "outputs": [],
   "source": [
    "class 클래스명:\n",
    "    def __init__(self):\n",
    "        # 이부분에 초기화할 코드 입력"
   ]
  },
  {
   "cell_type": "markdown",
   "id": "d3900d35",
   "metadata": {},
   "source": [
    "2) 생성자의 기본\n",
    "    - Car 클래스에서는 다음과 같이 생성자를 만들 수 있다.\n",
    "      이것은 매개변수가 없는 생성자이다."
   ]
  },
  {
   "cell_type": "code",
   "execution_count": 1,
   "id": "defd2e93",
   "metadata": {},
   "outputs": [],
   "source": [
    "class Car:\n",
    "    color = \"\"\n",
    "    speed = 0\n",
    "    def __init__(self):\n",
    "        self.color = \"빨강\"\n",
    "        self.speed = 0"
   ]
  },
  {
   "cell_type": "markdown",
   "id": "7a72efed",
   "metadata": {},
   "source": [
    "2) 생성자의 기본\n",
    "    - 인스턴스를 생성하면 자동으로 생성자를 호출한다."
   ]
  },
  {
   "cell_type": "code",
   "execution_count": 3,
   "id": "0bac6c72",
   "metadata": {},
   "outputs": [
    {
     "name": "stdout",
     "output_type": "stream",
     "text": [
      "빨강\n"
     ]
    }
   ],
   "source": [
    "# 아래와 같이 인스턴스를 만들면,\n",
    "# 이제 대입을 할 필요없이 기본적으로 color는 \"빨강\",speed = 0 로\n",
    "# 초기화가 이루어진다.\n",
    "myCar = Car()\n",
    "print(myCar.color)"
   ]
  },
  {
   "cell_type": "markdown",
   "id": "0a4a9131",
   "metadata": {},
   "source": [
    "3) 기본 생성자\n",
    "    - 위에서 학습한 __init__()은 self 외에 별도의 매개변수를 사용하지 않았다.\n",
    "      이렇게 매개변수가 self만 있는 생성자를 기본 생성자라고 한다.\n",
    "      Car 클래스를 수정해서 생성자를 사용한 완전한 코드를 살펴보자."
   ]
  },
  {
   "cell_type": "code",
   "execution_count": 5,
   "id": "062ac829",
   "metadata": {},
   "outputs": [
    {
     "name": "stdout",
     "output_type": "stream",
     "text": [
      "차 색상은 red\n",
      "차 현재속도는 0\n",
      "차 색상은 red\n",
      "차 현재속도는 0\n"
     ]
    }
   ],
   "source": [
    "# 클래스 선언 부분\n",
    "class Car:\n",
    "    color = \"\"\n",
    "    speed = 0\n",
    "    # 기본 생성자\n",
    "    def __init__(self):\n",
    "        self.color = \"red\"\n",
    "        self.speed = 0\n",
    "        \n",
    "    def upSpeed(self,value):\n",
    "        self.speed += value\n",
    "        \n",
    "    def downSpeed(self,value):\n",
    "        self.speed -= value\n",
    "        \n",
    "    def __str__(self):\n",
    "        print(f\"차 색상은 {self.color}\")\n",
    "        print(f\"차 현재속도는 {self.speed}\")\n",
    "        \n",
    "# 메인 코드 부분\n",
    "myCar1 = Car()\n",
    "myCar2 = Car()\n",
    "myCar1.__str__()\n",
    "myCar2.__str__()"
   ]
  },
  {
   "cell_type": "markdown",
   "id": "11d446da",
   "metadata": {},
   "source": [
    "3) 기본 생성자\n",
    "    - 그런데 여기서 의구점이 들지 않는가?\n",
    "      지금까지 우리는 클래스를 작성할 떄 따로 __init__()라는 생성자를\n",
    "      만들지 않아도 문제가 없었다. 그럼에도 우리는 인스턴스를 생성하고\n",
    "      멤버들을 활용할 수가 있었다.\n",
    "      \n",
    "    - 그 이유는 바로 파이썬 인터프리터에서 클래스 안에 생성자가 1개라도 존재\n",
    "      하지 않는다면 묵시적으로 아무런 값으로 설정되지 않은 기본생성자를\n",
    "      추가해주기 때문이다.\n",
    "      \n",
    "    - 파이썬에서의 생성자의 규칙\n",
    "      1. 생성자명은 __init__으로 작성해야 한다.\n",
    "      2. 아울러 생성자는 리턴 값이 없다.\n",
    "      3. 생성자는 여러 개 존재하면 안된다."
   ]
  },
  {
   "cell_type": "markdown",
   "id": "fc02bbd9",
   "metadata": {},
   "source": [
    "4) 매개변수가 있는 생성자\n",
    "    - 생성자도 다른 메서드처럼 매개변수를 사용할 수 있다."
   ]
  },
  {
   "cell_type": "code",
   "execution_count": 7,
   "id": "7d14a0b3",
   "metadata": {},
   "outputs": [
    {
     "name": "stdout",
     "output_type": "stream",
     "text": [
      "차 색상은 빨강\n",
      "차 현재속도는 30\n",
      "차 색상은 파랑\n",
      "차 현재속도는 60\n"
     ]
    }
   ],
   "source": [
    "# 클래스 선언 부분\n",
    "class Car:\n",
    "    color = \"\"\n",
    "    speed = 0\n",
    "    # 매개변수가 있는 생성자\n",
    "    def __init__(self,color,speed):\n",
    "        self.color = color\n",
    "        self.speed = speed\n",
    "        \n",
    "    def upSpeed(self,value):\n",
    "        self.speed += value\n",
    "        \n",
    "    def downSpeed(self,value):\n",
    "        self.speed -= value\n",
    "        \n",
    "    def __str__(self):\n",
    "        print(f\"차 색상은 {self.color}\")\n",
    "        print(f\"차 현재속도는 {self.speed}\")\n",
    "        \n",
    "# 메인 코드 부분\n",
    "myCar1 = Car(\"빨강\",30)\n",
    "myCar2 = Car(\"파랑\",60)\n",
    "myCar1.__str__()\n",
    "myCar2.__str__()"
   ]
  },
  {
   "cell_type": "markdown",
   "id": "2cf7a8d0",
   "metadata": {},
   "source": [
    "4) 매개변수가 있는 생성자\n",
    "    - 생성자에서 매개변수 2개를 받도록 설정한다.\n",
    "      그리고 넘겨받은 매개변수의 값으로 색상과 속도를 초기화 시킨다.\n",
    "      Car인스턴스를 생성할 때는 매개변수를 2개 넣어준다.\n",
    "      예를 들어 \"빨강\"은 color로 전달되고 30은 speed로 전달된다.\n",
    "      \n",
    "    - 주의해야할점은 매개변수 없이 Car인스턴스를 생성하면 \n",
    "      오류가 발생한다는 것이다.\n",
    "      그 이유는 기본 생성자가 존재하지 않는다. \n",
    "      그럼 기본생성자를 추가하면 어떻게 될까?\n",
    "      기본적으로 자바에서는 기본 생성자, 매개변수가 있는 생성자 등\n",
    "      여러개를 선언할 수 있지만, 파이썬에서는 그렇지 않다.\n",
    "      그냥 생성자 하나만 존재하면 된다는 것이다."
   ]
  },
  {
   "cell_type": "markdown",
   "id": "5f17364e",
   "metadata": {},
   "source": [
    "5) Car 클래스의 전체 코드(생성자 추가, getter()메서드 추가)"
   ]
  },
  {
   "cell_type": "code",
   "execution_count": 10,
   "id": "3e27f00e",
   "metadata": {},
   "outputs": [
    {
     "name": "stdout",
     "output_type": "stream",
     "text": [
      "빨강색 차의 현재 속도는 30km 입니다.\n",
      "파랑색 차의 현재 속도는 60km 입니다.\n"
     ]
    }
   ],
   "source": [
    "# 클래스 선언 부분\n",
    "class Car:\n",
    "    \n",
    "    color = \"\"\n",
    "    speed = 0\n",
    "    \n",
    "    # 매개변수가 있는 생성자\n",
    "    def __init__(self,color,speed):\n",
    "        self.color = color\n",
    "        self.speed = speed\n",
    "        \n",
    "    def upSpeed(self,value):\n",
    "        self.speed += value\n",
    "    def downSpeed(self,value):\n",
    "        self.speed -= value\n",
    "        \n",
    "    # 아래 2개의 메서드는 getter()메서드라고 한다.\n",
    "    def getColor(self):\n",
    "        return self.color\n",
    "    \n",
    "    def getSpeed(self):\n",
    "        return self.speed\n",
    "    \n",
    "# 변수 선언 부분\n",
    "car1, car2 = None, None\n",
    "    \n",
    "# 메인 코드 부분\n",
    "car1 = Car(\"빨강\",30)\n",
    "car2 = Car(\"파랑\",60)\n",
    "print(f\"{car1.getColor()}색 차의 현재 속도는 {car1.getSpeed()}km 입니다.\")\n",
    "print(f\"{car2.getColor()}색 차의 현재 속도는 {car2.getSpeed()}km 입니다.\")"
   ]
  },
  {
   "cell_type": "markdown",
   "id": "cf47a10a",
   "metadata": {},
   "source": [
    "5) Car 클래스의 전체 코드(생성자 추가, getter()메서드 추가)\n",
    "    - 위 코드에서 getter() 메소드가 있는데 이것은 단순히 객체지향개념에서\n",
    "      \n",
    "      캡슐화라는 개념이 존재한다. 즉 다시 말해서 클래스의 필드를 외부로 노출시키는 \n",
    "      것을 방지하는 것을 의미한다.\n",
    "      \n",
    "      하지만 필드 값을 수정을 하게 하는 setter() 메서드도 있지만\n",
    "      웬만하면 클래스에서 getter() 메서드만 제공한다.\n",
    "      최소한 필드의 값은 읽어가야지만 연계된 프로그램에서 \n",
    "      그 값을 활용할 수가 있기 때문이다."
   ]
  }
 ],
 "metadata": {
  "kernelspec": {
   "display_name": "Python 3",
   "language": "python",
   "name": "python3"
  },
  "language_info": {
   "codemirror_mode": {
    "name": "ipython",
    "version": 3
   },
   "file_extension": ".py",
   "mimetype": "text/x-python",
   "name": "python",
   "nbconvert_exporter": "python",
   "pygments_lexer": "ipython3",
   "version": "3.8.8"
  }
 },
 "nbformat": 4,
 "nbformat_minor": 5
}
