{
 "cells": [
  {
   "cell_type": "code",
   "execution_count": 2,
   "id": "70a7e863",
   "metadata": {},
   "outputs": [],
   "source": [
    "# Calculator\n",
    "\n",
    "# 동기화 실습(파일분리 -Calculator.py, User-1.py, user-2.py, CaculatorMain.py)  \n",
    "\n",
    "# 공유 객체를 만든다.\n",
    "import time\n",
    "import threading\n",
    "lock = threading.Lock()\n",
    "\n",
    "class Calculator:\n",
    "    # 생성자, 초기화 처리\n",
    "    def __init__(self, memory):\n",
    "        super().__init__()\n",
    "        self.memory = memory\n",
    "        \n",
    "    # getter() 작성\n",
    "    def getMemory(self):\n",
    "        return self.memory\n",
    "    \n",
    "    # setter() 작성\n",
    "    # 데이터의 신뢰성을 보장하기 위해서 특정 스레드가 \n",
    "    # 작업을 하고 있는 동안은 \n",
    "    # lock.acquire() 메소드가 다른 스레드의 접근을 막아줌으로써\n",
    "    # 데이터의 신뢰성을 보장할 수가 있다.(동기화 처리)\n",
    "    # 속도적인 측면은 조금은 느릴 수 있다.\n",
    "    def setMemory(self, memory):\n",
    "        lock.acquire() # 잠금발생\n",
    "        self.memory = memory\n",
    "        # 1초간 일시 정지\n",
    "        time.sleep(1)\n",
    "        # 현재 실행 중인 스레드 이름과 memory값을 출력\n",
    "        print(threading.currentThreading().getName() , self.memory)\n",
    "        lock.release()"
   ]
  },
  {
   "cell_type": "code",
   "execution_count": 3,
   "id": "a1bdfaa4",
   "metadata": {},
   "outputs": [],
   "source": [
    "# User1.py\n",
    "# Calculator 공유 객체에 접근하는 스레드 클래스 작성\n",
    "from Calculator import *\n",
    "\n",
    "class User1(threading.Thread):\n",
    "    def __init__(self):\n",
    "        super().__init__()\n",
    "        \n",
    "    def setCalculator(self, calculator):\n",
    "        # 메인에서 생성한 calculator 인스턴스를 매개변수로 받아서 접근함.\n",
    "        self.calculator = calculator \n",
    "        self.setName(\"User-1\") # 스레드 이름 설정\n",
    "        \n",
    "    def run(self):\n",
    "        self.calculator.setMemory(100)"
   ]
  },
  {
   "cell_type": "code",
   "execution_count": 4,
   "id": "9424907d",
   "metadata": {},
   "outputs": [],
   "source": [
    "# User2.py\n",
    "# Calculator 공유 객체에 접근하는 스레드 클래스 작성\n",
    "from Calculator import *\n",
    "\n",
    "class User2(threading.Thread):\n",
    "    def __init__(self):\n",
    "        super().__init__()\n",
    "        \n",
    "    def setCalculator(self, calculator):\n",
    "        # 메인에서 생성한 calculator 인스턴스를 매개변수로 받아서 접근함.\n",
    "        self.calculator = calculator \n",
    "        self.setName(\"User-2\") # 스레드 이름 설정\n",
    "        \n",
    "    def run(self):\n",
    "        self.calculator.setMemory(50)"
   ]
  },
  {
   "cell_type": "code",
   "execution_count": 7,
   "id": "aece8b48",
   "metadata": {},
   "outputs": [
    {
     "name": "stdout",
     "output_type": "stream",
     "text": [
      "User-1: 100\n",
      "User-2: 50\n"
     ]
    }
   ],
   "source": [
    "# CaculatorMain.py\n",
    "# 공유객체를 사용하는 User1, User2 클래스의 인스턴스를 생성하여\n",
    "# 실행시키는 메인코드 작성\n",
    "\n",
    "#from User1 import *\n",
    "#from User2 import *\n",
    "\n",
    "if __name__ == \"__main__\":\n",
    "    # 공유 객체 생성, memory 값을 0으로 초기화\n",
    "    calculator = Calculator(0)\n",
    "    # user1 인스턴스를 생성하여 setter를 호출하여 \n",
    "    # 공유 객체의 주소를 넘기고    user1 =User1()\n",
    "    user1 = User1()\n",
    "    user1.setCalculator(calculator)\n",
    "\n",
    "    # user2 인스턴스를 생성하여 setter를 호출하여 \n",
    "    # 공유 객체의 주소를 넘기고    user1 =User1()\n",
    "    user2 = User2()\n",
    "    user2.setCalculator(calculator)\n",
    "    \n",
    "    # User1,User2 스레드 start()시키고 있다.\n",
    "    user1.start()\n",
    "    user2.start()"
   ]
  }
 ],
 "metadata": {
  "kernelspec": {
   "display_name": "Python 3",
   "language": "python",
   "name": "python3"
  },
  "language_info": {
   "codemirror_mode": {
    "name": "ipython",
    "version": 3
   },
   "file_extension": ".py",
   "mimetype": "text/x-python",
   "name": "python",
   "nbconvert_exporter": "python",
   "pygments_lexer": "ipython3",
   "version": "3.8.8"
  }
 },
 "nbformat": 4,
 "nbformat_minor": 5
}
