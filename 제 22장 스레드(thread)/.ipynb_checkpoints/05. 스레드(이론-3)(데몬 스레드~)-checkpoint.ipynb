{
 "cells": [
  {
   "cell_type": "markdown",
   "id": "1953575d",
   "metadata": {},
   "source": [
    "2. 데몬 스레드"
   ]
  },
  {
   "cell_type": "markdown",
   "id": "54750c75",
   "metadata": {},
   "source": [
    "1) 데몬(daemon)스레드란? (종속성 스레드)\n",
    "    - 데몬(daemon)스레드는 메인 스레드가 종료될 때 \n",
    "      자신의 실행 상태와 상관없이 종료되는 서브 스레드를 의미한다.\n",
    "      \n",
    "      앞서 threading 모듈을 사용해서 \n",
    "      메인 스레드가 서브 스레드를 생성하는 경우 \n",
    "      메인 스레드는 서브 스레드가 모두 종료될 때 까지 기다리지 않고 \n",
    "      종료하게 된다.\n",
    "      \n",
    "      그런데 실제 프로그래밍을 하다 보면 \n",
    "      경우에 따라 메인 스레드가 종료되면 모든 서브 스레드가 \n",
    "      동작 여부에 상관없이 종료되어야 하는 경우가 많다.\n",
    "      \n",
    "      예를 들어 네이버 메일이나, 파이썬 인터프리터와 같이 이런 것들은\n",
    "      메인스레드가 종료되면 같이 종료가 되어야 할 것이다.\n",
    "      이때 서브 스레드들은 데몬 스레드로 만들어져야 한다.\n",
    "      \n",
    "      파이썬 threading 모듈에서 \n",
    "      데몬 스레드의 생성은 daemon 속성을 True로 변경하면 된다."
   ]
  },
  {
   "cell_type": "code",
   "execution_count": 5,
   "id": "2abf95bc",
   "metadata": {},
   "outputs": [
    {
     "name": "stdout",
     "output_type": "stream",
     "text": [
      "main thread start\n",
      "sub thread start : sub thread 0\n",
      "sub thread start : sub thread 1\n",
      "sub thread start : sub thread 2\n",
      "sub thread start : sub thread 3\n",
      "sub thread start : sub thread 4\n",
      "main thread end\n",
      "sub thread end : sub thread 0\n",
      "sub thread end : sub thread 2sub thread end : sub thread 3\n",
      "\n",
      "sub thread end : sub thread 4sub thread end : sub thread 1\n",
      "\n",
      "sub thread end : sub thread 2sub thread end : sub thread 1sub thread end : sub thread 0\n",
      "\n",
      "\n",
      "sub thread end : sub thread 3sub thread end : sub thread 4\n",
      "\n"
     ]
    }
   ],
   "source": [
    "import threading\n",
    "import time\n",
    "\n",
    "class Worker(threading.Thread):\n",
    "    \n",
    "    def __init__(self, name):\n",
    "        super().__init__()\n",
    "        self.name = name\n",
    "        \n",
    "    def run(self):\n",
    "        print(f\"sub thread start : {threading.currentThread().getName()}\")\n",
    "        time.sleep(10)\n",
    "        print(f\"sub thread end : {threading.currentThread().getName()}\")\n",
    "        \n",
    "if __name__ == \"__main__\":\n",
    "    print(\"main thread start\")\n",
    "    for i in range(5):\n",
    "        name = f\"sub thread {i}\"\n",
    "        t = Worker(name)       # sub thread 생성\n",
    "        t.daemon = True        # 작업 스레드를 데몬으로 설정\n",
    "        t.start()              # sub thread의 run메서드를 호출\n",
    "    print(\"main thread end\")\n",
    "    \n",
    "# 실행 결과 메인스레드가 종료되면 서브 스레드도 종료가 되어서\n",
    "# sub end가 찍히지 않아야한다.\n",
    "# 하지만 출력이 되는걸 ????"
   ]
  },
  {
   "cell_type": "markdown",
   "id": "ec5385fe",
   "metadata": {},
   "source": [
    "3. 동시성과 병렬성"
   ]
  },
  {
   "cell_type": "markdown",
   "id": "12042b6c",
   "metadata": {},
   "source": [
    "1) 동시성(concurrency)이란?\n",
    "    - 프로그램을 구현했는데 성능이 부족한 경우가 종종 발생한다.\n",
    "      이 경우 알고리즘 개선을 통해서 성능을 개선할 수도 있지만\n",
    "      더 이상 알고리즘 개선이 어려운 경우 동시성과 병렬성을 통해\n",
    "      성능 향상을 시킬 수 있다.\n",
    "      \n",
    "    - 동시성이란 흔히 말하는 멀티 태스킹이다.\n",
    "      처리해야 할 일이 A,B,C,D 가 있을 때 \n",
    "      일을 잘게(슬라이스) 분할한 후 이를 조금씩 번갈아 가면서 \n",
    "      처리하는 방식을 의미한다.\n",
    "      멀티 태스킹에서 한 순간에 하나의 일을 하고 있지만,\n",
    "      이를 아주 빨리 번갈아 할 수 있다면 마치 동시에 처리하는 것처럼\n",
    "      보인다는 것이다.\n",
    "      CPU도 마찬가지이다. 프로세스나 스레드를 실행할 그 순간에는\n",
    "      하나만 처리하지만 너무 빠르기 때문에 마치 계속 실행되어 있는 것 처럼\n",
    "      보일 뿐인 것이다."
   ]
  },
  {
   "cell_type": "markdown",
   "id": "30a2776e",
   "metadata": {},
   "source": [
    "2) 병렬성(parallelism)이란?\n",
    "    - 동시성이 사실 한 순간에 하나의 일만을 처리한 것과 달리 병렬성은\n",
    "      진짜로 동시에 여러 개의 일을 처리하는 것을 의미한다.\n",
    "      2000년 들어 멀티코어 프로세서가 빠르게 보급되기 시작했다.\n",
    "      스마트폰도 이미 멀티코어 CPU를 사용하고 있다.\n",
    "      이처럼 일을 처리할 수 있는 \"일꾼\"이 여러 개라면 당연히\n",
    "      한 순간에 여러 개의 일(태스크)을 처리할 수 있을 텐데 \n",
    "      이를 병렬성이라고 한다.\n",
    "      \n",
    "      즉, 멀티 개의 코어가 하나씩 스레드를 맡아서 독립적으로 진행하여\n",
    "      방해를 받지 않는다는 것이다.\n",
    "      코어가 많으면 많을수록 그만큼 스레드를 빨리 처리하므로 속도가 빠르다."
   ]
  },
  {
   "cell_type": "markdown",
   "id": "f0bb7221",
   "metadata": {},
   "source": [
    "3) 동시성과 병렬성\n",
    "\n",
    "    - 동시성(Concurrency)\n",
    "                           : 하나의 코어가 스레드를 실행했다가\n",
    "        Core1                실행대기시켰다가 다른 스레드를 진행시키는 방법\n",
    "         |\n",
    "        Thread1\n",
    "         |\n",
    "        Thread2\n",
    "         |\n",
    "        Thread3\n",
    "         ↓\n",
    "  \n",
    "------------------------------------------------------------------\n",
    "\n",
    "     - 병렬성(Parallelism)\n",
    "                               : 멀티 개의 코어가 하나씩\n",
    "                                 쓰레드를 맡아서 독립적으로 진행하여,\n",
    "       Core1            Core2    방해를 받지 않는 특성이 있다.\n",
    "         |               |\n",
    "       Thread1         Thread2\n",
    "         ↓              ↓"
   ]
  },
  {
   "cell_type": "markdown",
   "id": "9226392a",
   "metadata": {},
   "source": [
    "3) 동시성과 병렬성\n",
    "    - 요즘은 대부분 멀티 코어이기 때문에 병렬성을 확장시켜 나가보면 된다.\n",
    "      하지만 워낙 스레드가 많아서 동시성과 병렬성을 동시에 가지는 형태가\n",
    "      대부분인 것이다."
   ]
  }
 ],
 "metadata": {
  "kernelspec": {
   "display_name": "Python 3",
   "language": "python",
   "name": "python3"
  },
  "language_info": {
   "codemirror_mode": {
    "name": "ipython",
    "version": 3
   },
   "file_extension": ".py",
   "mimetype": "text/x-python",
   "name": "python",
   "nbconvert_exporter": "python",
   "pygments_lexer": "ipython3",
   "version": "3.8.8"
  }
 },
 "nbformat": 4,
 "nbformat_minor": 5
}
