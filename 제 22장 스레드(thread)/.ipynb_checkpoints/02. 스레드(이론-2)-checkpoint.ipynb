{
 "cells": [
  {
   "cell_type": "markdown",
   "id": "69a71300",
   "metadata": {},
   "source": [
    "4) threading 모듈 사용하기\n",
    "    - 파이썬에서 스레드를 다루는 다양한 방법이 있다.\n",
    "      파이썬 기본 모듈로는 thread와 threading 모듈이 있는데\n",
    "      보통 threading 모듈을 더 자주 사용합니다.\n",
    "      threading 모듈을 사용해서 스레드를 생성해보자."
   ]
  },
  {
   "cell_type": "code",
   "execution_count": 9,
   "id": "455116ad",
   "metadata": {},
   "outputs": [
    {
     "name": "stdout",
     "output_type": "stream",
     "text": [
      "main thread start\n",
      "sub thread start thread 0\n",
      "sub thread start thread 1\n",
      "sub thread start thread 2\n",
      "sub thread start thread 3\n",
      "sub thread start thread 4main thread end\n",
      "\n",
      "sub thread end thread 1sub thread end thread 0\n",
      "\n",
      "sub thread end thread 2sub thread end thread 3\n",
      "\n",
      "sub thread end thread 4\n"
     ]
    }
   ],
   "source": [
    "import threading\n",
    "import time\n",
    "\n",
    "class Worker(threading.Thread):\n",
    "    def __init__(self, name):\n",
    "        super().__init__()\n",
    "        self.name = name # thread 이름 설정\n",
    "        \n",
    "    def run(self):\n",
    "        print(f\"sub thread start {threading.currentThread().getName()}\")\n",
    "        time.sleep(3)\n",
    "        print(f\"sub thread end {threading.currentThread().getName()}\")\n",
    "\n",
    "        \n",
    "print(\"main thread start\")\n",
    "for i in range(5):\n",
    "    name = f\"thread {i}\"\n",
    "    t = Worker(name) # sub thread 생성\n",
    "    t.start() # sub thread의 run 메서드를 호출\n",
    "print(\"main thread end\")\n",
    "\n",
    "# 메인 스레드가 5개의 서브 스레드를 생성하고 start() 메서드를 호출하여\n",
    "# Woker 클래스에 정의한 run()메서드를 호출한다.\n",
    "# 메인 스레드와 5개의 서브 스레드는 운영체제의 스케줄러에 의해 스케쥴링 되면서 실행\n",
    "# 가장 먼저 메인 스레드가 끝나면서 \"main thread end\"를 출력\n",
    "# 서브 스레드들은 0,1,2,3,4 순으로 실행됐지만 종료 순서는 조금 다른 것을 확인\n",
    "# 기본적으로 메인 스레드에서 서브 스레드를 생성하면 메인 스레드는 자신의 작업을\n",
    "# 모두 마쳤더라도 서브 스레드의 작업이 종료될 때 까지 기다렸다가 \n",
    "# 서브스레드의 작업이 모두 완료되면 종료되지만 이럴 때는 join()함수를 사용해야 한다."
   ]
  },
  {
   "cell_type": "markdown",
   "id": "faeafe0a",
   "metadata": {},
   "source": [
    "5) Fork와 join()\n",
    "\n",
    "                     Main Thread\n",
    "                          |\n",
    "  --------------------------------------------------------\n",
    "          Fork : 메인 스레드가 서브 스레드를 생성하는 것\n",
    "  ________________________________________________________\n",
    "       |        |         |         |        |        |        \n",
    "       |        |         |         |        |        |         \n",
    "       |        |         |         |        |        |        \n",
    "       Main    sub        |         |        |       sub\n",
    "     Thread   Thread0     |         |        |      Thread4\n",
    "       |        |         |         |        |        |        \n",
    "       |        |         |         |        |        |        \n",
    "       ↓       ↓        ↓         ↓       ↓       ↓\n",
    "      \n",
    "   --------------------------------------------------------\n",
    "          Join : 모든 스레드가 작업을 마칠 떄까지 기다리라는 것\n",
    "   ________________________________________________________\n",
    "                           |\n",
    "                           |\n",
    "                           Main\n",
    "                          Thread\n",
    "                           "
   ]
  },
  {
   "cell_type": "markdown",
   "id": "1d5adc5d",
   "metadata": {},
   "source": [
    "5) Fork와 join()\n",
    "    - 위의 그림처럼 메인 스레드가 서브 스레드를 생성하는 것을 fork 라고 한다.\n",
    "      \n",
    "      두 개의 서브 스레드를 생성하는 경우 \n",
    "      메인 스레드를 포함하여 총 3개의 스레드가 스케쥴링 된다.\n",
    "      \n",
    "      join은 모든 스레드가 작업을 끝마칠 떄 까지 기다리라는 것을 의미한다.\n",
    "      \n",
    "      보통 데이터를 여러 스레드를 통해서 병렬로 처리한 후 \n",
    "      그 값들을 다시 모아서 순차적으로 처리해야할 필요가 있을 때 \n",
    "      분할한 데이터가 모든 스레드에서 처리될 떄까지 기다렸다가 \n",
    "      메인 스레드가 다시 추후 작업을 하는 경우에 사용한다."
   ]
  },
  {
   "cell_type": "code",
   "execution_count": 11,
   "id": "8b1f2f5c",
   "metadata": {},
   "outputs": [
    {
     "name": "stdout",
     "output_type": "stream",
     "text": [
      "main thread start\n",
      "sub thread start 1\n",
      "sub thread start 2\n",
      "sub thread end 1sub thread end 2\n",
      "\n",
      "main thread post job\n",
      "main thread end\n"
     ]
    }
   ],
   "source": [
    "import threading\n",
    "import time\n",
    "\n",
    "class Worker(threading.Thread):\n",
    "\n",
    "    def __init__(self, name):\n",
    "        super().__init__()\n",
    "        self.name = name # thread 이름 설정\n",
    "        \n",
    "    def run(self):\n",
    "        print(f\"sub thread start {threading.currentThread().getName()}\")\n",
    "        time.sleep(5)\n",
    "        print(f\"sub thread end {threading.currentThread().getName()}\")\n",
    "\n",
    "print(\"main thread start\")\n",
    "t1 = Worker(\"1\") # sub thread 생성\n",
    "t1.start()\n",
    "t2 = Worker(\"2\") # sub thread 생성\n",
    "t2.start()\n",
    "t1.join()\n",
    "t2.join()\n",
    "print(\"main thread post job\")\n",
    "print(\"main thread end\")"
   ]
  },
  {
   "cell_type": "markdown",
   "id": "59d9b6a3",
   "metadata": {},
   "source": [
    "5) Fork와 join()\n",
    "    - 위 출력 결과를 보면 t1, t2 스레드가 종료된 후 \n",
    "      \"main thread post job\"이 출력된 것을 확인할 수 있다.\n",
    "      \n",
    "      앞에서 예제에서는 메인스레드는 모든 실행을 완료한 후 \n",
    "      먼저 종료되는 경우가 많지만 이번 예제에서는 join()로 인해\n",
    "      서브스레드가 join() 메서드가 호출되는 지점에서 기다린다는 차이가 있다."
   ]
  },
  {
   "cell_type": "markdown",
   "id": "ce0617cd",
   "metadata": {},
   "source": [
    "5) Fork와 join()\n",
    "    - 반복문을 통해 여러 서브 스레드를 생성해야 하는 경우에는\n",
    "      생성된 스레드 객체를 파이썬 리스트에 저장한 후 반복문을 이용해서\n",
    "      각 객체에서 join() 메서드를 호출할 수 있다."
   ]
  },
  {
   "cell_type": "code",
   "execution_count": 4,
   "id": "d8b69a28",
   "metadata": {
    "scrolled": false
   },
   "outputs": [
    {
     "name": "stdout",
     "output_type": "stream",
     "text": [
      "main thread start\n",
      "sub thread start 0\n",
      "sub thread start 1\n",
      "sub thread start 2\n",
      "sub thread end 1sub thread end 2sub thread end 0\n",
      "\n",
      "\n",
      "main thread post job\n",
      "main thread end\n"
     ]
    }
   ],
   "source": [
    "import threading\n",
    "import time\n",
    "\n",
    "class Worker(threading.Thread):\n",
    "    Count = 0\n",
    "    def __init__(self, name):\n",
    "        super().__init__()\n",
    "        self.name = name # thread 이름 지정\n",
    "        Worker.Count += 1\n",
    "    \n",
    "    def run(self):\n",
    "        print(f\"sub thread start {threading.currentThread().getName()}\")\n",
    "        time.sleep(5)\n",
    "        print(f\"sub thread end {threading.currentThread().getName()}\")\n",
    "\n",
    "print(\"main thread start\")\n",
    "\n",
    "threads = []\n",
    "\n",
    "for i in range(3):\n",
    "    thread = Worker(i)\n",
    "    thread.start() # sub thread의 run 메서드를 호출\n",
    "    threads.append(thread)\n",
    "\n",
    "for thread in threads:\n",
    "    thread.join()\n",
    "    \n",
    "print(\"main thread post job\")\n",
    "print(\"main thread end\")"
   ]
  }
 ],
 "metadata": {
  "kernelspec": {
   "display_name": "Python 3",
   "language": "python",
   "name": "python3"
  },
  "language_info": {
   "codemirror_mode": {
    "name": "ipython",
    "version": 3
   },
   "file_extension": ".py",
   "mimetype": "text/x-python",
   "name": "python",
   "nbconvert_exporter": "python",
   "pygments_lexer": "ipython3",
   "version": "3.8.8"
  }
 },
 "nbformat": 4,
 "nbformat_minor": 5
}
