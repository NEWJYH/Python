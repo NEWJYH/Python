{
 "cells": [
  {
   "cell_type": "code",
   "execution_count": 5,
   "id": "539d701d",
   "metadata": {},
   "outputs": [],
   "source": [
    "# lab1 \n",
    "\n",
    "# 윈도우 사운드 모듈\n",
    "import winsound\n",
    "import time\n",
    "import threading\n",
    "\n",
    "fr = 2000 # 주파수(범위 : 37 ~ 32767)\n",
    "du = 1000 # 지속시간 1000ms -> 1초\n",
    "for i in range(3):\n",
    "    # 윈도우의 비프음을 발생시키는 코드\n",
    "    winsound.Beep(fr, du)\n",
    "    time.sleep(1) # second 단위 1초간 일시정지"
   ]
  },
  {
   "cell_type": "code",
   "execution_count": 8,
   "id": "23ab7c70",
   "metadata": {},
   "outputs": [
    {
     "name": "stdout",
     "output_type": "stream",
     "text": [
      "현재 실행중인 스레드명 : MainThread\n",
      "현재 실행중인 스레드명 (1 for문) : MainThread\n",
      "현재 실행중인 스레드명 (1 for문) : MainThread\n",
      "현재 실행중인 스레드명 (1 for문) : MainThread\n",
      "현재 실행중인 스레드명 (2 for문) : MainThread\n",
      "삐\n",
      "현재 실행중인 스레드명 (2 for문) : MainThread\n",
      "삐\n",
      "현재 실행중인 스레드명 (2 for문) : MainThread\n",
      "삐\n"
     ]
    }
   ],
   "source": [
    "import winsound\n",
    "import time\n",
    "import threading\n",
    "\n",
    "# 싱글스레드 환경\n",
    "print(f\"현재 실행중인 스레드명 : {threading.currentThread().getName()}\")\n",
    "\n",
    "# 아래 코드는 싱글 스레드에서 돌아가는 작업이다.\n",
    "# 그래서 비프음을 3번 알리고 난 후, 삐라는 문자열이 3번 출력이 된다.\n",
    "\n",
    "fr = 2000 # 주파수(범위 : 37 ~ 32767)\n",
    "du = 1000 # 지속시간 1000ms -> 1초\n",
    "for i in range(3):\n",
    "    print(f\"현재 실행중인 스레드명 (1 for문) : {threading.currentThread().getName()}\")\n",
    "    # 윈도우의 비프음을 발생시키는 코드\n",
    "    winsound.Beep(fr, du)\n",
    "    time.sleep(1) # second 단위 1초간 일시정지\n",
    "for i in range(3):\n",
    "    print(f\"현재 실행중인 스레드명 (2 for문) : {threading.currentThread().getName()}\")\n",
    "    print(\"삐\")\n",
    "    time.sleep(1)"
   ]
  },
  {
   "cell_type": "code",
   "execution_count": 12,
   "id": "de8e9792",
   "metadata": {},
   "outputs": [
    {
     "name": "stdout",
     "output_type": "stream",
     "text": [
      "비프스레드\n",
      "MainThread\n",
      "삐 ~\n",
      "삐 ~\n",
      "비프스레드\n",
      "삐 ~\n",
      "비프스레드\n"
     ]
    },
    {
     "ename": "RuntimeError",
     "evalue": "threads can only be started once",
     "output_type": "error",
     "traceback": [
      "\u001b[1;31m---------------------------------------------------------------------------\u001b[0m",
      "\u001b[1;31mRuntimeError\u001b[0m                              Traceback (most recent call last)",
      "\u001b[1;32m<ipython-input-12-7d90ad66d3bc>\u001b[0m in \u001b[0;36m<module>\u001b[1;34m\u001b[0m\n\u001b[0;32m     46\u001b[0m \u001b[1;31m# 위와 같이 두 개의 스레드로 병렬성과 동시성을 이용하여\u001b[0m\u001b[1;33m\u001b[0m\u001b[1;33m\u001b[0m\u001b[1;33m\u001b[0m\u001b[0m\n\u001b[0;32m     47\u001b[0m \u001b[1;31m# 삐~~ 라는 문자열 출력과 비프음을 동시에 출력을 할 수 있음을 알수 있음.\u001b[0m\u001b[1;33m\u001b[0m\u001b[1;33m\u001b[0m\u001b[1;33m\u001b[0m\u001b[0m\n\u001b[1;32m---> 48\u001b[1;33m     \u001b[0mthread\u001b[0m\u001b[1;33m.\u001b[0m\u001b[0mstart\u001b[0m\u001b[1;33m(\u001b[0m\u001b[1;33m)\u001b[0m\u001b[1;33m\u001b[0m\u001b[1;33m\u001b[0m\u001b[0m\n\u001b[0m",
      "\u001b[1;32m~\\anaconda3\\lib\\threading.py\u001b[0m in \u001b[0;36mstart\u001b[1;34m(self)\u001b[0m\n\u001b[0;32m    846\u001b[0m \u001b[1;33m\u001b[0m\u001b[0m\n\u001b[0;32m    847\u001b[0m         \u001b[1;32mif\u001b[0m \u001b[0mself\u001b[0m\u001b[1;33m.\u001b[0m\u001b[0m_started\u001b[0m\u001b[1;33m.\u001b[0m\u001b[0mis_set\u001b[0m\u001b[1;33m(\u001b[0m\u001b[1;33m)\u001b[0m\u001b[1;33m:\u001b[0m\u001b[1;33m\u001b[0m\u001b[1;33m\u001b[0m\u001b[0m\n\u001b[1;32m--> 848\u001b[1;33m             \u001b[1;32mraise\u001b[0m \u001b[0mRuntimeError\u001b[0m\u001b[1;33m(\u001b[0m\u001b[1;34m\"threads can only be started once\"\u001b[0m\u001b[1;33m)\u001b[0m\u001b[1;33m\u001b[0m\u001b[1;33m\u001b[0m\u001b[0m\n\u001b[0m\u001b[0;32m    849\u001b[0m         \u001b[1;32mwith\u001b[0m \u001b[0m_active_limbo_lock\u001b[0m\u001b[1;33m:\u001b[0m\u001b[1;33m\u001b[0m\u001b[1;33m\u001b[0m\u001b[0m\n\u001b[0;32m    850\u001b[0m             \u001b[0m_limbo\u001b[0m\u001b[1;33m[\u001b[0m\u001b[0mself\u001b[0m\u001b[1;33m]\u001b[0m \u001b[1;33m=\u001b[0m \u001b[0mself\u001b[0m\u001b[1;33m\u001b[0m\u001b[1;33m\u001b[0m\u001b[0m\n",
      "\u001b[1;31mRuntimeError\u001b[0m: threads can only be started once"
     ]
    }
   ],
   "source": [
    "# 우리가 원하는 것은 콘솔에 삐라는 문자열과 함께 비프음도 같이 나기를\n",
    "# 원하는 것이다.\n",
    "# 이렇게 하고자 한다면, 스레드를 하나 만들어서 멀티 스레드로 바꿔야 한다.\n",
    "\n",
    "# 문제 1 \n",
    "# 위와 같은 싱글 스레드에서 실행하는것을\n",
    "# 멀티스레드로 코드를 바꿔서 \n",
    "# \"삐~~\"라는 문자열과 비프음이 동시에 실행되는 코드를 작성하시오.\n",
    "\n",
    "# 풀이\n",
    "\n",
    "import winsound\n",
    "import time\n",
    "import threading\n",
    "\n",
    "# 비프음ㅇ르 내는 스레드 클래스 정의\n",
    "class Beep(threading.Thread):\n",
    "    Counter = 0\n",
    "\n",
    "    # 생성자\n",
    "    def __init__(self, name : str, fr = 2000, du = 1000):\n",
    "        super().__init__()\n",
    "        self.name = name\n",
    "        self.fr = fr\n",
    "        self.du = du\n",
    "        Beep.Counter += 1\n",
    "    \n",
    "    # run() 메서드 구현   \n",
    "    def run(self):\n",
    "        for i in range(3):\n",
    "            print(threading.currentThread().getName())\n",
    "            fr = self.fr\n",
    "            du = self.du\n",
    "            winsound.Beep(fr, du)\n",
    "            time.sleep(1)\n",
    "            \n",
    "# 메인 스레드 코드 작성\n",
    "if __name__ == \"__main__\":\n",
    "    thread = Beep(\"비프스레드\")\n",
    "    thread.start() # 런메서드 자동 호출\n",
    "    print(threading.currentThread().getName())\n",
    "    for i in range(3):\n",
    "        print(\"삐 ~\")\n",
    "        time.sleep(2)\n",
    "\n",
    "# 위와 같이 두 개의 스레드로 병렬성과 동시성을 이용하여\n",
    "# 삐~~ 라는 문자열 출력과 비프음을 동시에 출력을 할 수 있음을 알수 있음.\n",
    "\n",
    "    # thread.start()\n",
    "    # RuntimeError: threads can only be started once\n",
    "    \n",
    "# 스레드는 재사용이 안된다.\n",
    "# 오직 한번만 실행된다.\n",
    "\n",
    "# 재사용하고자 한다면 다시 스레드 인스턴스를 생성하여\n",
    "# start() 호출해야한다.(중요)"
   ]
  }
 ],
 "metadata": {
  "kernelspec": {
   "display_name": "Python 3",
   "language": "python",
   "name": "python3"
  },
  "language_info": {
   "codemirror_mode": {
    "name": "ipython",
    "version": 3
   },
   "file_extension": ".py",
   "mimetype": "text/x-python",
   "name": "python",
   "nbconvert_exporter": "python",
   "pygments_lexer": "ipython3",
   "version": "3.8.8"
  }
 },
 "nbformat": 4,
 "nbformat_minor": 5
}
