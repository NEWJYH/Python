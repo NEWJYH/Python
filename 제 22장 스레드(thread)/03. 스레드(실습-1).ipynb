{
 "cells": [
  {
   "cell_type": "code",
   "execution_count": null,
   "id": "bf4311c3",
   "metadata": {},
   "outputs": [],
   "source": [
    "# thread\n",
    "# 스레드 실습 -1 \n",
    "\n",
    "# 프로세스 : 하나의 응용 어플리케이션 프로그램이 메모리에 로딩이 되어 \n",
    "#           CPU에 의해 실행된 상태\n",
    "\n",
    "# 스레드 : 하나의 프로세스 내에서 작업 단위를 의미\n",
    "#         1~n개까지 만들수가 있다.\n",
    "\n",
    "# 하나의 코어는 하나의 스레드를 도맡아서 처리한다.\n",
    "# 코어가 많으면 많을수록 pc의 처리능력이 좋다.\n",
    "\n",
    "# 메인스레드 : 파이썬 인터프리터가 제일 먼저 시작하는 부분을 메인 스레드라고 칭한다.\n",
    "#            메인스레드는 여러 개의 서브(작업)스레드를 만들어서\n",
    "#            실행시킬 수가 있다.\n",
    "#            특정 스레드가 또 다른 스레드를 만들어서 실행하는 것도 가능하다.\n",
    "#            서브(작업)스레드를 만들어서 병렬로 코드를 실행시킬수 있다.\n",
    "#            이것이 바로 스레드를 이용한 멀티 태스킹을 의미하는 것이다.\n",
    "#            메인스레드가 작업스레드보다 먼저 종료가 되도라도,\n",
    "#            작업스레드가 계속 실행중이라면 프로세스는 종료되지 않는다."
   ]
  },
  {
   "cell_type": "code",
   "execution_count": 4,
   "id": "cbf0a7e0",
   "metadata": {},
   "outputs": [
    {
     "name": "stdout",
     "output_type": "stream",
     "text": [
      "메인 스레드 시작\n",
      "작업 스레드 시작 : 스레드 0\n",
      "작업 스레드 시작 : 스레드 1\n",
      "작업 스레드 시작 : 스레드 2\n",
      "작업 스레드 시작 : 스레드 3\n",
      "작업 스레드 시작 : 스레드 4\n",
      "메인 스레드 종료\n",
      "작업 스레드 종료 : 스레드 4작업 스레드 종료 : 스레드 2작업 스레드 종료 : 스레드 3작업 스레드 종료 : 스레드 1작업 스레드 종료 : 스레드 0\n",
      "\n",
      "\n",
      "\n",
      "\n"
     ]
    }
   ],
   "source": [
    "import threading\n",
    "import time\n",
    "\n",
    "# 스레드 클래스 정의\n",
    "# 스레드가 되기 위해서는 threading.Thread 클래스를 \n",
    "# 반드시 상속 받아야 한다.\n",
    "class Worker(threading.Thread):\n",
    "    Counter = 0\n",
    "    # 생성자\n",
    "    def __init__(self, name):\n",
    "        super().__init__() # 조상 클래스 생성자 호출\n",
    "        self.name = name # 스레드 이름\n",
    "        Worker.Counter += 1\n",
    "    \n",
    "    # CPU 스케쥴러에 따라서 특정 스레드가 먼저 시작하였다 하더라도\n",
    "    # CPU 스케쥴러에 따라서 종료하는 스레드의 순서가 얼마든지 바꿀수 있다.\n",
    "    def run(self):\n",
    "        print(f\"작업 스레드 시작 : {threading.currentThread().getName()}\")\n",
    "        time.sleep(3) # 3초간 일시정지\n",
    "        print(f\"작업 스레드 종료 : {threading.currentThread().getName()}\")\n",
    "    \n",
    "if __name__ == \"__main__\":\n",
    "    print(\"메인 스레드 시작\")\n",
    "    \n",
    "    # 5개의 스레드가 생성되고 시작된다.\n",
    "    for i in range(5):\n",
    "        name = f\"스레드 {i}\"\n",
    "        t = Worker(name) # 작업 스레드 생성\n",
    "        t.start() # 작업 스레드에 구현되어 있는 run()메소드를 자동 호출함\n",
    "            \n",
    "    print(\"메인 스레드 종료\")"
   ]
  },
  {
   "cell_type": "code",
   "execution_count": 9,
   "id": "ef974c37",
   "metadata": {},
   "outputs": [
    {
     "name": "stdout",
     "output_type": "stream",
     "text": [
      "메인 스레드 시작\n",
      "작업 스레드 시작 : 1\n",
      "작업 스레드 시작 : 2\n",
      "메인 스레드 종료\n",
      "작업 스레드 종료 : 1\n",
      "작업 스레드 종료 : 2\n"
     ]
    }
   ],
   "source": [
    "# 스레드 실습 -2\n",
    "# join() 메서드 : 모든 서브(작업)스레드가 작업을 마칠 떄 까지\n",
    "#                메인스레드가 기다리라는 것을 의미\n",
    "\n",
    "# 보통 데이터를 여러 스레드를 통해서 병렬로 처리한 후 그값들을 다시\n",
    "# 모아서 순차적으로 처리해야할 필요성이 있을 때 분할한 데이터가\n",
    "# 모든 스레드에서 처리될 때 까지 기다렸다가\n",
    "# 메인 스레드가 다시 추후 작업을 하는 경우에 통상적으로 많이 사용된다.\n",
    "\n",
    "import threading\n",
    "import time\n",
    "\n",
    "# 스레드 클래스 정의\n",
    "# 스레드가 되기 위해서는 threading.Thread 클래스를 \n",
    "# 반드시 상속 받아야 한다.\n",
    "class Worker(threading.Thread):\n",
    "    Counter = 0\n",
    "    # 생성자\n",
    "    def __init__(self, name):\n",
    "        super().__init__() # 조상 클래스 생성자 호출\n",
    "        self.name = name # 스레드 이름\n",
    "        Worker.Counter += 1\n",
    "    \n",
    "    # CPU 스케쥴러에 따라서 특정 스레드가 먼저 시작하였다 하더라도\n",
    "    # CPU 스케쥴러에 따라서 종료하는 스레드의 순서가 얼마든지 바꿀수 있다.\n",
    "    def run(self):\n",
    "        print(f\"작업 스레드 시작 : {threading.currentThread().getName()}\")\n",
    "        time.sleep(5) # 5초간 일시정지\n",
    "        print(f\"작업 스레드 종료 : {threading.currentThread().getName()}\")\n",
    "    \n",
    "if __name__ == \"__main__\":\n",
    "    print(\"메인 스레드 시작\")\n",
    "    # 2개의 스레드가 생성\n",
    "    t1 = Worker(\"1\") # 작업 스레드를 생성\n",
    "    t1.start()       # run() 메서드를 자동 호출\n",
    "    t2 = Worker(\"2\") # 작업 스레드를 생성\n",
    "    t2.start()       # run() 메서드 자동 호출\n",
    "            \n",
    "    print(\"메인 스레드 종료\")"
   ]
  },
  {
   "cell_type": "code",
   "execution_count": 10,
   "id": "52dea435",
   "metadata": {},
   "outputs": [
    {
     "name": "stdout",
     "output_type": "stream",
     "text": [
      "메인 스레드 시작\n",
      "작업 스레드 시작 : 1\n",
      "작업 스레드 시작 : 2\n",
      "작업 스레드 종료 : 1작업 스레드 종료 : 2\n",
      "\n",
      "메인 스레드 종료\n"
     ]
    }
   ],
   "source": [
    "if __name__ == \"__main__\":\n",
    "    print(\"메인 스레드 시작\")\n",
    "    # 2개의 스레드가 생성\n",
    "    t1 = Worker(\"1\") # 작업 스레드를 생성\n",
    "    t1.start()       # run() 메서드를 호출\n",
    "    t2 = Worker(\"2\") # 작업 스레드를 생성\n",
    "    t2.start()       # run() 메서드 호출\n",
    "    \n",
    "    # 작업스레드가 join()를 호출하는 지점에서 메인스레드가 기다린다.\n",
    "    t1.join() # t1스레드가 종료될 때까지 기다려라는 의미\n",
    "    t2.join() # t2스레드가 종료될 때까지 기다려라는 의미\n",
    "    print(\"메인 스레드 종료\")"
   ]
  }
 ],
 "metadata": {
  "kernelspec": {
   "display_name": "Python 3",
   "language": "python",
   "name": "python3"
  },
  "language_info": {
   "codemirror_mode": {
    "name": "ipython",
    "version": 3
   },
   "file_extension": ".py",
   "mimetype": "text/x-python",
   "name": "python",
   "nbconvert_exporter": "python",
   "pygments_lexer": "ipython3",
   "version": "3.8.8"
  }
 },
 "nbformat": 4,
 "nbformat_minor": 5
}
