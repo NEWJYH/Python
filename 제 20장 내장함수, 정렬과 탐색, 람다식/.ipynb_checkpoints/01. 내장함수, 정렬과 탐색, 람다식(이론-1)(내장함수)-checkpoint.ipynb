{
 "cells": [
  {
   "cell_type": "markdown",
   "id": "d027dc8e",
   "metadata": {},
   "source": [
    "1. 내장 함수"
   ]
  },
  {
   "cell_type": "markdown",
   "id": "56676ba9",
   "metadata": {},
   "source": [
    "1) 내장 함수\n",
    "    - 파이썬 인터프리터에는 항상 사용할 수 있는 많은 함수가 준비되어 있다.\n",
    "      이러한 함수를 내장 함수라고 한다. 예를 들어, print() 함수는 지정된\n",
    "      객체를 표준 출력 장치(화면)에 출력한다. \n",
    "      이들은 우리가 프로그램을 작성하는데 든든한 도구가 되어줄 것이다.\n",
    "      이들 함수들은 이용하면 프로그램을 훨씬 쉽게 작성할 수 있다.\n",
    "      \n",
    "    - Python 3.8에서는 69개의 내장 함수가 있다.\n",
    "      내장 함수들은 간단한 설명과 함께 알파벳 순서로\n",
    "      https://docs.python.org/3/library/functions.html\n",
    "      에 나열되어 있다. 이들 함수들은 import 문장으로 포함시킬 필요가 없다.\n",
    "      언제든지 사용할 수 있는 것이다.\n",
    "      그리고 대부분의 객체에 대해서도 사용이 가능하다.\n",
    "      우리는 가장 많이 사용되는 함수만을 살펴 볼 것이다.\n",
    "      하지만 학습하지 않은 함수라고 하더라도 함수의 이름만 보면 어떤 기능을\n",
    "      하는지 추측할 수 있을 것이다."
   ]
  },
  {
   "cell_type": "markdown",
   "id": "6b655942",
   "metadata": {},
   "source": [
    "1) 내장 함수\n",
    "    1. abs() 함수\n",
    "        :abs() 함수는 숫자의 절대값을 반환하는데 사용된다.\n",
    "         정수 및 부동 소수점 수를 포함하여 모든 수에 적용이 가능하다."
   ]
  },
  {
   "cell_type": "code",
   "execution_count": 3,
   "id": "ca5cfbf4",
   "metadata": {},
   "outputs": [
    {
     "name": "stdout",
     "output_type": "stream",
     "text": [
      "20\n"
     ]
    }
   ],
   "source": [
    "i = -20\n",
    "print(abs(i))"
   ]
  },
  {
   "cell_type": "markdown",
   "id": "97ab41aa",
   "metadata": {},
   "source": [
    "1) 내장 함수\n",
    "    2. all()\n",
    "        :all() 함수는 시퀸스(리스트나 딕셔너리 등)를 받아서,\n",
    "         시퀸스의 모든 항목이 참이면 True 반환한다.\n",
    "         그렇지 않으면 False를 반환한다.\n",
    "         시퀸스가 비어 있으면 True를 반환한다.\n",
    "         0이아닌 값은 참으로 간주되고 0은 거짓인 것으로 간주된다."
   ]
  },
  {
   "cell_type": "code",
   "execution_count": 5,
   "id": "e45cd0c4",
   "metadata": {},
   "outputs": [
    {
     "name": "stdout",
     "output_type": "stream",
     "text": [
      "True\n",
      "False\n"
     ]
    }
   ],
   "source": [
    "myList = [1,3,4,6] # 모든 값이 참이다.\n",
    "print(all(myList))\n",
    "myList = [1,3,4,0] # 하나의 값이 거짓이다.\n",
    "print(all(myList))"
   ]
  },
  {
   "cell_type": "markdown",
   "id": "2107767e",
   "metadata": {},
   "source": [
    "1) 내장 함수\n",
    "    3. any()\n",
    "        :any() 함수는 시퀸스 객체에 있는 한 개의 항목이라도 참인 경우 \n",
    "         참을 반환한다.\n",
    "         그렇지 않으면 거짓을 반환한다."
   ]
  },
  {
   "cell_type": "code",
   "execution_count": 7,
   "id": "762f8f7b",
   "metadata": {},
   "outputs": [
    {
     "name": "stdout",
     "output_type": "stream",
     "text": [
      "True\n",
      "False\n"
     ]
    }
   ],
   "source": [
    "mylist = [0,1,2,3]\n",
    "print(any(mylist))\n",
    "mylist = [0,0,0,0,0]\n",
    "print(any(mylist))"
   ]
  },
  {
   "cell_type": "markdown",
   "id": "3a6752b0",
   "metadata": {},
   "source": [
    "1) 내장 함수\n",
    "    4. bin()\n",
    "        :bin() 함수는 정수의 이진 표현을 반환하는데 사용된다.\n",
    "         결과는 항상 접두사 0b로 시작한다."
   ]
  },
  {
   "cell_type": "code",
   "execution_count": 10,
   "id": "54aaf086",
   "metadata": {},
   "outputs": [
    {
     "name": "stdout",
     "output_type": "stream",
     "text": [
      "0b1111\n"
     ]
    }
   ],
   "source": [
    "y = bin(15)\n",
    "print(y)"
   ]
  },
  {
   "cell_type": "markdown",
   "id": "94c58dc3",
   "metadata": {},
   "source": [
    "1) 내장 함수\n",
    "    5. eval() \n",
    "        :eval() 함수는 전달된 수식을 구문 분석하고 \n",
    "         프로그램 내에서 수식의 값을 계산한다.\n",
    "         eval() 함수는 파이썬 인터프리터 쉘에 정의된 전역 변수를 사용할 수 있다."
   ]
  },
  {
   "cell_type": "code",
   "execution_count": 14,
   "id": "0c479418",
   "metadata": {},
   "outputs": [
    {
     "name": "stdout",
     "output_type": "stream",
     "text": [
      "파이썬의 수식을 입력하시오7+8\n",
      "15\n",
      "15\n",
      "15\n"
     ]
    },
    {
     "data": {
      "text/plain": [
       "int"
      ]
     },
     "execution_count": 14,
     "metadata": {},
     "output_type": "execute_result"
    }
   ],
   "source": [
    "exp = input(\"파이썬의 수식을 입력하시오\")\n",
    "print(eval(exp))\n",
    "x = 10\n",
    "y = 5\n",
    "print(eval(\"x+y\")) # 문자열로 수식을 입력할시에 계산해서 결과를 리턴해준다.\n",
    "z = eval(\"x+y\")\n",
    "print(z)\n",
    "type(z)"
   ]
  },
  {
   "cell_type": "markdown",
   "id": "4225d0d4",
   "metadata": {},
   "source": [
    "1) 내장 함수\n",
    "    6. sum() \n",
    "        :sum() 함수는 리스트에 존재하는 항목들을 전부 더하여 합계를 반환한다."
   ]
  },
  {
   "cell_type": "code",
   "execution_count": 17,
   "id": "b1834187",
   "metadata": {},
   "outputs": [
    {
     "name": "stdout",
     "output_type": "stream",
     "text": [
      "21\n",
      "6\n"
     ]
    }
   ],
   "source": [
    "print(sum([1,2,3,4,5,6]))\n",
    "print(sum((1,2,3)))\n",
    "# 시퀸스형태의 숫자자료형"
   ]
  },
  {
   "cell_type": "markdown",
   "id": "287235b5",
   "metadata": {},
   "source": [
    "1) 내장 함수\n",
    "    7. len() \n",
    "        :len() 함수는 객체들의 길이를 계산하여 반환하는 함수이다.\n",
    "         예를 들어서 문자열의 길이를 계산하는데 len()을 사용할 수 있다.\n",
    "         물론 공백도 길이에 포함된다.\n",
    "         \n",
    "         리스트에 len()을 사용하면 리스트 안에 있는 항목의 개수를 반환한다.\n",
    "         딕셔너리나 튜플에서도 항목의 개수를 반환한다.\n",
    "         len()함수는 특히 반복문에서 편리하게 사용해왔다."
   ]
  },
  {
   "cell_type": "code",
   "execution_count": 19,
   "id": "4df67b56",
   "metadata": {},
   "outputs": [
    {
     "name": "stdout",
     "output_type": "stream",
     "text": [
      "27\n",
      "6\n"
     ]
    }
   ],
   "source": [
    "print(len(\"All's well that ends well. \"))\n",
    "\n",
    "mylist = [0,1,2,3,4,5]\n",
    "print(len(mylist))"
   ]
  },
  {
   "cell_type": "markdown",
   "id": "08d1ffc9",
   "metadata": {},
   "source": [
    "1) 내장 함수\n",
    "    8. list() \n",
    "        :list() 함수는 리스트를 생성하는 함수이다."
   ]
  },
  {
   "cell_type": "code",
   "execution_count": 21,
   "id": "d22f1b21",
   "metadata": {},
   "outputs": [
    {
     "name": "stdout",
     "output_type": "stream",
     "text": [
      "['a', 'b', 'c', 'd', 'e', 'f', 'g', 'h', 'i', 'j', 'k', 'l', 'm', 'n', 'o', 'p', 'q', 'r', 's', 't', 'u', 'v', 'w', 'x', 'y', 'z']\n",
      "[1, 2, 3, 4, 5, 6]\n"
     ]
    }
   ],
   "source": [
    "s = \"abcdefghijklmnopqrstuvwxyz\"\n",
    "print(list(s))\n",
    "t = (1,2,3,4,5,6)\n",
    "print(list(t))"
   ]
  },
  {
   "cell_type": "markdown",
   "id": "c1954c7a",
   "metadata": {},
   "source": [
    "1) 내장 함수\n",
    "    9. map() \n",
    "        :map() 함수는 반복가능한 객체(리스트, 튜플 등)의 각 항목에\n",
    "         주어진 함수를 적용한 후 적용 결과를 반환한다."
   ]
  },
  {
   "cell_type": "code",
   "execution_count": 22,
   "id": "cdf3a2e4",
   "metadata": {},
   "outputs": [
    {
     "name": "stdout",
     "output_type": "stream",
     "text": [
      "[1, 4, 9, 16, 25]\n"
     ]
    }
   ],
   "source": [
    "def square(n):\n",
    "    return n*n\n",
    "\n",
    "mylist = [1,2,3,4,5]\n",
    "# 결과            적용함수  리터러블객체\n",
    "result = list(map(square, mylist))\n",
    "print(result)"
   ]
  }
 ],
 "metadata": {
  "kernelspec": {
   "display_name": "Python 3",
   "language": "python",
   "name": "python3"
  },
  "language_info": {
   "codemirror_mode": {
    "name": "ipython",
    "version": 3
   },
   "file_extension": ".py",
   "mimetype": "text/x-python",
   "name": "python",
   "nbconvert_exporter": "python",
   "pygments_lexer": "ipython3",
   "version": "3.8.8"
  }
 },
 "nbformat": 4,
 "nbformat_minor": 5
}
