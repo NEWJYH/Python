{
 "cells": [
  {
   "cell_type": "markdown",
   "id": "341bd63d",
   "metadata": {},
   "source": [
    "2. 정렬과 탐색"
   ]
  },
  {
   "cell_type": "markdown",
   "id": "d66501ea",
   "metadata": {},
   "source": [
    "1) 정렬과 탐색\n",
    "    - 파이썬 리스트는 sort()라는 메소드를 가지고 이 메소드는 \n",
    "      리스트를 정렬된 상태로 변경한다.\n",
    "      또 sorted()라는 내장 함수는 반복 가능한 객체로부터 \n",
    "      정렬된 리스트를 생성한다.\n",
    "      sort()는 메소드이고 sorted()는 내장 함수이다.\n",
    "      여기서 파이썬에서 정렬에 대하여 알아야 할 사항들을 요약해본다.\n",
    "      \n",
    "    - 간단하게 정렬을 실행하려면 아주 쉽다.\n",
    "      다음과 같이 sorted()를 호출하면 된다.\n",
    "      \n",
    "    - sorted()는 기존 리스트를 변경하는 것이 아니라\n",
    "      정렬된 새로운 리스트를 반환한다.\n",
    "      \n",
    "      기존의 리스트는 전혀 변경되지 않는다.\n",
    "      sorted()는 \"정렬된 새로운 리스트\"로 기억하자."
   ]
  },
  {
   "cell_type": "code",
   "execution_count": 4,
   "id": "b9d3a639",
   "metadata": {},
   "outputs": [
    {
     "name": "stdout",
     "output_type": "stream",
     "text": [
      "[4, 2, 3, 5, 1]\n",
      "[5, 4, 3, 2, 1]\n"
     ]
    }
   ],
   "source": [
    "mylist = [4, 2, 3, 5, 1]\n",
    "sortedmylist = sorted(mylist, reverse=False)\n",
    "\n",
    "print(mylist)\n",
    "print(sortedmylist)"
   ]
  },
  {
   "cell_type": "markdown",
   "id": "8006ba83",
   "metadata": {},
   "source": [
    "1) 정렬과 탐색\n",
    "    - 리스트의 메소드인 sort()를 사용하여도 정렬이 된다.\n",
    "      이 경우에는 리스트 자체를 변경해버린다.\n",
    "      \n",
    "      일반적으로 이것보다는 내장 함수인 sorted()가 더 편리하다.\n",
    "      sort()메소드는 리턴값이 None이다.\n",
    "      물론 새로운 리스트를 만들어서 반환하지 않다보니\n",
    "      sorted()에 비해 속도는 빠른 편이다.\n",
    "      하지만 원본값을 바꿔버리는 것에 주의하자."
   ]
  },
  {
   "cell_type": "code",
   "execution_count": 7,
   "id": "48f6165a",
   "metadata": {},
   "outputs": [
    {
     "name": "stdout",
     "output_type": "stream",
     "text": [
      "[1, 2, 3, 4, 5]\n"
     ]
    }
   ],
   "source": [
    "mylist = [4,2,5,3,1]\n",
    "mylist.sort()\n",
    "print(mylist)"
   ]
  },
  {
   "cell_type": "markdown",
   "id": "8d73ece7",
   "metadata": {},
   "source": [
    "1) 정렬과 탐색\n",
    "    - 또한 sort()는 리스트만을 위한 메소드이지만 \n",
    "      sorted()함수는 어떤 반복가능한 객체\n",
    "      (리스트, 문자열, 튜플, 딕셔너리 등) 도 받을 수 있다.\n",
    "      예를 들어서 다음과 같은 딕셔너리 객체도 받을 수 있다."
   ]
  },
  {
   "cell_type": "code",
   "execution_count": 16,
   "id": "ea451f92",
   "metadata": {},
   "outputs": [
    {
     "name": "stdout",
     "output_type": "stream",
     "text": [
      "[(1, 'A'), (2, 'B'), (3, 'D'), (4, 'E'), (5, 'B')]\n"
     ]
    }
   ],
   "source": [
    "mydic = {3:\"D\",2:\"B\",5:\"B\",4:\"E\",1:\"A\"}\n",
    "print(sorted(mydic.items()))"
   ]
  },
  {
   "cell_type": "markdown",
   "id": "5fe6c107",
   "metadata": {},
   "source": [
    "2) key 매개변수\n",
    "    - 정렬을 하다 보면 정렬에 사용되는 키를 개발자가 변경해 주어야 하는\n",
    "      경우가 종종 있다. 파이썬은 2.4부터는 개발자가 key 매개변수로\n",
    "      정렬을 하기 전에 각 요소에 대하여 호출되는 함수를 지정할 수 있다."
   ]
  },
  {
   "cell_type": "code",
   "execution_count": 25,
   "id": "3f3a373a",
   "metadata": {},
   "outputs": [
    {
     "name": "stdout",
     "output_type": "stream",
     "text": [
      "['but', 'health', 'health,', 'know', 'not', 'of', 'only', 'sick', 'The', 'the', 'their']\n"
     ]
    }
   ],
   "source": [
    "text = '''\\\n",
    "The health know not of their health, but only the sick'''\n",
    "print(sorted(text.split(),key=str.lower))"
   ]
  },
  {
   "cell_type": "markdown",
   "id": "8547ba7d",
   "metadata": {},
   "source": [
    "2) key 매개변수\n",
    "    - 위의 문장에서는 문자열을 받아서 split()로 \n",
    "      단어들의 리스트로 변환한 후에 \n",
    "      key를 문자열 객체의 lower() 함수로 지정하였다.\n",
    "      \n",
    "      따라서 단어들을 비교하기 전에, \n",
    "      lower() 함수가 호출되어서 단어들을 소문자로 변경하게 된다."
   ]
  },
  {
   "cell_type": "markdown",
   "id": "c67ab2ed",
   "metadata": {},
   "source": [
    "2) key 매개변수\n",
    "    - key 매개변수가 많이 사용되는 경우는 객체의 데이터 중에서 \n",
    "      특정한 데이터를 기준으로 정렬하는 경우이다.\n",
    "      예를 들어서 학생들을 다음과 같이 튜플의 리스트로 나타낸 후에\n",
    "      학생들의 학번을 기준으로 정렬하는 코드를 작성하는 경우를 살펴보자."
   ]
  },
  {
   "cell_type": "code",
   "execution_count": 33,
   "id": "26885251",
   "metadata": {},
   "outputs": [],
   "source": [
    "students=[\n",
    "    (\"홍길동\",3.9, 20160303),\n",
    "    (\"김철수\",3.0, 20160302),\n",
    "    (\"최자영\",4.5, 20160301)\n",
    "]"
   ]
  },
  {
   "cell_type": "code",
   "execution_count": 36,
   "id": "99444fc1",
   "metadata": {},
   "outputs": [
    {
     "name": "stdout",
     "output_type": "stream",
     "text": [
      "[('최자영', 4.5, 20160301), ('김철수', 3.0, 20160302), ('홍길동', 3.9, 20160303)]\n"
     ]
    }
   ],
   "source": [
    "print(sorted(students, key = lambda student :student[2]))\n",
    "# 정렬될 객체 studnets \n",
    "# 시퀀스 객체이기 때문에 각각 요소들을 key로 잡음\n",
    "# 그 키를 student라고 했을때 student[2] 즉 학번을 기준으로 한다."
   ]
  },
  {
   "cell_type": "markdown",
   "id": "e630edfd",
   "metadata": {},
   "source": [
    "2) key 매개변수\n",
    "    - lambda는 정렬에 필요한 함수를 나타낸 것으로 student 요소를 받아서\n",
    "      student[2]를 반환한다.\n",
    "      즉, 정렬의 기준이 학생들의 학번이 되는 것이다.\n",
    "      람다식은 다음 절에서 자세히 설명한다."
   ]
  },
  {
   "cell_type": "markdown",
   "id": "9342aef2",
   "metadata": {},
   "source": [
    "3) 오름차순 정렬과 내림차순 정렬\n",
    "    - list.sort()와 내장함수 sorted()는 \n",
    "      모두 reverse 매개변수를 받는다.\n",
    "      \n",
    "      reverse 변수는 부울형으로 True이면 내림차순이 된다.\n",
    "      앞선 예제에서 내림차순으로 정렬하려면 다음과 같이 한다."
   ]
  },
  {
   "cell_type": "code",
   "execution_count": 37,
   "id": "10d75d73",
   "metadata": {},
   "outputs": [
    {
     "name": "stdout",
     "output_type": "stream",
     "text": [
      "[('홍길동', 3.9, 20160303), ('김철수', 3.0, 20160302), ('최자영', 4.5, 20160301)]\n"
     ]
    }
   ],
   "source": [
    "print(sorted(students, \n",
    "             key = lambda student :student[2],\n",
    "             reverse = True))"
   ]
  },
  {
   "cell_type": "markdown",
   "id": "f9e12d1a",
   "metadata": {},
   "source": [
    "4) 정렬의 안정성\n",
    "    - 파이썬 버전 2.2부터 파이썬에서의 정렬은 안정성이 보장된다.\n",
    "      안정성이란 동일한 키를 가지고 있는 레코드가 여러 개 있을 때\n",
    "      정렬 후에도 레코드들의 원래 순서가 유지되는 것을 말한다."
   ]
  },
  {
   "cell_type": "code",
   "execution_count": 39,
   "id": "805a1fe3",
   "metadata": {
    "scrolled": false
   },
   "outputs": [
    {
     "name": "stdout",
     "output_type": "stream",
     "text": [
      "[(1, 100), (1, 200), (2, 300), (2, 400)]\n"
     ]
    }
   ],
   "source": [
    "data = [(1, 100), (1, 200), (2, 300), (2, 400)]\n",
    "print(sorted(data, key=lambda n:n[0]))"
   ]
  },
  {
   "cell_type": "markdown",
   "id": "7e65d4de",
   "metadata": {},
   "source": [
    "4) 정렬의 안정성\n",
    "    - 위의 코드에서 (1, 100) 레코드와 (1, 200) 레코드가\n",
    "      정렬 후에도 위치가 변경되지 않았다.\n",
    "      \n",
    "      이것은 사소한 것 같지만 중요할 수도 있다.\n",
    "      \n",
    "      예를 들어서 대학교에서 신입생을 선발할 때, \n",
    "      성적이 같으면 선착순으로 선발한다고 하면\n",
    "      반드시 정렬의 안정성이 보장되어야 한다."
   ]
  }
 ],
 "metadata": {
  "kernelspec": {
   "display_name": "Python 3",
   "language": "python",
   "name": "python3"
  },
  "language_info": {
   "codemirror_mode": {
    "name": "ipython",
    "version": 3
   },
   "file_extension": ".py",
   "mimetype": "text/x-python",
   "name": "python",
   "nbconvert_exporter": "python",
   "pygments_lexer": "ipython3",
   "version": "3.8.8"
  }
 },
 "nbformat": 4,
 "nbformat_minor": 5
}
