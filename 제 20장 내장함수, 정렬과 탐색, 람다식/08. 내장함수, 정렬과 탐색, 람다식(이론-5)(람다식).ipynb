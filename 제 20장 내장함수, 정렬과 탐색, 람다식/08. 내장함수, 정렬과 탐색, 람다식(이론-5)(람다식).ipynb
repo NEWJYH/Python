{
 "cells": [
  {
   "cell_type": "markdown",
   "id": "9a1227bf",
   "metadata": {},
   "source": [
    "3. 람다식"
   ]
  },
  {
   "cell_type": "markdown",
   "id": "48021f72",
   "metadata": {},
   "source": [
    "1) 람다식이란?\n",
    "    - 람다식 또는 람다 함수는 무명 함수,\n",
    "      즉 이름이 없는 함수를 만드는 방법이다.\n",
    "      \n",
    "      람다식은 이름이 없고 몸체만 있는 함수이다.\n",
    "      람다식은 함수이지만 def 키워드로 작성되지 않는다.\n",
    "      파이썬에서 람다식은 lambda 키워드로 만들어진다.\n",
    "      딱 한번 사용되는 함수를 만드는데 사용된다.\n",
    "      \n",
    "    - 람다식은 여러 개의 매개 변수를 가질 수 있으나\n",
    "      반환값은 하나만 있어야 한다.\n",
    "      또 자신만의 이름공간을 가지고 있다."
   ]
  },
  {
   "cell_type": "code",
   "execution_count": null,
   "id": "c3569152",
   "metadata": {},
   "outputs": [],
   "source": [
    "lambda 매개 변수들 : 수식\n",
    "\n",
    "lambda x, y : x+y"
   ]
  },
  {
   "cell_type": "markdown",
   "id": "6ac5ea03",
   "metadata": {},
   "source": [
    "1) 람다식이란?\n",
    "    - 무명 함수를 이용하여 2개의 정수를 합하는 함수를 작성해보면 \n",
    "      다음과 같다."
   ]
  },
  {
   "cell_type": "code",
   "execution_count": 1,
   "id": "29106984",
   "metadata": {},
   "outputs": [
    {
     "name": "stdout",
     "output_type": "stream",
     "text": [
      "정수의 합 : 30\n",
      "정수의 합 : 40\n"
     ]
    }
   ],
   "source": [
    "f = lambda x,y : x+y\n",
    "\n",
    "print(f\"정수의 합 : {f(10, 20)}\")\n",
    "print(f\"정수의 합 : {f(20, 20)}\")"
   ]
  },
  {
   "cell_type": "markdown",
   "id": "15c79170",
   "metadata": {},
   "source": [
    "1) 람다식이란?\n",
    "    - 만약 앞에 코드를 일반적인 함수를 이용하여 작성하였으면\n",
    "      다음과 같이 되었을 것이다."
   ]
  },
  {
   "cell_type": "code",
   "execution_count": 2,
   "id": "2d7c1c4b",
   "metadata": {},
   "outputs": [
    {
     "name": "stdout",
     "output_type": "stream",
     "text": [
      "정수의 합 : 30\n",
      "정수의 합 : 40\n"
     ]
    }
   ],
   "source": [
    "def get_sum(x,y):\n",
    "    return x + y\n",
    "\n",
    "print(f\"정수의 합 : {get_sum(10, 20)}\")\n",
    "print(f\"정수의 합 : {get_sum(20, 20)}\")"
   ]
  },
  {
   "cell_type": "markdown",
   "id": "b7c5b6fd",
   "metadata": {},
   "source": [
    "1) 람다식이란?\n",
    "    - get_sum()과 람다 함수는 동일한 작업을 하며\n",
    "      동일한 방식으로 사용할 수 있다.\n",
    "      람다 함수에서 return 키워드를 사용할 필요가 없다.\n",
    "      람다 함수에서는 항상 반환되는 수식만 써주면 된다.\n",
    "      함수를 필요로 하는 곳에 람다 함수를 놓을 수 있으며\n",
    "      람다 함수를 반드시 변수에 할당할 필요도 없다."
   ]
  },
  {
   "cell_type": "markdown",
   "id": "607c7111",
   "metadata": {},
   "source": [
    "2) 람다식의 역사와 용도\n",
    "    - 람다식은 Alonzo Church가 발명한 계산 모델인 \n",
    "      람다 수학(lambda calculus)에 뿌리를 두고 있다.\n",
    "      람다 수학에서 유래한 프로그래밍 언어를 함수형 언어라고 한다.\n",
    "      람다 수학도 완전한 튜링 기계의 일종이지만, \n",
    "      람다 수학은 상태를 유지하지 않는다.\n",
    "      파이썬은 본질적으로 함수형 언어는 아니지만 \n",
    "      초기에 일부 함수형 언어 개념을 채택했다.\n",
    "      람다식은 주로 filter() map(), reduce() 함수와 함께 사용된다.\n",
    "      람다식은 Lisp 프로그래머의 요구로 인해 파이썬에 추가되었다.\n",
    "      1994년에 map(), filter(), reduce(), \n",
    "      lambda 키워드가 언어에 추가 되었다.\n",
    "      \n",
    "      \n",
    "      수학 또는 이론 전산학에서, 튜링 기계(영어:Turing machine)는\n",
    "      긴 테이프에 쓰여 있는 여러가지 기호들을 일정한 규칙에 따라 바꾸는\n",
    "      기계이다. 상당히 간단해 보이지만, 이 기계는 적당한 규칙과\n",
    "      기호를 입력한다면 일반적인 컴퓨터의 알고리즘을 수행할 수 있으며\n",
    "      컴퓨터 CPU의기능을 설명하는데 상당히 유용하다."
   ]
  },
  {
   "cell_type": "markdown",
   "id": "8bcf0983",
   "metadata": {},
   "source": [
    "3) 람다식과 콜백함수\n",
    "    - 그렇다면 람다 함수는 어디에 사용되는 것일까?\n",
    "      예를 들어서 GUI프로그램에서 이벤트 처리하는 \n",
    "      콜백 함수(callbackhandler)에서 많이 사용된다.\n",
    "      이벤트가 생성되면 호출되는 함수를 전달할 떄 람다식을 사용한다.\n",
    "      콜백 함수를 간단하게 람다식으로 구현하여서 포함시키는 것이다.\n",
    "      한참 앞에서 배웠던 tkinter 프로그램에서 람다식을 사용해보자."
   ]
  },
  {
   "cell_type": "code",
   "execution_count": 2,
   "id": "1f3f846f",
   "metadata": {},
   "outputs": [],
   "source": [
    "from tkinter import *\n",
    "\n",
    "\n",
    "window = Tk()\n",
    "\n",
    "\n",
    "def exit():\n",
    "    window.quit()\n",
    "    window.destroy()\n",
    "\n",
    "    \n",
    "bt1 = Button(window,\n",
    "             text=\"1 출력\",\n",
    "             command =lambda:print(1 ,\"버튼이 클릭\"))\n",
    "bt1.pack(side=LEFT)\n",
    "\n",
    "bt2 = Button(window,\n",
    "             text=\"2 출력\",\n",
    "             command =lambda:print(2 ,\"버튼이 클릭\"))\n",
    "bt2.pack(side=LEFT)\n",
    "\n",
    "quitBtn = Button(window,\n",
    "                text=\"QUIT\",\n",
    "                fg=\"red\",\n",
    "                bg=\"black\",\n",
    "                command=lambda:exit())\n",
    "quitBtn.pack(side=LEFT)\n",
    "\n",
    "window.mainloop()"
   ]
  },
  {
   "cell_type": "markdown",
   "id": "94de2d23",
   "metadata": {},
   "source": [
    "4) map() 함수와 람다식\n",
    "    - 람다식은 내장 함수와도 함께 사용된다.\n",
    "      리스트에 있는 값에 2를 곱하려고 한다.\n",
    "      이럴 때 람다식은 효과적으로 사용할 수 있다.\n",
    "      내장 함수 map()이 사용된다.\n",
    "      \n",
    "    - map()은 람다 함수를 리스트의 요소에 차례대로 적용한다.\n",
    "      즉, 인덱스가 0인 요소에 적용한 다음,\n",
    "      차례대로 다음 요소에 적용된다."
   ]
  },
  {
   "cell_type": "code",
   "execution_count": 4,
   "id": "04489c9c",
   "metadata": {},
   "outputs": [
    {
     "name": "stdout",
     "output_type": "stream",
     "text": [
      "[2, 4, 6, 8, 10]\n"
     ]
    }
   ],
   "source": [
    "list_a = [1, 2, 3, 4, 5]\n",
    "f = lambda x : x*2\n",
    "result = map(f,list_a)\n",
    "print(list(result))"
   ]
  },
  {
   "cell_type": "markdown",
   "id": "e97af4b2",
   "metadata": {},
   "source": [
    "5) filter() 함수와 람다식\n",
    "    - 내장 함수 filter()는 어떤 조건을 주어서\n",
    "      리스트 요소들을 필터링할 때, 사용된다."
   ]
  },
  {
   "cell_type": "code",
   "execution_count": 12,
   "id": "676c188f",
   "metadata": {},
   "outputs": [
    {
     "name": "stdout",
     "output_type": "stream",
     "text": [
      "[2, 4, 6]\n"
     ]
    }
   ],
   "source": [
    "list_a = [1,2,3,4,5,6]\n",
    "result = filter(lambda x : x % 2 == 0, list_a)\n",
    "print(list(result))"
   ]
  },
  {
   "cell_type": "markdown",
   "id": "461feee1",
   "metadata": {},
   "source": [
    "5) filter() 함수와 람다식\n",
    "    - 또 정렬을 할 때, 정렬의 기준이 되는 키를 지칭할 때도\n",
    "      람다식이 많이 사용된다."
   ]
  },
  {
   "cell_type": "code",
   "execution_count": 13,
   "id": "ab723989",
   "metadata": {},
   "outputs": [
    {
     "name": "stdout",
     "output_type": "stream",
     "text": [
      "[(1, 200), (1, 100), (1, 300), (2, 100), (2, 200)]\n"
     ]
    }
   ],
   "source": [
    "data = [(1,200),(1,100),(1,300),(2,100),(2,200)]\n",
    "print(sorted(data,key=lambda element:element[0]))"
   ]
  },
  {
   "cell_type": "markdown",
   "id": "65ab15fc",
   "metadata": {},
   "source": [
    "6) reduce() 함수와 람다식\n",
    "    - reduce(func, seq) 함수는 func()함수를 시퀀스 seq에\n",
    "      연속적으로 적용하여 단일 값을 반환한다.\n",
    "      \n",
    "      [x,y,z]\n",
    "      reduce\n",
    "      f(f(x,y),z)\n",
    "      \n",
    "    - 리스트의 처음 2개의 요소에 func()이 적용된다.\n",
    "      결과 리스트는 다음과 같이 된다.\n",
    "      [func(s1,s2),s3,.....]\n",
    "      \n",
    "    - 이어서 func은 이전 결과값과 3번째 요소에 적용된다.\n",
    "      [func(func(s1,s2),s3),....]\n",
    "      \n",
    "    - 하나의 요소만 남을 때까지 이 과정을 되풀이 한다."
   ]
  },
  {
   "cell_type": "code",
   "execution_count": 14,
   "id": "fa397545",
   "metadata": {},
   "outputs": [
    {
     "name": "stdout",
     "output_type": "stream",
     "text": [
      "10\n"
     ]
    }
   ],
   "source": [
    "import functools\n",
    "result = functools.reduce(lambda x,y : x+y,[1,2,3,4])\n",
    "print(result)"
   ]
  }
 ],
 "metadata": {
  "kernelspec": {
   "display_name": "Python 3",
   "language": "python",
   "name": "python3"
  },
  "language_info": {
   "codemirror_mode": {
    "name": "ipython",
    "version": 3
   },
   "file_extension": ".py",
   "mimetype": "text/x-python",
   "name": "python",
   "nbconvert_exporter": "python",
   "pygments_lexer": "ipython3",
   "version": "3.8.8"
  }
 },
 "nbformat": 4,
 "nbformat_minor": 5
}
