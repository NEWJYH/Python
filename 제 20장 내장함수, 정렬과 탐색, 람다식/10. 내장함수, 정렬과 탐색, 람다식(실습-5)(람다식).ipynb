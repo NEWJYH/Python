{
 "cells": [
  {
   "cell_type": "code",
   "execution_count": 2,
   "id": "9821e4fe",
   "metadata": {},
   "outputs": [
    {
     "name": "stdout",
     "output_type": "stream",
     "text": [
      "[('1', 600000), ('2', 144000), ('3', 150000), ('4', 1800000)]\n"
     ]
    }
   ],
   "source": [
    "# lab3\n",
    "# lambda식을 이용한 문제 풀이\n",
    "\n",
    "# 1. 옷가게에서 주문을 받았다고 가정을 한다.\n",
    "\n",
    "# 주문번호    물품    수량    품목당 가격\n",
    "# 1          \"재킷\"  5        120,000원\n",
    "# 2          \"셔츠\"  6         24,000원\n",
    "# 3          \"바지\"  3         50,000원\n",
    "# 4          \"코트\"  6        300,000원\n",
    "\n",
    "# 위의 주문 내용을 튜플 리스트로 만들어서 주문 당 \n",
    "# 주문번호 및 총 주문 가격(수량 * 품목당 가격)\n",
    "# 람다식으로 만들어서 출력하는 프로그램을 작성하시오\n",
    "\n",
    "# 출력 결과\n",
    "#[(\"1\", 600000)(\"2\", 144000)(\"3\", 150000)(\"4\", 1800000)]\n",
    "\n",
    "# 풀이\n",
    "# 위의 데이터를 더블리스트로 작성함\n",
    "orders=[[\"1\",\"재킷\",5,120000],\n",
    "        [\"2\",\"셔츠\",6,24000],\n",
    "        [\"3\",\"바지\",3,50000],\n",
    "        [\"4\",\"코트\",6,300000]]\n",
    "\n",
    "# 람다식을 이용한 풀이\n",
    "result=list(map(lambda x : (x[0],x[2]*x[3]),orders))\n",
    "print(result)"
   ]
  },
  {
   "cell_type": "code",
   "execution_count": 5,
   "id": "07728202",
   "metadata": {},
   "outputs": [
    {
     "name": "stdout",
     "output_type": "stream",
     "text": [
      "[('과학', 82), ('국어', 88), ('수학', 90), ('영어', 99)]\n",
      "[('과학', 82), ('국어', 88), ('수학', 90), ('영어', 99)]\n"
     ]
    }
   ],
   "source": [
    "# 2. 람다식을 이용하여 튜플리스트를 정렬하는 프로그램을 작성하라.\n",
    "# 원래 리스트\n",
    "#[(\"국어\", 88),(\"수학\",90),(\"영어\",99),(\"과학\",82)]\n",
    "\n",
    "# 정렬된 리스트\n",
    "#[(\"과학\",82),(\"국어\", 88),(\"수학\",90),(\"영어\",99)]\n",
    "\n",
    "originlist = [(\"국어\", 88),(\"수학\",90),(\"영어\",99),(\"과학\",82)]\n",
    "\n",
    "resultlist = list(sorted(originlist ,key = lambda x : x[1]))\n",
    "print(resultlist)\n",
    "\n",
    "originlist.sort(key=lambda x:x[1])\n",
    "print(originlist)"
   ]
  },
  {
   "cell_type": "code",
   "execution_count": 8,
   "id": "d6b13860",
   "metadata": {},
   "outputs": [
    {
     "name": "stdout",
     "output_type": "stream",
     "text": [
      "원래의 리스트 : \n",
      "[1, 2, 3, 4, 5, 6, 7, 8, 9, 10]\n",
      "짝수 : \n",
      "[2, 4, 6, 8, 10]\n",
      "홀수 : \n",
      "[1, 3, 5, 7, 9]\n"
     ]
    }
   ],
   "source": [
    "# 3. 람다식을 이용하여 정수 리스트를 필터링 하는 프로그램을 작성하시오\n",
    "# 원래 리스트\n",
    "# [1,2,3,4,5,,6,7,8,9,10]\n",
    "\n",
    "# 짝수 :\n",
    "# [2,4,6,8,10]\n",
    "\n",
    "# 홀수 :\n",
    "# [1,3,5,7,9]\n",
    "\n",
    "# 풀이\n",
    "nums = [1,2,3,4,5,6,7,8,9,10]\n",
    "print(\"원래의 리스트 : \")\n",
    "print(nums)\n",
    "\n",
    "print(\"짝수 : \")\n",
    "even_nums = list(filter(lambda x : x%2==0, nums))\n",
    "print(even_nums)\n",
    "\n",
    "print(\"홀수 : \")\n",
    "odd_nums= list(filter(lambda x : x%2!=0, nums))\n",
    "print(odd_nums)"
   ]
  },
  {
   "cell_type": "code",
   "execution_count": 9,
   "id": "5c30d008",
   "metadata": {},
   "outputs": [
    {
     "name": "stdout",
     "output_type": "stream",
     "text": [
      "원래 리스트 : \n",
      "[1, 2, 3, 4, 5, 6, 7, 8, 9, 10]\n",
      "세제곱된 값 리스트 : \n",
      "[1, 8, 27, 64, 125, 216, 343, 512, 729, 1000]\n"
     ]
    }
   ],
   "source": [
    "# 4. 람다식을 이용하여 주어진 정수 리스트에서 모든 숫자를 세제곱하는\n",
    "# 프로그램을 작성하시오.\n",
    "\n",
    "# 원래 리스트 : \n",
    "# [1,2,3,4,5,6,7,8,9,10]\n",
    "\n",
    "# 세제곱된 값 리스트 : \n",
    "# [1, 8, 27, 64, 125, 216, 343, 512, 729, 1000]\n",
    "\n",
    "# 풀이 \n",
    "nums = [1,2,3,4,5,6,7,8,9,10]\n",
    "print(\"원래 리스트 : \")\n",
    "print(nums)\n",
    "\n",
    "print(\"세제곱된 값 리스트 : \")\n",
    "triple_nums = list(map(lambda x : x**3, nums))\n",
    "print(triple_nums)"
   ]
  }
 ],
 "metadata": {
  "kernelspec": {
   "display_name": "Python 3",
   "language": "python",
   "name": "python3"
  },
  "language_info": {
   "codemirror_mode": {
    "name": "ipython",
    "version": 3
   },
   "file_extension": ".py",
   "mimetype": "text/x-python",
   "name": "python",
   "nbconvert_exporter": "python",
   "pygments_lexer": "ipython3",
   "version": "3.8.8"
  }
 },
 "nbformat": 4,
 "nbformat_minor": 5
}
