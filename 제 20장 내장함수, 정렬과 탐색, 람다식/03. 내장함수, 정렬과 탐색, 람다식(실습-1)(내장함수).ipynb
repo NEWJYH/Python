{
 "cells": [
  {
   "cell_type": "code",
   "execution_count": 1,
   "id": "abefa471",
   "metadata": {},
   "outputs": [
    {
     "name": "stdout",
     "output_type": "stream",
     "text": [
      "i의 절대값 20\n",
      "i의 절대값 20.55\n"
     ]
    }
   ],
   "source": [
    "# 내장함수 실습\n",
    "\n",
    "# abs() : 절대값을 반환\n",
    "i = -20\n",
    "print(f\"i의 절대값 : {abs(i)}\")\n",
    "i = -20.55\n",
    "print(f\"i의 절대값 : {abs(i)}\")"
   ]
  },
  {
   "cell_type": "code",
   "execution_count": 3,
   "id": "04f4374e",
   "metadata": {},
   "outputs": [
    {
     "name": "stdout",
     "output_type": "stream",
     "text": [
      "True\n",
      "False\n"
     ]
    }
   ],
   "source": [
    "# all() : 시퀀스(리스트,딕셔너리 등)을 받아서 시퀀스의 모든 항목이 참이면 True반환한다.\n",
    "# and 조건과 유사하다. 하나라도 0인 값이 들어가면 False 리턴한다.\n",
    "\n",
    "mylist = [1,4,7,10] # 모든 값이 참이다.\n",
    "print(all(mylist))\n",
    "mylist = [1,4,7, 0] # 하나의 값이 거짓이다.\n",
    "print(all(mylist))"
   ]
  },
  {
   "cell_type": "code",
   "execution_count": 5,
   "id": "b6ec9fb3",
   "metadata": {},
   "outputs": [
    {
     "name": "stdout",
     "output_type": "stream",
     "text": [
      "True\n",
      "False\n"
     ]
    }
   ],
   "source": [
    "# any() : 시퀀스 객체에 있는 한 개의 항목이라도 참인 경우 참을 반환.\n",
    "# or 조건과 유사하다.\n",
    "\n",
    "mylist = [0,7,10,20] # 하나의 값이 거짓이다.\n",
    "print(any(mylist))\n",
    "\n",
    "mylist = [0,0,0,0] # 모든 값이 거짓이다.\n",
    "print(any(mylist))"
   ]
  },
  {
   "cell_type": "code",
   "execution_count": 6,
   "id": "9b8c189f",
   "metadata": {},
   "outputs": [
    {
     "name": "stdout",
     "output_type": "stream",
     "text": [
      "0b1111\n"
     ]
    }
   ],
   "source": [
    "# bin() : 10진수를 2진수로 표현해주는 함수,\n",
    "# 항상 접두사로 0b로 시작한다.\n",
    "y = bin(15)\n",
    "print(y)"
   ]
  },
  {
   "cell_type": "code",
   "execution_count": 9,
   "id": "d5f64aa4",
   "metadata": {},
   "outputs": [
    {
     "name": "stdout",
     "output_type": "stream",
     "text": [
      "수식을 입력해주세요 : 10+6\n",
      "16\n",
      "150\n"
     ]
    }
   ],
   "source": [
    "# eval() : 전달된 수식을 구문 분석을 하고 프로그램 내에서 수식의 값을 계산 하는 함수.\n",
    "exp = input(\"수식을 입력해주세요 : \")\n",
    "print(eval(exp))\n",
    "\n",
    "# eval()는 전역변수의 수식도 구문을 분석해서 계산해준다.\n",
    "x = 10\n",
    "y = 15\n",
    "print(eval(\"x*y\"))"
   ]
  },
  {
   "cell_type": "code",
   "execution_count": 12,
   "id": "073e3efe",
   "metadata": {},
   "outputs": [
    {
     "name": "stdout",
     "output_type": "stream",
     "text": [
      "111\n"
     ]
    }
   ],
   "source": [
    "# sum() : 시퀸스에 존재하는 항목들의 값을 전부 더하여 합계를 리턴\n",
    "print(sum(list((1,10,100))))"
   ]
  },
  {
   "cell_type": "code",
   "execution_count": 18,
   "id": "835cfec7",
   "metadata": {},
   "outputs": [
    {
     "name": "stdout",
     "output_type": "stream",
     "text": [
      "14\n",
      "5\n",
      "3\n",
      "3\n"
     ]
    }
   ],
   "source": [
    "# len() : 객체의 길이를 반환하는 함수.\n",
    "# 문자열의 길이를 계산하는데 유용하다.\n",
    "# 리스트에 len() 사용하게 되면 리스트 안에 있는 항목의 개수를 리턴\n",
    "# 딕셔너리, 튜플에서도 항목의 개수를 반환을 한다.\n",
    "print(len(\"안녕하세요,hello! _\"))\n",
    "a = list((1,2,3,4,5))\n",
    "print(len(a))\n",
    "dic = {\n",
    "    \"a\":7,\n",
    "    \"b\":10,\n",
    "    \"C\":15\n",
    "}\n",
    "print(len(dic))\n",
    "a = (1,2,3)\n",
    "print(len(a))"
   ]
  },
  {
   "cell_type": "code",
   "execution_count": 19,
   "id": "b4e75f13",
   "metadata": {},
   "outputs": [
    {
     "name": "stdout",
     "output_type": "stream",
     "text": [
      "['a', 'b', 'c', 'd', 'e', 'f', 'g']\n"
     ]
    }
   ],
   "source": [
    "# list() 함수 : 리스트를 생성하는 함수\n",
    "s = \"abcdefg\"\n",
    "print(list(s))"
   ]
  }
 ],
 "metadata": {
  "kernelspec": {
   "display_name": "Python 3",
   "language": "python",
   "name": "python3"
  },
  "language_info": {
   "codemirror_mode": {
    "name": "ipython",
    "version": 3
   },
   "file_extension": ".py",
   "mimetype": "text/x-python",
   "name": "python",
   "nbconvert_exporter": "python",
   "pygments_lexer": "ipython3",
   "version": "3.8.8"
  }
 },
 "nbformat": 4,
 "nbformat_minor": 5
}
