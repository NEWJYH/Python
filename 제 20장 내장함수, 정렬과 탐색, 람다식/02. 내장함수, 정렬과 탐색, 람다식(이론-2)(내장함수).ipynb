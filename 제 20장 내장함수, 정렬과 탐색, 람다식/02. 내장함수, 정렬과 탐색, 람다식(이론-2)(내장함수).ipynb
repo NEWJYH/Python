{
 "cells": [
  {
   "cell_type": "markdown",
   "id": "40c85606",
   "metadata": {},
   "source": [
    "1) 내장 함수\n",
    "    10. dir() \n",
    "        :dir은 객체가 가지고 있는 변수나 함수를 보여준다.\n",
    "         예를 들어서 리스트 객체가 가지고 있는 변수와 함수를\n",
    "         출력해보면 다음과 같다.\n",
    "         객체에 dir() 메소드가 정의되어 있는 경우, 이 메소드가 호출되며\n",
    "         dir() 메소드는 리스트로 변수와 함수를 반환한다.\n",
    "         \n",
    "         우리는 리스트 객체가 제공하는 append(), count()와 같은 함수를 \n",
    "         볼수 있다. 파이썬이 내부적으로 사용하는 함수는 앞에 __가 붙어 있다.\n",
    "         dir함수는 어떤 객체에서 사용할 수 있는 함수들이 무엇인지를\n",
    "         알고 싶을 때 유용하다."
   ]
  },
  {
   "cell_type": "code",
   "execution_count": 3,
   "id": "cf3b7c4f",
   "metadata": {},
   "outputs": [
    {
     "name": "stdout",
     "output_type": "stream",
     "text": [
      "['__add__', '__class__', '__contains__', '__delattr__', '__delitem__', '__dir__', '__doc__', '__eq__', '__format__', '__ge__', '__getattribute__', '__getitem__', '__gt__', '__hash__', '__iadd__', '__imul__', '__init__', '__init_subclass__', '__iter__', '__le__', '__len__', '__lt__', '__mul__', '__ne__', '__new__', '__reduce__', '__reduce_ex__', '__repr__', '__reversed__', '__rmul__', '__setattr__', '__setitem__', '__sizeof__', '__str__', '__subclasshook__', 'append', 'clear', 'copy', 'count', 'extend', 'index', 'insert', 'pop', 'remove', 'reverse', 'sort']\n"
     ]
    }
   ],
   "source": [
    "print(dir([1,2,3]))"
   ]
  },
  {
   "cell_type": "markdown",
   "id": "0a4133b2",
   "metadata": {},
   "source": [
    "1) 내장 함수\n",
    "    11. max(), min() \n",
    "        :max() 함수는 리스트나 튜플, 문자열(시퀸스형)에서 가장 큰 항목을 반환한다\n",
    "         예를 들어서 정수의 리스트에서 가장 큰 정수를 찾을 때 사용할 수 있다.\n",
    "         min()은 가장 작은 정수를 반환한다."
   ]
  },
  {
   "cell_type": "code",
   "execution_count": 5,
   "id": "976ae2d7",
   "metadata": {},
   "outputs": [
    {
     "name": "stdout",
     "output_type": "stream",
     "text": [
      "5\n",
      "1\n"
     ]
    }
   ],
   "source": [
    "values = [1,2,3,4,5]\n",
    "print(max(values))\n",
    "print(min(values))"
   ]
  },
  {
   "cell_type": "markdown",
   "id": "43358064",
   "metadata": {},
   "source": [
    "1) 내장 함수\n",
    "    12. enumerate()\n",
    "        : 시퀸스 객체를 입력 받아,\n",
    "          열거형(enumerate) 객체를 반환한다.\n",
    "          열거형 객체는 첫 번째 요소로 번호, \n",
    "          두 번째 요소로 번호에 해당되는 값을 갖는 객체이다."
   ]
  },
  {
   "cell_type": "code",
   "execution_count": 1,
   "id": "b47a0fd4",
   "metadata": {},
   "outputs": [
    {
     "name": "stdout",
     "output_type": "stream",
     "text": [
      "[(1, 'Spring'), (2, 'Summer'), (3, 'Fall'), (4, 'Winter')]\n"
     ]
    }
   ],
   "source": [
    "seasons = [\"Spring\",\"Summer\",\"Fall\",\"Winter\"]\n",
    "print(list(enumerate(seasons,start=1)))"
   ]
  },
  {
   "cell_type": "markdown",
   "id": "9cda3700",
   "metadata": {},
   "source": [
    "Enum은 열거형(Enumerated Type)이라고 부릅니다.\n",
    "\n",
    "해당 언어의 상수 역할을 하는 식별자로, \n",
    "일부 열거자 자료형은 언어에 기본으로 포함되어 있다.\n",
    "\n",
    "그 대표적인 예가 Boolean자료형으로 \n",
    "False,True값이 미리 정의된 열거형으로 볼수 있다. \n",
    "\n",
    "False == 0, True == 1인 것이다.\n",
    "\n",
    "열거형을 사용하는 이유는 \n",
    "특정 상태를 하나의 집합으로 만들어 관리함으로써 코드를 정리하는데 수월하다.\n",
    "즉, 가독성이 높아지고 문서화를 하는데 도움이 된다."
   ]
  },
  {
   "cell_type": "markdown",
   "id": "83c21f50",
   "metadata": {},
   "source": [
    "1) 내장 함수\n",
    "    13. filter()\n",
    "        :filter() 함수는 특정 조건을 만족하는 요소만을 뽑는다.\n",
    "         이 함수는 두 개의 인수를 취한다.\n",
    "         첫 번째는 조건을 나타내는 함수이고,\n",
    "         두 번째는 반복 가능 객체이다.\n",
    "         첫 번째 인자값인 함수가 \n",
    "         True값을 반환하는 요소들만 리스트의 형태로 반환한다."
   ]
  },
  {
   "cell_type": "code",
   "execution_count": 10,
   "id": "89220d6d",
   "metadata": {},
   "outputs": [
    {
     "name": "stdout",
     "output_type": "stream",
     "text": [
      "<filter object at 0x000002984C0D3D30>\n",
      "[4, 5, 6]\n"
     ]
    }
   ],
   "source": [
    "def myfilter(x):\n",
    "    return x > 3\n",
    "\n",
    "result = filter(myfilter, (1,2,3,4,5,6))\n",
    "print(result)\n",
    "print(list(result))"
   ]
  },
  {
   "cell_type": "markdown",
   "id": "5f2bc02e",
   "metadata": {},
   "source": [
    "1) 내장 함수\n",
    "    14. zip()\n",
    "        :zip() 함수는 2개의 리스트를 하나로 묶어주는 함수이다.\n",
    "         아울러 zip() 함수가 가장 많이 사용되는 부분은 for 반복문이다."
   ]
  },
  {
   "cell_type": "code",
   "execution_count": 16,
   "id": "fc640102",
   "metadata": {},
   "outputs": [
    {
     "name": "stdout",
     "output_type": "stream",
     "text": [
      "[(1, 'one'), (2, 'two'), (3, 'tree'), (4, 'four')]\n",
      "++++++++++++++++++++++++++++++++++\n",
      "KIM 100\n",
      "LEE 99\n",
      "PARK 80\n"
     ]
    }
   ],
   "source": [
    "# 두 리스트가 서로 갯수가 다르다면 작은 갯수에 맞춰서만 나옴\n",
    "numbers = [1,2,3,4]\n",
    "slist = [\"one\",\"two\",\"tree\",\"four\"]\n",
    "print(list(zip(numbers,slist)))\n",
    "\n",
    "print(\"++++++++++++++++++++++++++++++++++\")\n",
    "\n",
    "names = [\"KIM\",\"LEE\",\"PARK\"]\n",
    "scores = [100,99,80]\n",
    "for n,s in zip(names,scores):\n",
    "    print(n,s)"
   ]
  }
 ],
 "metadata": {
  "kernelspec": {
   "display_name": "Python 3",
   "language": "python",
   "name": "python3"
  },
  "language_info": {
   "codemirror_mode": {
    "name": "ipython",
    "version": 3
   },
   "file_extension": ".py",
   "mimetype": "text/x-python",
   "name": "python",
   "nbconvert_exporter": "python",
   "pygments_lexer": "ipython3",
   "version": "3.8.8"
  }
 },
 "nbformat": 4,
 "nbformat_minor": 5
}
