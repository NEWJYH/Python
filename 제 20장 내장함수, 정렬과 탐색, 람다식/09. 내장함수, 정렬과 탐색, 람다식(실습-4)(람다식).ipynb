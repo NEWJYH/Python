{
 "cells": [
  {
   "cell_type": "code",
   "execution_count": 5,
   "id": "2b2e4052",
   "metadata": {},
   "outputs": [
    {
     "name": "stdout",
     "output_type": "stream",
     "text": [
      "정수의 합 : 110\n",
      "정수의 합 : 60\n"
     ]
    }
   ],
   "source": [
    "# 람다식(무명함수, 익명함수)은 이름이 없는 함수를 만드는 방법을 말한다.\n",
    "# 이름은 없고 몸체만 존재하는 함수이다.\n",
    "# def키워드를 사용하지 않고 , return 키워드도 사용하지 않는다.\n",
    "\n",
    "# 람다식을 이용한 간단한 더하기 람다식\n",
    "f = lambda x, y : x + y # 람다함수를 정의\n",
    "print(f\"정수의 합 : {f(10,100)}\")\n",
    "print(f\"정수의 합 : {f(10,50)}\")"
   ]
  },
  {
   "cell_type": "code",
   "execution_count": 6,
   "id": "86542949",
   "metadata": {},
   "outputs": [
    {
     "name": "stdout",
     "output_type": "stream",
     "text": [
      "정수의 합 : 110\n"
     ]
    }
   ],
   "source": [
    "# 위의 식을 일반함수로 만든다면 아래와 같다.\n",
    "def get_sum(x, y):\n",
    "    return x + y\n",
    "print(f\"정수의 합 : {get_sum(10,100)}\")"
   ]
  },
  {
   "cell_type": "code",
   "execution_count": 1,
   "id": "8a1e0bbc",
   "metadata": {},
   "outputs": [],
   "source": [
    "# ex04\n",
    "# GUI 프로그램에서 람다식을 활용한 예제, 이벤트 처리시 람다식으로 콜백 지정\n",
    "from tkinter import *\n",
    "\n",
    "def quit():\n",
    "    window.quit()\n",
    "    window.destroy()\n",
    "\n",
    "window = Tk()\n",
    "\n",
    "# 이벤트 발생시 \n",
    "# 람다식을 통한 콜백함수가 호출이 이루어진다.\n",
    "btn1 = Button(window,\n",
    "             text=\"버튼1\",\n",
    "              command = lambda :print(\"버튼1이 눌러짐\"))\n",
    "btn1.pack(side=LEFT)\n",
    "\n",
    "btn2 = Button(window,\n",
    "             text=\"버튼2\",\n",
    "              command = lambda :print(\"버튼2가 눌러짐\"))\n",
    "btn2.pack(side=LEFT)\n",
    "\n",
    "quitBtin = Button(window,\n",
    "                 text=\"종료\",\n",
    "                 fg=\"red\",\n",
    "                 command=quit) \n",
    "quitBtin.pack(side=LEFT)\n",
    "\n",
    "\n",
    "window.mainloop()"
   ]
  },
  {
   "cell_type": "code",
   "execution_count": 3,
   "id": "ca1e1084",
   "metadata": {},
   "outputs": [
    {
     "name": "stdout",
     "output_type": "stream",
     "text": [
      "[2, 4, 6, 8, 10]\n"
     ]
    }
   ],
   "source": [
    "# 내장함수와 람다식을 이용한 예제\n",
    "# 1. map() 와 람다식\n",
    "mylist = [1,2,3,4,5]\n",
    "# 이 람다식은 리스트의 각 요소에 2를 곱하여 리턴해줄것.\n",
    "f = lambda x : x * 2 \n",
    "\n",
    "# result = map(f, mylist)\n",
    "result = map(lambda x : x * 2 ,mylist)\n",
    "print(list(result))"
   ]
  },
  {
   "cell_type": "code",
   "execution_count": 5,
   "id": "7c9982ab",
   "metadata": {},
   "outputs": [
    {
     "name": "stdout",
     "output_type": "stream",
     "text": [
      "[2, 4]\n"
     ]
    }
   ],
   "source": [
    "# 2. filter() 와 람다식\n",
    "list2 = [1,2,3,4,5,6]\n",
    "\n",
    "# filter()와 람다식을 이용하여 2의 배수를 구하고 있다.\n",
    "result = filter(lambda x : x%2==0, list2)\n",
    "print(list(result))\n"
   ]
  },
  {
   "cell_type": "code",
   "execution_count": 6,
   "id": "163070ab",
   "metadata": {},
   "outputs": [
    {
     "name": "stdout",
     "output_type": "stream",
     "text": [
      "[(1, 100), (1, 200), (1, 300), (2, 200)]\n"
     ]
    }
   ],
   "source": [
    "# 람다식은 정렬할 떄 기준이 되는 키를 지칭할 때도 많이 사용한다.\n",
    "data = [(1, 100), (1, 200), (1, 300), (2, 200)]\n",
    "print(sorted(data, key=lambda x: x[0]))"
   ]
  },
  {
   "cell_type": "code",
   "execution_count": 7,
   "id": "f9b8903e",
   "metadata": {},
   "outputs": [
    {
     "name": "stdout",
     "output_type": "stream",
     "text": [
      "10\n"
     ]
    }
   ],
   "source": [
    "# reduce(func, seq) : func() 함수를 시퀀스에 연속적으로 적용하여\n",
    "# 단일 값을 반환해 준다.\n",
    "\n",
    "# reduce()와 람다식을 이용한 예제\n",
    "import functools as ft\n",
    "result = ft.reduce(lambda x,y : x+y,[1,2,3,4])\n",
    "print(result)"
   ]
  }
 ],
 "metadata": {
  "kernelspec": {
   "display_name": "Python 3",
   "language": "python",
   "name": "python3"
  },
  "language_info": {
   "codemirror_mode": {
    "name": "ipython",
    "version": 3
   },
   "file_extension": ".py",
   "mimetype": "text/x-python",
   "name": "python",
   "nbconvert_exporter": "python",
   "pygments_lexer": "ipython3",
   "version": "3.8.8"
  }
 },
 "nbformat": 4,
 "nbformat_minor": 5
}
