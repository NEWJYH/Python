{
 "cells": [
  {
   "cell_type": "code",
   "execution_count": 12,
   "id": "07295eb8",
   "metadata": {},
   "outputs": [
    {
     "name": "stdout",
     "output_type": "stream",
     "text": [
      "14\n",
      "True\n",
      "False\n",
      "6\n",
      "신은혁 1\n",
      "김연아 3\n",
      "손연재 0\n",
      "손아섭 6\n",
      "{'신은혁': 1, '김연아': 3, '손연재': 0, '손아섭': 6}\n"
     ]
    }
   ],
   "source": [
    "# lab1\n",
    "\n",
    "# 내장함수를 이용한 문제 해결\n",
    "\n",
    "# 초대 받은 사람의 이름을 리스트로 만들었다.\n",
    "names = [\"신은혁\",\"김연아\",\"손연재\",\"손아섭\"]\n",
    "\n",
    "# 초대 받은 사람과 동행한 사람의 숫자를 리스트로 만들었다.\n",
    "persons = [1, 3, 0, 6]\n",
    "\n",
    "# 파티의 총 인원을 구하기\n",
    "totalPersons = len(names) + sum(persons)\n",
    "print(totalPersons)\n",
    "\n",
    "# 파티에 한 사람이라도 오는지 확인하는 방법(동행자)\n",
    "# any() : \n",
    "anyPersoninParty = any(persons)\n",
    "print(anyPersoninParty)\n",
    "\n",
    "# 모든 초대받은 사람이 동행자를 대려오는지 확인하는 방법\n",
    "# all() :\n",
    "guest = all(persons)\n",
    "print(guest)\n",
    "\n",
    "# 가장 많이 오는 그룹에는 몇사람이나 있는지 확인하는 방법\n",
    "guestmaxgroup  = max(persons)\n",
    "print(guestmaxgroup)\n",
    "\n",
    "# 초대받은 사람과 동행하는 사람수를 묶어서 출력해보기\n",
    "# zip()\n",
    "mydic ={}\n",
    "for n,p in list(zip(names,persons)):\n",
    "    mydic[n] = p\n",
    "    print(n,p)\n",
    "    \n",
    "print(mydic)"
   ]
  },
  {
   "cell_type": "code",
   "execution_count": 15,
   "id": "30b01387",
   "metadata": {},
   "outputs": [
    {
     "name": "stdout",
     "output_type": "stream",
     "text": [
      "33\n",
      "33\n"
     ]
    }
   ],
   "source": [
    "# 내장 함수를 이용한 문제 해결 - 2\n",
    "# 1. 리스트 함축과 내장 함수를 이용하여 1 ~100까지의 정수 중에서\n",
    "#    3의 배수의 갯수를 확인하기\n",
    "\n",
    "triple = len([x for x in range(1,101) if x % 3 ==0])\n",
    "print(triple)\n",
    "\n",
    "count = sum([1 for k in range(1,101) if k % 3 == 0])\n",
    "print(count)"
   ]
  },
  {
   "cell_type": "code",
   "execution_count": 24,
   "id": "119827eb",
   "metadata": {},
   "outputs": [
    {
     "name": "stdout",
     "output_type": "stream",
     "text": [
      "정수나 실수를 입력하시오 : 111111111111111111111111111111111111111111111111111111\n",
      "<class 'int'>\n",
      "111111111111111111111111111111111111111111111111111111\n"
     ]
    }
   ],
   "source": [
    "# 2. 내장함수를 이용하여 사용자가 어떤 문자열을 입력하더라도 \n",
    "# 오류를 일으키지 아니하고 정수나 실수로 변환하는 코드를 작성하자.\n",
    "\n",
    "# eval()\n",
    "n = eval(input(\"정수나 실수를 입력하시오 : \"))\n",
    "print(type(n))\n",
    "print(n)"
   ]
  }
 ],
 "metadata": {
  "kernelspec": {
   "display_name": "Python 3",
   "language": "python",
   "name": "python3"
  },
  "language_info": {
   "codemirror_mode": {
    "name": "ipython",
    "version": 3
   },
   "file_extension": ".py",
   "mimetype": "text/x-python",
   "name": "python",
   "nbconvert_exporter": "python",
   "pygments_lexer": "ipython3",
   "version": "3.8.8"
  }
 },
 "nbformat": 4,
 "nbformat_minor": 5
}
