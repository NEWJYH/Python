{
 "cells": [
  {
   "cell_type": "code",
   "execution_count": 2,
   "id": "df20608a",
   "metadata": {},
   "outputs": [
    {
     "name": "stdout",
     "output_type": "stream",
     "text": [
      "[4, 2, 1, 5, 7, -1]\n",
      "[-1, 1, 2, 4, 5, 7]\n",
      "2160801799296\n",
      "2160801990528\n"
     ]
    }
   ],
   "source": [
    "# 정렬과 탐색의 실습\n",
    "# sort() 메소드와 sorted() 내장함수의 차이점\n",
    "\n",
    "# sorted() 내장함수는 원본 리스트를 변경을 시키지 않고\n",
    "# 정렬된 리스트를 반환한다.\n",
    "# sorted() 내장함수는 반복가능한 객체들을 다 매개변수로\n",
    "# 받을 수 있는 장점이 있다.\n",
    "a = [4, 2, 1, 5, 7, -1]\n",
    "b = sorted(a)\n",
    "\n",
    "print(a)\n",
    "print(b)\n",
    "print(id(a))\n",
    "print(id(b))"
   ]
  },
  {
   "cell_type": "code",
   "execution_count": 3,
   "id": "8db6f2ab",
   "metadata": {},
   "outputs": [
    {
     "name": "stdout",
     "output_type": "stream",
     "text": [
      "[-99, -10, 1, 2, 4]\n",
      "None\n"
     ]
    }
   ],
   "source": [
    "# 리스트만의 메소드인 sort()\n",
    "# 리스트만의 메소드인 sort()는 원본 리스트에 영향을 주며\n",
    "# 리턴값은 None이다.\n",
    "x = [1,4,2,-10,-99]\n",
    "y = x.sort()\n",
    "\n",
    "print(x)\n",
    "print(y)"
   ]
  },
  {
   "cell_type": "code",
   "execution_count": 4,
   "id": "35b224c2",
   "metadata": {},
   "outputs": [
    {
     "name": "stdout",
     "output_type": "stream",
     "text": [
      "[1, 2, 3, 4, 5]\n"
     ]
    }
   ],
   "source": [
    "# sorted() 를 이용하여 매개변수를 딕셔너리를 주면 키값으로 \n",
    "# 오름차순 정렬이 이루어진다.\n",
    "print(sorted({3:\"D\",2:\"B\",5:\"B\",4:\"E\",1:\"A\"}))\n"
   ]
  },
  {
   "cell_type": "code",
   "execution_count": 13,
   "id": "c5d5def2",
   "metadata": {},
   "outputs": [
    {
     "name": "stdout",
     "output_type": "stream",
     "text": [
      "['but', 'health', 'not', 'of', 'The', 'their', '가는', '고향', '사람', '아쉬운']\n"
     ]
    }
   ],
   "source": [
    "# key 매개변수 실습\n",
    "# key=str.lower 는 대소문자 구별 없이...\n",
    "text = '''\\\n",
    "가는 고향 아쉬운 사람 The health not of their but'''\n",
    "print(sorted(text.split(), key=str.lower))"
   ]
  },
  {
   "cell_type": "code",
   "execution_count": 14,
   "id": "ea5b751c",
   "metadata": {},
   "outputs": [
    {
     "name": "stdout",
     "output_type": "stream",
     "text": [
      "[('손연재', 4.3, 20210701), ('김연아', 4.5, 20210702), ('신은혁', 4.4, 20210703)]\n"
     ]
    }
   ],
   "source": [
    "# 튜플 리스트를 만들어서 key 매개변수에 정렬하는 기준을 제시\n",
    "students=[\n",
    "    (\"신은혁\", 4.4, 20210703),\n",
    "    (\"김연아\", 4.5, 20210702),\n",
    "    (\"손연재\", 4.3, 20210701),\n",
    "]\n",
    "\n",
    "# students 튜플 리스트의 학번을 기준으로 오름차순 정렬이 이루어진다.\n",
    "print(sorted(students,key=lambda x : x[2]))"
   ]
  },
  {
   "cell_type": "code",
   "execution_count": 15,
   "id": "a4560712",
   "metadata": {},
   "outputs": [
    {
     "name": "stdout",
     "output_type": "stream",
     "text": [
      "[('신은혁', 4.4, 20210703), ('김연아', 4.5, 20210702), ('손연재', 4.3, 20210701)]\n"
     ]
    }
   ],
   "source": [
    "# 오름차순 정렬과 내림차순 정렬\n",
    "# sort() 리스트 함수 , sorted() 내장함수에는\n",
    "# reverse 매개변수가 존재한다.\n",
    "# reverse 매개변수를 이용하여 \n",
    "# 내림차순, 오름차순을 결정지을 수가 있다.\n",
    "print(sorted(students,key=lambda x : x[2],reverse=True))"
   ]
  },
  {
   "cell_type": "code",
   "execution_count": 18,
   "id": "5ebd1b81",
   "metadata": {},
   "outputs": [
    {
     "name": "stdout",
     "output_type": "stream",
     "text": [
      "[(1, 200), (1, 100), (2, 100), (2, 200)]\n"
     ]
    }
   ],
   "source": [
    "# 정렬의 안정성\n",
    "# 안정성이란 동일한 키값을 가지고 있는 행(레코드)이 여러개 존재하더라도\n",
    "# 행의 순서가 그대로 유지가 되는 성질을 안정성이라고 한다.\n",
    "\n",
    "data = [(1, 200),(1, 100),(2, 100),(2, 200)]\n",
    "print(sorted(data, key=lambda x : x[0],reverse=False))"
   ]
  }
 ],
 "metadata": {
  "kernelspec": {
   "display_name": "Python 3",
   "language": "python",
   "name": "python3"
  },
  "language_info": {
   "codemirror_mode": {
    "name": "ipython",
    "version": 3
   },
   "file_extension": ".py",
   "mimetype": "text/x-python",
   "name": "python",
   "nbconvert_exporter": "python",
   "pygments_lexer": "ipython3",
   "version": "3.8.8"
  }
 },
 "nbformat": 4,
 "nbformat_minor": 5
}
