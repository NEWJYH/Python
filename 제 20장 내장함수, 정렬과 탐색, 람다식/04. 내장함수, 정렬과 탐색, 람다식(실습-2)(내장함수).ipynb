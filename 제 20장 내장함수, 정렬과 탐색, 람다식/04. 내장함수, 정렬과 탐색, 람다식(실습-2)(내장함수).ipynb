{
 "cells": [
  {
   "cell_type": "code",
   "execution_count": 2,
   "id": "cb328d3d",
   "metadata": {},
   "outputs": [
    {
     "name": "stdout",
     "output_type": "stream",
     "text": [
      "[1, 4, 9, 16, 25]\n",
      "(1, 4, 9, 16, 25)\n"
     ]
    }
   ],
   "source": [
    "# map() : 반복가능한 객체(리스트, 튜플 등)의 각 항목에 대해서\n",
    "# 주어진 함수를 적용한 후 적용 결과를 반환한다.\n",
    "\n",
    "# 적용시킬 함수 작성\n",
    "def square(n):\n",
    "    return n*n\n",
    "\n",
    "mylist = [1,2,3,4,5]\n",
    "result = list(map(square, mylist)) # mylist에 있는 값에 square 함수를 적용시키고 있다.\n",
    "print(result)\n",
    "\n",
    "mytuple = (1,2,3,4,5)\n",
    "result2 = tuple(map(square, mytuple))\n",
    "print(result2)"
   ]
  },
  {
   "cell_type": "code",
   "execution_count": 3,
   "id": "15752ab4",
   "metadata": {},
   "outputs": [
    {
     "name": "stdout",
     "output_type": "stream",
     "text": [
      "['__add__', '__class__', '__contains__', '__delattr__', '__delitem__', '__dir__', '__doc__', '__eq__', '__format__', '__ge__', '__getattribute__', '__getitem__', '__gt__', '__hash__', '__iadd__', '__imul__', '__init__', '__init_subclass__', '__iter__', '__le__', '__len__', '__lt__', '__mul__', '__ne__', '__new__', '__reduce__', '__reduce_ex__', '__repr__', '__reversed__', '__rmul__', '__setattr__', '__setitem__', '__sizeof__', '__str__', '__subclasshook__', 'append', 'clear', 'copy', 'count', 'extend', 'index', 'insert', 'pop', 'remove', 'reverse', 'sort']\n"
     ]
    }
   ],
   "source": [
    "# dir() 함수 : 객체가 가지고 있는 변수나 함수를 보여준다.\n",
    "# 리스트로 결과를 반환한다.\n",
    "print(dir([1,2,3]))"
   ]
  },
  {
   "cell_type": "code",
   "execution_count": 5,
   "id": "b7870af6",
   "metadata": {},
   "outputs": [
    {
     "name": "stdout",
     "output_type": "stream",
     "text": [
      "5\n",
      "1\n"
     ]
    }
   ],
   "source": [
    "# max(), min() : 최대값과 최소값을 구하는 함수\n",
    "# 리스트나 튜플, 문자열에서 가장 큰 항목과 작은 항목을 반환한다.\n",
    "# 정수에서도 가장큰 값과 작은 값을 리턴한다.\n",
    "values = [1,2,3,4,5]\n",
    "print(max(values))\n",
    "print(min(values))"
   ]
  },
  {
   "cell_type": "code",
   "execution_count": 7,
   "id": "4bcfd118",
   "metadata": {},
   "outputs": [
    {
     "name": "stdout",
     "output_type": "stream",
     "text": [
      "[(0, '봄'), (1, '여름'), (2, '가을'), (3, '겨울')]\n",
      "[(1, '봄'), (2, '여름'), (3, '가을'), (4, '겨울')]\n"
     ]
    }
   ],
   "source": [
    "# enumerate() :시퀀스 객체를 입력받아서 열거형 객체를 반환한다.\n",
    "# 열거형 객체는 첫 번째 요소는 번호, 두 번째 요소에 해당하는 값을 갖는 객체이다.\n",
    "# 열거형이란 한정된 값을 가지고 가독성을 높이고 문서화를 하는데 도움을 주는 타입이\n",
    "# 열거형이다.\n",
    "seasons = [\"봄\",\"여름\",\"가을\",\"겨울\"]\n",
    "print(list(enumerate(seasons)))\n",
    "# enumerate()는 start라는 매개변수가 값을 지정하지 않는다면 0부터 시작한다.\n",
    "print(list(enumerate(seasons,start=1)))"
   ]
  },
  {
   "cell_type": "code",
   "execution_count": 9,
   "id": "81c9a734",
   "metadata": {},
   "outputs": [
    {
     "name": "stdout",
     "output_type": "stream",
     "text": [
      "[4, 5, 6, 7, 8, 9]\n"
     ]
    }
   ],
   "source": [
    "# filter() : 조건을 제시하는 함수를 만들어서 \n",
    "# 그 조건에 해당하는 요소를 추출하고자 할 때 사용한다.\n",
    "\n",
    "# 조건을 제시해주는 함수 정의\n",
    "def myfilter(x):\n",
    "    return x> 3\n",
    "\n",
    "result = list(filter(myfilter,(1,2,3,4,5,6,7,8,9)))\n",
    "print(result)"
   ]
  },
  {
   "cell_type": "code",
   "execution_count": 11,
   "id": "f1bca80f",
   "metadata": {},
   "outputs": [
    {
     "name": "stdout",
     "output_type": "stream",
     "text": [
      "[(1, '하나'), (2, '둘'), (3, '셋'), (4, '넷')]\n",
      "신은혁 100\n",
      "김연아 99\n",
      "손연재 98\n"
     ]
    }
   ],
   "source": [
    "# zip() 함수 : \n",
    "# 2개의 리스트를 하나로 묶어주는 함수이다.\n",
    "\n",
    "numbers = [1,2,3,4,5]\n",
    "list4 = [\"하나\",\"둘\",\"셋\",\"넷\"]\n",
    "print(list(zip(numbers,list4)))\n",
    "\n",
    "# for 문 이용하는 방법\n",
    "names=[\"신은혁\",\"김연아\",\"손연재\"]\n",
    "scores = [100,99,98]\n",
    "\n",
    "for n,s in zip(names,scores):\n",
    "    print(n,s)"
   ]
  }
 ],
 "metadata": {
  "kernelspec": {
   "display_name": "Python 3",
   "language": "python",
   "name": "python3"
  },
  "language_info": {
   "codemirror_mode": {
    "name": "ipython",
    "version": 3
   },
   "file_extension": ".py",
   "mimetype": "text/x-python",
   "name": "python",
   "nbconvert_exporter": "python",
   "pygments_lexer": "ipython3",
   "version": "3.8.8"
  }
 },
 "nbformat": 4,
 "nbformat_minor": 5
}
