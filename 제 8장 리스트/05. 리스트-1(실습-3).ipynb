{
 "cells": [
  {
   "cell_type": "code",
   "execution_count": 19,
   "id": "62be26c7",
   "metadata": {},
   "outputs": [
    {
     "name": "stdout",
     "output_type": "stream",
     "text": [
      "N t !\n",
      "사과 복숭아 토마토\n",
      "words의 길이 : 17\n",
      "li의 길이 : 4\n",
      "li1의 주소값 2077704079744\n",
      "li2의 주소값 2077703930752\n",
      "li3의 주소값 2077703931072\n",
      "[1, 2, 3, 4, 5]\n",
      "['안녕', '안녕', '안녕']\n",
      "True\n",
      "False\n",
      "15\n",
      "-5\n",
      "안녕\n",
      "1\n",
      "2\n",
      "3\n",
      "4\n",
      "5\n",
      "일\n",
      "이\n",
      "삼\n"
     ]
    }
   ],
   "source": [
    "# 시퀀스 자료형 : 순서를 가지는 요소들로 구성된 자료형을 의미한다.\n",
    "# 문자열, 바이트 시퀀스, 바이트 배열, 리스트, 튜플, range()객체가 존재한다.\n",
    "# 시퀀스 자료형의 특징\n",
    "# 1. 요소들이 순서를 가지고 있다.\n",
    "# 2. 인덱스를 이용하여 요소들을 참조할 수 있다.\n",
    "\n",
    "# 문자열에 대한 참조\n",
    "words = \"Nice to Meet You!\"\n",
    "print(words[0],words[5],words[-1])\n",
    "\n",
    "li = [\"사과\",\"바나나\",\"복숭아\",\"토마토\"]\n",
    "# 아래 출력 코드는 없는 인덱스를 참조하므로 에러가 발생함\n",
    "# print(li[0],li[5],li[-1])\n",
    "print(li[0],li[2],li[-1])\n",
    "\n",
    "# 시퀀스의 길이를 구하는 코드\n",
    "print(f\"words의 길이 : {len(words)}\")\n",
    "print(f\"li의 길이 : {len(li)}\")\n",
    "\n",
    "# 시퀀스에서 가능한 연산과 함수\n",
    "li1 = [1,2]\n",
    "print(f\"li1의 주소값 {id(li1)}\")\n",
    "li2 = [3,4,5]\n",
    "print(f\"li2의 주소값 {id(li2)}\")\n",
    "# 시퀀스 자료형은 + 연산이 가능하다.\n",
    "li3 = li1 + li2\n",
    "print(f\"li3의 주소값 {id(li3)}\")\n",
    "print(li3)\n",
    "\n",
    "# * 연산자는 시퀀스 자료형에서 해당하는 값을 반복시켜서 요소의 수가 증가 됨\n",
    "print([\"안녕\"] * 3)\n",
    "\n",
    "# in 연산자는 시퀀스 자료형에 해당하는 값이 있다면 True를 반환\n",
    "print(10 in [10,2,3])\n",
    "\n",
    "# not in 연산자는 시퀀스 자료형에 해당하는 값이 있다면 false를 리턴\n",
    "print(10 not in [10,2,3])\n",
    "\n",
    "# 시퀀스 자료형의 최대값\n",
    "print(max([1,7,-5,15]))\n",
    "\n",
    "# 시퀸스 자료형의 최소값\n",
    "print(min([1,7,-5,15]))\n",
    "\n",
    "# 문자열 리스트에서는 max, min함수는 의미가 없다.\n",
    "print(max([\"안녕\",\"hi\",\"가나다라\"]))\n",
    "\n",
    "# 반복문의 시퀸스 자료형이 올 수가 있다.\n",
    "for i in [1,2,3,4,5]:print(i)\n",
    "for i in \"일이삼\":print(i)    "
   ]
  },
  {
   "cell_type": "code",
   "execution_count": 26,
   "id": "96c3ba2d",
   "metadata": {},
   "outputs": [
    {
     "name": "stdout",
     "output_type": "stream",
     "text": [
      "10\n",
      "100\n",
      "100\n"
     ]
    }
   ],
   "source": [
    "# 인덱싱 : 리스트에서 하나의 요소를 인덱스를 통하여 참조하는 것\n",
    "li = [\"안녕\",\"김씨\",10,100,-10]\n",
    "print(li[2])\n",
    "# 음수 인덱스는 뒤에서부터 계산한다. 시작값은 -1이다.\n",
    "# 아래 두 코드는 동일한 출력을 한다.\n",
    "print(li[-2])\n",
    "print(li[-2 + len(li)])"
   ]
  },
  {
   "cell_type": "code",
   "execution_count": 33,
   "id": "39519ddb",
   "metadata": {},
   "outputs": [
    {
     "name": "stdout",
     "output_type": "stream",
     "text": [
      "li1의 주소값 2077705050304\n",
      "s_li1 : [10, 100, -10]\n",
      "s_li1의 주소값 2077705064640\n",
      "s_li2 : ['안녕', '김씨', 10, 100, -10, False]\n",
      "s_li2의 주소값 2077705027456\n",
      "s_li3 : ['김씨', 10, 100, -10, False, True]\n",
      "s_li3의 주소값 2077705005376\n",
      "['안녕', '김씨', 10, 100, -10, False, True]\n",
      "['a', 'b', 'c', 'd', 'e']\n",
      "['a', 'B', 'C', 'D', 'd', 'e']\n"
     ]
    }
   ],
   "source": [
    "# 슬라이싱(slicing) : 리스트 범위 안에서 범위를 지정하여 원하는 요소들을 선택\n",
    "li1 = [\"안녕\",\"김씨\",10,100,-10,False,True]\n",
    "#        0     1     2  3    4   5    6\n",
    "# 인덱스의 값을 통해서 부분 리스트를 새로 만든다.\n",
    "print(f\"li1의 주소값 {id(li1)}\")\n",
    "s_li1 = li1[2:5] \n",
    "print(f\"s_li1 : {s_li1}\")\n",
    "print(f\"s_li1의 주소값 {id(s_li1)}\")\n",
    "\n",
    "s_li2 = li1[0:6] \n",
    "print(f\"s_li2 : {s_li2}\")\n",
    "print(f\"s_li2의 주소값 {id(s_li2)}\")\n",
    "\n",
    "s_li3 = li1[1:] \n",
    "print(f\"s_li3 : {s_li3}\")\n",
    "print(f\"s_li3의 주소값 {id(s_li3)}\")\n",
    "# 아래 코드는 li1의 값을 전부 출력한다.\n",
    "print(li1[:])"
   ]
  },
  {
   "cell_type": "code",
   "execution_count": 37,
   "id": "9b61c0b5",
   "metadata": {},
   "outputs": [
    {
     "name": "stdout",
     "output_type": "stream",
     "text": [
      "['a', 'b', 'c', 'd', 'e']\n",
      "words의 주소값 2077705003456\n",
      "['a', 'B', 'C', 'D', 'd', 'e']\n",
      "words의 주소값 2077705003456\n",
      "[]\n",
      "words의 주소값 2077705003456\n",
      "[]\n",
      "words의 주소값 2077705027392\n"
     ]
    }
   ],
   "source": [
    "# 슬라이싱을 통해 값을 변경하는 내용 실습\n",
    "# 변경시에는 리스트는 하나의 리스트를 가지고 하므로 주소값의 변경은 없다.\n",
    "words = [\"a\",\"b\",\"c\",\"d\",\"e\"]\n",
    "print(words)\n",
    "print(f\"words의 주소값 {id(words)}\")\n",
    "words[1:3] = [\"B\",\"C\",\"D\"]\n",
    "print(words)\n",
    "print(f\"words의 주소값 {id(words)}\")\n",
    "# 아래 코드는 요소들이 다 삭제 된다.\n",
    "\n",
    "words[:] = []\n",
    "print(words)\n",
    "print(f\"words의 주소값 {id(words)}\")\n",
    "words = []\n",
    "print(words)\n",
    "print(f\"words의 주소값 {id(words)}\")\n"
   ]
  }
 ],
 "metadata": {
  "kernelspec": {
   "display_name": "Python 3",
   "language": "python",
   "name": "python3"
  },
  "language_info": {
   "codemirror_mode": {
    "name": "ipython",
    "version": 3
   },
   "file_extension": ".py",
   "mimetype": "text/x-python",
   "name": "python",
   "nbconvert_exporter": "python",
   "pygments_lexer": "ipython3",
   "version": "3.8.8"
  }
 },
 "nbformat": 4,
 "nbformat_minor": 5
}
