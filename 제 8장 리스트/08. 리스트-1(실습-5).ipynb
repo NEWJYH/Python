{
 "cells": [
  {
   "cell_type": "code",
   "execution_count": 8,
   "id": "eb31bacf",
   "metadata": {},
   "outputs": [
    {
     "name": "stdout",
     "output_type": "stream",
     "text": [
      "2\n",
      "[1, 2, 3, 10.1, 20.2]\n"
     ]
    }
   ],
   "source": [
    "# 리스트에 포함된 특정 요소의 갯수를 알고자 할 때, \n",
    "# count()를 이용하면 된다.\n",
    "\n",
    "hero = [\"스파이더맨\",\"배트맨\",\"슈퍼맨\",\"아이언맨\",\"헐크\",\"배트맨\"]\n",
    "cnt = hero.count(\"배트맨\")\n",
    "print(cnt) # 2 인덱스 1과 -1\n",
    "\n",
    "# \n",
    "li1 = [1,2,3]\n",
    "#print(id(li1))\n",
    "li2 = [10.1, 20.2]\n",
    "#print(id(li2))\n",
    "#print(li1 + li2)\n",
    "#li1 += li2\n",
    "#print(li1)\n",
    "\n",
    "# extend(list타입의 매개변수)는 리스트를 더하는 함수( +=와 동일한 효과)\n",
    "li1.extend(li2)\n",
    "print(li1)"
   ]
  },
  {
   "cell_type": "code",
   "execution_count": 20,
   "id": "42daec50",
   "metadata": {},
   "outputs": [
    {
     "name": "stdout",
     "output_type": "stream",
     "text": [
      "True\n",
      "False\n",
      "False\n",
      "False\n",
      "False\n",
      "True\n",
      "True\n",
      "False\n",
      "100\n",
      "99\n",
      "c\n",
      "d\n"
     ]
    }
   ],
   "source": [
    "# 리스트 일치 검사를 하는 실습\n",
    "# 리스트가 일치하는 연산을 하기 위해서는 \n",
    "# 반드시 2개의 리스트가 반드시 동일한 자료형이여야 한다.\n",
    "\n",
    "li1 = [10, 20, 30]\n",
    "li2 = [10, 20, 30]\n",
    "print(li1 == li2) # True\n",
    "\n",
    "\n",
    "li1 = [10, 20, 30]\n",
    "li2 = [20, 20, 30]\n",
    "print(li1 == li2) # False\n",
    "\n",
    "# ==연산자는 2개의 리스탁 길이가 서로 다르면 무조건 False이다.\n",
    "li1 = [10, 20, 30]\n",
    "li2 = [20, 20]\n",
    "print(li1 == li2) # False\n",
    "\n",
    "li3 = [4,5,2]\n",
    "li4 = [4,5,0]\n",
    "print(li3 == li4) # False\n",
    "print(li3 < li4) # False\n",
    "print(li3 > li4) # True\n",
    "\n",
    "# 아래 리스트는 >,< 를 비교할때 아스키코드를 가지고 비교한다.\n",
    "li3 = [\"a\",\"b\",\"c\"] # 아스키코드 c = 99\n",
    "li4 = [\"a\",\"b\",\"d\"] # 아스키코드 d = 100\n",
    "print(li3 < li4) # True\n",
    "print(li3 > li4) # False\n",
    "\n",
    "# 아스키 코드를 찍는 함수 ord() \n",
    "print(ord(\"d\")) # 100\n",
    "print(ord(\"c\")) # 99\n",
    "# 65가 대문자 A 97이 소문자 a\n",
    "\n",
    "# 아스키코드 번호로 문자 찍기 chr()\n",
    "print(chr(99)) # c\n",
    "print(chr(100)) # d"
   ]
  },
  {
   "cell_type": "code",
   "execution_count": 29,
   "id": "3d784104",
   "metadata": {},
   "outputs": [
    {
     "name": "stdout",
     "output_type": "stream",
     "text": [
      "None\n",
      "[-70, -50, 80, 90, 100]\n",
      "[100, 90, 80, -50, -70]\n",
      "++++++++++++++++++++++++++++++++++++++++++++++++++++\n",
      "[-70, -50, 80, 90, 100]\n",
      "[100, 90, 80, -50, -70]\n",
      "++++++++++++++++++++++++++++++++++++++++++++++++++++\n",
      "[100, 90, 80, -50, -70]\n",
      "++++++++++++++++++++++++++++++++++++++++++++++++++++\n",
      "[100, 90, 80, -50, -70]\n"
     ]
    }
   ],
   "source": [
    "# 리스트 정렬하기\n",
    "# 정렬하는 2가지 방법\n",
    "\n",
    "# 1번째 방법 : \n",
    "# 리스트 객체의 sort()메소드를 이용하는 방법\n",
    "li = [80,90,100,-70,-50]\n",
    "# 오름차순\n",
    "a = li.sort()\n",
    "print(a) # 리턴값이 없다.\n",
    "print(li)\n",
    "#[-70, -50, 80, 90, 100]\n",
    "li = [80,90,100,-70,-50]\n",
    "# 내림 차순\n",
    "li.sort(reverse = True)\n",
    "print(li)\n",
    "# 원본 리스트에 값이 변경이 된다.\n",
    "print(\"++++++++++++++++++++++++++++++++++++++++++++++++++++\")\n",
    "\n",
    "\n",
    "# 2 번쨰 방법 : \n",
    "# 내장함수로 존재하는 sorted() 메소드를 이용하는 방법\n",
    "# 원본 리스트는 그대로 유지를 하고, 정렬된 리스트를 반환을 해준다.\n",
    "li = [80,90,100,-70,-50]\n",
    "a = sorted(li) # 리턴값이 있음\n",
    "print(a)\n",
    "# 내림차순\n",
    "a = sorted(li,reverse = True)\n",
    "print(a)\n",
    "# 오름차순 정렬이 기본값이므로 reverse = False가 기본값\n",
    "# 내림차순 정렬은 reverse = True\n",
    "print(\"++++++++++++++++++++++++++++++++++++++++++++++++++++\")\n",
    "# 리스트 객체의 reverse() 는 내림차순이 아니라 리스트 요소를 뒤집는 메서드이다.\n",
    "li = [80,90,100,-70,-50]\n",
    "# reverse 매개변수의 값을 True로 설정하면 내림차순 정렬이 이루어진다.\n",
    "li.sort(reverse=True)\n",
    "print(li)\n",
    "print(\"++++++++++++++++++++++++++++++++++++++++++++++++++++\")\n",
    "# sorted()의 내림차순 정렬 방법\n",
    "li = [80,90,100,-70,-50]\n",
    "a = sorted(li,reverse = True)\n",
    "print(a)"
   ]
  },
  {
   "cell_type": "code",
   "execution_count": 33,
   "id": "c9fbf624",
   "metadata": {},
   "outputs": [
    {
     "name": "stdout",
     "output_type": "stream",
     "text": [
      "['하와이', '폭포', '가나', '한국']\n",
      "['가나', '폭포', '하와이', '한국']\n",
      "['나는', '한국에서', '살고', '있는', '프로그램', '교사입니다.', '만나서', '반갑습니다.']\n",
      "['나는 한국에서 살고 있는 프로그램 교사입니다', ' 만나서 반갑습니다', '']\n"
     ]
    }
   ],
   "source": [
    "# 문자열을 정렬하기(유니코드 기준으로 정렬을 한다.)\n",
    "# 뒷부분에 인코딩 디코딩 부분에서 자세하게 설명하도록 한다..\n",
    "li =[\"하와이\",\"폭포\",\"가나\",\"한국\"]\n",
    "print(li)\n",
    "# 정렬 기준은 유니코드 \n",
    "li1 = sorted(li, key=str.lower)\n",
    "print(li1)\n",
    "\n",
    "# 긴 문자열을 분리하는 방법(split())\n",
    "# split()메소드는 문자열을 분리해서 리스트 타입으로 반환해준다.\n",
    "statement = \"나는 한국에서 살고 있는 프로그램 교사입니다. 만나서 반갑습니다.\"\n",
    "li = statement.split()\n",
    "print(li)\n",
    "statement = \"나는 한국에서 살고 있는 프로그램 교사입니다. 만나서 반갑습니다.\"\n",
    "li = statement.split(\".\")\n",
    "print(li)"
   ]
  }
 ],
 "metadata": {
  "kernelspec": {
   "display_name": "Python 3",
   "language": "python",
   "name": "python3"
  },
  "language_info": {
   "codemirror_mode": {
    "name": "ipython",
    "version": 3
   },
   "file_extension": ".py",
   "mimetype": "text/x-python",
   "name": "python",
   "nbconvert_exporter": "python",
   "pygments_lexer": "ipython3",
   "version": "3.8.8"
  }
 },
 "nbformat": 4,
 "nbformat_minor": 5
}
