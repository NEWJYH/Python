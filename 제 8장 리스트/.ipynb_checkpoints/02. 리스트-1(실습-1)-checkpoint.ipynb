{
 "cells": [
  {
   "cell_type": "code",
   "execution_count": 30,
   "id": "31b454c8",
   "metadata": {},
   "outputs": [
    {
     "name": "stdout",
     "output_type": "stream",
     "text": [
      "[]\n",
      "[]\n",
      "리스트 값 [30]\n",
      "리스트 값 [30, '안녕']\n",
      "리스트 값 [30, '안녕', 10.1123]\n",
      "리스트의 크기 3\n",
      "리스트 값 [30, 'hello', 10.1123]\n",
      "리스트의 크기 3\n",
      "=======================\n",
      "0 30\n",
      "1 hello\n",
      "2 10.1123\n",
      "=======================\n",
      "30\n",
      "hello\n",
      "10.1123\n",
      "=======================\n",
      "0 10\n",
      "1 11\n",
      "2 12\n"
     ]
    }
   ],
   "source": [
    "# 리스트에 대한 실습\n",
    "# 리스트의 정의 : 대량의 데이터를 저장할수 있는 공간을 만들어야 하고\n",
    "#               이 데이터들을 손쉽게 처리할수 있는 형태의 데이터 저장 구조\n",
    "\n",
    "# 리스트를 선언\n",
    "scores = []\n",
    "print(scores)\n",
    "scores = list()\n",
    "print(scores)\n",
    "\n",
    "# append() 메서드를 통해서 리스트에 정수값을 추가함\n",
    "scores.append(30)\n",
    "print(\"리스트 값\", scores)\n",
    "\n",
    "# append() 메서드를 통해서 리스트에 문자열을 추가함\n",
    "scores.append(\"안녕\")\n",
    "print(\"리스트 값\", scores)\n",
    "\n",
    "# append() 메서드를 통해서 리스트에 실수를 추가함\n",
    "scores.append(10.1123)\n",
    "print(\"리스트 값\", scores)\n",
    "print(f\"리스트의 크기 {len(scores)}\")\n",
    "\n",
    "# 리스트의 값을 변경해보기\n",
    "# scores[0]은 변수와 동일하다.(중요)\n",
    "scores[1] = \"hello\"\n",
    "print(\"리스트 값\", scores)\n",
    "print(f\"리스트의 크기 {len(scores)}\")\n",
    "print(\"=======================\")\n",
    "# 리스트를 순회해서 출력하기( 첫번째 방법 for문과 range함수 이용)\n",
    "# for 문은 리스트와 궁합이 잘 맞다.\n",
    "for i in range(len(scores)):\n",
    "    print(i, scores[i])\n",
    "print(\"=======================\")\n",
    "# 리스트를 순회해서 출력하기(두 번째 방법 for문과 리스트 시퀀스를 이용)\n",
    "for i in scores:\n",
    "    print(i)\n",
    "print(\"=======================\")\n",
    "# 리스트의 값을 순회해서 바꾸기\n",
    "for i in range(len(scores)):\n",
    "    scores[i] = i + 10\n",
    "    print(i, scores[i])\n"
   ]
  },
  {
   "cell_type": "code",
   "execution_count": 37,
   "id": "54f407a3",
   "metadata": {},
   "outputs": [
    {
     "name": "stdout",
     "output_type": "stream",
     "text": [
      "정수를 입력하세요10\n",
      "정수를 입력하세요30\n",
      "정수를 입력하세요11\n",
      "정수를 입력하세요15\n",
      "정수를 입력하세요30\n",
      "[10, 30, 11, 15, 30]\n"
     ]
    }
   ],
   "source": [
    "# 사용자로부터 입력을 받아서 리스트에 값을 저장하는 코드\n",
    "nums = []\n",
    "for i in range(5):\n",
    "    nums.append(int(input(\"정수를 입력하세요\")))\n",
    "    \n",
    "print(nums)"
   ]
  },
  {
   "cell_type": "code",
   "execution_count": 49,
   "id": "aa865b8c",
   "metadata": {},
   "outputs": [
    {
     "name": "stdout",
     "output_type": "stream",
     "text": [
      "li1 = []\n",
      "li2 = ['안', '녕']\n",
      "li3 = [0, 2, 4]\n",
      "li1 = [12, 12.777, '안녕']\n",
      "li2 = [['서울', 10], ['뉴욕', 12], ['파리', 13]]\n",
      "li2[0][0] = 서울\n",
      "li2[0][1] = 10\n",
      "li2[1][0] = 뉴욕\n",
      "li2[1][1] = 12\n",
      "li2[2][0] = 파리\n",
      "li2[2][1] = 13\n"
     ]
    }
   ],
   "source": [
    "# list 클래스(속성,(멤버변수), 기능(맴버메서드) ,생성자)\n",
    "# 생성자를 이용한 리스트 만들기\n",
    "\n",
    "li1 = list() # 매개변수가 없는 생성자를 호출(붕어빵을 만드는 형태)\n",
    "print(f\"li1 = {li1}\")\n",
    "\n",
    "# 아래와 같이 생성자의 매개변수가 문자열이라면 리스트를 생성할때\n",
    "# 문자 하나하씩 요소로 가지게 된다.\n",
    "li2 = list(\"안녕\")\n",
    "print(f\"li2 = {li2}\")\n",
    "# 문자열 자체를 추가하고싶으면 append()함수를 쓰자\n",
    "\n",
    "li3 = list(range(0,5,2))\n",
    "print(f\"li3 = {li3}\")\n",
    "\n",
    "# 내장 리스트에 대한 실습\n",
    "li1 = [12,12.777,\"안녕\"]\n",
    "print(f\"li1 = {li1}\")\n",
    "\n",
    "li2 = [[\"서울\",10], [\"뉴욕\",12], [\"파리\", 13]]\n",
    "# 위 아래는 같다. \n",
    "li2 = [[\"서울\",10], \n",
    "       [\"뉴욕\",12], \n",
    "       [\"파리\", 13]]\n",
    "\n",
    "print(f\"li2 = {li2}\")\n",
    "print(f\"li2[0][0] = {li2[0][0]}\")\n",
    "print(f\"li2[0][1] = {li2[0][1]}\")\n",
    "print(f\"li2[1][0] = {li2[1][0]}\")\n",
    "print(f\"li2[1][1] = {li2[1][1]}\")\n",
    "print(f\"li2[2][0] = {li2[2][0]}\")\n",
    "print(f\"li2[2][1] = {li2[2][1]}\")"
   ]
  },
  {
   "cell_type": "code",
   "execution_count": 50,
   "id": "fffd7a5b",
   "metadata": {},
   "outputs": [
    {
     "name": "stdout",
     "output_type": "stream",
     "text": [
      "서울\n",
      "10\n",
      "뉴욕\n",
      "12\n",
      "파리\n",
      "13\n"
     ]
    }
   ],
   "source": [
    "# 더플 루프로 출력하기\n",
    "for y in range(3):\n",
    "    for x in range(2):\n",
    "        print(li2[y][x])"
   ]
  }
 ],
 "metadata": {
  "kernelspec": {
   "display_name": "Python 3",
   "language": "python",
   "name": "python3"
  },
  "language_info": {
   "codemirror_mode": {
    "name": "ipython",
    "version": 3
   },
   "file_extension": ".py",
   "mimetype": "text/x-python",
   "name": "python",
   "nbconvert_exporter": "python",
   "pygments_lexer": "ipython3",
   "version": "3.8.8"
  }
 },
 "nbformat": 4,
 "nbformat_minor": 5
}
