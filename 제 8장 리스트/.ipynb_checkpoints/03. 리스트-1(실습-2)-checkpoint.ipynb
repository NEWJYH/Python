{
 "cells": [
  {
   "cell_type": "code",
   "execution_count": 6,
   "id": "47db9a5b",
   "metadata": {},
   "outputs": [
    {
     "name": "stdout",
     "output_type": "stream",
     "text": [
      "서울 10 \n",
      "뉴욕 12 \n",
      "파리 13 \n"
     ]
    }
   ],
   "source": [
    "# 내장 리스트를 더블 루프로 출력하기\n",
    "li2 = [[\"서울\",10], [\"뉴욕\",12], [\"파리\", 13]]\n",
    "\n",
    "\n",
    "for i in range(len(li2)): # li2는 주소의 주소를 가지고 있다. en(li2) = 3이다.\n",
    "    for j in range(len(li2[i])): # li2[0],li2[1],li2[2] 도 주소값을 지니고 있다.\n",
    "        print(li2[i][j],end =\" \")\n",
    "    print()\n",
    "        # 2중 내장 리스트 li2[i][j]는 곧 변수와 동일하다"
   ]
  },
  {
   "cell_type": "code",
   "execution_count": 8,
   "id": "c79d1eb1",
   "metadata": {},
   "outputs": [
    {
     "name": "stdout",
     "output_type": "stream",
     "text": [
      "성적을 입력하시오 : 10\n",
      "성적을 입력하시오 : 20\n",
      "성적을 입력하시오 : 60\n",
      "성적을 입력하시오 : 70\n",
      "성적을 입력하시오 : 80\n",
      "평균은 48.0 입니다\n",
      "80점 이상 성적을 받은 학생은 1명 입니다.\n"
     ]
    }
   ],
   "source": [
    "# 학생의 성적을 처리하는 프로그램 만들기\n",
    "# 조건 : \n",
    "# 사용자로부터 성적을 입력받아서 리스트에 저장한다.\n",
    "# 성적의 평균을 구하고 \n",
    "# 해당 점수가 80점 이상 성적을 받은 학생의 수를 출력하시오. \n",
    "# 학생수는 상수값으로 STUDENT = 5를 입력한다.\n",
    "# 출력 결과\n",
    "# 성적을 입력하시오 : 10\n",
    "# 성적을 입력하시오 : 20\n",
    "# 성적을 입력하시오 : 60\n",
    "# 성적을 입력하시오 : 70\n",
    "# 성적을 입력하시오 : 80\n",
    "# 성적 평균은 48.0 입니다.\n",
    "# 80점이상 성적을 받은 학생은 1명입니다.\n",
    "STUDENT = 5\n",
    "grades = []\n",
    "static = 0\n",
    "for i in range(STUDENT):\n",
    "    grade = int(input(\"성적을 입력하시오 : \"))\n",
    "    if grade >= 80:\n",
    "        static +=1\n",
    "    grades.append(grade)\n",
    "\n",
    "average = sum(grades) / STUDENT\n",
    "\n",
    "print(f\"평균은 {average} 입니다\")\n",
    "print(f\"80점 이상 성적을 받은 학생은 {static}명 입니다.\")\n",
    "      "
   ]
  },
  {
   "cell_type": "code",
   "execution_count": 10,
   "id": "726a10ad",
   "metadata": {},
   "outputs": [
    {
     "name": "stdout",
     "output_type": "stream",
     "text": [
      "성적을 입력하세요 : 10\n",
      "성적을 입력하세요 : 20\n",
      "성적을 입력하세요 : 60\n",
      "성적을 입력하세요 : 70\n",
      "성적을 입력하세요 : 80\n",
      "성적 평균은 48.0입니다.\n",
      "80점 이상 성적을 받은 학생의 수는 1명입니다.\n"
     ]
    }
   ],
   "source": [
    "STUDENT = 5 # 전역 상수 선언\n",
    "scores = [] # 학생들의 성적을 저장할 리스트\n",
    "score_Sum = 0 # 학생들의 성적 합계를 저장할 변수\n",
    "score_aver = 0.0 # 학생들의 성적 평균을 저장할 변수\n",
    "cnt_80 = 0 # 80점 이상인 학생수 합계를 저장할 변수\n",
    "\n",
    "for i in range(STUDENT):\n",
    "    score = int(input(\"성적을 입력하세요 : \"))\n",
    "    scores.append(score) # 학생들의 성적을 리스트에 저장함 \n",
    "                         # append()이용\n",
    "    score_Sum += score\n",
    "    # 80점 이상 학생 수 구하기 \n",
    "    if score >= 80:\n",
    "        cnt_80 += 1\n",
    "    \n",
    "score_aver = score_Sum / STUDENT\n",
    "\n",
    "print(f\"성적 평균은 {score_aver}입니다.\")\n",
    "print(f\"80점 이상 성적을 받은 학생의 수는 {cnt_80}명입니다.\")"
   ]
  },
  {
   "cell_type": "code",
   "execution_count": 15,
   "id": "6f6ace80",
   "metadata": {},
   "outputs": [
    {
     "name": "stdout",
     "output_type": "stream",
     "text": [
      "강아지의 이름을 입력하시오(종료시에는 엔터키) 미나\n",
      "강아지의 이름을 입력하시오(종료시에는 엔터키) 초롱이\n",
      "강아지의 이름을 입력하시오(종료시에는 엔터키) 써니\n",
      "강아지의 이름을 입력하시오(종료시에는 엔터키) 팅커벨\n",
      "강아지의 이름을 입력하시오(종료시에는 엔터키) \n",
      "강아지의 이름은 ['미나', '초롱이', '써니', '팅커벨'] 입니다\n"
     ]
    }
   ],
   "source": [
    "# 리스트는 다양한 데이터를 저장할수 있다고 배웠다.\n",
    "# 하지만 현업에서는 같은(모델)의 같은 입타의 데이터를 저장하면서 사용한다.\n",
    "\n",
    "\n",
    "# 리스트는 문자열도 저장할 수가 있다. \n",
    "# 강아지를 많이 키우는 사람이 있다고 가정하자.\n",
    "\n",
    "# 사용자로부터 강아지들의 이름을 저장하였다가 출력하는 프로그램을 작성해보라.\n",
    "# 조건 : 무한루프를 돌면서 엔터키가 입력되면 무한루프를 탈출한다.\n",
    "# 강아지의 이름을 입력히시오(종료시에는 엔터키) 미나\n",
    "# 강아지의 이름을 입력히시오(종료시에는 엔터키) 초롱이\n",
    "# 강아지의 이름을 입력히시오(종료시에는 엔터키) 써니\n",
    "# 강아지의 이름을 입력히시오(종료시에는 엔터키) 팅커벨\n",
    "# 강아지의 이름을 입력히시오(종료시에는 엔터키)\n",
    "# 강아지들의 이름:\n",
    "# 강아지의 이름은 [미나, 초롱이, 써니, 팅커벨] 입니다.\n",
    "\n",
    "dog_list = []\n",
    "\n",
    "while True:\n",
    "    USER_INPUT = input(\"강아지의 이름을 입력하시오(종료시에는 엔터키) \")\n",
    "    if USER_INPUT == \"\":\n",
    "        break\n",
    "    else:\n",
    "        dog_list.append(USER_INPUT)\n",
    "\n",
    "print(f\"강아지의 이름은 {dog_list} 입니다\")\n"
   ]
  }
 ],
 "metadata": {
  "kernelspec": {
   "display_name": "Python 3",
   "language": "python",
   "name": "python3"
  },
  "language_info": {
   "codemirror_mode": {
    "name": "ipython",
    "version": 3
   },
   "file_extension": ".py",
   "mimetype": "text/x-python",
   "name": "python",
   "nbconvert_exporter": "python",
   "pygments_lexer": "ipython3",
   "version": "3.8.8"
  }
 },
 "nbformat": 4,
 "nbformat_minor": 5
}
