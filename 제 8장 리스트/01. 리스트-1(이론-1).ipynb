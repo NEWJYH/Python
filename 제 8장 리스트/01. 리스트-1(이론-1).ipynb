{
 "cells": [
  {
   "cell_type": "markdown",
   "id": "f3f36948",
   "metadata": {},
   "source": [
    "제 8장 리스트"
   ]
  },
  {
   "cell_type": "markdown",
   "id": "b14a9a4d",
   "metadata": {},
   "source": [
    "1. 리스트란?"
   ]
  },
  {
   "cell_type": "markdown",
   "id": "ab65e65d",
   "metadata": {},
   "source": [
    "1) 리스트란?\n",
    "    - 예를 들어 학생 10명의 성적 평균을 계산한다고 가정하자.\n",
    "      평균을 계산하려면 먼저 각 학생들의 성적을 읽어서 어딘가에\n",
    "      저장하여야 한다.\n",
    "      데이터를 저장할 수 있는 곳은 변수이다.\n",
    "      학생이 10명이므로 10개의 변수가 필요할 것이다.\n",
    "      \n",
    "    - 만약 학생이 30명이라면 어덯게 해야할까?\n",
    "      위의 방법대로라면 30개의 정수 변수를 생성하고 \n",
    "      성적을 저장하여야한다.\n",
    "      만약 100명이라면, 아니 10000명이라면 어떻게 할것인가?\n",
    "      이런 식으로 변수를 일일이 생성하다가는 프로그래머의\n",
    "      생활이 아주 힘들어 질것이다. 따라서 다른 방법이 필요하다."
   ]
  },
  {
   "cell_type": "code",
   "execution_count": 7,
   "id": "c76bebf9",
   "metadata": {},
   "outputs": [
    {
     "name": "stdout",
     "output_type": "stream",
     "text": [
      "[0, 0, 0, 0, 0, 0, 0, 0, 0, 0, 0, 0, 0, 0, 0, 0, 0, 0, 0, 0, 0, 0, 0, 0, 0, 0, 0, 0, 0, 0]\n"
     ]
    }
   ],
   "source": [
    "score_list = [0 for i in range(30)]\n",
    "print(score_list)"
   ]
  },
  {
   "cell_type": "markdown",
   "id": "1391af03",
   "metadata": {},
   "source": [
    "1) 리스트란?\n",
    "    - 쉽게 대량의 데이터를 저장할 수 있는 공간을 만들 수 있어야 하고\n",
    "      이 데이터들을 손쉽게 처리할 수 있는 방법이 필요하다.\n",
    "      그래서 탄생하게 된 것이 리스트이다.\n",
    "      리스트를 사용하면 대량의 데이터를 효율적이고 간편하게 처리할수 있다.\n",
    "      리스트는(list) []안에 값을 여러 개의 데이터가 저장되어 있는 장소다.\n",
    "      리스트는 아래와 같이 []안에 값을 나열하면 생성된다."
   ]
  },
  {
   "cell_type": "code",
   "execution_count": null,
   "id": "ea63ab2b",
   "metadata": {},
   "outputs": [],
   "source": [
    "list = [\"값1\", \"값2\"]"
   ]
  },
  {
   "cell_type": "markdown",
   "id": "1b67ff2f",
   "metadata": {},
   "source": [
    "1) 리스트란?\n",
    "    - 예를 들어서 10개의 정수를 저장하고 있는 리스트를 생성하면 다음과 같다"
   ]
  },
  {
   "cell_type": "code",
   "execution_count": null,
   "id": "8750f820",
   "metadata": {},
   "outputs": [],
   "source": [
    "scores = [32, 56, 64, 72, 12, 37, 98, 77, 59, 69]"
   ]
  },
  {
   "cell_type": "markdown",
   "id": "4744ee3d",
   "metadata": {},
   "source": [
    "1) 리스트란?\n",
    "    - 초기값이 있다면 위와 같이 생성하면 되지만 공백 리스트를 생성한 후에\n",
    "      사용자로부터 값을 받아서 리스트에 추가하려면 \n",
    "      append()메소드를 사용한다."
   ]
  },
  {
   "cell_type": "code",
   "execution_count": 8,
   "id": "03f61065",
   "metadata": {
    "scrolled": true
   },
   "outputs": [
    {
     "name": "stdout",
     "output_type": "stream",
     "text": [
      "성적을 입력하시오 : 10\n",
      "성적을 입력하시오 : 20\n",
      "성적을 입력하시오 : 30\n",
      "성적을 입력하시오 : 40\n",
      "성적을 입력하시오 : 50\n",
      "성적을 입력하시오 : 60\n",
      "성적을 입력하시오 : 70\n",
      "성적을 입력하시오 : 80\n",
      "성적을 입력하시오 : 90\n",
      "성적을 입력하시오 : 100\n",
      "[10, 20, 30, 40, 50, 60, 70, 80, 90, 100]\n"
     ]
    }
   ],
   "source": [
    "scores = []\n",
    "for i in range(10):\n",
    "    scores.append(int(input(\"성적을 입력하시오 : \")))\n",
    "print(scores)"
   ]
  },
  {
   "cell_type": "markdown",
   "id": "b75cd407",
   "metadata": {},
   "source": [
    "1) 리스트란?\n",
    "    - 특히 리스트가 꼭 필요한 경우는 서로 관련된 데이터를 차례로\n",
    "      접근하여서 처리하고 싶은 경우이다.\n",
    "      만약 관련된 데이터들이서로 다른 이름을 사용하고 있다면\n",
    "      이들 이름을 일일이 기억해야 할것이다.\n",
    "      그러나, 하나의 이름을 공유하고 단지 번호만 다를 뿐이라면\n",
    "      아주 쉽게 기억할 수 있고 편리하게 사용할 수 있다.\n",
    "      리스트는 근본적으로 데이터들에게 하나하나 이름을 붙이지 않고\n",
    "      전체 집단에 하나의 이름을 부여한 다음, 숫자로 된 번호를 통하여\n",
    "      각각의 데이터에 접근하는 방법이다.\n",
    "      \n",
    "    - 파이썬에서는 다양한 종류의 데이터를 \n",
    "      하나의 리스트 안에 함께 저장할 수 있다."
   ]
  },
  {
   "cell_type": "code",
   "execution_count": null,
   "id": "c5d095a2",
   "metadata": {},
   "outputs": [],
   "source": [
    "myList = [1, \"computer\", 3, 4]\n",
    "myList = [\"apple\",[8,4,5]]"
   ]
  },
  {
   "cell_type": "markdown",
   "id": "48eb809c",
   "metadata": {},
   "source": [
    "1) 리스트란?\n",
    "    - 파이썬의 리스트는 다른 언어의 배열(array)과 유사하다.\n",
    "      하지만, 다른 언어의 배열은 크기가 고정되어 있는 반면에\n",
    "      파이썬의 리스트의 크기는 가변적이다.\n",
    "      즉 요소의 개수에 따라서 커지거나 작아질 수 있다.\n",
    "      또 배열은 같은 데이터 타입만 저장할 수 있지만,\n",
    "      리스트에는 다양한 종류의 데이터 타입형태를 섞어서 저장할 수 있다.\n",
    "      하여 파이썬의 리스트가 배열보다 훨씬 사용하기 편하다.\n",
    "      \n",
    "      \n",
    "      프로그램의 데이터 저장 방식의 변천사\n",
    "       -> 변수 -> 배열 -> 구조체 -> 클래스"
   ]
  },
  {
   "cell_type": "markdown",
   "id": "79e82bfa",
   "metadata": {},
   "source": [
    "2) 리스트 요소 접근하기\n",
    "    - 리스트에 저장된 데이터들을 리스트 요소(array element)라고 한다.\n",
    "      그렇다면 리스트 요소들은 어떤 식으로 접근 해야 하는가?\n",
    "      리스트의 요소에는 번호가 붙어 있는데 이 것을 인덱스(index, 첨자)\n",
    "      라고 칭한다. 리스트의 이름을 쓰고 괄호 [] 안에 번호를 표시하면\n",
    "      리스트 요소가 된다.\n",
    "      예를 들어서 리스트의 이름이 scores라면 리스트 요소는 scores[0],\n",
    "      scores[1], .... 으로 표시된다.\n",
    "      예를 들어서 scores 리스트에서 번호가 5인 요소에 접근하려면 \n",
    "      scores[5]와 같이 적어주면 되는 것이다.\n",
    "      \n",
    "    - 유효한 인데스의 범위는 0에서 (리스트 크기 -1) 까지 이다.\n",
    "    - 리스트 요소는 변수와 100% 동일하다.\n",
    "      리스트 요소에 값을 저장할 수 있고, 리스트 요소에 저장된 값을\n",
    "      꺼낼 수도 있다."
   ]
  },
  {
   "cell_type": "code",
   "execution_count": 39,
   "id": "fd599747",
   "metadata": {},
   "outputs": [
    {
     "name": "stdout",
     "output_type": "stream",
     "text": [
      "[80, 80, 0, 0, 0, 0, 0, 0, 0, 0]\n",
      "[1, 80, 0, 0, 0, 0, 0, 0, 0, 0]\n",
      "[80, 80, 0, 0, 0, 0, 0, 0, 0, 0]\n",
      "[80, 0, 0, 0, 0, 0, 0, 0, 0]\n",
      "[80, 0, 0, 0, 0, 0, 0, 0, 0, 80, 80, 0, 0, 0, 0, 0, 0, 0, 0]\n",
      "[1, 80, 0, 0, 0, 0, 0, 0, 0, 0, 80, 80, 0, 0, 0, 0, 0, 0, 0, 0]\n",
      "[0, 0, 0, 0, 0, 0, 0, 0, 80, 80, 0, 0, 0, 0, 0, 0, 0, 0, 80, 1]\n",
      "[1, 80, 0, 0, 0, 0, 0, 0, 0, 0, 80, 80, 0, 0, 0, 0, 0, 0, 0, 0]\n",
      "[]\n"
     ]
    }
   ],
   "source": [
    "scores=[0 for i in range(10)] # 0으로 초기화 시킨 크기 10의 리스트\n",
    "scores[0] = 80 # 0번째 요소에 80을 저장함\n",
    "scores[1] = scores[0] # 0번째 요소의 값을 1번째 요소로 복사함.\n",
    "print(scores)\n",
    "\n",
    "# scores[i] = 10 # i는 정수 변수\n",
    "# scores[i+2] = 20 # 수식이 인덱스가 된다.\n",
    "\n",
    "lista = scores.copy()\n",
    "lista[0] = 1\n",
    "print(lista)\n",
    "print(scores)\n",
    "# 요소를 선택 삭제\n",
    "lista.remove(1)\n",
    "print(lista)\n",
    "# 리스트 합치기 \n",
    "lista.extend(scores)\n",
    "print(lista)\n",
    "\n",
    "# 리스트 인덱스에 추가하기\n",
    "lista.insert(0,1)\n",
    "# 나머지 뒤로 한칸씩 밀림\n",
    "print(lista)\n",
    "\n",
    "# 리스트 반대로 뒤집기\n",
    "lista.reverse()\n",
    "print(lista)\n",
    "\n",
    "# 리스트 반대로 뒤집기\n",
    "lista = list(reversed(lista))\n",
    "print(lista)\n",
    "\n",
    "# 리스트 비우기\n",
    "lista.clear()\n",
    "print(lista)"
   ]
  },
  {
   "cell_type": "markdown",
   "id": "7aed31ad",
   "metadata": {},
   "source": [
    "2) 리스트 요소 접근하기\n",
    "    - 리스트 요소에 인덱스 범위를 확인하고 \n",
    "      값을 시정하는 코드는 다음과 같다."
   ]
  },
  {
   "cell_type": "code",
   "execution_count": null,
   "id": "84f3336d",
   "metadata": {},
   "outputs": [],
   "source": [
    "if i> 0 and i < len(scores):\n",
    "    scores[i] = number"
   ]
  },
  {
   "cell_type": "markdown",
   "id": "18c15764",
   "metadata": {},
   "source": [
    "3) 리스트 순회하기\n",
    "    - 리스트에 있는 요소들을 순서대로 방문하는 작업은 아주 많이 나타난다.\n",
    "      기본적으로 2가지 방법이 있다.\n",
    "      첫 번째 방법은 인덱스를 사용하여 방문하는 방법이다.\n",
    "      예를 들어서 크기가 10인 scores 리스트를 가정하자.\n",
    "      변수를 0에서 시작하여 하나씩 증가시키면서 \n",
    "      거기에 해당회는 리스트 요소를 방문하는 방법이다."
   ]
  },
  {
   "cell_type": "code",
   "execution_count": 41,
   "id": "842b4ad6",
   "metadata": {},
   "outputs": [
    {
     "name": "stdout",
     "output_type": "stream",
     "text": [
      "0 0\n",
      "1 0\n",
      "2 0\n",
      "3 0\n",
      "4 0\n",
      "5 0\n",
      "6 0\n",
      "7 0\n",
      "8 0\n",
      "9 0\n"
     ]
    }
   ],
   "source": [
    "scores = [0 for _ in range(10)]\n",
    "\n",
    "for i in  range(len(scores)):\n",
    "    print(i,scores[i])"
   ]
  },
  {
   "cell_type": "markdown",
   "id": "333ae251",
   "metadata": {},
   "source": [
    "3) 리스트 순회하기\n",
    "    - 여기서 len(scores)는 리스트의 크기를 반환하므로 10이다.\n",
    "      변수 i는 0,1,2,3,4,...9와 같이 변경되고 scores[i]는\n",
    "      그번호에 해당되는 리스트 요소가 된다.\n",
    "      만약 리스트 요소를 변경할 필요가 있다면 이것이 유일한 방법이다.\n",
    "      "
   ]
  },
  {
   "cell_type": "code",
   "execution_count": 42,
   "id": "6980df10",
   "metadata": {},
   "outputs": [
    {
     "name": "stdout",
     "output_type": "stream",
     "text": [
      "[0, 10, 20, 30, 40, 50, 60, 70, 80, 90]\n"
     ]
    }
   ],
   "source": [
    "for i in range(len(scores)):\n",
    "    scores[i] = i * 10\n",
    "    \n",
    "print(scores)"
   ]
  },
  {
   "cell_type": "markdown",
   "id": "cf14eace",
   "metadata": {},
   "source": [
    "3) 리스트 순회하기\n",
    "    - 단순히 리스트 요소의 값을 알고 싶은 경우에는 아래와 같은 \n",
    "      형식을 사용할 수 있다.\n",
    "      \n",
    "      for 변수 in 리스트:\n",
    "        문장1\n",
    "        문장2\n",
    "        \n",
    "    - 예를 들어서 scores 리스트의 모든 요소를 출력하려면\n",
    "      아래와 같이 할 수 있다."
   ]
  },
  {
   "cell_type": "code",
   "execution_count": 44,
   "id": "6a218166",
   "metadata": {},
   "outputs": [
    {
     "name": "stdout",
     "output_type": "stream",
     "text": [
      "0\n",
      "10\n",
      "20\n",
      "30\n",
      "40\n",
      "50\n",
      "60\n",
      "70\n",
      "80\n",
      "90\n"
     ]
    }
   ],
   "source": [
    "for element in scores:\n",
    "    print(element)"
   ]
  },
  {
   "cell_type": "markdown",
   "id": "0d1526f6",
   "metadata": {},
   "source": [
    "3) 리스트 순회하기\n",
    "    - scores 리스트의 첫 번째 요소부터 변수 element에 할당되고\n",
    "      반복루프 안의 문장들이 실행된다.\n",
    "      한번의 반복이 끝나면 두번째 요소가 변수 element에 할당된다.\n",
    "      이 경우에는 우리가 리스트의 크기에 대하여 신경쓰지 않아도 된다."
   ]
  },
  {
   "cell_type": "markdown",
   "id": "0f3696ea",
   "metadata": {},
   "source": [
    "4) list 클래스\n",
    "    - 리스트는 list 클래스에 의하여 정의된다.\n",
    "      list 클래스의 생성자를 이용해서도 생성할수 있다.\n",
    "      아래는 모두 리스트를 생성하는 방법들이다."
   ]
  },
  {
   "cell_type": "code",
   "execution_count": 45,
   "id": "b417c944",
   "metadata": {},
   "outputs": [
    {
     "name": "stdout",
     "output_type": "stream",
     "text": [
      "[]\n",
      "['h', 'e', 'l', 'l', 'o']\n",
      "[0, 1, 2, 3, 4]\n"
     ]
    }
   ],
   "source": [
    "list1 = list() # 공백 리스트 생성\n",
    "list2 = list(\"hello\") # 문자 h,e,l,l,o를 요소로 가지는 리스트 생성\n",
    "list3 = list(range(0,5)) # 0,1,2,3,4 를 요소로 가지는 리스트 생성\n",
    "print(list1)\n",
    "print(list2)\n",
    "print(list3)"
   ]
  },
  {
   "cell_type": "markdown",
   "id": "b694522b",
   "metadata": {},
   "source": [
    "4) list 클래스\n",
    "    - 위의 방법들은 초기값을 사용하여 리스트를 생성하는 방법과 동일하다.\n",
    "      예를 들어서 위의 문장들은 아래의 문장들과 동일하다."
   ]
  },
  {
   "cell_type": "code",
   "execution_count": 47,
   "id": "26bbc890",
   "metadata": {},
   "outputs": [
    {
     "name": "stdout",
     "output_type": "stream",
     "text": [
      "[]\n",
      "['h', 'e', 'l', 'l', 'o']\n",
      "[0, 1, 2, 3, 4]\n"
     ]
    }
   ],
   "source": [
    "list1 = []\n",
    "list2 = [\"h\",\"e\",\"l\",\"l\",\"o\"]\n",
    "list3 = [0,1,2,3,4]\n",
    "print(list1)\n",
    "print(list2)\n",
    "print(list3)"
   ]
  },
  {
   "cell_type": "code",
   "execution_count": 62,
   "id": "3391c333",
   "metadata": {},
   "outputs": [
    {
     "name": "stdout",
     "output_type": "stream",
     "text": [
      "[0, 0, 0, 0, 0, 0, 0, 0, 0, 0]\n",
      "[0, 1, 4, 9, 16]\n",
      "['0', '1', '0', '2', '1', '8', '6', '9', '0', '8', '0']\n",
      "[0, 1, 0, 2, 1, 8, 6, 9, 0, 8, 0]\n"
     ]
    }
   ],
   "source": [
    "# my controll\n",
    "list1 = [0 for i in range(10)]\n",
    "list2 = list(map(lambda x: x ** 2, range(5)))\n",
    "list3 = list(\"01021869080\")\n",
    "print(list1)\n",
    "print(list2)\n",
    "print(list3)\n",
    "list3 = list(map(int, list3))\n",
    "print(list3)\n",
    "# a,b = map(int,input().split())\n",
    "# print(a,b)"
   ]
  },
  {
   "cell_type": "markdown",
   "id": "92f9df3d",
   "metadata": {},
   "source": [
    "5) 복잡한 리스트\n",
    "    - 동일한 자료형 뿐만 아니라 서로 다른 자료형의 요소를 하나의 리스트\n",
    "      안에 포함할 수 있다.\n",
    "      또 리스트 안에 다른 리스트를 포함시키는 것도 가능하다."
   ]
  },
  {
   "cell_type": "code",
   "execution_count": 76,
   "id": "df6639d6",
   "metadata": {},
   "outputs": [
    {
     "name": "stdout",
     "output_type": "stream",
     "text": [
      "[12, 'dog', 18.45]\n",
      "[['seoul', 10], ['Paris', 12], ['London', 52]]\n",
      "['aaa', ['bbb', ['ccc', ['ddd', ['eee', 45]]]]]\n",
      "aaa\n",
      "bbb\n",
      "ccc\n",
      "ddd\n",
      "eee\n",
      "45\n"
     ]
    }
   ],
   "source": [
    "list1 = [12, \"dog\",18.45] # 혼합 자료형\n",
    "list2 = [[\"seoul\",10],[\"Paris\",12],[\"London\",52]] # 내장 리스트\n",
    "list3 = [\"aaa\",['bbb',[\"ccc\",[\"ddd\",[\"eee\", 45]]]]] # 내장 리스트\n",
    "print(list1)\n",
    "print(list2)\n",
    "print(list3)\n",
    "print(list3[0])\n",
    "print(list3[1][0])\n",
    "#print(list3[1][1])\n",
    "print(list3[1][1][0])\n",
    "#print(list3[1][1][1])\n",
    "print(list3[1][1][1][0])\n",
    "print(list3[1][1][1][1][0])\n",
    "print(list3[1][1][1][1][1])"
   ]
  }
 ],
 "metadata": {
  "kernelspec": {
   "display_name": "Python 3",
   "language": "python",
   "name": "python3"
  },
  "language_info": {
   "codemirror_mode": {
    "name": "ipython",
    "version": 3
   },
   "file_extension": ".py",
   "mimetype": "text/x-python",
   "name": "python",
   "nbconvert_exporter": "python",
   "pygments_lexer": "ipython3",
   "version": "3.8.8"
  }
 },
 "nbformat": 4,
 "nbformat_minor": 5
}
