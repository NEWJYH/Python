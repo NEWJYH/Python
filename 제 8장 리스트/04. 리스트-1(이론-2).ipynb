{
 "cells": [
  {
   "cell_type": "markdown",
   "id": "adc6c8fe",
   "metadata": {},
   "source": [
    "2. 시퀸스 자료형"
   ]
  },
  {
   "cell_type": "markdown",
   "id": "5bcda2c4",
   "metadata": {},
   "source": [
    "1) 시퀸스란?\n",
    "    - 파이썬에서 리스트는 넓게 보면 시퀸스(sequence)자료형에 속한다.\n",
    "      시퀸스에 속하는 자료형들은 순서를 가진 요소들의 집합이라는 \n",
    "      공통적인 특성을 가지고 있으며 문자열, 리스트, 튜플이 \n",
    "      모두 시퀸스의 일종이다.\n",
    "      공식적으로 시퀸스 자료형에는 다음과 같이 6가지의 자료형이 있다.\n",
    "       - 문자열\n",
    "       - 바이트 시퀸스\n",
    "       - 바이트 배열\n",
    "       - 리스트\n",
    "       - 튜플\n",
    "       - range 객체\n",
    "    - 문자열, 리스트, 튜플, 바이트, range 객체들은 상당히 다르게 보이지만,\n",
    "      자세히 살펴보면 다음과 같이 공통적인 특징을 가지고 있다.\n",
    "       - 이 요소들은 순서를 가지고 있다.\n",
    "       - 요소들은 인덱스를 사용하여 참조할 수 있다."
   ]
  },
  {
   "cell_type": "markdown",
   "id": "11e38bc4",
   "metadata": {},
   "source": [
    "1) 시퀸스란?\n",
    "    - 간단한 예로 문자열과 리스트를 비교해 보자."
   ]
  },
  {
   "cell_type": "code",
   "execution_count": 6,
   "id": "f93ff391",
   "metadata": {},
   "outputs": [
    {
     "name": "stdout",
     "output_type": "stream",
     "text": [
      "Wil\n",
      "W l .\n",
      "apple peach pear\n"
     ]
    }
   ],
   "source": [
    "text = \"Will is power.\"\n",
    "print(text[0],text[3],text[-1])\n",
    "first = [\"apple\",\"banana\",\"tomato\",\"peach\",\"pear\"]\n",
    "print(first[0],first[3],first[-1])"
   ]
  },
  {
   "cell_type": "markdown",
   "id": "92ac8047",
   "metadata": {},
   "source": [
    "1) 시퀸스란?\n",
    "    - 문자열과 마찬가지로 리스트도 인덱싱이 가능하다는 것을 알 수 있다.\n",
    "      다른 언어와는 다르게 파이썬은 시퀸스에 해당하는 자료형에는\n",
    "      동일한 연산자와 함수를 사용할 수 있다.\n",
    "      예를 들어서 문자열의 길이나 리스트의 길이는 len() 이라고 불리는\n",
    "      함수로 계산할수 있다."
   ]
  },
  {
   "cell_type": "code",
   "execution_count": 4,
   "id": "4003efd0",
   "metadata": {},
   "outputs": [
    {
     "name": "stdout",
     "output_type": "stream",
     "text": [
      "14\n",
      "5\n"
     ]
    }
   ],
   "source": [
    "text = \"Will is power.\"\n",
    "print(len(text))\n",
    "first = [\"apple\",\"banana\",\"tomato\",\"peach\",\"pear\"]\n",
    "print(len(first))"
   ]
  },
  {
   "cell_type": "markdown",
   "id": "13be7c44",
   "metadata": {},
   "source": [
    "2) 시퀸스에서 가능한 연산과 함수\n",
    "    - 리스트에서 사용할 수 있는 연산자와 함수는 무척 많다.\n",
    "      그 중에서도 가장 많이 사용되느 연산자나 함수는 다음과 같다."
   ]
  },
  {
   "cell_type": "code",
   "execution_count": null,
   "id": "79ead527",
   "metadata": {},
   "outputs": [],
   "source": [
    "함수나 연산자    설명             예                결과\n",
    "len()          길이 계산         len([1,2,3])     3\n",
    "+              2개의 시퀸스 연결  [1,2]+[3,4,5]    [1,2,3,4,5]\n",
    "*              반복             [\"welcome!\"] * 3 [\"welcome!\",\n",
    "                                                 \"welcome!\",\n",
    "                                                 \"welcome!\"]\n",
    "in             소속             3 in [1,2,3]      True\n",
    "not in         소속하지 않음     5 not in [1,2,3]   True\n",
    "[]             인덱스           myList[1]          1\n",
    "min()          시퀸스에서 가장 작은 요소 min([1,2,3])  1\n",
    "max()          시퀸스에서 가장 큰 요소   max([1,2,3])  3\n",
    "for 루프        반복             for x in [1,2,3]:print(x) 1 2 3"
   ]
  },
  {
   "cell_type": "markdown",
   "id": "d4892474",
   "metadata": {},
   "source": [
    "3. 인덱싱과 슬라이싱"
   ]
  },
  {
   "cell_type": "markdown",
   "id": "2837703c",
   "metadata": {},
   "source": [
    "1) 인덱싱\n",
    "    - 인덱싱(indexing)이란 리스트에서 하나의 요소를 인덱스 연산자를 \n",
    "      통하여 참조(접근)하는 것을 의미한다.\n",
    "      인덱스는 정수이며, 항상 0에서부터 시작한다는 것을 잊으면 안된다."
   ]
  },
  {
   "cell_type": "code",
   "execution_count": 8,
   "id": "4753feb9",
   "metadata": {},
   "outputs": [
    {
     "data": {
      "text/plain": [
       "'두부'"
      ]
     },
     "execution_count": 8,
     "metadata": {},
     "output_type": "execute_result"
    }
   ],
   "source": [
    "shopping_list =[\"두부\",\"양배추\",\"딸기\",\"사과\",\"토마토\"]\n",
    "shopping_list[0]"
   ]
  },
  {
   "cell_type": "markdown",
   "id": "43316503",
   "metadata": {},
   "source": [
    "1) 인덱싱\n",
    "    - 리스트의 인덱스는 0에서 \n",
    "      (len(shopping_list)-1)까지의 범위를 가진다.\n",
    "      shopping_list[index]는 하나의 변수와 똑같이 사용이 가능하다.\n",
    "      예를 들어서 shopping_list[0]의 값을 변수 item에 할당할 수 있다.\n",
    "      \n",
    "    - 파이썬에서는 음수 인덱스가 가능하다.\n",
    "      shopping_list[-1]은 리스트의 마지막 원소를 나타낸다.\n",
    "      shopping_list[-3]은 리스트의 마지막에서 세번째 있는 요소를 \n",
    "      나타낸다.\n",
    "      음수 인덱스가 사용될 때는 list[음수인덱스 + 리스트길이]와 같이\n",
    "      계산하면 된다."
   ]
  },
  {
   "cell_type": "markdown",
   "id": "ebe30897",
   "metadata": {},
   "source": [
    "1) 인덱싱\n",
    "    - 리스트의 크기를 넘어서는 인덱스를 사용하면 IndexError가 발생된다.\n",
    "      예를 들어서 다음과 같은 경우에는 오류가 발생한다."
   ]
  },
  {
   "cell_type": "code",
   "execution_count": 9,
   "id": "65d6eff5",
   "metadata": {},
   "outputs": [
    {
     "ename": "IndexError",
     "evalue": "list index out of range",
     "output_type": "error",
     "traceback": [
      "\u001b[1;31m---------------------------------------------------------------------------\u001b[0m",
      "\u001b[1;31mIndexError\u001b[0m                                Traceback (most recent call last)",
      "\u001b[1;32m<ipython-input-9-85d9bfd32a75>\u001b[0m in \u001b[0;36m<module>\u001b[1;34m\u001b[0m\n\u001b[0;32m      1\u001b[0m \u001b[0mshopping_list\u001b[0m \u001b[1;33m=\u001b[0m \u001b[1;33m[\u001b[0m\u001b[1;34m\"두부\"\u001b[0m\u001b[1;33m,\u001b[0m\u001b[1;34m\"양배추\"\u001b[0m\u001b[1;33m,\u001b[0m\u001b[1;34m\"딸기\"\u001b[0m\u001b[1;33m]\u001b[0m\u001b[1;33m\u001b[0m\u001b[1;33m\u001b[0m\u001b[0m\n\u001b[1;32m----> 2\u001b[1;33m \u001b[0mshopping_list\u001b[0m\u001b[1;33m[\u001b[0m\u001b[1;36m4\u001b[0m\u001b[1;33m]\u001b[0m\u001b[1;33m\u001b[0m\u001b[1;33m\u001b[0m\u001b[0m\n\u001b[0m",
      "\u001b[1;31mIndexError\u001b[0m: list index out of range"
     ]
    }
   ],
   "source": [
    "shopping_list = [\"두부\",\"양배추\",\"딸기\"]\n",
    "shopping_list[4]"
   ]
  },
  {
   "cell_type": "markdown",
   "id": "4b1b721b",
   "metadata": {},
   "source": [
    "2) 슬라이싱\n",
    "    - 슬라이싱(slicing)은 리스트 안에서 범위를 지정하여서\n",
    "      원하는 요소들을 선택하는 연산이다.\n",
    "      myList[start:end]와 같은 형식을 사용한다.\n",
    "      myList[start:end]라고 하면 start인덱스에 있는 요소부터\n",
    "      end-1인덱스에 있는 요소까지 선택된다."
   ]
  },
  {
   "cell_type": "code",
   "execution_count": 12,
   "id": "10ac1ea3",
   "metadata": {},
   "outputs": [
    {
     "data": {
      "text/plain": [
       "[3, 4, 5]"
      ]
     },
     "execution_count": 12,
     "metadata": {},
     "output_type": "execute_result"
    }
   ],
   "source": [
    "myList = [0,1,2,3,4,5,6,7]\n",
    "myList[3:6]"
   ]
  },
  {
   "cell_type": "markdown",
   "id": "8536da0f",
   "metadata": {},
   "source": [
    "2) 슬라이싱\n",
    "    - 예를 들어서 거듭제곱 값들을 모아서 리스트 안에 저장하였다고 하자."
   ]
  },
  {
   "cell_type": "code",
   "execution_count": 13,
   "id": "f7f28f14",
   "metadata": {},
   "outputs": [
    {
     "data": {
      "text/plain": [
       "[9, 16, 25]"
      ]
     },
     "execution_count": 13,
     "metadata": {},
     "output_type": "execute_result"
    }
   ],
   "source": [
    "squares = [0,1,4,9,16,25,36,49]\n",
    "squares[3:6] # 슬라이싱은 새로운 리스트를 반환한다"
   ]
  },
  {
   "cell_type": "markdown",
   "id": "1a07d427",
   "metadata": {},
   "source": [
    "2) 슬라이싱\n",
    "    - 슬라이싱 연산은 요구된 요소를 포함하는 부분 리스트를 반환한다.\n",
    "      즉 슬라이싱 연산을 하면 리스트의 새로운 복사본을 얻을 수 있다는\n",
    "      이야기이다. \n",
    "      슬라이싱 연산에서 시작 인덱스와 종료 인덱스는 생략될수 있다. \n",
    "      인덱스가 생략되면 시작 인덱스는 0이 되고 \n",
    "      종료 인덱스는 (리스트길이 -1)이 된다."
   ]
  },
  {
   "cell_type": "code",
   "execution_count": 18,
   "id": "cb2ac2fb",
   "metadata": {},
   "outputs": [
    {
     "data": {
      "text/plain": [
       "[0, 1, 4, 9, 16, 25, 36, 49]"
      ]
     },
     "execution_count": 18,
     "metadata": {},
     "output_type": "execute_result"
    }
   ],
   "source": [
    "squares = [0,1,4,9,16,25,36,49]\n",
    "squares[3:] # [9, 16, 25, 36, 49]\n",
    "squares[:3] # [0, 1, 4]\n",
    "squares[:] # [0, 1, 4, 9, 16, 25, 36, 49]"
   ]
  },
  {
   "cell_type": "markdown",
   "id": "4e3dd9f2",
   "metadata": {},
   "source": [
    "2) 슬라이싱\n",
    "    - squares[:3]은 squares[0:3] 과 동일하고\n",
    "      squares[4:0]은 squares[4:len(squares)-1]과 동일하다.\n",
    "      \n",
    "      squares[:]에서 시작인덱스와 종료 인덱스가 모두 생략된 형태로\n",
    "      squares[0:len(squares)-1]과 같다."
   ]
  },
  {
   "cell_type": "markdown",
   "id": "a676368b",
   "metadata": {},
   "source": [
    "2) 슬라이싱\n",
    "    - 문자열과는 다르게 리스트는 변경 가능하다.\n",
    "      즉, 우리는 언제든지 리스트의 내용을 변경할 수 있다."
   ]
  },
  {
   "cell_type": "code",
   "execution_count": 27,
   "id": "f8eaf2dd",
   "metadata": {},
   "outputs": [
    {
     "data": {
      "text/plain": [
       "[0, 1, 4, 9, 16, 25, 36, 49]"
      ]
     },
     "execution_count": 27,
     "metadata": {},
     "output_type": "execute_result"
    }
   ],
   "source": [
    "squares = [0,1,4,9,16,25,36,48]\n",
    "# 잘못된 부분 7의 제곱은 49임\n",
    "squares[7] = 49\n",
    "squares[:8]"
   ]
  },
  {
   "cell_type": "markdown",
   "id": "8b4a178f",
   "metadata": {},
   "source": [
    "2) 슬라이싱\n",
    "    - 우리는 슬라이싱에 값을 대입하는 것도 가능하다.\n",
    "      리스트의 크기를 변경하는 것도 가능하다.\n",
    "      공백 리스트로 모든 요소들을 대체하여 리스트의 내용을 완전히 삭제하는 \n",
    "      것도 가능하다."
   ]
  },
  {
   "cell_type": "code",
   "execution_count": 33,
   "id": "1707c5b2",
   "metadata": {},
   "outputs": [
    {
     "data": {
      "text/plain": [
       "['a', 'b', 'f', 'g']"
      ]
     },
     "execution_count": 33,
     "metadata": {},
     "output_type": "execute_result"
    }
   ],
   "source": [
    "# 인덱스    0    1   2   3    4   5   6\n",
    "letters = ['a','b','c','d','e','f','g']\n",
    "letters\n",
    "letters[2:5] = [\"C\",\"D\",\"E\"] # 리스트의 일부를 변경해보자. \n",
    "letters # ['a', 'b', 'C', 'D', 'E', 'f', 'g']\n",
    "letters[2:5] = [] # 리스트 일부를 삭제해 보자.\n",
    "letters # ['a', 'b', 'f', 'g']"
   ]
  }
 ],
 "metadata": {
  "kernelspec": {
   "display_name": "Python 3",
   "language": "python",
   "name": "python3"
  },
  "language_info": {
   "codemirror_mode": {
    "name": "ipython",
    "version": 3
   },
   "file_extension": ".py",
   "mimetype": "text/x-python",
   "name": "python",
   "nbconvert_exporter": "python",
   "pygments_lexer": "ipython3",
   "version": "3.8.8"
  }
 },
 "nbformat": 4,
 "nbformat_minor": 5
}
