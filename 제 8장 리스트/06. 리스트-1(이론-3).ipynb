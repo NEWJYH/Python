{
 "cells": [
  {
   "cell_type": "markdown",
   "id": "b18baede",
   "metadata": {},
   "source": [
    "4. 리스트의 기초 연산들"
   ]
  },
  {
   "cell_type": "markdown",
   "id": "619680e2",
   "metadata": {},
   "source": [
    "1) 리스트 합병과 반복\n",
    "    - 앞에서 두 개의 리스트를 합칠 때는 연결 연산자인 + 연산자를 사용할 수 있었다."
   ]
  },
  {
   "cell_type": "code",
   "execution_count": 1,
   "id": "268cc20a",
   "metadata": {},
   "outputs": [
    {
     "name": "stdout",
     "output_type": "stream",
     "text": [
      "['스파이더맨', '헐크', '아이언맨', '슈퍼맨', '배트맨', '원더우먼']\n"
     ]
    }
   ],
   "source": [
    "marvel_heroes = [\"스파이더맨\",\"헐크\",\"아이언맨\"]\n",
    "dc_heroes = [\"슈퍼맨\",\"배트맨\",\"원더우먼\"]\n",
    "heroes = marvel_heroes +dc_heroes\n",
    "print(heroes)"
   ]
  },
  {
   "cell_type": "markdown",
   "id": "c81d4dd1",
   "metadata": {},
   "source": [
    "1) 리스트 합병과 반복\n",
    "    - 리스트를 반복하는 것도 반복 연산자인 *을 사용하면 된다."
   ]
  },
  {
   "cell_type": "code",
   "execution_count": 2,
   "id": "c13971cb",
   "metadata": {},
   "outputs": [
    {
     "name": "stdout",
     "output_type": "stream",
     "text": [
      "[1, 2, 3, 1, 2, 3, 1, 2, 3]\n"
     ]
    }
   ],
   "source": [
    "values = [1,2,3] * 3\n",
    "print(values)"
   ]
  },
  {
   "cell_type": "markdown",
   "id": "7cd038ed",
   "metadata": {},
   "source": [
    "2) 리스트의 길이\n",
    "    - len() 연산은 리스트의 길이를 계산하여 반환한다."
   ]
  },
  {
   "cell_type": "markdown",
   "id": "8f7d6301",
   "metadata": {},
   "source": [
    "3) 요소 추가하기\n",
    "    - append()를 사용하여서 리스트의 긑에 새로운 항목을 추가할 수 있다."
   ]
  },
  {
   "cell_type": "markdown",
   "id": "603d2967",
   "metadata": {},
   "source": [
    "4) 요소 삽입하기\n",
    "    - append()메소드는 리스트의 끝에 새로운 요소를 추가한다.\n",
    "      우리는 종종 기존 리스트의 특정한 위치에 새로운 요소를 추가하기를 원한다.\n",
    "      이런 경우에 사용할 수 있는 메소드가 insert()이다.\n",
    "      다음과 같은 리스트의 인덱스 1에 \"생수\"를 추가하여 보자"
   ]
  },
  {
   "cell_type": "code",
   "execution_count": 5,
   "id": "4aec7346",
   "metadata": {},
   "outputs": [
    {
     "name": "stdout",
     "output_type": "stream",
     "text": [
      "['두부', '생수', '양배추', '딸기']\n"
     ]
    }
   ],
   "source": [
    "shopping_list = [\"두부\",\"양배추\",\"딸기\"]\n",
    "shopping_list.insert(1,\"생수\")\n",
    "print(shopping_list)\n",
    "\n",
    "# \"생수\" 항복이 인덱스 1에 추가되었고,\n",
    "# 이후의 항목들은 모두 뒤로 한칸 이동한 것을 알 수 있다."
   ]
  },
  {
   "cell_type": "markdown",
   "id": "5df612d1",
   "metadata": {},
   "source": [
    "5) 요소 찾기\n",
    "    - 리스트에 어떤 요소가 있는지를 찾는 연산도 많이 사용된다.\n",
    "      어떤 요소가 리스트에 있는지 없는지만 알려면 in연산자를 사용하면 된다."
   ]
  },
  {
   "cell_type": "code",
   "execution_count": 6,
   "id": "68f940b9",
   "metadata": {},
   "outputs": [
    {
     "name": "stdout",
     "output_type": "stream",
     "text": [
      "배트맨은 영웅입니다.\n"
     ]
    }
   ],
   "source": [
    "dc_heroes = [\"슈퍼맨\",\"배트맨\",\"원더우먼\"]\n",
    "if \"배트맨\" in dc_heroes:\n",
    "    print(\"배트맨은 영웅입니다.\")"
   ]
  },
  {
   "cell_type": "markdown",
   "id": "7aa63d1a",
   "metadata": {},
   "source": [
    "5) 요소 찾기\n",
    "    - 우리는 종종 어떤 요소의 리스트 안에서의 위치를 알아야 한다.\n",
    "      이런 경우에 사용할 수 있는 메소드가 index()이다.\n",
    "      예를 들어서 리스트에서 \"슈퍼맨\"의 인덱스를 알고 싶다면 다음과 같이 한다."
   ]
  },
  {
   "cell_type": "code",
   "execution_count": 8,
   "id": "db8f2229",
   "metadata": {},
   "outputs": [
    {
     "name": "stdout",
     "output_type": "stream",
     "text": [
      "0\n"
     ]
    }
   ],
   "source": [
    "heroes = [\"슈퍼맨\",\"배트맨\",\"원더우먼\"]\n",
    "index = heroes.index(\"슈퍼맨\")\n",
    "print(index)"
   ]
  },
  {
   "cell_type": "markdown",
   "id": "b4b65514",
   "metadata": {},
   "source": [
    "5) 요소 찾기\n",
    "    - 만약 리스트에 없는 항목을 index()로 찾으면 오류가 발생할 수 있다.\n",
    "      따라서 다음과 같이 먼저 리스트에 있는지를 확인한 후에 \n",
    "      항목의 인덱스를 찾는 것이 안전하다."
   ]
  },
  {
   "cell_type": "code",
   "execution_count": 9,
   "id": "e8451476",
   "metadata": {},
   "outputs": [
    {
     "name": "stdout",
     "output_type": "stream",
     "text": [
      "0\n"
     ]
    }
   ],
   "source": [
    "heroes = [\"슈퍼맨\",\"배트맨\",\"원더우먼\"]\n",
    "if \"슈퍼맨\" in heroes:\n",
    "    index = heroes.index(\"슈퍼맨\")\n",
    "print(index)"
   ]
  },
  {
   "cell_type": "markdown",
   "id": "f78607aa",
   "metadata": {},
   "source": [
    "6) 요소 삭제하기\n",
    "    - pop() 메소드는 특정한 위치에 있는 항목을 삭제한다.\n",
    "      pop(1) 하면 인덱스 1에 있는 항목이 삭제되는 동시에 반환된다."
   ]
  },
  {
   "cell_type": "code",
   "execution_count": 14,
   "id": "ee3e8e4f",
   "metadata": {},
   "outputs": [
    {
     "name": "stdout",
     "output_type": "stream",
     "text": [
      "배트맨\n",
      "['슈퍼맨', '헐크', '아이언맨', '스파이더맨']\n"
     ]
    }
   ],
   "source": [
    "heroes = [\"슈퍼맨\",\"배트맨\",\"헐크\",\"아이언맨\",\"스파이더맨\"]\n",
    "print(heroes.pop(1))\n",
    "print(heroes)\n",
    "# stack_pop() 제일 뒤에 값을 반환\n",
    "# pop()할시 제일 마지막 인덱스 반환 및 제거"
   ]
  },
  {
   "cell_type": "markdown",
   "id": "7d2b2f3c",
   "metadata": {},
   "source": [
    "6) 요소 삭제하기\n",
    "    - remove()메소드는 항목을 받아서 제거한다.\n",
    "      pop()과 다른점은 항목의 값을 받아서 일치하는 항목을 삭제한다는 것이다.\n",
    "      아울러 삭제된 값은 반환되지 않는다."
   ]
  },
  {
   "cell_type": "code",
   "execution_count": 11,
   "id": "65c80305",
   "metadata": {},
   "outputs": [
    {
     "name": "stdout",
     "output_type": "stream",
     "text": [
      "['슈퍼맨', '배트맨', '원더우먼', '헐크', '아이언맨', '스파이더맨']\n"
     ]
    }
   ],
   "source": [
    "heroes = [\"슈퍼맨\",\"배트맨\",\"헐크\",\"아이언맨\",\"스파이더맨\",\"조커\"]\n",
    "heroes.remove(\"조커\")\n",
    "print(heroes)"
   ]
  },
  {
   "cell_type": "markdown",
   "id": "c4899ac4",
   "metadata": {},
   "source": [
    "7) 리스트 일치 검사\n",
    "    - 비교 연산자 ==, !=, >, < 를 사용하여 2개의 리스트를 비교할수 있다.\n",
    "      !!!\n",
    "      리스트를 비교하려면, 먼저 2개의 리스트가 동일한 자료형의 요소를 가지고 \n",
    "      있어야한다.\n",
    "      !!!\n",
    "      리스트의 첫 번째 요소들을 비교한다.\n",
    "      첫번째 요소의 비교에서 False가 나오면 더 이상 비교는 없고 False가 그대로\n",
    "      출력된다.\n",
    "      첫 번째 요소가 같으면 두 번째 요소를 꺼내서 비교한다.\n",
    "      리스트 안의 모든 요소가 비교될 때까지 동일한 작업을 반복한다.\n",
    "      리스트 안의 모든 요소를 비교하여 모두 True가 나오면 전체 결과가 True가 된다.\n",
    "      \n",
    "    - 예를 들어서 list1과 list2를 연산자를 이용하여 비교해보면 다음과 같다.\n",
    "      첫 번째 요소가 ==로 비교되고 이어서 두 번째 요소가 ==로 비교된다.\n",
    "      리스트의 모든 요소에 대하여 연산이 True가 나오면 list1 == list2도\n",
    "      True가 된다."
   ]
  },
  {
   "cell_type": "code",
   "execution_count": 15,
   "id": "b3288fbf",
   "metadata": {},
   "outputs": [
    {
     "name": "stdout",
     "output_type": "stream",
     "text": [
      "True\n"
     ]
    }
   ],
   "source": [
    "list1 = [1,2,3]\n",
    "list2 = [1,2,3]\n",
    "print(list1==list2)\n",
    "# 논리적 동등\n",
    "# 주소는 다름\n",
    "# 타언어에서는 == 주소값 비교라고 하는데\n",
    "# python에서는 같다고 함. "
   ]
  },
  {
   "cell_type": "markdown",
   "id": "cf59cfab",
   "metadata": {},
   "source": [
    "7) 리스트 일치 검사\n",
    "    - ==를 이용하여 2개의 리스트를 비교할 때, 리스트의 길이가 다르면 False가 된다."
   ]
  },
  {
   "cell_type": "code",
   "execution_count": 16,
   "id": "78e91cce",
   "metadata": {},
   "outputs": [
    {
     "name": "stdout",
     "output_type": "stream",
     "text": [
      "False\n"
     ]
    }
   ],
   "source": [
    "list1 = [1,2,3]\n",
    "list2 = [1,2]\n",
    "print(list1==list2)"
   ]
  },
  {
   "cell_type": "markdown",
   "id": "69f7bca3",
   "metadata": {},
   "source": [
    "8) 리스트 정렬하기\n",
    "    - 리스트의 요소들을 크기 순으로 정렬시키는 연산은 아주 많이 사용된다.\n",
    "      리스트를 정렬하는 방법에는 다음과 같이 2가지 방법이 있다.\n",
    "      2가지 방법이 약간 다르다.\n",
    "          - 리스트 객체의 sort() 메소드를 사용하는 방법\n",
    "          - sorted() 내장 함수를 사용하는 방법\n",
    "    - sort() 메소드는 리스트를 제자리(in-place)에서 정렬한다.\n",
    "      따라서 sort()가 호출되면 원본 리스트가 변경된다.\n",
    "      아래의 코드에서 리스트 li는 정렬된 상태로 변경된다."
   ]
  },
  {
   "cell_type": "code",
   "execution_count": 17,
   "id": "7a977630",
   "metadata": {},
   "outputs": [
    {
     "name": "stdout",
     "output_type": "stream",
     "text": [
      "[1, 2, 3, 4, 5]\n"
     ]
    }
   ],
   "source": [
    "li = [3,2,1,5,4]\n",
    "li.sort()\n",
    "print(li)"
   ]
  },
  {
   "cell_type": "markdown",
   "id": "8806d766",
   "metadata": {},
   "source": [
    "8) 리스트 정렬하기\n",
    "    - 원본을 유지하고 \n",
    "      새로이 정렬된 리스트를 원한다면 \n",
    "      내장 함수인 sorted()를 사용하는 것이 좋다. \n",
    "      sorted()는 정렬 된 새로운 리스트를 반환한다."
   ]
  },
  {
   "cell_type": "code",
   "execution_count": 18,
   "id": "73f7c4a6",
   "metadata": {},
   "outputs": [
    {
     "name": "stdout",
     "output_type": "stream",
     "text": [
      "[1, 2, 3, 4, 5]\n"
     ]
    }
   ],
   "source": [
    "li = [3,2,1,5,4]\n",
    "s_li = sorted(li)\n",
    "print(s_li)"
   ]
  },
  {
   "cell_type": "markdown",
   "id": "c80f0edc",
   "metadata": {},
   "source": [
    "8) 리스트 정렬하기\n",
    "    - 리스트를 정렬할 때, key매개 변수를 이용하여 요소들을 비교하기전에\n",
    "      sorted()함수에 연결하여 호출되는 함수를 지정할 수 있다.\n",
    "      예를 들어서 split()함수를 연결해서 단어(토큰)별로 분리 후,\n",
    "      key 매개변수에 str.lower 값을 지정하면\n",
    "      아스키 코드(한글이면 유니코드)별로 정렬할 수 있다."
   ]
  },
  {
   "cell_type": "code",
   "execution_count": 28,
   "id": "b0cd4054",
   "metadata": {},
   "outputs": [
    {
     "name": "stdout",
     "output_type": "stream",
     "text": [
      "['A', 'a', 'is', 'picture', 'thousand', 'words.', 'worth']\n"
     ]
    }
   ],
   "source": [
    "li = sorted(\"A picture is worth a thousand words.\".split(), key=str.lower)\n",
    "print(li)"
   ]
  },
  {
   "cell_type": "markdown",
   "id": "1a8dd5de",
   "metadata": {},
   "source": [
    "8) 리스트 정렬하기\n",
    "    - list.sort()와 sorted()는 \n",
    "      모두 부울형의 reverse 매개 변수를 가진다.\n",
    "      이 매개변수는 정렬 방향을 지정하는데 사용된다.\n",
    "      예를 들어서 리스트를 역순으로 정렬하려면 다음과 같이 한다."
   ]
  },
  {
   "cell_type": "code",
   "execution_count": 26,
   "id": "94f9261d",
   "metadata": {},
   "outputs": [
    {
     "name": "stdout",
     "output_type": "stream",
     "text": [
      "[5, 4, 3, 2, 1]\n",
      "[1, 2, 3, 4, 5]\n",
      "[1, 2, 3, 4, 5]\n"
     ]
    }
   ],
   "source": [
    "li = sorted([5,2,3,1,4], reverse=True)\n",
    "print(li)\n",
    "li = sorted([5,2,3,1,4])\n",
    "print(li)\n",
    "li = sorted([5,2,3,1,4], reverse=False)\n",
    "print(li)\n",
    "# sorted와 sort의 차이점 \n",
    "# sort는 리스트원본이 오름차순으로 정리됨\n",
    "# sorted는 인자로 리스트를 받고 오름차순으로 새로운 리스트를 반환한다.\n",
    "\n",
    "# sorted와 sort의 공통된 매개변수 reverse \n",
    "# reverse가 True이면 내림차순으로 정렬된다.\n",
    "# 기본값은 False로 오름차순이다."
   ]
  },
  {
   "cell_type": "markdown",
   "id": "cff8b0e7",
   "metadata": {},
   "source": [
    "9) 문자열에서 리스트 만들기\n",
    "    - 문자열의 split() 메소드는 문자열을 분리하고, \n",
    "      이것을 리스트로 만들어서 반환한다.\n",
    "    \n",
    "    - 이 때 문자열을 분리하는 분리자(seperator)를 지정할 수 있다.\n",
    "      만약, 분리자가 지정되지 않으면 스페이스를 이용하여 문자열을 분리한다."
   ]
  },
  {
   "cell_type": "code",
   "execution_count": 29,
   "id": "29a38eba",
   "metadata": {},
   "outputs": [
    {
     "name": "stdout",
     "output_type": "stream",
     "text": [
      "['Where', 'there', 'is', 'a', 'will,there', 'is', 'a', 'way']\n"
     ]
    }
   ],
   "source": [
    "statement = \"Where there is a will,there is a way\"\n",
    "li = statement.split()\n",
    "print(li)"
   ]
  },
  {
   "cell_type": "markdown",
   "id": "d7aba1fb",
   "metadata": {},
   "source": [
    "9) 문자열에서 리스트 만들기\n",
    "    - 만약 ,(콤마)를 이용하여 문자열을 분리하려고 한다면 다음과 같이 한다."
   ]
  },
  {
   "cell_type": "code",
   "execution_count": 30,
   "id": "aa38b110",
   "metadata": {
    "scrolled": true
   },
   "outputs": [
    {
     "name": "stdout",
     "output_type": "stream",
     "text": [
      "['Where there is a will', 'there is a way']\n"
     ]
    }
   ],
   "source": [
    "statement = \"Where there is a will,there is a way\"\n",
    "li = statement.split(\",\")\n",
    "print(li)"
   ]
  },
  {
   "cell_type": "code",
   "execution_count": null,
   "id": "c8a65b29",
   "metadata": {},
   "outputs": [],
   "source": [
    "mylist = [1,2,3,4,5,6,7,8,9]\n",
    "# 리스트 연산 정리\n",
    "# 연산의 예                          설명\n",
    "mylist[2]                         # 인덱스 2에 있는 요소\n",
    "mylist[2] = 3                     # 인덱스 2에 있는 요소를 3으로 설정한다.\n",
    "del mylist[2]                     # 인덱스 2에 있는 요소를 삭제한다.\n",
    "len(mylist)                       # mylist의 길이를 반환한다.\n",
    "\"value\" in mylist:                # \"value\"가 mylist에 있으면 True\n",
    "\"value\" not in mylist :           # \"value\"가 mylist에 없으면 True\n",
    "mylist.sort()                     # mylist를 오름차순 정렬한다.\n",
    "mylist.index(\"value\")             # \"value\"가 발견된 위치를 반환한다.\n",
    "mylist.append(\"value\")            # mylist끝에 value요소를 추가한다.\n",
    "mylist.remove(\"value\")            # mylist에서 \"value\"가 나타나는 위치를\n",
    "                                  # 찾아서 삭제한다. "
   ]
  }
 ],
 "metadata": {
  "kernelspec": {
   "display_name": "Python 3",
   "language": "python",
   "name": "python3"
  },
  "language_info": {
   "codemirror_mode": {
    "name": "ipython",
    "version": 3
   },
   "file_extension": ".py",
   "mimetype": "text/x-python",
   "name": "python",
   "nbconvert_exporter": "python",
   "pygments_lexer": "ipython3",
   "version": "3.8.8"
  }
 },
 "nbformat": 4,
 "nbformat_minor": 5
}
