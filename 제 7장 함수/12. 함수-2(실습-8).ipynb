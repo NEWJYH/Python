{
 "cells": [
  {
   "cell_type": "code",
   "execution_count": null,
   "id": "ab20423d",
   "metadata": {},
   "outputs": [],
   "source": [
    "# 함수를 사용한 프로그램 설계\n",
    "\n",
    "# 1. 요구사항이 들어오면 철저하게 분석을 해야된다.\n",
    "#    요구사항 명세서, 사규 , 데이터 등 \n",
    "\n",
    "# 2. 문제를 한번에 해결하려고 하지말고 더 작은 크기의 문제들로 분해한다.\n",
    "#    문제가 충분히 작아질 때까지 지속적으로 분해를 하도록 해야 한다.\n",
    "\n",
    "# 3. 더 이상 분해가 되지 않는 그러한 부분에 도달을 했을 떄,\n",
    "#    비로소 해당하는기능을 함수로 만들어서 조립해서 최종적인 프로그램을 완성\n",
    "\n",
    "# 4. 솔루션(solution)을 단위 테스트 및 통합 테스트 까지 완료하고,\n",
    "#    비로소 회사에 배포를 하고 안정화를 시켜줘야 한다."
   ]
  },
  {
   "cell_type": "code",
   "execution_count": 3,
   "id": "4faef96c",
   "metadata": {},
   "outputs": [
    {
     "name": "stdout",
     "output_type": "stream",
     "text": [
      "성적을 입력하세요 : 30\n",
      "음수 입력시 종료\n",
      "성적을 입력하세요 : 77\n",
      "음수 입력시 종료\n",
      "성적을 입력하세요 : 85\n",
      "음수 입력시 종료\n",
      "성적을 입력하세요 : 95\n",
      "음수 입력시 종료\n",
      "성적을 입력하세요 : 5\n",
      "음수 입력시 종료\n",
      "성적을 입력하세요 : -5\n",
      "음수 입력시 종료\n",
      "1번째 성적 : 5\n",
      "2번째 성적 : 30\n",
      "3번째 성적 : 77\n",
      "4번째 성적 : 85\n",
      "5번째 성적 : 95\n"
     ]
    }
   ],
   "source": [
    "# grade.py\n",
    "# grade모듈 만들기\n",
    "\n",
    "# 아래 함수는 사용자로부터 성적을 입력 받는다.\n",
    "# 사용자가 음수를 입력 하면 성적을 입력받는 것을 멈추도록 한다.\n",
    "\n",
    "def readList():\n",
    "    score_list = [] # 성적을 저장할 리스트 타입의 변수 선언\n",
    "    flag = True     # 무한루프를 빠져나가기 위한 불타입 변수\n",
    "    # 무한루프\n",
    "    while flag:\n",
    "        score = int(input(\"성적을 입력하세요 : \"))\n",
    "        print(\"음수 입력시 종료\")\n",
    "        # 음수가 들어 왔는지 체크하는 부분 (무한루프 탈출 구간)\n",
    "        if score < 0:\n",
    "            flag = False\n",
    "        else:\n",
    "            # 점수를 리스트에 추가하는 코드\n",
    "            score_list.append(score)\n",
    "    return score_list\n",
    "\n",
    "# 입력받은 성적의 오름차순 정렬하는 함수\n",
    "def sortingList(score_list):\n",
    "    # 오름차순 정렬\n",
    "    score_list.sort()\n",
    "    return score_list\n",
    "            \n",
    "# 오름차순 정렬이 된 성적을 출력하는 함수\n",
    "def show_score(score_list):\n",
    "    cnt = 1\n",
    "    for i in score_list:\n",
    "        print(f\"{cnt}번째 성적 : {i}\")\n",
    "        cnt += 1\n",
    "\n",
    "# import grade\n",
    "def main():\n",
    "    # score_lsit = grade.readList()\n",
    "    score_list = readList()\n",
    "    # score_lsit = grade.sortingList(score_list)\n",
    "    score_list = sortingList(score_list)\n",
    "    # grade. show_score(score_list)\n",
    "    show_score(score_list)\n",
    "\n",
    "if __name__ == \"__main__\":\n",
    "    main()"
   ]
  }
 ],
 "metadata": {
  "kernelspec": {
   "display_name": "Python 3",
   "language": "python",
   "name": "python3"
  },
  "language_info": {
   "codemirror_mode": {
    "name": "ipython",
    "version": 3
   },
   "file_extension": ".py",
   "mimetype": "text/x-python",
   "name": "python",
   "nbconvert_exporter": "python",
   "pygments_lexer": "ipython3",
   "version": "3.8.8"
  }
 },
 "nbformat": 4,
 "nbformat_minor": 5
}
