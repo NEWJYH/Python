{
 "cells": [
  {
   "cell_type": "code",
   "execution_count": null,
   "id": "718d3372",
   "metadata": {},
   "outputs": [],
   "source": [
    "# 전역 변수(local variable)와 전역변수(global variable)\n",
    "\n",
    "# 지역 변수 : 파이썬에서는 함수 안에 정의된 변수를 지역 변수라고 하며,\n",
    "#            지역 변수의 범위(scope)는 함수 내에서만 사용이 되고\n",
    "#            함수가 호출이 되고 종료가 되면 지역변수는 소멸한다.\n",
    "\n",
    "def test():\n",
    "    text = \"파이썬 공부\" # 지역변수에 문자열 할당\n",
    "    print(text)        # 출력함수를 이용하여 text를 출력함.\n",
    "         \n",
    "test()"
   ]
  },
  {
   "cell_type": "code",
   "execution_count": null,
   "id": "7b598566",
   "metadata": {},
   "outputs": [],
   "source": [
    "# 전역변수(global variable) : 함수의 외부에 정의된 변수를 전역변수\n",
    "#                          라고 칭한다.\n",
    "#  파이썬에서는 전역변수를 다루는 형태가 \n",
    "# 타 언어들에 비해서 접근방식이라는 측면에서는\n",
    "# 융통성이 좀 떨어진다.\n",
    "# 파이썬에서의 위와 같은 부분은 오히려 좋은 프로그래밍 습관을 \n",
    "# 장려하기 위한 한 방법론적이다.\n",
    "\n",
    "def test():\n",
    "    print(text)\n",
    "    # 함수 내부에 text라는 지역변수가 없을 때는 전역 변수를 가져와서\n",
    "    # 사용을 한다.\n",
    "    \n",
    "    \n",
    "text = \"파이썬 공부\" # 전역 변수인 text 변수에 문자열 할당\n",
    "test()\n"
   ]
  },
  {
   "cell_type": "code",
   "execution_count": 1,
   "id": "ed9e3a4c",
   "metadata": {},
   "outputs": [
    {
     "ename": "NameError",
     "evalue": "name 'text' is not defined",
     "output_type": "error",
     "traceback": [
      "\u001b[1;31m---------------------------------------------------------------------------\u001b[0m",
      "\u001b[1;31mNameError\u001b[0m                                 Traceback (most recent call last)",
      "\u001b[1;32m<ipython-input-1-cdd64d9c2173>\u001b[0m in \u001b[0;36m<module>\u001b[1;34m\u001b[0m\n\u001b[0;32m      4\u001b[0m     \u001b[1;31m# 사용을 한다.\u001b[0m\u001b[1;33m\u001b[0m\u001b[1;33m\u001b[0m\u001b[1;33m\u001b[0m\u001b[0m\n\u001b[0;32m      5\u001b[0m \u001b[1;33m\u001b[0m\u001b[0m\n\u001b[1;32m----> 6\u001b[1;33m \u001b[0mtest\u001b[0m\u001b[1;33m(\u001b[0m\u001b[1;33m)\u001b[0m\u001b[1;33m\u001b[0m\u001b[1;33m\u001b[0m\u001b[0m\n\u001b[0m\u001b[0;32m      7\u001b[0m \u001b[1;33m\u001b[0m\u001b[0m\n\u001b[0;32m      8\u001b[0m \u001b[0mtext\u001b[0m \u001b[1;33m=\u001b[0m \u001b[1;34m\"파이썬 공부\"\u001b[0m \u001b[1;31m# 전역 변수인 text 변수에 문자열 할당\u001b[0m\u001b[1;33m\u001b[0m\u001b[1;33m\u001b[0m\u001b[0m\n",
      "\u001b[1;32m<ipython-input-1-cdd64d9c2173>\u001b[0m in \u001b[0;36mtest\u001b[1;34m()\u001b[0m\n\u001b[0;32m      1\u001b[0m \u001b[1;32mdef\u001b[0m \u001b[0mtest\u001b[0m\u001b[1;33m(\u001b[0m\u001b[1;33m)\u001b[0m\u001b[1;33m:\u001b[0m\u001b[1;33m\u001b[0m\u001b[1;33m\u001b[0m\u001b[0m\n\u001b[1;32m----> 2\u001b[1;33m     \u001b[0mprint\u001b[0m\u001b[1;33m(\u001b[0m\u001b[0mtext\u001b[0m\u001b[1;33m)\u001b[0m\u001b[1;33m\u001b[0m\u001b[1;33m\u001b[0m\u001b[0m\n\u001b[0m\u001b[0;32m      3\u001b[0m     \u001b[1;31m# 함수 내부에 text라는 지역변수가 없을 때는 전역 변수를 가져와서\u001b[0m\u001b[1;33m\u001b[0m\u001b[1;33m\u001b[0m\u001b[1;33m\u001b[0m\u001b[0m\n\u001b[0;32m      4\u001b[0m     \u001b[1;31m# 사용을 한다.\u001b[0m\u001b[1;33m\u001b[0m\u001b[1;33m\u001b[0m\u001b[1;33m\u001b[0m\u001b[0m\n\u001b[0;32m      5\u001b[0m \u001b[1;33m\u001b[0m\u001b[0m\n",
      "\u001b[1;31mNameError\u001b[0m: name 'text' is not defined"
     ]
    }
   ],
   "source": [
    "def test():\n",
    "    print(text)\n",
    "    # 함수 내부에 text라는 지역변수가 없을 때는 전역 변수를 가져와서\n",
    "    # 사용을 한다.\n",
    "    \n",
    "test()\n",
    "    \n",
    "text = \"파이썬 공부\" # 전역 변수인 text 변수에 문자열 할당\n"
   ]
  },
  {
   "cell_type": "code",
   "execution_count": 6,
   "id": "3148cd84",
   "metadata": {},
   "outputs": [
    {
     "name": "stdout",
     "output_type": "stream",
     "text": [
      "파이썬 공부\n",
      "ffff\n",
      "15\n",
      "100\n"
     ]
    }
   ],
   "source": [
    "text = \"파이썬 공부\" \n",
    "\n",
    "def test():\n",
    "    global text\n",
    "    print(text)\n",
    "    text = \"ffff\"\n",
    "  \n",
    "test()\n",
    "print(text)\n",
    "\n",
    "\n",
    "a = 100\n",
    "def test():\n",
    "    global a\n",
    "    a = 15\n",
    "    print(a)\n",
    "\n",
    "test()\n",
    "print(a)"
   ]
  },
  {
   "cell_type": "code",
   "execution_count": 7,
   "id": "35265e49",
   "metadata": {},
   "outputs": [
    {
     "name": "stdout",
     "output_type": "stream",
     "text": [
      "15\n",
      "100\n"
     ]
    }
   ],
   "source": [
    "a = 100\n",
    "\n",
    "def test():\n",
    "    a = 15\n",
    "    print(a)\n",
    "\n",
    "test()\n",
    "print(a)"
   ]
  }
 ],
 "metadata": {
  "kernelspec": {
   "display_name": "Python 3",
   "language": "python",
   "name": "python3"
  },
  "language_info": {
   "codemirror_mode": {
    "name": "ipython",
    "version": 3
   },
   "file_extension": ".py",
   "mimetype": "text/x-python",
   "name": "python",
   "nbconvert_exporter": "python",
   "pygments_lexer": "ipython3",
   "version": "3.8.8"
  }
 },
 "nbformat": 4,
 "nbformat_minor": 5
}
