{
 "cells": [
  {
   "cell_type": "markdown",
   "id": "cdf897ba",
   "metadata": {},
   "source": [
    "6. 모듈이란?"
   ]
  },
  {
   "cell_type": "markdown",
   "id": "7316ae0a",
   "metadata": {},
   "source": [
    "1) 모듈의 개념\n",
    "    - 우리가 파이썬 인터프리터를 종료하고 다시 들어가면,\n",
    "      이전에 정의해 놓았던 함수와 변수들의 정의는 전부 사라지게 된다.\n",
    "      \n",
    "      따라서 우리가 어느정도 이상의 복잡한 프로그램을 작성하려는 경우\n",
    "      인터프리터를 사용하여서 한줄씩 입력하여 실행하는 것보다\n",
    "      텍스트 편집기를 사용하여서 파일을 작성하고 인터프리터로 해당 파일을\n",
    "      실행하는 것이 더 낫다.\n",
    "      \n",
    "      또 프로그램이 길어지면, 유지 보수가 쉽게 하기 위해\n",
    "      여러 개의 파일로 분할할 수 있다.\n",
    "      또한 파일을 사용하면 한번 작성한 편리한 함수를 복사하지 않고\n",
    "      여러 프로그램에서 사용할 수 있다.\n",
    "      \n",
    "    - 이것을 지원하기 위해, 파이썬에서는 파일에 함수들을 저장하고\n",
    "      인터프리터에서 사용하는 방법을 제공한다.\n",
    "      \n",
    "    - 이러한 함수나 변수들을 모아 놓은 파일을 모듈(module)이라고 한다.\n",
    "      모듈안에 있는 함수들은 import 문장으로 다른 모듈로 포함 될수 있다.\n",
    "      모듈 중에서 main 모듈은 최상위 수준에서 실행되는 스크립트를 의미한다.\n",
    "      \n",
    "      Simple package\n",
    "       |      |     |\n",
    "       a.py  b.py   __init__.py"
   ]
  },
  {
   "cell_type": "markdown",
   "id": "9cfa5af7",
   "metadata": {},
   "source": [
    "2) 모듈의 활용\n",
    "    - 파일 이름은 파이썬 모듈 이름에 .py 확장자를 붙이면 된다.\n",
    "      모듈 안에서는 모듈의 이름은 __name__의 값(문자열)으로 \n",
    "      접근이 가능하다.\n",
    "      예를 들어 fibo.py파일에 텍스트 편집기를 사용하여 \n",
    "      다음과 같은 내용을 저장하였다고 하자."
   ]
  },
  {
   "cell_type": "code",
   "execution_count": null,
   "id": "0ff1e7e8",
   "metadata": {},
   "outputs": [],
   "source": [
    "# 피보나치 수열 모듈\n",
    "# fibo.py\n",
    "\n",
    "def fib(n): # 피보나치 수열을 화면에 출력한다.\n",
    "    a,b = 0,1\n",
    "    while b<n:\n",
    "        print(b,end=\" \")\n",
    "        a,b = b, a+b\n",
    "    print()\n",
    "    "
   ]
  },
  {
   "cell_type": "code",
   "execution_count": null,
   "id": "6de36e1e",
   "metadata": {},
   "outputs": [],
   "source": [
    "# 모듈 사용법 1\n",
    "import fibo\n",
    "\n",
    "fibo.fib(1000)\n",
    "1 1 2 3 5 8 13 21 34 55 89 144 233 377 610 987\n",
    "print(fibo.__name__)\n",
    "'fibo'\n",
    "\n",
    "__name__은 인터프리터가 실행 전에 만들어 둔 내장 전역변수에 해당한다.\n",
    "print(__name__)\n",
    "# main()이 나옴"
   ]
  },
  {
   "cell_type": "code",
   "execution_count": null,
   "id": "963acc75",
   "metadata": {},
   "outputs": [],
   "source": [
    "# 모듈 사용법 2\n",
    "from fibo import *\n",
    "fib(500)\n",
    "1 1 2 3 5 8 13 21 34 55 89 144 233 377 610 987"
   ]
  },
  {
   "cell_type": "markdown",
   "id": "76e7db97",
   "metadata": {},
   "source": [
    "2) 모듈의 활용\n",
    "    - 모듈화 시킨 파일에서 \n",
    "      \n",
    "      import fibo 할경우는\n",
    "      파일 이름만 가져왔기 때문에 fibo.fib()형태로 사용\n",
    "      \n",
    "      from fibo imoport * 할경우에는\n",
    "      fib()형태로 사용\n",
    "      \n",
    "      import를 사용할 경우 확실히 메인에서 만든 함수가 아닌것을\n",
    "      확인할수 있고\n",
    "      \n",
    "      from을 할경우에 메인인지 모호함이 남는다.\n",
    "      "
   ]
  },
  {
   "cell_type": "markdown",
   "id": "27678a19",
   "metadata": {},
   "source": [
    "7. 함수를 사용한 프로그램 설계"
   ]
  },
  {
   "cell_type": "markdown",
   "id": "53f64e62",
   "metadata": {},
   "source": [
    "1) 함수를 사용한 프로그램 설계\n",
    "    - 한 대의 자동차를 만들기 위해서는 수백 개의 협력업체에서 \n",
    "      부품을 공급해야 한다. 이들 부품을 자동차 공장에서 조립하면 \n",
    "      자동차가 생산된다.\n",
    "      이와 같은 원리를 프로그램에 대해서도 적용할 수 있다.\n",
    "      지금까지는 간단한 프로그램이었기 떄문에 하나의 함수로도 충분하였다.\n",
    "      하지만 윈도우나 한글과 같은 커다란 프로그램의 모든 코드가\n",
    "      하나의 함수 안에 들어 있다고 가정해보자.\n",
    "      흔히 대형 프로그램의 코드는 줄이 수만 라인이 넘는다.\n",
    "      이것이 하나의 함수 안에 들어 있다면 코드를 작성한 사람도 \n",
    "      시간이 지나면 이해하거나 디버깅하기 어려울 것이다.\n",
    "      \n",
    "    - 그렇다면 어떻게 하여야 하는가?\n",
    "      정답은 작은 조각으로 분리하는 것이다.\n",
    "      파이썬에서는 작은 조각이 함수에 해당한다. \n",
    "      복잡하고 규모가 큰 프로그램은 여러 개의 함수로 나누어서 작성되어야 \n",
    "      한다. 먼저 주어진 문제를 분석 한 후에, 보다 단순하고 이해하기\n",
    "      쉬운 문제들로 나누게 된다. 문제가 충분히 작게 나누어지면\n",
    "      각 문제를 해결하는 절차를 함수로 작성한다.\n",
    "       \n",
    "       ##\n",
    "     - 문제를 한번에 해결하려고 하지말고 더 작은 크기의 문제들로 분해한다.\n",
    "       문제가 충분히 작아질 때까지 계속해서 분해한다.\n",
    "       ##\n",
    "     \n",
    "     - 문제가 충분히 작아졌으면 각각의 문제를 함수로 작성한다.\n",
    "       이들 함수들을 조립하면 최종 프로그램이 완성된다."
   ]
  },
  {
   "cell_type": "markdown",
   "id": "7f379dcc",
   "metadata": {},
   "source": [
    "2) 함수를 사용한 프로그램 설계 예제\n",
    "    - 파이썬 프로그램에서도 main()함수를 작성하고 스크립트의 맨 아래에서\n",
    "      main()을 호출하도록 하는 것이 바람직하다고 생각하는 개발자도 많다.\n",
    "      \n",
    "      main\n",
    "      ----------------------------------\n",
    "      |                 |               |\n",
    "      get_data()  process_data()    show_result()\n",
    "      \n",
    "    - C언어 또는 자바와 같은 프로그래밍 언어에서는 항상 main()이라는\n",
    "      함수를 시작으로 프로그램을 실행시킨다.\n",
    "        - 하지만, 파이썬은 main()함수가 존재하지 않는다.\n",
    "      그렇다면 어떤 방식으로 코드를 실행시키는 것일까?\n",
    "      \n",
    "    - 파이썬은 크게 두가지 특징이 있다.\n",
    "        1. 들여쓰기를 통해 코드 실행의 레벨을 결정한다.\n",
    "        2. main이 존재하지 않는다.\n",
    "        \n",
    "    - __main__는 현재 모듈의 이름을 담고 있는 내장 전역변수이다.\n",
    "      이 변수는 직접 실행된 모듈의 경우 __main__이라는 값을 가지게 되며\n",
    "      직접 실행되지 않은 import된 모듈은 모듈의 이름(파일명)을\n",
    "      가지게 된다.\n",
    "      \n",
    "    - 결론을 짓자면 모듈에 \n",
    "         - if __name__ == \"__main__\":\n",
    "      이라는 조건문을 넣어주고 그 아래는 직접 실행시켰을 때만 \n",
    "      실행되길 원하는 코드들을 넣어주는 것으로 생각하면 쉬울 것이다."
   ]
  },
  {
   "cell_type": "markdown",
   "id": "e2272988",
   "metadata": {},
   "source": [
    "2) 함수를 사용한 프로그램설계 예제\n",
    "    - 예제로 성적을 사용자로부터 읽어서 크기순으로 정렬하여서 화면\n",
    "      에 출력하는 프로그램을 작성한다고 생각하여 보자.\n",
    "      사용자가 음수를 입력하면 입력을 종료한다."
   ]
  },
  {
   "cell_type": "code",
   "execution_count": 3,
   "id": "96b28d78",
   "metadata": {
    "scrolled": true
   },
   "outputs": [
    {
     "name": "stdout",
     "output_type": "stream",
     "text": [
      "숫자를 입력하시오 : 30\n",
      "숫자를 입력하시오 : 50\n",
      "숫자를 입력하시오 : 10\n",
      "숫자를 입력하시오 : 90\n",
      "숫자를 입력하시오 : 60\n",
      "숫자를 입력하시오 : -1\n",
      "성적 = 10\n",
      "성적 = 30\n",
      "성적 = 50\n",
      "성적 = 60\n",
      "성적 = 90\n"
     ]
    }
   ],
   "source": [
    "def readList():\n",
    "    nlist=[]\n",
    "    flag = True\n",
    "    while flag:\n",
    "        number = int(input(\"숫자를 입력하시오 : \"))\n",
    "        if number < 0:\n",
    "            flag = False\n",
    "        else:\n",
    "            nlist.append(number)\n",
    "    return nlist\n",
    "\n",
    "def processList(nlist):\n",
    "    nlist.sort()\n",
    "    return nlist\n",
    "\n",
    "def printList(nlist):\n",
    "    for i in nlist:\n",
    "        print(\"성적 =\",i)\n",
    "        \n",
    "def main():\n",
    "    nlist = readList()\n",
    "    processList(nlist)\n",
    "    printList(nlist)\n",
    "    \n",
    "if __name__ == \"__main__\": # 프로그램 시작점\n",
    "    main()"
   ]
  },
  {
   "cell_type": "code",
   "execution_count": 4,
   "id": "d3483681",
   "metadata": {},
   "outputs": [
    {
     "name": "stdout",
     "output_type": "stream",
     "text": [
      "__main__\n"
     ]
    }
   ],
   "source": [
    "print(__name__)\n",
    "\n",
    "# __main__"
   ]
  },
  {
   "cell_type": "markdown",
   "id": "61dd0876",
   "metadata": {},
   "source": [
    "2) 함수를 사용한 프로그램설계 예제\n",
    "    - 함수들은 특징적인 한 가지 작업(기능)만을 맡아야 한다.\n",
    "      하나의 함수가 여러 가지 작업을 하면 안된다.\n",
    "      다른 것과 구별되는 한가지의 작업만을 하여야 한다.\n",
    "      만약 함수 안에서 여러 작업들이 섞여 있다면 각각을 다른 함수들로 \n",
    "      분리하여야 한다.\n",
    "      이런 식으로 함수를 사용하게 되면 함수들을 작업별로 \n",
    "      분류 할수 있어서 소스 코드의 가독성이 높아진다."
   ]
  }
 ],
 "metadata": {
  "kernelspec": {
   "display_name": "Python 3",
   "language": "python",
   "name": "python3"
  },
  "language_info": {
   "codemirror_mode": {
    "name": "ipython",
    "version": 3
   },
   "file_extension": ".py",
   "mimetype": "text/x-python",
   "name": "python",
   "nbconvert_exporter": "python",
   "pygments_lexer": "ipython3",
   "version": "3.8.8"
  }
 },
 "nbformat": 4,
 "nbformat_minor": 5
}
