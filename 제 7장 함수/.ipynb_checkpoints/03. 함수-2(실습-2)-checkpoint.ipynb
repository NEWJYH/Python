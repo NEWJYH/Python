{
 "cells": [
  {
   "cell_type": "code",
   "execution_count": null,
   "id": "f975eb96",
   "metadata": {},
   "outputs": [],
   "source": [
    "# 숫자, 문자열 immutable object이다.\n",
    "# call by value , call by objective"
   ]
  },
  {
   "cell_type": "code",
   "execution_count": 11,
   "id": "a37fcfe7",
   "metadata": {},
   "outputs": [
    {
     "name": "stdout",
     "output_type": "stream",
     "text": [
      " change()함수 호출전 list 값 : ['안녕', 1, 2, 3, 1.1]\n",
      " change()함수 호출전 list 주소(id)값 : 2155117210688\n",
      "===================================================\n",
      " change(li)함수 내의 연산 전 li의 값 : ['안녕', 1, 2, 3, 1.1]\n",
      " change(li)함수 내의 연산 전 li의 주소(id)값 : 2155117210688\n",
      "===================================================\n",
      " change(li)함수 내의 연산 후 li의 값 : ['안녕', 1, 2, 3, 1.1, 100, 200]\n",
      " change(li)함수 내의 연산 후 li의 주소(id)값 : 2155117210688\n",
      "===================================================\n",
      " change()함수 호출후 list 값 : ['안녕', 1, 2, 3, 1.1, 100, 200]\n",
      " change()함수 호출후 list 주소(id)값 : 2155117210688\n"
     ]
    }
   ],
   "source": [
    "# call by reference 에 대한 실습\n",
    "# 함수를 호출할 때, 실질적인 주소값이 넘어가서 호출한 곳에 영향을 끼치는 형태\n",
    "# 가 된다.\n",
    "# 파이썬에서는 함수의 매개변수값이 전부 객체인데\n",
    "# list, dictionary와 같은 \n",
    "# mutable object 즉 변경 가능한 객체 이므로,\n",
    "# call by objective-reference라고 한다.\n",
    "\n",
    "def change(li):\n",
    "    print(\"===================================================\")\n",
    "    print(f\" change(li)함수 내의 연산 전 li의 값 : {li}\")\n",
    "    print(f\" change(li)함수 내의 연산 전 li의 주소(id)값 : {id(li)}\")\n",
    "    print(\"===================================================\")\n",
    "    li += [100, 200]\n",
    "    print(f\" change(li)함수 내의 연산 후 li의 값 : {li}\")\n",
    "    print(f\" change(li)함수 내의 연산 후 li의 주소(id)값 : {id(li)}\")\n",
    "    print(\"===================================================\")\n",
    "\n",
    " \n",
    "\n",
    "list = [\"안녕\",1,2,3,1.1]\n",
    "print(f\" change()함수 호출전 list 값 : {list}\")\n",
    "print(f\" change()함수 호출전 list 주소(id)값 : {id(list)}\")\n",
    "change(list)\n",
    "print(f\" change()함수 호출후 list 값 : {list}\")\n",
    "print(f\" change()함수 호출후 list 주소(id)값 : {id(list)}\")"
   ]
  },
  {
   "cell_type": "code",
   "execution_count": 15,
   "id": "a0a6e62a",
   "metadata": {},
   "outputs": [
    {
     "name": "stdout",
     "output_type": "stream",
     "text": [
      " change()함수 호출전 dic 값 : {'name': '신은혁', 'age': 14, 'height': 160}\n",
      " change()함수 호출전 dic 주소(id)값 : 2155117244736\n",
      "===================================================\n",
      " change(dic)함수 내의 연산 전 dic 값 : {'name': '신은혁', 'age': 14, 'height': 160}\n",
      " change(dic)함수 내의 연산 전 dic 주소(id)값 : 2155117244736\n",
      "===================================================\n",
      " change(dic)함수 내의 연산 후 dic 값 : {'name': '신은혁', 'age': 14, 'height': 160, '몸무게': 42}\n",
      " change(dic)함수 내의 연산 후 dic 주소(id)값 : 2155117244736\n",
      "===================================================\n",
      " change()함수 호출후 dic 값 : {'name': '신은혁', 'age': 14, 'height': 160, '몸무게': 42}\n",
      " change()함수 호출후 dic 주소(id)값 : 2155117244736\n"
     ]
    }
   ],
   "source": [
    "# mutable object 중 dictionary 라는 타입이 있다.\n",
    "# 딕셔너리라는 타입의 형태는 키와 값의 쌍으로 이루어져 있다.\n",
    "# 딕셔너리의 call by reference가 성립되는 이유는 변경가능한\n",
    "# mutable object이기 때문에 가능한것이다.\n",
    "# call by objective=reference 라고도 칭한다.\n",
    "\n",
    "\n",
    "def change(dic):\n",
    "    print(\"===================================================\")\n",
    "    print(f\" change(dic)함수 내의 연산 전 dic 값 : {dic}\")\n",
    "    print(f\" change(dic)함수 내의 연산 전 dic 주소(id)값 : {id(dic)}\")\n",
    "    print(\"===================================================\")\n",
    "    dic[\"몸무게\"] = 42\n",
    "    print(f\" change(dic)함수 내의 연산 후 dic 값 : {dic}\")\n",
    "    print(f\" change(dic)함수 내의 연산 후 dic 주소(id)값 : {id(dic)}\")\n",
    "    print(\"===================================================\")\n",
    "\n",
    "dic ={\"name\":\"신은혁\",\"age\":14, \"height\":160}\n",
    "#       키      값      키   값     키     값\n",
    "#print(dic)\n",
    "# 딕셔너리의 키의 값은 유니크한 값이 되어야한다.\n",
    "# 반대로 값은 변경이 가능하다.\n",
    "\n",
    "print(f\" change()함수 호출전 dic 값 : {dic}\")\n",
    "print(f\" change()함수 호출전 dic 주소(id)값 : {id(dic)}\")\n",
    "change(dic)\n",
    "print(f\" change()함수 호출후 dic 값 : {dic}\")\n",
    "print(f\" change()함수 호출후 dic 주소(id)값 : {id(dic)}\")\n",
    "\n",
    "# 키를 주고 값을 얻어온다.\n",
    "#print(dic[\"name\"])\n",
    "# 딕셔너리 함수 알아보기 "
   ]
  }
 ],
 "metadata": {
  "kernelspec": {
   "display_name": "Python 3",
   "language": "python",
   "name": "python3"
  },
  "language_info": {
   "codemirror_mode": {
    "name": "ipython",
    "version": 3
   },
   "file_extension": ".py",
   "mimetype": "text/x-python",
   "name": "python",
   "nbconvert_exporter": "python",
   "pygments_lexer": "ipython3",
   "version": "3.8.8"
  }
 },
 "nbformat": 4,
 "nbformat_minor": 5
}
