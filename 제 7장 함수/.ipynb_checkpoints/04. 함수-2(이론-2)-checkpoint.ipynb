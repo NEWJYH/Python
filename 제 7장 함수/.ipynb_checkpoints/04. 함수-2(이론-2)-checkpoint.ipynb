{
 "cells": [
  {
   "cell_type": "markdown",
   "id": "9ce692a6",
   "metadata": {},
   "source": [
    "2. 지역 변수와 전역 변수"
   ]
  },
  {
   "cell_type": "markdown",
   "id": "9d98ccf1",
   "metadata": {},
   "source": [
    "1) 지역 변수와 전역 변수\n",
    "    - 파이썬에서는 지역변수와 전역 변수가 있다.\n",
    "      지역 변수는 함수 안에서 선언된 변수이고 전연 변수는 함수의 외부에서\n",
    "      선언된 변수이다.\n",
    "      "
   ]
  },
  {
   "cell_type": "code",
   "execution_count": 1,
   "id": "a2a6bcc8",
   "metadata": {},
   "outputs": [
    {
     "name": "stdout",
     "output_type": "stream",
     "text": [
      "200\n"
     ]
    }
   ],
   "source": [
    "# 함수의 외부에 있기 때문에\n",
    "# 전역 변수 이다.\n",
    "width = 10\n",
    "height = 20\n",
    "\n",
    "def area(w,h):\n",
    "    # 함수의 내부에 있기 때문에\n",
    "    # 지역 변수이다.\n",
    "    result = w * h\n",
    "    return result\n",
    "\n",
    "print(area(width,height))"
   ]
  },
  {
   "cell_type": "markdown",
   "id": "f93efaac",
   "metadata": {},
   "source": [
    "2) 지역 변수\n",
    "    - 함수 안에 정의된 변수는 지역 변수(local variable)라고 불리며\n",
    "      함수 안에서만 사용할 수 있다.\n",
    "      지역 변수는 함수가 호출될 때, 생성되고 \n",
    "      함수가 종료되면 소멸되어서 더 이상 사용할 수 없다.\n",
    "      이것을 변수의 영역(scope)이라고 부른다."
   ]
  },
  {
   "cell_type": "markdown",
   "id": "5764e7b5",
   "metadata": {},
   "source": [
    "2) 지역 변수\n",
    "    - 함수 sub를 작성하여 보자.\n",
    "      함수 sub()안에서 지역 변수 s가 선언되었다."
   ]
  },
  {
   "cell_type": "code",
   "execution_count": 2,
   "id": "dc473bb5",
   "metadata": {},
   "outputs": [
    {
     "name": "stdout",
     "output_type": "stream",
     "text": [
      "바나나가 좋음\n"
     ]
    }
   ],
   "source": [
    "def sub():\n",
    "    s = \"바나나가 좋음\"\n",
    "    print(s)\n",
    "    \n",
    "sub()"
   ]
  },
  {
   "cell_type": "markdown",
   "id": "74972cf1",
   "metadata": {},
   "source": [
    "2) 지역 변수\n",
    "    - 변수 s는 sub() 함수 안에서만 사용할 수 있으며,\n",
    "      함수 호출이 끝나면 사라진다.\n",
    "      지역 변수 s의 값을 함수 외부에서 출력할 수 있을까?\n",
    "      다음과 같이 print(s) 문장을 맨 끝에 추가하고 실행하여 보자."
   ]
  },
  {
   "cell_type": "code",
   "execution_count": 2,
   "id": "3b7fb7ca",
   "metadata": {},
   "outputs": [
    {
     "name": "stdout",
     "output_type": "stream",
     "text": [
      "바나나가 좋음\n"
     ]
    },
    {
     "ename": "NameError",
     "evalue": "name 's' is not defined",
     "output_type": "error",
     "traceback": [
      "\u001b[1;31m---------------------------------------------------------------------------\u001b[0m",
      "\u001b[1;31mNameError\u001b[0m                                 Traceback (most recent call last)",
      "\u001b[1;32m<ipython-input-2-15aa2617f9eb>\u001b[0m in \u001b[0;36m<module>\u001b[1;34m\u001b[0m\n\u001b[0;32m      5\u001b[0m \u001b[1;33m\u001b[0m\u001b[0m\n\u001b[0;32m      6\u001b[0m \u001b[0msub\u001b[0m\u001b[1;33m(\u001b[0m\u001b[1;33m)\u001b[0m\u001b[1;33m\u001b[0m\u001b[1;33m\u001b[0m\u001b[0m\n\u001b[1;32m----> 7\u001b[1;33m \u001b[0mprint\u001b[0m\u001b[1;33m(\u001b[0m\u001b[0ms\u001b[0m\u001b[1;33m)\u001b[0m\u001b[1;33m\u001b[0m\u001b[1;33m\u001b[0m\u001b[0m\n\u001b[0m",
      "\u001b[1;31mNameError\u001b[0m: name 's' is not defined"
     ]
    }
   ],
   "source": [
    "def sub():\n",
    "    s = \"바나나가 좋음\"\n",
    "    print(s)\n",
    "    \n",
    "\n",
    "sub()\n",
    "print(s)"
   ]
  },
  {
   "cell_type": "code",
   "execution_count": 8,
   "id": "32c1fa7f",
   "metadata": {},
   "outputs": [],
   "source": [
    "# 오류가 발생하는 것을 알수 있다.\n",
    "# 지역 변수가 선언된 함수를 벗어나서 사용 할 수는 없다.\n",
    "# 지역 변수는 선언된 함수 안ㅇ서만 사용이 가능하다.\n",
    "# 또 함수가 끝나면 자동으로 소멸된다.\n",
    "# 상당히 중요한 개념이니 필히 기억하도록 한다."
   ]
  },
  {
   "cell_type": "markdown",
   "id": "48b6119e",
   "metadata": {},
   "source": [
    "3) 전역 변수\n",
    "    - 함수의 외부에 정의된 변수를 전역 변수(global variable)라고 한다.\n",
    "      파이썬이 전역 변수를 다루는 방식이 상당히 타 언어와 다르다.\n",
    "      파이썬에서는 다른 이야기가 없으면 함수 안에서 선언된 변수들은\n",
    "      무조건 지역 변수이다.\n",
    "      하지만, 이러한 접근 방식은 좋은 프로그래밍 습관을 장려 하기\n",
    "      위해서 이다."
   ]
  },
  {
   "cell_type": "code",
   "execution_count": 3,
   "id": "5bcc2ed5",
   "metadata": {},
   "outputs": [
    {
     "name": "stdout",
     "output_type": "stream",
     "text": [
      "사과가 좋음!\n"
     ]
    }
   ],
   "source": [
    "def sub():\n",
    "    print(s)\n",
    "    \n",
    "s = \"사과가 좋음!\"\n",
    "sub()"
   ]
  },
  {
   "cell_type": "markdown",
   "id": "d7c8b51f",
   "metadata": {},
   "source": [
    "3) 전역 변수\n",
    "    - 위의 코드에서 s는 함수의 외부에 정의된 전역 변수이다.\n",
    "      sub()을 호출하기 전에 정의 되었다.\n",
    "      함수 sub()는 호출 되기전에는 실행되지 않는다.\n",
    "      함수 sub() 안에는 print() 호출 문장만 있다.\n",
    "      지역 변수를 선언하는 문장이 없으니 전역 변수s가 사용된다."
   ]
  },
  {
   "cell_type": "code",
   "execution_count": 7,
   "id": "0707e186",
   "metadata": {},
   "outputs": [
    {
     "name": "stdout",
     "output_type": "stream",
     "text": [
      "1234\n"
     ]
    }
   ],
   "source": [
    "def sub():\n",
    "    s = \"1234\"\n",
    "    print(s)\n",
    "s = \"4560\"\n",
    "sub()"
   ]
  },
  {
   "cell_type": "markdown",
   "id": "4dcc00c9",
   "metadata": {},
   "source": [
    "3) 전역 변수\n",
    "    - 만약 함수 내부에서 전역 변수 s의 값을 변경하면 어떻게 될까?\n",
    "      전역 변수 s의 값이 변경 될까?\n",
    "      아래와 같은 코드를 작성하여 실행해보자"
   ]
  },
  {
   "cell_type": "code",
   "execution_count": 8,
   "id": "df30b5f3",
   "metadata": {},
   "outputs": [
    {
     "name": "stdout",
     "output_type": "stream",
     "text": [
      "바나나가 좋음\n",
      "사과가 좋음\n"
     ]
    }
   ],
   "source": [
    "def sub():\n",
    "    s = \"바나나가 좋음\"\n",
    "    print(s)\n",
    "    \n",
    "s = \"사과가 좋음\"\n",
    "sub()\n",
    "print(s)"
   ]
  },
  {
   "cell_type": "markdown",
   "id": "c2236de7",
   "metadata": {},
   "source": [
    "3) 전역 변수\n",
    "    - 다음의 말을 기억하도록 하자 \"우리가 함수의 내부에서 변수 s에\n",
    "      값을 저장하면 파이썬은 우리가 지역 변수s를 정의한 것으로 생각한다.\n",
    "      따라서 전역 변수 s가 아닌 것이다.\n",
    "      다시 한 번 파이썬의 원칙을 되새겨 보자.\n",
    "      함수 안에서 변수에 어떤 값을 저장하면 무조건 지역 변수로 간주한다.\n",
    "      디폴트가 지역 변수 인 것이다."
   ]
  },
  {
   "cell_type": "markdown",
   "id": "e2ad51ad",
   "metadata": {},
   "source": [
    "3) 전역 변수\n",
    "    - 아래와 같이 함수 안에서 변수 s의 값을 출력한 후에\n",
    "      변수 s의 값을 변경하면 어떻게 될까?"
   ]
  },
  {
   "cell_type": "code",
   "execution_count": 9,
   "id": "c9b7dc14",
   "metadata": {},
   "outputs": [
    {
     "ename": "UnboundLocalError",
     "evalue": "local variable 's' referenced before assignment",
     "output_type": "error",
     "traceback": [
      "\u001b[1;31m---------------------------------------------------------------------------\u001b[0m",
      "\u001b[1;31mUnboundLocalError\u001b[0m                         Traceback (most recent call last)",
      "\u001b[1;32m<ipython-input-9-349517088b53>\u001b[0m in \u001b[0;36m<module>\u001b[1;34m\u001b[0m\n\u001b[0;32m      5\u001b[0m \u001b[1;33m\u001b[0m\u001b[0m\n\u001b[0;32m      6\u001b[0m \u001b[0ms\u001b[0m \u001b[1;33m=\u001b[0m \u001b[1;34m\"사과가 좋음!!!\"\u001b[0m\u001b[1;33m\u001b[0m\u001b[1;33m\u001b[0m\u001b[0m\n\u001b[1;32m----> 7\u001b[1;33m \u001b[0msub\u001b[0m\u001b[1;33m(\u001b[0m\u001b[1;33m)\u001b[0m\u001b[1;33m\u001b[0m\u001b[1;33m\u001b[0m\u001b[0m\n\u001b[0m\u001b[0;32m      8\u001b[0m \u001b[0mprint\u001b[0m\u001b[1;33m(\u001b[0m\u001b[0ms\u001b[0m\u001b[1;33m)\u001b[0m\u001b[1;33m\u001b[0m\u001b[1;33m\u001b[0m\u001b[0m\n",
      "\u001b[1;32m<ipython-input-9-349517088b53>\u001b[0m in \u001b[0;36msub\u001b[1;34m()\u001b[0m\n\u001b[0;32m      1\u001b[0m \u001b[1;32mdef\u001b[0m \u001b[0msub\u001b[0m\u001b[1;33m(\u001b[0m\u001b[1;33m)\u001b[0m\u001b[1;33m:\u001b[0m\u001b[1;33m\u001b[0m\u001b[1;33m\u001b[0m\u001b[0m\n\u001b[1;32m----> 2\u001b[1;33m     \u001b[0mprint\u001b[0m\u001b[1;33m(\u001b[0m\u001b[0ms\u001b[0m\u001b[1;33m)\u001b[0m\u001b[1;33m\u001b[0m\u001b[1;33m\u001b[0m\u001b[0m\n\u001b[0m\u001b[0;32m      3\u001b[0m     \u001b[0ms\u001b[0m \u001b[1;33m=\u001b[0m \u001b[1;34m\"바나나가 좋음!\"\u001b[0m\u001b[1;33m\u001b[0m\u001b[1;33m\u001b[0m\u001b[0m\n\u001b[0;32m      4\u001b[0m     \u001b[0mprint\u001b[0m\u001b[1;33m(\u001b[0m\u001b[0ms\u001b[0m\u001b[1;33m)\u001b[0m\u001b[1;33m\u001b[0m\u001b[1;33m\u001b[0m\u001b[0m\n\u001b[0;32m      5\u001b[0m \u001b[1;33m\u001b[0m\u001b[0m\n",
      "\u001b[1;31mUnboundLocalError\u001b[0m: local variable 's' referenced before assignment"
     ]
    }
   ],
   "source": [
    "def sub():\n",
    "    print(s)\n",
    "    s = \"바나나가 좋음!\"\n",
    "    print(s)\n",
    "\n",
    "s = \"사과가 좋음!!!\"\n",
    "sub()\n",
    "print(s)\n",
    "\n",
    "# 이때는 오류가 발생한다.\n",
    "# 함수 안에서 하나의 변수가 전역 변수도 되었다가\n",
    "# 지역 변수도 될 수는 없지 아니한가?"
   ]
  },
  {
   "cell_type": "markdown",
   "id": "8db3a5e5",
   "metadata": {},
   "source": [
    "3) 전역 변수\n",
    "    -  이때는 오류가 발생한다.\n",
    "       함수 안에서 하나의 변수가 전역 변수도 되었다가\n",
    "       지역 변수도 될 수는 없지 아니한가?\n",
    "\n",
    "    - 만약 함수 안에서 전역 변수의 값을 변경해야 되겠다면\n",
    "      global 키워드를 사용하여 전역 변수를 사용하겠다고\n",
    "      파이썬 인터프리터에게 알려주어야 한다."
   ]
  },
  {
   "cell_type": "code",
   "execution_count": 10,
   "id": "fd8b4162",
   "metadata": {},
   "outputs": [
    {
     "name": "stdout",
     "output_type": "stream",
     "text": [
      "사과가 좋음!!\n",
      "바나나가 좋음!!!\n",
      "바나나가 좋음!!!\n"
     ]
    }
   ],
   "source": [
    "def sub():\n",
    "    global s # 함수 안에서 전역 변수 s를 사용하겠다 라는 의미\n",
    "    print(s)\n",
    "    s = \"바나나가 좋음!!!\" # 전역 변수 값 변경\n",
    "    print(s)\n",
    "    \n",
    "s = \"사과가 좋음!!\"\n",
    "sub()\n",
    "print(s)\n"
   ]
  },
  {
   "cell_type": "markdown",
   "id": "d71cd1bc",
   "metadata": {},
   "source": [
    "3) 전역 변수\n",
    "    - global 키워드를 사용하여서 전역 변수의 값을 함수 안에서\n",
    "      변경할 수 있었다.\n",
    "      global을 사용하지 않고 파이썬의 함수 안에서 변수에 값을\n",
    "      저장하면 기본적으로 지역 변수가 된다.\n",
    "      이것을 잊지 말자.\n",
    "      또 변수는 선언 이후에만 사용할 수 있다.\n",
    "      파이썬에서는 변수에 값을 할당하는 순간 변수가 선언된다."
   ]
  },
  {
   "cell_type": "markdown",
   "id": "0173a94f",
   "metadata": {},
   "source": [
    "3) 전역 변수\n",
    "    - 지역 변수와 전역 변수를 섞어서 프로그램을 작성해보았다.\n",
    "      실행 결과를 추측할 수 있겠는가?"
   ]
  },
  {
   "cell_type": "code",
   "execution_count": 12,
   "id": "6a2f3e6e",
   "metadata": {},
   "outputs": [
    {
     "name": "stdout",
     "output_type": "stream",
     "text": [
      "7 3 4 3\n",
      "7 2 3 4\n"
     ]
    }
   ],
   "source": [
    "def sub(x,y):\n",
    "    # 전역 변수 a 설정\n",
    "    global a\n",
    "    a = 7\n",
    "    # 전역 변수 a 수정\n",
    "    x,y = y,x\n",
    "    # 파라미터로 받은 x,y값을 변경\n",
    "    b = 3\n",
    "    # 지역 변수 3 선언\n",
    "    print(a,b,x,y)\n",
    "    # 전역 변수 a = 7 \n",
    "    # 지역변수 b = 3 \n",
    "    # 파라미터로 받은 x,y값은 반대로 변경됨(지역 변수)\n",
    "    # 프린트 결과 7, 3, y, x\n",
    "\n",
    "    \n",
    "a,b,x,y = 1,2,3,4\n",
    "\n",
    "\n",
    "sub(x, y)\n",
    "# 7 3 4 3\n",
    "\n",
    "print(a,b,x,y)\n",
    "# 7 2 3 4"
   ]
  },
  {
   "cell_type": "markdown",
   "id": "a5338136",
   "metadata": {},
   "source": [
    "3) 전역 변수\n",
    "    - 위의 결과가 왜 저렇게 나오는지에 대해서 반드시 이해할 필요가 있다.\n",
    "      지역변수, 전역변수가 어떻게 할당이 되고 변경이 되며\n",
    "      하는 것에 대하여 하나하나 따라가면서 이해할 필요가 있다는 것이다."
   ]
  }
 ],
 "metadata": {
  "kernelspec": {
   "display_name": "Python 3",
   "language": "python",
   "name": "python3"
  },
  "language_info": {
   "codemirror_mode": {
    "name": "ipython",
    "version": 3
   },
   "file_extension": ".py",
   "mimetype": "text/x-python",
   "name": "python",
   "nbconvert_exporter": "python",
   "pygments_lexer": "ipython3",
   "version": "3.8.8"
  }
 },
 "nbformat": 4,
 "nbformat_minor": 5
}
