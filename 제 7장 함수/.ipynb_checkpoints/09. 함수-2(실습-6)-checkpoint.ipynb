{
 "cells": [
  {
   "cell_type": "code",
   "execution_count": 4,
   "id": "7c955d35",
   "metadata": {},
   "outputs": [
    {
     "name": "stdout",
     "output_type": "stream",
     "text": [
      "4\n"
     ]
    }
   ],
   "source": [
    "# 무명함수 람다식(anonymous function)에 대한 실습\n",
    "\n",
    "a = lambda x : x**2\n",
    "print(a(2))"
   ]
  },
  {
   "cell_type": "code",
   "execution_count": 2,
   "id": "ececdc96",
   "metadata": {},
   "outputs": [
    {
     "name": "stdout",
     "output_type": "stream",
     "text": [
      "일반함수 두 정수의 합 : 60\n",
      "일반함수 두 정수의 합 : 150\n",
      "람다식 이용 두 정수의 합 : 60\n",
      "람다식 이용 두 정수의 합 : 150\n",
      "60\n"
     ]
    }
   ],
   "source": [
    "# 일반적인 함수\n",
    "def get_sum(x,y):\n",
    "    return x+y\n",
    "\n",
    "# lambda 키워드를 이용한 sum() 만들기\n",
    "# 람다 함수는 코드 안에 함수를 포함하는 어느 곳이던지 다 사용이 가능하다.\n",
    "# 가장 많이 사용되는 곳은 GUI 프로그램에서 이벤트를 처리하는 \n",
    "# 콜백 함수 형태로 많이 사용된다.\n",
    "sum = lambda x, y : x + y\n",
    "# 람다 함수에서는 변수에다가 값을 할당할수 없다.\n",
    "\n",
    "\n",
    "def main():\n",
    "    print(\"일반함수 두 정수의 합 :\",get_sum(10,50))\n",
    "    print(\"일반함수 두 정수의 합 :\",get_sum(100,50))\n",
    "    print(\"람다식 이용 함수명 sum 두 정수의 합 :\",sum(10,50))\n",
    "    print(\"람다식 이용 함수명 sum 두 정수의 합 :\",sum(100,50))\n",
    "    print((lambda x, y : x + y)(10,50))\n",
    "    \n",
    "main()"
   ]
  },
  {
   "cell_type": "code",
   "execution_count": 8,
   "id": "af9f24c6",
   "metadata": {},
   "outputs": [
    {
     "name": "stdout",
     "output_type": "stream",
     "text": [
      "9\n",
      "27\n",
      "81\n"
     ]
    }
   ],
   "source": [
    "li = [lambda x : x**2,lambda x : x**3,lambda x : x**4]\n",
    "for i in li:\n",
    "    print(i(3))"
   ]
  }
 ],
 "metadata": {
  "kernelspec": {
   "display_name": "Python 3",
   "language": "python",
   "name": "python3"
  },
  "language_info": {
   "codemirror_mode": {
    "name": "ipython",
    "version": 3
   },
   "file_extension": ".py",
   "mimetype": "text/x-python",
   "name": "python",
   "nbconvert_exporter": "python",
   "pygments_lexer": "ipython3",
   "version": "3.8.8"
  }
 },
 "nbformat": 4,
 "nbformat_minor": 5
}
