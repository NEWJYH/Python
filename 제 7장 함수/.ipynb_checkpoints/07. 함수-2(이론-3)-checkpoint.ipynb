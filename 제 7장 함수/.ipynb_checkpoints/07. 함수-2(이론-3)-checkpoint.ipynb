{
 "cells": [
  {
   "cell_type": "markdown",
   "id": "b1e2cebf",
   "metadata": {},
   "source": [
    "3. 매개변수 = 지역변수"
   ]
  },
  {
   "cell_type": "markdown",
   "id": "e2804fb8",
   "metadata": {},
   "source": [
    "1) 매개변수와 지역변수의 관계\n",
    "    - 함수가 외부로부터 값을 전달 받는데 사용하는 매개변수도 \n",
    "      일종의 지역변수이다.\n",
    "      매개변수의 값을 함수 안에서 변경하면 어떻게 될까?\n",
    "      조금 착각할수도 있을 것 같아서 아래의 코드를 보고 이해해보자."
   ]
  },
  {
   "cell_type": "code",
   "execution_count": 11,
   "id": "ebe236b2",
   "metadata": {},
   "outputs": [
    {
     "name": "stdout",
     "output_type": "stream",
     "text": [
      "함수 내부에서의 mylist :  [1, 2, 3, 4]\n",
      "함수 외부에서의 mylist :  [10, 20, 30, 40]\n",
      "함수 내부에서의 mylist :  [10, 20, 30, 40, 1, 2, 3, 4]\n",
      "함수 외부에서의 mylist :  [10, 20, 30, 40, 1, 2, 3, 4]\n"
     ]
    }
   ],
   "source": [
    "# 함수가 정의된다.\n",
    "def sub(mylist):\n",
    "    # 리스트가 함수로 전달된다.\n",
    "    mylist = [1,2,3,4] # 새로운 리스트가 매개변수로 할당된다.\n",
    "    print(\"함수 내부에서의 mylist : \",mylist)\n",
    "    return\n",
    "\n",
    "\n",
    "def sub2(mylist):\n",
    "    # 리스트가 함수로 전달된다.\n",
    "    mylist += [1,2,3,4] # 매개변수로 들어온 리스트에 추가한다.\n",
    "    print(\"함수 내부에서의 mylist : \",mylist)\n",
    "    return\n",
    "\n",
    "\n",
    "# 여기서 sub()함수를 호출한다.\n",
    "mylist = [10, 20, 30, 40]\n",
    "sub(mylist)\n",
    "print(\"함수 외부에서의 mylist : \",mylist)\n",
    "sub2(mylist)\n",
    "print(\"함수 외부에서의 mylist : \",mylist)"
   ]
  },
  {
   "cell_type": "markdown",
   "id": "92e2e05d",
   "metadata": {},
   "source": [
    "1) 매개변수와 지역변수의 관계\n",
    "    - 함수의 매개변수와 외부의 전역변수의 이름이 모두 mylist이다.\n",
    "      매개변수도 지역변수의 일종임을 기억하자.\n",
    "   \n",
    "    - pythontutor를 실행하여서 한 줄씩 실행하면서\n",
    "      메모리 내의 상황을 이해하기 바란다.\n",
    "      함수가 시작될 때는 전역 변수 mylist와 매개변수 mylist는\n",
    "      동일한 리스트를 가르킨다. \n",
    "      \n",
    "    - 하지만 함수 안에서 매개변수 mylist에 다른 리스트를 할당하면\n",
    "      전역변수와 다른 리스트를 가르킨다."
   ]
  },
  {
   "cell_type": "markdown",
   "id": "ca7a57d9",
   "metadata": {},
   "source": [
    "4. 여러 개의 값 반환하기"
   ]
  },
  {
   "cell_type": "markdown",
   "id": "3bfc8bd7",
   "metadata": {},
   "source": [
    "1) 여러 개의 값 반환하기\n",
    "    - 파이썬을 제외한 다른 프로그래밍 언어에서는 \n",
    "      함수가 항상 하나의 값 만을 반환한다.\n",
    "      따라서 여러 개의 값을 반환하는 것이 필요한 함수는 다른 방법을\n",
    "      생각해야 했다.\n",
    "      파이썬에서는 함수가 하나 이상의 값도 반환할 수 있다."
   ]
  },
  {
   "cell_type": "code",
   "execution_count": 12,
   "id": "acf415b1",
   "metadata": {},
   "outputs": [
    {
     "name": "stdout",
     "output_type": "stream",
     "text": [
      "1 2 3\n"
     ]
    }
   ],
   "source": [
    "def sub():\n",
    "    return 1,2,3\n",
    "a,b,c = sub()\n",
    "print(a,b,c)"
   ]
  },
  {
   "cell_type": "markdown",
   "id": "e2db1640",
   "metadata": {},
   "source": [
    "1) 여러 개의 값 반환하기\n",
    "    - 위의 코드에서 보면 sub() 함수는 (1,2,3)을 반환한다.\n",
    "      즉 3개의 정수를 반화하고 있는 것이다.\n",
    "      반환된 3개의 정수(1,2,3)는 문장 세번째 줄에서 \n",
    "      변수 a,b,c로 저장 된다.\n",
    "      문장 다섯 번째 줄에서 변수 a,b,c의 값을 출력해보면\n",
    "      1,2,3이 출력되는 것을 확인할 수 있다.\n",
    "      \n",
    "    - 파이썬에서는 어떻게 여러 개의 값을 동시에 반환할 수 있을까?\n",
    "      return 1,2,3 은 return (1,2,3)과 같다.\n",
    "      즉, 1,2,3은 튜플(1,2,3)과 마찬가지 이다.\n",
    "      즉 튜플 1개가 반환되고 이 튜플을 받아서 변수 a,b,c에\n",
    "      값을 풀어서 저장하는 것이다."
   ]
  },
  {
   "cell_type": "code",
   "execution_count": 13,
   "id": "b8c0fad3",
   "metadata": {},
   "outputs": [
    {
     "name": "stdout",
     "output_type": "stream",
     "text": [
      "1\n",
      "2\n",
      "3\n"
     ]
    }
   ],
   "source": [
    "tuple_my =  (1,2,3) \n",
    "a,b,c = tuple_my\n",
    "print(a)\n",
    "print(b)\n",
    "print(c)\n",
    "# 튜플(tuple)은 몇 가지 점을 제외하곤 리스트와 거의 비슷하며\n",
    "# 리스트와 다른점은 다음과 같다.\n",
    "\n",
    "    # - 리스트 [] 튜플 ()\n",
    "    # - 리스트는 그값의 생성 삭제 수정 가능\n",
    "    # - 튜플을 그 값을 바꿀수 없다."
   ]
  },
  {
   "cell_type": "markdown",
   "id": "375b07f4",
   "metadata": {},
   "source": [
    "5. 무명 함수(람다식)"
   ]
  },
  {
   "cell_type": "markdown",
   "id": "c1a8a0fd",
   "metadata": {},
   "source": [
    "1) 무명 함수(익명)\n",
    "    - 무명 함수는 이름은 없고 몸체만 있는 함수이다.\n",
    "      \n",
    "    - 파이썬에서 무명 함수는 lambda 키워드로 만들어 진다.\n",
    "      무명 함수는 여러 개의 인수를 가질 수 있으나 \n",
    "      반환 값은 하나만 있어야 한다.\n",
    "      무명함수 안에서는 print()를 호출할 수 없다.\n",
    "      \n",
    "    - 계산만 가능하다. 또 자신만의 이름 공간을 가지고 있고\n",
    "      전역변수를 참조할 수 없다.\n",
    "      \n",
    "    - lambda 인수1, 인수2 : 수식"
   ]
  },
  {
   "cell_type": "code",
   "execution_count": 17,
   "id": "233e03c0",
   "metadata": {},
   "outputs": [
    {
     "name": "stdout",
     "output_type": "stream",
     "text": [
      "람다\n",
      "정수의 합 :  30\n",
      "정수의 합 :  40\n",
      "일반\n",
      "정수의 합 :  30\n",
      "정수의 합 :  40\n"
     ]
    }
   ],
   "source": [
    "# 무명 함수를 이용하여 2개의 정수를 합하는 함수\n",
    "sum1 = lambda x, y : x + y\n",
    "\n",
    "print(\"람다\")\n",
    "print(\"정수의 합 : \", sum1(10,20))\n",
    "print(\"정수의 합 : \", sum1(20,20))\n",
    "\n",
    "\n",
    "# 일반 함수를 이용\n",
    "def get_sum(x,y):\n",
    "    return x+y\n",
    "\n",
    "print(\"일반\")\n",
    "print(\"정수의 합 : \", get_sum(10,20))\n",
    "print(\"정수의 합 : \", get_sum(20,20))"
   ]
  },
  {
   "cell_type": "markdown",
   "id": "c6f1fb0f",
   "metadata": {},
   "source": [
    "2) 무명 함수의 용도\n",
    "    - get_sum()과 sum1()은 동일한 작업을 하며\n",
    "      동일한 방식으로 사용할 수 있다.\n",
    "      람다 함수에서는 return 키워드를 사용할 필요가 없다.\n",
    "      람다 함수에서는 항상 반환되는 수식만 써 주면 된다.\n",
    "      함수를 필요로 하는 곳에 람다 함수를 놓을 수 있으며\n",
    "      람다 함수를 반드시 변수에 할당할 필요도 없다.\n",
    "      \n",
    "    - 그렇다면 람다 함수는 어디에 사용되는 것일까?\n",
    "      람다함수는 코드 안에 함수를 포함하는 곳에서 어디든지 사용될수 있다.\n",
    "      예를 들어서 GUI프로그램에서 이벤트를 처리하는 \n",
    "      콜백함수(callback handler)에서 많이 사용된다.\n",
    "      콜백 함수를 간단하게 람다 함수로 작성하여 포함시키는 것이다.\n",
    "      여기서는 함수 부분이므로 람다함수를 포함시킨 것이다.\n",
    "      하지만, 후반부에 가면 람다에 대해서 나오니 람다함수의 개념과\n",
    "      사용 형태만 보고 넘어가도록 한다."
   ]
  },
  {
   "cell_type": "code",
   "execution_count": 22,
   "id": "7ccca7a7",
   "metadata": {},
   "outputs": [
    {
     "name": "stdout",
     "output_type": "stream",
     "text": [
      "9\n",
      "27\n",
      "81\n"
     ]
    }
   ],
   "source": [
    "# 리스트안에 람다함수가 있는 형태\n",
    "L = [lambda x:x**2,\n",
    "     lambda x:x**3,\n",
    "     lambda x:x**4]\n",
    "\n",
    "for f in L:\n",
    "    print(f(3))"
   ]
  }
 ],
 "metadata": {
  "kernelspec": {
   "display_name": "Python 3",
   "language": "python",
   "name": "python3"
  },
  "language_info": {
   "codemirror_mode": {
    "name": "ipython",
    "version": 3
   },
   "file_extension": ".py",
   "mimetype": "text/x-python",
   "name": "python",
   "nbconvert_exporter": "python",
   "pygments_lexer": "ipython3",
   "version": "3.8.8"
  }
 },
 "nbformat": 4,
 "nbformat_minor": 5
}
