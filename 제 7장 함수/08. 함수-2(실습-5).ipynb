{
 "cells": [
  {
   "cell_type": "code",
   "execution_count": 4,
   "id": "16d900aa",
   "metadata": {},
   "outputs": [
    {
     "name": "stdout",
     "output_type": "stream",
     "text": [
      "함수 호출 전 my_list 값 출력 :  [100, 200, 300, 400]\n",
      "함수 호출 전 my_list id값 출력 :  2988707576320\n",
      "함수호출\n",
      "함수 내부에서 my_list 값 출력 :  [1, 2, 3, 4]\n",
      "함수 내부에서 my_list id값 출력 :  2988707614272\n",
      "함수 호출 후 외부에서 my_list 값 출력 :  [100, 200, 300, 400]\n",
      "함수 호출 후 my_list id값 출력 :  2988707576320\n"
     ]
    }
   ],
   "source": [
    "# 매개변수는 함수의 선언부에 존재하며 함수가 호출될때\n",
    "# 메모리에 할당이 된다.\n",
    "# 함수가 종료되면 매개변수도 소멸이 된다.\n",
    "# 매개변수도 지역변수의 일종이다.\n",
    "\n",
    "def list_test(my_list):\n",
    "    print(\"함수호출\")\n",
    "    # 매개변수로 넘어온 my_list에 새로운 리스트를 할당한다.\n",
    "    # 매개변수로 넘어온 메모리의 주소를 버리고 새롭게 할당된\n",
    "    # 리스트의 주소를 가지게 된다.\n",
    "    my_list = [1, 2, 3, 4]\n",
    "    print(\"함수 내에서 my_list 값 출력 : \",my_list)\n",
    "    print(\"함수 내에서 my_list id값 출력 : \",id(my_list))\n",
    "    return\n",
    "\n",
    "my_list = [100, 200, 300, 400]\n",
    "print(\"함수 호출 전 my_list 값 출력 : \",my_list)\n",
    "print(\"함수 호출 전 my_list id값 출력 : \",id(my_list))\n",
    "list_test(my_list)\n",
    "print(\"함수 호출 후 외부에서 my_list 값 출력 : \",my_list)\n",
    "print(\"함수 호출 후 my_list id값 출력 : \",id(my_list))"
   ]
  },
  {
   "cell_type": "code",
   "execution_count": 5,
   "id": "a8dac374",
   "metadata": {},
   "outputs": [
    {
     "name": "stdout",
     "output_type": "stream",
     "text": [
      "함수 호출 전 my_list 값 출력 :  [100, 200, 300, 400]\n",
      "함수 호출 전 my_list id값 출력 :  2988707614272\n",
      "함수호출\n",
      "함수 내에서 my_list 값 출력 :  [100, 200, 300, 400, 1, 2, 3, 4]\n",
      "함수 내에서 my_list id값 출력 :  2988707614272\n",
      "함수 호출 후 외부에서 my_list 값 출력 :  [100, 200, 300, 400, 1, 2, 3, 4]\n",
      "함수 호출 후 my_list id값 출력 :  2988707614272\n"
     ]
    }
   ],
   "source": [
    "def list_test(my_list):\n",
    "    print(\"함수호출\")\n",
    "    # 매개변수로 넘어온 my_list에 새로운 리스트를 할당한다.\n",
    "    # 매개변수로 넘어온 메모리의 주소를 버리고 새롭게 할당된\n",
    "    # 리스트의 주소를 가지게 된다.\n",
    "    my_list += [1, 2, 3, 4]\n",
    "    print(\"함수 내에서 my_list 값 출력 : \",my_list)\n",
    "    print(\"함수 내에서 my_list id값 출력 : \",id(my_list))\n",
    "    return\n",
    "\n",
    "my_list = [100, 200, 300, 400]\n",
    "print(\"함수 호출 전 my_list 값 출력 : \",my_list)\n",
    "print(\"함수 호출 전 my_list id값 출력 : \",id(my_list))\n",
    "list_test(my_list)\n",
    "print(\"함수 호출 후 외부에서 my_list 값 출력 : \",my_list)\n",
    "print(\"함수 호출 후 my_list id값 출력 : \",id(my_list))"
   ]
  },
  {
   "cell_type": "code",
   "execution_count": 37,
   "id": "d9daef81",
   "metadata": {},
   "outputs": [
    {
     "name": "stdout",
     "output_type": "stream",
     "text": [
      "원의 반지름을 입력하세요20\n",
      "원의 둘레는 =   125.6637\n",
      "원의 넓이는 =  1256.6368\n"
     ]
    }
   ],
   "source": [
    "# 원의 면적과 원의 둘레를 구하는 프로그램을 작성하는데\n",
    "# PI = 3.141592 전역 상수를 선언하고 상수를 활용하도록 한다.\n",
    "# 2*PI*R => 원의 둘레\n",
    "# PI * R**2 => 원의 넓이\n",
    "\n",
    "class circle():\n",
    "    \n",
    "    def __init__(self,radius, PI=3.141592):\n",
    "        self.radius  = radius\n",
    "        self.PI = PI\n",
    "    # 원의 둘레를 구하는 함수를 선언 및 구현\n",
    "    def circumference(self):\n",
    "        result = self.radius * self.PI * 2\n",
    "        return round(result,4)\n",
    "    # 원의 면적을 구하는 함수를 선언 및 구현\n",
    "    def area(self):\n",
    "        result = self.radius**2 * self.PI \n",
    "        return round(result,4)\n",
    "    \n",
    "USER_INPUT = float(input(\"원의 반지름을 입력하세요\"))\n",
    "p1 = circle(USER_INPUT)\n",
    "print(f\"원의 둘레는 = {p1.circumference():>10}\")\n",
    "print(f\"원의 넓이는 = {p1.area():>10}\")"
   ]
  },
  {
   "cell_type": "code",
   "execution_count": 41,
   "id": "15a581b0",
   "metadata": {},
   "outputs": [
    {
     "name": "stdout",
     "output_type": "stream",
     "text": [
      "1 안녕 5\n",
      "<class 'tuple'>\n"
     ]
    }
   ],
   "source": [
    "# 여러개의 값을 반환하는 함수를 실습\n",
    "# 타 프로그래밍 언어에서는 함수가 항상 하나의 값만을 반환하거나\n",
    "# 반환값이 없음\n",
    "\n",
    "# 파이썬에서는 튜플을 이용하여 여러개의 값을 반환할 수 있다.\n",
    "\n",
    "# 튜플은 몇가지만 제외하고 리스트와 거의 비슷한 자료구조 형태이다.\n",
    "# 리스트는 [] 튜플은 ()\n",
    "# 리스트는 mutable 객체(생성, 삭제, 수정 ,추가) 가능\n",
    "# 튜플은 immutable 객체\n",
    "\n",
    "# 파이썬에서는 튜플의 형태로 여러 개으 값을 리턴을 하긴 하지만,\n",
    "# 함수는 한가지의 값을 리턴해준다는 그 정설에는 부합하다.\n",
    "# 튜플이라는 형태로 1개를 넘기기 때문이다.\n",
    "\n",
    "def tuple_return():\n",
    "    return 1, \"안녕\", 5\n",
    "\n",
    "a,b,c = tuple_return()\n",
    "tuple_variable = tuple_return()\n",
    "print(a,b,c)\n",
    "print(type(tuple_variable))"
   ]
  }
 ],
 "metadata": {
  "kernelspec": {
   "display_name": "Python 3",
   "language": "python",
   "name": "python3"
  },
  "language_info": {
   "codemirror_mode": {
    "name": "ipython",
    "version": 3
   },
   "file_extension": ".py",
   "mimetype": "text/x-python",
   "name": "python",
   "nbconvert_exporter": "python",
   "pygments_lexer": "ipython3",
   "version": "3.8.8"
  }
 },
 "nbformat": 4,
 "nbformat_minor": 5
}
