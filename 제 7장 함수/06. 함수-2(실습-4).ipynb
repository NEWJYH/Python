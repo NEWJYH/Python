{
 "cells": [
  {
   "cell_type": "code",
   "execution_count": 10,
   "id": "55a08d53",
   "metadata": {},
   "outputs": [
    {
     "name": "stdout",
     "output_type": "stream",
     "text": [
      "파이썬 공부\n",
      "C# 공부\n"
     ]
    }
   ],
   "source": [
    "# 지역변수와 전역변수의 실습\n",
    "\n",
    "def test():\n",
    "    # 함수 안에서 하나의 변수가 \n",
    "    # 전역 변수가 되었다가 다시 지역변수가 \n",
    "    # 될수가 없다.\n",
    "    #global text\n",
    "    #print(text)\n",
    "    text = \"파이썬 공부\"\n",
    "    print(text)\n",
    "\n",
    "text = \"C# 공부\"\n",
    "\n",
    "test()\n",
    "print(text)"
   ]
  },
  {
   "cell_type": "code",
   "execution_count": 17,
   "id": "7366dae2",
   "metadata": {},
   "outputs": [
    {
     "name": "stdout",
     "output_type": "stream",
     "text": [
      "C# 공부\n",
      "함수호출\n",
      " 함수 내 text C# 공부\n",
      " 함수 내 text 파이썬 공부\n",
      "파이썬 공부\n"
     ]
    }
   ],
   "source": [
    "# 전역변수를 함수 안에서 값을 변경하고자 한다면\n",
    "# global 키워드를 명시적으로 함수 안에 사용\n",
    "\n",
    "def test():\n",
    "    print(\"함수호출\")\n",
    "    global text\n",
    "    print(f\" 함수 내 text {text}\")\n",
    "    text = \"파이썬 공부\"\n",
    "    print(f\" 함수 내 text {text}\")\n",
    "\n",
    "text = \"C# 공부\"\n",
    "print(text)\n",
    "test()\n",
    "print(text)"
   ]
  },
  {
   "cell_type": "code",
   "execution_count": 19,
   "id": "78b4c057",
   "metadata": {},
   "outputs": [
    {
     "name": "stdout",
     "output_type": "stream",
     "text": [
      "함수 호출 전\n",
      "a 10 b 20 n1 77 n2 88\n",
      "함수 호출\n",
      "a 20 b 10 n1 88 n2 77\n",
      "함수 소멸\n",
      "함수 호출 후\n",
      "a 20 b 20 n1 77 n2 88\n"
     ]
    }
   ],
   "source": [
    "def test(n1, n2):# 함수의 매개변수도 지역변수의 일종이다.\n",
    "    print(\"함수 호출\")\n",
    "    global a     # 함수 내에서 전역변수 a를 사용하겠다고 명시함.\n",
    "    a = 20       # 전역 변수의 값을 변경함.\n",
    "    n1 ,n2 = n2, n1\n",
    "    b = 10       # 지역변수 b에 10을 할당함\n",
    "    print(f\"a {a} b {b} n1 {n1} n2 {n2}\")\n",
    "    print(\"함수 소멸\")\n",
    "    \n",
    "a = 10\n",
    "b = 20\n",
    "n1 = 77\n",
    "n2 = 88\n",
    "\n",
    "print(\"함수 호출 전\")\n",
    "print(f\"a {a} b {b} n1 {n1} n2 {n2}\")\n",
    "\n",
    "test(n1,n2)\n",
    "\n",
    "print(\"함수 호출 후\")\n",
    "print(f\"a {a} b {b} n1 {n1} n2 {n2}\")\n"
   ]
  }
 ],
 "metadata": {
  "kernelspec": {
   "display_name": "Python 3",
   "language": "python",
   "name": "python3"
  },
  "language_info": {
   "codemirror_mode": {
    "name": "ipython",
    "version": 3
   },
   "file_extension": ".py",
   "mimetype": "text/x-python",
   "name": "python",
   "nbconvert_exporter": "python",
   "pygments_lexer": "ipython3",
   "version": "3.8.8"
  }
 },
 "nbformat": 4,
 "nbformat_minor": 5
}
