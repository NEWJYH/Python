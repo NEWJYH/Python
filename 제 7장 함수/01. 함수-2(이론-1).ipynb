{
 "cells": [
  {
   "cell_type": "markdown",
   "id": "2862344b",
   "metadata": {},
   "source": [
    "제 7장 함수(function)-2"
   ]
  },
  {
   "cell_type": "markdown",
   "id": "68797a5e",
   "metadata": {},
   "source": [
    "1. 참조값에 의한 인수 전달"
   ]
  },
  {
   "cell_type": "markdown",
   "id": "7e552682",
   "metadata": {},
   "source": [
    "1) 변수 전달\n",
    "    - 함수를 호출할 떄, 변수를 전달하는 경우가 많다.\n",
    "      혹시 이런 의문을 가져보았는가?\n",
    "      내가 전달하는 변수의 무엇이 함수로 전달될까?\n",
    "      거의 모든 현대적인 프로그래밍 언어에서는 혼란을 막기 위하여\n",
    "      변수의 값만이 전달된다.\n",
    "      \n",
    "      이것이 값에 의한 호출(call by value)라고 한다.\n",
    "      값에 의한 전달(pass by value)도 동일한 의미이다.\n",
    "      아래 간단한 코드를 보자"
   ]
  },
  {
   "cell_type": "code",
   "execution_count": 1,
   "id": "c6619fdc",
   "metadata": {},
   "outputs": [
    {
     "name": "stdout",
     "output_type": "stream",
     "text": [
      "k = 10\n",
      "k = 10\n"
     ]
    }
   ],
   "source": [
    "def modify(n):\n",
    "    n = n+1\n",
    "    \n",
    "k = 10\n",
    "print(f\"k = {k}\")\n",
    "\n",
    "modify(k)\n",
    "print(f\"k = {k}\")\n",
    "# 위의 코드에서 변수 k가 modify() 함수로 전달 되었지만\n",
    "# k의 값은 호출 후에도 변경되지 않았다.\n",
    "# modify() 함수에서 매개변수 n의 값을 증가하였어도 말이다.\n",
    "# 이것이 바로 값에 의한 호출 (call by value)이다."
   ]
  },
  {
   "cell_type": "markdown",
   "id": "da197efc",
   "metadata": {},
   "source": [
    "2) 문자열 전달\n",
    "    - 문자열을 전달하여도 마찬가지이다."
   ]
  },
  {
   "cell_type": "code",
   "execution_count": 2,
   "id": "c0c83d17",
   "metadata": {},
   "outputs": [
    {
     "name": "stdout",
     "output_type": "stream",
     "text": [
      "msg = Happy Birthday\n",
      "msg = Happy Birthday\n"
     ]
    }
   ],
   "source": [
    "def modify(s):\n",
    "    s += \"To You\"\n",
    "    \n",
    "msg = \"Happy Birthday\"\n",
    "print(f\"msg = {msg}\")\n",
    "modify(msg)\n",
    "print(f\"msg = {msg}\")\n",
    "\n",
    "# 이것은 숫자나 문자열 변경이 불가능한 객체(immutable object)이기 떄문이다.\n",
    "# 숫자나 문자열을 변경하게 되면 새로운 객체가 생성된다."
   ]
  },
  {
   "cell_type": "markdown",
   "id": "ba1fc76b",
   "metadata": {},
   "source": [
    "2) 문자열 전달\n",
    "    - 이전 슬라이드에서 살펴보았던 내용을 확인하기 위하여 참조값을 출력하는 id() 함수를\n",
    "      사용하여 문자열을 변경하면 문자열의 참조값이 어떻게 되는지를 확인하자."
   ]
  },
  {
   "cell_type": "code",
   "execution_count": 3,
   "id": "2ccad683",
   "metadata": {},
   "outputs": [
    {
     "data": {
      "text/plain": [
       "2250509444656"
      ]
     },
     "execution_count": 3,
     "metadata": {},
     "output_type": "execute_result"
    }
   ],
   "source": [
    "msg = \"Happy Birthday\"\n",
    "id(msg)"
   ]
  },
  {
   "cell_type": "code",
   "execution_count": 4,
   "id": "1860700c",
   "metadata": {},
   "outputs": [
    {
     "data": {
      "text/plain": [
       "2250509354448"
      ]
     },
     "execution_count": 4,
     "metadata": {},
     "output_type": "execute_result"
    }
   ],
   "source": [
    "msg += \"To You\"\n",
    "id(msg)\n",
    "# 기존의 문자열 끝에 \"To You\"를 추가했을 뿐인데 객체의 주소는 완전히 변경되었다.\n",
    "\n",
    "# 검색 키워드 : 해쉬코드 해싱 알고리즘"
   ]
  },
  {
   "cell_type": "markdown",
   "id": "64e573da",
   "metadata": {},
   "source": [
    "3) 리스트 전달\n",
    "    - 리스트와 같은 변경 가능 객체(mutable object)를 전달하면 어떻게 될까?\n",
    "      그렇다면 아주 다른 상황이 된다."
   ]
  },
  {
   "cell_type": "code",
   "execution_count": 5,
   "id": "e3da1d0d",
   "metadata": {},
   "outputs": [
    {
     "name": "stdout",
     "output_type": "stream",
     "text": [
      "[1, 2, 3, 4, 5]\n",
      "[1, 2, 3, 4, 5, 100, 200]\n"
     ]
    }
   ],
   "source": [
    "def modify2(li):\n",
    "    li += [100,200]\n",
    "    \n",
    "list = [1,2,3,4,5]\n",
    "print(list)\n",
    "modify2(list)\n",
    "print(list)"
   ]
  },
  {
   "cell_type": "markdown",
   "id": "d9cd38aa",
   "metadata": {},
   "source": [
    "3) 리스트 전달\n",
    "    - 리스트는 변경 가능한 객체로서 modify2()에 리스트를 전달한 후에\n",
    "      리스트의 내용을 변경하면 원본에 영향을 끼친다.\n",
    "      이것은 다음과 같이 알아두도록 한다.\n",
    "      \n",
    "      !!!!!!\n",
    "      리스트의 경우에 리스트의 참조값이 전달된다.\n",
    "      함수에서 참조값을 이용하여 리스트를 변경하면 리스트는 변경 가능하기 때문에\n",
    "      새로운 객체를 생성하지 않고 기존의 객체가 변경되는 것이다.\n",
    "      !!!!!!\n",
    "      \n",
    "      중요한 사항이니 반드시 기억해두기 바란다.\n",
    "      "
   ]
  },
  {
   "cell_type": "code",
   "execution_count": 17,
   "id": "a0cf4f35",
   "metadata": {},
   "outputs": [
    {
     "name": "stdout",
     "output_type": "stream",
     "text": [
      "1\n",
      "1\n",
      "2\n",
      "1\n",
      "============\n",
      "[1, 2, 3, 4]\n",
      "[1, 2, 3, 4]\n",
      "[1, 2, 3, 4, 5, 6]\n",
      "[1, 2, 3, 4, 5, 6]\n"
     ]
    }
   ],
   "source": [
    "# 값형\n",
    "a = 1\n",
    "b = a\n",
    "print(a)\n",
    "print(b)\n",
    "a =2 \n",
    "print(a)\n",
    "print(b)\n",
    "print(\"============\")\n",
    "# 참조형 주소가 넘어감\n",
    "lista = [1,2,3,4]\n",
    "listb = lista\n",
    "print(lista)\n",
    "print(listb)\n",
    "listb += [5,6]\n",
    "print(lista)\n",
    "print(listb)\n"
   ]
  }
 ],
 "metadata": {
  "kernelspec": {
   "display_name": "Python 3",
   "language": "python",
   "name": "python3"
  },
  "language_info": {
   "codemirror_mode": {
    "name": "ipython",
    "version": 3
   },
   "file_extension": ".py",
   "mimetype": "text/x-python",
   "name": "python",
   "nbconvert_exporter": "python",
   "pygments_lexer": "ipython3",
   "version": "3.8.8"
  }
 },
 "nbformat": 4,
 "nbformat_minor": 5
}
