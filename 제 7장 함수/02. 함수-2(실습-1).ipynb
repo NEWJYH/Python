{
 "cells": [
  {
   "cell_type": "code",
   "execution_count": 21,
   "id": "99be677d",
   "metadata": {},
   "outputs": [
    {
     "name": "stdout",
     "output_type": "stream",
     "text": [
      "호출 전 n의 주소(id) : 140737173599120\n",
      "호출 전 n의 값 100\n",
      "change()내의 연산전 num 값 : 100\n",
      "change()내의 연산전 num의 주소(id) : 140737173599120\n",
      "change()내의 연산후 num 값 : 110\n",
      "change()내의 연산후 num의 주소(id) : 140737173599440\n",
      "호출 후 x의 값 110\n",
      "호출 후 x의 주소(id) : 140737173599440\n",
      "호출 후 n의 값 100\n",
      "호출 후 n의 주소(id) : 140737173599120\n"
     ]
    }
   ],
   "source": [
    "# call by value\n",
    "# 값에 의한 호출\n",
    "# 값에 의한 전달(pass by value)\n",
    "# 동일한 개념\n",
    "# 함수를 호출할 때, 값이 복사가 되어진다.(중요)\n",
    "# 호출한 곳에 영향을 끼치지 아니한다.\n",
    "# 숫자 객체는 변경 될수 없는 immutable object이다.\n",
    "def change(num):\n",
    "    print(f\"change()내의 연산전 num 값 : {num}\")\n",
    "    print(f\"change()내의 연산전 num의 주소(id) : {id(num)}\")\n",
    "    \n",
    "    num = num + 10\n",
    "    print(f\"change()내의 연산후 num 값 : {num}\")\n",
    "    print(f\"change()내의 연산후 num의 주소(id) : {id(num)}\")\n",
    "    return num\n",
    "    \n",
    "# 파이썬에서는 모든 값들이 객체로 이루어져 있다.\n",
    "n = 100\n",
    "# id() 함수는 매개변수 값으로 객체를 받아서 그 객체의 고유한 주소 값을\n",
    "# 반환해주는 함수이다.\n",
    "print(f\"호출 전 n의 주소(id) : {id(n)}\")\n",
    "print(f\"호출 전 n의 값 {n}\")\n",
    "x = change(n)\n",
    "print(f\"호출 후 x의 값 {x}\")\n",
    "print(f\"호출 후 x의 주소(id) : {id(x)}\")\n",
    "print(f\"호출 후 n의 값 {n}\")\n",
    "print(f\"호출 후 n의 주소(id) : {id(n)}\")"
   ]
  },
  {
   "cell_type": "code",
   "execution_count": 20,
   "id": "3888d6ad",
   "metadata": {},
   "outputs": [
    {
     "name": "stdout",
     "output_type": "stream",
     "text": [
      "호출 전 msg 값 : 안녕하세요 저는 파이썬을 \n",
      "호출 전 msg  주소 값(id): 1853115627984\n",
      "=======================================\n",
      "change()내의 연산전 string 값 : 안녕하세요 저는 파이썬을 \n",
      "change()내의 연산전 string 주소(id) : 1853115627984\n",
      "change()내의 string 값 : 안녕하세요 저는 파이썬을 공부합니다.\n",
      "change()내의 string 주소(id) : 1853116198448\n",
      "=======================================\n",
      "호출 후 msg : 안녕하세요 저는 파이썬을 \n",
      "호출 후 msg  주소 값(id): 1853115627984\n"
     ]
    }
   ],
   "source": [
    "# 문자열 전달에 대한 실습\n",
    "# 문자열도 immutable object이다.\n",
    "\n",
    "def change(string):\n",
    "    print(f\"change()내의 연산전 string 값 : {string}\")\n",
    "    print(f\"change()내의 연산전 string 주소(id) : {id(string)}\")\n",
    "    # 연산을 하지 않았다면 동일한 객체\n",
    "    string += \"공부합니다.\"\n",
    "    print(f\"change()내의 string 값 : {string}\")\n",
    "    print(f\"change()내의 string 주소(id) : {id(string)}\")\n",
    "    \n",
    "msg = \"안녕하세요 저는 파이썬을 \"\n",
    "print(f\"호출 전 msg 값 : {msg}\")\n",
    "print(f\"호출 전 msg  주소 값(id): {id(msg)}\")\n",
    "print(f\"=======================================\")\n",
    "change(msg)\n",
    "print(f\"=======================================\")\n",
    "print(f\"호출 후 msg : {msg}\")\n",
    "print(f\"호출 후 msg  주소 값(id): {id(msg)}\")\n",
    "\n",
    "# 정수나 문자열은 immutable 객체이기 때문에 \n",
    "# 문자열의 내용도 앞서 살펴본 숫자형의 객체와 동일한 변경될수 없는\n",
    "# immutable object 형태이다.\n",
    "# 파이썬의 경우는 타 언어의 call by value의 개념과는 조금은 다르다.\n",
    "# 그 이유는 python은 모든 것을 \"객체\"로 판단을 하기 때문인 것이다.\n",
    "# 파이썬의 이런 특성이 존재하므로 \n",
    "# call by objective 이라고도 칭한다."
   ]
  }
 ],
 "metadata": {
  "kernelspec": {
   "display_name": "Python 3",
   "language": "python",
   "name": "python3"
  },
  "language_info": {
   "codemirror_mode": {
    "name": "ipython",
    "version": 3
   },
   "file_extension": ".py",
   "mimetype": "text/x-python",
   "name": "python",
   "nbconvert_exporter": "python",
   "pygments_lexer": "ipython3",
   "version": "3.8.8"
  }
 },
 "nbformat": 4,
 "nbformat_minor": 5
}
