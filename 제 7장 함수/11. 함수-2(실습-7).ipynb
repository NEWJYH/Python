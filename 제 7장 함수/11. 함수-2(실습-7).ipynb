{
 "cells": [
  {
   "cell_type": "code",
   "execution_count": 5,
   "id": "abc6deb4",
   "metadata": {},
   "outputs": [
    {
     "name": "stdout",
     "output_type": "stream",
     "text": [
      "1 1 2 3 5 8 13 21 34 55 89 \n",
      "55\n"
     ]
    }
   ],
   "source": [
    "# fibo.py\n",
    "# 피보나치 수열의 함수만 선언 및 구현 -- 모듈의 형태\n",
    "\n",
    "# 모듈의 정의 : \n",
    "# 함수나 변수들을 모아 놓은 파일\n",
    "# 모듈이라는 것은 자주 사용될것으로 예상되는 함수들을 선언 및 구현으로\n",
    "# 정의를 해놓은 파일이며, 타 프로그램에서 import 키워드로 \n",
    "# 다른 실행 파일에 도움을 주는 형태의 파일이다.\n",
    "\n",
    "def fib(n):\n",
    "    n1 = 0\n",
    "    n2 = 1\n",
    "    while n2< n:\n",
    "        print(n2,end=\" \")\n",
    "        n1,n2 = n2, n1+n2\n",
    "    print()\n",
    "\n",
    "\n",
    "\n",
    "def sum(n):\n",
    "    sum = 0\n",
    "    for i in range(1, n+1):\n",
    "        sum += i\n",
    "    return sum\n",
    "\n",
    "def main():\n",
    "    fib(100)\n",
    "    print(sum(10))\n",
    "\n",
    "if __name__ == \"__main__\":\n",
    "    main()"
   ]
  },
  {
   "cell_type": "code",
   "execution_count": null,
   "id": "9368f78c",
   "metadata": {},
   "outputs": [],
   "source": [
    "# 모듈을 활용하는 첫 번쨰 방법\n",
    "import fibo\n",
    "\n",
    "# fibo 모듈 fib()를 사용하겠다라는 것이다.\n",
    "fibo.fib(100)\n",
    "# 1 1 2 3 5 8 13 21 34 55 89 \n",
    "\n",
    "# fibo.py 모듈에 sum()를 사용하겠따라는 것이다.\n",
    "print(fibo.sum(10))\n",
    "# 55"
   ]
  },
  {
   "cell_type": "code",
   "execution_count": null,
   "id": "29b12427",
   "metadata": {},
   "outputs": [],
   "source": [
    "from fibo import fib\n",
    "fib(100)\n",
    "# sum(10) 가져오지 않아서 사용 불가능\n",
    "from fibo import fib, sum\n",
    "fib(100)\n",
    "sum(10)\n",
    "\n",
    "from fibo import *\n",
    "fib(100)\n",
    "sum(10)\n",
    "# 위 두개의 차이 점은 import를 사용하면\n",
    "# 파일명.함수명()으로 호출되므로 사용한 함수에 출처를 알수가 있다.\n",
    "# from fibo import * 를 사용하면 파일명이 필요가 없다.\n",
    "# 함수 명으로 바로 호출이 가능하다."
   ]
  },
  {
   "cell_type": "code",
   "execution_count": null,
   "id": "93df57eb",
   "metadata": {},
   "outputs": [],
   "source": [
    "# __name__ 은 내장 전역 변수로 인터프리터가 만들어 놓은 것이다.\n",
    "import fibo \n",
    "print(fibo.__name__)\n",
    "# fibo\n",
    "print(__name__)\n",
    "# __main__\n",
    "\n",
    "# 실행 파일에서는 __name__이라는 \n",
    "# 내장 전역 변수는 __main__값을 지니게 된다."
   ]
  },
  {
   "cell_type": "code",
   "execution_count": 7,
   "id": "339f3391",
   "metadata": {},
   "outputs": [
    {
     "name": "stdout",
     "output_type": "stream",
     "text": [
      "1 1 2 3 5 8 13 21 34 55 89 \n",
      "55\n"
     ]
    }
   ],
   "source": [
    "def fib(n):\n",
    "    n1 = 0\n",
    "    n2 = 1\n",
    "    while n2< n:\n",
    "        print(n2,end=\" \")\n",
    "        n1,n2 = n2, n1+n2\n",
    "    print()\n",
    "\n",
    "\n",
    "\n",
    "def sum(n):\n",
    "    sum = 0\n",
    "    for i in range(1, n+1):\n",
    "        sum += i\n",
    "    return sum\n",
    "\n",
    "def main():\n",
    "    fib(100)\n",
    "    print(sum(10))\n",
    "\n",
    "\n",
    "\n",
    "if __name__ == \"__main__\":\n",
    "    main()"
   ]
  }
 ],
 "metadata": {
  "kernelspec": {
   "display_name": "Python 3",
   "language": "python",
   "name": "python3"
  },
  "language_info": {
   "codemirror_mode": {
    "name": "ipython",
    "version": 3
   },
   "file_extension": ".py",
   "mimetype": "text/x-python",
   "name": "python",
   "nbconvert_exporter": "python",
   "pygments_lexer": "ipython3",
   "version": "3.8.8"
  }
 },
 "nbformat": 4,
 "nbformat_minor": 5
}
