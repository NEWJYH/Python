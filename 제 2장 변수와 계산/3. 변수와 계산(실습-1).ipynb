{
 "cells": [
  {
   "cell_type": "code",
   "execution_count": 10,
   "id": "25e6c389",
   "metadata": {},
   "outputs": [
    {
     "name": "stdout",
     "output_type": "stream",
     "text": [
      "num1 :  100 num2 :  200\n",
      "튜플사용\n",
      "num1 :  200 num2 :  100\n",
      "temp사용\n",
      "num1 :  100 num2 :  200\n"
     ]
    }
   ],
   "source": [
    "# 변수의 두 개의 값을 서로 바꾸는 예제\n",
    "\n",
    "# num1 이라는 변수에 100을 저장함.\n",
    "num1 = 100\n",
    "num2 = 200\n",
    "# num1의 데이터 타입을 확인하는 방법은 type함수를 사용하면 된다.\n",
    "# num1_type = type(num1)\n",
    "# print(num1_type)\n",
    "\n",
    "print(\"num1 : \",num1, \"num2 : \",num2)\n",
    "\n",
    "# 두개의 변수값을 바꾸기 위해서는 임시변수가 필요하다.\n",
    "print(\"temp사용\")\n",
    "temp = num1\n",
    "num1 = num2\n",
    "num2 = temp\n",
    "print(\"num1 : \",num1, \"num2 : \",num2)\n",
    "\n",
    "# 튜플 사용한 값을 서로 바꾸기\n",
    "print(\"튜플사용\")\n",
    "(num1,num2) = (num2,num1)\n",
    "print(\"num1 : \",num1, \"num2 : \",num2)\n"
   ]
  },
  {
   "cell_type": "code",
   "execution_count": 14,
   "id": "9ddacc34",
   "metadata": {},
   "outputs": [
    {
     "name": "stdout",
     "output_type": "stream",
     "text": [
      "참석자 수를 입력하세요 : 3\n",
      "치킨의 수는  3\n",
      "맥주의 수는  6\n",
      "케익의 수는  12\n"
     ]
    }
   ],
   "source": [
    "# 사용자로부터 참석하는 인원의 수를 받아 해당하는 인원의 수에 따라서\n",
    "# 치킨은 인원당 1마리, 맥주는 인원당 2병, 케익은 인원당 4개를 출력하는\n",
    "# 프로그램을 작성하시오.\n",
    "\n",
    "# number = input(\"참석자의 수를 입력하세요\")\n",
    "# -> 문자열로 되어서 참석자의 수 2이면\n",
    "#    치킨은 2\n",
    "#    맥주는 22\n",
    "#    케익은 2222\n",
    "# type(number)\n",
    "# -> str\n",
    "\n",
    "# input()함수는 사용자로부터 입력을 받는 용도인데\n",
    "# 문자열 형태로 저장된다.\n",
    "\n",
    "# 문자열을 숫자로 바꾸기 위해서 int()함수를 사용하였다.\n",
    "\n",
    "number = int(input(\"참석자 수를 입력하세요 : \"))\n",
    "chikens = number\n",
    "beers = number * 2\n",
    "cakes = number * 4\n",
    "print(\"치킨의 수는 \", chikens)\n",
    "print(\"맥주의 수는 \", beers)\n",
    "print(\"케익의 수는 \", cakes)"
   ]
  },
  {
   "cell_type": "code",
   "execution_count": 16,
   "id": "387ccf89",
   "metadata": {},
   "outputs": [
    {
     "name": "stdout",
     "output_type": "stream",
     "text": [
      "첫번째 정수를 입력하세요 :10\n",
      "두번쨰 정수를 입력하세요 :5\n",
      "두수의 합 :  15\n",
      "두수의 차 :  5\n"
     ]
    }
   ],
   "source": [
    "# 사용자로부터 두개의 정수를 입력받아서 두 수의 합을 구하는 프로그램을 만드시오.\n",
    "\n",
    "x = int(input(\"첫번째 정수를 입력하세요 :\"))\n",
    "y = int(input(\"두번쨰 정수를 입력하세요 :\"))\n",
    "\n",
    "sum = x + y\n",
    "diff = x - y\n",
    "print(\"두수의 합 : \", sum)\n",
    "print(\"두수의 차 : \", diff)"
   ]
  },
  {
   "cell_type": "code",
   "execution_count": 25,
   "id": "dfee40c5",
   "metadata": {},
   "outputs": [
    {
     "name": "stdout",
     "output_type": "stream",
     "text": [
      " / 최대로 살수 있는 사탕의 개수 :  41.666666666666664\n",
      " // 최대로 살수 있는 사탕의 개수 :  41\n",
      "남은 잔돈은 ? :  80\n"
     ]
    }
   ],
   "source": [
    "# 한 사람이 돈이 5000원이 있는데 사탕의 가격이 120원이라면 최대로 살수 있는 \n",
    "# 사탕의 수는 몇개인지 알아보는 프로그램을 만들어보시오.\n",
    "\n",
    "myMoney = 5000\n",
    "candyPrice = 120\n",
    "\n",
    "# 최대로 살수 있는 사탕의 개수\n",
    "numCadies1 = myMoney / candyPrice\n",
    "# /를 하나로 넣으면 실수,\n",
    "# //적용하면 정수로 결과값이 나온다.\n",
    "numCadies2 = myMoney // candyPrice\n",
    "print(\" / 최대로 살수 있는 사탕의 개수 : \", numCadies1)\n",
    "print(\" // 최대로 살수 있는 사탕의 개수 : \", numCadies2)\n",
    "\n",
    "# 사탕을 구입하고 남은 돈은?\n",
    "change = myMoney % candyPrice\n",
    "print(\"남은 잔돈은 ? : \", change)\n"
   ]
  }
 ],
 "metadata": {
  "kernelspec": {
   "display_name": "Python 3",
   "language": "python",
   "name": "python3"
  },
  "language_info": {
   "codemirror_mode": {
    "name": "ipython",
    "version": 3
   },
   "file_extension": ".py",
   "mimetype": "text/x-python",
   "name": "python",
   "nbconvert_exporter": "python",
   "pygments_lexer": "ipython3",
   "version": "3.8.8"
  }
 },
 "nbformat": 4,
 "nbformat_minor": 5
}
