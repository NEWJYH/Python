{
 "cells": [
  {
   "cell_type": "code",
   "execution_count": 7,
   "id": "9d70f3ed",
   "metadata": {},
   "outputs": [
    {
     "name": "stdout",
     "output_type": "stream",
     "text": [
      "7\n",
      "78.5\n",
      "28.0\n",
      "나눗셈 / and //\n",
      "3.3333333333333335\n",
      "3\n",
      "나머지 연산자\n",
      "1\n",
      "27\n",
      "0\n"
     ]
    }
   ],
   "source": [
    "# 연산자의 간단한 실습\n",
    "# 우선숭위가 제일 높은 것은 지수, (곱하기, 나누기, 나머지),(덧셈,뺄셈)순으로 \n",
    "# 정해지지만 우선순위에 얶매이지 말고, 괄호를 사용해서 가독성이 높이는 \n",
    "# 프로그램을 작성하도록 하자.\n",
    "# +, -, /, * 는 오퍼레이터(연산자)이고, \n",
    "# 3,4 와같은 것은 오퍼랜드(피연산자)라고 칭한다.\n",
    "\n",
    "# 3 + 4\n",
    "print(3+4)\n",
    "#3.14 * 5.0 * 5.0\n",
    "print(3.14 * 5.0 * 5.0)\n",
    "# 괄호를 사용하라\n",
    "print(1 + (4 * 8) - (10 / 2))\n",
    "\n",
    "# 나눗셈\n",
    "print(\"나눗셈 / and //\")\n",
    "print(10/3) # 하나만 적으면 실수 계산\n",
    "print(10//3) # 두개를 붙이면 정수 계산 (파이썬만의 특성)\n",
    "\n",
    "# 나머지 연산자\n",
    "print(\"나머지 연산자\")\n",
    "print(10 % 3) # 1\n",
    "\n",
    "# 지수(제곱)을 계산하려면 **연산자를 사용한다.\n",
    "print(3**3) # 27 (3의 3승)"
   ]
  },
  {
   "cell_type": "code",
   "execution_count": 11,
   "id": "2b4067ec",
   "metadata": {},
   "outputs": [
    {
     "name": "stdout",
     "output_type": "stream",
     "text": [
      "초를 입력하세요.1000\n",
      "시간 :  0 분 :  16 초:  40\n"
     ]
    }
   ],
   "source": [
    "# 초를 입력받아서\n",
    "# 초,분,초로 변경하는 프로그램을 작성해보자.\n",
    "\n",
    "time = int(input(\"초를 입력하세요.\"))\n",
    "\n",
    "# 60으로 나눈 나머지는 초를 의미\n",
    "second = time % 60\n",
    "# 60으로 나눈 몫을 다시 60으로 나눈 나머지는 분을 의미\n",
    "minute = (time // 60) % 60\n",
    "# 60으로 나눈 몫을 다시 60으로 나눈 몫은 시간이 된다.\n",
    "hour = (time // 60) // 60\n",
    "\n",
    "print(\"시간 : \",hour, \"분 : \",minute,\"초: \", second)"
   ]
  },
  {
   "cell_type": "code",
   "execution_count": 19,
   "id": "a70da0d3",
   "metadata": {},
   "outputs": [
    {
     "name": "stdout",
     "output_type": "stream",
     "text": [
      "x의 값이  2.0 일때 y의 값은 35.0 이다.\n"
     ]
    }
   ],
   "source": [
    "# 2차 함수 y = 3x^2 + 7x + 9 라는 방정식이 있을 때, \n",
    "# x가 2일때 y값을 구하는 프로그램\n",
    "\n",
    "x = 2.0\n",
    "y = 3 * (x ** 2) + (7 * x) + 9\n",
    "print(\"x의 값이 \",x,\"일때\",\"y의 값은\",y,\"이다.\")\n",
    "# 지수를 구하는 연산자는 ** 사용하도록 한다."
   ]
  },
  {
   "cell_type": "code",
   "execution_count": 30,
   "id": "efea0c1a",
   "metadata": {},
   "outputs": [
    {
     "name": "stdout",
     "output_type": "stream",
     "text": [
      "abs\n",
      "777\n",
      "777\n",
      "round\n",
      "1\n",
      "2\n",
      "max\n",
      "999\n",
      "min\n",
      "-20\n",
      "sqrt\n",
      "2.0\n",
      "9.0\n"
     ]
    }
   ],
   "source": [
    "# 내장 함수 및 math 라이브러리 함수 이용\n",
    "\n",
    "# 절대값 구하기\n",
    "print(\"abs\")\n",
    "print(abs(-777))\n",
    "print(abs(777))\n",
    "# 반올림하기(소수첫째자리)\n",
    "print(\"round\")\n",
    "print(round(1.22222))\n",
    "print(round(1.52222))\n",
    "\n",
    "# 주어진 매개변수 값 중에서 최대값 구하기\n",
    "print(\"max\")\n",
    "print(max(10,-20,100, 999))\n",
    "# 주어진 매개변수 값 중에서 최소값 구하기\n",
    "print(\"min\")\n",
    "print(min(10, -20, 100, 999))\n",
    "\n",
    "# 제곱근 구하기\n",
    "from math import *\n",
    "print(\"sqrt\")\n",
    "# 4.0의 제곱근을 구하기\n",
    "print(sqrt(4.0))\n",
    "\n",
    "#  from 라이브러리\n",
    "#  import 모듈\n",
    "# import * 은 라이브러리에 모든 모듈을 사용할수 있게끔 한다.\n",
    "\n",
    "# 3의 2승을 구하기\n",
    "print(pow(3,2))\n",
    "# 이것은 함수이다. 연산자 ** 와 동일하다."
   ]
  }
 ],
 "metadata": {
  "kernelspec": {
   "display_name": "Python 3",
   "language": "python",
   "name": "python3"
  },
  "language_info": {
   "codemirror_mode": {
    "name": "ipython",
    "version": 3
   },
   "file_extension": ".py",
   "mimetype": "text/x-python",
   "name": "python",
   "nbconvert_exporter": "python",
   "pygments_lexer": "ipython3",
   "version": "3.8.8"
  }
 },
 "nbformat": 4,
 "nbformat_minor": 5
}
