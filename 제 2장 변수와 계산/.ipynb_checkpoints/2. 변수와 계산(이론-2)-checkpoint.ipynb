{
 "cells": [
  {
   "cell_type": "markdown",
   "id": "b1ad9a23",
   "metadata": {},
   "source": [
    "2. 변수와 상수(constant), 주석(comment)\n",
    "\n",
    "1) 변수가 저장하는 것\n",
    "    - 파이썬에서 변수는 어떤 데이터든 저장할 수 있다.\n",
    "      먼저 수를 저장할 수 있다. 2가지 종류의 수를 저장할 수 있는데\n",
    "      하나는 정수(integer)이며, 소수점이 없는 수를 의미한다.\n",
    "      파이썬에서는 이것을 int라고 칭한다.\n",
    "      하지만 0.524와 같은 소수점이 있는 수가 필요하면 \n",
    "      실수(floating-point)를 사용하면 된다. 이것을 float라고 칭한다.\n",
    "      데이터의 종류를 자료형(data type)이라고 한다.\n",
    "      또 변수는 \"Hello\"와 같은 문자열을 저장할 수 가 있다.\n",
    "     \n",
    "    - 파이썬에서는 변수에 어떤 자료형의 값이든지 저장할 수 있다.\n",
    "      파이썬에서 자료형은 값과 연관되고 변수와는 연관되지 않는다."
   ]
  },
  {
   "cell_type": "code",
   "execution_count": 5,
   "id": "daf1e88d",
   "metadata": {},
   "outputs": [
    {
     "name": "stdout",
     "output_type": "stream",
     "text": [
      "3\n",
      "10.777\n",
      "hello\n",
      "파이썬 코드\n",
      "hello\n",
      "3\n",
      "3\n"
     ]
    }
   ],
   "source": [
    "value = 3\n",
    "print(value)\n",
    "# 동일한 변수 value에 실수값을 저장할수 있다.\n",
    "value = 10.777\n",
    "print(value)\n",
    "# 아울러 문자열도 저장할 수 있다.\n",
    "value = \"hello\"\n",
    "print(value)\n",
    "\n",
    "value\n",
    "\n",
    "# 파이썬이 이렇게 어떤 자료형의 데이터 든지 저장할 수 있는 것은 파이썬 에서는 \n",
    "# 모든 것이 객체(object)로 되어 있기 때문이다.\n",
    "# 변수에 저장되는 것은 실제로 객체의 주소이다.\n",
    "# 따라서 객체이기만 하면 뭐든지 변수로 가리킬 수 있는 것이다.\n",
    "\n",
    "# 파이썬 코드\n",
    "print(\"파이썬 코드\")\n",
    "a = 3\n",
    "b = a\n",
    "c = a\n",
    "\n",
    "a = \"hello\"\n",
    "print(a)\n",
    "print(b)\n",
    "print(c)\n",
    "\n",
    "# 변수 b,c -> type : int 값 3\n",
    "# 변수 a -> type : string 값 \"hello\"\n",
    "\n",
    "# 파이썬은 참조 변수라고 보는게 맞다\n",
    "# stack 변수명\n",
    "# 힙에 값\n",
    "# 스택 변수명이 힙에 값을 가르킴"
   ]
  },
  {
   "cell_type": "markdown",
   "id": "26529f31",
   "metadata": {},
   "source": [
    "2) 변수의 이름 규칙\n",
    "    - 의미 없는 이름을 사용하는 것보다는 \n",
    "      의미 있는 이름을 사용하는 것이 바람직하다.\n",
    "    \n",
    "    - 소문자와 대문자는 서로 다르게 취급된다.\n",
    "    \n",
    "    - 변수의 이름은 영문자와 숫자, 밑줄(_)로 이루어진다.\n",
    "    \n",
    "    - 변수의 이름 중간에 공백이 들어가면 안딘다. \n",
    "      단어를 구분하려면 밑줄(_)을 사용 한다.\n",
    "      "
   ]
  },
  {
   "cell_type": "code",
   "execution_count": 7,
   "id": "6f25f41a",
   "metadata": {},
   "outputs": [],
   "source": [
    "# 개발자들은 변수의 이름을 지을때, 낙타체를 많이 사용한다.\n",
    "# 낙타체란 변수의 첫글자는 소문자로\n",
    "# 나머지 단어의 첫 글자는 대문자로 적는 방법이다.\n",
    "# 예를 들면 myNewCar처럼 첫m은 소문자로 나머지 단어들의 첫글자는 \n",
    "# 대문자로 표기한다.\n",
    "# 카멜 표기법"
   ]
  },
  {
   "cell_type": "markdown",
   "id": "8c42291a",
   "metadata": {},
   "source": [
    "3) 상수(constant)\n",
    "    - 상수(constant)는 한번 값이 결정되면 절대로 변경되지 않는 변수를 말한다.\n",
    "    - 권장사항은 상수의 이름은 통상 대문자로 작성하는 것이 관례적이다."
   ]
  },
  {
   "cell_type": "code",
   "execution_count": null,
   "id": "4cd89966",
   "metadata": {},
   "outputs": [],
   "source": [
    "TAX_RATE = 0.35\n",
    "PI = 3.141592\n",
    "MAX_SIZE = 100"
   ]
  },
  {
   "cell_type": "markdown",
   "id": "5722aab1",
   "metadata": {},
   "source": [
    "     - 아래 소스에서는 왜 ? 0.35라 적지 아니하고 TAX_RATE으로 코딩할까?\n",
    "       이건 2가지의 이유로 볼 수가 있다.\n",
    "       \n",
    "       첫 번째는 TAX_RATE으로 코딩하면 가독성적인 면이 향상되며,\n",
    "       \n",
    "       두 번째로는 만약 세율이 바뀌면 상수값인 TAX_RATE의 값만 변경하면\n",
    "       유지보수에 도움이 많이 되는 이유이다."
   ]
  },
  {
   "cell_type": "code",
   "execution_count": 9,
   "id": "0103fabd",
   "metadata": {},
   "outputs": [
    {
     "name": "stdout",
     "output_type": "stream",
     "text": [
      "현재의 세율은 35.0% 입니다.\n",
      "현재의 세율은 35.0 %입니다.\n"
     ]
    }
   ],
   "source": [
    "TAX_RATE = 0.35\n",
    "\n",
    "tax = 1000 * TAX_RATE\n",
    "income = 1000 - tax\n",
    "print(f\"현재의 세율은 {TAX_RATE*100}% 입니다.\")\n",
    "print(\"현재의 세율은\",TAX_RATE*100,\"%입니다.\")"
   ]
  },
  {
   "cell_type": "markdown",
   "id": "7a3b49c3",
   "metadata": {},
   "source": [
    "4) 주석(comment)\n",
    "    - 주석(comment)은 소스코드에 붙이는 설명글이다.\n",
    "    - 주석은 프로그램이 하는 일을 설명한다.\n",
    "    - 주석은 프로그래밍의 실행 결과에 영향을 끼치지 않는다.\n",
    "    - 주석은 반드시 있어야 하는 부분은 아니다. \n",
    "    - 아울러, 컴파일러가 주석은 무시하면 주석에 대한 기계어 코드를 \n",
    "      전혀 생성하지 않는다.\n",
    "    - 파이썬에서는 #을 적으면 주석이 된다."
   ]
  },
  {
   "cell_type": "code",
   "execution_count": 16,
   "id": "7fb15160",
   "metadata": {},
   "outputs": [
    {
     "name": "stdout",
     "output_type": "stream",
     "text": [
      "200\n"
     ]
    }
   ],
   "source": [
    "# 사각형의 가로길이\n",
    "width = 10\n",
    "\n",
    "# 사각형의 세로길이\n",
    "height = 20\n",
    "\n",
    "# 사각형의 면적 계산\n",
    "area = width * height"
   ]
  },
  {
   "cell_type": "code",
   "execution_count": null,
   "id": "6442617c",
   "metadata": {},
   "outputs": [],
   "source": [
    "# 프로그램명 : ...\n",
    "# 버전 : ...\n",
    "# 개발자명 : ...\n",
    "# 21.01.21 by 홍길동 \n",
    "\n",
    "# 주석을 디테일하게 달아둘수록 \n",
    "# 주석을 보면 쉽게 이해할수 있음\n",
    "# 업무의 효율성 측면에서 아주 중요하다."
   ]
  }
 ],
 "metadata": {
  "kernelspec": {
   "display_name": "Python 3",
   "language": "python",
   "name": "python3"
  },
  "language_info": {
   "codemirror_mode": {
    "name": "ipython",
    "version": 3
   },
   "file_extension": ".py",
   "mimetype": "text/x-python",
   "name": "python",
   "nbconvert_exporter": "python",
   "pygments_lexer": "ipython3",
   "version": "3.8.8"
  }
 },
 "nbformat": 4,
 "nbformat_minor": 5
}
