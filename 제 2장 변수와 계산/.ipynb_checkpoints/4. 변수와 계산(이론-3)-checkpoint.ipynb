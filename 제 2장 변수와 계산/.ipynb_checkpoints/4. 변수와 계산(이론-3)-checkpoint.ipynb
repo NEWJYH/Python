{
 "cells": [
  {
   "cell_type": "markdown",
   "id": "c1880786",
   "metadata": {},
   "source": [
    "3. 수식과 연산자"
   ]
  },
  {
   "cell_type": "markdown",
   "id": "aa1c7a3b",
   "metadata": {},
   "source": [
    "1) 수식(expression)\n",
    "    - 수식이란 피연산자들과 연산자의 조합을 의미한다.\n",
    "    - 연산자(operator)는 연산을 나타내는 기호를 의미한다.\n",
    "    - 피연산자(operand)는 연산의 대상이 되는 것을 의미한다.\n",
    "   예) 수식 (5 * 8)에서 5와 8은 피연산자이며, *는 연산자에 해당한다."
   ]
  },
  {
   "cell_type": "markdown",
   "id": "53092c4b",
   "metadata": {},
   "source": [
    "2) 산술 연산자\n",
    "    - 산술 연산자는 기본적인 산술 연산인 덧셈, 뺄셈, 곱셈, 나눗셈\n",
    "      나머지 연산을 실행하는 연산자 이다.\n",
    "      \n",
    "      연산자           기호            사용예           결과값\n",
    "      덧셈             +               7 + 4          11\n",
    "      뺄셈             -               7 - 4          3\n",
    "      곱셈             *               7 * 4          28\n",
    "      나눗셈           //              7 // 4         1\n",
    "      나눗셈           /               7 / 4          1.75\n",
    "      나머지           %               7 % 4          3"
   ]
  },
  {
   "cell_type": "markdown",
   "id": "44465fed",
   "metadata": {},
   "source": [
    "3) 지수 계산하기\n",
    "    - 지수(power)를 계산하려면 ** 연산자를 사용한다\n",
    "    - 예를 들어 3의 3승을 구하기 위한 수식은 아래와 같다\n",
    "      3**3\n",
    "      => 27\n",
    "    - 수학에서처럼 지수 연산자는 다른 연산자들보다 높은 우선순위를 가진다.\n",
    "\n",
    "4) 나머지 계산하기\n",
    "    - 나머지 연산자 %는 생각보다 많이 사용되는 중요한 연산자이다.\n",
    "      x % y는 x를 y로 나누어서 남은 나머지를 반환한다.\n",
    "    - 예를 들어 9를 2로 나누면 몫은 4이고 나머지는 1이된다.\n",
    "    - 나머지 연산은 모듈러스(modulus)연산이라고 불린다.\n",
    "    - % 연산자는 퍼센트와는 전혀 관련이 없다.\n",
    "      9 % 2 \n",
    "      => 1\n",
    "      "
   ]
  },
  {
   "cell_type": "markdown",
   "id": "3735ae92",
   "metadata": {},
   "source": [
    "4. 연산자의 우선순위"
   ]
  },
  {
   "cell_type": "markdown",
   "id": "d59bcd68",
   "metadata": {},
   "source": [
    "1) 연산자의 우선순위\n",
    "    - 여러 연산자들이 하나의 수식에 섞여 있는 경우, \n",
    "      연산자의 우선순위에 따라서 연산된다.\n",
    "      \n",
    "    - 산술 연산자의 경우 아래와 같다.\n",
    "      1. 지수(**)\n",
    "      2. 곱셈, 나눗셈, 나머지\n",
    "      3. 덧셈, 뺄셈\n",
    "   \n",
    "    - 일반적인 수식의 경우, 왼쪽에서 오른쪽으로 계산된다.\n",
    "      1 + 2*3\n",
    "      7\n",
    "      4 -40 -3\n",
    "      -39\n",
    "    \n",
    "    - 하지만, 이것저것 우선순위 따질 필요없이 \n",
    "      괄호를 사용하는 것이 제일 좋은 방법이다.\n",
    "      그 이유는 괄호를 추가하면 코드가 보기 쉬워지며,\n",
    "      연산자의 우선순위를 생각할 필요도 없다는 것이다.\n",
    "      1 + (2 * 3)\n",
    "      7\n",
    "      "
   ]
  },
  {
   "cell_type": "markdown",
   "id": "0e13a56a",
   "metadata": {},
   "source": [
    "5. 함수(Function) 호출\n",
    "    - 함수란 특별한 기능을 담당하는 명령어들의 모임이다.\n",
    "    - 지금까지 print(), input(), int()함수를 사용해 왔다.\n",
    "      파이썬이 기본으로 제공하는 내장 함수는 상당히 많다.\n",
    "    - 계산과 관련된 함수들을 확인하고 넘어가도록 하자\n",
    "     1 abs()함수 : 절대값 계산\n",
    "     2 round()함수 : 소수 첫째 자리에서 반올림\n",
    "     3 max()함수 : 매개변수 값들 중 최대값을 반환\n",
    "     4 min()함수 : 매개변수 값들 중 최소값을 반환\n",
    "     5 sqrt()함수 : 제곱근을 구함\n",
    "      sqrt()와 같은 수학적인 함수들은 math라고 하는 라이브러리에 저장되어 있다\n",
    "      파이썬에서는 이것을 모듈(module)이라고 부른다.\n",
    "      math라이브러리에는 sin(),cos(), log()등등의 다양한 함수가 존재하여\n",
    "      수학적 계산을 쉽게 할수 있게 해준다."
   ]
  },
  {
   "cell_type": "code",
   "execution_count": 8,
   "id": "e9b1f078",
   "metadata": {},
   "outputs": [
    {
     "name": "stdout",
     "output_type": "stream",
     "text": [
      "number_abs 1\n",
      "number_round1 1\n",
      "number_round2 2\n",
      "number_max 50\n",
      "number_min 10\n",
      "number_sqrt 2.0\n"
     ]
    }
   ],
   "source": [
    "# asb() 절대값\n",
    "number_abs = abs(5-6)\n",
    "print(\"number_abs\",number_abs)\n",
    "# round() 소수 첫째 자리에서 반올림\n",
    "number_round1 = round(1.278)\n",
    "print(\"number_round1\",number_round1)\n",
    "number_round2 = round(1.888)\n",
    "print(\"number_round2\",number_round2)\n",
    "# max() 매개변수 값중,최댓값\n",
    "number_max = max(10,50)\n",
    "print(\"number_max\",number_max)\n",
    "# min() 매개변수 값중, 최솟값\n",
    "number_min = min(10, 50)\n",
    "print(\"number_min\",number_min)\n",
    "# sqrt() 제곱근 (float값 반환)\n",
    "from math import *\n",
    "number_sqrt = sqrt(4.0)\n",
    "print(\"number_sqrt\",number_sqrt)"
   ]
  },
  {
   "cell_type": "markdown",
   "id": "0a1563fe",
   "metadata": {},
   "source": [
    "6. input 함수()"
   ]
  },
  {
   "cell_type": "markdown",
   "id": "648b7ed7",
   "metadata": {},
   "source": [
    "1) input()함수\n",
    "    - 사용자로부터 키보드에서 입력을 받는 함수이다.\n",
    "    - input()이 호출되면 프로그램의 실행은 \n",
    "      사용자가 입력할 떄까지 잠시 중단된다.\n",
    "      사용자가 입력을 마치고 엔터키를 누르면 프로그램의 실행이 다시 시작된다.\n",
    "    - input()의 프롬프트 문자열은 화면에 출력되며 \n",
    "      사용자에게 안내를 하는 용도로 사용되는 것이 바람직하다.\n",
    "      1. 문자열 입력\n",
    "      2. 숫자 입력(변경 전), (변경 후)"
   ]
  },
  {
   "cell_type": "code",
   "execution_count": 13,
   "id": "361dffa6",
   "metadata": {},
   "outputs": [
    {
     "name": "stdout",
     "output_type": "stream",
     "text": [
      "이름이 무엇인가요?정영훈\n",
      "만나서 반갑습니다.정영훈씨!\n",
      "나이는요?31\n",
      "네 그러면 당신은 이미31살이군요,정영훈씨!\n"
     ]
    }
   ],
   "source": [
    "# 1문자열 입력\n",
    "name = input(\"이름이 무엇인가요?\")\n",
    "print(\"만나서 반갑습니다.\"+name+\"씨!\")\n",
    "age = input(\"나이는요?\")\n",
    "print(\"네 그러면 당신은 이미\"+age+\"살이군요,\"+name+\"씨!\")"
   ]
  },
  {
   "cell_type": "code",
   "execution_count": 15,
   "id": "797def58",
   "metadata": {},
   "outputs": [
    {
     "name": "stdout",
     "output_type": "stream",
     "text": [
      "첫 번째 정수 : 10\n",
      "두 번째 정수 : 20\n",
      "합은  1020\n"
     ]
    }
   ],
   "source": [
    "# 2숫자 입력 (변경 전)\n",
    "x = input(\"첫 번째 정수 : \")\n",
    "y = input(\"두 번째 정수 : \")\n",
    "sum = x + y\n",
    "print(\"합은 \", sum)\n",
    "# 문자열로 간주하여 서로 합침!"
   ]
  },
  {
   "cell_type": "code",
   "execution_count": 16,
   "id": "44715cb8",
   "metadata": {},
   "outputs": [
    {
     "name": "stdout",
     "output_type": "stream",
     "text": [
      "첫 번째 정수 : 10\n",
      "두 번째 정수 : 20\n",
      "합은  30\n"
     ]
    }
   ],
   "source": [
    "# 2숫자 입력 (변경 후)\n",
    "x = int(input(\"첫 번째 정수 : \"))\n",
    "y = int(input(\"두 번째 정수 : \"))\n",
    "sum = x + y\n",
    "print(\"합은 \", sum)"
   ]
  }
 ],
 "metadata": {
  "kernelspec": {
   "display_name": "Python 3",
   "language": "python",
   "name": "python3"
  },
  "language_info": {
   "codemirror_mode": {
    "name": "ipython",
    "version": 3
   },
   "file_extension": ".py",
   "mimetype": "text/x-python",
   "name": "python",
   "nbconvert_exporter": "python",
   "pygments_lexer": "ipython3",
   "version": "3.8.8"
  }
 },
 "nbformat": 4,
 "nbformat_minor": 5
}
