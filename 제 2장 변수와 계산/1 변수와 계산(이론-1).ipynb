{
 "cells": [
  {
   "cell_type": "markdown",
   "id": "b7a5c2a0",
   "metadata": {},
   "source": [
    "제 2장 변수와 계산"
   ]
  },
  {
   "cell_type": "markdown",
   "id": "ee973549",
   "metadata": {},
   "source": [
    "1. 변수(Variable)란?\n",
    "\n",
    "1) 변수의 의미\n",
    " - 변수(variable)는 값을 저장하는 공간이다.\n",
    "   변수는 값을 저장하는 상자로 생각할 수 있다.\n",
    " - 변수에 값을 저장했다가 필요할 때 꺼내 쓸 수 있다.\n",
    " - 변수에 있는 값은 언제든지 다른 값으로 바뀔 수 있다.\n",
    "  예) 파이썬으로 게임을 제작한다면 사용자의 점수는 게임을 하는 도중에 \n",
    "      변경될 것이다. 10점짜리 아이템을 획득하였다면 점수가 10점 증가되어야 한다.\n",
    "      이것은 이전의 점수가 어딘가에 저장되어 있어야 한다는 것을 의미한다.\n",
    "      이 때 변수를 사용해야 하는 것이다.\n",
    "     \n",
    " 메모리 영역\n",
    "    공통영역\n",
    "    스택영역 (모든 변수는 스택에 다 잡힘_알고리즘이름으로 후입선출)\n",
    "    힙 영역 ( 사용자 정의 메모리 영역)\n",
    "    \n"
   ]
  },
  {
   "cell_type": "code",
   "execution_count": 2,
   "id": "c04fdb42",
   "metadata": {},
   "outputs": [
    {
     "name": "stdout",
     "output_type": "stream",
     "text": [
      "30\n"
     ]
    }
   ],
   "source": [
    "score = 20\n",
    "sum = score + 10\n",
    "print(sum)"
   ]
  },
  {
   "cell_type": "markdown",
   "id": "27006ec7",
   "metadata": {},
   "source": [
    "2) 변수와 메모리\n",
    "    - 컴퓨터는 여러가지 값들을 저장하기 위한 메모리를 가지고 있으며\n",
    "      변수는 바로 이 메모리에 생성된다.\n",
    "      \n",
    "3) 변수 생성 과정\n",
    "    - 변수의 이름을 정하고 등호(=)를 사용하여 값을 저장하면 된다.\n",
    "    - 변수에 값을 저장하는 문장을 할당문(assignment statement) 또는 \n",
    "      대입문이라고 칭한다.\n",
    "    - = <- 대입연산자"
   ]
  },
  {
   "cell_type": "code",
   "execution_count": 6,
   "id": "7a52c688",
   "metadata": {},
   "outputs": [
    {
     "name": "stdout",
     "output_type": "stream",
     "text": [
      "값\n"
     ]
    }
   ],
   "source": [
    "변수이름 = \"값\"\n",
    "print(변수이름)"
   ]
  },
  {
   "cell_type": "markdown",
   "id": "16c73924",
   "metadata": {},
   "source": [
    "4) 변수의 사용 예\n",
    "    - 게임에서 사용자의 기본 점수가 20점이라고 한다면 \n",
    "      아래와 같이 코딩을 하면 될 것이다."
   ]
  },
  {
   "cell_type": "code",
   "execution_count": null,
   "id": "b66a8d19",
   "metadata": {},
   "outputs": [],
   "source": [
    "score = 20"
   ]
  },
  {
   "cell_type": "markdown",
   "id": "6dc179fa",
   "metadata": {},
   "source": [
    "    - 위의 문장은 파이썬에서 변수 score를 생성하고 \n",
    "      20이라는 값을 저장하라는 것이다.\n",
    "      \n",
    "    - = 연산자는 같다는 의미가 아니라 변수에 값을 저장한다는 의미이다.(중요)\n",
    "    \n",
    "    - 변수의 값을 출력 할려면 아래와 같이 변수 이름만 입력하고\n",
    "      엔터키를 누르거나, print()함수를 이용하면 된다"
   ]
  },
  {
   "cell_type": "code",
   "execution_count": 7,
   "id": "05c6856e",
   "metadata": {},
   "outputs": [
    {
     "data": {
      "text/plain": [
       "20"
      ]
     },
     "execution_count": 7,
     "metadata": {},
     "output_type": "execute_result"
    }
   ],
   "source": [
    "score"
   ]
  },
  {
   "cell_type": "code",
   "execution_count": 8,
   "id": "e7a99427",
   "metadata": {},
   "outputs": [
    {
     "name": "stdout",
     "output_type": "stream",
     "text": [
      "20\n"
     ]
    }
   ],
   "source": [
    "print(score)\n",
    "# 함수명(score)\n",
    "# 괄호 안 \n",
    "    # 매개변수, 파라미터, 인자값, 아규먼츠\n"
   ]
  },
  {
   "cell_type": "markdown",
   "id": "ceac7009",
   "metadata": {},
   "source": [
    "    - 생성된 변수에는 얼마든지 다른 값을 저장할 수 있다.(덮어쓰는 것이다.)"
   ]
  },
  {
   "cell_type": "code",
   "execution_count": 10,
   "id": "bfbffecc",
   "metadata": {},
   "outputs": [
    {
     "data": {
      "text/plain": [
       "30"
      ]
     },
     "execution_count": 10,
     "metadata": {},
     "output_type": "execute_result"
    }
   ],
   "source": [
    "score = 20\n",
    "score = 30\n",
    "score"
   ]
  },
  {
   "cell_type": "markdown",
   "id": "9cbbcc16",
   "metadata": {},
   "source": [
    "4) 변수의 사용 예\n",
    "     - 변수에는 다른 변수의 값도 저장할 수 있다.\n",
    "     - 일반적으로 변수에 어떤 수식의 값도 저장할 수가 있다.\n",
    "     - 사각형의 가로 길이와 세로 길이를 나타내는 변수를 만들고\n",
    "       사각형의 면적을 계산하는 코드는 아래와 같이 코딩하면 될것이다.\n",
    "       "
   ]
  },
  {
   "cell_type": "code",
   "execution_count": 11,
   "id": "ffc4320e",
   "metadata": {},
   "outputs": [
    {
     "name": "stdout",
     "output_type": "stream",
     "text": [
      "200\n"
     ]
    }
   ],
   "source": [
    "# 사각형 넓이 구하는 코드\n",
    "width = 10\n",
    "height = 20\n",
    "area = width*height\n",
    "print(area)"
   ]
  },
  {
   "cell_type": "markdown",
   "id": "8687574d",
   "metadata": {},
   "source": [
    "5) 변수에 문자열 저장\n",
    "    - 파이썬의 변수에는 정수 뿐만 아니라 문자열도 저장할 수 있다."
   ]
  },
  {
   "cell_type": "code",
   "execution_count": 12,
   "id": "a20e40a2",
   "metadata": {},
   "outputs": [
    {
     "name": "stdout",
     "output_type": "stream",
     "text": [
      "안녕하세요?\n"
     ]
    }
   ],
   "source": [
    "str = \"안녕하세요?\"\n",
    "print(str)\n",
    "# 문자열은 ''(싱글 코테이션)이나 \"\"(더블 코테이션)안에 작성해야 한다."
   ]
  },
  {
   "cell_type": "markdown",
   "id": "a06f40c9",
   "metadata": {},
   "source": [
    "6) 변수에 실수 저장\n",
    "    - 파이썬의 변수에는 실수도 저장할 수 있다."
   ]
  },
  {
   "cell_type": "code",
   "execution_count": 14,
   "id": "13cea382",
   "metadata": {},
   "outputs": [
    {
     "name": "stdout",
     "output_type": "stream",
     "text": [
      "3.141592\n"
     ]
    },
    {
     "data": {
      "text/plain": [
       "float"
      ]
     },
     "execution_count": 14,
     "metadata": {},
     "output_type": "execute_result"
    }
   ],
   "source": [
    "pi = 3.141592\n",
    "print(pi)\n",
    "# 자바 C C++ C# 변수자료타입을 설정해야함 (데이터 타입)\n",
    "# int a = 10;\n",
    "type(pi)\n",
    "# float\n",
    "\n",
    "# 동적으로 할당하는 변수체계로 되어있음\n"
   ]
  },
  {
   "cell_type": "markdown",
   "id": "c6a040ad",
   "metadata": {},
   "source": [
    "* 주의\n",
    "    - 파이썬에서 값이 할당되지 않은 변수를 사용한다면 오류가 발생한다."
   ]
  },
  {
   "cell_type": "code",
   "execution_count": 2,
   "id": "bd1f19cc",
   "metadata": {},
   "outputs": [
    {
     "ename": "NameError",
     "evalue": "name 'sdfsf' is not defined",
     "output_type": "error",
     "traceback": [
      "\u001b[1;31m---------------------------------------------------------------------------\u001b[0m",
      "\u001b[1;31mNameError\u001b[0m                                 Traceback (most recent call last)",
      "\u001b[1;32m<ipython-input-2-c3801687f066>\u001b[0m in \u001b[0;36m<module>\u001b[1;34m\u001b[0m\n\u001b[1;32m----> 1\u001b[1;33m \u001b[0mprint\u001b[0m\u001b[1;33m(\u001b[0m\u001b[0msdfsf\u001b[0m\u001b[1;33m)\u001b[0m\u001b[1;33m\u001b[0m\u001b[1;33m\u001b[0m\u001b[0m\n\u001b[0m",
      "\u001b[1;31mNameError\u001b[0m: name 'sdfsf' is not defined"
     ]
    }
   ],
   "source": [
    "print(sdfsf)"
   ]
  },
  {
   "cell_type": "markdown",
   "id": "f4eebb86",
   "metadata": {},
   "source": [
    "     - 파이썬에서는 변수의 값만 변경할 수 있다.\n",
    "       변수 x에 1을 대입할 수 있지만, 1에는 x를 대입할 수 없다.\n",
    "       두번째 줄에서 1은 변수가 아니기 때문에 오류가 발생한다."
   ]
  },
  {
   "cell_type": "code",
   "execution_count": 3,
   "id": "5909696c",
   "metadata": {},
   "outputs": [
    {
     "ename": "SyntaxError",
     "evalue": "cannot assign to literal (<ipython-input-3-ef3b97135a2c>, line 2)",
     "output_type": "error",
     "traceback": [
      "\u001b[1;36m  File \u001b[1;32m\"<ipython-input-3-ef3b97135a2c>\"\u001b[1;36m, line \u001b[1;32m2\u001b[0m\n\u001b[1;33m    1 = x\u001b[0m\n\u001b[1;37m    ^\u001b[0m\n\u001b[1;31mSyntaxError\u001b[0m\u001b[1;31m:\u001b[0m cannot assign to literal\n"
     ]
    }
   ],
   "source": [
    "x = 1\n",
    "1 = x\n",
    "\n",
    "# 리터럴 : 그자체로써 값을 지니는 것\n",
    "# syntaxError : 문법 오류\n",
    "# 리터럴에는 값을 할당할수 없다.\n",
    "# literal : 정해져있는값. 사전 : 문자 그대로의[기본적인/일반적인] "
   ]
  }
 ],
 "metadata": {
  "kernelspec": {
   "display_name": "Python 3",
   "language": "python",
   "name": "python3"
  },
  "language_info": {
   "codemirror_mode": {
    "name": "ipython",
    "version": 3
   },
   "file_extension": ".py",
   "mimetype": "text/x-python",
   "name": "python",
   "nbconvert_exporter": "python",
   "pygments_lexer": "ipython3",
   "version": "3.8.8"
  }
 },
 "nbformat": 4,
 "nbformat_minor": 5
}
