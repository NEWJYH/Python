{
 "cells": [
  {
   "cell_type": "markdown",
   "id": "2a884e98",
   "metadata": {},
   "source": [
    "01. 자바스크립트란?"
   ]
  },
  {
   "cell_type": "markdown",
   "id": "f56c3836",
   "metadata": {},
   "source": [
    "자바스크립트란?\n",
    "\n",
    "이미지 슬라이드 효과, 팝업 효과 등의 기능을 포함한\n",
    "동적인 웹사이트 제작 시 사용되는 프로그래밍 언어\n",
    "- HTML 구조\n",
    "- CSS 꾸며줌\n",
    "- JS 동적 "
   ]
  },
  {
   "cell_type": "markdown",
   "id": "e04c0cf7",
   "metadata": {},
   "source": [
    "자바스크립트 활용 범위\n",
    "\n",
    "- IOT\n",
    "- 하이브리드 앱\n",
    "- 서버 개발 "
   ]
  },
  {
   "cell_type": "markdown",
   "id": "317a7ad3",
   "metadata": {},
   "source": []
  },
  {
   "cell_type": "markdown",
   "id": "a94180ad",
   "metadata": {},
   "source": [
    "[이론] 자바스크립트의 변수"
   ]
  },
  {
   "cell_type": "markdown",
   "id": "66a7ffcd",
   "metadata": {},
   "source": [
    "02. 자바스크립트의 변수"
   ]
  },
  {
   "cell_type": "markdown",
   "id": "0c2bccb2",
   "metadata": {},
   "source": [
    "변수란?\n",
    "\n",
    "데이터 -> 변수\n",
    "\n",
    "데이터를 담는 공간"
   ]
  },
  {
   "cell_type": "markdown",
   "id": "5dc2b3b8",
   "metadata": {},
   "source": [
    "변수 선언 및 데이터 저장\n",
    "\n",
    "Example\n",
    "var fruit; // 변수 선언\n",
    "fruit = \"apple\"; // 변수 초기화\n",
    "var fruit = \"apple\"; // 변수 선언 및 초기화\n",
    "\n",
    "- 변수 선언\n",
    "    : 데이터를 담을 공간을 생성하는 것\n",
    "    \n",
    "- 변수 초기화\n",
    "    : 생성된 변수에 데이터를 전달하는 것"
   ]
  },
  {
   "cell_type": "markdown",
   "id": "84a8990b",
   "metadata": {},
   "source": [
    "데이터 변경\n",
    "\n",
    "Example\n",
    "var fruit = \"apple\";\n",
    "fruit = \"banana\";\n",
    "\n",
    "\n",
    "변수 fruit의 데이터를 apple에서 banana로 변경\n",
    "변수는 이미 선언되었으므로 var 다시 작성할 필요가 없다."
   ]
  },
  {
   "cell_type": "markdown",
   "id": "4b5ad49c",
   "metadata": {},
   "source": [
    "변수 안의 데이터 확인 방법\n",
    "\n",
    "Example\n",
    "var fruit = \"apple\";\n",
    "console.log(fruit); // apple 출력\n",
    "\n",
    "console.log();는 변수 안에 데이터를 확인할 때 사용하는 명령어"
   ]
  },
  {
   "cell_type": "markdown",
   "id": "1fec56f1",
   "metadata": {},
   "source": [
    "변수 생성 시 주의 사항\n",
    "\n",
    "Example\n",
    "// 변수명은 숫자로 시작할수 없음\n",
    "var 1str;\n",
    "// 변수명은 최대한 자세하게 작성\n",
    "var randomNumber;\n",
    "// 의미가 불명확한 단어들의 조합은 피해야 함\n",
    "var tmax;"
   ]
  },
  {
   "cell_type": "markdown",
   "id": "7188e1ba",
   "metadata": {},
   "source": [
    "자바 스크립트 사용 방법\n",
    "\n",
    "Example\n",
    "<body>\n",
    "    <script src=\"index.js\"></script>\n",
    "</body>\n",
    "\n",
    "<script>태그 안에 src의 속성값으로 js파일을 입력 후\n",
    "html 파일과 연동"
   ]
  },
  {
   "cell_type": "markdown",
   "id": "57796571",
   "metadata": {},
   "source": [
    "변수 데이터 확인 방법\n",
    "\n",
    "우 클릭 후 크롬 개발자 검사 or F12"
   ]
  },
  {
   "cell_type": "markdown",
   "id": "c14d9f39",
   "metadata": {},
   "source": []
  },
  {
   "cell_type": "markdown",
   "id": "d787be5d",
   "metadata": {},
   "source": [
    "변수 생성\n",
    "변수는 데이터를 담는 공간을 의미합니다.\n",
    "\n",
    "자바스크립트에서 변수를 생성하려면 var 변수명;을, 변수의 데이터를 콘솔에서 확인하려면 console.log(변수명);을 작성해야 합니다.\n",
    "\n",
    "그리고 변수의 데이터를 웹 화면에 출력하기 위해서는 document.write(변수명)을 사용하실 수 있습니다.\n",
    "\n",
    "var num\n",
    "num = 1;\n",
    "\n",
    "var str = \"Hello World\"\n",
    "str = \"Nice to meet you\";\n",
    "\n",
    "console.log(num);\n",
    "console.log(str);\n",
    "\n",
    "document.write(num);\n",
    "document.write(str);\n",
    "Copy\n",
    "실습을 통해 여러 변수들을 생성하고 확인해 봅시다!\n",
    "\n",
    "\n",
    "지시사항\n",
    "var를 사용하여 변수 fruit을 선언하고, 데이터 apple을 삽입합니다.\n",
    "\n",
    "var를 사용하여 변수 box를 선언하고, 데이터 banana를 삽입합니다.\n",
    "\n",
    "document.write();을 사용하여 변수 fruit과 box의 데이터를 확인합니다.\n",
    "\n",
    "변수 box의 데이터를 tomato로 변경합니다.\n",
    "\n",
    "document.write();을 사용하여 변수 box의 변경된 데이터를 확인합니다.\n",
    "\n",
    "출력 결과\n",
    "image\n",
    "\n",
    "Tips\n",
    "document.writeln();을 사용하면 출력값 사이에 공백을 넣을 수 있습니다.\n",
    "\n",
    "document.writeln(변수명);\n",
    "Copy\n",
    "출력 결과\n",
    "image"
   ]
  },
  {
   "cell_type": "code",
   "execution_count": null,
   "id": "f43f5d37",
   "metadata": {},
   "outputs": [],
   "source": [
    "'''\n",
    "index.html\n",
    "<!DOCTYPE html>\n",
    "<html>\n",
    "<head>\n",
    "  <meta charset=\"UTF-8\">\n",
    "  <title>자바스크립트 기초</title>\n",
    "</head>\n",
    "<body>\n",
    "\n",
    "  <script src=\"index.js\"></script>\n",
    "  \n",
    "</body>\n",
    "</html>\n",
    "'''\n",
    "\n",
    "'''\n",
    "index.css\n",
    "h1 {\n",
    "\tcolor: grey;\n",
    "}\n",
    "\n",
    "'''\n",
    "\n",
    "'''\n",
    "index.js\n",
    "var fruit = \"apple\";\n",
    "\n",
    "var box = \"banana\";\n",
    "\n",
    "document.write(fruit);\n",
    "document.write(box);\n",
    "\n",
    "box = \"tomato\";\n",
    "\n",
    "document.write(box);\n",
    "'''\n",
    "\n",
    "'''\n",
    "결과\n",
    "applebananatomato\n",
    "'''"
   ]
  },
  {
   "cell_type": "markdown",
   "id": "00318300",
   "metadata": {},
   "source": []
  },
  {
   "cell_type": "markdown",
   "id": "ff93cdef",
   "metadata": {},
   "source": [
    "[이론] 데이터 타입"
   ]
  },
  {
   "cell_type": "markdown",
   "id": "a9c7cefb",
   "metadata": {},
   "source": [
    "03. 자바스크립트 데이터 타입"
   ]
  },
  {
   "cell_type": "markdown",
   "id": "aaaa0b52",
   "metadata": {},
   "source": [
    "데이터 타입이란?\n",
    "\n",
    "초콜릿도 다양한 종류가 존재하듯\n",
    "변수에 전달되는 데이터 타입에도 여러 종류가 존재한다."
   ]
  },
  {
   "cell_type": "markdown",
   "id": "73283155",
   "metadata": {},
   "source": [
    "8가지 데이터 타입\n",
    "\n",
    "String : 문자열\n",
    "Number : 숫자\n",
    "Function : 함수\n",
    "Array : 배열\n",
    "Object : 객체\n",
    "Boolean : 불린\n",
    "undefined : 정의되지 않음\n",
    "null : 널"
   ]
  },
  {
   "cell_type": "markdown",
   "id": "b250795d",
   "metadata": {},
   "source": [
    "문자열\n",
    "\n",
    "Example\n",
    "var str1 = \"Hello World\";\n",
    "var str2 = \"Nice to meet you\";\n",
    "var str3 = \"20\"; // 숫자가 아닌 문자열\n",
    "\n",
    "\"큰따옴표\" 또는 '작은 따옴표'안에 작성된 데이터"
   ]
  },
  {
   "cell_type": "markdown",
   "id": "97b76c2f",
   "metadata": {},
   "source": [
    "문자열 주의 사항\n",
    "\n",
    "Example\n",
    "var str1 = \"Elice'; // 혼용 불가\n",
    "var str2 = \"He's a boy\";\n",
    "var str3 = 'he\\'s a boy';"
   ]
  },
  {
   "cell_type": "markdown",
   "id": "03ade96b",
   "metadata": {},
   "source": [
    "숫자\n",
    "\n",
    "Example\n",
    "var num1 = 10; // 정수\n",
    "var num2 = -10; // 음수\n",
    "var num3 = 3.14; // 실수\n",
    "\n",
    "별도의 기호 없이 숫자를 입력한 상태"
   ]
  },
  {
   "cell_type": "markdown",
   "id": "721b0376",
   "metadata": {},
   "source": [
    "함수\n",
    "\n",
    "Example\n",
    "var fun1 = function(){\n",
    "    console.log(\"Func1\");\n",
    "}// 함수 생성\n",
    "\n",
    "func1(); // 함수 호출\n",
    "     \n",
    "Example\n",
    "function func1() {\n",
    "    console.log(\"Func1\");\n",
    "} // 함수 생성\n",
    "\n",
    "func1(); // 함수 호출\n",
    "\n",
    "\n",
    "- 함수 생성\n",
    "     : function 키워드를 사용하여 생성\n",
    "\n",
    "- 함수 호출\n",
    "    : 함수 안에 있는 코드를 실행시키겠다는 의미"
   ]
  },
  {
   "cell_type": "markdown",
   "id": "24be38f0",
   "metadata": {},
   "source": [
    "함수\n",
    "\n",
    "Example\n",
    "var area = function(width, height){\n",
    "    return width * height;\n",
    "}\n",
    "\n",
    "area(10, 20);\n",
    "\n",
    "- 매개변수 : 인자로부터 전달 받은 값이 들어가는 통로.\n",
    "            상황에 따라 생략 가능\n",
    "\n",
    "- 인자 : 함수에게 전달하는 데이터\n",
    "\n",
    "- return : 함수 안에 데이터를 저장할 때 사용"
   ]
  },
  {
   "cell_type": "markdown",
   "id": "c2f762c9",
   "metadata": {},
   "source": [
    "함수 데이터 호출 방법\n",
    "\n",
    "Example\n",
    "var area = function(width, height){\n",
    "    return width * height;\n",
    "}\n",
    "\n",
    "// 새 변수를 생성한 후, 그 변수를 console.log()로 감싸기\n",
    "var result = area(10, 20);\n",
    "console.log(result);\n",
    "\n",
    "// 함수 자체를 console.log()로 감싸기\n",
    "console.log(area(10, 20));"
   ]
  },
  {
   "cell_type": "markdown",
   "id": "d87e99a0",
   "metadata": {},
   "source": [
    "배열\n",
    "\n",
    "Example\n",
    "var fruit = [\"사과\", \"배\", \"수박\"];\n",
    "\n",
    "console.log(fruit); // 데이터 확인\n",
    "\n",
    "비슷한 성격을 갖고 있는 데이터를 하나의 변수 안에서 관리"
   ]
  },
  {
   "cell_type": "markdown",
   "id": "cab1b61b",
   "metadata": {},
   "source": [
    "배열 데이터 추출\n",
    "\n",
    "Example\n",
    "var fruit = [\"사과\", \"배\", \"수박\"];\n",
    "console.log(fruit[0]); // 0번째 인덱스의 데이터 추출\n",
    "\n",
    "데이터의 좌표값(index) 작성\n",
    "첫 번째 좌표값은 0"
   ]
  },
  {
   "cell_type": "markdown",
   "id": "32aa64ba",
   "metadata": {},
   "source": [
    "배열 데이터 변경하기\n",
    "\n",
    "Example\n",
    "var fruit = [\"사과\", \"배\", \"수박\"];\n",
    "fruit[0] = \"포도\";\n",
    "console.log(fruit);\n",
    "\n",
    "인덱스를 사용하여 접근 후 새로운 데이터 대입"
   ]
  },
  {
   "cell_type": "markdown",
   "id": "f69afacc",
   "metadata": {},
   "source": [
    "객체\n",
    "\n",
    "Example\n",
    "var student = {\n",
    "    name : \"inkwon\",\n",
    "    age : 20.\n",
    "    skills : [\"자바스크립트\",\"HTML\", \"CSS\"],\n",
    "    sum : function(num1, num2) {return num1 + num2;}\n",
    "}\n",
    "\n",
    "name : 프로퍼티\n",
    "\"inkwon\" : 데이터\n",
    "sum : 메서드\n",
    "프로퍼티 : 이름을 가지고 있는 데이터들\n",
    "메서드 : 이름을 가지고 있는 함수들\n",
    "\n",
    "\n",
    "프로퍼티, 메서드, 데이터로 구성\n",
    "여러 종류의 데이터 타입 삽입 가능"
   ]
  },
  {
   "cell_type": "markdown",
   "id": "5ebe3d9f",
   "metadata": {},
   "source": [
    "객체 데이터 출력하기\n",
    "\n",
    "Example\n",
    "var student = {\n",
    "    name : \"inkwon\",\n",
    "    age : 20.\n",
    "    skills : [\"자바스크립트\",\"HTML\", \"CSS\"],\n",
    "    sum : function(num1, num2) {return num1 + num2;}\n",
    "}\n",
    "\n",
    "console.log(student.name); // 객체명.프로퍼티명\n",
    "console.log(student['name']); // 객체명[\"프로퍼티명\"]"
   ]
  },
  {
   "cell_type": "markdown",
   "id": "d9a63454",
   "metadata": {},
   "source": [
    "객체 데이터 변경하기\n",
    "\n",
    "Example\n",
    "var student = {\n",
    "    name : \"inkwon\",\n",
    "    age : 20.\n",
    "    skills : [\"자바스크립트\",\"HTML\", \"CSS\"],\n",
    "    sum : function(num1, num2) {return num1 + num2;}\n",
    "}\n",
    "\n",
    "student.name =\"Park\"; // name 프로퍼티의 데이터 변경\n",
    "console.log(student.name); // Park 출력"
   ]
  },
  {
   "cell_type": "markdown",
   "id": "24f1ab41",
   "metadata": {},
   "source": [
    "undefined, null\n",
    "\n",
    "Example\n",
    "var unde;\n",
    "var empty = null;\n",
    "\n",
    "- undefined : 변수 안에 데이터를 입력하지 않은 상태 (데이터가 없는 것)\n",
    "- null : 개발자가 임의로 변수 안에 빈 데이터를 삽입한 상태 (빈 데이터를 저장한 것) "
   ]
  },
  {
   "cell_type": "markdown",
   "id": "241a7cd3",
   "metadata": {},
   "source": [
    "Boolean\n",
    "\n",
    "Example\n",
    "var t = true;\n",
    "var f = false;\n",
    "\n",
    "참 또는 거짓 데이터가 들어가 있는 상태"
   ]
  },
  {
   "cell_type": "markdown",
   "id": "c375c0b1",
   "metadata": {},
   "source": []
  },
  {
   "cell_type": "markdown",
   "id": "01d47841",
   "metadata": {},
   "source": [
    "데이터 타입 - 문자열\n",
    "문자열 데이터 타입은, 큰따옴표 또는 작은 따옴표로 작성된 데이터를 의미합니다.\n",
    "\n",
    "var str1 = \"Hello\";\n",
    "var str2 = \"Bye\";\n",
    "var str3 = \"100\";\n",
    "Copy\n",
    "실습을 통해 문자열 데이터 타입을 갖는 변수를 생성해 봅시다!\n",
    "\n",
    "\n",
    "지시사항\n",
    "var를 사용하여 문자열 변수 str1을 선언하고, 데이터 “Hello World” 을 삽입합니다.\n",
    "\n",
    "var를 사용하여 문자열 변수 str2을 선언하고, 데이터 ‘Nice to meet you’ 을 삽입합니다.\n",
    "\n",
    "var를 사용하여 문자열 변수 str3을 선언하고, 데이터 “She’s a girl” 을 삽입합니다.\n",
    "\n",
    "document.write(); 또는 document.writeln();를 사용하여 세 변수들을 출력합니다.\n",
    "\n",
    "출력 결과\n",
    "image\n",
    "\n",
    "Tips\n",
    "문자열 데이터 타입을 입력할 때, 큰따옴표\" \" 혹은 작은따옴표' '를 잊지 마세요!"
   ]
  },
  {
   "cell_type": "code",
   "execution_count": null,
   "id": "e088c98e",
   "metadata": {},
   "outputs": [],
   "source": [
    "'''\n",
    "index.html\n",
    "<!DOCTYPE html>\n",
    "<html>\n",
    "<head>\n",
    "  <meta charset=\"UTF-8\">\n",
    "  <title>자바스크립트 기초</title>\n",
    "</head>\n",
    "<body>\n",
    "\n",
    "  <script src=\"index.js\"></script>\n",
    "  \n",
    "</body>\n",
    "</html>\n",
    "'''\n",
    "\n",
    "'''\n",
    "index.css\n",
    "h1 {\n",
    "\tcolor: grey;\n",
    "}\n",
    "\n",
    "'''\n",
    "\n",
    "'''\n",
    "index.js\n",
    "var str1 = \"Hello World\";\n",
    "var str2 = 'Nice to meet you';\n",
    "var str3 = \"She's a girl\";\n",
    "\n",
    "// document.write(str1 + \" \" + str2 + \" \" + str3);\n",
    "document.writeln(str1);\n",
    "document.writeln(str2);\n",
    "document.writeln(str3);\n",
    "'''\n",
    "\n",
    "'''\n",
    "결과\n",
    "Hello World Nice to meet you She's a girl\n",
    "'''"
   ]
  },
  {
   "cell_type": "markdown",
   "id": "bed33080",
   "metadata": {},
   "source": [
    "데이터 타입 - 숫자\n",
    "숫자 데이터 타입은 별도의 기호없이 숫자를 입력한 상태를 의미합니다.\n",
    "\n",
    "var num1 = 30;\n",
    "var num2 = 10.5;\n",
    "Copy\n",
    "실습을 통해 숫자 데이터 타입을 갖는 변수를 생성해 봅시다!\n",
    "\n",
    "\n",
    "지시사항\n",
    "var를 사용하여 숫자 변수 num1을 생성하고, 데이터 10을 삽입합니다.\n",
    "\n",
    "var를 사용하여 숫자 변수 num2를 생성하고, 데이터 3.14을 삽입합니다.\n",
    "\n",
    "document.write(num1 + num2) 를 입력해 num1과 num2를 더한 값을 알아봅니다.\n",
    "\n",
    "출력 결과\n",
    "image\n",
    "\n",
    "Tips\n",
    "자바스크립트는 상대적으로 자유도가 높아서, 정수와 실수가 서로 연산이 가능합니다!\n",
    "\n",
    "따옴표로 감싸진 숫자는 문자열 데이터 타입입니다.\n",
    "\n",
    "var num1 = \"20\";\n",
    "//\"20\"은 문자열 데이터 타입"
   ]
  },
  {
   "cell_type": "code",
   "execution_count": null,
   "id": "10008267",
   "metadata": {},
   "outputs": [],
   "source": [
    "'''\n",
    "var num1 = 10;\n",
    "var num2 = 3.14;\n",
    "\n",
    "document.write(num1 + num2);\n",
    "'''\n",
    "\n",
    "'''\n",
    "13.14\n",
    "'''"
   ]
  },
  {
   "cell_type": "markdown",
   "id": "f014b501",
   "metadata": {},
   "source": [
    "데이터 타입- 함수\n",
    "함수는 function 키워드를 사용하여, 어떤 기능을 만들 때 사용되는 데이터 타입을 의미합니다.\n",
    "\n",
    "함수는 매개변수, 인자, return으로 구성되어 있습니다.\n",
    "\n",
    "함수를 생성하는 방법은 다음 두 가지입니다.\n",
    "\n",
    "var subtract = function(num1, num2) {\n",
    "    return num1-num2;\n",
    "}\n",
    "Copy\n",
    "function subtract(num1, num2) {\n",
    "    return num1-num2;\n",
    "}\n",
    "\n",
    "console.log(subtract(20,10));\n",
    "Copy\n",
    "실습을 통해 덧셈 함수와 곱셈 함수를 생성해 봅시다!\n",
    "\n",
    "\n",
    "지시사항\n",
    "var를 사용하여 함수를 선언합니다. 함수명은 sum, 매개변수는 num1, num2, return값은 num1+num2로 설정합니다.\n",
    "\n",
    "함수 sum의 인자로 10, 20을 넣고, document.write();를 사용하여 값을 확인합니다.\n",
    "\n",
    "function만을 사용하여 함수를 선언합니다. 함수명은 mul, 매개변수는 num3, num4, return값은 num3 * num4로 설정합니다.\n",
    "\n",
    "함수 mul의 인자로 3, 4를 넣고, document.write();를 사용하여 값을 확인합니다.\n",
    "\n",
    "출력 결과\n",
    "image\n",
    "\n",
    "Tips\n",
    "인자를 넣은 함수를 변수로 선언해서 그 값을 확인할 수도 있습니다.\n",
    "\n",
    "var result = subtract(20, 10);\n",
    "document.write(result);"
   ]
  },
  {
   "cell_type": "code",
   "execution_count": null,
   "id": "88f2fe11",
   "metadata": {},
   "outputs": [],
   "source": [
    "'''\n",
    "var sum = function(num1, num2){\n",
    "    return num1 + num2;\n",
    "}\n",
    "\n",
    "document.write(sum(10,20));\n",
    "\n",
    "function mul(num3, num4){\n",
    "    return num3 * num4;\n",
    "}\n",
    "\n",
    "document.write(mul(3,4));\n",
    "'''\n",
    "\n",
    "'''\n",
    "3012\n",
    "'''"
   ]
  },
  {
   "cell_type": "markdown",
   "id": "07bb95eb",
   "metadata": {},
   "source": [
    "데이터 타입 - 배열\n",
    "배열은 비슷한 성격을 갖고 있는 복수의 데이터를, 하나의 변수 안에 관리하기 위해 사용됩니다.\n",
    "\n",
    "배열은 index와 값으로 구성되어 있습니다.\n",
    "\n",
    "var vegetables = [\"carrot\", \"cucmber\", \"onion\"];\n",
    "Copy\n",
    "실습을 통해, 여러 과일들을 담고 있는 배열 fruit을 만들어 봅시다!\n",
    "\n",
    "\n",
    "지시사항\n",
    "var를 사용하여 변수 fruit을 선언하고, 배열 데이터 타입인 [“Apple”, “Banana”] 데이터를 삽입합니다.\n",
    "\n",
    "document.write();를 사용하여 fruit의 데이터를 확인합니다.\n",
    "\n",
    "document.write(fruit[0]);를 입력하여, fruit의 배열에서 첫 번째 데이터가 무엇인지 확인합니다.\n",
    "\n",
    "fruit 배열의 첫 번째 데이터를 “Tomato” 로 변경합니다.\n",
    "\n",
    "document.write();를 사용하여 데이터가 올바르게 변경됐는지 확인합니다.\n",
    "\n",
    "출력 결과\n",
    "image\n",
    "\n",
    "Tips\n",
    "자바스크립트에서 한 줄을 주석 처리할 땐 // 여러 줄을 주석 처리할 땐 /* */를 사용합니다.\n",
    "\n",
    "//var num = 1;\n",
    "\n",
    "/*\n",
    "var str;\n",
    "str = \"Hello World\"\n",
    "*/"
   ]
  },
  {
   "cell_type": "code",
   "execution_count": 1,
   "id": "64eeede2",
   "metadata": {},
   "outputs": [
    {
     "data": {
      "text/plain": [
       "'\\nvar fruit = [\"Apple\", \"Banana\"];\\n\\ndocument.write(fruit);\\n\\ndocument.write(fruit[0]);\\nfruit[0] = \"Tomato\";\\ndocument.write(fruit);\\n'"
      ]
     },
     "execution_count": 1,
     "metadata": {},
     "output_type": "execute_result"
    }
   ],
   "source": [
    "'''\n",
    "var fruit = [\"Apple\", \"Banana\"];\n",
    "\n",
    "document.write(fruit);\n",
    "\n",
    "document.write(fruit[0]);\n",
    "fruit[0] = \"Tomato\";\n",
    "document.write(fruit);\n",
    "'''\n",
    "\n",
    "'''\n",
    "Apple,BananaAppleTomato,Banana\n",
    "'''"
   ]
  },
  {
   "cell_type": "markdown",
   "id": "7efbd594",
   "metadata": {},
   "source": [
    "데이터 타입 - 객체\n",
    "자신의 프로필 정보를 담고 있는 객체를 생성해 객체는 배열과 마찬가지로, 여러 개의 데이터를 담을 때 사용되는 데이터 타입입니다.\n",
    "\n",
    "객체는 프로퍼티, 메서드, 값으로 구성되어 있습니다.\n",
    "\n",
    "var student= {\n",
    "  name : \"Gildong\",\n",
    "  age : 19,\n",
    "  skills : [\"studying\", \"eating\", \"sleeping\"],\n",
    "  sum : function (num1, num2) {\n",
    "      return num1 + num2;\n",
    "  }\n",
    "}\n",
    "Copy\n",
    "실습을 통해 Elice 학생의 정보를 담은 객체를 생성해 봅시다!\n",
    "\n",
    "\n",
    "지시사항\n",
    "var를 사용하여 변수 student를 선언하고, 객체 데이터 타입을 넣기 위해 중괄호{}를 입력합니다.\n",
    "\n",
    "객체에 프로퍼티 name: \"Elice\", age:20, skills: [\"Java\", \"HTML\", \"CSS\", \"JavaScript\"]를 추가합니다.\n",
    "\n",
    "객체에 메서드 sum: function(num1,num2) { return num1 + num2; }를 추가합니다.\n",
    "\n",
    "student.name 혹은 student[\"name\"]을 입력하여 name 데이터에 접근합니다.\n",
    "\n",
    "name의 데이터를 park으로 변경하고, document.write();를 사용하여 올바르게 변경됐는지 확인합니다.\n",
    "\n",
    "sum 메서드에 인자 10, 20을 넣고, document.write();를 사용하여 올바르게 출력되는지 확인합니다.\n",
    "\n",
    "출력 결과\n",
    "image\n",
    "\n",
    "Tips\n",
    "객체에 여러 데이터를 넣을 때는 쉼표를 사용하면 됩니다!\n",
    "\n",
    "객체의 특정 데이터에 접근하려면 .혹은 []를 사용합니다."
   ]
  },
  {
   "cell_type": "code",
   "execution_count": null,
   "id": "a3e56a9c",
   "metadata": {},
   "outputs": [],
   "source": [
    "'''\n",
    "var student = {\n",
    "    name : \"Elice\",\n",
    "    age : 20,\n",
    "    skills : [\"Java\", \"HTML\", \"CSS\", \"JavaScript\"],\n",
    "    \n",
    "    sum : function(num1, num2){return num1 + num2;}\n",
    "}\n",
    "\n",
    "student.name\n",
    "student['name'] = \"park\";\n",
    "document.write(student.name);\n",
    "document.write(student.sum(10, 20));\n",
    "'''\n",
    "\n",
    "'''\n",
    "park30\n",
    "'''"
   ]
  },
  {
   "cell_type": "markdown",
   "id": "402f0e27",
   "metadata": {},
   "source": [
    "데이터 타입 - undefined, null\n",
    "undefined는 변수 안에 데이터를 입력하지 않은 상태를 의미합니다.\n",
    "\n",
    "null은 개발자가 임의로 변수 안에 빈 데이터를 삽입한 상태를 의미합니다.\n",
    "\n",
    "var unde;  //undefined\n",
    "var empty = null;  //null\n",
    "Copy\n",
    "실습을 통해 undefined, null 데이터 타입을 갖는 변수를 생성해 봅시다!\n",
    "\n",
    "\n",
    "지시사항\n",
    "아무 데이터도 넣지 않은 변수 str1을 생성하고, document.write()로 어떻게 출력되는지 확인합니다.\n",
    "\n",
    "데이터 null값을 넣은 변수 empty를 생성하고, document.write()로 어떻게 출력되는지 확인합니다.\n",
    "\n",
    "출력 결과\n",
    "image\n",
    "\n",
    "Tips\n",
    "undefined는 데이터가 없는 상태인 반면, null은 빈 데이터가 존재하는 상태입니다."
   ]
  },
  {
   "cell_type": "code",
   "execution_count": null,
   "id": "a99b481a",
   "metadata": {},
   "outputs": [],
   "source": [
    "'''\n",
    "var str1;  //undefined\n",
    "document.write(str1);\n",
    "var empty = null;  //null\n",
    "document.write(empty);\n",
    "\n",
    "'''\n",
    "\n",
    "'''\n",
    "undefinednull\n",
    "'''"
   ]
  },
  {
   "cell_type": "markdown",
   "id": "4cc21c75",
   "metadata": {},
   "source": [
    "데이터 타입 - Boolean\n",
    "Boolean은 참 또는 거짓인 상태를 의미합니다.\n",
    "\n",
    "var t = true;\n",
    "var f = false;\n",
    "Copy\n",
    "실습을 통해 참과 거짓 정보를 담고 있는 변수를 생성해 봅시다!\n",
    "\n",
    "\n",
    "지시사항\n",
    "true 값을 갖는 변수 t를 선언합니다.\n",
    "\n",
    "false 값을 갖는 변수 f를 선언합니다.\n",
    "\n",
    "두 변수를 document.write()로 출력하여 데이터를 확인합니다.\n",
    "\n",
    "출력 결과\n",
    "image\n",
    "\n",
    "Tips\n",
    "Boolean은 2장에서 배울 조건문에서 자주 활용됩니다!"
   ]
  },
  {
   "cell_type": "code",
   "execution_count": null,
   "id": "42e8b39c",
   "metadata": {},
   "outputs": [],
   "source": [
    "'''\n",
    "var t = true;\n",
    "var f = false;\n",
    "document.write(t);\n",
    "document.write(f);\n",
    "'''\n",
    "\n",
    "'''\n",
    "truefalse\n",
    "'''"
   ]
  },
  {
   "cell_type": "markdown",
   "id": "222ed289",
   "metadata": {},
   "source": []
  },
  {
   "cell_type": "markdown",
   "id": "747ace15",
   "metadata": {},
   "source": [
    "[이론] 프로퍼티와 메서드"
   ]
  },
  {
   "cell_type": "markdown",
   "id": "0d56a03c",
   "metadata": {},
   "source": [
    "04. 자바스크립트의 프로퍼티와 메서드"
   ]
  },
  {
   "cell_type": "markdown",
   "id": "09718f5c",
   "metadata": {},
   "source": [
    "데이터 타입의 프로퍼티와 메서드\n",
    "\n",
    "초콜륏의 종류별 갖고 있는 고유한 성질\n",
    "자바스크립트에서 사용자를 위해 사전에 작성된 편의 기능"
   ]
  },
  {
   "cell_type": "markdown",
   "id": "2ab8581c",
   "metadata": {},
   "source": [
    "문자열 프로퍼티와 메서드\n",
    "\n",
    "Example\n",
    "var str1 = \"Hello World\";\n",
    "\n",
    "str1.length;     // 문자열 길이 11\n",
    "str1.charAt(0);  // 문자열 H 추출\n",
    "str1.split(\" \"); // 공백을 기준으로 문자 나눈 후 배열 [\"Hello\", \"World\"]로 출력 "
   ]
  },
  {
   "cell_type": "markdown",
   "id": "3f80e5de",
   "metadata": {},
   "source": [
    "배열 프로퍼티와 메서드\n",
    "\n",
    "Example\n",
    "var fruit = [\"사과\", \"배\", \"포도\"];\n",
    "\n",
    "fruit.length;          // 데이터 개수\n",
    "fruit.push(\"딸기\");    // 배열 뒤에 데이터 삽입\n",
    "fruit.unshift(\"레몬\"); // 배열 앞에 데이터 삽입\n",
    "\n",
    "fruit.pop();   // 배열 뒤의 데이터 제거\n",
    "fruit.shift(); // 배열 앞의 데이터 제거"
   ]
  },
  {
   "cell_type": "markdown",
   "id": "5a4a95cf",
   "metadata": {},
   "source": [
    "math의 수학 연산 메서드\n",
    "\n",
    "Example\n",
    "Math.abs(-3);     // 절대값\n",
    "Math.ceil(0.3);   // 올림\n",
    "Math.floor(10.9); // 내림\n",
    "Math.random();    // 임의의 숫자 출력"
   ]
  },
  {
   "cell_type": "markdown",
   "id": "26a90368",
   "metadata": {},
   "source": [
    "문자를 숫자로 변환하는 메서드\n",
    "\n",
    "Example\n",
    "parseInt(\"20.6\");   // 정수 형태의 20 변환\n",
    "parseFloat(\"20.6\"); // 실수 형태의 20.6 변환"
   ]
  },
  {
   "cell_type": "markdown",
   "id": "0d95e4c4",
   "metadata": {},
   "source": []
  },
  {
   "cell_type": "markdown",
   "id": "8a871740",
   "metadata": {},
   "source": [
    "프로퍼티와 메서드 - 문자열\n",
    "문자열 메서드로는 length, charAt, split 등이 있습니다.\n",
    "\n",
    "var str1 = \"Hi!Elice\";\n",
    "\n",
    "str1.length;  // 8\n",
    "str1.charAt(1);  // i\n",
    "str1.split(\"!\");  // [Hi, Elice]\n",
    "Copy\n",
    "실습을 통해 문자열 “Hello World” 에 세 가지 메서드를 적용해 봅시다!\n",
    "\n",
    "\n",
    "지시사항\n",
    "문자열 “Hello World” 를 데이터로 갖는 변수 str1을 선언합니다.\n",
    "\n",
    ".length를 사용하여 변수의 길이를 확인합니다.\n",
    "\n",
    ".charAt을 사용하여 0번째 데이터를 확인합니다.\n",
    "\n",
    ".split을 사용하여 공백\" \"을 기준으로 문자열을 나눕니다.\n",
    "\n",
    "위 변수들을 document.write()로 출력하여 데이터를 확인합니다.\n",
    "\n",
    "주의사항\n",
    "Hello World 입력 시 대소문자 구분을 정확하게 해주어야 해요!\n",
    "출력 결과\n",
    "image\n",
    "\n",
    "Tips\n",
    "더 많은 문자열 프로퍼티와 메서드는 아래 링크에서 확인하실 수 있습니다!\n",
    "문자열 프로퍼티와 메서드 종류"
   ]
  },
  {
   "cell_type": "code",
   "execution_count": null,
   "id": "9dd54b41",
   "metadata": {},
   "outputs": [],
   "source": [
    "'''\n",
    "var str1 = \"Hello World\";\n",
    "\n",
    "var a = str1.length;\n",
    "\n",
    "var b = str1.charAt(0);\n",
    "\n",
    "var c = str1.split(\" \");\n",
    "\n",
    "document.write(a);\n",
    "document.write(b);\n",
    "document.write(c);\n",
    "'''\n",
    "\n",
    "'''\n",
    "11HHello,World\n",
    "'''"
   ]
  },
  {
   "cell_type": "markdown",
   "id": "480b2aff",
   "metadata": {},
   "source": [
    "프로퍼티와 메서드 - 배열\n",
    "배열 메서드로는 length, push, unshift, pop, shift 등이 있습니다.\n",
    "\n",
    "var fruit = [\"사과\", \"배\", \"포도\"];\n",
    "\n",
    "fruit.length;  //3\n",
    "fruit.push(\"딸기\");  // [\"사과\", \"배\", \"포도\", \"딸기\"]\n",
    "fruit.unshift(\"레몬\");  // [\"레몬\", \"사과\", \"배\", \"포도\", \"딸기\"]\n",
    "fruit.pop();  // [\"레몬\", \"사과\", \"배\", \"포도\"]\n",
    "fruit.shift();  // [\"사과\", \"배\", \"포도\"]\n",
    "Copy\n",
    "실습을 통해 배열 fruit에 다섯 가지 메서드를 적용해 봅시다!\n",
    "\n",
    "\n",
    "지시사항\n",
    "배열 [“Apple”, “Banana”, “Tomato”] 를 데이터로 갖는 변수 fruit을 선언합니다.\n",
    "\n",
    ".length를 사용하여 변수의 길이를 확인합니다.\n",
    "\n",
    "push를 사용하여 배열 맨 끝에 데이터 “A” 를 추가합니다.\n",
    "\n",
    "unshift를 사용하여 배열 맨 앞에 데이터 “B” 를 추가합니다.\n",
    "\n",
    "document.write();를 사용하여 데이터가 올바르게 추가됐는지 확인합니다.\n",
    "\n",
    "pop을 사용하여 배열 맨 끝 데이터를 제거합니다.\n",
    "\n",
    "shift를 사용하여 배열 맨 앞 데이터를 제거합니다.\n",
    "\n",
    "document.write();를 사용하여 데이터가 올바르게 제거됐는지 확인합니다.\n",
    "\n",
    "출력 결과\n",
    "image\n",
    "\n",
    "Tips\n",
    "더 많은 문자열 프로퍼티와 메서드는 아래 링크에서 확인하실 수 있습니다!\n",
    "배열 프로퍼티와 메서드 종류"
   ]
  },
  {
   "cell_type": "code",
   "execution_count": null,
   "id": "20192093",
   "metadata": {},
   "outputs": [],
   "source": [
    "'''\n",
    "var fruit = [\"Apple\", \"Banana\", \"Tomato\"];\n",
    "\n",
    "document.write(fruit.length);  \n",
    "fruit.push(\"A\");\n",
    "fruit.unshift(\"B\");  \n",
    "document.write(fruit);\n",
    "fruit.pop();  \n",
    "fruit.shift();\n",
    "document.write(fruit);\n",
    "\n",
    "'''\n",
    "\n",
    "'''\n",
    "3B,Apple,Banana,Tomato,AApple,Banana,Tomato\n",
    "'''"
   ]
  },
  {
   "cell_type": "markdown",
   "id": "e9622ce2",
   "metadata": {},
   "source": [
    "프로퍼티와 메서드 - Math\n",
    "Math 객체의 메서드로는 abs, ceil, floor, random 등이 있습니다.\n",
    "\n",
    "Math.abs(-12);  // 12\n",
    "Math.ceil(3.4);  // 4\n",
    "Math.floor(5.6);  //5\n",
    "Math.random();  // 0과 1 사이의 임의의 숫자 출력\n",
    "Copy\n",
    "실습을 통해 Math 객체의 메서드를 적용해 봅시다!\n",
    "\n",
    "\n",
    "지시사항\n",
    "abs를 사용하여 -3의 절댓값을 구하고 document.write()로 출력하세요.\n",
    "\n",
    "ceil를 사용하여 0.3의 올림 값을 구하고 document.write()로 출력하세요.\n",
    "\n",
    "floor를 사용하여 10.9의 내림 값을 구하고 document.write()로 출력하세요.\n",
    "\n",
    "random을 사용하여 임의의 숫자를 구하고 document.write()로 출력하세요.\n",
    "\n",
    "출력 결과\n",
    "image\n",
    "\n",
    "Tips\n",
    "더 많은 문자열 프로퍼티와 메서드는 아래 링크에서 확인하실 수 있습니다!\n",
    "Math 객체의 프로퍼티와 메서드 종류"
   ]
  },
  {
   "cell_type": "code",
   "execution_count": null,
   "id": "b26e9d1e",
   "metadata": {},
   "outputs": [],
   "source": [
    "'''\n",
    "var a = Math.abs(-3);  \n",
    "var b = Math.ceil(0.3); \n",
    "var c = Math.floor(10.9); \n",
    "var d = Math.random();  \n",
    "document.write(a);\n",
    "document.write(b);\n",
    "document.write(c);\n",
    "document.write(d);\n",
    "'''\n",
    "\n",
    "'''\n",
    "31100.31978753096825696\n",
    "'''"
   ]
  },
  {
   "cell_type": "markdown",
   "id": "d4b3442d",
   "metadata": {},
   "source": [
    "프로퍼티와 메서드 - 문자를 숫자로 변환하는 메서드\n",
    "문자열 데이터 타입을 숫자열 데이터 타입으로 변환시키고자 할 때는 parseInt(), parseFloat() 메서드를 사용하면 됩니다.\n",
    "\n",
    "parseInt(\"20.6\");  // 20\n",
    "parseFloat(\"20.6\");  // 20.6\n",
    "Copy\n",
    "실습을 통해 문자열 데이터 타입 “20.14” 를 숫자 데이터 타입으로 바꿔 봅시다!\n",
    "\n",
    "\n",
    "지시사항\n",
    "변수 str1에 문자열 데이터 “20.14” 를 입력합니다.\n",
    "\n",
    "parseInt()를 사용하여 str1을 정수형 데이터 타입으로 변환시킵니다.\n",
    "\n",
    "parseFloat()를 사용하여 str1을 실수형 데이터 타입으로 변환시킵니다.\n",
    "\n",
    "위 변수를 document.write로 출력하여 확인해봅시다.\n",
    "\n",
    "출력 결과\n",
    "image\n",
    "\n",
    "Tips\n",
    "\"20\"과 20은 서로 다른 데이터 타입이라는 점 유의해주세요!"
   ]
  },
  {
   "cell_type": "code",
   "execution_count": null,
   "id": "f18bb7c1",
   "metadata": {},
   "outputs": [],
   "source": [
    "'''\n",
    "var str1 = \"20.14\";\n",
    "var a = parseInt(str1);\n",
    "var b = parseFloat(str1);\n",
    "\n",
    "document.write(a);\n",
    "document.write(b);\n",
    "'''\n",
    "\n",
    "'''\n",
    "2020.14\n",
    "'''"
   ]
  }
 ],
 "metadata": {
  "kernelspec": {
   "display_name": "Python 3",
   "language": "python",
   "name": "python3"
  },
  "language_info": {
   "codemirror_mode": {
    "name": "ipython",
    "version": 3
   },
   "file_extension": ".py",
   "mimetype": "text/x-python",
   "name": "python",
   "nbconvert_exporter": "python",
   "pygments_lexer": "ipython3",
   "version": "3.8.8"
  }
 },
 "nbformat": 4,
 "nbformat_minor": 5
}
