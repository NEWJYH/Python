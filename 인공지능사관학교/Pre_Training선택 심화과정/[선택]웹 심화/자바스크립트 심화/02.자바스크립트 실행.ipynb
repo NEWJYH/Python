{
 "cells": [
  {
   "cell_type": "markdown",
   "id": "3652d910",
   "metadata": {},
   "source": [
    "목 차\n",
    "\n",
    "01.자바스크립트 변수 정의 과정\n",
    "\n",
    "02.자바스크립트 Hoisting\n",
    "\n",
    "03.자바스크립트 내장 객체 1\n",
    "\n",
    "04.자바스크립트 내장 객체 2\n",
    "\n",
    "05.자바스크립트 내장 객체 3"
   ]
  },
  {
   "cell_type": "markdown",
   "id": "8f897c4a",
   "metadata": {},
   "source": []
  },
  {
   "cell_type": "markdown",
   "id": "fdac5675",
   "metadata": {},
   "source": [
    "01.자바스크립트 변수 정의 과정"
   ]
  },
  {
   "cell_type": "markdown",
   "id": "e5cf3bd7",
   "metadata": {},
   "source": [
    "자바스크립트 엔진\n",
    "\n",
    "- 자바스크립트 엔진은 자바스크립트 코드를 읽어 실행하는 프로그램이다.\n",
    "- 작성한 자바스크립트 코드는 자바스크립트 엔진을 통해 파싱되고 실행된다.\n",
    "- Chrome 브라우저의 경우 V8 엔진을 사용한다."
   ]
  },
  {
   "cell_type": "markdown",
   "id": "b149e80c",
   "metadata": {},
   "source": [
    "자바스크립트 엔진\n",
    "\n",
    "- node.js는 브라우저 외의 환경에서 자바스크립트 코드를 실행하도록\n",
    "  하는 프로그램이다.\n",
    "- node.js는 여러 프로그램으로 구성되며, 자바스크립트 코드를 읽는\n",
    "  프로그램으로 V8을 사용한다.\n",
    "- 브라우저 환경과 node.js환경은 같은 바사스크립트 코드를 작성해도\n",
    "  다르게 동작할 수 있다."
   ]
  },
  {
   "cell_type": "markdown",
   "id": "c7033766",
   "metadata": {},
   "source": [
    "자바스크립트 코드 실행\n",
    "\n",
    "- 자바스크립트 엔진은 코드 실행 전 실행 컨텍스트를 생성한다.\n",
    "- 실행 컨텍스트는 두 단계를 통해 생성된다.\n",
    "- 생성 단계에서 자바스크립트 엔진을 변수 선언을 읽는다.\n",
    "- 실행 단계에서 자바스크립트 엔진은 변수 값을 할당한다."
   ]
  },
  {
   "cell_type": "markdown",
   "id": "cc1b0d68",
   "metadata": {},
   "source": [
    "자바스크립트 코드 실행\n",
    "\n",
    "let a = 10;\n",
    "\n",
    "function myFunc() {...}\n",
    "\n",
    "자바스크립트 엔진 ↓ 코드 컴파일\n",
    "\n",
    "변수 목록 : {\n",
    "    a : 10,\n",
    "    myFunc: function() {...}\n",
    "}\n",
    "this:...\n",
    "scope chain : [global]"
   ]
  },
  {
   "cell_type": "markdown",
   "id": "643d928c",
   "metadata": {},
   "source": [
    "렉시컬 환경(Lexical Environment)\n",
    "\n",
    "- 함수의 렉시컬 환경은, 함수가 사용하는 변수들을 둘러싼 환경을 의미한다.\n",
    "- 특정 변수의 값은 함수의 렉시컬 환경 안에서 찾을 수 있다.\n",
    "- 렉시컬 환경은 실행 컨텍스트 안에 정의된 \n",
    "  Variable Object로 이해할수 있다."
   ]
  },
  {
   "cell_type": "markdown",
   "id": "ff49675e",
   "metadata": {},
   "source": [
    "생성 단계에서의 코드 실행\n",
    "\n",
    "- 자바스크립트 엔진은 생성 단계에서 함수 선언문, 함수 표현식,\n",
    "  변수 등을 읽어 실행 컨텍스트에 저장한다.\n",
    "- 변수의 경우, 실행 컨텍스트의 렉시컬 환경을 구성한다.\n",
    "- 함수 선언문 외에 변수는 값이 저장되지 않는다."
   ]
  },
  {
   "cell_type": "markdown",
   "id": "23d6bb1a",
   "metadata": {},
   "source": [
    "실행 단계에서의 코드 실행\n",
    "\n",
    "- 자바스크립트 엔진은 변수에 값을 할당하는 구문을 만나면\n",
    "  실행 컨텍스트에 값을 저장한다.\n",
    "- 그외 코드를 한 줄씩 읽어 나가며 실행한다."
   ]
  },
  {
   "cell_type": "markdown",
   "id": "76e8f31d",
   "metadata": {},
   "source": [
    "자바스크립트 코드 실행\n",
    "\n",
    "시작\n",
    "↓\n",
    "생성 단계 : 실행 컨텍스트 생성\n",
    "↓\n",
    "실행 단계 : 변수 값 할당, 코드 실행\n",
    "↓\n",
    "종료"
   ]
  },
  {
   "cell_type": "markdown",
   "id": "6d04af1b",
   "metadata": {},
   "source": []
  },
  {
   "cell_type": "markdown",
   "id": "59b63fa9",
   "metadata": {},
   "source": [
    "02.자바스크립트 Hoisting"
   ]
  },
  {
   "cell_type": "markdown",
   "id": "82c00904",
   "metadata": {},
   "source": [
    "코드 실행 시 변수 처리\n",
    "\n",
    "- 자바스크립트 엔진이 코드를 읽으면, 생성 단계에서 실행 컨텍스트를 생성한다.\n",
    "- 이때 함수 선언문은 실행 단계에서 함수 전체가 실행 컨텍스트에 저장된다.\n",
    "- var 변수는 저장시 undefined로 초기화된다.\n",
    "- let, const는 초기화되지 않는다."
   ]
  },
  {
   "cell_type": "markdown",
   "id": "2e0a05c8",
   "metadata": {},
   "source": [
    "Hoisting\n",
    "\n",
    "code\n",
    "console.log(callMe())\n",
    "// undefined\n",
    "\n",
    "var x = 10;\n",
    "\n",
    "console.log(callMe()) // 10\n",
    "\n",
    "function callMe() {\n",
    "    return x\n",
    "}\n",
    "\n",
    "- Hoisting은 변수가 선언된 시점보다 앞에서 사용되는 현상이다.\n",
    "- 이는 var 변수가 생성 단계에서 undefined로 초기화 되는 것이 원인이다.\n",
    "- 함수는 생성 단계에서 함수 전체가 저장되므로 뒤에서 선언되어도\n",
    "  호출이 가능하다."
   ]
  },
  {
   "cell_type": "markdown",
   "id": "234fb752",
   "metadata": {},
   "source": [
    "Hoisting\n",
    "\n",
    "code\n",
    "// ReferenceError : Cannot acees 'x'\n",
    "// before initalization\n",
    "cosole.log(callMe())\n",
    "\n",
    "let x = 10\n",
    "\n",
    "console.log(callMe()) // 10\n",
    "function callMe() {\n",
    "    return x\n",
    "}\n",
    "\n",
    "- let, const 변수는 생성 단계에서 초기화되지 않는다.\n",
    "- 선언문 이전에 접근 시 ReferenceError가 발생한다.\n",
    "- 이 경게를 Temporal dead Zone(TDZ)라 한다.\n",
    "- 따라서 let,const는 hoisting이 발생하지 않는다."
   ]
  },
  {
   "cell_type": "markdown",
   "id": "2c26367b",
   "metadata": {},
   "source": [
    "var, let, const\n",
    "\n",
    "- var, let, const 모두 변수를 선언하는 키워드.\n",
    "- var, let은 변수에 재할당이 가능하지만, const는 재할당이 불가능하다.\n",
    "- var은 함수 스코프, let과 const는 블록 스코프 변수이다."
   ]
  },
  {
   "cell_type": "markdown",
   "id": "17e12fd6",
   "metadata": {},
   "source": [
    "var, let, const\n",
    "\n",
    "code\n",
    "function varFor() {\n",
    "    for (var i = 0; i < 3; ++i) {\n",
    "        setTimeout(()=> console.log(\"i : \", i), 0);\n",
    "    }\n",
    "}\n",
    "\n",
    "function letFor() {\n",
    "    for (let i = 0; i < 3; ++i){\n",
    "        setTimeout(() => console.log(\"i : \", i), 0);\n",
    "    }\n",
    "}\n",
    "\n",
    "varFor(); // 3 3 3\n",
    "letFor(); // 0 1 2\n",
    "\n",
    "- varFor에서 i는 varFor함수 범위에 존재하는 변수이다.\n",
    "- 따라서 setTimeout이 호출될 때, i는 for블럭이 끝난 시점에 \n",
    "  소멸하지 않는다.\n",
    "- letFor에서 i는 for블럭 안에 존재하는 변수이다.\n",
    "- 각 for block이 실행되고 i는 소멸한다. 다만,\n",
    "  이 경우 각 화살표 함수의 closure에 저장된다."
   ]
  },
  {
   "cell_type": "markdown",
   "id": "171a1138",
   "metadata": {},
   "source": []
  },
  {
   "cell_type": "markdown",
   "id": "3c1805e9",
   "metadata": {},
   "source": [
    "03.자바스크립트 내장 객체 1"
   ]
  },
  {
   "cell_type": "markdown",
   "id": "1288273b",
   "metadata": {},
   "source": [
    "자바스크립트의 내장 객체들\n",
    "\n",
    "- 자바스크립트는 여러 용도에 활용하는 객체를 내장하고 있다.\n",
    "- 숫자 다루기, 문자 다루기, 날짜 다루기, JSON 객체 다루기 등에 \n",
    "  유용한 객체를 제공한다.\n",
    "- 핵심 내장 객체들의 기능을 이해하면, \n",
    "  실제 프로젝트에서 유용하게 활용할수 있다."
   ]
  },
  {
   "cell_type": "markdown",
   "id": "bf646aee",
   "metadata": {},
   "source": [
    "globalThis\n",
    "\n",
    "- globalThis는 전역 객체를 지칭하는 변수이다.\n",
    "- 전역 객체는 환경에 따라 다르다.\n",
    "- 브라우저 환경은 window, node 환경은 global 객체를 지칭한다.\n",
    "- globalThis는 환경별 차이를 통일하여 하나의 변수로 서로 다른 전역 객체를\n",
    "  가리키게 한다."
   ]
  },
  {
   "cell_type": "markdown",
   "id": "6ff0fed8",
   "metadata": {},
   "source": [
    "window\n",
    "\n",
    "code\n",
    "const targetURL = \"https://www.naver.com\";\n",
    "const windowSize = \n",
    "    'height = ${window.innerHeight}, \n",
    "    width = ${window.innerWidth}';\n",
    "window.open(\n",
    "    targetURL,\n",
    "    \"Target\",\n",
    "    windowSize\n",
    ");\n",
    "\n",
    "- DOM document를 포함하는 창을 나타내는 객체.\n",
    "- 전역 스코프에 선언된 변수는 모두 window의 property가 된다.\n",
    "- 현재 창의 정보를 얻거나, 창을 조작한다."
   ]
  },
  {
   "cell_type": "markdown",
   "id": "3aace5fb",
   "metadata": {},
   "source": []
  },
  {
   "cell_type": "markdown",
   "id": "e8d5bb9b",
   "metadata": {},
   "source": []
  },
  {
   "cell_type": "markdown",
   "id": "c91754f1",
   "metadata": {},
   "source": []
  },
  {
   "cell_type": "markdown",
   "id": "cb486de9",
   "metadata": {},
   "source": []
  },
  {
   "cell_type": "markdown",
   "id": "755c8406",
   "metadata": {},
   "source": []
  },
  {
   "cell_type": "markdown",
   "id": "2cccf784",
   "metadata": {},
   "source": []
  },
  {
   "cell_type": "markdown",
   "id": "939641d7",
   "metadata": {},
   "source": []
  },
  {
   "cell_type": "markdown",
   "id": "dc4cf309",
   "metadata": {},
   "source": []
  },
  {
   "cell_type": "markdown",
   "id": "53e28daf",
   "metadata": {},
   "source": []
  },
  {
   "cell_type": "markdown",
   "id": "785a2418",
   "metadata": {},
   "source": []
  },
  {
   "cell_type": "markdown",
   "id": "636dd2cb",
   "metadata": {},
   "source": []
  },
  {
   "cell_type": "markdown",
   "id": "c6c94a20",
   "metadata": {},
   "source": []
  },
  {
   "cell_type": "markdown",
   "id": "4b697856",
   "metadata": {},
   "source": []
  },
  {
   "cell_type": "markdown",
   "id": "cc37c4fd",
   "metadata": {},
   "source": []
  },
  {
   "cell_type": "markdown",
   "id": "311b0a4a",
   "metadata": {},
   "source": []
  },
  {
   "cell_type": "markdown",
   "id": "65eb0d64",
   "metadata": {},
   "source": []
  },
  {
   "cell_type": "markdown",
   "id": "b781d692",
   "metadata": {},
   "source": []
  },
  {
   "cell_type": "markdown",
   "id": "f37d04b7",
   "metadata": {},
   "source": []
  },
  {
   "cell_type": "markdown",
   "id": "4504d238",
   "metadata": {},
   "source": []
  },
  {
   "cell_type": "markdown",
   "id": "61052e73",
   "metadata": {},
   "source": []
  },
  {
   "cell_type": "markdown",
   "id": "3bf9c25b",
   "metadata": {},
   "source": []
  },
  {
   "cell_type": "markdown",
   "id": "03baab38",
   "metadata": {},
   "source": []
  },
  {
   "cell_type": "markdown",
   "id": "535a3485",
   "metadata": {},
   "source": []
  },
  {
   "cell_type": "markdown",
   "id": "e95b1506",
   "metadata": {},
   "source": []
  },
  {
   "cell_type": "markdown",
   "id": "377aed52",
   "metadata": {},
   "source": []
  },
  {
   "cell_type": "markdown",
   "id": "d092d3cc",
   "metadata": {},
   "source": []
  },
  {
   "cell_type": "markdown",
   "id": "3c219518",
   "metadata": {},
   "source": []
  },
  {
   "cell_type": "markdown",
   "id": "da01eede",
   "metadata": {},
   "source": []
  },
  {
   "cell_type": "markdown",
   "id": "e6d3c8a2",
   "metadata": {},
   "source": []
  },
  {
   "cell_type": "markdown",
   "id": "97a094f3",
   "metadata": {},
   "source": []
  },
  {
   "cell_type": "markdown",
   "id": "5821f8fa",
   "metadata": {},
   "source": []
  },
  {
   "cell_type": "markdown",
   "id": "925044c1",
   "metadata": {},
   "source": []
  },
  {
   "cell_type": "markdown",
   "id": "f6ed0d21",
   "metadata": {},
   "source": []
  },
  {
   "cell_type": "markdown",
   "id": "3d819d46",
   "metadata": {},
   "source": []
  },
  {
   "cell_type": "markdown",
   "id": "559b2851",
   "metadata": {},
   "source": []
  },
  {
   "cell_type": "markdown",
   "id": "ca9409e0",
   "metadata": {},
   "source": []
  },
  {
   "cell_type": "markdown",
   "id": "e32ce34f",
   "metadata": {},
   "source": []
  },
  {
   "cell_type": "markdown",
   "id": "c724b20f",
   "metadata": {},
   "source": []
  },
  {
   "cell_type": "markdown",
   "id": "8d0a1278",
   "metadata": {},
   "source": []
  },
  {
   "cell_type": "markdown",
   "id": "0edf70f3",
   "metadata": {},
   "source": []
  },
  {
   "cell_type": "markdown",
   "id": "046c32dd",
   "metadata": {},
   "source": []
  },
  {
   "cell_type": "markdown",
   "id": "f26afe14",
   "metadata": {},
   "source": []
  },
  {
   "cell_type": "markdown",
   "id": "572001c9",
   "metadata": {},
   "source": []
  },
  {
   "cell_type": "markdown",
   "id": "30d994a9",
   "metadata": {},
   "source": []
  },
  {
   "cell_type": "markdown",
   "id": "377be1f8",
   "metadata": {},
   "source": []
  },
  {
   "cell_type": "markdown",
   "id": "ff88f813",
   "metadata": {},
   "source": []
  },
  {
   "cell_type": "markdown",
   "id": "665416d4",
   "metadata": {},
   "source": []
  },
  {
   "cell_type": "markdown",
   "id": "9873a049",
   "metadata": {},
   "source": []
  },
  {
   "cell_type": "markdown",
   "id": "7a860dd9",
   "metadata": {},
   "source": []
  },
  {
   "cell_type": "markdown",
   "id": "98aaf776",
   "metadata": {},
   "source": []
  },
  {
   "cell_type": "markdown",
   "id": "3da655d4",
   "metadata": {},
   "source": []
  },
  {
   "cell_type": "markdown",
   "id": "b115ec2a",
   "metadata": {},
   "source": []
  },
  {
   "cell_type": "markdown",
   "id": "00952310",
   "metadata": {},
   "source": []
  },
  {
   "cell_type": "markdown",
   "id": "16dc9fa4",
   "metadata": {},
   "source": []
  },
  {
   "cell_type": "markdown",
   "id": "de9a5ea1",
   "metadata": {},
   "source": []
  },
  {
   "cell_type": "markdown",
   "id": "c96b09e4",
   "metadata": {},
   "source": []
  },
  {
   "cell_type": "markdown",
   "id": "f5245ea2",
   "metadata": {},
   "source": []
  },
  {
   "cell_type": "markdown",
   "id": "e0a565ee",
   "metadata": {},
   "source": []
  },
  {
   "cell_type": "markdown",
   "id": "9a79d088",
   "metadata": {},
   "source": []
  },
  {
   "cell_type": "markdown",
   "id": "c38d4ac9",
   "metadata": {},
   "source": []
  },
  {
   "cell_type": "markdown",
   "id": "8383799e",
   "metadata": {},
   "source": []
  },
  {
   "cell_type": "markdown",
   "id": "b2bec746",
   "metadata": {},
   "source": []
  },
  {
   "cell_type": "markdown",
   "id": "8a1eef9f",
   "metadata": {},
   "source": []
  },
  {
   "cell_type": "markdown",
   "id": "4b3a5b84",
   "metadata": {},
   "source": []
  },
  {
   "cell_type": "markdown",
   "id": "70f1b337",
   "metadata": {},
   "source": []
  },
  {
   "cell_type": "markdown",
   "id": "c03c953e",
   "metadata": {},
   "source": []
  },
  {
   "cell_type": "markdown",
   "id": "4974164f",
   "metadata": {},
   "source": []
  },
  {
   "cell_type": "markdown",
   "id": "11afcf2c",
   "metadata": {},
   "source": []
  },
  {
   "cell_type": "markdown",
   "id": "3738975b",
   "metadata": {},
   "source": []
  },
  {
   "cell_type": "markdown",
   "id": "ae35e4f5",
   "metadata": {},
   "source": []
  },
  {
   "cell_type": "markdown",
   "id": "e04d0554",
   "metadata": {},
   "source": []
  },
  {
   "cell_type": "markdown",
   "id": "002df600",
   "metadata": {},
   "source": []
  },
  {
   "cell_type": "markdown",
   "id": "0146adef",
   "metadata": {},
   "source": []
  },
  {
   "cell_type": "markdown",
   "id": "45bc62ee",
   "metadata": {},
   "source": []
  },
  {
   "cell_type": "markdown",
   "id": "60b68606",
   "metadata": {},
   "source": []
  }
 ],
 "metadata": {
  "kernelspec": {
   "display_name": "Python 3",
   "language": "python",
   "name": "python3"
  },
  "language_info": {
   "codemirror_mode": {
    "name": "ipython",
    "version": 3
   },
   "file_extension": ".py",
   "mimetype": "text/x-python",
   "name": "python",
   "nbconvert_exporter": "python",
   "pygments_lexer": "ipython3",
   "version": "3.8.8"
  }
 },
 "nbformat": 4,
 "nbformat_minor": 5
}
