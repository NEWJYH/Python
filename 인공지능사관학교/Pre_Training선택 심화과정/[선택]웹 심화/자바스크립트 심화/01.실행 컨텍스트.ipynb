{
 "cells": [
  {
   "cell_type": "markdown",
   "id": "9feee0d7",
   "metadata": {},
   "source": [
    "[이론] 자바스크립트 함수가 실행되는 과정"
   ]
  },
  {
   "cell_type": "markdown",
   "id": "069f0e73",
   "metadata": {},
   "source": [
    "01.자바스크립트 함수가 실행되는 과정"
   ]
  },
  {
   "cell_type": "markdown",
   "id": "d57c8731",
   "metadata": {},
   "source": [
    "자바스크립트 코드의 실행 1\n",
    "\n",
    "code\n",
    "// 어떤 코드도 없는 경우.\n",
    "\n",
    "\n",
    "this\n",
    "변수들(Variable Object)\n",
    "Scope Chain\n",
    "- 3가지의 중요한 값을 초기화함"
   ]
  },
  {
   "cell_type": "markdown",
   "id": "04a2f655",
   "metadata": {},
   "source": [
    "자바스크립트 코드의 실행 1\n",
    "\n",
    "this : window\n",
    "    - 코드가 실행되는 시점의 환경\n",
    "    - 윈도우 객체는 브라우저 최상위 객체\n",
    "변수들(Variable Object) : {}\n",
    "    - 어떤 변수도 선언되지 않았음\n",
    "Scope chain : []\n",
    "    - 어떤 스코프도 연결된것이 없기때문에 비어있음"
   ]
  },
  {
   "cell_type": "markdown",
   "id": "c83d91d0",
   "metadata": {},
   "source": [
    "자바스크립트 코드의 실행 1\n",
    "\n",
    "- 자바스크립트 엔진은 코드가 없어도 실행 환경(실행 컨텍스트)을 초기화한다.\n",
    "\n",
    "- 스코프(scope)는 코드가 현재 실행되는 환경, 맥락(context)을 의미한다.\n",
    "\n",
    "- this 포인터, 스코프에 저장된 변수들, 스코프 체인 등이 환경에 포함된다.\n",
    "\n",
    "- this 포인터의 경우, 글로벌 스코프에서는 window를 가리킨다.\n",
    "  (레퍼런스 변수)"
   ]
  },
  {
   "cell_type": "markdown",
   "id": "43e92519",
   "metadata": {},
   "source": [
    "자바스크립트 코드의 실행 2\n",
    "\n",
    "code\n",
    "function myFunc() {\n",
    "    let a = 10\n",
    "    let b = 20\n",
    "    function add(first, second) {\n",
    "        return frist + second\n",
    "    }\n",
    "    return add(a,b)\n",
    "}\n",
    "\n",
    "myFunc()"
   ]
  },
  {
   "cell_type": "markdown",
   "id": "0178eae8",
   "metadata": {},
   "source": [
    "자바스크립트 코드의 실행 2\n",
    "\n",
    "this\n",
    "변수들(Variable Object)\n",
    "Scope chain"
   ]
  },
  {
   "cell_type": "markdown",
   "id": "b1a5a193",
   "metadata": {},
   "source": [
    "자바스크립트 코드의 실행 2\n",
    "\n",
    "this : undefined (strict mode)\n",
    "\n",
    "변수들(Variable Object) : {\n",
    "    a : 10\n",
    "    b : 20\n",
    "    add : function {...}\n",
    "}\n",
    "\n",
    "Scope chain : [global]\n",
    "\n",
    "------------------------------------------\n",
    "\n",
    "this : window\n",
    "변수들 : { }\n",
    "Scope chain : []\n",
    "\n",
    "- call stack 구조"
   ]
  },
  {
   "cell_type": "markdown",
   "id": "adbdaeed",
   "metadata": {},
   "source": [
    "자바스크립트 코드의 실행 2\n",
    "\n",
    "this: undefined\n",
    "\n",
    "변수들(Variable Object) : {\n",
    "    first : 10\n",
    "    second : 20\n",
    "}\n",
    "\n",
    "Scope chain : [myFunc, global]"
   ]
  },
  {
   "cell_type": "markdown",
   "id": "064eba32",
   "metadata": {},
   "source": [
    "자바스크립트 코드의 실행 2\n",
    "\n",
    "- 함수가 실행되면, 함수 스코프에 따라 환경이 만들어진다.\n",
    "- this, 함수 스코프의 변수들, 그리고 스코프 체인이 형성된다.\n",
    "- 스코프 체인을 따라 글로벌 환경에 도달한다."
   ]
  },
  {
   "cell_type": "markdown",
   "id": "27aa8519",
   "metadata": {},
   "source": [
    "자바스크립트 코드의 실행 3\n",
    "\n",
    "code\n",
    "let o = {\n",
    "    name : \"Daniel\",\n",
    "    method : function(number) {\n",
    "        return this.name.repeat(number)\n",
    "    }\n",
    "}\n",
    "\n",
    "function myFunc() {\n",
    "    let n = 10\n",
    "    return o.method(n)\n",
    "}\n",
    "\n",
    "myFunc()"
   ]
  },
  {
   "cell_type": "markdown",
   "id": "83037319",
   "metadata": {},
   "source": [
    "자바스크립트 코드의 실행 3\n",
    "\n",
    "this : window\n",
    "\n",
    "변수들 : {\n",
    "    o : {...},\n",
    "    myFunc : function() {...}\n",
    "}\n",
    "\n",
    "Scope chain : []"
   ]
  },
  {
   "cell_type": "markdown",
   "id": "0a0e52e0",
   "metadata": {},
   "source": [
    "자바스크립트 코드의 실행 3\n",
    "\n",
    "myFunc()\n",
    "\n",
    "this : undefined\n",
    "\n",
    "변수들 : {\n",
    "    n : 10\n",
    "}\n",
    "\n",
    "Scope chain: [global]\n",
    "\n",
    "--------------------------------\n",
    "\n",
    "this : window\n",
    "\n",
    "변수들 : {\n",
    "    o : {},\n",
    "    myFunc:function() {...}\n",
    "}\n",
    "\n",
    "Scope chain : []"
   ]
  },
  {
   "cell_type": "markdown",
   "id": "0de11d0e",
   "metadata": {},
   "source": [
    "자바스크립트 코드의 실행 3\n",
    "\n",
    "return o.method(n)\n",
    "\n",
    "this : o\n",
    "변수들 : {\n",
    "    number = 10\n",
    "}\n",
    "\n",
    "Scope chain : [global]\n",
    "\n",
    "--------------------------------\n",
    "\n",
    "변수들 : [n:10]\n",
    "Scope chain : [global]\n",
    "\n",
    "--------------------------------\n",
    "\n",
    "변수들 : {\n",
    "    o: {...},\n",
    "    myFunc : function () {...}\n",
    "}"
   ]
  },
  {
   "cell_type": "markdown",
   "id": "ec8a3864",
   "metadata": {},
   "source": [
    "자바스크립트 코드의 실행 3\n",
    "\n",
    "- 객체의 메서드의 경우, 메서드 환경의 this는 해당 객체를 가리키게 된다.\n",
    "- 하지만 this가 가리키는 것은 환경에 따라 변할 수 있다.\n"
   ]
  },
  {
   "cell_type": "markdown",
   "id": "290aabbf",
   "metadata": {},
   "source": []
  },
  {
   "cell_type": "markdown",
   "id": "4408fce6",
   "metadata": {},
   "source": [
    "NameRepeater 구현하기\n",
    "NameRepeater를 만들며 이론 설명에 나왔던 this 키워드를 한번 사용해봅니다.\n",
    "\n",
    "\n",
    "지시사항\n",
    "NameRepeater는 name 필드와 setName, repeatName 메서드를 가집니다. setName, repeatName 을 구현해보세요.\n",
    "\n",
    "setName 메서드는 인자로 name을 받아 NameRepeater 객체의 name 필드를 세팅합니다.\n",
    "\n",
    "repeatName 메서드는 인자로 num을 받아 NameRepeater의 name을 name * num 만큼 반복합니다. String.prototype.repeat 메서드를 활용해보세요."
   ]
  },
  {
   "cell_type": "code",
   "execution_count": null,
   "id": "0ca5bbed",
   "metadata": {},
   "outputs": [],
   "source": [
    "'''\n",
    "const NameRepeater = {\n",
    "  name: \"My Name\",\n",
    "  setName: function setName(name) {\n",
    "    // NameRepeater의 이름을 세팅합니다.\n",
    "    this.name = name;\n",
    "  },\n",
    "  repeatName: function repeatName(num) {\n",
    "    // NameRepeater의 이름을 num 만큼 반복해 리턴합니다.\n",
    "    return this.name.repeat(num);\n",
    "  },\n",
    "};\n",
    "\n",
    "export default NameRepeater;\n",
    "\n",
    "'''"
   ]
  },
  {
   "cell_type": "code",
   "execution_count": null,
   "id": "edfc1f7d",
   "metadata": {},
   "outputs": [],
   "source": [
    "'''\n",
    "index.html\n",
    "<!DOCTYPE html>\n",
    "<html>\n",
    "  <head>\n",
    "    <meta charset=\"utf-8\">\n",
    "    <meta name=\"viewport\" content=\"width=device-width\">\n",
    "    <title>NameRepeater App</title>\n",
    "  </head>\n",
    "  <body>\n",
    "    <div id=\"root\">\n",
    "      <main>\n",
    "        <h2>NameRepeater App</h2>\n",
    "\n",
    "        <div class=\"app\">\n",
    "          <input id=\"name\" type=\"text\" name=\"name\" placeholder=\"이름을 입력하세요.\">\n",
    "          <div>\n",
    "            <button id=\"set-button\">이름 설정</button>\n",
    "          </div>\n",
    "\n",
    "          <div>\n",
    "            <button id=\"repeat-button\">이름 반복</button>\n",
    "          </div>\n",
    "\n",
    "          <div id=\"result\"></div>\n",
    "        </div>\n",
    "      </main>\n",
    "    </div>\n",
    "\n",
    "      <script src=\"./index.js\"></script>\n",
    "  </body>\n",
    "</html>\n",
    "\n",
    "'''\n",
    "\n",
    "'''\n",
    "App.js\n",
    "import \"./app.css\";\n",
    "import NameRepeater from \"./NameRepeater\";\n",
    "\n",
    "const App = () => {\n",
    "  const input = document.getElementById(\"name\");\n",
    "  const setButton = document.getElementById(\"set-button\");\n",
    "  const repeatButton = document.getElementById(\"repeat-button\");\n",
    "  const result = document.getElementById(\"result\");\n",
    "  let cnt = 2;\n",
    "\n",
    "  setButton.addEventListener(\"click\", () => {\n",
    "    NameRepeater.setName(input.value);\n",
    "    result.innerHTML = \"설정되었습니다.\";\n",
    "  });\n",
    "\n",
    "  repeatButton.addEventListener(\"click\", () => {\n",
    "    const resultString = NameRepeater.repeatName(cnt);\n",
    "    cnt++;\n",
    "    result.innerHTML = resultString;\n",
    "  });\n",
    "};\n",
    "\n",
    "export default App;\n",
    "\n",
    "'''"
   ]
  },
  {
   "cell_type": "markdown",
   "id": "8a732a87",
   "metadata": {},
   "source": []
  },
  {
   "cell_type": "markdown",
   "id": "3c453796",
   "metadata": {},
   "source": [
    "02.실행 컨텍스트"
   ]
  },
  {
   "cell_type": "markdown",
   "id": "c61d25ed",
   "metadata": {},
   "source": [
    "실행 컨텍스트(Execution context)\n",
    "\n",
    "- 실행 컨텍스트 혹은 실행 맥락은, 자바스크립트 코드가 실행되는 환경.\n",
    "- 코드에서 참조하는 변수, 객체(함수 포함), this 등에 대한 레퍼런스가 있다.\n",
    "- 실행 컨텍스트는 전역에서 시작해, 함수가 호출될 때 스택에 쌓이게 된다."
   ]
  },
  {
   "cell_type": "markdown",
   "id": "a29ece0b",
   "metadata": {},
   "source": [
    "실행 컨텍스트 스택\n",
    "\n",
    "code\n",
    "let a = 10\n",
    "function f1() {\n",
    "    let b = 20\n",
    "    function print(v) { console.log(v) }\n",
    "    function f2() {\n",
    "        let c = 30\n",
    "        print(a + b + c)\n",
    "    }\n",
    "    f2()\n",
    "}\n",
    "f1()"
   ]
  },
  {
   "cell_type": "markdown",
   "id": "0683a523",
   "metadata": {},
   "source": [
    "전역 실행 컨텍스트, 함수 실행 컨텍스트\n",
    "\n",
    "- 자바스크립트가 실행될 때 전역 실행 컨텍스트(Global Execution Context)\n",
    "  가 만들어진다.\n",
    "  \n",
    "- 함수가 실행될 때 함수 실행 컨텍스트(Function Execution Context)\n",
    "  가 만들어진다."
   ]
  },
  {
   "cell_type": "markdown",
   "id": "dea90591",
   "metadata": {},
   "source": [
    "빈 코드의 실행 컨텍스트\n",
    "\n",
    "code\n",
    "// 어떤 코드도 없는 경우.\n",
    "\n",
    "전역 실행 컨텍스트\n",
    "this\n",
    "변수들\n",
    "Scope chain"
   ]
  },
  {
   "cell_type": "markdown",
   "id": "2373ad3b",
   "metadata": {},
   "source": [
    "함수의 실행 컨텍스트\n",
    "\n",
    "code\n",
    "function myFunc() {\n",
    "    let a = 10\n",
    "    let b = 20\n",
    "    function add( first, second){\n",
    "        return first + second\n",
    "    }\n",
    "    return add(a,b)\n",
    "}\n",
    "\n",
    "myFunc()\n",
    "\n",
    "--------------------------------------\n",
    "\n",
    "함수 실행 컨텍스트\n",
    "this : undefined (strict mode)\n",
    "변수들 : {\n",
    "    a : 10\n",
    "    b : 20\n",
    "    add : function {...}\n",
    "}\n",
    "Scope chain : [global]\n",
    "\n",
    "---------------------------------------\n",
    "\n",
    "전역 실행 컨텍스트\n",
    "this : window\n",
    "변수들 : {}\n",
    "Scope chain : []"
   ]
  },
  {
   "cell_type": "markdown",
   "id": "be0dea69",
   "metadata": {},
   "source": []
  },
  {
   "cell_type": "markdown",
   "id": "237db683",
   "metadata": {},
   "source": [
    "Context 연산 함수 만들기\n",
    "mul, add30 함수를 만들어보며 실행 컨텍스트의 변수 사용을 익힙니다.\n",
    "\n",
    "\n",
    "지시사항\n",
    "mul 함수는 숫자 num을 입력받아 내부에 정의된 a, b와 함께 곱한 결과를 리턴합니다.\n",
    "\n",
    "add30 함수는 숫자 num을 입력받아 내부에 정의된 a, b와 함께 더한 결과를 리턴합니다.\n",
    "\n",
    "코드를 분석하여 결과를 만들어낼 코드를 작성하세요."
   ]
  },
  {
   "cell_type": "code",
   "execution_count": null,
   "id": "40dd467b",
   "metadata": {},
   "outputs": [],
   "source": [
    "'''\n",
    "Context.js\n",
    "\n",
    "function mul(num) {\n",
    "  let a = 10;\n",
    "  let b = 20;\n",
    "  function mul30(n) {\n",
    "    return n * a * b; // 이 부분을 수정하세요.\n",
    "  }\n",
    "  return mul30(num);\n",
    "}\n",
    "\n",
    "function add30(num) {\n",
    "  let a = 10;\n",
    "  return (function () {\n",
    "    let b = 20;\n",
    "    function add() {\n",
    "      return num + a + b; // 이 부분을 수정하세요.\n",
    "    }\n",
    "\n",
    "    return add();\n",
    "  })();\n",
    "}\n",
    "\n",
    "const myModule = { mul, add30 };\n",
    "\n",
    "export default myModule;\n",
    "\n",
    "'''\n",
    "\n",
    "'''\n",
    "App.js\n",
    "import \"./app.css\";\n",
    "import Context from \"./Context\";\n",
    "\n",
    "const App = () => {\n",
    "  const input = document.getElementById(\"number\");\n",
    "  const mulButton = document.getElementById(\"mul-button\");\n",
    "  const addButton = document.getElementById(\"add-button\");\n",
    "  const result = document.getElementById(\"result\");\n",
    "\n",
    "  mulButton.addEventListener(\"click\", () => {\n",
    "    result.innerHTML = Context.mul(Number(input.value));\n",
    "  });\n",
    "\n",
    "  addButton.addEventListener(\"click\", () => {\n",
    "    result.innerHTML = Context.add30(Number(input.value));\n",
    "  });\n",
    "};\n",
    "\n",
    "export default App;\n",
    "\n",
    "'''\n",
    "\n",
    "'''\n",
    "<!DOCTYPE html>\n",
    "<html>\n",
    "  <head>\n",
    "    <meta charset=\"utf-8\">\n",
    "    <meta name=\"viewport\" content=\"width=device-width\">\n",
    "    <title>Context App</title>\n",
    "  </head>\n",
    "  <body>\n",
    "    <div id=\"root\">\n",
    "      <main>\n",
    "        <h2>Context App</h2>\n",
    "\n",
    "        <div class=\"app\">\n",
    "          <input id=\"number\" type=\"number\" name=\"number\" placeholder=\"숫자를 입력하세요.\">\n",
    "          <div>\n",
    "            <button id=\"mul-button\">곱셈 연산하기</button>\n",
    "          </div>\n",
    "\n",
    "          <div>\n",
    "            <button id=\"add-button\">덧셈 연산하기</button>\n",
    "          </div>\n",
    "\n",
    "          <div id=\"result\"></div>\n",
    "        </div>\n",
    "      </main>\n",
    "    </div>\n",
    "\n",
    "      <script src=\"./index.js\"></script>\n",
    "  </body>\n",
    "</html>\n",
    "\n",
    "'''"
   ]
  },
  {
   "cell_type": "markdown",
   "id": "937f8d1f",
   "metadata": {},
   "source": []
  },
  {
   "cell_type": "markdown",
   "id": "7308c714",
   "metadata": {},
   "source": [
    "[이론] this가 가리키는 것"
   ]
  },
  {
   "cell_type": "markdown",
   "id": "425629a7",
   "metadata": {},
   "source": [
    "8/21"
   ]
  },
  {
   "cell_type": "markdown",
   "id": "08b94c2e",
   "metadata": {},
   "source": []
  },
  {
   "cell_type": "markdown",
   "id": "cf6f7e3b",
   "metadata": {},
   "source": []
  },
  {
   "cell_type": "markdown",
   "id": "64902edb",
   "metadata": {},
   "source": []
  },
  {
   "cell_type": "markdown",
   "id": "37df52a8",
   "metadata": {},
   "source": []
  },
  {
   "cell_type": "markdown",
   "id": "a341b225",
   "metadata": {},
   "source": []
  },
  {
   "cell_type": "markdown",
   "id": "3f4fe4ba",
   "metadata": {},
   "source": []
  },
  {
   "cell_type": "markdown",
   "id": "9fef71c2",
   "metadata": {},
   "source": []
  },
  {
   "cell_type": "markdown",
   "id": "7df3c0aa",
   "metadata": {},
   "source": []
  },
  {
   "cell_type": "markdown",
   "id": "594d7789",
   "metadata": {},
   "source": []
  },
  {
   "cell_type": "markdown",
   "id": "fc6c2a56",
   "metadata": {},
   "source": []
  },
  {
   "cell_type": "markdown",
   "id": "f0b1692d",
   "metadata": {},
   "source": []
  },
  {
   "cell_type": "markdown",
   "id": "05f396e0",
   "metadata": {},
   "source": []
  },
  {
   "cell_type": "markdown",
   "id": "95c7bafd",
   "metadata": {},
   "source": []
  },
  {
   "cell_type": "markdown",
   "id": "289d4fe4",
   "metadata": {},
   "source": []
  },
  {
   "cell_type": "markdown",
   "id": "c79a46d2",
   "metadata": {},
   "source": []
  },
  {
   "cell_type": "markdown",
   "id": "6293b7ec",
   "metadata": {},
   "source": []
  },
  {
   "cell_type": "markdown",
   "id": "db43c720",
   "metadata": {},
   "source": []
  },
  {
   "cell_type": "markdown",
   "id": "398a98a3",
   "metadata": {},
   "source": []
  },
  {
   "cell_type": "markdown",
   "id": "d86a3d8e",
   "metadata": {},
   "source": []
  },
  {
   "cell_type": "markdown",
   "id": "1b175a4e",
   "metadata": {},
   "source": []
  },
  {
   "cell_type": "markdown",
   "id": "67484a60",
   "metadata": {},
   "source": []
  },
  {
   "cell_type": "markdown",
   "id": "094b2271",
   "metadata": {},
   "source": []
  }
 ],
 "metadata": {
  "kernelspec": {
   "display_name": "Python 3",
   "language": "python",
   "name": "python3"
  },
  "language_info": {
   "codemirror_mode": {
    "name": "ipython",
    "version": 3
   },
   "file_extension": ".py",
   "mimetype": "text/x-python",
   "name": "python",
   "nbconvert_exporter": "python",
   "pygments_lexer": "ipython3",
   "version": "3.8.8"
  }
 },
 "nbformat": 4,
 "nbformat_minor": 5
}
