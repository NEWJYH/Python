{
 "cells": [
  {
   "cell_type": "markdown",
   "id": "3652d910",
   "metadata": {},
   "source": [
    "목 차\n",
    "\n",
    "01.자바스크립트 변수 정의 과정\n",
    "\n",
    "02.자바스크립트 Hoisting\n",
    "\n",
    "03.자바스크립트 내장 객체 1\n",
    "\n",
    "04.자바스크립트 내장 객체 2\n",
    "\n",
    "05.자바스크립트 내장 객체 3"
   ]
  },
  {
   "cell_type": "markdown",
   "id": "8f897c4a",
   "metadata": {},
   "source": []
  },
  {
   "cell_type": "markdown",
   "id": "fdac5675",
   "metadata": {},
   "source": [
    "01.자바스크립트 변수 정의 과정"
   ]
  },
  {
   "cell_type": "markdown",
   "id": "e5cf3bd7",
   "metadata": {},
   "source": [
    "자바스크립트 엔진\n",
    "\n",
    "- 자바스크립트 엔진은 자바스크립트 코드를 읽어 실행하는 프로그램이다.\n",
    "- 작성한 자바스크립트 코드는 자바스크립트 엔진을 통해 파싱되고 실행된다.\n",
    "- Chrome 브라우저의 경우 V8 엔진을 사용한다."
   ]
  },
  {
   "cell_type": "markdown",
   "id": "b149e80c",
   "metadata": {},
   "source": []
  },
  {
   "cell_type": "markdown",
   "id": "c7033766",
   "metadata": {},
   "source": []
  },
  {
   "cell_type": "markdown",
   "id": "cc1b0d68",
   "metadata": {},
   "source": []
  },
  {
   "cell_type": "markdown",
   "id": "643d928c",
   "metadata": {},
   "source": []
  },
  {
   "cell_type": "markdown",
   "id": "ff49675e",
   "metadata": {},
   "source": []
  },
  {
   "cell_type": "markdown",
   "id": "23d6bb1a",
   "metadata": {},
   "source": []
  },
  {
   "cell_type": "markdown",
   "id": "76e8f31d",
   "metadata": {},
   "source": []
  },
  {
   "cell_type": "markdown",
   "id": "6d04af1b",
   "metadata": {},
   "source": []
  },
  {
   "cell_type": "markdown",
   "id": "59b63fa9",
   "metadata": {},
   "source": []
  },
  {
   "cell_type": "markdown",
   "id": "82c00904",
   "metadata": {},
   "source": []
  },
  {
   "cell_type": "markdown",
   "id": "2e0a05c8",
   "metadata": {},
   "source": []
  },
  {
   "cell_type": "markdown",
   "id": "234fb752",
   "metadata": {},
   "source": []
  },
  {
   "cell_type": "markdown",
   "id": "2c26367b",
   "metadata": {},
   "source": []
  },
  {
   "cell_type": "markdown",
   "id": "17e12fd6",
   "metadata": {},
   "source": []
  },
  {
   "cell_type": "markdown",
   "id": "171a1138",
   "metadata": {},
   "source": []
  },
  {
   "cell_type": "markdown",
   "id": "3c1805e9",
   "metadata": {},
   "source": []
  },
  {
   "cell_type": "markdown",
   "id": "1288273b",
   "metadata": {},
   "source": []
  },
  {
   "cell_type": "markdown",
   "id": "bf646aee",
   "metadata": {},
   "source": []
  },
  {
   "cell_type": "markdown",
   "id": "6ff0fed8",
   "metadata": {},
   "source": []
  },
  {
   "cell_type": "markdown",
   "id": "3aace5fb",
   "metadata": {},
   "source": []
  },
  {
   "cell_type": "markdown",
   "id": "e8d5bb9b",
   "metadata": {},
   "source": []
  },
  {
   "cell_type": "markdown",
   "id": "c91754f1",
   "metadata": {},
   "source": []
  },
  {
   "cell_type": "markdown",
   "id": "cb486de9",
   "metadata": {},
   "source": []
  },
  {
   "cell_type": "markdown",
   "id": "755c8406",
   "metadata": {},
   "source": []
  },
  {
   "cell_type": "markdown",
   "id": "2cccf784",
   "metadata": {},
   "source": []
  },
  {
   "cell_type": "markdown",
   "id": "939641d7",
   "metadata": {},
   "source": []
  },
  {
   "cell_type": "markdown",
   "id": "dc4cf309",
   "metadata": {},
   "source": []
  },
  {
   "cell_type": "markdown",
   "id": "53e28daf",
   "metadata": {},
   "source": []
  },
  {
   "cell_type": "markdown",
   "id": "785a2418",
   "metadata": {},
   "source": []
  },
  {
   "cell_type": "markdown",
   "id": "636dd2cb",
   "metadata": {},
   "source": []
  },
  {
   "cell_type": "markdown",
   "id": "c6c94a20",
   "metadata": {},
   "source": []
  },
  {
   "cell_type": "markdown",
   "id": "4b697856",
   "metadata": {},
   "source": []
  },
  {
   "cell_type": "markdown",
   "id": "cc37c4fd",
   "metadata": {},
   "source": []
  },
  {
   "cell_type": "markdown",
   "id": "311b0a4a",
   "metadata": {},
   "source": []
  },
  {
   "cell_type": "markdown",
   "id": "65eb0d64",
   "metadata": {},
   "source": []
  },
  {
   "cell_type": "markdown",
   "id": "b781d692",
   "metadata": {},
   "source": []
  },
  {
   "cell_type": "markdown",
   "id": "f37d04b7",
   "metadata": {},
   "source": []
  },
  {
   "cell_type": "markdown",
   "id": "4504d238",
   "metadata": {},
   "source": []
  },
  {
   "cell_type": "markdown",
   "id": "61052e73",
   "metadata": {},
   "source": []
  },
  {
   "cell_type": "markdown",
   "id": "3bf9c25b",
   "metadata": {},
   "source": []
  },
  {
   "cell_type": "markdown",
   "id": "03baab38",
   "metadata": {},
   "source": []
  },
  {
   "cell_type": "markdown",
   "id": "535a3485",
   "metadata": {},
   "source": []
  },
  {
   "cell_type": "markdown",
   "id": "e95b1506",
   "metadata": {},
   "source": []
  },
  {
   "cell_type": "markdown",
   "id": "377aed52",
   "metadata": {},
   "source": []
  },
  {
   "cell_type": "markdown",
   "id": "d092d3cc",
   "metadata": {},
   "source": []
  },
  {
   "cell_type": "markdown",
   "id": "3c219518",
   "metadata": {},
   "source": []
  },
  {
   "cell_type": "markdown",
   "id": "da01eede",
   "metadata": {},
   "source": []
  },
  {
   "cell_type": "markdown",
   "id": "e6d3c8a2",
   "metadata": {},
   "source": []
  },
  {
   "cell_type": "markdown",
   "id": "97a094f3",
   "metadata": {},
   "source": []
  },
  {
   "cell_type": "markdown",
   "id": "5821f8fa",
   "metadata": {},
   "source": []
  },
  {
   "cell_type": "markdown",
   "id": "925044c1",
   "metadata": {},
   "source": []
  },
  {
   "cell_type": "markdown",
   "id": "f6ed0d21",
   "metadata": {},
   "source": []
  },
  {
   "cell_type": "markdown",
   "id": "3d819d46",
   "metadata": {},
   "source": []
  },
  {
   "cell_type": "markdown",
   "id": "559b2851",
   "metadata": {},
   "source": []
  },
  {
   "cell_type": "markdown",
   "id": "ca9409e0",
   "metadata": {},
   "source": []
  },
  {
   "cell_type": "markdown",
   "id": "e32ce34f",
   "metadata": {},
   "source": []
  },
  {
   "cell_type": "markdown",
   "id": "c724b20f",
   "metadata": {},
   "source": []
  },
  {
   "cell_type": "markdown",
   "id": "8d0a1278",
   "metadata": {},
   "source": []
  },
  {
   "cell_type": "markdown",
   "id": "0edf70f3",
   "metadata": {},
   "source": []
  },
  {
   "cell_type": "markdown",
   "id": "046c32dd",
   "metadata": {},
   "source": []
  },
  {
   "cell_type": "markdown",
   "id": "f26afe14",
   "metadata": {},
   "source": []
  },
  {
   "cell_type": "markdown",
   "id": "572001c9",
   "metadata": {},
   "source": []
  },
  {
   "cell_type": "markdown",
   "id": "30d994a9",
   "metadata": {},
   "source": []
  },
  {
   "cell_type": "markdown",
   "id": "377be1f8",
   "metadata": {},
   "source": []
  },
  {
   "cell_type": "markdown",
   "id": "ff88f813",
   "metadata": {},
   "source": []
  },
  {
   "cell_type": "markdown",
   "id": "665416d4",
   "metadata": {},
   "source": []
  },
  {
   "cell_type": "markdown",
   "id": "9873a049",
   "metadata": {},
   "source": []
  },
  {
   "cell_type": "markdown",
   "id": "7a860dd9",
   "metadata": {},
   "source": []
  },
  {
   "cell_type": "markdown",
   "id": "98aaf776",
   "metadata": {},
   "source": []
  },
  {
   "cell_type": "markdown",
   "id": "3da655d4",
   "metadata": {},
   "source": []
  },
  {
   "cell_type": "markdown",
   "id": "b115ec2a",
   "metadata": {},
   "source": []
  },
  {
   "cell_type": "markdown",
   "id": "00952310",
   "metadata": {},
   "source": []
  },
  {
   "cell_type": "markdown",
   "id": "16dc9fa4",
   "metadata": {},
   "source": []
  },
  {
   "cell_type": "markdown",
   "id": "de9a5ea1",
   "metadata": {},
   "source": []
  },
  {
   "cell_type": "markdown",
   "id": "c96b09e4",
   "metadata": {},
   "source": []
  },
  {
   "cell_type": "markdown",
   "id": "f5245ea2",
   "metadata": {},
   "source": []
  },
  {
   "cell_type": "markdown",
   "id": "e0a565ee",
   "metadata": {},
   "source": []
  },
  {
   "cell_type": "markdown",
   "id": "9a79d088",
   "metadata": {},
   "source": []
  },
  {
   "cell_type": "markdown",
   "id": "c38d4ac9",
   "metadata": {},
   "source": []
  },
  {
   "cell_type": "markdown",
   "id": "8383799e",
   "metadata": {},
   "source": []
  },
  {
   "cell_type": "markdown",
   "id": "b2bec746",
   "metadata": {},
   "source": []
  },
  {
   "cell_type": "markdown",
   "id": "8a1eef9f",
   "metadata": {},
   "source": []
  },
  {
   "cell_type": "markdown",
   "id": "4b3a5b84",
   "metadata": {},
   "source": []
  },
  {
   "cell_type": "markdown",
   "id": "70f1b337",
   "metadata": {},
   "source": []
  },
  {
   "cell_type": "markdown",
   "id": "c03c953e",
   "metadata": {},
   "source": []
  },
  {
   "cell_type": "markdown",
   "id": "4974164f",
   "metadata": {},
   "source": []
  },
  {
   "cell_type": "markdown",
   "id": "11afcf2c",
   "metadata": {},
   "source": []
  },
  {
   "cell_type": "markdown",
   "id": "3738975b",
   "metadata": {},
   "source": []
  },
  {
   "cell_type": "markdown",
   "id": "ae35e4f5",
   "metadata": {},
   "source": []
  },
  {
   "cell_type": "markdown",
   "id": "e04d0554",
   "metadata": {},
   "source": []
  },
  {
   "cell_type": "markdown",
   "id": "002df600",
   "metadata": {},
   "source": []
  },
  {
   "cell_type": "markdown",
   "id": "0146adef",
   "metadata": {},
   "source": []
  },
  {
   "cell_type": "markdown",
   "id": "45bc62ee",
   "metadata": {},
   "source": []
  },
  {
   "cell_type": "markdown",
   "id": "60b68606",
   "metadata": {},
   "source": []
  }
 ],
 "metadata": {
  "kernelspec": {
   "display_name": "Python 3",
   "language": "python",
   "name": "python3"
  },
  "language_info": {
   "codemirror_mode": {
    "name": "ipython",
    "version": 3
   },
   "file_extension": ".py",
   "mimetype": "text/x-python",
   "name": "python",
   "nbconvert_exporter": "python",
   "pygments_lexer": "ipython3",
   "version": "3.8.8"
  }
 },
 "nbformat": 4,
 "nbformat_minor": 5
}
