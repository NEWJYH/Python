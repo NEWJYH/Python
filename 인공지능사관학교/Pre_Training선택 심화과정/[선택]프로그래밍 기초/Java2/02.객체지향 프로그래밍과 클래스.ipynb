{
 "cells": [
  {
   "cell_type": "markdown",
   "id": "50781f31",
   "metadata": {},
   "source": [
    "목 차\n",
    "\n",
    "01. 클래스\n",
    "\n",
    "02. 클래스와 인스턴스\n",
    "\n",
    "03. 객체지향 프로그래밍"
   ]
  },
  {
   "cell_type": "markdown",
   "id": "c2112408",
   "metadata": {},
   "source": [
    "클래스\n",
    "\n",
    "속성(데이터)과 기능(메소드)을 묶어 놓은 집합체\n",
    "\n",
    "학생\n",
    "속성(변수, 필드) - 이름, 학번, 성적, 생일\n",
    "기능 - 걷기, 공부하기, 운동하기, 밥먹기"
   ]
  },
  {
   "cell_type": "markdown",
   "id": "07f686ce",
   "metadata": {},
   "source": [
    "클래스\n",
    "\n",
    "속성(데이터)과 기능(메소드)을 묶어 놓은 집합체\n",
    "\n",
    "String 클래스\n",
    "데이터 - 문자열의 내용 ...\n",
    "\n",
    "메소드 - length, indexOf, replace, equals ..."
   ]
  },
  {
   "cell_type": "markdown",
   "id": "5ef46723",
   "metadata": {},
   "source": [
    "클래스\n",
    "\n",
    "자바 프로그래밍의 중심에는 클래스가 있다.\n",
    "\n",
    "프로그램을 작성한다 =\n",
    "필요한 클래스의 객체를 생성하고\n",
    "그 객체의 속성과 기능을 호출한다."
   ]
  },
  {
   "cell_type": "markdown",
   "id": "5c44c57f",
   "metadata": {},
   "source": [
    "클래스\n",
    "\n",
    "클래스는 멤버 변수, 메소드로 구성된다.\n",
    "\n",
    "Example\n",
    "class Student {\n",
    "    // 필드(멤버 변수)\n",
    "    int number;   // 학번\n",
    "    int score;    // 시험 점수\n",
    "    String name ; // 이름\n",
    "    // 메서드\n",
    "    void study(){\n",
    "        System.out.println(\"Studying\"); // 공부하기\n",
    "    }\n",
    "}"
   ]
  },
  {
   "cell_type": "markdown",
   "id": "0096a84a",
   "metadata": {},
   "source": [
    "클래스\n",
    "\n",
    "속성(멤버 변수)과 기능(메소드)을 묶어 놓은 집합체\n",
    "\n",
    "자동차\n",
    "- 멤버 변수 : 제조사,제조일자,모델명,연비\n",
    "- 메소드 : 시동켜기,가속하기,감속하기,경적 울리기"
   ]
  },
  {
   "cell_type": "markdown",
   "id": "c80314bd",
   "metadata": {},
   "source": [
    "클래스\n",
    "\n",
    "클래스는 멤버 변수, 메소드로 구성된다.\n",
    "\n",
    "Example\n",
    "class Car {\n",
    "    String model;      // 모델명\n",
    "    String manufactor; // 제조사\n",
    "    double efficiency; // 연비\n",
    "    double speed;      // 속력\n",
    "    // 메서드\n",
    "    void accerlate(){\n",
    "        speed += 5; // 가속하기\n",
    "    }\n",
    "}"
   ]
  },
  {
   "cell_type": "markdown",
   "id": "26a4c5e8",
   "metadata": {},
   "source": [
    "클래스\n",
    "\n",
    "원하는 속성과 기능을 넣어 클래스를 설계할 수 있다.\n",
    "클래스는 코드로 만드는 설계도"
   ]
  },
  {
   "cell_type": "markdown",
   "id": "00276f1e",
   "metadata": {},
   "source": [
    "클래스\n",
    "\n",
    "설계는 문제 상황(요구 사항, Requirements)을 잘 반영해야 한다."
   ]
  },
  {
   "cell_type": "markdown",
   "id": "bf4d3bf8",
   "metadata": {},
   "source": [
    "클래스\n",
    "\n",
    "요구 사항은 복잡하지만, 복잡한 것이 모두 필요하지는 않다.\n",
    "설계자의 역량이 중요하다."
   ]
  },
  {
   "cell_type": "markdown",
   "id": "020175a5",
   "metadata": {},
   "source": [
    "클래스 예시\n",
    "\n",
    "SNS 게시물을 표현하는 클래스의 속성과 기능\n",
    "\n",
    "Example\n",
    "class Post {\n",
    "    String author;      // 작성자\n",
    "    string[] comments;  // 댓글\n",
    "    int likes;          // '좋아요'수\n",
    "    String content;     // 글 내용\n",
    "    void like(){\n",
    "        likes++; // \"좋아요\" 누르기 기능\n",
    "    }\n",
    "}"
   ]
  },
  {
   "cell_type": "markdown",
   "id": "f707dfce",
   "metadata": {},
   "source": [
    "클래스 예시\n",
    "\n",
    "항공편을 표현하는 클래스의 속성과 기능\n",
    "\n",
    "Example\n",
    "class Flight {\n",
    "    String pilot;              // 기장\n",
    "    String[] passengers;       // 승객명단\n",
    "    int flightTime;             // 비행 시간\n",
    "    String flightNumber;       // 항공기 번호\n",
    "    void departure(int startTime){\n",
    "        //\n",
    "    }\n",
    "    void arrival(int endTime){\n",
    "        //\n",
    "    }\n",
    "}"
   ]
  },
  {
   "cell_type": "markdown",
   "id": "42a34f5a",
   "metadata": {},
   "source": [
    "클래스 명명 규칙\n",
    "\n",
    "변수, 메소드 명명 규칙은 camelCase\n",
    "\n",
    "클래스 명명 규칙은 PascalCase"
   ]
  },
  {
   "cell_type": "markdown",
   "id": "fe699753",
   "metadata": {},
   "source": [
    "[실습1] 클래스 만들어보기(1)\n",
    "\n",
    "Student클래스 말들어 봅시다!\n",
    "\n",
    "학생\n",
    "- 학년, 나이, 이름, 공부"
   ]
  },
  {
   "cell_type": "markdown",
   "id": "77679058",
   "metadata": {},
   "source": [
    "[실습2] 클래스 만들어보기(2)\n",
    "\n",
    "Car 클래스를 만들어 봅시다!\n",
    "\n",
    "자동차\n",
    "- 모델, 엑셀, 제조사, 효율성"
   ]
  },
  {
   "cell_type": "markdown",
   "id": "bf6a2489",
   "metadata": {},
   "source": []
  },
  {
   "cell_type": "markdown",
   "id": "0dacca65",
   "metadata": {},
   "source": [
    "클래스 만들어보기(1)\n",
    "클래스 내부에 멤버 변수와 메소드를 선언하는 방법은 다음과 같습니다.\n",
    "\n",
    "class Car{\n",
    "    int carNumber = 0; // 멤버 변수 carNumber 선언\n",
    "    void Boost(){ // void 메소드 Boost 선언\n",
    "    }\n",
    "}\n",
    "Copy\n",
    "우측 실습에는 클래스 Student가 선언이 되어 있습니다.\n",
    "\n",
    "클래스 내부에는 여러 멤버 변수들과 메소드들을 선언할 수 있습니다.\n",
    "\n",
    "실습을 통해 여러 멤버 함수를 구현해 봅시다.\n",
    "\n",
    "\n",
    "지시사항\n",
    "Student 클래스 내부에 아래 멤버 변수와 메소드를 구현하세요.\n",
    "int 자료형의 number 멤버 변수\n",
    "int 자료형의 score 멤버 변수\n",
    "String 자료형의 name 멤버 변수\n",
    "반환 값과 매개 변수가 없는 study 메소드이며 호출 시 “Studying”을 출력함.\n",
    "객체 student를 사용하여 study()메소드를 호출하세요."
   ]
  },
  {
   "cell_type": "code",
   "execution_count": null,
   "id": "098ba6ef",
   "metadata": {},
   "outputs": [],
   "source": [
    "'''\n",
    "package elice;\n",
    "\n",
    "class Student {\n",
    "    // 지시사항 1번을 참고하여 코드를 작성하세요.\n",
    "    int number;\n",
    "    int score;\n",
    "    String name;\n",
    "    void study() {\n",
    "        System.out.println(\"Studying\");\n",
    "    }\n",
    "}\n",
    "\n",
    "public class Main {    \n",
    "\tpublic static void main(String args[]) {\n",
    "        Student student = new Student();\n",
    "        // 지시사항 2번을 참고하여 코드를 작성하세요.\n",
    "        student.study();\n",
    "\t}\n",
    "}\n",
    "\n",
    "'''\n",
    "\n",
    "'''\n",
    "Studying\n",
    "'''"
   ]
  },
  {
   "cell_type": "markdown",
   "id": "dc549b2c",
   "metadata": {},
   "source": [
    "클래스 만들어보기(2)\n",
    "클래스 내부에 메소드를 선언하고 기능을 구현한 뒤 Main 메소드에서 메소드를 호출할 경우 기능을 사용할 수 있습니다.\n",
    "\n",
    "실습을 통해 Car 메소드를 구현하고 실행해 봅시다.\n",
    "\n",
    "\n",
    "지시사항\n",
    "Car 클래스에 아래 매개 변수와 메소드를 구현하세요.\n",
    "String 자료형의 model 멤버 변수\n",
    "String 자료형의 manufactor 멤버 변수\n",
    "double 자료형의 efficiency 멤버 변수\n",
    "double 자료형의 speed 멤버 변수\n",
    "반환 값과 매개 변수가 없는 accerlate 메소드이며 speed의 값을 5만큼 증가하는 기능을 가집니다.\n",
    "car 클래스의 accerlate() 메소드를 호출하세요."
   ]
  },
  {
   "cell_type": "code",
   "execution_count": null,
   "id": "4dbfdd88",
   "metadata": {},
   "outputs": [],
   "source": [
    "'''\n",
    "package elice;\n",
    "\n",
    "public class Main {\n",
    "    static class Car { \n",
    "        // 지시사항 1번을 참고하여 코드를 작성하세요.\n",
    "        String model;\n",
    "        String manufactor;\n",
    "        double efficiency;\n",
    "        double speed;\n",
    "        void accerlate(){\n",
    "            speed += 5;\n",
    "        }\n",
    "\n",
    "\n",
    "\n",
    "    }\n",
    "    \n",
    "\tpublic static void main(String args[]) {\n",
    "        Car car = new Car();\n",
    "        car.speed = 0;\n",
    "        System.out.println(\"자동차의 속도를 0으로 설정\");\n",
    "        // 지시사항 2번을 참고하여 코드를 작성하세요.\n",
    "        car.accerlate();\n",
    "        System.out.println(\"자동차 가속\");\n",
    "        \n",
    "        System.out.println(\"자동차의 현재 속도 : \" + car.speed);\n",
    "\t}\n",
    "}\n",
    "\n",
    "'''\n",
    "\n",
    "'''\n",
    "자동차의 속도를 0으로 설정\n",
    "자동차 가속\n",
    "자동차의 현재 속도 : 5.0\n",
    "'''"
   ]
  },
  {
   "cell_type": "markdown",
   "id": "d407d0b9",
   "metadata": {},
   "source": []
  },
  {
   "cell_type": "markdown",
   "id": "36a817af",
   "metadata": {},
   "source": [
    "02. 클래스와 인스턴스"
   ]
  },
  {
   "cell_type": "markdown",
   "id": "81c91ccd",
   "metadata": {},
   "source": [
    "인스턴스(객체)란?\n",
    "\n",
    "클래스가 설계도라면, 인스턴스는 제품!"
   ]
  },
  {
   "cell_type": "markdown",
   "id": "5144e40d",
   "metadata": {},
   "source": [
    "인스턴스란?\n",
    "\n",
    "학생 클래스\n",
    "학생은 고유한 학번을 가진다.\n",
    "이름, 과목별 성적\n",
    "공부를 할 수 있다.\n",
    "\n",
    "학생 인스턴스\n",
    "김OO 학생\n",
    "이OO 학생\n",
    "Elice 학생\n",
    "..."
   ]
  },
  {
   "cell_type": "markdown",
   "id": "d1ed7b82",
   "metadata": {},
   "source": [
    "인스턴스란?\n",
    "\n",
    "게시물 클래스\n",
    "게시물은 최대 20개의 사진을 가짐\n",
    "댓글을 달 수 있음\n",
    "'좋아요'를 누를 수 있음\n",
    "\n",
    "게시물 인스턴스\n",
    "Charlie의 4월 4일 게시물\n",
    "David의 7월 17일 게시물\n",
    "Elice의 10월 10일 게시물\n",
    "..."
   ]
  },
  {
   "cell_type": "markdown",
   "id": "61f5a51b",
   "metadata": {},
   "source": [
    "인스턴스란?\n",
    "\n",
    "클래스\n",
    "어떤 데이터가 있는지\n",
    "어떤 기능이 있는지\n",
    "명시한 설계도\n",
    "\n",
    "인스턴스\n",
    "그 클래스로 만든\n",
    "실제 예시(사례)"
   ]
  },
  {
   "cell_type": "markdown",
   "id": "af7aa9e9",
   "metadata": {},
   "source": [
    "인스턴스란?\n",
    "\n",
    "new 키워드를 이용해 인스턴스 생성\n",
    "\n",
    "Example\n",
    "class Student{\n",
    "    ....\n",
    "}\n",
    "\n",
    "....\n",
    "\n",
    "Student s1 = new Student();"
   ]
  },
  {
   "cell_type": "markdown",
   "id": "8868913b",
   "metadata": {},
   "source": [
    "인스턴스의 사용\n",
    "\n",
    "인스턴스의 멤버변수와 메소드를 코드에서 호출하자!"
   ]
  },
  {
   "cell_type": "markdown",
   "id": "f422ee66",
   "metadata": {},
   "source": [
    "인스턴스의 사용\n",
    "\n",
    ".을 이용해 멤버변수,메소드 호출\n",
    "\n",
    "Example\n",
    "Student s1 = new Student();\n",
    "s1.name = \"Elice\";\n",
    "s1.socre = 100;\n",
    "s1.study();"
   ]
  },
  {
   "cell_type": "markdown",
   "id": "38385c5b",
   "metadata": {},
   "source": [
    "참조 자료형\n",
    "\n",
    "기본자료형 vs 참조 자료형\n",
    "\n",
    "Example\n",
    "int num = 3;\n",
    "char chr = 'a';\n",
    "\n",
    "String str = new String();\n",
    "Student s1 = new Student();"
   ]
  },
  {
   "cell_type": "markdown",
   "id": "aa099332",
   "metadata": {},
   "source": [
    "참조 자료형\n",
    "\n",
    "기본 자료형은 단 8가지지만\n",
    "참조 자료형은 무수히 많다."
   ]
  },
  {
   "cell_type": "markdown",
   "id": "3b3c748a",
   "metadata": {},
   "source": [
    "참조 자료형의 예시\n",
    "\n",
    "배열, 클래스, 인터페이스, 열거형"
   ]
  },
  {
   "cell_type": "markdown",
   "id": "db499947",
   "metadata": {},
   "source": [
    "참조 자료형\n",
    "\n",
    "기본 자료형\n",
    "크기가 정해져 있다.\n",
    "자바에서 정해진 키워드\n",
    "기본적으로 제공된다.\n",
    "\n",
    "참조 자료형\n",
    "클래스로 선언\n",
    "크기가 정해져있지 않다.\n",
    "String, 배열도 참조 자료형"
   ]
  },
  {
   "cell_type": "markdown",
   "id": "f005a133",
   "metadata": {},
   "source": [
    "이전 과목에서 궁금증 해결\n",
    "\n",
    "String 자료형은 왜 대문자로 시작했나요?\n",
    "-> 클래스(참조 자료형)이기 때문이다."
   ]
  },
  {
   "cell_type": "markdown",
   "id": "7204de69",
   "metadata": {},
   "source": [
    "String의 예외적 허용\n",
    "\n",
    "String은 예외적으로 기본 자료형처럼 사용 가능하다.\n",
    "\n",
    "Example\n",
    "String str = new String();\n",
    "string name = \"Elice\";"
   ]
  },
  {
   "cell_type": "markdown",
   "id": "16b4b046",
   "metadata": {},
   "source": [
    "[실습3] 인스턴스 사용하기\n",
    "\n",
    "인스턴스를 생성하여 호출해봅시다!\n",
    "\n",
    "인스턴스\n",
    "엘리스트 토끼\n",
    "2048\n",
    "\n",
    "학생 정보\n",
    "이름 학번 공부"
   ]
  },
  {
   "cell_type": "markdown",
   "id": "3caf5d55",
   "metadata": {},
   "source": []
  },
  {
   "cell_type": "markdown",
   "id": "cb9f9418",
   "metadata": {},
   "source": [
    "인스턴스 사용하기\n",
    "Student 클래스를 활용하여 객체, 즉 인스턴스를 만들어 봅시다.\n",
    "\n",
    "Student 클래스는 number, name 멤버 변수와 study()메소드로 구성되어 있습니다.\n",
    "\n",
    "study()메소드는 number와 name이 포함된 문구를 출력합니다.\n",
    "\n",
    "class Student{\n",
    "  int number;\n",
    "  String name;\n",
    "  void study(){\n",
    "    System.out.println(\"\");\n",
    "  }\n",
    "}\n",
    "Copy\n",
    "이 Student 클래스를 이용해 결과값을 출력하는 프로그램을 만들어봅시다.\n",
    "\n",
    "\n",
    "지시사항\n",
    "new연산자를 사용하여 Student 객체 s를 생성하세요.\n",
    "\n",
    "객체 s의 변수 number의 값을 2048로 초기화하세요.\n",
    "\n",
    "객체 s의 변수 name의 값을 “Elice”로 초기화하세요.\n",
    "\n",
    "객체 s를 이용해 Student의 메소드 study를 호출하세요.\n",
    "\n",
    "출력 예시\n",
    "\n",
    "// 객체 s의 number의 값이 1024\n",
    "// 객체 s의 name의 값이 \"Rabbit\" 일때 가정\n",
    "1024\n",
    "Rabbit \n",
    "Studying\n",
    "Copy\n",
    "Tips\n",
    "인스턴스 이름 뒤에 .을 붙이고 필드, 메소드 이름을 적으면 클래스 안의 필드와 메소드를 사용할 수 있습니다.\n",
    "s.name  = \"Elice\";"
   ]
  },
  {
   "cell_type": "code",
   "execution_count": null,
   "id": "fa0b770b",
   "metadata": {},
   "outputs": [],
   "source": [
    "'''\n",
    "package elice;\n",
    "\n",
    "class Student{\n",
    "    int number;\n",
    "    String name;\n",
    "    void study(){\n",
    "        System.out.println(number +\"\\n\" + name + \"\\n\" + \"Studying\");\n",
    "    }\n",
    "}\n",
    "\n",
    "public class Main {\n",
    "    public static void main(String args[]) {\n",
    "        // 지시사항 1번을 참고하여 코드를 작성하세요.\n",
    "        Student s = new Student();\n",
    "        // 지시사항 2번을 참고하여 코드를 작성하세요.\n",
    "        s.number = 2048;\n",
    "        // 지시사항 3번을 참고하여 코드를 작성하세요.\n",
    "        s.name = \"Elice\";\n",
    "\t    // 지시사항 4번을 참고하여 코드를 작성하세요.\n",
    "        s.study();\n",
    "    }\n",
    "}\n",
    "\n",
    "'''\n",
    "\n",
    "'''\n",
    "2048\n",
    "Elice\n",
    "Studying\n",
    "'''"
   ]
  },
  {
   "cell_type": "markdown",
   "id": "c27ac1d8",
   "metadata": {},
   "source": []
  },
  {
   "cell_type": "markdown",
   "id": "2c1ca259",
   "metadata": {},
   "source": [
    "03. 객체지향 프로그래밍"
   ]
  },
  {
   "cell_type": "markdown",
   "id": "0574021f",
   "metadata": {},
   "source": [
    "객체지향 프로그래밍\n",
    "\n",
    "속성과 기능으로 이루어진 클래스를 설계하고\n",
    "클래스의 객체(인스턴스)로 원하는 로직을 구현"
   ]
  },
  {
   "cell_type": "markdown",
   "id": "c1c232d7",
   "metadata": {},
   "source": [
    "객체지향 프로그래밍\n",
    "\n",
    "객체지향 프로그래밍의 4가지 특징\n",
    "- 추상화\n",
    "- 캡슐화\n",
    "- 상속성\n",
    "- 다형성"
   ]
  },
  {
   "cell_type": "markdown",
   "id": "958774ab",
   "metadata": {},
   "source": [
    "추상화\n",
    "\n",
    "세상의 모든 학생을 다 나타낼 수는 없지만...\n",
    "\n",
    "세상의 모든 자동차를 나타낼 수는 없지만..."
   ]
  },
  {
   "cell_type": "markdown",
   "id": "fc64cfa9",
   "metadata": {},
   "source": [
    "추상화\n",
    "\n",
    "공통된 부분을 묶어 클래스로 표현한다."
   ]
  }
 ],
 "metadata": {
  "kernelspec": {
   "display_name": "Python 3",
   "language": "python",
   "name": "python3"
  },
  "language_info": {
   "codemirror_mode": {
    "name": "ipython",
    "version": 3
   },
   "file_extension": ".py",
   "mimetype": "text/x-python",
   "name": "python",
   "nbconvert_exporter": "python",
   "pygments_lexer": "ipython3",
   "version": "3.8.8"
  }
 },
 "nbformat": 4,
 "nbformat_minor": 5
}
