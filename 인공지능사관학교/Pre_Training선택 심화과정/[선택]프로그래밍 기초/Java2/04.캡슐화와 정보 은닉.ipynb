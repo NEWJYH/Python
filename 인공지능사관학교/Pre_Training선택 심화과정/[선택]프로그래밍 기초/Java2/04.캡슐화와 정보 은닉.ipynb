{
 "cells": [
  {
   "cell_type": "markdown",
   "id": "ea2fd20f",
   "metadata": {},
   "source": [
    "목 차\n",
    "\n",
    "01.접근 제한자\n",
    "\n",
    "02.클래스의 상호작용\n",
    "\n",
    "03.Singleton Pattern"
   ]
  },
  {
   "cell_type": "markdown",
   "id": "230b2b1d",
   "metadata": {},
   "source": []
  },
  {
   "cell_type": "markdown",
   "id": "d62e764c",
   "metadata": {},
   "source": [
    "01.접근 제한자"
   ]
  },
  {
   "cell_type": "markdown",
   "id": "a2c55e47",
   "metadata": {},
   "source": [
    "접근 제한자\n",
    "\n",
    "접근 제한자를 활용하여\n",
    "클래스의 변수와 메소드를 보호"
   ]
  },
  {
   "cell_type": "markdown",
   "id": "e6711a5d",
   "metadata": {},
   "source": [
    "접근 제한자\n",
    "\n",
    "접근제한자        접근 범위\n",
    "public           외부 클래스 어디서나\n",
    "protected        상속 관계의 클래스(부모/자식관계)\n",
    "private          같은 클래스 내부\n",
    "(default)        같은 클래스 내부"
   ]
  },
  {
   "cell_type": "markdown",
   "id": "99fa33f0",
   "metadata": {},
   "source": [
    "캡슐화\n",
    "\n",
    "객체지향 프로그래밍의 네가지 특징\n",
    "추상화, 캡슐화, 상속성, 다형성"
   ]
  },
  {
   "cell_type": "markdown",
   "id": "f4b0ff81",
   "metadata": {},
   "source": [
    "캡슐화란?\n",
    "\n",
    "사용자에게 필요한 부분만 공개하는 것"
   ]
  },
  {
   "cell_type": "markdown",
   "id": "9f2006aa",
   "metadata": {},
   "source": [
    "캡슐화란?\n",
    "\n",
    "약을 먹는 사람은 효과가 중요하지 성분은 중요하지 않다."
   ]
  },
  {
   "cell_type": "markdown",
   "id": "9ad35788",
   "metadata": {},
   "source": [
    "캡슐화란?\n",
    "\n",
    "자동차 운전자는 엑셀을 밟으면 가속이 된다는 것이 중요하지\n",
    "엔진이 정확히 어떻게 동작하는지 아는 것은 중요하지 않다."
   ]
  },
  {
   "cell_type": "markdown",
   "id": "ffb8a315",
   "metadata": {},
   "source": [
    "캡슐화란?\n",
    "\n",
    "클래스 사용자에게 필요한 부분만 보여주는 것"
   ]
  },
  {
   "cell_type": "markdown",
   "id": "4c9c5be0",
   "metadata": {},
   "source": [
    "캡슐화란?\n",
    " \n",
    "클래스 사용자는\n",
    "클래스가 어떻게 구현되었는지 알 필요가 없다.\n",
    "\n",
    "내부 로직은 숨긴다."
   ]
  },
  {
   "cell_type": "markdown",
   "id": "0d1e6f93",
   "metadata": {},
   "source": [
    "접근 제한자\n",
    "\n",
    "private는 클래스 밖에서 접근을 막는다.\n",
    "\n",
    "Example\n",
    "class Student{\n",
    "    private int number; // 학번\n",
    "    int score;          // 시험 점수\n",
    "    String name;        // 이름\n",
    "}\n",
    ".....\n",
    "\n",
    "Student s = new Student();\n",
    "s.number = 1001; // Error. private 변수는 접근 불가\n",
    "s.score = 99; // OK!\n",
    "s.name = \"Elice\"; // OK!"
   ]
  },
  {
   "cell_type": "markdown",
   "id": "5d2eb4ac",
   "metadata": {},
   "source": [
    "접근 제한자\n",
    "\n",
    "private 변수를 외부에서 사용하려면?"
   ]
  },
  {
   "cell_type": "markdown",
   "id": "dd3e8b4b",
   "metadata": {},
   "source": [
    "접근 제한자\n",
    "\n",
    "private 변수에 접근하는 public 메소드를 제공해야 한다."
   ]
  },
  {
   "cell_type": "markdown",
   "id": "ff00b425",
   "metadata": {},
   "source": [
    "접근 제한자\n",
    "\n",
    "get,set 메소드를 직접 제공한다.\n",
    "\n",
    "Example\n",
    "class Student {\n",
    "    private int number; // 학번\n",
    "    // getter \n",
    "    public int getNumber(){\n",
    "        return number;\n",
    "    }\n",
    "    //setter\n",
    "    public void setNumber(int number){\n",
    "        this.number = number;\n",
    "    }\n",
    "}"
   ]
  },
  {
   "cell_type": "markdown",
   "id": "11245387",
   "metadata": {},
   "source": [
    "접근 제한자를 사용하는 이유\n",
    "\n",
    "private로 선언하고 public으로 접근할거면\n",
    "그냥 public 변수를 직접 쓰면 되지 않나요?"
   ]
  },
  {
   "cell_type": "markdown",
   "id": "d4fda3e2",
   "metadata": {},
   "source": [
    "접근 제한자를 사용하는 이유\n",
    "\n",
    "잘못된 값 설정을 막을 수 있다.\n",
    "\n",
    "Example\n",
    "class Student {\n",
    "    private int number; // 학번\n",
    "    // getter \n",
    "    public int getNumber(){\n",
    "        return number;\n",
    "    }\n",
    "    //setter\n",
    "    public void setNumber(int number){\n",
    "        if (number < 1000 || number > 9999){\n",
    "            System.out.println(\"올바른 학번이 아닙니다.\");\n",
    "            return;\n",
    "        }\n",
    "        this.number = number;\n",
    "    }\n",
    "}"
   ]
  },
  {
   "cell_type": "markdown",
   "id": "f9253333",
   "metadata": {},
   "source": [
    "접근 제한자를 사용하는 이유\n",
    "\n",
    "클래스 내부에서만 사용할 변수나 메소드는\n",
    "private로 선언"
   ]
  },
  {
   "cell_type": "markdown",
   "id": "7929a6e8",
   "metadata": {},
   "source": [
    "접근 제한자가 없는 경우\n",
    "\n",
    "접근 제한자가 없는 경우는 무엇인가요?"
   ]
  },
  {
   "cell_type": "markdown",
   "id": "809eb16e",
   "metadata": {},
   "source": [
    "접근 제한자가 없는 경우\n",
    "\n",
    "default 접근 제한이며\n",
    "같은 패키지 내부에서만 접근 가능"
   ]
  },
  {
   "cell_type": "markdown",
   "id": "0edc8464",
   "metadata": {},
   "source": [
    "public class\n",
    "\n",
    "public 키워드가 class 앞에 오는 경우에는 \n",
    "어떤 의미인가요?"
   ]
  },
  {
   "cell_type": "markdown",
   "id": "45688865",
   "metadata": {},
   "source": [
    "public class\n",
    "\n",
    "class는 기본적으로 default 속성"
   ]
  },
  {
   "cell_type": "markdown",
   "id": "61cde5fc",
   "metadata": {},
   "source": [
    "public class\n",
    "\n",
    "public class는 해당 자바 파일의 대표 클래스이며\n",
    "파일명과 클래스 이름이 일치해야 한다.\n",
    "\n",
    "Example\n",
    "public class Example{  // 파일명이 Example.java\n",
    "    public static void main(String args[]){\n",
    "    }\n",
    "}"
   ]
  },
  {
   "cell_type": "markdown",
   "id": "ae5cf608",
   "metadata": {},
   "source": [
    "[실습1] 캡슐화 활용해보기(1)\n",
    "\n",
    "get,set메소드를 구현하여 정보를 가져와 봅시다."
   ]
  },
  {
   "cell_type": "markdown",
   "id": "61476ecd",
   "metadata": {},
   "source": [
    "[실습2] 캡슐화 활용해보기(2)\n",
    "\n",
    "성적 조작을 캡슐화를 통해 막아봅시다!"
   ]
  },
  {
   "cell_type": "markdown",
   "id": "85ba7916",
   "metadata": {},
   "source": []
  },
  {
   "cell_type": "markdown",
   "id": "6b298e4b",
   "metadata": {},
   "source": [
    "캡슐화 활용해보기(1)\n",
    "이번 실습에서도 Student 클래스가 주어집니다.\n",
    "\n",
    "하지만 이번에는 number와 name 멤버 변수가 private 접근 제한자로 숨겨져 있습니다.\n",
    "\n",
    "이를 사용할 수 있도록 Student 클래스에 get(), set() 메소드를 추가해 봅시다.\n",
    "\n",
    "\n",
    "지시사항\n",
    "멤버 변수 number를 int형으로 반환하는 메소드 getNumber()를 작성하세요.\n",
    "\n",
    "int형 매개변수를 하나 받아 number에 저장하는 void형 메소드 setNumber를 작성하세요.\n",
    "\n",
    "getName() : 멤버 변수 name을 String형으로 반환하는 메소드 getName()을 작성하세요.\n",
    "\n",
    "String 매개변수를 하나 받아 name에 저장하는 void형 메소드 setName()을 작성하세요.\n",
    "\n",
    "출력 예시\n",
    "\n",
    "Elice학생의 학번 : 1234"
   ]
  },
  {
   "cell_type": "code",
   "execution_count": null,
   "id": "823cec50",
   "metadata": {},
   "outputs": [],
   "source": [
    "'''\n",
    "package elice;\n",
    "\n",
    "class Student {\n",
    "    private int number;\n",
    "    private String name;\n",
    "    \n",
    "    public Student(String name, int number) {\n",
    "        this.name = name;\n",
    "        this.number = number;\n",
    "    }\n",
    "    \n",
    "    // 지시사항 1번을 참고하여 작성하세요.\n",
    "    public int getNumber(){\n",
    "        return number;\n",
    "    }\n",
    "\n",
    "\n",
    "    // 지시사항 2번을 참고하여 작성하세요.\n",
    "    public void setNumber(int number){\n",
    "        this.number = number;\n",
    "    }\n",
    "\n",
    "\n",
    "    // 지시사항 3번을 참고하여 작성하세요.\n",
    "    public String getName(){\n",
    "        return name;\n",
    "    }\n",
    "\n",
    "\n",
    "    // 지시사항 4번을 참고하여 작성하세요.\n",
    "    public void setName(String name){\n",
    "        this.name = name;\n",
    "    }\n",
    "\n",
    "\n",
    "    \n",
    "}\n",
    "\n",
    "public class Main {\n",
    "\tpublic static void main(String args[]) {\n",
    "        Student student = new Student(\"Elice\", 1004);\n",
    "        student.setNumber(1234);\n",
    "        System.out.println(student.getName() + \"학생의 학번 : \" + student.getNumber()); \n",
    "\t}\n",
    "}\n",
    "\n",
    "'''\n",
    "\n",
    "'''\n",
    "Elice학생의 학번 : 1234\n",
    "'''"
   ]
  },
  {
   "cell_type": "markdown",
   "id": "49435fc0",
   "metadata": {},
   "source": [
    "캡슐화 활용해보기(2)\n",
    "주어진 코드의 main 메소드를 살펴보면 학생의 성적을 1,000점으로 잘못 설정하고 있습니다.\n",
    "\n",
    "학생의 성적은 0점부터 100점이어야 하므로 1,000점으로 설정하는 것은 잘못된 동작입니다.\n",
    "\n",
    "이 실수를 미연에 방지할 수 있도록 코드를 수정해 봅시다.\n",
    "\n",
    "\n",
    "지시시항\n",
    "변수 score에 private를 사용하여 접근을 제한하세요.\n",
    "\n",
    "int형 변수 score를 매개변수로 받아 정수 0~에서 100의 값을 score에 저장하는 void형 메소드 setScore를 작성하세요.\n",
    "\n",
    "setScore를 사용하여 학생의 점수를 1000으로 하고 실행을 눌러 결과를 확인하세요.\n",
    "\n",
    "출력 예시\n",
    "\n",
    "1000번 Elice학생의 성적은 0점입니다."
   ]
  },
  {
   "cell_type": "code",
   "execution_count": null,
   "id": "f6ba91f7",
   "metadata": {},
   "outputs": [],
   "source": [
    "'''\n",
    "package elice;\n",
    "\n",
    "class Student {\n",
    "    int number;\n",
    "    String name;\n",
    "    // 지시사항 1번을 참고하여 코드를 작성하세요.\n",
    "    private int score;\n",
    "        \n",
    "    void study() {\n",
    "        System.out.println(number + \", \" + name + \" Studying\");\n",
    "    }\n",
    "        \n",
    "    Student(String name) {\n",
    "        this.name = name;\n",
    "    }\n",
    "        \n",
    "    Student(int number, String name) {\n",
    "        this.number = number;\n",
    "        this.name = name;\n",
    "        score = 0;\n",
    "    }\n",
    "    \n",
    "    public int getScore() {\n",
    "        return this.score;\n",
    "    }\n",
    "        // 지시사항 2번을 참고하여 작성하세요.\n",
    "    public void setScore(int score){\n",
    "        if (score >= 0 && score <= 100){\n",
    "            this.score = score;\n",
    "            return;\n",
    "        }\n",
    "            return;\n",
    "    }\n",
    "\n",
    "\n",
    "\n",
    "\n",
    "}\n",
    "\n",
    "public class Main {\n",
    "\tpublic static void main(String args[]) {\n",
    "        Student student = new Student(1000, \"Elice\");\n",
    "        // 지시사항 3번을 참고하여 작성하세요.\n",
    "        //student.score = 1000; //성적 조작!!!\n",
    "        student.setScore(1000);\n",
    "        System.out.println(student.number + \"번 \" + student.name + \"학생의 성적은 \" + student.getScore() + \"점입니다.\");\n",
    "\t}\n",
    "}\n",
    "'''\n",
    "\n",
    "'''\n",
    "1000번 Elice학생의 성적은 0점입니다.\n",
    "'''"
   ]
  },
  {
   "cell_type": "markdown",
   "id": "63a3b4ef",
   "metadata": {},
   "source": []
  },
  {
   "cell_type": "markdown",
   "id": "cedd2507",
   "metadata": {},
   "source": [
    "02.클래스의 상호작용"
   ]
  },
  {
   "cell_type": "markdown",
   "id": "153903af",
   "metadata": {},
   "source": [
    "객체지향 프로그래밍\n",
    "\n",
    "클래스를 속성과 기능으로 설계하고\n",
    "객체들의 상호작용으로 프로그램을 작성하는 것"
   ]
  },
  {
   "cell_type": "markdown",
   "id": "fd624acc",
   "metadata": {},
   "source": [
    "자바 프로그래밍\n",
    "\n",
    "자바는 객체지향 프로그래밍 언어이며\n",
    "모든 것은 클래스 단위로 이루어진다."
   ]
  },
  {
   "cell_type": "markdown",
   "id": "6354a042",
   "metadata": {},
   "source": [
    "클래스의 상호작용\n",
    "\n",
    "승객이 버스와 지하철을 이용하는 과정을 작성하려면?"
   ]
  },
  {
   "cell_type": "markdown",
   "id": "75969549",
   "metadata": {},
   "source": [
    "클래스의 상호작용\n",
    "\n",
    "\n",
    "승객\n",
    "- 이름                  -> 버스 탑승   -> 버스(차량번호, 현재 승객 수, 총 수입)\n",
    "- 갖고 있는 돈           -> 지하철 탑승  -> 지하철(열차 번호, 현재 승객 수, 총 수입)"
   ]
  },
  {
   "cell_type": "markdown",
   "id": "eeeb2569",
   "metadata": {},
   "source": [
    "클래스의 상호작용\n",
    "\n",
    "지금까지 배운 내용으로\n",
    "클래스의 상호작용을 구현해봅시다."
   ]
  },
  {
   "cell_type": "markdown",
   "id": "047542d1",
   "metadata": {},
   "source": [
    "[실습3] 대중교통 이용하기\n",
    "\n",
    "버스에 탑승한 승객과 누적 수입을 출력해봅시다!\n",
    "\n",
    "승객 -> 1000원 -> 버스"
   ]
  },
  {
   "cell_type": "markdown",
   "id": "36b61d18",
   "metadata": {},
   "source": []
  },
  {
   "cell_type": "markdown",
   "id": "dbe08b05",
   "metadata": {},
   "source": [
    "대중교통 이용하기\n",
    "예시 코드를 보면 승객을 나타내는 Passenger클래스와 버스를 나타내는 Bus클래스가 있습니다.\n",
    "\n",
    "이번 실습에서는 이 두 클래스를 완성하여 승객이 버스를 타고 내리는 과정을 코드로 작성해 봅시다.\n",
    "\n",
    "Passenger클래스와 Bus클래스를 완성하고, main메소드에서 두 클래스를 사용해 봅시다.\n",
    "\n",
    "\n",
    "지시사항\n",
    "1,000원이 있다면 1,000원을 지불하고 true를 반환하고 반대로 1,000원이 없다면 돈을 내지 않고 false를 반환하는 pay 메소드의 내부를 작성하세요.\n",
    "\n",
    "조건문을 사용하여 매개변수로 전달된 passenger에서 돈을 받았다면 승객의 수와 돈을 1000원 증가시키는 코드를 작성하세요.\n",
    "\n",
    "조건문을 사용하여 승객(passengerCount)이 1명 이상이라면 감소하는 코드를 작성하세요."
   ]
  },
  {
   "cell_type": "code",
   "execution_count": null,
   "id": "e8996119",
   "metadata": {},
   "outputs": [],
   "source": [
    "'''\n",
    "package elice;\n",
    "\n",
    "class Passenger {\n",
    "    private String name; //승객의 이름\n",
    "    private int money; //승객이 가진 돈\n",
    "    \n",
    "    public Passenger(String name, int money) {\n",
    "        this.name = name;\n",
    "        this.money = money;\n",
    "    }\n",
    "    \n",
    "    public boolean pay() {\n",
    "        //지시사항 1번을 참고하여 코드를 작성하세요.\n",
    "        if (money >= 1000) {\n",
    "            this.money -= 1000;\n",
    "            return true;\n",
    "        } \n",
    "          \n",
    "        return false;\n",
    "    }\n",
    "}\n",
    "\n",
    "class Bus {\n",
    "    private int number; //버스의 번호\n",
    "    private int passengerCount; // 승객의 수\n",
    "    private int money; // 버스가 벌어들인 돈\n",
    "    \n",
    "    public Bus(int number) {\n",
    "        this.number = number;\n",
    "        passengerCount = 0;\n",
    "        money = 0;\n",
    "    }\n",
    "    \n",
    "    public int getPassengerCount() {\n",
    "        return passengerCount;\n",
    "    }\n",
    "    \n",
    "    public int getMoney() {\n",
    "        return money;\n",
    "    }\n",
    "    \n",
    "    public int getNumber() {\n",
    "        return number;\n",
    "    }\n",
    "    \n",
    "    public void board(Passenger passenger) {\n",
    "        //지시사항 2번을 참고하여 코드를 작성하세요.\n",
    "        boolean Ptf = passenger.pay();\n",
    "        if (Ptf == true){\n",
    "            passengerCount += 1;\n",
    "            money += 1000;\n",
    "        }\n",
    "        return;\n",
    "\n",
    "\n",
    "    }\n",
    "    \n",
    "    public void layoff() {\n",
    "        //지시사항 3번을 참고하여 코드를 작성하세요.\n",
    "        if (passengerCount >= 1){\n",
    "            passengerCount--;\n",
    "        }\n",
    "\n",
    "\n",
    "    }\n",
    "}\n",
    "\n",
    "public class Main {\n",
    "\tpublic static void main(String args[]) {\n",
    "\t\tPassenger[] passengers = new Passenger[3];\n",
    "        passengers[0] = new Passenger(\"Elice\", 3000);\n",
    "        passengers[1] = new Passenger(\"Alice\", 1500);\n",
    "        passengers[2] = new Passenger(\"Eris\", 500);\n",
    "        \n",
    "        Bus bus = new Bus(1024);\n",
    "        \n",
    "        // 3명의 승객이 버스를 탑승하는 코드\n",
    "        for (Passenger p : passengers) {\n",
    "            bus.board(p);\n",
    "        }\n",
    "        \n",
    "        \n",
    "        System.out.println(\"현재 버스에는 \" + bus.getPassengerCount() + \"명의 승객이 탑승해 있습니다.\");\n",
    "        System.out.println(\"지금까지 \" + bus.getNumber() + \"번 버스의 수입은 \" + bus.getMoney() + \"원 입니다.\");\n",
    "        \n",
    "        // 모든 승객이 내리는 코드\n",
    "        \n",
    "        while(bus.getPassengerCount() > 0) {\n",
    "            bus.layoff();\n",
    "        }\n",
    "        \n",
    "        System.out.println(\"현재 버스에는 \" + bus.getPassengerCount() + \"명의 승객이 탑승해 있습니다.\");\n",
    "        System.out.println(\"지금까지 \" + bus.getNumber() + \"번 버스의 수입은 \" + bus.getMoney() + \"원 입니다.\");\n",
    "        \n",
    "        // 3명의 승객이 버스를 탑승하는 코드\n",
    "        \n",
    "        for (Passenger p : passengers) {\n",
    "            bus.board(p);\n",
    "        }\n",
    "        \n",
    "        System.out.println(\"현재 버스에는 \" + bus.getPassengerCount() + \"명의 승객이 탑승해 있습니다.\");\n",
    "        System.out.println(\"지금까지 \" + bus.getNumber() + \"번 버스의 수입은 \" + bus.getMoney() + \"원 입니다.\");\n",
    "\t}\n",
    "}\n",
    "\n",
    "'''\n",
    "\n",
    "'''\n",
    "현재 버스에는 2명의 승객이 탑승해 있습니다.\n",
    "지금까지 1024번 버스의 수입은 2000원 입니다.\n",
    "현재 버스에는 0명의 승객이 탑승해 있습니다.\n",
    "지금까지 1024번 버스의 수입은 2000원 입니다.\n",
    "현재 버스에는 1명의 승객이 탑승해 있습니다.\n",
    "지금까지 1024번 버스의 수입은 3000원 입니다.\n",
    "코드 실행이 완료되었습니다.\n",
    "'''"
   ]
  },
  {
   "cell_type": "markdown",
   "id": "1dc39a87",
   "metadata": {},
   "source": []
  },
  {
   "cell_type": "markdown",
   "id": "d4a266f1",
   "metadata": {},
   "source": [
    "03.Singleton Pattern"
   ]
  },
  {
   "cell_type": "markdown",
   "id": "e6c7901c",
   "metadata": {},
   "source": [
    "Singleton Pattern(싱글턴 패턴)이란?\n",
    "\n",
    "프로그램 전반에 이용될 인스턴스를 \n",
    "단 하나만 생성하는 디자인 패턴"
   ]
  },
  {
   "cell_type": "markdown",
   "id": "84d258f6",
   "metadata": {},
   "source": [
    "Singleton Pattern 만들기\n",
    "\n",
    "교내 학생들을 관리하는 프로그램\n",
    "학생은 여러 명이지만, 학교는 단 하나"
   ]
  },
  {
   "cell_type": "markdown",
   "id": "48431ad8",
   "metadata": {},
   "source": [
    "Singleton Pattern 만들기\n",
    "\n",
    "1. private 생성자 만들기\n",
    "\n",
    "Example\n",
    "class School{\n",
    "    // 외부에서 객체 생성을 금지함\n",
    "    private School() {}\n",
    "}"
   ]
  },
  {
   "cell_type": "markdown",
   "id": "9682f89d",
   "metadata": {},
   "source": [
    "Singleton Pattern 만들기\n",
    "\n",
    "2. 클래스 안에 static 인스턴스 만들기\n",
    "\n",
    "class School{\n",
    "    // 프로그램 전체에서 사용할 유일한 인스턴스\n",
    "    private  static School instance;\n",
    "}"
   ]
  },
  {
   "cell_type": "markdown",
   "id": "ce86b654",
   "metadata": {},
   "source": [
    "Singleton Pattern 만들기\n",
    "\n",
    "3. 객체를 얻을 수 있는 public 메소드 제공\n",
    "\n",
    "Example\n",
    "class School{\n",
    "    // 외부에서 객체 생성을 금지함\n",
    "    public static School getInstance(){\n",
    "        if (instance == null){\n",
    "            instance = new School();\n",
    "        }\n",
    "        return instance;\n",
    "    }\n",
    "}"
   ]
  },
  {
   "cell_type": "markdown",
   "id": "c2547f65",
   "metadata": {},
   "source": [
    "Singleton Pattern 만들기\n",
    "\n",
    "4. 싱글턴 객체 사용\n",
    "\n",
    "Example\n",
    "...\n",
    "School mySchool = School.getInstance();\n",
    "...\n",
    "mySchool.addStudent(\"Elice\");"
   ]
  },
  {
   "cell_type": "markdown",
   "id": "8c8c2748",
   "metadata": {},
   "source": [
    "Singleton Pattern의 사용\n",
    "\n",
    "디자인 패턴은 상황에 맞는 적용법일 뿐\n",
    "고유한 장/단점은 없다.\n",
    "\n",
    "인스턴스가 프로그램에 단 1개만 존재해야 하는 경우에 적용"
   ]
  },
  {
   "cell_type": "markdown",
   "id": "64450ace",
   "metadata": {},
   "source": [
    "Singleton Pattern의 장점\n",
    "\n",
    "static 인스턴스이기 때문에\n",
    "데이터 공유에 용이"
   ]
  },
  {
   "cell_type": "markdown",
   "id": "4a5afa96",
   "metadata": {},
   "source": [
    "[실습4] 교내 학생 관리하기\n",
    "\n",
    "하나의 인스턴스로 학교 인원을 관리해봅시다!\n",
    "\n",
    "학교 관리 프로그램\n",
    "학생1, 학생2, 학생3, 학생4"
   ]
  },
  {
   "cell_type": "markdown",
   "id": "75088210",
   "metadata": {},
   "source": []
  },
  {
   "cell_type": "markdown",
   "id": "968ff4d6",
   "metadata": {},
   "source": [
    "교내 학생 관리하기\n",
    "이번 실습에서는 학생들을 관리하는 School 클래스를 만들어 보겠습니다.\n",
    "\n",
    "main 메소드를 보면 school1 인스턴스와 school2 인스턴스에 4명의 학생과 3명의 학생을 입학시킨 것을 볼 수 있습니다.\n",
    "\n",
    "하지만 교내 학생을 관리하는 프로그램이기 때문에 학교 인스턴스는 단 하나여야 합니다.\n",
    "\n",
    "이를 위해 School 클래스에 앞서 배운 싱글톤 패턴을 적용시켜 봅시다.\n",
    "\n",
    "\n",
    "지시사항\n",
    "private static을 사용하여 School 생성자인 s를 생성하세요.\n",
    "\n",
    "public static을 사용하여 s의 값을 반환하는 School형 메소드 getInstance()를 작성하세요.\n",
    "\n",
    "School형 변수 school1을 사용하여 getInstance()메소드를 호출하세요.\n",
    "\n",
    "School형 변수 school2을 사용하여 getInstance()메소드를 호출하세요."
   ]
  },
  {
   "cell_type": "code",
   "execution_count": null,
   "id": "af585536",
   "metadata": {},
   "outputs": [],
   "source": [
    "'''\n",
    "package elice;\n",
    "\n",
    "class School {\n",
    "    // 지시사항 1번을 참고하여 코드를 작성하세요.\n",
    "    private static School s;\n",
    "    // 지시사항 2번을 참고하여 코드를 작성하세요.\n",
    "    public static School getInstance(){\n",
    "        if (s == null){\n",
    "            s = new School();\n",
    "        }\n",
    "        return s;\n",
    "    }\n",
    "\n",
    "\n",
    "    \n",
    "    private int studentCount;\n",
    "    \n",
    "    public int getStudentCount() {\n",
    "        return studentCount;\n",
    "    }\n",
    "    \n",
    "    public void addStudent(int newStudentCount) {\n",
    "        studentCount += newStudentCount;\n",
    "    }\n",
    "    \n",
    "    private School() {\n",
    "        studentCount = 0;\n",
    "    }\n",
    "} \n",
    "\n",
    "public class Main {\n",
    "\tpublic static void main(String args[]) {\n",
    "        // 지시사항 3번을 참고하여 코드를 작성하세요.\n",
    "        School school1 = School.getInstance();\n",
    "        \n",
    "        school1.addStudent(4);\n",
    "        // 지시사항 4번을 참고하여 코드를 작성하세요.\n",
    "        School school2 = School.getInstance();\n",
    "\n",
    "        \n",
    "        school2.addStudent(3);\n",
    "        \n",
    "        System.out.println(\"학교의 학생 수 : \" + school2.getStudentCount());\n",
    "\t}\n",
    "}\n",
    "\n",
    "'''\n",
    "\n",
    "'''\n",
    "학교의 학생 수 : 7\n",
    "'''"
   ]
  }
 ],
 "metadata": {
  "kernelspec": {
   "display_name": "Python 3",
   "language": "python",
   "name": "python3"
  },
  "language_info": {
   "codemirror_mode": {
    "name": "ipython",
    "version": 3
   },
   "file_extension": ".py",
   "mimetype": "text/x-python",
   "name": "python",
   "nbconvert_exporter": "python",
   "pygments_lexer": "ipython3",
   "version": "3.8.8"
  }
 },
 "nbformat": 4,
 "nbformat_minor": 5
}
