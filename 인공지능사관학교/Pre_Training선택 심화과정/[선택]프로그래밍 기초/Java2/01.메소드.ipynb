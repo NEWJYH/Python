{
 "cells": [
  {
   "cell_type": "markdown",
   "id": "ca7c69ff",
   "metadata": {},
   "source": [
    "목 차\n",
    "\n",
    "01. 메소드\n",
    "\n",
    "02. 기존 메소드 호출하기\n",
    "\n",
    "03. 클래스 소개"
   ]
  },
  {
   "cell_type": "markdown",
   "id": "35043650",
   "metadata": {},
   "source": []
  },
  {
   "cell_type": "markdown",
   "id": "e436c0cc",
   "metadata": {},
   "source": [
    "01. 메소드"
   ]
  },
  {
   "cell_type": "markdown",
   "id": "808869d1",
   "metadata": {},
   "source": [
    "메소드란?\n",
    "\n",
    "특정 기능을 하는 함수(입력과 출력)\n",
    "\n",
    " 입구\n",
    "  ↓\n",
    "작용(기능)\n",
    "  ↓\n",
    " 출구"
   ]
  },
  {
   "cell_type": "markdown",
   "id": "90fa876a",
   "metadata": {},
   "source": [
    "메소드의 개념\n",
    "\n",
    "Example\n",
    "public class Example { \n",
    "    public static void main(String args[]) {\n",
    "    // \n",
    "    }\n",
    "}"
   ]
  },
  {
   "cell_type": "markdown",
   "id": "564b2ed5",
   "metadata": {},
   "source": [
    "메소드의 입출력\n",
    "\n",
    "입력 값 : 매개변수(여러기능)\n",
    "출력 값 : 반환값\n",
    "\n",
    "Example\n",
    "public static int getSquare(int x){\n",
    "    return x * x;\n",
    "}\n",
    "\n",
    "public :\n",
    "static :\n",
    "int : 반환형\n",
    "getSquare : 메소드명\n",
    "(int x) : 매개변수\n",
    "return x * x; : 반환값"
   ]
  },
  {
   "cell_type": "markdown",
   "id": "574b0ead",
   "metadata": {},
   "source": [
    "메소드 호출 예시\n",
    "\n",
    "Example\n",
    "public class Square {\n",
    "    public static int getSquare(int x){\n",
    "        return x * x;\n",
    "    }\n",
    "    public static void main(String[] args) {\n",
    "        int value = 3;\n",
    "        int result = getSquare(value);\n",
    "        System.out.println(result); // 9\n",
    "    }\n",
    "}\n"
   ]
  },
  {
   "cell_type": "markdown",
   "id": "07c041b5",
   "metadata": {},
   "source": [
    "반환값이 없는 메소드\n",
    "\n",
    "내부 기능만 동작하고 값을 반환하지 않는 메소드\n",
    "\n",
    "매개변수\n",
    "    ↓\n",
    "    작용(기능)"
   ]
  },
  {
   "cell_type": "markdown",
   "id": "48ecce98",
   "metadata": {},
   "source": [
    "반환값이 없는 메소드\n",
    "\n",
    "Example\n",
    "public class Square {\n",
    "    public static void printDouble(int x) {\n",
    "        System.out.println(x * 2);\n",
    "        return;\n",
    "    }\n",
    "    public static void main(String args[]){\n",
    "        int value = 2;\n",
    "        printDouble(value);   // 4\n",
    "        printDouble(3);       // 6\n",
    "    }\n",
    "}"
   ]
  },
  {
   "cell_type": "markdown",
   "id": "6ef57303",
   "metadata": {},
   "source": [
    "매개변수가 없는 메소드\n",
    "\n",
    "매개변수 없이 결과만 반환하는 메소드\n",
    "\n",
    "작용(기능)\n",
    "  ↓\n",
    "  반환값"
   ]
  },
  {
   "cell_type": "markdown",
   "id": "eae365d1",
   "metadata": {},
   "source": [
    "매개변수가 없는 메소드\n",
    "\n",
    "Example\n",
    "public class Square {\n",
    "    public static double getPI() {\n",
    "        return 3.141592;\n",
    "    }\n",
    "    public static void main(String args[]) {\n",
    "        System.out.println(getPI()); // 3.141592\n",
    "    }\n",
    "}"
   ]
  },
  {
   "cell_type": "markdown",
   "id": "0cf63805",
   "metadata": {},
   "source": [
    "둘 다 없는 메소드\n",
    "\n",
    "내부 동작만 수행하는 메소드\n",
    "\n",
    "작용(기능)"
   ]
  },
  {
   "cell_type": "markdown",
   "id": "babd1597",
   "metadata": {},
   "source": [
    "둘 다 없는 메소드\n",
    "\n",
    "Example\n",
    "public class Square {\n",
    "    public static int sayHello(){\n",
    "        System.out.println(\"Hello, Elice!\");\n",
    "    }\n",
    "    public static void main(String args[]) {\n",
    "        sayHello();\n",
    "        sayHello();\n",
    "        sayHello();\n",
    "    }\n",
    "}"
   ]
  },
  {
   "cell_type": "markdown",
   "id": "7187c135",
   "metadata": {},
   "source": [
    "[실습1] 메소드 사용해보기\n",
    "\n",
    "메소드를 사용하여 결과를 출력해봅시다!\n",
    "\n",
    "입력값 -> 메소드 -> 반환값"
   ]
  },
  {
   "cell_type": "markdown",
   "id": "cf12783b",
   "metadata": {},
   "source": [
    "[실습2] 반환값이 없는 메소드\n",
    "\n",
    "메소드를 사용하여 결과를 출력해봅시다\n",
    "\n",
    "호출 -> 메소드 -> 메소드 내부 실행"
   ]
  },
  {
   "cell_type": "markdown",
   "id": "54c4740d",
   "metadata": {},
   "source": [
    "[실습3] 매개변수가 없는 메소드\n",
    "\n",
    "메소드를 사용하여 결과를 출력해봅시다!\n",
    "\n",
    "호출 -> 메소드 -> 반환값"
   ]
  },
  {
   "cell_type": "markdown",
   "id": "2bc4064c",
   "metadata": {},
   "source": [
    "[실습4] 사칙연산\n",
    "\n",
    "메소드를 이용해 사칙연산을 해봅시다!\n",
    "\n",
    "덧셈 메소드 뺄셈 메소드\n",
    "곱셈 메소드 나눗셈 메소드  -> 사칙연산 결과"
   ]
  },
  {
   "cell_type": "markdown",
   "id": "4f9f843b",
   "metadata": {},
   "source": []
  },
  {
   "cell_type": "markdown",
   "id": "96c3ca68",
   "metadata": {},
   "source": [
    "메소드 사용해보기\n",
    "우측 실습에는 입력받은 수의 제곱 값을 반환하는 getSquare 메소드가 있습니다.\n",
    "\n",
    "getSquare 메소드를 이용해 입력받은 수의 제곱 값을 출력하는 프로그램을 만들어봅시다.\n",
    "\n",
    "입력 예시\n",
    "\n",
    "3\n",
    "Copy\n",
    "출력 예시\n",
    "\n",
    "9\n",
    "Copy\n",
    "\n",
    "지시사항\n",
    "getSquare() 함수를 사용하여 입력받은 n의 제곱을 출력하세요.\n",
    "Tips\n",
    "Scanner는 사용자가 값을 직접 입력할 수 있는 기능을 제공합니다."
   ]
  },
  {
   "cell_type": "code",
   "execution_count": null,
   "id": "a5b65c87",
   "metadata": {},
   "outputs": [],
   "source": [
    "'''\n",
    "package elice;\n",
    "// java.util에 패키지에 있는 Scanner를 사용하기 위해 import한다.\n",
    "import java.util.Scanner;\n",
    "\n",
    "public class Main {\n",
    "    \n",
    "    // x 값을 받아 그 제곱값을 반환하는 메소드\n",
    "    public static int getSquare(int x) {\n",
    "        return x * x;\n",
    "    }\n",
    "    \n",
    "\tpublic static void main(String args[]) {\n",
    "        \n",
    "        // Scanner는 값을 입력 받을 때 사용합니다.\n",
    "        // 아래 콘솔창에 값을 쓰고 엔터를 눌러 입력하세요.\n",
    "        Scanner scan = new Scanner(System.in);\n",
    "        int n = scan.nextInt(); \n",
    "        \n",
    "        // 지시사항 1번을 참고하여 코드를 작성하세요.\n",
    "        System.out.println(getSquare(n));\n",
    "\t}\n",
    "}\n",
    "\n",
    "'''"
   ]
  },
  {
   "cell_type": "markdown",
   "id": "e77540fc",
   "metadata": {},
   "source": [
    "반환값이 없는 메소드\n",
    "printHello 메소드는 입력된 정수값 n만큼 Hello, Elice!을 반복하여 출력합니다.\n",
    "\n",
    "이 메소드는 입력이 있고 반환값이 없는 void타입의 함수입니다.\n",
    "\n",
    " System.out.println(printHello(n));\n",
    "Copy\n",
    "위와 같이 반환 타입이 void인 함수의 결과를 출력 시도하면 오류가 발생합니다.\n",
    "\n",
    "오른쪽 코드를 바로 실행해보고 결과값을 확인해봅시다.\n",
    "\n",
    "\n",
    "지시사항\n",
    "“Hello, Elice!” 가 콘솔에 입력된 n번만큼 출력될 수 있게끔 printHello 메소드를 호출하세요.\n",
    "Tips\n",
    "void 자료형의 변수는 선언할 수 없습니다.\n",
    "\n",
    "void 형의 함수는 반환값이 없기 때문에 return을 사용할 수 없습니다."
   ]
  },
  {
   "cell_type": "code",
   "execution_count": null,
   "id": "5d5bd39f",
   "metadata": {},
   "outputs": [],
   "source": [
    "'''\n",
    "package elice;\n",
    "\n",
    "import java.util.Scanner;\n",
    "\n",
    "public class Main {\n",
    "    public static void printHello(int n) {\n",
    "        for(int i = 0; i < n; i++) {\n",
    "            System.out.println(\"Hello, Elice!\");\n",
    "        }\n",
    "    }\n",
    "    \n",
    "\tpublic static void main(String args[]) {\n",
    "        Scanner scan = new Scanner(System.in);\n",
    "        int n = scan.nextInt(); //Hello, Elice! 를 출력할 횟수를 입력받습니다.\n",
    "        \n",
    "       // 지시사항 1번을 참고하여 코드를 작성하세요.\n",
    "        printHello(n);\n",
    "\t}\n",
    "}\n",
    "\n",
    "'''"
   ]
  },
  {
   "cell_type": "markdown",
   "id": "1d9072eb",
   "metadata": {},
   "source": [
    "매개변수가 없는 메소드\n",
    "메소드는 선언 시 매개변수를 포함하지 않아도 됩니다.\n",
    "\n",
    "getRandomInt()메소드는 1부터 100 사이의 정수를 무작위로 반환합니다.\n",
    "\n",
    "이 메소드를 이용해 입력받은 수 n만큼 무작위 정수를 출력해봅시다.\n",
    "\n",
    "\n",
    "지시사항\n",
    "입력받은 변수 n 만큼 getRandomInt 함수를 호출 및 출력하는 코드를 작성하세요.\n",
    "입력 예시\n",
    "\n",
    "4\n",
    "Copy\n",
    "출력 예시\n",
    "\n",
    "37\n",
    "95\n",
    "13\n",
    "82\n",
    "Copy\n",
    "Tips\n",
    "매개변수가 없는 메소드를 호출할 때에는 비어있는 괄호를 사용합니다."
   ]
  },
  {
   "cell_type": "code",
   "execution_count": null,
   "id": "22cfb3a0",
   "metadata": {},
   "outputs": [],
   "source": [
    "'''\n",
    "package elice;\n",
    "\n",
    "import java.util.Scanner;\n",
    "\n",
    "public class Main {\n",
    "    public static int getRandomInt() {\n",
    "        //아래 코드는 1~100의 무작위 정수를 구하는 코드입니다.\n",
    "        int randInt = (int)(Math.random() * 100) + 1; \n",
    "        return randInt;\n",
    "    }\n",
    "    \n",
    "\tpublic static void main(String args[]) {\n",
    "        Scanner scan = new Scanner(System.in);\n",
    "        int n = scan.nextInt(); //난수를 출력할 횟수를 입력하세요..\n",
    "        \n",
    "        /* 반복문을 이용해 getRandomInt 함수의 반환값을 출력해보세요!\n",
    "           n줄에 걸쳐 1 이상 100 이하의 무작위 정수가 출력됩니다.\n",
    "          */\n",
    "        \n",
    "        for(int i = 0; i < n; i++) {\n",
    "            //지시사항 1번을 참고하여 코드를 작성하세요.\n",
    "            System.out.println(getRandomint());\n",
    "        }\n",
    "        \n",
    "\t}\n",
    "}\n",
    "\n",
    "'''"
   ]
  },
  {
   "cell_type": "markdown",
   "id": "9234de62",
   "metadata": {},
   "source": [
    "사칙연산\n",
    "매개 변수 두 개를 입력받아 사칙연산을 진행하는 메소드들을 만들어보겠습니다.\n",
    "\n",
    "두 매개 변수의 덧셈 결과를 반환하는 메소드인 add 메소드가 이미 구현되어 있습니다.\n",
    "\n",
    "이를 참고하여 sub, mul, div 메소드를 구현해 봅시다.\n",
    "\n",
    "\n",
    "지시사항\n",
    "int형 매개 변수 num1과 num2를 받아 num1에서 num2을 뺀 값을 반환하는 메소드 sub을 작성하세요.\n",
    "\n",
    "int형 매개 변수 num1과 num2를 받아 num1에서 num2을 곱한 값을 반환하는 메소드 mul을 작성하세요.\n",
    "\n",
    "int형 매개 변수 num1과 num2를 받아 num1에서 num2을 나눈 값을 반환하는 메소드 div을 작성하세요.\n",
    "\n",
    "Tips\n",
    "public, static은 클래스의 개념과 함께 등장합니다."
   ]
  },
  {
   "cell_type": "markdown",
   "id": "b0c47cb9",
   "metadata": {},
   "source": []
  },
  {
   "cell_type": "markdown",
   "id": "0989acda",
   "metadata": {},
   "source": [
    "02. 기존 메소드 호출하기"
   ]
  },
  {
   "cell_type": "markdown",
   "id": "2c98b960",
   "metadata": {},
   "source": [
    "이미 만들어진 메소드\n",
    "\n",
    "메소드는 직접 구현할 수 있지만\n",
    "이미 구현되어 있는 메소드를 호출하는 것이 더 효율적이다."
   ]
  },
  {
   "cell_type": "markdown",
   "id": "91fa246f",
   "metadata": {},
   "source": [
    "다양한 메소드의 종류\n",
    "\n",
    "String 클래스의 메소드\n",
    "\n",
    "Example\n",
    "String str = \"elice\";\n",
    "\n",
    "System.out.println(str.length()); // 5\n",
    "System.out.printlin(str.toUpperCase()); // \"ELICE\""
   ]
  },
  {
   "cell_type": "markdown",
   "id": "077f3bb3",
   "metadata": {},
   "source": [
    "다양한 메서드의 종류\n",
    "\n",
    "Math클래스의 메소드\n",
    "\n",
    "Example\n",
    "System.out.println(Math.max(2, 3)); // 3\n",
    "System.out.println(Math.round(9.99)); // 10\n",
    "System.out.println(Math.sqrt(25)); // 5"
   ]
  },
  {
   "cell_type": "markdown",
   "id": "4381f76f",
   "metadata": {},
   "source": [
    "다양한 메소드의 종류\n",
    "\n",
    "Arrays 클래스의 메소드\n",
    "\n",
    "Example\n",
    "int[] arr = {31, 7, -3, 18};\n",
    "Array.sort(arr); // {-3,7,18,31}"
   ]
  },
  {
   "cell_type": "markdown",
   "id": "1c962e15",
   "metadata": {},
   "source": [
    "String 클래스의 메소드\n",
    "\n",
    "String 클래스에 포함된 주요 메소드\n",
    "\n",
    "equals() : 같은 문자열인지 비교\n",
    "indexOf() : 지정한 문자가 몇번째에 있는지 반환\n",
    "length() : 문자열의 길이를 반환\n",
    "substring() : 현재 문자열의 부분 문자열을 반환\n",
    "startsWith() : 문자열이 특정 문자열로 시작되는지 확인\n",
    "endsWith() : 문자열이 특정 문자열로 끝나는지 확인\n",
    "replace() : 문자열에 있는 특정 문자열을 다른 문자열로 교체\n",
    "toLowerCase() : 문자열으 모두 소문자로 변경\n",
    "toUpperCase() : 문자열을 모두 대문자로 변경"
   ]
  },
  {
   "cell_type": "markdown",
   "id": "622d02f8",
   "metadata": {},
   "source": [
    "더 많은 String클래스의 메소드\n",
    "\n",
    "char charAt(int intdex)\n",
    "IntStream chars()\n",
    "int codePointAt(int index)\n",
    "int codePointBefore(int index)\n",
    "int codePointCount(int beginIndex, int endIndex)\n",
    "intStream codePoints()\n",
    "int compareTo(String anotherString)\n",
    "int compareToIgnoreCase(String str)\n",
    "String concat(String str)\n",
    "boolean cntains(CharSequence s)\n",
    "int indexOf(int ch)\n",
    "int indexOf(int ch, int fromIndex)\n",
    "int indexOf(String str)\n",
    "int indedof(String str, int fromIndex)\n",
    "String intern()\n",
    "boolean isEmpty()\n",
    "static String join(CharSequence delimiter, charSequence elements)\n",
    "static String join(CharSequence delimiter, Iterable< ?  , charSequence elements)\n",
    "int lastIndexOf(int ch)\n",
    "int lastIndexOf(int ch, int fromIndex)"
   ]
  },
  {
   "cell_type": "markdown",
   "id": "25b98a64",
   "metadata": {},
   "source": [
    "[실습5] String 클래스의 메소드(1)\n",
    "\n",
    "아래 메소드를 활용하여 값을 출력해봅시다!\n",
    "\n",
    "charAt()   concat()  equals()"
   ]
  },
  {
   "cell_type": "markdown",
   "id": "3ea41941",
   "metadata": {},
   "source": [
    "[실습6] String 클래스의 메소드(2)\n",
    "\n",
    "아래 메소드를 활용하여 값을 출력해봅시다!\n",
    "\n",
    "length() \n",
    "substring()\n",
    "toUpperCase()\n",
    "toLowerCase()"
   ]
  },
  {
   "cell_type": "markdown",
   "id": "ab0c6a62",
   "metadata": {},
   "source": []
  },
  {
   "cell_type": "markdown",
   "id": "790260f6",
   "metadata": {},
   "source": [
    "String의 다양한 메소드 (1)\n",
    "직접 만드는 메소드 외에도 이미 만들어져 있는 메소드를 사용하기도 합니다.\n",
    "\n",
    "대표적으로 String 클래스의 메소드들이 있습니다.\n",
    "\n",
    "메소드 목록은 다음과 같습니다.\n",
    "\n",
    "char charAt(int index)\n",
    "Copy\n",
    "index 위치에 있는 문자를 반환합니다.\n",
    "charAt(0)은 첫 번째 글자를 반환합니다.\n",
    "charAt(문자열의 길이-1)은 마지막 글자를 반환합니다.\n",
    "String concat(String str)\n",
    "Copy\n",
    "두 문자열을 연결하여 반환합니다.\n",
    "boolean equals(String str)\n",
    "Copy\n",
    "str와 같은지 비교하여 같다면 true를, 다르다면 false를 반환합니다.\n",
    "실습을 진행하면서 String 클래스의 메소드들을 활용해 봅시다.\n",
    "\n",
    "\n",
    "지시사항\n",
    "charAt()을 사용하여 문자열 str에 17번째 문자를 출력하세요.\n",
    "\n",
    "concat()을 사용하여 문자열 str뒤에 문자열 “abc”를 붙여 출력하세요.\n",
    "\n",
    "equals()를 사용하여 변수 name1 과 name2가 같은지 비교하여 출력하세요.\n",
    "\n",
    "출력 예시\n",
    "\n",
    "r\n",
    "Hello,Elice!JavaProgrammingabc\n",
    "true\n",
    "Copy\n",
    "Tips\n",
    "String 클래스와 같이, 다른 클래스의 기능을 사용하기 위해서는 .을 사용해야 합니다.\n",
    "\n",
    "예시 : str.charAt(17)"
   ]
  },
  {
   "cell_type": "code",
   "execution_count": null,
   "id": "eab3a9c1",
   "metadata": {},
   "outputs": [],
   "source": [
    "'''\n",
    "package elice;\n",
    "\n",
    "import java.io.*;\n",
    "import java.util.Scanner;\n",
    "import elice.EliceUtils;\n",
    "\n",
    "public class Main {\n",
    "\tpublic static void main(String args[]) {\n",
    "\t\tString str = \"Hello,Elice!JavaProgramming\";\n",
    "        \n",
    "        String abc = \"abc\";\n",
    "        \n",
    "        String name1 = \"Elice\";\n",
    "        String name2 = \"Elice\";\n",
    "                \n",
    "        //지시사항 1번을 참고하여 코드를 작성하세요.\n",
    "        System.out.println(str.charAt(17));\n",
    "        \n",
    "        //지시사항 2번을 참고하여 코드를 작성하세요.\n",
    "        System.out.println(str.concat(abc));\n",
    "        \n",
    "        //지시사항 3번을 참고하여 코드를 작성하세요.\n",
    "        System.out.println(name1.equals(name2));\n",
    "\t}\n",
    "}\n",
    "'''\n",
    "'''\n",
    "r\n",
    "Hello,Elice!JavaProgrammingabc\n",
    "true\n",
    "'''"
   ]
  },
  {
   "cell_type": "markdown",
   "id": "9e456f48",
   "metadata": {},
   "source": [
    "String의 다양한 메소드 (2)\n",
    "앞서 실습했던 메소드 이외에도 다양한 String 메소드들이 존재합니다.\n",
    "\n",
    "메소드 목록은 다음과 같습니다.\n",
    "\n",
    "int length()\n",
    "Copy\n",
    "문자열의 길이를 반환합니다.\n",
    "String     substring(int beginIndex, int endIndex)\n",
    "Copy\n",
    "beginIndex부터 시작해서 endIndex전까지의 문자열을 반환합니다.\n",
    "String toUpperCase()\n",
    "Copy\n",
    "모든 영문자를 대문자로 바꿔서 반환합니다.\n",
    "String toLowerCase()\n",
    "Copy\n",
    "모든 영문자를 소문자로 바꿔서 반환합니다.\n",
    "실습을 진행하면서 String 클래스의 또 다른 메소드들을 익혀봅시다.\n",
    "\n",
    "\n",
    "지시사항\n",
    "length()를 사용하여 str의 길이를 출력하세요.\n",
    "\n",
    "substring()을 사용하여 str에서 “JavaProgramming” 부분만 출력하세요.\n",
    "\n",
    "toUpperCase()를 사용하여 str의 문자가 모두 대문자가 되도록 출력하세요.\n",
    "\n",
    "toLowerCase()를 사용하여 str의 문자가 모두 소문자가 되도록 출력하세요.\n",
    "\n",
    "출력 예시\n",
    "\n",
    "27\n",
    "JavaProgramming\n",
    "HELLO,ELICE!JAVAPROGRAMMING\n",
    "hello,elice!javaprogramming"
   ]
  },
  {
   "cell_type": "code",
   "execution_count": null,
   "id": "59479c91",
   "metadata": {},
   "outputs": [],
   "source": [
    "'''\n",
    "package elice;\n",
    "\n",
    "public class Main {\n",
    "\tpublic static void main(String args[]) {\n",
    "\t\tString str = \"Hello,Elice!JavaProgramming\";\n",
    "        \n",
    "        //지시사항 1번을 참고하여 코드를 작성하세요.\n",
    "        System.out.println(str.length());\n",
    "        \n",
    "        //지시사항 2번을 참고하여 코드를 작성하세요.\n",
    "        System.out.println(str.substring(12));\n",
    "\n",
    "        \n",
    "        //지시사항 3번을 참고하여 코드를 작성하세요.\n",
    "        System.out.println(str.toUpperCase());\n",
    "        \n",
    "        //지시사항 4번을 참고하여 코드를 작성하세요.\n",
    "        System.out.println(str.toLowerCase());\n",
    "        \n",
    "\t}\n",
    "}\n",
    "'''\n",
    "'''\n",
    "27\n",
    "JavaProgramming\n",
    "HELLO,ELICE!JAVAPROGRAMMING\n",
    "hello,elice!javaprogramming\n",
    "'''"
   ]
  },
  {
   "cell_type": "markdown",
   "id": "9c0593b4",
   "metadata": {},
   "source": []
  },
  {
   "cell_type": "markdown",
   "id": "f5160ba0",
   "metadata": {},
   "source": [
    "03. 클래스 소개"
   ]
  },
  {
   "cell_type": "markdown",
   "id": "9304fdbd",
   "metadata": {},
   "source": [
    "클래스\n",
    "\n",
    "속성(데이터)과 기능(메소드)을 묶어 놓은 집합체\n",
    "\n",
    "학생\n",
    "속성(변수, 필드) - 이름, 학번, 성적, 생일\n",
    "기능 - 걷기, 공부하기, 운동하기, 밥먹기"
   ]
  },
  {
   "cell_type": "markdown",
   "id": "0588b6ee",
   "metadata": {},
   "source": [
    "클래스\n",
    "\n",
    "속성(데이터)과 기능(메소드)을 묶어 놓은 집합체\n",
    "\n",
    "String 클래스\n",
    "데이터 - 문자열의 내용 ...\n",
    "\n",
    "메소드 - length, indexOf, replace, equals ..."
   ]
  },
  {
   "cell_type": "markdown",
   "id": "fa88f247",
   "metadata": {},
   "source": [
    "클래스\n",
    "\n",
    "자바 프로그래밍의 중심에는 클래스가 있다.\n",
    "\n",
    "프로그램을 작성한다 =\n",
    "필요한 클래스의 객체를 생성하고\n",
    "그 객체의 속성과 기능을 호출한다."
   ]
  }
 ],
 "metadata": {
  "kernelspec": {
   "display_name": "Python 3",
   "language": "python",
   "name": "python3"
  },
  "language_info": {
   "codemirror_mode": {
    "name": "ipython",
    "version": 3
   },
   "file_extension": ".py",
   "mimetype": "text/x-python",
   "name": "python",
   "nbconvert_exporter": "python",
   "pygments_lexer": "ipython3",
   "version": "3.8.8"
  }
 },
 "nbformat": 4,
 "nbformat_minor": 5
}
