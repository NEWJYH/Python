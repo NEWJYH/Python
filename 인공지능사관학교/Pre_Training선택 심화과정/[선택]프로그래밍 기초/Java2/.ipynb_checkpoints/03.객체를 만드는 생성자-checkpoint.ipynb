{
 "cells": [
  {
   "cell_type": "markdown",
   "id": "eda133df",
   "metadata": {},
   "source": [
    "목 차\n",
    "\n",
    "01.생성자\n",
    "\n",
    "02.생성자 오버로드\n",
    "\n",
    "03.static 변수\n",
    "\n",
    "04.static 메소드\n",
    "\n",
    "05.변수 유효 범위 (scope)"
   ]
  },
  {
   "cell_type": "markdown",
   "id": "4dd655a2",
   "metadata": {},
   "source": []
  },
  {
   "cell_type": "markdown",
   "id": "8aec8c2f",
   "metadata": {},
   "source": [
    "01.생성자"
   ]
  },
  {
   "cell_type": "markdown",
   "id": "10cb09be",
   "metadata": {},
   "source": [
    "생성자\n",
    "\n",
    "인스턴스를 생성할때 new와 함께 사용\n",
    "\n",
    "Example\n",
    "Student s1 = new Student();\n",
    "            --------------- 생성자\n",
    "s1.name = \"Elice\";\n",
    "s1.score = 100;\n",
    "s1.study();"
   ]
  },
  {
   "cell_type": "markdown",
   "id": "5438b8d5",
   "metadata": {},
   "source": [
    "생성자\n",
    "\n",
    "생성자 이름은 클래스 이름과 동일\n",
    "\n",
    "Example\n",
    "Student s1 = new Student();\n",
    "\n",
    "s1.name = \"Elice\";\n",
    "s1.score = 100;\n",
    "s1.study();"
   ]
  },
  {
   "cell_type": "markdown",
   "id": "1b1bb52c",
   "metadata": {},
   "source": [
    "생성자\n",
    "\n",
    "생성자는 멤버 변수, 메소드와 마찬가지로 클래스에서 정의\n",
    "\n",
    "Example\n",
    "class Student{\n",
    "    int number;   // 학번 \n",
    "    int score;    // 시험 점수\n",
    "    String name;  // 이름\n",
    "    public Student() {}      <- 생성자( 생략 가능 : 생략시 기본생성자)\n",
    "    void study(){\n",
    "        System.out.println(\"Studying\"); // 공부하기\n",
    "    }\n",
    "}"
   ]
  },
  {
   "cell_type": "markdown",
   "id": "4077f8ef",
   "metadata": {},
   "source": [
    "생성자\n",
    "\n",
    "생성자를 선언하지 않아도 자동으로 만들어진다.\n",
    "\n",
    "Example\n",
    "class Student{\n",
    "    int number;   // 학번 \n",
    "    int score;    // 시험 점수\n",
    "    String name;  // 이름\n",
    "    // public Student() {}   <- 기본 생성자\n",
    "    void study(){\n",
    "        System.out.println(\"Studying\"); // 공부하기\n",
    "    }\n",
    "}"
   ]
  },
  {
   "cell_type": "markdown",
   "id": "a4d07460",
   "metadata": {},
   "source": [
    "생성자 구현\n",
    "\n",
    "생성자에 인자가 필요하면 명시적으로 구현할 수 있음(예,학번)\n",
    "인스턴스가 생성되는 시점에 수행할 작업이 있는 경우 생성자를 활용"
   ]
  },
  {
   "cell_type": "markdown",
   "id": "21aa1cf1",
   "metadata": {},
   "source": [
    "생성자 구현\n",
    "\n",
    "생성자에 인자를 넘겨 멤버 변수를 초기화하는 등 특정 작업을 수행\n",
    "\n",
    "Example\n",
    "class Student {\n",
    "    String name;\n",
    "    // 생성자\n",
    "    public Student(String pname){\n",
    "        name = pname;\n",
    "        System.out.println(\"Student 인스턴스 생성\");\n",
    "    }\n",
    "}"
   ]
  },
  {
   "cell_type": "markdown",
   "id": "41d97488",
   "metadata": {},
   "source": [
    "this\n",
    "\n",
    "인스턴스 \"자기 자신\"을 나타내는 예약어 : this"
   ]
  },
  {
   "cell_type": "markdown",
   "id": "2a670ae1",
   "metadata": {},
   "source": [
    "this\n",
    "\n",
    "멤버 변수 name을 매개변수 name으로 초기화하면?\n",
    "\n",
    "Example\n",
    "class Student{\n",
    "    String name;\n",
    "    // 생성자\n",
    "    public Student(String name){\n",
    "        name = name; // 둘다 매개변수 name으로 인식\n",
    "    }\n",
    "}"
   ]
  },
  {
   "cell_type": "markdown",
   "id": "3cfb26ba",
   "metadata": {},
   "source": [
    "this\n",
    "\n",
    "this를 이용한 멤버 변수 초기화\n",
    "\n",
    "Example\n",
    "class Student{\n",
    "    String name;\n",
    "    // 생성자\n",
    "    public Student(String name){\n",
    "        this.name = name; \n",
    "        // this.name은 멤버변수, name은 매개변수를 각각 가르킨다.\n",
    "    }\n",
    "}"
   ]
  },
  {
   "cell_type": "markdown",
   "id": "0af3cedd",
   "metadata": {},
   "source": [
    "this\n",
    "\n",
    "매개변수와 멤버 변수의 이름이 다르면\n",
    "this를 쓰지 않아도 상관없다.\n",
    "\n",
    "Example\n",
    "class Student {\n",
    "    String name;\n",
    "    // 생성자\n",
    "    public Student(String pname){\n",
    "        name = pname;\n",
    "    }\n",
    "}"
   ]
  },
  {
   "cell_type": "markdown",
   "id": "6ec33580",
   "metadata": {},
   "source": [
    "this\n",
    "\n",
    "복잡한 소스코드에서\n",
    "변수가 많아지면\n",
    "관리하기 힘든 경우가 발생한다."
   ]
  },
  {
   "cell_type": "markdown",
   "id": "c8bd3825",
   "metadata": {},
   "source": [
    "this\n",
    "\n",
    "멤버 변수와 매개 변수에 같은 이름을 부여하고\n",
    "this로 구분하면 유용하다."
   ]
  },
  {
   "cell_type": "markdown",
   "id": "2d6fd406",
   "metadata": {},
   "source": [
    "[실습1] 생성자 구현하기\n",
    "\n",
    "생성자를 구현해 멤버 변수를 초기화 해봅시다!\n",
    "\n",
    "인스턴스\n",
    "엘리스 토끼\n",
    "  ↕\n",
    "학생 정보\n",
    "생성자 -> 이름"
   ]
  },
  {
   "cell_type": "markdown",
   "id": "71977b8c",
   "metadata": {},
   "source": []
  },
  {
   "cell_type": "markdown",
   "id": "cdd8fd6a",
   "metadata": {},
   "source": [
    "생성자 구현하기\n",
    "Student 클래스의 name 멤버 변수를 초기화해주는 생성자를 만들어 봅시다.\n",
    "\n",
    "Student 클래스의 name을 초기화하지 않고 study() 메소드를 사용하면 name이 null로 출력됩니다.\n",
    "\n",
    "이름이 없는 학생은 존재하지 않으므로 study() 메소드가 자연스럽게 출력되도록 코드를 수정해야 합니다.\n",
    "\n",
    "Student 클래스의 멤버 변수인 name을 생성자를 통해서 초기화해봅시다.\n",
    "\n",
    "\n",
    "지시사항\n",
    "String형 변수 name을 매개 변수로 받는 생성자 Student를 작성하세요.\n",
    "출력 예시\n",
    "\n",
    "Elice Studying"
   ]
  },
  {
   "cell_type": "code",
   "execution_count": null,
   "id": "f7e38f3d",
   "metadata": {},
   "outputs": [],
   "source": [
    "'''\n",
    "package elice;\n",
    "\n",
    "class Student {\n",
    "    String name;\n",
    "\n",
    "    void study() {\n",
    "        System.out.println(name + \" Studying\");\n",
    "    }\n",
    "\n",
    "    \n",
    "    // 지시사항 1번을 참고하여 코드를 작성하세요.\n",
    "    public Student(String name){\n",
    "        this.name = name;\n",
    "    }\n",
    "    \n",
    "    \n",
    "}\n",
    "\n",
    "public class Main {\n",
    "\tpublic static void main(String args[]) {\n",
    "        Student student = new Student(\"Elice\");\n",
    "        \n",
    "        student.study();\n",
    "\t}\n",
    "}\n",
    "'''\n",
    "\n",
    "'''\n",
    "Elice Studying\n",
    "'''"
   ]
  },
  {
   "cell_type": "markdown",
   "id": "b431e44c",
   "metadata": {},
   "source": []
  },
  {
   "cell_type": "markdown",
   "id": "37ad4f00",
   "metadata": {},
   "source": [
    "02.생성자 오버로드"
   ]
  },
  {
   "cell_type": "markdown",
   "id": "1fefc562",
   "metadata": {},
   "source": [
    "생성자 구현 문제\n",
    "\n",
    "Example\n",
    "class Student{\n",
    "    String name;\n",
    "    // 생성자\n",
    "    public Student(String name) {\n",
    "        this.name = name;\n",
    "    }\n",
    "}\n",
    "\n",
    "...\n",
    "\n",
    "Student s = new Student(); // 오류 발생 (인자 x)"
   ]
  },
  {
   "cell_type": "markdown",
   "id": "52775c58",
   "metadata": {},
   "source": [
    "생성자 오버로드\n",
    "\n",
    "생성자를 여러 개 선언할 수도 있다!"
   ]
  },
  {
   "cell_type": "markdown",
   "id": "b917186a",
   "metadata": {},
   "source": [
    "생성자 오버로드\n",
    "\n",
    "생성자를 여러 개 선언할 수도 있다!\n",
    "-> 생성자 오버로드"
   ]
  },
  {
   "cell_type": "markdown",
   "id": "e3f1824f",
   "metadata": {},
   "source": [
    "생성자 오버로드\n",
    "\n",
    "기본 생성자를 직접 추가\n",
    "\n",
    "Example\n",
    "class Student{\n",
    "    String name;\n",
    "    // 기본생성자\n",
    "    public Student(){}\n",
    "    // 인자가 있는 생성자\n",
    "    public Student(String name){\n",
    "        this.name = name;\n",
    "    }\n",
    "}\n",
    "\n",
    "....\n",
    "\n",
    "Student s = new Student(); // 오류 해결"
   ]
  },
  {
   "cell_type": "markdown",
   "id": "4fbee6f9",
   "metadata": {},
   "source": [
    "멤버 변수 초기화\n",
    "\n",
    "Student elice = new Student();\n",
    "\n",
    "Student               elice\n",
    "- name\n",
    "- height       ->\n",
    "- weight     "
   ]
  },
  {
   "cell_type": "markdown",
   "id": "b04217cb",
   "metadata": {},
   "source": [
    "멤버변수 초기화 1 \n",
    "\n",
    "Example\n",
    "class Student{\n",
    "    String name; // 이름\n",
    "    int height;  // 키\n",
    "    int weight;  // 몸무게\n",
    "    // 기본생성자\n",
    "    public Student() {}\n",
    "    // 생성자 오버로딩1\n",
    "    public Student(String name){\n",
    "        this.name = name;\n",
    "    }\n",
    "    // 생성자 오버로딩2\n",
    "    public Student(String name, int height, int weight){\n",
    "        this.name = name;\n",
    "        this.height = height;\n",
    "        this.weight = weight;\n",
    "    }\n",
    "}\n",
    "\n",
    "\n",
    "....\n",
    "\n",
    "Student s = new Student();"
   ]
  },
  {
   "cell_type": "markdown",
   "id": "01cd3e06",
   "metadata": {},
   "source": [
    "멤버변수 초기화 2\n",
    "\n",
    "Student elice = new Student(\"Elice\");\n",
    "\n",
    "Student           Elice\n",
    "- name            \"Elice\"\n",
    "- height    ->\n",
    "- weight \n"
   ]
  },
  {
   "cell_type": "markdown",
   "id": "f0c0964a",
   "metadata": {},
   "source": [
    "멤버변수 초기화 2\n",
    "\n",
    "Example\n",
    "class Student{\n",
    "    String name; // 이름\n",
    "    int height;  // 키\n",
    "    int weight;  // 몸무게\n",
    "    // 기본생성자\n",
    "    public Student() {}\n",
    "    // 생성자 오버로딩1                   - V\n",
    "    public Student(String name){\n",
    "        this.name = name;\n",
    "    }\n",
    "    // 생성자 오버로딩2\n",
    "    public Student(String name, int height, int weight){\n",
    "        this.name = name;\n",
    "        this.height = height;\n",
    "        this.weight = weight;\n",
    "    }\n",
    "}\n",
    "\n",
    "\n",
    "....\n",
    "\n",
    "Student s = new Student(\"Elice\");"
   ]
  },
  {
   "cell_type": "markdown",
   "id": "dbd118ee",
   "metadata": {},
   "source": [
    "멤버변수 초기화 3\n",
    "\n",
    "Student elice = new Student(\"Elice\", 170, 55);\n",
    "\n",
    "Student           Elice\n",
    "- name           \"Elice\"\n",
    "- height     ->   170cm\n",
    "- weight          55kg"
   ]
  },
  {
   "cell_type": "markdown",
   "id": "df165435",
   "metadata": {},
   "source": [
    "멤버변수 초기화 2\n",
    "\n",
    "Example\n",
    "class Student{\n",
    "    String name; // 이름\n",
    "    int height;  // 키\n",
    "    int weight;  // 몸무게\n",
    "    // 기본생성자\n",
    "    public Student() {}\n",
    "    // 생성자 오버로딩1                  \n",
    "    public Student(String name){\n",
    "        this.name = name;\n",
    "    }\n",
    "    // 생성자 오버로딩2\n",
    "    public Student(String name, int height, int weight){          - V\n",
    "        this.name = name;\n",
    "        this.height = height;\n",
    "        this.weight = weight;\n",
    "    }\n",
    "}\n",
    "\n",
    "\n",
    "....\n",
    "\n",
    "Student s = new Student(\"Elice\", 170, 55);"
   ]
  },
  {
   "cell_type": "markdown",
   "id": "f50d16c4",
   "metadata": {},
   "source": [
    "생성자 오버로드\n",
    "\n",
    "이와 같이 필요에 따라 생성자를 여러 개 만들 수 있다."
   ]
  },
  {
   "cell_type": "markdown",
   "id": "6effcd12",
   "metadata": {},
   "source": [
    "앞선 실습 분석\n",
    "\n",
    "기본 생성자가 불필요한 경우\n",
    "\n",
    "Example\n",
    "class Student{\n",
    "    String name; // 이름\n",
    "    int number;  // 학번\n",
    "    public Student(String name){\n",
    "        this.name = name;\n",
    "    }\n",
    "    public Student(String name, int number) {\n",
    "        this.name = name;\n",
    "        this.number = number;\n",
    "    }\n",
    "}"
   ]
  },
  {
   "cell_type": "markdown",
   "id": "155b67a6",
   "metadata": {},
   "source": [
    "[실습2] 생성자 오버로드\n",
    "\n",
    "같은 이름의 생성자를 만들어봅시다!\n",
    "\n",
    "학생                학생\n",
    "이름                학번\n",
    "                    이름"
   ]
  },
  {
   "cell_type": "markdown",
   "id": "41159a5d",
   "metadata": {},
   "source": []
  },
  {
   "cell_type": "markdown",
   "id": "54442b78",
   "metadata": {},
   "source": [
    "생성자 오버로드\n",
    "같은 이름의 메소드, 생성자를 여러 개 만드는 것을 생성자 오버로드라고 부릅니다.\n",
    "\n",
    "이렇게 같은 이름을 가진 생성자끼리는 매개변수로 구별합니다.\n",
    "\n",
    "이번에는 Student 클래스의 생성자를 2개 만들어 봅시다.\n",
    "\n",
    "\n",
    "지시사항\n",
    "String형 매개변수 name을 받아서 name에 대입하는 생성자를 작성하세요.\n",
    "\n",
    "int형 매개변수 number와 String형 매개변수 name을 차례대로 받아서 number와 name에 대입하는 생성자를 작성하세요.\n",
    "\n",
    "Tips\n",
    "생성자와 메소드의 매개변수의 이름이 같을 경우 this 를 사용합니다.\n",
    "\n",
    "this.name = name; // "
   ]
  },
  {
   "cell_type": "code",
   "execution_count": null,
   "id": "24b5ef4d",
   "metadata": {},
   "outputs": [],
   "source": [
    "'''\n",
    "package elice;\n",
    "\n",
    "class Student {\n",
    "    int number;\n",
    "    String name;\n",
    "\n",
    "    void study() {\n",
    "        System.out.println(number + \", \" + name + \" Studying\");\n",
    "    }\n",
    "\n",
    "    // 지시사항 1번을 참고하여 코드를 작성하세요.\n",
    "\n",
    "    public Student(String name){\n",
    "        this.name = name;\n",
    "    }\n",
    "\n",
    "\n",
    "    // 지시사항 2번을 참고하여 코드를 작성하세요.\n",
    "    public Student( int number,String name){\n",
    "        this.number = number;\n",
    "        this.name = name;\n",
    "    }\n",
    "\n",
    "\n",
    "\n",
    "\n",
    "}\n",
    "\n",
    "public class Main {\n",
    "\tpublic static void main(String args[]) {\n",
    "        Student student = new Student(\"Elice\");\n",
    "        \n",
    "        student.number = 42;\n",
    "        student.study();\n",
    "        \n",
    "        Student student2 = new Student(1004, \"James\");\n",
    "        student2.study();\n",
    "\t}\n",
    "}\n",
    "'''\n",
    "'''\n",
    "42, Elice Studying\n",
    "1004, James Studying\n",
    "'''"
   ]
  },
  {
   "cell_type": "markdown",
   "id": "330f57bc",
   "metadata": {},
   "source": []
  },
  {
   "cell_type": "markdown",
   "id": "036b6a80",
   "metadata": {},
   "source": [
    "03.static 변수"
   ]
  },
  {
   "cell_type": "markdown",
   "id": "2fcc29f4",
   "metadata": {},
   "source": [
    "static 키워드\n",
    "\n",
    "static키워드는 클래스 안의 변수와 메소드 앞에 붙일 수 있다.\n",
    "\n",
    "Example\n",
    "public class Student {\n",
    "    static int number;\n",
    "    static void study() {System.out.println(\"공부\");}\n",
    "}"
   ]
  },
  {
   "cell_type": "markdown",
   "id": "bd05015a",
   "metadata": {},
   "source": [
    "static 변수\n",
    "\n",
    "모양과 숫자는 플레잉 카드마다 다르지만 너비와 높이는 동일\n",
    "\n",
    "Example\n",
    "public class Card{\n",
    "    static int width = 10;            // 카드의 너비\n",
    "    static int height = 16;           // 카드의 높이\n",
    "    String shape;                     // 카드의 모양\n",
    "    int number;                       // 카드의 숫자(1 ~ 13)\n",
    "}\n",
    "\n",
    "정적의 : 객체와 관계없이\n",
    "\n",
    "상수 : 변경할수 없음"
   ]
  },
  {
   "cell_type": "markdown",
   "id": "a9458ad0",
   "metadata": {},
   "source": [
    "static 변수\n",
    "\n",
    "프로그램이 실행될 때\n",
    "인스턴스 생성과 상관없이 먼저 생성된다."
   ]
  },
  {
   "cell_type": "markdown",
   "id": "ab3630a0",
   "metadata": {},
   "source": [
    "static 변수\n",
    "\n",
    "width 10              height 16\n",
    "            \n",
    "             공유\n",
    "\n",
    "인스턴스       인스턴스          인스턴스    \n",
    "- 1           - 10              - 7\n",
    "- \"Heart\"     - \"Spade\"         - \"Clover\"\n"
   ]
  },
  {
   "cell_type": "markdown",
   "id": "468642b4",
   "metadata": {},
   "source": [
    "static 변수\n",
    "\n",
    "static 변수의 값이 공유됨을 확인\n",
    "\n",
    "Example\n",
    "Card card1 = new Card();\n",
    "Card card2 = new Card();\n",
    "\n",
    "System.out.println(card1.width); // 10\n",
    "card1.width = 20;\n",
    "System.out.println(card2.width); // 20\n",
    "Card.width = 35;\n",
    "System.out.println(car2.width); // 35"
   ]
  },
  {
   "cell_type": "markdown",
   "id": "f638070b",
   "metadata": {},
   "source": [
    "static 변수\n",
    "\n",
    "프로그램이 시작될 때\n",
    "인스턴스보다 먼저 생성되어 존재한다."
   ]
  },
  {
   "cell_type": "markdown",
   "id": "97726410",
   "metadata": {},
   "source": [
    "static 변수\n",
    "\n",
    "static 변수는 인스턴스와 완전히 별개이며\n",
    "인스턴스가 생성되지 않아도 사용할 수 있다."
   ]
  },
  {
   "cell_type": "markdown",
   "id": "121f776b",
   "metadata": {},
   "source": [
    "static 변수\n",
    "\n",
    "클래스에 속해 한번만 생성되는 변수\n",
    "이를 여러 인스턴스가 공유 \n",
    "클래스 변수라고도 한다."
   ]
  },
  {
   "cell_type": "markdown",
   "id": "76a0af82",
   "metadata": {},
   "source": [
    "static 변수\n",
    "\n",
    "static 변수는 클래스 이름으로 참조해야 한다.\n",
    "\n",
    "Example\n",
    "Card car1 = new Card();\n",
    "Card car2 = new Card();\n",
    "\n",
    "card1.width = 20;                // 바람직하지 않음 ( 컴파일러 경고 발생 )\n",
    "System.out.println(card1.width); // 바람직하지 않음 ( 컴파일러 경고 발생 )\n",
    "Card.width = 35;\n",
    "System.out.println(Card.width);"
   ]
  },
  {
   "cell_type": "markdown",
   "id": "7f1fa388",
   "metadata": {},
   "source": [
    "[실습3] static 변수\n",
    "\n",
    "static 변수를 사용하여 변수의 내용을 공유해봅시다!\n",
    "                   \n",
    "static 너비         : 공유 가능\n",
    "static 높이         : 공유 가능"
   ]
  },
  {
   "cell_type": "markdown",
   "id": "c4730e21",
   "metadata": {},
   "source": []
  },
  {
   "cell_type": "markdown",
   "id": "52f57def",
   "metadata": {},
   "source": [
    "static 변수\n",
    "이번에는 클래스 전체가 공유하는 static 변수를 사용해 보겠습니다.\n",
    "\n",
    "오른쪽 코드의 main 메소드를 보면 Card 클래스를 사용하는 것을 볼 수 있습니다.\n",
    "\n",
    "카드들의 문양과 숫자는 각각 다르지만, 카드의 높이와 너비는 같아야 합니다.\n",
    "\n",
    "main 메소드에서 카드의 너비와 높이의 값을 각각 10, 14로 변경하고 있습니다.\n",
    "\n",
    "카드들의 너비와 높이가 모두 같은 값을 공유하도록 static 변수를 이용해 Card 클래스의 내용을 수정해야 합니다.\n",
    "\n",
    "\n",
    "지시사항\n",
    "변수 width와 height를 각각 static 변수로 바꿔보세요.\n",
    "출력 예시\n",
    "\n",
    "12x16크기의 Spade3\n",
    "12x16크기의 Club5\n",
    "10x14크기의 Spade3\n",
    "10x14크기의 Club5"
   ]
  },
  {
   "cell_type": "code",
   "execution_count": null,
   "id": "1cb4e596",
   "metadata": {},
   "outputs": [],
   "source": [
    "'''\n",
    "package elice;\n",
    "\n",
    "class Card {\n",
    "    // 카드의 너비와 높이가 저장된 변수입니다.\n",
    "    // 지시사항 1번을 참고하여 코드를 작성하세요.\n",
    "    static int width = 12;\n",
    "    static int height = 16;\n",
    "    \n",
    "    \n",
    "    String shape;\n",
    "    int number;\n",
    "\n",
    "    Card(String shape, int number) {\n",
    "        this.shape = shape;\n",
    "        this.number = number;\n",
    "    }\n",
    "}\n",
    "\n",
    "public class Main {    \n",
    "\tpublic static void main(String args[]) {\n",
    "        Card card1 = new Card(\"Spade\", 3);\n",
    "        Card card2 = new Card(\"Club\", 5);\n",
    "        \n",
    "        System.out.println(card1.width + \"x\" + card1.height + \"크기의 \" + card1.shape + card1.number);\n",
    "        System.out.println(card2.width + \"x\" + card2.height + \"크기의 \" + card2.shape + card2.number);\n",
    "        \n",
    "        card1.width = 10;\n",
    "        card1.height = 14;\n",
    "        \n",
    "        System.out.println(card1.width + \"x\" + card1.height + \"크기의 \" + card1.shape + card1.number);\n",
    "        System.out.println(card2.width + \"x\" + card2.height + \"크기의 \" + card2.shape + card2.number);\n",
    "\t}\n",
    "}\n",
    "\n",
    "'''\n",
    "\n",
    "'''\n",
    "12x16크기의 Spade3\n",
    "12x16크기의 Club5\n",
    "10x14크기의 Spade3\n",
    "10x14크기의 Club5\n",
    "'''"
   ]
  },
  {
   "cell_type": "markdown",
   "id": "b2cd2d3d",
   "metadata": {},
   "source": []
  },
  {
   "cell_type": "markdown",
   "id": "4ab414a1",
   "metadata": {},
   "source": [
    "04.static 메소드"
   ]
  },
  {
   "cell_type": "markdown",
   "id": "a23a755b",
   "metadata": {},
   "source": [
    "static 메소드\n",
    "\n",
    "static 변수와 마찬가지로 static메소드 또한 존재\n",
    "\n",
    "Example\n",
    "public class Main{\n",
    "    public static void main(String args[]){\n",
    "    }\n",
    "}\n",
    "static void main 대표적인 예시"
   ]
  },
  {
   "cell_type": "markdown",
   "id": "f1506187",
   "metadata": {},
   "source": [
    "static 메소드\n",
    "\n",
    "static 변수를 이용하여 값을 반환하는 예시\n",
    "\n",
    "Example\n",
    "public class Card{\n",
    "    static int getArea(){\n",
    "        return width * height;\n",
    "    }\n",
    "}\n",
    "- static 메소드에서는 static변수만 참조 가능"
   ]
  },
  {
   "cell_type": "markdown",
   "id": "ded899fe",
   "metadata": {},
   "source": [
    "static 메소드\n",
    "\n",
    "static 메소드에서 멤버 변수를 사용할 수 없다.\n",
    "\n",
    "Example\n",
    "public class Card{\n",
    "    static int getCardValue(){\n",
    "        return shape + number; // Error\n",
    "    }\n",
    "}"
   ]
  },
  {
   "cell_type": "markdown",
   "id": "7b7cde22",
   "metadata": {},
   "source": [
    "static 메소드\n",
    "\n",
    "static 메소드에서 멤버 변수를 사용할 수 없다.\n",
    "-\n",
    "                    일반 메소드        static 메소드\n",
    "        멤버 변수        O                X\n",
    "        static 변수      O                O  "
   ]
  },
  {
   "cell_type": "markdown",
   "id": "0877496b",
   "metadata": {},
   "source": [
    "static 메소드\n",
    "\n",
    "멤버 변수는 인스턴스를 생성 후에 사용 가능\n",
    "static 메소드는 인스턴스를 생성하지 않아도 사용 가능"
   ]
  },
  {
   "cell_type": "markdown",
   "id": "5f031092",
   "metadata": {},
   "source": [
    "static 메소드의 사용\n",
    "\n",
    "인스턴스를 생성할 필요 없이\n",
    "클래스 이름으로 호출 가능"
   ]
  },
  {
   "cell_type": "markdown",
   "id": "ed18e3d8",
   "metadata": {},
   "source": [
    "static메소드의 사용\n",
    "\n",
    "Math 패키지의 메소드는 모두 static 메소드\n",
    "\n",
    "메소드\t설명\n",
    "static double random()\t\n",
    "0.0 이상 1.0 미만의 범위에서 임의의 double형 값을 하나 생성하여 반환함.\n",
    "\n",
    "static double abs(double a)\n",
    "\n",
    "static double abs(float a)\n",
    "\n",
    "static double abs(int a)\n",
    "\n",
    "static double abs(long a)\n",
    "\n",
    "전달된 값이 음수이면 그 값의 절댓값을 반환하며, 전달된 값이 양수이면 인수를 그대로 반환함.\n",
    "\n",
    "static double ceil(double a)\t\n",
    "전달된 double형 값의 소수 부분이 존재하면 소수 부분을 무조건 올리고 반환함.\n",
    "\n",
    "static double floor(double a)\t전달된 double형 값의 소수 부분이 존재하면 소수 부분을 무조건 버리고 반환함.\n",
    "static long round(double a)\n",
    "\n",
    "static int round(float a)\n",
    "\n",
    "전달된 값을 소수점 첫째 자리에서 반올림한 정수를 반환함.\n",
    "\n",
    "static double rint(double a)\t전달된 double형 값과 가장 가까운 정수값을 double형으로 반환함.\n",
    "static double max(double a, double b)\n",
    "\n",
    "static float max(float a, float b)\n",
    "\n",
    "static long max(long a, long b)\n",
    "\n",
    "static int max(int a, int b)\n",
    "\n",
    "전달된 두 값을 비교하여 큰 값을 반환함.\n",
    "\n",
    "static double min(double a, double b)\n",
    "\n",
    "static float min(float a, float b)\n",
    "\n",
    "static long min(long a, long b)\n",
    "\n",
    "static int min(int a, int b)\n",
    "\n",
    "전달된 두 값을 비교하여 작은 값을 반환함.\n",
    "static double pow(double a, double b)\t\n",
    "전달된 두 개의 double형 값을 가지고 제곱 연산을 수행하여, ab을 반환함.\n",
    "\n",
    "static double sqrt(double a)\t\n",
    "전달된 double형 값의 제곱근 값을 반환함.\n",
    "\n",
    "static double sin(double a)\n",
    "\n",
    "static double cos(double a)\n",
    "\n",
    "static double tan(double a)\n",
    "\n",
    "전달된 double형 값에 해당하는 각각의 삼각 함숫값을 반환함.\n",
    "static double toDegrees(double angrad)\t호도법의 라디안 값을 대략적인 육십분법의 각도 값으로 변환함.\n",
    "static double toRaidans(double angdeg)\t육십분법의 각도 값을 대략적인 호도법의 라디안 값으로 변환함."
   ]
  },
  {
   "cell_type": "markdown",
   "id": "94caaf27",
   "metadata": {},
   "source": [
    "static메소드의 사용\n",
    "\n",
    "인스턴스를 만들 필요가 없을 때\n",
    "static 메소드면 충분하다.\n",
    "\n",
    "static 메소드만 모여 있는 클래스를 Util 클래스라고 부른다."
   ]
  },
  {
   "cell_type": "markdown",
   "id": "174f1747",
   "metadata": {},
   "source": [
    "[실습4] static 메소드\n",
    "\n",
    "static 메소드를 구현해 봅시다!\n",
    "\n",
    "카드\n",
    "- 가로\n",
    "- 세로                      -> 넓이\n",
    "- static 메소드"
   ]
  },
  {
   "cell_type": "markdown",
   "id": "131c79bf",
   "metadata": {},
   "source": []
  },
  {
   "cell_type": "markdown",
   "id": "b8efcf09",
   "metadata": {},
   "source": [
    "static 메소드\n",
    "static 멤버 변수를 다루는 static 메소드를 만들어 봅시다.\n",
    "\n",
    "width, height를 이용해 카드의 넓이를 반환하는 메소드를 만들어 보겠습니다.\n",
    "\n",
    "\n",
    "지시사항\n",
    "매개변수가 없고 카드의 넓이의 값을 int형으로 반환하는 메소드 getArea()를 작성하세요.\n",
    "출력 예시\n",
    "\n",
    "카드의 넓이 : 160"
   ]
  },
  {
   "cell_type": "code",
   "execution_count": null,
   "id": "e2cac1a9",
   "metadata": {},
   "outputs": [],
   "source": [
    "'''\n",
    "package elice;\n",
    "\n",
    "class Card {\n",
    "    static int width = 10;\n",
    "    static int height = 16;\n",
    "\n",
    "    String shape;\n",
    "    int number;\n",
    "\n",
    "    Card(String shape, int number) {\n",
    "        this.shape = shape;\n",
    "        this.number = number;\n",
    "    }\n",
    "\n",
    "    // 지시사항 1번을 참고하여 코드를 작성하세요.\n",
    "    static int getArea(){\n",
    "        return Card.width * Card.height;\n",
    "    }\n",
    "\n",
    "\n",
    "}\n",
    "\n",
    "public class Main {    \n",
    "\tpublic static void main(String args[]) {\n",
    "        System.out.println(\"카드의 넓이 : \" + Card.getArea());\n",
    "\t}\n",
    "}\n",
    "\n",
    "'''\n",
    "\n",
    "'''\n",
    "카드의 넓이 : 160\n",
    "'''"
   ]
  },
  {
   "cell_type": "markdown",
   "id": "6918b48d",
   "metadata": {},
   "source": []
  },
  {
   "cell_type": "markdown",
   "id": "2b8aa862",
   "metadata": {},
   "source": [
    "05.변수 유효 범위 (scope)"
   ]
  },
  {
   "cell_type": "markdown",
   "id": "522391bd",
   "metadata": {},
   "source": [
    "변수 유효 범위\n",
    "\n",
    "지금 까지 세 가지 변수를 다룬다.\n",
    "\n",
    "Example\n",
    "public class Card{\n",
    "    static String width = 10;                 // static 변수\n",
    "    int number;                               // 멤버 변수\n",
    "    int drawCardNumber(){\n",
    "        int pnumber;                          // 지역변수\n",
    "        pnumber = getRandomInt(1,13);\n",
    "        return pnumber;\n",
    "    }\n",
    "}"
   ]
  },
  {
   "cell_type": "markdown",
   "id": "1c39fc1c",
   "metadata": {},
   "source": [
    "지역 변수\n",
    "\n",
    "메소드 내부에 선언\n",
    "메소드가 반환될 때 메모리에서 제거된다."
   ]
  },
  {
   "cell_type": "markdown",
   "id": "6d2d579e",
   "metadata": {},
   "source": [
    "멤버 변수\n",
    "\n",
    "인스턴스가 생성될 때 생성\n",
    "인스턴스가 더 이상 쓰이지 않을 때 제거된다.\n",
    "(Garbage collection)"
   ]
  },
  {
   "cell_type": "markdown",
   "id": "d4125633",
   "metadata": {},
   "source": [
    "static 변수\n",
    "\n",
    "프로그램을 실행할 때\n",
    "인스턴스 생성과 무관하게 처음부터 생성\n",
    "프로그램이 끝날 때 삭제"
   ]
  },
  {
   "cell_type": "markdown",
   "id": "22891487",
   "metadata": {},
   "source": [
    "[실습5] 변수 유효 범위 체크하기\n",
    "\n",
    "불러올 수 있는 변수를 확인해봅시다!\n",
    "\n",
    "카드\n",
    "- static 길이\n",
    "- 카드 숫자\n",
    "- 메소드 내 카드 숫자"
   ]
  },
  {
   "cell_type": "markdown",
   "id": "cf457d57",
   "metadata": {},
   "source": []
  },
  {
   "cell_type": "markdown",
   "id": "fcad5096",
   "metadata": {},
   "source": [
    "변수 유효 범위 체크하기\n",
    "지금까지 지역 변수, 멤버 변수, static 변수 이렇게 세 가지 변수를 다루어보았습니다.\n",
    "\n",
    "각 변수의 차이를 알아보기 위해 Card 클래스의 변수 width, number를 출력해 봅시다.\n",
    "\n",
    "pnumber 의 경우 지역 변수이므로 Main 클래스에서 호출할 수 없습니다.\n",
    "\n",
    "\n",
    "지시사항\n",
    "Card 클래스의 static 변수 width를 출력하세요.\n",
    "\n",
    "Card 인스턴스의 멤버 변수 number를 출력하세요.\n",
    "\n",
    "출력 예시\n",
    "\n",
    "10\n",
    "8"
   ]
  },
  {
   "cell_type": "code",
   "execution_count": null,
   "id": "e43e2886",
   "metadata": {},
   "outputs": [],
   "source": [
    "'''\n",
    "package elice;\n",
    "\n",
    "import elice.EliceUtils;\n",
    "\n",
    "class Card {\n",
    "    //클래스 내용은 수정하지 마세요.\n",
    "    \n",
    "    //static 변수\n",
    "    static int width = 10;  \n",
    "    //멤버 변수\n",
    "    int number = 8;                \n",
    "    \n",
    "    int drawCardNumber(){\n",
    "        //지역 변수\n",
    "        int pnumber;           \n",
    "        pnumber = getRandomInt(1, 13);\n",
    "        \n",
    "        return pnumber;\n",
    "    }\n",
    "    \n",
    "    private static int getRandomInt(int min, int max) {\n",
    "        //아래 코드는 min~max의 무작위 정수를 구하는 코드입니다.\n",
    "        int randInt = (int)(Math.random() * max) + min; \n",
    "        return randInt;\n",
    "    }\n",
    "}\n",
    "\n",
    "\n",
    "public class Main {\n",
    "\tpublic static void main(String args[]) {\n",
    "        \n",
    "        Card c = new Card();\n",
    "        //1. 지시사항 1번을 참고하여 코드를 작성하세요.\n",
    "        System.out.println(Card.width);\n",
    "        \n",
    "        \n",
    "        //2. 지시사항 2번을 참고하여 코드를 작성하세요.\n",
    "        System.out.println(c.number);\n",
    "        \n",
    "        \n",
    "\t}\n",
    "}\n",
    "\n",
    "'''\n",
    "\n",
    "'''\n",
    "10\n",
    "8\n",
    "'''"
   ]
  }
 ],
 "metadata": {
  "kernelspec": {
   "display_name": "Python 3",
   "language": "python",
   "name": "python3"
  },
  "language_info": {
   "codemirror_mode": {
    "name": "ipython",
    "version": 3
   },
   "file_extension": ".py",
   "mimetype": "text/x-python",
   "name": "python",
   "nbconvert_exporter": "python",
   "pygments_lexer": "ipython3",
   "version": "3.8.8"
  }
 },
 "nbformat": 4,
 "nbformat_minor": 5
}
