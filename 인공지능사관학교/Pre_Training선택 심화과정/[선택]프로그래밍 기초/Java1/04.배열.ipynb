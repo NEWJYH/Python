{
 "cells": [
  {
   "cell_type": "markdown",
   "id": "ea50c7ee",
   "metadata": {},
   "source": [
    "목 차\n",
    "\n",
    "01. 배열\n",
    "\n",
    "02. 배열과 반복문\n",
    "\n",
    "03. 이차원 배열"
   ]
  },
  {
   "cell_type": "markdown",
   "id": "3e8bc195",
   "metadata": {},
   "source": [
    "그냥 성적처리\n",
    "\n",
    "국어 성적 \n",
    "int korElice = 30;\n",
    "\n",
    "int korJane = 85;\n",
    "\n",
    "int korBob = 90;\n",
    "\n",
    "int korHarry = 100;"
   ]
  },
  {
   "cell_type": "markdown",
   "id": "83010c9a",
   "metadata": {},
   "source": [
    "조금 바꾼 성적처리!\n",
    "\n",
    "국어성적 85 30 100 90\n",
    "       제인, 앨리스, 해리, 밥"
   ]
  },
  {
   "cell_type": "markdown",
   "id": "bc4e9da2",
   "metadata": {},
   "source": [
    "배열이란?\n",
    "\n",
    "동일한 자료형의 데이터 여러 개를 저장하는 자료구조\n",
    "배열의 이름은 한 개\n",
    "\n",
    "int\n",
    "1 2 3 5 8 6 0 4 7 9\n",
    "\n",
    "String\n",
    "\"spring\"  \"summer\" \"fall\"   \"winter\"\n",
    "\n",
    "double\n",
    "95.3  -15.7  0.0   30.1\n",
    "\n",
    "boolean\n",
    "true true false false"
   ]
  },
  {
   "cell_type": "markdown",
   "id": "e3c0404f",
   "metadata": {},
   "source": [
    "배열을 사용하기 위해서는!\n",
    "\n",
    "1. 배열의 선언\n",
    "\n",
    "2. 배열의 생성\n",
    "\n",
    "3. 배열의 사용"
   ]
  },
  {
   "cell_type": "markdown",
   "id": "01c97a20",
   "metadata": {},
   "source": [
    "배열의 선언\n",
    "\n",
    "Example\n",
    "배열안에 저장되는 자료형 -> int[] data; <- 배열의 이름"
   ]
  },
  {
   "cell_type": "markdown",
   "id": "009d68e1",
   "metadata": {},
   "source": [
    "배열의 선언\n",
    "\n",
    "Example\n",
    "int[10] data; X\n",
    "배열 선언시에는 배열의 길이가 아직\n",
    "정해지지 않았으므로 표시하면 안됨"
   ]
  },
  {
   "cell_type": "markdown",
   "id": "14cd04cc",
   "metadata": {},
   "source": [
    "배열의 생성\n",
    "\n",
    "Example\n",
    "int[] data; // 선언\n",
    "data = new int[3]; // 생성\n",
    "\n",
    "data = new  int   3\n",
    "data 배열이름  \n",
    "new  배열 생성을 위한 키워드\n",
    "int  배열안에 저장되는 자료형\n",
    "3    배열의 길이"
   ]
  },
  {
   "cell_type": "markdown",
   "id": "725a58e4",
   "metadata": {},
   "source": [
    "배열의 생성\n",
    "\n",
    "배열을 생성하게 되면\n",
    "배열 안에 저장되는 자료형에 따라\n",
    "초기값(default value)이 들어있다."
   ]
  },
  {
   "cell_type": "markdown",
   "id": "271cd63d",
   "metadata": {},
   "source": [
    "배열의 초기값\n",
    "\n",
    "배열 안 자료형         초기값\n",
    "정수형                 0\n",
    "실수형                 0.0\n",
    "논리형                 false\n",
    "문자열                 null"
   ]
  },
  {
   "cell_type": "markdown",
   "id": "ea1344be",
   "metadata": {},
   "source": [
    "배열의 생성\n",
    "\n",
    "Example\n",
    "int[] data = new int[3];\n",
    "   ↓\n",
    "0        0        0"
   ]
  },
  {
   "cell_type": "markdown",
   "id": "71bc3f9f",
   "metadata": {},
   "source": [
    "배열의 인덱스\n",
    "\n",
    "Example\n",
    "int[] data = new int[3];\n",
    "   ↓\n",
    "0        0        0\n",
    "data[0]  data[1]   data[2]"
   ]
  },
  {
   "cell_type": "markdown",
   "id": "0ab3da47",
   "metadata": {},
   "source": [
    "배열의 인덱스\n",
    "\n",
    "배열의 인덱스는 0부터 시작한다."
   ]
  },
  {
   "cell_type": "markdown",
   "id": "fa79d741",
   "metadata": {},
   "source": [
    "배열의 생성\n",
    "\n",
    "Example\n",
    "double[] points = new double[100];\n",
    "\n",
    "0.0 ........................ 0.0\n",
    "[0] .........................[99]"
   ]
  },
  {
   "cell_type": "markdown",
   "id": "fa3b5290",
   "metadata": {},
   "source": [
    "배열의 생성\n",
    "\n",
    "Example\n",
    "String[] message = new String[100];\n",
    "\n",
    "null ........................ null\n",
    "[0] .........................[99]"
   ]
  },
  {
   "cell_type": "markdown",
   "id": "f7c7d900",
   "metadata": {},
   "source": [
    "배열의 사용\n",
    "\n",
    "Example\n",
    "int[] data = new int[3];\n",
    "data[0] = 123;\n",
    "\n",
    "data 배열이름\n",
    "[0] 배열 안에서 위치(index)\n",
    "123 배열 안에 넣을 값"
   ]
  },
  {
   "cell_type": "markdown",
   "id": "779b2bd8",
   "metadata": {},
   "source": [
    "정수형 배열의 사용\n",
    "\n",
    "Example\n",
    "\n",
    "int[] data;\n",
    "data = new int[3];\n",
    "data[0] = 123;\n",
    "data[1] = 345;\n",
    "data[2] = 597;"
   ]
  },
  {
   "cell_type": "markdown",
   "id": "1ebaf9aa",
   "metadata": {},
   "source": [
    "배열의 길이\n",
    "\n",
    "배열 안에 저장할 수 있는 데이터 개수\n",
    "\n",
    "Example\n",
    "배열이름.length;"
   ]
  },
  {
   "cell_type": "markdown",
   "id": "76ddfcda",
   "metadata": {},
   "source": [
    "배열의 길이\n",
    "\n",
    "Example\n",
    "int[] scores = new int[3];\n",
    "scores[0] = 28;\n",
    "scores[1] = 64;\n",
    "scores[2] = 75;\n",
    "\n",
    "scores\n",
    "28     64      75\n",
    "0       1       2\n",
    "\n",
    "scores.length = 3"
   ]
  },
  {
   "cell_type": "markdown",
   "id": "8a62c0ce",
   "metadata": {},
   "source": [
    "배열의 길이와 index\n",
    "\n",
    "Example\n",
    "int[] scores = new int[170];\n",
    "\n",
    "Example\n",
    "scores의 마지막 index == scores.length - 1"
   ]
  },
  {
   "cell_type": "markdown",
   "id": "d3e9b475",
   "metadata": {},
   "source": [
    "다른 방법으로 배열 사용하기\n",
    "\n",
    "배열의 선언, 생성, 초기화를 한번에!"
   ]
  },
  {
   "cell_type": "markdown",
   "id": "ba4d5293",
   "metadata": {},
   "source": [
    "배열의 초기화 선언\n",
    "\n",
    "Example\n",
    "int[] scores = {100, 45, 67, 88, 94};\n",
    "double[] nums= {2.3, 4.5, 6.7, 9.0, 3.9};\n",
    "boolean[] flags = {true, false, false};\n",
    "char[] signs = { 'q', 'w', 'e', 'r', 't', 'y'};"
   ]
  },
  {
   "cell_type": "markdown",
   "id": "a307ff1d",
   "metadata": {},
   "source": [
    "배열의 초기화 선언\n",
    "\n",
    "Example\n",
    "int[] data = new int[500];\n",
    "[0]                       [499]"
   ]
  },
  {
   "cell_type": "markdown",
   "id": "57e3dd9c",
   "metadata": {},
   "source": [
    "[실습1] 배열 생성과 출력\n",
    "\n",
    "배열을 생성하여 값을 넣어봅시다!\n",
    "\n",
    "0 -> iArray[0]\n",
    "1 -> iArray[1]\n",
    "2 -> iArray[2]"
   ]
  },
  {
   "cell_type": "markdown",
   "id": "f66df6a8",
   "metadata": {},
   "source": [
    "[실습2] 배열의 길이 확인하기\n",
    "\n",
    "length를 사용하여 배열의 길이를 출력해봅시다!"
   ]
  },
  {
   "cell_type": "markdown",
   "id": "1157a34a",
   "metadata": {},
   "source": []
  },
  {
   "cell_type": "markdown",
   "id": "5799fd10",
   "metadata": {},
   "source": [
    "배열 생성과 출력\n",
    "배열을 사용하면 다수의 데이터를 한 번에 관리할 수 있습니다.\n",
    "\n",
    "int [] data = new int[5];\n",
    "\n",
    "이 코드는 길이가 5인 배열을 생성합니다.\n",
    "\n",
    "각 배열의 요소는 다음과 같이 접근할 수 있습니다.\n",
    "\n",
    "data[0]\n",
    "data[1]\n",
    "...\n",
    "\n",
    "배열을 생성하는 법과 의미를 이해하셨나요?\n",
    "\n",
    "배열을 생성하고 출력하는 실습을 진행해 봅시다.\n",
    "\n",
    "\n",
    "지시사항\n",
    "정수형 배열 iArray의 크기를 3으로 선언하세요.\n",
    "\n",
    "각 배열의 공간에 각각 1, 2, 3을 넣으세요."
   ]
  },
  {
   "cell_type": "code",
   "execution_count": null,
   "id": "b6cf2665",
   "metadata": {},
   "outputs": [],
   "source": [
    "'''\n",
    "package elice;\n",
    "\n",
    "public class Main {\n",
    "\tpublic static void main(String args[]) {\n",
    "        // 지시사항 1번을 참고하여 코드를 작성하세요.\n",
    "\t\tint[] iArray = new int[3];\n",
    "        \n",
    "        // 지시사항 2번을 참고하여 코드를 작성하세요.\n",
    "        for (int i = 0; i<=2; ++i){\n",
    "            iArray[i] = i+1;\n",
    "        }\n",
    "        System.out.println(\"iArray[0] : \" + iArray[0]);\n",
    "        System.out.println(\"iArray[1] : \" + iArray[1]);\n",
    "        System.out.println(\"iArray[2] : \" + iArray[2]);\n",
    "    }\n",
    "}\n",
    "'''\n",
    "'''\n",
    "iArray[0] : 1\n",
    "iArray[1] : 2\n",
    "iArray[2] : 3\n",
    "'''"
   ]
  },
  {
   "cell_type": "markdown",
   "id": "2e1f26bc",
   "metadata": {},
   "source": [
    "배열 길이 확인하기\n",
    "오른쪽 코드에는 배열 iArray가 있습니다. 하지만 이 배열의 길이가 몇 인지 한눈에 파악하기 어렵습니다.\n",
    "\n",
    "다음 코드를 사용해 배열의 길이를 손쉽게 알 수 있습니다.\n",
    "\n",
    "iArray.length\n",
    "Copy\n",
    "length를 이용해 배열의 길이를 출력해 보고 배열의 길이로 배열의 마지막 값을 출력해 봅시다.\n",
    "\n",
    "\n",
    "지시사항\n",
    "length를 이용해 배열 iArray의 길이를 출력하세요.\n",
    "\n",
    "iArray의 마지막 값을 length를 이용하여 출력하세요.\n",
    "\n",
    "출력 예시\n",
    "\n",
    "iArray의 길이 : 29\n",
    "iArray의 마지막 값 : 4\n",
    "Copy\n",
    "Tips\n",
    "iArray의 마지막 값을 length를 이용해 표현하려면 배열[배열의 길이 -1]로 하면 됩니다."
   ]
  },
  {
   "cell_type": "code",
   "execution_count": null,
   "id": "bee93732",
   "metadata": {},
   "outputs": [],
   "source": [
    "'''\n",
    "package elice;\n",
    "\n",
    "public class Main {\n",
    "\tpublic static void main(String args[]) {\n",
    "        int [] iArray = {1, 2, 3, 4, 5, 4, 3, 5, 4, 2, 3, 5, 4, 6, 2, 7, 1, 2, 7, 3, 9, 8, 5, 9, 4, 7, 6, 8, 4};\n",
    "        \n",
    "        // 지시사항 1번을 참고하여 코드를 작성하세요.\n",
    "        System.out.println(\"iArray의 길이 : \" + iArray.length);\n",
    "        \n",
    "        // 지시사항 2번을 참고하여 코드를 작성하세요.\n",
    "        System.out.println(\"iArray의 마지막 값 : \" + iArray[iArray.length - 1]);\n",
    "\t}\n",
    "}\n",
    "'''\n",
    "'''\n",
    "iArray의 길이 : 29\n",
    "iArray의 마지막 값 : 4\n",
    "'''"
   ]
  },
  {
   "cell_type": "markdown",
   "id": "508a2610",
   "metadata": {},
   "source": []
  },
  {
   "cell_type": "markdown",
   "id": "776365c4",
   "metadata": {},
   "source": [
    "02. 배열과 반복문"
   ]
  },
  {
   "cell_type": "markdown",
   "id": "c07be1bc",
   "metadata": {},
   "source": [
    "배열 안의 데이터 처리\n",
    "\n",
    "배열안의 모든 데이터를 출력하라!"
   ]
  },
  {
   "cell_type": "markdown",
   "id": "5b00eb23",
   "metadata": {},
   "source": [
    "배열 안의 데이터 처리\n",
    "\n",
    "Example\n",
    "System.out.println(data[0]);\n",
    "System.out.println(data[1]);\n",
    "System.out.println(data[2]);\n",
    "System.out.println(data[3]);\n",
    "System.out.println(data[4]);\n",
    "System.out.println(data[5]);\n",
    "....\n",
    "System.out.println(data[499]);"
   ]
  },
  {
   "cell_type": "markdown",
   "id": "fe3e50e9",
   "metadata": {},
   "source": [
    "배열 안의 데이터 처리\n",
    "\n",
    "Example\n",
    "int[] data = new int[500];\n",
    "\n",
    "for (int i = 0; i < 500; ++i) {\n",
    "    System.out.println(data[i]);\n",
    "}"
   ]
  },
  {
   "cell_type": "markdown",
   "id": "12114d45",
   "metadata": {},
   "source": [
    "배열 안의 데이터 처리\n",
    "\n",
    "Example\n",
    "int[] data = new int[500];\n",
    "\n",
    "for (int i = 0; i < data.length; ++i) {\n",
    "    System.out.println(data[i]);\n",
    "}"
   ]
  },
  {
   "cell_type": "markdown",
   "id": "70f3863b",
   "metadata": {},
   "source": [
    "향상된 for문(for each 문)\n",
    "\n",
    "Example\n",
    "int[] data = new int[500];\n",
    "\n",
    "for (int x : data) {\n",
    "    System.out.println(x);\n",
    "}"
   ]
  },
  {
   "cell_type": "markdown",
   "id": "ec2fbdd0",
   "metadata": {},
   "source": [
    "배열 안의 데이터 처리\n",
    "\n",
    "Example\n",
    "String[] names = {\"tommy\", \"jane\", \"bill\"};\n",
    "\n",
    "for (String x : names) {\n",
    "    System.out.println(x);\n",
    "}"
   ]
  },
  {
   "cell_type": "markdown",
   "id": "ce1ca226",
   "metadata": {},
   "source": [
    "[실습3] 반복문으로 배열 사용하기\n",
    "\n",
    "for 문을 사용하여 모든 배열의 요소를 출력해봅시다!"
   ]
  },
  {
   "cell_type": "markdown",
   "id": "e95114e4",
   "metadata": {},
   "source": [
    "[실습4] 평균 구하기\n",
    "\n",
    "grades 배열의 들어있는 모든 값을 더해 평균을 구해봅시다!\n",
    "85 30 100 90 -> 평균"
   ]
  },
  {
   "cell_type": "markdown",
   "id": "dbc37e80",
   "metadata": {},
   "source": [
    "[실습5] 첫 짝수 찾기\n",
    "\n",
    "배열의 값을 차례로 검사해 처음으로 나오는 짝수를 찾아봅시다!\n",
    "\n",
    "85 30 100 90\n",
    "\n",
    "30 출력"
   ]
  },
  {
   "cell_type": "markdown",
   "id": "5ee2d20f",
   "metadata": {},
   "source": [
    "[실습6] 향상된 for문\n",
    "\n",
    "향상된 for문을 사용하여 배열의 있는 모든 값을 출력해봅시다!"
   ]
  },
  {
   "cell_type": "markdown",
   "id": "bf748dfb",
   "metadata": {},
   "source": []
  },
  {
   "cell_type": "markdown",
   "id": "ea34c39f",
   "metadata": {},
   "source": [
    "반복문으로 배열 사용하기\n",
    "이번에는 배열의 모든 요소를 출력하는 프로그램을 작성해보겠습니다.\n",
    "\n",
    "크기가 10인 정수형 배열의 모든 요소는 아래와 같이 출력문을 10번 사용하여 출력할 수 있습니다.\n",
    "\n",
    "int[] data = new int[10];\n",
    "\n",
    "System.out.println(data[0]);\n",
    "System.out.println(data[1]);\n",
    "...\n",
    "...\n",
    "System.out.println(data[8]);\n",
    "System.out.println(data[9]);\n",
    "Copy\n",
    "하지만 반복문과 배열의 크기를 알려주는 length를 활용하면 이보다 효율적으로 코드를 작성할 수 있습니다.\n",
    "\n",
    "for(int i = 0; i < data.length; i++){\n",
    "    System.out.println(data[i]);\n",
    "}\n",
    "Copy\n",
    "위의 예시를 활용해서 다음의 실습을 진행해봅시다.\n",
    "\n",
    "\n",
    "지시사항\n",
    "1. for문을 사용하여 배열의 처음부터 끝까지 모든 데이터를 출력하는 코드를 작성하세요.\n",
    "\n",
    "출력 예시\n",
    "\n",
    "1\n",
    "2\n",
    "3\n",
    "4\n",
    "5\n",
    "Copy\n",
    "Tips\n",
    "int[] iArray = new int[] {1, 2, 3, 4, 5};\n",
    "Copy\n",
    "위와 같이 작성된 코드는\n",
    "\n",
    "int[] iArray = {1, 2, 3, 4, 5};\n",
    "Copy\n",
    "이렇게도 작성하실 수 있습니다."
   ]
  },
  {
   "cell_type": "code",
   "execution_count": null,
   "id": "44a7e84e",
   "metadata": {},
   "outputs": [],
   "source": [
    "'''\n",
    "package elice;\n",
    "\n",
    "public class Main {\n",
    "\tpublic static void main(String args[]) {\n",
    "        int[] iArray = new int[] {1, 2, 3, 4, 5};\n",
    "        \n",
    "        // 지시사항 1번을 참고하여 코드를 작성하세요.\n",
    "        for (int i = 0; i < iArray.length; ++i){\n",
    "            System.out.println(iArray[i]);\n",
    "        }\n",
    "\t}\n",
    "}\n",
    "'''\n",
    "\n",
    "'''\n",
    "1\n",
    "2\n",
    "3\n",
    "4\n",
    "5\n",
    "'''"
   ]
  },
  {
   "cell_type": "markdown",
   "id": "95f1334c",
   "metadata": {},
   "source": [
    "평균 구하기\n",
    "grades 배열에 학생들의 성적이 저장되어 있습니다.\n",
    "\n",
    "배열 grades에 저장된 모든 성적의 평균값을 출력하는 코드를 작성해 봅시다.\n",
    "\n",
    "평균을 구하기 위해서는 성적의 총합을 구하고 이를 학생 수로 나누어야 합니다.\n",
    "\n",
    "우선 배열의 모든 인덱스를 조회하여 총합을 구한 뒤 학생 수, 즉 배열의 크기로 나누어 평균을 구하는 실습을 진행해봅시다.\n",
    "\n",
    "\n",
    "지시사항\n",
    "학생들의 성적 총합을 저장할 int형 변수 sum을 0으로 초기화 하세요.\n",
    "\n",
    "배열의 모든 데이터를 for문이 동작하는 동안 sum에 저장될 수 있도록 코드를 작성하세요.\n",
    "\n",
    "**int형 변수 average**에 sum을 배열의 길이로 나눈 값으로 초기화 하세요.\n",
    "\n",
    "출력 예시\n",
    "\n",
    "83\n",
    "Copy\n",
    "Tips\n",
    "+=는 복합대입 연산자이며, a += 1은 a = a + 1과 같은 의미를 갖는 코드입니다.\n",
    "\n",
    "-=, *=, /=등의 다른 복합대입 연산자도 있습니다."
   ]
  },
  {
   "cell_type": "code",
   "execution_count": null,
   "id": "190b69fa",
   "metadata": {},
   "outputs": [],
   "source": [
    "'''\n",
    "package elice;\n",
    "\n",
    "public class Main {\n",
    "\tpublic static void main(String args[]) {\n",
    "        int[] grades = new int[] {100, 90, 70, 85, 60, 100, 90, 85, 75, 50, 65, 95, 90, 100, 75, 100, 70, 90, 95, 75};\n",
    "        \n",
    "        // 지시사항 1번을 참고하여 코드를 작성하세요.\n",
    "        int sum = 0;\n",
    "        for (int i = 0; i < grades.length; i++) {\n",
    "            // 지시사항 2번을 참고하여 코드를 작성하세요.\n",
    "            sum += grades[i];\n",
    "        }\n",
    "        // 지시사항 3번을 참고하여 코드를 작성하세요.\n",
    "        int average = sum/grades.length;\n",
    "        System.out.println(average);\n",
    "\t}\n",
    "}\n",
    "'''"
   ]
  },
  {
   "cell_type": "markdown",
   "id": "a9207a19",
   "metadata": {},
   "source": [
    "첫 짝수 찾기\n",
    "이번에는 배열에서 처음으로 나오는 짝수를 찾아봅시다.\n",
    "\n",
    "짝수가 배열의 어디에 있을지 모르기 때문에 처음부터 끝까지 모든 인덱스를 확인해야 합니다.\n",
    "\n",
    "계속해서 배열 안을 탐색하면서 짝수를 만나면 그 수를 출력하고, 바로 반복문을 탈출하는 코드를 작성해봅시다.\n",
    "\n",
    "\n",
    "지시사항\n",
    "if문을 사용하여 배열 값에서 짝수를 찾았다면 그 수를 출력하고 반복문을 탈출하는 코드를 작성하세요.\n",
    "출력 예시\n",
    "\n",
    "142\n",
    "Copy\n",
    "Tips\n",
    "for문안에 if문을 작성해야 하므로 돌아가는 원리에 대해 생각해 봅시다."
   ]
  },
  {
   "cell_type": "code",
   "execution_count": null,
   "id": "e942099c",
   "metadata": {},
   "outputs": [],
   "source": [
    "'''\n",
    "package elice;\n",
    "\n",
    "public class Main {\n",
    "\tpublic static void main(String args[]) {\n",
    "        // 아래 코드는 문제 해결을 위해 기본적으로 제공되는 코드입니다. 수정하지 마세요!\n",
    "        int[] iArray = new int[] {1, 5, 3, 43, 31, 65, 8865, 243, 7743, 13245, 9541, 375, 142, 3645, 8357, 2734, 6845, 184835, 2, 1};\n",
    "        \n",
    "        for (int i = 0; i < iArray.length; i++) {\n",
    "            // 지시사항 1번을 참고하여 코드를 작성하세요.\n",
    "            if (iArray[i] % 2 == 0){\n",
    "                System.out.println(iArray[i]);\n",
    "                break;\n",
    "            }\n",
    "        }\n",
    "\t}\n",
    "}\n",
    "'''\n",
    "'''\n",
    "142\n",
    "'''"
   ]
  },
  {
   "cell_type": "markdown",
   "id": "37e92dfe",
   "metadata": {},
   "source": [
    "향상된 for문\n",
    "반복문으로 배열의 요소에 접근하는 또 다른 방법을 소개합니다.\n",
    "\n",
    "for(int i : data) {\n",
    "System.out.println(i);\n",
    "}\n",
    "Copy\n",
    "위와 같이 작성하면 int형 배열 data의 요소 하나하나를 순차적으로 i라는 변수를 통해 사용할 수 있습니다.\n",
    "\n",
    "i를 출력할 경우 배열 data의 요소들이 차례대로 출력됩니다.\n",
    "\n",
    "향상된 for문을 잘 활용해서 실습을 진행해 봅시다.\n",
    "\n",
    "\n",
    "지시사항\n",
    "sum에 i를 더해 배열의 값을 저장하는 코드를 작성하세요.\n",
    "출력 예시\n",
    "\n",
    "1\n",
    "2\n",
    "3\n",
    "4\n",
    "5\n",
    "Sum = 15"
   ]
  },
  {
   "cell_type": "code",
   "execution_count": null,
   "id": "c63680ed",
   "metadata": {},
   "outputs": [],
   "source": [
    "'''\n",
    "package elice;\n",
    "\n",
    "public class Main {\n",
    "\tpublic static void main(String args[]) {\n",
    "\t\tint[] iArray = new int[] {1, 2, 3, 4, 5};\n",
    "        \n",
    "        \n",
    "        for(int i : iArray) {\n",
    "            System.out.println(i);\n",
    "        }\n",
    "        \n",
    "        int sum = 0;\n",
    "        for(int i : iArray) {\n",
    "            // 지시사항 1번을 참고하여 코드를 작성하세요.\n",
    "            sum += i;\n",
    "        }\n",
    "        System.out.println(\"Sum = \" + sum);\n",
    "\t}\n",
    "}\n",
    "\n",
    "'''\n",
    "\n",
    "'''\n",
    "1\n",
    "2\n",
    "3\n",
    "4\n",
    "5\n",
    "Sum = 15\n",
    "'''"
   ]
  },
  {
   "cell_type": "markdown",
   "id": "cf19cd11",
   "metadata": {},
   "source": []
  },
  {
   "cell_type": "markdown",
   "id": "54358f3d",
   "metadata": {},
   "source": [
    "03. 이차원 배열"
   ]
  },
  {
   "cell_type": "markdown",
   "id": "f5d8bdb6",
   "metadata": {},
   "source": [
    "이차원 배열의 필요성\n",
    "\n",
    "배열을 이용하여 학생이 많은 경우에도\n",
    "성적을 편리하게 관리\n",
    "\n",
    "국어 성적 85 30 100 90"
   ]
  },
  {
   "cell_type": "markdown",
   "id": "8ae5be60",
   "metadata": {},
   "source": [
    "이차원 배열의 필요성\n",
    "\n",
    "수학 성적도 배열로 만들어봅시다.\n",
    "\n",
    "국어성적 85 30 100 90\n",
    "수학성적 70 100 40 65"
   ]
  },
  {
   "cell_type": "markdown",
   "id": "838ca7a0",
   "metadata": {},
   "source": [
    "이차원 배열의 필요성\n",
    "\n",
    "영어, 과학, 음악 ...\n",
    "계속 과목이 추가된다면?\n",
    "\n",
    "국어성적 85 30 100 90\n",
    "수학성적 70 100 40 65"
   ]
  },
  {
   "cell_type": "markdown",
   "id": "06605ddb",
   "metadata": {},
   "source": [
    "이차원 배열의 필요성\n",
    "\n",
    "각 요소가 배열로 구성된 배열으 사용해봅시다!\n",
    "\n",
    "전체 성적\n",
    "\n",
    "[0] 85 30 100 90 국어\n",
    "[1] 70 100 40 65 수학\n",
    "[2] 85 30 100 90 영어\n",
    "[3] 70 100 40 65 과학\n",
    "\n",
    "[] - 1차원\n",
    "[][] - 2차원"
   ]
  },
  {
   "cell_type": "markdown",
   "id": "7450e182",
   "metadata": {},
   "source": [
    "이차원 배열이란?\n",
    "\n",
    "각 요소가 일차원 배열인 배열\n",
    "이차원 이상의 배열은 다 차원 배열"
   ]
  },
  {
   "cell_type": "markdown",
   "id": "8638592b",
   "metadata": {},
   "source": [
    "이차원 배열의 생성\n",
    "\n",
    "Example\n",
    "int[][] data = {{1,2,3},{4,5,6}};\n",
    "-\n",
    "            data[0][0]      data[0][1]     data[0][2]\n",
    "data[0]          1             2               3\n",
    "          -\n",
    "data[1]          4             5               6 \n",
    "            data[1][0]      data[1][1]     data[1][2]"
   ]
  },
  {
   "cell_type": "markdown",
   "id": "fa95d925",
   "metadata": {},
   "source": [
    "이차원 배열이 구조\n",
    "\n",
    "int[][] data = {{1,2,3},{4,5,6}};\n",
    "\n",
    "-\n",
    "            data[0][0]      data[0][1]     data[0][2]\n",
    "data[0]          1             2               3\n",
    "          -\n",
    "data[1]          4             5               6 \n",
    "            data[1][0]      data[1][1]     data[1][2]\n",
    "            \n",
    "Example\n",
    "data.length == 2\n",
    "data[0].length == 3\n",
    "data[1].length == 3"
   ]
  },
  {
   "cell_type": "markdown",
   "id": "8afb3615",
   "metadata": {},
   "source": [
    "이차원 배열의 사용\n",
    "\n",
    "int[][] data = {{1,2,3},{4,5,6}};\n",
    "\n",
    "for (int i = 0; data.length; i++) {\n",
    "    for (int j = 0; data[i].length; j++) {\n",
    "        System.out.println(data[i][j]);\n",
    "    }\n",
    "}"
   ]
  },
  {
   "cell_type": "markdown",
   "id": "9b90dfc5",
   "metadata": {},
   "source": [
    "[실습7] 이차원 배열\n",
    "\n",
    "이차원 배열 안에 같은 값을 모두 넣어 봅시다!\n",
    "\n",
    "10 => iArray[0][0] iArray[1][0]\n",
    "      iArray[0][1] iArray[1][1]\n",
    "      iArray[0][2] iArray[1][2]\n",
    "      "
   ]
  },
  {
   "cell_type": "markdown",
   "id": "57be0908",
   "metadata": {},
   "source": [
    "[실습8] 이차원 배열 반복하기\n",
    "\n",
    "이차원 배열 안에 있는 모든 값을 출력해봅시다!"
   ]
  },
  {
   "cell_type": "markdown",
   "id": "28b4e243",
   "metadata": {},
   "source": []
  },
  {
   "cell_type": "markdown",
   "id": "a949271c",
   "metadata": {},
   "source": [
    "이차원 배열\n",
    "앞에서 여러 데이터를 엮는 방법으로 배열을 배웠습니다.\n",
    "\n",
    "그렇다면 표처럼 2차원으로 엮기 위해서는 어떻게 해야 할까요? 또 3차원, 4차원으로 늘어난다면 어떻게 해야 할까요?\n",
    "\n",
    "int [][] data = new int[2][3];\n",
    "Copy\n",
    "위 코드를 이용해서 배열의 배열, 즉 이차원 배열을 만들 수 있습니다.\n",
    "\n",
    "또 다음 코드를 사용해서 배열의 요소를 다룰 수 있습니다.\n",
    "\n",
    "data[0][0]\n",
    "data[0][1]\n",
    "data[1][0]\n",
    ".\n",
    ".\n",
    ".\n",
    "Copy\n",
    "위의 예시 코드를 참고해서 이차원 배열을 생성하고 그 배열을 출력하는 실습을 진행해 봅시다.\n",
    "\n",
    "\n",
    "지시사항\n",
    "배열 data의 모든 값에 10을 넣으세요.\n",
    "출력 예시\n",
    "\n",
    "data[0] : [10, 10, 10]\n",
    "data[1] : [10, 10, 10]\n",
    "Copy\n",
    "Tips\n",
    "일일이 값을 다 넣어도 되지만 for문을 이용해서 값을 넣어줄 수도 있습니다."
   ]
  },
  {
   "cell_type": "code",
   "execution_count": null,
   "id": "ee6ab7db",
   "metadata": {},
   "outputs": [],
   "source": [
    "'''\n",
    "package elice;\n",
    "\n",
    "public class Main {\n",
    "\tpublic static void main(String args[]) {\n",
    "        \n",
    "        int [][] data = new int[2][3];\n",
    "        \n",
    "        // 지시사항 1번을 참고하여 코드를 작성하세요.\n",
    "        for (int i = 0; i < data.length; ++i){\n",
    "            for (int j = 0; j < data[i].length; ++j){\n",
    "                data[i][j] = 10;\n",
    "            }\n",
    "        }\n",
    "        \n",
    "        // data를 출력합니다.\n",
    "        System.out.println(\"data[0] : \" + \"[\" + data[0][0] + \", \" + data[0][1] + \", \" + data[0][2] + \"]\");\n",
    "        System.out.println(\"data[1] : \" + \"[\" + data[1][0] + \", \" + data[1][1] + \", \" + data[1][2] + \"]\");\n",
    "\t}\n",
    "}\n",
    "'''\n",
    "\n",
    "'''\n",
    "data[0] : [10, 10, 10]\n",
    "data[1] : [10, 10, 10]\n",
    "'''"
   ]
  },
  {
   "cell_type": "markdown",
   "id": "3792f874",
   "metadata": {},
   "source": [
    "이차원 배열 반복하기\n",
    "앞선 실습에서 배열의 원소들을 반복문으로 출력하는 실습을 진행해 보았습니다.\n",
    "\n",
    "하지만 이번 실습에서는 배열 속에 배열이 있는 이차원 배열입니다.\n",
    "\n",
    "그렇기 때문에 아래와 같은 이중 반복문이 필요합니다.\n",
    "\n",
    "일반 for문 예시\n",
    "\n",
    "for(int i = 0; i < data.length; i++) {\n",
    "    for(int j = 0; j < data[i].length; j++) {\n",
    "\n",
    "    }\n",
    "}\n",
    "Copy\n",
    "향상된 for문 예시\n",
    "\n",
    "for(int [] loopArr : data) {\n",
    "    for(int i : loopArr) {\n",
    "\n",
    "    }\n",
    "}\n",
    "Copy\n",
    "위 예시를 참고하여 for 반복문과 향상된 for 반복문을 보고 실습을 풀어봅시다.\n",
    "\n",
    "\n",
    "지시사항\n",
    "for문이 data내에 있는 모든 요소들을 출력할 수 있도록 코드를 작성하세요.\n",
    "\n",
    "향상된 for문이 data내에 있는 모든 요소들을 출력할 수 있도록 코드를 작성하세요.\n",
    "\n",
    "출력 예시\n",
    "\n",
    "data.length : 4\n",
    "data[0].length : 5\n",
    "1\n",
    "2\n",
    "3\n",
    "4\n",
    "5\n",
    "6\n",
    "...(생략)\n",
    "5\n",
    "4\n",
    "3\n",
    "2\n",
    "1\n",
    "Copy\n",
    "(1 ~ 10, 10 ~ 1 까지 두번 반복해서 출력되어야 합니다.)"
   ]
  },
  {
   "cell_type": "code",
   "execution_count": null,
   "id": "a208ec69",
   "metadata": {},
   "outputs": [],
   "source": [
    "'''\n",
    "package elice;\n",
    "\n",
    "public class Main {\n",
    "\tpublic static void main(String args[]) {\n",
    "\t\tint [][] data = {{1, 2, 3, 4, 5}, {6, 7, 8, 9, 10}, {10, 9, 8, 7, 6}, {5, 4, 3, 2, 1}};\n",
    "        \n",
    "        // 이차원 배열에서 length를 사용하면 어떻게 되는지 확인해 보세요.\n",
    "        System.out.println(\"data.length : \" + data.length);\n",
    "        System.out.println(\"data[0].length : \" + data[0].length);\n",
    "        \n",
    "        \n",
    "        \n",
    "        for(int i = 0; i < data.length; i++) {\n",
    "            for(int j = 0; j < data[i].length; j++) {\n",
    "                // 지시사항 1번을 참고하여 코드를 작성하세요.\n",
    "                System.out.println(data[i][j]);\n",
    "            }\n",
    "        }\n",
    "        \n",
    "        \n",
    "        \n",
    "        for(int [] loopArr : data) {\n",
    "            for(int i : loopArr) {\n",
    "                // 지시사항 2번을 참고하여 코드를 작성하세요.\n",
    "                System.out.println(i);\n",
    "            }\n",
    "        }\n",
    "\t}\n",
    "}\n",
    "'''"
   ]
  }
 ],
 "metadata": {
  "kernelspec": {
   "display_name": "Python 3",
   "language": "python",
   "name": "python3"
  },
  "language_info": {
   "codemirror_mode": {
    "name": "ipython",
    "version": 3
   },
   "file_extension": ".py",
   "mimetype": "text/x-python",
   "name": "python",
   "nbconvert_exporter": "python",
   "pygments_lexer": "ipython3",
   "version": "3.8.8"
  }
 },
 "nbformat": 4,
 "nbformat_minor": 5
}
