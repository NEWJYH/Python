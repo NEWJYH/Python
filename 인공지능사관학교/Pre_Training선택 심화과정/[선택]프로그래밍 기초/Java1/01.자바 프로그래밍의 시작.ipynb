{
 "cells": [
  {
   "cell_type": "markdown",
   "id": "2a0a72b7",
   "metadata": {},
   "source": [
    "목 차\n",
    "\n",
    "01. Hello, Java!\n",
    "\n",
    "02. 변하는 수, 변수\n",
    "\n",
    "03. 변수 이름 짓기\n",
    "\n",
    "04. 연산자"
   ]
  },
  {
   "cell_type": "markdown",
   "id": "d7a123aa",
   "metadata": {},
   "source": [
    "커리큘럼\n",
    "\n",
    "01 자바 프로그래밍의 시작\n",
    "    - 기초 개념인 출력과 변수 등에 대해 공부합니다\n",
    "\n",
    "02 다양한 자료형\n",
    "    - 자료형과 입력문을 공부합니다\n",
    "\n",
    "03 코드의 흐름 제어\n",
    "    - 조건문과 반복문에 대해 공부합니다\n",
    "    \n",
    "04 배열\n",
    "    - 반복문의 심화과정과 배열에 대해 공부합니다\n",
    "    \n",
    "05 실력확인 테스트!\n",
    "    - 학습한 내용들을 활용하여 실력을 점검해봅니다"
   ]
  },
  {
   "cell_type": "markdown",
   "id": "297a6871",
   "metadata": {},
   "source": [
    "목 표\n",
    "\n",
    "1. Java언어에 대한 기초 개념을 이해하고 활용할 수 있다.\n",
    "\n",
    "2. 조건문과 반복문의 구조를 학습하여 코드를 이해하고 작성할 수 있다.\n",
    "\n",
    "3. 배열을 활용하여 데이터를 저장하고 다루는 방법을 배울 수 있다."
   ]
  },
  {
   "cell_type": "markdown",
   "id": "119f46b5",
   "metadata": {},
   "source": []
  },
  {
   "cell_type": "markdown",
   "id": "9db59f84",
   "metadata": {},
   "source": [
    "안녕, 엘리스!\n",
    "아래 코드는 괄호 안에 입력된 문구를 콘솔창에 출력합니다.\n",
    "\n",
    "System.out.println();\n",
    "Copy\n",
    "오른쪽의 코드를 수정하여 Hello Elice!를 출력해보겠습니다.\n",
    "\n",
    "앞으로 자바 기초 수업을 도와줄 엘리스 토끼에게 인사를 한번 해봅시다.\n",
    "\n",
    "실행 결과\n",
    "Hello Elice!\n",
    "\n",
    "지시사항\n",
    "실행 버튼을 누르고 결과값을 확인해보세요.\n",
    "\n",
    "제출 버튼을 눌러서 채점을 받아보세요.\n",
    "\n",
    "100점을 받지 못했다면 차근히 다시 시도해보세요. 어려우면 도움을 요청해보세요.\n",
    "\n",
    "Tips\n",
    "지금 배우는 내용이 잘 이해가 되지 않아도 너무 걱정하지 마세요. 찬찬히 코드를 읽고, 눈에 익히고, 잘 따라하다 보면 어느 순간 나도 모르게 이해가 되는 경험을 하실 수 있어요 :)"
   ]
  },
  {
   "cell_type": "code",
   "execution_count": null,
   "id": "830afd96",
   "metadata": {},
   "outputs": [],
   "source": [
    "package elice;\n",
    "\n",
    "public class Main {\n",
    "\n",
    "\tpublic static void main(String args[]) {\n",
    "\t\tSystem.out.println(\"Hello Elice!\");\n",
    "\t}\n",
    "}"
   ]
  },
  {
   "cell_type": "markdown",
   "id": "154878f5",
   "metadata": {},
   "source": []
  },
  {
   "cell_type": "markdown",
   "id": "25253c26",
   "metadata": {},
   "source": [
    "[이론] Hello, Java!"
   ]
  },
  {
   "cell_type": "markdown",
   "id": "42410132",
   "metadata": {},
   "source": [
    "01. Hello, Java!"
   ]
  },
  {
   "cell_type": "markdown",
   "id": "823a26c7",
   "metadata": {},
   "source": [
    "Java란?\n",
    "\n",
    "장점 \n",
    "- 안정적이고 사용도가 높다.\n",
    "\n",
    "단점\n",
    "- 초심자에게 친절하지 않다.\n",
    " (객체지향 프로그래밍)\n",
    " \n",
    "[기고]자바 25주년, 세상을 변화시키다"
   ]
  },
  {
   "cell_type": "markdown",
   "id": "20c82fe5",
   "metadata": {},
   "source": [
    "자바의 확장성\n",
    "\n",
    "안드로이드(모바일)\n",
    "\n",
    "Kotlin(자바_개선판_ 웹, 모바일)\n",
    "\n",
    "JSP(웹)\n",
    "\n",
    "spring(웹_프레임워크)"
   ]
  },
  {
   "cell_type": "markdown",
   "id": "f37dd8fa",
   "metadata": {},
   "source": [
    "자바 코드의 구조\n",
    "\n",
    "자바  프로그램의 기본 형태\n",
    "\n",
    "Example\n",
    "public class Main {\n",
    "    public static void main(String[] arg) {\n",
    "    ...\n",
    "    }\n",
    "}"
   ]
  },
  {
   "cell_type": "markdown",
   "id": "e055026c",
   "metadata": {},
   "source": [
    "출력\n",
    "\n",
    "System.out.println(\"출력할 내용\");\n",
    "\n",
    "Example\n",
    "public class Main {\n",
    "    public static void main(String[] args) {\n",
    "        System.out.println(\"Hello, Java\");\n",
    "    }\n",
    "}"
   ]
  },
  {
   "cell_type": "markdown",
   "id": "cb029801",
   "metadata": {},
   "source": [
    "출력\n",
    "\n",
    "System.out.println(\"출력할 내용\");\n",
    "\n",
    "Example\n",
    "public class Main {\n",
    "    public static void main(String[] args) {\n",
    "        System.out.println(\"Hello, Java\"); <- 문장의 마침표 역할\n",
    "    } ↑_들여쓰기(공백 4칸)_ tab x\n",
    "}"
   ]
  },
  {
   "cell_type": "markdown",
   "id": "4742301e",
   "metadata": {},
   "source": [
    "출력\n",
    "\n",
    "System.out.println(\"출력할 내용\");\n",
    "\n",
    "Example\n",
    "public class Main {\n",
    "    public static void main(String[] args) {\n",
    "        System.out.println(\"Hello, Java\");\n",
    "    }\n",
    "}\n",
    "\n",
    "출력 결과\n",
    "Hello, Java"
   ]
  },
  {
   "cell_type": "markdown",
   "id": "1c435018",
   "metadata": {},
   "source": [
    "[실습1] 첫 자바 프로그램\n",
    "\n",
    "Java로 엘리스에게 인사를 건네보세요!\n",
    "\n",
    "Example\n",
    "System.out.println(\"Hello, Elice!\");\n",
    "\n",
    "출력결과\n",
    "Hello, Elice!"
   ]
  },
  {
   "cell_type": "markdown",
   "id": "22664d31",
   "metadata": {},
   "source": [
    "[실습2] 여러 줄 출력해보기\n",
    "\n",
    "같은 문장을 여러 번 출력해봅시다!\n",
    "\n",
    "출력결과\n",
    "Hello, Java\n",
    "Hello, Java\n",
    "Hello, Java"
   ]
  },
  {
   "cell_type": "markdown",
   "id": "da117fc6",
   "metadata": {},
   "source": [
    "주석(comment)\n",
    "\n",
    "컴파일러가 인식하지 않는 코드\n",
    "\n",
    "코드로 설명하기 어려운 부분을 글로 적어둔다.\n",
    "\n",
    "/* */         : 여러줄\n",
    "//            : 1줄\n",
    "//TODO        : 추가로 해야되는 일\n",
    "//FIXME       : 수정해야하는 일"
   ]
  },
  {
   "cell_type": "markdown",
   "id": "dc5eb117",
   "metadata": {},
   "source": [
    "주석 사용방법(한 줄 주석)\n",
    "\n",
    "package elice;\n",
    "public class Main {\n",
    "  public static void main(String args[]) {\n",
    "    // Hello World 출력하기\n",
    "    System.out.println(\"Hello, World!\");\n",
    "  }\n",
    "}"
   ]
  },
  {
   "cell_type": "markdown",
   "id": "ea1efde7",
   "metadata": {},
   "source": [
    "주석 사용방법(여러 줄 주석)\n",
    "\n",
    "package elice;\n",
    "public class Main {\n",
    "  public static void main(String args[]) {\n",
    "    /*\n",
    "    System.out.println(\"Hello, World!\");\n",
    "    System.out.println(\"Hello, World!\");\n",
    "    */\n",
    "  }\n",
    "}"
   ]
  },
  {
   "cell_type": "markdown",
   "id": "6ac1a322",
   "metadata": {},
   "source": [
    "[실습3] 주석 넣기\n",
    "\n",
    "주석을 사용하여 문장을 감춰봅시다!\n",
    "\n",
    "Example\n",
    "package elice;\n",
    "public class Main {\n",
    "  public static void main(String args[]) {\n",
    "    // 매일 행복할 수는 없지만\n",
    "    /* 행복한 일은 매일 있어\n",
    "    그러니 오늘도 파이팅!*/\n",
    "  }\n",
    "}"
   ]
  },
  {
   "cell_type": "markdown",
   "id": "54071e4c",
   "metadata": {},
   "source": []
  },
  {
   "cell_type": "markdown",
   "id": "03faf9ba",
   "metadata": {},
   "source": [
    "첫 자바 프로그램\n",
    "첫 번째 자바 프로그램을 작성해보도록 합시다.\n",
    "\n",
    "System.out.println();은 화면에 원하는 값을 출력하는 명령어입니다.\n",
    "\n",
    "“Hello, World!” 문장을 출력하는 방법은 다음과 같습니다.\n",
    "\n",
    "System.out.println(\"Hello, World!\");\n",
    "\n",
    "지시사항\n",
    "위 코드를 참고하여 “Hello, Elice!” 문장을 출력하세요.\n",
    "출력 예시\n",
    "\n",
    "Hello, Elice!\n",
    "\n",
    "Tips\n",
    "지금은 코드의 내용을 이해하지 못해도 좋습니다.\n",
    "\n",
    "자바 프로그래밍 강의를 끝까지 듣고 나면 이해하실 수 있을 겁니다.\n",
    "\n",
    "자바에서는 문장이 끝나면 세미콜론(;)을 반드시 사용해야 합니다."
   ]
  },
  {
   "cell_type": "code",
   "execution_count": null,
   "id": "199c90a0",
   "metadata": {},
   "outputs": [],
   "source": [
    "'''\n",
    "package elice;\n",
    "\n",
    "public class Main {\n",
    "\tpublic static void main(String args[]) {\n",
    "        // 지시사항 1번을 참고하여 코드를 작성하세요.\n",
    "        System.out.println(\"Hello, Elice!\");\n",
    "\t}\n",
    "}\n",
    "\n",
    "'''\n",
    "\n",
    "'''\n",
    "Hello, Elice!\n",
    "'''"
   ]
  },
  {
   "cell_type": "markdown",
   "id": "3b406047",
   "metadata": {},
   "source": [
    "여러 줄 출력해보기\n",
    "System.out.println(\"Hello Java!\");\n",
    "Copy\n",
    "위 코드처럼 작성하면 출력 화면에 Hello Java!라고 출력할 수 있습니다.\n",
    "\n",
    "만약에 System.out.println을 여러 번 사용하면 어떤 출력이 나올까요?\n",
    "\n",
    "한번 생각해보고 아래 지시사항을 따라하면서 결과를 출력해 봅시다.\n",
    "\n",
    "\n",
    "지시사항\n",
    "Hello Java!를 출력하는 코드를 작성해 총 3줄의 Hello Java!를 출력하세요.\n",
    "출력 예시\n",
    "\n",
    "Hello Java!\n",
    "Hello Java!\n",
    "Hello Java!\n",
    "\n",
    "Tips\n",
    "System.out.print(\"Hello, Elice!\");\n",
    "\n",
    "print는 println과는 달리, 출력하고 나서 줄을 바꾸지 않습니다.\n",
    "System.out.print(\"Hello, Elice!\");\n",
    "System.out.print(\"Hello, Elice!\");\n",
    "System.out.print(\"Hello, Elice!\");\n",
    "\n",
    "그래서 위와 같이 print를 여러 번 하면 “Hello, Elice!”가 붙어서 출력됩니다."
   ]
  },
  {
   "cell_type": "code",
   "execution_count": null,
   "id": "d1ac5666",
   "metadata": {},
   "outputs": [],
   "source": [
    "'''\n",
    "public class Main {\n",
    "\tpublic static void main(String args[]) {\n",
    "        System.out.println(\"Hello Java!\");\n",
    "        System.out.println(\"Hello Java!\");\n",
    "        // 지시사항 1번을 참고하여 코드를 작성하세요.\n",
    "        System.out.println(\"Hello Java!\");\n",
    "\t}\n",
    "}\n",
    "\n",
    "'''\n",
    "\n",
    "'''\n",
    "Hello Java!\n",
    "Hello Java!\n",
    "Hello Java!\n",
    "'''"
   ]
  },
  {
   "cell_type": "markdown",
   "id": "1c254ecf",
   "metadata": {},
   "source": [
    "주석 넣기\n",
    "주석은 실행되지 않는 코드로, 주로 부연 설명을 할 때 사용합니다.\n",
    "\n",
    "자바에서 주석을 넣는 방법은 두 가지로, 한 줄 주석과 여러 줄 주석이 있습니다.\n",
    "\n",
    "한 줄 주석 예시\n",
    "\n",
    "// System.out.println(\"Hello, Elice!\");\n",
    "\n",
    "여러 줄 주석 예시\n",
    "\n",
    "/* \n",
    "System.out.println(\"Hello, Elice!\"); \n",
    "System.out.println(\"Hello, Elice!\");\n",
    "*/\n",
    "\n",
    "지시사항\n",
    "한 줄 주석을 사용하여 “매일 행복할 수는 없지만” 문장이 출력되지 않게 하세요.\n",
    "\n",
    "여러 줄 주석을 사용하여 “행복한 일은 매일 있어” 와 “그러니 오늘도 화이팅!” 문장이 출력되지 않게 하세요."
   ]
  },
  {
   "cell_type": "code",
   "execution_count": null,
   "id": "e86f8e43",
   "metadata": {},
   "outputs": [],
   "source": [
    "'''\n",
    "package elice;\n",
    "\n",
    "public class Main {\n",
    "\tpublic static void main(String args[]) {\n",
    "        // 지시사항 1번을 참고하여 코드를 작성하세요.\n",
    "        // System.out.println(\"매일 행복할 수는 없지만,\");    \n",
    "        // 지시사항 2번을 참고하여 코드를 작성하세요.\n",
    "        /*System.out.println(\"행복한 일은 매일 있어\");\n",
    "        System.out.println(\"그러니 오늘도 화이팅!\");\n",
    "        */\n",
    "    }\n",
    "}\n",
    "\n",
    "'''\n",
    "\n",
    "'''\n",
    "\n",
    "'''"
   ]
  },
  {
   "cell_type": "markdown",
   "id": "c0056c5e",
   "metadata": {},
   "source": []
  },
  {
   "cell_type": "markdown",
   "id": "3d40b93c",
   "metadata": {},
   "source": [
    "[이론] 변하는 수, 변수"
   ]
  },
  {
   "cell_type": "markdown",
   "id": "e2310d0b",
   "metadata": {},
   "source": [
    "02. 변하는 수, 변수"
   ]
  },
  {
   "cell_type": "markdown",
   "id": "735a4c8f",
   "metadata": {},
   "source": [
    "변수란?\n",
    "\n",
    "변하는 수? \n",
    "- 변할수 있는 대상(수) (조작할수 있는)\n",
    "\n",
    "값을 담기 위한 공간 \n",
    "- 그릇(값)\n",
    "\n",
    "이름을 잘 부여해야 한다.\n",
    "- 분명한 이름\n",
    "- 누구나 이해할수 있는 이름"
   ]
  },
  {
   "cell_type": "markdown",
   "id": "83be6e02",
   "metadata": {},
   "source": [
    "변수란?\n",
    "\n",
    "변할수 있는 값을 담기 위한 \"공간\"\n",
    "이름을 잘 붙이는 것이 중요하다."
   ]
  },
  {
   "cell_type": "markdown",
   "id": "336232de",
   "metadata": {},
   "source": [
    "변수란?\n",
    "\n",
    "엘리스의 나이\n",
    "↓\n",
    "ㅁ   변수 age\n",
    "\n",
    "age"
   ]
  },
  {
   "cell_type": "markdown",
   "id": "5775b347",
   "metadata": {},
   "source": [
    "변수란?\n",
    "\n",
    "변수에는 정수만 담을 수 있나요?\n",
    "- X 프로그램에서 필요로 하는 것들"
   ]
  },
  {
   "cell_type": "markdown",
   "id": "ed03d1ca",
   "metadata": {},
   "source": [
    "변수의 사용\n",
    "\n",
    "\"엘리스\"에 대해 알아봅시다!\n",
    "\n",
    "나이(age), 키(height), 학점(grade), 이름(name)"
   ]
  },
  {
   "cell_type": "markdown",
   "id": "0651435a",
   "metadata": {},
   "source": [
    "변수 생성해보기\n",
    "\n",
    "엘리스의 나이 age를 변수로 선언하고\n",
    "10이란 값을 할당해봅시다.\n",
    "- 선언 : 이름 형태 \n",
    "- 할당 : 대입\n",
    "\n",
    "Example\n",
    "int age;     - 선언\n",
    "age = 10;    - 할당\n",
    "\n",
    "int - 자료형\n",
    "age - 변수이름\n"
   ]
  },
  {
   "cell_type": "markdown",
   "id": "7355c02f",
   "metadata": {},
   "source": [
    "변수 생성해보기\n",
    "\n",
    "선언과 동시에 할당\n",
    "\n",
    "Example \n",
    "int age = 10;"
   ]
  },
  {
   "cell_type": "markdown",
   "id": "478b1c7a",
   "metadata": {},
   "source": [
    "다양한 자료형\n",
    "\n",
    "가장 많이 사용되는 자료형 5개\n",
    "\n",
    "Example\n",
    "int age = 10; // 정수\n",
    "double height = 174.4; // 실수\n",
    "String name = \"엘리스\"; // 문자열(유니코드)\n",
    "boolean isHuman = true; // 부울형(true/false)\n",
    "char grade = 'C'; // 단일 문자"
   ]
  },
  {
   "cell_type": "markdown",
   "id": "01b75e81",
   "metadata": {},
   "source": [
    "변수 이름의 규칙\n",
    "\n",
    "변수에 이름을 붙일 때 유의할 점\n",
    "\n",
    "영문자와 숫자를 주로 사용한다.\n",
    "분명한 이름을 붙인다.(예, studentName)\n",
    "\n",
    "숫자로 시작할 수 없다.\n",
    "Java의 예약어는 사용할 수 없다.\n",
    "그 외 $, _을 붙일 수는 있다."
   ]
  },
  {
   "cell_type": "markdown",
   "id": "31f2151e",
   "metadata": {},
   "source": [
    "예약어(Keyword)란?\n",
    "\n",
    "Java문법에서 용도가 이미 약속된 단어로,\n",
    "변수명으로 사용하면 오류가 발생한다.\n",
    "예시 : class new int while\n",
    "\n",
    "자바 컴파일러가 변수와 예약어를 구별할 수 없기 떄문이다."
   ]
  },
  {
   "cell_type": "markdown",
   "id": "aa3d0af5",
   "metadata": {},
   "source": [
    "잘못된 변수명\n",
    "\n",
    "잘못된 변수명을 사용하면 오류 발생!\n",
    "\n",
    "Example\n",
    "int int = 10; // 예약어\n",
    "double 1stNumber = 1.1; // 숫자로 시작\n",
    "char alphabet! = 'A'; // 특수문자 포함"
   ]
  },
  {
   "cell_type": "markdown",
   "id": "375ce888",
   "metadata": {},
   "source": [
    "[실습4] 변수 선언과 초기화(할당)\n",
    "\n",
    "잘못된 변수 선언과 초기화를 바로 잡아봅시다!"
   ]
  },
  {
   "cell_type": "markdown",
   "id": "2150fb41",
   "metadata": {},
   "source": []
  },
  {
   "cell_type": "markdown",
   "id": "65cf8b90",
   "metadata": {},
   "source": [
    "03. 변수 이름 짓기"
   ]
  },
  {
   "cell_type": "markdown",
   "id": "460257f3",
   "metadata": {},
   "source": [
    "변수에 대한 의문점\n",
    "\n",
    "값을 굳이 변수에 넣을 필요 없이\n",
    "그대로 쓰면 되지 않는가?"
   ]
  },
  {
   "cell_type": "markdown",
   "id": "87ae428e",
   "metadata": {},
   "source": [
    "변수를 사용하는 이유\n",
    "\n",
    "변수란 무엇인가?\n",
    "\n",
    "이름 & 공간 -> 로직에 활용"
   ]
  },
  {
   "cell_type": "markdown",
   "id": "4558049b",
   "metadata": {},
   "source": [
    "변수를 사용하는 이유\n",
    "\n",
    "변수는 의미 있는 값을 저장한다."
   ]
  },
  {
   "cell_type": "markdown",
   "id": "3648b7b6",
   "metadata": {},
   "source": [
    "변수를 사용하는 이유\n",
    "\n",
    "프로그램에서 계속 사용하게 되는 변수\n",
    "변수 이름은 의미를 분명하게 알 수 있게!\n",
    "\n",
    "(좋은 프로그래머의 조건)"
   ]
  },
  {
   "cell_type": "markdown",
   "id": "b4c5be1b",
   "metadata": {},
   "source": [
    "변수를 사용하는 이유\n",
    "\n",
    "학생의 반으로 적합한 변수명은?\n",
    "\n",
    "Example\n",
    "int sc = 2;\n",
    "int studentClass = 2;"
   ]
  },
  {
   "cell_type": "markdown",
   "id": "c8c64b30",
   "metadata": {},
   "source": [
    "변수 이름에 의미를 담아\n",
    "\n",
    "Java 변수 명명 규칙, camelCase"
   ]
  },
  {
   "cell_type": "markdown",
   "id": "d0f73ca9",
   "metadata": {},
   "source": []
  },
  {
   "cell_type": "markdown",
   "id": "672f37e7",
   "metadata": {},
   "source": [
    "변수 선언과 초기화\n",
    "변수는 자료를 저장하는 공간으로 아래와 같이 사용할 수 있습니다.\n",
    "\n",
    "int num = 100; //정수형 변수 num 선언 후 값을 100으로 할당\n",
    "double fnum = 1.1; //실수형 변수 fnum 선언 후 값을 1.1로 할당\n",
    "char ch = 'A'; //문자형 변수 ch 선언 후 값을 'A'로 할당\n",
    "\n",
    "변수명을 정하는 규칙을 어기면, 어떤 문제가 발생하는지 확인해보고 올바르게 작동하도록 코드를 바꾸어봅시다.\n",
    "\n",
    "\n",
    "지시사항\n",
    "주어진 값(100, 1.1, ‘A’)는 바꾸지 마세요.\n",
    "\n",
    "변수의 이름을 올바르게 수정하세요.\n",
    "\n",
    "1번에서 바꾼 변수의 이름을 차례로 출력문에 넣으세요.\n",
    "\n",
    "출력 예시\n",
    "\n",
    "100\n",
    "1.1\n",
    "A\n",
    "\n",
    "Tips\n",
    "int는 자바의 내장되어 있는 예약어로 변수명으로 사용하지 못합니다.\n",
    "\n",
    "변수명의 첫 글자로 숫자는 오지 못합니다.\n",
    "\n",
    "변수명에 특수문자 _, $을 제외한 다른 특수문자는 오지 못합니다.\n",
    "\n",
    "변수를 선언하고 값을 처음으로 할당하는 것을 변수의 초기화라고 합니다."
   ]
  },
  {
   "cell_type": "code",
   "execution_count": null,
   "id": "dd69aeb6",
   "metadata": {},
   "outputs": [],
   "source": [
    "'''\n",
    "public class Main {\n",
    "\tpublic static void main(String args[]) {\n",
    "\t    // 지시사항 1번을 참고하여 코드를 작성하세요. \n",
    "        int myNum = 100;\n",
    "        double first_number = 1.1;\n",
    "        char alphabet = 'A';\n",
    "        // 지시사항 2번을 참고하여 코드를 작성하세요. \n",
    "        System.out.println(myNum);\n",
    "        System.out.println(first_number);\n",
    "        System.out.println(alphabet);\n",
    "\t}\n",
    "}\n",
    "\n",
    "'''\n",
    "\n",
    "\n",
    "'''\n",
    "100\n",
    "1.1\n",
    "A\n",
    "'''"
   ]
  },
  {
   "cell_type": "markdown",
   "id": "7eca64f9",
   "metadata": {},
   "source": []
  },
  {
   "cell_type": "markdown",
   "id": "ffd2681d",
   "metadata": {},
   "source": [
    "[이론] 연산자"
   ]
  },
  {
   "cell_type": "markdown",
   "id": "069efc51",
   "metadata": {},
   "source": [
    "04. 연산자"
   ]
  },
  {
   "cell_type": "markdown",
   "id": "12e6ea2c",
   "metadata": {},
   "source": [
    "사칙연산\n",
    "\n",
    "가장 기초적인 연산\n",
    "\n",
    "Example\n",
    "int a = 3;\n",
    "int b = 2;\n",
    "\n",
    "System.out.println(3 + 2); // 5\n",
    "System.out.println(a - 3); // 0\n",
    "System.out.println(a * b); // 6\n",
    "System.out.println(a / b); // 1\n",
    "System.out.println(a % b); // 1 (나머지 연산)"
   ]
  },
  {
   "cell_type": "markdown",
   "id": "2d7e0751",
   "metadata": {},
   "source": [
    "사칙연산\n",
    "\n",
    "연산자 우선순위 = 수학과 동일\n",
    "\n",
    "1. ()\n",
    "\n",
    "2. * / %\n",
    "\n",
    "3. + -"
   ]
  },
  {
   "cell_type": "markdown",
   "id": "a03f66f9",
   "metadata": {},
   "source": [
    "문자열 연결\n",
    "\n",
    "문자열은 + 연산자로 연결할 수 있다.\n",
    "\n",
    "Example\n",
    "String text = \"hello\" + \" elice!\";\n",
    "text = text + \" number \" + 9;\n",
    "System.out.println(text); //\"hello elice! number 9\""
   ]
  },
  {
   "cell_type": "markdown",
   "id": "260f63f3",
   "metadata": {},
   "source": [
    "[실습5] 간단한 계산 해보기\n",
    "\n",
    "자바를 이용해 사칙연산을 해봅시다!\n",
    "\n",
    "Example\n",
    "System.out.println(100 + 100);\n",
    "\n",
    "Example2\n",
    "int num = 100;\n",
    "num = num + 100;\n",
    "System.out.println(num);"
   ]
  },
  {
   "cell_type": "markdown",
   "id": "d3bdfa33",
   "metadata": {},
   "source": [
    "[실습6] 정육면체\n",
    "\n",
    "변수 side를 사용하여 정육면체의 겉넓이와 부피를 출력해봅시다!\n",
    "\n",
    "side -> 정육면체 겉넓이 공식\n",
    "     -> 정육면체 부피 공식"
   ]
  },
  {
   "cell_type": "markdown",
   "id": "b112ba6f",
   "metadata": {},
   "source": [
    "[실습7] 영어 문장 만들기\n",
    "\n",
    "변수 내용을 바꿔 새로운 문장을 출력해봅시다!\n",
    "\n",
    "I -> You\n",
    "study -> love\n",
    "Java -> programming"
   ]
  },
  {
   "cell_type": "markdown",
   "id": "4a9f506b",
   "metadata": {},
   "source": []
  },
  {
   "cell_type": "markdown",
   "id": "633be645",
   "metadata": {},
   "source": [
    "간단한 계산 해보기\n",
    "수학과 마찬가지로 변수를 활용해 여러 가지 계산을 할 수 있습니다.\n",
    "\n",
    "예시는 다음과 같습니다.\n",
    "\n",
    "System.out.println(3 + 2); //5\n",
    "System.out.println(3 - 3); //0 \n",
    "System.out.println(2 * 3); //6\n",
    "System.out.println(3 / 3); //1\n",
    "\n",
    "이번 실습에서는 사칙연산을 해보고, 그 외 다양한 연산은 2장에서 배워봅시다.\n",
    "\n",
    "\n",
    "지시사항\n",
    "100에 100을 더한 값을 출력하세요.\n",
    "\n",
    "1번에서 출력한 값에 30을 뺀 값을 출력하세요.\n",
    "\n",
    "2번에서 출력한 값에 2를 곱한 값을 출력하세요.\n",
    "\n",
    "3번에서 출력한 값을 4로 나눈 값을 출력하세요.\n",
    "\n",
    "Tips\n",
    "일일이 계산 결과를 바로 출력해도 되지만 변수num에 계산한 값을 저장하고 num을 출력해도 동일한 결과가 출력됩니다."
   ]
  },
  {
   "cell_type": "code",
   "execution_count": null,
   "id": "8bbba7f0",
   "metadata": {},
   "outputs": [],
   "source": [
    "'''\n",
    "package elice;\n",
    "\n",
    "import java.io.*;\n",
    "import java.util.Scanner;\n",
    "import elice.EliceUtils;\n",
    "\n",
    "public class Main {\n",
    "\tpublic static void main(String args[]) {\n",
    "        \n",
    "        int num = 100;\n",
    "        \n",
    "        System.out.println(100);\n",
    "        \n",
    "        // 지시사항 1번을 참고하여 코드를 작성하세요.\n",
    "        num += 100;\n",
    "        System.out.println(num);\n",
    "        // 지시사항 2번을 참고하여 코드를 작성하세요.\n",
    "        num -= 30;\n",
    "        System.out.println(num);\n",
    "        // 지시사항 3번을 참고하여 코드를 작성하세요.\n",
    "        num *= 2;\n",
    "        System.out.println(num);\n",
    "        // 지시사항 4번을 참고하여 코드를 작성하세요.\n",
    "        num /= 4;\n",
    "        System.out.println(num);\n",
    "\t}\n",
    "\n",
    "}\n",
    "'''\n",
    "\n",
    "'''\n",
    "100\n",
    "200\n",
    "170\n",
    "340\n",
    "85\n",
    "'''"
   ]
  },
  {
   "cell_type": "markdown",
   "id": "5151ff11",
   "metadata": {},
   "source": [
    "정육면체\n",
    "앞서 배웠던 변수와 연산을 활용해 간단한 기하학 문제를 풀어봅시다.\n",
    "\n",
    "예를 들어, 변의 길이가 5인 정사각형의 넓이는 아래와 같이 구할 수 있습니다.\n",
    "\n",
    "int side = 5;\n",
    "System.out.println(side * side); // 25\n",
    "\n",
    "우측 실습에는 정육면체의 한 변의 길이가 들어 있는 변수side가 값이 5로 초기화되어있습니다.\n",
    "\n",
    "이 변수를 이용해 정육면체의 겉넓이와 부피를 출력하는 코드를 작성해 봅시다.\n",
    "\n",
    "\n",
    "지시사항\n",
    "side 변수를 이용해 겉넓이를 출력하세요.\n",
    "\n",
    "side 변수를 이용해 부피를 출력하세요.\n",
    "\n",
    "출력 예시\n",
    "\n",
    "150\n",
    "125\n",
    "\n",
    "Tips\n",
    "변의 길이가 sss일 때, 겉넓이와 부피를 구하는 공식은 다음과 같습니다.\n",
    "\n",
    "겉넓이 : 6s26s^26s \n",
    "2\n",
    " \n",
    "부피 : s3s^3s \n",
    "3"
   ]
  },
  {
   "cell_type": "code",
   "execution_count": null,
   "id": "427b231f",
   "metadata": {},
   "outputs": [],
   "source": [
    "'''\n",
    "package elice;\n",
    "\n",
    "public class Main {\n",
    "\tpublic static void main(String args[]) {\n",
    "        // 아래 코드는 문제 해결을 위해 기본적으로 제공되는 코드입니다. 수정하지 마세요!\n",
    "        int side = 5; // 정육면체의 한 변의 길이\n",
    "        \n",
    "        // 지시사항 1번을 참고하여 코드를 작성하세요.\n",
    "        int surface = side * side * 6;\n",
    "        System.out.println(surface);\n",
    "        // 지시사항 2번을 참고하여 코드를 작성하세요.\n",
    "        int volumn = side * side * side;\n",
    "        System.out.println(volumn);\n",
    "    }\n",
    "}\n",
    "\n",
    "'''\n",
    "\n",
    "'''\n",
    "150\n",
    "125\n",
    "'''"
   ]
  },
  {
   "cell_type": "markdown",
   "id": "30d91dc0",
   "metadata": {},
   "source": [
    "영어 문장 만들기\n",
    "영어 단어들을 조합해서 문장을 자유롭게 만들어 봅시다.\n",
    "\n",
    "System.out.println(\"I\" + \" love \" + \"java\");\n",
    "\n",
    "위와 같이 작성하게 되면 세 문자열이 합쳐져 “I love java”라고 출력됩니다.\n",
    "\n",
    "또한 이는 변수에도 적용될 수 있습니다.\n",
    "\n",
    "String elice = \"Elice\";\n",
    "String pro = \"Programming\";\n",
    "System.out.println(elice + \" \" + pro);\n",
    "\n",
    "라고 작성하게 되면 두 문자열이 합쳐져 “Elice Programming”이라고 출력됩니다.\n",
    "\n",
    "실습을 통해 코드를 직접 수정하면서 문자열이 합쳐지는 과정을 확인해봅시다.\n",
    "\n",
    "\n",
    "지시사항\n",
    "변수 subject 의 값을 “You” 로 바꾸세요.\n",
    "\n",
    "변수 verb 의 값을 “love” 로 바꾸세요.\n",
    "\n",
    "변수 object 의 값을 “programming” 으로 바꾸세요.\n",
    "\n",
    "출력 예시\n",
    "\n",
    "You love Programming.\n",
    "\n",
    "Tips\n",
    "System.out.println(subject + \" \" + verb + \" \" + object + \".\");\n",
    "\n",
    "출력할 때 + \" \" +는 각각의 단어 사이에 공백을 넣기 위해 작성된 것입니다."
   ]
  },
  {
   "cell_type": "code",
   "execution_count": null,
   "id": "aa8d8c28",
   "metadata": {},
   "outputs": [],
   "source": [
    "'''package elice;\n",
    "\n",
    "public class Main {\n",
    "\tpublic static void main(String args[]) {\n",
    "        // 지시사항 1번을 참고하여 코드를 작성하세요.\n",
    "        String subject = \"I\";\n",
    "        subject = \"You\";\n",
    "        // 지시사항 2번을 참고하여 코드를 작성하세요.\n",
    "        String verb = \"study\";\n",
    "        verb = \"love\";\n",
    "        // 지시사항 3번을 참고하여 코드를 작성하세요.\n",
    "        String object = \"java\";\n",
    "        object = \"programming\";\n",
    "        // 아래 코드는 채점을 위한 코드입니다. 수정하지 마세요!\n",
    "        System.out.println(subject + \" \" + verb + \" \" + object + \".\");\n",
    "\t}\n",
    "}\n",
    "'''\n",
    "\n",
    "'''\n",
    "You love programming.\n",
    "'''"
   ]
  }
 ],
 "metadata": {
  "kernelspec": {
   "display_name": "Python 3",
   "language": "python",
   "name": "python3"
  },
  "language_info": {
   "codemirror_mode": {
    "name": "ipython",
    "version": 3
   },
   "file_extension": ".py",
   "mimetype": "text/x-python",
   "name": "python",
   "nbconvert_exporter": "python",
   "pygments_lexer": "ipython3",
   "version": "3.8.8"
  }
 },
 "nbformat": 4,
 "nbformat_minor": 5
}
