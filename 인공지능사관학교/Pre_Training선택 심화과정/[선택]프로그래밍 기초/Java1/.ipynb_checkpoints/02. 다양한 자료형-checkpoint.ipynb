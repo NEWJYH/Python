{
 "cells": [
  {
   "cell_type": "markdown",
   "id": "0ade6ccf",
   "metadata": {},
   "source": [
    "목 차\n",
    "\n",
    "01. 여러 가지 자료형\n",
    "\n",
    "02. 상수\n",
    "\n",
    "03. 자료형 변환\n",
    "\n",
    "04. 다양한 연산자\n",
    "\n",
    "05. 입력문"
   ]
  },
  {
   "cell_type": "markdown",
   "id": "ed0abc39",
   "metadata": {},
   "source": []
  },
  {
   "cell_type": "markdown",
   "id": "cfe46bf2",
   "metadata": {},
   "source": [
    "01. 여러 가지 자료형"
   ]
  },
  {
   "cell_type": "markdown",
   "id": "e4404071",
   "metadata": {},
   "source": [
    "자료형(Data Type)\n",
    "\n",
    "다양한 데이터의 종류\n",
    "ex) 정수, 실수, 문자열, 논리값 ...\n",
    "\n",
    "100     3.5    \"Hello pig\"      true"
   ]
  },
  {
   "cell_type": "markdown",
   "id": "b410f736",
   "metadata": {},
   "source": [
    "정수 자료형\n",
    "\n",
    "int형만 알고 있으면 된다.\n",
    "int범위(-2147483648 ~ 2147483647)가 넘는 경우에만 long 사용한다.\n",
    "\n",
    "int    long       short      byte"
   ]
  },
  {
   "cell_type": "markdown",
   "id": "0b99dbed",
   "metadata": {},
   "source": [
    "정수 자료형\n",
    "\n",
    "저장 공간의 크기가 각 자료형마다 다르다.\n",
    "\n",
    "byte(1)   short(2)     int(4)       long(8)"
   ]
  },
  {
   "cell_type": "markdown",
   "id": "a34c7e5a",
   "metadata": {},
   "source": [
    "실수 자료형\n",
    "\n",
    "실수 값을 저장하는 자료형은 2가지 종류가 있다.\n",
    "기본적으로 double을 사용한다.\n",
    "\n",
    "float(4)       double(8)"
   ]
  },
  {
   "cell_type": "markdown",
   "id": "44723847",
   "metadata": {},
   "source": [
    "문자 자료형\n",
    "\n",
    "한 개의 문자 값을 저장한다.\n",
    "\n",
    "char(2)"
   ]
  },
  {
   "cell_type": "markdown",
   "id": "60a3c768",
   "metadata": {},
   "source": [
    "논리 자료형(부울형)\n",
    "\n",
    "참, 거짓의 값을 나타냄\n",
    "booelean 자료형은\n",
    "true, false 두 가지 값만 가진다.\n",
    "\n",
    "boolean(1)"
   ]
  },
  {
   "cell_type": "markdown",
   "id": "f3880301",
   "metadata": {},
   "source": [
    "문자열 자료형\n",
    "문자열이란 문장을 뜻한다.\n",
    "String"
   ]
  },
  {
   "cell_type": "markdown",
   "id": "c5714762",
   "metadata": {},
   "source": [
    "자료형 정리\n",
    "\n",
    "데이터 : 자료형\n",
    "정수 : int, long, byte, short\n",
    "실수 : double, float\n",
    "문자 : char\n",
    "문자열 : String\n",
    "부울형 : boolean"
   ]
  },
  {
   "cell_type": "markdown",
   "id": "40288a0f",
   "metadata": {},
   "source": [
    "[실습1] 다양한 자료형(1)\n",
    "\n",
    "각 자료형에 맞는 변수를 선언하고 값을 저장해봅시다!\n",
    "\n",
    "100 -> num\n",
    "3.14 -> pi\n",
    "A -> c\n",
    "true -> chicken\n",
    "elice -> str"
   ]
  },
  {
   "cell_type": "markdown",
   "id": "9ea01221",
   "metadata": {},
   "source": []
  },
  {
   "cell_type": "markdown",
   "id": "441a2412",
   "metadata": {},
   "source": [
    "다양한 자료형 (1)\n",
    "자바에는 다양한 종류의 자료가 있고 이를 저장하기 위한 다양한 자료형이 있습니다.\n",
    "\n",
    "수를 저장하기 위한 정수, 실수 자료형이 있고 문자를 저장하기 위한 문자 자료형이 있습니다.\n",
    "\n",
    "예시는 다음과 같습니다.\n",
    "\n",
    "int age = 10; // 정수 \n",
    "double height = 174.4; // 실수 \n",
    "char grade = ‘C’; // 문자 \n",
    "boolean isHuman = true; // boolean \n",
    "String name = “엘리스”; // 문자열\n",
    "\n",
    "이번 실습에선 다양한 종류의 자료를 저장하고 출력해보겠습니다.\n",
    "\n",
    "\n",
    "지시사항\n",
    "1. int형 변수 num을 만들고 숫자 100을 대입 후 출력하세요.\n",
    "\n",
    "2. double형 변수 pi를 만들고 숫자 3.14를 대입 후 출력하세요.\n",
    "\n",
    "3. char형 변수 c를 만들고 문자 ‘A’를 대입 후 출력하세요.\n",
    "\n",
    "4. boolean형 변수 chicken을 만들고 true를 대입 후 출력하세요.\n",
    "\n",
    "5. String형 변수 str을 만들고 문자열 “elice”를 대입 후 출력하세요.\n",
    "\n",
    "출력 예시\n",
    "\n",
    "100\n",
    "3.14\n",
    "A\n",
    "true\n",
    "elice\n",
    "\n",
    "Tips\n",
    "String 자료형은 다른 자료형과 다르게 대문자 S로 시작합니다.\n",
    "char 자료형은 대문자와 소문자를 구분합니다. ‘A’와 ‘a’는 서로 다른 값입니다."
   ]
  },
  {
   "cell_type": "code",
   "execution_count": null,
   "id": "533bbd22",
   "metadata": {},
   "outputs": [],
   "source": [
    "'''\n",
    "package elice;\n",
    "\n",
    "\n",
    "public class Main {\n",
    "\tpublic static void main(String args[]) {\n",
    "        \n",
    "        // 지시사항 1번을 참고하여 코드를 작성하세요.\n",
    "        int num = 100;\n",
    "        System.out.println(num);\n",
    "        \n",
    "        // 지시사항 2번을 참고하여 코드를 작성하세요.\n",
    "        double pi = 3.14;\n",
    "        System.out.println(pi);\n",
    "        \n",
    "        // 지시사항 3번을 참고하여 코드를 작성하세요.\n",
    "        char c = 'A';\n",
    "        System.out.println(c);\n",
    "        \n",
    "        // 지시사항 4번을 참고하여 코드를 작성하세요.\n",
    "        boolean chicken = true;\n",
    "        System.out.println(chicken);\n",
    "        \n",
    "        // 지시사항 5번을 참고하여 코드를 작성하세요. \n",
    "        String str = \"elice\";\n",
    "        System.out.println(str);\n",
    "\t}\n",
    "}\n",
    "\n",
    "'''\n",
    "\n",
    "'''\n",
    "100\n",
    "3.14\n",
    "A\n",
    "true\n",
    "elice\n",
    "'''"
   ]
  },
  {
   "cell_type": "markdown",
   "id": "b4992af9",
   "metadata": {},
   "source": []
  },
  {
   "cell_type": "markdown",
   "id": "0ecba84f",
   "metadata": {},
   "source": [
    "[이론] 상수"
   ]
  },
  {
   "cell_type": "markdown",
   "id": "75ec2a8a",
   "metadata": {},
   "source": [
    "02. 상수 "
   ]
  },
  {
   "cell_type": "markdown",
   "id": "4366ad06",
   "metadata": {},
   "source": [
    "상수(Constant)\n",
    "\n",
    "변할 수 없는 값\n",
    "자료형 앞에 final 키워드를 붙여 생성한다.\n",
    "\n",
    "Example\n",
    "final double PI = 3.14;"
   ]
  },
  {
   "cell_type": "markdown",
   "id": "a31633dc",
   "metadata": {},
   "source": [
    "상수(Constant)\n",
    "\n",
    "Example\n",
    "final double PI = 3.14;\n",
    "        ↓     상수 변경 시 에러 발생!\n",
    "        \n",
    "Example\n",
    "final double PI = 3.14;\n",
    "PI = 3; // Error"
   ]
  },
  {
   "cell_type": "markdown",
   "id": "ed018670",
   "metadata": {},
   "source": [
    "상수(Constant)\n",
    "\n",
    "상수는 선언과 동시에 초기화를 해 주어야 한다.\n",
    "\n",
    "Example\n",
    "final double PI;\n",
    "PI = 3.14; // Error\n",
    "\n",
    "final double e = 2.72; // OK"
   ]
  },
  {
   "cell_type": "markdown",
   "id": "9170c0db",
   "metadata": {},
   "source": [
    "상수를 쓰는 이유\n",
    "\n",
    "변수는 알겠는데,\n",
    "상수를 사용하는 이유는 무엇인가요?"
   ]
  },
  {
   "cell_type": "markdown",
   "id": "26c2bbc2",
   "metadata": {},
   "source": [
    "상수를 쓰는 이유\n",
    "\n",
    "변하지 않으면 유지보수가 쉽다.\n",
    "변하는 부분은 프로그래머가 신경을 써줘야 하기 때문이다.\n",
    "\n",
    "최대한 변하지 않는 부분을 늘려야 한다."
   ]
  },
  {
   "cell_type": "markdown",
   "id": "32a4c309",
   "metadata": {},
   "source": [
    "[실습2] 다양한 자료형(2)\n",
    "\n",
    "상수의 역학을 실습을 통해 확인해봅시다!\n",
    "\n",
    "상수로 선언된 변수의 값을 변경한다면?"
   ]
  },
  {
   "cell_type": "markdown",
   "id": "ea077e23",
   "metadata": {},
   "source": [
    "[실습3] 구의 부피 구하기\n",
    "\n",
    "상수 radius를 이용해 구의 부피를 구해봅시다!\n",
    "\n",
    "Example\n",
    "final double PI = 3.141592;\n",
    "int radius = 10;"
   ]
  },
  {
   "cell_type": "markdown",
   "id": "e98fabb8",
   "metadata": {},
   "source": [
    "[실습4] 틀린 코드 찾기\n",
    "\n",
    "틀린 코드를 찾고 알맞는 자료형으로 바꿔봅시다!\n",
    "\n",
    "Example\n",
    "에러 발생!!!!\n",
    "    byte value = 300;\n",
    "    char c = good;\n",
    "    boolean check = TRUE;\n",
    "    long money = 9.99;"
   ]
  },
  {
   "cell_type": "markdown",
   "id": "81d19f9e",
   "metadata": {},
   "source": []
  },
  {
   "cell_type": "markdown",
   "id": "fe561172",
   "metadata": {},
   "source": [
    "다양한 자료형 (2)\n",
    "변수의 값은 변경할 수 있지만, 상수의 값은 변경할 수 없습니다.\n",
    "\n",
    "그러므로 상수의 경우 변하지 않을 것이라 확신할 수 있는 값이 들어갈 때 사용합니다.\n",
    "\n",
    "예시는 다음과 같습니다.\n",
    "\n",
    "final int grade = 100; // 상수 grade는 값이 변경이 불가능합니다.\n",
    "\n",
    "그렇기 때문에 상수를 사용하게 되면 실수로 상수의 값을 바꾸더라도 에러가 나기 때문에 실수를 방지할 수 있습니다.\n",
    "\n",
    "상수의 값을 바꾸려고 했을 때 어떤 문제가 생기는지 실습을 통해 직접 확인해 봅시다.\n",
    "\n",
    "\n",
    "지시사항\n",
    "실행을 눌러 결과를 확인해보고 변수 c를 주석 처리하세요.\n",
    "출력 예시\n",
    "\n",
    "100"
   ]
  },
  {
   "cell_type": "code",
   "execution_count": null,
   "id": "87a2131a",
   "metadata": {},
   "outputs": [],
   "source": [
    "'''\n",
    "package elice;\n",
    "\n",
    "public class Main {\n",
    "\tpublic static void main(String args[]) {\n",
    "\t\t// 아래 코드는 문제 해결을 위해 기본적으로 제공되는 코드입니다. 수정하지 마세요!\n",
    "        final int c = 100;\n",
    "        \n",
    "        // 지시사항 1번을 참고하여 코드를 작성하세요.\n",
    "        // c = 200;\n",
    "        \n",
    "        System.out.println(c);\n",
    "\t}\n",
    "}\n",
    "\n",
    "'''\n",
    "\n",
    "'''\n",
    "100\n",
    "'''"
   ]
  },
  {
   "cell_type": "markdown",
   "id": "1ff8915c",
   "metadata": {},
   "source": [
    "구의 부피 구하기\n",
    "우측 실습을 보면 반지름의 값은 변수 radius에, 원주율의 값은 상수 PI에 선언되어 있습니다.\n",
    "\n",
    "원주율은 변경되지 않기 때문에 상수로 선언되어 있으며, 반지름은 변수로 선언된 것을 볼 수 있습니다.\n",
    "\n",
    "이번엔 변수 radius와 상수 PI를 이용하여 구의 부피를 구하는 실습을 진행해 봅시다.\n",
    "\n",
    "\n",
    "지시사항\n",
    "구의 부피를 계산하는 공식에 변수 radius와 PI를 대입하여 나온 결과를 변수 double형 변수 volume에 저장하고 출력하세요.\n",
    "\n",
    "반지름 변수 radius의 값이 20일 때 구의 부피를 변수 volume에 저장하고 출력하세요.\n",
    "\n",
    "출력 예시\n",
    "\n",
    "4188.789333333333\n",
    "33510.314666666665\n",
    "Copy\n",
    "Tips\n",
    "구의 부피를 구하는 공식은 다음과 같습니다.\n",
    "\n",
    "반지름 : rrr\n",
    "원주율 : π\\piπ\n",
    "구의 부피 : 43πr3\\frac{4}{3}\\pi r^3 \n",
    "3\n",
    "4\n",
    "​\n",
    " πr \n",
    "3\n",
    " \n",
    "구의 부피를 구하는 공식을 작성하실 때 4/3과 같이 작성하시면 연산 결과가 정수로 취급되어 1이 되어버립니다.\n",
    "\n",
    "따라서 4.0 / 3.0처럼 실수로 작성해야 합니다."
   ]
  },
  {
   "cell_type": "code",
   "execution_count": null,
   "id": "fe2c5e11",
   "metadata": {},
   "outputs": [],
   "source": [
    "'''\n",
    "package elice;\n",
    "\n",
    "public class Main {\n",
    "\tpublic static void main(String args[]) {\n",
    "        // 반지름을 저장하는 변수입니다.\n",
    "        int radius = 10;\n",
    "        \n",
    "        // 원주율을 나타내는 상수입니다. 변경될 일이 없으므로 상수로 선언하였습니다.\n",
    "        final double PI = 3.141592;\n",
    "        \n",
    "        \n",
    "        // 지시사항 1번을 참고하여 코드를 작성하세요.\n",
    "        double volume = 4.0 / 3.0 * PI * radius * radius * radius ;\n",
    "        \n",
    "        System.out.println(volume);\n",
    "        \n",
    "        // 반지름을 변경하였습니다.\n",
    "        radius = 20;\n",
    "        \n",
    "        \n",
    "        // 지시사항 2번을 참고하여 코드를 작성하세요.\n",
    "        volume = 4.0 / 3.0 * PI * radius * radius * radius ;\n",
    "        \n",
    "        System.out.println(volume);\n",
    "\t}\n",
    "}\n",
    "\n",
    "'''\n",
    "\n",
    "'''\n",
    "4188.789333333333\n",
    "33510.314666666665\n",
    "'''"
   ]
  },
  {
   "cell_type": "markdown",
   "id": "2071700b",
   "metadata": {},
   "source": [
    "틀린 코드 찾기\n",
    "변수를 선언할 땐 각 상황에 맞는 올바른 자료형을 사용해야 합니다.\n",
    "\n",
    "현재 작성된 코드는 복합적인 이유로 오류가 발생하고 있습니다.\n",
    "\n",
    "그 이유는 앞서 배웠던 올바른 자료형을 사용하지 않기 때문입니다.\n",
    "\n",
    "실습을 통해 코드를 수정해 올바른 출력이 나오도록 해 봅시다.\n",
    "\n",
    "\n",
    "지시사항\n",
    "코드가 오류를 일으키지 않도록 수정하세요.\n",
    "출력 예시\n",
    "\n",
    "300\n",
    "good\n",
    "true\n",
    "9.99\n",
    "\n",
    "Tips\n",
    "byte 자료형은 -127부터 128까지 저장 가능한 자료형으로 이 이상의 범위를 저장할 수 없습니다.\n",
    "\n",
    "char 자료형은 문자를, String 자료형은 문자열을 저장할 수 있습니다.\n",
    "\n",
    "boolean 자료형은 true, false의 값을 사용하며 소문자이어야 합니다.\n",
    "\n",
    "실수를 저장하기 위해서는 float이나 double 자료형을 사용해야 합니다."
   ]
  },
  {
   "cell_type": "code",
   "execution_count": null,
   "id": "ae5d32e1",
   "metadata": {},
   "outputs": [],
   "source": [
    "'''\n",
    "package elice;\n",
    "\n",
    "public class Main {\n",
    "\tpublic static void main(String args[]) {\n",
    "        // 지시사항 1번을 참고하여 코드를 작성하세요.\n",
    "        int value = 300; \n",
    "        String c = \"good\";     \n",
    "        boolean check = true; \n",
    "        double money = 9.99;\n",
    "        \n",
    "        System.out.println(value);\n",
    "        System.out.println(c);\n",
    "        System.out.println(check);\n",
    "        System.out.println(money);\n",
    "\t}\n",
    "}\n",
    "\n",
    "'''\n",
    "\n",
    "'''\n",
    "300\n",
    "good\n",
    "true\n",
    "9.99\n",
    "'''"
   ]
  },
  {
   "cell_type": "markdown",
   "id": "fb9c81e0",
   "metadata": {},
   "source": []
  },
  {
   "cell_type": "markdown",
   "id": "f4f12b08",
   "metadata": {},
   "source": [
    "03. 자료형 변환"
   ]
  },
  {
   "cell_type": "markdown",
   "id": "d22a17b4",
   "metadata": {},
   "source": [
    "정수형 -> 실수형\n",
    "\n",
    "정수는 문제 없이 실수로 변환할 수 있다.\n",
    "\n",
    "Example\n",
    "int intValue = 20;\n",
    "double realValue = intValue; // OK"
   ]
  },
  {
   "cell_type": "markdown",
   "id": "2b62dabb",
   "metadata": {},
   "source": [
    "실수형 -> 정수형\n",
    "\n",
    "실수를 정수로 변환하려면 형 변환을 해야 한다.\n",
    "\n",
    "Example\n",
    "double height = 30.5;\n",
    "int weight;\n",
    "weight = height; // 오류 발생\n",
    "weight = (int)height; // 명시적 형변환"
   ]
  },
  {
   "cell_type": "markdown",
   "id": "da9a680d",
   "metadata": {},
   "source": [
    "[실습5] 자료형 변환\n",
    "double형 변수를 int형 변수로 변환해 봅시다!\n",
    "\n",
    "int 형 변수 -> double 형 변수\n",
    "double 형 변수 -> int 형 변수"
   ]
  },
  {
   "cell_type": "markdown",
   "id": "a88e96bc",
   "metadata": {},
   "source": []
  },
  {
   "cell_type": "markdown",
   "id": "74db3dae",
   "metadata": {},
   "source": [
    "자료형 변환\n",
    "자료형 변환이란 자료형을 다른 자료형으로 변환하는 것을 말합니다.\n",
    "\n",
    "예를 들어 int타입을 double 타입으로 바꾸거나 double타입을 int타입으로 바꾸는 것을 의미합니다.\n",
    "\n",
    "형변환은 **캐스팅(casting)**이라고도 하며 허용 범위가 작은 타입이 허용 범위가 큰 타입으로 저장될 때 자동 형변환이라 표현하고 허용 범위가 큰 타입이 허용 범위가 작은 타입으로 저장될 때 강제 형변환이라 합니다.\n",
    "\n",
    "실습을 통해 자동 형변환과 강제 형 변환을 배워봅시다.\n",
    "\n",
    "\n",
    "지시사항\n",
    "코드가 오류를 일으키지 않도록 weight를 정수형으로 캐스팅하세요.\n",
    "출력 예시\n",
    "\n",
    "20.0\n",
    "33\n",
    "\n",
    "Tips\n",
    "강제 형 변환(캐스팅)을 하게 되면 자료가 일부 소실될 수 있습니다."
   ]
  },
  {
   "cell_type": "code",
   "execution_count": null,
   "id": "2b98558b",
   "metadata": {},
   "outputs": [],
   "source": [
    "'''\n",
    "package elice;\n",
    "\n",
    "public class Main {\n",
    "\tpublic static void main(String args[]) {\n",
    "        // 정수형 자료를 실수형으로 변환\n",
    "        int height = 20;\n",
    "        double weight;\n",
    "        weight = height;\n",
    "        \n",
    "        System.out.println(weight);\n",
    "        \n",
    "        // 실수형 자료를 정수형으로 변환\n",
    "        weight = 33.5;\n",
    "        height = 0;\n",
    "        // 지시사항 1번을 참고하여 코드를 작성하세요.\n",
    "        height = (int)weight;\n",
    "        \n",
    "        System.out.println(height);\n",
    "\t}\n",
    "}\n",
    "'''\n",
    "\n",
    "'''\n",
    "20.0\n",
    "33\n",
    "'''"
   ]
  },
  {
   "cell_type": "markdown",
   "id": "63a8b74d",
   "metadata": {},
   "source": []
  },
  {
   "cell_type": "markdown",
   "id": "6f1ec053",
   "metadata": {},
   "source": [
    "04. 다양한 연산자"
   ]
  },
  {
   "cell_type": "markdown",
   "id": "5133a20c",
   "metadata": {},
   "source": [
    "연산자란?\n",
    "\n",
    "연산자란\n",
    "- Operator\n",
    "- 작용, 계산을 하는 매개자\n",
    "- 우리는 변수, 상수를 사용해서(값) 연산자를 활용한다."
   ]
  },
  {
   "cell_type": "markdown",
   "id": "2f84d336",
   "metadata": {},
   "source": [
    "대입 연산자 =\n",
    "\n",
    "오른쪽의 값을 왼쪽 변수에 대입\n",
    "\n",
    "Example\n",
    "int age;\n",
    "age = 10;"
   ]
  },
  {
   "cell_type": "markdown",
   "id": "20bd76c7",
   "metadata": {},
   "source": [
    "부호 연산자\n",
    "\n",
    "양수, 또는 음수를 나타낸다.\n",
    "\n",
    "int num = 3;\n",
    "\n",
    "System.out.println(num); //3\n",
    "System.out.println(+num); //3\n",
    "System.out.println(-num); //-3"
   ]
  },
  {
   "cell_type": "markdown",
   "id": "d23b882d",
   "metadata": {},
   "source": [
    "산술 연산자\n",
    "\n",
    "사칙연산과 나머지 연산\n",
    "\n",
    "가장 기초적인 연산\n",
    "\n",
    "Example\n",
    "int a = 3;\n",
    "int b = 2;\n",
    "\n",
    "System.out.println(3 + 2); // 5\n",
    "System.out.println(a - 3); // 0\n",
    "System.out.println(a * b); // 6\n",
    "System.out.println(a / b); // 1\n",
    "System.out.println(a % b); // 1 (나머지 연산)"
   ]
  },
  {
   "cell_type": "markdown",
   "id": "e59daf64",
   "metadata": {},
   "source": [
    "증감 연산자 \n",
    "\n",
    "변수의 값을 1만큼 증가, 감소시킨다.\n",
    "\n",
    "Example\n",
    "\n",
    "num++; // num = num + 1;\n",
    "num--; // num = num - 1;"
   ]
  },
  {
   "cell_type": "markdown",
   "id": "684c389f",
   "metadata": {},
   "source": [
    "복합 대입 연산자 \n",
    "\n",
    "연산 결과를 바로 저장\n",
    "\n",
    "int num = 3;\n",
    "\n",
    "num += 1;\n",
    "num -= 1;\n",
    "num *= 3;\n",
    "num /= 4;\n",
    "num %= 5;"
   ]
  },
  {
   "cell_type": "markdown",
   "id": "6b31f365",
   "metadata": {},
   "source": [
    "[실습6] 다양한 연산자\n",
    "\n",
    "다양한 연산자를 사용해봅시다!\n",
    "\n",
    "덧셈, 빨셈, 곱셈, 나눗셈, 나머지 연산자, 음수 기호"
   ]
  },
  {
   "cell_type": "markdown",
   "id": "774d6d06",
   "metadata": {},
   "source": [
    "[실습7] 증감 연산자\n",
    "\n",
    "증감 연산자의 위치에 따라 결과를 확인해봅시다!\n",
    "\n",
    "result = num ++;\n",
    "result2 = ++ num;"
   ]
  },
  {
   "cell_type": "markdown",
   "id": "80a6f31b",
   "metadata": {},
   "source": []
  },
  {
   "cell_type": "markdown",
   "id": "ba7d3fe9",
   "metadata": {},
   "source": [
    "다양한 연산자\n",
    "2장에서는 대입 연산자, 부호 연산자, 산술 연산자 등 연산자에 대해 배워 보았습니다.\n",
    "\n",
    "사용법은 다음과 같습니다.\n",
    "\n",
    "c = a + b; // a와 b를 더해 c에 저장\n",
    "c = a - b; // a에서 b를 빼 c에 저장\n",
    "c = a * b; // a와 b를 곱해 c에 저장\n",
    "c = a / b; // a를 b로 나눈 몫을 c에 저장\n",
    "c = a % b; // a를 b로 나눈 나머지를 c에 저장\n",
    "c = -a; // a가 양수일 때 음수, 음수일 때 양수 값을 c에 저장\n",
    "\n",
    "이를 잘 활용해서 실습을 진행해 봅시다.\n",
    "\n",
    "\n",
    "지시사항\n",
    "a + b, a - b를 출력하는 코드를 참고하여 a * b를 출력하는 코드를 작성하세요.\n",
    "\n",
    "a / b를 출력하는 코드를 작성하세요.\n",
    "\n",
    "a % b를 출력하는 코드를 작성하세요.\n",
    "\n",
    "a의 값을 음수로 출력하는 코드를 작성하세요.\n",
    "\n",
    "출력 예시\n",
    "\n",
    "//a가 4 b가 3일 때\n",
    "5\n",
    "1\n",
    "6\n",
    "1\n",
    "1\n",
    "-3"
   ]
  },
  {
   "cell_type": "code",
   "execution_count": null,
   "id": "e783ff80",
   "metadata": {},
   "outputs": [],
   "source": [
    "'''\n",
    "package elice;\n",
    "\n",
    "public class Main {\n",
    "\tpublic static void main(String args[]) {\n",
    "\t\tint a = 3;\n",
    "        int b = 2;\n",
    "        \n",
    "        System.out.println(a + b);\n",
    "        System.out.println(a - b);\n",
    "        \n",
    "        // 지시사항 1번을 참고하여 코드를 작성하세요.\n",
    "        System.out.println(a * b);\n",
    "\n",
    "        // 지시사항 2번을 참고하여 코드를 작성하세요.\n",
    "        System.out.println(a / b);\n",
    "\n",
    "        // 지시사항 3번을 참고하여 코드를 작성하세요.\n",
    "        System.out.println(a % b);\n",
    "\n",
    "        // 지시사항 4번을 참고하여 코드를 작성하세요.\n",
    "        System.out.println(-a);\n",
    "\n",
    "\t}\n",
    "}\n",
    "\n",
    "'''\n",
    "\n",
    "'''\n",
    "5\n",
    "1\n",
    "6\n",
    "1\n",
    "1\n",
    "-3\n",
    "'''"
   ]
  },
  {
   "cell_type": "markdown",
   "id": "8b894fd8",
   "metadata": {},
   "source": [
    "\n",
    "num++; : 변수 num의 값이 1 증가하게 됩니다.\n",
    "\n",
    "num--; : 변수 num의 값이 1 감소하게 됩니다.\n",
    "\n",
    "증감 연산자는 사용하는 방식이 두 종류가 있습니다.\n",
    "\n",
    "value = num++;\n",
    "value = ++num;\n",
    "Copy\n",
    "num++의 경우 value에 값을 대입한 뒤에 num이 1 증가합니다.\n",
    "\n",
    "++num의 경우 먼저 num이 1 증가하고 그 뒤에 value에 값을 대입합니다.\n",
    "\n",
    "위 두 방식의 차이를 인지하여 실습을 진행해 봅시다.\n",
    "\n",
    "\n",
    "지시사항\n",
    "변수 num 뒤에 증가 연산자(++)를 사용하여 int형 변수 result에 저장하세요.\n",
    "\n",
    "변수 num 앞에 증가 연산자(++)를 사용하여 int형 변수 result2에 저장하세요.\n",
    "\n",
    "출력 예시\n",
    "\n",
    "num : 6\n",
    "result : 5\n",
    "num : 6\n",
    "result2 : 6"
   ]
  },
  {
   "cell_type": "code",
   "execution_count": null,
   "id": "b00ae05f",
   "metadata": {},
   "outputs": [],
   "source": [
    "'''\n",
    "package elice;\n",
    "\n",
    "public class Main {\n",
    "\tpublic static void main(String args[]) {\n",
    "        int num = 5;\n",
    "        \n",
    "        // 지시사항 1번을 참고하여 코드를 작성하세요.\n",
    "        int result = num++;\n",
    "        \n",
    "        System.out.println(\"num : \" + num);\n",
    "        System.out.println(\"result : \" + result);\n",
    "        \n",
    "        \n",
    "        \n",
    "        num = 5;\n",
    "        \n",
    "        // 지시사항 2번을 참고하여 코드를 작성하세요.\n",
    "        int result2 = ++num;\n",
    "        \n",
    "        System.out.println(\"num : \" + num);\n",
    "        System.out.println(\"result2 : \" + result2);\n",
    "    }\n",
    "}\n",
    "'''\n",
    "\n",
    "'''\n",
    "num : 6\n",
    "result : 5\n",
    "num : 6\n",
    "result2 : 6\n",
    "'''"
   ]
  },
  {
   "cell_type": "markdown",
   "id": "f5b6dc06",
   "metadata": {},
   "source": []
  },
  {
   "cell_type": "markdown",
   "id": "0beb4755",
   "metadata": {},
   "source": [
    "05. 입력문"
   ]
  },
  {
   "cell_type": "markdown",
   "id": "1b790885",
   "metadata": {},
   "source": [
    "입력문?\n",
    "\n",
    "입력문은 프로그램에\n",
    "필요한 숫자 혹은 문자(열)을 입력 받는 방법"
   ]
  },
  {
   "cell_type": "markdown",
   "id": "78c0bb47",
   "metadata": {},
   "source": [
    "입력 선언(Scanner 클래스)\n",
    "\n",
    "1. 프로그램 상단에 import문을 추가\n",
    "\n",
    "Example\n",
    "import java.util.Scanner;"
   ]
  },
  {
   "cell_type": "markdown",
   "id": "7a415d67",
   "metadata": {},
   "source": [
    "입력 선언(Scanner 클래스)\n",
    "\n",
    "2. 표준 입력을 선언(사용하겠다)\n",
    "\n",
    "Example\n",
    "Scanner scanner = new Scanner(System.in);"
   ]
  },
  {
   "cell_type": "markdown",
   "id": "58a7900a",
   "metadata": {},
   "source": [
    "숫자 입력 받기\n",
    "\n",
    "3. scanner 변수를 활용하여 int값 입력 받기\n",
    "4. scanner 변수를 활용하여 double 값 입력 받기\n",
    "\n",
    "Example\n",
    "int number = scanner.nextInt();\n",
    "double grade = scanner.nextDouble();"
   ]
  },
  {
   "cell_type": "markdown",
   "id": "05a9f88c",
   "metadata": {},
   "source": [
    "문자 입력 받기\n",
    "\n",
    "5. scanner 변수를 활용하여 String값 입력받기\n",
    "\n",
    "Example\n",
    "String name = scanner.nextLine();"
   ]
  },
  {
   "cell_type": "markdown",
   "id": "ca699474",
   "metadata": {},
   "source": [
    "[실습8] 여러가지 값 입력받기\n",
    "\n",
    "Scanner를 사용하여 여러가지 자료형을 입력받아 봅시다!\n",
    "String   int   double"
   ]
  },
  {
   "cell_type": "markdown",
   "id": "9a0c1068",
   "metadata": {},
   "source": [
    "Example\n",
    "import java.util.Scanner;\n",
    "Scanner scanner = new Scanner(System.in);\n",
    "int number = scanner.nextInt();\n",
    "double grade = scanner.nextDouble();\n",
    "String name = scanner.nextLine();"
   ]
  },
  {
   "cell_type": "markdown",
   "id": "4a25adb2",
   "metadata": {},
   "source": []
  },
  {
   "cell_type": "markdown",
   "id": "c2e539bd",
   "metadata": {},
   "source": [
    "여러가지 값 입력받기\n",
    "자바에서는 Scanner를 사용하여 값을 입력을 받을 수 있습니다.\n",
    "\n",
    "Scanner를 사용하기 위해서는 java.util패키지에서 import를 사용하여 불러와야 합니다.\n",
    "\n",
    "import java.util.Scanner;\n",
    "\n",
    "그 다음 Scanner의 객체를 생성하여 System.in으로 입력한 값을 바이트 단위로 읽을 수 있습니다.\n",
    "\n",
    "Scanner input = new Scanner(System.in); // 객체의 이름을 input으로 선언\n",
    "\n",
    "next + 자료형()구조를 사용하면 입력받은 값을 각 자료형에 맞는 값으로 돌려줍니다.\n",
    "\n",
    "정수를 입력 받는 예시\n",
    "\n",
    "int i = input.nextInt(); //입력 받은 값을 정수로 반환해 변수 i에 저장\n",
    "\n",
    "실수를 입력 받는 예시\n",
    "\n",
    "int j = input.nextDouble(); //입력 받은 값을 정수로 반환해 변수 j에 저장\n",
    "Copy\n",
    "resource leak를 막기 위해서 Scanner 기능이 모두 완료되는 시점에 scanner.close(); 를 해주어야 한다.\n",
    "\n",
    ".close() 는 Scanner가 참조하고 있는 스트림을 종료해주는 메소드이다.\n",
    "\n",
    "실습을 통해 정수와 실수를 입력받아 출력하는 코드를 작성해 봅시다.\n",
    "\n",
    "\n",
    "지시사항\n",
    "Scanner 를 사용하기 위한 패키지를 선언하세요.\n",
    "\n",
    "nextLine()을 이용하여 이름을 입력 받으세요.\n",
    "\n",
    "nextInt()을 이용하여 행운의 숫자를 입력 받으세요.\n",
    "\n",
    "nextDouble()을 이용하여 학점을 입력 받으세요.\n",
    "\n",
    "Scanner사용의 종료를 알리는 코드를 작성해보세요."
   ]
  },
  {
   "cell_type": "code",
   "execution_count": null,
   "id": "e47bf7d2",
   "metadata": {},
   "outputs": [],
   "source": [
    "'''\n",
    "package elice;\n",
    "\n",
    "// 지시사항 1번을 참고하여 코드를 작성하세요.\n",
    "import java.util.Scanner;\n",
    "\n",
    "public class Main {\n",
    "\tpublic static void main(String[] args) {\n",
    "\t\tScanner scanner = new Scanner(System.in);\n",
    "\t\t\n",
    "\t\tSystem.out.println(\"당신의 이름은?\");\n",
    "\t\t// 지시사항 2번을 참고하여 코드를 작성하세요.\n",
    "        String name = scanner.nextLine();\n",
    "\n",
    "\t\tSystem.out.println(\"행운의 숫자를 입력하세요? \");\n",
    "\t\t// 지시사항 3번을 참고하여 코드를 작성하세요.\n",
    "        int luckyNumber = scanner.nextInt();\n",
    "\t\t\n",
    "\t\tSystem.out.println(\"받고 싶은 학점을 입력하세요? \");\n",
    "\t\t// 지시사항 4번을 참고하여 코드를 작성하세요.\n",
    "        double grade = scanner.nextDouble();\n",
    "\t\t\t\t\n",
    "\t\tSystem.out.println(\"이름: \" + name);\n",
    "\t\tSystem.out.println(\"행운의 숫자: \" + luckyNumber);\n",
    "\t\tSystem.out.println(\"학점: \" + grade);\n",
    "\t\t\n",
    "\t\t// 지시사항 5번을 참고하여 코드를 작성하세요.\n",
    "        scanner.close();\n",
    "\t}\n",
    "}\n",
    "'''\n",
    "\n",
    "'''\n",
    "당신의 이름은?\n",
    "kim\n",
    "행운의 숫자를 입력하세요? \n",
    "7\n",
    "받고 싶은 학점을 입력하세요? \n",
    "4.8\n",
    "이름: kim\n",
    "행운의 숫자: 7\n",
    "학점: 4.8\n",
    "'''"
   ]
  }
 ],
 "metadata": {
  "kernelspec": {
   "display_name": "Python 3",
   "language": "python",
   "name": "python3"
  },
  "language_info": {
   "codemirror_mode": {
    "name": "ipython",
    "version": 3
   },
   "file_extension": ".py",
   "mimetype": "text/x-python",
   "name": "python",
   "nbconvert_exporter": "python",
   "pygments_lexer": "ipython3",
   "version": "3.8.8"
  }
 },
 "nbformat": 4,
 "nbformat_minor": 5
}
