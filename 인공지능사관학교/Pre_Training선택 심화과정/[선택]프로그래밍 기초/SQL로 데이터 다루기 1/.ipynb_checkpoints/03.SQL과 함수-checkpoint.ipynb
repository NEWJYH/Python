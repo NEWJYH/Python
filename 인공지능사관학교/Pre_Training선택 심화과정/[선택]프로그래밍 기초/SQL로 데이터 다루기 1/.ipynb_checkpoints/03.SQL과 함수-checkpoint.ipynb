{
 "cells": [
  {
   "cell_type": "markdown",
   "id": "9fb424f3",
   "metadata": {},
   "source": [
    "SQL과 함수"
   ]
  },
  {
   "cell_type": "markdown",
   "id": "f8e46335",
   "metadata": {},
   "source": [
    "목 차\n",
    "\n",
    "01. COUNT\n",
    "\n",
    "02. LIMIT\n",
    "\n",
    "03. SUM & AVG\n",
    "\n",
    "04. MAX & MIN"
   ]
  },
  {
   "cell_type": "markdown",
   "id": "49f2dfc3",
   "metadata": {},
   "source": [
    "< 함수 >\n",
    "\n",
    "1. 데이터 값을 계산하거나 조작 : 행 함수\n",
    "\n",
    "2. 행의 그룹을 계산하거나 요약 : 그룹 함수\n",
    "\n",
    "3. 열의 데이터 타입을 변환"
   ]
  },
  {
   "cell_type": "markdown",
   "id": "bc29d25f",
   "metadata": {},
   "source": []
  },
  {
   "cell_type": "markdown",
   "id": "bd8b2a74",
   "metadata": {},
   "source": [
    "01. COUNT"
   ]
  },
  {
   "cell_type": "markdown",
   "id": "1e76e331",
   "metadata": {},
   "source": [
    "데이터가 몇 개인지 궁금하다면?\n",
    "\n",
    "엘리스 도서관의 사서인 도도새는 문득 우리 도서관의 책이\n",
    "모두 몇 개일까 궁금해졌다.\n",
    "\n",
    "책 정보를 저장하는 book테이블에서 \n",
    "전체 책 수를 조회해보자."
   ]
  },
  {
   "cell_type": "markdown",
   "id": "cdb2f9f8",
   "metadata": {},
   "source": []
  },
  {
   "cell_type": "markdown",
   "id": "5d75aca9",
   "metadata": {},
   "source": []
  },
  {
   "cell_type": "markdown",
   "id": "0fe84e5b",
   "metadata": {},
   "source": []
  },
  {
   "cell_type": "markdown",
   "id": "533b087b",
   "metadata": {},
   "source": []
  },
  {
   "cell_type": "markdown",
   "id": "3f786054",
   "metadata": {},
   "source": []
  },
  {
   "cell_type": "markdown",
   "id": "98201e54",
   "metadata": {},
   "source": []
  },
  {
   "cell_type": "markdown",
   "id": "26b4e6b0",
   "metadata": {},
   "source": []
  },
  {
   "cell_type": "markdown",
   "id": "691fdfee",
   "metadata": {},
   "source": []
  },
  {
   "cell_type": "markdown",
   "id": "c13b1fb1",
   "metadata": {},
   "source": []
  },
  {
   "cell_type": "markdown",
   "id": "3d63317b",
   "metadata": {},
   "source": []
  },
  {
   "cell_type": "markdown",
   "id": "1249811a",
   "metadata": {},
   "source": []
  },
  {
   "cell_type": "markdown",
   "id": "882411e5",
   "metadata": {},
   "source": []
  },
  {
   "cell_type": "markdown",
   "id": "66934a44",
   "metadata": {},
   "source": []
  },
  {
   "cell_type": "markdown",
   "id": "3ef5cf0a",
   "metadata": {},
   "source": []
  },
  {
   "cell_type": "markdown",
   "id": "dd6afaa0",
   "metadata": {},
   "source": []
  },
  {
   "cell_type": "markdown",
   "id": "a1803f5b",
   "metadata": {},
   "source": []
  },
  {
   "cell_type": "markdown",
   "id": "129891ad",
   "metadata": {},
   "source": []
  },
  {
   "cell_type": "markdown",
   "id": "da8cdc44",
   "metadata": {},
   "source": []
  },
  {
   "cell_type": "markdown",
   "id": "c0720cfd",
   "metadata": {},
   "source": []
  },
  {
   "cell_type": "markdown",
   "id": "56aae6c9",
   "metadata": {},
   "source": []
  },
  {
   "cell_type": "markdown",
   "id": "c07a068c",
   "metadata": {},
   "source": []
  },
  {
   "cell_type": "markdown",
   "id": "6524fc23",
   "metadata": {},
   "source": []
  },
  {
   "cell_type": "markdown",
   "id": "c8180052",
   "metadata": {},
   "source": []
  },
  {
   "cell_type": "markdown",
   "id": "2f06017e",
   "metadata": {},
   "source": []
  },
  {
   "cell_type": "markdown",
   "id": "afaf7c8d",
   "metadata": {},
   "source": []
  },
  {
   "cell_type": "markdown",
   "id": "b86b4b17",
   "metadata": {},
   "source": []
  },
  {
   "cell_type": "markdown",
   "id": "7fc86b26",
   "metadata": {},
   "source": []
  },
  {
   "cell_type": "markdown",
   "id": "f138b27b",
   "metadata": {},
   "source": []
  },
  {
   "cell_type": "markdown",
   "id": "c713a621",
   "metadata": {},
   "source": []
  },
  {
   "cell_type": "markdown",
   "id": "08480fad",
   "metadata": {},
   "source": []
  },
  {
   "cell_type": "markdown",
   "id": "f0a70417",
   "metadata": {},
   "source": []
  },
  {
   "cell_type": "markdown",
   "id": "9729a35f",
   "metadata": {},
   "source": []
  },
  {
   "cell_type": "markdown",
   "id": "a1e3883b",
   "metadata": {},
   "source": []
  },
  {
   "cell_type": "markdown",
   "id": "20efc984",
   "metadata": {},
   "source": []
  },
  {
   "cell_type": "markdown",
   "id": "38f074f6",
   "metadata": {},
   "source": []
  },
  {
   "cell_type": "markdown",
   "id": "461224f1",
   "metadata": {},
   "source": []
  },
  {
   "cell_type": "markdown",
   "id": "6b8c6ffb",
   "metadata": {},
   "source": []
  },
  {
   "cell_type": "markdown",
   "id": "2c73decc",
   "metadata": {},
   "source": []
  },
  {
   "cell_type": "markdown",
   "id": "fbf81163",
   "metadata": {},
   "source": []
  }
 ],
 "metadata": {
  "kernelspec": {
   "display_name": "Python 3",
   "language": "python",
   "name": "python3"
  },
  "language_info": {
   "codemirror_mode": {
    "name": "ipython",
    "version": 3
   },
   "file_extension": ".py",
   "mimetype": "text/x-python",
   "name": "python",
   "nbconvert_exporter": "python",
   "pygments_lexer": "ipython3",
   "version": "3.8.8"
  }
 },
 "nbformat": 4,
 "nbformat_minor": 5
}
