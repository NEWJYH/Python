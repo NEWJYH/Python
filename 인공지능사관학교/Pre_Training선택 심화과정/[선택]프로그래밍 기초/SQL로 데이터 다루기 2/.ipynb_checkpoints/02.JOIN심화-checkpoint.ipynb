{
 "cells": [
  {
   "cell_type": "markdown",
   "id": "20d12d45",
   "metadata": {},
   "source": [
    "목 차\n",
    "\n",
    "01. JOIN\n",
    "\n",
    "02. FROM 절 JOIN 형태\n",
    "\n",
    "03. 셀프 조인"
   ]
  },
  {
   "cell_type": "markdown",
   "id": "eb4bc285",
   "metadata": {},
   "source": [
    "01. JOIN"
   ]
  },
  {
   "cell_type": "markdown",
   "id": "eebac5d8",
   "metadata": {},
   "source": [
    "JOIN(교집합)\n",
    "\n",
    "두 개 이상의 테이블들을\n",
    "연결 또는 결합하여 데이터를 출력하는 것\n",
    "\n",
    "연산자에 따라 JOIN 방식 분류 시\n",
    "\n",
    "EQUI JOIN          Non EQUI JOIN"
   ]
  },
  {
   "cell_type": "markdown",
   "id": "4565101a",
   "metadata": {},
   "source": [
    "EQUI JOIN(등가 교집합)\n",
    "\n",
    "두 개의 테이블 간의 서로 정확하게 일치하는 경우를 활용하는 조인\n",
    "\n",
    "간단히 말해, 등가 연산자를 사용한 조인을 의미\n",
    "\n",
    "=\n",
    "\n",
    "대부분 기본키-외래키 관계를 기반으로 발생하나,\n",
    "모든 조인이 그런 것은 아니다"
   ]
  },
  {
   "cell_type": "markdown",
   "id": "6e9c140f",
   "metadata": {},
   "source": [
    " Non EQUI JOIN(비등가 교집합)\n",
    " \n",
    " 두 개의 테이블 간에 서로 정확하게 일치하지 않는 경우를 활용하는 조인\n",
    " \n",
    " 간단히 말해,\n",
    " 등가 연산자(=) 이외의 연산자들을 사용한 조인을 의미\n",
    " \n",
    " > >= <= < BETWEEN"
   ]
  },
  {
   "cell_type": "markdown",
   "id": "7c4cf062",
   "metadata": {},
   "source": []
  },
  {
   "cell_type": "markdown",
   "id": "40cf676f",
   "metadata": {},
   "source": [
    "[이론]FROM절 JOIN형태 - INNER JOIN/ON"
   ]
  },
  {
   "cell_type": "markdown",
   "id": "08ab1715",
   "metadata": {},
   "source": [
    "INNER JOIN\n",
    "\n",
    "내부 JOIN이라고 하며 JOIN조건에서\n",
    "동일한 값이 있는 행만 반환\n",
    "INNER JOIN은 JOIN의 기본값으로\n",
    "INNER생략 가능\n",
    "\n",
    "\n",
    "예시\n",
    "SELECT * FROM 테이블1 [INNER]JOIN테이블2\n",
    "                     ------------------\n",
    "INNER JOIN구로 테이블정의\n",
    "\n",
    "ON 테이블1.컬럼명 = 테이블2.컬럼명 ;\n",
    "- ON구를 사용해 조인 조건 지정\n"
   ]
  },
  {
   "cell_type": "markdown",
   "id": "67996264",
   "metadata": {},
   "source": [
    "INNER JOIN\n",
    "\n",
    "USER\n",
    "USER_ID    NAME      CLASS_ID\n",
    "1000       모자장수    001\n",
    "1001       엘리스토끼  002\n",
    "1002       체셔       001\n",
    "1003       도도새     002\n",
    "\n",
    "CLASS\n",
    "ID         CLASS\n",
    "001        A\n",
    "002        B\n",
    "\n",
    "예시\n",
    "SELECT * FROM USER AS a JOIN CLASS AS b\n",
    "ON a.CLASS_ID = b.ID;\n",
    "- ON조건절을 활용하면 컬럼명이 다르더라도 JOIN조건을 사용 가능\n",
    "\n",
    "결과값 \n",
    "USER_ID    NAME      CLASS_ID     ID     CLASS    \n",
    "1000       모자장수    001         001       A\n",
    "1001       엘리스토끼  002         002       B\n",
    "1002       체셔       001         001       A\n",
    "1003       도도새     002          002       B\n"
   ]
  },
  {
   "cell_type": "markdown",
   "id": "ab73eb56",
   "metadata": {},
   "source": []
  },
  {
   "cell_type": "markdown",
   "id": "b3f11013",
   "metadata": {},
   "source": [
    "FROM절 JOIN 형태 - INNER JOIN/ON\n",
    "EMPLOYEE 테이블과 POSITION_T 테이블에는 각 테이블의 구조에 맞도록 사원 정보 및 직급 정보가 담겨 있습니다.\n",
    "\n",
    "EMPLOYEE 테이블의 사원 정보에는 직급의 명칭이 담겨있지 않고, 어떤 직급인지에 대한 직급 ID가 담겨있습니다.\n",
    "\n",
    "각 사원 정보에 따라서 직급 명칭을 알기 위해 INNER JOIN과 ON을 활용하여 사원 번호(EMPLOYEE_ID), 이름(NAME), 직급 명칭(POSITION_NAME) 을 조회하는 쿼리를 작성해봅시다.\n",
    "\n",
    "\n",
    "\n",
    "지시사항\n",
    "EMPLOYEE테이블과 POSITION_T 테이블에서 직급 ID(POSITION_ID) 가 같은 데이터에 대해 INNER JOIN절 과 ON절을 이용하여 사원 번호(EMPLOYEE_ID), 이름(NAME), 직급 명칭(POSITION_NAME) 을 조회하는 쿼리를 작성하세요.\n",
    "\n",
    "Tips!\n",
    "결과에 대해 ORDER BY 를 이용하여 사원 번호를 기준으로 오름차순 정렬을 해주세요.\n",
    "데이터 조회순서는 지시사항에서 언급하고 있는 순서대로 정확히 작성하세요."
   ]
  },
  {
   "cell_type": "code",
   "execution_count": null,
   "id": "6a5936fa",
   "metadata": {},
   "outputs": [],
   "source": [
    "'''\n",
    "-- 아래 쿼리는 EMPLOYEE, POSITION_T 테이블의 구조를 나타냅니다. 해당 테이블을 수정할 필요는 없습니다.\n",
    "DESC EMPLOYEE;\n",
    "DESC POSITION_T;\n",
    "\n",
    "SELECT * FROM EMPLOYEE;\n",
    "SELECT * FROM POSITION_T;\n",
    "\n",
    "-- EMPLOYEE 테이블과 POSITION_T 테이블에 대해 POSITION_ID가 같은 데이터에 대해\n",
    "-- 사원번호(EMPLOYEE_ID)와 이름(NAME), 직급명칭(POSITION_NAME)을 조회하는 쿼리를 작성해보세요.\n",
    "\n",
    "SELECT EMPLOYEE_ID, NAME, POSITION_NAME \n",
    "FROM EMPLOYEE AS a JOIN POSITION_T AS b\n",
    "ON a.POSITION_ID = b.POSITION_ID;\n",
    "'''\n",
    "\n",
    "'''\n",
    "\n",
    "+---------------+-------------+------+-----+---------+-------+\n",
    "| Field         | Type        | Null | Key | Default | Extra |\n",
    "+---------------+-------------+------+-----+---------+-------+\n",
    "| POSITION_ID   | varchar(10) | NO   | PRI | NULL    |       |\n",
    "| POSITION_NAME | varchar(50) | NO   |     | NULL    |       |\n",
    "+---------------+-------------+------+-----+---------+-------+\n",
    "+-------------+------+-------------+\n",
    "| EMPLOYEE_ID | NAME | POSITION_ID |\n",
    "+-------------+------+-------------+\n",
    "| E001        | kim  | P01         |\n",
    "| E002        | song | P02         |\n",
    "| E003        | kim  | P02         |\n",
    "| E004        | kim  | P03         |\n",
    "| E005        | moon | P03         |\n",
    "| E006        | lee  | P04         |\n",
    "+-------------+------+-------------+\n",
    "+-------------+---------------+\n",
    "| POSITION_ID | POSITION_NAME |\n",
    "+-------------+---------------+\n",
    "| P01         | 부장          |\n",
    "| P02         | 차장          |\n",
    "| P03         | 과장          |\n",
    "| P04         | 대리          |\n",
    "+-------------+---------------+\n",
    "+-------------+------+---------------+\n",
    "| EMPLOYEE_ID | NAME | POSITION_NAME |\n",
    "+-------------+------+---------------+\n",
    "| E001        | kim  | 부장          |\n",
    "| E002        | song | 차장          |\n",
    "| E003        | kim  | 차장          |\n",
    "| E004        | kim  | 과장          |\n",
    "| E005        | moon | 과장          |\n",
    "| E006        | lee  | 대리          |\n",
    "+-------------+------+---------------+\n",
    "'''"
   ]
  },
  {
   "cell_type": "markdown",
   "id": "00cc57cf",
   "metadata": {},
   "source": [
    "FROM절 JOIN 형태 - INNER JOIN/ON\n",
    "STORE 테이블에는 가게 타입 코드와 가게 이름 정보가 담겨 있으며, STORE_TYPE_CODE 테이블에는 가게 타입 코드와 타입 이름 정보가 담겨 있습니다.\n",
    "\n",
    "STORE 테이블에는 어떠한 타입의 가게인지 가게 타입 이름이 저장되어 있지 않고, 가게 타입 코드 정보가 저장되어 있습니다. STORE_TYPE_CODE 테이블을 이용하여 STORE 테이블에서 각 가게가 어떤 가게 타입인지 코드가 아닌 이름으로 표현되도록 쿼리를 작성해봅시다.\n",
    "\n",
    "STORE 테이블에 대해서 STORE_TYPE_CODE 테이블과 가게 타입 코드(store_type_code) 를 이용하여 INNER JOIN를 실시해 가게 이름(store_name)과 타입 이름(store_type_name) 을 조회하는 쿼리를 작성해봅시다.\n",
    "\n",
    "지시사항\n",
    "STORE테이블과 STORE_TYPE_CODE 테이블에서 가게 타입 코드(store_type_code) 가 같은 데이터에 대해 INNER JOIN절 과 ON절을 이용하여 가게 이름(store_name)과 타입 이름(store_type_name) 을 조회하는 쿼리를 작성하세요.\n",
    "\n",
    "Tips!\n",
    "결과에 대해 ORDER BY 를 이용하여 가게 이름을 기준으로 오름차순 정렬을 해주세요.\n",
    "데이터 조회순서는 지시사항에서 언급하고 있는 순서대로 정확히 작성하세요."
   ]
  },
  {
   "cell_type": "code",
   "execution_count": null,
   "id": "1be69174",
   "metadata": {},
   "outputs": [],
   "source": [
    "'''\n",
    "-- 아래 쿼리는 STORE, STORE_TYPE_CODE 테이블의 구조를 나타냅니다. 해당 테이블을 수정할 필요는 없습니다.\n",
    "DESC STORE;\n",
    "DESC STORE_TYPE_CODE;\n",
    "\n",
    "SELECT * FROM STORE;\n",
    "SELECT * FROM STORE_TYPE_CODE;\n",
    "\n",
    "-- STORE 테이블과 STORE_TYPE_CODE 테이블에 대해 store_type_code 컬럼을 이용하여 조인을 실시해,\n",
    "-- 가게이름(store_name)과 타입이름(store_type_name)을 조회하는 쿼리를 작성해보세요.\n",
    "SELECT store_name, store_type_name\n",
    "FROM STORE INNER JOIN STORE_TYPE_CODE\n",
    "ON STORE.store_type_code = STORE_TYPE_CODE.store_type_code\n",
    "ORDER BY store_name ASC;\n",
    "\n",
    "'''\n",
    "\n",
    "'''\n",
    "+-----------------+--------------+------+-----+---------+-------+\n",
    "| Field           | Type         | Null | Key | Default | Extra |\n",
    "+-----------------+--------------+------+-----+---------+-------+\n",
    "| store_id        | int(11)      | NO   | PRI | NULL    |       |\n",
    "| store_type_code | varchar(100) | NO   |     | NULL    |       |\n",
    "| store_name      | varchar(100) | NO   |     | NULL    |       |\n",
    "+-----------------+--------------+------+-----+---------+-------+\n",
    "+-----------------+--------------+------+-----+---------+-------+\n",
    "| Field           | Type         | Null | Key | Default | Extra |\n",
    "+-----------------+--------------+------+-----+---------+-------+\n",
    "| store_type_code | varchar(100) | NO   | PRI | NULL    |       |\n",
    "| store_type_name | varchar(100) | NO   |     | NULL    |       |\n",
    "+-----------------+--------------+------+-----+---------+-------+\n",
    "+----------+-----------------+------------+\n",
    "| store_id | store_type_code | store_name |\n",
    "+----------+-----------------+------------+\n",
    "|    10001 | S001V           | store1     |\n",
    "|    10002 | S002V           | store2     |\n",
    "|    10003 | S001A           | store3     |\n",
    "|    10004 | S002V           | store4     |\n",
    "|    10005 | S001A           | store5     |\n",
    "|    10006 | S001A           | store6     |\n",
    "+----------+-----------------+------------+\n",
    "+-----------------+-----------------+\n",
    "| store_type_code | store_type_name |\n",
    "+-----------------+-----------------+\n",
    "| S001A           | Type-AA         |\n",
    "| S001V           | Type-A          |\n",
    "| S002A           | Type-BB         |\n",
    "| S002V           | Type-B          |\n",
    "| S003V           | Type-C          |\n",
    "+-----------------+-----------------+\n",
    "+------------+-----------------+\n",
    "| store_name | store_type_name |\n",
    "+------------+-----------------+\n",
    "| store1     | Type-A          |\n",
    "| store2     | Type-B          |\n",
    "| store3     | Type-AA         |\n",
    "| store4     | Type-B          |\n",
    "| store5     | Type-AA         |\n",
    "| store6     | Type-AA         |\n",
    "+------------+-----------------+\n",
    "'''"
   ]
  },
  {
   "cell_type": "markdown",
   "id": "2ce5c264",
   "metadata": {},
   "source": []
  },
  {
   "cell_type": "markdown",
   "id": "5dd2a9bd",
   "metadata": {},
   "source": [
    "[이론] FROM절 JOIN 형태 - INNER JOIN/ USING/ NATURAL JOIN"
   ]
  },
  {
   "cell_type": "markdown",
   "id": "4a7cb735",
   "metadata": {},
   "source": [
    "USING 조건절\n",
    "\n",
    "같은 이름을 가진 컬럼들 중 원하는 컬럼에\n",
    "대해서만 선택적으로 등가 조인 가능\n",
    "\n",
    "SQL Server에서는 지원X\n",
    "\n",
    "예시\n",
    "SELECT * FROM 테이블1 JOIN 테이블2\n",
    "USING (기준컬럼);\n",
    "- USING조건절 사용시에는 컬럼이나 테이블에 별칭을 붙일 수 없음"
   ]
  },
  {
   "cell_type": "markdown",
   "id": "f27745bd",
   "metadata": {},
   "source": [
    "NATURAL JOIN\n",
    "\n",
    "두 테이블 간의 동일한 이름을 갖는 모든\n",
    "컬럼들에 대해 등가 조인을 수행\n",
    "\n",
    "예시\n",
    "SELECT * FROM 테이블1 NATURAL JOIN 테이블2;\n",
    "- 추가로 ON 조건절이나 USING 조건절,\n",
    "  WHERE절에서 JOIN조건 정의 불가"
   ]
  },
  {
   "cell_type": "markdown",
   "id": "29510bca",
   "metadata": {},
   "source": [
    "NATURAL JOIN\n",
    "\n",
    "USER\n",
    "USER_ID    NAME      CLASS_ID\n",
    "1000       모자장수    001\n",
    "1001       엘리스토끼  002\n",
    "1002       체셔       001\n",
    "1003       도도새     002\n",
    "\n",
    "CLASS\n",
    "CLASS_ID         CLASS\n",
    "   001             A\n",
    "   002             B\n",
    "\n",
    "예시 \n",
    "SELECT * FROM USER NATURAL JOIN CLASS;\n",
    "-             -----------------------\n",
    "- INNER JOIN과 달리 별칭 지정 불가\n",
    "\n",
    "\n",
    "결과값 \n",
    "USER_ID    NAME      CLASS_ID        CLASS    \n",
    "1000       모자장수       001            A\n",
    "1001       엘리스토끼     002             B\n",
    "1002       체셔          001            A\n",
    "1003       도도새        002             B\n"
   ]
  },
  {
   "cell_type": "markdown",
   "id": "6fd5319c",
   "metadata": {},
   "source": []
  },
  {
   "cell_type": "markdown",
   "id": "ad9ded04",
   "metadata": {},
   "source": [
    "FROM절 JOIN 형태 - INNER JOIN/USING\n",
    "STUDENT 테이블에는 학생 번호와 학생 이름 정보가, CLASS 테이블에는 과목 번호와 과목 이름이, 그리고 CLASS_REQUEST테이블에는 신청 번호에 대한 학생 번호와 과목 번호 정보가 담겨 있습니다.\n",
    "\n",
    "CLASS_REQUEST 테이블에는 학생 이름과 과목 이름 정보가 담겨있지 않고, 학생 번호와 과목 번호 정보가 담겨있습니다.\n",
    "이에 대해서 CLASS_REQUEST의 각 데이터에 대해 과목 이름과 학생 이름 정보를 함께 출력해봅시다.\n",
    "\n",
    "CLASS_REQUEST 테이블을 기준으로, 신청 번호에 따른 학생 이름과 과목 이름의 정보를 조회하려고 합니다. JOIN 절과 USING 절을 이용하여, CLASS_REQUEST 테이블에 STUDENT 테이블과 CLASS 테이블을 결합하여, 신청 번호(REQUEST_ID), 학생 이름(STUDENT_NAME), 과목 이름(CLASS_NAME) 정보를 조회하는 쿼리를 작성해봅시다.\n",
    "\n",
    "\n",
    "\n",
    "지시사항\n",
    "CLASS_REQUEST테이블에 대해 STUDENT 테이블을 INNER JOIN절 과 USING절을 이용하여 결합하고 신청 번호(REQUEST_ID)와 학생 이름(STUDENT_NAME) 을 조회하는 쿼리를 작성하세요.\n",
    "\n",
    "CLASS_REQUEST테이블에 대해 CLASS 테이블을 INNER JOIN절 과 USING절을 이용하여 결합하고 신청 번호(REQUEST_ID)와 과목 이름(CLASS_NAME) 을 조회하는 쿼리를 작성하세요.\n",
    "\n",
    "CLASS_REQUEST테이블에 대해 STUDENT 테이블과 CLASS테이블을 INNER JOIN절 과 USING절을 이용하여 결합하고 신청 번호(REQUEST_ID)와 학생 이름(STUDENT_NAME), 과목 이름(CLASS_NAME) 을 조회하는 쿼리를 작성하세요.\n",
    "\n",
    "Tips!\n",
    "1, 2, 3번 결과에 대해 ORDER BY 를 이용하여 신청 번호를 기준으로 오름차순 정렬을 해주세요.\n",
    "데이터 조회순서는 지시사항에서 언급하고 있는 순서대로 정확히 작성하세요."
   ]
  },
  {
   "cell_type": "code",
   "execution_count": null,
   "id": "032f7073",
   "metadata": {},
   "outputs": [],
   "source": [
    "'''\n",
    "-- 아래 쿼리는 CLASS_REQUEST, STUDENT, CLASS 테이블의 구조를 나타냅니다. 해당 테이블을 수정할 필요는 없습니다.\n",
    "DESC CLASS_REQUEST;\n",
    "DESC STUDENT;\n",
    "DESC CLASS;\n",
    "\n",
    "SELECT * FROM CLASS_REQUEST;\n",
    "SELECT * FROM STUDENT;\n",
    "SELECT * FROM CLASS;\n",
    "\n",
    "-- 1. CLASS_REQUEST 테이블에 대해 JOIN절과 USING을 이용해 STUDENT테이블과 결합하여\n",
    "-- 신청번호(REQUEST_ID)와 학생이름(STUDENT_NAME)을 조회하는 쿼리를 작성해보세요.\n",
    "SELECT REQUEST_ID, STUDENT_NAME\n",
    "FROM CLASS_REQUEST INNER JOIN STUDENT\n",
    "USING(STUDENT_ID)\n",
    "ORDER BY REQUEST_ID ASC;\n",
    "\n",
    "-- 2. CLASS_REQUEST 테이블에 대해 JOIN절과 USING을 이용해 CLASS테이블과 결합하여\n",
    "-- 신청번호(REQUEST_ID)와 과목이름(CLASS_NAME)을 조회하는 쿼리를 작성해보세요.\n",
    "SELECT REQUEST_ID, CLASS_NAME\n",
    "FROM CLASS_REQUEST INNER JOIN CLASS\n",
    "USING(CLASS_ID)\n",
    "ORDER BY REQUEST_ID ASC;\n",
    "\n",
    "-- 3. CLASS_REQUEST 테이블에 대해 JOIN절과 USING을 이용해 STUDENT테이블, CLASS테이블과 결합하여\n",
    "-- 신청번호(REQUEST_ID)와 학생이름(STUDENT_NAME), 과목이름(CLASS_NAME)을 조회하는 쿼리를 작성해보세요.\n",
    "\n",
    "SELECT REQUEST_ID, STUDENT_NAME, CLASS_NAME\n",
    "FROM CLASS_REQUEST \n",
    "INNER JOIN STUDENT USING(STUDENT_ID)\n",
    "INNER JOIN CLASS USING(CLASS_ID)\n",
    "ORDER BY REQUEST_ID ASC;\n",
    "'''\n",
    "\n",
    "'''\n",
    "+------------+-------------+------+-----+---------+-------+\n",
    "| Field      | Type        | Null | Key | Default | Extra |\n",
    "+------------+-------------+------+-----+---------+-------+\n",
    "| REQUEST_ID | varchar(10) | NO   | PRI | NULL    |       |\n",
    "| STUDENT_ID | varchar(10) | NO   |     | NULL    |       |\n",
    "| CLASS_ID   | varchar(10) | NO   |     | NULL    |       |\n",
    "+------------+-------------+------+-----+---------+-------+\n",
    "+--------------+-------------+------+-----+---------+-------+\n",
    "| Field        | Type        | Null | Key | Default | Extra |\n",
    "+--------------+-------------+------+-----+---------+-------+\n",
    "| STUDENT_ID   | varchar(10) | NO   | PRI | NULL    |       |\n",
    "| STUDENT_NAME | varchar(30) | NO   |     | NULL    |       |\n",
    "+--------------+-------------+------+-----+---------+-------+\n",
    "+------------+-------------+------+-----+---------+-------+\n",
    "| Field      | Type        | Null | Key | Default | Extra |\n",
    "+------------+-------------+------+-----+---------+-------+\n",
    "| CLASS_ID   | varchar(10) | NO   | PRI | NULL    |       |\n",
    "| CLASS_NAME | varchar(30) | NO   |     | NULL    |       |\n",
    "+------------+-------------+------+-----+---------+-------+\n",
    "+------------+------------+----------+\n",
    "| REQUEST_ID | STUDENT_ID | CLASS_ID |\n",
    "+------------+------------+----------+\n",
    "| R0001      | S001       | C002     |\n",
    "| R0002      | S002       | C001     |\n",
    "| R0003      | S002       | C002     |\n",
    "| R0004      | S003       | C001     |\n",
    "+------------+------------+----------+\n",
    "+------------+--------------+\n",
    "| STUDENT_ID | STUDENT_NAME |\n",
    "+------------+--------------+\n",
    "| S001       | Kim          |\n",
    "| S002       | Moon         |\n",
    "| S003       | Lee          |\n",
    "+------------+--------------+\n",
    "+----------+------------+\n",
    "| CLASS_ID | CLASS_NAME |\n",
    "+----------+------------+\n",
    "| C001     | Math       |\n",
    "| C002     | Korean     |\n",
    "+----------+------------+\n",
    "+------------+--------------+\n",
    "| REQUEST_ID | STUDENT_NAME |\n",
    "+------------+--------------+\n",
    "| R0001      | Kim          |\n",
    "| R0002      | Moon         |\n",
    "| R0003      | Moon         |\n",
    "| R0004      | Lee          |\n",
    "+------------+--------------+\n",
    "+------------+------------+\n",
    "| REQUEST_ID | CLASS_NAME |\n",
    "+------------+------------+\n",
    "| R0001      | Korean     |\n",
    "| R0002      | Math       |\n",
    "| R0003      | Korean     |\n",
    "| R0004      | Math       |\n",
    "+------------+------------+\n",
    "+------------+--------------+------------+\n",
    "| REQUEST_ID | STUDENT_NAME | CLASS_NAME |\n",
    "+------------+--------------+------------+\n",
    "| R0001      | Kim          | Korean     |\n",
    "| R0002      | Moon         | Math       |\n",
    "| R0003      | Moon         | Korean     |\n",
    "| R0004      | Lee          | Math       |\n",
    "+------------+--------------+------------+\n",
    "'''"
   ]
  },
  {
   "cell_type": "markdown",
   "id": "fe4c98dd",
   "metadata": {},
   "source": [
    "BER 테이블에는 멤버의 정보가 담겨있습니다.\n",
    "\n",
    "하지만 LOGIN_HISTORY 테이블에는 멤버의 이름 정보가 담겨 있지 않고, 멤버 ID정보가 담겨있습니다. JOIN을 활용하여 로그인 이력 정보에 멤버 이름을 함께 출력해봅시다.\n",
    "\n",
    "LOGIN_HISTORY 테이블에 있는 멤버 ID(MEMBER_ID) 를 통해 MEMBER테이블과 NATURAL JOIN으로 결합해 로그인 이력 ID(login_history_id), 멤버 이름(member_name), 멤버 이메일(member_email), 로그인 시각(login_date) 정보를 출력하는 쿼리를 작성해봅시다.\n",
    "\n",
    "\n",
    "지시사항\n",
    "LOGIN_HISTORY테이블과 MEMBER 테이블에 대해 NATURAL JOIN을 이용하여 로그인 이력 ID(login_history_id), 멤버 이름(member_name), 멤버 이메일(member_email), 로그인 시각(login_date) 을 조회하는 쿼리를 작성하세요.\n",
    "\n",
    "Tips!\n",
    "결과에 대해 ORDER BY 를 이용하여 로그인 이력 ID를 기준으로 오름차순 정렬을 해주세요.\n",
    "데이터 조회순서는 지시사항에서 언급하고 있는 순서대로 정확히 작성하세요."
   ]
  },
  {
   "cell_type": "code",
   "execution_count": null,
   "id": "d02ee11b",
   "metadata": {},
   "outputs": [],
   "source": [
    "'''\n",
    "-- 아래 쿼리는 LOGIN_HISTORY, MEMBER 테이블의 구조를 나타냅니다. 해당 테이블을 수정할 필요는 없습니다.\n",
    "DESC LOGIN_HISTORY;\n",
    "DESC MEMBER;\n",
    "\n",
    "SELECT * FROM LOGIN_HISTORY;\n",
    "SELECT * FROM MEMBER;\n",
    "-- LOGIN_HISTORY테이블과 MEMBER테이블에 대해 NATURAL JOIN을 이용하여 조회하고자 하는 컬럼을 출력해보세요.\n",
    "\n",
    "SELECT login_history_id, member_name, member_email, login_date\n",
    "FROM LOGIN_HISTORY \n",
    "NATURAL JOIN MEMBER\n",
    "ORDER BY login_history_id;\n",
    "'''\n",
    "\n",
    "'''\n",
    "+------------------+----------+------+-----+---------+-------+\n",
    "| Field            | Type     | Null | Key | Default | Extra |\n",
    "+------------------+----------+------+-----+---------+-------+\n",
    "| LOGIN_HISTORY_ID | int(11)  | NO   | PRI | NULL    |       |\n",
    "| MEMBER_ID        | int(11)  | NO   |     | NULL    |       |\n",
    "| LOGIN_DATE       | datetime | NO   |     | NULL    |       |\n",
    "+------------------+----------+------+-----+---------+-------+\n",
    "+--------------+--------------+------+-----+---------+-------+\n",
    "| Field        | Type         | Null | Key | Default | Extra |\n",
    "+--------------+--------------+------+-----+---------+-------+\n",
    "| MEMBER_ID    | int(11)      | NO   | PRI | NULL    |       |\n",
    "| MEMBER_NAME  | varchar(10)  | NO   |     | NULL    |       |\n",
    "| MEMBER_EMAIL | varchar(100) | NO   |     | NULL    |       |\n",
    "+--------------+--------------+------+-----+---------+-------+\n",
    "+------------------+-----------+---------------------+\n",
    "| LOGIN_HISTORY_ID | MEMBER_ID | LOGIN_DATE          |\n",
    "+------------------+-----------+---------------------+\n",
    "|                1 |     10002 | 2021-04-01 13:41:23 |\n",
    "|                2 |     10003 | 2021-04-01 19:21:41 |\n",
    "|                4 |     10002 | 2021-04-02 16:18:39 |\n",
    "+------------------+-----------+---------------------+\n",
    "+-----------+-------------+----------------+\n",
    "| MEMBER_ID | MEMBER_NAME | MEMBER_EMAIL   |\n",
    "+-----------+-------------+----------------+\n",
    "|     10001 | Kim         | kim@naver.com  |\n",
    "|     10002 | Moon        | moon@naver.com |\n",
    "|     10003 | Lee         | lee@naver.com  |\n",
    "+-----------+-------------+----------------+\n",
    "+------------------+-------------+----------------+---------------------+\n",
    "| login_history_id | member_name | member_email   | login_date          |\n",
    "+------------------+-------------+----------------+---------------------+\n",
    "|                1 | Moon        | moon@naver.com | 2021-04-01 13:41:23 |\n",
    "|                2 | Lee         | lee@naver.com  | 2021-04-01 19:21:41 |\n",
    "|                4 | Moon        | moon@naver.com | 2021-04-02 16:18:39 |\n",
    "+------------------+-------------+----------------+---------------------+\n",
    "'''"
   ]
  },
  {
   "cell_type": "markdown",
   "id": "a4a728ae",
   "metadata": {},
   "source": []
  },
  {
   "cell_type": "markdown",
   "id": "7e335613",
   "metadata": {},
   "source": [
    "[이론] FROM절 JOIN 형태 - CROSS JOIN"
   ]
  },
  {
   "cell_type": "markdown",
   "id": "1746db4b",
   "metadata": {},
   "source": [
    "CROSS JOIN\n",
    "\n",
    "JOIN조건이 없는 경우 생길 수 있는\n",
    "모든 데이터의 조합을 조회\n",
    "\n",
    "\n",
    "USER\n",
    " ID        NAME       AGE\n",
    "1000       모자장수     25\n",
    "1001       엘리스토끼   10\n",
    "1002       체셔        15\n",
    "1003       도도새       20\n",
    "\n",
    "CLASS\n",
    "CLASS_ID         CLASS\n",
    "   001             A\n",
    "   002             B\n",
    "   \n",
    "   \n",
    "결과값\n",
    " ID        NAME       AGE   CLASS_ID  CLASS\n",
    "1000       모자장수     25    001        A    \n",
    "1000       모자장수     25    002        B    \n",
    "1001       엘리스토끼   10    001        A\n",
    "1001       엘리스토끼   10    002        B\n",
    "1002       체셔        15    001        A\n",
    "1002       체셔        15    002        B\n",
    "1003       도도새       20   001         A\n",
    "1003       도도새       20   002         B"
   ]
  },
  {
   "cell_type": "markdown",
   "id": "784ccf27",
   "metadata": {},
   "source": [
    "CROSS JOIN\n",
    "\n",
    "예시\n",
    "SELECT * FROM PERSON\n",
    "(CROSS) JOIN PUBLIC_TRANSPORT;\n",
    " - ON USING이 없으면 CROSS JOIN \n",
    " - NATRUAL을 쓰지 않을 경우 CROSS JOIN \n",
    "PERSON\n",
    "ID    NAME     PHONE\n",
    "1     KIM       010\n",
    "2     MOON      011\n",
    "\n",
    "PUBLIC_TRANSPORT\n",
    "TRANSPORT_ID       TYPE\n",
    " 01A               BUS\n",
    " 01B               SUBWAY\n",
    " 02A               CAB\n",
    " \n",
    " \n",
    " 결과값\n",
    " ID    NAME     PHONE     TRANSPORT_ID     TYPE\n",
    "  1     KIM       010     01A               BUS    \n",
    "  1     KIM       010     01B               SUBWAY\n",
    "  1     KIM       010     02A               CAB     \n",
    "  2     MOON      011     01A               BUS   \n",
    "  2     MOON      011     01B               SUBWAY\n",
    "  2     MOON      011     02A               CAB   "
   ]
  },
  {
   "cell_type": "markdown",
   "id": "a6d945eb",
   "metadata": {},
   "source": []
  },
  {
   "cell_type": "markdown",
   "id": "7f313c74",
   "metadata": {},
   "source": [
    "FROM절 JOIN 형태 - CROSS JOIN\n",
    "FIRST_NAME_T 테이블과 LAST_NAME_T 테이블에는 각 테이블의 구조에 맞도록 id 값과 first_name 또는 last_name 정보가 담겨 있습니다.\n",
    "\n",
    "FIRST_NAME_T 테이블의 데이터와 LAST_NAME_T 테이블의 데이터를 결합하면 가상의 이름 데이터 하나가 출력됩니다. 그럼 각 테이블의 모든 데이터를 이용하여 first_name과 last_name에 대한 모든 경우의 수를 구해봅시다.\n",
    "\n",
    "가능한 이름의 조합에 대해 모든 경우의 수를 출력하기 위해 CROSS JOIN을 활용하려고 합니다.\n",
    "FIRST_NAME_T 테이블과 LAST_NAME_T 테이블에 대해서 CROSS JOIN을 통해 결합하여 first_name과 last_name을 출력하여 가능한 모든 케이스를 조회하는 쿼리를 작성해봅시다.\n",
    "\n",
    "\n",
    "지시사항\n",
    "FIRST_NAME_T 테이블과 LAST_NAME_T 테이블을 CROSS JOIN으로 결합하고 first_name, last_name 을 출력하는 쿼리를 작성하세요.\n",
    "\n",
    "Tips!\n",
    "결과에 대해 ORDER BY 를 이용하여 first_name를 기준으로 오름차순, last_name을 기준으로 오름차순 정렬을 해주세요.\n",
    "데이터 조회순서는 지시사항에서 언급하고 있는 순서대로 정확히 작성하세요."
   ]
  },
  {
   "cell_type": "code",
   "execution_count": null,
   "id": "0e909f41",
   "metadata": {},
   "outputs": [],
   "source": [
    "'''\n",
    "-- 아래 쿼리는 FIRST_NAME_T, LAST_NAME_T 테이블의 구조를 나타냅니다. 해당 테이블을 수정할 필요는 없습니다.\n",
    "DESC FIRST_NAME_T;\n",
    "DESC LAST_NAME_T;\n",
    "\n",
    "SELECT * FROM FIRST_NAME_T;\n",
    "SELECT * FROM LAST_NAME_T;\n",
    "-- FIRST_NAME_T와 LAST_NAME_T를 크로스조인으로 결합하고, first_name과 last_name을 출력하세요.\n",
    "SELECT first_name, last_name\n",
    "FROM FIRST_NAME_T\n",
    "CROSS JOIN LAST_NAME_T\n",
    "ORDER BY first_name ASC, last_name ASC;\n",
    "\n",
    "'''\n",
    "\n",
    "'''\n",
    "+------------+-------------+------+-----+---------+-------+\n",
    "| Field      | Type        | Null | Key | Default | Extra |\n",
    "+------------+-------------+------+-----+---------+-------+\n",
    "| id         | int(11)     | NO   | PRI | NULL    |       |\n",
    "| first_name | varchar(10) | NO   |     | NULL    |       |\n",
    "+------------+-------------+------+-----+---------+-------+\n",
    "+-----------+-------------+------+-----+---------+-------+\n",
    "| Field     | Type        | Null | Key | Default | Extra |\n",
    "+-----------+-------------+------+-----+---------+-------+\n",
    "| id        | int(11)     | NO   | PRI | NULL    |       |\n",
    "| last_name | varchar(30) | NO   |     | NULL    |       |\n",
    "+-----------+-------------+------+-----+---------+-------+\n",
    "+----+------------+\n",
    "| id | first_name |\n",
    "+----+------------+\n",
    "|  1 | Kim        |\n",
    "|  2 | Lee        |\n",
    "|  3 | Choi       |\n",
    "+----+------------+\n",
    "+----+-----------+\n",
    "| id | last_name |\n",
    "+----+-----------+\n",
    "|  1 | Chulsoo   |\n",
    "|  2 | Gildong   |\n",
    "|  3 | Yeonghee  |\n",
    "+----+-----------+\n",
    "+------------+-----------+\n",
    "| first_name | last_name |\n",
    "+------------+-----------+\n",
    "| Choi       | Chulsoo   |\n",
    "| Choi       | Gildong   |\n",
    "| Choi       | Yeonghee  |\n",
    "| Kim        | Chulsoo   |\n",
    "| Kim        | Gildong   |\n",
    "| Kim        | Yeonghee  |\n",
    "| Lee        | Chulsoo   |\n",
    "| Lee        | Gildong   |\n",
    "| Lee        | Yeonghee  |\n",
    "+------------+-----------+\n",
    "'''"
   ]
  },
  {
   "cell_type": "markdown",
   "id": "eab1975f",
   "metadata": {},
   "source": []
  },
  {
   "cell_type": "markdown",
   "id": "15421e44",
   "metadata": {},
   "source": [
    "[이론] FROM절 JOIN 형태 - OUTER JOIN"
   ]
  },
  {
   "cell_type": "markdown",
   "id": "6c413a7a",
   "metadata": {},
   "source": [
    "OUTER JOIN\n",
    "\n",
    "두 개의 테이블 간에 교집합을 조회하고\n",
    "한쪽 테이블에만 있는 데이터도 포함시켜서 조회\n",
    "빈 곳은 NULL 값으로 출력\n",
    "WHERE 조건절에서 한쪽에만 있는 데이터를\n",
    "포함시킬 테이블 쪽으로 (+)를 위치"
   ]
  },
  {
   "cell_type": "markdown",
   "id": "d0f1b0f4",
   "metadata": {},
   "source": []
  },
  {
   "cell_type": "markdown",
   "id": "0ec680ef",
   "metadata": {},
   "source": []
  },
  {
   "cell_type": "markdown",
   "id": "d27426fc",
   "metadata": {},
   "source": []
  },
  {
   "cell_type": "markdown",
   "id": "0ddf61e4",
   "metadata": {},
   "source": []
  },
  {
   "cell_type": "markdown",
   "id": "ca196e30",
   "metadata": {},
   "source": []
  },
  {
   "cell_type": "markdown",
   "id": "549b8b8c",
   "metadata": {},
   "source": []
  },
  {
   "cell_type": "markdown",
   "id": "4c9f3649",
   "metadata": {},
   "source": []
  },
  {
   "cell_type": "markdown",
   "id": "cdd8e6a0",
   "metadata": {},
   "source": []
  },
  {
   "cell_type": "markdown",
   "id": "5f9507c8",
   "metadata": {},
   "source": []
  },
  {
   "cell_type": "markdown",
   "id": "25123f77",
   "metadata": {},
   "source": []
  },
  {
   "cell_type": "markdown",
   "id": "b373038f",
   "metadata": {},
   "source": []
  },
  {
   "cell_type": "markdown",
   "id": "fc7d09b7",
   "metadata": {},
   "source": []
  },
  {
   "cell_type": "markdown",
   "id": "857dc374",
   "metadata": {},
   "source": []
  },
  {
   "cell_type": "markdown",
   "id": "22d759f9",
   "metadata": {},
   "source": []
  },
  {
   "cell_type": "markdown",
   "id": "0bc65ff9",
   "metadata": {},
   "source": []
  },
  {
   "cell_type": "markdown",
   "id": "7171ef30",
   "metadata": {},
   "source": []
  },
  {
   "cell_type": "markdown",
   "id": "a6047147",
   "metadata": {},
   "source": []
  },
  {
   "cell_type": "markdown",
   "id": "bdbfc2f5",
   "metadata": {},
   "source": []
  },
  {
   "cell_type": "markdown",
   "id": "8689d444",
   "metadata": {},
   "source": []
  },
  {
   "cell_type": "markdown",
   "id": "6d77e50d",
   "metadata": {},
   "source": []
  },
  {
   "cell_type": "markdown",
   "id": "dba038cc",
   "metadata": {},
   "source": []
  },
  {
   "cell_type": "markdown",
   "id": "2dc9def6",
   "metadata": {},
   "source": []
  },
  {
   "cell_type": "markdown",
   "id": "7d5a4901",
   "metadata": {},
   "source": []
  },
  {
   "cell_type": "markdown",
   "id": "2eb7415a",
   "metadata": {},
   "source": []
  },
  {
   "cell_type": "markdown",
   "id": "bf711084",
   "metadata": {},
   "source": []
  },
  {
   "cell_type": "markdown",
   "id": "b5384ab6",
   "metadata": {},
   "source": []
  },
  {
   "cell_type": "markdown",
   "id": "dc30a5e6",
   "metadata": {},
   "source": []
  },
  {
   "cell_type": "markdown",
   "id": "78086a80",
   "metadata": {},
   "source": []
  },
  {
   "cell_type": "markdown",
   "id": "cf51eab7",
   "metadata": {},
   "source": []
  },
  {
   "cell_type": "markdown",
   "id": "400b95c0",
   "metadata": {},
   "source": []
  },
  {
   "cell_type": "markdown",
   "id": "b3e79341",
   "metadata": {},
   "source": []
  },
  {
   "cell_type": "markdown",
   "id": "5077418a",
   "metadata": {},
   "source": []
  },
  {
   "cell_type": "markdown",
   "id": "3e5827f2",
   "metadata": {},
   "source": []
  },
  {
   "cell_type": "markdown",
   "id": "50db4c1b",
   "metadata": {},
   "source": []
  },
  {
   "cell_type": "markdown",
   "id": "0f19b94a",
   "metadata": {},
   "source": []
  },
  {
   "cell_type": "markdown",
   "id": "d992f4e4",
   "metadata": {},
   "source": []
  },
  {
   "cell_type": "markdown",
   "id": "9097d338",
   "metadata": {},
   "source": []
  },
  {
   "cell_type": "markdown",
   "id": "e2047290",
   "metadata": {},
   "source": []
  },
  {
   "cell_type": "markdown",
   "id": "39ce9bb1",
   "metadata": {},
   "source": []
  },
  {
   "cell_type": "markdown",
   "id": "ba6297fb",
   "metadata": {},
   "source": []
  },
  {
   "cell_type": "markdown",
   "id": "727553cf",
   "metadata": {},
   "source": []
  },
  {
   "cell_type": "markdown",
   "id": "ca665fca",
   "metadata": {},
   "source": []
  },
  {
   "cell_type": "markdown",
   "id": "f7f9fc86",
   "metadata": {},
   "source": []
  },
  {
   "cell_type": "markdown",
   "id": "4fcede21",
   "metadata": {},
   "source": []
  },
  {
   "cell_type": "markdown",
   "id": "0906f000",
   "metadata": {},
   "source": []
  },
  {
   "cell_type": "markdown",
   "id": "5b8d333d",
   "metadata": {},
   "source": []
  },
  {
   "cell_type": "markdown",
   "id": "47905213",
   "metadata": {},
   "source": []
  },
  {
   "cell_type": "markdown",
   "id": "84cfe7a4",
   "metadata": {},
   "source": []
  },
  {
   "cell_type": "markdown",
   "id": "79f6588a",
   "metadata": {},
   "source": []
  },
  {
   "cell_type": "markdown",
   "id": "2587695d",
   "metadata": {},
   "source": []
  },
  {
   "cell_type": "markdown",
   "id": "400dc592",
   "metadata": {},
   "source": []
  },
  {
   "cell_type": "markdown",
   "id": "dee5a64e",
   "metadata": {},
   "source": []
  },
  {
   "cell_type": "markdown",
   "id": "ecb96fa4",
   "metadata": {},
   "source": []
  },
  {
   "cell_type": "markdown",
   "id": "772af58b",
   "metadata": {},
   "source": []
  },
  {
   "cell_type": "markdown",
   "id": "0044cef8",
   "metadata": {},
   "source": []
  },
  {
   "cell_type": "markdown",
   "id": "2ffaff52",
   "metadata": {},
   "source": []
  },
  {
   "cell_type": "markdown",
   "id": "2c5d3b02",
   "metadata": {},
   "source": []
  }
 ],
 "metadata": {
  "kernelspec": {
   "display_name": "Python 3",
   "language": "python",
   "name": "python3"
  },
  "language_info": {
   "codemirror_mode": {
    "name": "ipython",
    "version": 3
   },
   "file_extension": ".py",
   "mimetype": "text/x-python",
   "name": "python",
   "nbconvert_exporter": "python",
   "pygments_lexer": "ipython3",
   "version": "3.8.8"
  }
 },
 "nbformat": 4,
 "nbformat_minor": 5
}
