{
 "cells": [
  {
   "cell_type": "markdown",
   "id": "e7edfa8a",
   "metadata": {},
   "source": [
    "목 차\n",
    "\n",
    "01.동작하는 방식에 따른 서브쿼리 분류\n",
    "\n",
    "02.반환되는 데이터 형태에 따른 서브쿼리 분류\n",
    "\n",
    "03.스칼라 서브쿼리\n",
    "\n",
    "04.뷰"
   ]
  },
  {
   "cell_type": "markdown",
   "id": "c343df81",
   "metadata": {},
   "source": []
  },
  {
   "cell_type": "markdown",
   "id": "0e0d90e9",
   "metadata": {},
   "source": [
    "01.동작하는 방식에 따른 서브쿼리 분류"
   ]
  },
  {
   "cell_type": "markdown",
   "id": "5599fa0d",
   "metadata": {},
   "source": [
    "서브쿼리 분류\n",
    "\n",
    "서브쿼리에 \n",
    "메인쿼리의 컬럼이 포함되는지에 따라 구분\n",
    "\n",
    "1.연관 서브쿼리\n",
    "  (Correlated Subquery)\n",
    "\n",
    "2.비연관 서브쿼리\n",
    "  (Un-Correlated Subquery)"
   ]
  },
  {
   "cell_type": "markdown",
   "id": "3e67e59c",
   "metadata": {},
   "source": [
    "연관 서브쿼리\n",
    "\n",
    "메인 쿼리의 컬럼이 서브쿼리에 포함되며,\n",
    "메인쿼리의 컬럼은 서브쿼리에 특정 조건으로 사용된다."
   ]
  },
  {
   "cell_type": "markdown",
   "id": "fa415b48",
   "metadata": {},
   "source": [
    "연관 서브쿼리\n",
    "\n",
    "본인이 속한 부서의 평균 급여보다 높은 급여를 받는 직원들을 출력한다.\n",
    "\n",
    "코드\n",
    "SELECT ID, DEPARTMENT_ID, NAME, SALARY\n",
    "FROM EMPLOYEE AS A\n",
    "WHERE SALARY >\n",
    "    (SELECT AVG(SALARY)\n",
    "     FROM EMLOYEE AS B\n",
    "     WHERE B.DEPARTMENT_ID = A.DEPARTMENT_ID);\n",
    "\n",
    "\n",
    "EMPLOYEE \n",
    "ID            DEPARTMENT_ID     NAME       SALARY\n",
    "1000                1           ELICE      12000\n",
    "1001                2           JESSICA     9000\n",
    "1002                3           STEVE       7500\n",
    "1003                1           LINDA       5500\n",
    "1004                2           DAVID       4400\n",
    "1005                1           ROBERT      3200\n",
    "\n",
    "DEPARTMENT_ID   AVG(SALARY)\n",
    "      1          6900\n",
    "      2          6700\n",
    "      3          7500\n",
    "\n",
    "결과\n",
    "ID            DEPARTMENT_ID     NAME       SALARY\n",
    "1000                 1          ELICE      12000\n",
    "1001                 2          JESSICA     9000"
   ]
  },
  {
   "cell_type": "markdown",
   "id": "4fde2c5e",
   "metadata": {},
   "source": [
    "비연관 서브쿼리\n",
    "\n",
    "메인쿼리 컬럼이 서브쿼리에 포함되지 않으며,\n",
    "주로 메인쿼리에 특정한 값을 제공할 때 사용된다"
   ]
  },
  {
   "cell_type": "markdown",
   "id": "d8af530e",
   "metadata": {},
   "source": [
    "비연관 서브쿼리\n",
    "\n",
    "ELICE가 속한 부서의 평균 급여를 출력한다.\n",
    "\n",
    "코드\n",
    "SELECT AVG(SALARY)\n",
    "FROM EMPLOYEE\n",
    "WHERE DEPARTMENT_ID = (\n",
    "    SELECT DEPARTMENT_ID\n",
    "    FROM EMPLOYEE\n",
    "    WHERE NAME ='ELICE');\n",
    "    \n",
    "서브쿼리 값\n",
    "DEPARTMENT_ID\n",
    "     1\n",
    "     \n",
    "EMPLOYEE\n",
    "ID            DEPARTMENT_ID     NAME       SALARY\n",
    "1000                1           ELICE      12000\n",
    "1001                2           JESSICA     9000\n",
    "1002                3           STEVE       7500\n",
    "1003                1           LINDA       5500\n",
    "1004                2           DAVID       4400\n",
    "1005                1           ROBERT      3200\n",
    "\n",
    "AVG_SALARY\n",
    " 6900"
   ]
  },
  {
   "cell_type": "markdown",
   "id": "0c0e6ce9",
   "metadata": {},
   "source": []
  },
  {
   "cell_type": "markdown",
   "id": "a8e388f8",
   "metadata": {},
   "source": [
    "동작하는 방식에 따른 서브쿼리 분류 - 연관 서브쿼리\n",
    "EMPLOYEE 테이블에는 직원 ID, 관리자 ID, 급여 정보가 담겨 있습니다.\n",
    "\n",
    "직원들 중에서 자신의 관리자보다 급여가 높거나 같은 직원에 대해서 알아보고자 합니다. EMPLOYEE 테이블에는 직원에 대해 관리자 ID 정보만 있기 때문에, 연관 서브쿼리를 통해 직원의 관리자 급여정보를 추출해야 합니다.\n",
    "\n",
    "연관 서브쿼리를 이용하여, 자신의 관리자보다 급여가 높거나 같은 직원 ID를 조회하는 쿼리를 작성해 봅시다.\n",
    "\n",
    "지시사항\n",
    "직원의 관리자 급여를 추출하는 서브쿼리를 WHERE문 조건에 응용하고 연관 서브쿼리 개념을 이용하여, 직원의 급여가 직원의 관리자 급여보다 높거나 같은 직원 ID(employee_id) 를 조회해 봅시다.\n",
    "\n",
    "Tip!\n",
    "결과에 대해 ORDER BY 를 이용하여 직원 ID를 기준으로 오름차순 정렬을 해주세요."
   ]
  },
  {
   "cell_type": "code",
   "execution_count": null,
   "id": "25dc2e4a",
   "metadata": {},
   "outputs": [],
   "source": [
    "'''\n",
    "-- 아래는 EMPLOYEE 테이블에 대한 구조를 보여줍니다. 테이블을 수정하실 필요는 없습니다.\n",
    "DESC EMPLOYEE;\n",
    "\n",
    "SELECT * FROM EMPLOYEE;\n",
    "-- 자신의 관리자의 급여보다 높거나 같은 급여를 가진 직원의 ID를 출력하는 쿼리를 작성해봅시다.\n",
    "\n",
    "SELECT A.employee_id\n",
    "FROM EMPLOYEE  A\n",
    "WHERE A.salary >= (\n",
    "    SELECT salary\n",
    "    FROM EMPLOYEE  B\n",
    "    WHERE A.manager_id = B.employee_id)\n",
    "ORDER BY employee_id ASC;\n",
    "'''\n",
    "\n",
    "'''\n",
    "+-------------+---------+------+-----+---------+-------+\n",
    "| Field       | Type    | Null | Key | Default | Extra |\n",
    "+-------------+---------+------+-----+---------+-------+\n",
    "| employee_id | int(11) | NO   | PRI | NULL    |       |\n",
    "| manager_id  | int(11) | YES  |     | NULL    |       |\n",
    "| salary      | int(11) | NO   |     | NULL    |       |\n",
    "+-------------+---------+------+-----+---------+-------+\n",
    "+-------------+------------+--------+\n",
    "| employee_id | manager_id | salary |\n",
    "+-------------+------------+--------+\n",
    "|       10000 |       NULL |   9000 |\n",
    "|       10001 |       NULL |   8500 |\n",
    "|       10002 |      10000 |   9000 |\n",
    "|       10003 |      10002 |   7000 |\n",
    "|       10004 |      10001 |   9500 |\n",
    "|       10005 |      10003 |   7500 |\n",
    "|       10006 |      10003 |   5000 |\n",
    "+-------------+------------+--------+\n",
    "+-------------+\n",
    "| employee_id |\n",
    "+-------------+\n",
    "|       10002 |\n",
    "|       10004 |\n",
    "|       10005 |\n",
    "+-------------+\n",
    "'''"
   ]
  },
  {
   "cell_type": "markdown",
   "id": "4b694713",
   "metadata": {},
   "source": [
    "동작하는 방식에 따른 서브쿼리 분류 - 비연관 서브쿼리\n",
    "EMPLOYEE 테이블에는 직원 ID, 관리자 ID, 급여 정보가 담겨 있습니다.\n",
    "\n",
    "급여가 8,000미만인 직원을 관리하는 관리자의 ID와 급여를 출력하고자 합니다. EMPLOYEE 테이블에는 관리자의 급여정보가 없기 때문에, 비연관 서브쿼리를 통해 급여가 8,000미만인 직원의 관리자 ID를 조회하고, 해당 ID에 대해 직원 ID와 급여정보를 조회해봅시다.\n",
    "\n",
    "비연관 서브쿼리를 이용하여, 급여가 8,000 미만인 직원의 관리자 ID와 급여를 출력하는 쿼리를 작성하세요.\n",
    "\n",
    "지시사항\n",
    "급여가 8,000 미만인 직원의 관리자 ID 를 추출하는 서브쿼리를 WHERE문 조건에 응용하고 비연관 서브쿼리 개념을 이용하여, 급여가 8,000 미만인 직원의 관리자 ID(employee_id)와 급여(salary) 를 조회해 봅시다.\n",
    "\n",
    "Tip!\n",
    "결과에 대해 ORDER BY 를 이용하여 직원 ID를 기준으로 오름차순 정렬을 해주세요."
   ]
  },
  {
   "cell_type": "code",
   "execution_count": null,
   "id": "da22f140",
   "metadata": {},
   "outputs": [],
   "source": [
    "'''\n",
    "-- 아래는 EMPLOYEE 테이블에 대한 구조를 보여줍니다. 테이블을 수정하실 필요는 없습니다.\n",
    "DESC EMPLOYEE;\n",
    "SELECT * FROM EMPLOYEE;\n",
    "-- 급여가 8000미만인 직원의 관리자 아이디와 급여를 출력하는 쿼리를 작성하세요.\n",
    "SELECT employee_id , salary\n",
    "FROM EMPLOYEE\n",
    "WHERE employee_id IN (\n",
    "    SELECT manager_id \n",
    "    FROM EMPLOYEE\n",
    "    WHERE salary < 8000\n",
    ")\n",
    "ORDER BY employee_id ASC;\n",
    "'''\n",
    "\n",
    "'''\n",
    "+-------------+---------+------+-----+---------+-------+\n",
    "| Field       | Type    | Null | Key | Default | Extra |\n",
    "+-------------+---------+------+-----+---------+-------+\n",
    "| employee_id | int(11) | NO   | PRI | NULL    |       |\n",
    "| manager_id  | int(11) | YES  |     | NULL    |       |\n",
    "| salary      | int(11) | NO   |     | NULL    |       |\n",
    "+-------------+---------+------+-----+---------+-------+\n",
    "+-------------+------------+--------+\n",
    "| employee_id | manager_id | salary |\n",
    "+-------------+------------+--------+\n",
    "|       10000 |       NULL |   9000 |\n",
    "|       10001 |       NULL |   8500 |\n",
    "|       10002 |      10000 |   9000 |\n",
    "|       10003 |      10002 |   7000 |\n",
    "|       10004 |      10001 |   9500 |\n",
    "|       10005 |      10003 |   7500 |\n",
    "|       10006 |      10003 |   5000 |\n",
    "+-------------+------------+--------+\n",
    "+-------------+--------+\n",
    "| employee_id | salary |\n",
    "+-------------+--------+\n",
    "|       10002 |   9000 |\n",
    "|       10003 |   7000 |\n",
    "+-------------+--------+\n",
    "'''"
   ]
  },
  {
   "cell_type": "markdown",
   "id": "c82a0f7c",
   "metadata": {},
   "source": []
  },
  {
   "cell_type": "markdown",
   "id": "0cc5a3ce",
   "metadata": {},
   "source": [
    "[이론] 반환되는 데이터 형태에 따른 서브쿼리 분류 - 단일 행 서브쿼리"
   ]
  },
  {
   "cell_type": "markdown",
   "id": "5f33d144",
   "metadata": {},
   "source": [
    "02.반환되는 데이터 형태에 따른 서브쿼리 분류"
   ]
  },
  {
   "cell_type": "markdown",
   "id": "231df52b",
   "metadata": {},
   "source": [
    "서브쿼리 분류\n",
    "\n",
    "1. 단일 행 서브쿼리(Single Row Subquery)\n",
    "\n",
    "2. 다중 행 서브쿼리(Multi Row Subquery)                    단일 컬럼\n",
    "---------------------------------------------------\n",
    "3. 다중 컬럼 서브쿼리(Multi Column Subquery)"
   ]
  },
  {
   "cell_type": "markdown",
   "id": "b97af9f7",
   "metadata": {},
   "source": [
    "단일 행 서브쿼리\n",
    "\n",
    "서브쿼리의 결과가 한 개의 행을 반환하며,\n",
    "단일 행 비교 연산자( =, >, <, <=, >=)와 같이 사용된다."
   ]
  },
  {
   "cell_type": "markdown",
   "id": "278be7be",
   "metadata": {},
   "source": [
    "단일 행 서브쿼리\n",
    "\n",
    "ELICE가 속한 부서의 직원들을 출력한다.\n",
    "\n",
    "코드\n",
    "SELECT ID, NAME, SALARY\n",
    "FROM EMPLOYEE\n",
    "WHERE DEPARTMENT_ID = (\n",
    "    SELECT DEPARTMENT_ID\n",
    "    FROM EMPLOYEE\n",
    "    WHERE NAME='ELICE');\n",
    "    \n",
    "서브쿼리\n",
    "DEPARTMENT_ID        하나만 반환되기 때문에 :  단일 행 서브쿼리\n",
    "     1\n",
    "     \n",
    "EMPLOYEE \n",
    "ID            DEPARTMENT_ID     NAME       SALARY\n",
    "1000                1           ELICE      12000\n",
    "1001                2           JESSICA     9000\n",
    "1002                3           STEVE       7500\n",
    "1003                1           LINDA       5500\n",
    "1004                2           DAVID       4400\n",
    "1005                1           ROBERT      3200\n",
    "\n",
    "결과\n",
    "ID            DEPARTMENT_ID     NAME       SALARY\n",
    "1000                1           ELICE      12000\n",
    "1003                1           LINDA       5500\n",
    "1005                1           ROBERT      3200\n"
   ]
  },
  {
   "cell_type": "markdown",
   "id": "1c0ebe52",
   "metadata": {},
   "source": []
  },
  {
   "cell_type": "markdown",
   "id": "8b8978df",
   "metadata": {},
   "source": [
    "반환되는 데이터 형태에 따른 서브쿼리 분류 - 단일 행 서브쿼리\n",
    "REQUEST 테이블에는 요청 ID와 요청상태 정보가 담겨있습니다. 또한 REQUEST_DTL테이블에는 요청 상세 ID, 요청 ID, 요청 이름, 요청 내용 등의 정보가 담겨 있습니다.\n",
    "\n",
    "요청 상태가 실패(FAILED)인 요청의 상세 정보를 알고자 합니다. 이때, REQUEST 테이블에서 요청상태 값이 실패(FAILED)인 요청 ID가 1개이기 때문에 단일 행 서브쿼리 개념을 이용하여 해당 요청의 상세정보를 조회해 봅시다.\n",
    "\n",
    "REQUEST 테이블에 있는 요청상태 값이 실패(FAILED)인 요청 ID를 얻어서 그 요청에 대한 상세정보를 알아보는 쿼리를 작성해봅시다.\n",
    "\n",
    "지시사항\n",
    "WHERE문을 이용하여, REQUEST 테이블에서 요청상태가 FAILED인 데이터의 요청 ID(request_id)를 출력하는 쿼리를 작성해봅시다.\n",
    "\n",
    "1번에서 조회한 쿼리를 서브쿼리로 이용하여, REQUEST_DTL 테이블에서 해당 요청 ID에 대한 상세정보(요청 상세 ID(request_dtl_id), 요청 ID(request_id), 요청 이름(request_name), 요청 내용(request_content))를 출력하는 쿼리를 작성해봅시다.\n",
    "\n",
    "Tip!\n",
    "데이터 조회순서는 지시사항에서 언급하고 있는 순서대로 정확히 작성하세요."
   ]
  },
  {
   "cell_type": "code",
   "execution_count": null,
   "id": "ff27855d",
   "metadata": {},
   "outputs": [],
   "source": [
    "'''\n",
    "-- 아래는 REQUEST, REQUEST_DTL 테이블에 대한 구조를 보여줍니다. 테이블을 수정하실 필요는 없습니다.\n",
    "DESC REQUEST;\n",
    "DESC REQUEST_DTL;\n",
    "\n",
    "SELECT * FROM REQUEST;\n",
    "SELECT * FROM REQUEST_DTL;\n",
    "-- 1. 요청상태가 FAILED인 요청 데이터를 조회하는 쿼리를 작성해보세요.\n",
    "SELECT request_id\n",
    "FROM REQUEST\n",
    "WHERE request_status ='FAILED';\n",
    "\n",
    "-- 2. 위에서 작성한 쿼리를 서브쿼리로 이용하여 REQUEST_DTL 테이블에서 요청 상세를 조회하는 쿼리를 작성해보세요.\n",
    "SELECT request_dtl_id, request_id, request_name, request_content\n",
    "FROM REQUEST_DTL\n",
    "WHERE request_id = (\n",
    "    SELECT request_id\n",
    "    FROM REQUEST\n",
    "    WHERE request_status ='FAILED'\n",
    ")\n",
    "ORDER BY request_id ASC;\n",
    "\n",
    "\n",
    "'''\n",
    "\n",
    "'''\n",
    "+----------------+-------------+------+-----+---------+-------+\n",
    "| Field          | Type        | Null | Key | Default | Extra |\n",
    "+----------------+-------------+------+-----+---------+-------+\n",
    "| request_id     | int(11)     | NO   | PRI | NULL    |       |\n",
    "| request_status | varchar(10) | NO   |     | NULL    |       |\n",
    "+----------------+-------------+------+-----+---------+-------+\n",
    "+-----------------+--------------+------+-----+---------+-------+\n",
    "| Field           | Type         | Null | Key | Default | Extra |\n",
    "+-----------------+--------------+------+-----+---------+-------+\n",
    "| request_dtl_id  | int(11)      | NO   | PRI | NULL    |       |\n",
    "| request_id      | int(11)      | NO   |     | NULL    |       |\n",
    "| request_name    | varchar(50)  | NO   |     | NULL    |       |\n",
    "| request_content | varchar(300) | YES  |     | NULL    |       |\n",
    "+-----------------+--------------+------+-----+---------+-------+\n",
    "+------------+----------------+\n",
    "| request_id | request_status |\n",
    "+------------+----------------+\n",
    "|      10001 | SUCCESS        |\n",
    "|      10002 | FAILED         |\n",
    "|      10003 | SUCCESS        |\n",
    "|      10004 | SUCCESS        |\n",
    "+------------+----------------+\n",
    "+----------------+------------+--------------+-----------------+\n",
    "| request_dtl_id | request_id | request_name | request_content |\n",
    "+----------------+------------+--------------+-----------------+\n",
    "|          21548 |      10001 | FOR_TEST     | NULL            |\n",
    "|          21567 |      10002 | GET          | FOR GET         |\n",
    "|          22211 |      10003 | POST         | DATA INPUT      |\n",
    "|          34527 |      10004 | DB           | DATA INPUT      |\n",
    "|          36788 |      10005 | HELLO        | NULL            |\n",
    "+----------------+------------+--------------+-----------------+\n",
    "+------------+\n",
    "| request_id |\n",
    "+------------+\n",
    "|      10002 |\n",
    "+------------+\n",
    "+----------------+------------+--------------+-----------------+\n",
    "| request_dtl_id | request_id | request_name | request_content |\n",
    "+----------------+------------+--------------+-----------------+\n",
    "|          21567 |      10002 | GET          | FOR GET         |\n",
    "+----------------+------------+--------------+-----------------+\n",
    "'''"
   ]
  },
  {
   "cell_type": "markdown",
   "id": "a4a41773",
   "metadata": {},
   "source": []
  },
  {
   "cell_type": "markdown",
   "id": "15a121c0",
   "metadata": {},
   "source": [
    "[이론] 반환되는 데이터의 형태에 따른 서브쿼리 분류 - 다중 행 서브쿼리"
   ]
  },
  {
   "cell_type": "markdown",
   "id": "e181e0d6",
   "metadata": {},
   "source": [
    "다중 행 서브쿼리\n",
    "\n",
    "서브쿼리의 결과가 두 개 이상 행을 반환할 수 있으며,\n",
    "다중 행 비교 연산자(IN, ALL, ANY, EXISTS)와 같이 사용된다."
   ]
  },
  {
   "cell_type": "markdown",
   "id": "38d362c0",
   "metadata": {},
   "source": [
    "다중 행 서브쿼리\n",
    "\n",
    "- 특징       설명\n",
    "  IN        서브쿼리 결과에 존재하는 값들 중 하나와 일치해야 한다 \n",
    "  EXISTS    서브쿼리 결과 값이 존재하는지 여부를 확인한다\n",
    "  ALL       서브쿼리 결과에 존재하는 모든 값들에 대해 조건을 만족해야 한다\n",
    "  ANY       서브쿼리 결과에 존재하는 값들 중 조건을 만족하는 것이 하나 이상 존재해야 한다"
   ]
  },
  {
   "cell_type": "markdown",
   "id": "6bdef317",
   "metadata": {},
   "source": [
    "다중 행 서브쿼리 - IN\n",
    "\n",
    "영업 또는 개발 팀에 속하는 직원들을 출력한다.\n",
    "\n",
    "\n",
    "EMPLOYEE \n",
    "ID            DEPARTMENT_ID     NAME       SALARY\n",
    "1000                1           ELICE      12000\n",
    "1001                2           JESSICA     9000\n",
    "1002                3           STEVE       7500\n",
    "1003                1           LINDA       5500\n",
    "1004                2           DAVID       4400\n",
    "1005                1           ROBERT      3200\n",
    "\n",
    "DEPARTMENT\n",
    "ID       NAME\n",
    "1        개발\n",
    "2        품질\n",
    "3        영업\n",
    "\n",
    "코드\n",
    "SELECT NAME\n",
    "FROM EMPLOYEE\n",
    "WHERE DEPARTMENT_ID IN (\n",
    "    SELECT ID\n",
    "    FROM DEPARTMENT\n",
    "    WHERE NAME='품질' OR NAME='영업');\n",
    "\n",
    "서브쿼리 \n",
    "DEPARTMENT_ID\n",
    "     2\n",
    "     3\n",
    "     \n",
    "결과\n",
    "NAME\n",
    "JESSICA\n",
    "STEVE\n",
    "DAVID"
   ]
  },
  {
   "cell_type": "markdown",
   "id": "70861deb",
   "metadata": {},
   "source": [
    "다중 행 서브쿼리 - EXISTS\n",
    "\n",
    "급여가 10000을 넘는 직원이 존재하는 부서에\n",
    "소속된 모든 직원들을 출력한다\n",
    "\n",
    "EMPLOYEE\n",
    "ID           DEPARTMENT_ID      NAME        SALARY\n",
    "1000               1            ELICE       12000\n",
    "1001               2            JESSICA      9000\n",
    "1002               3            STEVE        7500\n",
    "1003               1            LINDA        5500\n",
    "1004               2            DAVID        4400\n",
    "1005               1            ROBERT       3200\n",
    "\n",
    "\n",
    "코드\n",
    "SELECT NAME\n",
    "FROM EMPLOYEE A\n",
    "WHERE EXISTS (\n",
    "    SELECT ID\n",
    "    FROM EMPLOYEE B\n",
    "    WHERE B.SALARY > 10000 AND\n",
    "    A.DEPARTMENT_ID = B.DEPARTMENT_ID);\n",
    "     \n",
    "    \n",
    "결과\n",
    "NAME\n",
    "ELICE\n",
    "LINDA\n",
    "ROBERT"
   ]
  },
  {
   "cell_type": "markdown",
   "id": "bfd17085",
   "metadata": {},
   "source": [
    "다중 행 서브쿼리 - ALL\n",
    "\n",
    "개발 팀 소속 모든 직원들 급여보다 급여가 큰 직원들을 출력한다\n",
    "\n",
    "EMPLOYEE \n",
    "ID            DEPARTMENT_ID     NAME       SALARY\n",
    "1000                1           ELICE      12000\n",
    "1001                2           JESSICA     9000\n",
    "1002                3           STEVE       7500\n",
    "1003                1           LINDA       5500\n",
    "1004                2           DAVID       4400\n",
    "1005                1           ROBERT      3200\n",
    "\n",
    "DEPARTMENT\n",
    "ID       NAME\n",
    "1        개발\n",
    "2        품질\n",
    "3        영업\n",
    "\n",
    "\n",
    "코드\n",
    "SELECT NAME\n",
    "FROM EMPLOYEE\n",
    "WHERE SALARY >= ALL(\n",
    "    SELECT SALARY\n",
    "    FROM EMPLOYEE\n",
    "    WHERE DEPARTMENT_ID = 1);\n",
    "    \n",
    "서브쿼리\n",
    "SALARY\n",
    "12000\n",
    " 5500         ALL이기 때문에 3가지 조건 모두 만족 하는 ELICE만 출력됨\n",
    " 3200\n",
    " \n",
    " 결과\n",
    " NAME\n",
    " ELICE"
   ]
  },
  {
   "cell_type": "markdown",
   "id": "e47bf7b9",
   "metadata": {},
   "source": [
    "다중 행 서브쿼리 - ANY\n",
    "\n",
    "개발팀 소속 임의의 직원들 급여보다 급여가 큰 직원들을 출력한다\n",
    "\n",
    "EMPLOYEE \n",
    "ID            DEPARTMENT_ID     NAME       SALARY\n",
    "1000                1           ELICE      12000\n",
    "1001                2           JESSICA     9000\n",
    "1002                3           STEVE       7500\n",
    "1003                1           LINDA       5500\n",
    "1004                2           DAVID       4400\n",
    "1005                1           ROBERT      3200\n",
    "\n",
    "DEPARTMENT\n",
    "ID       NAME\n",
    "1        개발\n",
    "2        품질\n",
    "3        영업\n",
    "\n",
    "코드\n",
    "SELECT NAME\n",
    "FROM EMPLOYEE\n",
    "WHERE SALARY >= ANY(\n",
    "    SELECT SALARY\n",
    "    FROM EMPLOYEE\n",
    "    WHERE DEPARTMENT_ID = 1);\n",
    "    \n",
    "\n",
    "서브쿼리\n",
    "SALARY\n",
    "12000\n",
    " 5500         ANY이기 때문에 가장 작은 값이상이라면 무조건 통과된다\n",
    " 3200\n",
    " \n",
    "결과\n",
    "NAME\n",
    "ELICE\n",
    "JESSICA\n",
    "STEVE\n",
    "LINDA\n",
    "DAVID\n",
    "ROBERT"
   ]
  },
  {
   "cell_type": "markdown",
   "id": "105c1d1f",
   "metadata": {},
   "source": []
  },
  {
   "cell_type": "markdown",
   "id": "1db55f08",
   "metadata": {},
   "source": []
  },
  {
   "cell_type": "markdown",
   "id": "e6b37b25",
   "metadata": {},
   "source": []
  },
  {
   "cell_type": "markdown",
   "id": "e409dfce",
   "metadata": {},
   "source": []
  },
  {
   "cell_type": "markdown",
   "id": "4abaa182",
   "metadata": {},
   "source": []
  },
  {
   "cell_type": "markdown",
   "id": "92e99b64",
   "metadata": {},
   "source": []
  },
  {
   "cell_type": "markdown",
   "id": "67f39a5a",
   "metadata": {},
   "source": []
  },
  {
   "cell_type": "markdown",
   "id": "e34ba8f9",
   "metadata": {},
   "source": []
  },
  {
   "cell_type": "markdown",
   "id": "8072fee2",
   "metadata": {},
   "source": []
  },
  {
   "cell_type": "markdown",
   "id": "73105b58",
   "metadata": {},
   "source": []
  },
  {
   "cell_type": "markdown",
   "id": "6fc82b02",
   "metadata": {},
   "source": []
  },
  {
   "cell_type": "markdown",
   "id": "ffe08b1f",
   "metadata": {},
   "source": []
  },
  {
   "cell_type": "markdown",
   "id": "2e5916dd",
   "metadata": {},
   "source": []
  },
  {
   "cell_type": "markdown",
   "id": "3c5a958b",
   "metadata": {},
   "source": []
  },
  {
   "cell_type": "markdown",
   "id": "cd403d05",
   "metadata": {},
   "source": []
  },
  {
   "cell_type": "markdown",
   "id": "9b26f9f9",
   "metadata": {},
   "source": []
  },
  {
   "cell_type": "markdown",
   "id": "a0f3ef77",
   "metadata": {},
   "source": []
  },
  {
   "cell_type": "markdown",
   "id": "4b1dc6c0",
   "metadata": {},
   "source": []
  },
  {
   "cell_type": "markdown",
   "id": "e5f5ed4a",
   "metadata": {},
   "source": []
  },
  {
   "cell_type": "markdown",
   "id": "41c8e32c",
   "metadata": {},
   "source": []
  },
  {
   "cell_type": "markdown",
   "id": "dc57b5e9",
   "metadata": {},
   "source": []
  },
  {
   "cell_type": "markdown",
   "id": "11e000ef",
   "metadata": {},
   "source": []
  },
  {
   "cell_type": "markdown",
   "id": "108ebd04",
   "metadata": {},
   "source": []
  },
  {
   "cell_type": "markdown",
   "id": "b80ff023",
   "metadata": {},
   "source": []
  },
  {
   "cell_type": "markdown",
   "id": "5a384809",
   "metadata": {},
   "source": []
  },
  {
   "cell_type": "markdown",
   "id": "88889ae8",
   "metadata": {},
   "source": []
  },
  {
   "cell_type": "markdown",
   "id": "cfc40eba",
   "metadata": {},
   "source": []
  },
  {
   "cell_type": "markdown",
   "id": "9618e996",
   "metadata": {},
   "source": []
  },
  {
   "cell_type": "markdown",
   "id": "dd9d30f5",
   "metadata": {},
   "source": []
  },
  {
   "cell_type": "markdown",
   "id": "f62efa67",
   "metadata": {},
   "source": []
  },
  {
   "cell_type": "markdown",
   "id": "a9588a9d",
   "metadata": {},
   "source": []
  },
  {
   "cell_type": "markdown",
   "id": "4a781814",
   "metadata": {},
   "source": []
  },
  {
   "cell_type": "markdown",
   "id": "02ef0599",
   "metadata": {},
   "source": []
  },
  {
   "cell_type": "markdown",
   "id": "6f773649",
   "metadata": {},
   "source": []
  }
 ],
 "metadata": {
  "kernelspec": {
   "display_name": "Python 3",
   "language": "python",
   "name": "python3"
  },
  "language_info": {
   "codemirror_mode": {
    "name": "ipython",
    "version": 3
   },
   "file_extension": ".py",
   "mimetype": "text/x-python",
   "name": "python",
   "nbconvert_exporter": "python",
   "pygments_lexer": "ipython3",
   "version": "3.8.8"
  }
 },
 "nbformat": 4,
 "nbformat_minor": 5
}
