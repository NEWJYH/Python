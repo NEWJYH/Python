{
 "cells": [
  {
   "cell_type": "markdown",
   "id": "0a5e030e",
   "metadata": {},
   "source": [
    "목 차\n",
    "\n",
    "1. 벡터의 정의와 의미\n",
    "\n",
    "2. 벡터 연산, 단위 벡터, 직교성\n",
    "\n",
    "3. 행렬의 정의와 의미\n",
    "\n",
    "4. 행렬 연산과 역행렬"
   ]
  },
  {
   "cell_type": "markdown",
   "id": "12777cc6",
   "metadata": {},
   "source": [
    "커리큘럼\n",
    "\n",
    "1. 벡터의 정의와 의미\n",
    "    - 벡터의 정의와 이것의 활용 범위에 대해 학습합니다.\n",
    "\n",
    "2. 벡터 연산, 단위 벡터, 직교성\n",
    "    - 벡터의 덧셈, 뺄셈, 곱셈 등의 연산에 대해 학습합니다.\n",
    "    - 단위 벡터, 벡터의 직교성의 정의와 활용에 대해 학습합니다.\n",
    "    \n",
    "3. 행렬의 정의와 의미\n",
    "    - 행렬의 정의와 이것의 활용 범위에 대해 학습합니다.\n",
    "    \n",
    "4. 행렬 연산과 역행렬\n",
    "    - 행렬의 연산과 역행렬의 의미에 대해 학습합니다."
   ]
  },
  {
   "cell_type": "markdown",
   "id": "0e94a570",
   "metadata": {},
   "source": []
  },
  {
   "cell_type": "markdown",
   "id": "c4683f9f",
   "metadata": {},
   "source": [
    "1. 벡터의 정의와 의미"
   ]
  },
  {
   "cell_type": "markdown",
   "id": "8509f8f1",
   "metadata": {},
   "source": [
    "벡터(Vector)\n",
    "\n",
    "- 정의 : 크기(Scale)와 방향(Direction)을 가진 물리량\n",
    "- 일련의 숫자 리스트(list)\n",
    "- 예시 : 고차원에서의 좌표"
   ]
  },
  {
   "cell_type": "markdown",
   "id": "5921fd98",
   "metadata": {},
   "source": [
    "벡터의 특성\n",
    "\n",
    "->\n",
    "A   = (2, 4)\n",
    "크기는? 방향은?\n",
    "\n",
    "크기 : 루트(2^2 + 4^2) = 루트(20)\n",
    "      \n",
    "      ->\n",
    "방향 : UA = (2/루트(20), 4/루트(20)) : 크기를 1로 줄였을때 좌표\n",
    "      좌표를 크기로 나눔\n",
    "\n",
    "\n",
    "->                  ->\n",
    "B = (루트(20), 0)는  A 와 같을까?     X 방향이 다름\n",
    "\n",
    "->          ->\n",
    "C = (1,2)는  A 와 같을까?      X 방향은 같음 크기가 다름\n",
    "\n",
    "두 벡터가 같다라고 하면 크기 및 방향이 모두 같을 때"
   ]
  },
  {
   "cell_type": "markdown",
   "id": "580898de",
   "metadata": {},
   "source": [
    "왜 벡터를 알아야하나?\n",
    "\n",
    "- 데이터는 대게 리스트의 형태로 저장되어 있음.\n",
    "- 여러 리스트의 데이터를 기반으로 특징을 추출하고 분석 해야함.\n",
    "- 이 때, 벡터의 크기와 방향을 모두 고려함\n",
    "\n",
    "데이터(Data) -> 철수 : [150cm, 52kg, 5세]\n",
    "               선호 : [187cm, 69kg, 21세]\n",
    "               ...."
   ]
  },
  {
   "cell_type": "markdown",
   "id": "8291d1c9",
   "metadata": {},
   "source": []
  },
  {
   "cell_type": "markdown",
   "id": "679d0666",
   "metadata": {},
   "source": [
    "[이론] 벡터 연산, 단위 벡터, 직교성"
   ]
  },
  {
   "cell_type": "markdown",
   "id": "fb67a115",
   "metadata": {},
   "source": [
    "2. 벡터 연산, 단위 벡터, 직교성"
   ]
  },
  {
   "cell_type": "markdown",
   "id": "45d9e3df",
   "metadata": {},
   "source": [
    "벡터의 연산(1)\n",
    "\n",
    "- 벡터에서 -는 음수를 의미하지 않음.\n",
    "- 방향을 180도 반대로 만들어주는 역할임."
   ]
  },
  {
   "cell_type": "markdown",
   "id": "7cd5d845",
   "metadata": {},
   "source": [
    "벡터의 연산(2)\n",
    "\n",
    "   ->\n",
    "-  0 는 더해서 자기 자신이 나오게 하는 벡터임.\n",
    "- 영벡터라고 부름.\n",
    "- 2,3 차원에서는 (0,0) 그리고 (0,0,0)으로 표기할 수 있음.\n",
    "\n",
    "->     ->    ->    ->    ->\n",
    " A  +  0  =   0  +  A  =  A"
   ]
  },
  {
   "cell_type": "markdown",
   "id": "1e655c25",
   "metadata": {},
   "source": [
    "벡터의 연산(3)\n",
    "\n",
    "- 벡터의 덧셈은 화살표를 평행이동해서 더해주는 방식으로 이해할 수 있음.\n",
    "- 각 원소(element) 별로 대응되는 값들의 합으로 계산함.\n",
    "-\n",
    "      ->         ->   \n",
    "- 예 : A = (2, 4) B = (5, 1)\n",
    " ->     ->\n",
    "- A  +  B = (2 + 5, 4 + 1) = (7, 5)\n"
   ]
  },
  {
   "cell_type": "markdown",
   "id": "09eb91b8",
   "metadata": {},
   "source": [
    "벡터의 연산(4)\n",
    "\n",
    "- 벡터의 뺄셈은 덧셈의 응용.\n",
    "-    ->          ->\n",
    "- 예) A = (2, 4), B = (5, 1)\n",
    "-\n",
    "- ->   ->\n",
    "- A  -  B = (2 - 5, 4 - 1) = (-3, 3)\n"
   ]
  },
  {
   "cell_type": "markdown",
   "id": "dc036f4a",
   "metadata": {},
   "source": [
    "벡터의 연산(5)\n",
    "\n",
    "- 벡터의 곱셈은 흔히 내적(inner product)가 있음.\n",
    "- 흥미롭게, 벡터의 내적은 벡터를 출력하지 않음.\n",
    "      ->  ->       -> ->\n",
    "- 벡터 A와 B의 내적은 A·B으로 표기함.\n",
    "- 길이가 같은 두 벡터 사이의 각도를 나타내는 방식임.\n",
    "- 각 차원 별로 대응되는 원소(element)간의 곱의 합으로 계산함.\n",
    "    ->          ->\n",
    "- 예 A = (2, 4), B = (5, 1)\n",
    "  -> ->\n",
    "- A·B   = 2 * 5 + 4 * 1 = 14\n",
    "  ->->     ->->\n",
    "-  A·B  == B·A"
   ]
  },
  {
   "cell_type": "markdown",
   "id": "a339c896",
   "metadata": {},
   "source": [
    "벡터의 연산(6)\n",
    "\n",
    "- 내적은 다르게 표현할 수 있음. 아래와 같음.\n",
    "                             ->->    ->    ->\n",
    "                             A·B = ||A|| ||B|| cosθ\n",
    "     ->   ->                       \n",
    "- θ : A 와 B 사이의 사이각\n",
    "- || · || : 괄호 안에 있는 벡터의 크기임.\n",
    "-                                   ->->\n",
    "-                                   A·B\n",
    "- 두 벡터가 영벡터가 아니라면, cosθ = --------  으로 표현됨.\n",
    "-                                   -> ->\n",
    "-                                   |A||B|"
   ]
  },
  {
   "cell_type": "markdown",
   "id": "7dc076a8",
   "metadata": {},
   "source": [
    "단위 벡터 (unit vector) - (1)\n",
    "\n",
    " ->\n",
    "- u 로 일반적으로 표현함.      ->\n",
    "- 벡터의 크기가 1인 벡터이며, ||u|| = 1 임.\n",
    "- 두 단위 벡터의 내적은 cosθ임"
   ]
  },
  {
   "cell_type": "markdown",
   "id": "0fc11abc",
   "metadata": {},
   "source": [
    "단위 벡터 (unit vector) - (2)\n",
    "\n",
    "- cosine 값을 내적과 단위 벡터의 활용으로 구할 수 있음.\n",
    "- Cosine 값을 알면 두 벡터 사이의 각도도 역함수를 통해 알 수 있음.\n",
    "- 단, 두 벡터는 영벡터가 아니여야함.\n",
    "- 이를 cosine similarity라고도 부름.\n",
    "\n",
    "-                                   ->->\n",
    "-                                   A·B\n",
    "-                           cosθ = --------  \n",
    "-                                   -> ->\n",
    "-                                   |A||B|"
   ]
  },
  {
   "cell_type": "markdown",
   "id": "e69a186e",
   "metadata": {},
   "source": [
    "직교성(Orthogonal) - 연관성이 없다.\n",
    "\n",
    "- \"두 벡터가 직교한다\"의 정의는 cosθ  = 0 인 경우를 의미함.\n",
    "\n",
    "- 내적이 0일 때, \n",
    "  두 벡터가 영벡터가 아니라면 서로 직교한다고 이야기 할 수 있음."
   ]
  },
  {
   "cell_type": "markdown",
   "id": "78499b58",
   "metadata": {},
   "source": [
    "Numpy 벡터 연산하기\n",
    "NumPy는 파이썬에서 행렬 계산을 쉽게 할 수 있도록 도와줍니다.\n",
    "NumPy의 다양한 함수를 이용하면 \n",
    "기계학습에서 사용되는 수식을 쉽게 구현할 수 있습니다.\n",
    "\n",
    "이번 실습에서는 NumPy를 활용하여 벡터를 다뤄봅시다.\n",
    "\n",
    "벡터 함수의 크기(scale)\n",
    "\n",
    "np.linalg.norm(data)\n",
    "Copy\n",
    "리스트 data를 받아서 이것의 크기를 유클리디안(피타고라스) 거리로 계산해 값을 출력합니다.\n",
    "\n",
    "\n",
    "실습\n",
    "calculate_norm(data) 함수 안에 주어진 데이터 data의 크기(scale) 값을 출력하는 함수를 채우시오.\n",
    "\n",
    "unit_vector(data) 함수 입력으로 주어진 data 벡터를 단위 벡터(unit vector)로 바꾸어 출력하세요."
   ]
  },
  {
   "cell_type": "code",
   "execution_count": 1,
   "id": "1bebe4a9",
   "metadata": {},
   "outputs": [
    {
     "name": "stdout",
     "output_type": "stream",
     "text": [
      "3.7416573867739413\n",
      "[0.26726124 0.53452248 0.80178373]\n"
     ]
    }
   ],
   "source": [
    "import numpy as np\n",
    "\n",
    "\n",
    "def main():\n",
    "    data = [1,2,3]\n",
    "    print(calculate_norm(data))\n",
    "    print(unit_vector(data))\n",
    "    \n",
    "\n",
    "def calculate_norm(data):\n",
    "    '''\n",
    "    지시사항1: 함수 안에 주어진 데이터 data의 크기(scale) 값을 출력하는 함수를 채우시오.\n",
    "    '''\n",
    "    return np.linalg.norm(data)\n",
    "\n",
    "def unit_vector(data):\n",
    "    '''\n",
    "    지시사항2: 함수 입력으로 주어진 data 벡터를 단위 벡터(unit vector)로 바꾸어 출력하세요.\n",
    "    '''\n",
    "    return np.array(data) / np.linalg.norm(data)\n",
    "\n",
    "if __name__ == \"__main__\":\n",
    "    main()\n"
   ]
  },
  {
   "cell_type": "markdown",
   "id": "8646df67",
   "metadata": {},
   "source": []
  },
  {
   "cell_type": "markdown",
   "id": "1b138676",
   "metadata": {},
   "source": [
    "[이론] 행렬의 정의와 의미"
   ]
  },
  {
   "cell_type": "markdown",
   "id": "a59c18c9",
   "metadata": {},
   "source": [
    "3. 행렬의 정의와 의미"
   ]
  },
  {
   "cell_type": "markdown",
   "id": "43e8c944",
   "metadata": {},
   "source": []
  },
  {
   "cell_type": "markdown",
   "id": "dfd75b71",
   "metadata": {},
   "source": []
  },
  {
   "cell_type": "markdown",
   "id": "b5e2bfac",
   "metadata": {},
   "source": []
  }
 ],
 "metadata": {
  "kernelspec": {
   "display_name": "Python 3",
   "language": "python",
   "name": "python3"
  },
  "language_info": {
   "codemirror_mode": {
    "name": "ipython",
    "version": 3
   },
   "file_extension": ".py",
   "mimetype": "text/x-python",
   "name": "python",
   "nbconvert_exporter": "python",
   "pygments_lexer": "ipython3",
   "version": "3.8.8"
  }
 },
 "nbformat": 4,
 "nbformat_minor": 5
}
