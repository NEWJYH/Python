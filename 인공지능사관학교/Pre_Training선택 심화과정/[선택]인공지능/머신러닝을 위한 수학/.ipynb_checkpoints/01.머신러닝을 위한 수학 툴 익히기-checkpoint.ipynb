{
 "cells": [
  {
   "cell_type": "markdown",
   "id": "b82b97ed",
   "metadata": {},
   "source": [
    "머신러닝을 위한 수학\n",
    "01. 머신러닝을 위한 수학 툴 익히기"
   ]
  },
  {
   "cell_type": "markdown",
   "id": "a45815df",
   "metadata": {},
   "source": [
    "목 차\n",
    "\n",
    "01. 머신러닝이란?\n",
    "\n",
    "02. 머신러닝을 위한 수학이 필요한 이유?\n",
    "\n",
    "03. Python 데이터 처리\n",
    "\n",
    "04. Numpy 사용하기\n",
    "\n",
    "05. Pandas 사용하기\n",
    "\n",
    "06. Matplotlib 사용하기"
   ]
  },
  {
   "cell_type": "markdown",
   "id": "2fba199d",
   "metadata": {},
   "source": [
    "커리큘럼\n",
    "\n",
    "1. 머신러닝이란?\n",
    "- 머신러닝의 정의와 개요에 대해 학습합니다.\n",
    "\n",
    "2. 머신러닝을 위한 수학이 필요한 이유?\n",
    "- 머신러닝의 기초와 이를 위한 수학에 대해 학습합니다.\n",
    "\n",
    "3. Python 데이터 처리\n",
    "- Python의 여러 자료형 데이터의 처리에 대해 학습합니다.\n",
    "\n",
    "4. Numpy 사용하기\n",
    "- Python의 Numpy 사용에 대해 학습합니다.\n",
    "\n",
    "5. Pandas 사용하기\n",
    "- Python의 pandas 사용에 대해 학습합니다.\n",
    "\n",
    "6. Matplotlib 사용하기\n",
    "- Python의 Matplotlib 사용에 대해 학습합니다."
   ]
  },
  {
   "cell_type": "markdown",
   "id": "d90b8485",
   "metadata": {},
   "source": [
    "추천대상\n",
    "\n",
    "1. 머신러닝 입문자\n",
    "- 머신러닝을 얼핏 알지만, 이해를 못하는 사람\n",
    "\n",
    "2. 데이터 분석 입문자\n",
    "- 파이썬 라이브러리를 실용적으로 활용해 보고 싶은 사람\n",
    "\n",
    "3. 벡터 행렬을 모르는 사람\n",
    "- 머신러닝의 이해에 필수적인 벡터와 행렬에 대해 모르는 사람"
   ]
  },
  {
   "cell_type": "markdown",
   "id": "edb108e3",
   "metadata": {},
   "source": [
    "수강목표\n",
    "\n",
    "1. 머신러닝의 전반에 대해 이해합니다.\n",
    "- 인공지능과 머신러닝의 차이를 알고, 일반적인 머신러닝의 구조를 이해합니다.\n",
    "\n",
    "2. 머신러닝 속의 본질적 수학 지식을 이해합니다.\n",
    "- 막연하고 이해하기 어려웠던 지식을 체계적으로 배우며 익힙니다.\n",
    "\n",
    "3. 어떤 머신러닝 기법을 마주하더라도 두렵지 않습니다.\n",
    "- 익힌 수학 지식으로 머신러닝 속의 여러 기법들을 접해도 어렵지 않습니다."
   ]
  },
  {
   "cell_type": "markdown",
   "id": "3a3bb1b2",
   "metadata": {},
   "source": []
  },
  {
   "cell_type": "markdown",
   "id": "1db9b7c4",
   "metadata": {},
   "source": [
    "01 머신러닝이란? \n",
    "(Machine Learning : ML)"
   ]
  },
  {
   "cell_type": "markdown",
   "id": "d6a34bc7",
   "metadata": {},
   "source": [
    "인공지능(Artificial Intelligence; AI)\n",
    "\n",
    "- 지능을 갖고 있는 기능을 갖춘 컴퓨터 시스템\n",
    "- 인간의 지능을 기계 등에 인공적으로 구현한 것. 예) 컴퓨터"
   ]
  },
  {
   "cell_type": "markdown",
   "id": "0a73d00e",
   "metadata": {},
   "source": [
    "머신러닝(Machine Learning; ML)\n",
    "\n",
    "- 경험을 통해 자동으로 개선하는 컴퓨터 알고리즘의 연구임.\n",
    "- 기계학습이라고도 부름.\n",
    "- 훈련데이터를 통해 학습해 경험을 쌓아 예측하는 방법들임\n",
    "\n",
    "인공지능 >= 머신러닝"
   ]
  },
  {
   "cell_type": "markdown",
   "id": "4d641bbb",
   "metadata": {},
   "source": [
    "ML파이프라인\n",
    "\n",
    "- 데이터 - 알고리즘(모델) - 학습/예측.\n",
    "- 전문가의 개입 없이 기계가 자동으로 학습함.\n",
    "- 응용 : 의료 | 법률 | 주식\n",
    "\n",
    "                            - 학습\n",
    "데이터(Data) → ML 알고리즘  -[\n",
    "                            - 예측"
   ]
  },
  {
   "cell_type": "markdown",
   "id": "62fea7b4",
   "metadata": {},
   "source": []
  },
  {
   "cell_type": "markdown",
   "id": "31016e10",
   "metadata": {},
   "source": [
    "02. 머신러닝을 위한 수학이 필요한 이유?"
   ]
  },
  {
   "cell_type": "markdown",
   "id": "e935dd46",
   "metadata": {},
   "source": [
    "머신러닝은 데이터(data) 속의 표현(representation)을\n",
    "기계가 학습하는 것이다.\n",
    "\n",
    "데이터는 대부분 고차원(high dimension)이다.\n",
    "즉, 벡터(vector)와 행렬(matrix)로 구성되어 있다.\n",
    "\n",
    "-                                  1 1 1\n",
    "    ↗                             1 1 1    \n",
    "벡터(Vector)                      행렬(Matrix)   "
   ]
  },
  {
   "cell_type": "markdown",
   "id": "1a99b2d7",
   "metadata": {},
   "source": [
    "의료 데이터를 통해 예를 들어보자.\n",
    "\n",
    "병원은 환자 A에 대한 정보를 \"성별, 나이, 몸무게, 키, 심장질환 유무\"로\n",
    "저장한다고 하자. 그렇다면?\n",
    "\n",
    "\n",
    "-                   환자A               \n",
    "                    남자\n",
    "     ↗               65                여러 명이 있다면?\n",
    "                     174\n",
    "                  심장질환 없음\n",
    "\n",
    "  벡터(Vector)       5차원               5 x N의 행렬!"
   ]
  },
  {
   "cell_type": "markdown",
   "id": "b59dd568",
   "metadata": {},
   "source": [
    "ML 알고리즘은 고차원 데이터의 표현을 학습 목적에 맞게\n",
    "뽑아내는 함수(function)을 학습함.\n",
    "\n",
    "\n",
    "-                          예측        \n",
    "     ↗              \n",
    "                   →      고혈압 X\n",
    "                   ↑      고혈압 O\n",
    "벡터(Vector)        |\n",
    "    x             F(x) ----------→  F(x) = aX + b\n",
    "                                    ↙\n",
    "                              어떻게 a,b를 결정할까?\n",
    "                              Vector 함수의 사칙연산?"
   ]
  },
  {
   "cell_type": "markdown",
   "id": "af877815",
   "metadata": {},
   "source": []
  },
  {
   "cell_type": "markdown",
   "id": "b9bd9d0d",
   "metadata": {},
   "source": [
    "[이론] Python 데이터 처리"
   ]
  },
  {
   "cell_type": "markdown",
   "id": "b04ef61e",
   "metadata": {},
   "source": [
    "Python은 Data Science, Machine Learning등 \n",
    "다양한 분야에서 강력하게 활용됨.\n",
    "\n",
    "PyTorch\n",
    "    - Facebook(Meta)\n",
    "\n",
    "TensorFlow\n",
    "    - Google"
   ]
  },
  {
   "cell_type": "markdown",
   "id": "01aaf7b4",
   "metadata": {},
   "source": [
    "[복습] Python의 특징\n",
    "\n",
    "1. 들여쓰기 + 세미콜론 필요 없음\n",
    "\n",
    "2. 별도의 컴파일 필요 없음.\n",
    "   Interpreter방식으로 결과 바로 확인 가능\n",
    "   \n",
    "이외\n",
    "\n",
    "오픈 소스 라이브러리 : 다양하게 공개적으로 공유됨 - GitHub\n",
    "- 최근에는 학회에서 발표되는 ML알고리즘의 코드가 대부분 Python으로 작성되고\n",
    "  있으며, 이는 Github등을 통하여 새롭게 공개되고 있다."
   ]
  },
  {
   "cell_type": "markdown",
   "id": "72362751",
   "metadata": {},
   "source": [
    "여러가지 자료형이 있음.\n",
    "\n",
    "1. 문자열(String) : \"Hello World\"\n",
    "\n",
    "2. 리스트(List) : [1, 0, -0.2, 1]\n",
    "\n",
    "3. 튜플(Tuple) : (1, 3, 3)\n",
    "\n",
    "4. 집합(Set) : {1, 3}\n",
    "\n",
    "5. 딕셔너리(Dictionary) : { \"1\" : \"One\", \"3\" : \"Three\" }"
   ]
  },
  {
   "cell_type": "markdown",
   "id": "29b8f9ca",
   "metadata": {},
   "source": [
    "리스트 자료형\n",
    "\n",
    "- 정수나 실수 등의 여러 값을 요소로 가져 하나의 변수에 많은 데이터를\n",
    "  담은 형태임\n",
    "  \n",
    "- 대괄호 []안에 콤마로 구분해 원소(element) 나열\n",
    "\n",
    "- 어떠한 자료형도 포함이 가능하고 중복 될 수 있음.\n",
    "\n",
    "- 순서를 가짐"
   ]
  },
  {
   "cell_type": "code",
   "execution_count": null,
   "id": "f9f1049c",
   "metadata": {},
   "outputs": [],
   "source": [
    "# 예시 리스트 자료형\n",
    "\n",
    "weight1 = 76\n",
    "weight2 = 54\n",
    "weight3 = 61\n",
    "weight4 = 59\n",
    "\n",
    "weight = [76, 54, 61, 59]\n",
    "# 4차원의 data"
   ]
  },
  {
   "cell_type": "code",
   "execution_count": 1,
   "id": "064a07c1",
   "metadata": {},
   "outputs": [
    {
     "name": "stdout",
     "output_type": "stream",
     "text": [
      "first element: 1\n",
      "last element: 2\n",
      "last element: 2\n",
      "first to third elemnets: [1, 7, 5]\n",
      "sorted lst: [1, 2, 3, 5, 7]\n"
     ]
    }
   ],
   "source": [
    "# 예시 리스트 자료형\n",
    "\n",
    "lst1 = [1, 7, 5, 3, 2]\n",
    "print(f\"first element: {lst1[0]}\")\n",
    "print(f\"last element: {lst1[-1]}\")\n",
    "print(f\"last element: {lst1[len(lst1)-1]}\")\n",
    "print(f\"first to third elemnets: {lst1[:3]}\")\n",
    "print(f\"sorted lst: {sorted(lst1)}\")"
   ]
  },
  {
   "cell_type": "markdown",
   "id": "87a74d85",
   "metadata": {},
   "source": []
  },
  {
   "cell_type": "markdown",
   "id": "95420f5d",
   "metadata": {},
   "source": [
    "[이론] Numpy 사용하기"
   ]
  },
  {
   "cell_type": "markdown",
   "id": "0a9687ab",
   "metadata": {},
   "source": [
    "04. Numpy 사용하기"
   ]
  },
  {
   "cell_type": "markdown",
   "id": "d3e72b82",
   "metadata": {},
   "source": [
    "Numpy는 행렬이나 일반적으로 대규모 다차원 배열을 쉽게 처리할 수 있도록\n",
    "지원하는 파이썬의 라이브러리임.\n",
    "\n",
    "주로, 벡터와 행렬의 효율적인 계산을 다루는 라이브러리임.\n",
    "\n",
    "벡터, 행렬 및 대규모 다차원 배열(Tensor)를 쉽게 처리하도록 지원함."
   ]
  },
  {
   "cell_type": "code",
   "execution_count": 6,
   "id": "a319d862",
   "metadata": {},
   "outputs": [
    {
     "name": "stdout",
     "output_type": "stream",
     "text": [
      "<class 'numpy.ndarray'> (3,) 1 2 3\n",
      "[5 2 3]\n"
     ]
    }
   ],
   "source": [
    "# Numpy 예시\n",
    "import numpy as np\n",
    "# numpy를 np로 import 함\n",
    "\n",
    "a = np.array([1,2,3])\n",
    "# 3차원 데이터를 a로 생성함\n",
    "\n",
    "print(type(a), a.shape, a[0], a[1], a[2])\n",
    "# <class 'numpy.ndarray'> (3,) 1 2 3\n",
    "\n",
    "a[0] = 5\n",
    "# a의 첫번째 값을 5로 대체함\n",
    "\n",
    "print(a)\n",
    "# [5 2 3]"
   ]
  },
  {
   "cell_type": "code",
   "execution_count": 7,
   "id": "3ed1d0a3",
   "metadata": {},
   "outputs": [
    {
     "name": "stdout",
     "output_type": "stream",
     "text": [
      "[[0. 0.]\n",
      " [0. 0.]] (2, 2)\n"
     ]
    }
   ],
   "source": [
    "# Numpy 예시\n",
    "import numpy as np\n",
    "\n",
    "a = np.zeros((2,2))\n",
    "# 0으로 구성된 행렬\n",
    "\n",
    "print(a, a.shape)\n",
    "# [[0. 0.]\n",
    "#  [0. 0.]] (2, 2)"
   ]
  },
  {
   "cell_type": "code",
   "execution_count": 8,
   "id": "421f7936",
   "metadata": {},
   "outputs": [
    {
     "name": "stdout",
     "output_type": "stream",
     "text": [
      "[[1. 2.]\n",
      " [3. 4.]]\n",
      "-----------------------\n",
      "[[5. 6.]\n",
      " [7. 8.]]\n",
      "-----------------------\n",
      "[[ 6.  8.]\n",
      " [10. 12.]]\n",
      "[[ 6.  8.]\n",
      " [10. 12.]]\n"
     ]
    }
   ],
   "source": [
    "# Numpy 예시\n",
    "import numpy as np\n",
    "\n",
    "x = np.array([[1, 2], [3, 4]], dtype=np.float64)\n",
    "print(x)\n",
    "# [[1. 2.]\n",
    "#  [3. 4.]]\n",
    "print(\"-----------------------\")\n",
    "\n",
    "y = np.array([[5, 6], [7, 8]], dtype=np.float64)\n",
    "print(y)\n",
    "# [[5. 6.]\n",
    "#  [7. 8.]]\n",
    "print(\"-----------------------\")\n",
    "\n",
    "# Elementwise sum ; both produce the array\n",
    "print(x+y)\n",
    "# [[ 6.  8.]\n",
    "#  [10. 12.]]\n",
    "print(np.add(x,y))\n",
    "# [[ 6.  8.]\n",
    "#  [10. 12.]]"
   ]
  },
  {
   "cell_type": "markdown",
   "id": "f0df758f",
   "metadata": {},
   "source": [
    "Numpy의 효율성\n",
    "\n",
    "Numpy를 이용해서 벡터 연산을 하는 것이 빠를까?\n",
    "\n",
    "vs \n",
    "\n",
    "Python에 내장된 사칙연산으로 벡터 게산을 하는 것이 빠를까?\n",
    "\n",
    "\n",
    "Numpy !"
   ]
  },
  {
   "cell_type": "markdown",
   "id": "077f0ee4",
   "metadata": {},
   "source": []
  },
  {
   "cell_type": "markdown",
   "id": "be57a34b",
   "metadata": {},
   "source": [
    "NumPy 벡터\n",
    "NumPy는 파이썬에서 벡터 및 행렬 계산을 쉽게 할 수 있도록 도와줍니다.\n",
    "\n",
    "NumPy의 다양한 함수를 이용하면 \n",
    "기계학습에서 사용되는 수식을 쉽게 구현할 수 있습니다.\n",
    "\n",
    "NumPy를 사용하기 위해서는 먼저 import를 통해 라이브러리를 불러와야 합니다.\n",
    "\n",
    "import numpy as np\n",
    "Copy\n",
    "벡터 생성 함수\n",
    "\n",
    "np.zeros(num)\n",
    "Copy\n",
    "num 숫자 길이의 0으로 모두 채워진 벡터를 출력합니다.\n",
    "\n",
    "np.arange(num1, num2)\n",
    "Copy\n",
    "num1이상 num2미만 범위의 숫자로 채워진 벡터를 출력합니다.\n",
    "\n",
    "\n",
    "실습\n",
    "tutorial_1st() 함수 안에 5번째 값만 1로 가지고 이외의 값은 0을 가지는 길이 10의 벡터를 선언하세요.\n",
    "\n",
    "tutorial_2nd() 함수 안에 10~49의 range를 가지는 벡터를 선언하세요."
   ]
  },
  {
   "cell_type": "code",
   "execution_count": 9,
   "id": "f2954a8a",
   "metadata": {},
   "outputs": [
    {
     "name": "stdout",
     "output_type": "stream",
     "text": [
      "[0. 0. 0. 0. 1. 0. 0. 0. 0. 0.]\n",
      "[10 11 12 13 14 15 16 17 18 19 20 21 22 23 24 25 26 27 28 29 30 31 32 33\n",
      " 34 35 36 37 38 39 40 41 42 43 44 45 46 47 48 49]\n"
     ]
    }
   ],
   "source": [
    "import numpy as np\n",
    "\n",
    "def main():\n",
    "    print(tutorial_1st())\n",
    "    print(tutorial_2nd())\n",
    "    \n",
    "    \n",
    "def tutorial_1st():\n",
    "    \"\"\"\n",
    "    지시사항 1.\n",
    "    tutorial_1st() 함수 안에 5번째 값만 1로 가지고 이외의 값은 0을 가지는 \n",
    "    길이 10의 벡터를 선언하세요.\n",
    "    \"\"\"\n",
    "    A= np.zeros(10)\n",
    "    A[4] = 1\n",
    "    return A\n",
    "\n",
    "    \n",
    "def tutorial_2nd():\n",
    "    \"\"\"\n",
    "    지시사항 2.\n",
    "    tutorial_2nd() 함수 안에 10~49의 range를 가지는 벡터를 선언하세요.\n",
    "    \"\"\"\n",
    "    B = np.arange(10, 50)\n",
    "    return B\n",
    "\n",
    "\n",
    "if __name__ == \"__main__\":\n",
    "    main()"
   ]
  },
  {
   "cell_type": "markdown",
   "id": "5d646e19",
   "metadata": {},
   "source": []
  },
  {
   "cell_type": "markdown",
   "id": "25a7ae15",
   "metadata": {},
   "source": [
    "[이론] Pandas 사용하기"
   ]
  },
  {
   "cell_type": "markdown",
   "id": "fd17cbe5",
   "metadata": {},
   "source": [
    "05. Pandas 사용하기"
   ]
  },
  {
   "cell_type": "markdown",
   "id": "506b8d27",
   "metadata": {},
   "source": [
    "Pandas는 Data Science에서 데이터 분석을 위해 주로 사용되는 라이브러리임.\n",
    "\n",
    "주로 행렬과 같은 \n",
    "테이블 형식(Table, csv)으로 이루어진 데이터를 읽는데 사용됨."
   ]
  },
  {
   "cell_type": "code",
   "execution_count": 12,
   "id": "fa8ed0fb",
   "metadata": {},
   "outputs": [
    {
     "name": "stdout",
     "output_type": "stream",
     "text": [
      "0    1\n",
      "1    2\n",
      "2    3\n",
      "3    4\n",
      "dtype: int64\n",
      "-------------\n",
      "0    1\n",
      "1    2\n",
      "2    3\n",
      "3    4\n",
      "dtype: int64\n"
     ]
    }
   ],
   "source": [
    "# Pandas 예시\n",
    "import pandas as pd\n",
    "\n",
    "print(pd.Series([1, 2, 3, 4]))\n",
    "print(\"-------------\")\n",
    "\n",
    "a = [1,2,3,4]\n",
    "print(pd.Series(a))"
   ]
  },
  {
   "cell_type": "markdown",
   "id": "72878be6",
   "metadata": {},
   "source": [
    "Pandas 예시\n",
    "\n",
    "각 Key값과 Value(1차원 데이터)가\n",
    "DataFrame의 하나의 컬럼과 2차원 데이터가 됩니다."
   ]
  },
  {
   "cell_type": "code",
   "execution_count": 17,
   "id": "92e17863",
   "metadata": {},
   "outputs": [
    {
     "name": "stdout",
     "output_type": "stream",
     "text": [
      "[['삼성', '1000000', '갤럭시노트'], ['애플', '1200000', '아이폰'], ['엘지', '900000', '윙']]\n",
      "--------------------------------------\n",
      "    0        1      2\n",
      "0  삼성  1000000  갤럭시노트\n",
      "1  애플  1200000    아이폰\n",
      "2  엘지   900000      윙\n",
      "--------------------------------------\n",
      "    0        1      2\n",
      "0  삼성  1000000  갤럭시노트\n",
      "1  애플  1200000    아이폰\n",
      "2  엘지   900000      윙\n",
      "--------------------------------------\n",
      "  회사명       가격    제품명\n",
      "0  삼성  1000000  갤럭시노트\n",
      "1  애플  1200000    아이폰\n",
      "2  엘지   900000      윙\n",
      "--------------------------------------\n",
      "  회사명       가격    제품명\n",
      "1  삼성  1000000  갤럭시노트\n",
      "2  애플  1200000    아이폰\n",
      "3  엘지   900000      윙\n"
     ]
    }
   ],
   "source": [
    "# Pandas 예시\n",
    "\n",
    "company1 = [\"삼성 1000000 갤럭시노트\".split(),\n",
    "            \"애플 1200000 아이폰\".split(),\n",
    "            \"엘지 900000 윙\".split()]\n",
    "company1 = [['삼성', '1000000', '갤럭시노트'], ['애플', '1200000', '아이폰'], ['엘지', '900000', '윙']]\n",
    "\n",
    "print(company1)\n",
    "\n",
    "print(\"--------------------------------------\")\n",
    "print(pd.DataFrame(company1))\n",
    "print(\"--------------------------------------\")\n",
    "\n",
    "df1 = pd.DataFrame(company1)\n",
    "print(df1)\n",
    "print(\"--------------------------------------\")\n",
    "\n",
    "df1.columns = [\"회사명\", \"가격\", \"제품명\"]\n",
    "print(df1)\n",
    "print(\"--------------------------------------\")\n",
    "\n",
    "df1.index = [1,2,3]\n",
    "print(df1)"
   ]
  },
  {
   "cell_type": "markdown",
   "id": "87a74c06",
   "metadata": {},
   "source": []
  },
  {
   "cell_type": "markdown",
   "id": "c78a7ea1",
   "metadata": {},
   "source": [
    "Pandas 활용하기\n",
    "Pandas는 파이썬에서 사용하는 데이터분석 라이브러리로, \n",
    "행과 열로 이루어진 데이터 객체를 만들어 다룰 수 있게 되며 \n",
    "보다 안정적으로 대용량의 데이터들을 처리하는데 이용되는 도구입니다.\n",
    "\n",
    "이번 실습에서는 \n",
    "리스트 형태의 데이터를 Pandas의 Series 자료구조로 변환해보겠습니다.\n",
    "\n",
    "Pandas를 사용하기 위해서는 먼저 \n",
    "import를 통해 라이브러리를 불러와야 합니다.\n",
    "\n",
    "import pandas as pd\n",
    "Copy\n",
    "Pandas는 Series를 통해 기본적인 자료구조를 만들 수 있습니다.\n",
    "\n",
    "pd.Series(list_type_data)\n",
    "Copy\n",
    "\n",
    "실습\n",
    "pandas_tutorial() 함수 안에 \n",
    "[2,4,6,8,10]의 리스트를 pandas의 Series 자료구조로 선언하세요."
   ]
  },
  {
   "cell_type": "code",
   "execution_count": null,
   "id": "11aa87f7",
   "metadata": {},
   "outputs": [],
   "source": [
    "import pandas as pd\n",
    "\n",
    "def main():\n",
    "    print(pandas_tutorial())\n",
    "    \n",
    "def pandas_tutorial():\n",
    "    '''\n",
    "    지시사항: `[2,4,6,8,10]`의 리스트를 pandas의 Series 자료구조로 선언하세요.\n",
    "    '''\n",
    "    A = pd.Series([2,4,6,8,10])\n",
    "    return A\n",
    "\n",
    "\n",
    "if __name__ == \"__main__\":\n",
    "    main()"
   ]
  },
  {
   "cell_type": "markdown",
   "id": "24aa7d17",
   "metadata": {},
   "source": []
  },
  {
   "cell_type": "markdown",
   "id": "3b441a02",
   "metadata": {},
   "source": [
    "06. Matplotlib 사용하기"
   ]
  },
  {
   "cell_type": "markdown",
   "id": "e91012fd",
   "metadata": {},
   "source": [
    "Matplotlib는 함수를 그래프로 시각화하는 도구임.\n",
    "\n",
    "-> Data Science에서는 데이터 분석 결과를 시각화하는 것에 활용됨.\n",
    "데이터를 꺾은선 등의 선이나 점의 형태의 그래프를 기본적으로 그림으로 제공함.\n",
    "matplotlib.pyplot을 사용할 것임."
   ]
  },
  {
   "cell_type": "markdown",
   "id": "1ff8232a",
   "metadata": {},
   "source": [
    "Matplotlib 예시"
   ]
  },
  {
   "cell_type": "code",
   "execution_count": 18,
   "id": "17d01461",
   "metadata": {
    "scrolled": true
   },
   "outputs": [
    {
     "data": {
      "image/png": "[encoded data removed]",
      "text/plain": [
       "<Figure size 432x288 with 1 Axes>"
      ]
     },
     "metadata": {
      "needs_background": "light"
     },
     "output_type": "display_data"
    }
   ],
   "source": [
    "import matplotlib.pyplot as plt\n",
    "\n",
    "plt.plot([1,2,3,4])\n",
    "# plot속의 입력을 y로 인지하고, 자동으로 x는 [0,1,2,3]으로 간주함.\n",
    "plt.show()"
   ]
  },
  {
   "cell_type": "code",
   "execution_count": 19,
   "id": "7252c434",
   "metadata": {
    "scrolled": true
   },
   "outputs": [
    {
     "data": {
      "image/png": "[encoded data removed]",
      "text/plain": [
       "<Figure size 432x288 with 1 Axes>"
      ]
     },
     "metadata": {
      "needs_background": "light"
     },
     "output_type": "display_data"
    }
   ],
   "source": [
    "import matplotlib.pyplot as plt\n",
    "\n",
    "plt.plot([1,2,3,4], [1,4,9,16])\n",
    "# x를 1,2,3,4로 y를 1,4,9,16으로 간주함.\n",
    "\n",
    "plt.show()"
   ]
  },
  {
   "cell_type": "code",
   "execution_count": 21,
   "id": "08f52500",
   "metadata": {
    "scrolled": true
   },
   "outputs": [
    {
     "data": {
      "image/png": "[encoded data removed]",
      "text/plain": [
       "<Figure size 432x288 with 1 Axes>"
      ]
     },
     "metadata": {
      "needs_background": "light"
     },
     "output_type": "display_data"
    }
   ],
   "source": [
    "import matplotlib.pyplot as plt\n",
    "\n",
    "plt.plot([1,2,3,4], [1,4,9,16], 'o')\n",
    "# \"o\"를 통해 점의 형태로 시각화 할 수 있음.\n",
    "\n",
    "plt.axis([0.9, 4.1,    0, 16.5])\n",
    "#             x 범위     y 범위\n",
    "plt.show()"
   ]
  },
  {
   "cell_type": "code",
   "execution_count": 26,
   "id": "790379ad",
   "metadata": {},
   "outputs": [
    {
     "data": {
      "image/png": "[encoded data removed]",
      "text/plain": [
       "<Figure size 432x288 with 1 Axes>"
      ]
     },
     "metadata": {
      "needs_background": "light"
     },
     "output_type": "display_data"
    }
   ],
   "source": [
    "# Numpy와 Matplotlib의 혼합\n",
    "\n",
    "import numpy as np\n",
    "import matplotlib.pyplot as plt\n",
    "\n",
    "x = np.arange(0,3*np.pi, 0.1)\n",
    "\n",
    "y_sin = np.sin(x)\n",
    "y_cos = np.cos(x)\n",
    "\n",
    "# Plot the points using matplotlib\n",
    "plt.plot(x, y_sin)\n",
    "plt.plot(x, y_cos)\n",
    "plt.xlabel(\"x axis label\")\n",
    "plt.ylabel(\"y axis label\")\n",
    "plt.title(\"Sine and Cosine\")\n",
    "plt.legend([\"Sine\", \"Cosine\"], loc=\"upper right\")\n",
    "plt.show()"
   ]
  },
  {
   "cell_type": "markdown",
   "id": "42ee3467",
   "metadata": {},
   "source": []
  },
  {
   "cell_type": "markdown",
   "id": "97efbce3",
   "metadata": {},
   "source": [
    "Matplotlib\n",
    "Matplotlib 라이브러리를 이용해서 그래프를 그리는 일반적인 방법에 대해 소개합니다.\n",
    "\n",
    "matplotlib.pyplot 모듈의 plot 함수를 사용해서 간편하게 그래프를 만들 수 있습니다.\n",
    "\n",
    "Matplotlib를 사용하기 위해서는 먼저 import를 통해 라이브러리를 불러와야 합니다.\n",
    "\n",
    "import matplotlib.pyplot as plt\n",
    "Copy\n",
    "plot 함수\n",
    "\n",
    "data = [1,2,3,4]\n",
    "plt.plot(data)\n",
    "Copy\n",
    "data 안에 저장된 값을 출력합니다.\n",
    "\n",
    "\n",
    "실습\n",
    "matplotlib_tutorial() 함수 안에 data [1,2,3,4]를 정의하여서, plt.plot을 활용해 데이터를 시각화해보세요.\n",
    "\n",
    "실행 버튼을 누르고 결과 화면을 확인합니다."
   ]
  },
  {
   "cell_type": "code",
   "execution_count": 28,
   "id": "e97936ff",
   "metadata": {},
   "outputs": [
    {
     "data": {
      "image/png": "[encoded data removed]",
      "text/plain": [
       "<Figure size 432x288 with 1 Axes>"
      ]
     },
     "metadata": {
      "needs_background": "light"
     },
     "output_type": "display_data"
    }
   ],
   "source": [
    "import matplotlib.pyplot as plt\n",
    "\n",
    "def main():\n",
    "    matplotlib_tutorial()\n",
    "\n",
    "    \n",
    "def matplotlib_tutorial():\n",
    "    '''\n",
    "    지시사항: data [1,2,3,4]를 정의하여서, plt.plot을 활용해 데이터를 시각화해보세요.\n",
    "    '''\n",
    "    data = [1,2,3,4]\n",
    "    plt.plot(data)\n",
    "    \n",
    "    # 엘리스에서 이미지를 출력하기 위해서 필요한 코드입니다.\n",
    "    plt.show()\n",
    "\n",
    "if __name__ == \"__main__\":\n",
    "    main()"
   ]
  }
 ],
 "metadata": {
  "kernelspec": {
   "display_name": "Python 3",
   "language": "python",
   "name": "python3"
  },
  "language_info": {
   "codemirror_mode": {
    "name": "ipython",
    "version": 3
   },
   "file_extension": ".py",
   "mimetype": "text/x-python",
   "name": "python",
   "nbconvert_exporter": "python",
   "pygments_lexer": "ipython3",
   "version": "3.8.8"
  }
 },
 "nbformat": 4,
 "nbformat_minor": 5
}
