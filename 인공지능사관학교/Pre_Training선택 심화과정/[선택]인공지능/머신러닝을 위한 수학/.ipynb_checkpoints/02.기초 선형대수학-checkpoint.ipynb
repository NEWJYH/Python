{
 "cells": [
  {
   "cell_type": "markdown",
   "id": "0a5e030e",
   "metadata": {},
   "source": [
    "목 차\n",
    "\n",
    "1. 벡터의 정의와 의미\n",
    "\n",
    "2. 벡터 연산, 단위 벡터, 직교성\n",
    "\n",
    "3. 행렬의 정의와 의미\n",
    "\n",
    "4. 행렬 연산과 역행렬"
   ]
  },
  {
   "cell_type": "markdown",
   "id": "12777cc6",
   "metadata": {},
   "source": [
    "커리큘럼\n",
    "\n",
    "1. 벡터의 정의와 의미\n",
    "    - 벡터의 정의와 이것의 활용 범위에 대해 학습합니다.\n",
    "\n",
    "2. 벡터 연산, 단위 벡터, 직교성\n",
    "    - 벡터의 덧셈, 뺄셈, 곱셈 등의 연산에 대해 학습합니다.\n",
    "    - 단위 벡터, 벡터의 직교성의 정의와 활용에 대해 학습합니다.\n",
    "    \n",
    "3. 행렬의 정의와 의미\n",
    "    - 행렬의 정의와 이것의 활용 범위에 대해 학습합니다.\n",
    "    \n",
    "4. 행렬 연산과 역행렬\n",
    "    - 행렬의 연산과 역행렬의 의미에 대해 학습합니다."
   ]
  },
  {
   "cell_type": "markdown",
   "id": "0e94a570",
   "metadata": {},
   "source": []
  },
  {
   "cell_type": "markdown",
   "id": "c4683f9f",
   "metadata": {},
   "source": [
    "1. 벡터의 정의와 의미"
   ]
  },
  {
   "cell_type": "markdown",
   "id": "8509f8f1",
   "metadata": {},
   "source": [
    "벡터(Vector)\n",
    "\n",
    "- 정의 : 크기(Scale)와 방향(Direction)을 가진 물리량\n",
    "- 일련의 숫자 리스트(list)\n",
    "- 예시 : 고차원에서의 좌표"
   ]
  },
  {
   "cell_type": "markdown",
   "id": "5921fd98",
   "metadata": {},
   "source": [
    "벡터의 특성\n",
    "\n",
    "->\n",
    "A   = (2, 4)\n",
    "크기는? 방향은?\n",
    "\n",
    "크기 : 루트(2^2 + 4^2) = 루트(20)\n",
    "      \n",
    "      ->\n",
    "방향 : UA = (2/루트(20), 4/루트(20)) : 크기를 1로 줄였을때 좌표\n",
    "      좌표를 크기로 나눔\n",
    "\n",
    "\n",
    "->                  ->\n",
    "B = (루트(20), 0)는  A 와 같을까?     X 방향이 다름\n",
    "\n",
    "->          ->\n",
    "C = (1,2)는  A 와 같을까?      X 방향은 같음 크기가 다름\n",
    "\n",
    "두 벡터가 같다라고 하면 크기 및 방향이 모두 같을 때"
   ]
  },
  {
   "cell_type": "markdown",
   "id": "580898de",
   "metadata": {},
   "source": [
    "왜 벡터를 알아야하나?\n",
    "\n",
    "- 데이터는 대게 리스트의 형태로 저장되어 있음.\n",
    "- 여러 리스트의 데이터를 기반으로 특징을 추출하고 분석 해야함.\n",
    "- 이 때, 벡터의 크기와 방향을 모두 고려함\n",
    "\n",
    "데이터(Data) -> 철수 : [150cm, 52kg, 5세]\n",
    "               선호 : [187cm, 69kg, 21세]\n",
    "               ...."
   ]
  },
  {
   "cell_type": "markdown",
   "id": "8291d1c9",
   "metadata": {},
   "source": []
  },
  {
   "cell_type": "markdown",
   "id": "679d0666",
   "metadata": {},
   "source": [
    "[이론] 벡터 연산, 단위 벡터, 직교성"
   ]
  },
  {
   "cell_type": "markdown",
   "id": "fb67a115",
   "metadata": {},
   "source": [
    "2. 벡터 연산, 단위 벡터, 직교성"
   ]
  },
  {
   "cell_type": "markdown",
   "id": "45d9e3df",
   "metadata": {},
   "source": [
    "벡터의 연산(1)\n",
    "\n",
    "- 벡터에서 -는 음수를 의미하지 않음.\n",
    "- 방향을 180도 반대로 만들어주는 역할임."
   ]
  },
  {
   "cell_type": "markdown",
   "id": "7cd5d845",
   "metadata": {},
   "source": [
    "벡터의 연산(2)\n",
    "\n",
    "   ->\n",
    "-  0 는 더해서 자기 자신이 나오게 하는 벡터임.\n",
    "- 영벡터라고 부름.\n",
    "- 2,3 차원에서는 (0,0) 그리고 (0,0,0)으로 표기할 수 있음.\n",
    "\n",
    "->     ->    ->    ->    ->\n",
    " A  +  0  =   0  +  A  =  A"
   ]
  },
  {
   "cell_type": "markdown",
   "id": "1e655c25",
   "metadata": {},
   "source": [
    "벡터의 연산(3)\n",
    "\n",
    "- 벡터의 덧셈은 화살표를 평행이동해서 더해주는 방식으로 이해할 수 있음.\n",
    "- 각 원소(element) 별로 대응되는 값들의 합으로 계산함.\n",
    "-\n",
    "      ->         ->   \n",
    "- 예 : A = (2, 4) B = (5, 1)\n",
    " ->     ->\n",
    "- A  +  B = (2 + 5, 4 + 1) = (7, 5)\n"
   ]
  },
  {
   "cell_type": "markdown",
   "id": "09eb91b8",
   "metadata": {},
   "source": [
    "벡터의 연산(4)\n",
    "\n",
    "- 벡터의 뺄셈은 덧셈의 응용.\n",
    "-    ->          ->\n",
    "- 예) A = (2, 4), B = (5, 1)\n",
    "-\n",
    "- ->   ->\n",
    "- A  -  B = (2 - 5, 4 - 1) = (-3, 3)\n"
   ]
  },
  {
   "cell_type": "markdown",
   "id": "dc036f4a",
   "metadata": {},
   "source": [
    "벡터의 연산(5)\n",
    "\n",
    "- 벡터의 곱셈은 흔히 내적(inner product)가 있음.\n",
    "- 흥미롭게, 벡터의 내적은 벡터를 출력하지 않음.\n",
    "      ->  ->       -> ->\n",
    "- 벡터 A와 B의 내적은 A·B으로 표기함.\n",
    "- 길이가 같은 두 벡터 사이의 각도를 나타내는 방식임.\n",
    "- 각 차원 별로 대응되는 원소(element)간의 곱의 합으로 계산함.\n",
    "    ->          ->\n",
    "- 예 A = (2, 4), B = (5, 1)\n",
    "  -> ->\n",
    "- A·B   = 2 * 5 + 4 * 1 = 14\n",
    "  ->->     ->->\n",
    "-  A·B  == B·A"
   ]
  },
  {
   "cell_type": "markdown",
   "id": "a339c896",
   "metadata": {},
   "source": [
    "벡터의 연산(6)\n",
    "\n",
    "- 내적은 다르게 표현할 수 있음. 아래와 같음.\n",
    "                             ->->    ->    ->\n",
    "                             A·B = ||A|| ||B|| cosθ\n",
    "     ->   ->                       \n",
    "- θ : A 와 B 사이의 사이각\n",
    "- || · || : 괄호 안에 있는 벡터의 크기임.\n",
    "-                                   ->->\n",
    "-                                   A·B\n",
    "- 두 벡터가 영벡터가 아니라면, cosθ = --------  으로 표현됨.\n",
    "-                                   -> ->\n",
    "-                                   |A||B|"
   ]
  },
  {
   "cell_type": "markdown",
   "id": "7dc076a8",
   "metadata": {},
   "source": [
    "단위 벡터 (unit vector) - (1)\n",
    "\n",
    " ->\n",
    "- u 로 일반적으로 표현함.      ->\n",
    "- 벡터의 크기가 1인 벡터이며, ||u|| = 1 임.\n",
    "- 두 단위 벡터의 내적은 cosθ임"
   ]
  },
  {
   "cell_type": "markdown",
   "id": "0fc11abc",
   "metadata": {},
   "source": [
    "단위 벡터 (unit vector) - (2)\n",
    "\n",
    "- cosine 값을 내적과 단위 벡터의 활용으로 구할 수 있음.\n",
    "- Cosine 값을 알면 두 벡터 사이의 각도도 역함수를 통해 알 수 있음.\n",
    "- 단, 두 벡터는 영벡터가 아니여야함.\n",
    "- 이를 cosine similarity라고도 부름.\n",
    "\n",
    "-                                   ->->\n",
    "-                                   A·B\n",
    "-                           cosθ = --------  \n",
    "-                                   -> ->\n",
    "-                                   |A||B|"
   ]
  },
  {
   "cell_type": "markdown",
   "id": "e69a186e",
   "metadata": {},
   "source": [
    "직교성(Orthogonal) - 연관성이 없다.\n",
    "\n",
    "- \"두 벡터가 직교한다\"의 정의는 cosθ  = 0 인 경우를 의미함.\n",
    "\n",
    "- 내적이 0일 때, \n",
    "  두 벡터가 영벡터가 아니라면 서로 직교한다고 이야기 할 수 있음."
   ]
  },
  {
   "cell_type": "markdown",
   "id": "78499b58",
   "metadata": {},
   "source": [
    "Numpy 벡터 연산하기\n",
    "NumPy는 파이썬에서 행렬 계산을 쉽게 할 수 있도록 도와줍니다.\n",
    "NumPy의 다양한 함수를 이용하면 \n",
    "기계학습에서 사용되는 수식을 쉽게 구현할 수 있습니다.\n",
    "\n",
    "이번 실습에서는 NumPy를 활용하여 벡터를 다뤄봅시다.\n",
    "\n",
    "벡터 함수의 크기(scale)\n",
    "\n",
    "np.linalg.norm(data)\n",
    "Copy\n",
    "리스트 data를 받아서 이것의 크기를 유클리디안(피타고라스) 거리로 계산해 값을 출력합니다.\n",
    "\n",
    "\n",
    "실습\n",
    "calculate_norm(data) 함수 안에 주어진 데이터 data의 크기(scale) 값을 출력하는 함수를 채우시오.\n",
    "\n",
    "unit_vector(data) 함수 입력으로 주어진 data 벡터를 단위 벡터(unit vector)로 바꾸어 출력하세요."
   ]
  },
  {
   "cell_type": "code",
   "execution_count": 1,
   "id": "1bebe4a9",
   "metadata": {},
   "outputs": [
    {
     "name": "stdout",
     "output_type": "stream",
     "text": [
      "3.7416573867739413\n",
      "[0.26726124 0.53452248 0.80178373]\n"
     ]
    }
   ],
   "source": [
    "import numpy as np\n",
    "\n",
    "\n",
    "def main():\n",
    "    data = [1,2,3]\n",
    "    print(calculate_norm(data))\n",
    "    print(unit_vector(data))\n",
    "    \n",
    "\n",
    "def calculate_norm(data):\n",
    "    '''\n",
    "    지시사항1: 함수 안에 주어진 데이터 data의 크기(scale) 값을 출력하는 함수를 채우시오.\n",
    "    '''\n",
    "    return np.linalg.norm(data)\n",
    "\n",
    "def unit_vector(data):\n",
    "    '''\n",
    "    지시사항2: 함수 입력으로 주어진 data 벡터를 단위 벡터(unit vector)로 바꾸어 출력하세요.\n",
    "    '''\n",
    "    return np.array(data) / np.linalg.norm(data)\n",
    "\n",
    "if __name__ == \"__main__\":\n",
    "    main()\n"
   ]
  },
  {
   "cell_type": "markdown",
   "id": "8646df67",
   "metadata": {},
   "source": []
  },
  {
   "cell_type": "markdown",
   "id": "1b138676",
   "metadata": {},
   "source": [
    "[이론] 행렬의 정의와 의미"
   ]
  },
  {
   "cell_type": "markdown",
   "id": "a59c18c9",
   "metadata": {},
   "source": [
    "3. 행렬의 정의와 의미"
   ]
  },
  {
   "cell_type": "markdown",
   "id": "43e8c944",
   "metadata": {},
   "source": [
    "- 행렬(Matrix)는 벡터와 굉장히 유사함.\n",
    "- 수의 나열을 직사각형 모양으로 배열한 것임.\n",
    "\n",
    "\n",
    " 0 0 0\n",
    " 0 0 0\n",
    " 0 0 0\n",
    " 행렬(Matrix)"
   ]
  },
  {
   "cell_type": "markdown",
   "id": "dfd75b71",
   "metadata": {},
   "source": [
    "- 리스트의 형태로 각 유저(user)별 데이터가 벡터로 저장되어 있다면,\n",
    "- 모든 유저들의 데이터를 합치면 행렬의 형태로 바라볼 수 있음.\n",
    "\n",
    "데이터(Data) -> 철수 : [150cm, 52kg, 5세]\n",
    "               선호 : [187, 69, 21]\n",
    "                   ↓\n",
    "                150 52 5\n",
    "                187 69 21\n",
    "               "
   ]
  },
  {
   "cell_type": "markdown",
   "id": "b5e2bfac",
   "metadata": {},
   "source": [
    "행렬의 특성\n",
    "     \n",
    "-      150 52  5\n",
    "  A =  187 69 21 \n",
    "  \n",
    "- 행렬 A의 크기(norm)는? 루트(150^2 + 52^2 + 5^2 + 187^2 + 69^2 + 21^2)\n",
    "\n",
    "- 행렬의 형태(shape)은? 2 x 3\n",
    "- 열(column)과 행(row) vector를 분리할 수 있음.\n",
    "\n",
    "- Row vector : (150 52 5), (187 69 21)\n",
    "- Column vector : 150   52    5\n",
    "                  187 , 69  ,21\n",
    "                  "
   ]
  },
  {
   "cell_type": "markdown",
   "id": "dcb96571",
   "metadata": {},
   "source": []
  },
  {
   "cell_type": "markdown",
   "id": "f4527a40",
   "metadata": {},
   "source": [
    "[이론] 행렬 연산과 역행렬"
   ]
  },
  {
   "cell_type": "markdown",
   "id": "23db5fc1",
   "metadata": {},
   "source": [
    "4. 행렬 연산과 역행렬"
   ]
  },
  {
   "cell_type": "markdown",
   "id": "badcf065",
   "metadata": {},
   "source": [
    "행렬 연산(1)\n",
    "\n",
    "- O 영행렬은 더해서 자기 자신이 나오게 하는 행렬임.\n",
    "- 행렬의 모든 원소(element)가 0인 행렬을 의미함.\n",
    "\n",
    "A + O = O + A = A"
   ]
  },
  {
   "cell_type": "markdown",
   "id": "b2ac4c33",
   "metadata": {},
   "source": [
    "행렬 연산(2)\n",
    "\n",
    "- 행렬의 덧셈과 뺄셈은 각 원소에 대응되는 것끼리 더하고 빼면 됨.\n",
    "- 서로 다른 형태의 행렬이나 벡터 간의 덧셈과 뺄셈은 할 수 없음.\n",
    "-\n",
    "    10 2 5      -1 2 3      5 -8\n",
    "A =  7 9 1  B =  7-5 0  C = 1  9 \n",
    "\n",
    "\n",
    "A + B = 10-1  2+2  5+3  = 9  4  8    \n",
    "        7+7   9-5  1+0    14 4  1\n",
    "        \n",
    "A + C = ? 불가능"
   ]
  },
  {
   "cell_type": "markdown",
   "id": "b9630b16",
   "metadata": {},
   "source": [
    "행렬 연산(3)\n",
    "\n",
    "- 행렬의 덧셈과 뺄셈은 교환법칙이 성립함. (A + B = B + A )\n",
    "- 곱셈은 그렇지 않음.\n",
    "- 첫째 행렬의 열 갯수와 둘째 행렬의 행 갯수가 동일할 때 행렬곱(matrix product)를 할수 있음\n",
    "- 행렬 A와 C의 곱은 간단히 AC로 나타냄.\n",
    "    10  2  5     -1   2  3       1  0\n",
    "A =  7  9  1  B = 7  -5  0   C = -1 1\n",
    "                                 1  0\n",
    "                                 \n",
    "- AB = ? : 불가능\n",
    "- AC != CA\n",
    "-\n",
    "       10 * 1 + 2 * (-1) + 5 * 1     10 * 0 + 2 * 1 + 5 * 0\n",
    "- AC =  7 * 1 + 9 * (-1) + 1 * 1     7 * 0 + 9 * 1 + 1 * 0\n",
    "-\n",
    "  AC = 13  2\n",
    "       -1  9"
   ]
  },
  {
   "cell_type": "markdown",
   "id": "d3b14be4",
   "metadata": {},
   "source": [
    "행렬 연산(4)\n",
    "\n",
    "- 정사각행렬 : 행과 열의 수가 같은 행렬 n차 정사각행렬이라고 부름.\n",
    "- 주대각(Diagonal) : 정사각행렬의 대각선에 위치한 성분 diag(A)라고 표현함.\n",
    "- 대각합(Trace) : 정사각행렬의 주대각 성분(element)의 합. Trace(A)로 표현함.\n",
    "\n",
    "A = 9 2\n",
    "    0 1\n",
    "    \n",
    "diag(A) = 9\n",
    "          1\n",
    "          \n",
    "Trace(A) = 10"
   ]
  },
  {
   "cell_type": "markdown",
   "id": "a4c0d9b9",
   "metadata": {},
   "source": [
    "행렬 연산(5)\n",
    "\n",
    "- 단위행렬(Identity matrix) 주대각선의 원소가 모두 1이고 나머지가 0인 \n",
    "  정사각 행렬. 주로 I로 표기함.\n",
    "  \n",
    "- 특징 : AI = IA = A 이 성립함.(정사각 행렬일때만)\n",
    "\n",
    "\n",
    "I2 = 1 0   I3 = 1 0 0\n",
    "     0 1        0 1 0\n",
    "                0 0 1\n",
    "                "
   ]
  },
  {
   "cell_type": "markdown",
   "id": "37ee9433",
   "metadata": {},
   "source": [
    "행렬 연산(6)\n",
    "\n",
    "- 정사각행렬 A와 B의 곱은 일반적으로 교환법칙이 성립하지 않음.(AB != BA)\n",
    "- 정사각행렬 A에 대해 곱해서 단위 행렬 I가 나오게 하는 행렬을 역행렬이라고 함.\n",
    "- A^-1이라고 표기함. AA^-1 = A^-1A = I\n",
    "- 모든 정사각행렬이 역행렬을 가지지 않음. 아래의 값이 0이 아니여야함.\n",
    "- 2차 행렬이 아닌 3,4차 정사각행렬에 대해서도 마찬가지임.\n",
    "- Deteminant 계산식은 차원별로 조금씩 다름. 2차 정사각행렬의 계산은 아래와 같음.\n",
    "- 행렬 A의 determinant는 Det(A) (또는|A|)로 표현함.\n",
    "-\n",
    "    A11 A12\n",
    "A = A21 A22\n",
    "-\n",
    "Det(A) = A11A22 - A12A21\n",
    "-             1          ( A22  - A12)\n",
    "A^-1 = ----------------- (           )\n",
    "        A11A22 - A12A21  ( -A21   A11)\n"
   ]
  },
  {
   "cell_type": "markdown",
   "id": "c77678c4",
   "metadata": {},
   "source": [
    "행렬 연산(7)\n",
    "\n",
    "- 예시 : A = 9 2\n",
    "             0 1\n",
    "             \n",
    "Det(A) = 9 *1 - 2 * 0 = 9 != 0\n",
    "        1  ( 1  - 2)    \n",
    "A^-1 =  -- (       )  = 1/9   -2/9\n",
    "        9  ( 0    9)    0      9/9"
   ]
  },
  {
   "cell_type": "markdown",
   "id": "33e9d6ba",
   "metadata": {},
   "source": []
  },
  {
   "cell_type": "markdown",
   "id": "423b211a",
   "metadata": {},
   "source": [
    "Numpy 행렬 연산하기\n",
    "NumPy는 파이썬에서 행렬 계산을 쉽게 할 수 있도록 도와줍니다.\n",
    "NumPy의 다양한 함수를 이용하면 기계학습에서 사용되는 수식을 쉽게 구현할 수 있습니다.\n",
    "\n",
    "이번 실습에서는 NumPy를 활용하여 랜덤 행렬 normalize를 수행해봅니다.\n",
    "\n",
    "랜덤 행렬 함수\n",
    "\n",
    "np.random.random((3,3))\n",
    "Copy\n",
    "행렬의 크기가 (3,3)인 랜덤 행렬을 출력합니다.\n",
    "\n",
    "A.max(), A.min()\n",
    "Copy\n",
    "행렬 A의 최대값, 최소값을 A.max(), A.min()을 통해 출력합니다.\n",
    "\n",
    "\n",
    "실습\n",
    "normalize() 함수 안에서 먼저 (5,5)의 랜덤 행렬을 선언하세요.\n",
    "\n",
    "선언한 행렬의 최대값과 최소값을 기억하고, \n",
    "이것을 통해 선언했던 랜덤 행렬을 0~1 범위로 normalize하세요.\n",
    "\n",
    "참고 : https://hleecaster.com/ml-normalization-concept/"
   ]
  },
  {
   "cell_type": "code",
   "execution_count": 1,
   "id": "d1dfb67e",
   "metadata": {
    "scrolled": true
   },
   "outputs": [
    {
     "name": "stdout",
     "output_type": "stream",
     "text": [
      "[[0.58967927 0.65510355 0.36674619 0.25665901 1.        ]\n",
      " [0.0220392  0.98199634 0.06820054 0.01702796 0.19177648]\n",
      " [0.21900659 0.56934155 0.32883261 0.79613884 0.70041361]\n",
      " [0.55229251 0.08059611 0.         0.42549138 0.85523728]\n",
      " [0.18188678 0.38520602 0.02869159 0.95610616 0.49876368]]\n"
     ]
    }
   ],
   "source": [
    "import numpy as np\n",
    "\n",
    "\n",
    "def main():\n",
    "    print(normalize())\n",
    "    \n",
    "def normalize():\n",
    "    '''\n",
    "    지시사항: 함수 안에서 먼저 (5,5)의 랜덤 행렬을 선언하세요.\n",
    "    그리고 선언한 행렬의 최대값과 최소값을 기억하고, \n",
    "    이것을 통해 선언했던 랜덤 행렬을 normalize하세요.\n",
    "    '''\n",
    "    Z = np.random.random((5,5))\n",
    "    Zmax, Zmin = Z.max(), Z.min()\n",
    "    Z =  (Z - Zmin) / (Zmax - Zmin) \n",
    "    return Z\n",
    "\n",
    "if __name__ == \"__main__\":\n",
    "    main()\n"
   ]
  },
  {
   "cell_type": "markdown",
   "id": "0a85036b",
   "metadata": {},
   "source": [
    "Numpy 행렬 곱 함수 만들기\n",
    "NumPy는 파이썬에서 행렬 계산을 쉽게 할 수 있도록 도와줍니다.\n",
    "NumPy의 다양한 함수를 이용하면 기계학습에서 사용되는 수식을 쉽게 구현할 수 있습니다.\n",
    "\n",
    "이번 실습에서는 NumPy를 활용하여 행렬 곱을 수행해보겠습니다.\n",
    "\n",
    "행렬 곱\n",
    "\n",
    "np.dot(A, B)\n",
    "Copy\n",
    "두 행렬 A, B의 행렬 곱을 해줍니다.\n",
    "\n",
    "1로 채워진 행렬\n",
    "\n",
    "np.ones((3,3))\n",
    "Copy\n",
    "1의 값으로만 채워진 (3,3)의 행렬을 선언합니다.\n",
    "\n",
    "\n",
    "실습\n",
    "multiply() 함수 안에 먼저 1으로 채워진 행렬 2개를 선언합니다. \n",
    "하나는 (5,3)의 크기, 다른 하나는 (3,2)로 합니다.\n",
    "\n",
    "위에서 선언한 두 행렬의 곱을 합니다."
   ]
  },
  {
   "cell_type": "code",
   "execution_count": 2,
   "id": "a35bab69",
   "metadata": {},
   "outputs": [
    {
     "name": "stdout",
     "output_type": "stream",
     "text": [
      "[[3. 3.]\n",
      " [3. 3.]\n",
      " [3. 3.]\n",
      " [3. 3.]\n",
      " [3. 3.]]\n"
     ]
    }
   ],
   "source": [
    "import numpy as np\n",
    "\n",
    "\n",
    "def main():\n",
    "    print(multiply())\n",
    "    \n",
    "def multiply():\n",
    "    '''\n",
    "    함수 안에 먼저 1으로 채워진 행렬 2개를 선언합니다. \n",
    "    하나는 (5,3)의 크기, 다른 하나는 (3,2)로 합니다. \n",
    "    그리고 앞서 선언한 두 행렬의 곱을 합니다.\n",
    "    '''\n",
    "    Z = np.dot(np.ones((5,3)), np.ones((3,2)))\n",
    "    return Z\n",
    "\n",
    "\n",
    "\n",
    "if __name__ == \"__main__\":\n",
    "    main()\n"
   ]
  }
 ],
 "metadata": {
  "kernelspec": {
   "display_name": "Python 3",
   "language": "python",
   "name": "python3"
  },
  "language_info": {
   "codemirror_mode": {
    "name": "ipython",
    "version": 3
   },
   "file_extension": ".py",
   "mimetype": "text/x-python",
   "name": "python",
   "nbconvert_exporter": "python",
   "pygments_lexer": "ipython3",
   "version": "3.8.8"
  }
 },
 "nbformat": 4,
 "nbformat_minor": 5
}
