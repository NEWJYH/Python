{
 "cells": [
  {
   "cell_type": "markdown",
   "id": "bc1ac841",
   "metadata": {},
   "source": [
    "목 차\n",
    "\n",
    "1.여러 가지 확률분포\n",
    "\n",
    "2.모집단과 표본\n",
    "\n",
    "3.통계적 추론\n",
    "\n",
    "4.통계적 가설 검정\n",
    "\n",
    "5.검정의 종류와 과정"
   ]
  },
  {
   "cell_type": "markdown",
   "id": "83138877",
   "metadata": {},
   "source": []
  },
  {
   "cell_type": "markdown",
   "id": "7179876e",
   "metadata": {},
   "source": [
    "1.여러 가지 확률분포"
   ]
  },
  {
   "cell_type": "markdown",
   "id": "077cd1b5",
   "metadata": {},
   "source": [
    "이산 확률 분포"
   ]
  },
  {
   "cell_type": "markdown",
   "id": "457b7d5c",
   "metadata": {},
   "source": [
    "확률 분포\n",
    "\n",
    "모집단으로부터 얻어지는 상대도수 분포\n",
    "발생 가능한 모든 사건과 발생 가능성을 나타냄"
   ]
  },
  {
   "cell_type": "markdown",
   "id": "cb1c705e",
   "metadata": {},
   "source": [
    "확률 분포\n",
    "\n",
    "이산 확률 분포\n",
    "1) 베르누이분포\n",
    "2) 이항분포\n",
    "3) 기하분포\n",
    "4) 포아송분포\n",
    "5) ...\n",
    "\n",
    "연속 확률 분포\n",
    "1) 균일분포\n",
    "2) 정규분포\n",
    "3)   ..."
   ]
  },
  {
   "cell_type": "markdown",
   "id": "59d677e0",
   "metadata": {},
   "source": [
    "이산 확률 분포\n",
    "\n",
    "확률 변수의 값이 정수와 같이 이산적인 값을 가진 경우\n",
    "이산 확률 변수라고 부르고 이산 확률 변수의 분포를\n",
    "이산 확률 분포라고 부름"
   ]
  },
  {
   "cell_type": "markdown",
   "id": "797ff977",
   "metadata": {},
   "source": []
  },
  {
   "cell_type": "markdown",
   "id": "ef20d5d9",
   "metadata": {},
   "source": [
    "[이론] 베르누이 분포"
   ]
  },
  {
   "cell_type": "markdown",
   "id": "fb88351c",
   "metadata": {},
   "source": [
    "1) 베르누이분포\n",
    "\n",
    "베르누이 시행\n",
    "\n",
    "1) 각 시행은 성공과 실패 두 가지 중 하나의 결과를 가짐\n",
    "\n",
    "2) 각 시행에서 성공할 확률은 p, 실패할 확률은 1-p\n",
    "\n",
    "3) 각 시행은 서로 독립으로 \n",
    "   각 시행의 결과가 다른 시행의 결과에 영향을 미치지 않음"
   ]
  },
  {
   "cell_type": "markdown",
   "id": "a5e9a38a",
   "metadata": {},
   "source": [
    "1) 베르누이분포\n",
    "\n",
    "베르누이 시행의 확률 변수 X\n",
    "\n",
    "확률 분포      X       0        1\n",
    "          P(X =x)    1-p       p\n",
    "          \n",
    "확률질량함수 f(x) = {   p, x = 1\n",
    "                  { 1-p, x = 0"
   ]
  },
  {
   "cell_type": "markdown",
   "id": "cbf19db4",
   "metadata": {},
   "source": [
    "3/22 "
   ]
  },
  {
   "cell_type": "markdown",
   "id": "e225f96a",
   "metadata": {},
   "source": []
  },
  {
   "cell_type": "markdown",
   "id": "508489b0",
   "metadata": {},
   "source": []
  },
  {
   "cell_type": "markdown",
   "id": "5274bb9c",
   "metadata": {},
   "source": []
  },
  {
   "cell_type": "markdown",
   "id": "6c031d17",
   "metadata": {},
   "source": []
  },
  {
   "cell_type": "markdown",
   "id": "3d82a6a7",
   "metadata": {},
   "source": []
  },
  {
   "cell_type": "markdown",
   "id": "1a63786b",
   "metadata": {},
   "source": []
  },
  {
   "cell_type": "markdown",
   "id": "50c77e1f",
   "metadata": {},
   "source": []
  },
  {
   "cell_type": "markdown",
   "id": "544dd441",
   "metadata": {},
   "source": []
  },
  {
   "cell_type": "markdown",
   "id": "d05df74b",
   "metadata": {},
   "source": []
  },
  {
   "cell_type": "markdown",
   "id": "e600257b",
   "metadata": {},
   "source": []
  },
  {
   "cell_type": "markdown",
   "id": "c55c4c2e",
   "metadata": {},
   "source": []
  },
  {
   "cell_type": "markdown",
   "id": "734ce5cc",
   "metadata": {},
   "source": []
  },
  {
   "cell_type": "markdown",
   "id": "488ddbf2",
   "metadata": {},
   "source": []
  },
  {
   "cell_type": "markdown",
   "id": "3d2c2074",
   "metadata": {},
   "source": []
  },
  {
   "cell_type": "markdown",
   "id": "d50cddb1",
   "metadata": {},
   "source": []
  },
  {
   "cell_type": "markdown",
   "id": "450d4c27",
   "metadata": {},
   "source": []
  },
  {
   "cell_type": "markdown",
   "id": "870af0e2",
   "metadata": {},
   "source": []
  },
  {
   "cell_type": "markdown",
   "id": "99930953",
   "metadata": {},
   "source": []
  },
  {
   "cell_type": "markdown",
   "id": "042fe3f6",
   "metadata": {},
   "source": []
  },
  {
   "cell_type": "markdown",
   "id": "0cb447ad",
   "metadata": {},
   "source": []
  },
  {
   "cell_type": "markdown",
   "id": "16e69f87",
   "metadata": {},
   "source": []
  },
  {
   "cell_type": "markdown",
   "id": "0c382cef",
   "metadata": {},
   "source": []
  },
  {
   "cell_type": "markdown",
   "id": "c05d8519",
   "metadata": {},
   "source": []
  },
  {
   "cell_type": "markdown",
   "id": "d423dd74",
   "metadata": {},
   "source": []
  },
  {
   "cell_type": "markdown",
   "id": "448981ea",
   "metadata": {},
   "source": []
  },
  {
   "cell_type": "markdown",
   "id": "c0e2d970",
   "metadata": {},
   "source": []
  },
  {
   "cell_type": "markdown",
   "id": "21264cf0",
   "metadata": {},
   "source": []
  },
  {
   "cell_type": "markdown",
   "id": "31a76c05",
   "metadata": {},
   "source": []
  },
  {
   "cell_type": "markdown",
   "id": "76b1151c",
   "metadata": {},
   "source": []
  },
  {
   "cell_type": "markdown",
   "id": "c1c761d8",
   "metadata": {},
   "source": []
  },
  {
   "cell_type": "markdown",
   "id": "aa8d3742",
   "metadata": {},
   "source": []
  },
  {
   "cell_type": "markdown",
   "id": "b7d8370a",
   "metadata": {},
   "source": []
  },
  {
   "cell_type": "markdown",
   "id": "ed9c8a47",
   "metadata": {},
   "source": []
  },
  {
   "cell_type": "markdown",
   "id": "6355b771",
   "metadata": {},
   "source": []
  },
  {
   "cell_type": "markdown",
   "id": "19685b5c",
   "metadata": {},
   "source": []
  },
  {
   "cell_type": "markdown",
   "id": "8a321b5a",
   "metadata": {},
   "source": []
  },
  {
   "cell_type": "markdown",
   "id": "072eaf8b",
   "metadata": {},
   "source": []
  },
  {
   "cell_type": "markdown",
   "id": "31977bc0",
   "metadata": {},
   "source": []
  },
  {
   "cell_type": "markdown",
   "id": "0489970c",
   "metadata": {},
   "source": []
  },
  {
   "cell_type": "markdown",
   "id": "ca35d500",
   "metadata": {},
   "source": []
  },
  {
   "cell_type": "markdown",
   "id": "1c331bf7",
   "metadata": {},
   "source": []
  },
  {
   "cell_type": "markdown",
   "id": "fdee78ce",
   "metadata": {},
   "source": []
  },
  {
   "cell_type": "markdown",
   "id": "f7476095",
   "metadata": {},
   "source": []
  },
  {
   "cell_type": "markdown",
   "id": "a5cf93fd",
   "metadata": {},
   "source": []
  },
  {
   "cell_type": "markdown",
   "id": "3311d9a3",
   "metadata": {},
   "source": []
  },
  {
   "cell_type": "markdown",
   "id": "08b1e407",
   "metadata": {},
   "source": []
  },
  {
   "cell_type": "markdown",
   "id": "af74c1d3",
   "metadata": {},
   "source": []
  },
  {
   "cell_type": "markdown",
   "id": "1e48ede4",
   "metadata": {},
   "source": []
  },
  {
   "cell_type": "markdown",
   "id": "dbaaf54e",
   "metadata": {},
   "source": []
  },
  {
   "cell_type": "markdown",
   "id": "ab4b5ac7",
   "metadata": {},
   "source": []
  },
  {
   "cell_type": "markdown",
   "id": "90949640",
   "metadata": {},
   "source": []
  },
  {
   "cell_type": "markdown",
   "id": "e70988c9",
   "metadata": {},
   "source": []
  },
  {
   "cell_type": "markdown",
   "id": "bc8f8d9c",
   "metadata": {},
   "source": []
  },
  {
   "cell_type": "markdown",
   "id": "1286dd2e",
   "metadata": {},
   "source": []
  },
  {
   "cell_type": "markdown",
   "id": "d0bca218",
   "metadata": {},
   "source": []
  },
  {
   "cell_type": "markdown",
   "id": "0d0dab8d",
   "metadata": {},
   "source": []
  },
  {
   "cell_type": "markdown",
   "id": "f9bdd0f3",
   "metadata": {},
   "source": []
  },
  {
   "cell_type": "markdown",
   "id": "ab6d241b",
   "metadata": {},
   "source": []
  },
  {
   "cell_type": "markdown",
   "id": "a5df659b",
   "metadata": {},
   "source": []
  },
  {
   "cell_type": "markdown",
   "id": "b8d225f6",
   "metadata": {},
   "source": []
  },
  {
   "cell_type": "markdown",
   "id": "e12ea8e8",
   "metadata": {},
   "source": []
  },
  {
   "cell_type": "markdown",
   "id": "d9f05c51",
   "metadata": {},
   "source": []
  },
  {
   "cell_type": "markdown",
   "id": "81d4f917",
   "metadata": {},
   "source": []
  },
  {
   "cell_type": "markdown",
   "id": "b306a166",
   "metadata": {},
   "source": []
  },
  {
   "cell_type": "markdown",
   "id": "694192a3",
   "metadata": {},
   "source": []
  },
  {
   "cell_type": "markdown",
   "id": "eb13906d",
   "metadata": {},
   "source": []
  }
 ],
 "metadata": {
  "kernelspec": {
   "display_name": "Python 3",
   "language": "python",
   "name": "python3"
  },
  "language_info": {
   "codemirror_mode": {
    "name": "ipython",
    "version": 3
   },
   "file_extension": ".py",
   "mimetype": "text/x-python",
   "name": "python",
   "nbconvert_exporter": "python",
   "pygments_lexer": "ipython3",
   "version": "3.8.8"
  }
 },
 "nbformat": 4,
 "nbformat_minor": 5
}
