{
 "cells": [
  {
   "cell_type": "markdown",
   "id": "c3de1e26",
   "metadata": {},
   "source": [
    "커리큘럼\n",
    "\n",
    "1. 시각화를 통한 자료의 요약\n",
    "    - 자료의 형태\n",
    "    - 범주형 자료의 요약\n",
    "    - 수치형 자료의 요약\n",
    "    - 분포의 모양\n",
    "    \n",
    "2. 논리적인 자료의 요약\n",
    "    - 중심위치의 측도\n",
    "    - 퍼진 정도의 측도\n",
    "    - 상자그림\n",
    "    - 두 변수 자료의 요약\n",
    "    \n",
    "3. 확률\n",
    "    - 사건과 확률의 개념\n",
    "    - 순열과 조합\n",
    "    - 독립과 조건부 확률\n",
    "    - 확률 분포\n",
    "    \n",
    "4. 가설검정 및 추론\n",
    "    - 여러 가지 확률분포\n",
    "    - 통계적 추론\n",
    "    - 통계적 가설검정\n",
    "    - 검정의 종류와 과정"
   ]
  },
  {
   "cell_type": "markdown",
   "id": "1b568019",
   "metadata": {},
   "source": []
  },
  {
   "cell_type": "markdown",
   "id": "988c8145",
   "metadata": {},
   "source": [
    "자료의 형태"
   ]
  },
  {
   "cell_type": "markdown",
   "id": "2799cfa2",
   "metadata": {},
   "source": [
    "자료의 형태\n",
    "-\n",
    "                         자  료\n",
    "                        ↙    ↘  \n",
    "        수치형 자료                       범주형 자료\n",
    "     (numerical data)                  (Categorical data)\n",
    "   = 양적자료(Quantitative data)   = 질적자료(Qualitative data)\n",
    "   수치로 측정이 가능한 자료          수치로 측정이 불가능한 자료\n",
    "   예) 키,몸무게,시험점수,나이 등      예) 성별, 지역, 혈핵형 등\n",
    "   -> 선형 회귀 분석 등 사용         -> 로지스틱 회귀 분석 등 사용"
   ]
  },
  {
   "cell_type": "markdown",
   "id": "37695b78",
   "metadata": {},
   "source": [
    "수치형 자료\n",
    "                    수치형 자료\n",
    "                    ↙      ↘\n",
    "       연속형자료                 이산형자료\n",
    "   (Continuous data)          (Discrete data)\n",
    "  연속적인 관측값을 가짐         셀 수 있는 관측값을 가짐\n",
    "  예) 원주율, 시간 등           예) 동영상 조회수"
   ]
  },
  {
   "cell_type": "markdown",
   "id": "096cf7ee",
   "metadata": {},
   "source": [
    "자료의 형태 구분 시, 주의점\n",
    "\n",
    "범주형 자료와 수치 자료의 구분 != 자료의 숫자 표현 가능 여부\n",
    "\n",
    "범주형 자료가 숫자로 표현되는 경우\n",
    "- 남녀 성별 구분시, 남자를 1로, 여자를 0으로\n",
    "  표현하는 경우, 숫자로 표현 되었으나\n",
    "  범주형 자료\n",
    "  \n",
    "수치형 자료를 범주형 자료로 변환하는 경우\n",
    "- 나이 구분 시, 나이 값은 수치형 자료지만\n",
    "  10세 ~19세, 20 ~ 29세 등 나이 대에 따라\n",
    "  구간화 하면 범주형 자료"
   ]
  },
  {
   "cell_type": "markdown",
   "id": "95bd55ef",
   "metadata": {},
   "source": [
    "수치형 자료 구분\n",
    "\n",
    "연속형 자료 != 이산형 자료\n",
    "\n",
    "연속형 자료는 연속적인 관측\n",
    "예 ) 시간 측정\n",
    "    어떤 순간은 09:12:23.21... 처럼 연속되고 있는 상태를 \n",
    "    관측한 연속형 자료이나\n",
    "    평소에는 09시 12분으로 반올림하여 표현하여 이산형 자료로 사용"
   ]
  },
  {
   "cell_type": "markdown",
   "id": "27172509",
   "metadata": {},
   "source": [
    "범주형 자료\n",
    "                        범주형 자료\n",
    "                        ↙      ↘\n",
    "              순위형 자료           명목형 자료\n",
    "            (Ordinal data)       (Nominal dataQ)\n",
    "    범주 사이의 순서에 의미가 있음   범주사이의 순서에 의미가 없음\n",
    "    예) 학점 (A+,A-,...)          예) 혈핵형(A,B,O,AB)"
   ]
  },
  {
   "cell_type": "markdown",
   "id": "fc8599e9",
   "metadata": {},
   "source": []
  },
  {
   "cell_type": "markdown",
   "id": "cca9b48d",
   "metadata": {},
   "source": [
    "[이론]범주형 자료의 요약"
   ]
  },
  {
   "cell_type": "markdown",
   "id": "f5a252a7",
   "metadata": {},
   "source": [
    "범주형 자료 요약\n",
    "\n",
    "범주형 자료 요약 필요\n",
    "    - 다수의 범주가 반복해서 관측\n",
    "    - 관측값의 크기보다 포함되는 범주에 관심\n",
    "\n",
    "\n",
    "각 범주에 속하는 관측값의 개수를 측정 \n",
    "↓\n",
    "전체에서 차지하는 각 범주의 비율 파악\n",
    "↓\n",
    "효율적으로 범주 간의 차이점을 비교 가능\n"
   ]
  },
  {
   "cell_type": "markdown",
   "id": "3f1fe8d4",
   "metadata": {},
   "source": [
    "도수분포표\n",
    "\n",
    "도수(Frequency) : 각 범주에 속하는 관측값의 개수\n",
    "                 value_counts()\n",
    "                 \n",
    "상대도수(Relatve Frequency) : 도수를 자료의 전체 개수로 나눈 비율\n",
    "                             value_counts(normalize=True)\n",
    "\n",
    "도수분포표(Frequency Table) : 범주형 자료에서 범주와 그 범주에\n",
    "                            대응하는 도수, 상대도수를 나열해 표로 \n",
    "                            만든 것"
   ]
  },
  {
   "cell_type": "markdown",
   "id": "2cddd7d4",
   "metadata": {},
   "source": [
    "도수분포표 예시\n",
    "\n",
    "강의 만족도 설문(100명 조사)\n",
    "\n",
    "범주              도수         상대도수\n",
    "매우만족            30           0.3\n",
    "만족               10           0.1\n",
    "보통               30           0.3\n",
    "불만복             15           0.15\n",
    "매우 불만족         15           0.15"
   ]
  },
  {
   "cell_type": "markdown",
   "id": "b0eae406",
   "metadata": {},
   "source": [
    "도수\n",
    "\n",
    "df[범주].value_counts()\n",
    "\n",
    "value_counts() 함수를 이용해 도수를 구할 수 있습니다."
   ]
  },
  {
   "cell_type": "markdown",
   "id": "d66a8277",
   "metadata": {},
   "source": [
    "상대도수\n",
    "\n",
    "df[범주].value_counts(normalize=True)\n",
    "\n",
    "value_counts()함수에 normalize=True옵션을 주면 \n",
    "상대도수를 구할 수 있습니다."
   ]
  },
  {
   "cell_type": "markdown",
   "id": "d51274a1",
   "metadata": {},
   "source": [
    "도수분포표\n",
    "\n",
    "몇 개의 범주를 기준으로 둘 것인지에 따라\n",
    "다양한 도수분포표를 만들 수 있습니다."
   ]
  },
  {
   "cell_type": "markdown",
   "id": "b86343aa",
   "metadata": {},
   "source": [
    "한 가지 범주의 도수분포표\n",
    "\n",
    "pd.crosstab(index=범주, columns=\"count\")\n",
    "\n",
    "index로 설정한 범주에 해당하는 도수를 계산하여 도수분포표를 제작"
   ]
  },
  {
   "cell_type": "markdown",
   "id": "6fa2d64f",
   "metadata": {},
   "source": [
    "두 가지 범주의 도수분포표\n",
    "\n",
    "pd.crosstab(index=범주, columns=또 다른 범주)\n",
    "\n",
    "index로 설정한 범주와 columns로 설정한 범주를 모두\n",
    "만족하는 도수를 계산하여 도수분포표를 제작"
   ]
  },
  {
   "cell_type": "markdown",
   "id": "9c263f5f",
   "metadata": {},
   "source": []
  },
  {
   "cell_type": "markdown",
   "id": "bea30e2b",
   "metadata": {},
   "source": [
    "범주형 자료의 요약 : 도수\n",
    "범주형 자료를 요약하기 위해 도수를 계산해보겠습니다.\n",
    "\n",
    "A, B, C, D, E 이 다섯 명이 주량을 가지고 \n",
    "서로 자신이 주량이 세다고 자랑을 하고 있어요! \n",
    "하지만, 술자리에 참석한 횟수가 다들 달라서 공정한 대결을 할 수가 없다네요…\n",
    "\n",
    "술 자리에 참여한 빈도 데이터를 저장한 파일인 \n",
    "drink.csv 파일을 이용하여 누가 제일 술자리에 자주 나왔는지 확인해보아요!\n",
    "\n",
    "drink.csv파일은 두 가지 구성 요소가 있습니다.\n",
    "\n",
    "Attend : 참석한 경우 1, 참석하지 않은 경우 0\n",
    "참석자의 이름\n",
    "\n",
    "문제\n",
    "도수\n",
    "도수는 단순히 빈도만 세어주면 됩니다.\n",
    "\n",
    "판다스의 groupby 함수와 sum 함수를 이용하여\n",
    "\"Name\"별 \"Attend\"의 합을 구할 수 있습니다.\n",
    "\n",
    "도수를 계산한 코드를 입력하여 drink_freq 에 저장해보세요.\n",
    "\n",
    "drink_freq = drink[drink[\"Attend\"] == 1][\"Name\"].value_counts()"
   ]
  },
  {
   "cell_type": "code",
   "execution_count": 1,
   "id": "e361cabf",
   "metadata": {},
   "outputs": [
    {
     "name": "stdout",
     "output_type": "stream",
     "text": [
      "도수 계산\n",
      "A    4\n",
      "B    3\n",
      "C    2\n",
      "D    2\n",
      "E    1\n",
      "Name: Name, dtype: int64\n"
     ]
    }
   ],
   "source": [
    "import pandas as pd \n",
    "import numpy as np\n",
    "\n",
    "# drink 데이터\n",
    "drink = pd.read_csv(\"drink.csv\")\n",
    "\n",
    "\n",
    "# 도수 계산\n",
    "drink_freq = drink[drink[\"Attend\"] == 1][\"Name\"].value_counts()\n",
    "\n",
    "print(\"도수 계산\")\n",
    "print(drink_freq)"
   ]
  },
  {
   "cell_type": "markdown",
   "id": "cb039519",
   "metadata": {},
   "source": [
    "범주형 자료의 요약 : 상대도수\n",
    "범주형 자료를 요약하기 위해 상대도수를 계산해보겠습니다.\n",
    "\n",
    "A, B, C, D, E 이 다섯 명이 주량을 가지고 \n",
    "서로 자신이 주량이 세다고 자랑을 하고 있어요!\n",
    "하지만, 술자리에 참석한 횟수가 다들 달라서 공정한 대결을 할 수가 없다네요…\n",
    "\n",
    "술 자리에 참여한 빈도 데이터를 저장한 파일인 drink.csv 파일을 이용하여 \n",
    "누가 제일 술자리에 자주 나왔는지 확인해보아요!\n",
    "\n",
    "drink.csv파일은 두 가지 구성 요소가 있습니다.\n",
    "\n",
    "Attend : 참석한 경우 1, 참석하지 않은 경우 0\n",
    "참석자의 이름\n",
    "\n",
    "문제\n",
    "상대도수\n",
    "상대도수는 전체에서 도수의 비율을 계산한 값입니다.\n",
    "\n",
    "value_counts() 함수에 normalize=True 옵션을 주면 상대도수를 구할 수 있습니다.\n",
    "\n",
    "drink_relfreq = drink[drink[\"Attend\"] == 1][\"Name\"].value_counts(normalize=True)\n",
    "Copy\n",
    "도수를 계산한 코드를 9번째 줄의 변수 drink_relfreq 에 저장해보세요."
   ]
  },
  {
   "cell_type": "code",
   "execution_count": 2,
   "id": "b9578583",
   "metadata": {},
   "outputs": [
    {
     "name": "stdout",
     "output_type": "stream",
     "text": [
      "상대도수 계산\n",
      "A    0.333333\n",
      "B    0.250000\n",
      "C    0.166667\n",
      "D    0.166667\n",
      "E    0.083333\n",
      "Name: Name, dtype: float64\n"
     ]
    }
   ],
   "source": [
    "import pandas as pd \n",
    "import numpy as np\n",
    "\n",
    "# drink 데이터\n",
    "drink = pd.read_csv(\"drink.csv\")\n",
    "\n",
    "\n",
    "#상대도수 계산\n",
    "drink_relfreq = drink[drink[\"Attend\"] == 1][\"Name\"].value_counts(normalize=True)\n",
    "\n",
    "print(\"상대도수 계산\")\n",
    "print(drink_relfreq)"
   ]
  },
  {
   "cell_type": "markdown",
   "id": "d057b827",
   "metadata": {},
   "source": [
    "범주형 자료의 요약 : 도수분포표\n",
    "범주형 자료를 효과적으로 요약할 수 있는 \n",
    "도수 분포표를 사용해보도록 하겠습니다.\n",
    "\n",
    "A, B, C, D, E 이 다섯 명이 주량을 가지고\n",
    "서로 자신이 주량이 세다고 자랑을 하고 있어요!\n",
    "하지만, 술자리에 참석한 횟수가 다들 달라서 공정한 대결을 할 수가 없다네요…\n",
    "\n",
    "술 자리에 참여한 빈도 데이터를 저장한 파일인 drink.csv 파일을 이용하여 \n",
    "누가 제일 술자리에 자주 나왔는지 확인해보아요!\n",
    "\n",
    "drink.csv파일은 두 가지 구성 요소가 있습니다.\n",
    "\n",
    "Attend : 참석한 경우 1, 참석하지 않은 경우 0\n",
    "참석자의 이름\n",
    "\n",
    "문제\n",
    "범주형 자료의 도수분포표\n",
    "두 가지의 도수분포표를 만들어보겠습니다.\n",
    "\n",
    "도수분포표는 판다스의 crosstab 함수를 이용하여 만들 수 있고, index에는 행을, columns에는 열을 각각 지정해주면 됩니다.\n",
    "\n",
    "crosstab 함수의 사용 예시입니다.\n",
    "\n",
    "drink_tab = pd.crosstab(index = drink[\"Attend\"], columns = \"count\")\n",
    "Copy\n",
    "참석 여부를 index로 설정하고, 참석한 경우와 참석하지 않은 경우를 각각 columns로 삼아 도수분포표를 만들었습니다.\n",
    "\n",
    "참석 횟수만 계산하기\n",
    "\n",
    "참석자와 상관없이 도수를 계산하여 drink_tab 에 저장해보세요.\n",
    "index에 drink[\"Attend\"], columns에 \"count\"를 넣어보세요.\n",
    "개인별 참석 횟수 확인하기\n",
    "\n",
    "누가 몇 번 참석했는지 도수를 계산하여 drink_who 에 저장해보세요.\n",
    "index에 drink[\"Attend\"], columns에 drink[\"Name\"]를 넣어보세요."
   ]
  },
  {
   "cell_type": "code",
   "execution_count": 3,
   "id": "78f604c5",
   "metadata": {
    "scrolled": true
   },
   "outputs": [
    {
     "name": "stdout",
     "output_type": "stream",
     "text": [
      "전체 참석 횟수를 확인하는 도수분포표\n",
      "col_0   count\n",
      "Attend       \n",
      "0          13\n",
      "1          12\n",
      "누가 몇 번 참석했는지 알 수 있는 도수분포표\n",
      "Name    A  B  C  D  E\n",
      "Attend               \n",
      "0       1  2  3  3  4\n",
      "1       4  3  2  2  1\n"
     ]
    }
   ],
   "source": [
    "import pandas as pd \n",
    "import numpy as np\n",
    "\n",
    "# drink 데이터\n",
    "drink = pd.read_csv(\"drink.csv\")\n",
    "\n",
    "\n",
    "# 전체 참석 횟수를 확인하는 도수분포표\n",
    "drink_tab = pd.crosstab(index = drink[\"Attend\"], columns = \"count\")\n",
    "\n",
    "print(\"전체 참석 횟수를 확인하는 도수분포표\")\n",
    "print(drink_tab)\n",
    "\n",
    "\n",
    "\n",
    "#누가 몇 번 참석했는지 알 수 있는 도수분포표 \n",
    "drink_who = pd.crosstab(index = drink[\"Attend\"], columns = drink[\"Name\"])\n",
    "\n",
    "print(\"누가 몇 번 참석했는지 알 수 있는 도수분포표\")\n",
    "print(drink_who)"
   ]
  },
  {
   "cell_type": "markdown",
   "id": "1f1bbdd8",
   "metadata": {},
   "source": []
  },
  {
   "cell_type": "markdown",
   "id": "3b0b1471",
   "metadata": {},
   "source": [
    "[이론]범주형 자료의 요약 : 그래프"
   ]
  },
  {
   "cell_type": "markdown",
   "id": "00e2ac28",
   "metadata": {},
   "source": [
    "원형그래프(Pie Chart)\n",
    "\n",
    "plt.pie(수치, labels = 라벨)\n",
    "\n",
    "숫자의 나열보다 전체적인 분포를 이해하기 쉬운 그래프\n",
    "\n",
    "원을 각 범주가 차지하는 비율로 중심각을 나눠 피자처럼 조각을\n",
    "나눈 형태의 그림\n",
    "\n",
    "장점 : 전체에서 범주가 차지하는 비율을 파악하기 쉬움\n",
    "\n",
    "단점 : 범주 간 도수 비교 및 도수 크기 차이 파악이 어려움"
   ]
  },
  {
   "cell_type": "markdown",
   "id": "33f55940",
   "metadata": {},
   "source": [
    "막대그래프(Bar Chart)\n",
    "\n",
    "plt.bar(x = 라벨, height = 수치)\n",
    "\n",
    "각 범주에서 도수의 크기를 막대로 그림\n",
    "\n",
    "그래프의 Y축 : 도수에 대한 눈금\n",
    "그래프의 X축 : 범주를 나열\n",
    "\n",
    "장점 : 각 범주가 가지는 도수의 크기 차이를 비교하기 쉬움\n",
    "단점 : 각 범주가 차지하는 비율의 비교는 어려움"
   ]
  },
  {
   "cell_type": "markdown",
   "id": "cbff9625",
   "metadata": {},
   "source": []
  },
  {
   "cell_type": "markdown",
   "id": "a243d83e",
   "metadata": {},
   "source": [
    "범주형 자료의 요약 : 원형 그래프\n",
    "실습1에서 계산했던 술자리 참석 빈도의 상대도수 비율을\n",
    "한 눈에 보기 쉽도록 그래프를 그리겠습니다.\n",
    "\n",
    "앞선 실습의 결과를 통해 원형 그래프를 그려보겠습니다.\n",
    "\n",
    "\n",
    "문제\n",
    "코드 에디터에서 주석으로 표시된 Q1을 찾아 해당 위치에 알맞은 코드를 입력해주세요.\n",
    "\n",
    "1) 원형 그래프\n",
    "참석 비율(ratio)을 기준으로 원그래프 조각의 크기를 다르게 하는 코드를 Q1에 입력하여 이를 그려보겠습니다.\n",
    "\n",
    "plt.pie(ratio,labels = labels)\n",
    "plt.axis('equal')\n",
    "Copy\n",
    "plt.axis(‘equal’) 코드는 pie 차트의 모양을 타원형에서 원형으로 교정해주는 역할을 합니다.\n",
    "\n",
    "Tips\n",
    "plt.show() 함수는 만든 그래프를 보여주는 역할입니다.\n",
    "\n",
    "아래 코드는 엘리스 플랫폼에서 그림 파일을 출력하기 위한 코드입니다!\n",
    "\n",
    "fig.savefig(\"pie_plot.png\")\n",
    "elice_utils.send_image(\"pie_plot.png\")"
   ]
  },
  {
   "cell_type": "code",
   "execution_count": 5,
   "id": "82fad5e1",
   "metadata": {},
   "outputs": [
    {
     "data": {
      "image/png": "[encoded data removed]",
      "text/plain": [
       "<Figure size 432x288 with 1 Axes>"
      ]
     },
     "metadata": {},
     "output_type": "display_data"
    }
   ],
   "source": [
    "import matplotlib.pyplot as plt\n",
    "\n",
    "# 술자리 참석 상대도수 데이터 \n",
    "labels = ['A', 'B', 'C', 'D', 'E']\n",
    "ratio = [33,25,17,17,8]\n",
    "    \n",
    "#원형 그래프 \n",
    "fig, ax = plt.subplots()\n",
    "\n",
    "## Q1. 원형 그래프를 만드는 코드를 작성해 주세요\n",
    "plt.pie(ratio, labels = labels)\n",
    "\n",
    "# plt.axis(‘equal’) 코드는 pie 차트의 모양을 타원형에서 \n",
    "# 원형으로 교정해주는 역할을 합니다.\n",
    "plt.axis('equal')\n",
    "\n",
    "plt.show()"
   ]
  },
  {
   "cell_type": "markdown",
   "id": "33025718",
   "metadata": {},
   "source": [
    "범주형 자료의 요약 : 막대 그래프\n",
    "실습1에서 계산했던 술자리 참석 빈도의 상대도수 비율을 \n",
    "한 눈에 보기 쉽도록 그래프를 그리겠습니다.\n",
    "\n",
    "앞선 실습의 결과를 통해 막대 그래프를 그려보겠습니다.\n",
    "\n",
    "\n",
    "문제\n",
    "코드 에디터에서 주석으로 표시된 Q1를 찾아 해당 위치에 알맞은 코드를 입력해주세요.\n",
    "\n",
    "막대 그래프\n",
    "참석 비율(ratio)을 기준으로 막대그래프 막대의 크기를 다르게 하는 코드를 Q1에 입력하여 이를 그려보겠습니다.\n",
    "\n",
    "plt.bar(labels,ratio)\n",
    "Copy\n",
    "Tips\n",
    "plt.show() 함수는 만든 그래프를 보여주는 역할입니다.\n",
    "\n",
    "아래 코드는 엘리스 플랫폼에서 그림 파일을 출력하기 위한 코드입니다!\n",
    "\n",
    "fig.savefig(\"bar_plot.png\")\n",
    "elice_utils.send_image(\"bar_plot.png\")"
   ]
  },
  {
   "cell_type": "code",
   "execution_count": null,
   "id": "203fbbc9",
   "metadata": {},
   "outputs": [],
   "source": [
    "import matplotlib.pyplot as plt\n",
    "\n",
    "# 술자리 참석 상대도수 데이터 \n",
    "labels = ['A', 'B', 'C', 'D', 'E']\n",
    "ratio = [33,25,17,17,8]\n",
    "    \n",
    "#막대 그래프\n",
    "fig, ax = plt.subplots()\n",
    "\n",
    "## Q1. 막대 그래프를 만드는 코드를 작성해 주세요\n",
    "plt.bar(labels, ratio)\n",
    "\n",
    "\n",
    "##\n",
    "plt.show()"
   ]
  },
  {
   "cell_type": "markdown",
   "id": "0178124c",
   "metadata": {},
   "source": []
  },
  {
   "cell_type": "markdown",
   "id": "a07b0b7d",
   "metadata": {},
   "source": [
    "[이론]수치형 자료의 요약"
   ]
  },
  {
   "cell_type": "markdown",
   "id": "ce402d5d",
   "metadata": {},
   "source": [
    "이산형 자료 요약\n",
    "\n",
    "관측된 수치 자료가 셀 수 있는 경우 -> 이산형 자료 요약\n",
    "-\n",
    "                많음 : 범주형 자료 요약 기법\n",
    "관측값의 종류 수 \n",
    "                적음 : 연속형 자료 요약 기법"
   ]
  },
  {
   "cell_type": "markdown",
   "id": "1a1ff60e",
   "metadata": {},
   "source": [
    "연속형 자료 요약\n",
    "\n",
    "수치 자료가 연속적으로 관측 -> 연속형 자료 요약\n",
    "-\n",
    "                많음 : 연속형 자료 요약 기법\n",
    "관측값의 종류 수 \n",
    "                적음 : 점도표, 도수분포표, 히스토그램,\n",
    "                      상대도수다각형, 줄기-잎 그림"
   ]
  },
  {
   "cell_type": "markdown",
   "id": "b44e3f4b",
   "metadata": {},
   "source": [
    "점도표(dot diagram)_(연준 : 금리전망 -> 17명)\n",
    "\n",
    "관측값의 개수가 상대적으로 적은 경우(20또는25이하)사용\n",
    "    - 자료 전체의 개요를 파악 가능\n",
    "    - 모든 자료를 나타낼 수 있도록 \n",
    "      줄 위에 각 관측값에 해당하는 점을 찍어 표시\n",
    "      \n",
    "연속형 자료의 경우 중복된 정보를 판단하기 어려움\n",
    "→ 자료를 크기에 따라 묶어서 분석하는 것이 효율적"
   ]
  },
  {
   "cell_type": "markdown",
   "id": "ce3dda3e",
   "metadata": {},
   "source": [
    "도수분포표(Frequency Table)\n",
    "\n",
    "- 각 관측값에 대한 도수를 측정하여 도수분포표 작성\n",
    "- 연속형 자료의 경우 다수의 구간(계급)으로 나누고\n",
    "  각 구간마다 관측값의 개수(도수)로 작성\n",
    "  \n",
    "  계급(Class)\n",
    "  위에서 나눈 구간\n",
    "  \n",
    "  계급구간\n",
    "  각 계급에 포함되는 값의 범위\n",
    "  \n",
    "  계급구간의 폭\n",
    "  계급구간의 크기"
   ]
  },
  {
   "cell_type": "markdown",
   "id": "2f22dc53",
   "metadata": {},
   "source": [
    "도수분포표 작성 순서\n",
    "\n",
    "1. 자료의 범위 : 자료에서 최댓값과 최솟값을 찾아 자료의 범위를 구함\n",
    "\n",
    "2. 계급의 폭 : 계급의 개수를 분포의 경향이 잘 드러날 수 있도록 정함\n",
    "\n",
    "3. 계급구간 : 모든 관측 값을 포함하도록 계급구간의 경계점을 구함\n",
    "\n",
    "4. 도수 : 각 계급구간에 속하는 관측값이 개수를 세어 계급의 도수를 더함\n",
    "\n",
    "5. 상대도수 : 각 계급의 도수를 전체 관측값의 개수로 나눠 \n",
    "            계급의 상대도수를 구함"
   ]
  },
  {
   "cell_type": "markdown",
   "id": "b6696901",
   "metadata": {},
   "source": []
  },
  {
   "cell_type": "markdown",
   "id": "05f78548",
   "metadata": {},
   "source": [
    "[이론]수치형 자료의 요약 : 그래프"
   ]
  },
  {
   "cell_type": "markdown",
   "id": "6ea7f247",
   "metadata": {},
   "source": [
    "히스토그램(Histogram)\n",
    "\n",
    "Y축 : 빈도\n",
    "X축 : 계급\n",
    "\n",
    "plt.hist()\n",
    "\n",
    "연속형 자료의 도수분포표를 기반으로 각 계급을 범주처럼 사용\n",
    "범주형 자료의 막대그래프와 같은 방식으로 그림\n",
    "\n",
    "도수 비교 -> 범주(막대그래프) 연속(히스토그램)"
   ]
  },
  {
   "cell_type": "markdown",
   "id": "303bb3ea",
   "metadata": {},
   "source": [
    "히스토그램의 특징\n",
    "\n",
    "- 자료의 분포를 알 수 있음\n",
    "- 계급구간과 막대의 높이로 그림\n",
    "- 모든 계급구간의 폭이 같으면\n",
    "  도수, 상대도수를 막대 높이로 사용"
   ]
  },
  {
   "cell_type": "markdown",
   "id": "555696bf",
   "metadata": {},
   "source": [
    "도수다각형(히스토그램의 변형)\n",
    "\n",
    "Y축 : 빈도\n",
    "X축 : 구간"
   ]
  },
  {
   "cell_type": "markdown",
   "id": "db95bef0",
   "metadata": {},
   "source": [
    "도수다각형의 특징\n",
    "\n",
    "- 각 계급구간의 주앙에 점을 찍어 직선으로 연결함\n",
    "- 관측값의 집중된 위치, 정도, 치우친 정도, 꼬리의 두터움 등\n",
    "  분포의 상태를 쉽게 파악\n",
    "- 관측값의 변화에 따라 도수 또는 상대도수의 변화를 잘 나타냄"
   ]
  },
  {
   "cell_type": "markdown",
   "id": "e16b54be",
   "metadata": {},
   "source": [
    "도수다각형과 히스토그램\n",
    "-\n",
    "        히스토그램                      도수다각형\n",
    "옆으로 나열하여 자료 비교         꺽은선으로 표시하여 자료 비교\n",
    "                        ↓\n",
    "             여러 자료를 비교하기 위해서는 \n",
    "           히스토그램보다 도수다각형이 알맞음"
   ]
  },
  {
   "cell_type": "markdown",
   "id": "6c4ce7b6",
   "metadata": {},
   "source": [
    "줄기-잎 그림(stem leaf)\n",
    "\n",
    "Y축 : 잎\n",
    "X축 : 줄기"
   ]
  },
  {
   "cell_type": "markdown",
   "id": "309241aa",
   "metadata": {},
   "source": [
    "줄기-잎 그림 자료 정리 방법\n",
    "\n",
    "예) 관측값의 자릿수가 최대 2자리 일때\n",
    "\n",
    "관측값 35 -> 앞 단위: 3 + 뒷 단위 : 5\n",
    "\n",
    "1. 관측값을 보고 앞 단위와 뒷 단위를 정함\n",
    "2. 앞 단위를 줄기로 하여 세로로 배열하고 수직선을 그림\n",
    "3. 뒷 단위를 잎으로 하여 관측값을 앞 단위 오른쪽에 오름차순 기입"
   ]
  },
  {
   "cell_type": "markdown",
   "id": "10af3ae5",
   "metadata": {},
   "source": [
    "줄기-잎 그림 함수\n",
    "\n",
    "plt.stem(줄기, 관측 값)\n",
    "\n",
    "자료의 분포를 시각적으로 쉽게 파악     각 관측값도 유지 가능\n",
    "\n",
    "함수 사용 시에 줄기 값을 따로 지정해줘야 함\n",
    ": 줄기를 데이터마다 다르게 설정할 수 있기 때문"
   ]
  },
  {
   "cell_type": "markdown",
   "id": "fd2561be",
   "metadata": {},
   "source": [
    "줄기-잎 그림 장단점\n",
    "\n",
    "장점 : \n",
    "    - 관측값을 보여주므로 최댓값, 최솟값 등의 위치 파악 쉬움\n",
    "    - 순서대로 배열된 관측값의 장점과 히스토그램의 장점을 모두 가지고 있음\n",
    "    - 그리기 쉬움\n",
    "    \n",
    "단점 : \n",
    "    - 관측값의 개수가 많은 경우 제한된 공간에 그리기 불가능\n",
    "    - 관측값이 지나치게 흩어져 있으면 부적절"
   ]
  },
  {
   "cell_type": "markdown",
   "id": "a1d9e94e",
   "metadata": {},
   "source": []
  },
  {
   "cell_type": "markdown",
   "id": "14666a83",
   "metadata": {},
   "source": [
    "수치형 자료의 요약 : 히스토그램\n",
    "이번에는 실습1의 데이터에 추가로 이산형 자료인 주량 데이터 drink_cup 을\n",
    "추가하겠습니다.\n",
    "\n",
    "아래의 지시사항을 따라 히스토그램을 그리는 코드를 추가하고, \n",
    "실행 버튼을 눌러 데이터가 어떻게 출력되는지 확인해보세요!\n",
    "\n",
    "\n",
    "문제\n",
    "히스토그램\n",
    "주량데이터의 cup을 가지고 히스토그램을 그려보겠습니다.\n",
    "\n",
    "코드 입력창에 히스토그램을 그리는 코드를 입력해주세요.\n",
    "\n",
    "plt.hist(drink_cup['cup'])"
   ]
  },
  {
   "cell_type": "code",
   "execution_count": 7,
   "id": "4e8c02a8",
   "metadata": {},
   "outputs": [
    {
     "name": "stdout",
     "output_type": "stream",
     "text": [
      "    cup who  stems\n",
      "0    22   A      2\n",
      "1     7   E      0\n",
      "2    19   D      1\n",
      "3     3   B      0\n",
      "4    10   C      1\n",
      "5     8   A      0\n",
      "6    19   A      1\n",
      "7     7   A      0\n",
      "8    15   D      1\n",
      "9     9   B      0\n",
      "10   35   C      3\n",
      "11    5   B      0\n"
     ]
    },
    {
     "data": {
      "image/png": "[encoded data removed]",
      "text/plain": [
       "<Figure size 432x288 with 1 Axes>"
      ]
     },
     "metadata": {
      "needs_background": "light"
     },
     "output_type": "display_data"
    }
   ],
   "source": [
    "import numpy as np\n",
    "import pandas as pd\n",
    "import matplotlib.pyplot as plt\n",
    "\n",
    "# 주량 데이터\n",
    "drink_cup = pd.DataFrame({'cup' :[22,7,19,3,10,8,19,7,15,9,35,5],'who' : [ 'A', 'E', 'D', 'B', 'C','A','A','A','D','B', 'C','B'], 'stems' : [2,0,1,0,1,0,1,0,1,0,3,0]})\n",
    "\n",
    "print(drink_cup)\n",
    "\n",
    "fig, ax = plt.subplots()\n",
    "## 히스토그램을 그리는 코드를 작성해 주세요\n",
    "plt.hist(drink_cup['cup'])\n",
    "\n",
    "##\n",
    "plt.show()"
   ]
  },
  {
   "cell_type": "markdown",
   "id": "c4f91233",
   "metadata": {},
   "source": [
    "수치형 자료의 요약 : 줄기-잎 그림\n",
    "이번에는 실습1의 데이터에 추가로 이산형 자료인 주량 데이터 drink_cup 을 추가하겠습니다.\n",
    "\n",
    "아래의 지시사항을 따라 줄기-잎 그림을 그리는 코드를 추가하고, 실행 버튼을 눌러 데이터가 어떻게 출력되는지 확인해보세요!\n",
    "\n",
    "\n",
    "문제\n",
    "줄기-잎 그림\n",
    "주량데이터의 cup을 가지고 줄기-잎 그림을 그려보겠습니다.\n",
    "\n",
    "코드 입력창에 줄기-잎 그림을 그리는 코드를 입력해주세요.\n",
    "\n",
    "plt.stem(drink_cup['stems'], drink_cup['cup'])\n",
    "Copy\n",
    "히스토그램과 마찬가지로 어느 구간에 주량이 모여있는지에 대한 분포를 한 눈에 볼 수 있습니다!"
   ]
  },
  {
   "cell_type": "code",
   "execution_count": 8,
   "id": "93c044be",
   "metadata": {},
   "outputs": [
    {
     "name": "stdout",
     "output_type": "stream",
     "text": [
      "    cup who  stems\n",
      "0    22   A      2\n",
      "1     7   E      0\n",
      "2    19   D      1\n",
      "3     3   B      0\n",
      "4    10   C      1\n",
      "5     8   A      0\n",
      "6    19   A      1\n",
      "7     7   A      0\n",
      "8    15   D      1\n",
      "9     9   B      0\n",
      "10   35   C      3\n",
      "11    5   B      0\n"
     ]
    },
    {
     "data": {
      "image/png": "[encoded data removed]",
      "text/plain": [
       "<Figure size 432x288 with 1 Axes>"
      ]
     },
     "metadata": {
      "needs_background": "light"
     },
     "output_type": "display_data"
    }
   ],
   "source": [
    "import numpy as np\n",
    "import pandas as pd\n",
    "import matplotlib.pyplot as plt\n",
    "\n",
    "# 주량 데이터\n",
    "drink_cup = pd.DataFrame({'cup' :[22,7,19,3,10,8,19,7,15,9,35,5],'who' : [ 'A', 'E', 'D', 'B', 'C','A','A','A','D','B', 'C','B'], 'stems' : [2,0,1,0,1,0,1,0,1,0,3,0]})\n",
    "\n",
    "print(drink_cup)\n",
    "\n",
    "fig, ax = plt.subplots()\n",
    "## 줄기-잎 그림을 그리는 코드를 작성해 주세요\n",
    "#ax.stem(drink_cup['stems'], drink_cup['cup'])\n",
    "plt.stem(drink_cup['stems'], drink_cup['cup'])\n",
    "\n",
    "##\n",
    "plt.show()\n"
   ]
  }
 ],
 "metadata": {
  "kernelspec": {
   "display_name": "Python 3",
   "language": "python",
   "name": "python3"
  },
  "language_info": {
   "codemirror_mode": {
    "name": "ipython",
    "version": 3
   },
   "file_extension": ".py",
   "mimetype": "text/x-python",
   "name": "python",
   "nbconvert_exporter": "python",
   "pygments_lexer": "ipython3",
   "version": "3.8.8"
  }
 },
 "nbformat": 4,
 "nbformat_minor": 5
}
