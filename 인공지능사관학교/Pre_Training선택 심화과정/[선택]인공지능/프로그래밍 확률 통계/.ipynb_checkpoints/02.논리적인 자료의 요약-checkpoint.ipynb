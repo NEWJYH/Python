{
 "cells": [
  {
   "cell_type": "markdown",
   "id": "9ec2902b",
   "metadata": {},
   "source": [
    "목차\n",
    "\n",
    "1. 중심위치의 측도\n",
    "\n",
    "2. 퍼진 정도의 측도\n",
    "\n",
    "3. 상자그림\n",
    "\n",
    "4.두 변수 자료의 요약"
   ]
  },
  {
   "cell_type": "markdown",
   "id": "d8629b69",
   "metadata": {},
   "source": []
  },
  {
   "cell_type": "markdown",
   "id": "a956dd55",
   "metadata": {},
   "source": [
    "1. 중심위치의 측도"
   ]
  },
  {
   "cell_type": "markdown",
   "id": "80cd893d",
   "metadata": {},
   "source": [
    "수치를 통한 연속형 자료 요약\n",
    "\n",
    "그림이나 도표에 의한 분석의 단점\n",
    "- 작성자의 주관적 판단에 따라 달라지므로 \n",
    "   일관성 및 객관성이 부족\n",
    "- 시각적 자료로는 이론적 근거 제시가 쉽지 않음\n",
    "                    ↓\n",
    "   많은 양의 자료를 의미 있는 수치로 요약하여\n",
    "대략적인 분포상태를 파악 가능하므로 단점 보완 가능     "
   ]
  },
  {
   "cell_type": "markdown",
   "id": "fbde34c2",
   "metadata": {},
   "source": [
    "수치를 통한 연속형 자료 요약\n",
    "\n",
    "1) 중심위치의 측도(measure of center) V\n",
    "    - 자료의 중심위치를 나타냄\n",
    "\n",
    "2) 퍼진 정도의 측도(measure of dispersion) V\n",
    "    - 자료가 각 중심위치로부터 얼마나 흩어 있는지 나타냄\n",
    "\n",
    "3) 도수분포표에서의 자료의 요약\n",
    "    - 자료가 이미 그룹화된 경우의 수치 요약 방법\n",
    "\n",
    "4) 상자 그림\n",
    "    - 사분위수, 최솟값, 최대값 등을 이용한 요약 방법"
   ]
  },
  {
   "cell_type": "markdown",
   "id": "ad24bd23",
   "metadata": {},
   "source": [
    "중심위치의 측도\n",
    "\n",
    "중심 위치값 결정 \n",
    "     ↓\n",
    "중심위치의 측도(measure of center)\n",
    "\n",
    "-> 평균(mean)  V\n",
    "-> 중앙값(median)   V\n",
    "-> 최빈값(mode)"
   ]
  },
  {
   "cell_type": "markdown",
   "id": "b0c0703f",
   "metadata": {},
   "source": []
  },
  {
   "cell_type": "markdown",
   "id": "c12fbc20",
   "metadata": {},
   "source": [
    "[이론]평균, 중앙값, 최빈값의 정의"
   ]
  },
  {
   "cell_type": "markdown",
   "id": "7b2d8bae",
   "metadata": {},
   "source": [
    "평균(Mean)\n",
    "\n",
    "np.mean()\n",
    "\n",
    "- 중심위치의 측도 중에서 가장 많이 사용되는 방법\n",
    "- 모든 관측값의 합을 자료의 개수로 나눈 것\n",
    "- 관측값들의 무게 중심\n",
    "                        _\n",
    "자료x1,x2,....xn의 평균을 x 로 표기\n",
    "\n",
    "_    모든 관측 값의 합계      x1 + x2 ... + xn\n",
    "x = ------------------- = -------------------\n",
    "      총 자료의 개수               n"
   ]
  },
  {
   "cell_type": "markdown",
   "id": "a51d66d9",
   "metadata": {},
   "source": [
    "평균의 특징\n",
    "\n",
    "- 관측값이 산술평균으로 사용\n",
    "- 통계에서 기초적인 통계 수치로 가장 많이 사용\n",
    "- 극단적으로 큰 값이나 작은 값의 영향을 많이 받음"
   ]
  },
  {
   "cell_type": "markdown",
   "id": "afd542ba",
   "metadata": {},
   "source": [
    "중앙값(Median)\n",
    " \n",
    "np.median()\n",
    "\n",
    "- 전체 관측값을 정렬했을 때 가운데에 위치하는 값\n",
    "- 자료의 개수(n)가 홀수인 경우\n",
    "        ( n + 1)\n",
    "       ---------- 번째 관측값\n",
    "           2\n",
    "- 자료의 개수(n)가 짝수인 경우\n",
    "  n/2번째 관측값과 n/2 + 1 번째 관측값의 평균\n",
    "  \n",
    "  ~\n",
    "  x <- 중앙값"
   ]
  },
  {
   "cell_type": "markdown",
   "id": "56316e46",
   "metadata": {},
   "source": [
    "중앙값의 특징\n",
    "\n",
    "- 관측값을 크기 순서대로 배열할 떄 중앙에 위치\n",
    "\n",
    "- 가운데에 위치한 값 이외의 값의 크기는 중요하지 않음\n",
    "\n",
    "- 관측값의 변화에 민감하지 않고,\n",
    "  극단 값의 영향을 받지 않음"
   ]
  },
  {
   "cell_type": "markdown",
   "id": "a22babf9",
   "metadata": {},
   "source": [
    "최빈값(Mode)\n",
    "\n",
    "stats.mode() - scipy모듈\n",
    "\n",
    "- 관측값 중 가장 자주 나오는 값\n",
    "\n",
    "- 이산형/범주형 자료에서 많이 사용"
   ]
  },
  {
   "cell_type": "markdown",
   "id": "ae5b0d22",
   "metadata": {},
   "source": [
    "최빈값의 특징\n",
    "\n",
    "- 연속형 자료에서 같은 값이 나오는 경우는\n",
    "  흔치 않으므로 최빈값을 사용하기 부적절\n",
    "  \n",
    "- 단봉형 분포를 갖는 자료에서만 유용\n",
    "  (이산형에서 사용할수는 있음)  "
   ]
  },
  {
   "cell_type": "markdown",
   "id": "d606a096",
   "metadata": {},
   "source": []
  },
  {
   "cell_type": "markdown",
   "id": "853406c1",
   "metadata": {},
   "source": [
    "중심위치의 측도 : 평균\n",
    "연속형 자료의 요약 중 중심위치의 측도를 나타내주는 요약통계량인 평균을 계산해보겠습니다.\n",
    "\n",
    "피곤할 때 많이 찾게되는 커피, 커피 전문점 마다 같은 Tall 사이즈라도 카페인 함량(mg/cup)이 다르다는 것, 알고 계셨나요?\n",
    "\n",
    "카페\t카페인 함량\t카페\t카페인 함량\n",
    "커피빈\t202\t빽다방\t177\n",
    "스타벅스\t121\t할리스\t148\n",
    "이디야\t89\t동네카페\t121\n",
    "투썸플레이스\t137\t엔제리너스\t158\n",
    "\n",
    "문제\n",
    "평균(Mean)\n",
    "과연 커피 한 잔 당 평균적으로 얼마나 카페인이 들어있을까요?\n",
    "산술평균을 계산해서 cf_mean 에 저장해서 확인해보아요!\n",
    "\n",
    "cf_mean = np.mean(coffee)"
   ]
  },
  {
   "cell_type": "code",
   "execution_count": null,
   "id": "f06441eb",
   "metadata": {},
   "outputs": [],
   "source": [
    "import numpy as np\n",
    "from scipy import stats\n",
    "\n",
    "coffee = np.array([202,177,121,148,89,121,137,158])\n",
    "\n",
    "#평균계산\n",
    "cf_mean = np.mean(coffee)\n",
    "print(\"Mean :\", round(cf_mean,2))\n"
   ]
  },
  {
   "cell_type": "markdown",
   "id": "780dce6b",
   "metadata": {},
   "source": [
    "중심위치의 측도 : 중앙값\n",
    "연속형 자료의 요약 중 중심위치의 측도를 나타내주는 요약통계량인 중앙값을 계산해보겠습니다.\n",
    "\n",
    "피곤할 때 많이 찾게되는 커피, 커피 전문점 마다 같은 Tall 사이즈라도 카페인 함량(mg/cup)이 다르다는 것, 알고 계셨나요?\n",
    "\n",
    "카페\t카페인 함량\t카페\t카페인 함량\n",
    "커피빈\t202\t빽다방\t177\n",
    "스타벅스\t121\t할리스\t148\n",
    "이디야\t89\t동네카페\t121\n",
    "투썸플레이스\t137\t엔제리너스\t158\n",
    "\n",
    "문제\n",
    "중앙값(Median)\n",
    "카페인 함량이 딱 중간에 위치한 커피의 카페인 함량은 얼마일까요? 중앙값을 계산하여 cf_median 에 저장해 확인해보겠습니다.\n",
    "\n",
    "cf_median = np.median(coffee)"
   ]
  },
  {
   "cell_type": "code",
   "execution_count": 5,
   "id": "17a332e0",
   "metadata": {},
   "outputs": [
    {
     "name": "stdout",
     "output_type": "stream",
     "text": [
      "Median : 142.5\n"
     ]
    }
   ],
   "source": [
    "import numpy as np\n",
    "from scipy import stats\n",
    "\n",
    "coffee = np.array([202,177,121,148,89,121,137,158])\n",
    "\n",
    "#중앙값 계산\n",
    "cf_median =  np.median(coffee)\n",
    "print(\"Median :\", round(cf_median,2))\n"
   ]
  },
  {
   "cell_type": "markdown",
   "id": "2d8e9d68",
   "metadata": {},
   "source": [
    "중심위치의 측도 : 최빈값\n",
    "연속형 자료의 요약 중 중심위치의 측도를 나타내주는 요약통계량인 최빈값을 계산해보겠습니다.\n",
    "\n",
    "피곤할 때 많이 찾게되는 커피, 커피 전문점 마다 같은 Tall 사이즈라도 카페인 함량(mg/cup)이 다르다는 것, 알고 계셨나요?\n",
    "\n",
    "카페\t카페인 함량\t카페\t카페인 함량\n",
    "커피빈\t202\t빽다방\t177\n",
    "스타벅스\t121\t할리스\t148\n",
    "이디야\t89\t동네카페\t121\n",
    "투썸플레이스\t137\t엔제리너스\t158\n",
    "\n",
    "문제\n",
    "최빈값(Mode)\n",
    "그럼 카페에서 가장 많이 사용하는 카페인 함량은 어느정도인지 알아볼까요? 최빈값을 계산하여 cf_mode 에 저장해 확인해보겠습니다.\n",
    "\n",
    "cf_mode = stats.mode(coffee)\n",
    "Copy\n",
    "+최빈값은 출력할 때 [0][0] 을 추가해주어야 결과값이 나옵니다.\n",
    "\n",
    "cf_mode[x][y]에서 cf_mode[x]에는 ‘데이터’가 들어 있고, cf_mode[y]에는 ‘데이터의 빈도 수’가 들어 있습니다.\n",
    "\n",
    "print(\"Mode :\", cf_mode[0][0])"
   ]
  },
  {
   "cell_type": "code",
   "execution_count": 7,
   "id": "0c6009ff",
   "metadata": {},
   "outputs": [
    {
     "name": "stdout",
     "output_type": "stream",
     "text": [
      "Mode : 121\n",
      "Mode : 몇번 나왔는지? 2\n"
     ]
    }
   ],
   "source": [
    "import numpy as np\n",
    "from scipy import stats\n",
    "\n",
    "coffee = np.array([202,177,121,148,89,121,137,158])\n",
    "\n",
    "#최빈값 계산\n",
    "cf_mode =  stats.mode(coffee)\n",
    "print(\"Mode :\", cf_mode[0][0])\n",
    "print(\"Mode : 몇번 나왔는지?\", cf_mode[1][0])\n"
   ]
  },
  {
   "cell_type": "markdown",
   "id": "372a01cc",
   "metadata": {},
   "source": []
  },
  {
   "cell_type": "markdown",
   "id": "8813636f",
   "metadata": {},
   "source": [
    "[이론]평균, 중앙값, 최빈값의 비교"
   ]
  },
  {
   "cell_type": "markdown",
   "id": "a48c917c",
   "metadata": {},
   "source": [
    "평균, 중앙값, 최빈값의 비교\n",
    "\n",
    "실제 사용 반도\n",
    "    - 평균 > 중앙값 > 최빈값\n",
    "    \n",
    "평균\n",
    "    - 이해하기 쉽고 통계적으로 가장 많이 사용\n",
    "    - 관측값이 골고루 반영\n",
    "    - 극단값으로 인한 영향을 많이 받음\n",
    "    \n",
    "중앙값\n",
    "    - 중앙 부분 외 관측값의 변화에 민감하지 않음\n",
    "    - 극단값으로 인한 영향을 받지 않음\n",
    "    \n",
    "극단값이 있는 경우\n",
    "    - 극단값의 영향을 배제하고 싶으면 중앙값을 사용\n",
    "    - 전체 관측값을 모두 포함하고 싶으면 평균 사용"
   ]
  },
  {
   "cell_type": "markdown",
   "id": "552c2361",
   "metadata": {},
   "source": [
    "단봉형 대칭\n",
    "\n",
    "평균 = 중앙값 = 최빈값"
   ]
  },
  {
   "cell_type": "markdown",
   "id": "b498fcd6",
   "metadata": {},
   "source": [
    "이봉형 대칭\n",
    "\n",
    "평균 = 중앙값 != 최빈값\n",
    "\n",
    "※다봉형 분포에서 최비낪은 중심위치의 측도로 부적합"
   ]
  },
  {
   "cell_type": "markdown",
   "id": "dc21d2f7",
   "metadata": {},
   "source": [
    "비대칭 분포\n",
    "\n",
    "평균 != 중앙값 != 최빈값"
   ]
  },
  {
   "cell_type": "markdown",
   "id": "3b501f5c",
   "metadata": {},
   "source": [
    "비대칭 분포에서 평균과 중앙값\n",
    "\n",
    "-                비대칭 분포\n",
    "                (치우친 분포)\n",
    "                    ↙ ↘\n",
    "   왼쪽으로 치우친 분포    오른쪽으로 치우친 분포\n",
    "     평균 > 중앙값           평균 < 중앙값"
   ]
  },
  {
   "cell_type": "markdown",
   "id": "1bc6164e",
   "metadata": {},
   "source": []
  },
  {
   "cell_type": "markdown",
   "id": "5c7fbd20",
   "metadata": {},
   "source": [
    "[이론]퍼진 정도의 측도"
   ]
  },
  {
   "cell_type": "markdown",
   "id": "543c3944",
   "metadata": {},
   "source": [
    "중심위치(대표값) 평균 중앙"
   ]
  },
  {
   "cell_type": "markdown",
   "id": "60bcee01",
   "metadata": {},
   "source": [
    "퍼진 정도의 측도\n",
    "   V\n",
    "중심위치만으로 분포를 파악하기에 부족\n",
    "                ↓        V\n",
    "중심위치 측도 외에 분포가 퍼진 정도를 측도할 수치가 필요\n",
    "                ↓\n",
    "분산, 표준편차, 범위, 사분위수 등을 \n",
    "퍼진 정도의 측도로 사용"
   ]
  },
  {
   "attachments": {
    "%ED%8D%BC%EC%A7%84%EC%A0%95%EB%8F%84.png": {
     "image/png": "[encoded data removed]"
    }
   },
   "cell_type": "markdown",
   "id": "14c9f8b7",
   "metadata": {},
   "source": [
    "퍼진 정도의 측도\n",
    "\n",
    "![%ED%8D%BC%EC%A7%84%EC%A0%95%EB%8F%84.png](attachment:%ED%8D%BC%EC%A7%84%EC%A0%95%EB%8F%84.png)"
   ]
  },
  {
   "cell_type": "markdown",
   "id": "ffa64813",
   "metadata": {},
   "source": []
  },
  {
   "cell_type": "markdown",
   "id": "1374730c",
   "metadata": {},
   "source": [
    "[이론]분산과 표준편차"
   ]
  },
  {
   "cell_type": "markdown",
   "id": "d1ad15d3",
   "metadata": {},
   "source": [
    "분산\n",
    "\n",
    "variance()\n",
    "\n",
    "- 자료가 얼마나 흩어졌는지 숫자로 표현\n",
    "- 각 관측값이 자료의 평균으로부터 떨어진 정도"
   ]
  },
  {
   "cell_type": "markdown",
   "id": "cc97a066",
   "metadata": {},
   "source": [
    "분산\n",
    "\n",
    "분산이 작다 => 좁은 범위\n",
    "\n",
    "분산이 크다 => 넓은 범위"
   ]
  },
  {
   "cell_type": "markdown",
   "id": "f46bced3",
   "metadata": {},
   "source": [
    "분산\n",
    "                                 _\n",
    "관측값이 x1,x2,x3,...,xn이고 평균이 x 일 때,\n",
    "                                           _ \n",
    "- 관측값에 대한 편차 = (관측값 - 평균) = (xi - x)\n",
    "\n",
    "편차의 합은 항상 0\n",
    "    n       _\n",
    "    ∑ (xi - x) = 0\n",
    "   i=1\n",
    "- 그렇지만 편차들의 합은 항상 0이므로 \n",
    "  평균도 항상 0이 되어 편차의 평균은 퍼진 정도의 측도로\n",
    "  적합하지 않음\n",
    " "
   ]
  },
  {
   "cell_type": "markdown",
   "id": "82478c14",
   "metadata": {},
   "source": [
    "분산\n",
    "\n",
    "음의 편차를 제곱하여 양수로 바꿀 수 있다.\n",
    "\n",
    "음의 편차^2 => 양수"
   ]
  },
  {
   "cell_type": "markdown",
   "id": "b4cf992d",
   "metadata": {},
   "source": [
    "분산\n",
    "\n",
    "편차의 제곱의 평균으로 퍼진 정도를 측정할 수 있다.\n",
    "\n",
    "(편차의 제곱합 / n) => 퍼진 정도를 측정\n",
    "    \n",
    "분산, s^2로 표기\n",
    "                               _\n",
    "관측값이 x1,x2,....,xn이고 평균이 x일 때,\n",
    "                                   _\n",
    "분산 s^2 = (편차의 제곱합) / n = ∑(xi-x)^2 / n "
   ]
  },
  {
   "cell_type": "markdown",
   "id": "b0cbd1c1",
   "metadata": {},
   "source": [
    "표준편차\n",
    "\n",
    "stdev()\n",
    "\n",
    "분산의 단위 = 관측값의 단위의 제곱\n",
    "    관측값의 단위와 불일치\n",
    "분산의 양의 제곱근은 관측값과 단위가 일치\n",
    "\n",
    "분산의 양의 제곱근을 표준편차라고 하고 s로 표기\n",
    "\n",
    "s = +루트(s^2)"
   ]
  },
  {
   "cell_type": "markdown",
   "id": "c632211e",
   "metadata": {},
   "source": []
  },
  {
   "cell_type": "markdown",
   "id": "e6f36e3d",
   "metadata": {},
   "source": [
    "퍼진 정도의 측도 : 분산\n",
    "연속형 자료의 요약 중 퍼진정도의 측도를 나타내주는 요약통계량인 분산을 계산해보겠습니다.\n",
    "\n",
    "피곤할 때 많이 찾게되는 커피, 커피 전문점 마다 같은 Tall 사이즈라도 카페인 함량(mg/cup)이 다르다는 것, 알고 계셨나요?\n",
    "\n",
    "카페\t카페인 함량\t카페\t카페인 함량\n",
    "커빈피\t202\t빽방다\t177\n",
    "스벅타스\t121\t할스리\t148\n",
    "디야이\t89\t동네카페\t121\n",
    "투썸플이레스\t137\t엔제너리스\t158\n",
    "\n",
    "문제\n",
    "분산(Variance)\n",
    "표본평균을 중심으로 관측값이 얼마나 퍼져있는지에 대한 정도인 분산으로 카페인의 퍼진 정도를 알아보아요!\n",
    "분산을 계산해서 cf_var 에 저장해서 확인해보아요!\n",
    "\n",
    "cf_var = variance(coffee)"
   ]
  },
  {
   "cell_type": "code",
   "execution_count": null,
   "id": "0eee21aa",
   "metadata": {},
   "outputs": [],
   "source": [
    "from statistics import variance, stdev\n",
    "import numpy as np\n",
    "\n",
    "coffee = np.array([202,177,121,148,89,121,137,158])\n",
    "\n",
    "#분산 계산\n",
    "cf_var = variance(coffee)\n",
    "\n",
    "# cf_var2 = sum((coffee - coffee.mean()) ** 2) / (len(coffee)-1)\n",
    "\n",
    "# print(cf_var2)\n",
    "\n",
    "print(\"Simple Variance :\", round(cf_var,2))\n"
   ]
  },
  {
   "cell_type": "markdown",
   "id": "ffe10a22",
   "metadata": {},
   "source": [
    "퍼진 정도의 측도 : 표준편차\n",
    "연속형 자료의 요약 중 퍼진정도의 측도를 나타내주는 요약통계량인 표준편차를 계산해보겠습니다.\n",
    "\n",
    "피곤할 때 많이 찾게되는 커피, 커피 전문점 마다 같은 Tall 사이즈라도 카페인 함량(mg/cup)이 다르다는 것, 알고 계셨나요?\n",
    "\n",
    "카페\t카페인 함량\t카페\t카페인 함량\n",
    "커빈피\t202\t빽방다\t177\n",
    "스벅타스\t121\t할스리\t148\n",
    "디야이\t89\t동네카페\t121\n",
    "투썸플이레스\t137\t엔제너리스\t158\n",
    "\n",
    "문제\n",
    "표준편차(Standard Deviation)\n",
    "그럼 표준화한 퍼진 정도는 어떻게 될까요? 표준편차를 계산하여 cf_std 에 저장해 확인해보겠습니다.\n",
    "\n",
    "cf_std = stdev(coffee)"
   ]
  },
  {
   "cell_type": "code",
   "execution_count": null,
   "id": "7b961540",
   "metadata": {},
   "outputs": [],
   "source": [
    "from statistics import variance, stdev\n",
    "import numpy as np\n",
    "\n",
    "coffee = np.array([202,177,121,148,89,121,137,158])\n",
    "\n",
    "#표준편차 계산\n",
    "cf_std = stdev(coffee)\n",
    "# cf_std2 = (sum((coffee - coffee.mean())**2) / (len(coffee) - 1))**0.5\n",
    "# print(cf_std2)\n",
    "# 분산 sum((coffee - coffee.mean())**2) / (len(coffee) - 1)\n",
    "\n",
    "print(\"Sample std.Dev : \", round(cf_std,2))\n"
   ]
  },
  {
   "cell_type": "markdown",
   "id": "54babd8e",
   "metadata": {},
   "source": []
  },
  {
   "cell_type": "markdown",
   "id": "19acc17f",
   "metadata": {},
   "source": [
    "[이론]범위와 백분위수"
   ]
  },
  {
   "cell_type": "markdown",
   "id": "8774d29c",
   "metadata": {},
   "source": [
    "범위(Range)\n",
    "\n",
    "np.max() - np.min()\n",
    "\n",
    "관측값에서 가장 큰 값과 가장 작은 값의 차이\n",
    "\n",
    "장점\n",
    "    - 간편하게 구할 수 있고 해석이 용이함\n",
    "    \n",
    "단점\n",
    "    - 중간에 위치한 값은 고려되지 않음\n",
    "    - 극단값의 영향이 클 수 있음"
   ]
  },
  {
   "cell_type": "markdown",
   "id": "f5e764e7",
   "metadata": {},
   "source": [
    "백분위수\n",
    "\n",
    "np.percentile()\n",
    "\n",
    "중앙값을 확장한 개념\n",
    "자료를 순서대로 정렬했을 때 백분율로 특정 위치의 값을 표현"
   ]
  },
  {
   "cell_type": "markdown",
   "id": "cfda79bd",
   "metadata": {},
   "source": [
    "백분위수\n",
    "\n",
    "제 100xp백분위수를 구하는 방법 \n",
    "    20백분위수 100xp = 20 -> p = 0.2\n",
    "\n",
    "- 1. 관측값을 오름차순으로 배열\n",
    "\n",
    "- 2. 관측값의 개수(n)에 p를 곱셈\n",
    "\n",
    "- 3-1. nxp가 정수인 경우\n",
    "    nxp번째로 작은 관측값과\n",
    "    nxp+1번쨰로 작은 관측값의 평균\n",
    "\n",
    "- 3-2. nxp가 정수가 아닌 경우\n",
    "    nxp에서 정수 부분에 1을 더한 값 m을 구한 후\n",
    "       m번째로 작은 관측값"
   ]
  },
  {
   "cell_type": "markdown",
   "id": "e01186b3",
   "metadata": {},
   "source": []
  },
  {
   "cell_type": "markdown",
   "id": "7a17086e",
   "metadata": {},
   "source": [
    "퍼진 정도의 측도 : 범위\n",
    "연속형 자료의 요약 중 퍼진정도의 측도를 나타내주는 요약통계량인 범위를 계산해보겠습니다.\n",
    "\n",
    "피곤할 때 많이 찾게되는 커피, 커피 전문점 마다 같은 Tall 사이즈라도 카페인 함량(mg/cup)이 다르다는 것, 알고 계셨나요?\n",
    "\n",
    "카페\t카페인 함량\t카페\t카페인 함량\n",
    "커빈피\t202\t빽방다\t177\n",
    "스벅타스\t121\t할스리\t148\n",
    "디야이\t89\t동네카페\t121\n",
    "투썸플이레스\t137\t엔제너리스\t158\n",
    "\n",
    "문제\n",
    "범위(Range)\n",
    "카페인 함량의 가장 큰 값과 작은 값의 차이를 알아볼까요? 범위를 계산하여 cf_range 에 저장해 확인해보겠습니다.\n",
    "\n",
    "cf_range = np.max(coffee, axis = 0) - np.min(coffee, axis = 0)"
   ]
  },
  {
   "cell_type": "code",
   "execution_count": null,
   "id": "5ee74ae6",
   "metadata": {},
   "outputs": [],
   "source": [
    "from statistics import variance, stdev\n",
    "import numpy as np\n",
    "\n",
    "coffee = np.array([202,177,121,148,89,121,137,158])\n",
    "\n",
    "#범위 계산\n",
    "cf_range =  np.max(coffee, axis = 0) - np.min(coffee, axis = 0)\n",
    "print(\"Range :\", cf_range)\n"
   ]
  },
  {
   "cell_type": "markdown",
   "id": "b78cd394",
   "metadata": {},
   "source": [
    "퍼진 정도의 측도 : 백분위수\n",
    "연속형 자료의 요약 중 퍼진정도의 측도를 나타내주는 요약통계량인 백분위수를 계산해보겠습니다.\n",
    "\n",
    "피곤할 때 많이 찾게되는 커피, 커피 전문점 마다 같은 Tall 사이즈라도 카페인 함량(mg/cup)이 다르다는 것, 알고 계셨나요?\n",
    "\n",
    "카페\t카페인 함량\t카페\t카페인 함량\n",
    "커빈피\t202\t빽방다\t177\n",
    "스벅타스\t121\t할스리\t148\n",
    "디야이\t89\t동네카페\t121\n",
    "투썸플이레스\t137\t엔제너리스\t158\n",
    "\n",
    "문제\n",
    "백분위수\n",
    "그럼 카페인 함량의 백분위수와 사분위수를 계산하여 20%, 80%의 백분위수를 알아볼까요?\n",
    "백분위수를 계산하여 cf_quant_20, cf_quant_80에 저장해 확인해보겠습니다.\n",
    "\n",
    "cf_quant_20 = np.percentile(coffee, 20)\n",
    "cf_quant_80 = np.percentile(coffee, 80)"
   ]
  },
  {
   "cell_type": "code",
   "execution_count": null,
   "id": "b45556a1",
   "metadata": {},
   "outputs": [],
   "source": [
    "from statistics import variance, stdev\n",
    "import numpy as np\n",
    "\n",
    "coffee = np.array([202,177,121,148,89,121,137,158])\n",
    "\n",
    "#백분위수\n",
    "cf_quant_20 = np.percentile(coffee, 20)\n",
    "cf_quant_80 = np.percentile(coffee, 80)\n",
    "print(\"20 Quantiles : \", cf_quant_20 )\n",
    "print(\"80 Quantiles : \", cf_quant_80 )\n"
   ]
  },
  {
   "cell_type": "markdown",
   "id": "9e1388ee",
   "metadata": {},
   "source": []
  },
  {
   "cell_type": "markdown",
   "id": "1b815624",
   "metadata": {},
   "source": [
    "[이론]사분위수"
   ]
  },
  {
   "cell_type": "markdown",
   "id": "93dcd827",
   "metadata": {},
   "source": [
    "사분위수\n",
    "\n",
    "np.percentile(25) \n",
    "np.percentile(50) \n",
    "np.percentile(75)\n",
    "\n",
    "백분위수의 일종으로 전체를 사등분하는 값\n",
    "제 1,2,3 분위수를 각각 Q1 Q2 Q3으로 표시\n",
    "- 제 1 사분위수 : Q1 = 제 25백분위수\n",
    "- 제 2 사분위수 : Q2 = 제 50백분위수\n",
    "- 제 3 사분위수 : Q3 = 제 75백분위수\n",
    "\n",
    "중앙값은 전체의 1/2에 위치하는 값이므로 \n",
    "제 2사분위수 및 제 50백분위수"
   ]
  },
  {
   "cell_type": "markdown",
   "id": "db358251",
   "metadata": {},
   "source": [
    "사분위수 범위\n",
    "\n",
    "제 3사분위수와 1사분위 사이의 거리\n",
    "\n",
    "사분위수 범위 IQR  \n",
    "IQR = 제 3사분위수 - 제 1사분위수 = Q3 - Q1\n",
    "\n",
    "범위\n",
    "전체 관측값이 퍼진 정도\n",
    "\n",
    "사분위수 범위\n",
    "관측값의 중간 50%에 대한 범위\n",
    "\n",
    "    |   IQR  |\n",
    "0  Q1   Q2   Q3  100\n",
    " -    -    -    -  공간기준"
   ]
  },
  {
   "cell_type": "markdown",
   "id": "84a802eb",
   "metadata": {},
   "source": []
  },
  {
   "cell_type": "markdown",
   "id": "532387e1",
   "metadata": {},
   "source": [
    "퍼진 정도의 측도 : 사분위수 범위\n",
    "연속형 자료의 요약 중 퍼진정도의 측도를 나타내주는 요약통계량인 사분위수 범위를 계산해보겠습니다.\n",
    "\n",
    "피곤할 때 많이 찾게되는 커피, 커피 전문점 마다 같은 Tall 사이즈라도 카페인 함량(mg/cup)이 다르다는 것, 알고 계셨나요?\n",
    "\n",
    "카페\t카페인 함량\t카페\t카페인 함량\n",
    "커빈피\t202\t빽방다\t177\n",
    "스벅타스\t121\t할스리\t148\n",
    "디야이\t89\t동네카페\t121\n",
    "투썸플이레스\t137\t엔제너리스\t158\n",
    "\n",
    "문제\n",
    "사분위수 범위\n",
    "25%, 75% 값인 1,3 사분위수를 계산하여 사분위수 범위인 IQR 을 계산해보겠습니다. 사분위수 범위를 계산하여 cf_IQR에 저장해 확인해보겠습니다.\n",
    "\n",
    "q75, q25 = np.percentile(coffee, [75, 25])"
   ]
  },
  {
   "cell_type": "code",
   "execution_count": null,
   "id": "478b8d76",
   "metadata": {},
   "outputs": [],
   "source": [
    "from statistics import variance, stdev\n",
    "import numpy as np\n",
    "\n",
    "coffee = np.array([202,177,121,148,89,121,137,158])\n",
    "\n",
    "#IQR \n",
    "q75, q25 = np.percentile(coffee, [75, 25])\n",
    "cf_IQR = q75-q25\n",
    "print(\"Inter quartile range:\",cf_IQR)\n"
   ]
  },
  {
   "cell_type": "markdown",
   "id": "c96323e6",
   "metadata": {},
   "source": []
  },
  {
   "cell_type": "markdown",
   "id": "03884367",
   "metadata": {},
   "source": [
    "[이론]퍼진 정도 측정법 비교"
   ]
  },
  {
   "cell_type": "markdown",
   "id": "2a25b73e",
   "metadata": {},
   "source": [
    "표준편차, 범위, 사분위수 범위의 비교\n",
    "\n",
    "평균의 특징 = 표준편차의 특징\n",
    "중앙값의 특징 = 사분위수 범위의 특징\n",
    "\n",
    "표준편차\n",
    "- 전체 관측값의 퍼진 정도를 골고루 반영\n",
    "- 단점 : 극단적인 관측값에 의해 영향을 받음\n",
    "\n",
    "사분위수 범위\n",
    "- 극단값의 영향없이 퍼진 정도로 확인가능\n",
    "- 단점 : 제1사분위수와 제 3사분위수 사이의 관측값에\n",
    "        대한 분포를 반영하지 않음\n",
    "        \n",
    "범위\n",
    "- 퍼진 정도를 나타냄\n",
    "- 단점 : 표준편차의 단점과 사분위수 범위의 단점을 \n",
    "        모두 가지고 있음 "
   ]
  },
  {
   "cell_type": "markdown",
   "id": "e64f3ad3",
   "metadata": {},
   "source": [
    "변동계수\n",
    "\n",
    "퍼진 정도를 상대적으로 나타내는 수치를 사용\n",
    "\n",
    "변동계수는 \n",
    "평균에 대한 상대적인 퍼진 정도를 백분율(%)로 나타냄\n",
    "    변동 계수 CV = 표준편차 / 평균 * 100\n",
    "    \n",
    "비교 대상의 단위가 다른 경우,\n",
    "단위가 없는 변동계수를 통해 퍼진 정도 비교 가능"
   ]
  },
  {
   "cell_type": "markdown",
   "id": "969e6e5b",
   "metadata": {},
   "source": []
  },
  {
   "cell_type": "markdown",
   "id": "2e391546",
   "metadata": {},
   "source": [
    "퍼진 정도의 측도 : 변동계수\n",
    "연속형 자료의 요약 중 퍼진정도의 측도를 나타내주는 요약통계량인 변동계수를 계산해보겠습니다.\n",
    "\n",
    "피곤할 때 많이 찾게되는 커피, 커피 전문점 마다 같은 Tall 사이즈라도 카페인 함량(mg/cup)이 다르다는 것, 알고 계셨나요?\n",
    "\n",
    "카페\t카페인 함량\t카페\t카페인 함량\n",
    "커빈피\t202\t빽방다\t177\n",
    "스벅타스\t121\t할스리\t148\n",
    "디야이\t89\t동네카페\t121\n",
    "투썸플이레스\t137\t엔제너리스\t158\n",
    "\n",
    "문제\n",
    "변동계수\n",
    "상대적으로 퍼진 정도를 나타내는 수치인 변동계수를 계산해보겠습니다. 여기서 단위는 모두 같지만, 다를 때도 사용 가능합니다.\n",
    "변동계수를 계산하여 cf_cv 에 저장해 확인해보겠습니다.\n",
    "\n",
    "cf_cv = stdev(coffee)/np.mean(coffee)"
   ]
  },
  {
   "cell_type": "code",
   "execution_count": null,
   "id": "07953005",
   "metadata": {},
   "outputs": [],
   "source": [
    "from statistics import variance, stdev\n",
    "import numpy as np\n",
    "\n",
    "coffee = np.array([202,177,121,148,89,121,137,158])\n",
    "\n",
    "#CV\n",
    "cf_cv = stdev(coffee)/np.mean(coffee)\n",
    "cf_cv = round(cf_cv,2)\n",
    "print(\"CV:\", cf_cv)\n"
   ]
  },
  {
   "cell_type": "markdown",
   "id": "4dcadd32",
   "metadata": {},
   "source": []
  },
  {
   "cell_type": "markdown",
   "id": "6a11c439",
   "metadata": {},
   "source": [
    "[이론]도수분포표"
   ]
  },
  {
   "cell_type": "markdown",
   "id": "fe46bbae",
   "metadata": {},
   "source": [
    "도수분포표\n",
    "\n",
    "자료가 도수분표표로 요약되고 원 자료는 주어지지 않을 경우\n",
    "                    ↓\n",
    "계급 구간의 모든 관측 값이\n",
    "계급의 중간값을 갖는다고 가정하여 평균과 분산을 계산\n",
    "                    ↓\n",
    "원 자료를 그룹화에 의해 정보가 상실되기 때문에\n",
    "가능하다면 원 자료를 이용"
   ]
  },
  {
   "attachments": {
    "%EB%8F%84%EC%88%98%EB%B6%84%ED%8F%AC%ED%91%9C%EC%9D%98%20%ED%8F%89%EA%B7%A0.png": {
     "image/png": "[encoded data removed]"
    }
   },
   "cell_type": "markdown",
   "id": "61c7fda3",
   "metadata": {},
   "source": [
    "도수분포표에서의 평균\n",
    "![%EB%8F%84%EC%88%98%EB%B6%84%ED%8F%AC%ED%91%9C%EC%9D%98%20%ED%8F%89%EA%B7%A0.png](attachment:%EB%8F%84%EC%88%98%EB%B6%84%ED%8F%AC%ED%91%9C%EC%9D%98%20%ED%8F%89%EA%B7%A0.png)"
   ]
  },
  {
   "attachments": {
    "%EB%8F%84%EC%88%98%EB%B6%84%ED%8F%AC%ED%91%9C%EC%9D%98%20%EB%B6%84%EC%82%B0%EA%B3%BC%20%ED%91%9C%EC%A4%80%ED%8E%B8%EC%B0%A8.png": {
     "image/png": "[encoded data removed]"
    }
   },
   "cell_type": "markdown",
   "id": "9aaf8004",
   "metadata": {},
   "source": [
    "도수분포표에서의 분산, 표준편차\n",
    "![%EB%8F%84%EC%88%98%EB%B6%84%ED%8F%AC%ED%91%9C%EC%9D%98%20%EB%B6%84%EC%82%B0%EA%B3%BC%20%ED%91%9C%EC%A4%80%ED%8E%B8%EC%B0%A8.png](attachment:%EB%8F%84%EC%88%98%EB%B6%84%ED%8F%AC%ED%91%9C%EC%9D%98%20%EB%B6%84%EC%82%B0%EA%B3%BC%20%ED%91%9C%EC%A4%80%ED%8E%B8%EC%B0%A8.png)"
   ]
  },
  {
   "cell_type": "markdown",
   "id": "575276e2",
   "metadata": {},
   "source": []
  },
  {
   "cell_type": "markdown",
   "id": "7e56146f",
   "metadata": {},
   "source": [
    "수치형 자료의 요약 : 도수분포표\n",
    "주량 데이터 drink_cup의 도수 분포표를 그려보도록 하겠습니다.\n",
    "\n",
    "1장에서는 참석 여부를 나타내는 범주형 자료의 도수 분포표를 그렸었는데요,\n",
    "\n",
    "이번에는 수치형 자료인 “주량”으로 도수 분포표를 그려보도록 하겠습니다.\n",
    "\n",
    "우선 print 문을 사용해서 데이터를 출력해 확인해보세요.\n",
    "\n",
    "\n",
    "1) 도수분포표\n",
    "연속형 자료로 도수분포표를 만드려면 우선 구간을 나눠야 합니다. 이 구간을 계급이라고도 부릅니다. 저희는 주량 데이터를 4그룹으로 나눠보겠습니다.\n",
    "\n",
    "factor_cup에 drink_cup 데이터의 cup으로 4개 범위를 쪼개어 저장해보겠습니다.\n",
    "factor_cup = pd.cut(drink_cup.cup, 4)\n",
    "Copy\n",
    "1)의 factor_cup 으로 그룹을 만들어 group_cup 에 저장해보겠습니다.\n",
    "group_cup = drink_cup['cup'].groupby(factor_cup)\n",
    "Copy\n",
    "이 그룹별로 도수를 계산해 count_cup 에 저장해 출력해보겠습니다.\n",
    "count_cup = group_cup.agg(['count'])"
   ]
  },
  {
   "cell_type": "code",
   "execution_count": 8,
   "id": "87e562f8",
   "metadata": {},
   "outputs": [
    {
     "name": "stdout",
     "output_type": "stream",
     "text": [
      "    cup who\n",
      "0    22   A\n",
      "1     7   E\n",
      "2    19   D\n",
      "3     3   B\n",
      "4    10   C\n",
      "5     8   A\n",
      "6    19   A\n",
      "7     7   A\n",
      "8    15   D\n",
      "9     9   B\n",
      "10   35   C\n",
      "11    5   B\n",
      "               count\n",
      "cup                 \n",
      "(2.968, 11.0]      7\n",
      "(11.0, 19.0]       3\n",
      "(19.0, 27.0]       1\n",
      "(27.0, 35.0]       1\n"
     ]
    }
   ],
   "source": [
    "import numpy as np\n",
    "import pandas as pd\n",
    "\n",
    "# 주량 데이터\n",
    "drink_cup = pd.DataFrame({'cup' :[22,7,19,3,10,8,19,7,15,9,35,5],'who' : [ 'A', 'E', 'D', 'B', 'C','A','A','A','D','B', 'C','B']})\n",
    "\n",
    "print(drink_cup)\n",
    "\n",
    "# 도수분포표\n",
    "\n",
    "factor_cup = pd.cut(drink_cup.cup, 4)\n",
    "group_cup = drink_cup['cup'].groupby(factor_cup)\n",
    "count_cup =  group_cup.agg(['count'])\n",
    "\n",
    "print(count_cup)\n",
    "#                count\n",
    "# cup                 \n",
    "# (2.968, 11.0]      7\n",
    "# (11.0, 19.0]       3\n",
    "# (19.0, 27.0]       1\n",
    "# (27.0, 35.0]       1\n",
    "# ( <- 초과\n",
    "# ] <- 이하"
   ]
  },
  {
   "cell_type": "markdown",
   "id": "a3d63ddf",
   "metadata": {},
   "source": []
  },
  {
   "cell_type": "markdown",
   "id": "a420e825",
   "metadata": {},
   "source": [
    "[이론]상자그림"
   ]
  },
  {
   "cell_type": "markdown",
   "id": "0b5ac968",
   "metadata": {},
   "source": [
    "상자 그림\n",
    "\n",
    "plt.boxplot()\n",
    "\n",
    "- 다섯 가지 요약 수치(최솟값, Q1,Q2,Q3, 최대값)을 \n",
    "  그림으로 표현\n",
    "- 일반적 그래프에선 드러나지 않는 수치를 함께 제공\n",
    "- 제 1사분위수에서 제 3사분위수까지 상자로 그림\n",
    "- 좌우에 선을 그어 최솟값, 최댓값을 나타냄"
   ]
  },
  {
   "cell_type": "markdown",
   "id": "4d80b08b",
   "metadata": {},
   "source": [
    "상자 그림\n",
    "- 상자 - 수염그림(box-whisker plot)이라고도 함\n",
    "- 봉우리가 하나 있는 분포의 특징을 나타내는데 적절\n",
    "- 봉우리가 여러 개 있는 분포에서는 효과적인 분석 어려움\n",
    "- 대략적인 자료의 분포를 먼저 파악 후 상자 그림 작성\n"
   ]
  },
  {
   "attachments": {
    "%EC%83%81%EC%9E%90%EA%B7%B8%EB%A6%BC.png": {
     "image/png": "[encoded data removed]"
    }
   },
   "cell_type": "markdown",
   "id": "191809df",
   "metadata": {},
   "source": [
    "![%EC%83%81%EC%9E%90%EA%B7%B8%EB%A6%BC.png](attachment:%EC%83%81%EC%9E%90%EA%B7%B8%EB%A6%BC.png)"
   ]
  },
  {
   "cell_type": "markdown",
   "id": "a43470b2",
   "metadata": {},
   "source": []
  },
  {
   "cell_type": "markdown",
   "id": "14e875b9",
   "metadata": {},
   "source": [
    "수치를 통한 연속형 자료의 요약 : 상자그림\n",
    "연속형 자료의 요약 중 퍼진정도의 측도를 나타내주는 요약통계량을 한 눈에 볼 수 있는 상자그림을 그려보겠습니다.\n",
    "\n",
    "피곤할 때 많이 찾게되는 커피, 커피 전문점 마다 같은 Tall 사이즈라도 카페인 함량(mg/cup)이 다르다는 것, 알고 계셨나요?\n",
    "\n",
    "카페\t카페인 함량\t카페\t카페인 함량\n",
    "커빈피\t202\t빽방다\t177\n",
    "스벅타스\t121\t할스리\t148\n",
    "디야이\t89\t동네카페\t121\n",
    "투썸플이레스\t137\t엔제너리스\t158\n",
    "\n",
    "문제\n",
    "상자 그림을 만들어 출력해보세요.\n",
    "\n",
    "plt.boxplot(coffee)\n",
    "Copy\n",
    "Tips\n",
    "여러 그룹으로 각각의 그룹별 상자그림도 한 번에 그릴 수 있습니다. 이를 통하여 각 그룹을 비교해보세요!"
   ]
  },
  {
   "cell_type": "code",
   "execution_count": 9,
   "id": "1fd57ff9",
   "metadata": {},
   "outputs": [
    {
     "data": {
      "image/png": "[encoded data removed]",
      "text/plain": [
       "<Figure size 432x288 with 1 Axes>"
      ]
     },
     "metadata": {
      "needs_background": "light"
     },
     "output_type": "display_data"
    }
   ],
   "source": [
    "import numpy as np\n",
    "import matplotlib.pyplot as plt\n",
    "\n",
    "#카페인 함유량\n",
    "coffee = np.array([202,177,121,148,89,121,137,158])\n",
    "\n",
    "#상자그림\n",
    "fig, ax = plt.subplots()\n",
    "## 여기에 코드를 작성해주세요\n",
    "plt.boxplot(coffee)\n",
    "'''\n",
    "min ---- 25% Q1 ------50% Q2 median ----- 75% Q3 ---- max\n",
    "\n",
    "IQR = Q3 - Q1\n",
    "IQR * 1.5\n",
    "\n",
    "|   IQR * 1.5     [        IQR       ]   IQR * 1.5   |  * *(이상값)\n",
    "              \n",
    "\n",
    "'''\n",
    "\n",
    "##\n",
    "plt.show()\n"
   ]
  },
  {
   "cell_type": "markdown",
   "id": "edfea971",
   "metadata": {},
   "source": []
  },
  {
   "cell_type": "markdown",
   "id": "b64c0181",
   "metadata": {},
   "source": [
    "[이론]범주형 자료의 요약 : 분할표"
   ]
  },
  {
   "cell_type": "markdown",
   "id": "a3ff1603",
   "metadata": {},
   "source": [
    "두 변수 자료의 요약\n",
    "\n",
    "일반적 자료 요약\n",
    "하나의 변수에 대한 관측 자료 \n",
    "      ↓\n",
    "도표/수치로 요약\n",
    "\n",
    "↓\n",
    "\n",
    "두 변수 자료의 요약\n",
    "둘 또는 그 이상 변수에 대한 관측 자료  \n",
    "        ↓\n",
    "동시에 분석하여 도표/수치로 요약"
   ]
  },
  {
   "cell_type": "markdown",
   "id": "bfb7ec96",
   "metadata": {},
   "source": [
    "두 변수 자료의 요약\n",
    "                자료\n",
    "               ↙  ↘\n",
    "    범주형 자료        수치형 자료\n",
    "(Categorical data)  (Numerical data)\n",
    "      분할표         산점도, 공분산, 상관계수"
   ]
  },
  {
   "cell_type": "markdown",
   "id": "9cc41b55",
   "metadata": {},
   "source": [
    "1) 분할표\n",
    "\n",
    "범주형\n",
    "변수1, 변수2  => 도수분포표를 2차원으로 확장한 형태 요약\n",
    "\n",
    "_\n",
    "         변수2의 범주1  변수2의 범주2   변수 2의 범주3\n",
    "변수1 범주1\n",
    "변수1 범주2   두 변수의 범주들이 동시에 갖는 관측값의 수\n",
    "변수1 범주3  ㅁ (ex: 변수1의 범주2와 변수 2의 범주 3\n",
    "                  사이의 상관관계)\n",
    "                  \n",
    "pd.crosstab(index = 기준 범주, columns = 관측 범주)"
   ]
  },
  {
   "cell_type": "markdown",
   "id": "e4ba5866",
   "metadata": {},
   "source": [
    "두 범주형 변수의 요약 : 분할표\n",
    "\n",
    "_\n",
    "         변수2의 범주1  변수2의 범주2   변수 2의 범주3\n",
    "변수1 범주1\n",
    "변수1 범주2   \n",
    "변수1 범주3   ㅁ \n",
    "                  \n",
    "교차하는 부분에 여러 가지 값 표시 가능\n",
    "예) 상대도수 -> 두 변수 사이 관련 분포 상태를 명확히 표현"
   ]
  },
  {
   "cell_type": "markdown",
   "id": "d36d3a10",
   "metadata": {},
   "source": []
  },
  {
   "cell_type": "markdown",
   "id": "17e08862",
   "metadata": {},
   "source": [
    "두 범주형 변수의 요약 : 분할표\n",
    "두 범주형 변수를 요약할 수 있는 분할표를 만들어보겠습니다.\n",
    "mart.csv데이터에는 거주 지역region, 가족 구성원 수 family_num, 마트명 mart 이 있습니다.\n",
    "이를 활용하여 지역별로 선호하는 마트, 가족구성원의 수별로 선호하는 마트에 대해 알아보겠습니다.\n",
    "\n",
    "\n",
    "지역별로 선호하는 마트\n",
    "지역별로 어느 마트를 선호하는지 확인하기 위해 분할표를 만들어region_crosstab 에 저장해 확인해보겠습니다.\n",
    "region_crosstab = pd.crosstab(mart['region'],\n",
    "                            mart['mart'])\n",
    "Copy\n",
    "가족구성원의 수별로 선호하는 마트\n",
    "가족구성원의 수에 따라 어느 마트를 선호하는지 확인하기 위해 분할표를 만들어 #Q2 아래에 famnum_crosstab 에 저장해 확인해보겠습니다.\n",
    "famnum_crosstab = pd.crosstab(mart['family_num'],\n",
    "                            mart['mart'])"
   ]
  },
  {
   "cell_type": "code",
   "execution_count": 13,
   "id": "f49e3a00",
   "metadata": {},
   "outputs": [
    {
     "name": "stdout",
     "output_type": "stream",
     "text": [
      "    index       region  family_num      mart\n",
      "0       1   gyeongsang           2     lotte\n",
      "1       2      gangwon           2     lotte\n",
      "2       3      gyonggi           2     emart\n",
      "3       4   gyeongsang           3     lotte\n",
      "4       5  chungcheong           4  homeplus\n",
      "5       6  chungcheong           1    costco\n",
      "6       7        seoul           4    costco\n",
      "7       8       jeolla           1  homeplus\n",
      "8       9        seoul           3  homeplus\n",
      "9      10  chungcheong           4     emart\n",
      "10     11      gyonggi           2     emart\n",
      "11     12      gangwon           2  homeplus\n",
      "12     13   gyeongsang           5     lotte\n",
      "13     14  chungcheong           5    costco\n",
      "14     15      gangwon           2  homeplus\n",
      "15     16        seoul           3  homeplus\n",
      "16     17       jeolla           3    costco\n",
      "17     18      gyonggi           1  homeplus\n",
      "18     19       jeolla           2  homeplus\n",
      "19     20       jeolla           4    costco\n",
      "20     21      gyonggi           4     emart\n",
      "21     22       jeolla           3     emart\n",
      "22     23      gangwon           1     emart\n",
      "23     24        seoul           4     emart\n",
      "24     25  chungcheong           3    costco\n",
      "25     26      gyonggi           2     emart\n",
      "26     27      gangwon           3  homeplus\n",
      "27     28      gyonggi           5     lotte\n",
      "28     29      gyonggi           2     lotte\n",
      "29     30      gangwon           5     emart\n",
      "30     31       jeolla           4  homeplus\n",
      "31     32        seoul           1  homeplus\n",
      "32     33  chungcheong           2     lotte\n",
      "33     34        seoul           2    costco\n",
      "34     35      gangwon           1     emart\n",
      "35     36      gangwon           2    costco\n",
      "36     37      gangwon           3     lotte\n",
      "37     38       jeolla           5     emart\n",
      "38     39        seoul           4     lotte\n",
      "39     40      gyonggi           1  homeplus\n",
      "40     41   gyeongsang           4     lotte\n",
      "41     42   gyeongsang           4  homeplus\n",
      "42     43   gyeongsang           4     lotte\n",
      "43     44  chungcheong           1     emart\n",
      "44     45   gyeongsang           5     lotte\n",
      "45     46   gyeongsang           2     lotte\n",
      "46     47   gyeongsang           1  homeplus\n",
      "47     48        seoul           1     emart\n",
      "48     49   gyeongsang           2     emart\n",
      "49     50      gyonggi           1     lotte\n",
      "\n",
      "mart         costco  emart  homeplus  lotte\n",
      "region                                     \n",
      "chungcheong       3      2         1      1\n",
      "gangwon           1      3         3      2\n",
      "gyeongsang        0      1         2      7\n",
      "gyonggi           0      4         2      3\n",
      "jeolla            2      2         3      0\n",
      "seoul             2      2         3      1\n",
      "\n",
      "mart        costco  emart  homeplus  lotte\n",
      "family_num                                \n",
      "1                1      4         5      1\n",
      "2                2      4         3      5\n",
      "3                2      1         3      2\n",
      "4                2      3         3      3\n",
      "5                1      2         0      3\n"
     ]
    }
   ],
   "source": [
    "import numpy as np \n",
    "import pandas as pd\n",
    "import matplotlib as plt\n",
    "\n",
    "# 데이터 불러오기\n",
    "mart = pd.read_csv(\"mart.csv\")\n",
    "print(mart)\n",
    "print()\n",
    "# Q1.지역별로 선호하는 마트\n",
    "region_crosstab = pd.crosstab(mart['region'], mart['mart'])\n",
    "print(region_crosstab)\n",
    "print()\n",
    "\n",
    "# Q2. 가족구성원의 수별로 선호하는 마트\n",
    "famnum_crosstab = pd.crosstab(mart['family_num'], mart['mart'])\n",
    "print(famnum_crosstab)"
   ]
  },
  {
   "cell_type": "markdown",
   "id": "0b7ae370",
   "metadata": {},
   "source": []
  },
  {
   "cell_type": "markdown",
   "id": "17d70077",
   "metadata": {},
   "source": [
    "[이론]수치형 자료의 요약 : 산점도"
   ]
  },
  {
   "attachments": {},
   "cell_type": "markdown",
   "id": "1263c62e",
   "metadata": {},
   "source": [
    "그림을 통한 두 연속형 변수의 요약 : 산점도\n",
    "\n",
    "연속형\n",
    "변수x, 변수y   -> 각 변수의 관측값을 좌표평면에 표시함\n"
   ]
  },
  {
   "attachments": {
    "%EC%82%B0%EC%A0%90%EB%8F%84.png": {
     "image/png": "[encoded data removed]"
    }
   },
   "cell_type": "markdown",
   "id": "ab31d0e7",
   "metadata": {},
   "source": [
    "![%EC%82%B0%EC%A0%90%EB%8F%84.png](attachment:%EC%82%B0%EC%A0%90%EB%8F%84.png)"
   ]
  },
  {
   "cell_type": "markdown",
   "id": "2eba32c0",
   "metadata": {},
   "source": []
  },
  {
   "cell_type": "markdown",
   "id": "8db52ed7",
   "metadata": {},
   "source": []
  },
  {
   "cell_type": "markdown",
   "id": "c30ede42",
   "metadata": {},
   "source": []
  },
  {
   "cell_type": "markdown",
   "id": "0cca175e",
   "metadata": {},
   "source": []
  },
  {
   "cell_type": "markdown",
   "id": "8f0d0347",
   "metadata": {},
   "source": []
  },
  {
   "cell_type": "markdown",
   "id": "8402c825",
   "metadata": {},
   "source": []
  },
  {
   "cell_type": "markdown",
   "id": "68a4ff3c",
   "metadata": {},
   "source": []
  },
  {
   "cell_type": "markdown",
   "id": "d7f311d1",
   "metadata": {},
   "source": []
  },
  {
   "cell_type": "markdown",
   "id": "51c0c721",
   "metadata": {},
   "source": []
  },
  {
   "cell_type": "markdown",
   "id": "e9281d2a",
   "metadata": {},
   "source": []
  },
  {
   "cell_type": "markdown",
   "id": "2c4277d0",
   "metadata": {},
   "source": []
  },
  {
   "cell_type": "markdown",
   "id": "be66832e",
   "metadata": {},
   "source": []
  },
  {
   "cell_type": "markdown",
   "id": "46152486",
   "metadata": {},
   "source": []
  },
  {
   "cell_type": "markdown",
   "id": "3c23da9e",
   "metadata": {},
   "source": []
  },
  {
   "cell_type": "markdown",
   "id": "a8e147bb",
   "metadata": {},
   "source": []
  },
  {
   "cell_type": "markdown",
   "id": "68738ee6",
   "metadata": {},
   "source": []
  },
  {
   "cell_type": "markdown",
   "id": "c4cc1c2c",
   "metadata": {},
   "source": []
  },
  {
   "cell_type": "markdown",
   "id": "ec54ac69",
   "metadata": {},
   "source": []
  },
  {
   "cell_type": "markdown",
   "id": "65d5dc72",
   "metadata": {},
   "source": []
  },
  {
   "cell_type": "markdown",
   "id": "4f7127ad",
   "metadata": {},
   "source": []
  },
  {
   "cell_type": "markdown",
   "id": "73f0e156",
   "metadata": {},
   "source": []
  },
  {
   "cell_type": "markdown",
   "id": "45eb65c6",
   "metadata": {},
   "source": []
  },
  {
   "cell_type": "markdown",
   "id": "2b421360",
   "metadata": {},
   "source": []
  },
  {
   "cell_type": "markdown",
   "id": "55dc4c5b",
   "metadata": {},
   "source": []
  },
  {
   "cell_type": "markdown",
   "id": "e39e8ff1",
   "metadata": {},
   "source": []
  },
  {
   "cell_type": "markdown",
   "id": "f861a793",
   "metadata": {},
   "source": []
  },
  {
   "cell_type": "markdown",
   "id": "811b99ba",
   "metadata": {},
   "source": []
  },
  {
   "cell_type": "markdown",
   "id": "a01f774b",
   "metadata": {},
   "source": []
  },
  {
   "cell_type": "markdown",
   "id": "6b47531b",
   "metadata": {},
   "source": []
  },
  {
   "cell_type": "markdown",
   "id": "04c33af6",
   "metadata": {},
   "source": []
  },
  {
   "cell_type": "markdown",
   "id": "36db7d26",
   "metadata": {},
   "source": []
  },
  {
   "cell_type": "markdown",
   "id": "3a003d06",
   "metadata": {},
   "source": []
  },
  {
   "cell_type": "markdown",
   "id": "f8b0beaa",
   "metadata": {},
   "source": []
  },
  {
   "cell_type": "markdown",
   "id": "b0f624bc",
   "metadata": {},
   "source": []
  },
  {
   "cell_type": "markdown",
   "id": "c9226253",
   "metadata": {},
   "source": []
  },
  {
   "cell_type": "markdown",
   "id": "ceccfc39",
   "metadata": {},
   "source": []
  },
  {
   "cell_type": "markdown",
   "id": "db95690e",
   "metadata": {},
   "source": []
  },
  {
   "cell_type": "markdown",
   "id": "a0a5a5ca",
   "metadata": {},
   "source": []
  },
  {
   "cell_type": "markdown",
   "id": "94682bd1",
   "metadata": {},
   "source": []
  },
  {
   "cell_type": "markdown",
   "id": "13b1c718",
   "metadata": {},
   "source": []
  },
  {
   "cell_type": "markdown",
   "id": "096a11e8",
   "metadata": {},
   "source": []
  },
  {
   "cell_type": "markdown",
   "id": "73a11a99",
   "metadata": {},
   "source": []
  },
  {
   "cell_type": "markdown",
   "id": "0056909c",
   "metadata": {},
   "source": []
  },
  {
   "cell_type": "markdown",
   "id": "c129b8e8",
   "metadata": {},
   "source": []
  },
  {
   "cell_type": "markdown",
   "id": "ee29c0bd",
   "metadata": {},
   "source": []
  },
  {
   "cell_type": "markdown",
   "id": "b7bc30f3",
   "metadata": {},
   "source": []
  }
 ],
 "metadata": {
  "kernelspec": {
   "display_name": "Python 3",
   "language": "python",
   "name": "python3"
  },
  "language_info": {
   "codemirror_mode": {
    "name": "ipython",
    "version": 3
   },
   "file_extension": ".py",
   "mimetype": "text/x-python",
   "name": "python",
   "nbconvert_exporter": "python",
   "pygments_lexer": "ipython3",
   "version": "3.8.8"
  }
 },
 "nbformat": 4,
 "nbformat_minor": 5
}
