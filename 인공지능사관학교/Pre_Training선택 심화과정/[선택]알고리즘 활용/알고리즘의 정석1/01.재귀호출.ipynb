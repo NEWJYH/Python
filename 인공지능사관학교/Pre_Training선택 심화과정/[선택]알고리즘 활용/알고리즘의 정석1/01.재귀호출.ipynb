{
 "cells": [
  {
   "cell_type": "markdown",
   "id": "e17567e1",
   "metadata": {},
   "source": [
    "알고리즘의 정석"
   ]
  },
  {
   "cell_type": "markdown",
   "id": "8073fcdc",
   "metadata": {},
   "source": [
    "수강 목표\n",
    "\n",
    "알고리즘이 무엇인지 알아봅니다.\n",
    "\n",
    "알고리즘에서 제일 중요한 재귀호출에 대해서 알아봅니다.\n",
    "\n",
    "재귀호출의 제일 대표적인 퀵정렬을 배워봅니다."
   ]
  },
  {
   "cell_type": "markdown",
   "id": "52e03eac",
   "metadata": {},
   "source": [
    "목 차\n",
    "\n",
    "1. 알고리즘이란?\n",
    "\n",
    "2. 재귀호출\n",
    "\n",
    "3. 수학적 귀납법\n",
    "\n",
    "4. 퀵정렬\n",
    "\n",
    "5. 재귀함수 디자인\n",
    "\n",
    "6. 요약"
   ]
  },
  {
   "cell_type": "markdown",
   "id": "d5de58e9",
   "metadata": {},
   "source": []
  },
  {
   "cell_type": "markdown",
   "id": "bd46349b",
   "metadata": {},
   "source": [
    "1. 알고리즘이란?"
   ]
  },
  {
   "cell_type": "markdown",
   "id": "40b4c81f",
   "metadata": {},
   "source": [
    "알고리즘\n",
    "\n",
    "문제를 해결하는 방법\n",
    "\n",
    "전구가 작동하지 않는다.\n",
    "        ↓         아니오\n",
    "  전구가 꽂혀있는가?   →    전구를 꽂으시오.\n",
    "        ↓ 예       예\n",
    "   전구가 탔는가?    → 전구를 바꾸시오.\n",
    "        ↓ 아니오\n",
    "전구를 수리하시오."
   ]
  },
  {
   "cell_type": "code",
   "execution_count": null,
   "id": "9c26c7a5",
   "metadata": {},
   "outputs": [],
   "source": [
    "def fixBulb(bulb):\n",
    "    if not bulb.isEmpty() :\n",
    "        bulb.create()\n",
    "    elif bulb.isBurnt :\n",
    "        bulb.change()\n",
    "    else:\n",
    "        bulb.fix()"
   ]
  },
  {
   "cell_type": "markdown",
   "id": "58669691",
   "metadata": {},
   "source": [
    "알고리즘\n",
    "\n",
    "계산을 통하여 해결할 수 있는 문제를 해결하는 방법\n",
    "\n",
    "5가지 중요한 성질\n",
    " 1. 유한성 : 반드시 유한한 횟수를 통해 종료되어야함\n",
    "            종료되지 않은 무한루프는 x\n",
    " 2. 명확성\n",
    " 3. 입력 : 0개이상 입력 1이상 출력 \n",
    " 4. 출력\n",
    " 5. 효과성 : 시간 공간적 효율"
   ]
  },
  {
   "cell_type": "markdown",
   "id": "bfa89884",
   "metadata": {},
   "source": [
    "[실습1] k번째 숫자 찾기\n",
    "\n",
    "n개의 숫자 중\n",
    "\"지금까지 입력된 숫자들 중에서 k번째 숫자\"는?\n",
    "(단, 1<= k <= n <= 100)\n",
    "\n",
    "입력의 예\n",
    "10 3\n",
    "1 9 8 5 2 3 5 6 2 10\n",
    "\n",
    "출력의 예\n",
    "-1 -1 9 8 5 3 3 3 2 2"
   ]
  },
  {
   "cell_type": "markdown",
   "id": "7c5d6b9a",
   "metadata": {},
   "source": [
    "[실습1] k번째 숫자 찾기\n",
    "\n",
    "문제를 해결하는 방법\n",
    "\n",
    "1. 숫자를 하나를 입력받는다.\n",
    "2. 지금까지 받은 숫자들을 정렬한다.\n",
    "3. k번째로 작은 숫자를 출력한다."
   ]
  },
  {
   "cell_type": "markdown",
   "id": "59480275",
   "metadata": {},
   "source": []
  },
  {
   "cell_type": "markdown",
   "id": "5d8c8894",
   "metadata": {},
   "source": [
    "k번째 수 찾기\n",
    "nnn개의 숫자가 차례대로 주어질 때, 매 순간마다 “지금까지 입력된 숫자들 중에서 k번째로 작은 수”를 반환하는 프로그램을 작성하세요.\n",
    "\n",
    "프로그램의 입력으로는 첫째줄에 nnn과 kkk가 입력되고, 둘째줄에 nnn개의 숫자가 차례대로 주어집니다.\n",
    "\n",
    "입력 예시\n",
    "10 3\n",
    "1 9 8 5 2 3 5 6 2 10\n",
    "Copy\n",
    "출력 예시\n",
    "-1 -1 9 8 5 3 3 3 2 2\n",
    "Copy\n",
    "\n",
    "문제 조건\n",
    "nnn은 100보다 작은 숫자입니다.\n",
    "매 순간마다 지금까지의 입력중 kkk번째로 작은 수를 출력하되, 없다면 -1을 출력합니다.\n",
    "입출력 예시 설명\n",
    "10개의 숫자가 차례대로 주어집니다. 맨 처음 1만 입력을 받았을 경우, 3번째로 작은 숫자가 없으므로 -1을 출력합니다. 그 다음 9도 마찬가지입니다. 세 번째로 숫자 8을 입력받는 순간, 지금까지 입력받은 숫자는 1, 9, 8 세 개이고, 이 중 3 번째로 작은 숫자인 9를 출력합니다. 마찬가지로 숫자 하나를 입력받을 때 마다 3번째로 작은 숫자를 출력합니다."
   ]
  },
  {
   "cell_type": "code",
   "execution_count": null,
   "id": "2befac95",
   "metadata": {},
   "outputs": [],
   "source": [
    "# mycode\n",
    "def findKth(myInput, k) :\n",
    "    '''\n",
    "    매 순간마다 k번째로 작은 원소를 리스트로 반환합니다.\n",
    "    '''\n",
    "    sortlist = []\n",
    "    result = []\n",
    "    \n",
    "    for element in myInput:\n",
    "        sortlist.append(element)\n",
    "        if len(sortlist) < k :\n",
    "            result.append(-1)\n",
    "        else:\n",
    "            sortlist.sort()\n",
    "            result.append(sortlist[k-1])\n",
    "    return result\n",
    "\n",
    "def main():\n",
    "    '''\n",
    "    테스트를 하고싶으면, 아래 부분을 수정합니다.\n",
    "    '''\n",
    "\n",
    "    firstLine = [int(x) for x in input(\"n과 k를 입력하세요 (예시:10 3): \").split()]\n",
    "    myInput = [int(x) for x in input(\"n개의 숫자를 차례대로 입력하세요 (예시:1 9 8 5 2 3 5 6 2 10): \").split()]\n",
    "\n",
    "    print('정렬 결과: ', *findKth(myInput, firstLine[1]))\n",
    "if __name__ == \"__main__\":\n",
    "    main()\n"
   ]
  },
  {
   "cell_type": "code",
   "execution_count": null,
   "id": "18fcf097",
   "metadata": {},
   "outputs": [],
   "source": [
    "# t-code  \n",
    "def findKth(myInput, k) :\n",
    "    '''\n",
    "    매 순간마다 k번째로 작은 원소를 리스트로 반환합니다.\n",
    "    '''\n",
    "    \n",
    "    result = []\n",
    "    data = []\n",
    "    for element in myInput:\n",
    "        data.append(element)\n",
    "        data.sort()\n",
    "        if len(data) < k :\n",
    "            result.append(-1)\n",
    "        else:\n",
    "            result.append(data[k-1])\n",
    "    return result\n",
    "\n",
    "def main():\n",
    "    '''\n",
    "    테스트를 하고싶으면, 아래 부분을 수정합니다.\n",
    "    '''\n",
    "\n",
    "    firstLine = [int(x) for x in input(\"n과 k를 입력하세요 (예시:10 3): \").split()]\n",
    "    myInput = [int(x) for x in input(\"n개의 숫자를 차례대로 입력하세요 (예시:1 9 8 5 2 3 5 6 2 10): \").split()]\n",
    "\n",
    "    print('정렬 결과: ', *findKth(myInput, firstLine[1]))\n",
    "if __name__ == \"__main__\":\n",
    "    main()\n"
   ]
  },
  {
   "cell_type": "markdown",
   "id": "b4a8760d",
   "metadata": {},
   "source": []
  },
  {
   "cell_type": "markdown",
   "id": "95fd5550",
   "metadata": {},
   "source": [
    "2. 재귀호출"
   ]
  },
  {
   "cell_type": "markdown",
   "id": "ec31e21f",
   "metadata": {},
   "source": [
    "재귀호출\n",
    "\n",
    "함수가 자기 자신을 호출\n",
    "왜?"
   ]
  },
  {
   "cell_type": "code",
   "execution_count": 8,
   "id": "54854508",
   "metadata": {},
   "outputs": [],
   "source": [
    "def Factorial(n):\n",
    "    if n == 0:\n",
    "        return 1\n",
    "    else:\n",
    "        return n * Factorial(n-1)"
   ]
  },
  {
   "cell_type": "markdown",
   "id": "7271b671",
   "metadata": {},
   "source": [
    "팩토리얼의 재귀적 정의\n",
    "\n",
    "n! = n x (n-1)!\n",
    "\n",
    "Factorial(n) : n!을 반환하는 함수"
   ]
  },
  {
   "cell_type": "markdown",
   "id": "0cfe7155",
   "metadata": {},
   "source": []
  },
  {
   "cell_type": "markdown",
   "id": "e7d562f0",
   "metadata": {},
   "source": [
    "3. 수학적 귀납법"
   ]
  },
  {
   "cell_type": "markdown",
   "id": "16905737",
   "metadata": {},
   "source": [
    "수학적 귀납법 = 재귀적 증명법"
   ]
  },
  {
   "cell_type": "markdown",
   "id": "3db2fac2",
   "metadata": {},
   "source": [
    "수학적 귀납법\n",
    "\n",
    "명제 P(n)을 다음과 같이 증명하는 방법\n",
    "\n",
    "1. N = 1 일 때 성립함을 보인다.\n",
    "2. P(k)가 성립한다고 가정할 때, P(k+1)이 성립함을 보인다.\n",
    "3. 따라서 모든 자연수 n에 대하여 P(n)이 성립힌다."
   ]
  },
  {
   "cell_type": "markdown",
   "id": "09a963ed",
   "metadata": {},
   "source": [
    "수학적 귀납법\n",
    "\n",
    "모든 자연수 n에 대하여 n! <= n^n임을 증명하시오\n",
    "\n",
    "1. N = 1 일때 성립함을 보인다. \n",
    "- 1! <= 1^1 OK\n",
    "\n",
    "2. P(k)가 성립한다고 가정할 때, P(k+1)이 성립함을 보인다.\n",
    "- k! <= k^k OK\n",
    "\n",
    "3. 따라서 모든 자연수 n에 대하여 P(n)이 성립한다.\n",
    "- k! <= k^k\n",
    "- k! x (k+1) <= k^k x (k+1)\n",
    "- (k+1)! <= (k+1)^k+1"
   ]
  },
  {
   "cell_type": "markdown",
   "id": "99912d78",
   "metadata": {},
   "source": [
    "수학적 귀납법\n",
    "\n",
    "모든 자연수 n에 대하여 n!<= n^n임을 증명하시오\n",
    "\n",
    "하지만 P(k)가 실제로 성립하는지는 아직 모른다."
   ]
  },
  {
   "cell_type": "markdown",
   "id": "fcc870fb",
   "metadata": {},
   "source": [
    "수학적 귀납법\n",
    "\n",
    "모든 자연수 n에 대하여 n! <= n^n임을 증명하시오.\n",
    "\n",
    "n = 1 -> 1! <= 1^1\n",
    "n = 2 -> 2! <= 2^2\n",
    "....\n",
    "\n",
    "따라서 모든 자연수 n에 대하여 위의 명제가 성립힌다."
   ]
  },
  {
   "cell_type": "markdown",
   "id": "949c7e21",
   "metadata": {},
   "source": [
    "수학적 귀납법 \n",
    "\n",
    "명제 P(n)을 다음과 같이 증명하는 방법\n",
    "\n",
    "1. N = 1 일 때 성립함을 보인다.\n",
    "2. P(k)가 성립한다고 가정할 때, P(k+1)이 성립함을 보인다.\n",
    "3. 따라서 모든 자연수 n에 대하여 P(n)이 성립힌다.\n",
    "\n",
    "진짜 의미 -> 명제를 재귀적으로 증명함"
   ]
  },
  {
   "cell_type": "markdown",
   "id": "2b9b3637",
   "metadata": {},
   "source": [
    "수학적 귀납법을 거꾸로 보기\n",
    "\n",
    "n! <= n^n 이기 위해서는 (n-1)! <= (n-1)^n-1이어야 한다.\n",
    "n = 1일 경우에는 명제가 성립한다.\n",
    "\n",
    "n = 1 -> 1! <= 1^1\n",
    "n = 2 -> 2! <= 2^2\n",
    "...."
   ]
  },
  {
   "cell_type": "markdown",
   "id": "93b8a80c",
   "metadata": {},
   "source": [
    "수학적 귀납법 = 재귀적 증명법\n",
    "재귀호출 = 재귀적 계산법"
   ]
  },
  {
   "cell_type": "markdown",
   "id": "27dbef8f",
   "metadata": {},
   "source": [
    "재귀적 계산 방법\n",
    "\n",
    "Factorial(n) : n!을 반환하는 함수\n",
    "Factorial(n) = Factorial(n-1) * n\n",
    "n = 1 일때는 Factorial(n)이 정상 작동한다.\n",
    "\n",
    "n = 1 -> 1! =\n",
    "n = 2 -> 2! =\n",
    "....."
   ]
  },
  {
   "cell_type": "markdown",
   "id": "3eba6eb2",
   "metadata": {},
   "source": [
    "재귀적 계산 방법\n",
    "\n",
    "Factorial(n) : n!을 반환하는 함수\n",
    "\n",
    "def Factorial(n):\n",
    "    if n == 0:\n",
    "        return 1\n",
    "    else:\n",
    "        return n * Factorial(n-1)"
   ]
  },
  {
   "cell_type": "markdown",
   "id": "7e38eef6",
   "metadata": {},
   "source": []
  },
  {
   "cell_type": "markdown",
   "id": "516e0bd7",
   "metadata": {},
   "source": [
    "4. 퀵정렬"
   ]
  },
  {
   "cell_type": "markdown",
   "id": "1ba4f904",
   "metadata": {},
   "source": [
    "퀵정렬(Quick Sort)\n",
    "\n",
    "재귀호출을 이용한 대표적인 정렬\n",
    "\n",
    "4 7 4 2 10 19 2 4 5 3 1 5\n",
    "\n",
    "- 맨 앞의 원소 4를 pivot으로 삼아 가운데 두고\n",
    "  작거나 같은 값은 왼쪽으로 큰값은 오른쪽으로 둔다.\n",
    "  4 2 2 4 3 1    4    7 10 19 5 5\n",
    "- 다시 왼쪽 리스트에 퀵정렬을 적용하고\n",
    "  오른쪽 리스트에 퀵정렬을 적용하면\n",
    "  1 2 2 3 4 4 4 6 6 7 10 19\n",
    "- 왼쪽 오른쪽 리스트 원소가 1개일때 정렬이 완료 \n",
    "- 원소가 1개이거나 0개일때 기저 조건 "
   ]
  },
  {
   "cell_type": "markdown",
   "id": "d156bd6f",
   "metadata": {},
   "source": [
    "퀵정렬(Quick Sort)\n",
    "\n",
    "4 7 4 2 10 19 2 4 5 3 1 5\n",
    "\n",
    "pivot 4\n",
    "                4\n",
    "4 2 2 4 1 3            7 10 19 5   \n",
    "- 왼쪽 퀵정렬\n",
    "pivot 4\n",
    "          4\n",
    "2 2 4 1 3\n",
    "\n",
    "pivot 2\n",
    "        2\n",
    "2 2 1       4 3\n",
    "pivot 2\n",
    "        2\n",
    "   2 1 \n",
    "pivot 2\n",
    "     2\n",
    "1  : 왼쪽 피벗 정렬완료"
   ]
  },
  {
   "cell_type": "markdown",
   "id": "b7a5dd67",
   "metadata": {},
   "source": [
    "퀵정렬(Quick Sort)\n",
    "\n",
    "4 7 4 2 10 19 2 4 5 3 1 5\n"
   ]
  },
  {
   "cell_type": "code",
   "execution_count": null,
   "id": "44307fc7",
   "metadata": {},
   "outputs": [],
   "source": [
    "def quickSort(data):\n",
    "    if len(data) <= 1:\n",
    "        return data\n",
    "\n",
    "pivot = data[0]\n",
    "left = getSmallNumbers(data, pivot)\n",
    "right = getLargeNumbers(data, pivot)\n",
    "\n",
    "return quickSort(left) + [pivot] + quickSort(right)"
   ]
  },
  {
   "cell_type": "markdown",
   "id": "c7896476",
   "metadata": {},
   "source": [
    "[실습2] 퀵정렬 구현하기\n",
    "\n",
    "재귀호출의 대표적인 정렬 퀵정렬을 구현해본다.\n",
    "\n",
    "입력 예\n",
    "10 2 3 4 5 6 9 7 8 1\n",
    "\n",
    "출력 예\n",
    "1 2 3 4 5 6 7 8 9 10"
   ]
  },
  {
   "cell_type": "markdown",
   "id": "99afdb43",
   "metadata": {},
   "source": []
  },
  {
   "cell_type": "markdown",
   "id": "d5f09e7c",
   "metadata": {},
   "source": [
    "quick sort\n",
    "입력으로 nnn개의 수가 주어지면, quick sort를 구현하는 프로그램을 작성하세요.\n",
    "\n",
    "입력 예시\n",
    "10 2 3 4 5 6 9 7 8 1 \n",
    "\n",
    "출력 예시\n",
    "1 2 3 4 5 6 7 8 9 10"
   ]
  },
  {
   "cell_type": "code",
   "execution_count": 16,
   "id": "690b897d",
   "metadata": {
    "scrolled": false
   },
   "outputs": [
    {
     "name": "stdout",
     "output_type": "stream",
     "text": [
      "정렬할 수를 입력하세요 (예시:10 2 3 4 5 6 9 7 8 1): 10 2 3 4 5 6 9 7 8 1\n",
      "정렬 결과: 1 2 3 4 5 6 7 8 9 10\n"
     ]
    }
   ],
   "source": [
    "# mycode\n",
    "def quickSort(array):\n",
    "    '''\n",
    "    퀵정렬을 통해 오름차순으로 정렬된 array를반환하는 함수를 작성하세요.\n",
    "    '''\n",
    "    if len(array) <= 1:\n",
    "        return array\n",
    "    \n",
    "    pivot = array[0]\n",
    "    left = smallElement(array, pivot)\n",
    "    right = largeElement(array, pivot)\n",
    "    \n",
    "    \n",
    "    return quickSort(left) + [pivot] + quickSort(right) \n",
    "    \n",
    "\n",
    "def smallElement(array, pivot):\n",
    "    return [x for x in array[1:] if x <= pivot]\n",
    "    \n",
    "def largeElement(array, pivot):\n",
    "    return [x for x in array[1:] if x > pivot]\n",
    "\n",
    "def main():\n",
    "    line = [int(x) for x in input(\"정렬할 수를 입력하세요 (예시:10 2 3 4 5 6 9 7 8 1): \").split()]\n",
    "\n",
    "    print('정렬 결과:', *quickSort(line))\n",
    "\n",
    "if __name__ == \"__main__\":\n",
    "    main()"
   ]
  },
  {
   "cell_type": "markdown",
   "id": "439a8a23",
   "metadata": {},
   "source": []
  },
  {
   "cell_type": "markdown",
   "id": "f9ff9dde",
   "metadata": {},
   "source": [
    "5. 재귀함수 디자인"
   ]
  },
  {
   "cell_type": "markdown",
   "id": "e2716182",
   "metadata": {},
   "source": [
    "[실습3] 올바른 괄호인지 판단하기\n",
    "\n",
    "짝이 올바른 괄호라면 YES, 아니라면 NO\n",
    "\n",
    "입력의 예              출력의 예\n",
    "(())()                YES\n",
    "(())())()             NO"
   ]
  },
  {
   "cell_type": "markdown",
   "id": "ada5378e",
   "metadata": {},
   "source": [
    "재귀함수 디자인\n",
    "\n",
    "재귀함수를 디자인 하기 위한 세가지 단계\n",
    "\n",
    "1. 함수의 정의를 명확히 한다.\n",
    "\n",
    "2. 기저 조건(Base condition)에서 함수가 제대로 동작 하게 작성한다.\n",
    "\n",
    "3. 함수가 작은 input에 대하여 제대로 동작한다고 가정하고 함수를 완성한다."
   ]
  },
  {
   "cell_type": "markdown",
   "id": "b1481c7c",
   "metadata": {},
   "source": [
    "재귀함수 디자인\n",
    "\n",
    "isRightParenthesis(p)\n",
    "\n",
    "p가 올바른 괄호이면\n",
    "\"YES\", 아니면 \"NO\"를 반환하는 함수"
   ]
  },
  {
   "cell_type": "markdown",
   "id": "266ecc2f",
   "metadata": {},
   "source": []
  },
  {
   "cell_type": "markdown",
   "id": "ea8d00f0",
   "metadata": {},
   "source": [
    "올바른 괄호인지 판단하기\n",
    "본 문제에서는 입력으로 주어지는 괄호가 올바른 괄호인지를 판단하는 프로그램을 작성합니다.\n",
    "\n",
    "예를 들어, ‘(())’ 은 올바른 괄호이지만, ‘(()))’, 혹은 ‘(()()(‘ 는 올바른 괄호가 아닙니다.\n",
    "\n",
    "올바른 괄호일때 ‘YES’를, 올바르지 않은 괄호일때 ‘NO’를 출력해 봅시다.\n",
    "\n",
    "입력 예시 1\n",
    "(())()\n",
    "Copy\n",
    "출력 예시 1\n",
    "YES\n",
    "Copy\n",
    "입력 예시 2\n",
    "(((())())(()())((())()))\n",
    "Copy\n",
    "출력 예시 2\n",
    "YES\n",
    "Copy\n",
    "입력 예시 3\n",
    "(())())()\n",
    "Copy\n",
    "출력 예시 3\n",
    "NO\n",
    "Copy\n",
    "입력 예시 4\n",
    "((()())(()())))(())\n",
    "Copy\n",
    "출력 예시 4\n",
    "NO\n",
    "Copy\n",
    "\n",
    "입력\n",
    "괄호 ppp가 주어집니다.\n",
    "\n",
    "출력\n",
    "ppp가 올바른 괄호이면 YES, 그렇지 않으면 NO를 출력합니다."
   ]
  },
  {
   "cell_type": "code",
   "execution_count": null,
   "id": "377ee0dd",
   "metadata": {},
   "outputs": [],
   "source": [
    "# my_code\n",
    "def checkParen(p):\n",
    "    '''\n",
    "    괄호 문자열 p의 쌍이 맞으면 \"YES\", 아니면  \"NO\"를 반환\n",
    "    '''\n",
    "    # 재귀적으로 풀어야 하는가 \n",
    "    # 일단 내맘대로 한번 풀어보자\n",
    "    mylist = [x for x in p]\n",
    "    print(mylist)\n",
    "    Sum = 0\n",
    "    right = 0\n",
    "    left = 0\n",
    "    for x in mylist:\n",
    "        if right > left :\n",
    "            return \"NO\"\n",
    "        if x == \"(\":\n",
    "            Sum += 1\n",
    "            left += 1\n",
    "        else:\n",
    "            Sum -= 1\n",
    "            right += 1\n",
    "        \n",
    "    if Sum < 0:\n",
    "            return \"NO\"\n",
    "    if Sum == 0:\n",
    "        return \"YES\"\n",
    "    else:\n",
    "        return \"NO\"\n",
    "\n",
    "def main():\n",
    "    '''\n",
    "    이 부분은 수정하지 마세요.\n",
    "    '''\n",
    "\n",
    "    x = input()\n",
    "    print(checkParen(x))\n",
    "\n",
    "if __name__ == \"__main__\":\n",
    "    main()"
   ]
  },
  {
   "cell_type": "code",
   "execution_count": null,
   "id": "f73b05b1",
   "metadata": {},
   "outputs": [],
   "source": [
    "# t-code\n",
    "def checkParen(p):\n",
    "    '''\n",
    "    괄호 문자열 p의 쌍이 맞으면 \"YES\", 아니면  \"NO\"를 반환\n",
    "    1. 기저조건 처리\n",
    "    2. p에서 인접한 괄호쌍을 찾아 제거\n",
    "    3. checkParen()함수에 다시 물어본다.\n",
    "    '''\n",
    "    if len(p) == 0 :\n",
    "        return \"YES\"\n",
    "    elif len(p) == 1 :\n",
    "        return \"NO\"\n",
    "    \n",
    "    for i in range(len(p) - 1):\n",
    "        if p[i] == '(' and p[i+1] == ')':\n",
    "            q = p[:i] + p[i+2:]\n",
    "            return checkParen(q)\n",
    "    return \"NO\"\n",
    "    \n",
    "def main():\n",
    "    '''\n",
    "    이 부분은 수정하지 마세요.\n",
    "    '''\n",
    "\n",
    "    x = input()\n",
    "    print(checkParen(x))\n",
    "\n",
    "if __name__ == \"__main__\":\n",
    "    main()\n",
    "\n",
    "\n"
   ]
  },
  {
   "cell_type": "markdown",
   "id": "0496bb7c",
   "metadata": {},
   "source": []
  },
  {
   "cell_type": "markdown",
   "id": "1711b41f",
   "metadata": {},
   "source": [
    "6. 요약"
   ]
  },
  {
   "cell_type": "markdown",
   "id": "8f36ae66",
   "metadata": {},
   "source": [
    "요약\n",
    "\n",
    "알고리즘은 \"문제를 해결하는 방법\"이다.\n",
    "\n",
    "재귀호출은 알고리즘에서 매우 중요하다."
   ]
  }
 ],
 "metadata": {
  "kernelspec": {
   "display_name": "Python 3",
   "language": "python",
   "name": "python3"
  },
  "language_info": {
   "codemirror_mode": {
    "name": "ipython",
    "version": 3
   },
   "file_extension": ".py",
   "mimetype": "text/x-python",
   "name": "python",
   "nbconvert_exporter": "python",
   "pygments_lexer": "ipython3",
   "version": "3.8.8"
  }
 },
 "nbformat": 4,
 "nbformat_minor": 5
}
