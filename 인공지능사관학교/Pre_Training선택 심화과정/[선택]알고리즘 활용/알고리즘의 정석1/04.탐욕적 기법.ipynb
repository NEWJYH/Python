{
 "cells": [
  {
   "cell_type": "markdown",
   "id": "f0af65cb",
   "metadata": {},
   "source": [
    "수강 목표\n",
    "\n",
    "탐욕적 기법에 대해 알아봅니다.\n",
    "\n",
    "지금까지 과정에 대해서 복습해 봅니다."
   ]
  },
  {
   "cell_type": "markdown",
   "id": "a9d6231c",
   "metadata": {},
   "source": [
    "목 차\n",
    "\n",
    "1.탐욕적 기법\n",
    "\n",
    "2.과정 요약"
   ]
  },
  {
   "cell_type": "markdown",
   "id": "3c6d2046",
   "metadata": {},
   "source": []
  },
  {
   "cell_type": "markdown",
   "id": "008c7e21",
   "metadata": {},
   "source": [
    "1.탐욕적 기법"
   ]
  },
  {
   "cell_type": "markdown",
   "id": "f52d1733",
   "metadata": {},
   "source": [
    "탐욕적 기법\n",
    "\n",
    "순간의 최적의 선택이\n",
    "궁극적으로 최적의 선택이다.\n",
    "\n",
    "단순한 방법도\n",
    "문제 풀이에는 충분하다."
   ]
  },
  {
   "cell_type": "markdown",
   "id": "92d12a45",
   "metadata": {},
   "source": [
    "도둑이 보석을 훔치는 상황을 가정\n",
    "\n",
    "도둑의 주머니 한정적 훔칠수 있는 보석도 한정적\n",
    "가치는 최대로 \n",
    "\n",
    "같은 부피의 금과 은이라면 금을 골라 훔침 \n",
    "\n",
    "마시멜로우가 있는데 한시간동안 먹지 않고 참으면 1박스를 줌.\n",
    "전체 이득 : 1시간동안 먹지 않는것.\n",
    "\n",
    "탐욕적 기법 : 순간의 선택이 최적의 선택이므로 매번 최적의 선택\n",
    "             단순한 방법도 문제풀이에 충분하다."
   ]
  },
  {
   "cell_type": "markdown",
   "id": "a65a3fa7",
   "metadata": {},
   "source": [
    "[실습1] 거스름돈\n",
    "\n",
    "1원, 5원, 10원, 50원, 100원 짜리가 있을 때,\n",
    "돌려줘야 하는 동전의 최소 개수를 구하라.\n",
    "\n",
    "입력의 예 - 되돌려줄 거스름돈의 액수\n",
    "7 \n",
    "\n",
    "출력의 예 - 동전의 갯수\n",
    "3\n",
    "\n",
    "거스름돈 7원\n",
    "1원 x 7                    7\n",
    "5원 x 1    1원 x 2          3"
   ]
  },
  {
   "cell_type": "markdown",
   "id": "fa62386f",
   "metadata": {},
   "source": [
    "[실습1] 거스름돈\n",
    "\n",
    "1원, 5원, 10원, 50원, 100원\n",
    "\n",
    "173원\n",
    "\n",
    "가장 큰 금액부터\n",
    "\n",
    "100원 1개 50원 1개 10원 2개 1원 3개"
   ]
  },
  {
   "cell_type": "markdown",
   "id": "e54c2dac",
   "metadata": {},
   "source": [
    "[실습2] 기울기가 가장 큰 두 점 찾기\n",
    "\n",
    "기울기의 최댓값을 구하라\n",
    "(단, 1<= n <= 100,000)\n",
    "\n",
    "입력의 예\n",
    "4\n",
    "0 3\n",
    "1 1\n",
    "2 1\n",
    "4 1\n",
    "\n",
    "출력의 예\n",
    "2.000\n",
    "\n",
    "완전 탐색 O(n^2) 최악의 경우 연산 100억\n",
    "\n",
    "탐욕적 기법은 어렵다.\n",
    "\n",
    "순간의 최적의 선택이 증명한다는 것이 어렵기 때문.\n",
    "내가 내린 가설 : x값의 차이가 가장 작고, y값의 차가 가장 큰 값\n",
    "\n",
    "두 점 A,B 사이에 점C가 존재하면,\n",
    "A,B의 기울기는 최대값이 될 수 없다."
   ]
  },
  {
   "cell_type": "markdown",
   "id": "92abdcdc",
   "metadata": {},
   "source": [
    "[실습3] Fractional knapsack\n",
    "\n",
    "가방에 최대한 가치 높은 물건들을 담아보자.\n",
    "단, 1<= n <= 100,000\n",
    "\n",
    "입력의 예\n",
    "4 10   <- n개의 물건 m의 무게 가방\n",
    "3 10   <- 3의 무게와 10의 가치를 가짐\n",
    "2 7\n",
    "4 9\n",
    "5 13 \n",
    "\n",
    "출력의 예\n",
    "30.000"
   ]
  },
  {
   "cell_type": "markdown",
   "id": "f989c152",
   "metadata": {},
   "source": [
    "[실습3] Fractional knapsack\n",
    "\n",
    "가방에 최대한 가치 높은 물건들을 담아보자.\n",
    "단, 1<= n <= 100,000\n",
    "\n",
    "가능한 모든 조합\n",
    "가성비가 좋은 물건 부터 픽"
   ]
  },
  {
   "cell_type": "markdown",
   "id": "a292ee15",
   "metadata": {},
   "source": []
  },
  {
   "cell_type": "markdown",
   "id": "2d1f563c",
   "metadata": {},
   "source": [
    "거스름돈\n",
    "엘리스씨는 1원, 5원, 10원, 50원, 100원 짜리 동전이 무한개(!) 존재하는 가게에 근무한다. 손님이 계산을 하고 난 후, 거스름돈을 돌려주어야 하는데 가능한 적은 수의 동전을 돌려주고 싶다.\n",
    "\n",
    "예를 들어, 7원을 돌려줘야 한다면 1원을 7개 돌려줄 수도 있지만, 그것보다는 5원 1개와 1원 2개를 돌려주는 것이 적은 수의 동전을 돌려주는 것이므로, 이것이 더 좋은 경우이다.\n",
    "\n",
    "거스름돈 nnn원을 돌려주어야 할 때, 돌려주어야 하는 동전 개수의 최솟값을 출력하는 프로그램을 작성하세요.\n",
    "\n",
    "입력 예시 1\n",
    "7\n",
    "Copy\n",
    "출력 예시 1\n",
    "3\n",
    "Copy\n",
    "입력 예시 2\n",
    "103\n",
    "Copy\n",
    "출력 예시 2\n",
    "4\n",
    "Copy\n",
    "\n",
    "문제 조건\n",
    "돌려주어야 하는 거스름돈은 최대 100,000,000입니다."
   ]
  },
  {
   "cell_type": "markdown",
   "id": "cd9a9279",
   "metadata": {},
   "source": []
  },
  {
   "cell_type": "markdown",
   "id": "30228844",
   "metadata": {},
   "source": []
  },
  {
   "cell_type": "markdown",
   "id": "7b6ba74b",
   "metadata": {},
   "source": []
  },
  {
   "cell_type": "markdown",
   "id": "650245b1",
   "metadata": {},
   "source": []
  },
  {
   "cell_type": "markdown",
   "id": "e96bc651",
   "metadata": {},
   "source": []
  },
  {
   "cell_type": "markdown",
   "id": "8f3daac6",
   "metadata": {},
   "source": []
  },
  {
   "cell_type": "markdown",
   "id": "79c9d249",
   "metadata": {},
   "source": []
  },
  {
   "cell_type": "markdown",
   "id": "1ba218bd",
   "metadata": {},
   "source": []
  },
  {
   "cell_type": "markdown",
   "id": "0e3390e5",
   "metadata": {},
   "source": []
  },
  {
   "cell_type": "markdown",
   "id": "636d244a",
   "metadata": {},
   "source": []
  }
 ],
 "metadata": {
  "kernelspec": {
   "display_name": "Python 3",
   "language": "python",
   "name": "python3"
  },
  "language_info": {
   "codemirror_mode": {
    "name": "ipython",
    "version": 3
   },
   "file_extension": ".py",
   "mimetype": "text/x-python",
   "name": "python",
   "nbconvert_exporter": "python",
   "pygments_lexer": "ipython3",
   "version": "3.8.8"
  }
 },
 "nbformat": 4,
 "nbformat_minor": 5
}
