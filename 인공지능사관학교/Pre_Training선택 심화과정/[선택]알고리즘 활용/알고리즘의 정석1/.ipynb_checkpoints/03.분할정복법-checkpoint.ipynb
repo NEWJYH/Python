{
 "cells": [
  {
   "cell_type": "markdown",
   "id": "5d055ddb",
   "metadata": {},
   "source": [
    "수강 목표\n",
    "\n",
    "재귀함수를 복습해 봅니다.\n",
    "\n",
    "분할정복법에 대해 알아봅니다.\n",
    "\n",
    "분할정복법 대표 예제에 대해서 배워봅니다."
   ]
  },
  {
   "cell_type": "markdown",
   "id": "7759013b",
   "metadata": {},
   "source": [
    "목 차\n",
    "\n",
    "1. 재귀 호출을 이용한 문제 해결\n",
    "\n",
    "2. 분할정복법\n",
    "\n",
    "3. 요약"
   ]
  },
  {
   "cell_type": "markdown",
   "id": "b3036896",
   "metadata": {},
   "source": []
  },
  {
   "cell_type": "markdown",
   "id": "0bdb4d14",
   "metadata": {},
   "source": [
    "1. 재귀 호출을 이용한 문제 해결"
   ]
  },
  {
   "cell_type": "markdown",
   "id": "00a7bb92",
   "metadata": {},
   "source": [
    "재귀함수의 올바른 디자인 및 해석\n",
    "\n",
    "재귀함수를 디자인 하기 위한 세 가지 단계\n",
    "\n",
    "1) 함수의 정의를 명확히 한다.\n",
    "\n",
    "2) 기저 조건에서 함수가 제대로 동작하게 작성한다.\n",
    "\n",
    "3) 함수가 제대로 동작한다고 가정하고 함수를 완성한다."
   ]
  },
  {
   "cell_type": "markdown",
   "id": "3aba673c",
   "metadata": {},
   "source": [
    "[실습1] 가장 가까운 값 찾기\n",
    "\n",
    "정렬된 n개의 숫자 중\n",
    "정수 m과 가장 가까운 값 찾기\n",
    "(단, 1<= n <= 100,000)\n",
    "\n",
    "입력의 예\n",
    "1 4 6 7 10 14 16\n",
    "8\n",
    "\n",
    "출력의 예\n",
    "7\n",
    "\n",
    "- 첫번째 시도 : 완전 탐색\n",
    "- 모든 n개의 숫자와 숫자 m을 비교하여 격차가 가장 작은 값을 찾으면 됨\n",
    "- O(n)\n",
    "\n",
    "- 중요 조건 n개의 숫자가 정렬되어 있다.\n",
    "- 이진 탐색"
   ]
  },
  {
   "cell_type": "markdown",
   "id": "6f6ec19e",
   "metadata": {},
   "source": [
    "이진 탐색\n",
    "\n",
    "1 4 6 7 10 14 16      14\n",
    "      |\n",
    "- 중간 값을 기준으로 찾고자 하는 숫자를 비교합니다.\n",
    "\n",
    "- 7과 비교 왼쪽 배제 \n",
    "- 10 14 16\n",
    "- 총 2번 탐색으로 14를 찾음.\n",
    "\n",
    "- 이진 탐색을 이용 2번만에 찾음\n",
    "\n",
    "1 4 6 7 10 14 16      5\n",
    "      |\n",
    "\n",
    "- 1 4 6 \n",
    "- / / 6\n",
    "- 리스트에 5가 없다. \n",
    "- 완전 탐색에서 리스트에 5가 없다는걸 확인하려면 7번 탐색\n",
    "- 이진 탐색은 3번\n",
    "\n",
    "- 이진 탐색의 시간 복잡도 O(logn)\n",
    "- n이 21억일때 logn은 27정도의 작은 숫자"
   ]
  },
  {
   "cell_type": "markdown",
   "id": "2348b8e7",
   "metadata": {},
   "source": [
    "가장 가까운 값 찾기\n",
    "\n",
    "1 4 6 7 10 14 16      8\n",
    "/ / / 7\n",
    "        10  /  /\n",
    "\n",
    "- 만약 리스트의 길이가 1이라면 해당 리스트가 정답.\n",
    "- 리스트의 길이가 2라면 두원소 비교후 더 가까운지 비교\n",
    "- 정답으로 7을 출력"
   ]
  },
  {
   "cell_type": "markdown",
   "id": "d386c950",
   "metadata": {},
   "source": [
    "[실습2] 거듭제곱 구하기\n",
    "\n",
    "m^n = m x m x m x ... x m\n",
    "\n",
    "getPower(m, n) : m^n을 반환하는 함수\n",
    "\n",
    "getPower(m, n) = m x getPower(m, n-1)  점화식\n",
    "getPower(m, 0) = 1                     기저 조건"
   ]
  },
  {
   "cell_type": "markdown",
   "id": "7120b524",
   "metadata": {},
   "source": [
    "[실습2] 거듭제곱 구하기\n",
    "\n",
    "m^n = m x m x m x ... x m\n",
    "\n",
    "getPower(m, n) : m^n을 반환하는 함수\n",
    "\n",
    "m^n \n",
    "- n이 짝수라면? (m^n/2)^2\n",
    "- n이 홀수라면? (m^(n-1/2))^2 x m\n",
    "  2^5 = (2^2)^2 x 2\n",
    "  \n",
    "ex) 2^10 = (2^5)^2 = (2^2)^2 x 2\n",
    "\n",
    "어떤수 n을 0이 될때까지 절반 O(logn)\n",
    "\n",
    "- 점화식을 어떻게 작성하냐에 따라 시간복잡도가 달라짐"
   ]
  },
  {
   "cell_type": "markdown",
   "id": "cb9d164f",
   "metadata": {},
   "source": []
  },
  {
   "cell_type": "markdown",
   "id": "49b2026c",
   "metadata": {},
   "source": [
    "가장 가까운 값 찾기\n",
    "오름차순으로 정렬된 nnn개의 숫자가 주어지고, 정수 mmm이 주어질 때, nnn개의 숫자 중에서 mmm과 가장 가까운 숫자를 출력하는 프로그램을 작성하시오. 만약 가장 가까운 숫자가 2개 이상이라면, 그 중 가장 작은 숫자를 출력한다.\n",
    "\n",
    "입력 예시 1\n",
    "1 4 6 7 10 14 16\n",
    "8\n",
    "Copy\n",
    "출력 예시 1\n",
    "7\n",
    "Copy\n",
    "입력 예시 2\n",
    "1 4 6 7 10 14 16\n",
    "12\n",
    "Copy\n",
    "출력 예시 2\n",
    "10\n",
    "Copy\n",
    "\n",
    "문제 조건\n",
    "입력되는 수의 개수는 최대 100,000개입니다.\n",
    "만약 가장 가까운 숫자가 2개 이상일 경우, 그 중 가장 작은 값을 출력합니다."
   ]
  },
  {
   "cell_type": "code",
   "execution_count": 1,
   "id": "7cce6f58",
   "metadata": {},
   "outputs": [
    {
     "name": "stdout",
     "output_type": "stream",
     "text": [
      "1 4 6 7 10 14 16\n",
      "8\n",
      "7\n"
     ]
    }
   ],
   "source": [
    "import sys\n",
    "\n",
    "def getNearestInternal(data, m):\n",
    "    '''\n",
    "    m과 가장 가까운 값 후보인 두 값을 리턴하는 함수.\n",
    "    '''\n",
    "    if len(data) == 1:\n",
    "        return (data[0], data[0])\n",
    "    elif len(data) == 2:\n",
    "        return (data[0], data[1])\n",
    "    \n",
    "    mid = len(data) // 2\n",
    "    if data[mid] <= m :\n",
    "        return getNearestInternal(data[mid:], m)\n",
    "    else:\n",
    "        return getNearestInternal(data[:mid+1], m)\n",
    "    \n",
    "    return \n",
    "\n",
    "def getNearest(data, m) :\n",
    "    '''\n",
    "    n개의 숫자가 list로 주어지고,\n",
    "    숫자 m이 주어질 때, \n",
    "    n개의 숫자 중에서 \n",
    "    m과 가장 가까운 숫자를 반환하는 함수를 작성하세요.\n",
    "    \n",
    "    가장 가까운 값 후보인 두 값을 찾고, \n",
    "    더 가까운 것을 반환\n",
    "    '''\n",
    "    \n",
    "    value = getNearestInternal(data, m)\n",
    "    \n",
    "    \n",
    "    '''\n",
    "    value[0] : m이하이면서 가장 가까운 값\n",
    "    value[1] : m이상이면서 가장 가까운 값\n",
    "    '''\n",
    "    \n",
    "    if m - value[0] <= value[1] - m :\n",
    "        return value[0]\n",
    "    else:\n",
    "        return value[1]\n",
    "    \n",
    "    return 0\n",
    "\n",
    "def main():\n",
    "    '''\n",
    "    이 부분은 수정하지 마세요.\n",
    "    '''\n",
    "\n",
    "    data = [int(x) for x in input().split()]\n",
    "    m = int(input())\n",
    "\n",
    "    print(getNearest(data, m))\n",
    "\n",
    "if __name__ == \"__main__\":\n",
    "    main()\n"
   ]
  },
  {
   "cell_type": "markdown",
   "id": "bafc2473",
   "metadata": {},
   "source": [
    "거듭제곱 구하기\n",
    "본 연습문제에서는 m^n을 구하는 프로그램을 작성합니다.\n",
    "\n",
    "입력으로는 m,n이 차례대로 입력됩니다.\n",
    "\n",
    "만약 getPower 함수의 반환 값이 1,000,000,007 보다 클 경우, 반환 값을 1,000,000,007로 나눈 나머지 값을 반환하세요.\n",
    "\n",
    "입력 예시\n",
    "3 4\n",
    "Copy\n",
    "출력 예시\n",
    "81\n",
    "Copy\n",
    "\n",
    "문제 조건\n",
    "0 <= n <= 1,000,000,000,000"
   ]
  },
  {
   "cell_type": "code",
   "execution_count": 3,
   "id": "670101ae",
   "metadata": {},
   "outputs": [
    {
     "name": "stdout",
     "output_type": "stream",
     "text": [
      "3 4\n",
      "81\n"
     ]
    }
   ],
   "source": [
    "LIMIT_NUMBER = 1000000007\n",
    "\n",
    "def getPower(m, n):\n",
    "    '''\n",
    "    m^n 을 LIMIT_NUMBER로 나눈 나머지를 반환하는 함수를 작성하세요.\n",
    "    '''\n",
    "    # 기저조건\n",
    "    if n == 0 :\n",
    "        return 1\n",
    "    elif n % 2 == 0 :\n",
    "        temp = getPower(m, n//2)\n",
    "        return (temp * temp) % LIMIT_NUMBER\n",
    "    else:\n",
    "        temp = getPower(m, (n-1) // 2)\n",
    "        return (temp * temp * m) % LIMIT_NUMBER\n",
    "    return 1\n",
    "\n",
    "def main():\n",
    "    '''\n",
    "    이 부분은 수정하지 마세요.\n",
    "    '''\n",
    "\n",
    "    myList = [int(v) for v in input().split()]\n",
    "\n",
    "    print(getPower(myList[0], myList[1]))\n",
    "\n",
    "if __name__ == \"__main__\":\n",
    "    main()\n"
   ]
  },
  {
   "cell_type": "markdown",
   "id": "1fcd0d06",
   "metadata": {},
   "source": []
  },
  {
   "cell_type": "markdown",
   "id": "57d5b18b",
   "metadata": {},
   "source": [
    "2. 분할정복법"
   ]
  },
  {
   "cell_type": "markdown",
   "id": "f575933b",
   "metadata": {},
   "source": [
    "분할 정복법\n",
    "\n",
    "문제를 소문제로 분할\n",
    "\n",
    "각각의 소문제를 해결\n",
    "\n",
    "소문제의 해결 결과를 이용해 전체 문제를 해결"
   ]
  },
  {
   "cell_type": "markdown",
   "id": "7dd1041e",
   "metadata": {},
   "source": [
    "분할정복법\n",
    "\n",
    "\n",
    "어렵다\n",
    "\n",
    "- 작은 문제? "
   ]
  },
  {
   "cell_type": "markdown",
   "id": "3fc8898e",
   "metadata": {},
   "source": [
    "분할정복법\n",
    "\n",
    "분할정복법으로 해결할 수 있는 대표적인 예제\n",
    "\n",
    "수학적 문제 해결 능력이 가장 중요\n",
    "\n",
    "키보드 대신에 노트와 펜을 들고 생각"
   ]
  },
  {
   "cell_type": "markdown",
   "id": "89c3e4c3",
   "metadata": {},
   "source": [
    "[실습3] 합병정렬 구현\n",
    "\n",
    "합병정렬을 구현하라\n",
    "(단, 1<= n <= 100,000)\n",
    "\n",
    "입력의 예\n",
    "1 5 6 2 3 8 4 9 7 10\n",
    "\n",
    "출력의 예\n",
    "1 2 3 4 5 6 7 8 9 10"
   ]
  },
  {
   "cell_type": "markdown",
   "id": "4ba8ba51",
   "metadata": {},
   "source": [
    "합병 정렬\n",
    "\n",
    "재귀호출을 이용한 대표적인 정렬\n",
    "\n",
    "3 5 7 2 5 9 13 11 24 11 23 1 4 5 3 2\n",
    "- 일단 나눔\n",
    "3 5 7 2 5 9 13 11       24 11 23 1 4 5 3 2\n",
    "- 나눈 부분 정렬\n",
    "2 3 5 5 7 9 11 13       1 2 3 4 5 11 23 24\n",
    "- 각 리스트의 맨 앞의 원소 비교\n",
    "- 왼쪽 리스트 2가 가장 작고 오른쪽 리스트 1이 가장 작음\n",
    "- 둘중 더 작은 값을 빼서 전체 리스트에 넣어줌\n",
    "\n",
    "2 3 5 5 7 9 11 13      1      2 3 4 5 11 23 24\n",
    "- 값을 비교해서 두 값이 같다면 왼쪽 리스트에서 빼서 전체 리스트에 넣어줌\n",
    "\n",
    "3 5 5 7 9 11 13      1 2      2 3 4 5 11 23 24\n",
    "3 5 5 7 9 11 13      1 2 2      3 4 5 11 23 24\n",
    "5 5 7 9 11 13      1 2 2 3      3 4 5 11 23 24\n",
    "5 5 7 9 11 13      1 2 2 3 3      4 5 11 23 24\n",
    "5 5 7 9 11 13      1 2 2 3 3 4      5 11 23 24\n",
    "5 7 9 11 13      1 2 2 3 3 4 5      5 11 23 24\n",
    "7 9 11 13      1 2 2 3 3 4 5 5      5 11 23 24\n",
    "7 9 11 13      1 2 2 3 3 4 5 5 5      11 23 24\n",
    "9 11 13      1 2 2 3 3 4 5 5 5 7      11 23 24\n",
    "11 13      1 2 2 3 3 4 5 5 5 7 9      11 23 24\n",
    "13      1 2 2 3 3 4 5 5 5 7 9 11      11 23 24\n",
    "13      1 2 2 3 3 4 5 5 5 7 9 11 11      23 24\n",
    "   1 2 2 3 3 4 5 5 5 7 9 11 11 13        23 24\n",
    "   1 2 2 3 3 4 5 5 5 7 9 11 11 13 23 24\n",
    "\n",
    "1 2 2 3 3 4 5 5 5 7 9 11 11 13 23 24\n",
    "\n"
   ]
  },
  {
   "cell_type": "markdown",
   "id": "312325d7",
   "metadata": {},
   "source": [
    "합병정렬의 시간복잡도\n",
    "\n",
    "합병정렬의 시간복잡도는?\n",
    "n개를 정렬하는데 드는 시간 = T(n)\n",
    "\n",
    "T(n) = T(n/2) + T(n/2) + O(n)\n",
    "\n",
    "n이 1이될때까지 2로 나눈 횟수는 log(n)\n",
    "분할한것을 다시 합치는데 O(n) 소요\n",
    "\n",
    "logn x O(n) = O(nlogn)"
   ]
  },
  {
   "cell_type": "markdown",
   "id": "ce832401",
   "metadata": {},
   "source": [
    "[실습4] 연속부분 최대합\n",
    "\n",
    "연속된 부분을 선택하였을 때, 그 최대 합을 출력\n",
    "(단, 1<=n<=100,000)\n",
    "\n",
    "입력의 예\n",
    "1 2 -4 5 3 -2 9 10\n",
    "\n",
    "출력의 예\n",
    "25\n",
    "\n",
    "- 완전탐색으로 문제 해결시 O(n^3)\n",
    "- 천조;\n",
    "- 분할정복법으로 해결"
   ]
  },
  {
   "cell_type": "markdown",
   "id": "d5842fe1",
   "metadata": {},
   "source": [
    "[실습4] 연속부분 최대합\n",
    "\n",
    "우선 절반으로 나누어 각각을 구해보자\n",
    "\n",
    "2 1 -2 5 -10 3     2 5 -3 7 9 -10"
   ]
  },
  {
   "attachments": {
    "%EC%97%B0%EC%86%8D%EB%B6%80%EB%B6%84%EC%B5%9C%EB%8C%80%ED%95%A9.png": {
     "image/png": "[encoded data removed]"
    }
   },
   "cell_type": "markdown",
   "id": "fa5f4d63",
   "metadata": {},
   "source": [
    "![%EC%97%B0%EC%86%8D%EB%B6%80%EB%B6%84%EC%B5%9C%EB%8C%80%ED%95%A9.png](attachment:%EC%97%B0%EC%86%8D%EB%B6%80%EB%B6%84%EC%B5%9C%EB%8C%80%ED%95%A9.png)"
   ]
  },
  {
   "cell_type": "markdown",
   "id": "9c1e8c51",
   "metadata": {},
   "source": [
    "[실습4] 연속부분 최대합\n",
    "\n",
    "모든 경우를 고려했음.\n",
    "\n",
    "1) 왼쪽만 포함하는 경우,\n",
    "2) 오른쪽만 포함하는경우,\n",
    "3) 자른 자리를 포함하는 경우\n",
    "\n",
    "2 1 -2 5 - 10 3 | 2 5 -3 7 9 -10\n",
    "| |  | |          | |  | | |\n",
    "왼쪽 부분 최대합 6   오른쪽 부분 최대합 20\n",
    "              |   |  | | | |\n",
    "              자른 자리를 포함하는 경우 23 V"
   ]
  },
  {
   "cell_type": "markdown",
   "id": "678ca300",
   "metadata": {},
   "source": [
    "[실습4] 연속부분 최대합\n",
    "\n",
    "시간 복잡도\n",
    "\n",
    "T(N) = 2 * T(N/2) + O(N)\n",
    "\n",
    "O ( N log N)"
   ]
  },
  {
   "cell_type": "markdown",
   "id": "112ba674",
   "metadata": {},
   "source": []
  },
  {
   "cell_type": "markdown",
   "id": "046f9db8",
   "metadata": {},
   "source": [
    "합병정렬 구현\n",
    "nnn개의 숫자를 합병정렬을 이용하여 정렬하는 프로그램을 작성하세요.\n",
    "\n",
    "입력 예시\n",
    "1 5 6 2 3 8 4 9 7 10\n",
    "Copy\n",
    "출력 예시\n",
    "1 2 3 4 5 6 7 8 9 10\n",
    "Copy\n",
    "\n",
    "문제 조건\n",
    "입력되는 수의 새구는 최대 100000개입니다."
   ]
  },
  {
   "cell_type": "code",
   "execution_count": null,
   "id": "17dde405",
   "metadata": {},
   "outputs": [],
   "source": [
    "import sys\n",
    "import math\n",
    "\n",
    "def mergeSort(data) :\n",
    "    '''\n",
    "    n개의 숫자를 합병정렬을 이용하여 \n",
    "    정렬한 결과를 list로 반환하는 함수를 작성하세요.\n",
    "    '''\n",
    "    if len(data) == 1:\n",
    "        return data\n",
    "    \n",
    "    mid = len(data) // 2\n",
    "    \n",
    "    left = mergeSort(data[:mid])\n",
    "    right = mergeSort(data[mid:])\n",
    "    \n",
    "    result = []\n",
    "    # 각 리스트 인덱스\n",
    "    lPtr = 0\n",
    "    rPtr = 0\n",
    "    \n",
    "    while lPtr < len(left) or rPtr < len(right) :\n",
    "        leftValue = left[lPtr] if lPtr < len(left) else math.inf\n",
    "        rightValue = right[rPtr] if rPtr < len(right) else math.inf\n",
    "        \n",
    "        if leftValue <= rightValue:\n",
    "            result.append(leftValue)\n",
    "            lPtr += 1\n",
    "        else:\n",
    "            result.append(rightValue)\n",
    "            rPtr += 1\n",
    "            \n",
    "    return result\n",
    "\n",
    "def main():\n",
    "    '''\n",
    "    이 부분은 수정하지 마세요.\n",
    "    '''\n",
    "\n",
    "    data = [int(x) for x in input().split()]\n",
    "\n",
    "    print(*mergeSort(data))\n",
    "\n",
    "if __name__ == \"__main__\":\n",
    "    main()\n"
   ]
  },
  {
   "cell_type": "markdown",
   "id": "3b4eb60a",
   "metadata": {},
   "source": [
    "연속부분최대합 (Medium)\n",
    "nnn개의 숫자가 주어질 때, 연속 부분을 선택하여 그 합을 최대화 하는 프로그램을 작성하시오. 예를 들어, 다음과 같이 8개의 숫자가 있다고 하자.\n",
    "\n",
    "1 2 -4 5 3 -2 9 -10\n",
    "\n",
    "이 때, 연속 부분이란 연속하여 숫자를 선택하는 것을 말한다. 가능한 연속 부분으로써 [1, 2, -4], [5, 3, -2, 9], [9, -10] 등이 있을 수 있다. 이 연속 부분들 중에서 가장 합이 큰 연속 부분은 [5, 3, -2, 9] 이며, 이보다 더 합을 크게 할 수는 없다. 따라서 연속 부분 최대합은 5+3+(-2)+9 = 15 이다.\n",
    "\n",
    "입력 예시\n",
    "1 2 -4 5 3 -2 9 -10\n",
    "Copy\n",
    "출력 예시\n",
    "15\n",
    "Copy\n",
    "\n",
    "문제 조건\n",
    "입력되는 수의 개수는 최대 100,000개입니다."
   ]
  },
  {
   "cell_type": "code",
   "execution_count": null,
   "id": "03f5391f",
   "metadata": {},
   "outputs": [],
   "source": [
    "import sys\n",
    "\n",
    "def getSubsum(data) :\n",
    "    '''\n",
    "    n개의 숫자가 list로 주어질 때, 그 연속 부분 최대합을 반환하는 함수를 작성하세요.\n",
    "    '''\n",
    "    \n",
    "    n = len(data)\n",
    "    \n",
    "    if n == 1:\n",
    "        return data[0]\n",
    "    \n",
    "    '''\n",
    "    왼쪽, 오른쪽, 양쪽\n",
    "    '''\n",
    "    \n",
    "    mid = n // 2\n",
    "    left = getSubsum(data[:mid])\n",
    "    right = getSubsum(data[mid:])\n",
    "    \n",
    "    # 양쪽 일일이 넣을 변수\n",
    "    Sum = 0\n",
    "    # 가운데수를 포함하고 왼쪽에서 가장큰 연속 부분합\n",
    "    leftSum = 0\n",
    "    # 가운데수를 포함하고 오른쪽에서 가장 큰 연속 부분합\n",
    "    rightSum = 0\n",
    "    \n",
    "    # 왼쪽\n",
    "    for i in range(mid-1, -1, -1):\n",
    "        Sum += data[i]\n",
    "        leftSum = max(Sum, leftSum)\n",
    "    # 오른쪽\n",
    "    # 변수 초기화\n",
    "    Sum = 0\n",
    "    for i in range(mid, n):\n",
    "        Sum += data[i]\n",
    "        rightSum = max(Sum, rightSum)\n",
    "    return max([left, right, leftSum + rightSum])\n",
    "\n",
    "def main():\n",
    "    '''\n",
    "    이 부분은 수정하지 마세요.\n",
    "    '''\n",
    "\n",
    "    data = [int(x) for x in input().split()]\n",
    "\n",
    "    print(getSubsum(data))\n",
    "\n",
    "if __name__ == \"__main__\":\n",
    "    main()\n"
   ]
  },
  {
   "cell_type": "markdown",
   "id": "1d241586",
   "metadata": {},
   "source": []
  },
  {
   "cell_type": "markdown",
   "id": "6e0e3375",
   "metadata": {},
   "source": [
    "3. 요약"
   ]
  },
  {
   "cell_type": "markdown",
   "id": "4c9c84f5",
   "metadata": {},
   "source": [
    "요약\n",
    "\n",
    "분할 정복법은 어렵다\n",
    "\n",
    "분할정복법으로 해결할 수 있는 대표 예제\n",
    "합병정렬, 퀵정렬, 거듭제곱 구하기, 연속 부분 최대합\n",
    "가장 가까운 두 점 찾기, 히스토그램\n",
    "\n",
    "코딩능력 != 문제 해결 능력"
   ]
  }
 ],
 "metadata": {
  "kernelspec": {
   "display_name": "Python 3",
   "language": "python",
   "name": "python3"
  },
  "language_info": {
   "codemirror_mode": {
    "name": "ipython",
    "version": 3
   },
   "file_extension": ".py",
   "mimetype": "text/x-python",
   "name": "python",
   "nbconvert_exporter": "python",
   "pygments_lexer": "ipython3",
   "version": "3.8.8"
  }
 },
 "nbformat": 4,
 "nbformat_minor": 5
}
