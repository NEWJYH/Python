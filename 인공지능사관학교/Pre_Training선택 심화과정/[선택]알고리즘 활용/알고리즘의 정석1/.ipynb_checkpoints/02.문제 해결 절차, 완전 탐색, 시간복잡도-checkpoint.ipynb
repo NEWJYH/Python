{
 "cells": [
  {
   "cell_type": "markdown",
   "id": "8b44990a",
   "metadata": {},
   "source": [
    "목 차\n",
    "\n",
    "01.문제 해결의 절차\n",
    "\n",
    "02.시간 복잡도\n",
    "\n",
    "03.완전 탐색\n",
    "\n",
    "04.Complexity\n",
    "\n",
    "05.요약"
   ]
  },
  {
   "cell_type": "markdown",
   "id": "c2ff7ef7",
   "metadata": {},
   "source": []
  },
  {
   "cell_type": "markdown",
   "id": "6113cedf",
   "metadata": {},
   "source": [
    "01.문제 해결의 절차"
   ]
  },
  {
   "cell_type": "markdown",
   "id": "464e4224",
   "metadata": {},
   "source": [
    "문제 해결의 절차\n",
    "\n",
    "1.문제를 정확하게 이해한다.\n",
    "\n",
    "2.문제를 해결하는 알고리즘을 개발한다.\n",
    "\n",
    "3.알고리즘이 문제를 해결한다는 것을 증명한다.\n",
    "\n",
    "4.알고리즘이 제한시간내에 동작한다는 것을 보인다. (효과성)\n",
    "\n",
    "5.알고리즘을 코드로 작성한다."
   ]
  },
  {
   "cell_type": "markdown",
   "id": "924ab0e8",
   "metadata": {},
   "source": [
    "문제 해결의 절차\n",
    "[실습] k번째 숫자 찾기\n",
    " - 지금까지 입력된 숫자들 중에서 k번째 숫자는?\n",
    " \n",
    " \n",
    "2. 문제를 해결하는 알고리즘을 개발한다.\n",
    "    1.숫자 입력\n",
    "    2.정렬\n",
    "    3.k-1번째 숫자 출력\n",
    "    - 여기서 바로 코딩으로 넘어가지 않아야함"
   ]
  },
  {
   "cell_type": "markdown",
   "id": "ccd9cd89",
   "metadata": {},
   "source": [
    "문제 해결의 절차\n",
    "\n",
    "3.알고리즘이 문제를 해결한다는 것을 증명한다.\n",
    "    - 증명 먼저 후 코딩\n",
    "    - 제대로 문제가 풀리는지 확인"
   ]
  },
  {
   "cell_type": "markdown",
   "id": "9f7c55cb",
   "metadata": {},
   "source": [
    "문제 해결의 절차\n",
    "\n",
    "4.알고리즘이 제한시간내에 동작한다는 것을 보인다. (효과성)\n",
    "    - 제한시간내에 = 얼마나 빠른가? -> 시간 복잡도"
   ]
  },
  {
   "cell_type": "markdown",
   "id": "c98a56fe",
   "metadata": {},
   "source": []
  },
  {
   "cell_type": "markdown",
   "id": "db95ce1c",
   "metadata": {},
   "source": [
    "02.시간 복잡도"
   ]
  },
  {
   "cell_type": "markdown",
   "id": "0e1e589f",
   "metadata": {},
   "source": [
    "시간복잡도\n",
    "\n",
    "알고리즘이 대략 몇개의 명령을 수행하는가?\n",
    "프로그램의 수행 시간을 유추할 수 있음\n",
    "\n",
    "sum = 0               < 1번\n",
    "                              \n",
    "for i in range(n):     \n",
    "    sum = sum + i     < n번\n",
    "    \n",
    "이 알고리즘의 시간 복잡도 : O(n)"
   ]
  },
  {
   "cell_type": "markdown",
   "id": "0712cbaf",
   "metadata": {},
   "source": [
    "시간복잡도\n",
    "\n",
    "알고리즘이 대략 몇개의 명령을 수행하는가?\n",
    "프로그램의 수행 시간을 유추할 수 있음\n",
    "\n",
    "sum = 0               < 1번\n",
    "                              \n",
    "for i in range(n):\n",
    "    for j in range(i):\n",
    "        sum = sum + i     < n^2번\n",
    "    \n",
    "이 알고리즘의 시간 복잡도 : O(n^2)\n",
    "\n",
    "- 최고차 항의 개수만 생각하면 된다.\n",
    "- 간단하게 대략적으로 표현한것임"
   ]
  },
  {
   "cell_type": "markdown",
   "id": "6377808f",
   "metadata": {},
   "source": [
    "시간복잡도\n",
    "\n",
    "알고리즘이 대략 몇개의 명령을 수행하는가?\n",
    "프로그램의 수행 시간을 유추할 수 있음\n",
    "\n",
    "def findNumber(myList, target) :\n",
    "    for v in myList:\n",
    "        if v == target :\n",
    "            return True\n",
    "    return False\n",
    "    \n",
    "이 알고리즘의 시간 복잡도 : O(n)\n",
    "\n",
    "Big - O : 최악의 경우 가장 운이 나쁜 경우 를 기준으로 O(n)"
   ]
  },
  {
   "cell_type": "markdown",
   "id": "3c9068b3",
   "metadata": {},
   "source": [
    "시간복잡도\n",
    "\n",
    "Big-O 표기 : 최악의 경우에 수행하는 명령 수"
   ]
  },
  {
   "cell_type": "markdown",
   "id": "69e29cf5",
   "metadata": {},
   "source": [
    "시간복잡도\n",
    "\n",
    "O(n) vs O(n^2)\n",
    "\n",
    "- 시간 복잡도와 실제 수행시간의 관계 O(n)이 압도적으로 빠르다."
   ]
  },
  {
   "cell_type": "markdown",
   "id": "72796d41",
   "metadata": {},
   "source": [
    "문제 해결의 절차\n",
    "\n",
    "2.문제 해결하는 알고리즘을 개발한다.\n",
    "[실습] 올바른 괄호인지 판단하기\n",
    "- 인접한 괄호쌍을 하나씩 제거하는 알고리즘\n",
    "\n",
    "3.알고리즘이 문제를 해결한다는 것을 증명한다.\n",
    "- 1.문자열p가 비어있거나 1개인 경우 <- 기저 조건\n",
    "- 2.문자열q는 p사이에 괄호쌍이 추가된 문자열\n",
    "    이때 q가 y라면 p도 y\n",
    "    \n",
    "4.알고리즘이 제한시간내에 동작한다는 것을 보인다.\n",
    "- len(p) = n\n",
    "- q = p에서 괄호쌍이 하나 제거된 문자열\n",
    "- T(p) <- p가 올바른 문자열인지 확인하는데 드는 시간이라면\n",
    "  T(p) = T(q) + O(n)(괄호쌍을 하나 제거하는 시간)\n",
    "- 시간 복잡도 O(n^2)"
   ]
  },
  {
   "cell_type": "markdown",
   "id": "660b29a0",
   "metadata": {},
   "source": []
  },
  {
   "cell_type": "markdown",
   "id": "0b5396cb",
   "metadata": {},
   "source": [
    "03.완전 탐색"
   ]
  },
  {
   "cell_type": "markdown",
   "id": "dbd15883",
   "metadata": {},
   "source": [
    "완전 탐색 (Brute-Force)\n",
    "\n",
    "가능한 모든 경우를 시도해 보는 것\n",
    "가능한 모든 경우가 무엇인가?\n",
    "- 기초, 쉬운 경우"
   ]
  },
  {
   "cell_type": "markdown",
   "id": "ffb37c42",
   "metadata": {},
   "source": [
    "완전 탐색 (Brute-Force)\n",
    "\n",
    "가능한 모든 경우를 전부 고려해도 괜찮을 경우에는\n",
    "단순히 모든 경우를 고려함으로써 문제를 해결한다."
   ]
  },
  {
   "cell_type": "markdown",
   "id": "88e0bd5e",
   "metadata": {},
   "source": [
    "[실습1] 연속 부분 최대합\n",
    "\n",
    "연속된 부분을 선택하였을 때, 그 최대 합을 출력\n",
    "단, 1<= n <= 100\n",
    "\n",
    "입력의 예\n",
    "1 2 -4 5 3 -2 9 10\n",
    "\n",
    "출력의 예\n",
    "25"
   ]
  },
  {
   "cell_type": "markdown",
   "id": "c0e6e38c",
   "metadata": {},
   "source": [
    "완전 탐색의 중요성\n",
    "\n",
    "문제가 주어지면\n",
    "무.조.건\n",
    "완전 탐색법으로 먼저 시도해야 한다.\n"
   ]
  },
  {
   "cell_type": "markdown",
   "id": "8b5dbd91",
   "metadata": {},
   "source": [
    "상식적인 문제 해결의 흐름\n",
    "\n",
    "문제1 -> A로 해결 -> a ->B로 해결 ->b -> ...... G\n",
    "\n",
    "가장 기본이 되는 방법 부터 : 완전 탐색"
   ]
  },
  {
   "cell_type": "markdown",
   "id": "39777206",
   "metadata": {},
   "source": [
    "[실습1] 연속 부분 최대합\n",
    "\n",
    "연속된 부분을 선택하였을 때, 그 최대 합을 출력\n",
    "단, 1<= n <= 100\n",
    "\n",
    "1 2 -4 5 3 -2 9 10\n",
    "\n",
    "완전 탐색\n",
    "\n",
    "1 2 -4 5 3 -2 9 10\n",
    "|        |\n",
    "start    end\n",
    "- 시작 부분을 p 끝부분을 q라고 할때 \n",
    "- 리스트의 길이가 n일 때 \n",
    "- 시작부분을 나타내는 p는 p[0 ~ n-1], n개\n",
    "- 끝부분을 나타내는 q는 q[p ~ n-1], n-p개\n",
    "- p와 q를 골라 연속부분의 가지수는 1부터 n의 합이라 할수 있다.\n",
    "- 모든 연속부분을 구하는 과정 O(n^2) \n",
    "- 연속부분의 합을 계산하는 시간 복잡도는 O(n)\n",
    "- 시간 복잡도는 O(n^3)\n",
    "- 문제 조건 1 ~ 100까지 자연수 \n",
    "- 최악의 경우 100^3  백만 가지 수"
   ]
  },
  {
   "cell_type": "markdown",
   "id": "be5716dd",
   "metadata": {},
   "source": [
    "[실습2] 멱집합 구하기\n",
    "\n",
    "n개의 원소를 가지는 집합의 멱집합 구하기\n",
    "단, 1<= n <= 10\n",
    "\n",
    "입력의 예\n",
    "3\n",
    "\n",
    "출력의 예\n",
    "1\n",
    "1 2\n",
    "1 2 3\n",
    "1 3\n",
    "2\n",
    "2 3\n",
    "3\n",
    "\n",
    "- 재귀호출 사용\n",
    "- 1.함수의 정의를 명확하게\n",
    "- 2.기저 조건\n",
    "- 3.잘 동작하게\n",
    "\n",
    "전체 경우 : 1을 선택하는 경우와 그렇지 않은 경우\n",
    "getPowerSet(n, k) : k를 첫 원소로 갖는 집합을 반환\n",
    "\n",
    "getPowerSet(3, 1) : [1, 1,2, 1,2,3  1,3]\n",
    "\n",
    "getPowerSet(3, 2) : [2, 2,3]"
   ]
  },
  {
   "cell_type": "markdown",
   "id": "222e1abf",
   "metadata": {},
   "source": [
    "[실습2] 멱집합 구하기\n",
    "\n",
    "전체 경우 : 1을 선택하는 경우와 그렇지 않은 경우\n",
    "getPowerSet(n, k) : k를 첫 원소로 갖는 집합을 반환\n",
    "\n",
    "getPowerSet(3, 1) + getPowerSet(3, 2) + getPowerSet(3, 3)"
   ]
  },
  {
   "cell_type": "markdown",
   "id": "42a3a362",
   "metadata": {},
   "source": [
    "[실습3] 균형 맞추기\n",
    "\n",
    "n개의 숫자를 두개의 그룹으로 나누어,\n",
    "그 합을 가장 가깝게 하라\n",
    "단, 1 <= n <= 10\n",
    "\n",
    "입력의 예\n",
    "1 -3 4 5 -2 \n",
    "\n",
    "출력의 예\n",
    "1"
   ]
  },
  {
   "cell_type": "markdown",
   "id": "0045232c",
   "metadata": {},
   "source": []
  },
  {
   "cell_type": "markdown",
   "id": "c12bb544",
   "metadata": {},
   "source": [
    "연속 부분 최대합\n",
    "nnn개의 숫자가 주어질 때, 연속 부분을 선택하여 그 합을 최대화 하는 프로그램을 작성하시오. 예를 들어, 다음과 같이 8개의 숫자가 있다고 하자.\n",
    "\n",
    "1 2 -4 5 3 -2 9 -10\n",
    "\n",
    "이 때, 연속 부분이란 연속하여 숫자를 선택하는 것을 말한다. 가능한 연속 부분으로써 [1, 2, -4], [5, 3, -2, 9], [9, -10] 등이 있을 수 있다. 이 연속 부분들 중에서 가장 합이 큰 연속 부분은 [5, 3, -2, 9] 이며, 이보다 더 합을 크게 할 수는 없다. 따라서 연속 부분 최대합은 5+3+(-2)+9 = 15 이다.\n",
    "\n",
    "입력 예시\n",
    "1 2 -4 5 3 -2 9 -10\n",
    "Copy\n",
    "출력 예시\n",
    "15\n",
    "Copy\n",
    "\n",
    "문제 조건\n",
    "입력되는 수의 개수는 최대 100개입니다."
   ]
  },
  {
   "cell_type": "code",
   "execution_count": 1,
   "id": "8b825f80",
   "metadata": {},
   "outputs": [
    {
     "name": "stdout",
     "output_type": "stream",
     "text": [
      "1 2 -4 5 3 -2 9 -10\n",
      "15\n"
     ]
    }
   ],
   "source": [
    "import sys\n",
    "import math\n",
    "\n",
    "def getSubsum(data) :\n",
    "    '''\n",
    "    n개의 숫자가 list로 주어질 때, 그 연속 부분 최대합을 반환하는 함수를 작성하세요.\n",
    "    '''\n",
    "    '''\n",
    "    모든 경우를 구하고, 가장 큰 것을 출력\n",
    "    '''\n",
    "    result = -math.inf \n",
    "    temp = 0\n",
    "    \n",
    "    for start in range(0, len(data)) :\n",
    "        for end in range(start, len(data)) :\n",
    "            temp = 0\n",
    "            for i in range(start, end+1):\n",
    "                temp += data[i]\n",
    "            result = max(result, temp)\n",
    "    \n",
    "    return result\n",
    "\n",
    "def main():\n",
    "    '''\n",
    "    이 부분은 수정하지 마세요.\n",
    "    '''\n",
    "\n",
    "    data = [int(x) for x in input().split()]\n",
    "\n",
    "    print(getSubsum(data))\n",
    "\n",
    "if __name__ == \"__main__\":\n",
    "    main()\n"
   ]
  },
  {
   "cell_type": "markdown",
   "id": "15820d1d",
   "metadata": {},
   "source": [
    "멱집합 구하기\n",
    "집합 A에 대하여, A의 모든 부분집합을 원소로 가지는 집합을 A의 멱집합이라고 한다. 예를 들어, 집합 A의 원소가 {1, 2, 3} 일 경우, A의 멱집합은 다음과 같이 8개의 원소를 갖는 집합이다.\n",
    "\n",
    "{}, {1}, {2}, {3}, {1, 2}, {1, 3}, {2, 3}, {1, 2, 3}\n",
    "\n",
    "집합 A의 원소는 1부터 nnn까지의 자연수로 구성된다. nnn이 주어질 때, A의 멱집합의 원소를 사전 순서대로 모두 출력하는 프로그램을 작성하시오. 단, 공집합은 제외하고 출력한다.\n",
    "\n",
    "입력 예시\n",
    "3\n",
    "Copy\n",
    "출력 예시\n",
    "1\n",
    "1 2\n",
    "1 2 3\n",
    "1 3\n",
    "2\n",
    "2 3\n",
    "3\n",
    "Copy\n",
    "\n",
    "문제 조건\n",
    "원소의 개수는 10개를 넘지 않습니다.\n",
    "공집합은 출력하지 않습니다."
   ]
  },
  {
   "cell_type": "code",
   "execution_count": 2,
   "id": "91d63288",
   "metadata": {},
   "outputs": [
    {
     "name": "stdout",
     "output_type": "stream",
     "text": [
      "3\n",
      "1\n",
      "1 2\n",
      "1 2 3\n",
      "1 3\n",
      "2\n",
      "2 3\n",
      "3\n"
     ]
    }
   ],
   "source": [
    "import sys\n",
    "\n",
    "\n",
    "def getPowerSet(n, k):\n",
    "    '''\n",
    "    1부터 n까지의 자연수의 원소가 있을 때\n",
    "    k를 가장 처음으로 선택하는 경우 반환\n",
    "    3, 2\n",
    "    [[2][2,3]]\n",
    "    3, 3\n",
    "    [[3]]\n",
    "    '''\n",
    "    if n == k : # 기저조건\n",
    "        return [[k]]\n",
    "    '''\n",
    "    getPowerSet(3, 1)\n",
    "    [[1]   [1,2][1,2,3] [1,3]]\n",
    "    temp : [[2] [2,3]]\n",
    "    \n",
    "    getPowerSet(3, 2)\n",
    "    [[2]    [2,3]]\n",
    "    temp : [[3]]\n",
    "    '''\n",
    "    result = [[k]]\n",
    "    \n",
    "    temp = []\n",
    "    \n",
    "    for i in range(k+1, n+1):\n",
    "        temp = temp + getPowerSet(n, i)\n",
    "        # if k == 1\n",
    "        # temp = [[2], [2,3], [3]]\n",
    "    \n",
    "    for i in range(len(temp)):\n",
    "        temp[i] = [k] + temp[i]\n",
    "        \n",
    "    return result + temp\n",
    "    \n",
    "    \n",
    "def powerSet(n) :\n",
    "    '''\n",
    "    n개의 원소를 가지는 집합 A의 멱집합의 원소를 사전 순서대로 list로 반환하는 함수를 작성하시오.\n",
    "\n",
    "    예를 들어, n = 3 일 경우 다음의 list를 반환한다.\n",
    "\n",
    "    [ [1], [1, 2], [1, 3], [1, 2, 3], [2], [2, 3], [3] ]\n",
    "    \n",
    "    (3, 1) + (3, 2) + (3, 3) \n",
    "    '''\n",
    "    result = []\n",
    "    \n",
    "    for i in range(1, n+1) :\n",
    "        result += getPowerSet(n,i)\n",
    "    \n",
    "    return result\n",
    "\n",
    "def main():\n",
    "    '''\n",
    "    이 부분은 수정하지 마세요.\n",
    "    '''\n",
    "\n",
    "    n = int(input())\n",
    "\n",
    "    result = powerSet(n)\n",
    "    \n",
    "    for line in result :\n",
    "        print(*line)\n",
    "\n",
    "if __name__ == \"__main__\":\n",
    "    main()\n"
   ]
  },
  {
   "cell_type": "markdown",
   "id": "6b4b285f",
   "metadata": {},
   "source": [
    "균형 맞추기\n",
    "nnn개의 숫자가 주어진다. 이제 이 숫자를 두 개의 그룹으로 나눌 것이다. 예를 들어 5개의 숫자 [1, -3, 4, 5, -2] 가 주어진다면, 이를 두 개의 그룹으로 나누는 경우는 여러가지가 있을 수 있다. 가능한 경우로써 [1, -3], [4, 5, -2] 가 있을 수 있고, 또 다른 경우로는 [1, 4, -2], [-3, 5] 가 있을 수 있다.\n",
    "\n",
    "나눈 두 그룹을 A, B라고 할 때, (A의 원소의 합) - (B의 원소의 합) 의 절댓값을 최소화 하는 프로그램을 작성하시오. 위의 예제에서는 A = [1, 4, -2], B = [-3, 5] 라고 하였을 때 (A의 원소의 합) - (B의 원소의 합) 의 절댓값 = |3 - 2| = 1 이며, 이보다 더 작은 값을 만드는 A, B는 존재하지 않는다.\n",
    "\n",
    "이 경우 절댓값의 최솟값인 1을 출력하면 된다.\n",
    "\n",
    "입력 예시\n",
    "1 -3 4 5 -2\n",
    "Copy\n",
    "출력 예시\n",
    "1\n",
    "Copy\n",
    "\n",
    "문제 조건\n",
    "입력되는 수는 최대 20개를 넘지 않는다."
   ]
  },
  {
   "cell_type": "code",
   "execution_count": 3,
   "id": "c9328e28",
   "metadata": {},
   "outputs": [
    {
     "name": "stdout",
     "output_type": "stream",
     "text": [
      "1 -3 4 5 -2\n",
      "1\n"
     ]
    }
   ],
   "source": [
    "import sys\n",
    "import math\n",
    "\n",
    "\n",
    "'''\n",
    "모든 부분 집합?\n",
    "멱집합!\n",
    "'''\n",
    "def getPowerSet(n, k):\n",
    "    '''\n",
    "    1부터 n까지의 자연수의 원소가 있을 때\n",
    "    k를 가장 처음으로 선택하는 경우 반환\n",
    "    3, 2\n",
    "    [[2][2,3]]\n",
    "    3, 3\n",
    "    [[3]]\n",
    "    '''\n",
    "    if n == k : # 기저조건\n",
    "        return [[k]]\n",
    "    '''\n",
    "    getPowerSet(3, 1)\n",
    "    [[1]   [1,2][1,2,3] [1,3]]\n",
    "    temp : [[2] [2,3]]\n",
    "    \n",
    "    getPowerSet(3, 2)\n",
    "    [[2]    [2,3]]\n",
    "    temp : [[3]]\n",
    "    '''\n",
    "    result = [[k]]\n",
    "    \n",
    "    temp = []\n",
    "    \n",
    "    for i in range(k+1, n+1):\n",
    "        temp = temp + getPowerSet(n, i)\n",
    "        # if k == 1\n",
    "        # temp = [[2], [2,3], [3]]\n",
    "    \n",
    "    for i in range(len(temp)):\n",
    "        temp[i] = [k] + temp[i]\n",
    "        \n",
    "    return result + temp\n",
    "    \n",
    "    \n",
    "def powerSet(n) :\n",
    "    '''\n",
    "    n개의 원소를 가지는 집합 A의 멱집합의 원소를 사전 순서대로 list로 반환하는 함수를 작성하시오.\n",
    "\n",
    "    예를 들어, n = 3 일 경우 다음의 list를 반환한다.\n",
    "\n",
    "    [ [1], [1, 2], [1, 3], [1, 2, 3], [2], [2, 3], [3] ]\n",
    "    \n",
    "    (3, 1) + (3, 2) + (3, 3) \n",
    "    '''\n",
    "    result = []\n",
    "    \n",
    "    for i in range(1, n+1) :\n",
    "        result += getPowerSet(n,i)\n",
    "    \n",
    "    return result\n",
    "\n",
    "def makeEqual(data) :\n",
    "    '''\n",
    "    n개의 숫자를 두 그룹 A, B로 나눈다고 할 때,\n",
    "\n",
    "    | (A의 원소의 합) - (B의 원소의 합) | 의 최솟값을 반환하는 함수를 작성하시오.\n",
    "    '''\n",
    "    combinations = powerSet(len(data))\n",
    "    \n",
    "    total = sum(data)\n",
    "    result = math.inf\n",
    "    \n",
    "    for c in combinations :\n",
    "        mySumA = 0\n",
    "        mySumB = 0\n",
    "        for i in c:\n",
    "            mySumA += data[i-1]\n",
    "            \n",
    "            mySumB = total - mySumA\n",
    "            \n",
    "        result = min(result, abs(mySumA - mySumB))\n",
    "    return result\n",
    "\n",
    "def main():\n",
    "    '''\n",
    "    이 부분은 수정하지 마세요.\n",
    "    '''\n",
    "\n",
    "    data = [int(x) for x in input().split()]\n",
    "\n",
    "    print(makeEqual(data))\n",
    "\n",
    "if __name__ == \"__main__\":\n",
    "    main()\n"
   ]
  },
  {
   "cell_type": "markdown",
   "id": "9e42eb28",
   "metadata": {},
   "source": []
  },
  {
   "cell_type": "markdown",
   "id": "3d676006",
   "metadata": {},
   "source": [
    "04.Complexity"
   ]
  },
  {
   "cell_type": "markdown",
   "id": "0108c013",
   "metadata": {},
   "source": [
    "Complexity Theory(복잡도 이론)\n",
    "\n",
    "각 문제마다 풀이의 시간복잡도가 다르다.\n",
    "내 풀이가 얼마나 좋은 풀이인가?\n",
    "\n",
    "- 문제의 시간 복잡도 \n",
    "- 배열 크기 비교 정렬 문제 O(nlogn)"
   ]
  },
  {
   "cell_type": "markdown",
   "id": "f8e963db",
   "metadata": {},
   "source": [
    "Complexity Theory\n",
    "\n",
    "문제 자체에도 복잡도가 존재한다.\n",
    "\n",
    "P class -> 다항시간 \n",
    "NP-Complete class -> 푸는데 가장 시간이 오래 걸리는 시간\n",
    "\n",
    "다항\n",
    "O(n^2)\n",
    "O(n^3)\n",
    "\n",
    "시간차 밑이 어마어마하다\n",
    "\n",
    "다항X\n",
    "O(2^n)\n",
    "O(n!)\n",
    "\n",
    "NP class : 답을 검증하는데 다항시간"
   ]
  },
  {
   "cell_type": "markdown",
   "id": "91f63014",
   "metadata": {},
   "source": [
    "알고리즘 과정에서 다루는 문제들\n",
    "\n",
    "(거의 대부분) P문제들만을 다룬다.\n",
    "\n",
    "알고리즘에서는 고려해야 하는 경우를 줄이는 방법을 배운다.\n",
    "\n",
    "하지만, 대표적인 NP-Complete문제는 알면 좋다."
   ]
  },
  {
   "cell_type": "markdown",
   "id": "566d7fa1",
   "metadata": {},
   "source": []
  },
  {
   "cell_type": "markdown",
   "id": "99e490a1",
   "metadata": {},
   "source": [
    "05.요약"
   ]
  },
  {
   "cell_type": "markdown",
   "id": "92ee6c36",
   "metadata": {},
   "source": [
    "요약\n",
    "\n",
    "문제 해결 절차를 잘 따라야 한다.\n",
    "\n",
    "모든 경우를 고려해도 괜찮은 경우에는\n",
    "모든 경우를 고려하여 해결한다. - 완전 탐색"
   ]
  }
 ],
 "metadata": {
  "kernelspec": {
   "display_name": "Python 3",
   "language": "python",
   "name": "python3"
  },
  "language_info": {
   "codemirror_mode": {
    "name": "ipython",
    "version": 3
   },
   "file_extension": ".py",
   "mimetype": "text/x-python",
   "name": "python",
   "nbconvert_exporter": "python",
   "pygments_lexer": "ipython3",
   "version": "3.8.8"
  }
 },
 "nbformat": 4,
 "nbformat_minor": 5
}
