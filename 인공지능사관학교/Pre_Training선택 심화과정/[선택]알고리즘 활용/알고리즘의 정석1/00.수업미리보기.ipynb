{
 "cells": [
  {
   "cell_type": "markdown",
   "id": "9c94129b",
   "metadata": {},
   "source": [
    "k번째 수 찾기\n",
    "nnn개의 숫자가 차례대로 주어질 때, 매 순간마다 “지금까지 입력된 숫자들 중에서 k번째로 작은 수”를 반환하는 프로그램을 작성하세요.\n",
    "\n",
    "프로그램의 입력으로는 첫째줄에 nnn과 kkk가 입력되고, 둘째줄에 nnn개의 숫자가 차례대로 주어집니다.\n",
    "\n",
    "입력 예시\n",
    "10 3\n",
    "1 9 8 5 2 3 5 6 2 10\n",
    "Copy\n",
    "출력 예시\n",
    "-1 -1 9 8 5 3 3 3 2 2\n",
    "Copy\n",
    "\n",
    "문제 조건\n",
    "nnn은 100보다 작은 숫자입니다.\n",
    "매 순간마다 지금까지의 입력중 kkk번째로 작은 수를 출력하되, 없다면 -1을 출력합니다.\n",
    "입출력 예시 설명\n",
    "10개의 숫자가 차례대로 주어집니다. 맨 처음 1만 입력을 받았을 경우, 3번째로 작은 숫자가 없으므로 -1을 출력합니다. 그 다음 9도 마찬가지입니다. 세 번째로 숫자 8을 입력받는 순간, 지금까지 입력받은 숫자는 1, 9, 8 세 개이고, 이 중 3 번째로 작은 숫자인 9를 출력합니다. 마찬가지로 숫자 하나를 입력받을 때 마다 3번째로 작은 숫자를 출력합니다."
   ]
  },
  {
   "cell_type": "code",
   "execution_count": null,
   "id": "9a170f3e",
   "metadata": {},
   "outputs": [],
   "source": [
    "def findKth(myInput, k) :\n",
    "    '''\n",
    "    매 순간마다 k번째로 작은 원소를 리스트로 반환합니다.\n",
    "    '''\n",
    "    result = []\n",
    "    cm = []\n",
    "    for i in myInput:\n",
    "        # 하나씩 들어옴\n",
    "        cm.append(i)\n",
    "        if len(cm) < k:\n",
    "            result.append(-1)\n",
    "        else:\n",
    "            cm.sort()\n",
    "            result.append(cm[k-1])\n",
    "    return result\n",
    "\n",
    "def main():\n",
    "    '''\n",
    "    테스트를 하고싶으면, 아래 부분을 수정합니다.\n",
    "    '''\n",
    "\n",
    "    firstLine = [int(x) for x in input().split()]\n",
    "    myInput = [int(x) for x in input().split()]\n",
    "\n",
    "    print(*findKth(myInput, firstLine[1]))\n",
    "if __name__ == \"__main__\":\n",
    "    main()\n"
   ]
  },
  {
   "cell_type": "markdown",
   "id": "bcc5a9d7",
   "metadata": {},
   "source": [
    "이진수 변환\n",
    "10진수를 2진수로 변환하여 출력하는 프로그램을 작성하세요. 단, 재귀호출을 이용하여 작성합니다.\n",
    "\n",
    "입력 예시\n",
    "19\n",
    "Copy\n",
    "출력 예시\n",
    "10011\n",
    "Copy\n",
    "\n",
    "문제 조건\n",
    "입력되는 10진수는 1,000,000 이하의 자연수 입니다."
   ]
  },
  {
   "cell_type": "code",
   "execution_count": null,
   "id": "c4b61e2b",
   "metadata": {},
   "outputs": [],
   "source": [
    "import sys\n",
    "sys.setrecursionlimit(100000)\n",
    "\n",
    "def convertBinary(n) :\n",
    "    '''\n",
    "    10진수 n을 2진수로 변환하여 반환합니다.\n",
    "\n",
    "    *주의* : 변환된 2진수는 문자열이어야 합니다.\n",
    "\n",
    "    예를 들어, 19가 입력될 경우 문자열 \"10011\"이 반환되어야 합니다.\n",
    "    '''\n",
    "    b = str(bin(n))[2:]\n",
    "    return b\n",
    "\n",
    "def main():\n",
    "    '''\n",
    "    이 부분은 수정하지 마세요.\n",
    "    '''\n",
    "\n",
    "\n",
    "    n = int(input())\n",
    "\n",
    "    print(convertBinary(n))\n",
    "\n",
    "if __name__ == \"__main__\":\n",
    "    main()\n"
   ]
  }
 ],
 "metadata": {
  "kernelspec": {
   "display_name": "Python 3",
   "language": "python",
   "name": "python3"
  },
  "language_info": {
   "codemirror_mode": {
    "name": "ipython",
    "version": 3
   },
   "file_extension": ".py",
   "mimetype": "text/x-python",
   "name": "python",
   "nbconvert_exporter": "python",
   "pygments_lexer": "ipython3",
   "version": "3.8.8"
  }
 },
 "nbformat": 4,
 "nbformat_minor": 5
}
