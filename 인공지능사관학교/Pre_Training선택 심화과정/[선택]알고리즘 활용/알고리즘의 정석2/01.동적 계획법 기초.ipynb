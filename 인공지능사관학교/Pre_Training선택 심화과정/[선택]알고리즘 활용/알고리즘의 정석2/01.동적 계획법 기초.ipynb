{
 "cells": [
  {
   "cell_type": "markdown",
   "id": "5f86e7be",
   "metadata": {},
   "source": [
    "목 차\n",
    "\n",
    "01.피보나치 수열\n",
    "\n",
    "02.재귀를 이용한 피보나치 수열\n",
    "\n",
    "03.동적계획법\n",
    "\n",
    "04.시간/공간 복잡도 계산하기\n",
    "\n",
    "05.동적계획법 문제풀이 테크닉\n",
    "\n",
    "06.동적계획법 문제풀이\n",
    "\n",
    "07.정리"
   ]
  },
  {
   "cell_type": "markdown",
   "id": "44bfb775",
   "metadata": {},
   "source": []
  },
  {
   "cell_type": "markdown",
   "id": "db170abd",
   "metadata": {},
   "source": [
    "01.피보나치 수열"
   ]
  },
  {
   "cell_type": "markdown",
   "id": "b5bb0c32",
   "metadata": {},
   "source": [
    "피보나치 수열이란?\n",
    "\n",
    "1 1 2 3 5 8 13 21 34 55 ......\n",
    "| |\n",
    " |  |\n",
    "   |  |\n",
    "     |  |\n"
   ]
  },
  {
   "cell_type": "markdown",
   "id": "17a71a4d",
   "metadata": {},
   "source": [
    "재귀를 통한 피보나치 수열 만들기\n",
    "\n",
    "Example\n",
    "def fib(n):\n",
    "    if n < 3:\n",
    "        return 1\n",
    "    else:\n",
    "        return fibo(n-1) + fibo(n-2)\n",
    "        \n",
    "_\n",
    "                        f(5)\n",
    "               f(4)               f(3)\n",
    "         f(3)       f(2)        f(2)  f(1)\n",
    "      f(2)  (f1)   \n",
    "      \n",
    "- f(3)두번 - 낭비"
   ]
  },
  {
   "cell_type": "markdown",
   "id": "86cc3b50",
   "metadata": {},
   "source": [
    "동적계획법이란?\n",
    "\n",
    "복잡한 문제를 간단한 여러 개의 하위 문제로 나누어 푸는 방법\n",
    "- 이때, 하위 문제의 답을 저장하여 중복 연산을 하지 않습니다."
   ]
  },
  {
   "cell_type": "markdown",
   "id": "ca11d622",
   "metadata": {},
   "source": [
    "Example\n",
    "def fib(n):\n",
    "    if n < 3:\n",
    "        return 1\n",
    "    else:\n",
    "        return fibo(n-1) + fibo(n-2)\n",
    "        \n",
    "fibonacci = {1: 1, 2: 1}\n",
    "\n",
    "def fibo(n):\n",
    "    if n in finbonacci:\n",
    "        return fibonacci[n]\n",
    "    else:\n",
    "        fibonacci[n] = fibo(n-1) + fibo(n-2)\n",
    "        return fibonacci[n]\n",
    "        \n",
    "        \n",
    "- 하위 문제를 저장해 놓는 값을 cache라고하고\n",
    "- 계산한 값을 저장해 두고 다시 사용하는 것을 memoization이라고 함"
   ]
  },
  {
   "cell_type": "markdown",
   "id": "f5a82666",
   "metadata": {},
   "source": [
    "동적계획법 문제의 특성\n",
    "\n",
    "중복되는 부분문제(overlapping subproblems)\n",
    "작은 하위문제들이 중복되어 나타난다.\n",
    "\n",
    "최적 부분 구조(optimal substructure)\n",
    "최적해는 부분 문제의 최적해로부터 구할 수 있다."
   ]
  },
  {
   "cell_type": "markdown",
   "id": "ec350512",
   "metadata": {},
   "source": [
    "분할정복법과 동적계획법의 차이\n",
    "\n",
    "중복되는 부분문제(overlapping subproblems) \n",
    "작은 하위 문제들이 중복되어 나타난다."
   ]
  },
  {
   "cell_type": "markdown",
   "id": "34c5bf7a",
   "metadata": {},
   "source": [
    "시간복잡도 - 시간이 얼마나 절약이 될까?\n",
    "\n",
    "- 간단한 재귀 호출\n",
    "  : 지수적으로 증가 - 현실 세계에서 사용하기 어려움\n",
    "    \n",
    "- 동적계획법\n",
    "  : 각 항들은 딱 1번씩만 계산이 됨 \n",
    "    각 항들을 구하기 위해서 딱 한번씩만  O(N)"
   ]
  },
  {
   "cell_type": "markdown",
   "id": "7cb0c8ce",
   "metadata": {},
   "source": [
    "시간복잡도 - 시간이 얼마나 절약이 될까?"
   ]
  },
  {
   "cell_type": "code",
   "execution_count": 3,
   "id": "7c39e881",
   "metadata": {},
   "outputs": [
    {
     "name": "stdout",
     "output_type": "stream",
     "text": [
      "832040\n",
      "231.0943603515625\n"
     ]
    }
   ],
   "source": [
    "# 간단한 재귀 호출\n",
    "\n",
    "def fibo(n):\n",
    "    if n < 3:\n",
    "        return 1\n",
    "    else:\n",
    "        return fibo(n-1) + fibo(n-2)\n",
    "    \n",
    "import time\n",
    "starttime = time.time()\n",
    "print(fibo(30))\n",
    "endtime = time.time()\n",
    "time_ = endtime - starttime\n",
    "print(time_*1000)"
   ]
  },
  {
   "cell_type": "code",
   "execution_count": 4,
   "id": "61c38d19",
   "metadata": {},
   "outputs": [
    {
     "name": "stdout",
     "output_type": "stream",
     "text": [
      "832040\n",
      "0.0\n"
     ]
    }
   ],
   "source": [
    "# 동적 계획법\n",
    "fibonacci = {1 : 1, 2: 1}\n",
    "\n",
    "def fibo(n):\n",
    "    if n in fibonacci :\n",
    "        return fibonacci[n]\n",
    "    else:\n",
    "        fibonacci[n] = fibo(n-1) + fibo(n-2)\n",
    "        return fibonacci[n]\n",
    "\n",
    "import time\n",
    "starttime = time.time()\n",
    "print(fibo(30))\n",
    "endtime = time.time()\n",
    "time_ = endtime - starttime\n",
    "print(time_*1000)"
   ]
  },
  {
   "cell_type": "markdown",
   "id": "473654dc",
   "metadata": {},
   "source": [
    "공간복잡도 - 공간을 얼마나 사용할까?\n",
    "\n",
    "동적계획법은\n",
    "하위 문제들의 답을 저장해놓기 때문에,\n",
    "하위 문제의 수만큼 저장공간이 필요하다.\n",
    "\n",
    "O(N)"
   ]
  },
  {
   "cell_type": "markdown",
   "id": "3f05fa0b",
   "metadata": {},
   "source": [
    "동적계획법을 구현하는 테크닉\n",
    "\n",
    "점화식\n",
    "- 복잡한 문제를 작은 하위문제로 표현한 식\n",
    "  예) f(n) = f(n-1) + f(n-2)\n",
    "\n",
    "1. 구하고자 하는 값이 무엇인지 정의한다.\n",
    "   f(n) : n번째 피보나치 수열\n",
    "   \n",
    "2. 구하고자 하는 값을 부분문제들로 표현한다.\n",
    "   피보나치 수열의 n번째 항은 n-1과 n-2항의 합이다.\n",
    "   f(n) : f(n-1) +f(n-2)"
   ]
  },
  {
   "cell_type": "markdown",
   "id": "20c7b8fc",
   "metadata": {},
   "source": [
    "동적계획법을 구현하는 테크닉\n",
    "\n",
    "점화식\n",
    "- 복잡한 문제를 작은 하위문제로 표현한 식\n",
    "  예) f(n) = f(n-1) + f(n-2)\n",
    "  \n",
    "= Top-down\n",
    "1. 큰 문제를 작은 문제로 나눈다.\n",
    "2. 작은문제를 풀어 return 해준다.\n",
    "재귀호출 식 방법\n",
    "\n",
    "= Bottom-up\n",
    "1. 작은 문제부터 차례로 풀어 적는다.\n",
    "2. 크기를 조금씩 늘려서 문제를 푼다.\n",
    "반복문 식 방법"
   ]
  },
  {
   "cell_type": "markdown",
   "id": "3f5b7f5d",
   "metadata": {},
   "source": [
    "동적계획법을 구현하는 두가지 테크닉\n",
    "\n",
    "- Top-down\n",
    "Example\n",
    "fibonacci = {1 : 1, 2: 1}\n",
    "\n",
    "def fibo(n):\n",
    "    if n in fibonacci :\n",
    "        return fibonacci[n]\n",
    "    else:\n",
    "        fibonacci[n] = fibo(n-1) + fibo(n-2)\n",
    "        return fibonacci[n]\n",
    "\n",
    "\n",
    "- Bottom-up\n",
    "Example\n",
    "def fib(n):\n",
    "    fibonacci = [-1, 1, 1]\n",
    "    if n < 3: return 1\n",
    "    for i in range(3, n+1):\n",
    "        fibonacci.append(\n",
    "            fibonacci[i-1] + fibonacci[i-2])\n",
    "     return fibonacci[n]"
   ]
  },
  {
   "cell_type": "markdown",
   "id": "e89764de",
   "metadata": {},
   "source": [
    "동적계획법 문제풀이 방법\n",
    "\n",
    "1. 구하고자 하는 값 정의하기\n",
    "    - 구하고자 하는 값이 무엇인지 정의한다.\n",
    "    \n",
    "2. 부분문제로 표현하여 점화식 구하기\n",
    "    - 구하고자 하는 값을 부분문제로 구성된 식으로 표현한다.\n",
    "    \n",
    "3. 코드로 옮기기\n",
    "    - 점화식을 재귀호출, 반복문 식으로 코드로 작성한다."
   ]
  },
  {
   "cell_type": "markdown",
   "id": "de22d311",
   "metadata": {},
   "source": []
  },
  {
   "cell_type": "markdown",
   "id": "863ac850",
   "metadata": {},
   "source": [
    "[이론]블럭 채우기"
   ]
  },
  {
   "cell_type": "markdown",
   "id": "746052f4",
   "metadata": {},
   "source": [
    "06.동적계획법의 문제풀이"
   ]
  },
  {
   "cell_type": "markdown",
   "id": "90f1d641",
   "metadata": {},
   "source": [
    "타일채우기\n",
    "\n",
    "문제\n",
    "2xN짜리 액자에 2x1크기의 타일을 채워 넣으려고 합니다.\n",
    "해당 액자와 타일로 만들 수 있는 서로 다른 작품의 수는 몇 개인가요?"
   ]
  },
  {
   "cell_type": "markdown",
   "id": "9358e290",
   "metadata": {},
   "source": [
    "ex 2 x 4\n",
    "세로 2 가로 4\n",
    "\n",
    "|  세로 2 가로 1\n",
    "ㅡ 세로 1 가로 2\n",
    "\n",
    "1. ||||\n",
    "2. ||ㅡㅡ\n",
    "3. ㅡㅡㅡㅡ\n",
    "4. |ㅡㅡ|\n",
    "5. ㅡㅡ||"
   ]
  },
  {
   "cell_type": "markdown",
   "id": "e6a84bcc",
   "metadata": {},
   "source": [
    "타일채우기\n",
    "\n",
    "1. 구하고자 하는 값 정의하기\n",
    "    - 구하고자 하는 값이 무엇인지 정의한다.\n",
    "    \n",
    "T(n) = 2 x n 크기의 액자를 채우는 경우의 수"
   ]
  },
  {
   "cell_type": "markdown",
   "id": "538c06e8",
   "metadata": {},
   "source": [
    "타일채우기\n",
    "\n",
    "2. 부분문제로 표현하여 점화식 구하기\n",
    "    - 구하고자 하는 값을 부분문제로 구성된 식으로 표현한다.\n",
    "    \n",
    "ex 2 x 4\n",
    "세로 2 가로 4\n",
    "\n",
    "|  세로 2 가로 1\n",
    "ㅡ 세로 1 가로 2\n",
    "\n",
    "1. ||||\n",
    "2. ||ㅡㅡ\n",
    "3. ㅡㅡㅡㅡ\n",
    "4. |ㅡㅡ|\n",
    "5. ㅡㅡ||\n",
    "\n",
    "마지막 줄\n",
    "타일 두개를 가로로 놓거나\n",
    "타일을 세로로 놓거나 2가지 방법 존재\n",
    "\n",
    "T(n) 2 x n 의 액자를 채우는 경우의 수\n",
    "\n",
    "1. [][][]| 2x(n-1)의 타일을 채우는 경우의 수  T(n-1)\n",
    "\n",
    "2. [][]ㅡㅡ 2x(n-2)의 타일을 채우는 경우의 수  T(n-2)\n",
    "\n",
    "T(N) = T(n-1) + T(n-2)"
   ]
  },
  {
   "cell_type": "markdown",
   "id": "54ce7c3a",
   "metadata": {},
   "source": [
    "타일채우기\n",
    "\n",
    "2. 부분문제로 표현하여 점화식 구하기\n",
    "    - 구하고자 하는 값을 부분문제로 구성된 식으로 표현한다.\n",
    "\n",
    "T(n) = 2 x n의 액자를 채우는 경우의 수\n",
    "T(n) = T(n-1) + T(n-2)\n",
    "\n",
    "    0  1  2  3  4  5   6  7\n",
    "T   1  1  2  3  5  8  13 21"
   ]
  },
  {
   "cell_type": "markdown",
   "id": "bebbdc7d",
   "metadata": {},
   "source": [
    "타일채우기\n",
    "\n",
    "3. 코드로 옮기기\n",
    "    - 점화식을 재귀호출, 반복문 식으로 코드로 작성한다.\n",
    "    \n",
    "T(n) = T(n-1) + T(n-2)\n",
    "\n",
    "def T(n):\n",
    "    if n == 0 or n == 1: return 1\n",
    "    #\n",
    "    if n in memo : return memo[n]\n",
    "    else:\n",
    "        memo[n] = T(n-1) + T(n-2)\n",
    "    return memo[n]"
   ]
  },
  {
   "cell_type": "markdown",
   "id": "5752a8cb",
   "metadata": {},
   "source": [
    "타일채우기\n",
    "\n",
    "3. 코드로 옮기기\n",
    "    - 점화식을 재귀호출, 반복문 식으로 코드로 작성한다.\n",
    "    \n",
    "T(n) = T(n-1) + T(n-2)\n",
    "\n",
    "T = [1, 1]\n",
    "\n",
    "for i in range(2, n+1):\n",
    "    T.append(T[i-1] + T[i-2]]\n"
   ]
  },
  {
   "cell_type": "markdown",
   "id": "00254523",
   "metadata": {},
   "source": []
  },
  {
   "cell_type": "markdown",
   "id": "63c70831",
   "metadata": {},
   "source": [
    "블럭 채우기\n",
    "2 x n 의 상자를 2 x 1 의 블럭으로 채우는 경우의 수를 구하는 프로그램을 작성하세요. 단, 그 경우의 수가 매우 커질 수 있기 때문에, 경우의 수를 1,000,000,007으로 나눈 나머지를 출력합니다.\n",
    "\n",
    "\n",
    "실습\n",
    "입력\n",
    "첫 번째 줄에 nnn이 주어집니다. (1≤n≤100,0001 \\leq n \\leq 100,0001≤n≤100,000)\n",
    "\n",
    "출력\n",
    "상자를 블럭으로 채우는 경우의 수를 1,000,000,007로 나눈 나머지를 출력합니다.\n",
    "\n",
    "입력 예시\n",
    "4\n",
    "Copy\n",
    "출력 예시\n",
    "5"
   ]
  },
  {
   "cell_type": "code",
   "execution_count": 8,
   "id": "130e586d",
   "metadata": {},
   "outputs": [
    {
     "name": "stdout",
     "output_type": "stream",
     "text": [
      "100000\n",
      "967618232\n"
     ]
    },
    {
     "ename": "RecursionError",
     "evalue": "maximum recursion depth exceeded",
     "output_type": "error",
     "traceback": [
      "\u001b[1;31m---------------------------------------------------------------------------\u001b[0m",
      "\u001b[1;31mRecursionError\u001b[0m                            Traceback (most recent call last)",
      "\u001b[1;32m<ipython-input-8-e0e05e30bffe>\u001b[0m in \u001b[0;36m<module>\u001b[1;34m\u001b[0m\n\u001b[0;32m     32\u001b[0m     \u001b[0mprint\u001b[0m\u001b[1;33m(\u001b[0m\u001b[0mfillBox1\u001b[0m\u001b[1;33m(\u001b[0m\u001b[0mn\u001b[0m\u001b[1;33m)\u001b[0m \u001b[1;33m==\u001b[0m \u001b[0mfillBox2\u001b[0m\u001b[1;33m(\u001b[0m\u001b[0mn\u001b[0m\u001b[1;33m)\u001b[0m\u001b[1;33m)\u001b[0m\u001b[1;33m\u001b[0m\u001b[1;33m\u001b[0m\u001b[0m\n\u001b[0;32m     33\u001b[0m \u001b[1;32mif\u001b[0m \u001b[0m__name__\u001b[0m \u001b[1;33m==\u001b[0m \u001b[1;34m\"__main__\"\u001b[0m\u001b[1;33m:\u001b[0m\u001b[1;33m\u001b[0m\u001b[1;33m\u001b[0m\u001b[0m\n\u001b[1;32m---> 34\u001b[1;33m     \u001b[0mmain\u001b[0m\u001b[1;33m(\u001b[0m\u001b[1;33m)\u001b[0m\u001b[1;33m\u001b[0m\u001b[1;33m\u001b[0m\u001b[0m\n\u001b[0m",
      "\u001b[1;32m<ipython-input-8-e0e05e30bffe>\u001b[0m in \u001b[0;36mmain\u001b[1;34m()\u001b[0m\n\u001b[0;32m     29\u001b[0m \u001b[1;33m\u001b[0m\u001b[0m\n\u001b[0;32m     30\u001b[0m     \u001b[0mprint\u001b[0m\u001b[1;33m(\u001b[0m\u001b[0mfillBox1\u001b[0m\u001b[1;33m(\u001b[0m\u001b[0mn\u001b[0m\u001b[1;33m)\u001b[0m\u001b[1;33m)\u001b[0m\u001b[1;33m\u001b[0m\u001b[1;33m\u001b[0m\u001b[0m\n\u001b[1;32m---> 31\u001b[1;33m     \u001b[0mprint\u001b[0m\u001b[1;33m(\u001b[0m\u001b[0mfillBox2\u001b[0m\u001b[1;33m(\u001b[0m\u001b[0mn\u001b[0m\u001b[1;33m)\u001b[0m\u001b[1;33m)\u001b[0m\u001b[1;33m\u001b[0m\u001b[1;33m\u001b[0m\u001b[0m\n\u001b[0m\u001b[0;32m     32\u001b[0m     \u001b[0mprint\u001b[0m\u001b[1;33m(\u001b[0m\u001b[0mfillBox1\u001b[0m\u001b[1;33m(\u001b[0m\u001b[0mn\u001b[0m\u001b[1;33m)\u001b[0m \u001b[1;33m==\u001b[0m \u001b[0mfillBox2\u001b[0m\u001b[1;33m(\u001b[0m\u001b[0mn\u001b[0m\u001b[1;33m)\u001b[0m\u001b[1;33m)\u001b[0m\u001b[1;33m\u001b[0m\u001b[1;33m\u001b[0m\u001b[0m\n\u001b[0;32m     33\u001b[0m \u001b[1;32mif\u001b[0m \u001b[0m__name__\u001b[0m \u001b[1;33m==\u001b[0m \u001b[1;34m\"__main__\"\u001b[0m\u001b[1;33m:\u001b[0m\u001b[1;33m\u001b[0m\u001b[1;33m\u001b[0m\u001b[0m\n",
      "\u001b[1;32m<ipython-input-8-e0e05e30bffe>\u001b[0m in \u001b[0;36mfillBox2\u001b[1;34m(n)\u001b[0m\n\u001b[0;32m     16\u001b[0m         \u001b[1;32mreturn\u001b[0m \u001b[0mmemo\u001b[0m\u001b[1;33m[\u001b[0m\u001b[0mn\u001b[0m\u001b[1;33m]\u001b[0m\u001b[1;33m\u001b[0m\u001b[1;33m\u001b[0m\u001b[0m\n\u001b[0;32m     17\u001b[0m     \u001b[1;32melse\u001b[0m\u001b[1;33m:\u001b[0m\u001b[1;33m\u001b[0m\u001b[1;33m\u001b[0m\u001b[0m\n\u001b[1;32m---> 18\u001b[1;33m         \u001b[0mmemo\u001b[0m\u001b[1;33m[\u001b[0m\u001b[0mn\u001b[0m\u001b[1;33m]\u001b[0m \u001b[1;33m=\u001b[0m \u001b[1;33m(\u001b[0m\u001b[0mfillBox2\u001b[0m\u001b[1;33m(\u001b[0m\u001b[0mn\u001b[0m\u001b[1;33m-\u001b[0m\u001b[1;36m1\u001b[0m\u001b[1;33m)\u001b[0m \u001b[1;33m+\u001b[0m \u001b[0mfillBox2\u001b[0m\u001b[1;33m(\u001b[0m\u001b[0mn\u001b[0m\u001b[1;33m-\u001b[0m\u001b[1;36m2\u001b[0m\u001b[1;33m)\u001b[0m\u001b[1;33m)\u001b[0m\u001b[1;33m%\u001b[0m\u001b[1;36m1000000007\u001b[0m\u001b[1;33m\u001b[0m\u001b[1;33m\u001b[0m\u001b[0m\n\u001b[0m\u001b[0;32m     19\u001b[0m         \u001b[1;32mreturn\u001b[0m \u001b[0mmemo\u001b[0m\u001b[1;33m[\u001b[0m\u001b[0mn\u001b[0m\u001b[1;33m]\u001b[0m\u001b[1;33m\u001b[0m\u001b[1;33m\u001b[0m\u001b[0m\n\u001b[0;32m     20\u001b[0m \u001b[1;33m\u001b[0m\u001b[0m\n",
      "... last 1 frames repeated, from the frame below ...\n",
      "\u001b[1;32m<ipython-input-8-e0e05e30bffe>\u001b[0m in \u001b[0;36mfillBox2\u001b[1;34m(n)\u001b[0m\n\u001b[0;32m     16\u001b[0m         \u001b[1;32mreturn\u001b[0m \u001b[0mmemo\u001b[0m\u001b[1;33m[\u001b[0m\u001b[0mn\u001b[0m\u001b[1;33m]\u001b[0m\u001b[1;33m\u001b[0m\u001b[1;33m\u001b[0m\u001b[0m\n\u001b[0;32m     17\u001b[0m     \u001b[1;32melse\u001b[0m\u001b[1;33m:\u001b[0m\u001b[1;33m\u001b[0m\u001b[1;33m\u001b[0m\u001b[0m\n\u001b[1;32m---> 18\u001b[1;33m         \u001b[0mmemo\u001b[0m\u001b[1;33m[\u001b[0m\u001b[0mn\u001b[0m\u001b[1;33m]\u001b[0m \u001b[1;33m=\u001b[0m \u001b[1;33m(\u001b[0m\u001b[0mfillBox2\u001b[0m\u001b[1;33m(\u001b[0m\u001b[0mn\u001b[0m\u001b[1;33m-\u001b[0m\u001b[1;36m1\u001b[0m\u001b[1;33m)\u001b[0m \u001b[1;33m+\u001b[0m \u001b[0mfillBox2\u001b[0m\u001b[1;33m(\u001b[0m\u001b[0mn\u001b[0m\u001b[1;33m-\u001b[0m\u001b[1;36m2\u001b[0m\u001b[1;33m)\u001b[0m\u001b[1;33m)\u001b[0m\u001b[1;33m%\u001b[0m\u001b[1;36m1000000007\u001b[0m\u001b[1;33m\u001b[0m\u001b[1;33m\u001b[0m\u001b[0m\n\u001b[0m\u001b[0;32m     19\u001b[0m         \u001b[1;32mreturn\u001b[0m \u001b[0mmemo\u001b[0m\u001b[1;33m[\u001b[0m\u001b[0mn\u001b[0m\u001b[1;33m]\u001b[0m\u001b[1;33m\u001b[0m\u001b[1;33m\u001b[0m\u001b[0m\n\u001b[0;32m     20\u001b[0m \u001b[1;33m\u001b[0m\u001b[0m\n",
      "\u001b[1;31mRecursionError\u001b[0m: maximum recursion depth exceeded"
     ]
    }
   ],
   "source": [
    "#from fillBox import fillBox\n",
    "def fillBox1(n) :\n",
    "    '''\n",
    "    2 x n 의 상자를 2 x 1 의 블럭으로 채우는 경우의 수를 1,000,000,007로 나눈 나머지를 반환하는 함수를 작성하세요.\n",
    "    '''\n",
    "    # t[n] = t[n-1] + t[n-2]\n",
    "    T = [1, 1]\n",
    "    for i in range(2, n+1):\n",
    "        T.append((T[i-1] + T[i-2])%1000000007)\n",
    "    \n",
    "    return T[n];\n",
    "    \n",
    "memo = {1:1, 2:2}\n",
    "def fillBox2(n):\n",
    "    if n in memo: \n",
    "        return memo[n]\n",
    "    else:\n",
    "        memo[n] = (fillBox2(n-1) + fillBox2(n-2))%1000000007\n",
    "        return memo[n]\n",
    "\n",
    "\n",
    "\n",
    "def main():\n",
    "    '''\n",
    "    아래 부분은 수정하지 마세요.\n",
    "    '''\n",
    "\n",
    "    n = int(input())\n",
    "\n",
    "    print(fillBox1(n))\n",
    "    print(fillBox2(n))\n",
    "    print(fillBox1(n) == fillBox2(n))\n",
    "if __name__ == \"__main__\":\n",
    "    main()\n"
   ]
  },
  {
   "cell_type": "markdown",
   "id": "0cd9f482",
   "metadata": {},
   "source": []
  },
  {
   "cell_type": "markdown",
   "id": "0d2901b0",
   "metadata": {},
   "source": [
    "[이론] 숫자 만들기"
   ]
  },
  {
   "cell_type": "markdown",
   "id": "7fa67ea3",
   "metadata": {},
   "source": [
    "숫자만들기\n",
    "\n",
    "문제\n",
    "1부터 M까지의 숫자를 사용하여 합이 N이 되도록 만드는 경우의 수는?\n",
    "(1+2와 2+1은 서로 다른 경우입니다.)\n",
    "예) 1부터 3까지 숫자를 이용해서 M=3, 합이5 N=5가 되도록 만드는 \n",
    "    경우의 수는 모두 13가지 입니다.\n",
    "    1 + 1 + 1 + 1 + 1\n",
    "    1 + 1 + 1 + 2\n",
    "    1 + 1 + 2 + 1\n",
    "    1 + 2 + 1 + 1\n",
    "    2 + 1 + 1 + 1\n",
    "    1 + 2 + 2\n",
    "    2 + 1 + 2\n",
    "    2 + 2 + 1\n",
    "    1 + 1 + 3\n",
    "    1 + 3 + 1\n",
    "    3 + 1 + 1\n",
    "    2 + 3\n",
    "    3 + 2"
   ]
  },
  {
   "cell_type": "markdown",
   "id": "f2c0317f",
   "metadata": {},
   "source": [
    "숫자만들기\n",
    "\n",
    "1. 구하고자 하는 값 정의하기\n",
    "    - 구하고자 하는 값이 무엇인지 정의한다.\n",
    "    \n",
    "sum_N(n) = 1 ~ M의 수를 이용하여 n를 만드는 경우의 수"
   ]
  },
  {
   "cell_type": "markdown",
   "id": "a777f3ab",
   "metadata": {},
   "source": [
    "숫자만들기\n",
    "\n",
    "2. 부분문제로 표현하여 점화식 구하기\n",
    "    - 구하고자 하는 값을 부분문제로 구성된 식으로 표현한다.\n",
    "    \n",
    "1 ~ M 의 수를 이용하여 n을 만드는 경우의 수\n",
    "\n",
    "= \n",
    "\n",
    "(N-1)을 만드는 경우의 수 +\n",
    "(N-2)을 만드는 경우의 수 +\n",
    "(N-3)을 만드는 경우의 수 +\n",
    "....\n",
    "(N-M)을 만드는 경우의 수 "
   ]
  },
  {
   "cell_type": "markdown",
   "id": "b884a17d",
   "metadata": {},
   "source": [
    "숫자만들기\n",
    "\n",
    "2. 부분문제로 표현하여 점화식 구하기\n",
    "    - 구하고자 하는 값을 부분문제로 구성된 식으로 표현한다.\n",
    "    \n",
    "sum_N(n) = 1 ~ M 의 수를 이용하여 n을 만드는 경우의 수\n",
    "Sum_N(n) = sum_N(n-1) + sum_N(n-2) + ... + sum_N(n-M)\n",
    "\n",
    "N = 7        M = 3\n",
    "1부터 M = 3까지 수를 이용하여 N = 7을 만드는 경우의 수\n",
    "_\n",
    "N       1  2  3  4  5  6  7 \n",
    "sum_N   1  2  4  7 13 24 44\n",
    "                 |\n",
    "                 \n"
   ]
  },
  {
   "cell_type": "markdown",
   "id": "3c5f39b4",
   "metadata": {},
   "source": [
    "숫자만들기\n",
    "\n",
    "3. 코드로 옮기기\n",
    "    - 점화식을 재귀호출, 반복문 식으로 코드로 작성한다.\n",
    "\n",
    "Sum_N(n) = sum_N(n-1) + sum_N(n-2) + ... + sum_N(n-M)\n",
    "\n",
    "#재귀호출\n",
    "def sum_N(n):\n",
    "    if n == 0: return 1\n",
    "    if n in memo:\n",
    "        return memo\n",
    "    else:\n",
    "        sum_temp = 0\n",
    "        for i in range(1, M+1):\n",
    "            sum_temp += sum_N(n-i)\n",
    "         memo[n] = sum_temp\n",
    "         return memo[n]"
   ]
  },
  {
   "cell_type": "markdown",
   "id": "89a5c543",
   "metadata": {},
   "source": [
    "3. 코드로 옮기기\n",
    "    - 점화식을 재귀호출, 반복문 식으로 코드로 작성한다.\n",
    "\n",
    "Sum_N(n) = sum_N(n-1) + sum_N(n-2) + ... + sum_N(n-M)\n",
    "\n",
    "#반복문\n",
    "sum_N = [1]\n",
    "for n in range(1, N+1):\n",
    "    sum_temp = 0\n",
    "    for i in range(1, min(n, M)+1):\n",
    "        sum_temp += sum_N[n-i]\n",
    "    sum_N.append(sum_temp)"
   ]
  },
  {
   "cell_type": "markdown",
   "id": "ab4d767a",
   "metadata": {},
   "source": []
  },
  {
   "cell_type": "markdown",
   "id": "38d612a5",
   "metadata": {},
   "source": [
    "숫자 만들기\n",
    "1부터 3까지의 수를 더하여 5을 만드는 경우의 수는 다음과 같이 13가지가 존재합니다.\n",
    "\n",
    "1 + 1 + 1 + 1 + 1\n",
    "\n",
    "1 + 1 + 1 + 2\n",
    "\n",
    "1 + 1 + 2 + 1\n",
    "\n",
    "1 + 2 + 1 + 1\n",
    "\n",
    "2 + 1 + 1 + 1\n",
    "\n",
    "1 + 2 + 2\n",
    "\n",
    "2 + 1 + 2\n",
    "\n",
    "2 + 2 + 1\n",
    "\n",
    "1 + 1 + 3\n",
    "\n",
    "1 + 3 + 1\n",
    "\n",
    "3 + 1 + 1\n",
    "\n",
    "2 + 3\n",
    "\n",
    "3 + 2\n",
    "\n",
    "1부터 mmm까지의 수를 더하여 nnn을 만드는 경우의 수를 구하는 프로그램을 작성하세요. 단, 경우의 수가 매우 커질 수 있으므로, 경우의 수를 1,000,000,007 로 나눈 나머지를 출력합니다.\n",
    "\n",
    "\n",
    "실습\n",
    "입력\n",
    "첫 번째 줄에 nnn과 mmm이 주어집니다. (1≤n,m≤1,0001 \\leq n, m \\leq 1,0001≤n,m≤1,000)\n",
    "\n",
    "출력\n",
    "1부터 mmm까지의 수를 더하여 nnn을 만드는 경우의 수를 1,000,000,007로 나눈 나머지를 출력합니다.\n",
    "\n",
    "입력 예시\n",
    "5 3\n",
    "Copy\n",
    "출력 예시\n",
    "13"
   ]
  },
  {
   "cell_type": "code",
   "execution_count": null,
   "id": "95841a92",
   "metadata": {},
   "outputs": [],
   "source": [
    "def makeNumber(n, m) :\n",
    "    '''\n",
    "    1 ~ m 까지의 수를 더하여 n을 만드는 경우의 수를 \n",
    "    1,000,000,007로 나눈 나머지를 반환하는 함수를 작성하세요.\n",
    "    '''\n",
    "    sum_N = [1]\n",
    "    for n in range(1, n+1):\n",
    "        sum_temp = 0\n",
    "        for i in range(1, min(n, m)+1):\n",
    "            sum_temp += sum_N[n-i]\n",
    "        sum_N.append(sum_temp%1000000007)\n",
    "\n",
    "\n",
    "    return sum_N[n];\n",
    "\n",
    "\n",
    "#from makeNumber import makeNumber\n",
    "\n",
    "def main():\n",
    "    '''\n",
    "    아래 부분은 수정하지 마세요.\n",
    "    '''\n",
    "\n",
    "    firstLine = [int(x) for x in input().split()]\n",
    "\n",
    "    n = firstLine[0]\n",
    "    m = firstLine[1]\n",
    "\n",
    "    print(makeNumber(n, m))\n",
    "\n",
    "if __name__ == \"__main__\":\n",
    "    main()\n"
   ]
  },
  {
   "cell_type": "markdown",
   "id": "8e413004",
   "metadata": {},
   "source": []
  },
  {
   "cell_type": "markdown",
   "id": "42270dea",
   "metadata": {},
   "source": [
    "[이론] 연속 부분 최대합"
   ]
  },
  {
   "cell_type": "markdown",
   "id": "f06870fa",
   "metadata": {},
   "source": [
    "연속 부분 최대합\n",
    "\n",
    "문제\n",
    "주어진 수열에서 연속하는 부분을 선택하여, 그 최대합을 구하세요.\n",
    "1 2 -4 5 3 -2 9 10\n",
    "       |         |\n",
    "        25 최대값\n",
    "        \n"
   ]
  },
  {
   "cell_type": "markdown",
   "id": "0d27d83c",
   "metadata": {},
   "source": [
    "연속 부분 최대합 - 완전탐색법\n",
    "\n",
    "문제\n",
    "주어진 수열에서 연속하는 부분을 선택하여, 그 최대합을 구하세요.\n",
    "_    \n",
    "      시작       끝\n",
    "       |         |\n",
    "1 2 -4 5 3 -2 9 10\n",
    "       |         |\n",
    "         25 최대값\n",
    "완전탐색법 : O(n^3)"
   ]
  },
  {
   "cell_type": "markdown",
   "id": "3fc9fb48",
   "metadata": {},
   "source": [
    "연속 부분 최대합 - 분할정복법\n",
    "\n",
    "2 1 -2 5 -10 3 2 5 -3 7 9 -10\n",
    "\n",
    "1. 자른 부분의 왼쪽에 최대부분합이 존재하는 경우\n",
    "\n",
    "2. 자른 부분의 오른쪽에 최대부분합이 존재하는 경우\n",
    "\n",
    "3. 자른 부분을 걸쳐서 최대부분합이 존재하는 경우"
   ]
  },
  {
   "cell_type": "markdown",
   "id": "f7e5b819",
   "metadata": {},
   "source": [
    "연속 부분 최대합 - 분할정복법\n",
    "\n",
    "문제 \n",
    "주어진 수열에서 연속하는 부분을 선택하여, 그 최대합을 구하세요.\n",
    "\n",
    "2 1 -2 5 -10 3     |    2 5 -3 7 9 -10\n",
    "\n",
    "1. 자른 부분의 왼쪽에 최대부분합이 존재하는 경우\n",
    "2  1  -2  5 -10  3     |    2 5 -3 7 9 -10\n",
    "                 3     3 V\n",
    "            -10  3    -7\n",
    "          5 -10  3    -2\n",
    "      -2  5 -10  3    -4\n",
    "   1  -2  5 -10  3    -3\n",
    "2  1  -2  5 -10  3    -1"
   ]
  },
  {
   "cell_type": "markdown",
   "id": "b0942581",
   "metadata": {},
   "source": [
    "연속 부분 최대합 - 분할정복법\n",
    "\n",
    "문제 \n",
    "주어진 수열에서 연속하는 부분을 선택하여, 그 최대합을 구하세요.\n",
    "\n",
    "2 1 -2 5 -10 3     |    2 5 -3 7 9 -10\n",
    "\n",
    "2. 자른 부분의 오른쪽에 최대부분합이 존재하는 경우\n",
    "                   2   2\n",
    "                   7   2  5\n",
    "                   4   2  5 -3 \n",
    "                  11   2  5 -3 7\n",
    "                V 20   2  5 -3 7 9 \n",
    "                  10   2  5 -3 7 9 -10"
   ]
  },
  {
   "cell_type": "markdown",
   "id": "bc889a5e",
   "metadata": {},
   "source": [
    "연속 부분 최대합 - 분할정복법\n",
    "\n",
    "문제 \n",
    "주어진 수열에서 연속하는 부분을 선택하여, 그 최대합을 구하세요.\n",
    "\n",
    "3. 자른 부분을 걸쳐서 최대부분합이 존재하는 경우\n",
    "2  1  -2  5 -10  3     |    2 5 -3 7 9 -10\n",
    "_ 1\n",
    "                 3     3 V\n",
    "            -10  3    -7\n",
    "          5 -10  3    -2\n",
    "      -2  5 -10  3    -4\n",
    "   1  -2  5 -10  3    -3\n",
    "2  1  -2  5 -10  3    -1\n",
    "_ 2\n",
    "                       2   2\n",
    "                       7   2  5\n",
    "                       4   2  5 -3 \n",
    "                      11   2  5 -3 7\n",
    "                    V 20   2  5 -3 7 9 \n",
    "                      10   2  5 -3 7 9 -10\n",
    "    \n",
    "절반씩 잘라서 확인하기 때문에 분할하는데 O(log(n))이 걸립니다.\n",
    "\n",
    "한번 잘랐을 때 양쪽 방향으로 원소를 하나씩 돌기 때문에 O(n)이 걸립니다.\n",
    "이러한 과정을 총 log(n)번 반복하기 때문에\n",
    "시간 복잡도는 O(n log n)입니다."
   ]
  },
  {
   "cell_type": "markdown",
   "id": "c0e86814",
   "metadata": {},
   "source": [
    "연속 부분 최대합 - 동적계획법\n",
    "\n",
    "1. 구하고자 하는 값 정의하기\n",
    "    - 구하고자 하는 값이 무엇인지 정의한다.\n",
    "    \n",
    "maxSum(n) = n번째 숫자를 가장 오른쪽으로 하는 연속 부분 최대합\n",
    "\n",
    "2. 부분문제로 표현하여 점화식 구하기\n",
    "    - 구하고자하는 값을 부분문제로 구성된 식으로 표현한다.\n",
    "    1. 직전 원소를 마지막으로 하는 최대연속 합에 현재 n번째 값을 포함하기\n",
    "    2. n번째부터 새롭게 연속합을 시작하기\n",
    "    \n",
    "maxSum(n) = max(maxSum(n-1), 0) + arr(n)\n",
    "1. 직전 원소를 마지막으로 하는 최대 연속합에 현재 n번째 값을 포함하기\n",
    "\n",
    "2. n번째 부터 새롭게 연속합을 시작하기"
   ]
  },
  {
   "cell_type": "markdown",
   "id": "62fd2565",
   "metadata": {},
   "source": [
    "연속 부분 최대합 - 동적계획법\n",
    "\n",
    "2. 부분문제로 표현하여 점화식 구하기\n",
    "    - 구하고자하는 값을 부분문제로 구성된 식으로 표현한다.\n",
    "\n",
    "maxSum(n) = max(maxSum(n-1), 0) + arr(n)\n",
    "\n",
    "arr 1  2 -4  5  3 -2  9  10\n",
    "\n",
    "_   0  1  2  3  4  5   6   7\n",
    "T   1  3 -1  5  8  6  15  25\n",
    "\n",
    "1 ~ N번째를 마지막으로 최대 연속 부분합을 구성하는 것 중 최대를 찾는다."
   ]
  },
  {
   "cell_type": "markdown",
   "id": "c8a6b6ec",
   "metadata": {},
   "source": [
    "연속 부분 최대합 - 동적계획법\n",
    "\n",
    "3. 코드로 옮기기\n",
    "    - 점화식을 재귀호출, 반복문 식으로 코드로 작성한다.\n",
    "\n",
    "maxSum(n) = max(maxSum(n-1), 0) + arr(n)\n",
    "\n",
    "Example\n",
    "maxSum = []\n",
    "final_max = -float('inf')\n",
    "maxSum.append(max(0,arr[0]))\n",
    "for n in range(1, N):\n",
    "    maxSum[n] = max(maxSum[n-1], 0) + arr[n]\n",
    "    if final_max < maxSum[n]:\n",
    "        final_max = maxSum[n]"
   ]
  },
  {
   "cell_type": "markdown",
   "id": "0bf6f711",
   "metadata": {},
   "source": [
    "07.정리"
   ]
  },
  {
   "cell_type": "markdown",
   "id": "1bc41d11",
   "metadata": {},
   "source": [
    "동적계획법은 ...\n",
    "\n",
    "- 복잡한 문제를 작은 하위문제로 나누어 푸는 방식입니다.\n",
    "  중복되는 하위문제를 한번만 풂으로써 시간복잡도면에서 이익이 있습니다.\n",
    "  \n",
    "- 동적 계획법으로 풀 수 있는 문제는\n",
    "  중복되는 부분문제로 이루어져있고 최적 부분 구조를 만족합니다.\n",
    "  \n",
    "- 동적계획법을 구현하기 위해서\n",
    "  Top-down(재귀식 방법)과 Buttom-up(반복문식 방법)을 활용할 수 있습니다."
   ]
  },
  {
   "cell_type": "markdown",
   "id": "7a25a283",
   "metadata": {},
   "source": []
  },
  {
   "cell_type": "markdown",
   "id": "b830b342",
   "metadata": {},
   "source": [
    "연속 부분 최대합\n",
    "nnn개의 숫자가 주어질 때, 연속 부분을 선택하여 그 합을 최대화 하는 프로그램을 작성하시오. 예를 들어, 다음과 같이 8개의 숫자가 있다고 하자.\n",
    "\n",
    "1 2 -4 5 3 -2 9 -10\n",
    "\n",
    "이 때, 연속 부분이란 연속하여 숫자를 선택하는 것을 말한다. 가능한 연속 부분으로써 [1, 2, -4], [5, 3, -2, 9], [9, -10] 등이 있을 수 있다. 이 연속 부분들 중에서 가장 합이 큰 연속 부분은 [5, 3, -2, 9] 이며, 이보다 더 합을 크게 할 수는 없다. 따라서 연속 부분 최대합은 5+3+(-2)+9 = 15 이다.\n",
    "\n",
    "\n",
    "실습\n",
    "입력\n",
    "첫째 줄에 nnn개의 숫자가 주어진다. (1≤n≤100,0001 \\leq n \\leq 100,0001≤n≤100,000)\n",
    "\n",
    "출력\n",
    "nnn개의 숫자에 대하여 연속 부분 최대합을 출력한다.\n",
    "\n",
    "입력 예시\n",
    "1 2 -4 5 3 -2 9 -10\n",
    "Copy\n",
    "출력 예시\n",
    "15"
   ]
  },
  {
   "cell_type": "code",
   "execution_count": 10,
   "id": "f9ddd365",
   "metadata": {},
   "outputs": [
    {
     "name": "stdout",
     "output_type": "stream",
     "text": [
      "1 2 -4 5 3 -2 9 -10\n",
      "15\n"
     ]
    }
   ],
   "source": [
    "def getSubsum(data) :\n",
    "    '''\n",
    "    n개의 숫자가 list로 주어질 때,\n",
    "    그 연속 부분 최대합을 반환하는 함수를 작성하세요.\n",
    "    '''\n",
    "    # 완전탐색\n",
    "    \n",
    "    # 분할정복\n",
    "    \n",
    "    # 동적계획법\n",
    "    \n",
    "    # n번째를 포함하는 연속부분을 저장하는 배열\n",
    "    maxSum = []\n",
    "    \n",
    "    # 점화식\n",
    "    # maxSum[n] = max(maxSum[n-1], 0) + arr[n]\n",
    "    final_max = data[0]\n",
    "    \n",
    "    maxSum.append(data[0])\n",
    "    \n",
    "    for n in range(1, len(data)):\n",
    "        maxSum.append(max(maxSum[n-1], 0) + data[n])\n",
    "        if final_max < maxSum[n]:\n",
    "            final_max = maxSum[n]\n",
    "    \n",
    "    return final_max\n",
    "\n",
    "#import sys\n",
    "\n",
    "# from getSubsum import getSubsum\n",
    "\n",
    "def main():\n",
    "    '''\n",
    "    이 부분은 수정하지 마세요.\n",
    "    '''\n",
    "\n",
    "    data = [int(x) for x in input().split()]\n",
    "\n",
    "    print(getSubsum(data))\n",
    "\n",
    "if __name__ == \"__main__\":\n",
    "    main()\n"
   ]
  },
  {
   "cell_type": "markdown",
   "id": "06f26f30",
   "metadata": {},
   "source": []
  },
  {
   "cell_type": "markdown",
   "id": "951c6ab6",
   "metadata": {},
   "source": [
    "[이론]짜장, 짬뽕, 볶은밥"
   ]
  },
  {
   "cell_type": "markdown",
   "id": "16f19910",
   "metadata": {},
   "source": [
    "짜장, 짬뽕, 볶음밥!\n",
    "\n",
    "문제\n",
    "상훈이는 점심엔 늘 짜장, 짬뽕, 볶음밥 셋 중 하나를 먹는다.\n",
    "하지만 거기엔 규칙이 하나 있는데,\n",
    "전날 먹은 음식은 먹지 않는다는 것이다.\n",
    "예를 들어 어제 짜장면을 먹었으면, \n",
    "오늘은 짬뽕이나 볶음밥 중 하나를 먹어야 하는 것이다.\n",
    "\n",
    "짜장, 짬뽕, 볶음밥 선호도는 그날그날 다른데, 매일 선호도가 주어질 때, \n",
    "적절히 날마다 음식을 결정하여 총선호의 최대값을 구하시오.\n",
    "\n",
    "구분  짜장   짬뽕   볶음밥\n",
    "1일   27      8    V35\n",
    "2일   18    V36     10\n",
    "3일    7     22    V45   총 선호도 116"
   ]
  },
  {
   "cell_type": "markdown",
   "id": "9790c475",
   "metadata": {},
   "source": [
    "짜장, 짬뽕, 볶음밥!\n",
    "\n",
    "1. 구하고자 하는 값 정의하기\n",
    "    - 구하고자 하는 값이 무엇인지 정의한다.\n",
    "    \n",
    "Delicious(i) = i 번째 날까지 구한 최대 선호도 합\n",
    "\n",
    "짜장 0, 짬뽕 1, 볶음밥 2\n",
    "\n",
    "Delicious(i,j) : i번째 날에 j음식을 먹었을 때 지금까지 최대 선호도 합"
   ]
  },
  {
   "cell_type": "markdown",
   "id": "fce82d3b",
   "metadata": {},
   "source": [
    "짜장, 짬뽕, 볶음밥!\n",
    "\n",
    "2. 부분문제로 표현하여 점화식 구하기\n",
    "    - 구하고자 하는 값을 부분문제로 구성된 식으로 표현한다.\n",
    "    \n",
    "I번째 날 짜장면을 먹었다면? 0\n",
    "I - 1번째 날은\n",
    "    - 짬뽕 1\n",
    "    - 볶음밥 2\n",
    "    \n",
    "Delicious(i, j) = max(Delicious(i-1,k)) + preferenc(i,j) {k!=j}\n",
    "i번째 날 j음식을 먹었을 때\n",
    "i번째 날 까지 최대 총 선호도\n",
    "i -1일 날에 j음식 이외에 k음식을 골랐을 때\n",
    "최대 총 선호도\n",
    "\n",
    "\n",
    "preference\n",
    "구분  짜장   짬뽕   볶음밥\n",
    "1일   27      8    V35\n",
    "2일   18    V36     10\n",
    "3일    7     22    V45   총 선호도 116\n",
    "\n",
    "Delicious\n",
    "구분  짜장   짬뽕   볶음밥\n",
    "1일   27     8     35\n",
    "2일   53    71     37\n",
    "3일   78    75     11"
   ]
  },
  {
   "cell_type": "markdown",
   "id": "38d0bd79",
   "metadata": {},
   "source": [
    "짜장, 짬뽕, 볶음밥!\n",
    "\n",
    "3. 코드로 옮기기\n",
    "    - 점화식을 재귀호출, 반복문 식으로 코드로 작성한다.\n",
    "    \n",
    "Delicious(i, j) = max(Delicious(i-1,k)) + preferenc(i,j) {k!=j}\n",
    "\n",
    "Example\n",
    "for i in range(1, days+1):\n",
    "    for j in range(3):\n",
    "        for k in range(3):\n",
    "            if j == k :countinue\n",
    "            Deicious[i][j] = max(Delicious[i][j], \n",
    "                                 Delicious[i-k][k])\n",
    "        Delicious[i][j] += preference[i][j]"
   ]
  },
  {
   "cell_type": "markdown",
   "id": "273a4dbf",
   "metadata": {},
   "source": []
  },
  {
   "cell_type": "markdown",
   "id": "c0c9a1bf",
   "metadata": {},
   "source": [
    "짜장, 짬뽕, 볶음밥\n",
    "중식을 좋아하는 상훈이는 늘 점심엔 짜장, 짬뽕, 볶음밥 셋 중 하나를 먹어야 기분이 좋아진다. 상훈이에겐 규칙이 하나 있는데, 전날 먹은 음식은 먹지 않는다는 것이다. 예를 들어 어제 짜장면을 먹었으면, 오늘은 짬뽕이나 볶음밥 중 하나를 먹어야 하는 것이다.\n",
    "\n",
    "짜장, 짬뽕, 볶음밥 선호도(먹고 싶은 정도)는 그날그날 다른데, 이 선호도가 주어질 때, 상훈이의 총 선호도를 최대로 만들어주는 조합을 찾으면 된다. (선호도는 먹은 음식 선호도의 총합으로 계산된다.)\n",
    "\n",
    "\n",
    "실습\n",
    "입력\n",
    "첫 줄에는 며칠동안 먹을 것인지에 대한 정수(1≤n≤100,0001 \\leq n \\leq 100,0001≤n≤100,000)가 주어지고 그 밑으로 각각 짜장, 짬뽕, 볶음밥에 대한 하루별 선호도가 주어진다.\n",
    "선호도는 양의 정수만 들어온다고 가정한다.\n",
    "\n",
    "출력\n",
    "상훈이가 얻을 수 있는 선호도 총합의 최댓값을 출력한다.\n",
    "\n",
    "입력 예시\n",
    "3\n",
    "27 8 35\n",
    "18 36 10\n",
    "7 22 45\n",
    "Copy\n",
    "출력 예시\n",
    "116"
   ]
  },
  {
   "cell_type": "code",
   "execution_count": null,
   "id": "9850e08f",
   "metadata": {},
   "outputs": [],
   "source": [
    "def eating(data) :\n",
    "    '''\n",
    "    각 날짜 별 음식의 선호도가 list로 주어질 때, \n",
    "    상훈이가 얻을 수 있는 선호도 총합의 최댓값을 반환하는 함수를 작성하세요.\n",
    "    '''\n",
    "    \n",
    "    # 점화식\n",
    "    # d[i][j] = max(d[i-1][k]) + data[i][j] (j!=k)\n",
    "    \n",
    "    days = len(data)\n",
    "    d = [[0] * 3 for i in range(days+1)]\n",
    "    \n",
    "    for i in range(1, days+1):\n",
    "        for j in range(3):\n",
    "            for k in range(3):\n",
    "                if j == k :\n",
    "                    continue\n",
    "                d[i][j] = max(d[i][j], d[i-1][k])\n",
    "            d[i][j] += data[i-1][j]\n",
    "            \n",
    "    return max(d[days][i] for i in range(3))\n",
    "\n",
    "\n",
    "# import sys\n",
    "\n",
    "# from eating import eating\n",
    "\n",
    "def main():\n",
    "    '''\n",
    "    이 부분은 수정하지 마세요.\n",
    "    '''\n",
    "\n",
    "    n = int(input())\n",
    "\n",
    "    data = []\n",
    "\n",
    "    for i in range(n) :\n",
    "        __line = [int(x) for x in input().split()]\n",
    "        data.append(__line)\n",
    "\n",
    "    print(eating(data))\n",
    "\n",
    "if __name__ == \"__main__\":\n",
    "    main()\n"
   ]
  }
 ],
 "metadata": {
  "kernelspec": {
   "display_name": "Python 3",
   "language": "python",
   "name": "python3"
  },
  "language_info": {
   "codemirror_mode": {
    "name": "ipython",
    "version": 3
   },
   "file_extension": ".py",
   "mimetype": "text/x-python",
   "name": "python",
   "nbconvert_exporter": "python",
   "pygments_lexer": "ipython3",
   "version": "3.8.8"
  }
 },
 "nbformat": 4,
 "nbformat_minor": 5
}
