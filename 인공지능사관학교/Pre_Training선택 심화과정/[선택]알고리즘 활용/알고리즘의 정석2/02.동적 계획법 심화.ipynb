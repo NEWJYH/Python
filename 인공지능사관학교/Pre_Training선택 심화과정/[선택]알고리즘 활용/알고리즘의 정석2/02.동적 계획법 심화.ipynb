{
 "cells": [
  {
   "cell_type": "markdown",
   "id": "a4e4e076",
   "metadata": {},
   "source": [
    "목 차\n",
    "\n",
    "01.동적계획법의 문제설정과 응용\n",
    "\n",
    "02.심화 문제1 - 최대이익 통나무 자르기\n",
    "\n",
    "03.심화 문제2 - 최대공통문자열\n",
    "\n",
    "04.심화 문제3 - 최장증가수열\n",
    "\n",
    "05.심화 문제4 - 팰린드롬 만들기\n",
    "\n",
    "06.정리"
   ]
  },
  {
   "cell_type": "markdown",
   "id": "959d9602",
   "metadata": {},
   "source": []
  },
  {
   "cell_type": "markdown",
   "id": "890d3553",
   "metadata": {},
   "source": [
    "동적계획법 문제풀이 방법\n",
    "\n",
    "1.구하고자 하는 값 정의하기\n",
    "    - 구하고자 하는 값이 무엇인지 정의한다.\n",
    "    \n",
    "2.부분문제로 표현하여 점화식 구하기\n",
    "    - 구하고자 하는 값을 부분문제로 구성된 식으로 표현한다.\n",
    "    \n",
    "3.코드로 옮기기\n",
    "    - 점화식을 재귀호출, 반복문 식으로 코드로 작성한다."
   ]
  },
  {
   "cell_type": "markdown",
   "id": "c2dbca64",
   "metadata": {},
   "source": []
  },
  {
   "cell_type": "markdown",
   "id": "2127f315",
   "metadata": {},
   "source": [
    "최대이익 통나무 자르기\n",
    "\n",
    "문제\n",
    "길이 N짜리의 통나무를 다양한 길이로 조각 내고 싶습니다.\n",
    "각 조각의 길이에 따라 판매 시 특정 가격으로 팔 수 있습니다.\n",
    "길이 N의 통나무를 잘라 볼 수 있는 최대 이익을 구하세요.\n",
    "\n",
    "길이 1  2  3  4  5  6  7  8\n",
    "가격 1  5  8  9 10 17 17 20"
   ]
  },
  {
   "cell_type": "markdown",
   "id": "61808db3",
   "metadata": {},
   "source": [
    "최대이익 통나무 자르기 - 탐욕적기법\n",
    "\n",
    "문제\n",
    "길이 N짜리의 통나무를 다양한 길이로 조각 내고 싶습니다.\n",
    "각 조각의 길이에 따라 판매 시 특정 가격으로 팔 수 있습니다.\n",
    "길이 N의 통나무를 잘라 볼 수 있는 최대 이익을 구하세요.\n",
    "\n",
    "길이          1    2    3    4    5    6        7    8\n",
    "가격          1    5    8    9   10   17        17   20\n",
    "단위길이당 가격 1   2.5 2.6667 2.25 2   2.8333 2.4285 2.5"
   ]
  },
  {
   "cell_type": "markdown",
   "id": "72a4bb9e",
   "metadata": {},
   "source": [
    "최대이익 통나무 자르기 - 동적계획법\n",
    "\n",
    "1. 구하고자 하는 값 정의하기\n",
    "    - 구하고자 하는 값이 무엇인지 정의한다.\n",
    "\n",
    "길이          1    2    3    4    5    6     7    8\n",
    "가격          1    5    8    9   10   17    17   20\n",
    "\n",
    "cutRod(n) = \n",
    "길이 n짜리의 통나무를 적절하게 잘랐을 때 얻을 수 있는 최대 이익"
   ]
  },
  {
   "cell_type": "markdown",
   "id": "24c04285",
   "metadata": {},
   "source": [
    "최대이익 통나무 자르기 - 동적계획법\n",
    "\n",
    "1. 구하고자 하는 값 정의하기\n",
    "    - 구하고자 하는 값이 무엇인지 정의한다.\n",
    "\n",
    "길이          1    2    3    4    5    6     7    8\n",
    "가격          1    5    8    9   10   17    17   20\n",
    "\n",
    "2. 부분문제로 표현하여 점화식 구하기\n",
    "    - 구현하고자 하는 값을 부분문제로 구성된 식으로 표현한다.\n",
    "    \n",
    "이전에 잘라놓은 조각은 신경쓰지 않고 마지막 조각을 기준으로\n",
    "|                   |                     |  |\n",
    "N-3길이의 통나무로 얻을 수 있는 최대 이익 + 길이가 3인 통나무 가격 = 8\n",
    "\n",
    "길이 N의 통나무로 낼 수 있는 최대 이익은\n",
    "(N - 판매할 조각 길이)의 통나무로 내는 최대이익 + 판매할 조각의 가격\n",
    "을 모든 조각 길이에 대해 시행한 후 최대값이다.\n",
    "\n",
    "cutRod(n) = \n",
    "길이 n짜리의 통나무를 적절하게 잘랐을 때 얻을 수 있는 최대 이익\n",
    "\n",
    "cutRod(n) = max(price[i] + cutRod(n-i)) for all i in {1..8}\n",
    "\n",
    "                  |\n",
    "통나무 길이 0 1 2 3 4 5 6 7 8 9 10 11\n",
    "가      격 0 1 5 8 0 0 0 0 0 0  0  0\n"
   ]
  },
  {
   "cell_type": "markdown",
   "id": "a6e53073",
   "metadata": {},
   "source": [
    "최대이익 통나무 자르기\n",
    "3. 코드로 옮기기\n",
    "    - 점화식을 재귀호출, 반복문 식으로 코드로 작성한다."
   ]
  },
  {
   "cell_type": "code",
   "execution_count": null,
   "id": "09bff4d4",
   "metadata": {},
   "outputs": [],
   "source": [
    "memo = {} \n",
    "def cutRod(n):\n",
    "    if n <= 0 : return 0\n",
    "    if n not in memo:\n",
    "        for i in range(1, 9):\n",
    "            memo[n] = max(memo[n], price[i] + cutRod(n-i))\n",
    "        return memo[n]"
   ]
  },
  {
   "cell_type": "code",
   "execution_count": null,
   "id": "c8522b2d",
   "metadata": {},
   "outputs": [],
   "source": [
    "for n in range(N + 1):\n",
    "    for i in range(1, 9):\n",
    "        cutRod[n] = max(cutRod[n], price[i] + cutRod[n-1])"
   ]
  },
  {
   "cell_type": "markdown",
   "id": "bfbe450b",
   "metadata": {},
   "source": []
  },
  {
   "cell_type": "markdown",
   "id": "ad4d0f26",
   "metadata": {},
   "source": [
    "최대 이익 통나무 자르기\n",
    "깨비는 도깨비방망이를 만드는 목공소에서 일합니다. 깨비는 길이 N짜리 통나무를 나무꾼에게 납품받아서 여러조각으로 잘라 여러개의 도깨비 방망이를 제작합니다.\n",
    "\n",
    "도깨비방망이로 만들 수 있는 표준길이들이 주어지며, 각 길이에 따라 판매가격도 상이합니다. 길이에 따른 가격표를 보고 길이 N의 통나무를 한개 이상의 조각으로 잘랐을 때 볼 수 있는 최대이익을 구하세요.\n",
    "\n",
    "예를 들어, 길이 4짜리의 통나무가 주어지고, 아래와 같은 가격표가 있을 때 최대 가격은 2짜리 2개로 조각냈을 때 20*2=40원으로 최대입니다. 4짜리 통째로 팔 경우 36원, 1짜리 4조각으로 팔경우 4원으로 모두 오답입니다.\n",
    "\n",
    "length\tprice\n",
    "1\t1\n",
    "2\t20\n",
    "3\t33\n",
    "4\t36\n",
    "\n",
    "실습\n",
    "입력\n",
    "통나무의 길이인 정수 N과 판매가능한 길이의 갯수인 M이 입력되고 N과 M은 1000보다 작거나 같다.\n",
    "\n",
    "출력\n",
    "N길이의 통나무를 한개 이상의 조각으로 잘랐을 때의 최대이익을 출력한다.\n",
    "\n",
    "입력 예시\n",
    "4 4\n",
    "1 1\n",
    "2 20\n",
    "3 33\n",
    "4 36\n",
    "Copy\n",
    "출력 예시\n",
    "40"
   ]
  },
  {
   "cell_type": "code",
   "execution_count": 29,
   "id": "cfc61703",
   "metadata": {},
   "outputs": [
    {
     "name": "stdout",
     "output_type": "stream",
     "text": [
      "4 4\n",
      "1 1\n",
      "2 20\n",
      "3 33\n",
      "4 36\n",
      "40\n"
     ]
    }
   ],
   "source": [
    "def cutRod(N, myData) :\n",
    "    '''\n",
    "    통나무의 길이 N과 가격표가 dictionary로 주어질 때, \n",
    "    통나무를 잘라서 얻을 수 있는 최대 이익을 반환하세요.\n",
    "    예) 길이 1의 가격이 3일 때, myData[1] = 3\n",
    "    '''\n",
    "    \n",
    "    # 점화식\n",
    "    # Table[n] = max(price[l] + Table[n-1])\n",
    "    \n",
    "    Table = [0 for i in range(N+1)]\n",
    "    \n",
    "    for n in range(N+1):\n",
    "        for l,p in myData.items():\n",
    "            if n >= l:\n",
    "                Table[n] = max(Table[n], p+Table[n-l])\n",
    "    \n",
    "    return Table[N]\n",
    "\n",
    "\n",
    "# import sys\n",
    "\n",
    "# from cutRod import cutRod\n",
    "\n",
    "def main():\n",
    "    '''\n",
    "    이 부분은 수정하지 마세요.\n",
    "    '''\n",
    "    \n",
    "    data = dict()\n",
    "    N, M = input().split()\n",
    "    N = int(N)\n",
    "    M = int(M)\n",
    "    \n",
    "    for i in range(M):\n",
    "        l, p = input().split()\n",
    "        data[int(l)] = int(p)\n",
    "\n",
    "    print(cutRod(N, data))\n",
    "\n",
    "if __name__ == \"__main__\":\n",
    "    main()\n"
   ]
  },
  {
   "cell_type": "markdown",
   "id": "bfd37ff9",
   "metadata": {},
   "source": []
  },
  {
   "cell_type": "markdown",
   "id": "d8752cbe",
   "metadata": {},
   "source": [
    "03.심화 문제2 - 최대공통문자열"
   ]
  },
  {
   "cell_type": "markdown",
   "id": "be2ce107",
   "metadata": {},
   "source": [
    "최대길이 공통 부분 문자열 구하기(LCS)\n",
    "\n",
    "문제\n",
    "두개의 문자열에서 공통인 부분문자열의 최대길이를 구하시오.\n",
    "예) ADGEBCD 와 TGEABDC는 공통으로 GEBD를 최대길이 부분 문자열로\n",
    "    가지고 있어, 정답은 4입니다."
   ]
  },
  {
   "cell_type": "markdown",
   "id": "bf231e6c",
   "metadata": {},
   "source": [
    "최대길이 공통 부분 문자열 구하기(LCS)\n",
    "\n",
    "1. 구하고자 하는 값 정의하기\n",
    "    - 구하고자 하는 값이 무엇인지 정의한다.\n",
    "    \n",
    "LCS(xi, yj) = \n",
    "문자열 x의 i번째까지와 문자열 y의 j번째까지의 두 문자열을 이용해서\n",
    "만들 수 있는 부분문자열 중 최대길이"
   ]
  },
  {
   "cell_type": "markdown",
   "id": "f4c2c2c3",
   "metadata": {},
   "source": [
    "최대길이 공통 부분 문자열 구하기(LCS)\n",
    "\n",
    "2. 부분문제로 표현하여 점화식 구하기\n",
    "    - 구하고자 하는 값을 부분문제로 구성된 식으로 표현한다.\n",
    "    \n",
    "- 1 x문자열의 i번째와 y문자열 j번째의 문자가 다를 때\n",
    "- 2 x문자열의 i번째와 y문자열 j번째의 문자가 같을 때\n",
    "\n",
    "\n",
    "- 1 x문자열의 i번째와 y문자열 j번째의 문자가 다를 때\n"
   ]
  },
  {
   "cell_type": "markdown",
   "id": "4936b62e",
   "metadata": {},
   "source": [
    "3/9"
   ]
  },
  {
   "cell_type": "markdown",
   "id": "9ac3a2fe",
   "metadata": {},
   "source": []
  },
  {
   "cell_type": "markdown",
   "id": "6790e272",
   "metadata": {},
   "source": []
  },
  {
   "cell_type": "markdown",
   "id": "8f2cea6c",
   "metadata": {},
   "source": []
  },
  {
   "cell_type": "markdown",
   "id": "80644b42",
   "metadata": {},
   "source": []
  },
  {
   "cell_type": "markdown",
   "id": "f7bce3d4",
   "metadata": {},
   "source": []
  },
  {
   "cell_type": "markdown",
   "id": "ef354147",
   "metadata": {},
   "source": []
  },
  {
   "cell_type": "markdown",
   "id": "37caa5a4",
   "metadata": {},
   "source": []
  },
  {
   "cell_type": "markdown",
   "id": "6c0cd042",
   "metadata": {},
   "source": []
  },
  {
   "cell_type": "markdown",
   "id": "44fe989a",
   "metadata": {},
   "source": []
  },
  {
   "cell_type": "markdown",
   "id": "78ad98c6",
   "metadata": {},
   "source": []
  },
  {
   "cell_type": "markdown",
   "id": "5aae23a3",
   "metadata": {},
   "source": []
  },
  {
   "cell_type": "markdown",
   "id": "d1cfec94",
   "metadata": {},
   "source": []
  },
  {
   "cell_type": "markdown",
   "id": "9d835fd6",
   "metadata": {},
   "source": []
  },
  {
   "cell_type": "markdown",
   "id": "438405ce",
   "metadata": {},
   "source": []
  },
  {
   "cell_type": "markdown",
   "id": "609581af",
   "metadata": {},
   "source": []
  },
  {
   "cell_type": "markdown",
   "id": "130acbde",
   "metadata": {},
   "source": []
  },
  {
   "cell_type": "markdown",
   "id": "bfad816d",
   "metadata": {},
   "source": []
  },
  {
   "cell_type": "markdown",
   "id": "fe37c104",
   "metadata": {},
   "source": []
  },
  {
   "cell_type": "markdown",
   "id": "9058d9fa",
   "metadata": {},
   "source": []
  },
  {
   "cell_type": "markdown",
   "id": "9f6b4d68",
   "metadata": {},
   "source": []
  },
  {
   "cell_type": "markdown",
   "id": "e5fad780",
   "metadata": {},
   "source": []
  },
  {
   "cell_type": "markdown",
   "id": "e8267847",
   "metadata": {},
   "source": []
  }
 ],
 "metadata": {
  "kernelspec": {
   "display_name": "Python 3",
   "language": "python",
   "name": "python3"
  },
  "language_info": {
   "codemirror_mode": {
    "name": "ipython",
    "version": 3
   },
   "file_extension": ".py",
   "mimetype": "text/x-python",
   "name": "python",
   "nbconvert_exporter": "python",
   "pygments_lexer": "ipython3",
   "version": "3.8.8"
  }
 },
 "nbformat": 4,
 "nbformat_minor": 5
}
