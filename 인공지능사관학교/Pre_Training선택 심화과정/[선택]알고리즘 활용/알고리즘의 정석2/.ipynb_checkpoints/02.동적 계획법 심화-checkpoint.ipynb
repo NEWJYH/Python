{
 "cells": [
  {
   "cell_type": "markdown",
   "id": "a4e4e076",
   "metadata": {},
   "source": [
    "목 차\n",
    "\n",
    "01.동적계획법의 문제설정과 응용\n",
    "\n",
    "02.심화 문제1 - 최대이익 통나무 자르기\n",
    "\n",
    "03.심화 문제2 - 최대공통문자열\n",
    "\n",
    "04.심화 문제3 - 최장증가수열\n",
    "\n",
    "05.심화 문제4 - 팰린드롬 만들기\n",
    "\n",
    "06.정리"
   ]
  },
  {
   "cell_type": "markdown",
   "id": "959d9602",
   "metadata": {},
   "source": []
  },
  {
   "cell_type": "markdown",
   "id": "890d3553",
   "metadata": {},
   "source": [
    "동적계획법 문제풀이 방법\n",
    "\n",
    "1.구하고자 하는 값 정의하기\n",
    "    - 구하고자 하는 값이 무엇인지 정의한다.\n",
    "    \n",
    "2.부분문제로 표현하여 점화식 구하기\n",
    "    - 구하고자 하는 값을 부분문제로 구성된 식으로 표현한다.\n",
    "    \n",
    "3.코드로 옮기기\n",
    "    - 점화식을 재귀호출, 반복문 식으로 코드로 작성한다."
   ]
  },
  {
   "cell_type": "markdown",
   "id": "c2dbca64",
   "metadata": {},
   "source": []
  },
  {
   "cell_type": "markdown",
   "id": "2127f315",
   "metadata": {},
   "source": [
    "최대이익 통나무 자르기\n",
    "\n",
    "문제\n",
    "길이 N짜리의 통나무를 다양한 길이로 조각 내고 싶습니다.\n",
    "각 조각의 길이에 따라 판매 시 특정 가격으로 팔 수 있습니다.\n",
    "길이 N의 통나무를 잘라 볼 수 있는 최대 이익을 구하세요.\n",
    "\n",
    "길이 1  2  3  4  5  6  7  8\n",
    "가격 1  5  8  9 10 17 17 20"
   ]
  },
  {
   "cell_type": "markdown",
   "id": "61808db3",
   "metadata": {},
   "source": [
    "최대이익 통나무 자르기 - 탐욕적기법\n",
    "\n",
    "문제\n",
    "길이 N짜리의 통나무를 다양한 길이로 조각 내고 싶습니다.\n",
    "각 조각의 길이에 따라 판매 시 특정 가격으로 팔 수 있습니다.\n",
    "길이 N의 통나무를 잘라 볼 수 있는 최대 이익을 구하세요.\n",
    "\n",
    "길이          1    2    3    4    5    6        7    8\n",
    "가격          1    5    8    9   10   17        17   20\n",
    "단위길이당 가격 1   2.5 2.6667 2.25 2   2.8333 2.4285 2.5"
   ]
  },
  {
   "cell_type": "markdown",
   "id": "72a4bb9e",
   "metadata": {},
   "source": [
    "최대이익 통나무 자르기 - 동적계획법\n",
    "\n",
    "1. 구하고자 하는 값 정의하기\n",
    "    - 구하고자 하는 값이 무엇인지 정의한다.\n",
    "\n",
    "길이          1    2    3    4    5    6     7    8\n",
    "가격          1    5    8    9   10   17    17   20\n",
    "\n",
    "cutRod(n) = \n",
    "길이 n짜리의 통나무를 적절하게 잘랐을 때 얻을 수 있는 최대 이익"
   ]
  },
  {
   "cell_type": "markdown",
   "id": "24c04285",
   "metadata": {},
   "source": [
    "최대이익 통나무 자르기 - 동적계획법\n",
    "\n",
    "1. 구하고자 하는 값 정의하기\n",
    "    - 구하고자 하는 값이 무엇인지 정의한다.\n",
    "\n",
    "길이          1    2    3    4    5    6     7    8\n",
    "가격          1    5    8    9   10   17    17   20\n",
    "\n",
    "2. 부분문제로 표현하여 점화식 구하기\n",
    "    - 구현하고자 하는 값을 부분문제로 구성된 식으로 표현한다.\n",
    "    \n",
    "이전에 잘라놓은 조각은 신경쓰지 않고 마지막 조각을 기준으로\n",
    "|                   |                     |  |\n",
    "N-3길이의 통나무로 얻을 수 있는 최대 이익 + 길이가 3인 통나무 가격 = 8\n",
    "\n",
    "길이 N의 통나무로 낼 수 있는 최대 이익은\n",
    "(N - 판매할 조각 길이)의 통나무로 내는 최대이익 + 판매할 조각의 가격\n",
    "을 모든 조각 길이에 대해 시행한 후 최대값이다.\n",
    "\n",
    "cutRod(n) = \n",
    "길이 n짜리의 통나무를 적절하게 잘랐을 때 얻을 수 있는 최대 이익\n",
    "\n",
    "cutRod(n) = max(price[i] + cutRod(n-i)) for all i in {1..8}\n",
    "\n",
    "                  |\n",
    "통나무 길이 0 1 2 3 4 5 6 7 8 9 10 11\n",
    "가      격 0 1 5 8 0 0 0 0 0 0  0  0\n"
   ]
  },
  {
   "cell_type": "markdown",
   "id": "a6e53073",
   "metadata": {},
   "source": [
    "최대이익 통나무 자르기\n",
    "3. 코드로 옮기기\n",
    "    - 점화식을 재귀호출, 반복문 식으로 코드로 작성한다."
   ]
  },
  {
   "cell_type": "code",
   "execution_count": null,
   "id": "09bff4d4",
   "metadata": {},
   "outputs": [],
   "source": [
    "memo = {} \n",
    "def cutRod(n):\n",
    "    if n <= 0 : return 0\n",
    "    if n not in memo:\n",
    "        for i in range(1, 9):\n",
    "            memo[n] = max(memo[n], price[i] + cutRod(n-i))\n",
    "        return memo[n]"
   ]
  },
  {
   "cell_type": "code",
   "execution_count": null,
   "id": "c8522b2d",
   "metadata": {},
   "outputs": [],
   "source": [
    "for n in range(N + 1):\n",
    "    for i in range(1, 9):\n",
    "        cutRod[n] = max(cutRod[n], price[i] + cutRod[n-1])"
   ]
  },
  {
   "cell_type": "markdown",
   "id": "bfbe450b",
   "metadata": {},
   "source": []
  },
  {
   "cell_type": "markdown",
   "id": "ad4d0f26",
   "metadata": {},
   "source": [
    "최대 이익 통나무 자르기\n",
    "깨비는 도깨비방망이를 만드는 목공소에서 일합니다. 깨비는 길이 N짜리 통나무를 나무꾼에게 납품받아서 여러조각으로 잘라 여러개의 도깨비 방망이를 제작합니다.\n",
    "\n",
    "도깨비방망이로 만들 수 있는 표준길이들이 주어지며, 각 길이에 따라 판매가격도 상이합니다. 길이에 따른 가격표를 보고 길이 N의 통나무를 한개 이상의 조각으로 잘랐을 때 볼 수 있는 최대이익을 구하세요.\n",
    "\n",
    "예를 들어, 길이 4짜리의 통나무가 주어지고, 아래와 같은 가격표가 있을 때 최대 가격은 2짜리 2개로 조각냈을 때 20*2=40원으로 최대입니다. 4짜리 통째로 팔 경우 36원, 1짜리 4조각으로 팔경우 4원으로 모두 오답입니다.\n",
    "\n",
    "length\tprice\n",
    "1\t1\n",
    "2\t20\n",
    "3\t33\n",
    "4\t36\n",
    "\n",
    "실습\n",
    "입력\n",
    "통나무의 길이인 정수 N과 판매가능한 길이의 갯수인 M이 입력되고 N과 M은 1000보다 작거나 같다.\n",
    "\n",
    "출력\n",
    "N길이의 통나무를 한개 이상의 조각으로 잘랐을 때의 최대이익을 출력한다.\n",
    "\n",
    "입력 예시\n",
    "4 4\n",
    "1 1\n",
    "2 20\n",
    "3 33\n",
    "4 36\n",
    "Copy\n",
    "출력 예시\n",
    "40"
   ]
  },
  {
   "cell_type": "code",
   "execution_count": 29,
   "id": "cfc61703",
   "metadata": {},
   "outputs": [
    {
     "name": "stdout",
     "output_type": "stream",
     "text": [
      "4 4\n",
      "1 1\n",
      "2 20\n",
      "3 33\n",
      "4 36\n",
      "40\n"
     ]
    }
   ],
   "source": [
    "def cutRod(N, myData) :\n",
    "    '''\n",
    "    통나무의 길이 N과 가격표가 dictionary로 주어질 때, \n",
    "    통나무를 잘라서 얻을 수 있는 최대 이익을 반환하세요.\n",
    "    예) 길이 1의 가격이 3일 때, myData[1] = 3\n",
    "    '''\n",
    "    \n",
    "    # 점화식\n",
    "    # Table[n] = max(price[l] + Table[n-1])\n",
    "    \n",
    "    Table = [0 for i in range(N+1)]\n",
    "    \n",
    "    for n in range(N+1):\n",
    "        for l,p in myData.items():\n",
    "            if n >= l:\n",
    "                Table[n] = max(Table[n], p+Table[n-l])\n",
    "    \n",
    "    return Table[N]\n",
    "\n",
    "\n",
    "# import sys\n",
    "\n",
    "# from cutRod import cutRod\n",
    "\n",
    "def main():\n",
    "    '''\n",
    "    이 부분은 수정하지 마세요.\n",
    "    '''\n",
    "    \n",
    "    data = dict()\n",
    "    N, M = input().split()\n",
    "    N = int(N)\n",
    "    M = int(M)\n",
    "    \n",
    "    for i in range(M):\n",
    "        l, p = input().split()\n",
    "        data[int(l)] = int(p)\n",
    "\n",
    "    print(cutRod(N, data))\n",
    "\n",
    "if __name__ == \"__main__\":\n",
    "    main()\n"
   ]
  },
  {
   "cell_type": "markdown",
   "id": "bfd37ff9",
   "metadata": {},
   "source": []
  },
  {
   "cell_type": "markdown",
   "id": "d8752cbe",
   "metadata": {},
   "source": [
    "03.심화 문제2 - 최대공통문자열"
   ]
  },
  {
   "cell_type": "markdown",
   "id": "be2ce107",
   "metadata": {},
   "source": [
    "최대길이 공통 부분 문자열 구하기(LCS)\n",
    "\n",
    "문제\n",
    "두개의 문자열에서 공통인 부분문자열의 최대길이를 구하시오.\n",
    "예) ADGEBCD 와 TGEABDC는 공통으로 GEBD를 최대길이 부분 문자열로\n",
    "    가지고 있어, 정답은 4입니다."
   ]
  },
  {
   "cell_type": "markdown",
   "id": "bf231e6c",
   "metadata": {},
   "source": [
    "최대길이 공통 부분 문자열 구하기(LCS)\n",
    "\n",
    "1. 구하고자 하는 값 정의하기\n",
    "    - 구하고자 하는 값이 무엇인지 정의한다.\n",
    "    \n",
    "LCS(xi, yj) = \n",
    "문자열 x의 i번째까지와 문자열 y의 j번째까지의 두 문자열을 이용해서\n",
    "만들 수 있는 부분문자열 중 최대길이"
   ]
  },
  {
   "cell_type": "markdown",
   "id": "f4c2c2c3",
   "metadata": {},
   "source": [
    "최대길이 공통 부분 문자열 구하기(LCS)\n",
    "\n",
    "2. 부분문제로 표현하여 점화식 구하기\n",
    "    - 구하고자 하는 값을 부분문제로 구성된 식으로 표현한다.\n",
    "    \n",
    "- 1 x문자열의 i번째와 y문자열 j번째의 문자가 다를 때\n",
    "\n",
    "- 2 x문자열의 i번째와 y문자열 j번째의 문자가 같을 때"
   ]
  },
  {
   "cell_type": "markdown",
   "id": "4936b62e",
   "metadata": {},
   "source": [
    "최대길이 공통 부분 문자열 구하기(LCS)\n",
    "\n",
    "2. 부분문제로 표현하여 점화식 구하기\n",
    "    - 구하고자 하는 값을 부분문제로 구성된 식으로 표현한다.\n",
    "    \n",
    "- 1 x문자열의 i번째와 y문자열 j번째의 문자가 다를 때\n",
    "    i\n",
    "    |\n",
    "A D G E B C D\n",
    "T G E A B D C\n",
    "    |\n",
    "    j\n",
    "        i-1                  i\n",
    "         |                   |\n",
    "= max( A D G E B C D     A D G E B C D\n",
    "       T G E A B D C   , T G E A B D C )\n",
    "           |               |\n",
    "           j              j-1\n",
    "\n",
    "- 2 x문자열의 i번째와 y문자열 j번째의 문자가 같을 때\n",
    "            i                         i-1\n",
    "            |                          |                     _ _ _   _\n",
    "A D G E B C D        =       A D G E B C D    + 1        A D G E B C D\n",
    "T G E A B D C                T G E A B D C               T G E A B D C \n",
    "          |                          |                     - -   - -\n",
    "          j                         j-1"
   ]
  },
  {
   "cell_type": "markdown",
   "id": "9ac3a2fe",
   "metadata": {},
   "source": [
    "최대길이 공통 부분 문자열 구하기(LCS)\n",
    "\n",
    "2. 부분문제로 표현하여 점화식 구하기\n",
    "    - 구하고자 하는 값을 부분문제로 구성된 식으로 표현한다.\n",
    "\n",
    "LCS(xi,yj) = \n",
    "0           i = 0 or j = 0\n",
    "LCS(xi-1,yj-1) + 1                  xi  = yi\n",
    "max(LCS(xi-1,yj-1), LCS(xi,yj-1))   xi != yi\n"
   ]
  },
  {
   "cell_type": "markdown",
   "id": "6790e272",
   "metadata": {},
   "source": [
    "최대길이 공통 부분 문자열 구하기(LCS)\n",
    "\n",
    "2. 부분문제로 표현하여 점화식 구하기\n",
    "    - 구하고자 하는 값을 부분문제로 구성된 식으로 표현한다.\n",
    "    \n",
    "    / A D G E B C D\n",
    " /  0 0 0 0 0 0 0 0\n",
    " T  0 0 0 0 0 0 0 0   \n",
    " G  0 0 0 1 1 1 1 1\n",
    " E  0 0 0 1 2 2 2 2\n",
    " A  \n",
    " B\n",
    " D\n",
    " C"
   ]
  },
  {
   "cell_type": "markdown",
   "id": "8f2cea6c",
   "metadata": {},
   "source": [
    "최장 증가수열 구하기\n",
    "\n",
    "LCS(xi,yj) = \n",
    "0                             i = 0 or j = 0  V\n",
    "LCS(xi-1,yj-1) + 1                  xi  = yi  VV\n",
    "max(LCS(xi-1,yj-1), LCS(xi,yj-1))   xi != yi  VVV\n",
    "\n",
    "Example\n",
    "m = len(X)\n",
    "n = len(Y)\n",
    "\n",
    "L = [[None]*(n+1) for i in range(m + 1)]\n",
    "\n",
    "Example\n",
    "for i in range(m + 1) :\n",
    "    for j in range(n + 1):\n",
    "        if i == 0 or j == 0 :       V\n",
    "            L[i][j] = 0\n",
    "        elif x[i-1] == y[j-1] :      VV\n",
    "            L[i][j] = L[i-1][j-1]+1\n",
    "        else: \n",
    "            L[i][j] = max(L[i-1][j], L[i][j-1])  VVV"
   ]
  },
  {
   "cell_type": "markdown",
   "id": "80644b42",
   "metadata": {},
   "source": []
  },
  {
   "cell_type": "markdown",
   "id": "f7bce3d4",
   "metadata": {},
   "source": [
    "최대길이 공통 부분 문자열 구하기\n",
    "두 개의 문자열 s1, s2 가 주어질 때, 공통 부분 수열이란, s1과 s2가 공통으로 갖는 부분 수열을 일컫는다. 예를 들어, s1 = “Television”, s2 = “Telephone”이라고 하면, s1과 s2의 공통 부분 수열이 될 수 있는 문자열은 “T”, “To”, “Teln” 등이 있다.\n",
    "\n",
    "최대 공통 부분 수열이란, 공통 부분 수열 중에서 그 길이가 최대인 것을 일컫는다. 예를 들어, s1 = “Television”, s2 = “Telephone”이라고 하면, 그 최대 공통 부분 수열은 “Teleon”으로써, 그 길이는 6이다.\n",
    "\n",
    "두 개의 문자열이 주어질 때, 최대 공통 부분 수열의 길이를 구하는 프로그램을 작성하시오.\n",
    "\n",
    "\n",
    "실습\n",
    "입력\n",
    "첫 번째 줄에 문자열 s1, 두 번째 줄에 문자열 s2가 주어진다. 각 길이는 1000을 넘지 않는다.\n",
    "\n",
    "출력\n",
    "최대 공통 부분 수열의 길이를 출력한다.\n",
    "\n",
    "입력 예시\n",
    "Television\n",
    "Telephone\n",
    "Copy\n",
    "출력 예시\n",
    "6"
   ]
  },
  {
   "cell_type": "code",
   "execution_count": 2,
   "id": "dffb7df9",
   "metadata": {},
   "outputs": [
    {
     "name": "stdout",
     "output_type": "stream",
     "text": [
      "Television\n",
      "Telephone\n",
      "6\n"
     ]
    }
   ],
   "source": [
    "def LCS(s1, s2) :\n",
    "    '''\n",
    "    문자열 s1, s2의 최대 공통 부분 수열의 길이를 반환하는 함수를 작성하세요.\n",
    "    '''\n",
    "    m = len(s1)\n",
    "    n = len(s2)\n",
    "    \n",
    "    L = [[None]*(n+1) for i in range(m + 1)]\n",
    "    \n",
    "    for i in range(m + 1) :\n",
    "        for j in range(n + 1):\n",
    "            if i == 0 or j == 0 :\n",
    "                L[i][j] = 0\n",
    "            elif s1[i-1] == s2[j-1] :\n",
    "                L[i][j] = L[i-1][j-1]+1\n",
    "            else: \n",
    "                L[i][j] = max(L[i-1][j], L[i][j-1])\n",
    "    \n",
    "    return L[m][n]\n",
    "\n",
    "# import sys\n",
    "\n",
    "# from LCS import LCS\n",
    "\n",
    "def main():\n",
    "    '''\n",
    "    이 부분은 수정하지 마세요.\n",
    "    '''\n",
    "\n",
    "    s1 = input()\n",
    "    s2 = input()\n",
    "\n",
    "    print(LCS(s1, s2))\n",
    "\n",
    "if __name__ == \"__main__\":\n",
    "    main()\n"
   ]
  },
  {
   "cell_type": "markdown",
   "id": "ef354147",
   "metadata": {},
   "source": []
  },
  {
   "cell_type": "markdown",
   "id": "37caa5a4",
   "metadata": {},
   "source": [
    "04.심화 문제3 - 최장증가수열"
   ]
  },
  {
   "cell_type": "markdown",
   "id": "6c0cd042",
   "metadata": {},
   "source": [
    "최장증가수열 구하기\n",
    "\n",
    "문제\n",
    "숫자 수열이 있습니다.\n",
    "왼쪽부터 차례대로 보며 점점 증가하는 수열을 골라내려고 합니다.\n",
    "이를 증가수열이라고 합니다.\n",
    "이때, 가장 긴 증가수열을 구하세요.\n",
    "      v  v  v        v     v  v \n",
    "예시) 10 20 40 25 20 50 30 70 85"
   ]
  },
  {
   "cell_type": "markdown",
   "id": "44fe989a",
   "metadata": {},
   "source": [
    "최장증가수열 구하기\n",
    "\n",
    "1. 구하고자 하는 값 정의하기\n",
    "    - 구하고자 하는 값이 무엇인지 정의한다.\n",
    "    \n",
    "LIS[i] =\n",
    "수열의 i번째까지로 만들 수 있는 증가수열 중 가장 긴 길이"
   ]
  },
  {
   "cell_type": "markdown",
   "id": "78ad98c6",
   "metadata": {},
   "source": [
    "최장증가수열 구하기\n",
    "\n",
    "2. 부분문제로 표현하여 점화식 구하기 - 동작확인\n",
    "    - 구하고자 하는 값을 부분문제로 구성된 식으로 표현한다.\n",
    "_\n",
    "         i\n",
    "         |\n",
    "10 20 40 25 20 50 30 70 85\n",
    "                i\n",
    "                |\n",
    "arr -∞ 10 20 40 25 20 50 30 70 85\n",
    "LIS  0  1  2  3  3 \n",
    "                               i\n",
    "                               |\n",
    "arr -∞ 10 20 40 25 20 50 30 70 85\n",
    "LIS  0  1  2  3  3  2  4  4  5  6\n",
    "\n",
    "LIS(n) = max(LIS(i)) + 1, arr[i] < arr[n] {i = 0 .. .n-1}"
   ]
  },
  {
   "cell_type": "markdown",
   "id": "5aae23a3",
   "metadata": {},
   "source": [
    "최장증가수열 구하기\n",
    "\n",
    "3. 코드로 옮기기\n",
    "    - 점화식을 재귀호출, 반복문 식으로 코드로 작성한다.\n",
    "\n",
    "LIS(n) = max(LIS(i)) + 1, arr[i] < arr[n] {i = 0 .. .n-1}\n",
    "\n",
    "Example\n",
    "def LIS(n):\n",
    "    if n == 0 : return 0\n",
    "    if n not in memo:\n",
    "        for i in range(0, n):\n",
    "            if arr[i] < arr[n]:\n",
    "                memo = max(LIS(i)) + 1\n",
    "    return memo[n]\n",
    "    \n",
    "Example\n",
    "for n in range(1, N):\n",
    "    for i in range(n):\n",
    "        if arr[i] < arr[n]:\n",
    "            LIS[n] = max(LIS[n], LIS[i] + 1)"
   ]
  },
  {
   "cell_type": "markdown",
   "id": "d1cfec94",
   "metadata": {},
   "source": []
  },
  {
   "cell_type": "markdown",
   "id": "9d835fd6",
   "metadata": {},
   "source": [
    "최장 증가 부분 수열\n",
    "수열 a에 대하여, 부분수열이란 a에서 몇 개의 원소를 골라서 만들 수 있는 수열을 말한다. 예를 들어, 수열 a = [1, 4, 2, 8] 이라고 할 때, 수열 a의 부분수열이 될 수 있는 것으로는 [1], [1, 2], [1, 4, 2], [1, 4, 2, 8], [1, 2, 8] 등이 있다.\n",
    "\n",
    "증가수열이란, 수열의 원소가 갈수록 증가하는 수열을 말한다. 예를 들어, [1, 2, 3], [1, 2, 5], [3, 4, 8] 는 증가수열이지만 [1, 4, 2] 는 증가수열이 아니다.\n",
    "\n",
    "수열 a에 대하여, 증가 부분 수열이란 a의 부분수열 중에서 증가수열에 해당되는 것을 말한다. 예를 들어, 수열 a = [1, 4, 2, 8] 이라고 할 때, 수열 a의 증가 부부 수열이 될 수 있는 것으로는 [1], [1, 2, 8], [1, 4, 8] 등이 있다.\n",
    "\n",
    "수열 a에 대하여, 최장 증가 부분 수열이란 a의 증가 부분 수열 중에서 그 길이가 최대인 것을 말한다. 예를 들어, 수열 a = [1, 4, 2, 8] 이라고 할 때, 최장 증가 부분 수열의 길이는 3이다.\n",
    "\n",
    "수열이 주어질 때, 최장 증가 부분 수열의 길이를 구하는 프로그램을 작성하세요.\n",
    "\n",
    "\n",
    "실습\n",
    "입력\n",
    "수열의 원소가 주어진다. 그 길이는 100보다 작거나 같다.\n",
    "\n",
    "출력\n",
    "최장 증가 부분 수열의 길이를 출력한다.\n",
    "\n",
    "입력 예시\n",
    "1 4 2 3 5\n",
    "Copy\n",
    "출력 예시\n",
    "4"
   ]
  },
  {
   "cell_type": "code",
   "execution_count": 4,
   "id": "24411f1b",
   "metadata": {},
   "outputs": [
    {
     "name": "stdout",
     "output_type": "stream",
     "text": [
      "1 4 2 3 5\n",
      "4\n"
     ]
    }
   ],
   "source": [
    "def LIS(myData) :\n",
    "    '''\n",
    "    수열이 list로 주어질 때, \n",
    "    최장 증가 부분 수열의 길이를 반환하는 함수를 작성하세요.\n",
    "    '''\n",
    "    L = [0] * len(myData)\n",
    "    for n in range(len(myData)):\n",
    "        for i in range(n) :\n",
    "            if myData[i] < myData[n]:\n",
    "                L[n] = max(L[n], L[i]+1)\n",
    "            \n",
    "    return max(L) + 1\n",
    "\n",
    "# import sys\n",
    "# from LIS import LIS\n",
    "\n",
    "\n",
    "def main():\n",
    "    '''\n",
    "    이 부분은 수정하지 마세요.\n",
    "    '''\n",
    "\n",
    "    data = [int(v) for v in input().split()]\n",
    "\n",
    "    print(LIS(data))\n",
    "\n",
    "if __name__ == \"__main__\":\n",
    "    main()\n"
   ]
  },
  {
   "cell_type": "markdown",
   "id": "438405ce",
   "metadata": {},
   "source": []
  },
  {
   "cell_type": "markdown",
   "id": "609581af",
   "metadata": {},
   "source": [
    "05.심화 문제4 - 팰린드롬 만들기"
   ]
  },
  {
   "cell_type": "markdown",
   "id": "130acbde",
   "metadata": {},
   "source": [
    "팰린드롬 만들기\n",
    "\n",
    "문제 \n",
    "팰린드롬이란? 앞으로 읽으나 뒤로 읽으나 똑같은 문자열을 말합니다.\n",
    "예) aba, abdba, abffba\n",
    "\n",
    "임의의 문자열이 주어질 때, \n",
    "몇 개의 문자를 적당히 삭제하면 이를 팰린드롬으로 만들 수 있습니다.\n",
    "예) abca -> aba\n",
    "\n",
    "임의의 문자열이 주어졌을 때, \n",
    "문자를 최소한으로 삭제하여 팰린드롬으로 만들려고 합니다.\n",
    "이 때 삭제해야하는 문자의 최소 개수를 구하세요."
   ]
  },
  {
   "cell_type": "markdown",
   "id": "bfad816d",
   "metadata": {},
   "source": [
    "팰린드롬 만들기\n",
    "\n",
    "1. 구하고자 하는 값 정의하기\n",
    "    - 구하고자 하는 값이 무엇인지 정의한다.\n",
    "    \n",
    "palindrome[i][j] = \n",
    "문자열의 i번째에서 j번째까지 부분에서 팰린드롬을 만들기 위해\n",
    "삭제해야하는 최소 문자 개수"
   ]
  },
  {
   "cell_type": "markdown",
   "id": "fe37c104",
   "metadata": {},
   "source": [
    "팰린드롬 만들기\n",
    "\n",
    "2. 부분문제로 표현하여 점화식 구하기\n",
    "    - 구하고자 하는 값을 부분문제로 구성된 식으로 표현한다.\n",
    "    \n",
    "- 1. 문자열 i번쨰와 j번째의 문자가 동일한 경우\n",
    "- 2. 문자열 i번째와 j번째의 문자가 다른 경우"
   ]
  },
  {
   "cell_type": "markdown",
   "id": "9058d9fa",
   "metadata": {},
   "source": [
    "팰린드롬 만들기\n",
    "\n",
    "2. 부분문제로 표현하여 점화식 구하기\n",
    "    - 구하고자 하는 값을 부분문제로 구성된 식으로 표현한다.\n",
    "    \n",
    "- 1. 문자열 i번쨰와 j번째의 문자가 동일한 경우\n",
    "i         j\n",
    "|         |\n",
    "a b c f b a\n",
    "  | | | |\n",
    " \n",
    " palindrome[i][j] = palindrome[i+1][j-1]"
   ]
  },
  {
   "cell_type": "markdown",
   "id": "9f6b4d68",
   "metadata": {},
   "source": [
    "팰린드롬 만들기\n",
    "\n",
    "2. 부분문제로 표현하여 점화식 구하기\n",
    "    - 구하고자 하는 값을 부분문제로 구성된 식으로 표현한다.\n",
    "    \n",
    "- 2. 문자열 i번째와 j번째의 문자가 다른 경우\n",
    "i       j\n",
    "|       |\n",
    "a b c f b a\n",
    "  | | | |\n",
    "  \n",
    "i       j\n",
    "|       |\n",
    "a b c f b a\n",
    "| | | |\n",
    "\n",
    "왼쪽문자 혹은 오른쪽문자 중 하나를 삭제해준다.\n",
    "\n",
    "palindrom[i][j] = min(palindrom[i+1][j], palindrome[i][j-1]) + 1"
   ]
  },
  {
   "cell_type": "markdown",
   "id": "e5fad780",
   "metadata": {},
   "source": [
    "팰린드롬 만들기\n",
    "\n",
    "2. 부분문제로 표현하여 점화식 구하기\n",
    "    - 구하고자 하는 값을 부분문제로 구성된 식으로 표현한다.\n",
    "    \n",
    " palindrome[i][j] = \n",
    "     1 palindrome[i+1][j-1]                                 arr[i] == arr[j]\n",
    "     2 min(palindrom[i+1][j], palindrome[i][j-1]) + 1       arr[i] != arr[j]"
   ]
  },
  {
   "cell_type": "markdown",
   "id": "e8267847",
   "metadata": {},
   "source": [
    "팰린드롬 만들기\n",
    "\n",
    "2. 부분문제로 표현하여 점화식 구하기\n",
    "    - 구하고자 하는 값을 부분문제로 구성된 식으로 표현한다.\n",
    "    \n",
    "    ||\n",
    "abcfba\n",
    "_\n",
    "        a b c f b a\n",
    "      a 0 0 0 0 0 0\n",
    "      b 0 0 0 0 0 0\n",
    "      c 0 0 0 0 0 0\n",
    "      f 0 0 0 0 0 0\n",
    "      b 0 0 0 0 0 V\n",
    "      a 0 0 0 0 0 0\n",
    "-\n",
    "    ij \n",
    "    ||  \n",
    "abcfba\n",
    "   ij \n",
    "   ||  \n",
    "abcfba\n",
    "   i j \n",
    "   | |  \n",
    "abcfba\n",
    "  ij \n",
    "  ||  \n",
    "abcfba\n",
    "  i j \n",
    "  | |  \n",
    "abcfba\n",
    "  i  j \n",
    "  |  |  \n",
    "abcfba\n",
    " ij \n",
    " ||  \n",
    "abcfba\n",
    " i   j \n",
    " |   |  \n",
    "abcfba\n",
    "ij \n",
    "||  \n",
    "abcfba\n",
    "i    j \n",
    "|    |  \n",
    "abcfba"
   ]
  },
  {
   "cell_type": "markdown",
   "id": "c5e40afa",
   "metadata": {},
   "source": [
    "팰린드롬 만들기\n",
    "\n",
    "3. 코드로 옮기기\n",
    "    - 점화식을 재귀호출, 반복문 식으로 코드로 작성한다.\n",
    "    \n",
    " palindrome[i][j] = \n",
    "     1 palindrome[i+1][j-1]                                 arr[i] == arr[j]\n",
    "     2 min(palindrome[i+1][j], palindrome[i][j-1]) + 1       arr[i] != arr[j]"
   ]
  },
  {
   "cell_type": "markdown",
   "id": "2743d1a2",
   "metadata": {},
   "source": [
    "팰린드롬 만들기\n",
    "\n",
    "palindrome[i][j] = \n",
    "     1 palindrome[i+1][j-1]                                 arr[i] == arr[j]\n",
    "     2 min(palindrome[i+1][j], palindrome[i][j-1]) + 1       arr[i] != arr[j]\n",
    "     \n",
    "Example\n",
    "for i in range(N-2, -1, -1):\n",
    "    for j in range(i+1, n):\n",
    "        if arr[i] == arr[n]:\n",
    "            palindrome[i][j] = palindrome[i+1][j-1]\n",
    "        else:\n",
    "            palindrome[i][j] = min(palindrome[i+1][j], palindrome[i][j-1]) + 1"
   ]
  },
  {
   "cell_type": "markdown",
   "id": "fbf56d04",
   "metadata": {},
   "source": [
    "05.정리"
   ]
  },
  {
   "cell_type": "markdown",
   "id": "6607c484",
   "metadata": {},
   "source": [
    "동적 계획법 문제풀이는...\n",
    "\n",
    "- 복잡한 문제를 작은 하위문제로 나누어 푸는 방식입니다.\n",
    "  큰 문제를 작은 문제로 나눕니다.\n",
    "\n",
    "- 부분문제로 구성된 구하고자 하는 값을 점화식으로 표현합니다.\n",
    "\n",
    "- 점화식을 코드로 옮기기 위해서\n",
    "  Top-down (재귀식 방법)과 Bottom-up(반복문식 방법)을 활용할 수 있습니다.\n",
    "\n",
    "- 시간복잡도 및 공간복잡도를 계산하여\n",
    "  동적계획법 문제가 현재조건 (제한시간, 제한공간)에 적절한지 확인합니다."
   ]
  },
  {
   "cell_type": "markdown",
   "id": "ec480992",
   "metadata": {},
   "source": []
  },
  {
   "cell_type": "markdown",
   "id": "28663ec7",
   "metadata": {},
   "source": [
    "팰린드롬 만들기\n",
    "팰린드롬이란, 앞으로 읽으나 뒤로 읽으나 똑같은 문자열을 말한다. 예를 들어, “aba”, “abdba”, “abffba” 는 모두 팰린드롬이다.\n",
    "\n",
    "임의의 문자열이 주어질 때, 몇 개의 문자를 적당히 삭제하면 이를 팰린드롬으로 만들 수 있다. 예를 들어, “abca”가 주어질 경우, 알파벳 ‘b’를 삭제하면 “aca”가 되므로, 팰린드롬으로 만들 수 있다.\n",
    "\n",
    "임의의 문자를 제거함으로써 주어진 문자열을 팰린드롬으로 만들고 싶다고 할 때, 제거해야 하는 문자의 최소 개수를 출력하는 프로그램을 작성하세요.\n",
    "\n",
    "\n",
    "실습\n",
    "입력\n",
    "첫 번째 줄에 문자열이 주어진다. 문자열의 길이는 3000을 넘지 않는다.\n",
    "\n",
    "출력\n",
    "팰린드롬을 만들기 위해 제거해야 하는 문자의 개수의 최솟값을 출력한다.\n",
    "\n",
    "입력 예시 1\n",
    "abcfba\n",
    "Copy\n",
    "출력 예시 1\n",
    "1\n",
    "Copy\n",
    "입력 예시 2\n",
    "abcdefg\n",
    "Copy\n",
    "출력 예시 2\n",
    "6"
   ]
  },
  {
   "cell_type": "code",
   "execution_count": 5,
   "id": "a1da318d",
   "metadata": {},
   "outputs": [
    {
     "name": "stdout",
     "output_type": "stream",
     "text": [
      "abcfba\n",
      "1\n"
     ]
    }
   ],
   "source": [
    "def palindrome(data) :\n",
    "    '''\n",
    "    문자열 data가 주어질 때, \n",
    "    이를 팰린드롬으로 만들기 위해 \n",
    "    제거해야 하는 문자 개수의 최솟값을 반환하는 함수를 작성하세요.\n",
    "    '''\n",
    "    \n",
    "    \n",
    "    n = len(data)\n",
    "    \n",
    "    p = [[0] * n for i in range(n)]\n",
    "    \n",
    "    for i in range(n-2, -1, -1):\n",
    "        for j in range(i+1, n):\n",
    "            if data[i] == data[j]:\n",
    "                p[i][j] = p[i+1][j-1]\n",
    "            else:\n",
    "                p[i][j] = min(p[i+1][j], p[i][j-1]) + 1\n",
    "                \n",
    "    return p[0][len(data)-1]\n",
    "\n",
    "\n",
    "#import sys\n",
    "\n",
    "#from palindrome import palindrome\n",
    "\n",
    "def main():\n",
    "    '''\n",
    "    이 부분은 수정하지 마세요.\n",
    "    '''\n",
    "\n",
    "    s = input()\n",
    "\n",
    "    print(palindrome(s))\n",
    "\n",
    "if __name__ == \"__main__\":\n",
    "    main()\n"
   ]
  }
 ],
 "metadata": {
  "kernelspec": {
   "display_name": "Python 3",
   "language": "python",
   "name": "python3"
  },
  "language_info": {
   "codemirror_mode": {
    "name": "ipython",
    "version": 3
   },
   "file_extension": ".py",
   "mimetype": "text/x-python",
   "name": "python",
   "nbconvert_exporter": "python",
   "pygments_lexer": "ipython3",
   "version": "3.8.8"
  }
 },
 "nbformat": 4,
 "nbformat_minor": 5
}
