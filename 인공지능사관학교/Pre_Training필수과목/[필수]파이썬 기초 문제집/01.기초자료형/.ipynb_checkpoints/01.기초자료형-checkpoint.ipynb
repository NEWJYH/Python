{
 "cells": [
  {
   "cell_type": "code",
   "execution_count": 12,
   "id": "8a114a3a",
   "metadata": {},
   "outputs": [
    {
     "name": "stdout",
     "output_type": "stream",
     "text": [
      "3\n",
      "2\n",
      "6푼\n",
      "66리\n"
     ]
    }
   ],
   "source": [
    "# 1번을 해보세요.\n",
    "a = int(input())\n",
    "b = int(input())\n",
    "c = b/a\n",
    "\n",
    "C = c*1000\n",
    "hal = int(C//1000)\n",
    "poon = int(C%1000//100)\n",
    "ree = int(C%1000%100)\n",
    "\n",
    "\n",
    "if hal >0 :\n",
    "    print(f\"{hal}할\")\n",
    "if poon > 0:\n",
    "    print(f\"{poon}푼\")\n",
    "if poon > 0:\n",
    "    print(f\"{ree}리\")\n",
    "        "
   ]
  },
  {
   "cell_type": "code",
   "execution_count": null,
   "id": "351dd34b",
   "metadata": {},
   "outputs": [],
   "source": [
    "타격왕이 될 거야\n",
    "야구에서 타수는 선수가 공을 치기 위해 타석에 선 횟수이고 안타는 공을 잘 쳐서 출루한 횟수입니다.\n",
    "\n",
    "타율은 안타를 타수로 나눈 비율로 만약 8타수 5안타라면 5/8 = 0.625로 야구에서는 6할 2푼 5리라고 읽습니다.\n",
    "\n",
    "야구선수 엘리스 토끼는 타율이 가장 높은 선수에게 주어지는 상인 타격왕이 되고 싶어 합니다.\n",
    "\n",
    "엘리스 토끼의 현재 타율은 16타수 6안타로 3할 7푼 5리입니다.\n",
    "\n",
    "이후의 타수와 안타가 입력으로 주어질 때 엘리스 토끼의 타율을 할푼리로 출력해 보세요.\n",
    "\n",
    "단, 0.101처럼 중간에 0이 들어가 있는 경우 0은 생략하여 1할 1리라고 출력하며 타율이 0.3678인 경우에는 소수점 넷째 자리 이후는 버림을 하여 3할 6푼 7리로 출력합니다.\n",
    "\n",
    "입력 예시\n",
    "\n",
    "3\n",
    "2\n",
    "Copy\n",
    "출력 예시\n",
    "\n",
    "4할\n",
    "2푼\n",
    "1리\n",
    "Copy\n",
    "입력 예시 2\n",
    "\n",
    "5\n",
    "2\n",
    "Copy\n",
    "출력 예시 2\n",
    "\n",
    "3할\n",
    "8푼\n",
    "Copy\n",
    "\n",
    "지시사항\n",
    "0 이상의 정수인 타수와 안타를 입력받으세요.\n",
    "\n",
    "16타수 6안타인 상태에서 입력받은 타수와 안타를 더한 타율을 구하세요.\n",
    "\n",
    "구한 타율을 할푼리로 출력하세요. 할푼리 아래의 소수점은 모두 버림하며 값이 0인 경우 생략합니다."
   ]
  },
  {
   "cell_type": "code",
   "execution_count": 34,
   "id": "aba64f58",
   "metadata": {},
   "outputs": [
    {
     "name": "stdout",
     "output_type": "stream",
     "text": [
      "5\n",
      "2\n",
      "400\n",
      "4할\n"
     ]
    }
   ],
   "source": [
    "# 타수\n",
    "a = int(input())\n",
    "# 안타\n",
    "b = int(input())\n",
    "# 타율\n",
    "c = int(b/a * 1000)\n",
    "print(c)\n",
    "hal = c//100\n",
    "if hal != 0:\n",
    "    print(f\"{hal}할\")\n",
    "poon = c%100//10\n",
    "if poon != 0:\n",
    "    print(f\"{poon}푼\")\n",
    "ree = c%100%10\n",
    "if ree != 0:\n",
    "    print(f\"{ree}리\")"
   ]
  },
  {
   "cell_type": "code",
   "execution_count": 35,
   "id": "34bcaa16",
   "metadata": {},
   "outputs": [
    {
     "name": "stdout",
     "output_type": "stream",
     "text": [
      "['치즈', '달걀', '고구마', '김치', '감자', '토마토']\n",
      "True\n"
     ]
    }
   ],
   "source": [
    "# 1번을 해보세요.\n",
    "#foods = input().split()\n",
    "\n",
    "# 2번을 해보세요.\n",
    "a = \"치즈\"\n",
    "b = \"달걀\"\n",
    "c = \"고구마\"\n",
    "d = \"김치\"\n",
    "e = \"감자\"\n",
    "f = \"토마토\"\n",
    "foods = [a,b,c,d,e,f]\n",
    "print(foods)\n",
    "\n",
    "if a and b in foods:\n",
    "    print(True)\n",
    "elif c and d in foods:\n",
    "    print(True)\n",
    "elif e and f in foods:\n",
    "    print(True)\n",
    "else:\n",
    "    print(False)"
   ]
  },
  {
   "cell_type": "code",
   "execution_count": null,
   "id": "6d231805",
   "metadata": {},
   "outputs": [],
   "source": [
    "ord() 함수 사용하기\n",
    "\n",
    "파이썬 내장 함수 ord()를 이용하여 입력받은 문자열을 십진수 아스키 코드로 변환할 수 있습니다. 이 함수는 하나의 문자(character)를 매개변수로 받고, 매개변수에 해당하는 아스키 코드를 반환합니다.\n",
    "\n",
    "아래 예시 코드를 살펴보세요.\n",
    "\n",
    "코드 예시\n",
    "\n",
    "character = 'P'\n",
    "ascii_P = ord(character)\n",
    "# output: 80\n",
    "문자 ‘P’ 를 ord() 함수의 매개변수로 입력하면 이에 해당하는 아스키 코드 80이 반환됩니다.\n",
    "\n",
    "이제 실습에서 아스키 코드를 사용하여 문제를 해결해 봅시다!"
   ]
  },
  {
   "cell_type": "code",
   "execution_count": null,
   "id": "3c906727",
   "metadata": {},
   "outputs": [],
   "source": [
    "# 숫자를 입력받습니다.\n",
    "string_num = input()\n",
    "\n",
    "# 리스트에 넣음\n",
    "mylist = list(string_num)\n",
    "\n",
    "# 구하는 수의 갯수\n",
    "cnt = len(string_num) // 2\n",
    "\n",
    "# 총 구하는 수의 갯수를 구했으니까\n",
    "# 리스트에서 2개씩 구하는 수만큼 빼면 됨\n",
    "\n"
   ]
  }
 ],
 "metadata": {
  "kernelspec": {
   "display_name": "Python 3",
   "language": "python",
   "name": "python3"
  },
  "language_info": {
   "codemirror_mode": {
    "name": "ipython",
    "version": 3
   },
   "file_extension": ".py",
   "mimetype": "text/x-python",
   "name": "python",
   "nbconvert_exporter": "python",
   "pygments_lexer": "ipython3",
   "version": "3.8.8"
  }
 },
 "nbformat": 4,
 "nbformat_minor": 5
}
