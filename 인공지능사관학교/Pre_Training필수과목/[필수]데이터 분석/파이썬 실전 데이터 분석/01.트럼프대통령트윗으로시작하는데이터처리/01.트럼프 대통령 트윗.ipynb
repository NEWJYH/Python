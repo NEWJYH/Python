{
 "cells": [
  {
   "cell_type": "markdown",
   "id": "ff22fce0",
   "metadata": {},
   "source": [
    "01 리스트 순회 하기\n",
    "    for, in\n",
    "    인덱싱"
   ]
  },
  {
   "cell_type": "markdown",
   "id": "fab331db",
   "metadata": {},
   "source": [
    "for 반복문"
   ]
  },
  {
   "cell_type": "code",
   "execution_count": 3,
   "id": "eee56fc2",
   "metadata": {},
   "outputs": [
    {
     "name": "stdout",
     "output_type": "stream",
     "text": [
      "사과는 맛있어\n",
      "바나나는 맛있어\n",
      "키위는 맛있어\n",
      "0\n",
      "1\n",
      "2\n",
      "3\n",
      "4\n",
      "5\n",
      "6\n",
      "7\n",
      "8\n",
      "9\n",
      "과일 1 : 사과\n",
      "과일 2 : 바나나\n",
      "과일 3 : 키위\n"
     ]
    }
   ],
   "source": [
    "# for 반복문\n",
    "fruits = [\"사과\", \"바나나\", \"키위\"]\n",
    "\n",
    "# 리스트의 원소를 하나씩 가져옵니다.\n",
    "for fruit in fruits:\n",
    "    print(f\"{fruit}는 맛있어\")\n",
    "    \n",
    "# 0부터 9까지 한 줄 씩 출력합니다.\n",
    "for num in range(10):\n",
    "    print(num)\n",
    "    \n",
    "# 과일의 이름과 번호를 함께 출력합니다.\n",
    "for i in range(len(fruits)):\n",
    "    print(f\"과일 {i+1} : {fruits[i]}\")"
   ]
  },
  {
   "cell_type": "markdown",
   "id": "8bae8dd0",
   "metadata": {},
   "source": [
    "[실습]\n",
    "문장의 단어를 하나씩 가져오기\n",
    "\n",
    "문장의 단어를 하나씩 가져오기\n",
    "for 반복문에 in 키워드를 이용하면 리스트의 원소를 하나씩 가져와 변수에 저장할 수 있습니다.\n",
    "\n",
    "여기에 리스트의 길이를 구하는 len()와, 연속된 정수를 만들어주는 range() 함수를 함께 사용하면 원소의 인덱스를 가져올 수 있습니다.\n",
    "\n",
    ">>> langs = ['Java', 'C','Python']\n",
    ">>> for lang in langs: \n",
    "        print(lang)\n",
    "'Java'\n",
    "'C'\n",
    "'Python'\n",
    "Copy\n",
    "\n",
    "데이터 분석에 응용하기\n",
    "lower(), replace() 등 다양한 메서드를 이용해 트럼프 대통령의 트윗을 정제하기 위해선 먼저 리스트에 담긴 요소를 하나씩 가져와야 합니다.\n",
    "\n",
    "trump_tweets 리스트의 문자열 요소를 하나씩 가져와서 트윗 게시일과 함께 출력하는 date_tweet 함수를 살펴보고, 실행·제출해보세요."
   ]
  },
  {
   "cell_type": "code",
   "execution_count": 4,
   "id": "1b52e79e",
   "metadata": {},
   "outputs": [
    {
     "name": "stdout",
     "output_type": "stream",
     "text": [
      "2018년 1월 1일: Will be leaving Florida for Washington (D.C.) today at 4:00 P.M. Much work to be done, but it will be a great New Year!\n",
      "2018년 1월 2일: Companies are giving big bonuses to their workers because of the Tax Cut Bill. Really great!\n",
      "2018년 1월 3일: MAKE AMERICA GREAT AGAIN!\n"
     ]
    }
   ],
   "source": [
    "# 트럼프 대통령의 1월 1~3일 트윗을 각각 리스트의 원소로 저장합니다.\n",
    "trump_tweets = [\n",
    "    'Will be leaving Florida for Washington (D.C.) today at 4:00 P.M. Much work to be done, but it will be a great New Year!',\n",
    "    'Companies are giving big bonuses to their workers because of the Tax Cut Bill. Really great!',\n",
    "    'MAKE AMERICA GREAT AGAIN!'\n",
    "]\n",
    "\n",
    "def date_tweet(tweet):\n",
    "    # index에 0~2을 차례대로 저장하여 반복문을 실행합니다.\n",
    "    for index in range(len(tweet)):\n",
    "        print('2018년 1월 ' + str(index+1) + '일: ' + tweet[index])\n",
    "\n",
    "\n",
    "# 실행 결과를 확인하기 위한 코드입니다.\n",
    "date_tweet(trump_tweets)"
   ]
  },
  {
   "cell_type": "markdown",
   "id": "64968c91",
   "metadata": {},
   "source": [
    "문자열 인덱싱"
   ]
  },
  {
   "cell_type": "markdown",
   "id": "5af09192",
   "metadata": {},
   "source": [
    "인덱싱"
   ]
  },
  {
   "cell_type": "code",
   "execution_count": null,
   "id": "98491b45",
   "metadata": {},
   "outputs": [],
   "source": [
    "fruits = [\"사과\", \"바나나\", \"키위\", \"배\"]\n",
    "\n",
    "last_fruit = fruits[-1]\n",
    "# 배\n",
    "\n",
    "# 슬라이싱\n",
    "tropical_fruits = fruits[1:3]\n",
    "# 바나나, 키위\n",
    "\n",
    "no_apple = fruits[1:]\n",
    "# 바나나, 키위, 배\n",
    "\n",
    "no_pear = fruits[:3]\n",
    "# 사과 바나나 키위"
   ]
  },
  {
   "cell_type": "markdown",
   "id": "115eeae8",
   "metadata": {},
   "source": [
    "문자열 인덱싱"
   ]
  },
  {
   "cell_type": "code",
   "execution_count": 5,
   "id": "3cad09ef",
   "metadata": {},
   "outputs": [
    {
     "name": "stdout",
     "output_type": "stream",
     "text": [
      "e\n",
      "a\n",
      "man\n",
      "super\n"
     ]
    }
   ],
   "source": [
    "word = \"superman\"\n",
    "\n",
    "print(word[3]) # e\n",
    "print(word[-2]) # a\n",
    "# 슬라이싱\n",
    "print(word[5:]) # man\n",
    "print(word[:5]) # super"
   ]
  },
  {
   "cell_type": "markdown",
   "id": "5a3977c6",
   "metadata": {},
   "source": [
    "단어의 일부분 가져오기\n",
    "인덱스를 이용하면 문자열 또는 리스트의 특정 요소에 접근할 수 있습니다. 인덱스는 0부터 시작하며 -1은 맨 마지막 문자 또는 요소를 가리킵니다.\n",
    "\n",
    "시작 인덱스와 끝 인덱스를 이용하면 특정 구간의 요소를 리스트형으로 접근할 수 있습니다. 끝 인덱스를 생략하면 시작 인덱스부터 마지막 요소까지 접근합니다.\n",
    "\n",
    ">>> langs = ['Java', 'C','Python']\n",
    ">>> print(langs[-1])\n",
    "'Python'\n",
    ">>> print(langs[-1][0])\n",
    "'P'\n",
    ">>> print(langs[1:])\n",
    "['C', 'Python']\n",
    "Copy\n",
    "\n",
    "데이터 분석에 응용하기\n",
    "문자열로 이루어진 text 리스트에서 k로 시작하는 문자열을 모두 출력하는 print_korea() 함수를 완성하세요."
   ]
  },
  {
   "cell_type": "code",
   "execution_count": 6,
   "id": "a4d007cd",
   "metadata": {},
   "outputs": [
    {
     "name": "stdout",
     "output_type": "stream",
     "text": [
      "korea\n"
     ]
    }
   ],
   "source": [
    "# 트럼프 대통령 트윗을 공백 기준으로 분리한 리스트입니다. 수정하지 마세요.\n",
    "trump_tweets = ['thank', 'you', 'to', 'president', 'moon', 'of', 'south', 'korea', 'for', 'the', 'beautiful', 'welcoming', 'ceremony', 'it', 'will', 'always', 'be', 'remembered']\n",
    "\n",
    "def print_korea(text):\n",
    "    # 아래 코드를 작성하세요.\n",
    "    for k in text:\n",
    "        if k[0] == \"k\":\n",
    "            print(k)\n",
    "    \n",
    "    \n",
    "# 아래 주석을 해제하고 결과를 확인해보세요.  \n",
    "print_korea(trump_tweets)"
   ]
  },
  {
   "cell_type": "markdown",
   "id": "b1f9d377",
   "metadata": {},
   "source": [
    "문자열 함수 \n",
    "    startswith()\n",
    "    split()\n",
    "    append()\n",
    "    lower()\n",
    "    replace()"
   ]
  },
  {
   "cell_type": "markdown",
   "id": "8bb75b5a",
   "metadata": {},
   "source": [
    ".startswith() \n",
    "#시작하는 문자(문자열) 확인하여 True or False 반환"
   ]
  },
  {
   "cell_type": "code",
   "execution_count": 8,
   "id": "389e2e42",
   "metadata": {},
   "outputs": [
    {
     "name": "stdout",
     "output_type": "stream",
     "text": [
      "True\n",
      "True\n"
     ]
    }
   ],
   "source": [
    "word = \"superman\"\n",
    "print(word.startswith('s')) # True\n",
    "\n",
    "if word.startswith(\"a\"):\n",
    "    print(\"a로 시작하는 단어입니다.\")\n",
    "    \n",
    "print(word.startswith(\"super\")) # True"
   ]
  },
  {
   "cell_type": "markdown",
   "id": "b91fde64",
   "metadata": {},
   "source": [
    "단어의 첫 글자 확인하기\n",
    "startswith() 메서드를 이용하면 단어가 특정 문자열로 시작하는지 쉽게 확인할 수 있습니다.\n",
    "\n",
    ">>> 'Naver Cafe'.startswith('Naver')\n",
    "True\n",
    "Copy\n",
    ">>> 'Kakao Taxi'.startswith('Naver')\n",
    "False\n",
    "Copy\n",
    "\n",
    "데이터 분석에 응용하기\n",
    "해시태그와 멘션을 찾기 위서는 문자열이 # 또는 @로 시작하는지 확인해야 합니다.\n",
    "\n",
    "startswith() 메서드를 사용하여 앞서 인덱싱을 이용해 작성한 print_korea() 함수를 다시 작성하세요."
   ]
  },
  {
   "cell_type": "code",
   "execution_count": 9,
   "id": "fc71a0d1",
   "metadata": {},
   "outputs": [
    {
     "name": "stdout",
     "output_type": "stream",
     "text": [
      "korea\n"
     ]
    }
   ],
   "source": [
    "# 트럼프 대통령 트윗을 공백 기준으로 분리한 리스트입니다. 수정하지 마세요.\n",
    "trump_tweets = ['thank', 'you', 'to', 'president', 'moon', 'of', 'south', 'korea', 'for', 'the', 'beautiful', 'welcoming', 'ceremony', 'it', 'will', 'always', 'be', 'remembered']\n",
    "\n",
    "def print_korea(tweet):\n",
    "    '''\n",
    "    문자열로 구성된 리스트에서 k로 시작하는 문자열을 출력합니다.\n",
    "    '''\n",
    "    for i in tweet:\n",
    "        if i.startswith('k'):\n",
    "            print(i)\n",
    "    \n",
    "    \n",
    "    \n",
    "# 아래 주석을 해제하고 결과를 확인해보세요.  \n",
    "print_korea(trump_tweets)"
   ]
  },
  {
   "cell_type": "markdown",
   "id": "35d4f3fa",
   "metadata": {},
   "source": [
    ".split()"
   ]
  },
  {
   "cell_type": "code",
   "execution_count": 12,
   "id": "83c2f733",
   "metadata": {},
   "outputs": [
    {
     "name": "stdout",
     "output_type": "stream",
     "text": [
      "['제', '이름은', '엘리스입니다.']\n",
      "['사과', '귤', '배', '바나나']\n"
     ]
    }
   ],
   "source": [
    "intro = \"제 이름은 엘리스입니다.\"\n",
    "print(intro.split())\n",
    "# ['제', '이름은', '엘리스입니다.']\n",
    "\n",
    "fruits = \"사과,귤,배,바나나\"\n",
    "print(fruits.split(\",\"))\n",
    "# ['사과', '귤', '배', '바나나']"
   ]
  },
  {
   "cell_type": "code",
   "execution_count": 14,
   "id": "0f8ba1e1",
   "metadata": {},
   "outputs": [
    {
     "name": "stdout",
     "output_type": "stream",
     "text": [
      "['1', '2', '3']\n",
      "['', '', '', '1', '', '', '2', '', '', '3', '', '', '']\n"
     ]
    }
   ],
   "source": [
    "numbers = \"   1   2   3   \"\n",
    "print(numbers.split())\n",
    "# ['1', '2', '3']\n",
    "\n",
    "print(numbers.split(\" \"))\n",
    "# ['', '', '', '1', '', '', '2', '', '', '3', '', '', '']"
   ]
  },
  {
   "cell_type": "markdown",
   "id": "b6ef697e",
   "metadata": {},
   "source": [
    "대표적인 공백 문자"
   ]
  },
  {
   "cell_type": "code",
   "execution_count": null,
   "id": "58c008d4",
   "metadata": {},
   "outputs": [],
   "source": [
    "' '  # 빈칸 (스페이스바)\n",
    "'\\t' # Tab (Tab 키)\n",
    "'\\n' # Newline (엔터 키)\n",
    "# .split() 모든 공백 문자를 없앤다."
   ]
  },
  {
   "cell_type": "markdown",
   "id": "5b190dff",
   "metadata": {},
   "source": [
    "문장을 단어 단위로 구분하기\n",
    "split() 메서드는 특정 문자를 기준으로 문자열을 분리합니다. 입력값을 넣지 않을 경우 공백을 기준으로 분리합니다. 분리된 문자열은 리스트의 원소로 저장됩니다.\n",
    "\n",
    ">>> langs = 'Python, Java, C'.split(', ')\n",
    ">>> print(langs)\n",
    "['Python', 'Java', 'C']\n",
    "Copy\n",
    ">>> 'Make America Great Again'.split()\n",
    "['Make', 'America', 'Great', 'Again']\n",
    "Copy\n",
    "\n",
    "데이터 분석에 응용하기\n",
    "트윗에 사용된 단어를 하나씩 살펴보기 위해서는 문자열을 리스트로 변환해야 합니다.\n",
    "\n",
    "trump_tweet을 공백을 기준으로 분리하고 리스트형으로 반환하는 break_into_words() 함수를 수정하세요."
   ]
  },
  {
   "cell_type": "code",
   "execution_count": null,
   "id": "ed6f750a",
   "metadata": {},
   "outputs": [],
   "source": [
    "# 트럼프 대통령의 트윗으로 구성된 문자열입니다. 수정하지 마세요. \n",
    "trump_tweets = \"thank you to president moon of south korea for the beautiful welcoming ceremony it will always be remembered\"\n",
    "\n",
    "def break_into_words(text):\n",
    "    # 아래 코드를 작성하세요.\n",
    "    words = text.split()\n",
    "    \n",
    "    \n",
    "    return words\n",
    "\n",
    "\n",
    "# 아래 주석을 해제하고 결과를 확인해보세요.  \n",
    "print(break_into_words(trump_tweets))"
   ]
  },
  {
   "cell_type": "markdown",
   "id": "ddf09e49",
   "metadata": {},
   "source": [
    "append()\n",
    "#리스트 함수"
   ]
  },
  {
   "cell_type": "code",
   "execution_count": 15,
   "id": "2300a918",
   "metadata": {},
   "outputs": [
    {
     "name": "stdout",
     "output_type": "stream",
     "text": [
      "[1]\n",
      "[1, 2]\n"
     ]
    }
   ],
   "source": [
    "numbers = list()\n",
    "\n",
    "numbers.append(1)\n",
    "print(numbers)\n",
    "numbers.append(2)\n",
    "print(numbers)"
   ]
  },
  {
   "cell_type": "code",
   "execution_count": 17,
   "id": "1f778509",
   "metadata": {},
   "outputs": [
    {
     "name": "stdout",
     "output_type": "stream",
     "text": [
      "[1, 2]\n"
     ]
    }
   ],
   "source": [
    "numbers = [1,2,10,17]\n",
    "small_numbers = []\n",
    "\n",
    "for num in numbers:\n",
    "    if num < 10:\n",
    "        small_numbers.append(num)\n",
    "print(small_numbers)"
   ]
  },
  {
   "cell_type": "markdown",
   "id": "248d4def",
   "metadata": {},
   "source": [
    "새로운 단어 추가하기\n",
    "append()는 리스트를 다룰 때 사용되는 가장 기본적인 메소드로, 리스트의 맨 마지막에 새로운 요소를 추가합니다.\n",
    "\n",
    ">>> langs = ['Python', 'Java', 'C']\n",
    ">>> langs.append('JavaScript')\n",
    "['Python', 'Java', 'C', 'JavaScript']\n",
    "Copy\n",
    "\n",
    "데이터 분석에 응용하기\n",
    "append()를 이용하면 빈 리스트에 데이터를 쉽게 추가할 수 있습니다.\n",
    "\n",
    "trump_tweets 리스트에서 b로 시작하는 요소를 빈 리스트 new_list에 저장하는 make_new_list() 함수를 수정하세요."
   ]
  },
  {
   "cell_type": "code",
   "execution_count": null,
   "id": "e36300db",
   "metadata": {},
   "outputs": [],
   "source": [
    "# 트럼프 대통령 트윗을 공백 기준으로 분리한 리스트입니다. 수정하지 마세요.\n",
    "trump_tweets = ['america', 'is', 'back', 'and', 'we', 'are', 'coming', 'back', 'bigger', 'and', 'better', 'and', 'stronger', 'than', 'ever', 'before']\n",
    "\n",
    "def make_new_list(text):\n",
    "    # 아래 코드를 작성하세요.\n",
    "    new_list = [x for x in text if x.startswith('b')]\n",
    "    return new_list\n",
    "\n",
    "\n",
    "# 아래 주석을 해제하고 결과를 확인해보세요.  \n",
    "new_list = make_new_list(trump_tweets)\n",
    "print(new_list)"
   ]
  },
  {
   "cell_type": "markdown",
   "id": "42b9dc38",
   "metadata": {},
   "source": [
    "lower()"
   ]
  },
  {
   "cell_type": "markdown",
   "id": "b2a100f6",
   "metadata": {},
   "source": [
    "대소문자 변환"
   ]
  },
  {
   "cell_type": "code",
   "execution_count": 18,
   "id": "e57fa728",
   "metadata": {},
   "outputs": [
    {
     "name": "stdout",
     "output_type": "stream",
     "text": [
      "MY NAME IS ELICE!\n",
      "my name is elice!\n"
     ]
    }
   ],
   "source": [
    "intro = \"My name is Elice!\"\n",
    "print(intro.upper())\n",
    "# MY NAME IS ELICE!\n",
    "print(intro.lower())\n",
    "# my name is elice!"
   ]
  },
  {
   "cell_type": "markdown",
   "id": "375ead17",
   "metadata": {},
   "source": [
    "append()와 lower()의 차이"
   ]
  },
  {
   "cell_type": "code",
   "execution_count": 20,
   "id": "e7f59d61",
   "metadata": {},
   "outputs": [
    {
     "name": "stdout",
     "output_type": "stream",
     "text": [
      "['hello', 'elice']\n",
      "My name is Elice\n"
     ]
    }
   ],
   "source": [
    "words = [\"hello\"]\n",
    "words.append(\"elice\")\n",
    "print(words)\n",
    "# ['hello', 'elice']\n",
    "\n",
    "intro = \"My name is Elice\"\n",
    "intro.lower() # 원래 문자열을 직접 수정하지 않는다!\n",
    "# intro = intro.lower()\n",
    "\n",
    "print(intro)\n",
    "# My name is Elice"
   ]
  },
  {
   "cell_type": "markdown",
   "id": "87adf834",
   "metadata": {},
   "source": [
    "대소문자 변환하기\n",
    "lower(), upper() 메소드를 이용하면 문자열을 쉽게 소문자 또는 대문자로 변환할 수 있습니다.\n",
    "\n",
    ">>> print('Elice'.lower())\n",
    ">>>'elice'\n",
    "Copy\n",
    ">>> print('Elice'.upper())\n",
    ">>>'ELICE'\n",
    "Copy\n",
    "\n",
    "데이터 분석에 응용하기\n",
    "가짜 뉴스를 뜻하는 Fake News는 트럼프 대통령이 가장 자주 사용하는 말 중 하나입니다.\n",
    "\n",
    "FAKE NEWS, Fake News는 대소문자가 다르기 때문에 두 단어가 몇 번 사용되었는지 정확하게 확인하기 위해서는 모두 소문자로 변환해야 합니다.\n",
    "\n",
    "trump_tweets 리스트의 문자열 요소를 모두 소문자로 변환하는 lowercase_all_characters() 함수를 완성하세요."
   ]
  },
  {
   "cell_type": "code",
   "execution_count": null,
   "id": "141f3e36",
   "metadata": {},
   "outputs": [],
   "source": [
    "# 트럼프 대통령의 트윗 세개로 구성된 리스트입니다. 수정하지 마세요.\n",
    "trump_tweets = [\n",
    "    \"FAKE NEWS - A TOTAL POLITICAL WITCH HUNT!\",\n",
    "    \"Any negative polls are fake news, just like the CNN, ABC, NBC polls in the election.\",\n",
    "    \"The Fake News media is officially out of control.\",\n",
    "]\n",
    " \n",
    "# 리스트 내 문자열 요소를 모두 소문자로 변환하는 함수 작성\n",
    "def lowercase_all_characters(text):\n",
    "    processed_text = []\n",
    "    # 아래 코드를 작성하세요.\n",
    "    for x in text:\n",
    "        processed_text.append(x.lower())\n",
    "    \n",
    "    \n",
    "    \n",
    "    return processed_text\n",
    "\n",
    "\n",
    "# 아래 주석을 해제하고 결과를 확인해보세요.  \n",
    "print('\\n'.join(lowercase_all_characters(trump_tweets)))"
   ]
  },
  {
   "cell_type": "markdown",
   "id": "eed41cf6",
   "metadata": {},
   "source": [
    ".replace()"
   ]
  },
  {
   "cell_type": "code",
   "execution_count": 22,
   "id": "c4143ee3",
   "metadata": {},
   "outputs": [
    {
     "name": "stdout",
     "output_type": "stream",
     "text": [
      "제 이름은 엘리스입니다.\n",
      "제 이름은 Elice입니다.\n"
     ]
    }
   ],
   "source": [
    "intro = \"제 이름은 Elice입니다.\"\n",
    "print(intro.replace(\"Elice\", \"엘리스\"))"
   ]
  },
  {
   "cell_type": "code",
   "execution_count": 24,
   "id": "116d281c",
   "metadata": {},
   "outputs": [
    {
     "name": "stdout",
     "output_type": "stream",
     "text": [
      "제이름은Elice입니다.\n",
      "제 이름은 Elice입니다.\n"
     ]
    }
   ],
   "source": [
    "intro = \"제 이름은 Elice입니다.\"\n",
    "print(intro.replace(\" \",\"\"))\n",
    "print(intro)"
   ]
  },
  {
   "cell_type": "markdown",
   "id": "87b5d491",
   "metadata": {},
   "source": [
    "특수기호 삭제하기\n",
    "replace() 메서드는 문자열에서 특정 문자나 문자열을 다른 문자(열)로 변경할 때 사용됩니다.\n",
    "\n",
    "replace()는 변경하고 싶은 문자열을 첫번째 입력값으로, 대체할 문자열을 두번째 입력값으로 받습니다.\n",
    "\n",
    ">>> '안녕하세요~!'.replace('~!', '.')\n",
    "'안녕하세요.'\n",
    "Copy\n",
    ">>> '/* elice */'.replace('/', '').replace('*', '').replace(' ', '')\n",
    "'elice'\n",
    "Copy\n",
    "\n",
    "데이터 분석에 응용하기\n",
    "소문자로 변환된 trump_tweets의 트윗을 공백을 기준으로 구분할 경우 christmas', christmas,, christmas!!!가 생성되기 때문에 christmas가 몇 번 사용되었는지 정확하게 확인하기 위해서는 특수문자를 제거해야 합니다.\n",
    "\n",
    "trump_tweets 리스트의 문자열 요소에서 쉼표, 작은따옴표, 느낌표를 제거하는 remove_special_characters() 함수를 완성하세요."
   ]
  },
  {
   "cell_type": "code",
   "execution_count": 25,
   "id": "b83e9220",
   "metadata": {},
   "outputs": [
    {
     "name": "stdout",
     "output_type": "stream",
     "text": [
      "i hope everyone is having a great christmas then tomorrow it’s back to work in order to make america great again.\n",
      "7 of 10 americans prefer merry christmas over happy holidays.\n",
      "merry christmas\n"
     ]
    }
   ],
   "source": [
    "# 트럼프 대통령의 트윗 세개로 구성된 리스트입니다. 수정하지 마세요.\n",
    "trump_tweets = [\n",
    "    \"i hope everyone is having a great christmas, then tomorrow it’s back to work in order to make america great again.\",\n",
    "    \"7 of 10 americans prefer 'merry christmas' over 'happy holidays'.\",\n",
    "    \"merry christmas!!!\",\n",
    "]\n",
    "\n",
    "def remove_special_characters(text):\n",
    "    processed_text = []\n",
    "    # 아래 코드를 작성하세요.\n",
    "    for words in text:\n",
    "        processed_text.append(words.replace(\",\",\"\").replace(\"'\",\"\").replace(\"!\",\"\"))\n",
    "    return processed_text\n",
    "\n",
    "\n",
    "# 아래 주석을 해제하고 결과를 확인해보세요.  \n",
    "print('\\n'.join(remove_special_characters(trump_tweets)))"
   ]
  }
 ],
 "metadata": {
  "kernelspec": {
   "display_name": "Python 3",
   "language": "python",
   "name": "python3"
  },
  "language_info": {
   "codemirror_mode": {
    "name": "ipython",
    "version": 3
   },
   "file_extension": ".py",
   "mimetype": "text/x-python",
   "name": "python",
   "nbconvert_exporter": "python",
   "pygments_lexer": "ipython3",
   "version": "3.8.8"
  }
 },
 "nbformat": 4,
 "nbformat_minor": 5
}
