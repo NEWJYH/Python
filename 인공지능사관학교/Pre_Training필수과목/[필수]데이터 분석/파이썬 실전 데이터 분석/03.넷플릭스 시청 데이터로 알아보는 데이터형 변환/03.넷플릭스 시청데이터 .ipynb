{
 "cells": [
  {
   "cell_type": "markdown",
   "id": "beedaf19",
   "metadata": {},
   "source": [
    "넷플릭스 시청 데이터로 알아 보는 데이터형 변환"
   ]
  },
  {
   "cell_type": "markdown",
   "id": "dd8a7c5b",
   "metadata": {},
   "source": [
    "넷플릭스 데이터 대회에 사용된 JSON 데이터를 파이썬의 사전으로\n",
    "변환하여 비슷한 성향의 유저를 찾아 봅니다."
   ]
  },
  {
   "cell_type": "markdown",
   "id": "3284cd27",
   "metadata": {},
   "source": [
    "목 차\n",
    "\n",
    "1. 딕셔너리 (Dictionary)\n",
    "\n",
    "2. 집합 (Set)\n",
    "\n",
    "3. 그래프 설정하기"
   ]
  },
  {
   "cell_type": "markdown",
   "id": "e097ad9c",
   "metadata": {},
   "source": [
    "1. 딕셔너리"
   ]
  },
  {
   "cell_type": "markdown",
   "id": "931777be",
   "metadata": {},
   "source": [
    "딕셔너리\n",
    "\n",
    "{ key : value }\n",
    "\n",
    "- key : 값을 찾기 위해 넣어 주는 데이터\n",
    "- value : 찾고자 하는 데이터"
   ]
  },
  {
   "cell_type": "code",
   "execution_count": null,
   "id": "b366e636",
   "metadata": {},
   "outputs": [],
   "source": [
    "emty_dict = {}\n",
    "\n",
    "new_dict = {\n",
    "    \"apple\" : \"사과\",\n",
    "    \"book\" : \"책\",\n",
    "    \"Human\" : \"사람\",\n",
    "}"
   ]
  },
  {
   "cell_type": "code",
   "execution_count": 1,
   "id": "b567e63e",
   "metadata": {},
   "outputs": [
    {
     "name": "stdout",
     "output_type": "stream",
     "text": [
      "{'apple': '사과', 'book': '책', 'human': '사람'}\n"
     ]
    }
   ],
   "source": [
    "# 값을 추가 변경\n",
    "dictionary = {}\n",
    "# 값을 추가\n",
    "dictionary[\"apple\"] = \"사과\"\n",
    "dictionary[\"book\"] = \"책\"\n",
    "dictionary[\"human\"] = \"사람\"\n",
    "print(dictionary)"
   ]
  },
  {
   "cell_type": "markdown",
   "id": "7d2fd9a4",
   "metadata": {},
   "source": [
    "딕셔너리 vs 리스트"
   ]
  },
  {
   "cell_type": "code",
   "execution_count": 9,
   "id": "eab7fc87",
   "metadata": {},
   "outputs": [
    {
     "name": "stdout",
     "output_type": "stream",
     "text": [
      "kildong Hong\n"
     ]
    }
   ],
   "source": [
    "# { id : 이름 } \n",
    "accounts = {\n",
    "    \"kdhong.elice\" : \"kildong Hong\",\n",
    "    #...\n",
    "}\n",
    "print(accounts[\"kdhong.elice\"])"
   ]
  },
  {
   "cell_type": "code",
   "execution_count": 4,
   "id": "aa5f978e",
   "metadata": {},
   "outputs": [
    {
     "name": "stdout",
     "output_type": "stream",
     "text": [
      "('kdhong.elice', 'Kildong Hong')\n"
     ]
    }
   ],
   "source": [
    "accounts = [\n",
    "    (\"kdhong.elice\",\"Kildong Hong\"),\n",
    "    #....\n",
    "]\n",
    "\n",
    "# 모든 아이디를 확인해야 하므로, 데이터가 많을 경우\n",
    "# 수십 배 까지도 성능 차이가 남\n",
    "for Tuple in accounts:\n",
    "    if Tuple[0] == \"kdhong.elice\":\n",
    "        print(Tuple)"
   ]
  },
  {
   "cell_type": "markdown",
   "id": "625e69a6",
   "metadata": {},
   "source": [
    "데이터 빠르게 탐색하기\n",
    "딕셔너리(dictionary)는 키와 값이 키:값 형태로 이루어진 데이터 구조입니다.\n",
    "\n",
    "키와 값이 쌍을 이루기 때문에 키를 이용해 값을 빠르게 찾아낼 수 있습니다.\n",
    "\n",
    ">>> eng_kor = {\n",
    "        'apple': '사과',\n",
    "        'melon': '멜론',\n",
    "        'kiwi': '키위'\n",
    "    }\n",
    ">>> print(eng_kor['kiwi'])\n",
    "'키위'\n",
    "Copy\n",
    "리스트의 경우 kiwi의 뜻을 찾기 위해 모든 요소를 탐색해야 합니다. 책에서 원하는 단어를 찾을 때까지 한 장씩 넘기는 비효율적인 작업으로 약 100배 이상의 시간이 소요됩니다.\n",
    "\n",
    ">>> eng_kor = [\n",
    "        ('apple', '사과'), \n",
    "        ('melon', '멜론'), \n",
    "        ('kiwi', '키위'),\n",
    "    ]\n",
    ">>> for eng, kor in eng_kor:\n",
    "        if eng == 'kiwi':\n",
    "            print(kor)\n",
    "'키위'\n",
    "Copy\n",
    "\n",
    "데이터 분석에 이용하기\n",
    "사용자 번호: 작품 번호로 이루어진 netflix.txt을 읽고, 사용자 번호를 키로, 작품 번호를 값으로 하는 딕셔너리를 생성하는 make_dictionary() 함수를 완성하세요."
   ]
  },
  {
   "cell_type": "code",
   "execution_count": 5,
   "id": "3d7960b7",
   "metadata": {},
   "outputs": [
    {
     "name": "stdout",
     "output_type": "stream",
     "text": [
      "{'1': '1012', '2': '3781', '3': '1732', '4': '889', '5': '2345', '6': '107', '7': '379'}\n"
     ]
    }
   ],
   "source": [
    "# 텍스트 파일을 불러옵니다.\n",
    "source_file = \"netflix.txt\"\n",
    "\n",
    "def make_dictionary(filename):\n",
    "    user_to_titles = {}\n",
    "    with open(filename) as file:\n",
    "        for line in file:\n",
    "            # 아래 코드를 작성하세요.\n",
    "            user, title = line.strip().split(\":\")\n",
    "            user_to_titles[f\"{user}\"] = title\n",
    "            \n",
    "            \n",
    "        return user_to_titles\n",
    "\n",
    "\n",
    "# 아래 주석을 해제하고 결과를 확인해보세요.  \n",
    "print(make_dictionary(source_file))"
   ]
  },
  {
   "cell_type": "markdown",
   "id": "d8a021bd",
   "metadata": {},
   "source": [
    "딕셔너리의 키"
   ]
  },
  {
   "cell_type": "code",
   "execution_count": 8,
   "id": "a53613af",
   "metadata": {},
   "outputs": [
    {
     "ename": "TypeError",
     "evalue": "unhashable type: 'list'",
     "output_type": "error",
     "traceback": [
      "\u001b[1;31m---------------------------------------------------------------------------\u001b[0m",
      "\u001b[1;31mTypeError\u001b[0m                                 Traceback (most recent call last)",
      "\u001b[1;32m<ipython-input-8-8b1d16eb29bc>\u001b[0m in \u001b[0;36m<module>\u001b[1;34m\u001b[0m\n\u001b[0;32m      3\u001b[0m \u001b[0mkdhong\u001b[0m \u001b[1;33m=\u001b[0m \u001b[1;33m[\u001b[0m\u001b[1;34m\"kdhong\"\u001b[0m\u001b[1;33m,\u001b[0m \u001b[1;34m\"cantcalldad\"\u001b[0m\u001b[1;33m]\u001b[0m\u001b[1;33m\u001b[0m\u001b[1;33m\u001b[0m\u001b[0m\n\u001b[0;32m      4\u001b[0m \u001b[1;33m\u001b[0m\u001b[0m\n\u001b[1;32m----> 5\u001b[1;33m accounts = {\n\u001b[0m\u001b[0;32m      6\u001b[0m     \u001b[0mkdhong\u001b[0m \u001b[1;33m:\u001b[0m \u001b[1;33m(\u001b[0m\u001b[1;34m\"Kildong Hong\"\u001b[0m\u001b[1;33m,\u001b[0m\u001b[1;33m)\u001b[0m\u001b[1;33m,\u001b[0m\u001b[1;33m\u001b[0m\u001b[1;33m\u001b[0m\u001b[0m\n\u001b[0;32m      7\u001b[0m }\n",
      "\u001b[1;31mTypeError\u001b[0m: unhashable type: 'list'"
     ]
    }
   ],
   "source": [
    "# { [ID, 비밀번호] : 계정정보 }\n",
    "# 아이디와 비밀번호로 이루어진 리스트\n",
    "kdhong = [\"kdhong\", \"cantcalldad\"]\n",
    "\n",
    "accounts = {\n",
    "    kdhong : (\"Kildong Hong\",),\n",
    "}\n",
    "kdhong[0] = \"kdhong.elice\"\n",
    "# TypeError: unhashable type: 'list'\n",
    "# 딕셔너리의 key는 변경 불가능한 객체여야 한다.\n",
    "\n",
    "# 이와 같이 사용하고 싶을 경우 튜플을 사용해야 한다."
   ]
  },
  {
   "cell_type": "code",
   "execution_count": 7,
   "id": "86235b7c",
   "metadata": {},
   "outputs": [],
   "source": [
    "# 아이디와 비밀번호로 이루어진 리스트\n",
    "kdhong = (\"kdhong\", \"cantcalldad\")\n",
    "\n",
    "accounts = {\n",
    "    kdhong : (\"Kildong Hong\",),\n",
    "}\n",
    "# 이와 같이 사용하고 싶을 경우 튜플을 사용해야 한다."
   ]
  },
  {
   "cell_type": "markdown",
   "id": "76a31fe9",
   "metadata": {},
   "source": [
    "딕셔너리의 키 확인하기"
   ]
  },
  {
   "cell_type": "code",
   "execution_count": 12,
   "id": "9f6bab71",
   "metadata": {},
   "outputs": [
    {
     "name": "stdout",
     "output_type": "stream",
     "text": [
      "True\n",
      "False\n",
      "dict_items([('kdhong.elice', 'kildong Hong')])\n"
     ]
    }
   ],
   "source": [
    "accounts = {\n",
    "    \"kdhong.elice\" : \"kildong Hong\",\n",
    "    #...\n",
    "}\n",
    "\n",
    "print(\"kdhong.elice\" in accounts) # True\n",
    "print(\"kdhong\" in accounts) # False\n",
    "print(accounts.items())"
   ]
  },
  {
   "cell_type": "markdown",
   "id": "ef1a850c",
   "metadata": {},
   "source": [
    "딕셔너리 순회하기"
   ]
  },
  {
   "cell_type": "code",
   "execution_count": 13,
   "id": "d5ccb4c8",
   "metadata": {},
   "outputs": [
    {
     "name": "stdout",
     "output_type": "stream",
     "text": [
      "kdhong-Kildong Hong\n"
     ]
    }
   ],
   "source": [
    "accounts = {\n",
    "    \"kdhong\" : \"Kildong Hong\",\n",
    "}\n",
    "\n",
    "for username , name in accounts.items():\n",
    "    print(f\"{username}-{name}\")"
   ]
  },
  {
   "cell_type": "markdown",
   "id": "8e82818f",
   "metadata": {},
   "source": [
    "데이터 순회하기\n",
    "for문과 items() 메서드를 이용하면 딕셔너리의 모든 키와 값을 (키, 값)의 형태로 리스트에 담을 수 있습니다.\n",
    "\n",
    ">>> users = {'gunwoo':'gw', 'harry':'hyhl'}\n",
    ">>> for user, id in users.items():\n",
    "        print(user, id)\n",
    "'gunwoo' 'gw'\n",
    "'harry' 'hyhl'\n",
    "Copy\n",
    "\n",
    "데이터 분석에 이용하기\n",
    "딕셔너리로 변환한 데이터의 통계를 내기 위해서는 키와 값을 모두 불러와야 합니다. {사용자: [작품 리스트]} 형식으로 저장된 딕셔너리를 {사용자: 본 작품의 수}로 변환하는 함수를 작성하세요."
   ]
  },
  {
   "cell_type": "code",
   "execution_count": 16,
   "id": "8762c7b9",
   "metadata": {},
   "outputs": [
    {
     "name": "stdout",
     "output_type": "stream",
     "text": [
      "{1: 3, 2: 4, 3: 1, 4: 7, 5: 5}\n"
     ]
    }
   ],
   "source": [
    "# 사용자가 시청한 작품의 리스트를 저장합니다. 수정하지 마세요. \n",
    "user_to_titles = {\n",
    "    1: [271, 318, 491],\n",
    "    2: [318, 19, 2980, 475],\n",
    "    3: [475],\n",
    "    4: [271, 318, 491, 2980, 19, 318, 475],\n",
    "    5: [882, 91, 2980, 557, 35],\n",
    "}\n",
    "def get_user_to_num_titles(user_to_titles):\n",
    "    user_to_num_titles = {}\n",
    "    \n",
    "    # 아래 함수를 완성하세요.\n",
    "    for a,b in user_to_titles.items():\n",
    "        user_to_num_titles[a] = len(b)\n",
    "    \n",
    "    \n",
    "    return user_to_num_titles\n",
    "    \n",
    "\n",
    "# 아래 주석을 해제하고 결과를 확인해보세요.  \n",
    "print(get_user_to_num_titles(user_to_titles))\n"
   ]
  },
  {
   "cell_type": "markdown",
   "id": "1876aaf7",
   "metadata": {},
   "source": [
    "JSON"
   ]
  },
  {
   "cell_type": "markdown",
   "id": "c432b5cf",
   "metadata": {},
   "source": [
    "JSON\n",
    "\n",
    "{ key : value }\n",
    "\n",
    "\"JavaScript Object Notation\""
   ]
  },
  {
   "cell_type": "markdown",
   "id": "76175b0c",
   "metadata": {},
   "source": [
    "JSON\n",
    "\n",
    "- 웹 환경에서 데이터를 주고 받는 가장 표준적인 방식\n",
    "- 키를 이용하여 원하는 데이터만 빠르게 추출 가능\n",
    "- 데이터가 쉽게 오염되지 않음\n",
    "- 다른 포맷에 비해 용량이 조금 큰 편"
   ]
  },
  {
   "cell_type": "markdown",
   "id": "33d5f69f",
   "metadata": {},
   "source": [
    "JSON과 딕셔너리 변환\n",
    "\n",
    "    loads()\n",
    "      →\n",
    "JSON      딕셔너리 \n",
    "      ←\n",
    "    dumps()"
   ]
  },
  {
   "cell_type": "markdown",
   "id": "e040ef1c",
   "metadata": {},
   "source": [
    "JSON 데이터 읽고 생성하기\n",
    "JSON(JavaScript Object Notation)과 파이썬의 딕셔너리는 모두 키:값이 쌍으로 이루어진 데이터 형식입니다. 파이썬의 json 패키지에 포함된 함수를 이용해 두 형식을 쉽게 변환할 수 있습니다.\n",
    "\n",
    "loads(): JSON 형태의 문자열을 딕셔너리로 변환합니다. 이때 딕셔너리의 모든 원소는 문자열 타입으로 설정됩니다.\n",
    "dumps(): 딕셔너리를 JSON 형태의 문자열로 변환합니다.\n",
    "\n",
    "데이터 분석에서 이용하기\n",
    "read()와 write() 메서드를 이용해 JSON 파일을 딕셔너리로 변환하여 리턴하는 함수 create_dict()와, 변환된 내용을 파일에 저장하는 create_json() 함수를 작성하세요."
   ]
  },
  {
   "cell_type": "code",
   "execution_count": 17,
   "id": "3efe6f02",
   "metadata": {},
   "outputs": [
    {
     "name": "stdout",
     "output_type": "stream",
     "text": [
      "원래 데이터: {'Iron Man': 31928, 'Iron Man 2': 15293, 'Dark Knight': 42107, 'Man in Black': 20113}\n",
      "수정된 데이터: {'Iron Man': 31928, 'Iron Man 2': 15293, 'Dark Knight': 39217, 'Man in Black': 20113}\n"
     ]
    }
   ],
   "source": [
    "# json 패키지를 임포트합니다.\n",
    "import json\n",
    "\n",
    "#JSON 파일을 읽고 문자열을 딕셔너리로 변환합니다.\n",
    "def create_dict(filename):\n",
    "    with open(filename) as file:\n",
    "        json_string = file.read()\n",
    "        \n",
    "        # 함수를 완성하세요.\n",
    "        return json.loads(json_string)\n",
    "\n",
    "#JSON 파일을 읽고 딕셔너리를 JSON 형태의 문자열로 변환합니다.\n",
    "def create_json(dictionary, filename):\n",
    "    with open(filename, 'w') as file:\n",
    "        # 함수를 완성하세요.\n",
    "        json_string = json.dumps(dictionary)\n",
    "        file.write(json_string)\n",
    "        \n",
    "# 아래 주석을 해제하고 결과를 확인해보세요.  \n",
    "src = 'netflix.json'\n",
    "dst = 'new_netflix.json'\n",
    "\n",
    "# json 파일을 읽어와서 새로운 딕셔너리를 만듬\n",
    "netflix_dict = create_dict(src)\n",
    "print('원래 데이터: ' + str(netflix_dict))\n",
    "\n",
    "# 새로운 딕셔너리에 키값을 수정함.\n",
    "netflix_dict['Dark Knight'] = 39217\n",
    "# 수정한 딕셔너리를 새로운 Json파일로 저장함.\n",
    "create_json(netflix_dict, dst)\n",
    "\n",
    "# 새로 저장한 json파일을 다시 읽어옴\n",
    "updated_dict = create_dict(dst)\n",
    "print('수정된 데이터: ' + str(updated_dict))"
   ]
  },
  {
   "cell_type": "markdown",
   "id": "41ba5aac",
   "metadata": {},
   "source": [
    "집 합(set) "
   ]
  },
  {
   "cell_type": "markdown",
   "id": "a5a591dc",
   "metadata": {},
   "source": [
    "집 합\n",
    "\n",
    "중복이 없다\n",
    "\n",
    "순서가 없다"
   ]
  },
  {
   "cell_type": "markdown",
   "id": "809657a4",
   "metadata": {},
   "source": [
    "집합 만들기"
   ]
  },
  {
   "cell_type": "code",
   "execution_count": 20,
   "id": "3e157b73",
   "metadata": {},
   "outputs": [
    {
     "name": "stdout",
     "output_type": "stream",
     "text": [
      "True\n",
      "True\n",
      "True\n"
     ]
    }
   ],
   "source": [
    "# 셋다 같은 값\n",
    "set1 = {1,2,3}\n",
    "set2 = set([1,2,3])\n",
    "set3 = { 3, 2, 3, 1 }\n",
    "\n",
    "print(set1 == set2)\n",
    "print(set1 == set3)\n",
    "print(set2 == set3)"
   ]
  },
  {
   "cell_type": "markdown",
   "id": "a84b4185",
   "metadata": {},
   "source": [
    "집합 원소 추가 / 삭제"
   ]
  },
  {
   "cell_type": "code",
   "execution_count": 22,
   "id": "88f9c3c0",
   "metadata": {},
   "outputs": [
    {
     "name": "stdout",
     "output_type": "stream",
     "text": [
      "{1, 3, 5, 7}\n",
      "{1, 3, 5, 7, 9}\n",
      "{1, 3, 4, 5, 7, 9, 15}\n",
      "{1, 3, 4, 5, 9, 15}\n",
      "{1, 3, 4, 5, 9, 15}\n"
     ]
    }
   ],
   "source": [
    "num_set = {1,3,5,7}\n",
    "print(num_set)\n",
    "# {1, 3, 5, 7}\n",
    "\n",
    "num_set.add(9) # set에 하나의 원소 추가\n",
    "print(num_set)\n",
    "# {1, 3, 5, 7, 9}\n",
    "\n",
    "num_set.update([3,15,4]) # set에 여러 원소 추가\n",
    "print(num_set)\n",
    "# {1, 3, 4, 5, 7, 9, 15}\n",
    "\n",
    "num_set.remove(7) # set에 원소 제거 (없다면 Error)\n",
    "print(num_set)\n",
    "# {1, 3, 4, 5, 9, 15}\n",
    "\n",
    "num_set.discard(13) # set에 원소 제거 (없어도 Error 미발생)\n",
    "print(num_set)\n",
    "# {1, 3, 4, 5, 9, 15}"
   ]
  },
  {
   "cell_type": "markdown",
   "id": "81306e6e",
   "metadata": {},
   "source": [
    "집합 다루기"
   ]
  },
  {
   "cell_type": "code",
   "execution_count": 24,
   "id": "fb43edde",
   "metadata": {},
   "outputs": [
    {
     "name": "stdout",
     "output_type": "stream",
     "text": [
      "False\n",
      "4\n"
     ]
    }
   ],
   "source": [
    "num_set = {1, 3, 5, 7}\n",
    "print(6 in num_set) # False\n",
    "print(len(num_set)) # 4"
   ]
  },
  {
   "cell_type": "markdown",
   "id": "87332c97",
   "metadata": {},
   "source": [
    "데이터의 집합 나타내기\n",
    "파이썬의 set은 집합을 나타내는 데이터 구조입니다. 집합은 순서와 중복이 없는 데이터 구조로, 데이터 분석에서 중복을 무시해야 하는 경우에 사용할 수 있습니다.\n",
    "\n",
    "예로, 수강생 명단이 주어졌을 때 set을 이용하면 학생 유형을 쉽게 구할 수 있습니다.\n",
    "\n",
    "A 수업과 B 수업 둘 중 하나 이상을 수강하는 학생 수 구하기\n",
    "A 수업과 B 수업을 모두 수강하는 학생 수 구하기\n",
    "\n",
    "데이터 분석에 이용하기\n",
    "작품 A와 B를 모두 시청한 사람의 수, 둘 중 하나만 시청한 사람의 수를 이용하면 두 작품의 유사도를 유추할 수 있습니다. 리스트와 딕셔너리 대신 집합을 사용하면 이를 훨씬 쉽게 구할 수 있습니다.\n",
    "\n",
    "집합을 생성하고 원소를 추가, 삭제하는 함수를 연습해 보세요."
   ]
  },
  {
   "cell_type": "code",
   "execution_count": 25,
   "id": "39674c63",
   "metadata": {},
   "outputs": [
    {
     "name": "stdout",
     "output_type": "stream",
     "text": [
      "{3, 5}\n",
      "{3, 5, 7}\n",
      "{1, 2, 3, 4, 5, 7}\n",
      "{1, 3, 5, 7}\n"
     ]
    }
   ],
   "source": [
    "# 정수 3과 5를 원소로 갖는 새로운 집합을 생성합니다.\n",
    "my_set = {3, 5}\n",
    "print(my_set)\n",
    "\n",
    "# 정수 7을 my_set에 추가합니다.\n",
    "my_set.add(7)\n",
    "print(my_set)\n",
    "\n",
    "# new_numbers 리스트의 원소를 my_set에 추가합니다.\n",
    "new_numbers = [1, 2, 3, 4, 5]\n",
    "my_set.update(new_numbers)\n",
    "print(my_set)\n",
    "\n",
    "\n",
    "# my_set에서 짝수를 모두 제거합니다.\n",
    "my_set = {num for num in my_set if num %2 != 0}\n",
    "print(my_set)\n",
    "\n"
   ]
  },
  {
   "cell_type": "markdown",
   "id": "be4a5e71",
   "metadata": {},
   "source": [
    "집합 연산"
   ]
  },
  {
   "cell_type": "markdown",
   "id": "856f21c0",
   "metadata": {},
   "source": [
    "집합 연산\n",
    "\n",
    "교집합 : 공통된 값\n",
    "\n",
    "합집합 : 모두 합친 값\n",
    "\n",
    "차집합 : 교집합을 제외한 값 (A - B)\n",
    "\n",
    "XOR : exclusive or -> A와B중 교집합을 제외하고 만족한다면\n",
    "    -> (A - B) + (B - A) "
   ]
  },
  {
   "cell_type": "code",
   "execution_count": 26,
   "id": "017f7114",
   "metadata": {},
   "outputs": [
    {
     "name": "stdout",
     "output_type": "stream",
     "text": [
      "{1, 3, 5, 7, 9, 27}\n",
      "{1, 3}\n",
      "{5, 7}\n",
      "{5, 7, 9, 27}\n"
     ]
    }
   ],
   "source": [
    "set1 = {1, 3, 5, 7}\n",
    "set2 = {1, 3, 9, 27}\n",
    "\n",
    "# 합집합\n",
    "union = set1 | set2 \n",
    "print(union)\n",
    "\n",
    "# 교집합\n",
    "intersection = set1 & set2\n",
    "print(intersection)\n",
    "\n",
    "# 차집합\n",
    "diff = set1 - set2\n",
    "print(diff)\n",
    "\n",
    "# XOR\n",
    "xor = set1 ^ set2\n",
    "print(xor)"
   ]
  },
  {
   "cell_type": "markdown",
   "id": "f4b49822",
   "metadata": {},
   "source": [
    "집합 연산자\n",
    "집합 연산자를 이용하면, 합집합, 교집합, 차집합 등의 집합 연산을 수행할 수 있습니다.\n",
    "\n",
    "합집합: 두 집합 중 최소 하나에 속하는 원소들의 집합\n",
    "교집합: 두 집합에 모두 속하는 원소들의 집합\n",
    "B에 대한 A의 차집합: A에는 속하지만 B에는 속하지 않는 원소들의 집합\n",
    "\n",
    "데이터 분석에서 이용하기\n",
    "집합 연산을 이용하면 여러 작품의 시청자 통계를 쉽게 낼 수 있습니다.\n",
    "\n",
    "다크나이트와 아이언맨, 두 작품의 시청자에 관한 네 종류의 통계를 내보겠습니다. 집합 연산자와 len() 함수를 이용하여 다양한 통계를 내는 코드를 완성해 보세요."
   ]
  },
  {
   "cell_type": "code",
   "execution_count": 27,
   "id": "1df38c09",
   "metadata": {},
   "outputs": [],
   "source": [
    "# viewers.py\n",
    "dark_knight = [341, 773, 867, 741, 372, 336, 774, 458, 642, 8, 858, 586, 382, 106, 375, 634, 206, 11, 984, 531, 544, 953, 737, 727, 791, 306, 398, 300, 818, 454, 919, 362, 25, 553, 514, 792, 497, 926, 773, 989, 531, 512, 301, 720, 123, 135, 672, 526, 795, 697, 255, 759, 338, 966, 315, 500, 445, 945, 392, 158, 620, 322, 859, 160, 363, 742, 239, 983, 638, 486, 499, 2, 27, 139, 359, 50, 423, 460, 396, 49, 596, 931, 812, 753, 206, 366, 432, 92, 274, 941, 418, 279, 868, 903, 310, 955, 952, 203, 315, 208, 380, 880, 23, 459, 782, 575, 51, 322, 901, 378, 45, 958, 256, 165, 473, 435, 504, 972, 817, 543, 584, 82, 224, 476, 452, 801, 786, 763, 516, 363, 312, 628, 746, 920, 924, 262, 800, 71, 978, 482, 60, 474, 892, 85, 97, 331, 787, 430, 100, 92, 436, 813, 966, 389, 838, 412, 514, 766, 321, 17, 319, 635, 498, 13, 118, 550, 306, 173, 15, 384, 939, 819, 685, 506, 984, 37, 327, 421, 452, 237, 920, 135, 339, 197, 579, 158, 655, 734, 172, 167, 563, 979, 740, 351, 493, 140, 819, 911, 180, 11, 514, 557, 552, 149, 823, 499, 127, 740, 937, 637, 562, 569, 597, 546, 707, 684, 439, 908, 340, 660, 496, 257, 165, 34, 863, 754, 751, 713, 442, 316, 237, 90, 993, 600, 884, 434, 915, 863, 508, 839, 933, 170, 304, 576, 696, 234, 945, 6, 468, 45, 405, 595, 547, 278, 885, 285, 908, 172, 679, 780, 89, 45, 247, 473, 270, 453, 519, 782, 614, 603, 755, 755, 265, 992, 243, 51, 650, 696, 403, 790, 877, 157, 892, 67, 488, 600, 146, 923, 578, 509, 943, 430, 69, 661, 45, 1, 906, 773, 138, 742, 517, 26, 479, 567, 620, 806, 724, 250, 961, 344, 138, 18, 415, 896, 647, 712, 231, 584, 962, 130, 50, 481, 694, 294, 960, 883, 257, 780, 745, 25, 243, 584, 463, 801, 739, 30, 727, 827, 555, 294, 208, 275, 418, 597, 759, 284, 902, 543, 234, 448, 511, 954, 722, 485, 665, 581, 727, 511, 658, 491, 379, 609, 936, 111, 454, 637, 746, 915, 147, 409, 330, 354, 189, 498, 968, 538, 831, 131, 144, 661, 153, 661, 107, 448, 555, 329, 503, 128, 606, 681, 711, 602, 791, 39, 529, 738, 302, 121, 307, 994, 697, 909, 566, 577, 477, 874, 398, 815, 276, 758, 923, 620, 797, 829, 62, 907, 188, 15, 231, 836, 82, 557, 206, 14, 166, 365, 53, 412, 38, 62, 168, 764, 67, 953, 839, 837, 248, 121, 882, 292, 744, 110, 315, 588, 892, 218, 393, 35, 438, 612, 796, 861, 787, 817, 464, 264, 702, 782, 522, 3, 749, 74, 753, 945, 402, 708, 264, 671, 388, 325, 692, 61, 188, 724, 405, 758, 435, 386, 557, 785, 806, 348, 93, 14, 624, 825, 90, 894, 829, 24, 954, 373, 406, 522, 950, 818, 770, 954, 241, 47, 972, 990, 398, 788, 67, 78, 657, 938, 583, 308, 966, 723, 630, 713, 426, 466, 259, 738, 607, 896, 136, 81, 807, 86, 210, 662, 910, 971, 444, 170, 878, 198, 674, 195, 795, 962, 546, 505, 902, 718, 149, 543, 868, 7, 443, 579, 786, 87, 109, 982, 639, 570, 405, 919, 112, 808, 624, 643, 706, 172, 258, 333, 300, 154, 468, 388, 763, 68, 579, 876, 789, 675, 454, 426, 976, 503, 325, 826, 821, 568, 738, 533, 583, 904, 445, 302, 901, 508, 429, 670, 632, 662, 720, 554, 771, 296, 914, 557, 648, 355]\n",
    "\n",
    "iron_man = [869, 942, 510, 325, 254, 871, 753, 734, 223, 277, 617, 5, 300, 767, 198, 101, 87, 997, 879, 824, 943, 940, 661, 135, 622, 633, 426, 332, 165, 27, 434, 163, 969, 423, 919, 203, 863, 71, 847, 773, 863, 622, 881, 460, 399, 700, 137, 72, 429, 456, 73, 943, 525, 324, 253, 223, 355, 428, 183, 612, 801, 604, 723, 111, 752, 425, 896, 392, 602, 781, 475, 792, 258, 565, 928, 901, 267, 752, 69, 559, 597, 910, 54, 807, 492, 249, 944, 523, 209, 506, 290, 405, 678, 579, 115, 553, 918, 620, 102, 441, 733, 443, 160, 144, 932, 795, 976, 311, 166, 881, 58, 361, 904, 863, 401, 750, 612, 985, 264, 101, 584, 899, 250, 904, 478, 546, 388, 170, 260, 836, 651, 921, 277, 17, 891, 783, 900, 235, 32, 179, 766, 110, 961, 834, 645, 40, 96, 421, 953, 470, 153, 785, 570, 862, 813, 835, 108, 650, 994, 378, 678, 327, 744, 195, 349, 453, 156, 835, 689, 872, 745, 766, 371, 753, 999, 960, 768, 923, 446, 410, 162, 789, 144, 973, 670, 229, 815, 856, 807, 811, 107, 838, 879, 451, 475, 546, 828, 833, 759, 763, 342, 801, 177, 358, 186, 705, 710, 7, 304, 521, 239, 571, 383, 352, 367, 929, 831, 866, 148, 965, 167, 534, 949, 340, 695, 812, 501, 464, 612, 400, 467, 305, 112, 59, 497, 208, 667, 803, 633, 439, 301, 875, 666, 653, 970, 354, 640, 36, 74, 212, 958, 333, 289, 936, 893, 462, 687, 2, 720, 356, 441, 516, 69, 181, 231, 251, 271, 611, 98, 824, 524, 123, 980, 732, 531, 605, 209, 462, 127, 902, 925, 230, 455, 382, 925, 87, 280, 512, 82, 813, 156, 859, 548, 385, 574, 480, 668, 20, 545, 11, 783, 351, 937, 248, 960, 500, 593, 429, 934, 128, 400, 387, 44, 115, 27, 571, 524, 306, 819, 592, 892, 457, 369, 214, 390, 729, 103, 107, 185, 978, 875, 591, 5, 850, 606, 863, 692, 495, 340, 501, 645, 117, 571, 788, 75, 880, 804, 155, 661, 344, 872, 846, 989, 90, 59, 904, 654, 161, 902, 31, 580, 681, 625, 937, 3, 848, 460, 834, 917, 334, 85, 391, 813, 907, 996, 150, 667, 849, 814, 279, 492, 319, 152, 740, 397, 501, 679, 519, 874, 559, 517, 729, 429, 789, 964, 758, 87, 355, 484, 697, 225, 654, 223, 682, 875, 599, 223, 9, 68, 520, 817, 702, 580, 977, 851, 605, 96, 522, 524, 427, 735, 858, 189, 340, 339, 612, 61, 902, 219, 183, 865, 78, 881, 408, 275, 905, 776, 512, 349, 881, 483, 203, 408, 930, 903, 132, 829, 527, 915, 372, 895, 863, 797, 669, 176, 497, 317, 395, 158, 555, 64, 624, 288, 761, 990, 40, 170, 271, 215, 156, 409, 79, 20, 65, 489, 843, 591, 618, 381, 290, 83, 470, 859, 870, 753, 853, 984, 39, 588, 103, 897, 565, 583, 133, 224, 76, 182, 367, 224, 169, 597, 775, 581, 894, 971, 822, 661, 994, 0, 39, 431, 829, 841, 723, 237, 518, 579, 103, 983, 819, 701, 682, 905, 296, 577, 851, 798, 85, 242, 329, 198, 421, 51, 214, 153, 266, 212, 424, 930, 660, 62, 254, 555, 419, 440, 871, 972, 122, 98, 299, 638, 388, 830, 404, 479, 947, 966, 527, 234, 545, 220, 124, 434, 391, 936, 712, 995, 141, 829, 516, 558, 215, 141, 849, 971, 405, 244, 479, 693, 413, 647, 942, 568, 132, 221, 954, 592, 82, 158, 781, 990, 753, 423, 478, 626, 572, 527, 440, 344, 13]"
   ]
  },
  {
   "cell_type": "code",
   "execution_count": 29,
   "id": "5f1aa8b0",
   "metadata": {},
   "outputs": [
    {
     "name": "stdout",
     "output_type": "stream",
     "text": [
      "두 작품 모두 시청: 188명\n",
      "하나 이상 시청: 717명\n",
      "다크나이트만 시청: 267명\n",
      "아이언맨만 시청: 262명\n"
     ]
    }
   ],
   "source": [
    "# 각 영화 별 시청자 리스트를 임포트합니다.\n",
    "# from viewers import dark_knight, iron_man\n",
    "\n",
    "dark_knight_set = set(dark_knight)\n",
    "iron_man_set = set(iron_man)\n",
    "\n",
    "# 두 작품을 모두 시청한 사람의 수\n",
    "both = len(dark_knight_set & iron_man_set)\n",
    "\n",
    "# 두 작품 중 최소 하나를 시청한 사람의 수\n",
    "either = len(dark_knight_set | iron_man_set)\n",
    "\n",
    "# 다크나이트만 시청한 사람의 수\n",
    "dark_knight_only = len(dark_knight_set - iron_man_set)\n",
    "\n",
    "# 아이언맨만 시청한 사람의 수\n",
    "iron_man_only = len(iron_man_set - dark_knight_set)\n",
    "\n",
    "\n",
    "# 아래 주석을 해제하고 실행 결과를 확인해보세요.\n",
    "print(\"두 작품 모두 시청: {}명\".format(both))\n",
    "print(\"하나 이상 시청: {}명\".format(either))\n",
    "print(\"다크나이트만 시청: {}명\".format(dark_knight_only))\n",
    "print(\"아이언맨만 시청: {}명\".format(iron_man_only))\n"
   ]
  },
  {
   "cell_type": "markdown",
   "id": "84ef2ad8",
   "metadata": {},
   "source": [
    "matplotlib으로 그래프 설정"
   ]
  },
  {
   "cell_type": "markdown",
   "id": "f6d99cff",
   "metadata": {},
   "source": [
    "03. 그래프 다루기"
   ]
  },
  {
   "cell_type": "markdown",
   "id": "68807704",
   "metadata": {},
   "source": [
    "matplotlib으로 그래프 설정\n",
    "\n",
    "- 제목 달기\n",
    "\n",
    "- 축 별로 라벨 추가하기\n",
    "\n",
    "- 막대 그래프의 tick 예쁘게 그리기\n",
    "\n",
    "- 여백 조정하기"
   ]
  },
  {
   "cell_type": "markdown",
   "id": "0716e6e1",
   "metadata": {},
   "source": [
    "matplotlib으로 차트 설정하기\n",
    "파이썬의 차트 라이브러리인 matploblib에 대해서 더 자세히 알아봅시다. matplotlib 라이브러리는 단순히 차트를 그리는 것뿐만 아니라, 차트에 더 많은 정보를 추가하고 보기 좋게 만드는 다양한 기능을 제공하고 있습니다.\n",
    "\n",
    "한국어 표시를 위해 폰트 설정하기\n",
    "차트의 제목 설정하기\n",
    "X축과 Y축에 라벨 표시하기\n",
    "차트의 여백 조정하기\n",
    "\n",
    "함께 따라하기\n",
    "작성된 코드는 이전에 나온 영어 단어 모음 분석하기 문제에서 사용했던 코드를 약간 수정한 것입니다.\n",
    "\n",
    "먼저 코드와 각 줄의 주석을 잘 읽고, 직접 실행해 보세요. 코드를 조금씩 수정하며, 차트의 모양이 변하는 것을 확인해 보세요."
   ]
  },
  {
   "cell_type": "code",
   "execution_count": 31,
   "id": "f6689369",
   "metadata": {},
   "outputs": [
    {
     "data": {
      "image/png": "[encoded data removed]",
      "text/plain": [
       "<Figure size 432x288 with 1 Axes>"
      ]
     },
     "metadata": {
      "needs_background": "light"
     },
     "output_type": "display_data"
    }
   ],
   "source": [
    "import matplotlib.pyplot as plt\n",
    "import matplotlib.font_manager as fm\n",
    "\n",
    "# 날짜 별 온도 데이터를 세팅합니다.\n",
    "dates = [\"1월 {}일\".format(day) for day in range(1, 32)]\n",
    "temperatures = list(range(1, 32))\n",
    "\n",
    "# 막대 그래프의 막대 위치를 결정하는 pos를 선언합니다.\n",
    "pos = range(len(dates))\n",
    "\n",
    "# 한국어를 보기 좋게 표시할 수 있도록 폰트를 설정합니다.\n",
    "font = fm.FontProperties(fname='./NanumBarunGothic.ttf')\n",
    "\n",
    "# 막대의 높이가 빈도의 값이 되도록 설정합니다.\n",
    "plt.bar(pos, temperatures, align='center')\n",
    "\n",
    "# 각 막대에 해당되는 단어를 입력합니다.\n",
    "plt.xticks(pos, dates, rotation='vertical', fontproperties=font)\n",
    "\n",
    "# 그래프의 제목을 설정합니다.\n",
    "plt.title('1월 중 기온 변화', fontproperties=font)\n",
    "\n",
    "# Y축에 설명을 추가합니다.\n",
    "plt.ylabel('온도', fontproperties=font)\n",
    "\n",
    "# 단어가 잘리지 않도록 여백을 조정합니다.\n",
    "plt.tight_layout()\n",
    "\n",
    "# 그래프를 표시합니다.\n",
    "plt.savefig('graph.png')"
   ]
  }
 ],
 "metadata": {
  "kernelspec": {
   "display_name": "Python 3",
   "language": "python",
   "name": "python3"
  },
  "language_info": {
   "codemirror_mode": {
    "name": "ipython",
    "version": 3
   },
   "file_extension": ".py",
   "mimetype": "text/x-python",
   "name": "python",
   "nbconvert_exporter": "python",
   "pygments_lexer": "ipython3",
   "version": "3.8.8"
  }
 },
 "nbformat": 4,
 "nbformat_minor": 5
}
