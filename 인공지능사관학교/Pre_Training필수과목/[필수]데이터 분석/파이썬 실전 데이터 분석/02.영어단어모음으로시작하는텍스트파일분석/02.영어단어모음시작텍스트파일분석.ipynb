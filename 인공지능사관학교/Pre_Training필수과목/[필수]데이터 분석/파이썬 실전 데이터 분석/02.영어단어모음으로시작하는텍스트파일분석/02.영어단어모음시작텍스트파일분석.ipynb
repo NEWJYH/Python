{
 "cells": [
  {
   "cell_type": "markdown",
   "id": "537cff19",
   "metadata": {},
   "source": [
    "목 차\n",
    "1. 파일 다루기\n",
    "2. 데이터 구조 다루기\n",
    "3. 그래프 다루기"
   ]
  },
  {
   "cell_type": "markdown",
   "id": "fb3e3431",
   "metadata": {},
   "source": [
    "파일 다루기"
   ]
  },
  {
   "cell_type": "markdown",
   "id": "517188df",
   "metadata": {},
   "source": [
    "파일 열기 / 닫기"
   ]
  },
  {
   "cell_type": "code",
   "execution_count": 2,
   "id": "f9ddcd13",
   "metadata": {},
   "outputs": [
    {
     "name": "stdout",
     "output_type": "stream",
     "text": [
      "Elice\n",
      "Elice\n",
      "Elice\n",
      "\n"
     ]
    }
   ],
   "source": [
    "file = open(\"data.txt\",\"w\")\n",
    "file.write(\"Elice\\n\")\n",
    "file.write(\"Elice\\n\")\n",
    "file.write(\"Elice\\n\")\n",
    "file.close()\n",
    "\n",
    "file = open(\"data.txt\",\"r\")\n",
    "content = file.read()\n",
    "file.close()\n",
    "print(content)"
   ]
  },
  {
   "cell_type": "markdown",
   "id": "4c405c6b",
   "metadata": {},
   "source": [
    "파일 자동으로 닫기"
   ]
  },
  {
   "cell_type": "code",
   "execution_count": 3,
   "id": "7b226be1",
   "metadata": {},
   "outputs": [
    {
     "name": "stdout",
     "output_type": "stream",
     "text": [
      "Elice\n",
      "Elice\n",
      "Elice\n",
      "\n"
     ]
    }
   ],
   "source": [
    "with open(\"data.txt\",\"r\") as file:\n",
    "    content = file.read()\n",
    "# file.close() - 필요 없음\n",
    "    print(content)"
   ]
  },
  {
   "cell_type": "markdown",
   "id": "2cf46502",
   "metadata": {},
   "source": [
    "줄 단위로 읽기"
   ]
  },
  {
   "cell_type": "code",
   "execution_count": 8,
   "id": "bf1a7ee6",
   "metadata": {},
   "outputs": [
    {
     "name": "stdout",
     "output_type": "stream",
     "text": [
      "['Elice', 'Elice', 'Elice']\n"
     ]
    }
   ],
   "source": [
    "contents = []\n",
    "with open(\"data.txt\", \"r\") as file:\n",
    "        for line in file:\n",
    "            contents.append(line.strip())\n",
    "\n",
    "print(contents)"
   ]
  },
  {
   "cell_type": "markdown",
   "id": "9aa5a049",
   "metadata": {},
   "source": [
    "파일의 모드"
   ]
  },
  {
   "cell_type": "code",
   "execution_count": 9,
   "id": "16b3c4ae",
   "metadata": {},
   "outputs": [
    {
     "name": "stdout",
     "output_type": "stream",
     "text": [
      "['Hello']\n"
     ]
    }
   ],
   "source": [
    "# 쓰기 (Write) 모드로 파일을 연다.\n",
    "datapath = \"\"\n",
    "textfilename = \"data.txt\"\n",
    "path = datapath+textfilename\n",
    "\n",
    "with open(path,\"w\") as file:\n",
    "    file.write(\"Hello\")\n",
    "    \n",
    "with open(path, \"r\") as file:\n",
    "    contents = [file.read().strip()]\n",
    "    \n",
    "print(contents)"
   ]
  },
  {
   "cell_type": "markdown",
   "id": "d8f6c123",
   "metadata": {},
   "source": [
    "파일 열고 읽기\n",
    "open()을 이용하면 지정한 파일 이름에 해당하는 파일을 열고, 읽거나 수정할 수 있습니다.\n",
    "\n",
    "여기에 with ... as을 사용하면 파일을 자동으로 닫을 수 있고, for문을 사용하면 파일 내용을 한 줄씩 읽을 수 있습니다.\n",
    "\n",
    ">>> with open('filename.txt') as file:\n",
    "       for line in file:\n",
    "            print(line)\n",
    "Copy\n",
    "\n",
    "데이터 분석에 응용하기\n",
    "영어 단어 데이터를 분석하려면, 먼저 데이터 저장된 파일을 파이썬으로 읽어 와야 합니다.\n",
    "\n",
    "파일의 내용을 각 줄의 번호와 함께 출력하는 print_lines() 함수를 완성하세요."
   ]
  },
  {
   "cell_type": "code",
   "execution_count": 10,
   "id": "2ce6134e",
   "metadata": {},
   "outputs": [
    {
     "name": "stdout",
     "output_type": "stream",
     "text": [
      "1 zoo,768\n",
      "\n",
      "2 zones,1168\n",
      "\n",
      "3 zone,2553\n",
      "\n",
      "4 zimbabwe,658\n",
      "\n",
      "5 zero,2286\n",
      "\n",
      "6 zealand,2636\n",
      "\n",
      "7 zambia,732\n",
      "\n",
      "8 yugoslavia,1400\n",
      "\n",
      "9 youths,914\n",
      "\n",
      "10 youth,5415\n",
      "\n",
      "11 yourself,10746\n",
      "\n",
      "12 yours,4241\n",
      "\n",
      "13 your,138337\n",
      "\n",
      "14 youngsters,1749\n",
      "\n",
      "15 youngest,1204\n",
      "\n",
      "16 younger,5403\n",
      "\n",
      "17 young,33611\n",
      "\n",
      "18 you,695595\n",
      "\n",
      "19 yorkshire,4393\n",
      "\n",
      "20 york,9906\n",
      "\n",
      "21 yo,1206\n",
      "\n",
      "22 yields,940\n",
      "\n",
      "23 yield,2113\n",
      "\n",
      "24 yet,33752\n",
      "\n",
      "25 yesterday,19507\n",
      "\n",
      "26 yes,60612\n",
      "\n",
      "27 yer,1509\n",
      "\n",
      "28 yep,1317\n",
      "\n",
      "29 yeltsin,1192\n",
      "\n",
      "30 yellow,4557\n",
      "\n",
      "31 yelled,754\n",
      "\n",
      "32 years,90224\n",
      "\n",
      "33 year,73778\n",
      "\n",
      "34 yeah,83382\n",
      "\n",
      "35 ye,1700\n",
      "\n",
      "36 yarn,877\n",
      "\n",
      "37 yards,3678\n",
      "\n",
      "38 yard,3267\n",
      "\n",
      "39 yacht,1033\n",
      "\n",
      "40 ya,1753\n",
      "\n",
      "41 wycliffe,716\n",
      "\n",
      "42 wrote,9909\n",
      "\n",
      "43 wrong,16080\n",
      "\n",
      "44 written,13675\n",
      "\n",
      "45 writings,1063\n",
      "\n",
      "46 writing,11582\n",
      "\n",
      "47 writes,2607\n",
      "\n",
      "48 writers,3581\n",
      "\n",
      "49 writer,3742\n",
      "\n",
      "50 write,10882\n",
      "\n",
      "51 wrist,1056\n",
      "\n",
      "52 wright,1972\n",
      "\n",
      "53 wrapped,1723\n",
      "\n",
      "54 wounds,1025\n",
      "\n",
      "55 wounded,1692\n",
      "\n",
      "56 wound,2161\n",
      "\n",
      "57 would,255198\n",
      "\n",
      "58 worthy,1403\n",
      "\n",
      "59 worthwhile,1484\n",
      "\n",
      "60 worth,12375\n",
      "\n",
      "61 worst,4817\n",
      "\n",
      "62 worship,1625\n",
      "\n",
      "63 worse,7237\n",
      "\n",
      "64 worrying,1473\n",
      "\n",
      "65 worry,5585\n",
      "\n",
      "66 worries,1308\n",
      "\n",
      "67 worried,4594\n",
      "\n",
      "68 worn,2099\n",
      "\n",
      "69 worms,678\n",
      "\n",
      "70 worldwide,2211\n",
      "\n",
      "71 worlds,1068\n",
      "\n",
      "72 world,59031\n",
      "\n",
      "73 workstations,809\n",
      "\n",
      "74 workstation,742\n",
      "\n",
      "75 workshops,1405\n",
      "\n",
      "76 workshop,1814\n",
      "\n",
      "77 works,14528\n",
      "\n",
      "78 workplace,846\n",
      "\n",
      "79 workings,733\n",
      "\n",
      "80 working-class,1900\n",
      "\n",
      "81 working,29252\n",
      "\n",
      "82 workforce,1530\n",
      "\n",
      "83 workers,14724\n",
      "\n",
      "84 worker,3635\n",
      "\n",
      "85 worked,12748\n",
      "\n",
      "86 work,91354\n",
      "\n",
      "87 wore,3011\n",
      "\n",
      "88 wordsworth,905\n",
      "\n",
      "89 words,24444\n",
      "\n",
      "90 wording,822\n",
      "\n",
      "91 word,19379\n",
      "\n",
      "92 worcester,737\n",
      "\n",
      "93 wool,1783\n",
      "\n",
      "94 woods,2135\n",
      "\n",
      "95 woodland,1025\n",
      "\n",
      "96 wooden,3547\n"
     ]
    }
   ],
   "source": [
    "# 텍스트 파일을 불러옵니다.\n",
    "filename = 'corpus.txt'\n",
    "\n",
    "def print_lines(filename):\n",
    "    # 아래 코드를 작성하세요.\n",
    "    with open(filename, \"r\") as file:\n",
    "        line_number = 1    \n",
    "        for line in file:\n",
    "            # 1 This is Elice. 와 같이, \"(줄번호) (내용)\" 형식으로 출력합니다.\n",
    "            print(f\"{line_number} {line}\")\n",
    "            line_number += 1\n",
    "\n",
    "\n",
    "# 아래 주석을 해제하고 결과를 확인해보세요.  \n",
    "print_lines(filename)"
   ]
  },
  {
   "cell_type": "markdown",
   "id": "d19e8ef7",
   "metadata": {},
   "source": [
    "데이터 구조 다루기 - 튜플"
   ]
  },
  {
   "cell_type": "markdown",
   "id": "70f20822",
   "metadata": {},
   "source": [
    "튜플(Tuple)"
   ]
  },
  {
   "cell_type": "code",
   "execution_count": 14,
   "id": "f55a4344",
   "metadata": {},
   "outputs": [],
   "source": [
    "hello = (\"안녕하세요\",\"hello\",\"bonjour\")\n",
    "\n",
    "apple = (\"사과\",\"apple\",\"pomme\")\n",
    "\n",
    "red = (\"빨갛다\",\"red\",\"rouge\")"
   ]
  },
  {
   "cell_type": "markdown",
   "id": "e70413ad",
   "metadata": {},
   "source": [
    "튜플 vs 리스트\n",
    "\n",
    "공통점 \n",
    "    순서가 있는 원소들의 집합\n",
    "    \n",
    "차이점\n",
    "    각 원소의 값을 수정할 수 없음(튜플)\n",
    "    원소의 개수를 바꿀 수 없음(튜플)"
   ]
  },
  {
   "cell_type": "markdown",
   "id": "e3365c57",
   "metadata": {},
   "source": [
    "리스트 변형"
   ]
  },
  {
   "cell_type": "code",
   "execution_count": 15,
   "id": "40c068fa",
   "metadata": {},
   "outputs": [
    {
     "name": "stdout",
     "output_type": "stream",
     "text": [
      "['안녕', 'hello', 'bonjour']\n",
      "['안녕', 'hello', 'bonjour', 'ni hao']\n"
     ]
    }
   ],
   "source": [
    "hello = list(hello)\n",
    "hello[0] = \"안녕\"\n",
    "print(hello)\n",
    "# ['안녕', 'hello', 'bonjour']\n",
    "\n",
    "hello.append(\"ni hao\")\n",
    "print(hello)\n",
    "# ['안녕', 'hello', 'bonjour', 'ni hao']"
   ]
  },
  {
   "cell_type": "markdown",
   "id": "5d1c9de5",
   "metadata": {},
   "source": [
    "튜플 변형"
   ]
  },
  {
   "cell_type": "code",
   "execution_count": 18,
   "id": "c3dcd79b",
   "metadata": {},
   "outputs": [],
   "source": [
    "hello = (\"안녕하세요\",\"hello\",\"bonjour\")\n",
    "\n",
    "hello[0] = \"안녕\" # 에러\n",
    "# 'tuple' object does not support item assignment\n",
    "hello.append(\"ni hao\") # 그런 함수 없음\n",
    "# AttributeError: 'tuple' object has no attribute 'append'"
   ]
  },
  {
   "cell_type": "markdown",
   "id": "4745d055",
   "metadata": {},
   "source": [
    "데이터 형태 변환하기\n",
    "튜플(tuple)은 리스트와 비슷한 데이터 구조로, 여러 값을 모아서 저장할 수 있습니다. 단, 리스트와 다르게 () 안에 요소가 입력되며 한 번 생성한 튜플은 그 값을 변경할 수 없습니다.\n",
    "\n",
    ">>> num_list = [1, 2]\n",
    ">>> num_list[1] = 3\n",
    ">>> print(num_list) \n",
    "[1, 3] \n",
    "Copy\n",
    ">>> num_tuple = (1, 2)\n",
    ">>> num_tuple[1] = 3\n",
    "\"TypeError: 'tuple' object does not support item assignment\"\n",
    "Copy\n",
    "\n",
    "데이터 분석에 응용하기\n",
    "corpus.txt의 내용을 읽고 (단어, 빈도수) 튜플로 구성된 리스트를 리턴하는 import_as_tuple() 함수를 완성하세요."
   ]
  },
  {
   "cell_type": "code",
   "execution_count": 20,
   "id": "cbe33485",
   "metadata": {},
   "outputs": [
    {
     "name": "stdout",
     "output_type": "stream",
     "text": [
      "[('zoo', '768'), ('zones', '1168'), ('zone', '2553'), ('zimbabwe', '658'), ('zero', '2286'), ('zealand', '2636'), ('zambia', '732'), ('yugoslavia', '1400'), ('youths', '914'), ('youth', '5415'), ('yourself', '10746'), ('yours', '4241'), ('your', '138337'), ('youngsters', '1749'), ('youngest', '1204'), ('younger', '5403'), ('young', '33611'), ('you', '695595'), ('yorkshire', '4393'), ('york', '9906'), ('yo', '1206'), ('yields', '940'), ('yield', '2113'), ('yet', '33752'), ('yesterday', '19507'), ('yes', '60612'), ('yer', '1509'), ('yep', '1317'), ('yeltsin', '1192'), ('yellow', '4557'), ('yelled', '754'), ('years', '90224'), ('year', '73778'), ('yeah', '83382'), ('ye', '1700'), ('yarn', '877'), ('yards', '3678'), ('yard', '3267'), ('yacht', '1033'), ('ya', '1753'), ('wycliffe', '716'), ('wrote', '9909'), ('wrong', '16080'), ('written', '13675'), ('writings', '1063'), ('writing', '11582'), ('writes', '2607'), ('writers', '3581'), ('writer', '3742'), ('write', '10882'), ('wrist', '1056'), ('wright', '1972'), ('wrapped', '1723'), ('wounds', '1025'), ('wounded', '1692'), ('wound', '2161'), ('would', '255198'), ('worthy', '1403'), ('worthwhile', '1484'), ('worth', '12375'), ('worst', '4817'), ('worship', '1625'), ('worse', '7237'), ('worrying', '1473'), ('worry', '5585'), ('worries', '1308'), ('worried', '4594'), ('worn', '2099'), ('worms', '678'), ('worldwide', '2211'), ('worlds', '1068'), ('world', '59031'), ('workstations', '809'), ('workstation', '742'), ('workshops', '1405'), ('workshop', '1814'), ('works', '14528'), ('workplace', '846'), ('workings', '733'), ('working-class', '1900'), ('working', '29252'), ('workforce', '1530'), ('workers', '14724'), ('worker', '3635'), ('worked', '12748'), ('work', '91354'), ('wore', '3011'), ('wordsworth', '905'), ('words', '24444'), ('wording', '822'), ('word', '19379'), ('worcester', '737'), ('wool', '1783'), ('woods', '2135'), ('woodland', '1025'), ('wooden', '3547')]\n"
     ]
    }
   ],
   "source": [
    "# 텍스트 파일을 불러옵니다.\n",
    "filename = 'corpus.txt'\n",
    "\n",
    "def import_as_tuple(filename):\n",
    "    tuples = []\n",
    "    with open(filename) as file:\n",
    "        for line in file:\n",
    "            # 아래 코드를 작성하세요.\n",
    "            split = line.strip().split(\",\")\n",
    "            word = split[0]\n",
    "            freq = split[1]\n",
    "            new_tuple = (word, freq)\n",
    "            tuples.append(new_tuple)\n",
    "            \n",
    "    return tuples\n",
    "\n",
    "\n",
    "# 아래 주석을 해제하고 결과를 확인해보세요.  \n",
    "print(import_as_tuple(filename))\n"
   ]
  },
  {
   "cell_type": "markdown",
   "id": "b3338b06",
   "metadata": {},
   "source": [
    "리스트로 리스트 만들기"
   ]
  },
  {
   "cell_type": "code",
   "execution_count": 22,
   "id": "91502219",
   "metadata": {},
   "outputs": [
    {
     "name": "stdout",
     "output_type": "stream",
     "text": [
      "['l', 'l', 'f']\n"
     ]
    }
   ],
   "source": [
    "words = \"life love faith\".split()\n",
    "first_letters = []\n",
    "for word in words:\n",
    "    first_letters.append(word[0])\n",
    "print(first_letters)"
   ]
  },
  {
   "cell_type": "code",
   "execution_count": 24,
   "id": "20e623d0",
   "metadata": {},
   "outputs": [
    {
     "name": "stdout",
     "output_type": "stream",
     "text": [
      "['l', 'l', 'f']\n"
     ]
    }
   ],
   "source": [
    "# List comprehension\n",
    "first_letters = [word[0] for word in words]\n",
    "print(first_letters)"
   ]
  },
  {
   "cell_type": "code",
   "execution_count": 26,
   "id": "ef687104",
   "metadata": {},
   "outputs": [
    {
     "name": "stdout",
     "output_type": "stream",
     "text": [
      "[2, 4, 6, 8]\n"
     ]
    }
   ],
   "source": [
    "numbers = [1, 3, 5, 7]\n",
    "new_numbers = []\n",
    "for n in numbers:\n",
    "    new_numbers.append(n+1)\n",
    "print(new_numbers)"
   ]
  },
  {
   "cell_type": "code",
   "execution_count": 27,
   "id": "ebe56da1",
   "metadata": {},
   "outputs": [
    {
     "name": "stdout",
     "output_type": "stream",
     "text": [
      "[2, 4, 6, 8]\n"
     ]
    }
   ],
   "source": [
    "new_numbers = [x+1 for x in numbers]\n",
    "print(new_numbers)"
   ]
  },
  {
   "cell_type": "markdown",
   "id": "1cd03bf6",
   "metadata": {},
   "source": [
    "특정 원소 걸러내기"
   ]
  },
  {
   "cell_type": "code",
   "execution_count": 40,
   "id": "b63a2622",
   "metadata": {},
   "outputs": [
    {
     "name": "stdout",
     "output_type": "stream",
     "text": [
      "[5, 7]\n"
     ]
    }
   ],
   "source": [
    "numbers = [1, 3, 4, 5, 6, 7]\n",
    "odd = []\n",
    "for n in numbers:\n",
    "    if n % 2 == 0:\n",
    "        odd.append(n+1)\n",
    "print(odd)"
   ]
  },
  {
   "cell_type": "code",
   "execution_count": 38,
   "id": "e24bf22d",
   "metadata": {},
   "outputs": [
    {
     "name": "stdout",
     "output_type": "stream",
     "text": [
      "[5, 7]\n"
     ]
    }
   ],
   "source": [
    "odd1 = [n+1 for n in numbers if n % 2 == 0]\n",
    "print(odd1)\n"
   ]
  },
  {
   "cell_type": "markdown",
   "id": "3c5f4c6a",
   "metadata": {},
   "source": [
    "한 줄 명령어로 데이터 다루기\n",
    "파이썬의 가장 큰 장점 중 하나는 간결한 코드입니다. for문을 리스트 안에 입력하면 새로운 리스트를 코드 한 줄로 간결하게 생성할 수 있습니다. 아래의 두 코드는 동일하게 작동합니다.\n",
    "\n",
    ">>> nums = [1, 2, 3]\n",
    ">>> new_nums = [n + 1 for n in nums]\n",
    "Copy\n",
    ">>> nums = [1, 2, 3]\n",
    ">>> new_nums = []\n",
    ">>> for n in nums:\n",
    "        new_nums.append(n + 1)\n",
    "Copy\n",
    "for와 if를 함께 사용하면 리스트의 특정 원소만 선택하여 리스트에 추가할 수도 있습니다.\n",
    "\n",
    ">>> nums = [1, 2, 3, 4]\n",
    ">>> even_nums = [n for n in nums if n % 2 == 0]\n",
    "Copy\n",
    "\n",
    "데이터 분석에 응용하기\n",
    "None을 삭제하고 단어 모음 words에서 prefix로 시작하는 단어로만 이루어진 리스트를 리턴하는 filter_by_prefix 함수를 완성하세요."
   ]
  },
  {
   "cell_type": "code",
   "execution_count": 1,
   "id": "5c66aba4",
   "metadata": {},
   "outputs": [
    {
     "name": "stdout",
     "output_type": "stream",
     "text": [
      "['apple', 'alpha']\n"
     ]
    }
   ],
   "source": [
    "# 단어 모음을 선언합니다. 수정하지 마세요.\n",
    "words = [\n",
    "    'apple',\n",
    "    'banana',\n",
    "    'alpha',\n",
    "    'bravo',\n",
    "    'cherry',\n",
    "    'charlie',\n",
    "]\n",
    "\n",
    "def filter_by_prefix(words, prefix):\n",
    "    # 아래 코드를 작성하세요.\n",
    "    return [word for word in words if word.startswith(prefix)]\n",
    "\n",
    "\n",
    "\n",
    "# 아래 주석을 해제하고 결과를 확인해보세요.  \n",
    "a_words = filter_by_prefix(words, 'a')\n",
    "print(a_words)\n"
   ]
  },
  {
   "cell_type": "markdown",
   "id": "2a4e2508",
   "metadata": {},
   "source": [
    "데이터 정렬하기"
   ]
  },
  {
   "cell_type": "code",
   "execution_count": 4,
   "id": "ee2006ff",
   "metadata": {},
   "outputs": [
    {
     "name": "stdout",
     "output_type": "stream",
     "text": [
      "[-1, 3, -4, 5, 6, 100]\n"
     ]
    }
   ],
   "source": [
    "numbers = [-1, 3, -4, 5, 6, 100]\n",
    "sort_by_abs = sorted(numbers, key=abs)\n",
    "# sort_by_abs = sorted(numbers)\n",
    "print(sort_by_abs)\n",
    "# abs() 절대값"
   ]
  },
  {
   "cell_type": "code",
   "execution_count": 51,
   "id": "12985cd9",
   "metadata": {},
   "outputs": [
    {
     "name": "stdout",
     "output_type": "stream",
     "text": [
      "['apple', 'banana', 'cherry']\n"
     ]
    }
   ],
   "source": [
    "fruits = \"cherry apple banana\".split()\n",
    "# fruits.sort()\n",
    "# print(fruits)\n",
    "sort_by_alpahbet = sorted(fruits)\n",
    "print(sort_by_alpahbet)"
   ]
  },
  {
   "cell_type": "code",
   "execution_count": 9,
   "id": "433041de",
   "metadata": {},
   "outputs": [
    {
     "name": "stdout",
     "output_type": "stream",
     "text": [
      "['cherry', 'apple', 'banana']\n",
      "['cherry', 'apple', 'banana']\n"
     ]
    }
   ],
   "source": [
    "def reverse(word):\n",
    "    return str(reversed(word))\n",
    "\n",
    "fruits = \"cherry apple banana\".split()\n",
    "# fruits = ['cheery','apple','banana']\n",
    "print(fruits)\n",
    "# fruits.reverse()\n",
    "# print(fruits)\n",
    "\n",
    "sort_by_last = sorted(fruits, key = reverse)\n",
    "print(sort_by_last)"
   ]
  },
  {
   "cell_type": "markdown",
   "id": "a4ec80a3",
   "metadata": {},
   "source": [
    "데이터 정렬하기\n",
    "sorted()를 활용하면 리스트를 특정 기준에 맞춰 정렬할 수 있습니다. 이때 기준은 key에 저장한 함수를 따르게 됩니다.\n",
    "\n",
    "아래의 코드는 숫자의 리스트를 절댓값을 기준으로 정렬합니다. 여기서 abs() 함수는 절댓값을 리턴하는 파이썬 내장 함수입니다.\n",
    "\n",
    ">>> new_nums = sorted([-4, 1, -3], key=abs)\n",
    ">>> print(new_nums)\n",
    "[1, -3, -4]\n",
    "Copy\n",
    "\n",
    "데이터 분석에 응용하기\n",
    "단어의 사용 빈도를 쉽게 확인하기 위해서는 단어를 빈도 순서대로 정렬해야 합니다.\n",
    "\n",
    "None을 삭제하고 이 작업에 필요한 함수 get_freq()와 sort_by_frequency() 함수를 완성하세요."
   ]
  },
  {
   "cell_type": "code",
   "execution_count": 10,
   "id": "413f6c17",
   "metadata": {},
   "outputs": [
    {
     "name": "stdout",
     "output_type": "stream",
     "text": [
      "[('turbo', 1), ('time', 8), ('the', 15)]\n"
     ]
    }
   ],
   "source": [
    "# 단어어 해당 단어의 빈도수를 담은 리스트를 선언합니다. 수정하지 마세요.\n",
    "pairs = [\n",
    "    ('time', 8),\n",
    "    ('the', 15),\n",
    "    ('turbo', 1),\n",
    "]\n",
    "\n",
    "\n",
    "\n",
    "#(단어, 빈도수) 쌍으로 이루어진 튜플을 받아, 빈도수를 리턴합니다.    \n",
    "def get_freq(pair):\n",
    "    return pair[1]\n",
    "\n",
    "\n",
    "\n",
    "#(단어, 빈도수) 꼴 튜플의 리스트를 받아, 빈도수가 낮은 순서대로 정렬하여 리턴합니다.\n",
    "def sort_by_frequency(pairs):\n",
    "    mylist = sorted(pairs, key=get_freq)\n",
    "    return mylist\n",
    "\n",
    "\n",
    "# 아래 주석을 해제하고 결과를 확인해보세요.  \n",
    "print(sort_by_frequency(pairs))\n"
   ]
  },
  {
   "cell_type": "markdown",
   "id": "7a7bb2fe",
   "metadata": {},
   "source": [
    "그래프 다루기"
   ]
  },
  {
   "cell_type": "markdown",
   "id": "560a28b4",
   "metadata": {},
   "source": [
    "matplotlib\n",
    "\n",
    "Mathematical Plot Library\n",
    "파이썬에서 그래프를 그릴 수 있게 하는 라이브러리\n",
    "꺾은선 그래프, 막대 그래프 등을 모두 지원"
   ]
  },
  {
   "cell_type": "markdown",
   "id": "110cd70e",
   "metadata": {},
   "source": [
    "차트 그리기\n",
    "파이썬의 matplotlib 라이브러리를 이용하면 막대 차트, 꺾은선 차트 등 다양한 차트를 쉽게 그릴 수 있습니다.\n",
    "\n",
    "\n",
    "데이터 분석에 응용하기\n",
    "영어 단어의 빈도수를 쉽게 비교하기 위해서는 한 눈에 들어오는 그래프를 그려야 합니다.\n",
    "\n",
    "matplotlib의 bar() 메소드를 이용하여 최근 평균 기온 그래프를 간단히 그려 보겠습니다. 코드와 주석을 이해한 후 출력된 차트를 확인해 보세요."
   ]
  },
  {
   "cell_type": "code",
   "execution_count": 12,
   "id": "7d907748",
   "metadata": {},
   "outputs": [
    {
     "name": "stdout",
     "output_type": "stream",
     "text": [
      "막대 차트를 출력합니다.\n"
     ]
    },
    {
     "data": {
      "image/png": "[encoded data removed]",
      "text/plain": [
       "<Figure size 432x288 with 1 Axes>"
      ]
     },
     "metadata": {
      "needs_background": "light"
     },
     "output_type": "display_data"
    }
   ],
   "source": [
    "# matplotlib의 일부인 pyplot 라이브러리를 불러옵니다.\n",
    "import matplotlib.pyplot as plt\n",
    "\n",
    "# # 엘리스에서 차트를 그릴 때 필요한 라이브러리를 불러옵니다.\n",
    "# from elice_utils import EliceUtils\n",
    "# elice_utils = EliceUtils()\n",
    "\n",
    "# 월별 평균 기온을 선언합니다. 수정하지 마세요.\n",
    "years = [2013, 2014, 2015, 2016, 2017]\n",
    "temperatures = [5, 10, 15, 20, 17]\n",
    "\n",
    "#막대 차트를 출력합니다.   \n",
    "def draw_graph():\n",
    "    # 막대 그래프의 막대 위치를 결정하는 pos를 선언합니다.\n",
    "    pos = range(len(years))  # [0, 1, 2, 3, 4]\n",
    "    \n",
    "    # 높이가 온도인 막대 그래프를 그립니다.\n",
    "    # 각 막대를 가운데 정렬합니다.\n",
    "    # align 옵션 정렬\n",
    "    plt.bar(pos, temperatures, align='center')\n",
    "    \n",
    "    # 각 막대에 해당되는 연도를 표기합니다.\n",
    "    plt.xticks(pos, years)\n",
    "    \n",
    "    # 그래프를 엘리스 플랫폼 상에 표시합니다.\n",
    "    plt.savefig('graph.png')\n",
    "#     elice_utils.send_image('graph.png')\n",
    "\n",
    "print('막대 차트를 출력합니다.')\n",
    "draw_graph()"
   ]
  }
 ],
 "metadata": {
  "kernelspec": {
   "display_name": "Python 3",
   "language": "python",
   "name": "python3"
  },
  "language_info": {
   "codemirror_mode": {
    "name": "ipython",
    "version": 3
   },
   "file_extension": ".py",
   "mimetype": "text/x-python",
   "name": "python",
   "nbconvert_exporter": "python",
   "pygments_lexer": "ipython3",
   "version": "3.8.8"
  }
 },
 "nbformat": 4,
 "nbformat_minor": 5
}
