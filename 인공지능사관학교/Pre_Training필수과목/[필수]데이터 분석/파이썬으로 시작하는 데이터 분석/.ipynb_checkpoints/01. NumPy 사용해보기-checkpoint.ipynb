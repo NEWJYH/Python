{
 "cells": [
  {
   "cell_type": "markdown",
   "id": "f04101a5",
   "metadata": {},
   "source": [
    "Numpy?\n",
    "Numerical Python.\n",
    "Python에서 대규모 다차원 배열을\n",
    "다룰 수 있게 도와주는 라이브러리"
   ]
  },
  {
   "cell_type": "markdown",
   "id": "782dfd9d",
   "metadata": {},
   "source": [
    "Why?\n",
    "데이터의 대부분은 숫자 배열로 볼 수 있다."
   ]
  },
  {
   "cell_type": "markdown",
   "id": "f7b02ff8",
   "metadata": {},
   "source": [
    "Python list?\n",
    "파이썬 리스트로도 계산 할 수 있지만\n",
    "numpy는 list에 비해서 빠른 연산을 지원하고\n",
    "메모리를 효율적으로 사용한다"
   ]
  },
  {
   "cell_type": "markdown",
   "id": "34b523e1",
   "metadata": {},
   "source": [
    "배열 만들기"
   ]
  },
  {
   "cell_type": "code",
   "execution_count": 1,
   "id": "89b83b3b",
   "metadata": {},
   "outputs": [
    {
     "data": {
      "text/plain": [
       "[0, 1, 2, 3, 4, 5, 6, 7, 8, 9]"
      ]
     },
     "execution_count": 1,
     "metadata": {},
     "output_type": "execute_result"
    }
   ],
   "source": [
    "list(range(10))"
   ]
  },
  {
   "cell_type": "code",
   "execution_count": 2,
   "id": "b04a1a96",
   "metadata": {},
   "outputs": [
    {
     "data": {
      "text/plain": [
       "array([1, 2, 3, 4, 5])"
      ]
     },
     "execution_count": 2,
     "metadata": {},
     "output_type": "execute_result"
    }
   ],
   "source": [
    "import numpy as np\n",
    "np.array([x for x in range(1,6)])"
   ]
  },
  {
   "cell_type": "code",
   "execution_count": 3,
   "id": "dc4d0f13",
   "metadata": {},
   "outputs": [
    {
     "data": {
      "text/plain": [
       "array([1, 2, 3, 4, 5])"
      ]
     },
     "execution_count": 3,
     "metadata": {},
     "output_type": "execute_result"
    }
   ],
   "source": [
    "np.array([1,2,3,4,5])"
   ]
  },
  {
   "cell_type": "code",
   "execution_count": 4,
   "id": "e1adff3a",
   "metadata": {},
   "outputs": [
    {
     "data": {
      "text/plain": [
       "array([3. , 1.4, 2. , 3. , 4. ])"
      ]
     },
     "execution_count": 4,
     "metadata": {},
     "output_type": "execute_result"
    }
   ],
   "source": [
    "# 실수형 데이터가 들어가면 모두 실수형으로 바뀜\n",
    "np.array([3, 1.4, 2, 3, 4])"
   ]
  },
  {
   "cell_type": "code",
   "execution_count": 5,
   "id": "10d22acd",
   "metadata": {},
   "outputs": [
    {
     "data": {
      "text/plain": [
       "array([[1, 2],\n",
       "       [3, 4]])"
      ]
     },
     "execution_count": 5,
     "metadata": {},
     "output_type": "execute_result"
    }
   ],
   "source": [
    "# 2차원 배열로 만듬\n",
    "np.array([[1,2],\n",
    "          [3,4]])"
   ]
  },
  {
   "cell_type": "code",
   "execution_count": 6,
   "id": "b64b3ab3",
   "metadata": {},
   "outputs": [
    {
     "data": {
      "text/plain": [
       "array([1., 2., 3., 4.])"
      ]
     },
     "execution_count": 6,
     "metadata": {},
     "output_type": "execute_result"
    }
   ],
   "source": [
    "# dtype = 'float' 실수형태로 \n",
    "np.array([1,2,3,4],dtype = 'float')"
   ]
  },
  {
   "cell_type": "markdown",
   "id": "2f7b3ff6",
   "metadata": {},
   "source": [
    "배열 데이터 타입 dtype"
   ]
  },
  {
   "cell_type": "code",
   "execution_count": 16,
   "id": "4d7ba786",
   "metadata": {},
   "outputs": [
    {
     "data": {
      "text/plain": [
       "array([1, 2, 3, 4])"
      ]
     },
     "execution_count": 16,
     "metadata": {},
     "output_type": "execute_result"
    }
   ],
   "source": [
    "arr = np.array([1,2,3,4], dtype = float)\n",
    "arr # array([1., 2., 3., 4.])\n",
    "arr.dtype # dtype('float64')\n",
    "arr.astype(int) # array([1, 2, 3, 4])"
   ]
  },
  {
   "cell_type": "markdown",
   "id": "1dde4c82",
   "metadata": {},
   "source": [
    "Python List와 다르게 array는 단일 타입으로 구성된다."
   ]
  },
  {
   "cell_type": "markdown",
   "id": "7fdc7324",
   "metadata": {},
   "source": [
    "배열 데이터 타입 dtype\n",
    "\n",
    "dtype    설명      다양한 표현\n",
    "\n",
    "int     정수형    i, int_, int32, int64,(=) i8\n",
    "float   실수형    f, float32, float_,(=) float64, (=)f8\n",
    "str     문자열    str, U, U32\n",
    "bool    부울      ?, bool_"
   ]
  },
  {
   "cell_type": "markdown",
   "id": "5c94fd03",
   "metadata": {},
   "source": [
    "다양한 배열 만들기"
   ]
  },
  {
   "cell_type": "code",
   "execution_count": 17,
   "id": "a4dc849c",
   "metadata": {},
   "outputs": [
    {
     "data": {
      "text/plain": [
       "array([0, 0, 0, 0, 0, 0, 0, 0, 0, 0])"
      ]
     },
     "execution_count": 17,
     "metadata": {},
     "output_type": "execute_result"
    }
   ],
   "source": [
    "# np.zeros 0 데이터를 가진 배열을 만듬\n",
    "# 첫 번쨰 인자 데이터의 갯수 10\n",
    "# 두 번째 인자 dtype = int # int형 데이터\n",
    "np.zeros(10,dtype = int)"
   ]
  },
  {
   "cell_type": "code",
   "execution_count": 18,
   "id": "568ca9c2",
   "metadata": {},
   "outputs": [
    {
     "data": {
      "text/plain": [
       "array([[1., 1., 1., 1., 1.],\n",
       "       [1., 1., 1., 1., 1.],\n",
       "       [1., 1., 1., 1., 1.]])"
      ]
     },
     "execution_count": 18,
     "metadata": {},
     "output_type": "execute_result"
    }
   ],
   "source": [
    "# np.ones 데이터를 1로 채워서 만듬\n",
    "# 첫 번째 인자 (3,5) # 3행 5열로 이루어진 2차원 배열을 만듬\n",
    "# 두 번째 인자 dtype = float # float형 데이터\n",
    "np.ones((3,5), dtype = float)"
   ]
  },
  {
   "cell_type": "code",
   "execution_count": 19,
   "id": "e3e35f67",
   "metadata": {},
   "outputs": [
    {
     "data": {
      "text/plain": [
       "array([ 0,  2,  4,  6,  8, 10, 12, 14, 16, 18])"
      ]
     },
     "execution_count": 19,
     "metadata": {},
     "output_type": "execute_result"
    }
   ],
   "source": [
    "# np.arange() 파이썬의 range객체와 비슷함\n",
    "# 0부터 20전까지 2개씩 (start, end, step)\n",
    "np.arange(0,20,2)"
   ]
  },
  {
   "cell_type": "code",
   "execution_count": 20,
   "id": "447d2a90",
   "metadata": {},
   "outputs": [
    {
     "data": {
      "text/plain": [
       "array([0.  , 0.25, 0.5 , 0.75, 1.  ])"
      ]
     },
     "execution_count": 20,
     "metadata": {},
     "output_type": "execute_result"
    }
   ],
   "source": [
    "# 0부터 1포함까지 5개로 나누어진 데이터를 만듬\n",
    "np.linspace(0,1,5)"
   ]
  },
  {
   "cell_type": "markdown",
   "id": "ebf0be56",
   "metadata": {},
   "source": [
    "난수로 채워진 배열 만들기"
   ]
  },
  {
   "cell_type": "code",
   "execution_count": 22,
   "id": "1379d218",
   "metadata": {},
   "outputs": [
    {
     "data": {
      "text/plain": [
       "array([[0.01495919, 0.27067973],\n",
       "       [0.73532103, 0.70640667]])"
      ]
     },
     "execution_count": 22,
     "metadata": {},
     "output_type": "execute_result"
    }
   ],
   "source": [
    "# 2행 2열로 이루어진 1보다 작은 실수로 이루어진 데이터\n",
    "# shape = (2,2)\n",
    "np.random.random((2,2))"
   ]
  },
  {
   "cell_type": "code",
   "execution_count": 23,
   "id": "43eceb93",
   "metadata": {},
   "outputs": [
    {
     "data": {
      "text/plain": [
       "array([[ 1.14403796,  1.01966854],\n",
       "       [ 0.21651225, -1.20956011]])"
      ]
     },
     "execution_count": 23,
     "metadata": {},
     "output_type": "execute_result"
    }
   ],
   "source": [
    "# 정규분포로 데이터 추출\n",
    "# 평균이 0이고 표준편차가 1인 데이터를\n",
    "# shape (2, 2)\n",
    "np.random.normal(0, 1, (2 ,2))"
   ]
  },
  {
   "cell_type": "code",
   "execution_count": 39,
   "id": "1801e354",
   "metadata": {},
   "outputs": [
    {
     "data": {
      "text/plain": [
       "array([[6, 9],\n",
       "       [4, 6]])"
      ]
     },
     "execution_count": 39,
     "metadata": {},
     "output_type": "execute_result"
    }
   ],
   "source": [
    "# 0부터 10까지 2,2형태로 출력\n",
    "np.random.randint(0, 10, (2, 2))"
   ]
  },
  {
   "cell_type": "code",
   "execution_count": 40,
   "id": "29ab567d",
   "metadata": {},
   "outputs": [
    {
     "name": "stdout",
     "output_type": "stream",
     "text": [
      "[[4 4 3 0 2]\n",
      " [3 3 1 1 4]\n",
      " [0 4 3 3 2]]\n"
     ]
    }
   ],
   "source": [
    "# 배열 만들기\n",
    "# Numpy 라이브러리는 효율적인 데이터분석이 가능하도록 N차원의 배열 객체를 지원합니다.\n",
    "\n",
    "# Numpy의 배열은 파이썬의 list()보다도 빠른 연산과 효율적인 메모리 사용이 가능하기 때문에 빅데이터 분석 등에 널리쓰이는 매우 강력한 라이브러리라고 할 수 있습니다.\n",
    "\n",
    "# 첫 실습으로 Numpy의 배열을 만들어 봅시다.\n",
    "\n",
    "# Numpy library에서 자주 사용되는 함수\n",
    "# np.array - 배열생성\n",
    "# np.zeros - 0이 들어있는 배열 생성\n",
    "# np.ones - 1이 들어있는 배열 생성\n",
    "# np.empty - 초기화가 없는 값으로 배열을 반환\n",
    "# np.arange(n) - 배열 버전의 range 함수\n",
    "# np.random - 다양한 난수가 들어있는 배열 생성\n",
    "# 예시\n",
    "# 0이상 10 미만의 랜덤한 값이 들어있는 2*4크기의 배열을 변수 array에 저장합니다.\n",
    "# array = np.random.randint(0,10,(2,4))\n",
    "# Copy\n",
    "\n",
    "# 지시사항\n",
    "# 0 이상 5 미만의 랜덤한 값이 들어가 있는 3X5 배열을 만들어 array라는 배열\n",
    "\n",
    "import numpy as np\n",
    "#0부터 5사이 랜덤한 값이 담긴 3x5 array를 만들어 봅시다!\n",
    "array = np.random.randint(0,5,(3,5))\n",
    "print(array)"
   ]
  },
  {
   "cell_type": "markdown",
   "id": "f57497e7",
   "metadata": {},
   "source": [
    "배열의 기초"
   ]
  },
  {
   "cell_type": "code",
   "execution_count": 46,
   "id": "e4f4a574",
   "metadata": {},
   "outputs": [
    {
     "name": "stdout",
     "output_type": "stream",
     "text": [
      "[[9 3 6 8]\n",
      " [3 6 0 0]\n",
      " [2 8 1 4]]\n",
      "2\n",
      "(3, 4)\n",
      "12\n",
      "int64\n"
     ]
    }
   ],
   "source": [
    "#     numpy.random.randint 10미만  사이즈 3행 4열\n",
    "x2 = np.random.randint(10, size=(3, 4),dtype = \"int64\")\n",
    "print(x2) \n",
    "# ndim <- 차원이 몇차원인가?  2차원\n",
    "print(x2.ndim) # 2\n",
    "print(x2.shape) # (3, 4) 3행 4열\n",
    "print(x2.size) # 12 개의 데이터를 가지고 있다\n",
    "print(x2.dtype) # int64 # 데이터 타입은 int64이다."
   ]
  },
  {
   "cell_type": "markdown",
   "id": "cfc00ce2",
   "metadata": {},
   "source": [
    "찾고 잘라내기\n",
    "Indexing : 인덱스로 값을 찾아낸다.\n",
    "[0, 1, 2, 3, 4, 5, 6]"
   ]
  },
  {
   "cell_type": "code",
   "execution_count": 51,
   "id": "686b82ab",
   "metadata": {},
   "outputs": [
    {
     "name": "stdout",
     "output_type": "stream",
     "text": [
      "[0 1 2 3 4 5 6]\n",
      "3\n",
      "[10  1  2  3  4  5  6]\n"
     ]
    }
   ],
   "source": [
    "x = np.arange(7)\n",
    "print(x) # [0 1 2 3 4 5 6]\n",
    "print(x[3]) # 3\n",
    "# print(x[7]) # IndexError: index 7 is out of bounds for axis 0 with size 7\n",
    "x[0] = 10\n",
    "print(x) # [10  1  2  3  4  5  6]"
   ]
  },
  {
   "cell_type": "markdown",
   "id": "bad0725d",
   "metadata": {},
   "source": [
    "찾고 잘라내기\n",
    "Slicing : 인덱스 값으로 배열의 부분을 가져오는 것\n",
    "[0, 1, 2, 3, 4, 5, 6]"
   ]
  },
  {
   "cell_type": "code",
   "execution_count": 55,
   "id": "9b4a61fe",
   "metadata": {},
   "outputs": [
    {
     "name": "stdout",
     "output_type": "stream",
     "text": [
      "[1 2 3]\n",
      "[1 2 3 4 5 6]\n",
      "[0 1 2 3]\n",
      "[0 2 4 6]\n"
     ]
    }
   ],
   "source": [
    "x = np.arange(7)\n",
    "print(x[1:4]) # [1 2 3]\n",
    "print(x[1:]) # [1 2 3 4 5 6]\n",
    "print(x[:4]) # [0 1 2 3]\n",
    "print(x[::2]) # [0 2 4 6]"
   ]
  },
  {
   "cell_type": "markdown",
   "id": "efdd9054",
   "metadata": {},
   "source": [
    "배열의 기초\n",
    "이전 실습에서 우리는 Numpy를 활용하여 배열을 생성해 보았습니다.\n",
    "\n",
    "ndarray에는 배열의 여러 정보를 나타내는 속성값을 담고 있는데요, ndim, shape, size, dtype 등이 있습니다.\n",
    "\n",
    "이번에는 배열의 다양한 속성들을 실습을 통해서 익혀봅시다.\n",
    "\n",
    "\n",
    "지시사항\n",
    "Q1\n",
    "\n",
    "array의 자료형을 출력해보세요. type() 함수로 변수의 자료형을 구할 수 있습니다.\n",
    "\n",
    "print(type(array))\n",
    "이 type(array)의 의미는 array라는 변수가 파이썬에서 어떤 자료형으로 저장되고 있는지 알 수 있는 것입니다.\n",
    "\n",
    "Q2\n",
    "\n",
    "array의 차원을 출력해보세요.\n",
    "\n",
    "print(array.ndim)\n",
    "Q3\n",
    "\n",
    "array의 모양을 출력해보세요.\n",
    "\n",
    "print(array.shape)\n",
    "Q4\n",
    "\n",
    "array의 크기를 출력해보세요.\n",
    "\n",
    "print(array.size)\n",
    "Q5\n",
    "\n",
    "array의 dtype을 출력해보세요. dtype이란, numpy 배열이 갖고 있는 요소의 자료형을 의미합니다.\n",
    "\n",
    "print(array.dtype)\n",
    "Q6\n",
    "\n",
    "array의 인덱스 5의 요소를 출력해보세요.\n",
    "\n",
    "print(array[5])\n",
    "Q7\n",
    "\n",
    "array의 인덱스 3의 요소부터 인덱스 5의 요소까지 출력해보세요.\n",
    "\n",
    "print(array[3:6])"
   ]
  },
  {
   "cell_type": "code",
   "execution_count": 56,
   "id": "376ba097",
   "metadata": {},
   "outputs": [
    {
     "name": "stdout",
     "output_type": "stream",
     "text": [
      "1차원 array\n",
      "[0 1 2 3 4 5 6 7 8 9]\n",
      "<class 'numpy.ndarray'>\n",
      "1\n",
      "(10,)\n",
      "10\n",
      "int32\n",
      "5\n",
      "[3 4 5]\n"
     ]
    }
   ],
   "source": [
    "import numpy as np\n",
    "\n",
    "print(\"1차원 array\")\n",
    "array = np.arange(10)\n",
    "print(array)\n",
    "\n",
    "# Q1. array의 자료형을 출력해보세요.\n",
    "print(type(array))\n",
    "\n",
    "# Q2. array의 차원을 출력해보세요.\n",
    "print(array.ndim)\n",
    "\n",
    "# Q3. array의 모양을 출력해보세요.\n",
    "print(array.shape)\n",
    "\n",
    "# Q4. array의 크기를 출력해보세요.\n",
    "print(array.size)\n",
    "\n",
    "# Q5. array의 dtype(data type)을 출력해보세요.\n",
    "print(array.dtype)\n",
    "\n",
    "# Q6. array의 인덱스 5의 요소를 출력해보세요.\n",
    "print(array[5])\n",
    "\n",
    "# Q7. array의 인덱스 3의 요소부터 인덱스 5 요소까지 출력해보세요.\n",
    "print(array[3:6])\n"
   ]
  },
  {
   "cell_type": "markdown",
   "id": "d29c1a08",
   "metadata": {},
   "source": [
    "배열의 기초\n",
    "이번 실습에서는 2차원 배열의 속성을 알아봅시다.\n",
    "\n",
    "앞서 실습했던 1차원 배열의 속성과는 무엇이 다른지 비교하면서 ndarray의 속성값에 대해 자세히 알아봅시다.\n",
    "\n",
    "\n",
    "지시사항\n",
    "Q1\n",
    "\n",
    "matrix의 자료형을 출력해보세요. type(matrix)로 자료형을 구할 수 있습니다.\n",
    "\n",
    "print(type(matrix))\n",
    "Q2\n",
    "\n",
    "matrix의 차원을 출력해보세요.\n",
    "\n",
    "print(matrix.ndim)\n",
    "Q3\n",
    "\n",
    "matrix의 모양을 출력해보세요.\n",
    "\n",
    "print(matrix.shape)\n",
    "Q4\n",
    "\n",
    "matrix의 크기를 출력해보세요.\n",
    "\n",
    "print(matrix.size)\n",
    "Q5\n",
    "\n",
    "matrix의 dtype을 출력해보세요.\n",
    "\n",
    "print(matrix.dtype)\n",
    "Q6\n",
    "\n",
    "matrix의 인덱스 (2,3)번째 요소를 출력해보세요.\n",
    "\n",
    "print(matrix[2,3])\n",
    "Q7\n",
    "\n",
    "matrix의 인덱스 (0,1)번째 요소부터 (1,3)번째 요소까지 출력해보세요.\n",
    "\n",
    "print(matrix[0:2,1:4])"
   ]
  },
  {
   "cell_type": "code",
   "execution_count": 57,
   "id": "2ea5ed80",
   "metadata": {},
   "outputs": [
    {
     "name": "stdout",
     "output_type": "stream",
     "text": [
      "2차원 array\n",
      "[[ 1  2  3  4  5]\n",
      " [ 6  7  8  9 10]\n",
      " [11 12 13 14 15]]\n",
      "<class 'numpy.ndarray'>\n",
      "2\n",
      "(3, 5)\n",
      "15\n",
      "int32\n",
      "14\n",
      "[[2 3 4]\n",
      " [7 8 9]]\n"
     ]
    }
   ],
   "source": [
    "import numpy as np\n",
    "\n",
    "print(\"2차원 array\")\n",
    "matrix = np.arange(1, 16).reshape(3,5)  #1부터 15까지 들어있는 (3,5)짜리 배열을 만듭니다.\n",
    "print(matrix)\n",
    "\n",
    "\n",
    "# Q1. matrix의 자료형을 출력해보세요.\n",
    "print(type(matrix))\n",
    "\n",
    "# Q2. matrix의 차원을 출력해보세요.\n",
    "print(matrix.ndim)\n",
    "\n",
    "# Q3. matrix의 모양을 출력해보세요.\n",
    "print(matrix.shape)\n",
    "\n",
    "# Q4. matrix의 크기를 출력해보세요.\n",
    "print(matrix.size)\n",
    "\n",
    "# Q5. matrix의 dtype(data type)을 출력해보세요.\n",
    "print(matrix.dtype)\n",
    "\n",
    "# Q6. matrix의 (2,3) 인덱스의 요소를 출력해보세요.\n",
    "print(matrix[2,3])\n",
    "\n",
    "# Q7. matrix의 행은 인덱스 0부터 인덱스 1까지, 열은 인덱스 1부터 인덱스 3까지 출력해보세요.\n",
    "print(matrix[0:2,1:4])\n",
    "\n"
   ]
  },
  {
   "cell_type": "markdown",
   "id": "b0a02688",
   "metadata": {},
   "source": [
    "Reshape & 이어붙이고 나누기"
   ]
  },
  {
   "cell_type": "markdown",
   "id": "80a9c29c",
   "metadata": {},
   "source": [
    "모양 바꾸기\n",
    "reshape : array의 shape를 변경한다.\n",
    "[0 1 2 3 4 5 6 7]\n",
    "\n",
    "[0 1 2 3]\n",
    "[4 5 6 7]"
   ]
  },
  {
   "cell_type": "code",
   "execution_count": 59,
   "id": "44d3d5e2",
   "metadata": {},
   "outputs": [
    {
     "name": "stdout",
     "output_type": "stream",
     "text": [
      "[0 1 2 3 4 5 6 7]\n",
      "(8,)\n",
      "[[0 1 2 3]\n",
      " [4 5 6 7]]\n",
      "(2, 4)\n"
     ]
    }
   ],
   "source": [
    "import numpy as np\n",
    "x = np.arange(8)\n",
    "print(x) # [0 1 2 3 4 5 6 7]\n",
    "print(x.shape) # (8,)\n",
    "x2 = x.reshape((2,4))\n",
    "print(x2)\n",
    "# [[0 1 2 3]\n",
    "# [4 5 6 7]]\n",
    "print(x2.shape) # (2, 4)"
   ]
  },
  {
   "cell_type": "markdown",
   "id": "de253a45",
   "metadata": {},
   "source": [
    "이어 붙이고 나누고\n",
    "concatenate : array를 이어 붙인다.\n",
    "[0 1 2] [3 4 5]\n",
    "[0 1 2 3 4 5]"
   ]
  },
  {
   "cell_type": "code",
   "execution_count": 60,
   "id": "45f5713a",
   "metadata": {},
   "outputs": [
    {
     "data": {
      "text/plain": [
       "array([0, 1, 2, 3, 4, 5])"
      ]
     },
     "execution_count": 60,
     "metadata": {},
     "output_type": "execute_result"
    }
   ],
   "source": [
    "x = np.array([0, 1, 2])\n",
    "y = np.array([3, 4, 5])\n",
    "np.concatenate([x,y]) # array([0, 1, 2, 3, 4, 5])"
   ]
  },
  {
   "cell_type": "markdown",
   "id": "12cca1d8",
   "metadata": {},
   "source": [
    "이어 붙이고 나누고\n",
    "np.concatenate : axis 축을 기준으로 이어 붙일 수 있다\n",
    "[0 1]\n",
    "[2 3]   \n",
    "\n",
    "[0 1]\n",
    "[2 3]\n",
    "[0 1]\n",
    "[2 3]"
   ]
  },
  {
   "cell_type": "code",
   "execution_count": 63,
   "id": "56310037",
   "metadata": {},
   "outputs": [
    {
     "name": "stdout",
     "output_type": "stream",
     "text": [
      "[[0 1]\n",
      " [2 3]]\n"
     ]
    },
    {
     "data": {
      "text/plain": [
       "array([[0, 1, 0, 1],\n",
       "       [2, 3, 2, 3]])"
      ]
     },
     "execution_count": 63,
     "metadata": {},
     "output_type": "execute_result"
    }
   ],
   "source": [
    "matrix = np.arange(4).reshape(2, 2)\n",
    "matrix\n",
    "# [[0 1]\n",
    "# [2 3]]\n",
    "np.concatenate([matrix, matrix], axis = 0) # 0 세로(열)\n",
    "# array([[0, 1],\n",
    "#       [2, 3],\n",
    "#       [0, 1],\n",
    "#       [2, 3]])\n",
    "np.concatenate([matrix, matrix], axis = 1) # 1 가로(행)\n",
    "# array([[0, 1, 0, 1],\n",
    "#       [2, 3, 2, 3]])"
   ]
  },
  {
   "cell_type": "markdown",
   "id": "80d30ab2",
   "metadata": {},
   "source": [
    "이어 붙이고 나누고\n",
    "np.split : axis 축을 기준으로 나눌 수 있다\n",
    "[ 0 1 2 3 ]\n",
    "[ 4 5 6 7 ]\n",
    "[ 8 9 10 11 ]\n",
    "[ 12 13 14 15]\n",
    "\n",
    "[0 1 2 3]\n",
    "[4 5 6 7]\n",
    "[8 9 10 11]\n",
    "\n",
    "[12 13 14 15]"
   ]
  },
  {
   "cell_type": "code",
   "execution_count": 68,
   "id": "dcc55aa9",
   "metadata": {},
   "outputs": [
    {
     "name": "stdout",
     "output_type": "stream",
     "text": [
      "[[ 0  1  2  3]\n",
      " [ 4  5  6  7]\n",
      " [ 8  9 10 11]\n",
      " [12 13 14 15]]\n",
      "----------------\n",
      "[[ 0  1  2  3]\n",
      " [ 4  5  6  7]\n",
      " [ 8  9 10 11]]\n",
      "----------------\n",
      "[[12 13 14 15]]\n"
     ]
    }
   ],
   "source": [
    "matrix = np.arange(16).reshape(4, 4)\n",
    "print(matrix)\n",
    "# [[ 0  1  2  3]\n",
    "# [ 4  5  6  7]\n",
    "# [ 8  9 10 11]\n",
    "# [12 13 14 15]]\n",
    "print(\"----------------\")\n",
    "\n",
    "upper, lower = np.split(matrix, [3], axis = 0)\n",
    "print(upper)\n",
    "# [[ 0  1  2  3]\n",
    "# [ 4  5  6  7]\n",
    "# [ 8  9 10 11]]\n",
    "print(\"----------------\")\n",
    "print(lower)\n",
    "# [[12 13 14 15]]"
   ]
  },
  {
   "cell_type": "markdown",
   "id": "c4c9e86e",
   "metadata": {},
   "source": [
    "이어 붙이고 나누고\n",
    "np.split : axis 축을 기준으로 나눌 수 있다\n",
    "[ 0 1 2 3 ]\n",
    "[ 4 5 6 7 ]\n",
    "[ 8 9 10 11 ]\n",
    "[ 12 13 14 15]\n",
    "\n",
    "[0 1 2]    [3]\n",
    "[4 5 6]    [7]\n",
    "[8 9 10]   [11]\n",
    "[12 13 14] [15]"
   ]
  },
  {
   "cell_type": "code",
   "execution_count": 73,
   "id": "d671bca9",
   "metadata": {},
   "outputs": [
    {
     "name": "stdout",
     "output_type": "stream",
     "text": [
      "[[ 0  1  2  3]\n",
      " [ 4  5  6  7]\n",
      " [ 8  9 10 11]\n",
      " [12 13 14 15]]\n",
      "===========\n",
      "[[ 0  1  2]\n",
      " [ 4  5  6]\n",
      " [ 8  9 10]\n",
      " [12 13 14]]\n",
      "===========\n",
      "[[ 3]\n",
      " [ 7]\n",
      " [11]\n",
      " [15]]\n"
     ]
    }
   ],
   "source": [
    "matrix = np.arange(16).reshape(4, 4)\n",
    "print(matrix)\n",
    "# [[ 0  1  2  3]\n",
    "# [ 4  5  6  7]\n",
    "# [ 8  9 10 11]\n",
    "# [12 13 14 15]]\n",
    "print(\"===========\")\n",
    "\n",
    "left, right = np.split(matrix, [3], axis = 1)\n",
    "print(left)\n",
    "# [[ 0  1  2]\n",
    "# [ 4  5  6]\n",
    "# [ 8  9 10]\n",
    "# [12 13 14]]\n",
    "print(\"===========\")\n",
    "print(right)\n",
    "# [[ 3]\n",
    "# [ 7]\n",
    "# [11]\n",
    "# [15]]"
   ]
  },
  {
   "cell_type": "markdown",
   "id": "bf832abc",
   "metadata": {},
   "source": [
    "이어 붙이고 나누기\n",
    "array의 모양을 바꿔보는 reshape()함수에 대해 배워봅시다.\n",
    "\n",
    "reshape()함수는 배열의 속성 중 하나인 shape를 변경할 수 있게 하는 함수입니다.\n",
    "\n",
    "reshape() 함수를 사용하면 1차원 배열을 2차원 배열로 바꾸거나, 2차원 배열의 열과 행의 개수를 조절할 수 있습니다.\n",
    "\n",
    "\n",
    "지시사항\n",
    "주어진 array를 matrix라는 변수로 (2,4) 모양으로 reshape하여 저장하고 제출해보세요.\n",
    "\n",
    "matrix와 matrix의 shape를 출력하여 array와 어떤 점이 다른지 살펴보세요."
   ]
  },
  {
   "cell_type": "code",
   "execution_count": 74,
   "id": "c15e8fe4",
   "metadata": {},
   "outputs": [
    {
     "name": "stdout",
     "output_type": "stream",
     "text": [
      "array\n",
      "[0 1 2 3 4 5 6 7]\n",
      "shape :  (8,) \n",
      "\n",
      "# reshape (2, 4)\n",
      "[[0 1 2 3]\n",
      " [4 5 6 7]]\n",
      "shape :  (2, 4)\n"
     ]
    }
   ],
   "source": [
    "import numpy as np\n",
    "\n",
    "print(\"array\")\n",
    "array = np.arange(8)\n",
    "print(array)\n",
    "print(\"shape : \", array.shape, \"\\n\")\n",
    "\n",
    "# Q1. array를 (2,4) 크기로 reshape하여 matrix에 저장한 뒤 matrix와 그의 shape를 출력해보세요.\n",
    "print(\"# reshape (2, 4)\")\n",
    "matrix = array.reshape((2,4))\n",
    "\n",
    "\n",
    "print(matrix)\n",
    "print(\"shape : \", matrix.shape)\n"
   ]
  },
  {
   "cell_type": "markdown",
   "id": "58b97bc6",
   "metadata": {},
   "source": [
    "이어 붙이고 나누기\n",
    "이번에는concatenate()함수를 이용하여 array를 서로 붙여보도록 하겠습니다.\n",
    "\n",
    "concatenate() 함수로 두 배열과 붙이는 방향을 설정하여 하나의 배열로 만들 수 있습니다.\n",
    "\n",
    "열의 개수가 같은 array끼리는 세로(axis 0)로 붙일 수 있고, 행의 개수가 같은 array끼리는 가로(axis 1)로 붙일 수 있습니다.\n",
    "\n",
    "\n",
    "지시사항\n",
    "Q1.\n",
    "\n",
    "주어진 matrix 변수 두 개를 세로로 이어붙이고 m이란 변수에 저장하여 출력해보세요.\n",
    "\n",
    "Q2.\n",
    "\n",
    "주어진 matrix 변수 두 개를 가로로 이어붙이고 n이란 변수에 저장하여 출력해보세요."
   ]
  },
  {
   "cell_type": "code",
   "execution_count": 75,
   "id": "e728e387",
   "metadata": {},
   "outputs": [
    {
     "name": "stdout",
     "output_type": "stream",
     "text": [
      "matrix\n",
      "[[0 1 2 3]\n",
      " [4 5 6 7]]\n",
      "shape :  (2, 4) \n",
      "\n",
      "[[0 1 2 3]\n",
      " [4 5 6 7]\n",
      " [0 1 2 3]\n",
      " [4 5 6 7]]\n",
      "[[0 1 2 3 0 1 2 3]\n",
      " [4 5 6 7 4 5 6 7]]\n"
     ]
    }
   ],
   "source": [
    "import numpy as np\n",
    "\n",
    "print(\"matrix\")\n",
    "matrix = np.array([[0,1,2,3],\n",
    "                   [4,5,6,7]])\n",
    "print(matrix)\n",
    "print(\"shape : \", matrix.shape, \"\\n\")\n",
    "\n",
    "# (아래의 배열 모양을 참고하세요.)\n",
    "# Q1. matrix 두 개를 세로로 붙이기 \n",
    "'''\n",
    "[[0 1 2 3]\n",
    " [4 5 6 7]\n",
    " [0 1 2 3]\n",
    " [4 5 6 7]]\n",
    "'''\n",
    "m = np.concatenate([matrix, matrix] ,axis = 0)\n",
    "print(m)\n",
    "\n",
    "\n",
    "# Q2. matrix 두 개를 가로로 붙이기\n",
    "'''\n",
    "[[0 1 2 3 0 1 2 3]\n",
    " [4 5 6 7 4 5 6 7]]\n",
    "'''\n",
    "n = np.concatenate([matrix, matrix], axis = 1)\n",
    "print(n)\n",
    "\n"
   ]
  },
  {
   "cell_type": "markdown",
   "id": "f55d9733",
   "metadata": {},
   "source": [
    "이어 붙이고 나누기\n",
    "이번에는split() 함수를 이용하여 array를 axis를 기준으로 나누어보도록 하겠습니다.\n",
    "\n",
    "앞서 실습해 본 concatenate() 함수와는 달리 split() 함수는 하나의 배열과 방향을 지정하여 두 개의 배열로 나누어줍니다.\n",
    "\n",
    "\n",
    "지시사항\n",
    "Q1.\n",
    "\n",
    "주어진 matrix를 axis 0을 활용하여 3번째 행을 기준으로 나누고, 그 결과를 각각 a, b란 변수에 저장합시다.\n",
    "\n",
    "a와 b를 각각 출력해보세요.\n",
    "\n",
    "Q2.\n",
    "\n",
    "주어진 matrix를 axis 1을 활용하여 1번째 열을 기준으로 나누고, 그 결과를 각각 c, d란 변수에 저장합시다.\n",
    "\n",
    "c와 d를 각각 출력해보세요."
   ]
  },
  {
   "cell_type": "code",
   "execution_count": null,
   "id": "ce371a5f",
   "metadata": {},
   "outputs": [],
   "source": [
    "import numpy as np\n",
    "\n",
    "print(\"matrix\")\n",
    "matrix = np.array([[ 0, 1, 2, 3],\n",
    "                   [ 4, 5, 6, 7],\n",
    "                   [ 8, 9,10,11], \n",
    "                   [12,13,14,15]])\n",
    "print(matrix, \"\\n\")\n",
    "\n",
    "# Q1. matrix를 [3] 행에서 axis 0으로 나누기\n",
    "'''\n",
    "[[0  1   2  3]\n",
    " [4  5   6  7]\n",
    " [8  9  10 11]],\n",
    "\n",
    " [12 13 14 15]\n",
    "'''\n",
    "a, b = np.split(matrix, [3], axis= 0)\n",
    "\n",
    "print(a, \"\\n\")\n",
    "print(b, \"\\n\")\n",
    "\n",
    "\n",
    "# Q2. matrix를 [1] 열에서 axis 1로 나누기\n",
    "'''\n",
    "[[ 0]\n",
    " [ 4]\n",
    " [ 8]\n",
    " [12]],\n",
    "\n",
    "[[ 1  2  3]\n",
    " [ 5  6  7]\n",
    " [ 9 10 11]\n",
    " [13 14 15]]\n",
    "'''\n",
    "\n",
    "c, d = np.split(matrix, [1], axis = 1)\n",
    "\n",
    "print(c, \"\\n\")\n",
    "print(d)\n"
   ]
  },
  {
   "cell_type": "markdown",
   "id": "315e8646",
   "metadata": {},
   "source": [
    "Numpy 연산"
   ]
  },
  {
   "cell_type": "markdown",
   "id": "455caa95",
   "metadata": {},
   "source": [
    "루프는 느리다\n",
    "array의 모든 원소에 5를 더해서 만드는 함수"
   ]
  },
  {
   "cell_type": "code",
   "execution_count": 78,
   "id": "696f8f8e",
   "metadata": {},
   "outputs": [
    {
     "name": "stdout",
     "output_type": "stream",
     "text": [
      "[6 8 9 1 3]\n",
      "[11. 13. 14.  6.  8.]\n"
     ]
    }
   ],
   "source": [
    "def add_five_to_array(values):\n",
    "    output = np.empty(len(values))\n",
    "    for i in range(len(values)):\n",
    "        output[i] = values[i] + 5\n",
    "    return output\n",
    "\n",
    "values = np.random.randint(1, 10, size = 5)\n",
    "print(values) # [6 8 9 1 3]\n",
    "values = add_five_to_array(values)\n",
    "print(values) # [11. 13. 14.  6.  8.]"
   ]
  },
  {
   "cell_type": "markdown",
   "id": "4a6eec0b",
   "metadata": {},
   "source": [
    "루프는 느리다\n",
    "만약 array의 크기가 크다면..?"
   ]
  },
  {
   "cell_type": "code",
   "execution_count": 82,
   "id": "ac0bc30b",
   "metadata": {},
   "outputs": [
    {
     "name": "stdout",
     "output_type": "stream",
     "text": [
      "[ 7 82 24 ...  5 24 45]\n",
      "4.426518678665161\n",
      "[12. 87. 29. ... 10. 29. 50.]\n",
      "0.02590775489807129\n",
      "[17. 92. 34. ... 15. 34. 55.]\n"
     ]
    }
   ],
   "source": [
    "import time\n",
    "big_array = np.random.randint(1,100, size = 10000000)\n",
    "print(big_array)\n",
    "# 함수 구현부\n",
    "def add_five_to_array(values):\n",
    "    output = np.empty(len(values))\n",
    "    for i in range(len(values)):\n",
    "        output[i] = values[i] + 5\n",
    "    return output\n",
    "\n",
    "# 함수로 시간 체크\n",
    "start = time.time()\n",
    "big_array = add_five_to_array(big_array)\n",
    "end = time.time()\n",
    "print(end - start)\n",
    "print(big_array)\n",
    "\n",
    "# array식 시간체크\n",
    "start = time.time()\n",
    "big_array = big_array + 5\n",
    "end = time.time()\n",
    "print(end-start)\n",
    "print(big_array)"
   ]
  },
  {
   "cell_type": "markdown",
   "id": "8be45b21",
   "metadata": {},
   "source": [
    "기본 연산\n",
    "array는 +, -, *, / 에 대한 기본 연산을 지원한다"
   ]
  },
  {
   "cell_type": "code",
   "execution_count": 92,
   "id": "f6c52539",
   "metadata": {},
   "outputs": [
    {
     "name": "stdout",
     "output_type": "stream",
     "text": [
      "[0 1 2 3]\n",
      "[5 6 7 8]\n",
      "[0 1 2 3]\n",
      "[ 0  5 10 15]\n",
      "[0 1 2 3]\n",
      "[0. 1. 2. 3.]\n"
     ]
    }
   ],
   "source": [
    "x = np.arange(4)\n",
    "print(x) # [0 1 2 3]\n",
    "x += 5\n",
    "print(x) # [5 6 7 8]\n",
    "x -= 5\n",
    "print(x) # [0 1 2 3]\n",
    "x *= 5\n",
    "print(x) # [ 0  5 10 15]\n",
    "x //= 5\n",
    "print(x) # [0 1 2 3]\n",
    "x *= 5\n",
    "x = x / 5\n",
    "print(x) # [0. 1. 2. 3.]"
   ]
  },
  {
   "cell_type": "markdown",
   "id": "8e7b0ffe",
   "metadata": {},
   "source": [
    "행렬간 연산\n",
    "다차원 행렬에서도 적용가능하다."
   ]
  },
  {
   "cell_type": "code",
   "execution_count": 93,
   "id": "24066cdd",
   "metadata": {},
   "outputs": [
    {
     "name": "stdout",
     "output_type": "stream",
     "text": [
      "[[0 1]\n",
      " [2 3]]\n",
      "[[9 1]\n",
      " [4 7]]\n",
      "[[ 9  2]\n",
      " [ 6 10]]\n",
      "[[-9  0]\n",
      " [-2 -4]]\n"
     ]
    }
   ],
   "source": [
    "x = np.arange(4).reshape((2,2))\n",
    "y = np.random.randint(10, size =(2, 2))\n",
    "print(x)\n",
    "# [[0 1]\n",
    "#  [2 3]]\n",
    "\n",
    "print(y)\n",
    "# [[9 1]\n",
    "# [4 7]]\n",
    "\n",
    "print(x+y)\n",
    "# [[ 9  2]\n",
    "#  [ 6 10]]\n",
    "\n",
    "print(x-y)\n",
    "# [[-9  0]\n",
    "#  [-2 -4]]"
   ]
  },
  {
   "cell_type": "markdown",
   "id": "86d5bd4a",
   "metadata": {},
   "source": [
    "기본 연산\n",
    "Numpy의 배열에는 기본 연산이 지원됩니다.\n",
    "\n",
    "그리고 Numpy의 배열끼리도 연산을 수행할 수 있습니다.\n",
    "\n",
    "Numpy로 생성한 배열을 가지고 배열과 숫자, 배열과 배열 사이의 사칙연산을 해봅시다.\n",
    "\n",
    "\n",
    "문제\n",
    "Q1.\n",
    "\n",
    "array에 5를 더한 값을 출력하세요.\n",
    "\n",
    "array + 5\n",
    "Q2.\n",
    "\n",
    "array에 5를 뺀 값을 출력하세요.\n",
    "\n",
    "array - 5\n",
    "Q3.\n",
    "\n",
    "array에 5를 곱한 값을 출력하세요.\n",
    "\n",
    "array * 5\n",
    "Q4.\n",
    "\n",
    "array를 5로 나눈 값을 출력하세요.\n",
    "\n",
    "array / 5\n",
    "Q5.\n",
    "\n",
    "array에 array2를 더한 값을 출력하세요.\n",
    "\n",
    "array + array2\n",
    "Q6.\n",
    "\n",
    "array에 array2를 뺀 값을 출력하세요.\n",
    "\n",
    "array - array2"
   ]
  },
  {
   "cell_type": "code",
   "execution_count": 94,
   "id": "8830126d",
   "metadata": {},
   "outputs": [
    {
     "name": "stdout",
     "output_type": "stream",
     "text": [
      "[1 2 3 4 5]\n",
      "[ 6  7  8  9 10]\n",
      "[-4 -3 -2 -1  0]\n",
      "[ 5 10 15 20 25]\n",
      "[0.2 0.4 0.6 0.8 1. ]\n",
      "[6 6 6 6 6]\n",
      "[-4 -2  0  2  4]\n"
     ]
    }
   ],
   "source": [
    "import numpy as np\n",
    "\n",
    "array = np.array([1,2,3,4,5])\n",
    "print(array)\n",
    "\n",
    "\n",
    "# Q1. array에 5를 더한 값을 출력해보세요.\n",
    "print(array + 5)\n",
    "\n",
    "# Q2. array에 5를 뺀 값을 출력해보세요.\n",
    "print(array - 5)\n",
    "\n",
    "# Q3. array에 5를 곱한 값을 출력해보세요.\n",
    "print(array * 5)\n",
    "\n",
    "# Q4. array를 5로 나눈 값을 출력해보세요.\n",
    "print (array / 5)\n",
    "\n",
    "\n",
    "# Q5. array에 array2를 더한 값을 출력해보세요.    \n",
    "array2 = np.array([5,4,3,2,1])\n",
    "print(array + array2)\n",
    "\n",
    "\n",
    "# Q6. array에 array2를 뺀 값을 출력해보세요.\n",
    "print(array - array2)\n",
    "\n"
   ]
  },
  {
   "cell_type": "markdown",
   "id": "575b5afa",
   "metadata": {},
   "source": [
    "브로드캐스팅"
   ]
  },
  {
   "cell_type": "markdown",
   "id": "efe72bea",
   "metadata": {},
   "source": [
    "브로드캐스팅\n",
    "Broadcasting : shape이 다른 array끼리 연산\n",
    "          \n",
    "            matrix + 5\n",
    "           \n",
    "   2  4  2                7  9  7\n",
    "   6  5  9       5        11 10 14\n",
    "   9  4  7                14  9 12"
   ]
  },
  {
   "cell_type": "markdown",
   "id": "fab2a2c8",
   "metadata": {},
   "source": [
    "         matrix + np.array([1, 2, 3])\n",
    "\n",
    "2   4   2                     3   6   5\n",
    "6   5   9        1  2  3      7   7  12\n",
    "9   4   7                     10  6  10"
   ]
  },
  {
   "cell_type": "markdown",
   "id": "0cacb7ce",
   "metadata": {},
   "source": [
    "     np.arange(3).reshape((3,1)) + np.arange(3)\n",
    "\n",
    "0                     0 1 2       0  1  2\n",
    "1                                 1  2  3\n",
    "2                                 2  3  4"
   ]
  },
  {
   "cell_type": "markdown",
   "id": "1a1eaba1",
   "metadata": {},
   "source": [
    "브로드캐스팅\n",
    "Numpy로 생성한 배열의 크기가 다를 경우 연산을 하게 되면 결과가 어떻게 출력될까요?\n",
    "\n",
    "이럴경우 Numpy에서는 브로드캐스팅이라는 연산 방식으로 처리합니다.\n",
    "\n",
    "아래의 출력 결과를 만들기 위해 지시사항을 따라 코딩해주세요.\n",
    "\n",
    "출력 예시\n",
    "\n",
    "[[ 0  1  2  3  4  5]\n",
    " [ 1  2  3  4  5  6]\n",
    " [ 2  3  4  5  6  7]\n",
    " [ 3  4  5  6  7  8]\n",
    " [ 4  5  6  7  8  9]\n",
    " [ 5  6  7  8  9 10]]\n",
    "\n",
    "문제\n",
    "[[0]\n",
    " [1]\n",
    " [2]\n",
    " [3]\n",
    " [4]\n",
    "\n",
    " [5]]\n",
    "     \n",
    "[0 1 2 3 4 5]\n",
    "인 numpy 배열을 브로드캐스팅을 이용하여 덧셈하고 결과를 출력해봅시다!\n",
    "\n",
    "두 배열의 변수 이름은 각각 A, B 여야 합니다.\n",
    "\n",
    "예시\n",
    "A = np.arange(6).reshape(6,1)\n",
    "B = np.arange(6)\n",
    "print(A+B)\n",
    "모양이 다른 두 배열 A와 B를 덧셈 연산할 때 브로드캐스팅이 적용됩니다."
   ]
  },
  {
   "cell_type": "code",
   "execution_count": 95,
   "id": "f2cda955",
   "metadata": {},
   "outputs": [
    {
     "name": "stdout",
     "output_type": "stream",
     "text": [
      "[[ 0  1  2  3  4  5]\n",
      " [ 1  2  3  4  5  6]\n",
      " [ 2  3  4  5  6  7]\n",
      " [ 3  4  5  6  7  8]\n",
      " [ 4  5  6  7  8  9]\n",
      " [ 5  6  7  8  9 10]]\n"
     ]
    }
   ],
   "source": [
    "import numpy as np\n",
    "\n",
    "'''\n",
    "[[0]\n",
    " [1]\n",
    " [2]\n",
    " [3]\n",
    " [4]\n",
    " [5]] 배열 A와\n",
    "\n",
    " [0 1 2 3 4 5] 배열 B를 선언하고, 덧셈 연산해보세요.\n",
    "'''\n",
    "A = np.arange(6).reshape((6,1))\n",
    "B = np.arange(6)\n",
    "print(A+B)"
   ]
  },
  {
   "cell_type": "markdown",
   "id": "0510699d",
   "metadata": {},
   "source": [
    "집계함수 & 마스킹 연산"
   ]
  },
  {
   "cell_type": "markdown",
   "id": "1406f1c0",
   "metadata": {},
   "source": [
    "집계함수\n",
    "집계 : 데이터에 대한 요약 통계를 볼 수 있다"
   ]
  },
  {
   "cell_type": "code",
   "execution_count": 103,
   "id": "6d2c510a",
   "metadata": {
    "scrolled": true
   },
   "outputs": [
    {
     "name": "stdout",
     "output_type": "stream",
     "text": [
      "[[0 1 2 3]\n",
      " [4 5 6 7]]\n",
      "28\n",
      "0\n",
      "7\n",
      "3.5\n",
      "2.29128784747792\n",
      "[ 4  6  8 10]\n",
      "[ 6 22]\n"
     ]
    }
   ],
   "source": [
    "x = np.arange(8).reshape((2,4))\n",
    "print(x)\n",
    "# [[0 1 2 3]\n",
    "#  [4 5 6 7]]\n",
    "print(np.sum(x))\n",
    "# 28\n",
    "print(np.min(x))\n",
    "# 0\n",
    "print(np.max(x))\n",
    "# 7\n",
    "print(np.mean(x))\n",
    "# 3.5\n",
    "\n",
    "# 표준편차\n",
    "print(np.std(x))\n",
    "# 2.29128784747792\n",
    "\n",
    "print(np.sum(x, axis = 0))\n",
    "# [ 4  6  8 10]\n",
    "\n",
    "print(np.sum(x, axis = 1))\n",
    "# [ 6, 22]"
   ]
  },
  {
   "cell_type": "markdown",
   "id": "54df63c9",
   "metadata": {},
   "source": [
    "마스킹 연산\n",
    "마스킹 연산 : True, False array를 통해서\n",
    "            특정 값을 뽑아내는 방법"
   ]
  },
  {
   "cell_type": "code",
   "execution_count": 108,
   "id": "85bb9572",
   "metadata": {},
   "outputs": [
    {
     "name": "stdout",
     "output_type": "stream",
     "text": [
      "[0 1 2 3 4]\n",
      "[ True  True  True False False]\n",
      "[False False False False False]\n",
      "[0 1 2]\n"
     ]
    }
   ],
   "source": [
    "x = np.arange(5)\n",
    "print(x) # [0 1 2 3 4]\n",
    "\n",
    "print(x<3) # [ True  True  True False False]\n",
    "\n",
    "print(x>5) # [False False False False False]\n",
    "\n",
    "print(x[x < 3]) # [0 1 2]"
   ]
  },
  {
   "cell_type": "markdown",
   "id": "a0681da2",
   "metadata": {},
   "source": [
    "집계함수 & 마스킹연산\n",
    "집계함수 sum(), min(), max(), mean() 등을 활용하여 배열에 있는 요약 통계를 확인해 봅시다.\n",
    "\n",
    "이 집계함수들은 numpy 패키지 안에 있으며, 함수 안에 배열 이름을 넣으면 해당 배열의 요약 통계량을 구할 수 있습니다.\n",
    "\n",
    "마스킹 연산은 조건식을 통해 배열에서 원하는 값을 추출할 수 있습니다.\n",
    "\n",
    "집계함수 와 마스킹연산은 함께 활용되는 일이 많으니 잘 알아두셔야 합니다.\n",
    "\n",
    "\n",
    "문제\n",
    "Q1.\n",
    "\n",
    "sum 함수로 matrix의 총 합계를 구해 출력해보세요.\n",
    "\n",
    "np.sum(matrix)\n",
    "Q2.\n",
    "\n",
    "max 함수로 matrix 중 최댓값을 구해 출력해보세요.\n",
    "\n",
    "np.max(matrix)\n",
    "Q3.\n",
    "\n",
    "min 함수로 matrix 중 최솟값을 구해 출력해보세요.\n",
    "\n",
    "np.min(matrix)\n",
    "Q4.\n",
    "\n",
    "mean 함수로 matrix의 평균값을 구해 출력해보세요.\n",
    "\n",
    "np.mean(matrix)\n",
    "Q5.\n",
    "\n",
    "sum 함수의 axis 매개변수로 각 열의 합을 구해 출력해보세요.\n",
    "\n",
    "np.sum(matrix, axis=0)\n",
    "Q6.\n",
    "\n",
    "sum 함수의 axis 매개변수로 각 행의 합을 구해 출력해보세요.\n",
    "\n",
    "np.sum(matrix, axis=1)\n",
    "Q7.\n",
    "\n",
    "std 함수로 matrix의 표준편차를 구해 출력해보세요.\n",
    "\n",
    "np.std(matrix)\n",
    "Q8.\n",
    "\n",
    "마스킹 연산을 이용하여 matrix 중 5보다 작은 수들만 추출하여 출력해보세요.\n",
    "\n",
    "print(matrix[matrix<5])"
   ]
  },
  {
   "cell_type": "code",
   "execution_count": 109,
   "id": "9e197835",
   "metadata": {},
   "outputs": [
    {
     "name": "stdout",
     "output_type": "stream",
     "text": [
      "[[0 1 2 3]\n",
      " [4 5 6 7]]\n",
      "28\n",
      "7\n",
      "0\n",
      "3.5\n",
      "[ 4  6  8 10]\n",
      "[ 6 22]\n",
      "2.29128784747792\n",
      "[0 1 2 3 4]\n"
     ]
    }
   ],
   "source": [
    "import numpy as np\n",
    "\n",
    "matrix = np.arange(8).reshape((2, 4))\n",
    "print(matrix)\n",
    "\n",
    "# Q1. sum 함수로 matrix의 총 합계를 구해 출력해보세요.\n",
    "print(np.sum(matrix))\n",
    "\n",
    "# Q2. max 함수로 matrix 중 최댓값을 구해 출력해보세요.\n",
    "print(np.max(matrix))\n",
    "\n",
    "# Q3. min 함수로 matrix 중 최솟값을 구해 출력해보세요.\n",
    "print(np.min(matrix))\n",
    "\n",
    "# Q4. mean 함수로 matrix의 평균값을 구해 출력해보세요.\n",
    "print(np.mean(matrix))\n",
    "\n",
    "# Q5. sum 함수의 axis 매개변수로 각 열의 합을 구해 출력해보세요.\n",
    "print(np.sum(matrix, axis = 0))\n",
    "\n",
    "# Q6. sum 함수의 axis 매개변수로 각 행의 합을 구해 출력해보세요.\n",
    "print(np.sum(matrix, axis = 1))\n",
    "\n",
    "\n",
    "# Q7. std 함수로 matrix의 표준편차를 구해 출력해보세요.\n",
    "print(np.std(matrix))\n",
    "\n",
    "\n",
    "# Q8. 마스킹 연산을 이용하여 matrix 중 5보다 작은 수들만 추출하여 출력해보세요.\n",
    "print(matrix[matrix<5])"
   ]
  },
  {
   "cell_type": "markdown",
   "id": "70241836",
   "metadata": {},
   "source": [
    "배열의 황제! Numpy\n",
    "고성능의 수치 계산을 위해 만들어진 라이브러리\n",
    "Numpy\n",
    "\n",
    "Numpy가 널리쓰이고 강력하다는 말을 듣게 해주는 것은 바로 ndarry의 힘이라고 봐도 과언이 아닙니다.\n",
    "\n",
    "numpy 라이브러리는 효율적인 데이터분석이 가능하도록 N차원의 배열 객체를 지원합니다.\n",
    "\n",
    "numpy library에서 자주 사용되는 함수들로는\n",
    "\n",
    "np.array - 배열생성\n",
    "np.zeros - 0이 들어있는 배열 생성\n",
    "np.ones - 1이 들어있는 배열 생성\n",
    "np.empty - 초기화되어 있지 않은 값이 들어있는 배열 반환\n",
    "np.arange(n) - 배열 버전의 range 함수\n",
    "\n",
    "가 있습니다."
   ]
  }
 ],
 "metadata": {
  "kernelspec": {
   "display_name": "Python 3",
   "language": "python",
   "name": "python3"
  },
  "language_info": {
   "codemirror_mode": {
    "name": "ipython",
    "version": 3
   },
   "file_extension": ".py",
   "mimetype": "text/x-python",
   "name": "python",
   "nbconvert_exporter": "python",
   "pygments_lexer": "ipython3",
   "version": "3.8.8"
  }
 },
 "nbformat": 4,
 "nbformat_minor": 5
}
