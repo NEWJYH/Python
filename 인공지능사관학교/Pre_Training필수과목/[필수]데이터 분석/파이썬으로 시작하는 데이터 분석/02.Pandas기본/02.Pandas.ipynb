{
 "cells": [
  {
   "cell_type": "markdown",
   "id": "df72df84",
   "metadata": {},
   "source": [
    "Pandas"
   ]
  },
  {
   "cell_type": "markdown",
   "id": "2d978c84",
   "metadata": {},
   "source": [
    "Pandas\n",
    "구조화된 데이터를 \n",
    "효과적으로 처리하고 저장할 수 있는 파이썬 라이브러리.\n",
    "Array 계산에 특화된 numpy를 기반으로 만들어져서 다양한 기능들을 제공한다."
   ]
  },
  {
   "cell_type": "markdown",
   "id": "e9738148",
   "metadata": {},
   "source": [
    "Series\n",
    "Series : numpy array가 보강된 형태 Data와 Index를 가지고 있다."
   ]
  },
  {
   "cell_type": "code",
   "execution_count": 1,
   "id": "f4de6cd1",
   "metadata": {},
   "outputs": [
    {
     "name": "stdout",
     "output_type": "stream",
     "text": [
      "0    1\n",
      "1    2\n",
      "2    3\n",
      "3    4\n",
      "dtype: int64\n"
     ]
    }
   ],
   "source": [
    "import pandas as pd\n",
    "\n",
    "data = pd.Series([1,2,3,4])\n",
    "\n",
    "print(data)\n",
    "# 인덱스 데이터\n",
    "# 0    1\n",
    "# 1    2\n",
    "# 2    3\n",
    "# 3    4\n",
    "# dtype: int64 \n",
    "# 데이터 타입"
   ]
  },
  {
   "cell_type": "markdown",
   "id": "49e4d0d3",
   "metadata": {},
   "source": [
    "Series\n",
    "인덱스를 가지고 있고 인덱스로 접근 가능하다."
   ]
  },
  {
   "cell_type": "code",
   "execution_count": 3,
   "id": "578ddd1f",
   "metadata": {},
   "outputs": [
    {
     "name": "stdout",
     "output_type": "stream",
     "text": [
      "2\n",
      "a    1\n",
      "b    2\n",
      "c    3\n",
      "d    4\n",
      "dtype: int64\n"
     ]
    }
   ],
   "source": [
    "import pandas as pd\n",
    "\n",
    "data = pd.Series([1,2,3,4], index = ['a','b','c','d'])\n",
    "print(data['b']) # 2\n",
    "\n",
    "print(data)\n",
    "# 인덱스 데이터\n",
    "# a    1\n",
    "# b    2\n",
    "# c    3\n",
    "# d    4\n",
    "# dtype: int64"
   ]
  },
  {
   "cell_type": "markdown",
   "id": "b6bbbe87",
   "metadata": {},
   "source": [
    "Series\n",
    "딕셔너리로 만들 수 있다."
   ]
  },
  {
   "cell_type": "code",
   "execution_count": 3,
   "id": "943e0eac",
   "metadata": {},
   "outputs": [
    {
     "name": "stdout",
     "output_type": "stream",
     "text": [
      "korea      5180\n",
      "japan     12718\n",
      "china    141500\n",
      "usa       32676\n",
      "dtype: int64\n",
      "[  5180  12718 141500  32676]\n",
      "Index(['korea', 'japan', 'china', 'usa'], dtype='object')\n"
     ]
    }
   ],
   "source": [
    "import pandas as pd\n",
    "\n",
    "# 딕셔너리 생성\n",
    "population_dict = {\n",
    "    'korea': 5180,\n",
    "    'japan': 12718,\n",
    "    'china': 141500,\n",
    "    'usa':32676\n",
    "}\n",
    "\n",
    "population = pd.Series(population_dict)\n",
    "print(population)\n",
    "#  key = index value = data\n",
    "# korea      5180\n",
    "# japan     12718\n",
    "# chian    141500\n",
    "# usa       32676\n",
    "# dtype: int64\n",
    "\n",
    "print(population.values)\n",
    "# numpy array로 나옴\n",
    "# [  5180  12718 141500  32676]\n",
    "\n",
    "print(population.keys())\n",
    "# Index(['korea', 'japan', 'chian', 'usa'], dtype='object')"
   ]
  },
  {
   "cell_type": "markdown",
   "id": "58bf2f60",
   "metadata": {},
   "source": [
    "Series 데이터\n",
    "Series 데이터란 Numpy array가 보강된 형태로, Data와 index를 가지고 있는 데이터 형식입니다.\n",
    "\n",
    "주어진 예시는 Series 데이터를 만드는 방법입니다.\n",
    "\n",
    "이번 실습에서는 딕셔너리를 이용해서 인덱스와 값을 지정하여 Series 데이터를 직접 만들어봅시다.\n",
    "\n",
    "딕셔너리의 값은 다음과 같습니다.\n",
    "\n",
    "예시\n",
    "korea : 5180\n",
    "japan : 12718\n",
    "china : 141500\n",
    "usa : 32676\n",
    "Copy\n",
    "\n",
    "지시사항\n",
    "딕셔너리를 이용하여 국가별 인구 수 데이터를 시리즈로 만들어 country라는 변수에 저장해주세요.\n",
    "\n",
    "그 다음 country 변수를 출력해주세요.\n",
    "\n",
    "Tip!\n",
    "pandas의 Series 객체를 만들기 위해, ‘값’과 ‘인덱스’ 매개변수를 각각 넣어주는 방법도 있고,\n",
    "\n",
    "딕셔너리를 매개변수로 넣어주는 방법도 있습니다"
   ]
  },
  {
   "cell_type": "code",
   "execution_count": 4,
   "id": "9a75bec7",
   "metadata": {},
   "outputs": [
    {
     "name": "stdout",
     "output_type": "stream",
     "text": [
      "a    1\n",
      "b    2\n",
      "c    3\n",
      "d    4\n",
      "Name: Title, dtype: int64 \n",
      "\n",
      "korea      5180\n",
      "japan     12718\n",
      "china    141500\n",
      "usa       32676\n",
      "dtype: int64\n"
     ]
    }
   ],
   "source": [
    "import numpy as np\n",
    "import pandas as pd\n",
    "\n",
    "# 예시) 시리즈 데이터를 만드는 방법.\n",
    "series = pd.Series([1,2,3,4], index = ['a', 'b', 'c', 'd'], name=\"Title\")\n",
    "print(series, \"\\n\")\n",
    "\n",
    "\n",
    "# 국가별 인구 수 시리즈 데이터를 딕셔너리를 사용하여 만들어보세요.\n",
    "\n",
    "# 딕셔너리 생성\n",
    "population = {\n",
    "    'korea' : 5180,\n",
    "    'japan' : 12718,\n",
    "    'china' : 141500,\n",
    "    'usa' : 32676\n",
    "}\n",
    "\n",
    "country = pd.Series(population)\n",
    "print(country)\n"
   ]
  },
  {
   "cell_type": "markdown",
   "id": "3b13a0ec",
   "metadata": {},
   "source": [
    "DataFrame\n",
    "여러 개의 Series가 모여서 행과 열을 이룬 데이터"
   ]
  },
  {
   "cell_type": "code",
   "execution_count": 5,
   "id": "fa0a56c4",
   "metadata": {},
   "outputs": [
    {
     "name": "stdout",
     "output_type": "stream",
     "text": [
      "korea     169320000\n",
      "japan     516700000\n",
      "china    1409250000\n",
      "usa      2041280000\n",
      "dtype: int64\n",
      "korea      5180\n",
      "japan     12718\n",
      "china    141500\n",
      "usa       32676\n",
      "dtype: int64\n",
      "       population         gdp\n",
      "korea        5180   169320000\n",
      "japan       12718   516700000\n",
      "china      141500  1409250000\n",
      "usa         32676  2041280000\n"
     ]
    }
   ],
   "source": [
    "import pandas as pd\n",
    "\n",
    "# 딕셔너리 생성\n",
    "gdp_dict = {\n",
    "    'korea': 169320000,\n",
    "    'japan': 516700000,\n",
    "    'china': 1409250000,\n",
    "    'usa': 2041280000,\n",
    "}\n",
    "# Series\n",
    "gdp = pd.Series(gdp_dict)\n",
    "print(gdp)\n",
    "# korea     169320000\n",
    "# japan     516700000\n",
    "# china    1409250000\n",
    "# usa      2041280000\n",
    "# dtype: int64\n",
    "\n",
    "# 딕셔너리 생성\n",
    "population_dict = {\n",
    "    'korea': 5180,\n",
    "    'japan': 12718,\n",
    "    'china': 141500,\n",
    "    'usa':32676\n",
    "}\n",
    "population = pd.Series(population_dict)\n",
    "print(population)\n",
    "# korea      5180\n",
    "# japan     12718\n",
    "# chian    141500\n",
    "# usa       32676\n",
    "# dtype: int64\n",
    "\n",
    "# DataFrame\n",
    "country = pd.DataFrame({\n",
    "    'population' : population,\n",
    "    'gdp': gdp\n",
    "})\n",
    "print(country)\n",
    "\n",
    "# 키(index) #\n",
    "#        population         gdp\n",
    "# korea        5180   169320000\n",
    "# japan       12718   516700000\n",
    "# china      141500  1409250000\n",
    "# usa         32676  2041280000"
   ]
  },
  {
   "cell_type": "markdown",
   "id": "2aff4847",
   "metadata": {},
   "source": [
    "DataFrame\n",
    "딕셔너리로 만들 수 있다."
   ]
  },
  {
   "cell_type": "code",
   "execution_count": 6,
   "id": "e64d449b",
   "metadata": {},
   "outputs": [
    {
     "data": {
      "text/plain": [
       "Index(['korea', 'japan', 'china', 'usa'], dtype='object')"
      ]
     },
     "execution_count": 6,
     "metadata": {},
     "output_type": "execute_result"
    }
   ],
   "source": [
    "country.index"
   ]
  },
  {
   "cell_type": "code",
   "execution_count": 7,
   "id": "89a11d7c",
   "metadata": {},
   "outputs": [
    {
     "data": {
      "text/plain": [
       "Index(['population', 'gdp'], dtype='object')"
      ]
     },
     "execution_count": 7,
     "metadata": {},
     "output_type": "execute_result"
    }
   ],
   "source": [
    "country.columns"
   ]
  },
  {
   "cell_type": "code",
   "execution_count": 8,
   "id": "1be8d9f9",
   "metadata": {},
   "outputs": [
    {
     "data": {
      "text/plain": [
       "korea     169320000\n",
       "japan     516700000\n",
       "china    1409250000\n",
       "usa      2041280000\n",
       "Name: gdp, dtype: int64"
      ]
     },
     "execution_count": 8,
     "metadata": {},
     "output_type": "execute_result"
    }
   ],
   "source": [
    "country['gdp']"
   ]
  },
  {
   "cell_type": "code",
   "execution_count": 9,
   "id": "6dbc9f5c",
   "metadata": {},
   "outputs": [
    {
     "data": {
      "text/plain": [
       "pandas.core.series.Series"
      ]
     },
     "execution_count": 9,
     "metadata": {},
     "output_type": "execute_result"
    }
   ],
   "source": [
    "type(country['gdp'])"
   ]
  },
  {
   "cell_type": "markdown",
   "id": "2ff76f2a",
   "metadata": {},
   "source": [
    "DataFrame\n",
    "Seires도 numpy array처럼 연산자를 쓸 수 있다."
   ]
  },
  {
   "cell_type": "code",
   "execution_count": 13,
   "id": "1a23c10b",
   "metadata": {},
   "outputs": [
    {
     "name": "stdout",
     "output_type": "stream",
     "text": [
      "0    32687.258687\n",
      "1    40627.457147\n",
      "2     9959.363958\n",
      "3    62470.314604\n",
      "Name: gdp per capita, dtype: float64\n",
      "  Unnamed: 0  population         gdp  gdp per capita\n",
      "0      korea        5180   169320000    32687.258687\n",
      "1      japan       12718   516700000    40627.457147\n",
      "2      china      141500  1409250000     9959.363958\n",
      "3        usa       32676  2041280000    62470.314604\n"
     ]
    }
   ],
   "source": [
    "gdp_per_capita = country['gdp'] / country['population']\n",
    "\n",
    "country['gdp per capita'] = gdp_per_capita\n",
    "print(country['gdp per capita'])\n",
    "# korea    32687.258687\n",
    "# japan    40627.457147\n",
    "# china     9959.363958\n",
    "# usa      62470.314604\n",
    "# Name: gdp per capita, dtype: float64\n",
    "\n",
    "print(country)\n",
    "#        population       gdp    gdp per capita\n",
    "# korea        5180   169320000    32687.258687\n",
    "# japan       12718   516700000    40627.457147\n",
    "# china      141500  1409250000     9959.363958\n",
    "# usa         32676  2041280000    62470.314604"
   ]
  },
  {
   "cell_type": "markdown",
   "id": "7bcd1335",
   "metadata": {},
   "source": [
    "저장과 불러오기\n",
    "만든 데이터 프레임을 저장할 수 있다."
   ]
  },
  {
   "cell_type": "code",
   "execution_count": 19,
   "id": "52c1a379",
   "metadata": {},
   "outputs": [
    {
     "name": "stdout",
     "output_type": "stream",
     "text": [
      "   Unnamed: 0  Unnamed: 0.1  Unnamed: 0.1.1  Unnamed: 0.1.1.1  \\\n",
      "0           0             0               0                 0   \n",
      "1           1             1               1                 1   \n",
      "2           2             2               2                 2   \n",
      "3           3             3               3                 3   \n",
      "\n",
      "   Unnamed: 0.1.1.1.1  Unnamed: 0.1.1.1.1.1 Unnamed: 0.1.1.1.1.1.1  \\\n",
      "0                   0                     0                  korea   \n",
      "1                   1                     1                  japan   \n",
      "2                   2                     2                  china   \n",
      "3                   3                     3                    usa   \n",
      "\n",
      "   population         gdp  gdp per capita  \n",
      "0        5180   169320000    32687.258687  \n",
      "1       12718   516700000    40627.457147  \n",
      "2      141500  1409250000     9959.363958  \n",
      "3       32676  2041280000    62470.314604  \n",
      "<class 'pandas.core.frame.DataFrame'>\n"
     ]
    }
   ],
   "source": [
    "# 저장하기\n",
    "country.to_csv(\"./pandas02country.csv\",encoding=\"utf-8\")\n",
    "# comma seperate values\n",
    "country.to_excel(\"./pandas02country.xlsx\",encoding=\"utf-8\")\n",
    "\n",
    "# 읽어오기\n",
    "country = pd.read_csv(\"./pandas02country.csv\")\n",
    "country = pd.read_excel(\"./pandas02country.xlsx\")\n",
    "# 데이터 프레임 형태로 읽어온다.\n",
    "print(country)\n",
    "print(type(country))\n",
    "# <class 'pandas.core.frame.DataFrame'>"
   ]
  },
  {
   "cell_type": "markdown",
   "id": "76b85cd2",
   "metadata": {},
   "source": [
    "DataFrame\n",
    "시리즈 데이터는 하나의 컬럼 값으로 이루어진 반면 데이터 프레임은 여러 개의 컬럼 값을 가질 수 있습니다.\n",
    "\n",
    "이번 실습에서는 여러 개의 시리즈 데이터를 이용하여 데이터 프레임을 만드는 법을 배워봅니다.\n",
    "\n",
    "오른쪽 예제에 있는 국가별 GDP 시리즈 데이터와, 국가별 인구 시리즈 데이터를 이용하여 GDP와 인구 데이터를 모두 나타내는 데이터 프레임을 만들어 보세요!\n",
    "\n",
    "\n",
    "지시사항\n",
    "Q1.\n",
    "\n",
    "국가별 인구를 나타내는 시리즈 데이터인 population과 국가별 GDP를 나타내는 시리즈 데이터인 gdp가 있습니다.\n",
    "\n",
    "두 시리즈 데이터로 country라는 데이터 프레임을 만드세요. 반드시 population, gdp의 순서로 만들어주셔야 합니다.\n",
    "\n",
    "Q2.\n",
    "\n",
    "country의 두 컬럼을 이용하여 새로운 컬럼을 만들고자 합니다.\n",
    "\n",
    "1인당 GDP 를 나타내는 새로운 컬럼인 gdp per capita를 데이터 프레임에 추가해보세요.\n",
    "\n",
    "1인당 GDP는 gdp와 population을 나누어 얻을 수 있습니다.\n",
    "\n",
    "완성한 데이터 프레임을 출력해보세요!\n",
    "\n",
    "Tip!\n",
    "데이터 프레임 country의 인덱스, 컬럼도 확인해보세요!\n",
    "\n",
    "country.index\n",
    "country.columns"
   ]
  },
  {
   "cell_type": "code",
   "execution_count": 27,
   "id": "3d1995a8",
   "metadata": {},
   "outputs": [
    {
     "name": "stdout",
     "output_type": "stream",
     "text": [
      "Population series data:\n",
      "korea      5180\n",
      "japan     12718\n",
      "china    141500\n",
      "usa       32676\n",
      "dtype: int64 \n",
      "\n",
      "GDP series data:\n",
      "korea     169320000\n",
      "japan     516700000\n",
      "china    1409250000\n",
      "usa      2041280000\n",
      "dtype: int64 \n",
      "\n",
      "Country DataFrame\n",
      "       population         gdp  gdp per capita\n",
      "korea        5180   169320000    32687.258687\n",
      "japan       12718   516700000    40627.457147\n",
      "china      141500  1409250000     9959.363958\n",
      "usa         32676  2041280000    62470.314604\n",
      "Index(['korea', 'japan', 'china', 'usa'], dtype='object')\n",
      "Index(['population', 'gdp', 'gdp per capita'], dtype='object')\n"
     ]
    }
   ],
   "source": [
    "import numpy as np\n",
    "import pandas as pd\n",
    "\n",
    "# 두 개의 시리즈 데이터가 있습니다.\n",
    "print(\"Population series data:\")\n",
    "population_dict = {\n",
    "    'korea': 5180,\n",
    "    'japan': 12718,\n",
    "    'china': 141500,\n",
    "    'usa': 32676\n",
    "}\n",
    "population = pd.Series(population_dict)\n",
    "print(population, \"\\n\")\n",
    "\n",
    "print(\"GDP series data:\")\n",
    "gdp_dict = {\n",
    "    'korea': 169320000,\n",
    "    'japan': 516700000,\n",
    "    'china': 1409250000,\n",
    "    'usa': 2041280000,\n",
    "}\n",
    "gdp = pd.Series(gdp_dict)\n",
    "print(gdp, \"\\n\")\n",
    "\n",
    "\n",
    "# 이곳에서 2개의 시리즈 값이 들어간 데이터프레임을 생성합니다.\n",
    "print(\"Country DataFrame\")\n",
    "country = pd.DataFrame({\n",
    "    \"population\" : population,\n",
    "    \"gdp\" : gdp,\n",
    "}) \n",
    "\n",
    "\n",
    "# 데이터 프레임에 gdp per capita 칼럼을 추가하고 출력합니다.\n",
    "gdp_per_capita = country[\"gdp\"] / country[\"population\"]\n",
    "country['gdp per capita'] = gdp_per_capita\n",
    "print(country)\n",
    "# 데이터 프레임을 만들었다면, index와 column도 각각 확인해보세요.\n",
    "print(country.index)\n",
    "print(country.columns)"
   ]
  },
  {
   "cell_type": "markdown",
   "id": "f48e8812",
   "metadata": {},
   "source": [
    "Indexing & Slicing"
   ]
  },
  {
   "cell_type": "markdown",
   "id": "2cd5f832",
   "metadata": {},
   "source": [
    "Indexing & Slicing\n",
    "loc : 명시적인 인덱스를 참조하는 인덱싱 / 슬라이싱"
   ]
  },
  {
   "cell_type": "code",
   "execution_count": 29,
   "id": "94e50bb2",
   "metadata": {},
   "outputs": [
    {
     "name": "stdout",
     "output_type": "stream",
     "text": [
      "       population         gdp  gdp per capita\n",
      "korea        5180   169320000    32687.258687\n",
      "japan       12718   516700000    40627.457147\n",
      "china      141500  1409250000     9959.363958\n",
      "usa         32676  2041280000    62470.314604\n",
      "population        1.415000e+05\n",
      "gdp               1.409250e+09\n",
      "gdp per capita    9.959364e+03\n",
      "Name: china, dtype: float64\n",
      "       population\n",
      "korea        5180\n",
      "japan       12718\n"
     ]
    }
   ],
   "source": [
    "print(country)\n",
    "#        population         gdp  gdp per capita\n",
    "# korea        5180   169320000    32687.258687\n",
    "# japan       12718   516700000    40627.457147\n",
    "# china      141500  1409250000     9959.363958\n",
    "# usa         32676  2041280000    62470.314604\n",
    "\n",
    "# 인덱싱\n",
    "print(country.loc[\"china\"])\n",
    "# population        1.415000e+05 \n",
    "# gdp               1.409250e+09 # 과학적 표기법 e+09 x10^9\n",
    "# gdp per capita    9.959364e+03\n",
    "# Name: china, dtype: float64\n",
    "\n",
    "# 슬라이싱\n",
    "print(country.loc[\"korea\":\"japan\",:\"population\"])\n",
    "# korea에서 japan까지 population포함 값까지만 \n",
    "#        population\n",
    "# korea        5180\n",
    "# japan       12718"
   ]
  },
  {
   "cell_type": "markdown",
   "id": "e58f0fa1",
   "metadata": {},
   "source": [
    "Indexing / Slicing\n",
    "iloc : 파이썬 스타일 정수 인덱스 인덱싱 / 슬라이싱"
   ]
  },
  {
   "cell_type": "code",
   "execution_count": 32,
   "id": "860afdc1",
   "metadata": {},
   "outputs": [
    {
     "name": "stdout",
     "output_type": "stream",
     "text": [
      "       population         gdp  gdp per capita\n",
      "korea        5180   169320000    32687.258687\n",
      "japan       12718   516700000    40627.457147\n",
      "china      141500  1409250000     9959.363958\n",
      "usa         32676  2041280000    62470.314604\n",
      "population        5.180000e+03\n",
      "gdp               1.693200e+08\n",
      "gdp per capita    3.268726e+04\n",
      "Name: korea, dtype: float64\n",
      "       population         gdp\n",
      "japan       12718   516700000\n",
      "china      141500  1409250000\n"
     ]
    }
   ],
   "source": [
    "print(country)\n",
    "\n",
    "#                0               1            2\n",
    "#            population         gdp  gdp per capita\n",
    "# 0  korea        5180   169320000    32687.258687\n",
    "# 1  japan       12718   516700000    40627.457147\n",
    "# 2  china      141500  1409250000     9959.363958\n",
    "# 3  usa         32676  2041280000    62470.314604\n",
    "\n",
    "\n",
    "print(country.iloc[0])\n",
    "# 0번째 인덱스 population\n",
    "# 0번째 인덱스 korea\n",
    "# population        5.180000e+03\n",
    "# gdp               1.693200e+08\n",
    "# gdp per capita    3.268726e+04\n",
    "# Name: korea, dtype: float64\n",
    "\n",
    "#                axis = 0 , axis =1 \n",
    "print(country.iloc[1:3,:2])\n",
    "# 1부터 2까지 japan부터 china\n",
    "# 0:2 -> 0 1 \n",
    "#        population         gdp\n",
    "# japan       12718   516700000\n",
    "# china      141500  1409250000\n",
    "\n",
    "# ix [] <- 명시적 암묵적 혼합 사용 지금은 지원 중단됨"
   ]
  },
  {
   "cell_type": "markdown",
   "id": "1255fd00",
   "metadata": {},
   "source": [
    "DataFrame 새 데이터 추가 / 수정\n",
    "리스트로 추가하는 방법과 딕셔너리로 추가하는 방법"
   ]
  },
  {
   "cell_type": "code",
   "execution_count": 34,
   "id": "76faa6e2",
   "metadata": {},
   "outputs": [
    {
     "name": "stdout",
     "output_type": "stream",
     "text": [
      "Empty DataFrame\n",
      "Columns: [이름, 나이, 주소]\n",
      "Index: []\n",
      "------------------------------------\n",
      "    이름  나이  주소\n",
      "0  임원균  26  서울\n",
      "------------------------------------\n",
      "    이름  나이  주소\n",
      "0  임원균  26  서울\n",
      "1   철수  25  인천\n",
      "------------------------------------\n",
      "    이름  나이  주소\n",
      "0  임원균  26  서울\n",
      "1   영희  25  인천\n"
     ]
    }
   ],
   "source": [
    "dataframe = pd.DataFrame(columns=[\"이름\",\"나이\",\"주소\"])\n",
    "print(dataframe)\n",
    "# Empty DataFrame\n",
    "# Columns: [이름, 나이, 주소]\n",
    "# Index: []\n",
    "print(\"------------------------------------\")\n",
    "\n",
    "dataframe.loc[0] = [\"임원균\",\"26\",\"서울\"]\n",
    "print(dataframe)\n",
    "#     이름  나이  주소\n",
    "# 0  임원균  26  서울\n",
    "print(\"------------------------------------\")\n",
    "\n",
    "dataframe.loc[1] = {'이름':'철수','나이':'25','주소':'인천'}\n",
    "print(dataframe)\n",
    "#     이름  나이  주소\n",
    "# 0  임원균  26  서울\n",
    "# 1   철수  25  인천\n",
    "print(\"------------------------------------\")\n",
    "\n",
    "dataframe.loc[1,'이름'] = \"영희\"\n",
    "print(dataframe)\n",
    "#    이름  나이  주소\n",
    "# 0  임원균  26  서울\n",
    "# 1   영희  25  인천"
   ]
  },
  {
   "cell_type": "markdown",
   "id": "0d1b5142",
   "metadata": {},
   "source": [
    "DataFrame 새 컬럼 추가\n",
    "새로운 컬럼 추가"
   ]
  },
  {
   "cell_type": "code",
   "execution_count": 36,
   "id": "7c68ae6c",
   "metadata": {},
   "outputs": [
    {
     "name": "stdout",
     "output_type": "stream",
     "text": [
      "    이름  나이  주소  전화번호\n",
      "0  임원균  26  서울   NaN\n",
      "1   영희  25  인천   NaN\n",
      "------------------------------------\n",
      "    이름  나이  주소         전화번호\n",
      "0  임원균  26  서울  01012341234\n",
      "1   영희  25  인천          NaN\n",
      "2\n"
     ]
    }
   ],
   "source": [
    "import numpy as np\n",
    "dataframe[\"전화번호\"] = np.nan # Not a Number 통상적 비어있는 데이터\n",
    "print(dataframe)\n",
    "#     이름  나이  주소  전화번호\n",
    "# 0  임원균  26  서울   NaN\n",
    "# 1   영희  25  인천   NaN\n",
    "print(\"------------------------------------\")\n",
    "\n",
    "dataframe.loc[0,\"전화번호\"] = \"01012341234\"\n",
    "print(dataframe)\n",
    "#     이름  나이  주소         전화번호\n",
    "# 0  임원균  26  서울  01012341234\n",
    "# 1   영희  25  인천          NaN\n",
    "\n",
    "print(len(dataframe)) # 2"
   ]
  },
  {
   "cell_type": "markdown",
   "id": "1aab8ddb",
   "metadata": {},
   "source": [
    "컬럼 선택하기\n",
    "컬럼이름이 하나만 있다면 Series\n",
    "리스트로 들어가 있다면 DataFrame"
   ]
  },
  {
   "cell_type": "code",
   "execution_count": 38,
   "id": "5265e9b3",
   "metadata": {},
   "outputs": [
    {
     "name": "stdout",
     "output_type": "stream",
     "text": [
      "0    임원균\n",
      "1     영희\n",
      "Name: 이름, dtype: object\n",
      "    이름  주소  나이\n",
      "0  임원균  서울  26\n",
      "1   영희  인천  25\n"
     ]
    }
   ],
   "source": [
    "print(dataframe[\"이름\"])\n",
    "# 0    임원균\n",
    "# 1     영희\n",
    "# Name: 이름, dtype: object\n",
    "\n",
    "print(dataframe[[\"이름\",\"주소\",\"나이\"]])\n",
    "#     이름  주소  나이\n",
    "# 0  임원균  서울  26\n",
    "# 1   영희  인천  25"
   ]
  },
  {
   "cell_type": "markdown",
   "id": "09f2bdd6",
   "metadata": {},
   "source": [
    "Indexing & Slicing\n",
    "데이터 프레임의 값을 참조하기 위해 사용하는 인덱싱과 슬라이싱에는 두 가지 방법이 있습니다.\n",
    "\n",
    "데이터 프레임의 인덱스의 이름으로 직접 참조하거나, 기존의 파이썬에서 배열의 인덱싱을 하는 방법 모두 사용할 수 있습니다.\n",
    "\n",
    "이번 실습에서는 명시적인 인덱스를 참조하는 인덱싱과 파이썬 스타일 정수 인덱싱의 차이와 사용 방법을 배워봅시다.\n",
    "\n",
    "\n",
    "지시사항\n",
    "Q1.\n",
    "\n",
    "명시적 인덱싱을 사용하여 데이터 프레임에서 “china” 인덱스를 출력해보세요.\n",
    "\n",
    "country.loc['china']\n",
    "Copy\n",
    "Q2.\n",
    "\n",
    "정수형 인덱싱을 사용하여 데이터 프레임에서 1번째 인덱스부터 3번째 인덱스까지의 값들을 출력해보세요.\n",
    "\n",
    "country.iloc[1:4]\n",
    "Copy\n",
    "Tip!\n",
    "pandas의 데이터 프레임을 만들 때 csv 파일을 이용하여 만들 수도 있습니다.\n",
    "\n",
    "country = pd.read_csv(\"./data/country.csv\")\n",
    "Copy\n",
    "위 코드는 country.csv 파일을 이용하여 데이터 프레임을 만드는 코드입니다."
   ]
  },
  {
   "cell_type": "code",
   "execution_count": null,
   "id": "99cdbd39",
   "metadata": {},
   "outputs": [],
   "source": [
    "import numpy as np\n",
    "import pandas as pd\n",
    "\n",
    "# 첫번째 컬럼을 인덱스로 country.csv 파일 읽어오기.\n",
    "print(\"Country DataFrame\")\n",
    "country = pd.read_csv(\"./data/country.csv\", index_col=0)\n",
    "print(country, \"\\n\")\n",
    "\n",
    "# 명시적 인덱싱을 사용하여 데이터프레임의 \"china\" 인덱스를 출력해봅시다.\n",
    "print(country.loc[\"china\"])\n",
    "\n",
    "\n",
    "# 정수 인덱싱을 사용하여 데이터프레임의 1번째부터 3번째 인덱스를 출력해봅시다.\n",
    "print(country.iloc[1:4])\n",
    "\n"
   ]
  },
  {
   "cell_type": "markdown",
   "id": "335b9c94",
   "metadata": {},
   "source": [
    "Pandas연산과 함수"
   ]
  },
  {
   "cell_type": "markdown",
   "id": "ff91df84",
   "metadata": {},
   "source": [
    "누락된 데이터 체크\n",
    "튜토리얼에서 보는 데이터와 달리 현실의 데이터는\n",
    "누락되어 있는 형태가 많다"
   ]
  },
  {
   "cell_type": "code",
   "execution_count": 44,
   "id": "63b3faa7",
   "metadata": {},
   "outputs": [
    {
     "name": "stdout",
     "output_type": "stream",
     "text": [
      "      이름     나이     주소   전화번호\n",
      "0  False  False  False  False\n",
      "1  False  False  False  False\n",
      "     이름    나이    주소  전화번호\n",
      "0  True  True  True  True\n",
      "1  True  True  True  True\n",
      "    이름  나이  주소         전화번호\n",
      "0  임원균  26  서울  01012341234\n",
      "1   영희  25  인천      전화번호 없음\n"
     ]
    }
   ],
   "source": [
    "# 비어있으면 True\n",
    "print(dataframe.isnull())\n",
    "# Nan / None -> True\n",
    "\n",
    "# 자료가 있으면 True\n",
    "print(dataframe.notnull())\n",
    "# Nan / None -> False\n",
    "\n",
    "# 비어있는 로우 제거하고 사용\n",
    "print(dataframe.dropna())\n",
    "#     이름  나이  주소         전화번호\n",
    "# 0  임원균  26  서울  01012341234\n",
    "\n",
    "# 비어 있는 데이터 채워넣기\n",
    "dataframe[\"전화번호\"] = dataframe[\"전화번호\"].fillna(\"전화번호 없음\")\n",
    "#     이름  나이  주소         전화번호\n",
    "# 0  임원균  26  서울      01012341234\n",
    "# 1   영희  25  인천      전화번호 없음"
   ]
  },
  {
   "cell_type": "markdown",
   "id": "d4a2d5ad",
   "metadata": {},
   "source": [
    "Series 연산\n",
    "numpy array에서 사용했던 연산자들을 활용할 수 있다."
   ]
  },
  {
   "cell_type": "code",
   "execution_count": 49,
   "id": "1d5b04b7",
   "metadata": {},
   "outputs": [
    {
     "name": "stdout",
     "output_type": "stream",
     "text": [
      "0    2\n",
      "1    4\n",
      "2    6\n",
      "dtype: int64\n"
     ]
    }
   ],
   "source": [
    "A = pd.Series([2,4,6], index = [0,1,2])\n",
    "B = pd.Series([1,3,5], index = [1,2,3])\n",
    "A + B\n",
    "# 0    NaN  B의 인덱스 0이 없기떄문에 NaM\n",
    "# 1    5.0\n",
    "# 2    9.0\n",
    "# 3    NaN A의 인덱스 3이 없기 때문에 NaN\n",
    "# dtype: float64\n",
    "\n",
    "A.add(B, fill_value = 0)\n",
    "# 0    2.0\n",
    "# 1    5.0\n",
    "# 2    9.0\n",
    "# 3    5.0\n",
    "# dtype: float64\n",
    "\n",
    "print(A)\n",
    "# 0    2\n",
    "# 1    4\n",
    "# 2    6\n",
    "# dtype: int64"
   ]
  },
  {
   "cell_type": "markdown",
   "id": "bf58f97a",
   "metadata": {},
   "source": [
    "DataFrame 연산\n",
    "add(+), sub(-), mul(*), div(/)"
   ]
  },
  {
   "cell_type": "code",
   "execution_count": 59,
   "id": "9ff69423",
   "metadata": {},
   "outputs": [
    {
     "name": "stdout",
     "output_type": "stream",
     "text": [
      "   A  B\n",
      "0  2  2\n",
      "1  6  6\n",
      "   B  A  C\n",
      "0  4  3  8\n",
      "1  7  3  9\n",
      "2  8  8  7\n",
      "     A     B   C\n",
      "0  5.0   6.0 NaN\n",
      "1  9.0  13.0 NaN\n",
      "2  NaN   NaN NaN\n",
      "   A  B\n",
      "0  2  2\n",
      "1  6  6\n"
     ]
    }
   ],
   "source": [
    "A = pd.DataFrame(np.random.randint(0,10, (2,2)), \n",
    "                 columns =list(\"AB\"))\n",
    "\n",
    "B = pd.DataFrame(np.random.randint(0,10, (3,3)), \n",
    "                 columns =list(\"BAC\"))\n",
    "print(A)\n",
    "#    A  B\n",
    "# 0  4  7\n",
    "# 1  5  7\n",
    "\n",
    "print(B)\n",
    "#    B  A  C\n",
    "# 0  4  3  8\n",
    "# 1  7  3  9\n",
    "# 2  8  8  7\n",
    "\n",
    "print(A+B)\n",
    "#       A    B   C\n",
    "# 0  10.0  3.0 NaN\n",
    "# 1  13.0  3.0 NaN\n",
    "# 2   NaN  NaN NaN\n",
    "\n",
    "A.add(B, fill_value = 0)\n",
    "#      A      B     C\n",
    "# 0  10.0   13.0   5.0\n",
    "# 1  13.0   12.0   7.0\n",
    "# 2  5.0     7.0   1.0\n",
    "\n",
    "print(A)\n",
    "#    A  B\n",
    "# 0  3  5\n",
    "# 1  8  5"
   ]
  },
  {
   "cell_type": "markdown",
   "id": "6899ae4b",
   "metadata": {},
   "source": [
    "집계함수\n",
    "numpy array에서 사용했던 sum, mean 등을\n",
    "활용할 수 있다"
   ]
  },
  {
   "cell_type": "code",
   "execution_count": 62,
   "id": "76991620",
   "metadata": {},
   "outputs": [
    {
     "name": "stdout",
     "output_type": "stream",
     "text": [
      "   A  B\n",
      "0  5  0\n",
      "1  6  1\n",
      "2  7  4\n",
      "18\n",
      "A    18\n",
      "B     5\n",
      "dtype: int64\n",
      "A    6.000000\n",
      "B    1.666667\n",
      "dtype: float64\n"
     ]
    }
   ],
   "source": [
    "data = {\n",
    "    'A': [i+5 for i in range(3)],\n",
    "    'B': [i**2for i in range(3)]\n",
    "}\n",
    "df = pd.DataFrame(data)\n",
    "print(df)\n",
    "#    A  B\n",
    "# 0  5  0\n",
    "# 1  6  1\n",
    "# 2  7  4\n",
    "\n",
    "print(df['A'].sum())\n",
    "# 18\n",
    "print(df.sum())\n",
    "# A   18\n",
    "# B    5\n",
    "# dtype: int64\n",
    "print(df.mean())\n",
    "# A    6.000000\n",
    "# B    1.666667\n",
    "# dtype: float64"
   ]
  },
  {
   "cell_type": "markdown",
   "id": "0f9c2eda",
   "metadata": {},
   "source": [
    "pandas 연산과 함수\n",
    "pandas의 데이터 형식은 다양한 연산을 지원합니다.\n",
    "\n",
    "영상을 보고 누락된 데이터 처리, 시리즈와 데이터 프레임의 연산과 집계 함수에 대해서 알아봅시다.\n",
    "\n",
    "그리고 pandas의 데이터 프레임에 여러가지 연산을 활용하여 적용해보세요!\n",
    "\n",
    "\n",
    "지시사항\n",
    "오른쪽 예제 코드에서 만든 데이터프레임 A와 B를 덧셈 연산을 진행하려고 합니다.\n",
    "\n",
    "A와 B의 덧셈 결과를 출력해보세요.\n",
    "\n",
    "Tip!\n",
    "+ 연산 이외에도 여러가지 연산과 집계 함수가 있으니 직접 활용해보세요!"
   ]
  },
  {
   "cell_type": "code",
   "execution_count": null,
   "id": "072a6442",
   "metadata": {},
   "outputs": [],
   "source": [
    "import numpy as np\n",
    "import pandas as pd\n",
    "\n",
    "\n",
    "print(\"A: \")\n",
    "A = pd.DataFrame(np.random.randint(0, 10, (2, 2)), columns=['A', 'B'])      #칼럼이 A, B입니다.\n",
    "print(A, \"\\n\")\n",
    "\n",
    "\n",
    "print(\"B: \")\n",
    "B = pd.DataFrame(np.random.randint(0, 10, (3, 3)), columns=['B', 'A', 'C'])     #칼럼이 B, A, C입니다.\n",
    "print(B, \"\\n\")\n",
    "\n",
    "\n",
    "# 아래에 다양한 연산을 자유롭게 적용해보세요.\n",
    "A.add(B, fill_value = 0)\n",
    "\n",
    "print(A)"
   ]
  },
  {
   "cell_type": "markdown",
   "id": "400e1a3e",
   "metadata": {},
   "source": [
    "DataFrame 정렬하기"
   ]
  },
  {
   "cell_type": "markdown",
   "id": "5d505755",
   "metadata": {},
   "source": [
    "값으로 정렬하기\n",
    "sort_values()"
   ]
  },
  {
   "cell_type": "code",
   "execution_count": 66,
   "id": "bcd9185b",
   "metadata": {},
   "outputs": [
    {
     "name": "stdout",
     "output_type": "stream",
     "text": [
      "   col1 col2  col3\n",
      "0     2    A     0\n",
      "1     1    A     1\n",
      "2     9    B     9\n",
      "3     8  NaN     4\n",
      "4     7    D     2\n",
      "5     4    C     3\n",
      "-------------------------------------------\n",
      "   col1 col2  col3\n",
      "1     1    A     1\n",
      "0     2    A     0\n",
      "5     4    C     3\n",
      "4     7    D     2\n",
      "3     8  NaN     4\n",
      "2     9    B     9\n"
     ]
    }
   ],
   "source": [
    "df = pd.DataFrame({\n",
    "    \"col1\" : [2,1,9,8,7,4],\n",
    "    \"col2\" : ['A','A','B',np.nan,'D','C'],\n",
    "    \"col3\" : [0,1,9,4,2,3],\n",
    "})\n",
    "\n",
    "print(df)\n",
    "#    col1 col2  col3\n",
    "# 0     2    A     0\n",
    "# 1     1    A     1\n",
    "# 2     9    B     9\n",
    "# 3     8  NaN     4\n",
    "# 4     7    D     2\n",
    "# 5     4    C     3 \n",
    "print('-------------------------------------------')\n",
    "\n",
    "# 컬럼 값으로 정렬하기 오름차순\n",
    "print(df.sort_values('col1'))\n",
    "#     col1 col2  col3\n",
    "# 1     1    A     1\n",
    "# 0     2    A     0\n",
    "# 5     4    C     3\n",
    "# 4     7    D     2\n",
    "# 3     8  NaN     4\n",
    "# 2     9    B     9\n"
   ]
  },
  {
   "cell_type": "markdown",
   "id": "5142076f",
   "metadata": {},
   "source": [
    "값으로 정렬하기\n",
    "df.sort_values('col1', ascending=False)"
   ]
  },
  {
   "cell_type": "code",
   "execution_count": 68,
   "id": "4f4c882e",
   "metadata": {},
   "outputs": [
    {
     "name": "stdout",
     "output_type": "stream",
     "text": [
      "   col1 col2  col3\n",
      "2     9    B     9\n",
      "3     8  NaN     4\n",
      "4     7    D     2\n",
      "5     4    C     3\n",
      "0     2    A     0\n",
      "1     1    A     1\n"
     ]
    }
   ],
   "source": [
    "print(df)\n",
    "#    col1 col2  col3\n",
    "# 0     2    A     0\n",
    "# 1     1    A     1\n",
    "# 2     9    B     9\n",
    "# 3     8  NaN     4\n",
    "# 4     7    D     2\n",
    "# 5     4    C     3\n",
    "\n",
    "# 컬럼 값으로 정렬하기 내림차순\n",
    "# ascending = False\n",
    "print(df.sort_values('col1', ascending=False))\n",
    "#    col1 col2  col3\n",
    "# 2     9    B     9\n",
    "# 3     8  NaN     4\n",
    "# 4     7    D     2\n",
    "# 5     4    C     3\n",
    "# 0     2    A     0\n",
    "# 1     1    A     1"
   ]
  },
  {
   "cell_type": "markdown",
   "id": "e41fc013",
   "metadata": {},
   "source": [
    "값으로 정렬하기\n",
    "df.sort_values(['col2','col1'])"
   ]
  },
  {
   "cell_type": "code",
   "execution_count": 70,
   "id": "ffb3d2fc",
   "metadata": {},
   "outputs": [
    {
     "name": "stdout",
     "output_type": "stream",
     "text": [
      "   col1 col2  col3\n",
      "0     2    A     0\n",
      "1     1    A     1\n",
      "2     9    B     9\n",
      "3     8  NaN     4\n",
      "4     7    D     2\n",
      "5     4    C     3\n",
      "   col1 col2  col3\n",
      "1     1    A     1\n",
      "0     2    A     0\n",
      "2     9    B     9\n",
      "5     4    C     3\n",
      "4     7    D     2\n",
      "3     8  NaN     4\n"
     ]
    }
   ],
   "source": [
    "print(df)\n",
    "#    col1 col2  col3\n",
    "# 0     2    A     0\n",
    "# 1     1    A     1\n",
    "# 2     9    B     9\n",
    "# 3     8  NaN     4\n",
    "# 4     7    D     2\n",
    "# 5     4    C     3\n",
    "\n",
    "# 값으로 정렬하는데 두개의 컬럼을 넣을 경우\n",
    "# 컬럼2를 정렬하고 다음 컬럼 1로 정렬\n",
    "print(df.sort_values(['col2','col1']))\n",
    "#     col1 col2  col3\n",
    "# 1     1    A     1\n",
    "# 0     2    A     0\n",
    "# 2     9    B     9\n",
    "# 5     4    C     3\n",
    "# 4     7    D     2\n",
    "# 3     8  NaN     4"
   ]
  },
  {
   "cell_type": "markdown",
   "id": "f36b1362",
   "metadata": {},
   "source": [
    "Dataframe 값으로 정렬하기!\n",
    "데이터를 처리하다 보면 일정한 기준에 맞추어 정렬하는 일이 빈번하게 발생합니다.\n",
    "\n",
    "pandas에서도 데이터를 필요에 맞게 정렬할 수 있습니다.\n",
    "\n",
    "이번 실습에서는 데이터 프레임에 입력되어 있는 값을 오름차순, 내림차순으로 정렬해 봅시다.\n",
    "\n",
    "\n",
    "지시사항\n",
    "Q1.\n",
    "\n",
    "데이터 프레임을 col1을 기준으로 오름차순 정렬한 결과를 sorted_df1에 저장하고 출력해주세요.\n",
    "\n",
    "sorted_df1 = df.sort_values('col1', ascending = True)\n",
    "Copy\n",
    "Q2.\n",
    "\n",
    "데이터 프레임을 col2를 기준으로 내림차순 정렬한 결과를 sorted_df2에 저장하고 출력해주세요.\n",
    "\n",
    "sorted_df2 = df.sort_values('col2', ascending = False)\n",
    "Copy\n",
    "Q3.\n",
    "\n",
    "데이터 프레임을 col2를 기준으로 오름차순 정렬한 뒤, col1을 기준으로 내림차순 정렬한 결과를 출력해봅시다.\n",
    "\n",
    "즉, 2개의 정렬 기준을 두어야 합니다.\n",
    "\n",
    "정렬한 결과를 sorted_df3에 저장하고 출력해주세요.\n",
    "\n",
    "sorted_df3 = df.sort_values(['col2', 'col1'], ascending=[True, False])\n",
    "Copy\n",
    "Tip!\n",
    "정렬 방법을 각각 적용하는 방법에 대해 알아봅시다. 복수의 정렬 기준을 두었을 때, 아래와 같은 방법으로 정렬 방법도 각각 지정해줄 수 있습니다.\n",
    "\n",
    "data = data.sort_values(['col2', 'col1'], ascending=[True, False])\n",
    "Copy\n",
    "ascending 매개변수에 리스트 형식으로 True 및 False를 각각 대입해주면 col2에는 오름차순, col1에는 내림차순으로 정렬 기준이 각각 적용됩니다."
   ]
  },
  {
   "cell_type": "code",
   "execution_count": 72,
   "id": "e2e50663",
   "metadata": {},
   "outputs": [
    {
     "name": "stdout",
     "output_type": "stream",
     "text": [
      "DataFrame: \n",
      "   col1 col2  col3\n",
      "0     2    A     0\n",
      "1     1    A     1\n",
      "2     9    B     9\n",
      "3     8  NaN     4\n",
      "4     7    D     2\n",
      "5     4    C     3 \n",
      "\n",
      "   col1 col2  col3\n",
      "1     1    A     1\n",
      "0     2    A     0\n",
      "5     4    C     3\n",
      "4     7    D     2\n",
      "3     8  NaN     4\n",
      "2     9    B     9\n",
      "\n",
      "   col1 col2  col3\n",
      "4     7    D     2\n",
      "5     4    C     3\n",
      "2     9    B     9\n",
      "0     2    A     0\n",
      "1     1    A     1\n",
      "3     8  NaN     4\n",
      "\n",
      "   col1 col2  col3\n",
      "0     2    A     0\n",
      "1     1    A     1\n",
      "2     9    B     9\n",
      "5     4    C     3\n",
      "4     7    D     2\n",
      "3     8  NaN     4\n"
     ]
    }
   ],
   "source": [
    "import numpy as np\n",
    "import pandas as pd\n",
    "\n",
    "print(\"DataFrame: \")\n",
    "df = pd.DataFrame({\n",
    "    'col1' : [2, 1, 9, 8, 7, 4],\n",
    "    'col2' : ['A', 'A', 'B', np.nan, 'D', 'C'],\n",
    "    'col3': [0, 1, 9, 4, 2, 3],\n",
    "})\n",
    "print(df, \"\\n\")\n",
    "\n",
    "\n",
    "# 정렬 코드 입력해보기    \n",
    "# Q1. col1을 기준으로 오름차순으로 정렬하기.\n",
    "sorted_df1 = df.sort_values(\"col1\")\n",
    "print(sorted_df1)\n",
    "print()\n",
    "\n",
    "# Q2. col2를 기준으로 내림차순으로 정렬하기.\n",
    "sorted_df2 = df.sort_values('col2', ascending=False)\n",
    "print(sorted_df2)\n",
    "print()\n",
    "\n",
    "# Q3. col2를 기준으로 오름차순으로, col1를 기준으로 내림차순으로 정렬하기.\n",
    "sorted_df3 = df.sort_values([\"col2\",\"col1\"], ascending=[True,False]) \n",
    "print(sorted_df3)"
   ]
  },
  {
   "cell_type": "markdown",
   "id": "d9766b85",
   "metadata": {},
   "source": [
    "데이터 분석가! Pandas\n",
    "데이터 분석, 데이터 처리를 쉽게 하기 위해 만들어진 라이브러리.\n",
    "Pandas\n",
    "\n",
    "Series, Dataframe과 같은 여러 데이터 구조를 생성하고 변경할 수 있도록 도와 주는 라이브러리로 안정적으로 대용량 데이터들을 쉽게 처리할 수 있습니다.\n",
    "\n",
    "pandas library에서 자주 사용되는 함수들로는\n",
    "\n",
    "pd.series - 시리즈 데이터 생성\n",
    "pd.DataFrame - 데이터 프레임 생성\n",
    "pd.map -\n",
    "\n",
    "pd.apply -\n",
    "\n",
    "가 있습니다."
   ]
  }
 ],
 "metadata": {
  "kernelspec": {
   "display_name": "Python 3",
   "language": "python",
   "name": "python3"
  },
  "language_info": {
   "codemirror_mode": {
    "name": "ipython",
    "version": 3
   },
   "file_extension": ".py",
   "mimetype": "text/x-python",
   "name": "python",
   "nbconvert_exporter": "python",
   "pygments_lexer": "ipython3",
   "version": "3.8.8"
  }
 },
 "nbformat": 4,
 "nbformat_minor": 5
}
