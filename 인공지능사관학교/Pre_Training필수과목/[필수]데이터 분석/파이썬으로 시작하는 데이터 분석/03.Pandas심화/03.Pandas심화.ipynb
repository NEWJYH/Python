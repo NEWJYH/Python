{
 "cells": [
  {
   "cell_type": "markdown",
   "id": "6f998a0f",
   "metadata": {},
   "source": [
    "조건으로 검색하기"
   ]
  },
  {
   "cell_type": "markdown",
   "id": "781ce56d",
   "metadata": {},
   "source": [
    "numpy array와 마찬가지로 masking 연산이 가능하다."
   ]
  },
  {
   "cell_type": "code",
   "execution_count": 4,
   "id": "d13df1e5",
   "metadata": {},
   "outputs": [
    {
     "name": "stdout",
     "output_type": "stream",
     "text": [
      "          A         B\n",
      "0  0.836224  0.388792\n",
      "1  0.641054  0.411261\n",
      "2  0.658604  0.033699\n",
      "3  0.967437  0.459741\n",
      "4  0.100597  0.831582\n",
      "-------------------\n",
      "0    False\n",
      "1    False\n",
      "2    False\n",
      "3    False\n",
      "4     True\n",
      "Name: A, dtype: bool\n"
     ]
    }
   ],
   "source": [
    "import numpy as np\n",
    "import pandas as pd\n",
    "\n",
    "df = pd.DataFrame(np.random.rand(5,2), columns=[\"A\",\"B\"])\n",
    "print(df) \n",
    "#           A         B\n",
    "# 0  0.836224  0.388792\n",
    "# 1  0.641054  0.411261\n",
    "# 2  0.658604  0.033699\n",
    "# 3  0.967437  0.459741\n",
    "# 4  0.100597  0.831582\n",
    "print(\"-------------------\")\n",
    "\n",
    "print(df[\"A\"] < 0.5)\n",
    "# 0    False\n",
    "# 1    False\n",
    "# 2    False\n",
    "# 3    False\n",
    "# 4     True\n",
    "# Name: A, dtype: bool"
   ]
  },
  {
   "cell_type": "markdown",
   "id": "bdaaafbd",
   "metadata": {},
   "source": [
    "조건으로 검색하기\n",
    "조건에 맞는 DataFram row를 추출 가능하다"
   ]
  },
  {
   "cell_type": "code",
   "execution_count": 8,
   "id": "b091d815",
   "metadata": {},
   "outputs": [
    {
     "name": "stdout",
     "output_type": "stream",
     "text": [
      "          A         B\n",
      "0  0.647373  0.672083\n",
      "1  0.449452  0.361233\n",
      "2  0.157967  0.888618\n",
      "3  0.071167  0.276175\n",
      "4  0.282661  0.460921\n",
      "-------------------\n",
      "          A         B\n",
      "1  0.449452  0.361233\n",
      "2  0.157967  0.888618\n",
      "4  0.282661  0.460921\n",
      "-------------------\n",
      "          A         B\n",
      "1  0.449452  0.361233\n",
      "2  0.157967  0.888618\n",
      "4  0.282661  0.460921\n"
     ]
    }
   ],
   "source": [
    "import numpy as np\n",
    "import pandas as pd\n",
    "\n",
    "df = pd.DataFrame(np.random.rand(5, 2), columns=[\"A\", \"B\"])\n",
    "print(df)\n",
    "#           A         B\n",
    "# 0  0.647373  0.672083\n",
    "# 1  0.449452  0.361233\n",
    "# 2  0.157967  0.888618\n",
    "# 3  0.071167  0.276175\n",
    "# 4  0.282661  0.460921\n",
    "print(\"-------------------\")\n",
    "\n",
    "print(df[(df[\"A\"]< 0.5) & (df[\"B\"]>0.3)])\n",
    "#           A         B\n",
    "# 1  0.449452  0.361233\n",
    "# 2  0.157967  0.888618\n",
    "# 4  0.282661  0.460921\n",
    "print(\"-------------------\")\n",
    "\n",
    "print(df.query(\"A < 0.5 and B > 0.3\"))\n",
    "#           A         B\n",
    "# 1  0.449452  0.361233\n",
    "# 2  0.157967  0.888618\n",
    "# 4  0.282661  0.460921"
   ]
  },
  {
   "cell_type": "markdown",
   "id": "65188636",
   "metadata": {},
   "source": [
    "조건으로 검색하기\n",
    "\n",
    "문자열이라면 다른 방식으로도 조건 검색이 가능하다\n",
    "\n",
    "df[\"Animal\"].str.contains(\"Cat\")\n",
    "df.Animal.str.match(\"Cat\")\n",
    "\n",
    "#정규표현식 검색"
   ]
  },
  {
   "cell_type": "markdown",
   "id": "70131318",
   "metadata": {},
   "source": [
    "조건으로 검색하기\n",
    "데이터 프레임에서, 각 컬럼마다 조건을 충족하는 값만 추출할 수 있습니다.\n",
    "\n",
    "Numpy의 마스킹 연산처럼 조건식을 직접 쓸 수도 있고, query() 함수를 이용하는 방법도 있습니다.\n",
    "\n",
    "영상을 보며 데이터 프레임내에서 원하는 데이터를 조건을 주어 검색하는 방법을 배우고, 실습 문제를 해결해봐요.\n",
    "\n",
    "\n",
    "지시사항\n",
    "Q1\n",
    "\n",
    "예시 코드에 컬럼 A, B를 가진 2차원의 데이터프레임을 생성되어 있습니다.\n",
    "\n",
    "A컬럼 값이 0.5보다 작고 B컬럼 값이 0.3보다 큰 값들을 구하여 출력해보세요.\n",
    "\n",
    "마스킹 연산과 query 함수를 둘 다 사용해봅시다."
   ]
  },
  {
   "cell_type": "code",
   "execution_count": null,
   "id": "8b856a84",
   "metadata": {},
   "outputs": [],
   "source": [
    "import numpy as np\n",
    "import pandas as pd\n",
    "\n",
    "print(\"Masking & query\")\n",
    "df = pd.DataFrame(np.random.rand(5, 2), columns=[\"A\", \"B\"])\n",
    "print(df, \"\\n\")\n",
    "\n",
    "#데이터 프레임에서 A컬럼값이 0.5보다 작고 B컬럼 값이 0.3보다 큰값들을 구해봅시다.\n",
    "print(df[(df[\"A\"]< 0.5) & (df[\"B\"]>0.3)])\n",
    "print(df.query(\"A < 0.5 and B > 0.3\"))"
   ]
  },
  {
   "cell_type": "markdown",
   "id": "c214908a",
   "metadata": {},
   "source": [
    "함수로 데이터 처리하기"
   ]
  },
  {
   "cell_type": "markdown",
   "id": "06ec7e0c",
   "metadata": {},
   "source": [
    "함수로 데이터 처리하기\n",
    "\n",
    "apply를 통해서 함수로 데이터를 다룰 수 있다"
   ]
  },
  {
   "cell_type": "code",
   "execution_count": 11,
   "id": "e0d8e69f",
   "metadata": {},
   "outputs": [
    {
     "name": "stdout",
     "output_type": "stream",
     "text": [
      "   Num\n",
      "0    0\n",
      "1    1\n",
      "2    2\n",
      "3    3\n",
      "4    4\n",
      "0     0\n",
      "1     1\n",
      "2     4\n",
      "3     9\n",
      "4    16\n",
      "Name: Num, dtype: int64\n",
      "   Num  Square\n",
      "0    0       0\n",
      "1    1       1\n",
      "2    2       4\n",
      "3    3       9\n",
      "4    4      16\n"
     ]
    }
   ],
   "source": [
    "df = pd.DataFrame(np.arange(5), columns=[\"Num\"])\n",
    "print(df)\n",
    "#     Num\n",
    "# 0    0\n",
    "# 1    1\n",
    "# 2    2\n",
    "# 3    3\n",
    "# 4    4\n",
    "\n",
    "def square(x):\n",
    "    return x**2\n",
    "\n",
    "print(df[\"Num\"].apply(square))\n",
    "# 0     0\n",
    "# 1     1\n",
    "# 2     4\n",
    "# 3     9\n",
    "# 4    16\n",
    "# Name: Num, dtype: int64\n",
    "\n",
    "df['Square'] = df.Num.apply(lambda x : x ** 2)\n",
    "print(df)\n",
    "#    Num  Square\n",
    "# 0    0       0\n",
    "# 1    1       1\n",
    "# 2    2       4\n",
    "# 3    3       9\n",
    "# 4    4      16"
   ]
  },
  {
   "cell_type": "markdown",
   "id": "2555530d",
   "metadata": {},
   "source": [
    "함수로 데이터 처리하기\n",
    "apply를 통해서 함수로 데이터를 다룰 수 있다"
   ]
  },
  {
   "cell_type": "code",
   "execution_count": 14,
   "id": "86d96c66",
   "metadata": {},
   "outputs": [
    {
     "name": "stdout",
     "output_type": "stream",
     "text": [
      "           phone preprocess_phone\n",
      "0  010-1234-1235                 \n",
      "1  공일공-일이삼사-1235                 \n",
      "2  010.1234.일이삼오                 \n",
      "3  공1공-1234.1이3오                 \n",
      "           phone preprocess_phone\n",
      "0  010-1234-1235      01012341235\n",
      "1  공일공-일이삼사-1235      01012341235\n",
      "2  010.1234.일이삼오      01012341235\n",
      "3  공1공-1234.1이3오      01012341235\n"
     ]
    }
   ],
   "source": [
    "df = pd.DataFrame(columns=[\"phone\"])\n",
    "df.loc[0] = \"010-1234-1235\"\n",
    "df.loc[1] = \"공일공-일이삼사-1235\"\n",
    "df.loc[2] = \"010.1234.일이삼오\"\n",
    "df.loc[3] = \"공1공-1234.1이3오\"\n",
    "df[\"preprocess_phone\"] =\"\"\n",
    "print(df)\n",
    "#             phone preprocess_phone\n",
    "# 0  010-1234-1235                 \n",
    "# 1  공일공-일이삼사-1235                 \n",
    "# 2  010.1234.일이삼오                 \n",
    "# 3  공1공-1234.1이3오       \n",
    "\n",
    "def get_preprocess_phone(phone):\n",
    "    mapping_dict = {\n",
    "        \"공\":\"0\",\n",
    "        \"일\":\"1\",\n",
    "        \"이\":\"2\",\n",
    "        \"삼\":\"3\",\n",
    "        \"사\":\"4\",\n",
    "        \"오\":\"5\",\n",
    "        \"-\":\"\",\n",
    "        \".\":\"\",\n",
    "    }\n",
    "    for key,value in mapping_dict.items():\n",
    "        phone = phone.replace(key,value)\n",
    "    return phone\n",
    "\n",
    "df[\"preprocess_phone\"] = df[\"phone\"].apply(get_preprocess_phone)\n",
    "print(df)\n",
    "#             phone preprocess_phone\n",
    "# 0  010-1234-1235      01012341235\n",
    "# 1  공일공-일이삼사-1235      01012341235\n",
    "# 2  010.1234.일이삼오      01012341235\n",
    "# 3  공1공-1234.1이3오      01012341235"
   ]
  },
  {
   "cell_type": "markdown",
   "id": "65af1438",
   "metadata": {},
   "source": [
    "함수로 데이터 처리하기\n",
    "replace : apply 기능에서 데이터 값만 대체 하고 싶을 때"
   ]
  },
  {
   "cell_type": "code",
   "execution_count": 20,
   "id": "f6cfc49f",
   "metadata": {},
   "outputs": [
    {
     "name": "stdout",
     "output_type": "stream",
     "text": [
      "      Sex\n",
      "0    Male\n",
      "1    Male\n",
      "2  Female\n",
      "3  Female\n",
      "4    Male\n",
      "------\n",
      "0    0\n",
      "1    0\n",
      "2    1\n",
      "3    1\n",
      "4    0\n",
      "Name: Sex, dtype: int64\n",
      "------\n",
      "   Sex\n",
      "0    0\n",
      "1    0\n",
      "2    1\n",
      "3    1\n",
      "4    0\n"
     ]
    }
   ],
   "source": [
    "df = pd.DataFrame(columns=[\"Sex\"])\n",
    "df.loc[0] = \"Male\"\n",
    "df.loc[1] = \"Male\"\n",
    "df.loc[2] = \"Female\"\n",
    "df.loc[3] = \"Female\"\n",
    "df.loc[4] = \"Male\"\n",
    "print(df)\n",
    "#        Sex\n",
    "# 0    Male\n",
    "# 1    Male\n",
    "# 2  Female\n",
    "# 3  Female\n",
    "# 4    Male\n",
    "print(\"------\")\n",
    "\n",
    "print(df.Sex.replace({\"Male\": 0, \"Female\": 1}))\n",
    "# 0    0\n",
    "# 1    0\n",
    "# 2    1\n",
    "# 3    1\n",
    "# 4    0\n",
    "# Name: Sex, dtype: int64\n",
    "print(\"------\")\n",
    "\n",
    "# inplace = True <- 원본 변화 키워드(수정)\n",
    "df.Sex.replace({\"Male\": 0, \"Female\": 1}, inplace=True)\n",
    "print(df)\n",
    "#    Sex\n",
    "# 0    0\n",
    "# 1    0\n",
    "# 2    1\n",
    "# 3    1\n",
    "# 4    0"
   ]
  },
  {
   "cell_type": "markdown",
   "id": "7e3071e7",
   "metadata": {},
   "source": [
    "함수로 데이터 처리하기\n",
    "apply() 를 이용하면 함수를 이용하여 데이터 프레임에 값을 적용할 수 있습니다\n",
    "\n",
    "일정한 동작으로 데이터 프레임을 수정하고자 할 때 편리하게 이용할 수 있는 기능입니다.\n",
    "\n",
    "영상을 보며 apply()의 다양한 활용법을 알아보고, 실습 문제도 풀어보세요.\n",
    "\n",
    "\n",
    "지시사항\n",
    "데이터 프레임df에는 정수를 담고있는 Num 칼럼이 있습니다.\n",
    "\n",
    "df 데이터 프레임에 함수를 이용하여 Num의 제곱수를 나타내는 칼럼인 Square 칼럼을 추가하고, 데이터프레임을 출력해봅시다.\n",
    "\n",
    "Q1\n",
    "\n",
    "값을 받으면 제곱을 해서 돌려주는 함수를 만들어 봅시다.\n",
    "\n",
    "def square(x):\n",
    "    return x**2\n",
    "\n",
    "df[\"Square\"] = df[\"Num\"].apply(square)\n",
    "Copy\n",
    "apply로 칼럼에 함수를 적용해 봅시다.\n",
    "\n",
    "Q2\n",
    "\n",
    "함수 대신 람다 표현식으로도 적용하실 수 있습니다.\n",
    "\n",
    "df[\"Square\"] = df[\"Num\"].apply(lambda x: x ** 2)"
   ]
  },
  {
   "cell_type": "code",
   "execution_count": 21,
   "id": "8c209bac",
   "metadata": {},
   "outputs": [
    {
     "name": "stdout",
     "output_type": "stream",
     "text": [
      "   Num\n",
      "0    0\n",
      "1    1\n",
      "2    2\n",
      "3    3\n",
      "4    4 \n",
      "\n"
     ]
    }
   ],
   "source": [
    "import numpy as np\n",
    "import pandas as pd\n",
    "\n",
    "df = pd.DataFrame(np.arange(5), columns=[\"Num\"])\n",
    "print(df, \"\\n\")\n",
    "\n",
    "# 값을 받으면 제곱을 해서 돌려주는 함수\n",
    "def square(x):\n",
    "    return x**2\n",
    "\n",
    "# apply로 컬럼에 함수 적용\n",
    "df[\"Square\"] = df[\"Num\"].apply(square)\n",
    "\n",
    "# 람다 표현식으로도 적용하기\n",
    "df[\"Square\"] = df[\"Num\"].apply(lambda x: x ** 2)"
   ]
  },
  {
   "cell_type": "markdown",
   "id": "f6a74fa0",
   "metadata": {},
   "source": [
    "그룹으로 묶기"
   ]
  },
  {
   "cell_type": "markdown",
   "id": "d137351c",
   "metadata": {},
   "source": [
    "그룹으로 묶기\n",
    "\n",
    "간단한 집계를 넘어서서 조건부로 집계하고 싶은 경우"
   ]
  },
  {
   "cell_type": "code",
   "execution_count": 25,
   "id": "f788e82c",
   "metadata": {},
   "outputs": [
    {
     "name": "stdout",
     "output_type": "stream",
     "text": [
      "  key  data1  data2\n",
      "0   A      1      4\n",
      "1   B      2      1\n",
      "2   C      3      3\n",
      "3   A      1      1\n",
      "4   B      2      3\n",
      "5   C      3      5\n",
      "\n",
      "<pandas.core.groupby.generic.DataFrameGroupBy object at 0x00000174628B86A0>\n",
      "\n",
      "     data1  data2\n",
      "key              \n",
      "A        2      5\n",
      "B        4      4\n",
      "C        6      8\n",
      "\n",
      "           data2\n",
      "key data1       \n",
      "A   1          5\n",
      "B   2          4\n",
      "C   3          8\n"
     ]
    }
   ],
   "source": [
    "df = pd.DataFrame({\n",
    "    \"key\": [\"A\",\"B\",\"C\",\"A\",\"B\",\"C\"],\n",
    "    \"data1\":[1,2,3,1,2,3],\n",
    "    \"data2\":np.random.randint(0,6,6),\n",
    "})\n",
    "print(df)\n",
    "#   key  data1  data2\n",
    "# 0   A      1      4\n",
    "# 1   B      2      1\n",
    "# 2   C      3      3\n",
    "# 3   A      1      1\n",
    "# 4   B      2      3\n",
    "# 5   C      3      5\n",
    "print()\n",
    "\n",
    "# 키값이 같은 것 끼리 매칭만 됨\n",
    "print(df.groupby(\"key\"))\n",
    "# <pandas.core.groupby.generic.DataFrameGroupBy object at 0x000001746264D910>\n",
    "print()\n",
    "\n",
    "# 키를 기준으로 합계를 구함\n",
    "print(df.groupby(\"key\").sum())\n",
    "#       data1  data2\n",
    "# key              \n",
    "# A        2      5\n",
    "# B        4      4\n",
    "# C        6      8\n",
    "print()\n",
    "\n",
    "# key와 data1을 기준으로 합침 \n",
    "# data2의 값이 합쳐진다.\n",
    "print(df.groupby([\"key\",\"data1\"]).sum())\n",
    "#           data2\n",
    "# key data1       \n",
    "# A   1          5 \n",
    "# B   2          4\n",
    "# C   3          8"
   ]
  },
  {
   "cell_type": "markdown",
   "id": "28db80f5",
   "metadata": {},
   "source": [
    "aggregate\n",
    "\n",
    "groupby를 통해서 집계를 한번에 계산하는 방법 "
   ]
  },
  {
   "cell_type": "code",
   "execution_count": 26,
   "id": "b728f572",
   "metadata": {},
   "outputs": [
    {
     "name": "stdout",
     "output_type": "stream",
     "text": [
      "  key  data1  data2\n",
      "0   A      1      4\n",
      "1   B      2      1\n",
      "2   C      3      3\n",
      "3   A      1      1\n",
      "4   B      2      3\n",
      "5   C      3      5\n",
      "\n",
      "    data1            data2           \n",
      "      min median max   min median max\n",
      "key                                  \n",
      "A       1      1   1     1    2.5   4\n",
      "B       2      2   2     1    2.0   3\n",
      "C       3      3   3     3    4.0   5\n",
      "\n",
      "     data1  data2\n",
      "key              \n",
      "A        1      5\n",
      "B        2      4\n",
      "C        3      8\n"
     ]
    }
   ],
   "source": [
    "print(df)\n",
    "#    key  data1  data2\n",
    "# 0   A      1      4\n",
    "# 1   B      2      1\n",
    "# 2   C      3      3\n",
    "# 3   A      1      1\n",
    "# 4   B      2      3\n",
    "# 5   C      3      5\n",
    "print()\n",
    "\n",
    "# 키값으로 묶은 후\n",
    "# aggregate 연산\n",
    "# 첫번째 최소 , 중앙값 ,최대값\n",
    "print(df.groupby(\"key\").aggregate(['min', np.median, max]))\n",
    "#     data1            data2           \n",
    "#       min median max   min median max\n",
    "# key                                  \n",
    "# A       1      1   1     1    2.5   4\n",
    "# B       2      2   2     1    2.0   3\n",
    "# C       3      3   3     3    4.0   5\n",
    "print()\n",
    "\n",
    "# 키값으로 묶은 후\n",
    "# aggregate 연산\n",
    "# data1의 min값과\n",
    "# data2의 sum값\n",
    "print(df.groupby(\"key\").aggregate({\"data1\":\"min\", \"data2\":np.sum}))\n",
    "#       data1  data2\n",
    "# key              \n",
    "# A        1      5\n",
    "# B        2      4\n",
    "# C        3      8"
   ]
  },
  {
   "cell_type": "markdown",
   "id": "44c18abe",
   "metadata": {},
   "source": [
    "filter\n",
    "\n",
    "groupby를 통해서 그룹 속성을 기준으로 데이터 필터링"
   ]
  },
  {
   "cell_type": "code",
   "execution_count": 35,
   "id": "fff05246",
   "metadata": {},
   "outputs": [
    {
     "name": "stdout",
     "output_type": "stream",
     "text": [
      "  key  data1  data2\n",
      "0   A      1      4\n",
      "1   B      2      1\n",
      "2   C      3      3\n",
      "3   A      1      1\n",
      "4   B      2      3\n",
      "5   C      3      5\n",
      "\n",
      "     data1  data2\n",
      "key              \n",
      "A        1    2.5\n",
      "B        2    2.0\n",
      "C        3    4.0\n",
      "\n",
      "  key  data1  data2\n",
      "2   C      3      3\n",
      "5   C      3      5\n"
     ]
    }
   ],
   "source": [
    "def filter_by_mean(x):\n",
    "    return x['data2'].mean() > 3\n",
    "\n",
    "print(df)\n",
    "#    key  data1  data2\n",
    "# 0   A      1      4\n",
    "# 1   B      2      1\n",
    "# 2   C      3      3\n",
    "# 3   A      1      1\n",
    "# 4   B      2      3\n",
    "# 5   C      3      5\n",
    "print()\n",
    "\n",
    "print(df.groupby('key').mean())\n",
    "#       data1  data2\n",
    "# key              \n",
    "# A        1    2.5\n",
    "# B        2    2.0\n",
    "# C        3    4.0\n",
    "print()\n",
    "\n",
    "print(df.groupby(\"key\").filter(filter_by_mean))\n",
    "#   key  data1  data2\n",
    "# 2   C      3      3\n",
    "# 5   C      3      5"
   ]
  },
  {
   "cell_type": "markdown",
   "id": "c7c0204a",
   "metadata": {},
   "source": [
    "apply\n",
    "\n",
    "groupby를 통해서 묶인 데이터에 함수 적용"
   ]
  },
  {
   "cell_type": "code",
   "execution_count": 37,
   "id": "2e79f4ed",
   "metadata": {},
   "outputs": [
    {
     "name": "stdout",
     "output_type": "stream",
     "text": [
      "     data1  data2\n",
      "key              \n",
      "A        0      3\n",
      "B        0      2\n",
      "C        0      2\n"
     ]
    }
   ],
   "source": [
    "print(df.groupby(\"key\").apply(lambda x : x.max() - x.min()))"
   ]
  },
  {
   "cell_type": "markdown",
   "id": "9c032d56",
   "metadata": {},
   "source": [
    "get_group\n",
    "\n",
    "groupby로 묶인 데이터에서 key값으로 데이터를 가져올 수 있다."
   ]
  },
  {
   "cell_type": "code",
   "execution_count": null,
   "id": "2c20ab32",
   "metadata": {},
   "outputs": [],
   "source": [
    "df = pd.read_csv(\"./univ.csv\")\n",
    "# 대학교 데이터 셋 가정\n",
    "# 시도명 학교명 \n",
    "\n",
    "\n",
    "df.head()\n",
    "\n",
    "# 시도 별로 묶고 충남의 데이터만 가져와라\n",
    "df.groupby(\"시도\").get_group(\"충남\")\n",
    "\n",
    "# 충남의 데이터 갯수는?\n",
    "len(df.groupby(\"시도\").get_group(\"충남\"))"
   ]
  },
  {
   "cell_type": "markdown",
   "id": "17d5dfb9",
   "metadata": {},
   "source": [
    "그룹으로 묶기\n",
    "groupby() 함수를 이용하면 키 값을 기준으로 그룹으로 묶을 수 있습니다.\n",
    "\n",
    "groupby() 함수의 사용 예시를 들자면, 시험 성적 데이터에서 각 반을 그룹으로 묶어 각 반의 평균 점수를 구할 수 있습니다.\n",
    "\n",
    "‘그룹으로 묶는다’ 는 의미가 잘 와닿지 않으신가요?\n",
    "\n",
    "영상을 보고 groupby함수의 사용법을 알아보고, 실습 문제를 풀어 제출해봅시다.\n",
    "\n",
    "\n",
    "지시사항\n",
    "Q1\n",
    "\n",
    "데이터 프레임의 key 칼럼을 groupby함수로 묶고, key별로 data1과 data2 합계를 출력해보세요.\n",
    "\n",
    "Q2\n",
    "\n",
    "데이터 프레임의 key와 data1칼럼을 groupby함수로 묶고, key와 data1별로 data2의 합계를 출력해보세요."
   ]
  },
  {
   "cell_type": "code",
   "execution_count": null,
   "id": "e79a2956",
   "metadata": {},
   "outputs": [],
   "source": [
    "import numpy as np\n",
    "import pandas as pd\n",
    "\n",
    "df = pd.DataFrame({\n",
    "    'key': ['A', 'B', 'C', 'A', 'B', 'C'],\n",
    "    'data1': [1, 2, 3, 1, 2, 3],\n",
    "    'data2': [4, 4, 6, 0, 6, 1]\n",
    "})\n",
    "print(\"DataFrame:\")\n",
    "print(df, \"\\n\")\n",
    "\n",
    "# groupby 함수를 이용해봅시다.\n",
    "# key를 기준으로 묶어 합계를 구해 출력해보세요.\n",
    "print(df.groupby(\"key\").sum())\n",
    "\n",
    "# key와 data1을 기준으로 묶어 합계를 구해 출력해보세요.\n",
    "print(df.groupby([\"key\",\"data1\"]).sum())\n",
    "\n",
    "\n"
   ]
  },
  {
   "cell_type": "markdown",
   "id": "ca6affa3",
   "metadata": {},
   "source": [
    "그룹으로 묶기(2)\n",
    "aggregate() 함수를 이용하여 키값을 기준으로 그룹으로 묶은 결과의 요약 통계량을 구해봅시다.\n",
    "\n",
    "aggregate() 함수의 결과값 또한 데이터프레임으로 반환되어 한 눈에 보기 편리합니다.\n",
    "\n",
    "영상을 보며 aggregate() 함수의 사용법을 익히고 실습 문제를 풀어 제출해봅시다.\n",
    "\n",
    "\n",
    "지시사항\n",
    "aggregate()함수로 요약 통계량을 출력해보세요.\n",
    "\n",
    "Q1\n",
    "\n",
    "데이터 프레임을 key를 기준으로 묶고, key별 data1과 data2 각각의 최솟값과 중앙값, 최댓값을 출력해봅시다.\n",
    "\n",
    "Q2\n",
    "\n",
    "데이터 프레임을 key를 기준으로 묶고, key별 data1의 최솟값과 data2의 합계를 출력해봅시다.\n",
    "\n",
    "Tip\n",
    "agregate 메소드에 함수를 매개변수로 넣어줄 때,\n",
    "\n",
    "df.groupby('key').aggregate([min, np.median, max])\n",
    "Copy\n",
    "min, max, mean, count 등의 특정 함수들은 문자열 형태로 넘겨주실 수 있습니다.\n",
    "\n",
    "예)\n",
    "\n",
    "df.groupby('key').aggregate(['min', np.median, 'max'])"
   ]
  },
  {
   "cell_type": "code",
   "execution_count": 38,
   "id": "5a3ee5a8",
   "metadata": {
    "scrolled": true
   },
   "outputs": [
    {
     "name": "stdout",
     "output_type": "stream",
     "text": [
      "DataFrame:\n",
      "  key  data1  data2\n",
      "0   A      0      4\n",
      "1   B      1      4\n",
      "2   C      2      6\n",
      "3   A      3      0\n",
      "4   B      4      6\n",
      "5   C      5      1 \n",
      "\n",
      "    data1            data2           \n",
      "      min median max   min median max\n",
      "key                                  \n",
      "A       0    1.5   3     0    2.0   4\n",
      "B       1    2.5   4     4    5.0   6\n",
      "C       2    3.5   5     1    3.5   6\n",
      "     data1  data2\n",
      "key              \n",
      "A        0      4\n",
      "B        1     10\n",
      "C        2      7\n"
     ]
    }
   ],
   "source": [
    "import numpy as np\n",
    "import pandas as pd\n",
    "\n",
    "df = pd.DataFrame({\n",
    "    'key': ['A', 'B', 'C', 'A', 'B', 'C'],\n",
    "    'data1': [0, 1, 2, 3, 4, 5],\n",
    "    'data2': [4, 4, 6, 0, 6, 1]\n",
    "})\n",
    "print(\"DataFrame:\")\n",
    "print(df, \"\\n\")\n",
    "\n",
    "# aggregate를 이용하여 요약 통계량을 산출해봅시다.\n",
    "# 데이터 프레임을 'key' 칼럼으로 묶고, data1과 data2 각각의 최솟값, 중앙값, 최댓값을 출력하세요.\n",
    "print(df.groupby('key').aggregate([min, np.median, max]))\n",
    "\n",
    "# 데이터 프레임을 'key' 칼럼으로 묶고, data1의 최솟값, data2의 합계를 출력하세요.\n",
    "print(df.groupby(\"key\").aggregate({\"data1\":\"min\", \"data2\":np.sum}))\n"
   ]
  },
  {
   "cell_type": "markdown",
   "id": "d897db84",
   "metadata": {},
   "source": [
    "그룹으로 묶기(3)\n",
    "그룹으로 묶은 값에 filter() 함수와 apply() 함수를 적용하고, 설정한 조건으로 데이터 프레임에서 원하는 값만 추출할 수 있습니다.\n",
    "\n",
    "영상을 보며 그룹핑한 데이터 프레임에 filter() 함수와 apply() 함수를 적용하는 방법을 알아보고, 실습 문제를 풀어보세요.\n",
    "\n",
    "\n",
    "지시사항\n",
    "Q1\n",
    "\n",
    "filter 함수를 이용하여 key별로 그룹을 묶고, 그룹별 data2 평균이 3이 넘는 데이터만 출력해봅시다.\n",
    "\n",
    "Q2\n",
    "\n",
    "apply 함수와 람다식을 이용해서, key를 기준으로 묶은 그룹별 data1과 data2 변수의 최댓값에서 최솟값을 뺀 값을 출력해보세요."
   ]
  },
  {
   "cell_type": "code",
   "execution_count": null,
   "id": "d47389cf",
   "metadata": {},
   "outputs": [],
   "source": [
    "import numpy as np\n",
    "import pandas as pd\n",
    "\n",
    "df = pd.DataFrame({\n",
    "    'key': ['A', 'B', 'C', 'A', 'B', 'C'],\n",
    "    'data1': [0, 1, 2, 3, 4, 5],\n",
    "    'data2': [4, 4, 6, 0, 6, 1]\n",
    "})\n",
    "print(\"DataFrame:\")\n",
    "print(df, \"\\n\")\n",
    "\n",
    "# groupby()로 묶은 데이터에 filter를 적용해봅시다.\n",
    "# key별 data2의 평균이 3이 넘는 인덱스만 출력해봅시다.\n",
    "def filter_by_mean(x):\n",
    "    return x['data2'].mean() > 3\n",
    "\n",
    "print(\"filtering : \")\n",
    "print(df.groupby(\"key\").filter(filter_by_mean))\n",
    "\n",
    "\n",
    "\n",
    "# groupby()로 묶은 데이터에 apply도 적용해봅시다.\n",
    "# 람다식을 이용해 최댓값에서 최솟값을 뺀 값을 적용해봅시다.\n",
    "\n",
    "print(\"applying : \")\n",
    "print(df.groupby(\"key\").apply(lambda x : x.max() - x.min()))\n"
   ]
  },
  {
   "cell_type": "markdown",
   "id": "56a1f86c",
   "metadata": {},
   "source": [
    "MultiIndex & pivot_table"
   ]
  },
  {
   "cell_type": "markdown",
   "id": "f7ba9093",
   "metadata": {},
   "source": [
    "MultiIndex\n",
    "\n",
    "인덱스를 계층적으로 만들 수 있다."
   ]
  },
  {
   "cell_type": "code",
   "execution_count": 1,
   "id": "3513c340",
   "metadata": {},
   "outputs": [
    {
     "name": "stdout",
     "output_type": "stream",
     "text": [
      "        data1     data2\n",
      "A 1  2.230673  0.221057\n",
      "  2 -0.858626  0.536208\n",
      "B 1  1.492670  0.031554\n",
      "  2  0.403012  0.210662\n"
     ]
    }
   ],
   "source": [
    "import pandas as pd\n",
    "import numpy as np\n",
    "\n",
    "df = pd.DataFrame(\n",
    "    np.random.randn(4,2),\n",
    "    index = [list(\"AABB\"),[1,2,1,2]],\n",
    "    columns=['data1',\"data2\"])\n",
    "\n",
    "print(df)\n",
    "#         data1     data2\n",
    "# A 1  2.230673  0.221057\n",
    "#   2 -0.858626  0.536208\n",
    "# B 1  1.492670  0.031554\n",
    "#   2  0.403012  0.210662"
   ]
  },
  {
   "cell_type": "markdown",
   "id": "eeaa8331",
   "metadata": {},
   "source": [
    "MultiIndex\n",
    "\n",
    "열 인덱스도 계층적으로 만들 수 있다."
   ]
  },
  {
   "cell_type": "code",
   "execution_count": 2,
   "id": "404ef01d",
   "metadata": {
    "scrolled": true
   },
   "outputs": [
    {
     "name": "stdout",
     "output_type": "stream",
     "text": [
      "          A                   B          \n",
      "          1         2         1         2\n",
      "0 -0.685540 -0.635519  0.879525 -0.525268\n",
      "1  1.185161 -0.376338  0.602688  0.703866\n",
      "2 -1.095317  1.284727  0.273242 -0.737770\n",
      "3  1.289159  2.254178 -0.395402 -0.441139\n"
     ]
    }
   ],
   "source": [
    "df = pd.DataFrame(\n",
    "    np.random.randn(4,4),\n",
    "    columns=[list(\"AABB\"),list(\"1212\")])\n",
    "print(df)\n",
    "#           A                   B          \n",
    "#           1         2         1         2\n",
    "# 0 -0.685540 -0.635519  0.879525 -0.525268\n",
    "# 1  1.185161 -0.376338  0.602688  0.703866\n",
    "# 2 -1.095317  1.284727  0.273242 -0.737770\n",
    "# 3  1.289159  2.254178 -0.395402 -0.441139\n"
   ]
  },
  {
   "cell_type": "markdown",
   "id": "2f80d6e0",
   "metadata": {},
   "source": [
    "MultiIndex\n",
    "\n",
    "다중 인덱스 컬럼의 경우 인덱싱은 계층적으로 한다\n",
    "인덱스 탐색의 경우에는 loc, iloc를 사용가능하다"
   ]
  },
  {
   "cell_type": "code",
   "execution_count": 3,
   "id": "d82b1293",
   "metadata": {},
   "outputs": [
    {
     "name": "stdout",
     "output_type": "stream",
     "text": [
      "          1         2\n",
      "0 -0.685540 -0.635519\n",
      "1  1.185161 -0.376338\n",
      "2 -1.095317  1.284727\n",
      "3  1.289159  2.254178\n",
      "0   -0.685540\n",
      "1    1.185161\n",
      "2   -1.095317\n",
      "3    1.289159\n",
      "Name: 1, dtype: float64\n"
     ]
    }
   ],
   "source": [
    "print(df[\"A\"])\n",
    "#           1         2\n",
    "# 0 -0.685540 -0.635519\n",
    "# 1  1.185161 -0.376338\n",
    "# 2 -1.095317  1.284727\n",
    "# 3  1.289159  2.254178\n",
    "\n",
    "print(df[\"A\"][\"1\"])\n",
    "# 0   -0.685540\n",
    "# 1    1.185161\n",
    "# 2   -1.095317\n",
    "# 3    1.289159\n",
    "# Name: 1, dtype: float64"
   ]
  },
  {
   "cell_type": "markdown",
   "id": "3e490f04",
   "metadata": {},
   "source": [
    "pivot_table\n",
    "\n",
    "데이터에서 필요한 자료만 뽑아서 새롭게 요약,\n",
    "분석 할 수 있는 기능 엑셀에서의 피봇 테이블과 같다\n",
    "\n",
    "index는 행 인덱스로 들어갈 key\n",
    "column에 열 인덱스로 라벨링될 값 \n",
    "value에 분석할 데이터"
   ]
  },
  {
   "cell_type": "code",
   "execution_count": 11,
   "id": "87378d1c",
   "metadata": {},
   "outputs": [
    {
     "name": "stdout",
     "output_type": "stream",
     "text": [
      "  survived pclass     sex   age sibsp parch    fare embarked  class    who\n",
      "0        0      3    male  22.0     1     0   7.250        S  Third    man\n",
      "1        1      1  female  38.0     1     0  71.280        C  First  woman\n",
      "2        1      3  female  26.0     0     0   7.925        S  Third  woman\n",
      "3        1      1  female  35.0     1     0  53.100        S  First  woman\n",
      "4        0      3    male  35.0     0     0   8.050        S  Third    man\n"
     ]
    }
   ],
   "source": [
    "df = pd.DataFrame(\n",
    "    columns =[\"survived\",\n",
    "             \"pclass\",\n",
    "             \"sex\",\n",
    "             \"age\",\n",
    "             \"sibsp\",\n",
    "             \"parch\",\n",
    "             \"fare\",\n",
    "             \"embarked\",\n",
    "             \"class\",\n",
    "             \"who\"]\n",
    "    )\n",
    "df.loc[0] = [0,3,\"male\",22.0,1,0,7.2500,\"S\",\"Third\",\"man\"]\n",
    "df.loc[1] = [1,1,\"female\",38.0,1,0,71.2800,\"C\",\"First\",\"woman\"]\n",
    "df.loc[2] = [1,3,\"female\",26.0,0,0,7.9250,\"S\",\"Third\",\"woman\"]\n",
    "df.loc[3] = [1,1,\"female\",35.0,1,0,53.1000,\"S\",\"First\",\"woman\"]\n",
    "df.loc[4] = [0,3,\"male\",35.0,0,0,8.0500,\"S\",\"Third\",\"man\"]\n",
    "\n",
    "print(df)"
   ]
  },
  {
   "cell_type": "markdown",
   "id": "840d639b",
   "metadata": {},
   "source": [
    "pivot_table\n",
    "\n",
    "타이타닉 데이터에서 성별과 좌석별 생존률 구하기"
   ]
  },
  {
   "cell_type": "code",
   "execution_count": null,
   "id": "c717b70f",
   "metadata": {},
   "outputs": [],
   "source": [
    "pt = df.pivot_table(\n",
    "        index = \"sex\", \n",
    "        columns = \"class\",\n",
    "        values = \"survived\",\n",
    "        aggfunc = np.mean\n",
    "    )\n",
    "# 오류 남 사유 모르겠음"
   ]
  },
  {
   "cell_type": "code",
   "execution_count": null,
   "id": "ee09ccf7",
   "metadata": {},
   "outputs": [],
   "source": [
    "# class  First   Second    Third\n",
    "# sex\n",
    "# -------------------------------\n",
    "# female 0.968085 0.921053 0.500000\n",
    "#   maie 0.368852 0.157407 0.135447"
   ]
  },
  {
   "cell_type": "markdown",
   "id": "f32e3dff",
   "metadata": {},
   "source": [
    "pivot_table"
   ]
  },
  {
   "cell_type": "code",
   "execution_count": null,
   "id": "98bdc4a8",
   "metadata": {},
   "outputs": [],
   "source": [
    "df.pivot_table(\n",
    "    index=\"월별\",colunms=\"내역\",values=[\"수입\",\"지출\"])"
   ]
  },
  {
   "cell_type": "markdown",
   "id": "06e8ae1c",
   "metadata": {},
   "source": [
    "Multi Index & Pivot Table\n",
    "인덱스를 계층적으로 만드는 방법 Multi Index에 대해 알아봅시다.\n",
    "\n",
    "또한, 데이터에서 필요한 데이터만 뽑아서 새롭게 요약 분석할 수 있는 Pivot Table에 대해서도 알아봅시다.\n",
    "\n",
    "\n",
    "지시사항\n",
    "실행 버튼을 눌러 멀티 인덱스를 활용한 데이터 프레임을 출력해보세요.\n",
    "\n",
    "인덱스가 A와 B, 1과 2로 나뉘어져 있는 경우에 출력되는 결과와 멀티 인덱스가 있는 테이블의 인덱싱 방법을 확인해보세요."
   ]
  },
  {
   "cell_type": "code",
   "execution_count": 22,
   "id": "639aecc4",
   "metadata": {},
   "outputs": [
    {
     "name": "stdout",
     "output_type": "stream",
     "text": [
      "DataFrame1\n",
      "        data1     data2\n",
      "A 1 -0.746049 -0.747254\n",
      "  2 -0.121364  0.034640\n",
      "B 1 -0.354136 -0.201706\n",
      "  2  0.697230 -0.047208 \n",
      "\n",
      "DataFrame2\n",
      "          A                   B          \n",
      "          1         2         1         2\n",
      "0  0.335617  2.690572  0.248754  0.837763\n",
      "1 -0.206843  0.783780  0.464458 -0.214835\n",
      "2 -0.894297  1.820583 -0.125424  0.905515\n",
      "3  0.311552  0.027370 -0.108191 -0.547677 \n",
      "\n",
      "df1.loc['A', 1]\n",
      "data1   -0.746049\n",
      "data2   -0.747254\n",
      "Name: (A, 1), dtype: float64 \n",
      "\n",
      "df2[\"A\"][\"1\"]\n",
      "0    0.335617\n",
      "1   -0.206843\n",
      "2   -0.894297\n",
      "3    0.311552\n",
      "Name: 1, dtype: float64 \n",
      "\n"
     ]
    }
   ],
   "source": [
    "import numpy as np\n",
    "import pandas as pd\n",
    "\n",
    "df1 = pd.DataFrame(\n",
    "    np.random.randn(4, 2), \n",
    "    index=[['A', 'A', 'B', 'B'], [1, 2, 1, 2]],\n",
    "    columns=['data1', 'data2']\n",
    ")\n",
    "print(\"DataFrame1\")\n",
    "print(df1, \"\\n\")\n",
    "\n",
    "df2 = pd.DataFrame(\n",
    "    np.random.randn(4, 4),\n",
    "    columns=[[\"A\", \"A\", \"B\", \"B\"], [\"1\", \"2\", \"1\", \"2\"]]\n",
    ")\n",
    "print(\"DataFrame2\")\n",
    "print(df2, \"\\n\")\n",
    "\n",
    "# 명시적 인덱싱을 활용한 df1의 인덱스 출력\n",
    "print(\"df1.loc['A', 1]\")\n",
    "print(df1.loc['A', 1], \"\\n\") \n",
    "\n",
    "\n",
    "# df2의 [A][1] 칼럼 출력\n",
    "print('df2[\"A\"][\"1\"]')\n",
    "print(df2[\"A\"][\"1\"], \"\\n\")\n"
   ]
  }
 ],
 "metadata": {
  "kernelspec": {
   "display_name": "Python 3",
   "language": "python",
   "name": "python3"
  },
  "language_info": {
   "codemirror_mode": {
    "name": "ipython",
    "version": 3
   },
   "file_extension": ".py",
   "mimetype": "text/x-python",
   "name": "python",
   "nbconvert_exporter": "python",
   "pygments_lexer": "ipython3",
   "version": "3.8.8"
  }
 },
 "nbformat": 4,
 "nbformat_minor": 5
}
