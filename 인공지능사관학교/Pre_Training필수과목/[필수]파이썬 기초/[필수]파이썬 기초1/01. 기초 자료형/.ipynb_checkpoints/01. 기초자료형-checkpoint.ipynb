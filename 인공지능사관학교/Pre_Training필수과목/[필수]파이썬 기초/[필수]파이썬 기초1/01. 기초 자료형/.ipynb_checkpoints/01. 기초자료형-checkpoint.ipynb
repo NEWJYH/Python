{
 "cells": [
  {
   "cell_type": "code",
   "execution_count": 1,
   "id": "8a60d41f",
   "metadata": {},
   "outputs": [
    {
     "data": {
      "text/plain": [
       "'\\n주석입니다만?\\n'"
      ]
     },
     "execution_count": 1,
     "metadata": {},
     "output_type": "execute_result"
    }
   ],
   "source": [
    "# 주석\n",
    "'''\n",
    "'''\n",
    "\"\"\"\n",
    "\"\"\""
   ]
  },
  {
   "cell_type": "code",
   "execution_count": null,
   "id": "7be86270",
   "metadata": {},
   "outputs": [],
   "source": [
    "# 변수\n",
    "# 자료를 '그릇'에 담아서 보관, 사용하면 편리합니다.\n",
    "# 이를 변수(variable)라고 부릅니다.\n",
    "\n",
    "# 변수 사용방법\n",
    "# 변수 이름 = 자료\n",
    "# 등호 = 는 같다의 의미가 아니라 넣어준다는 의미 (대입)\n",
    "num = 10 # 숫자\n",
    "name = \"Michael\" # 문자열\n",
    "grade = [\"A+\", \"B+\",\"C+\"] # 리스트\n",
    "\n",
    "# 변수 이름 짓는 방법\n",
    "# 숫자, 알파벳, 한글, 언더바(_)등을 사용할 수 있다.\n",
    "\n",
    "# 사용할수 없는 변수 이름\n",
    "# 1. 변수이름이 숫자로 시작하면 안된다.\n",
    "# 2. 숫자로만 구성된 변수 이름 금지\n",
    "# 3. 파이썬 문법에서 사용되는 예약어\n",
    "#    (이미 사용되는 단어 : for, while, if ...) 사용금지\n",
    "# 4. 공백 문자(space)와 연산자(+,-,% 등) 사용금지"
   ]
  },
  {
   "cell_type": "code",
   "execution_count": 3,
   "id": "d95bc9ca",
   "metadata": {},
   "outputs": [
    {
     "name": "stdout",
     "output_type": "stream",
     "text": [
      "8\n",
      "-2\n",
      "15\n",
      "0.6\n",
      "0\n"
     ]
    }
   ],
   "source": [
    "# 자료형의 연산\n",
    "\n",
    "# 수학의 사칙연산\n",
    "# + 더하기, - 빼기, * 곱하기, / 나누기\n",
    "\n",
    "# 숫자형 자료의 사칙연산\n",
    "print(3+5) \n",
    "print(3-5) \n",
    "print(3*5)\n",
    "print(3/5)\n",
    "print(3//5)"
   ]
  },
  {
   "cell_type": "code",
   "execution_count": 4,
   "id": "6e912b55",
   "metadata": {},
   "outputs": [
    {
     "name": "stdout",
     "output_type": "stream",
     "text": [
      "2\n",
      "3\n",
      "16\n"
     ]
    }
   ],
   "source": [
    "# 숫자형 자료의 특수연산\n",
    "# // 몫 연산자\n",
    "# % 나머지 연산자\n",
    "# ** 제곱 연산자\n",
    "print(13//5)\n",
    "print(13%5)\n",
    "print(2**4)"
   ]
  },
  {
   "cell_type": "code",
   "execution_count": 5,
   "id": "f228bf86",
   "metadata": {},
   "outputs": [
    {
     "name": "stdout",
     "output_type": "stream",
     "text": [
      "안녕하세요\n",
      "안녕안녕안녕\n"
     ]
    }
   ],
   "source": [
    "# 문자형 자료의 연산\n",
    "# + 이어붙이기 with 문자열\n",
    "# * 반복하기 with 숫자\n",
    "print(\"안녕\"+\"하세요\") # 안녕하세요\n",
    "print(\"안녕\"*3)# 안녕안녕안녕"
   ]
  },
  {
   "cell_type": "code",
   "execution_count": 7,
   "id": "1c610b75",
   "metadata": {},
   "outputs": [
    {
     "name": "stdout",
     "output_type": "stream",
     "text": [
      "e\n",
      "[6, 8, 10]\n"
     ]
    }
   ],
   "source": [
    "# 문자열/리스트 접근하기\n",
    "# 'rescue'와 'secure'은 다른 문자열 입니다.\n",
    "# [1,2,3]과 [3,2,1]은 다른 리스트입니다.\n",
    "# why?\n",
    "# 원소의 배치 순서가 다르기 때문입니다.\n",
    "\n",
    "# 인덱스\n",
    "# 문자열과 리스트 자료형은 여러 원소로 이루어져 있고\n",
    "# 각각의 위치를 0부터 순서대로 매길수 있습니다.\n",
    "# = 인덱스\n",
    "# \"R e a d y\"\n",
    "#  0 1 2 3 4\n",
    "# [2, 4, 6, 8]\n",
    "#  0  1  2  3\n",
    "\n",
    "# 인덱싱\n",
    "# Index를 이용해서 리스트나 문자열의 특정 위치의 원소를 가져오는 방법\n",
    "# string/list[index]\n",
    "alpha = \"Ready\"\n",
    "print(alpha[1])\n",
    "\n",
    "# 슬라이싱\n",
    "# Index를 이용해서 리스트나 문자열의 일부분을 잘라서 가져오는 방법\n",
    "# string/list [a(시작인덱스):b(종료인덱스)]\n",
    "# beta에서 2번째 원소 이상, 5번째 원소 미만을 가져온다.\n",
    "beta = [2, 4, 6, 8, 10, 12, 14]\n",
    "#       0  1  2  3   4   5   6\n",
    "print(beta[2:5])\n",
    "# 리스트 슬라이싱 -> 리스트\n",
    "# 문자열 슬라이싱 -> 문자열\n",
    "# 새로운 객체로 "
   ]
  },
  {
   "cell_type": "code",
   "execution_count": null,
   "id": "1dd1c2a7",
   "metadata": {},
   "outputs": [],
   "source": []
  }
 ],
 "metadata": {
  "kernelspec": {
   "display_name": "Python 3",
   "language": "python",
   "name": "python3"
  },
  "language_info": {
   "codemirror_mode": {
    "name": "ipython",
    "version": 3
   },
   "file_extension": ".py",
   "mimetype": "text/x-python",
   "name": "python",
   "nbconvert_exporter": "python",
   "pygments_lexer": "ipython3",
   "version": "3.8.8"
  }
 },
 "nbformat": 4,
 "nbformat_minor": 5
}
