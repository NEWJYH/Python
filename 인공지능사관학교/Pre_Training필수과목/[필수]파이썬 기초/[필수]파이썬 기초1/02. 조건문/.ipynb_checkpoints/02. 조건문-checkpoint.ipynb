{
 "cells": [
  {
   "cell_type": "code",
   "execution_count": null,
   "id": "9487041b",
   "metadata": {},
   "outputs": [],
   "source": [
    "# [이론]\n",
    "# 입력 : input()"
   ]
  },
  {
   "cell_type": "code",
   "execution_count": null,
   "id": "e5b8f918",
   "metadata": {},
   "outputs": [],
   "source": [
    "# 입력\n",
    "# print()를 이용해 컴퓨터로부터\n",
    "# 정보를 전달 받았다면,(출력)\n",
    "# 이제는 정보를 컴퓨터에게 전달해주자.(입력)\n",
    "# 사용자 <-(print) (input)-> 컴퓨터\n",
    "\n",
    "# 이때, 컴퓨터는 사용자가 전달한 값을 어딘가에 보관해야 한다.\n",
    "# -> 변수를 사용 !\n",
    "\n",
    "# input()\n",
    "# 변수 = input()\n",
    "# = 같다가 아니라 대입\n",
    "# var = input()"
   ]
  },
  {
   "cell_type": "code",
   "execution_count": 1,
   "id": "111170fc",
   "metadata": {},
   "outputs": [
    {
     "name": "stdout",
     "output_type": "stream",
     "text": [
      "345 345\n",
      "<class 'str'>\n",
      "<class 'int'>\n"
     ]
    }
   ],
   "source": [
    "# input()의 중요한 특징\n",
    "\n",
    "# 무엇을 입력하든 \"문자열\"로 입력 받아진다!\n",
    "# 만약 숫자를 입력해야 한다면 어떻게 해야할까?\n",
    "# 입력을 받은 후에 가공해주어야 한다! \n",
    "\n",
    "# 어떻게 가공해주지?\n",
    "# 문자열을 숫자로 바꾸고 싶어 !\n",
    "# 자료형 사이의 변환 -> 형 변환!\n",
    "\n",
    "\n",
    "# 형 변환\n",
    "# 바꿀_자료형(바뀔_자료)\n",
    "# integer int # 숫자(정수)\n",
    "# float float # 숫자(실수)\n",
    "# string str # 문자열\n",
    "# list list # 리스트\n",
    "\n",
    "\n",
    "a = '345' \n",
    "b = int(\"345\") \n",
    "print(a, b) # 345 345\n",
    "print(type(a)) # <class 'str'> # 문자열\n",
    "print(type(b)) # <class 'int'> # 숫자"
   ]
  },
  {
   "cell_type": "code",
   "execution_count": 2,
   "id": "feaaa1de",
   "metadata": {},
   "outputs": [
    {
     "name": "stdout",
     "output_type": "stream",
     "text": [
      "True\n",
      "False\n",
      "False\n",
      "True\n"
     ]
    }
   ],
   "source": [
    "# 논리 자료형과 비교연산\n",
    "\n",
    "# 2-1. 논리 자료형\n",
    "# 참(True) 혹은 거짓(False)을 \n",
    "# 나타내는 자료형을 논리 자료형이라고 합니다.\n",
    "\n",
    "# 2-2. 비교 연산자\n",
    "# 숫자나 문자의 값을 비교하는 연산자\n",
    "# 주어진 진술이 참이면 True, 거짓이면 False.\n",
    "print(3<5) # True \n",
    "print(7==5) # False\n",
    "print(2>=10) # False\n",
    "print(5!=10) # True\n",
    "\n",
    "# 비교 연산자의 종류\n",
    "# == 같다\n",
    "# != 다르다\n",
    "# > 왼쪽이 더 크다\n",
    "# < 오른쪽이 더 크다\n",
    "# >= 왼쪽이 같거나 크다\n",
    "# <= 오른쪽이 같거나 크다"
   ]
  },
  {
   "cell_type": "code",
   "execution_count": 4,
   "id": "5d7b0a81",
   "metadata": {},
   "outputs": [
    {
     "name": "stdout",
     "output_type": "stream",
     "text": [
      "True\n",
      "True\n"
     ]
    }
   ],
   "source": [
    "# 2-3 논리 자료형의 연산\n",
    "# True, False 밖에 없는 논리 자료형\n",
    "# ->새로운 연산이 필요해!\n",
    "\n",
    "# 1. AND(모두 True니?)\n",
    "# 각 논리가 모두 True여야 True!\n",
    "print(3==3 and 4<=5 and 6>2)\n",
    "# 세항이 모두 True이므로, True\n",
    "\n",
    "# 2. OR(True가 있니?)\n",
    "# 논리들 중 True가 존재하면 True\n",
    "print(3==4 or 4<=5 or 6<2)\n",
    "# 4<=5가 True이므로, True가 존재하기에 True!\n"
   ]
  },
  {
   "cell_type": "code",
   "execution_count": null,
   "id": "98723439",
   "metadata": {},
   "outputs": [],
   "source": []
  }
 ],
 "metadata": {
  "kernelspec": {
   "display_name": "Python 3",
   "language": "python",
   "name": "python3"
  },
  "language_info": {
   "codemirror_mode": {
    "name": "ipython",
    "version": 3
   },
   "file_extension": ".py",
   "mimetype": "text/x-python",
   "name": "python",
   "nbconvert_exporter": "python",
   "pygments_lexer": "ipython3",
   "version": "3.8.8"
  }
 },
 "nbformat": 4,
 "nbformat_minor": 5
}
