{
 "cells": [
  {
   "cell_type": "code",
   "execution_count": null,
   "id": "b7511c61",
   "metadata": {},
   "outputs": [],
   "source": [
    "# [이론]\n",
    "# 입력 : input()"
   ]
  },
  {
   "cell_type": "code",
   "execution_count": null,
   "id": "90c891f3",
   "metadata": {},
   "outputs": [],
   "source": [
    "# 입력\n",
    "# print()를 이용해 컴퓨터로부터\n",
    "# 정보를 전달 받았다면,(출력)\n",
    "# 이제는 정보를 컴퓨터에게 전달해주자.(입력)\n",
    "# 사용자 <-(print) (input)-> 컴퓨터\n",
    "\n",
    "# 이때, 컴퓨터는 사용자가 전달한 값을 어딘가에 보관해야 한다.\n",
    "# -> 변수를 사용 !\n",
    "\n",
    "# input()\n",
    "# 변수 = input()\n",
    "# = 같다가 아니라 대입\n",
    "# var = input()"
   ]
  },
  {
   "cell_type": "code",
   "execution_count": 1,
   "id": "87d0c465",
   "metadata": {},
   "outputs": [
    {
     "name": "stdout",
     "output_type": "stream",
     "text": [
      "345 345\n",
      "<class 'str'>\n",
      "<class 'int'>\n"
     ]
    }
   ],
   "source": [
    "# input()의 중요한 특징\n",
    "\n",
    "# 무엇을 입력하든 \"문자열\"로 입력 받아진다!\n",
    "# 만약 숫자를 입력해야 한다면 어떻게 해야할까?\n",
    "# 입력을 받은 후에 가공해주어야 한다! \n",
    "\n",
    "# 어떻게 가공해주지?\n",
    "# 문자열을 숫자로 바꾸고 싶어 !\n",
    "# 자료형 사이의 변환 -> 형 변환!\n",
    "\n",
    "\n",
    "# 형 변환\n",
    "# 바꿀_자료형(바뀔_자료)\n",
    "# integer int # 숫자(정수)\n",
    "# float float # 숫자(실수)\n",
    "# string str # 문자열\n",
    "# list list # 리스트\n",
    "\n",
    "\n",
    "a = '345' \n",
    "b = int(\"345\") \n",
    "print(a, b) # 345 345\n",
    "print(type(a)) # <class 'str'> # 문자열\n",
    "print(type(b)) # <class 'int'> # 숫자"
   ]
  },
  {
   "cell_type": "code",
   "execution_count": 2,
   "id": "293bb8ac",
   "metadata": {},
   "outputs": [
    {
     "name": "stdout",
     "output_type": "stream",
     "text": [
      "True\n",
      "False\n",
      "False\n",
      "True\n"
     ]
    }
   ],
   "source": [
    "# 논리 자료형과 비교연산\n",
    "\n",
    "# 2-1. 논리 자료형\n",
    "# 참(True) 혹은 거짓(False)을 \n",
    "# 나타내는 자료형을 논리 자료형이라고 합니다.\n",
    "\n",
    "# 2-2. 비교 연산자\n",
    "# 숫자나 문자의 값을 비교하는 연산자\n",
    "# 주어진 진술이 참이면 True, 거짓이면 False.\n",
    "print(3<5) # True \n",
    "print(7==5) # False\n",
    "print(2>=10) # False\n",
    "print(5!=10) # True\n",
    "\n",
    "# 비교 연산자의 종류\n",
    "# == 같다\n",
    "# != 다르다\n",
    "# > 왼쪽이 더 크다\n",
    "# < 오른쪽이 더 크다\n",
    "# >= 왼쪽이 같거나 크다\n",
    "# <= 오른쪽이 같거나 크다"
   ]
  },
  {
   "cell_type": "code",
   "execution_count": 5,
   "id": "170ea0cc",
   "metadata": {},
   "outputs": [
    {
     "name": "stdout",
     "output_type": "stream",
     "text": [
      "True\n",
      "True\n",
      "True\n"
     ]
    }
   ],
   "source": [
    "# 2-3 논리 자료형의 연산\n",
    "# True, False 밖에 없는 논리 자료형\n",
    "# ->새로운 연산이 필요해!\n",
    "\n",
    "# 1. AND(모두 True니?)\n",
    "# 각 논리가 모두 True여야 True!\n",
    "print(3==3 and 4<=5 and 6>2)\n",
    "# 세항이 모두 True이므로, True\n",
    "\n",
    "# 2. OR(True가 있니?)\n",
    "# 논리들 중 True가 존재하면 True\n",
    "print(3==4 or 4<=5 or 6<2)\n",
    "# 4<=5가 True이므로, True가 존재하기에 True!\n",
    "\n",
    "# 3. NOT(기존의 논리와 반대로!)\n",
    "# 논리 값을 뒤집는다!\n",
    "\n",
    "print(not 3==4)\n",
    "# False에 Not을 붙였으므로, True !"
   ]
  },
  {
   "cell_type": "code",
   "execution_count": 13,
   "id": "abc86f8d",
   "metadata": {},
   "outputs": [
    {
     "name": "stdout",
     "output_type": "stream",
     "text": [
      "abc\n",
      "1\n",
      "a\n",
      "모음입니다.\n"
     ]
    }
   ],
   "source": [
    "# [이론]\n",
    "# 조건문\n",
    "\n",
    "# 왜 조건문이 필요할까?\n",
    "# 우리는 삶에서 조건에 따라서 해야 할 일이 다른 경우가 많기 때문이다!\n",
    "\n",
    "# 조건문\n",
    "# 어떠한 특정 조건에 따라서\n",
    "# 실행되는 명령이 달라지는 구문!\n",
    "\n",
    "# 파이썬의 조건문 - if문\n",
    "# 만약 i==1이면, i를 출력하라!\n",
    "# if   조건    , 명령\n",
    "\n",
    "# if문\n",
    "# 조건이 True일 때, 명령 실행\n",
    "# if 조건 :\n",
    "# __<수행할 명령>\n",
    "# __<수행할 명령>\n",
    "# ...\n",
    "\n",
    "# if문에 들어갈 명령들은 같은 들여쓰기로 구분!\n",
    "string = \"abc\"\n",
    "count = 0\n",
    "if string[0] == \"a\":\n",
    "    count += 1\n",
    "    print(string)\n",
    "print(count)\n",
    "\n",
    "# if 문에서 조건을 만족하지 못하면?\n",
    "# 만약 i == 1 하면, i를 출력하라!\n",
    "# 아니면 i + 1 을 출력해라!\n",
    "# else(i!=1)\n",
    "\n",
    "# if - else 문\n",
    "# 조건이 True이면 if문 False이면 else문 실행\n",
    "# if 조건:\n",
    "# __<수행할 명령>\n",
    "# else:\n",
    "# __<수행할 명령>\n",
    "\n",
    "x = input()\n",
    "\n",
    "if x in [\"a\",\"e\",\"I\",\"o\",\"u\"]:\n",
    "    print(\"모음입니다.\")\n",
    "else:\n",
    "    print(\"자음입니다.\")"
   ]
  },
  {
   "cell_type": "code",
   "execution_count": 14,
   "id": "3541aaf6",
   "metadata": {},
   "outputs": [
    {
     "name": "stdout",
     "output_type": "stream",
     "text": [
      "3\n",
      "3의 배수입니다.\n"
     ]
    }
   ],
   "source": [
    "#[이론]\n",
    "# if -elif -else 문\n",
    "\n",
    "# if문에서 조건을 만족하지 못했을 때 ...\n",
    "\n",
    "# 만약 점수가 90이상이라면 A를 출력해라\n",
    "# 아닌 경우에 75이상이라면 B를 출력해라!\n",
    "# else if -> elif\n",
    "\n",
    "# if - elif 문\n",
    "# 조건 1이 True 이면 if문\n",
    "# 조건 1이 False이면 조건 2가 True이면 elif문 실행\n",
    "# if 조건 1:\n",
    "# __<수행할 명령>\n",
    "# elif 조건 2 : \n",
    "# __<수행할 명령>\n",
    "\n",
    "x = int(input())\n",
    "if x % 2 == 0:\n",
    "    print(\"2의 배수입니다.\")\n",
    "elif x %3 == 0:\n",
    "    print(\"3의 배수입니다.\")\n",
    "\n",
    "# 정리 : if - elif - else문\n",
    "# if 조건 1:           조건 1 True \n",
    "# __<수행할 명령 A>         -> A실행\n",
    "# elif 조건 2 :        조건 1 False and 조건 2 True\n",
    "# __<수행할 명령 B>         -> B실행\n",
    "# else :              모든 조건이 False\n",
    "# __<수행할 명령 C>         -> C실행"
   ]
  },
  {
   "cell_type": "markdown",
   "id": "abee2260",
   "metadata": {},
   "source": [
    "1. 입력\n",
    "Point I\n",
    "변수 = input() : 변수에 입력받은 값을 집어넣겠다는 의미\n",
    "\n",
    "var = input()\n",
    "Point II\n",
    "어떤 것을 입력하든 문자열로 입력되기 때문에 형 변환이 필요\n",
    "int() : 정수형 변환, str() : 문자열 변환 등…\n",
    "\n",
    "var1 = input() #4 입력\n",
    "var1 = int(var1)\n",
    "var2 = int(input()) #3 입력\n",
    "print(3+var1+var2) #10 출력\n",
    "2. 논리 자료형(Boolean Data)\n",
    "Point I\n",
    "논리 자료형 : 참(True) 혹은 거짓(False)을 나타내는 자료형\n",
    "\n",
    "True, False\n",
    "Point II\n",
    "비교 연산자 : 숫자나 문자의 값을 비교하는 연산자\n",
    "주어진 진술이 참이면 True, 거짓이면 False\n",
    "\n",
    "A == B #A와 B가 같다\n",
    "A != B #A와 B가 다르다\n",
    "A >= B #A가 B보다 크거나 같다\n",
    "A <= B #A가 B보다 작거나 같다\n",
    "A > B #A가 B보다 크다\n",
    "A < B #A가 B보다 작다\n",
    "\n",
    "print(3 == 3) #True\n",
    "print(3 != 3) #False\n",
    "Point III\n",
    "논리 연산자 : 논리 자료형 사이의 연산\n",
    "\n",
    "AND : 각 논리가 모두 True이면 결과가 True  \n",
    "OR : 각 논리 중 True가 존재하면 결과가 True  \n",
    "NOT : 논리값을 뒤집는 연산\n",
    "3. 조건문\n",
    "조건에 따라 특정 명령을 수행하는 구문\n",
    "Point I\n",
    "if문 : 조건이 참이면 명령을 수행\n",
    "\n",
    "if a >= 5:\n",
    "    print(\"a는 5 이상입니다!\")\n",
    "Point II\n",
    "elif문 : 이전 조건이 거짓인 상황에서 조건이 참이면 명령을 수행\n",
    "\n",
    "if a >= 5:\n",
    "    print(\"a는 5 이상입니다!\")\n",
    "elif a >= 3:\n",
    "    print(\"a는 3 이상 5 미만입니다!\")\n",
    "Point III\n",
    "else문 : 위의 조건에 해당하지 않는 모든 경우에 수행\n",
    "\n",
    "if a >= 5:\n",
    "    print(\"a는 5 이상입니다!\")\n",
    "elif a >= 3:\n",
    "    print(\"a는 3 이상 5 미만입니다!\")\n",
    "else:\n",
    "    print(\"a는 3 미만입니다!\")\n",
    "Point IV\n",
    "조건문에 들어가는 명령들은 같은 들여쓰기로 구분!\n",
    "Tab을 사용하면 손쉽게 들여쓰기를 할 수 있어요!\n",
    "\n",
    "이번 장에서는 파이썬에서 참과 거짓을 다루는 방법과 이를 이용해서\n",
    "조건으로 문제를 다르게 해결하는 방법에 대해서 배웠어요!\n",
    "\n",
    "다음 장에서는 이전에 배웠던 리스트를 활용하는 방법과 더불어\n",
    "문자열과 리스트 자료형을 공통적으로 아우르는 시퀀스에 대해 다루어보고자 해요."
   ]
  }
 ],
 "metadata": {
  "kernelspec": {
   "display_name": "Python 3",
   "language": "python",
   "name": "python3"
  },
  "language_info": {
   "codemirror_mode": {
    "name": "ipython",
    "version": 3
   },
   "file_extension": ".py",
   "mimetype": "text/x-python",
   "name": "python",
   "nbconvert_exporter": "python",
   "pygments_lexer": "ipython3",
   "version": "3.8.8"
  }
 },
 "nbformat": 4,
 "nbformat_minor": 5
}
