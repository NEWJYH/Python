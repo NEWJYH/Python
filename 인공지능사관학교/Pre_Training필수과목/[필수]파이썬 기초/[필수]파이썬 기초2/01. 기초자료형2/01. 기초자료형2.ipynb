{
 "cells": [
  {
   "cell_type": "markdown",
   "id": "2cb9051a",
   "metadata": {},
   "source": [
    "수강 목표\n",
    "\n",
    "문자열과 리스트를 더 활용할 수 있다.\n",
    "\n",
    "튜플이 무엇인지 알고, 리스트와의 차이점을 이해한다.\n",
    "\n",
    "딕셔너리를 이해하고 이를 직접 만들 수 있다."
   ]
  },
  {
   "cell_type": "markdown",
   "id": "85950f57",
   "metadata": {},
   "source": [
    "목 차 \n",
    "1. 문자열 / 리스트 활용\n",
    "\n",
    "2. Tuple(튜플)\n",
    "\n",
    "3. Dictionary(딕셔너리)"
   ]
  },
  {
   "cell_type": "markdown",
   "id": "f74a6622",
   "metadata": {},
   "source": [
    "1. 문자열 / 리스트 활용"
   ]
  },
  {
   "cell_type": "markdown",
   "id": "7a19150c",
   "metadata": {},
   "source": [
    "list.pop(i) # remove(원소)\n",
    "인덱스 i의 원소를 제거 후 그 원소를 반환\n",
    "(괄호를 비울 시 마지막 원소)"
   ]
  },
  {
   "cell_type": "code",
   "execution_count": 1,
   "id": "e55e8b75",
   "metadata": {},
   "outputs": [
    {
     "name": "stdout",
     "output_type": "stream",
     "text": [
      "1\n",
      "5\n"
     ]
    }
   ],
   "source": [
    "my_list = [1, 2, 3, 4, 5]\n",
    "print(my_list.pop(0)) # 1\n",
    "print(my_list.pop()) # 5 마지막원소 "
   ]
  },
  {
   "cell_type": "markdown",
   "id": "2102a61d",
   "metadata": {},
   "source": [
    "seq.count(d)\n",
    "시퀀스 내부의 자료 d의 개수를 반환"
   ]
  },
  {
   "cell_type": "code",
   "execution_count": 2,
   "id": "973516bb",
   "metadata": {},
   "outputs": [
    {
     "name": "stdout",
     "output_type": "stream",
     "text": [
      "3\n"
     ]
    }
   ],
   "source": [
    "my_seq = [2, 2, 2, 4, 4]\n",
    "print(my_seq.count(2)) # 3"
   ]
  },
  {
   "cell_type": "markdown",
   "id": "747d7406",
   "metadata": {},
   "source": [
    "str.split(c)\n",
    "c를 기준으로 문자열을 쪼개서 리스트로 반환\n",
    "(괄호를 비울 시 공백)"
   ]
  },
  {
   "cell_type": "code",
   "execution_count": 4,
   "id": "14f09c5b",
   "metadata": {},
   "outputs": [
    {
     "name": "stdout",
     "output_type": "stream",
     "text": [
      "['1', '2', '3', '4', '5']\n",
      "['Na', 'Mg', 'Al', 'Si']\n"
     ]
    }
   ],
   "source": [
    "my_str = \"1 2 3 4 5\"\n",
    "print(my_str.split()) # ['1', '2', '3', '4', '5']\n",
    "element = \"Na,Mg,Al,Si\"\n",
    "print(element.split(\",\")) # ['Na', 'Mg', 'Al', 'Si']"
   ]
  },
  {
   "cell_type": "markdown",
   "id": "ceb97d41",
   "metadata": {},
   "source": [
    "str.join(list)\n",
    "str을 기준으로 리스트를 합쳐서 문자열을 반환\n",
    "(\"\"를 비울시 공백)"
   ]
  },
  {
   "cell_type": "code",
   "execution_count": 8,
   "id": "28ca33f5",
   "metadata": {},
   "outputs": [
    {
     "name": "stdout",
     "output_type": "stream",
     "text": [
      "apple\n",
      "Pat&Mat\n"
     ]
    }
   ],
   "source": [
    "my_list = ['a', 'p', 'p', 'l', 'e']\n",
    "print(''.join(my_list)) # apple\n",
    "friend = ['Pat',\"Mat\"]\n",
    "print(\"&\".join(friend)) # Pat&Mat"
   ]
  },
  {
   "cell_type": "markdown",
   "id": "b5144807",
   "metadata": {},
   "source": [
    "2. Tuple(튜플)"
   ]
  },
  {
   "cell_type": "markdown",
   "id": "2fdca14f",
   "metadata": {},
   "source": [
    "여러 자료를 담는 자료형이 필요하면?\n",
    "대부분 리스트를 이용\n",
    "그러나 값이 바뀔 위험이 있다!"
   ]
  },
  {
   "cell_type": "code",
   "execution_count": 11,
   "id": "d0938628",
   "metadata": {},
   "outputs": [
    {
     "name": "stdout",
     "output_type": "stream",
     "text": [
      "['l', 'a', 's', 't']\n"
     ]
    }
   ],
   "source": [
    "my_list = ['l', 'i', 's', 't']\n",
    "my_list[1] = 'a'\n",
    "print(my_list) # ['l', 'a', 's', 't']"
   ]
  },
  {
   "cell_type": "markdown",
   "id": "b4869228",
   "metadata": {},
   "source": [
    "Tuple의 필요성\n",
    "값을 바꿀 수 없으면서도\n",
    "여러 자료를 담을 순 없을까?\n",
    "-> Tuple(튜플) !"
   ]
  },
  {
   "cell_type": "markdown",
   "id": "268a04a0",
   "metadata": {},
   "source": [
    "Tuple(튜플)\n",
    "여러 자료를 함께 담을 수있는 자료형\n",
    "() - 소괄호로 묶어서 표현"
   ]
  },
  {
   "cell_type": "code",
   "execution_count": null,
   "id": "9a4efdde",
   "metadata": {},
   "outputs": [],
   "source": [
    "tuple_zero = ()\n",
    "tuple_one = (1,)\n",
    "tuple_ = (1, 2, 3, 4, 5)\n",
    "tuple_ = 1, 2, 3, 4, 5"
   ]
  },
  {
   "cell_type": "markdown",
   "id": "5d5d0c92",
   "metadata": {},
   "source": [
    "Tuple의 특징\n",
    "시퀀스 자료형으로\n",
    "index를 이용한 인덱싱, 슬라이싱이 가능"
   ]
  },
  {
   "cell_type": "code",
   "execution_count": 14,
   "id": "edde423c",
   "metadata": {},
   "outputs": [
    {
     "name": "stdout",
     "output_type": "stream",
     "text": [
      "w\n",
      "('i', 'c')\n"
     ]
    }
   ],
   "source": [
    "my_tuple = ('t', 'w', 'i', 'c', 'e')\n",
    "print(my_tuple[1]) # w\n",
    "print(my_tuple[2:4]) # ('i', 'c')"
   ]
  },
  {
   "cell_type": "markdown",
   "id": "c58ca3dd",
   "metadata": {},
   "source": [
    "Tuple의 특징\n",
    "in 연산자로 Tuple안에 원소 확인\n",
    "len() 함수로 Tuple의 길이 확인"
   ]
  },
  {
   "cell_type": "code",
   "execution_count": 15,
   "id": "245d1c9b",
   "metadata": {},
   "outputs": [
    {
     "name": "stdout",
     "output_type": "stream",
     "text": [
      "True\n",
      "5\n"
     ]
    }
   ],
   "source": [
    "my_tuple = ('t', 'w', 'i', 'c', 'e')\n",
    "print('t'in my_tuple) # True\n",
    "print(len(my_tuple)) # 5"
   ]
  },
  {
   "cell_type": "markdown",
   "id": "b55cae54",
   "metadata": {},
   "source": [
    "Tuple의 특징\n",
    "+ 연산자로 Tuple과 Tuple을 연결\n",
    "* 연산자로 Tuple을 반복"
   ]
  },
  {
   "cell_type": "code",
   "execution_count": 17,
   "id": "6d5aec39",
   "metadata": {},
   "outputs": [
    {
     "name": "stdout",
     "output_type": "stream",
     "text": [
      "('e', 'l', 'i', 'c', 'e')\n",
      "('i', 'c', 'e', 'i', 'c', 'e')\n"
     ]
    }
   ],
   "source": [
    "my_tuple = ('i', 'c', 'e')\n",
    "print(('e','l')+my_tuple) # ('e', 'l', 'i', 'c', 'e')\n",
    "print(my_tuple * 2) # ('i', 'c', 'e', 'i', 'c', 'e')"
   ]
  },
  {
   "cell_type": "markdown",
   "id": "493180d0",
   "metadata": {},
   "source": [
    "Tuple의 특징\n",
    "자료 추가, 삭제, 변경 불가\n",
    "한 번 만들어지면 고정 !"
   ]
  },
  {
   "cell_type": "code",
   "execution_count": null,
   "id": "e4862137",
   "metadata": {},
   "outputs": [],
   "source": [
    "my_tuple = ('t', 'w', 'i', 'c', 'e')\n",
    "print(my_tuple.append('!')) # Error\n",
    "print(my_tuple.remove('w')) # Error\n",
    "my_tuple[1] = 's' # Error"
   ]
  },
  {
   "cell_type": "markdown",
   "id": "bd1c50e0",
   "metadata": {},
   "source": [
    "3. Dictionary(딕셔너리)"
   ]
  },
  {
   "cell_type": "markdown",
   "id": "7d5f0de6",
   "metadata": {},
   "source": [
    "Dictionary?\n",
    "Dictionary -> 사전\n",
    "짝궁이 있는 자료형!"
   ]
  },
  {
   "cell_type": "markdown",
   "id": "f0bbc0f0",
   "metadata": {},
   "source": [
    "Dictionary(딕셔너리)\n",
    "{} - 중괄호로 묶어서 표현\n",
    "짝궁이 있는 자료형\n",
    "{key:Value}의 형식 : key를 알면 value를 알 수 있음\n",
    "\n",
    "key \n",
    "열쇠 처럼 자료를 꺼낼 수 있는 도구\n",
    "value\n",
    "Dictionary에서 key로 꺼낸 자료"
   ]
  },
  {
   "cell_type": "code",
   "execution_count": null,
   "id": "19553750",
   "metadata": {},
   "outputs": [],
   "source": [
    "dict_zero = {}\n",
    "person = {'name':'Micael', 'age':10 }"
   ]
  },
  {
   "cell_type": "markdown",
   "id": "a1bc7e13",
   "metadata": {},
   "source": [
    "Dictionary[key]\n",
    "Dictionary에서 자료를 꺼내기"
   ]
  },
  {
   "cell_type": "code",
   "execution_count": 19,
   "id": "2177b584",
   "metadata": {},
   "outputs": [
    {
     "name": "stdout",
     "output_type": "stream",
     "text": [
      "Micael\n",
      "10\n",
      "dict_keys(['name', 'age'])\n",
      "dict_items([('name', 'Micael'), ('age', 10)])\n"
     ]
    }
   ],
   "source": [
    "person = {'name':'Micael', 'age':10 }\n",
    "print(person['name']) # Micael\n",
    "#     Dictionary person key 'name'\n",
    "print(person['age']) # 10\n",
    "print(person.keys()) # dict_keys(['name', 'age'])\n",
    "print(person.items()) # dict_items([('name', 'Micael'), ('age', 10)])"
   ]
  },
  {
   "cell_type": "markdown",
   "id": "f1c6acb1",
   "metadata": {},
   "source": [
    "Dictionary[key]\n",
    "Dictionary에서 자료를 추가하기"
   ]
  },
  {
   "cell_type": "code",
   "execution_count": 20,
   "id": "9f9bd6e0",
   "metadata": {},
   "outputs": [
    {
     "name": "stdout",
     "output_type": "stream",
     "text": [
      "{'name': 'Micael', 'age': 10, 'hometown': 'Seoul'}\n"
     ]
    }
   ],
   "source": [
    "person = {'name':'Micael', 'age':10 }\n",
    "person[\"hometown\"] = 'Seoul'\n",
    "# Dictionary person, key 'hometown', value 'Seoul'\n",
    "print(person)"
   ]
  },
  {
   "cell_type": "markdown",
   "id": "e7227af3",
   "metadata": {},
   "source": [
    "del\n",
    "del 함수로 dictionary의 원소 삭제"
   ]
  },
  {
   "cell_type": "code",
   "execution_count": 21,
   "id": "8ee9f7cb",
   "metadata": {},
   "outputs": [
    {
     "name": "stdout",
     "output_type": "stream",
     "text": [
      "{'name': 'Micael'}\n"
     ]
    }
   ],
   "source": [
    "person = {'name':'Micael', 'age':10 }\n",
    "del person['age']\n",
    "#    딕      키\n",
    "print(person) # {'name': 'Micael'}"
   ]
  },
  {
   "cell_type": "markdown",
   "id": "ddebd648",
   "metadata": {},
   "source": [
    "Dictionary의 특징\n",
    "key는 변할 수 없는 자료형\n",
    "-> 리스트는 안되고, 튜플은 된다."
   ]
  },
  {
   "cell_type": "code",
   "execution_count": 23,
   "id": "6800973e",
   "metadata": {},
   "outputs": [],
   "source": [
    " # datas = {[1,2,3]:\"Alphabet\"} # Error\n",
    "tatas = {(1,2,3):\"Number\"} # OK"
   ]
  },
  {
   "cell_type": "markdown",
   "id": "8b678024",
   "metadata": {},
   "source": [
    "[요약]\n",
    "기초자료형2\n",
    "\n",
    "문자열과 리스트의 활용\n",
    "Tuple과 리스트의 차이점을 통해 그 특성을 이해\n",
    "Dictionary 속 key와 Value 짝궁\n",
    "list.pop() str.split()\n",
    "sequence.count() str.join()"
   ]
  },
  {
   "cell_type": "code",
   "execution_count": 1,
   "id": "ea9412ab",
   "metadata": {},
   "outputs": [
    {
     "ename": "SyntaxError",
     "evalue": "invalid syntax (<ipython-input-1-03315cb973e7>, line 1)",
     "output_type": "error",
     "traceback": [
      "\u001b[1;36m  File \u001b[1;32m\"<ipython-input-1-03315cb973e7>\"\u001b[1;36m, line \u001b[1;32m1\u001b[0m\n\u001b[1;33m    1. 시퀀스 활용하기\u001b[0m\n\u001b[1;37m       ^\u001b[0m\n\u001b[1;31mSyntaxError\u001b[0m\u001b[1;31m:\u001b[0m invalid syntax\n"
     ]
    }
   ],
   "source": [
    "1. 시퀀스 활용하기\n",
    "Point I\n",
    "list.pop(i) : 인덱스 i의 원소를 제거 후 반환\n",
    "\n",
    "lst = [1, 2, 3, 4, 5]\n",
    "box = lst.pop(0) # lst에서 1을 제거 후 반환, 이 경우에는 변수 box에 대입\n",
    "print(lst) \n",
    "# [2, 3, 4, 5]\n",
    "\n",
    "print(box)\n",
    "# 1 \n",
    "Point II\n",
    "seq.count(d) : 시퀀스 내부의 자료 d의 개수를 반환\n",
    "\n",
    "carrot = \"Hi Rabbit!\"\n",
    "print(carrot.count(\"i\"))\n",
    "\n",
    "## 실행 결과 ##\n",
    "2\n",
    "Point III\n",
    "str.split(c) : 문자열 c를 기준으로 문자열 str을 쪼개서 리스트를 반환\n",
    "\n",
    "ours = \"나,너,우리\"\n",
    "print(ours.split(\",\"))\n",
    "# ['나', '너', '우리']\n",
    "Point IV\n",
    "str.join(list) : str을 기준으로 list를 합쳐서 문자열을 반환\n",
    "\n",
    "coffee = ['a', 'm', 'e', 'r', 'i', 'c', 'a', 'n', 'o']\n",
    "print(\"\".join(coffee)) # 빈 문자열(\"\")을 기준으로 합치기\n",
    "# americano\n",
    "2. Tuple(튜플)\n",
    "Point I\n",
    "여러 자료를 담을 수 있으면서, 변하지 않는 자료형\n",
    "\n",
    "Point II\n",
    "() - 소괄호로 묶어 표현\n",
    "\n",
    "tup = (1, 2, 3, 4, 5)\n",
    "Point III\n",
    "원소가 하나라면 반드시 원소 뒤에 ,을 적어주어야함\n",
    "\n",
    "tup_one = (1,)\n",
    "Point IV\n",
    "시퀀스 자료형의 성질을 지님\n",
    "\n",
    "cute = ('c', 'a', 't')\n",
    "print(cute[1])  #인덱싱\n",
    "#'a'\n",
    "\n",
    "print(cute[1:]) #슬라이싱\n",
    "#('a', 't')\n",
    "\n",
    "print('e' in cute) #in연산자\n",
    "#False\n",
    "\n",
    "print(len(cute)) #len연산자\n",
    "#3\n",
    "\n",
    "print(cute + ('e', 'g', 'o', 'r', 'y')) #연결연산\n",
    "#('c', 'a', 't', 'e', 'g', 'o', 'r', 'y')\n",
    "\n",
    "print(cute * 3) #반복연산\n",
    "#('c', 'a', 't', 'c', 'a', 't', 'c', 'a', 't')\n",
    "Point V\n",
    "자료를 추가, 삭제, 변경할 수 없다!\n",
    "\n",
    "hero = (\"ant\", \"man\")\n",
    "hero.append(\"wasp\") #Error\n",
    "hero.remove(\"man\") #Error\n",
    "hero[0] = \"iron\" #Error\n",
    "3. Dictionary(사전형)\n",
    "Point I\n",
    "짝꿍(Key → Value)이 있는 자료형\n",
    "\n",
    "Point II\n",
    "{} - 중괄호로 묶어서 표현\n",
    "\n",
    "hp = {\"gildong\" : \"010-1234-5678\"}\n",
    "Point III\n",
    "key를 알면 value를 알 수 있다.\n",
    "\n",
    "dic = {\"apple\":\"사과\", \"banana\":\"바나나\"}\n",
    "print(dic[\"apple\"])\n",
    "# 사과\n",
    "Point IV\n",
    "del 키워드로 Dictionary의 원소 삭제\n",
    "리스트의 원소를 삭제하는 것도 가능!\n",
    "\n",
    "dic = {\"apple\":\"사과\", \"banana\":\"바나나\"}\n",
    "del dic[\"apple\"]\n",
    "print(dic)\n",
    "# {\"banana\":\"바나나\"}\n",
    "Point V\n",
    "Key는 변할 수 없는 자료형이여야 한다\n",
    "\n",
    "dic = {[1, 3, 5]:\"odd\"} #Error\n",
    "dic = {(2, 4, 6):\"even\"} "
   ]
  },
  {
   "cell_type": "code",
   "execution_count": null,
   "id": "5b84cbc5",
   "metadata": {},
   "outputs": [],
   "source": []
  }
 ],
 "metadata": {
  "kernelspec": {
   "display_name": "Python 3",
   "language": "python",
   "name": "python3"
  },
  "language_info": {
   "codemirror_mode": {
    "name": "ipython",
    "version": 3
   },
   "file_extension": ".py",
   "mimetype": "text/x-python",
   "name": "python",
   "nbconvert_exporter": "python",
   "pygments_lexer": "ipython3",
   "version": "3.8.8"
  }
 },
 "nbformat": 4,
 "nbformat_minor": 5
}
