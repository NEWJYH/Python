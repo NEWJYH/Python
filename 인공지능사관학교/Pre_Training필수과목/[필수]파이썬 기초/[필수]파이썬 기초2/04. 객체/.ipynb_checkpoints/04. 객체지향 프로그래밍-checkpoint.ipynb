{
 "cells": [
  {
   "cell_type": "markdown",
   "id": "5a3c42b1",
   "metadata": {},
   "source": [
    "수강 목표\n",
    "객체가 무엇인지 이해한다.\n",
    "클래스와 인스턴스 사이의 관계를 이해한다\n",
    "객체지향 프로그래밍이 도입된 이유를 이해한다"
   ]
  },
  {
   "cell_type": "markdown",
   "id": "5f5cee20",
   "metadata": {},
   "source": [
    "목 차\n",
    "1. 객체지향 프로그래밍\n",
    "2. 클래스와 인스턴스\n",
    "3. 왜 객체지향 프로그래밍일까?"
   ]
  },
  {
   "cell_type": "markdown",
   "id": "1fa34929",
   "metadata": {},
   "source": [
    "1. 객체지향 프로그래밍"
   ]
  },
  {
   "cell_type": "markdown",
   "id": "b049bd3f",
   "metadata": {},
   "source": [
    "지금까지의 이야기\n",
    "반복문으로 같은 작업을 하는 명령 여러 개를 묶기\n",
    "함수로 특정 명령 묶기\n",
    "모듈로 함수 묶기\n",
    "....\n",
    "\n",
    "이들이 도입된 이유는 무엇일까?"
   ]
  },
  {
   "cell_type": "markdown",
   "id": "40261a06",
   "metadata": {},
   "source": [
    "이들은 모두 효율적인 \"코드\"를 위한 노력이다.\n",
    "print(\"Hi\")\n",
    "print(\"Hi\")\n",
    "print(\"Hi\")\n",
    "print(\"Hi\")\n",
    "print(\"Hi\")\n",
    "\n",
    "for i in range(5):\n",
    "    print(\"Hi\")"
   ]
  },
  {
   "cell_type": "markdown",
   "id": "9186acb8",
   "metadata": {},
   "source": [
    "문제점 발생!\n",
    "더 큰 프로젝트를 진행 해야 하는데\n",
    "코드가 너무 길어져...\n",
    "\n",
    "지금까지의 아이디어로는 \n",
    "해결할 수 없는 문제들이 발생"
   ]
  },
  {
   "cell_type": "markdown",
   "id": "5f929aca",
   "metadata": {},
   "source": [
    "발상의 전환\n",
    "코드를 짜는 방법을 바꿔보자!\n",
    "컴퓨터 프로그램이 객체와 객체의 상호작용이라면?"
   ]
  },
  {
   "cell_type": "markdown",
   "id": "a38192fc",
   "metadata": {},
   "source": [
    "객체\n",
    "성질과 할수 있는 행동이 담긴 자료\n",
    "\n",
    "성   질                        할수있는 행동\n",
    " 변수                            함수\n",
    "이름 : 성진                       밥먹기\n",
    "나이 : 21          성진           운동하기\n",
    "사는 곳 : 서울                    잠자기\n",
    "취 미 : 코딩                      취미활동하기"
   ]
  },
  {
   "cell_type": "markdown",
   "id": "9787e870",
   "metadata": {},
   "source": [
    "2. 클래스와 인스턴스"
   ]
  },
  {
   "cell_type": "markdown",
   "id": "b4cbd0ae",
   "metadata": {},
   "source": [
    "클래스(Class)\n",
    "객체를 만들 수 있는 틀\n",
    "사람이라면 말이야 ...\n",
    "이름                  밥먹기\n",
    "나이                  운동하기\n",
    "사는곳                 잠자기\n",
    "취미                  취미활동하기\n",
    "변수(성질)             함수(할수있는 행동)\n",
    "가 있어야하고          를 할줄 알아야해!"
   ]
  },
  {
   "cell_type": "markdown",
   "id": "ae0d4309",
   "metadata": {},
   "source": [
    "클래스 생성\n",
    "class 클래스 이름 :\n",
    "\n",
    "class Human:\n"
   ]
  },
  {
   "cell_type": "markdown",
   "id": "d9de7ef9",
   "metadata": {},
   "source": [
    "필드(Field)\n",
    "객체가 가지고 있는  성질\n",
    "= 객체가 가지고 있는 변수\n",
    "class Human:\n",
    "    name = \"Bob\"\n",
    "    age = 10"
   ]
  },
  {
   "cell_type": "markdown",
   "id": "29356c3f",
   "metadata": {},
   "source": [
    "메서드(Method)\n",
    "객체가 할수 있는 행동\n",
    "=객체가 할수 있는 함수\n",
    "\n",
    "class Human:\n",
    "    def exercise(self):\n",
    "        print(\"스쿼시!\")"
   ]
  },
  {
   "cell_type": "markdown",
   "id": "38c8cf85",
   "metadata": {},
   "source": [
    "self\n",
    "메서드라면 가져야하는 첫번째 매개변수\n",
    "\n",
    "class Human:\n",
    "    def exercise(self):\n",
    "        print(\"스쿼시\")"
   ]
  },
  {
   "cell_type": "markdown",
   "id": "b287286b",
   "metadata": {},
   "source": [
    "인스턴스(Instance)\n",
    "객체를 만들 수 있는 틀(클래스)로 찍어낸 객체\n",
    "\n",
    "사람이라면 말이야 ..           성윤이는 말이야...\n",
    "이름 밥먹기               이름은 성윤 스파게티를 먹고\n",
    "나이 운동하기    ->       나이는 25살 달리기를 하고\n",
    "사는곳 잠자기             사는 곳은 서울 누워서 잠자고\n",
    "취미 취미활동             취미는 레고 레고 조립하기"
   ]
  },
  {
   "cell_type": "markdown",
   "id": "5a9fd842",
   "metadata": {},
   "source": [
    "클래스와 인스턴스\n",
    "붕어빵틀 -> 클래스\n",
    "팥 붕어빵, 슈크림 붕어빵 -> 인스턴스"
   ]
  },
  {
   "cell_type": "markdown",
   "id": "8b353b18",
   "metadata": {},
   "source": [
    "인스턴스 만들기\n",
    "인스턴스 이름 = 클래스 이름()"
   ]
  },
  {
   "cell_type": "markdown",
   "id": "ab0752e5",
   "metadata": {},
   "source": [
    "인스턴스의 변수_필드\n",
    "인스턴스.변수\n",
    "bobby = Human()\n",
    "bobby.name # Bob\n",
    "bobby.age # 10"
   ]
  },
  {
   "cell_type": "markdown",
   "id": "a54bbcde",
   "metadata": {},
   "source": [
    "인스턴스의 메서드\n",
    "인스턴스.메서드()\n",
    "bobby = Human()\n",
    "bobby.exercise() # 스쿼시!"
   ]
  },
  {
   "cell_type": "markdown",
   "id": "54067eb2",
   "metadata": {},
   "source": [
    "3. 왜 객체지향 프로그래밍일까?"
   ]
  },
  {
   "cell_type": "markdown",
   "id": "2b011c51",
   "metadata": {},
   "source": [
    "이런 상황을 프로그래밍으로?\n",
    "치코리타가 구구에게\n",
    "\"울음소리\" 기술로\n",
    "10의 데미지를 입혔다.\n",
    "우리가 지금까지 배운 내용으로 이를 구현할 수 있을까?\n",
    "NO!"
   ]
  },
  {
   "cell_type": "markdown",
   "id": "9e7240d0",
   "metadata": {},
   "source": [
    "이런 상황을 프로그래밍으로?\n",
    "하지만, 객체지향 프로그래밍이 출동한다면?"
   ]
  },
  {
   "cell_type": "markdown",
   "id": "8d81d7d2",
   "metadata": {},
   "source": [
    "포캣몬 클래스 생성\n",
    "- 포캣몬이라면 가져야할 특징은?\n",
    "이름,체력,타입 등\n",
    "- 포켓몬이라면 할수 있는 능력은?\n",
    "각 포켓몬의 기술"
   ]
  },
  {
   "cell_type": "markdown",
   "id": "eaa50723",
   "metadata": {},
   "source": [
    "포캣몬 클래스 생성\n",
    "클래스 선언, 변수와 메서드 추가"
   ]
  },
  {
   "cell_type": "code",
   "execution_count": 6,
   "id": "deb95ad5",
   "metadata": {},
   "outputs": [],
   "source": [
    "class Poketmon:\n",
    "    name = \"\"\n",
    "    hp = 0\n",
    "    p_type = \"\"\n",
    "    def skill(self):\n",
    "        pass"
   ]
  },
  {
   "cell_type": "markdown",
   "id": "2c868b3f",
   "metadata": {},
   "source": [
    "피카츄 클래스 생성\n",
    "피카츄의 특징은?\n",
    "피카츄, 성비5:5 , 전기\n",
    "피카츄의 능력은?\n",
    "10만 볼트!"
   ]
  },
  {
   "cell_type": "markdown",
   "id": "e9c6cf87",
   "metadata": {},
   "source": [
    "피카츄 클래스 생성\n",
    "포캣몬 클래스를 상속하는 piccachu 클래스 생성"
   ]
  },
  {
   "cell_type": "code",
   "execution_count": 12,
   "id": "c51e0a13",
   "metadata": {},
   "outputs": [],
   "source": [
    "class Piccachu(Poketmon):\n",
    "    def __init__(self,\n",
    "                 name=\"piccachu\", \n",
    "                 hp=50,\n",
    "                 p_type=\"Electric\"):\n",
    "        super().__init__()\n",
    "        self.name = name\n",
    "        self.hp = hp\n",
    "        self.p_type = p_type\n",
    "        \n",
    "    def skill(self):\n",
    "        print(\"10만 볼트!\")\n",
    "# 포캣몬\n",
    "# 아래에 피카츄(포캣몬 상속)"
   ]
  },
  {
   "cell_type": "markdown",
   "id": "9f511809",
   "metadata": {},
   "source": [
    "피카츄 인스턴스 생성\n",
    "Piccachu 클래스로 찍어 낸 pixx 인스턴스"
   ]
  },
  {
   "cell_type": "code",
   "execution_count": 13,
   "id": "c5fb37fa",
   "metadata": {},
   "outputs": [
    {
     "name": "stdout",
     "output_type": "stream",
     "text": [
      "10만 볼트!\n",
      "50\n"
     ]
    }
   ],
   "source": [
    "piccachu = Piccachu()\n",
    "piccachu.skill() # 10만 볼트!\n",
    "print(piccachu.hp) # 50"
   ]
  },
  {
   "cell_type": "markdown",
   "id": "7953e35a",
   "metadata": {},
   "source": [
    "왜 객체지향 프로그래밍인가?\n",
    "상속, 다형성, 캡슐화를 통해\n",
    "코드의 재사용이 쉽고\n",
    "우리 실생활을\n",
    "더 잘 나타낼 수 있기 때문이다!"
   ]
  },
  {
   "cell_type": "markdown",
   "id": "70e52e03",
   "metadata": {},
   "source": [
    "[요약]\n",
    "객체의 세계로\n",
    "객체는 성질과 할수 있는 행동을 담은 자료\n",
    "클래스는 객체를 만들 수 있는 틀\n",
    "인스턴스는 클래스로 만든 객체\n",
    "객체지향 프로그램의 장점"
   ]
  },
  {
   "cell_type": "markdown",
   "id": "0164c037",
   "metadata": {},
   "source": [
    "1. 객체지향 프로그래밍\n",
    "Point I\n",
    "프로그래밍 방식의 전환! 프로그램이 객체와 객체의 상호작용이라면?\n",
    "\n",
    "Point II\n",
    "객체(Object) : 성질과 할 수 있는 행동이 담긴 자료\n",
    "\n",
    "2. 클래스와 인스턴스\n",
    "Point I\n",
    "클래스(Class) : 객체를 만들 수 있는 틀\n",
    "\n",
    "에어컨이 가져야 할 속성 : 희망온도, 바람속도, ...\n",
    "에어컨이 할 수 있는 행동 : 온도 높이기/낮추기, 바람속도 조절, ...\n",
    "Point II\n",
    "클래스 생성 : class 클래스이름:으로 생성\n",
    "\n",
    "class Aircon: \n",
    "#Aircon 클래스를 생성\n",
    "Point III\n",
    "필드(field) : 객체가 가지고있는 성질 → 변수\n",
    "\n",
    "class Aircon:\n",
    "    temp = 20 #희망온도 변수\n",
    "    wind_speed = 1 #바람속도 변수\n",
    "Point IV\n",
    "메서드(method) : 객체가 할 수 있는 행동 → 함수\n",
    "\n",
    "class Aircon:\n",
    "    def wind_speed_up(self): #바람속도를 증가시키는 함수\n",
    "        self.wind_speed = self.wind_speed + 1\n",
    "Point V\n",
    "self: 메서드라면 가져야하는 첫 번째 매개변수\n",
    "Q : 왜 self가 필요할까요?\n",
    "A : self는 객체 자신을 의미하며, 메서드가 호출될 때 self 자리에 객체 자신을 인자에 넣습니다.\n",
    "\n",
    "Point VI\n",
    "인스턴스(Instance) : 객체를 만드는 틀(클래스)로 만든 객체\n",
    "\n",
    "Point VII\n",
    "인스턴스의 생성 : 인스턴스 이름 = 클래스 이름()\n",
    "\n",
    "crystal = Aircon() \n",
    "#Aircon의 성질을 가진 객체 crystal 생성\n",
    "Point VIII\n",
    "인스턴스의 필드와 메서드 : 인스턴스.field/method 형태로 사용\n",
    "\n",
    "crystal = Aircon()\n",
    "print(crystal.temp) #20\n",
    "print(crystal.wind_speed) #1\n",
    "\n",
    "crystal.wind_speed_up() #메서드 호출\n",
    "print(crystal.wind_speed) #2\n",
    "3. 왜 객체지향 프로그래밍인가?\n",
    "Point I\n",
    "기존의 코딩스타일로는 표현할 수 없었던 상황을 표현 가능하게 해준다.\n",
    "\n",
    "Point II\n",
    "상속 : 한 클래스의 속성을 다른 클래스가 이어받는 것\n",
    "\n",
    "class Tree:\n",
    "    height = 0\n",
    "    leaf_size = 0\n",
    "...\n",
    "\n",
    "class CherryBlossom(Tree): #Tree의 성질을 그대로 계승!\n",
    "    height = 25 # 벚꽂나무에 맞게 값을 재조정\n",
    "    leaf_size = 1\n",
    "\n",
    "#마치 부모와 자식처럼 코드를 관리 가능\n",
    "#현실 세계의 객체 구조와 유사\n",
    "Point III\n",
    "다형성 : 같은 이름의 코드가 다양한 역할을 하는 것\n",
    "\n",
    "class CherryBlossom(Tree):\n",
    "    height = 25\n",
    "    leaf_size = 1\n",
    "\n",
    "class Mugunghwa(Tree):\n",
    "    height = 1\n",
    "    leaf_size = 5\n",
    "\n",
    "#같은 height, leaf_size 변수가 있지만\n",
    "#class마다 가지는 값이 다르다!\n",
    "#같은 이름으로 각 객체의 값을 관리할 수 있음"
   ]
  }
 ],
 "metadata": {
  "kernelspec": {
   "display_name": "Python 3",
   "language": "python",
   "name": "python3"
  },
  "language_info": {
   "codemirror_mode": {
    "name": "ipython",
    "version": 3
   },
   "file_extension": ".py",
   "mimetype": "text/x-python",
   "name": "python",
   "nbconvert_exporter": "python",
   "pygments_lexer": "ipython3",
   "version": "3.8.8"
  }
 },
 "nbformat": 4,
 "nbformat_minor": 5
}
