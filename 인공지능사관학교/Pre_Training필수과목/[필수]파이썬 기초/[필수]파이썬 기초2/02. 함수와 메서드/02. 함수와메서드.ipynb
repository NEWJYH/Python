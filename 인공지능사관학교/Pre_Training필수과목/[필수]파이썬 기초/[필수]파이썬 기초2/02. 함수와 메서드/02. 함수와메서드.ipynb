{
 "cells": [
  {
   "cell_type": "markdown",
   "id": "49174cdc",
   "metadata": {},
   "source": [
    "수강 목표\n",
    "함수가 무엇인지 이해한다.\n",
    "내장 함수를 사용하고, 함수를 직접 만들 수 있다.\n",
    "메서드와 함수의 차이를 이해한다."
   ]
  },
  {
   "cell_type": "markdown",
   "id": "11a49cd8",
   "metadata": {},
   "source": [
    "목 차\n",
    "1. 함수\n",
    "2. 함수의 종류\n",
    "3. 전역 변수와 지역 변수\n",
    "4. Method(메서드)"
   ]
  },
  {
   "cell_type": "markdown",
   "id": "ab8ee19a",
   "metadata": {},
   "source": [
    "1. 함수"
   ]
  },
  {
   "cell_type": "markdown",
   "id": "afa5d70d",
   "metadata": {},
   "source": [
    "함수\n",
    "특정 기능을 수행하는 코드(들의 모임)\n",
    "\n",
    "라면 끓이기 -> 냄비를 가스레인지에 올리기\n",
    "             가스레인지의 불을 켜기\n",
    "             냄비에 물을 550ml 붓기"
   ]
  },
  {
   "cell_type": "markdown",
   "id": "f25abd63",
   "metadata": {},
   "source": [
    "함수의 구조\n",
    "컴퓨터 ->     <- 함수\n",
    "len() 자료를 넣으면 그 자료의 길이를 알려준다.\n",
    "int() 자료를 넣으면 정수형으로 변환해서 알려준다.\n",
    "str() 자료를 넣으면 문자열로 변환해서 알려준다."
   ]
  },
  {
   "cell_type": "markdown",
   "id": "5b4c4c4e",
   "metadata": {},
   "source": [
    "2. 함수의 종류"
   ]
  },
  {
   "cell_type": "markdown",
   "id": "5926c3ec",
   "metadata": {},
   "source": [
    "내장 함수\n",
    "파이썬 개발자들이 이미 만들어 둔 함수들\n",
    "편리하게 가져다 쓰면 된다.\n",
    "print()\n",
    "len()\n",
    "max()\n",
    "int()"
   ]
  },
  {
   "cell_type": "markdown",
   "id": "3d25e592",
   "metadata": {},
   "source": [
    "input()과 print()\n",
    "input() - 자료를 입력하는 함수\n",
    "print() - 자료를 출력하는 함수"
   ]
  },
  {
   "cell_type": "code",
   "execution_count": 1,
   "id": "bb378178",
   "metadata": {},
   "outputs": [
    {
     "name": "stdout",
     "output_type": "stream",
     "text": [
      "Hello\n",
      "Hello\n"
     ]
    }
   ],
   "source": [
    "a = input() # Hello 입력\n",
    "print(a) # Hello"
   ]
  },
  {
   "cell_type": "markdown",
   "id": "93c00257",
   "metadata": {},
   "source": [
    "max()와 min()\n",
    "max() - 시퀸스 자료의 최댓값을 구하는 함수\n",
    "min() - 시퀸스 자료의 최솟값을 구하는 함수"
   ]
  },
  {
   "cell_type": "code",
   "execution_count": 3,
   "id": "1e46e527",
   "metadata": {},
   "outputs": [
    {
     "name": "stdout",
     "output_type": "stream",
     "text": [
      "5\n",
      "1\n"
     ]
    }
   ],
   "source": [
    "print(max(1,2,3,4,5)) # 5\n",
    "print(min([1,2,3,4,5])) # 1"
   ]
  },
  {
   "cell_type": "markdown",
   "id": "a73ea743",
   "metadata": {},
   "source": [
    "sum()과 len()\n",
    "sum() - 숫자 원소로 이루어진 시퀀스 자료의 합\n",
    "len() - 시퀀스 자료의 길이를 구하는 함수"
   ]
  },
  {
   "cell_type": "code",
   "execution_count": 5,
   "id": "0e8d287d",
   "metadata": {},
   "outputs": [
    {
     "name": "stdout",
     "output_type": "stream",
     "text": [
      "15\n",
      "8\n"
     ]
    }
   ],
   "source": [
    "print(sum((1,2,3,4,5))) # 15\n",
    "print(len(\"Triangle\")) # 8"
   ]
  },
  {
   "cell_type": "markdown",
   "id": "e3036182",
   "metadata": {},
   "source": [
    "사용자 지정 함수\n",
    "사용자가 여러 코드를 묶어서 새로 만든 함수"
   ]
  },
  {
   "cell_type": "code",
   "execution_count": 6,
   "id": "04910c16",
   "metadata": {},
   "outputs": [
    {
     "name": "stdout",
     "output_type": "stream",
     "text": [
      "14\n"
     ]
    }
   ],
   "source": [
    "def plusDouble(a, b):\n",
    "    c = a+b\n",
    "    return c*2\n",
    "\n",
    "print(plusDouble(3, 4)) # 14"
   ]
  },
  {
   "cell_type": "markdown",
   "id": "9579b701",
   "metadata": {},
   "source": [
    "함수 만들기\n",
    "define(정의하다) def 키워드를 이용해서 함수 정의\n",
    "\n",
    "def 함수이름(매개변수):\n",
    "    <수행할 명령>\n",
    "    ....\n",
    "    return 반환값"
   ]
  },
  {
   "cell_type": "markdown",
   "id": "ebdb149e",
   "metadata": {},
   "source": [
    "함수의 입력\n",
    "매개변수를 이용해서 함수 내부로 값을 전달\n",
    "\n",
    "def 함수이름(매개변수):\n",
    "    <수행할 명령>\n",
    "    ....\n",
    "    return 반환값"
   ]
  },
  {
   "cell_type": "markdown",
   "id": "f0b2d0b8",
   "metadata": {},
   "source": [
    "함수 속 명령 작성\n",
    "같은 들여쓰기를 통해 명령 작성\n",
    "\n",
    "def 함수이름(매개변수):\n",
    "    <수행할 명령>\n",
    "    ....\n",
    "    return 반환값"
   ]
  },
  {
   "cell_type": "markdown",
   "id": "b6192047",
   "metadata": {},
   "source": [
    "함수의 반환(출력)\n",
    "return을 이용해서 함수 외부로 값을 전달\n",
    "\n",
    "def 함수이름(매개변수):\n",
    "    <수행할 명령>\n",
    "    ....\n",
    "    return 반환값"
   ]
  },
  {
   "cell_type": "markdown",
   "id": "39e84b5b",
   "metadata": {},
   "source": [
    "왜 반환이 필요할까?\n",
    "함수 내부에서 일어난 일은 함수 외부에서 알 수 없다!\n",
    "-> 반환을 통해 외부로 전달!"
   ]
  },
  {
   "cell_type": "code",
   "execution_count": 9,
   "id": "387b17d3",
   "metadata": {},
   "outputs": [
    {
     "name": "stdout",
     "output_type": "stream",
     "text": [
      "7\n"
     ]
    }
   ],
   "source": [
    "def plus(a,b):\n",
    "    c = a+b\n",
    "    return c\n",
    "print(plus(3,4))"
   ]
  },
  {
   "cell_type": "markdown",
   "id": "5835e311",
   "metadata": {},
   "source": [
    "3. 전역 변수와 지역 변수"
   ]
  },
  {
   "cell_type": "markdown",
   "id": "d6ad6592",
   "metadata": {},
   "source": [
    "함수와 변수\n",
    "왜 x가 출력 되지 않을까?\n",
    "함수 안에서 일어난 일은 함수 밖에 영향을 끼치지 않는다!"
   ]
  },
  {
   "cell_type": "code",
   "execution_count": 10,
   "id": "30ac6040",
   "metadata": {},
   "outputs": [
    {
     "name": "stdout",
     "output_type": "stream",
     "text": [
      "3\n"
     ]
    },
    {
     "ename": "NameError",
     "evalue": "name 'x' is not defined",
     "output_type": "error",
     "traceback": [
      "\u001b[1;31m---------------------------------------------------------------------------\u001b[0m",
      "\u001b[1;31mNameError\u001b[0m                                 Traceback (most recent call last)",
      "\u001b[1;32m<ipython-input-10-1d73f4f7c323>\u001b[0m in \u001b[0;36m<module>\u001b[1;34m\u001b[0m\n\u001b[0;32m      5\u001b[0m \u001b[0ma\u001b[0m \u001b[1;33m=\u001b[0m \u001b[1;36m3\u001b[0m\u001b[1;33m\u001b[0m\u001b[1;33m\u001b[0m\u001b[0m\n\u001b[0;32m      6\u001b[0m \u001b[0mmy_func\u001b[0m\u001b[1;33m(\u001b[0m\u001b[0ma\u001b[0m\u001b[1;33m)\u001b[0m\u001b[1;33m\u001b[0m\u001b[1;33m\u001b[0m\u001b[0m\n\u001b[1;32m----> 7\u001b[1;33m \u001b[0mprint\u001b[0m\u001b[1;33m(\u001b[0m\u001b[0mx\u001b[0m\u001b[1;33m)\u001b[0m\u001b[1;33m\u001b[0m\u001b[1;33m\u001b[0m\u001b[0m\n\u001b[0m",
      "\u001b[1;31mNameError\u001b[0m: name 'x' is not defined"
     ]
    }
   ],
   "source": [
    "def my_func(a):\n",
    "    x = \"Hi!\"\n",
    "    print(a)\n",
    "    \n",
    "a = 3\n",
    "my_func(a)\n",
    "print(x)"
   ]
  },
  {
   "cell_type": "markdown",
   "id": "34d05880",
   "metadata": {},
   "source": [
    "전역 변수 # 함수 밖에서 정의된 변수\n",
    "어디서든지 사용할 수 있는 변수"
   ]
  },
  {
   "cell_type": "code",
   "execution_count": 11,
   "id": "f4d7e688",
   "metadata": {},
   "outputs": [
    {
     "name": "stdout",
     "output_type": "stream",
     "text": [
      "Hi!\n",
      "Hi!\n"
     ]
    }
   ],
   "source": [
    "x = \"Hi!\"\n",
    "def my_func():\n",
    "    print(x)\n",
    "my_func() # Hi!\n",
    "print(x) # Hi!"
   ]
  },
  {
   "cell_type": "markdown",
   "id": "df8afd8b",
   "metadata": {},
   "source": [
    "지역 변수\n",
    "특정 구문(for문, 함수 ...)안에서 정의한 변수\n",
    "변수를 정의한 범위에서만 사용이 가능!"
   ]
  },
  {
   "cell_type": "code",
   "execution_count": 1,
   "id": "bd0532cf",
   "metadata": {},
   "outputs": [
    {
     "name": "stdout",
     "output_type": "stream",
     "text": [
      "Hi?\n"
     ]
    },
    {
     "ename": "NameError",
     "evalue": "name 'x' is not defined",
     "output_type": "error",
     "traceback": [
      "\u001b[1;31m---------------------------------------------------------------------------\u001b[0m",
      "\u001b[1;31mNameError\u001b[0m                                 Traceback (most recent call last)",
      "\u001b[1;32m<ipython-input-1-978894e12e9e>\u001b[0m in \u001b[0;36m<module>\u001b[1;34m\u001b[0m\n\u001b[0;32m      4\u001b[0m \u001b[1;33m\u001b[0m\u001b[0m\n\u001b[0;32m      5\u001b[0m \u001b[0mmy_func\u001b[0m\u001b[1;33m(\u001b[0m\u001b[1;33m)\u001b[0m\u001b[1;33m\u001b[0m\u001b[1;33m\u001b[0m\u001b[0m\n\u001b[1;32m----> 6\u001b[1;33m \u001b[0mprint\u001b[0m\u001b[1;33m(\u001b[0m\u001b[0mx\u001b[0m\u001b[1;33m)\u001b[0m\u001b[1;33m\u001b[0m\u001b[1;33m\u001b[0m\u001b[0m\n\u001b[0m",
      "\u001b[1;31mNameError\u001b[0m: name 'x' is not defined"
     ]
    }
   ],
   "source": [
    "def my_func():\n",
    "    x = \"Hi?\"\n",
    "    print(x)\n",
    "    \n",
    "my_func() # Hi?\n",
    "print(x) # Error"
   ]
  },
  {
   "cell_type": "markdown",
   "id": "f3f7d1ce",
   "metadata": {},
   "source": [
    "4. Method(메서드)"
   ]
  },
  {
   "cell_type": "markdown",
   "id": "89ee72b5",
   "metadata": {},
   "source": [
    "메서드(Method)\n",
    "'특정 자료에 대해' 특정 기능을 하는 코드"
   ]
  },
  {
   "cell_type": "code",
   "execution_count": 2,
   "id": "8442c95c",
   "metadata": {},
   "outputs": [
    {
     "data": {
      "text/plain": [
       "4"
      ]
     },
     "execution_count": 2,
     "metadata": {},
     "output_type": "execute_result"
    }
   ],
   "source": [
    "my_list = [1,2,3]\n",
    "my_list.append(4)\n",
    "my_list.count(2)\n",
    "my_list.pop()"
   ]
  },
  {
   "cell_type": "markdown",
   "id": "54b140ef",
   "metadata": {},
   "source": [
    "함수 vs 메서드\n",
    "함수는 특정 기능을 한다.\n",
    "(매개변수를 이용해 자료를 전달해준다)"
   ]
  },
  {
   "cell_type": "code",
   "execution_count": 3,
   "id": "38a9353a",
   "metadata": {},
   "outputs": [
    {
     "data": {
      "text/plain": [
       "1"
      ]
     },
     "execution_count": 3,
     "metadata": {},
     "output_type": "execute_result"
    }
   ],
   "source": [
    "my_list = [1,2,3]\n",
    "len(my_list) # 3\n",
    "sum(my_list) # 6\n",
    "min(my_list) # 1"
   ]
  },
  {
   "cell_type": "markdown",
   "id": "ac4ae8cb",
   "metadata": {},
   "source": [
    "함수 vs 메서드\n",
    "메서드는 '특정 자료와 연관 지어' 기능을 한다.\n",
    "(자료 뒤에 .을 찍어 사용한다.)"
   ]
  },
  {
   "cell_type": "code",
   "execution_count": null,
   "id": "9bf71c1d",
   "metadata": {},
   "outputs": [],
   "source": [
    "my_list = [1,2,3]\n",
    "my_list.sort()\n",
    "my_list.pop()\n",
    "my_list.clear()"
   ]
  },
  {
   "cell_type": "markdown",
   "id": "aa48eeb2",
   "metadata": {},
   "source": [
    "[요약]\n",
    "함수와 메서드\n",
    "함수는 특정 기능을 수행하는 코드의 모임!\n",
    "내장 함수와 외장 함수, 사용자 지정 함수\n",
    "전역 변수와 지역 변수의 차이\n",
    "메서드의 특징"
   ]
  },
  {
   "cell_type": "code",
   "execution_count": null,
   "id": "32169395",
   "metadata": {},
   "outputs": [],
   "source": [
    "# 1. 함수\n",
    "# Point I\n",
    "# 특정 기능을 수행하는 코드(들의 모임)\n",
    "# 함수이름(인자) 형태로 사용\n",
    "\n",
    "# Point II\n",
    "# 내장 함수 : 형식에 맞춰서 편리하게 사용\n",
    "\n",
    "# Point III\n",
    "# max(), min() - 시퀀스의 최댓값, 최솟값을 구하는 함수\n",
    "\n",
    "print(max([1, 2, 3]))\n",
    "#3\n",
    "\n",
    "print(min([-1, -2, -3]))\n",
    "#-3\n",
    "# Point IV\n",
    "# sum(), len()- 시퀀스의 합과 길이를 구하는 함수\n",
    "\n",
    "odds = [1, 3, 5, 7, 9, 11]\n",
    "print(sum(odds))\n",
    "#36\n",
    "\n",
    "print(len(odds))\n",
    "#6\n",
    "\n",
    "# Point V\n",
    "# def 키워드 : 함수를 정의할 때 사용\n",
    "\n",
    "# def function_name():\n",
    "#     ....\n",
    "# Point VI\n",
    "# 매개변수 : 함수 외부에서 내부로 값을 전달할 때 사용되는 변수\n",
    "# 함수를 정의할 때 괄호 안에 써주는 것\n",
    "\n",
    "# def function(var1, var2, ...):\n",
    "#     ...\n",
    "# Point VII\n",
    "# 인자 : 함수 외부에서 내부로 전달한 값(자료)\n",
    "# 함수를 사용할 때 괄호 안에 써주는 것\n",
    "\n",
    "# def function(var1, var2):\n",
    "#     #이때 var1, var2는 매개변수\n",
    "#         ...\n",
    "\n",
    "# function(1, 2)\n",
    "# #이때 1, 2은 인자\n",
    "# Point VIII\n",
    "# 전역변수 : 어디서든지 사용 가능한 변수\n",
    "# 지역변수 : 특정 구문 안에서 정의한 변수\n",
    "\n",
    "x = 1 #전역변수\n",
    "def func():\n",
    "    x = 2 #지역변수\n",
    "    print(x)\n",
    "# Tip!\n",
    "# print() 함수의 형식\n",
    "\n",
    "# print(data, end=\"\\n\", sep=\" \")\n",
    "# data에는 출력할 자료를, end에는 data 출력 이후 출력할 문자열을 넣습니다. (기본값은 줄바꿈 문자 \"\\n\"입니다.)\n",
    "\n",
    "# sep에는 data가 여러개인 경우, 각 data 사이에 출력할 문자열을 넣습니다. (기본값은 공백 한 칸 \" \"입니다.)\n",
    "\n",
    "# 이때, end와 sep은 \"end=\", \"sep=\"형식으로 인자를 전달해야합니다.\n",
    "\n",
    "# 예시\n",
    "\n",
    "print(1, 2, 3, end=\"\")\n",
    "print(4, 5, 6, sep=\"\")\n",
    "\n",
    "## 실행 결과 ##\n",
    "# 1 2 3456\n",
    "\n",
    "# 2. 메서드\n",
    "# Point I\n",
    "# 특정 자료에 대해 특정 기능을 하는 코드\n",
    "# 특정 자료.메서드이름(인자) 형태로 사용\n",
    "\n",
    "# Point II\n",
    "# 함수 vs 메서드\n",
    "# 함수 : 특정 기능을 하는 코드 (자료에 독립)\n",
    "# 메서드 : 특정 자료에 대해 특정 기능을 하는 코드 (자료에 종속)\n",
    "\n",
    "odd = [7, 2, 3, 5]\n",
    "\n",
    "# 함수\n",
    "max(odd)\n",
    "print(odd)\n",
    "\n",
    "# 메서드\n",
    "odd.append(11)\n",
    "odd.sort()"
   ]
  }
 ],
 "metadata": {
  "kernelspec": {
   "display_name": "Python 3",
   "language": "python",
   "name": "python3"
  },
  "language_info": {
   "codemirror_mode": {
    "name": "ipython",
    "version": 3
   },
   "file_extension": ".py",
   "mimetype": "text/x-python",
   "name": "python",
   "nbconvert_exporter": "python",
   "pygments_lexer": "ipython3",
   "version": "3.8.8"
  }
 },
 "nbformat": 4,
 "nbformat_minor": 5
}
