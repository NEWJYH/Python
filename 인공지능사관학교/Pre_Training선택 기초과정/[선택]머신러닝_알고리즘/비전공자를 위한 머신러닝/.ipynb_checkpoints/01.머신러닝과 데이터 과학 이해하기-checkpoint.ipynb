{
 "cells": [
  {
   "cell_type": "markdown",
   "id": "06e2db55",
   "metadata": {},
   "source": [
    "수업 목표\n",
    "\n",
    "1.데이터 과학이 무엇인지 살펴보고 이해합니다.\n",
    "\n",
    "2.머신러닝과 다른 전통적 방식의 차이를 이해 합니다.\n",
    "\n",
    "3.데이터 과학과 머신러닝의 사용 목적을 이해합니다."
   ]
  },
  {
   "cell_type": "markdown",
   "id": "1be3146b",
   "metadata": {},
   "source": [
    "실습 목표\n",
    "\n",
    "1. 머신러닝이 왜 필요한지 이해합니다.\n",
    "\n",
    "2. 머신러닝의 접근 방법을 이해합니다.\n",
    "\n",
    "3. 머신러닝의 핵심 원리를 이해합니다."
   ]
  },
  {
   "cell_type": "markdown",
   "id": "8cef9e24",
   "metadata": {},
   "source": [
    "목 차\n",
    "\n",
    "1. 데이터 과학 Data Sceience\n",
    "\n",
    "2. 머신러닝 Machine Learning"
   ]
  },
  {
   "cell_type": "markdown",
   "id": "907a16b8",
   "metadata": {},
   "source": [
    "1. 데이터 과학 Data Sceience"
   ]
  },
  {
   "cell_type": "markdown",
   "id": "1533a719",
   "metadata": {},
   "source": [
    "데이터 과학이 이슈가 된 이유\n",
    "\n",
    "4차 산업혁명, 머신러닝, 인공지능"
   ]
  },
  {
   "cell_type": "markdown",
   "id": "6cc29ce1",
   "metadata": {},
   "source": [
    "데이터 과학의 활용 사례\n",
    "\n",
    "Fraud Detection(사기 탐지)\n",
    "\n",
    "PayPal(핀테크 사기 탐지) - 손실 방지, 유동적 데이터 과학, 딥러닝"
   ]
  },
  {
   "cell_type": "markdown",
   "id": "f326f191",
   "metadata": {},
   "source": [
    "데이터 과학의 정의 및 발전 방향"
   ]
  },
  {
   "cell_type": "markdown",
   "id": "3fd4fcc0",
   "metadata": {},
   "source": [
    "데이터과학의 정의\n",
    "\n",
    "컴퓨터를 활용해서 데이터를 분석하고\n",
    "현실의 문제를 해결하는 작업"
   ]
  },
  {
   "cell_type": "markdown",
   "id": "655bf084",
   "metadata": {},
   "source": [
    "데이터 과학의 발전 방향\n",
    "\n",
    "Descriptive Analytics(What) : 기술 통계, 현상 설명\n",
    "↓\n",
    "Diagnostic Analytics(Why) : 원인, 이유, 과거 : 전통적 통계 분석\n",
    "↓\n",
    "Predictive Analytics(FUTURE?) : 미래, 예측 : 머신러닝, 의사 결정\n",
    "↓\n",
    "Prescriptive Analytics(ACTION?) : 예측 -> 행동 : 자율주행, 알파고"
   ]
  },
  {
   "cell_type": "markdown",
   "id": "aa74a0f8",
   "metadata": {},
   "source": [
    "데이터 과학의 특징 및 목표"
   ]
  },
  {
   "cell_type": "markdown",
   "id": "68ae7405",
   "metadata": {},
   "source": [
    "데이터 과학은 융합형 인재를 원한다.\n",
    "\n",
    "Data Science : \n",
    "    Statistic Visualization Database Data-mining\n",
    "    Neurocomputing Pattern-Recongnition\n",
    "    Machine-Learning AI "
   ]
  },
  {
   "cell_type": "markdown",
   "id": "97b818a2",
   "metadata": {},
   "source": [
    "데이터 과학의 목표는 무엇일까?\n",
    "\n",
    "Decision Making          \n",
    "의사 결정         \n",
    " : 데이터 기반, 결정\n",
    " \n",
    "Monetization\n",
    "수익화\n",
    " : 데이터과학 -> 비지니스 "
   ]
  },
  {
   "cell_type": "markdown",
   "id": "b85b0f5c",
   "metadata": {},
   "source": []
  },
  {
   "cell_type": "markdown",
   "id": "61d4d6be",
   "metadata": {},
   "source": [
    "머신러닝과 다른 분석 방법 비교"
   ]
  },
  {
   "cell_type": "markdown",
   "id": "4e9b6b10",
   "metadata": {},
   "source": [
    "2. 머신러닝 Machine Learning"
   ]
  },
  {
   "cell_type": "markdown",
   "id": "2f2dd274",
   "metadata": {},
   "source": [
    "머신러닝과 다른 접근 방법의 차이\n",
    "\n",
    "빅데이터 분석 vs 통계 분석 vs 머신러닝"
   ]
  },
  {
   "cell_type": "markdown",
   "id": "0db8d101",
   "metadata": {},
   "source": [
    "빅데이터 분석\n",
    "\n",
    "Correlation(상관관계)\n",
    "\n",
    "그로스 해킹(Growth Hacking)\n",
    "프로그래밍을 포함한 기숙 분석을 통한 마케딩\n",
    "\n",
    "A현상 발견 -> B 상관관계"
   ]
  },
  {
   "cell_type": "markdown",
   "id": "95f83db1",
   "metadata": {},
   "source": [
    "통계 분석\n",
    "\n",
    "Explanation(설명) & Interpreting real world(해석,설명)\n",
    "\n",
    "적은 데이터로 이해와 해석을 위함"
   ]
  },
  {
   "cell_type": "markdown",
   "id": "6dcfd7a2",
   "metadata": {},
   "source": [
    "머신 러닝\n",
    "\n",
    "Prediction(예측) & Pattern Analysis(패턴 분석)"
   ]
  },
  {
   "cell_type": "markdown",
   "id": "f2f668d1",
   "metadata": {},
   "source": [
    "머신러닝의 정의와 역사"
   ]
  },
  {
   "cell_type": "markdown",
   "id": "edd4f05c",
   "metadata": {},
   "source": [
    "머신러닝은 무엇인가?\n",
    "\n",
    "컴퓨터가 데이터로부터 스스로 학습을 할 수 있도록\n",
    "프로그래밍하는 과학적인 활동입니다."
   ]
  },
  {
   "cell_type": "markdown",
   "id": "6528f91f",
   "metadata": {},
   "source": [
    "머신러닝 역사\n",
    "\n",
    "1956\n",
    "인간처럼 생각하는 기계라는 의미의 인공지능 등장\n",
    "\n",
    "1970\n",
    "냉각기\n",
    "\n",
    "1980년대\n",
    "컴퓨터에 지식과 정보를 학습시키는 연구 시작\n",
    "\n",
    "1990년대\n",
    "인터넷 상의 수많은 문서 데이터에서 컴퓨터가 지식 학습\n",
    "\n",
    "2000년대\n",
    "딥러닝\n",
    "컴퓨터가 스스로 특징을 찾아 학습"
   ]
  },
  {
   "cell_type": "markdown",
   "id": "38602837",
   "metadata": {},
   "source": []
  },
  {
   "cell_type": "markdown",
   "id": "f308ec99",
   "metadata": {},
   "source": [
    "머신러닝이 필요한 상황과 핵심 동작 원리"
   ]
  },
  {
   "cell_type": "markdown",
   "id": "ea8b3b6e",
   "metadata": {},
   "source": [
    "머신러닝은 어떤 때에 사용해야 할까?\n",
    "\n",
    "problems\n",
    "1. for hand-tuning or long lists of rules\n",
    "    직접 손으로 -> 유지 보수가 어려움, 관리자 대체 어려움 -> 머신러닝\n",
    "2. for now working and traditional approach\n",
    "    잘 작동하지 않은 접근 -> 머신러닝,딥러닝\n",
    "3. for adapting to new data\n",
    "    변화에 따른 새 데이터 -> 머신러닝, 자동 스스로 찾아가는 머신러닝"
   ]
  },
  {
   "cell_type": "markdown",
   "id": "3911cd80",
   "metadata": {},
   "source": [
    "전통적인 접근 방법\n",
    "\n",
    "문제 파악                       서비스 도입\n",
    "문제 정의   → 규칙 작성  ->   평가  ↗\n",
    "                          ↙\n",
    "         ↖     에러확인\n",
    "              문제에 반영"
   ]
  },
  {
   "cell_type": "markdown",
   "id": "0f06d095",
   "metadata": {},
   "source": [
    "머신러닝 접근 방법\n",
    "\n",
    "_\n",
    "_\n",
    "                   데이터 업데이트     ←  서비스 \n",
    "                        ↓      자동화    도입\n",
    "문제 파악             머신러닝              ↑\n",
    "문제 정의      →      모델학습     →      평가\n",
    "                                         ↓\n",
    "    ↑     ← ←    에러확인 문제에 반영    ←   "
   ]
  },
  {
   "cell_type": "markdown",
   "id": "50391b07",
   "metadata": {},
   "source": [
    "실습 순서\n",
    "데이터를 살펴보고\n",
    "탑승자의 생존여부를 판별하는 규칙을 만든다.\n",
    "\n",
    "작성한 규칙을 이용해서\n",
    "테스트 데이터의 생존자를 판별한다.\n",
    "\n",
    "작성한 규칙의 정확도를\n",
    "코드 실행과 채점을 통해 확인한다.\n",
    "\n",
    "\n",
    "타이타닉의 생존자는 누구일까?\n",
    "이번 실습에서는 타이타닉호의 생존자 데이터 표본으로부터\n",
    "탑승자의 생존 여부를 판별하는 규칙(Rule) 을 만들어볼 것입니다.\n",
    "\n",
    "직접 규칙을 만들어보면서 전통적인 방법으로 생존자를 찾아내는 문제를 해결해보도록 하겠습니다.\n",
    "\n",
    "타이타닉 생존자 데이터는 초심자들이 머신러닝 work flow를 이해하는데 많이 다루어지는 유명한 데이터입니다.\n",
    "\n",
    "데이터의 수도 많지 않고 데이터가 다양한 데이터 포맷을 담고 있어서 다루기에도 좋습니다.\n",
    "\n",
    "머신러닝 프로젝트를 진행할 때 데이터에 대한 이해가 높을수록 좋은 결과를 만들어낼 수 있습니다.\n",
    "이러한 이유로 첫 실습에서는 가벼운 마음으로 타이타닉 데이터를 사용하도록 하겠습니다.\n"
   ]
  },
  {
   "cell_type": "markdown",
   "id": "3a7e173a",
   "metadata": {},
   "source": [
    "데이터 설명\n",
    "컬럼명\t설명\n",
    "survived\t생존 여부\n",
    "1(생존), 0(사망)\n",
    "pclass\t좌석 클래스\n",
    "1(1등석), 2(2등석), 3(3등석)\n",
    "name\t이름\n",
    "sex\t성별\n",
    "female(여성), male(남성)\n",
    "age\t나이\n",
    "sibsp\t함께 탑승한 형제 또는 배우자의 수\n",
    "parch\t함께 탑승한 부모 또는 자녀의 수\n",
    "ticket\t티켓 번호\n",
    "fare\t티켓 요금\n",
    "cabin\t선실 번호\n",
    "embarked\t탑승한 곳\n",
    "C(Cherbourg), Q(Queenstown), S(Southampton)"
   ]
  },
  {
   "cell_type": "markdown",
   "id": "852f76ad",
   "metadata": {},
   "source": [
    "타이타닉 데이터 - 규칙 만들어보기\n",
    "왼쪽의 데이터 설명을 참고하여 아래 데이터를 살펴보고,\n",
    "타이타닉의 생존자를 찾기 위한 규칙을 작성해보세요.\n",
    "\n",
    "샘플 규칙\n",
    "만약 탑승객의 pclass(좌석 클래스)가 1등석이고 sex(성별)이 female(여성)이라면 생존 확률이 높을 것이다.\n",
    "\n",
    "만약 탑승객의 age(나이)가 9.5살보다 어리고 sibsp(함께 탑승한 형제 또는 배우자의 수)가 2.5 명보다 많다면 생존 확률이 높을 것이다.\n",
    "\n",
    "타이타닉 데이터\n",
    "survived\tpclass\tname\tsex\tage\tsibsp\tparch\tticket\tfare\tcabin\tembarked\n",
    "1\t2\tBrown, Miss. Amelia Mildred\tfemale\t24.0\t0\t0\t248733\t13.0\tF33\tS\n",
    "0\t2\tChapman, Mr. Charles Henry\tmale\t52.0\t0\t0\t248731\t13.5\tNaN\tS\n",
    "1\t1\tFortune, Miss. Mabel Helen\tfemale\t23.0\t3\t2\t19950\t263.0\tC23 C25 C27\tS\n",
    "0\t3\tLievens, Mr. Rene Aime\tmale\t24.0\t0\t0\t345781\t9.5\tNaN\tS\n",
    "1\t3\tBaclini, Miss. Helene Barbara\tfemale\t0.75\t2\t1\t2666\t19.2583\tNaN\tC\n",
    "0\t3\tHenry, Miss. Delia\tfemale\tNaN\t0\t0\t382649\t7.75\tNaN\tQ\n",
    "0\t3\tHart, Mr. Henry\tmale\tNaN\t0\t0\t394140\t6.8583\tNaN\tQ\n",
    "1\t1\tBidois, Miss. Rosalie\tfemale\t42.0\t0\t0\tPC 17757\t227.525\tNaN\tC\n",
    "1\t1\tDaniel, Mr. Robert Williams\tmale\t27.0\t0\t0\t113804\t30.5\tNaN\tS\n",
    "1\t1\tAnderson, Mr. Harry\tmale\t48.0\t0\t0\t19952\t26.55\tE12\tS\n",
    "0\t3\tSkoog, Miss. Margit Elizabeth\tfemale\t2.0\t3\t2\t347088\t27.9\tNaN\tS\n",
    "0\t3\tBurke, Mr. Jeremiah\tmale\t19.0\t0\t0\t365222\t6.75\tNaN\tQ\n",
    "0\t3\tDanbom, Mr. Ernst Gilbert\tmale\t34.0\t1\t1\t347080\t14.4\tNaN\tS\n",
    "0\t3\tScanlan, Mr. James\tmale\tNaN\t0\t0\t36209\t7.725\tNaN\tQ\n",
    "0\t3\tCalic, Mr. Petar\tmale\t17.0\t0\t0\t315086\t8.6625\tNaN\tS\n",
    "0\t1\tClifford, Mr. George Quincy\tmale\tNaN\t0\t0\t110465\t52.0\tA14\tS\n",
    "0\t1\tHarrison, Mr. William\tmale\t40.0\t0\t0\t112059\t0.0\tB94\tS\n",
    "1\t3\tDorking, Mr. Edward Arthur\tmale\t19.0\t0\t0\tA/5. 10482\t8.05\tNaN\tS\n",
    "1\t3\tBaclini, Miss. Eugenie\tfemale\t0.75\t2\t1\t2666\t19.2583\tNaN\tC\n",
    "0\t3\tAsplund, Master. Clarence Gustaf Hugo\tmale\t9.0\t4\t2\t347077\t31.3875\tNaN\tS\n",
    "1\t3\tMoor, Master. Meier\tmale\t6.0\t0\t1\t392096\t12.475\tE121\tS\n",
    "0\t3\tKink, Mr. Vincenz\tmale\t26.0\t2\t0\t315151\t8.6625\tNaN\tS\n",
    "0\t3\tJonkoff, Mr. Lalio\tmale\t23.0\t0\t0\t349204\t7.8958\tNaN\tS\n",
    "1\t1\tPeuchen, Major. Arthur Godfrey\tmale\t52.0\t0\t0\t113786\t30.5\tC104\tS\n",
    "0\t3\tCook, Mr. Jacob\tmale\t43.0\t0\t0\tA/5 3536\t8.05\tNaN\tS\n",
    "1\t1\tLines, Miss. Mary Conover\tfemale\t16.0\t0\t1\tPC 17592\t39.4\tD28\tS\n",
    "1\t1\tGoldenberg, Mr. Samuel L\tmale\t49.0\t1\t0\t17453\t89.1042\tC92\tC\n",
    "0\t2\tPengelly, Mr. Frederick William\tmale\t19.0\t0\t0\t28665\t10.5\tNaN\tS\n",
    "1\t3\tMcGovern, Miss. Mary\tfemale\tNaN\t0\t0\t330931\t7.8792\tNaN\tQ\n",
    "1\t2\tGarside, Miss. Ethel\tfemale\t34.0\t0\t0\t243880\t13.0\tNaN\tS"
   ]
  },
  {
   "cell_type": "markdown",
   "id": "f4372cad",
   "metadata": {},
   "source": [
    "데이터 설명\n",
    "컬럼명\t설명\n",
    "pclass\t좌석 클래스\n",
    "1(1등석), 2(2등석), 3(3등석)\n",
    "name\t이름\n",
    "sex\t성별\n",
    "female(여성), male(남성)\n",
    "age\t나이\n",
    "sibsp\t함께 탑승한 형제 또는 배우자의 수\n",
    "parch\t함께 탑승한 부모 또는 자녀의 수\n",
    "ticket\t티켓 번호\n",
    "fare\t티켓 요금\n",
    "cabin\t선실 번호\n",
    "embarked\t탑승한 곳\n",
    "C(Cherbourg), Q(Queenstown), S(Southampton)"
   ]
  },
  {
   "cell_type": "markdown",
   "id": "5ace7411",
   "metadata": {},
   "source": [
    "타이타닉 테스트 데이터 - 생존 여부 판별하기\n",
    "직접 작성한 규칙을 이용해서\n",
    "아래 테스트 데이터의 탑승객 10명의 생존 여부를 판별해보세요.\n",
    "\n",
    "10개의 데이터를 확인하고 자신만의 규칙을 적용하여 생존 여부를 작성해 봅시다.\n",
    "\n",
    "살아남았다면 1 , 사망하였다면 0\n",
    "\n",
    "예시)\n",
    "\n",
    "[0, 0, 1, 1, 0, 1 ,0 ,1 ,0, 1]\n",
    "\n",
    "pclass\tname\tsex\tage\tsibsp\tparch\tticket\tfare\tcabin\tembarked\n",
    "3\tKlasen, Mr. Klas Albin\tmale\t18.0\t1\t1\t350404\t7.8542\tNaN\tS\n",
    "1\tCompton, Miss. Sara Rebecca\tfemale\t39.0\t1\t1\tPC 17756\t83.1583\tE49\tC\n",
    "3\tMoor, Master. Meier\tmale\t6.0\t0\t1\t392096\t12.4750\tE121\tS\n",
    "1\tHomer, Mr. Harry (\"Mr E Haven\")\tmale\t35.0\t0\t0\t111426\t26.5500\tNaN\tC\n",
    "3\tToufik, Mr. Nakli\tmale\tNaN\t0\t0\t2641\t7.2292\tNaN\tC\n",
    "2\tHerman, Mrs. Samuel (Jane Laver)\tfemale\t48.0\t1\t2\t220845\t65.0000\tNaN\tS\n",
    "3\tGheorgheff, Mr. Stanio\tmale\tNaN\t0\t0\t349254\t7.8958\tNaN\tC\n",
    "3\tVander Cruyssen, Mr. Victor\tmale\t47.0\t0\t0\t345765\t9.0000\tNaN\tS\n",
    "1\tIsham, Miss. Ann Elizabeth\tfemale\t50.0\t0\t0\tPC 17595\t28.7125\tC49\tC\n",
    "3\tLefebre, Miss. Ida\tfemale\tNaN\t3\t1\t4133\t25.4667\tNaN\tS"
   ]
  },
  {
   "cell_type": "markdown",
   "id": "c0008a1b",
   "metadata": {},
   "source": [
    "참여해주세요.\n",
    "\n",
    "\n",
    "지시사항\n",
    "오른쪽 화면에 정답을 입력할 빈 리스트 answer 가 있습니다.\n",
    "\n",
    "answer = [ ]\n",
    "Copy\n",
    "answer 리스트 안에 직접 판별한 테스트 데이터의 탑승자 10명의 생존 여부를 순서대로 입력해주세요.\n",
    "\n",
    "생존 : 1\n",
    "죽음 : 0\n",
    "예시)\n",
    "\n",
    "answer = [1, 0, 0, 0, 1, 0, 1, 0, 0, 1]\n",
    "Copy\n",
    "10명 모두에 대한 생존 여부를 입력해야 합니다.\n",
    "\n",
    "입력한 후에는 왼쪽 아래 실행 버튼을 눌러 결과를 확인하고, 100점이 나오도록 입력한 생존 여부를 수정하여 제출 버튼을 눌러보세요."
   ]
  },
  {
   "cell_type": "code",
   "execution_count": null,
   "id": "757ea757",
   "metadata": {},
   "outputs": [],
   "source": [
    "def scoring(answer):\n",
    "    result = resulting(answer)\n",
    "    accuracy(result)\n",
    "    wrong_case(result)\n",
    "    \n",
    "def resulting(answer):\n",
    "    solution = [0, 1, 1, 1, 0, 1, 0, 0, 1, 0]\n",
    "    result = {'right': [], 'wrong': []}\n",
    "    for i, (a, s) in enumerate(zip(answer, solution)):\n",
    "        if a == s:\n",
    "            result['right'].append(i+1)\n",
    "        else:\n",
    "            result['wrong'].append(i+1)\n",
    "    return result\n",
    "\n",
    "def accuracy(result):\n",
    "    acc = len(result['right'])\n",
    "    print('테스트 한 규칙의 정확도: {} 점'.format(acc*10))\n",
    "\n",
    "def wrong_case(result):\n",
    "    print('생존자로 잘못 판별된 case는 {} 번째 case입니다.'.format(result['wrong']))\n"
   ]
  },
  {
   "cell_type": "code",
   "execution_count": null,
   "id": "5e231a45",
   "metadata": {},
   "outputs": [],
   "source": [
    "#from titanic import *\n",
    "\n",
    "def is_survived_or_died():\n",
    "    \n",
    "    # 아래에 순서 대로 탑승자 10명의 생존여부를 입력해주세요 (생존:1, 죽음:0)\n",
    "    # Example: answer = [1, 0, 0, 0, 1, 0, 1, 0, 0, 1]\n",
    "    answer = [0,1,1,1,0,1,0,0,1,0 ]\n",
    "    \n",
    "    scoring(answer)\n",
    "    \n",
    "    \n",
    "    \n",
    "    \n",
    "    \n",
    "if __name__ == \"__main__\":\n",
    "    is_survived_or_died()"
   ]
  },
  {
   "cell_type": "markdown",
   "id": "b18f57d1",
   "metadata": {},
   "source": [
    "데이터 설명\n",
    "컬럼명\t설명\n",
    "survived\t생존 여부\n",
    "1(생존), 0(사망)\n",
    "pclass\t좌석 클래스\n",
    "1(1등석), 2(2등석), 3(3등석)\n",
    "name\t이름\n",
    "sex\t성별\n",
    "female(여성), male(남성)\n",
    "age\t나이\n",
    "sibsp\t함께 탑승한 형제 또는 배우자의 수\n",
    "parch\t함께 탑승한 부모 또는 자녀의 수\n",
    "ticket\t티켓 번호\n",
    "fare\t티켓 요금\n",
    "cabin\t선실 번호\n",
    "embarked\t탑승한 곳\n",
    "C(Cherbourg), Q(Queenstown), S(Southampton)"
   ]
  },
  {
   "cell_type": "markdown",
   "id": "efc1fa9b",
   "metadata": {},
   "source": [
    "Test 데이터의 생존여부 정답을 확인해보세요\n",
    "Test 데이터의 정답과 나의 판별 결과를 비교해보고, 작성한 규칙을 다시 한번 검토해보세요!\n",
    "\n",
    "survived\tpclass\tname\tsex\tage\tsibsp\tparch\tticket\tfare\tcabin\tembarked\n",
    "0\t3\tKlasen, Mr. Klas Albin\tmale\t18.0\t1\t1\t350404\t7.8542\tNaN\tS\n",
    "1\t1\tCompton, Miss. Sara Rebecca\tfemale\t39.0\t1\t1\tPC 17756\t83.1583\tE49\tC\n",
    "1\t3\tMoor, Master. Meier\tmale\t6.0\t0\t1\t392096\t12.4750\tE121\tS\n",
    "1\t1\tHomer, Mr. Harry (\"Mr E Haven\")\tmale\t35.0\t0\t0\t111426\t26.5500\tNaN\tC\n",
    "0\t3\tToufik, Mr. Nakli\tmale\tNaN\t0\t0\t2641\t7.2292\tNaN\tC\n",
    "1\t2\tHerman, Mrs. Samuel (Jane Laver)\tfemale\t48.0\t1\t2\t220845\t65.0000\tNaN\tS\n",
    "0\t3\tGheorgheff, Mr. Stanio\tmale\tNaN\t0\t0\t349254\t7.8958\tNaN\tC\n",
    "0\t3\tVander Cruyssen, Mr. Victor\tmale\t47.0\t0\t0\t345765\t9.0000\tNaN\tS\n",
    "1\t1\tIsham, Miss. Ann Elizabeth\tfemale\t50.0\t0\t0\tPC 17595\t28.7125\tC49\tC\n",
    "0\t3\tLefebre, Miss. Ida\tfemale\tNaN\t3\t1\t4133\t25.4667\tNaN\tS"
   ]
  },
  {
   "cell_type": "markdown",
   "id": "17bc3cf7",
   "metadata": {},
   "source": [
    "수업 Summary"
   ]
  },
  {
   "cell_type": "markdown",
   "id": "097f1917",
   "metadata": {},
   "source": [
    "마무리\n",
    "\n",
    "데이터 : 컴퓨터, 데이터, 현실 문제 \n",
    "머신러닝 : 문제 해결 컴퓨터 프로그래밍, 스스로 학습, 규칙과 패턴\n",
    "\n",
    "30개 -> 규칙, 패턴 \n",
    "\n",
    "10개의 데이터 -> 30,3000 라면?\n",
    "\n",
    "100개 1000개 데이터라면? \n",
    "힘들게 규칙을 만들고 새로운 적응 -> 머신러닝 "
   ]
  }
 ],
 "metadata": {
  "kernelspec": {
   "display_name": "Python 3",
   "language": "python",
   "name": "python3"
  },
  "language_info": {
   "codemirror_mode": {
    "name": "ipython",
    "version": 3
   },
   "file_extension": ".py",
   "mimetype": "text/x-python",
   "name": "python",
   "nbconvert_exporter": "python",
   "pygments_lexer": "ipython3",
   "version": "3.8.8"
  }
 },
 "nbformat": 4,
 "nbformat_minor": 5
}
