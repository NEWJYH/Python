{
 "cells": [
  {
   "cell_type": "markdown",
   "id": "577a3852",
   "metadata": {},
   "source": [
    "수업 목표\n",
    "\n",
    "머신러닝을 이해하기 위한 핵심개념을 파악합니다.\n",
    "\n",
    "데이터로부터 Feature를 만드는 과정을 이해합니다.\n",
    "\n",
    "Feature를 만들 때 도메인 전문성의 중요성을 이해합니다."
   ]
  },
  {
   "cell_type": "markdown",
   "id": "ace2910c",
   "metadata": {},
   "source": [
    "실습 목표\n",
    "\n",
    "Data Preprocessing이 어떤 기능을 하는지 이해합니다.\n",
    "\n",
    "Feature Engineering이 어떤 기능을 하는지 이해합니다.\n",
    "\n",
    "도메인 지식을 활용해 생성한 Feature가 머신러닝 모델의 성능을\n",
    "어떻게 변화시키는지 이해합니다."
   ]
  },
  {
   "cell_type": "markdown",
   "id": "91bb04ee",
   "metadata": {},
   "source": [
    "목 차\n",
    "\n",
    "1. 머신러닝을 위한 핵심개념 살펴보기\n",
    "\n",
    "2. 머신러닝을 위한 데이터 준비"
   ]
  },
  {
   "cell_type": "markdown",
   "id": "77aa63dd",
   "metadata": {},
   "source": []
  },
  {
   "cell_type": "markdown",
   "id": "ed3abe8e",
   "metadata": {},
   "source": [
    "머신러닝을 위한 핵심개념 살펴보기 (1)\n",
    "\n",
    "Data, Feature, Target"
   ]
  },
  {
   "cell_type": "markdown",
   "id": "defa0199",
   "metadata": {},
   "source": [
    "1. 머신러닝을 위한 핵심개념 살펴보기"
   ]
  },
  {
   "cell_type": "markdown",
   "id": "275fb909",
   "metadata": {},
   "source": [
    "Data\n",
    "\n",
    "현실 시계의 어떤 현상을\n",
    "\n",
    "관찰하여\n",
    "\n",
    "기록한 것"
   ]
  },
  {
   "cell_type": "markdown",
   "id": "70ab76e9",
   "metadata": {},
   "source": [
    "Heart Data\n",
    "\n",
    "심장 상태를 \n",
    "\n",
    "관찰하여\n",
    "\n",
    "기록한 것\n",
    "\n",
    "1/13 02:35"
   ]
  },
  {
   "cell_type": "markdown",
   "id": "24d439fd",
   "metadata": {},
   "source": []
  },
  {
   "cell_type": "markdown",
   "id": "36a63571",
   "metadata": {},
   "source": []
  },
  {
   "cell_type": "markdown",
   "id": "41f3da99",
   "metadata": {},
   "source": []
  },
  {
   "cell_type": "markdown",
   "id": "dc2239ee",
   "metadata": {},
   "source": []
  },
  {
   "cell_type": "markdown",
   "id": "40da1fed",
   "metadata": {},
   "source": []
  },
  {
   "cell_type": "markdown",
   "id": "4605043c",
   "metadata": {},
   "source": []
  },
  {
   "cell_type": "markdown",
   "id": "bda13183",
   "metadata": {},
   "source": []
  },
  {
   "cell_type": "markdown",
   "id": "edf9f917",
   "metadata": {},
   "source": []
  },
  {
   "cell_type": "markdown",
   "id": "c1d8b292",
   "metadata": {},
   "source": []
  },
  {
   "cell_type": "markdown",
   "id": "a44c84d2",
   "metadata": {},
   "source": []
  },
  {
   "cell_type": "markdown",
   "id": "55eb7c94",
   "metadata": {},
   "source": []
  },
  {
   "cell_type": "markdown",
   "id": "31a6aade",
   "metadata": {},
   "source": []
  },
  {
   "cell_type": "markdown",
   "id": "d034c77a",
   "metadata": {},
   "source": []
  },
  {
   "cell_type": "markdown",
   "id": "e320db36",
   "metadata": {},
   "source": []
  },
  {
   "cell_type": "markdown",
   "id": "93e2e79e",
   "metadata": {},
   "source": []
  },
  {
   "cell_type": "markdown",
   "id": "87f14302",
   "metadata": {},
   "source": []
  },
  {
   "cell_type": "markdown",
   "id": "4fe7bcac",
   "metadata": {},
   "source": []
  },
  {
   "cell_type": "markdown",
   "id": "b56227f3",
   "metadata": {},
   "source": []
  },
  {
   "cell_type": "markdown",
   "id": "57d6882f",
   "metadata": {},
   "source": []
  },
  {
   "cell_type": "markdown",
   "id": "b70f1f2c",
   "metadata": {},
   "source": []
  },
  {
   "cell_type": "markdown",
   "id": "1c4696d5",
   "metadata": {},
   "source": []
  },
  {
   "cell_type": "markdown",
   "id": "33008765",
   "metadata": {},
   "source": []
  },
  {
   "cell_type": "markdown",
   "id": "bd256c15",
   "metadata": {},
   "source": []
  },
  {
   "cell_type": "markdown",
   "id": "8b11fbb8",
   "metadata": {},
   "source": []
  },
  {
   "cell_type": "markdown",
   "id": "7ff6c08a",
   "metadata": {},
   "source": []
  },
  {
   "cell_type": "markdown",
   "id": "9ebfd7ef",
   "metadata": {},
   "source": []
  },
  {
   "cell_type": "markdown",
   "id": "558fa809",
   "metadata": {},
   "source": []
  },
  {
   "cell_type": "markdown",
   "id": "c0554a20",
   "metadata": {},
   "source": []
  },
  {
   "cell_type": "markdown",
   "id": "088b46fb",
   "metadata": {},
   "source": []
  },
  {
   "cell_type": "markdown",
   "id": "7b746155",
   "metadata": {},
   "source": []
  },
  {
   "cell_type": "markdown",
   "id": "167a815f",
   "metadata": {},
   "source": []
  },
  {
   "cell_type": "markdown",
   "id": "53add876",
   "metadata": {},
   "source": []
  }
 ],
 "metadata": {
  "kernelspec": {
   "display_name": "Python 3",
   "language": "python",
   "name": "python3"
  },
  "language_info": {
   "codemirror_mode": {
    "name": "ipython",
    "version": 3
   },
   "file_extension": ".py",
   "mimetype": "text/x-python",
   "name": "python",
   "nbconvert_exporter": "python",
   "pygments_lexer": "ipython3",
   "version": "3.8.8"
  }
 },
 "nbformat": 4,
 "nbformat_minor": 5
}
