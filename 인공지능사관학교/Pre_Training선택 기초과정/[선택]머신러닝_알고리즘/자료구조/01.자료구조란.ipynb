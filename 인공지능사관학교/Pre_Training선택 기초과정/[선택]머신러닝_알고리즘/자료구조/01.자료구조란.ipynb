{
 "cells": [
  {
   "cell_type": "markdown",
   "id": "ed1887fa",
   "metadata": {},
   "source": [
    "자료구조"
   ]
  },
  {
   "cell_type": "markdown",
   "id": "de317cd4",
   "metadata": {},
   "source": [
    "목 차\n",
    "\n",
    "01.자료구조의 의미\n",
    "\n",
    "02.추상적 자료형\n",
    "\n",
    "03.배열과 연결 리스트\n",
    "\n",
    "04.자료구조의 구현 방법\n",
    "\n",
    "05.구슬 넣기 문제 해결하기\n",
    "\n",
    "06.주문 관리 시스템 문제 해결하기\n",
    "\n",
    "07.마무리 및 부록"
   ]
  },
  {
   "cell_type": "markdown",
   "id": "0eb9a80d",
   "metadata": {},
   "source": [
    "01.자료구조의 의미"
   ]
  },
  {
   "cell_type": "markdown",
   "id": "05188cdc",
   "metadata": {},
   "source": [
    "자료구조란?\n",
    "\n",
    "자료를 저장하는 구조\n",
    "\n",
    "여러가지 종류가 있으며 \n",
    "저장된 자료에 대해 접근하는 방법 등의 차이가 존재한다.\n"
   ]
  },
  {
   "cell_type": "markdown",
   "id": "2d8ba2a8",
   "metadata": {},
   "source": [
    "자료구조는 왜 배울까?\n",
    "\n",
    "똑같은 음식을 같은 양만큼 담고 있는 두 그릇이 있다.\n",
    "여우는 넓은 그릇이 편리하고 두루미는 길쭉한 그릇이 편리하다.\n",
    "\n",
    "자료구조 또한 형태에 따라 장단점이 존재하며\n",
    "구현하고자 하는 프로그램의 성능을 고려하여 알맞은 자료구조를 선택해야 한다.\n",
    "\n",
    "밥상에는 음식이 필요한 것처럼, 프로그램에도 자료가 빠져서는 안 된다.\n",
    "프로그램에 필요한 자료를 효율적으로 담기 위해 자료구조를 배운다.\n",
    "\n",
    "여우는 접시를, 두루미는 호리병을 써야 행복하게 음식을 먹을 수 있다.\n",
    "\n",
    "음식을 담는 그릇도 먹는 사람, 먹을 음식을 고려하여 \n",
    "적절한 것을 선택해야 한다.\n",
    "\n",
    "마찬가지로 프로그램에서 특정 알고리즘을 구현하기 위해\n",
    "적절한 자료구조를 사용해야 좋은 성능을 낼 수 있다."
   ]
  },
  {
   "cell_type": "markdown",
   "id": "44d2c85b",
   "metadata": {},
   "source": [
    "02.추상적 자료형"
   ]
  },
  {
   "cell_type": "markdown",
   "id": "6e9a5bf9",
   "metadata": {},
   "source": [
    "추상적 자료형이란?\n",
    "\n",
    "어떤 자료와 그 자료에 대한 연산(동작)들의 수학적인 정의를 의미한다.\n",
    "그리고 그 정의를 구현하는 방법은 명시되어 있지 않다."
   ]
  },
  {
   "cell_type": "markdown",
   "id": "2112ba9f",
   "metadata": {},
   "source": [
    "추상적 자료형이란?\n",
    "\n",
    "\"추상적\"이라는 단어의 의미도 뭔가 추상적이다.\n",
    "\"추상적 자료형\"이란 용어를 파악하기 위해서,\n",
    "\n",
    "자료형이 무엇인지부터 알아보자."
   ]
  },
  {
   "cell_type": "markdown",
   "id": "89291f53",
   "metadata": {},
   "source": [
    "자료형\n",
    "\n",
    "자료형은 어떤 자료가 식별될 수 있는 방법과,\n",
    "그 자료에 대한 여러 가지 연산(동작)을 제공한다."
   ]
  },
  {
   "cell_type": "markdown",
   "id": "2a9c8e90",
   "metadata": {},
   "source": [
    "자료형의 중요성 - 값의 해석 방법 명시\n",
    "\n",
    "65\n",
    "\n",
    "예를 들어서 65라는 자료가 있다.\n",
    "컴퓨터는 이자료가 수를 나타내는 65인지, 아니면 알파벳 \"A\"를 나타내는 값인지\n",
    "자료형을 모르는 경우에 해석할 수 없다.\n",
    "\n",
    "(컴퓨터는 내부적으로 unicode라고 불리는 숫자를\n",
    " 문자에 대입하는 방식으로 각 문자를 식별하고, 65는 \"A\"에 해당한다.)"
   ]
  },
  {
   "cell_type": "markdown",
   "id": "64b6ee9f",
   "metadata": {},
   "source": [
    "자료형의 중요성 - 연산 방법 제공\n",
    "\n",
    "65\n",
    "\n",
    "또, 수를 나타내는 자료형은\n",
    "덧셈, 뺄셈 등을 비롯한 연산이 가능하다."
   ]
  },
  {
   "cell_type": "markdown",
   "id": "687048db",
   "metadata": {},
   "source": [
    "자료형\n",
    "\n",
    "이처럼, 자료형은 어떤 자료가 식별되는 방법을 정의하고\n",
    "자료에 적용할 수 있는 연산을 결정한다.\n",
    "\n",
    "자료를 특정 분류에 따라 올바르게 표현하기 위한 정의와,\n",
    "그 구현이 바로 자료형이라고 할 수 있다."
   ]
  },
  {
   "cell_type": "markdown",
   "id": "e010bcab",
   "metadata": {},
   "source": [
    "추상적 자료형\n",
    "\n",
    "추상적 자료형은 구현 방법을 명시하고 있지 않다는 점이 특징이다.\n",
    "\n",
    "그릇을 추상적 자료형이라고 한다면,\n",
    "그릇이 보관하는 자료와, 그 자료에 해당하는 연산의 정의를 포함해야 한다.\n",
    "\n",
    "그릇은 음식(자료)을 보관하고, 그릇에 담긴 음식을 먹을 수 있다.(연산)\n",
    "이때 음식을 어떻게 먹을 수 있는지, \n",
    "즉 어떻게 자료에 접근할 수 있는지는 주어지지 않는다.\n",
    "\n",
    "\"그릇\"이라는 추상적 자료형이 있고,\n",
    "그릇에 음식을 어떻게 담을 것인지,\n",
    "그릇을 이용하여 어떻게 음식을 먹을 수 있는지\n",
    "명확히 구현된 것을 자료구조라고 할 수 있다."
   ]
  },
  {
   "cell_type": "markdown",
   "id": "4091985b",
   "metadata": {},
   "source": [
    "추상적 자료형과 자료구조\n",
    "\n",
    "그릇(추상적 자료형)\n",
    "음식을 담을수 있고, 그릇에 담긴 음식을 먹을 수 있다.\n",
    "\n",
    "접시(자료구조)\n",
    "평평한 면에 음식을 얹을 수 있고,\n",
    "넓은 면적을 활용하여 수저로 음식을 먹기 쉽다.\n",
    "\n",
    "호리병(자료구조)\n",
    "길쭉한 입구를 이용하여 음식을 저장할 수 있으며,\n",
    "액체의 저장에 유리하다.\n",
    "병을 들고 마시거나, 빨대를 사용할 수 있다."
   ]
  },
  {
   "cell_type": "markdown",
   "id": "c959e423",
   "metadata": {},
   "source": [
    "정리\n",
    "\n",
    "\n",
    "추상적 자료형 : 자료들과, 그 자료들에 대한 연산들을 개념적으로 정의만 한 것\n",
    "자료구조 : 자료를 저장하는 방법과 자료에 적용할 수 있는 연산을\n",
    "          구체적으로 제공한 것\n",
    "          \n",
    "추상적 자료형을 구체적으로 구현한 결과가 자료구조이다."
   ]
  },
  {
   "cell_type": "markdown",
   "id": "5fe5b56b",
   "metadata": {},
   "source": [
    "03.배열과 연결 리스트"
   ]
  },
  {
   "cell_type": "markdown",
   "id": "965f19f1",
   "metadata": {},
   "source": [
    "시작하기 앞서\n",
    "\n",
    "3챕터 \"배열과 연결 리스트\"에서는 리스트라는 개념이 등장합니다.\n",
    "\n",
    "파이썬(Python)의 리스트와는 다른 개념으로, 용어의 혼선을 엎애기 위해\n",
    "가존의 알고 있던 리스트는 배열(Array)이라는 이름으로 표기하고 있습니다."
   ]
  },
  {
   "cell_type": "markdown",
   "id": "afac3dff",
   "metadata": {},
   "source": [
    "리스트(List)\n",
    "\n",
    "리스트라는 이름의 추상적 자료형이 있다."
   ]
  },
  {
   "cell_type": "markdown",
   "id": "438ed352",
   "metadata": {},
   "source": [
    "리스트가 담는 자료\n",
    "\n",
    "순서가 존재하며, 일렬로 나열된 값들이 들어있다."
   ]
  },
  {
   "cell_type": "markdown",
   "id": "a0619c4a",
   "metadata": {},
   "source": [
    "리스트가 담는 자료에 적용되는 연산\n",
    "\n",
    "조회 : 임의의 위치의 자료가 무엇인지 알아본다.\n",
    "\n",
    "삽입 : 임의의 위치에 자료를 추가한다.\n",
    "\n",
    "삭제 : 임의의 위치에 자료를 제거한다.\n",
    "\n",
    "이외에도 다양한 연산이 있다."
   ]
  },
  {
   "cell_type": "markdown",
   "id": "3cd5a36c",
   "metadata": {},
   "source": [
    "배열(Array)\n",
    "\n",
    "리스트라는 추상적 자료형을 구현한 대표적인 예시가 바로 \"배열\"이다.\n",
    "(Python에서는 배열을 리스트라는 이름으로 제공한다.)\n",
    "(본 과목에서 말하는 추상적 자료형을 뜻하는 \"리스트\"와는 다른 개념이다)"
   ]
  },
  {
   "cell_type": "markdown",
   "id": "2adf0463",
   "metadata": {},
   "source": [
    "배열\n",
    "\n",
    "배열에 저장된 값들은 순서를 나타내는 번호를 가진다.\n",
    "이 번호를 인덱스라고 부른다.\n",
    "\n",
    "myList 3 4 2 5 1 2 6 3\n",
    "index  0 1 2 3 4 5 6 7"
   ]
  },
  {
   "cell_type": "markdown",
   "id": "231f8e90",
   "metadata": {},
   "source": [
    "배열-조회\n",
    "\n",
    "따라서 배열 내의 특정 순서의 값을 조회하고자 할 때\n",
    "단번에 찾아낼 수 있다.\n",
    "\n",
    "myList 3  4  2  5  1  2  6  3\n",
    "index  0  1  2  3  4  5  6  7\n",
    "\n",
    "5번 인덱스의 값은 2"
   ]
  },
  {
   "cell_type": "markdown",
   "id": "ed8f749c",
   "metadata": {},
   "source": [
    "배열-삽입\n",
    "\n",
    "반면에 자료를 추가할 땐 조금 번거롭다.\n",
    "새로운 자료가 추가되면서, 자료들의 순서를 변경해 주어야 하기 때문이다.\n",
    "\n",
    "mylist  3  4  2  5  1  2  6  3\n",
    "index   0  1  2  3  4  5  6  7\n",
    "\n",
    "3번인덱스에 10을 추가하자."
   ]
  },
  {
   "cell_type": "markdown",
   "id": "f46aa78a",
   "metadata": {},
   "source": [
    "배열-삽입\n",
    "\n",
    "우선, 새로운 자료가 들어갈 공간을 마련해주어야 한다.\n",
    "배열에 들어갈 자료가 하나 늘었으므로 공간도 하나 더 만들어준다.\n",
    "\n",
    "mylist 3 4 2 5 1 2 6 3 _\n",
    "index  0 1 2 3 4 5 6 7 8 "
   ]
  },
  {
   "cell_type": "markdown",
   "id": "87037f44",
   "metadata": {},
   "source": [
    "배열-삽입\n",
    "\n",
    "추가될 자료가 들어갈 공간을 비워주기 위해\n",
    "기존 자료들은 한 칸씩 밀려나게 된다.\n",
    "\n",
    "mylist 3 4 2 _ 5 1 2 6 3\n",
    "index  0 1 2 3 4 5 6 7 8"
   ]
  },
  {
   "cell_type": "markdown",
   "id": "3b57fc9f",
   "metadata": {},
   "source": [
    "배열-삽입\n",
    "\n",
    "마련된 빈 자리에 추가될 값을 넣어준다.\n",
    "\n",
    "mylist 3  4  2  10  5  1  2  6  3\n",
    "index  0  1  2   3  4  5  6  7  8\n",
    "추가완료"
   ]
  },
  {
   "cell_type": "markdown",
   "id": "f2da578f",
   "metadata": {},
   "source": [
    "배열-삭제\n",
    "\n",
    "자료를 제거할 때는 이와 반대로 진행하면 된다.\n",
    "\n",
    "mylist 3 4 2 10 5 1 2 6 3\n",
    "index  0 1 2  3 4 5 6 7 8 \n",
    "\n",
    "5번 인덱스의 자료를 제거하자"
   ]
  },
  {
   "cell_type": "markdown",
   "id": "37ad4885",
   "metadata": {},
   "source": [
    "배열-삭제\n",
    "\n",
    "제가할 인덱스의 자료를 비운다.\n",
    "mylist 3 4 2 10 5 _ 2 6 3\n",
    "index  0 1 2  3 4 5 6 7 8 "
   ]
  },
  {
   "cell_type": "markdown",
   "id": "149d42eb",
   "metadata": {},
   "source": [
    "배열-삭제\n",
    "\n",
    "자료가 줄어들었으므로,\n",
    "빈 자리를 메꾸기 위해 자료들이 한 칸씩 당겨진다.\n",
    "\n",
    "mylist 3 4 2 10 5 2 6 3 _\n",
    "index  0 1 2  3 4 5 6 7 8\n"
   ]
  },
  {
   "cell_type": "markdown",
   "id": "fa3477af",
   "metadata": {},
   "source": [
    "배열-삭제\n",
    "\n",
    "배열이 담고 있는 자료가 하나 줄었으므로\n",
    "남는 공간도 제거한다.\n",
    "\n",
    "mylist 3 4 2 10 5 2 6 3\n",
    "index  0 1 2  3 4 5 6 7\n",
    "제거 완료!"
   ]
  },
  {
   "cell_type": "markdown",
   "id": "1515621a",
   "metadata": {},
   "source": [
    "연결 리스트(Linked List)\n",
    "\n",
    "리스트를 구현한 자료구조 중\n",
    "대표적인 다른 예시는 연결 리스트이다."
   ]
  },
  {
   "cell_type": "markdown",
   "id": "74cf0963",
   "metadata": {},
   "source": [
    "연결 리스트(Linked List)\n",
    "\n",
    "배열은 각 자료에 인덱스를 붙여 저장하는 반면,\n",
    "연결 리스트는 여러 개의 \"노드\"를 저장하는 방식으로 구현한다.\n",
    "\n",
    "myLinkedList  3  5  2  8"
   ]
  },
  {
   "cell_type": "markdown",
   "id": "7e0e9e08",
   "metadata": {},
   "source": [
    "연결 리스트(Linked List)\n",
    "\n",
    "노드는 자료와 포인터를 가진다.\n",
    "\n",
    "myLinkedlist 3_ 5_ 2_ 8_\n",
    "     노드 == 자료 _(포인터)"
   ]
  },
  {
   "cell_type": "markdown",
   "id": "5518daec",
   "metadata": {},
   "source": [
    "연결 리스트(Linked List)\n",
    "\n",
    "자료는 저장하는 값 자체를 의미하고,\n",
    "포인터는 자신의 다음 순서의 노드를 가리킨다.\n",
    "\n",
    "myLinkedlist 3_ 5_ 2_ 8_\n",
    "            자료 _(포인터)"
   ]
  },
  {
   "cell_type": "markdown",
   "id": "4ca205f7",
   "metadata": {},
   "source": [
    "연결 리스트 - 조회\n",
    "\n",
    "이러한 특성 때문에, 연결 리스트에서\n",
    "특정 위치의 자료를 찾는 것은 번거롭다.\n",
    "\n",
    "myLinkedList 3_ 5_ 2_ 8_\n",
    "\n",
    "3번쨰 자료의 값은?"
   ]
  },
  {
   "cell_type": "markdown",
   "id": "2657ce79",
   "metadata": {},
   "source": [
    "연결 리스트 - 조회\n",
    "\n",
    "배열은 찾는 자료의 위치와 관계없이 항상 단번에 값을 찾을 수 있지만,\n",
    "연결 리스트는 찾는 자료의 위치가 시작점으로부터 멀수록 연산 횟수가 많아진다.\n",
    "\n",
    "LinkedList 3_ 5_ 2_ 8_\n",
    "\n",
    "3번쨰 자료의 값은? 2\n"
   ]
  },
  {
   "cell_type": "markdown",
   "id": "e357345b",
   "metadata": {},
   "source": [
    "연결 리스트\n",
    "\n",
    "연결 리스트는 자료의 추가, 삭제에서 그 진가를 발휘한다.\n",
    "\n",
    "LinkedList 3_ 5_ 2_ 8_\n"
   ]
  },
  {
   "cell_type": "markdown",
   "id": "adbd3f7b",
   "metadata": {},
   "source": [
    "연결 리스트 - 삽입\n",
    "\n",
    "조회 연산과 마찬가지로\n",
    "연결 리스트 상에서 n번째 위치를 찾아야 하는 과정은 동일하다.\n",
    "\n",
    "LinkedList 3_ 5_ 2_ 8_\n",
    "\n",
    "3번째 위치에 10을 추가하자."
   ]
  },
  {
   "cell_type": "markdown",
   "id": "3d331904",
   "metadata": {},
   "source": [
    "\n",
    "                 10→\n",
    "\n",
    "LinkedList 3_→ 5_→    2_→ 8_"
   ]
  },
  {
   "cell_type": "markdown",
   "id": "f997ecbf",
   "metadata": {},
   "source": [
    "연결 리스트 - 삽입\n",
    "    \n",
    "추가할 위치의 이전 노드의 포인터를 새로운 노드로,\n",
    "새로운 노드의 포인터를 이전 노드가 가리키던 노드로 설정한다.\n",
    "\n",
    "\n",
    "LinkedList 3_→ 5_→ 10_→ 2_→ 8_\n",
    "추가 완료"
   ]
  },
  {
   "cell_type": "markdown",
   "id": "f418062d",
   "metadata": {},
   "source": [
    "연결 리스트 - 삭제\n",
    "\n",
    "LinkedList 3_→ 5_→ 10_→ 2_→ 8_\n",
    "\n",
    "4번째 위치의 자료를 제거하자"
   ]
  },
  {
   "cell_type": "markdown",
   "id": "cf02e112",
   "metadata": {},
   "source": [
    "LinkedList 3_→ 5_→ 10_→ 2_→ 8_\n",
    "           1    2    3    4    5"
   ]
  },
  {
   "cell_type": "markdown",
   "id": "01b47b87",
   "metadata": {},
   "source": [
    "연결 리스트 - 삭제\n",
    "\n",
    "제거할 노드의 이전 노드의 포인터가\n",
    "제거할 노드가 가리키던 노드를 가리키도록 설정한다.\n",
    "\n",
    "LinkedList 3_→ 5_→ 10_→ → 8_\n",
    "제거 완료!"
   ]
  },
  {
   "cell_type": "markdown",
   "id": "9a44df66",
   "metadata": {},
   "source": [
    "연결 리스트\n",
    "\n",
    "인덱스를 이용하여 절대적인 순서를 표현하는 배열과 달리,\n",
    "연결 리스트는 자신의 다음 노드를 가리키는 상대적인 순서를 표현한다.\n",
    "\n",
    "LinkedList 3_→ 5_→ 10_→ → 8_\n"
   ]
  },
  {
   "cell_type": "markdown",
   "id": "a4a0c984",
   "metadata": {},
   "source": [
    "배열 vs 연결 리스트\n",
    "\n",
    "          배열                    연결 리스트\n",
    "장점  특정 위치의 자료 탐색        자료의 삽입과 삭제\n",
    "\n",
    "단점  자료의 삽입과 삭제          특정 위치의 자료 탐색"
   ]
  },
  {
   "cell_type": "markdown",
   "id": "33e2be0a",
   "metadata": {},
   "source": [
    "배열 vs 연결 리스트\n",
    "\n",
    "\n",
    "리스트(추상적 자료형)\n",
    "값들이 일렬로 저장되어 있으며 리스트 연산을 제공한다.\n",
    "↓                                         ↓\n",
    "↓                                         ↓\n",
    "↓                                         ↓\n",
    "배열                                    연결 리스트\n",
    "\n",
    "배열 : 일렬로 저장된 값들이 인덱스라는 번호를 가진다.\n",
    "      특정 위치의 자료를 탐색하는 데 유리하다.\n",
    "      \n",
    "연결 리스트 : 일렬로 저장된 값들이 노드의 형태로 저장되어 있다.\n",
    "            각 노드는 자신의 다음 순서의 노드를 가리키며\n",
    "            자료의 삽입, 삭제에 유리하다."
   ]
  },
  {
   "cell_type": "markdown",
   "id": "30860757",
   "metadata": {},
   "source": [
    "04.자료구조의 구현 방법"
   ]
  },
  {
   "cell_type": "markdown",
   "id": "c24a3337",
   "metadata": {},
   "source": [
    "자료구조의 구현 방법\n",
    "\n",
    "자료구조는 추상적 자료형에 명시된 표현 및 연산 방법을 구현한다."
   ]
  },
  {
   "cell_type": "markdown",
   "id": "f0950c00",
   "metadata": {},
   "source": [
    "자료구조의 구현 방법\n",
    "\n",
    "객체지향 프로그래밍에서\n",
    "\n",
    "추상적 자료형은 인터페이스\n",
    "자료구조는 클래스\n",
    "\n",
    "로 생각할 수 있다."
   ]
  },
  {
   "cell_type": "markdown",
   "id": "4db0f8f4",
   "metadata": {},
   "source": [
    "인터페이스란?\n",
    "\n",
    "객체지향 구조에서 추상 메서드만으로 이루어진 설계용 클래스\n",
    "\n",
    "구현 부분이 비어있는 메서드를 추상 메서드라고 하며\n",
    "상속받는 클래스에서 이를 구현하여 사용한다.\n",
    "\n",
    "즉, '리스트'라는 인터페이스에는\n",
    "\"삽입과 삭제를 지원해야 한다\"라는 명세만 주어지고\n",
    "\n",
    "실제 동작 부분은 리스트를 상속 받은 배열 클래스,\n",
    "연결 리스트 클래스에서 구현해야 한다."
   ]
  },
  {
   "cell_type": "markdown",
   "id": "8b7becb4",
   "metadata": {},
   "source": [
    "인터페이스란?\n",
    "\n",
    "Example\n",
    "                       # ↓ 추상 클래스로 만들기 위한 메타 클래스 정의\n",
    "class MyInterFace(metaclass = ABCMeta) :\n",
    "    @abstractmethod  # 추상 메서드임을 나타내는 데코레이션\n",
    "    def func() :\n",
    "        pass\n",
    "        \n",
    "Java등 다른 언어와는 달리 Python에서는 \n",
    "인터페이스 기능을 직접 지원하지 않으므로 위와 같은 방식으로 표현된다.\n",
    "(본 강의에서는 인터페이스를 만들지 않습니다.)"
   ]
  },
  {
   "cell_type": "markdown",
   "id": "4e481203",
   "metadata": {},
   "source": [
    "자료구조의 구현 방법\n",
    "\n",
    "자료구조를 만드는 데에는 클래스가 탁월하다.\n",
    "\n",
    "클래스가 갖고 있는 \"필드\"가 자료에 해당하고,\n",
    "\"메서드\"가 자료에 적용할 수 있는 연산이다."
   ]
  },
  {
   "cell_type": "markdown",
   "id": "fb685b8d",
   "metadata": {},
   "source": [
    "자료구조의 구현 예시\n",
    "\n",
    "Example\n",
    "\n",
    "import queue\n",
    "\n",
    "q = queue.Queue()\n",
    "\n",
    "파이썬 기본 라이브러리 중, \"큐\"라는 자료구조를 구현한 Queue 클래스도 있다.\n",
    "큐 자료구조의 자료 저장 및 연산 방법을 갖추고 있다."
   ]
  },
  {
   "cell_type": "markdown",
   "id": "b1184e97",
   "metadata": {},
   "source": [
    "자료구조 구현해보기\n",
    "\n",
    "클래스를 이용한 첫 자료구조를 만들어보자."
   ]
  },
  {
   "cell_type": "markdown",
   "id": "62f9a486",
   "metadata": {},
   "source": [
    "최댓값 기계\n",
    "\n",
    "여러분이 구현해야 하는 자료구조의 추상적 자료형은 다음과 같습니다."
   ]
  },
  {
   "cell_type": "markdown",
   "id": "5192a4e4",
   "metadata": {},
   "source": [
    "최댓값 기계 - 자료\n",
    "\n",
    "최댓값 기계는 여러 저수를 담을 수 있는 컨테이너를 가져야 합니다.\n",
    "\n",
    "(컨테이너란? 리스트, 튜플, 딕셔너리 등을 \n",
    " 비롯한 하나 이상의 요소를 담을 수 있는 것.\n",
    " 내부적으로 Container 클래스를 상속받은 sub class에 해당함.)"
   ]
  },
  {
   "cell_type": "markdown",
   "id": "b7624fec",
   "metadata": {},
   "source": [
    "최댓값 기계 - 연산\n",
    "\n",
    "그리고, 해당 컨테이너에 아래의 연산을 수행하는 메서드를 가져야 합니다.\n",
    "\n",
    "1. 정수를 컨테이너에 추가\n",
    "2. 정수를 컨테이너에서 제거\n",
    "3. 컨테이너 내의 정수 중 최댓값 반환"
   ]
  },
  {
   "cell_type": "markdown",
   "id": "dfd0c5bb",
   "metadata": {},
   "source": [
    "[실습1] 최댓값 기계\n",
    "\n",
    "주어진 자료와 연산을 갖는 클래스를 구현하여\n",
    "자료구조를 만들어봅시다."
   ]
  },
  {
   "cell_type": "markdown",
   "id": "be6be8a2",
   "metadata": {},
   "source": [
    "최댓값 기계\n",
    "이번 실습에선 다양한 메서드를 가진 클래스를 만들어보겠습니다.\n",
    "\n",
    "이 클래스는 자신만의 배열을 가지고 있고, 그 배열에 숫자를 추가하는 메서드와 배열에 정수를 제거하는 메서드와 배열에서 제일 큰 정수를 찾는 메서드로 구성되어있습니다.\n",
    "\n",
    "machine.addNumber(x) : 정수 x를 최댓값 기계 machine에 추가합니다.\n",
    "machine.removeNumber(x) : 정수 x를 최댓값 기계 machine으로부터 제거합니다. 만약 정수 x가 최댓값 기계 내에 없다면 아무 일도 일어나지 않습니다.\n",
    "machine.getMax() : 최댓값 기계 machine이 갖고있는 숫자들 중 최댓값을 반환합니다.\n",
    "\n",
    "지시 사항\n",
    "입력\n",
    "첫 번째 줄에 최댓값 기계가 수행할 명령의 수를 나타내는 정수 nnn을 입력합니다. ( 500≤n≤55000500 \\le n \\le 55000500≤n≤55000)\n",
    "\n",
    "두 번째 줄부터 n개의 줄에 걸쳐 수행할 명령을 입력합니다. 명령의 종류는 다음과 같습니다.\n",
    "\n",
    "0 x : 정수 x를 입력\n",
    "1 x : 정수 x를 제거\n",
    "2 : 최댓값 반환\n",
    "입력 예시\n",
    "9\n",
    "0 1\n",
    "0 2\n",
    "0 4\n",
    "0 5\n",
    "2\n",
    "1 5\n",
    "2\n",
    "1 2\n",
    "2\n",
    "Copy\n",
    "출력 예시\n",
    "5\n",
    "4\n",
    "4"
   ]
  },
  {
   "cell_type": "code",
   "execution_count": 9,
   "id": "27b6f735",
   "metadata": {},
   "outputs": [],
   "source": [
    "'''\n",
    "maxMachine 클래스를 완성하세요.\n",
    "'''\n",
    "class maxMachine :\n",
    "\n",
    "    # 객체가 처음 생성될 때 자동으로 호출되는 함수. __init__\n",
    "    def __init__(self) :\n",
    "        self.numbers = []\n",
    "\n",
    "    # \n",
    "    def addNumber(self, n) :\n",
    "        self.numbers.append(n)\n",
    "\n",
    "    def removeNumber(self, n) :\n",
    "        self.numbers.remove(n)\n",
    "\n",
    "    def getMax(self) :\n",
    "        return max(self.numbers)"
   ]
  },
  {
   "cell_type": "code",
   "execution_count": 11,
   "id": "c2b4a07d",
   "metadata": {},
   "outputs": [
    {
     "name": "stdout",
     "output_type": "stream",
     "text": [
      "9\n",
      "0 2\n",
      "0 5\n",
      "0 6\n",
      "2\n",
      "6\n",
      "2 6\n",
      "6\n",
      "2 5\n",
      "6\n",
      "1 5\n",
      "2\n",
      "6\n",
      "0 65\n"
     ]
    }
   ],
   "source": [
    "#from maxMachine import maxMachine\n",
    "\n",
    "def main():\n",
    "\n",
    "    myMachine = maxMachine()\n",
    "\n",
    "    '''\n",
    "    테스트를 위한 코드입니다.\n",
    "    '''\n",
    "\n",
    "    n = int(input())\n",
    "    \n",
    "    for i in range(n) :\n",
    "        line = [int(v) for v in input().split()]\n",
    "        if line[0] == 0 :\n",
    "            myMachine.addNumber(line[1])\n",
    "        elif line[0] == 1 :\n",
    "            myMachine.removeNumber(line[1])\n",
    "        elif line[0] == 2 :\n",
    "            print(myMachine.getMax())\n",
    "            \n",
    "if __name__ == \"__main__\":\n",
    "    main()\n"
   ]
  },
  {
   "cell_type": "markdown",
   "id": "b06b4479",
   "metadata": {},
   "source": [
    "05.구슬 넣기 문제 해결하기"
   ]
  },
  {
   "cell_type": "markdown",
   "id": "614eaed5",
   "metadata": {},
   "source": [
    "구슬 넣기 문제\n",
    "\n",
    "양쪽이 열려있는 파이프에 구슬을 넣고 결과를 출력해보자.\n",
    "왼쪽 또는 오른쪽으로 구슬을 넣을 수 있다.\n",
    "\n",
    "입력 예시\n",
    "3\n",
    "1 0 # 왼쪽으로 1 삽입\n",
    "2 1 # 오른쪽으로 2 삽입\n",
    "3 0 # 왼쪽으로 3 삽입\n",
    "\n",
    "출력 예시\n",
    "3 1 2"
   ]
  },
  {
   "cell_type": "markdown",
   "id": "885fe4d8",
   "metadata": {},
   "source": [
    "구슬 넣기 문제\n",
    "\n",
    "파이프를 갖는 클래스를 구현하여 자료구조를 만들려고 한다.\n",
    "\n",
    "추상적 자료형은 구현 방법을 지정하지 않으므로\n",
    "파이프를 어떻게 구현하든 상관 없다.\n",
    "\n",
    "우리는 파이프를 배여롤 한 번, 연결 리스트로 한 번 구현해보고자 한다."
   ]
  },
  {
   "cell_type": "markdown",
   "id": "4654cb2b",
   "metadata": {},
   "source": [
    "구슬 넣기 문제\n",
    "\n",
    "\n",
    "Deque\n",
    "Double-Ended Queue\n",
    "\n",
    "이 문제를 가장 잘 해결할 수 있는 \"덱\"이라는 자료구조가 있지만,\n",
    "배열과 연결 리스트로 구현하여 두 자료구조의 장단점을 확인해봅시다. "
   ]
  },
  {
   "cell_type": "markdown",
   "id": "7925fd19",
   "metadata": {},
   "source": [
    "[실습2] 구슬 넣기 - 배열\n",
    "\n",
    "명령\n",
    "\n",
    "왼쪽으로 1 삽입\n",
    "오른쪽으로 2 삽입\n",
    "왼쪽으로 3 삽입\n",
    "\n",
    "왼쪽으로 1 삽입\n",
    "index  0\n",
    "value  1\n",
    "\n",
    "오른쪽으로 2 삽입\n",
    "index  0 1\n",
    "value  1 2\n",
    "\n",
    "왼쪽으로 3 삽입\n",
    "index    0 1     0 1 2     0 1 2\n",
    "value    1 2       1 2     3 1 2\n"
   ]
  },
  {
   "cell_type": "markdown",
   "id": "b3f1dcb4",
   "metadata": {},
   "source": [
    "[실습2] 구슬 넣기 - 배열\n",
    "\n",
    "배열의 특성에 의해\n",
    "\n",
    "왼쪽으로 구슬을 삽입하는 경우\n",
    "\n",
    "파이프 내의 모든 구슬을 한 칸씩\n",
    "옮겨야 하는 연산이 필요하다."
   ]
  },
  {
   "cell_type": "markdown",
   "id": "28fe89a0",
   "metadata": {},
   "source": [
    "좋은 해법인지 생각해보기\n",
    "\n",
    "좋은 해법인지 판단하는 기준은 여러 가지가 있다.\n",
    "\n",
    "(코드가 간결한가?, \n",
    " 얼마나 빠른가?, \n",
    " 리소스를 얼마나 차지하는가?\n",
    " 구현 시간이 짧은가?)"
   ]
  },
  {
   "cell_type": "markdown",
   "id": "63d462f0",
   "metadata": {},
   "source": [
    "좋은 해법인지 생각해보기\n",
    "\n",
    "수행하는 명령의 수가 적을수록 시간이 덜 걸린다.\n",
    "\n",
    "Example\n",
    "sum = 0\n",
    "for i in range(30):\n",
    "    sum = sum + 1\n",
    "    \n",
    "Example\n",
    "for i in range(300000):\n",
    "    sum = sum + 1"
   ]
  },
  {
   "cell_type": "markdown",
   "id": "e4fec5e3",
   "metadata": {},
   "source": [
    "시간 복잡도\n",
    "\n",
    "알고리즘이 문제를 해결하는 데 걸리는 시간을\n",
    "정량화하여 나타낼 수 있는 방법\n",
    "\n",
    "일반적으로, 문제에서 주어지는 최악의 경우에 대한\n",
    "소요 시간을 나타내는 데 사용한다."
   ]
  },
  {
   "cell_type": "markdown",
   "id": "f5d8c1e7",
   "metadata": {},
   "source": [
    "대략 몇 개의 명령이 수행되는가? - 배열\n",
    "\n",
    "우리 알고리즘이 무슨 일을 하는가?\n",
    "\n",
    "1.숫자 하나를 왼쪽으로 삽입\n",
    "2.숫자 하나를 오른쪽으로 삽입"
   ]
  },
  {
   "cell_type": "markdown",
   "id": "2ea471dc",
   "metadata": {},
   "source": [
    "대략 몇 개의 명령이 수행되는가? - 배열\n",
    "\n",
    "시간 복잡도는 일반적으로 최악의 경우를 고려해야 한다.\n",
    "\n",
    "구슬을 왼쪽으로 삽입하면,\n",
    "배열 내에서 한 칸씩 이동해야 하므로 느리다.\n",
    "\n",
    "그렇다면, 최악의 경우의 연산 횟수는?"
   ]
  },
  {
   "cell_type": "markdown",
   "id": "16655ab6",
   "metadata": {},
   "source": [
    "대략 몇 개의 명령이 수행되는가? - 배열\n",
    "\n",
    "구슬 n개를 모두 왼쪽으로만 삽입\n",
    "\n",
    "구슬이 3개라면?       1 + 2 + 3 = 6\n",
    "구슬이 5개라면?       1 + 2 + 3 + 4 + 5 = 15\n",
    "구슬이 n개라면?       n(n+1)/2 => 1부터 n까지의 합"
   ]
  },
  {
   "cell_type": "markdown",
   "id": "a52a315e",
   "metadata": {},
   "source": [
    "대략 몇 개의 명령이 수행되는가? - 배열\n",
    "\n",
    "\n",
    "즉, 이 문제를 배열로 해결하였을 때의 시간 복잡도는\n",
    "\n",
    "O(n(n+1)/2) => O(n^2)\n",
    "\n",
    "O()는 최악 조건의 시간 복잡도를 의미하는 기호로,\n",
    "Big-O Notation이라고 합니다."
   ]
  },
  {
   "cell_type": "markdown",
   "id": "06c08b2b",
   "metadata": {},
   "source": [
    "[실습3] 구슬 넣기 - 연결 리스트\n",
    "\n",
    "명령\n",
    "\n",
    "왼쪽으로 1 삽입\n",
    "오른쪽으로 2 삽입\n",
    "왼쪽으로 3 삽입\n",
    "\n",
    "\n",
    "왼쪽으로 1 삽입\n",
    "\n",
    "  1\n",
    "  \n",
    "오른쪽으로 2 삽입\n",
    "  1->  2\n",
    "  \n",
    "왼쪽으로 3 삽입\n",
    "3->   1->  2"
   ]
  },
  {
   "cell_type": "markdown",
   "id": "2a9ad018",
   "metadata": {},
   "source": [
    "[실습3] 구슬 넣기 - 연결 리스트\n",
    "\n",
    "연결 리스트는 구슬을 어디로 넣든 한 번의 연산으로 수행한다."
   ]
  },
  {
   "cell_type": "markdown",
   "id": "a407503b",
   "metadata": {},
   "source": [
    "대략 몇 개의 명령이 수행되는가? - 연결 리스트\n",
    "\n",
    "구슬 n개를 모두 왼쪽으로만 삽입\n",
    "\n",
    "구슬이 3개라면    1 + 1 + 1 = 3\n",
    "구슬이 5개라면    1 + 1 + 1 + 1 + 1 = 5\n",
    "구슬이 n개라면    n"
   ]
  },
  {
   "cell_type": "markdown",
   "id": "383d9f47",
   "metadata": {},
   "source": [
    "대략 몇 개의 명령이 수행되는가? - 연결 리스트\n",
    "\n",
    "즉, 이 문제를 연결 리스트로 해결하였을 때의 시간 복잡도는\n",
    "\n",
    "O(n)\n"
   ]
  },
  {
   "cell_type": "markdown",
   "id": "993ee128",
   "metadata": {},
   "source": [
    "구슬 넣기 - 정리\n",
    "\n",
    "연결 리스트로 구현한 것이\n",
    "배열로 구현한 것보다 빠르다.\n",
    "\n",
    "이 문제에서는 연결 리스트가 더 좋다."
   ]
  },
  {
   "cell_type": "markdown",
   "id": "04cfc23c",
   "metadata": {},
   "source": [
    "구슬 넣기 - 정리\n",
    "\n",
    "자료구조를 공부해야 하는 이유?\n",
    "\n",
    "작성하고자 하는 프로그램의 목적을\n",
    "가장 효율적으로 달성할 수 있는 자료구조를 사용하기 위해서\n",
    "\n",
    "각 자료구조의 특성과 동작 방법을 제대로 이해하고 있어야 한다."
   ]
  },
  {
   "cell_type": "markdown",
   "id": "ab24bea0",
   "metadata": {},
   "source": [
    "구슬 넣기 - 정리\n",
    "\n",
    "1. 문제를 파악한다.\n",
    "   ( = 어떤 자료를 담을지, 자료에 어떤 의미가 있는지 파악 )\n",
    "\n",
    "2. 자료구조에 필요한 기능을 파악한다.\n",
    "   ( = 자료를 어떻게 사용하는지 파악 )\n",
    "\n",
    "3. 문제를 효율적으로 해결하는 자료구조를 설계 및 사용한다.\n",
    "   ( = 목적에 맞는 자료구조로 문제를 해결 )"
   ]
  },
  {
   "cell_type": "markdown",
   "id": "0c6b121b",
   "metadata": {},
   "source": [
    "구슬 넣기 (배열)\n",
    "Elice의 토끼는 암기력을 높이기 위해 구슬 넣기 놀이를 고안했습니다.\n",
    "\n",
    "토끼는 nnn개의 구슬이 있으며, 각 구슬은 1부터 nnn까지의 번호를 하나씩 갖고 있습니다. 또한, 토끼는 양 쪽이 뚫려있고 투명하지 않은 관을 갖고 있습니다.\n",
    "\n",
    "토끼는 nnn개의 구슬을 이 파이프에 무작위로 넣은 후에, 최종적으로 구슬이 파이프 속에서 어떻게 배치되어 있는지를 암기함으로써 암기력을 높이려고 합니다.\n",
    "\n",
    "토끼는 파이프의 왼쪽에, 혹은 오른쪽에 구슬을 넣을 수 있습니다. 예를 들어, 파이프의 왼쪽으로 숫자 1의 구슬을 넣고, 파이프의 오른쪽으로 숫자 3의 구슬을 넣고, 마지막으로 파이프의 왼쪽으로 숫자 2의 구슬을 넣게 되면, 최종적으로 구슬의 배치는 2 1 3 이 됩니다.\n",
    "\n",
    "토끼가 nnn개의 구슬을 파이프에 넣는 행위가 입력으로 주어질 때, 최종적으로 구슬이 파이프 속에서 어떻게 배치되어 있는지를 출력하는 프로그램을 작성하세요.\n",
    "\n",
    "(단, 파이프의 길이는 nnn개의 구슬을 모두 담기에 충분히 길다고 가정합니다.)\n",
    "\n",
    "\n",
    "지시사항\n",
    "입력\n",
    "입력의 첫 번째 줄에는 구슬의 개수 nnn이 주어집니다. (100≤n≤200000100 \\le n \\le 200000100≤n≤200000)\n",
    "\n",
    "두 번째 줄부터는 토끼가 구슬을 넣는 행위가 주어집니다.\n",
    "\n",
    "각 줄은 두 개의 정수 aaa, bbb로 이루어지며, 이 뜻은 구슬 aaa를 왼쪽 혹은 오른쪽으로 넣는다는 의미입니다. (1≤a≤10000000001 \\le a \\le 10000000001≤a≤1000000000)\n",
    "\n",
    "(bbb가 0이면 왼쪽, bbb가 1이면 오른쪽이며 그 외의 입력은 주어지지 않는다)\n",
    "\n",
    "출력\n",
    "최종적으로 구슬이 파이프 속에서 어떻게 배치되어 있는지를 출력한다.\n",
    "\n",
    "입력 예시\n",
    "3\n",
    "1 0\n",
    "2 1\n",
    "3 0\n",
    "Copy\n",
    "출력 예시\n",
    "3 1 2"
   ]
  },
  {
   "cell_type": "code",
   "execution_count": null,
   "id": "067879e4",
   "metadata": {},
   "outputs": [],
   "source": [
    "'''\n",
    "1. ListPipe 클래스를 완성하세요. \n",
    "2. processBeads 함수를 완성하세요.\n",
    "'''\n",
    "\n",
    "class ListPipe:\n",
    "    '''\n",
    "    List를 이용하여 다음의 method들을 작성하세요.\n",
    "    '''\n",
    "    def __init__(self) :\n",
    "        '''\n",
    "        리스트 myPipe를 만듭니다. 이는 구슬의 배치를 저장합니다.\n",
    "        '''\n",
    "        self.myPipe = []\n",
    "        pass\n",
    "\n",
    "    def addLeft(self, n) :\n",
    "        '''\n",
    "        파이프의 왼쪽으로 구슬 n을 삽입합니다.\n",
    "        '''\n",
    "        self.myPipe.insert(0, n)\n",
    "\n",
    "    def addRight(self, n) :\n",
    "        '''\n",
    "        파이프의 오른쪽으로 구슬 n을 삽입합니다.\n",
    "        '''\n",
    "        self.myPipe.append(n)\n",
    "\n",
    "    def getBeads(self) :\n",
    "        '''\n",
    "        파이프의 배치를 list로 반환합니다.\n",
    "        '''\n",
    "        return self.myPipe\n",
    "\n",
    "\n",
    "def processBeads(myInput) :\n",
    "    '''\n",
    "    구슬을 파이프에 넣는 행위가 myInput으로 주어질 때, 구슬의 최종 배치를 리스트로 반환하는 함수를 작성하세요.\n",
    "\n",
    "    myInput[i][0] : i번째에 넣는 구슬의 번호\n",
    "    myInput[i][1] : i번째에 넣는 방향\n",
    "\n",
    "    예를 들어, 예제의 경우 \n",
    "\n",
    "    myInput[0][0] = 1, myInput[0][1] = 0,\n",
    "    myInput[1][0] = 2, myInput[1][1] = 1,\n",
    "    myInput[2][0] = 3, myInput[2][1] = 0\n",
    "\n",
    "    입니다.\n",
    "\n",
    "    '''\n",
    "\n",
    "    myPipe = ListPipe()\n",
    "    for bead, direction in myInput:\n",
    "        if direction == 0 :\n",
    "            myPipe.addLeft(bead)\n",
    "        elif direction == 1 :\n",
    "            myPipe.addRight(bead)\n",
    "    result = myPipe.getBeads()\n",
    "\n",
    "    return result"
   ]
  },
  {
   "cell_type": "code",
   "execution_count": null,
   "id": "dfce2042",
   "metadata": {},
   "outputs": [],
   "source": [
    "#from beads import processBeads\n",
    "\n",
    "\n",
    "def main():\n",
    "    '''\n",
    "    이 곳은 수정하지 마세요.\n",
    "    '''\n",
    "\n",
    "    n = int(input())\n",
    "\n",
    "    myList = []\n",
    "\n",
    "    for i in range(n) :\n",
    "        myList.append([int(v) for v in input().split()])\n",
    "\n",
    "    print(*processBeads(myList))\n",
    "\n",
    "if __name__ == \"__main__\":\n",
    "    main()\n"
   ]
  },
  {
   "cell_type": "markdown",
   "id": "dd66976b",
   "metadata": {},
   "source": [
    "구슬 넣기 (연결 리스트)\n",
    "Elice의 토끼는 암기력을 높이기 위해 구슬 넣기 놀이를 고안했습니다.\n",
    "\n",
    "토끼는 nnn개의 구슬이 있으며, 각 구슬은 1부터 nnn까지의 번호를 하나씩 갖고 있습니다. 또한, 토끼는 양 쪽이 뚫려있고 투명하지 않은 관을 갖고 있습니다.\n",
    "\n",
    "토끼는 nnn개의 구슬을 이 파이프에 무작위로 넣은 후에, 최종적으로 구슬이 파이프 속에서 어떻게 배치되어 있는지를 암기함으로써 암기력을 높이려고 합니다.\n",
    "\n",
    "토끼는 파이프의 왼쪽에, 혹은 오른쪽에 구슬을 넣을 수 있습니다. 예를 들어, 파이프의 왼쪽으로 숫자 1의 구슬을 넣고, 파이프의 오른쪽으로 숫자 3의 구슬을 넣고, 마지막으로 파이프의 왼쪽으로 숫자 2의 구슬을 넣게 되면, 최종적으로 구슬의 배치는 2 1 3 이 됩니다.\n",
    "\n",
    "토끼가 nnn개의 구슬을 파이프에 넣는 행위가 입력으로 주어질 때, 최종적으로 구슬이 파이프 속에서 어떻게 배치되어 있는지를 출력하는 프로그램을 작성하세요.\n",
    "\n",
    "(단, 파이프의 길이는 nnn개의 구슬을 모두 담기에 충분히 길다고 가정합니다.)\n",
    "\n",
    "\n",
    "지시사항\n",
    "입력\n",
    "입력의 첫 번째 줄에는 구슬의 개수 nnn이 주어집니다. (100≤n≤200000100 \\le n \\le 200000100≤n≤200000)\n",
    "\n",
    "두 번째 줄부터는 토끼가 구슬을 넣는 행위가 주어집니다.\n",
    "\n",
    "각 줄은 두 개의 정수 aaa, bbb로 이루어지며, 이 뜻은 구슬 aaa를 왼쪽 혹은 오른쪽으로 넣는다는 의미입니다. (1≤a≤10000000001 \\le a \\le 10000000001≤a≤1000000000)\n",
    "\n",
    "(bbb가 0이면 왼쪽, bbb가 1이면 오른쪽이며 그 외의 입력은 주어지지 않는다)\n",
    "\n",
    "출력\n",
    "최종적으로 구슬이 파이프 속에서 어떻게 배치되어 있는지를 출력한다.\n",
    "\n",
    "입력 예시\n",
    "3\n",
    "1 0\n",
    "2 1\n",
    "3 0\n",
    "Copy\n",
    "출력 예시\n",
    "3 1 2\n",
    "Copy\n",
    "Tip!\n",
    "파이썬 내장 라이브러리로 제공되는 자료구조 덱과 큐는 연결 리스트로 구현되어 있습니다."
   ]
  },
  {
   "cell_type": "code",
   "execution_count": 12,
   "id": "b934be9d",
   "metadata": {},
   "outputs": [],
   "source": [
    "'''\n",
    "1. LinkedListPipe 클래스를 완성하세요.\n",
    "2. procesBeads 함수를 완성하세요.\n",
    "'''\n",
    "\n",
    "# 연결 리스트가 갖고 있는 하나의 정점.\n",
    "class LinkedListElement :\n",
    "    def __init__(self, val, ptr) :\n",
    "        self.value = val # 정수\n",
    "        self.myNext = ptr # 또다른 Element\n",
    "\n",
    "class LinkedListPipe:\n",
    "    '''\n",
    "    Linked List를 이용하여 다음의 method들을 작성하세요.\n",
    "    '''\n",
    "    def __init__(self) :\n",
    "        '''\n",
    "        리스트 myPipe를 만듭니다. 이는 구슬의 배치를 저장합니다.\n",
    "        '''\n",
    "        # 연결리스트의 시작 정점\n",
    "        self.start = None\n",
    "        # 연결리스트의 끝 정점\n",
    "        self.end = None\n",
    "        # 정점 초기화 None \n",
    "\n",
    "    def addLeft(self, n) :\n",
    "        '''\n",
    "        파이프의 왼쪽으로 구슬 n을 삽입합니다.\n",
    "        '''\n",
    "        if self.start == None and self.end == None :\n",
    "            elem = LinkedListElement(n, None)\n",
    "            self.start = elem\n",
    "            self.end = elem\n",
    "        else :\n",
    "            elem = LinkedListElement(n, self.start)\n",
    "            self.start = elem\n",
    "            \n",
    "    def addRight(self, n) :\n",
    "        '''\n",
    "        파이프의 오른쪽으로 구슬 n을 삽입합니다.\n",
    "        '''\n",
    "        if self.start == None and self.end == None :\n",
    "            elem = LinkedListElement(n, None)\n",
    "            self.start = elem\n",
    "            self.end = elem\n",
    "        else :\n",
    "            elem = LinkedListElement(n, None)\n",
    "            self.end.myNext = elem\n",
    "            self.end = elem\n",
    "\n",
    "    def getBeads(self) :\n",
    "        '''\n",
    "        파이프의 배치를 list로 반환합니다.\n",
    "        '''\n",
    "        result = []\n",
    "        \n",
    "        current = self.start\n",
    "        while current != None:\n",
    "            result.append(current.value)\n",
    "            current = current.myNext\n",
    "        \n",
    "        return result\n",
    "\n",
    "def processBeads(myInput) :\n",
    "    '''\n",
    "    구슬을 파이프에 넣는 행위가 myInput으로 주어질 때, 구슬의 최종 배치를 리스트로 반환하는 함수를 작성하세요.\n",
    "\n",
    "    myInput[i][0] : i번째에 넣는 구슬의 번호\n",
    "    myInput[i][1] : i번째에 넣는 방향\n",
    "\n",
    "    예를 들어, 예제의 경우 \n",
    "\n",
    "    myInput[0][0] = 1, myInput[0][1] = 0,\n",
    "    myInput[1][0] = 2, myInput[1][1] = 1,\n",
    "    myInput[2][0] = 3, myInput[2][1] = 0\n",
    "\n",
    "    입니다.\n",
    "\n",
    "    '''\n",
    "\n",
    "    myPipe = LinkedListPipe()\n",
    "    \n",
    "    for x, y in myInput:\n",
    "        if y == 0 :\n",
    "            myPipe.addLeft(x)\n",
    "        elif y == 1 :\n",
    "            myPipe.addRight(x)\n",
    "    \n",
    "    result = myPipe.getBeads()\n",
    "\n",
    "    return result"
   ]
  },
  {
   "cell_type": "code",
   "execution_count": 13,
   "id": "e7310d4b",
   "metadata": {},
   "outputs": [
    {
     "name": "stdout",
     "output_type": "stream",
     "text": [
      "3\n",
      "1 0\n",
      "2 1\n",
      "3 0\n",
      "3 1 2\n"
     ]
    }
   ],
   "source": [
    "# from beads import processBeads\n",
    "\n",
    "def main():\n",
    "    '''\n",
    "    이 곳은 수정하지 마세요.\n",
    "    '''\n",
    "\n",
    "    n = int(input())\n",
    "\n",
    "    myList = []\n",
    "\n",
    "    for i in range(n) :\n",
    "        myList.append([int(v) for v in input().split()])\n",
    "\n",
    "    print(*processBeads(myList))\n",
    "\n",
    "if __name__ == \"__main__\":\n",
    "    main()\n"
   ]
  },
  {
   "cell_type": "markdown",
   "id": "ea49da3e",
   "metadata": {},
   "source": [
    "내림차순 정렬하기\n",
    "숫자들이 주어질 때, 이를 내림차순 정렬하여 출력하는 프로그램을 작성하세요.\n",
    "\n",
    "단, ‘최댓값 기계’문제에서 작성하였던 자료구조를 이용하여 문제를 풀도록 합니다.\n",
    "\n",
    "숫자들을 최댓값 기계에 넣고, 최댓값 기계에서 반환되는 숫자들을 받아 출력하면 됩니다.\n",
    "\n",
    "\n",
    "지시사항\n",
    "입력\n",
    "첫째줄에 nnn개의 정수들이 공백으로 구분되어 입력됩니다. (100≤n≤200000100 \\le n \\le 200000100≤n≤200000)\n",
    "\n",
    "출력\n",
    "입력된 정수들을 내림차순으로 정렬하여 출력합니다.\n",
    "\n",
    "입력 예시\n",
    "2 5 1 4 4 3 2\n",
    "Copy\n",
    "출력 예시\n",
    "5 4 4 3 2 2 1"
   ]
  },
  {
   "cell_type": "code",
   "execution_count": null,
   "id": "245e708f",
   "metadata": {},
   "outputs": [],
   "source": [
    "'''\n",
    "1. maxMachine 클래스를 완성하세요.\n",
    "2. sorting 함수를 완성하세요.\n",
    "'''\n",
    "\n",
    "class maxMachine :\n",
    "\n",
    "    def __init__(self) :\n",
    "        self.numbers = []\n",
    "\n",
    "    def addNumber(self, n) :\n",
    "        self.numbers.append(n)\n",
    "\n",
    "    def removeNumber(self, n) :\n",
    "        self.numbers.remove(n)\n",
    "\n",
    "    def getMax(self) :\n",
    "        return max(self.numbers)\n",
    "        \n",
    "def sorting(myList) :\n",
    "    '''\n",
    "    myList를 내림차순으로 정렬하여 반환하는 함수를 작성하세요.\n",
    "\n",
    "    예를 들어, myList = [5, 2, 3, 1] 이라면 [5, 3, 2, 1] 을 반환해야 합니다.\n",
    "\n",
    "    단, maxMachine class를 이용하도록 합니다. \n",
    "    '''\n",
    "\n",
    "    myMachine = maxMachine()\n",
    "\n",
    "    result = []\n",
    "    \n",
    "    for element in myList:\n",
    "        myMachine.addNumber(element)\n",
    "        \n",
    "\n",
    "    for i in range(len(myList)):\n",
    "        myMax = myMachine.getMax()\n",
    "        result.append(myMax)\n",
    "        myMachine.removeNumber(myMax)\n",
    "        \n",
    "    return result"
   ]
  },
  {
   "cell_type": "code",
   "execution_count": null,
   "id": "56dd919c",
   "metadata": {},
   "outputs": [],
   "source": [
    "#from maxMachine import sorting\n",
    "\n",
    "def main():\n",
    "    '''\n",
    "    이 곳은 수정하지 마세요.\n",
    "    '''\n",
    "\n",
    "    myList = [int(v) for v in input().split()]\n",
    "\n",
    "    print(sorting(myList))\n",
    "\n",
    "if __name__ == \"__main__\":\n",
    "    main()\n"
   ]
  },
  {
   "cell_type": "markdown",
   "id": "28da908a",
   "metadata": {},
   "source": [
    "06.주문 관리 시스템 문제 해결하기"
   ]
  },
  {
   "cell_type": "markdown",
   "id": "ea79f7ba",
   "metadata": {},
   "source": [
    "주문 관리 시스템\n",
    "\n",
    "주문 생성, 주문 제거, 주문 조회의 기능을 가진 \n",
    "주문 관리 시스템을 구현해야 한다.\n",
    "\n",
    "입력 예시\n",
    "5\n",
    "1 1 # 1번 주문 생성\n",
    "1 2 # 2번 주문 생성\n",
    "3 2 # 2번 주문이 몇 번째인지 조회\n",
    "2 1 # 1번 주문 제거\n",
    "3 2 # 2번 주문이 몇 번째인지 조회\n",
    "\n",
    "출력 예시\n",
    "2\n",
    "1"
   ]
  },
  {
   "cell_type": "markdown",
   "id": "d7543f28",
   "metadata": {},
   "source": [
    "주문 관리 시스템\n",
    "\n",
    "orderManager 클래스가 기본으로 주어지고,\n",
    "\n",
    "주문 생성, 주문 제거, 주문 조회를 각각\n",
    "\n",
    "addOrder, removeOrder, getOrder 함수를 구현하면 된다."
   ]
  },
  {
   "cell_type": "markdown",
   "id": "7c2033a8",
   "metadata": {},
   "source": [
    "주문 관리 시스템\n",
    "\n",
    "              배열                   연결 리스트\n",
    "\n",
    "addOrder     myList.append(n)      끝에 하나 추가\n",
    "\n",
    "removeOrder  myList.remove(n)      따라가면서 찾은 후 삭제\n",
    "\n",
    "getOrder     몇 번째인지 반환         몇 번째인지 반환"
   ]
  },
  {
   "cell_type": "markdown",
   "id": "4a1f37ff",
   "metadata": {},
   "source": [
    "주문 관리 시스템 - 성능 확인\n",
    "\n",
    "배열과 연결리스트 \n",
    "배열 : 주문조회가 많은 경우 주문 조회가 없는 경우\n",
    "      조회에 유리한 배열이 빠름\n",
    "      \n",
    "연결리스트 : 주문조회가 많은 경우 주문 조회가 없는 경우\n",
    "          \n",
    "          \n",
    "연결 리스트로 구현하였을 때\n",
    "처리 속도가 너무 느린 것을 알 수 있다.\n",
    "이유 : 연결 리스트 removeOrder는 따라가면서 찾은 후 삭제 하기 때문"
   ]
  },
  {
   "cell_type": "markdown",
   "id": "3df79e5f",
   "metadata": {},
   "source": [
    "주문 관리 시스템\n",
    "\n",
    "시간 복잡도\n",
    "\n",
    "\n",
    "              배열                   연결 리스트\n",
    "\n",
    "addOrder     O(1)                     O(1)\n",
    "\n",
    "removeOrder  O(n)                     O(n) <- 개선 필요\n",
    "\n",
    "getOrder     O(n)                     O(n)"
   ]
  },
  {
   "cell_type": "markdown",
   "id": "9ec9e835",
   "metadata": {},
   "source": [
    "주문 관리 시스템 - 연결 리스트\n",
    "\n",
    "연결 리스트의 특정 노드를 삭제하기 위해서\n",
    "그 특정 노드에 접근하는 과정이 필요하다.\n",
    "\n",
    "연결 리스트의 특성에 의해\n",
    "특정 원소에 접근하기 위해서는\n",
    "시작 원소부터 하나씩 따라가야 한다.\n",
    "\n",
    "연결 리스트는 어떤 노드를 삭제하기 위해서\n",
    "그 노드의 이전 노드와 다음 노드가 무엇인지 알고 있어야 하기 때문이다."
   ]
  },
  {
   "cell_type": "markdown",
   "id": "3b375097",
   "metadata": {},
   "source": [
    "주문 관리 시스템 - 딕셔너리 활용\n",
    "\n",
    "이 단점을 개선하기 위해\n",
    "연결 리스트 내에 딕셔너리를 두고,\n",
    "모든 노드들의 정보를 저장하고 있도록 한다.\n",
    "\n",
    "딕셔너리는 내부적으로 해시 테이블이라는 자료구조로 동작하며\n",
    "어떠한 key에 대한 value를 O(1)의 시간 복잡도로 접근할 수 있다.\n",
    "(단, 충돌이 일어나지 않았을 때를 전제로 한다)"
   ]
  },
  {
   "cell_type": "markdown",
   "id": "e93bc8ec",
   "metadata": {},
   "source": [
    "주문 관리 시스템 - 딕셔너리 활용\n",
    "\n",
    "myLinkedList node1 -> node2 -> node3 -> node4\n",
    "\n",
    "myDict \n",
    "\n",
    "Example\n",
    "{ 1 : node1,\n",
    "  2 : node2,\n",
    "  3 : node3,\n",
    "  4 : node4\n",
    "}"
   ]
  },
  {
   "cell_type": "markdown",
   "id": "8a21b241",
   "metadata": {},
   "source": [
    "주문 관리 시스템 - 딕셔너리 활용\n",
    "\n",
    "주문번호에 대해 각 노드를 대응시키는 딕셔너리를 하나 만들어두면\n",
    "removeOrder 함수를 수행할 때\n",
    "삭제할 노드를 O(1)만에 찾아 낼 수 있다.\n",
    "\n",
    "삭제할 노드를 알아냈다고 해서 끝이 아니다.\n",
    "삭제할 노드의 다음 노드와 이전 노드를 알아야 하는데,\n",
    "현재로서는 이전 노드에 접근할 방법이 없다."
   ]
  },
  {
   "cell_type": "markdown",
   "id": "820067d4",
   "metadata": {},
   "source": [
    "주문 관리 시스템 - 이중 연결 리스트 활용\n",
    "\n",
    "node1 → node2 → node3  → node4\n",
    "\n",
    "               ↓\n",
    "\n",
    "node1 ↔ node2 ↔ node3  ↔ node4\n",
    "\n",
    "노드에 포인터가 두 개 있고\n",
    "각각 이전 노드와 다음 노드를 가리키는 형태의\n",
    "연결 리스트를 이중 연결 리스트라고 한다."
   ]
  },
  {
   "cell_type": "markdown",
   "id": "ef0ea1ef",
   "metadata": {},
   "source": [
    "주문 관리 시스템 - 이중 연결 리스트 활용\n",
    "\n",
    "node1 ↔ node2 ↔ node3  ↔ node4\n",
    "  1       2        3        4\n",
    "  \n",
    "  노드 3 제거\n",
    "  node1 ↔ node2  ↔ node4\n",
    "  1        2          4"
   ]
  },
  {
   "cell_type": "markdown",
   "id": "e1d48e0d",
   "metadata": {},
   "source": [
    "주문 관리 시스템 - 이중 연결 리스트 활용\n",
    "\n",
    "이중 연결 리스트를 이용하여\n",
    "노드를 간편하게 삭제할 수 있다."
   ]
  },
  {
   "cell_type": "markdown",
   "id": "8e461db0",
   "metadata": {},
   "source": [
    "주문 관리 시스템 - 주문 조회\n",
    "\n",
    "배열이든 연결 리스트든,\n",
    "주문 번호가 주어 졌을 때 해당 주문이 몇 번재 인지 알기 위해서는\n",
    "맨 첫 번째 주문부터 하나씩 확인해봐야 한다."
   ]
  },
  {
   "cell_type": "markdown",
   "id": "62a7162c",
   "metadata": {},
   "source": [
    "주문 관리 시스템 - 주문 조회\n",
    "\n",
    "두 자료구조 모두 비슷한 방식으로 주문 조회를 수행하는데 왜 배열이 더 빠를까?"
   ]
  },
  {
   "cell_type": "markdown",
   "id": "8af9dfc1",
   "metadata": {},
   "source": [
    "주문 관리 시스템 - 주문 조회\n",
    "\n",
    "배열의 요소들은 컴퓨터에서 물리적으로 가깝기 때문이다.\n",
    "\n",
    "연결 리스트는 각각 별도의 객체들을 임의로 연결하는 방식으로 구현되지만\n",
    "배열의 경우, 각 요소들이 컴퓨터 내부에서 매우 가깝게 위치하고 있다."
   ]
  },
  {
   "cell_type": "markdown",
   "id": "e8dde0ae",
   "metadata": {},
   "source": [
    "자료를 메모리에 저장하는 방법 - 배열\n",
    "\n",
    "메모리\n",
    "0  1  2 3  4 \n",
    "■ ■ ■ ■ ■ ■ ■ ■ ■ ■□□□□□□□□□□\n",
    "□□□□□□□□□□□□□□□□□□□□\n",
    "□□□□□□□□□□□□□□□□□□□□\n",
    "□ = 메모리 공간 ■ = 자료가 저장된 공간\n",
    "\n",
    "인덱스간의 이동이 매우 빠르다."
   ]
  },
  {
   "cell_type": "markdown",
   "id": "27a08b02",
   "metadata": {},
   "source": [
    "자료를 메모리에 저장하는 방법 - 연결 리스트\n",
    "\n",
    "메모리\n",
    "□■□□■□■■□□□□□□□□□□□■\n",
    "■□□■□□□□□□■□□□□□□□□□\n",
    "□□□□■□□■□□□□□■□□□□□□\n",
    "\n",
    "□ = 메모리 공간 ■ = 자료가 저장된 공간\n",
    "\n",
    "별도의 객체를 찾으로 나가기 때문에 더 오래 걸림"
   ]
  },
  {
   "cell_type": "markdown",
   "id": "f47788c3",
   "metadata": {},
   "source": [
    "주문 관리 시스템 \n",
    "\n",
    "따라서 전체 요소를 순회하는 연산 또한 배열이 더 유리하다.\n",
    "\n",
    "주문 관리 시스템이 처리하는 주문의 양이 같더라도,\n",
    "주문 조회가 많을 떄, 적을 떄 유리한 자료구조가 각각 있다.\n",
    "\n",
    "알고리즘이 같더라도 데이터의 처리에 따라 성능이 다르다.\n",
    "따라서 데이터의 입출력과 문제 상황을 잘 파악하여\n",
    "적절한 자료구조를 선택해야 한다."
   ]
  },
  {
   "cell_type": "markdown",
   "id": "b3e90ba0",
   "metadata": {},
   "source": [
    "주문 관리 시스템 (배열)\n",
    "이번 실습 문제에서는 주문 관리 시스템을 구현합니다. 이 주문 관리 시스템은 총 3가지 기능을 지원해야 합니다. 이는 주문생성, 주문취소, 주문조회입니다. 각각의 자세한 설명은 다음과 같습니다.\n",
    "\n",
    "주문생성: 고객이 쇼핑몰에서 주문을 하게 되면 이 주문은 고유의 주문번호를 갖게 되고,\n",
    "이 주문번호가 주문 관리 시스템에 등록됩니다. 물론 고객은 여러 명이기 때문에 주문관리시스템\n",
    "내에 등록된 주문 번호가 여러 개 있을 수 있으며, 먼저 주문을 한 주문번호가 먼저 처리되는\n",
    "구조입니다.\n",
    "주문취소: 고객의 요청에 따라 주문은 취소가 될 수도 있습니다. 주문이 취소될 경우에는 그 주문은 주문 관리 시스템으로부터 삭제됩니다.\n",
    "주문조회: 주문이 몇 번째로 처리가 될지를 알려줍니다.\n",
    "이번 실습문제에서는 orderManager class내의 함수 addOrder, removerOrder, getOrder를 통해 위 기능을 구현합니다.\n",
    "\n",
    "addOrder(x) : 주문번호 x를 주문 관리 시스템에 추가합니다. return 값은 없습니다.\n",
    "removeOrder(x) : 주문번호 x를 주문 관리 시스템에서 제거합니다. 입력되는 x 값은 항상 주문 관리 시스템에 존재함이 보장됩니다. return 값은 없습니다.\n",
    "getOrder(x) : 입력한 주문번호 x가 주문 관리 시스템에서 몇 번째로 처리되는지를 return 합니다. 만약 입력한 주문번호 x가 주문 관리 시스템 내에 존재하지 않는 경우 -1을 return 합니다.\n",
    "예를 들어, addOrder(1), addOrder(2), addOrder(4)를 차례로 실행하면 주문 관리 시스템에 1 - 2 - 4로 입력된 순서대로 저장됩니다. 이 상태에서 removeOrder(2)를 실행하면 주문 관리 시스템에서 주문번호 2를 찾아낸 다음 제거하여 1 - 4 로 주문 관리 시스템이 업데이트됩니다.\n",
    "\n",
    "이 상황에서 getOrder(1)를 실행한 결과는 주문번호 1이 처리될 순서인 1이 반환되며, getOrder(4)를 실행한 결과는 주문번호 4가 처리될 순서인 2가 반환될 것입니다.\n",
    "\n",
    "요구사항\n",
    "배열을 이용하여 구현해주시기 바랍니다.\n",
    "\n",
    "\n",
    "지시사항\n",
    "이번 문제는 테스트 케이스가 총 20개입니다. 테스트 케이스 1번부터 10번까지는 작성하신 주문관리 시스템이 제대로 동작하는지를 체크하며, 11번부터 20번까지는 작성하신 주문관리 시스템의 성능을 잽니다.\n",
    "\n",
    "11번부터 15번까지는 주문 조회를 매우 많이 할 경우, 16번부터 20번까지는 주문 조회를 거의 하지 않을 경우입니다. 이 두 경우에 대하여 리스트를 활용한 구현과 링크드 리스트를 활용한 구현의 성능 차이를 보도록 합니다.\n",
    "\n",
    "입력\n",
    "첫째 줄에 주문관리 시스템이 처리할 명령의 개수를 의미하는 정수 n이 입력됩니다.\n",
    "\n",
    "둘째 줄부터 n개의 줄에 걸쳐서 명령의 정보가 주어집니다.\n",
    "\n",
    "명령은 공백으로 구분된 2개의 정수로 입력되며, 3가지 종류가 있습니다.\n",
    "\n",
    "1 x의 경우 주문번호 x를 추가\n",
    "2 x의 경우 주문번호 x를 삭제\n",
    "3 x의 경우 주문번호 x를 조회\n",
    "입력 예시 1\n",
    "10\n",
    "1 1\n",
    "1 2\n",
    "1 4\n",
    "2 2\n",
    "3 1\n",
    "3 4\n",
    "1 2\n",
    "2 1\n",
    "1 1\n",
    "3 2\n",
    "\n",
    "출력 예시 1\n",
    "1\n",
    "2\n",
    "2\n",
    "\n",
    "입력 예시 2\n",
    "10\n",
    "1 4\n",
    "1 8\n",
    "3 8\n",
    "1 2\n",
    "1 1\n",
    "2 4\n",
    "3 8\n",
    "1 59\n",
    "1 5959\n",
    "3 59\n",
    "\n",
    "출력 예시 2\n",
    "2\n",
    "1\n",
    "4\n",
    "\n",
    "입력 예시 3\n",
    "11\n",
    "1 2\n",
    "2 2\n",
    "1 1818\n",
    "1 8282\n",
    "1 2255\n",
    "1 6515\n",
    "2 1818\n",
    "1 486\n",
    "3 486\n",
    "3 3\n",
    "1 4860\n",
    "\n",
    "출력 예시 3\n",
    "4\n",
    "-1"
   ]
  },
  {
   "cell_type": "code",
   "execution_count": null,
   "id": "50697d1e",
   "metadata": {},
   "outputs": [],
   "source": [
    "'''\n",
    "orderManager 클래스를 완성하세요.\n",
    "'''\n",
    "\n",
    "class orderManager :\n",
    "    '''\n",
    "    주문을 처리하는 class를 작성합니다.\n",
    "    '''\n",
    "\n",
    "    def __init__(self) :\n",
    "        '''\n",
    "        이 부분은 고치지 마세요.\n",
    "        '''\n",
    "        self.data = []\n",
    "\n",
    "    def addOrder(self, orderId) :\n",
    "        '''\n",
    "        주문번호 orderId를 추가합니다.\n",
    "        '''\n",
    "        self.data.append(orderId)\n",
    "\n",
    "    def removeOrder(self, orderId) :\n",
    "        '''\n",
    "        주문번호 orderId를 제거합니다.\n",
    "        '''\n",
    "        self.data.remove(orderId)\n",
    "\n",
    "    def getOrder(self, orderId) :\n",
    "        '''\n",
    "        주문번호 orderId가 몇 번째로 처리될지를 반환합니다.\n",
    "\n",
    "        만약 주문번호 orderId가 존재하지 않으면 -1을 반환합니다. \n",
    "        '''\n",
    "        for i in range(len(self.data)):\n",
    "            if self.data[i] == orderId:\n",
    "                return(i+1)\n",
    "        return -1\n",
    "                \n",
    "#         if orderId in self.data:\n",
    "#             return self.data.index(orderId) + 1\n",
    "#         else :\n",
    "#             return -1\n",
    "        "
   ]
  },
  {
   "cell_type": "code",
   "execution_count": null,
   "id": "93747038",
   "metadata": {},
   "outputs": [],
   "source": [
    "#from orderManager import orderManager\n",
    "\n",
    "def main():\n",
    "    '''\n",
    "    이 부분은 수정하지 마세요.\n",
    "    '''\n",
    "    \n",
    "    line = [int(v) for v in input().split()]\n",
    "    m = line[0]\n",
    "    \n",
    "    manager = orderManager()\n",
    "    \n",
    "    for i in range(m) :\n",
    "        line = [int(v) for v in input().split()]\n",
    "\n",
    "        if line[0] == 1 :\n",
    "            manager.addOrder(line[1])\n",
    "\n",
    "        elif line[0] == 2 :\n",
    "            manager.removeOrder(line[1])\n",
    "\n",
    "        elif line[0] == 3 :\n",
    "            myOrder = manager.getOrder(line[1])\n",
    "\n",
    "            if myOrder == -1 :\n",
    "                print(\"-1\")\n",
    "            else :\n",
    "                print(str(manager.getOrder(line[1])))\n",
    "\n",
    "if __name__ == \"__main__\":\n",
    "    main()"
   ]
  },
  {
   "cell_type": "markdown",
   "id": "aa4a5f1b",
   "metadata": {},
   "source": [
    "주문 관리 시스템 (연결 리스트)\n",
    "(요구사항은 앞 문제와 같습니다. 그러나 연결 리스트를 이용해 구현해주세요.)\n",
    "\n",
    "이번 실습 문제에서는 주문 관리 시스템을 구현합니다. 이 주문 관리 시스템은 총 3가지 기능을 지원해야 합니다. 이는 주문생성, 주문취소, 주문조회입니다. 각각의 자세한 설명은 다음과 같습니다.\n",
    "\n",
    "주문생성: 고객이 쇼핑몰에서 주문을 하게 되면 이 주문은 고유의 주문번호를 갖게 되고,\n",
    "이 주문번호가 주문 관리 시스템에 등록됩니다. 물론 고객은 여러 명이기 때문에 주문관리시스템\n",
    "내에 등록된 주문 번호가 여러 개 있을 수 있으며, 먼저 주문을 한 주문번호가 먼저 처리되는\n",
    "구조입니다.\n",
    "주문취소: 고객의 요청에 따라 주문은 취소가 될 수도 있습니다. 주문이 취소될 경우에는 그 주문은 주문 관리 시스템으로부터 삭제됩니다.\n",
    "주문조회: 주문이 몇 번째로 처리가 될지를 알려줍니다.\n",
    "이번 실습문제에서는 orderManager class내의 함수 addOrder, removerOrder, getOrder를 통해 위 기능을 구현합니다.\n",
    "\n",
    "addOrder(x) : 주문번호 x를 주문 관리 시스템에 추가합니다. return 값은 없습니다.\n",
    "removeOrder(x) : 주문번호 x를 주문 관리 시스템에서 제거합니다. 입력되는 x 값은 항상 주문 관리 시스템에 존재함이 보장됩니다. return 값은 없습니다.\n",
    "getOrder(x) : 입력한 주문번호 x가 주문 관리 시스템에서 몇 번째로 처리되는지를 return 합니다. 만약 입력한 주문번호 x가 주문 관리 시스템 내에 존재하지 않는 경우 -1을 return 합니다.\n",
    "예를 들어, addOrder(1), addOrder(2), addOrder(4)를 차례로 실행하면 주문 관리 시스템에 1 - 2 - 4로 입력된 순서대로 저장됩니다. 이 상태에서 removeOrder(2)를 실행하면 주문 관리 시스템에서 주문번호 2를 찾아낸 다음 제거하여 1 - 4 로 주문 관리 시스템이 업데이트됩니다.\n",
    "\n",
    "이 상황에서 getOrder(1)를 실행한 결과는 주문번호 1이 처리될 순서인 1이 반환되며, getOrder(4)를 실행한 결과는 주문번호 4가 처리될 순서인 2가 반환될 것입니다.\n",
    "\n",
    "요구사항\n",
    "연결 리스트를 이용하여 구현해주시기 바랍니다.\n",
    "\n",
    "\n",
    "지시사항\n",
    "이번 문제는 테스트 케이스가 총 20개입니다. 테스트 케이스 1번부터 10번까지는 작성하신 주문관리 시스템이 제대로 동작하는지를 체크하며, 11번부터 20번까지는 작성하신 주문관리 시스템의 성능을 잽니다.\n",
    "\n",
    "11번부터 15번까지는 주문 조회를 매우 많이 할 경우, 16번부터 20번까지는 주문 조회를 거의 하지 않을 경우입니다. 이 두 경우에 대하여 리스트를 활용한 구현과 링크드 리스트를 활용한 구현의 성능 차이를 보도록 합니다.\n",
    "\n",
    "입력\n",
    "첫째 줄에 주문관리 시스템이 처리할 명령의 개수를 의미하는 정수 n이 입력됩니다.\n",
    "\n",
    "둘째 줄부터 n개의 줄에 걸쳐서 명령의 정보가 주어집니다.\n",
    "\n",
    "명령은 공백으로 구분된 2개의 정수로 입력되며, 3가지 종류가 있습니다.\n",
    "\n",
    "1 x의 경우 주문번호 x를 추가\n",
    "2 x의 경우 주문번호 x를 삭제\n",
    "3 x의 경우 주문번호 x를 조회\n",
    "입력 예시 1\n",
    "10\n",
    "1 1\n",
    "1 2\n",
    "1 4\n",
    "2 2\n",
    "3 1\n",
    "3 4\n",
    "1 2\n",
    "2 1\n",
    "1 1\n",
    "3 2\n",
    "\n",
    "출력 예시 1\n",
    "1\n",
    "2\n",
    "2\n",
    "\n",
    "입력 예시 2\n",
    "10\n",
    "1 4\n",
    "1 8\n",
    "3 8\n",
    "1 2\n",
    "1 1\n",
    "2 4\n",
    "3 8\n",
    "1 59\n",
    "1 5959\n",
    "3 59\n",
    "\n",
    "출력 예시 2\n",
    "2\n",
    "1\n",
    "4\n",
    "\n",
    "입력 예시 3\n",
    "11\n",
    "1 2\n",
    "2 2\n",
    "1 1818\n",
    "1 8282\n",
    "1 2255\n",
    "1 6515\n",
    "2 1818\n",
    "1 486\n",
    "3 486\n",
    "3 3\n",
    "1 4860\n",
    "\n",
    "출력 예시 3\n",
    "4\n",
    "-1"
   ]
  },
  {
   "cell_type": "code",
   "execution_count": null,
   "id": "55dcb9c0",
   "metadata": {},
   "outputs": [],
   "source": [
    "'''\n",
    "1. LinkedListElement 클래스를 완성하세요.\n",
    "2. orderManager 클래스를 완성하세요.\n",
    "'''\n",
    "\n",
    "class LinkedListElement :\n",
    "    def __init__(self, data, myPrev, myNext) :\n",
    "        self.data = data\n",
    "        self.myPrev = myPrev\n",
    "        self.myNext = myNext\n",
    "        \n",
    "class orderManager :\n",
    "    def __init__(self) :\n",
    "        self.start = None\n",
    "        self.end = None\n",
    "\n",
    "    def addOrder(self, orderId) :\n",
    "        node = LinkedListElement(orderId, None, None)\n",
    "        \n",
    "        if self.start == None and self.end == None :\n",
    "            self.start = node\n",
    "            self.end = node\n",
    "        else:\n",
    "            self.end.myNext = node\n",
    "            node.myPrev = self.end\n",
    "            self.end = node\n",
    "    def removeOrder(self, orderId) :\n",
    "        \n",
    "        if self.start == None and self.end == None:\n",
    "            return \n",
    "        current = self.start\n",
    "        \n",
    "        while current != None :\n",
    "            if current.data == orderId:\n",
    "                prevnode = current.myPrev\n",
    "                nextnode = current.myNext\n",
    "                if prevnode != None:\n",
    "                    prevnode.myNext = nextnode\n",
    "                if nextnode != None:\n",
    "                    nextnode.myPrev = prevnode\n",
    "                if current == self.end :\n",
    "                    self.end = prevnode\n",
    "                    \n",
    "                if current == self.start :\n",
    "                    self.start = nextnode\n",
    "            current = current.myNext\n",
    "            \n",
    "    def getOrder(self, orderId) :\n",
    "        cnt = 0\n",
    "        \n",
    "        if self.start == None and self.end == None:\n",
    "            return -1\n",
    "        current = self.start\n",
    "        \n",
    "        while current != None:\n",
    "            if current.data == orderId:\n",
    "                return cnt + 1\n",
    "                \n",
    "            current = current.myNext\n",
    "            cnt += 1\n",
    "            \n",
    "        return -1"
   ]
  },
  {
   "cell_type": "code",
   "execution_count": null,
   "id": "45ec5244",
   "metadata": {},
   "outputs": [],
   "source": [
    "from orderManager import orderManager\n",
    "\n",
    "def main():\n",
    "    '''\n",
    "    이 부분은 수정하지 마세요.\n",
    "    '''\n",
    "    \n",
    "    line = [int(v) for v in input().split()]\n",
    "    m = line[0]\n",
    "    \n",
    "    manager = orderManager()\n",
    "\n",
    "    for i in range(m) :\n",
    "        line = [int(v) for v in input().split()]\n",
    "\n",
    "        if line[0] == 1 :\n",
    "            manager.addOrder(line[1])\n",
    "\n",
    "        elif line[0] == 2 :\n",
    "            manager.removeOrder(line[1])\n",
    "\n",
    "        elif line[0] == 3 :\n",
    "            myOrder = manager.getOrder(line[1])\n",
    "\n",
    "            if myOrder == -1 :\n",
    "                print(\"-1\")\n",
    "            else :\n",
    "                print(str(manager.getOrder(line[1])))\n",
    "\n",
    "if __name__ == \"__main__\":\n",
    "    main()\n",
    "\n"
   ]
  },
  {
   "cell_type": "markdown",
   "id": "078698ff",
   "metadata": {},
   "source": [
    "주문 관리 시스템 (연결 리스트)\n",
    "(요구사항은 앞 문제와 같습니다. 그러나 연결 리스트를 이용해 구현해주세요.)\n",
    "\n",
    "이번 실습 문제에서는 주문 관리 시스템을 구현합니다. 이 주문 관리 시스템은 총 3가지 기능을 지원해야 합니다. 이는 주문생성, 주문취소, 주문조회입니다. 각각의 자세한 설명은 다음과 같습니다.\n",
    "\n",
    "주문생성: 고객이 쇼핑몰에서 주문을 하게 되면 이 주문은 고유의 주문번호를 갖게 되고,\n",
    "이 주문번호가 주문 관리 시스템에 등록됩니다. 물론 고객은 여러 명이기 때문에 주문관리시스템\n",
    "내에 등록된 주문 번호가 여러 개 있을 수 있으며, 먼저 주문을 한 주문번호가 먼저 처리되는\n",
    "구조입니다.\n",
    "주문취소: 고객의 요청에 따라 주문은 취소가 될 수도 있습니다. 주문이 취소될 경우에는 그 주문은 주문 관리 시스템으로부터 삭제됩니다.\n",
    "주문조회: 주문이 몇 번째로 처리가 될지를 알려줍니다.\n",
    "이번 실습문제에서는 orderManager class내의 함수 addOrder, removerOrder, getOrder를 통해 위 기능을 구현합니다.\n",
    "\n",
    "addOrder(x) : 주문번호 x를 주문 관리 시스템에 추가합니다. return 값은 없습니다.\n",
    "removeOrder(x) : 주문번호 x를 주문 관리 시스템에서 제거합니다. 입력되는 x 값은 항상 주문 관리 시스템에 존재함이 보장됩니다. return 값은 없습니다.\n",
    "getOrder(x) : 입력한 주문번호 x가 주문 관리 시스템에서 몇 번째로 처리되는지를 return 합니다. 만약 입력한 주문번호 x가 주문 관리 시스템 내에 존재하지 않는 경우 -1을 return 합니다.\n",
    "예를 들어, addOrder(1), addOrder(2), addOrder(4)를 차례로 실행하면 주문 관리 시스템에 1 - 2 - 4로 입력된 순서대로 저장됩니다. 이 상태에서 removeOrder(2)를 실행하면 주문 관리 시스템에서 주문번호 2를 찾아낸 다음 제거하여 1 - 4 로 주문 관리 시스템이 업데이트됩니다.\n",
    "\n",
    "이 상황에서 getOrder(1)를 실행한 결과는 주문번호 1이 처리될 순서인 1이 반환되며, getOrder(4)를 실행한 결과는 주문번호 4가 처리될 순서인 2가 반환될 것입니다.\n",
    "\n",
    "요구사항\n",
    "연결 리스트를 이용하여 구현해주시기 바랍니다.\n",
    "\n",
    "\n",
    "지시사항\n",
    "이번 문제는 테스트 케이스가 총 20개입니다. 테스트 케이스 1번부터 10번까지는 작성하신 주문관리 시스템이 제대로 동작하는지를 체크하며, 11번부터 20번까지는 작성하신 주문관리 시스템의 성능을 잽니다.\n",
    "\n",
    "11번부터 15번까지는 주문 조회를 매우 많이 할 경우, 16번부터 20번까지는 주문 조회를 거의 하지 않을 경우입니다. 이 두 경우에 대하여 리스트를 활용한 구현과 링크드 리스트를 활용한 구현의 성능 차이를 보도록 합니다.\n",
    "\n",
    "입력\n",
    "첫째 줄에 주문관리 시스템이 처리할 명령의 개수를 의미하는 정수 n이 입력됩니다.\n",
    "\n",
    "둘째 줄부터 n개의 줄에 걸쳐서 명령의 정보가 주어집니다.\n",
    "\n",
    "명령은 공백으로 구분된 2개의 정수로 입력되며, 3가지 종류가 있습니다.\n",
    "\n",
    "1 x의 경우 주문번호 x를 추가\n",
    "2 x의 경우 주문번호 x를 제거\n",
    "3 x의 경우 주문번호 x를 조회\n",
    "입력 예시 1\n",
    "10\n",
    "1 1\n",
    "1 2\n",
    "1 4\n",
    "2 2\n",
    "3 1\n",
    "3 4\n",
    "1 2\n",
    "2 1\n",
    "1 1\n",
    "3 2\n",
    "Copy\n",
    "출력 예시 1\n",
    "1\n",
    "2\n",
    "2\n",
    "Copy\n",
    "입력 예시 2\n",
    "10\n",
    "1 4\n",
    "1 8\n",
    "3 8\n",
    "1 2\n",
    "1 1\n",
    "2 4\n",
    "3 8\n",
    "1 59\n",
    "1 5959\n",
    "3 59\n",
    "Copy\n",
    "출력 예시 2\n",
    "2\n",
    "1\n",
    "4\n",
    "Copy\n",
    "입력 예시 3\n",
    "11\n",
    "1 2\n",
    "2 2\n",
    "1 1818\n",
    "1 8282\n",
    "1 2255\n",
    "1 6515\n",
    "2 1818\n",
    "1 486\n",
    "3 486\n",
    "3 3\n",
    "1 4860\n",
    "Copy\n",
    "출력 예시 3\n",
    "4\n",
    "-1"
   ]
  },
  {
   "cell_type": "code",
   "execution_count": 17,
   "id": "7b528ab7",
   "metadata": {},
   "outputs": [],
   "source": [
    "'''\n",
    "1. LinkedListElement 클래스를 완성하세요.\n",
    "2. orderManager 클래스를 완성하세요.\n",
    "'''\n",
    "\n",
    "class LinkedListElement :\n",
    "    def __init__(self, data, myPrev, myNext) :\n",
    "        self.data = data\n",
    "        self.myPrev = myPrev\n",
    "        self.myNext = myNext\n",
    "\n",
    "class orderManager :\n",
    "    def __init__(self) :\n",
    "        self.start = None\n",
    "        self.end = None\n",
    "        self.elems = {} # 주문번호들을 저장하는 딕셔너리\n",
    "\n",
    "    def addOrder(self, orderId) :\n",
    "        elem = LinkedListElement(orderId, None, None)\n",
    "        self.elems[orderId] = elem\n",
    "        \n",
    "        if self.start == None and self.end == None:\n",
    "            self.start = elem\n",
    "            self.end = elem\n",
    "        else:\n",
    "            self.end.myNext = elem\n",
    "            elem.myPrev = self.end\n",
    "            self.end = elem\n",
    "            \n",
    "    def removeOrder(self, orderId) :\n",
    "        if self.start == None and self.end == None:\n",
    "            return\n",
    "        \n",
    "        cur = self.elems[orderId]\n",
    "        \n",
    "        if self.start == cur and self.end == cur :\n",
    "            self.start = None\n",
    "            self.end = None\n",
    "        elif self.start == cur:\n",
    "            self.start = cur.myNext\n",
    "            cur.myNext.myPrev  = None\n",
    "        elif self.end == cur:\n",
    "            self.end = cur.myPrev # 빠트린 부분 \n",
    "            cur.myPrev.myNext = None\n",
    "        else:\n",
    "            cur.myPrev.myNext = cur.myNext\n",
    "            cur.myNext.myPrev = cur.myPrev\n",
    "        \n",
    "    def getOrder(self, orderId) :\n",
    "        cnt = 1\n",
    "        cur = self.start\n",
    "        \n",
    "        while cur != None :\n",
    "            if cur.data == orderId:\n",
    "                return cnt \n",
    "            cur = cur.myNext\n",
    "            cnt += 1\n",
    "        return -1 \n"
   ]
  },
  {
   "cell_type": "code",
   "execution_count": 19,
   "id": "60606459",
   "metadata": {},
   "outputs": [
    {
     "name": "stdout",
     "output_type": "stream",
     "text": [
      "10 1 4 1 8 3 8 1 2 1 1 2 4 3 8 1 59 1 5959 3 59\n",
      "10 1 4 1 8 3 8 1 2 1 1 2 4 3 8 1 59 1 5959 3 59.\n"
     ]
    },
    {
     "ename": "ValueError",
     "evalue": "invalid literal for int() with base 10: '59.'",
     "output_type": "error",
     "traceback": [
      "\u001b[1;31m---------------------------------------------------------------------------\u001b[0m",
      "\u001b[1;31mValueError\u001b[0m                                Traceback (most recent call last)",
      "\u001b[1;32m<ipython-input-19-662354bcfc5e>\u001b[0m in \u001b[0;36m<module>\u001b[1;34m\u001b[0m\n\u001b[0;32m     29\u001b[0m \u001b[1;33m\u001b[0m\u001b[0m\n\u001b[0;32m     30\u001b[0m \u001b[1;32mif\u001b[0m \u001b[0m__name__\u001b[0m \u001b[1;33m==\u001b[0m \u001b[1;34m\"__main__\"\u001b[0m\u001b[1;33m:\u001b[0m\u001b[1;33m\u001b[0m\u001b[1;33m\u001b[0m\u001b[0m\n\u001b[1;32m---> 31\u001b[1;33m     \u001b[0mmain\u001b[0m\u001b[1;33m(\u001b[0m\u001b[1;33m)\u001b[0m\u001b[1;33m\u001b[0m\u001b[1;33m\u001b[0m\u001b[0m\n\u001b[0m\u001b[0;32m     32\u001b[0m \u001b[1;33m\u001b[0m\u001b[0m\n",
      "\u001b[1;32m<ipython-input-19-662354bcfc5e>\u001b[0m in \u001b[0;36mmain\u001b[1;34m()\u001b[0m\n\u001b[0;32m     12\u001b[0m \u001b[1;33m\u001b[0m\u001b[0m\n\u001b[0;32m     13\u001b[0m     \u001b[1;32mfor\u001b[0m \u001b[0mi\u001b[0m \u001b[1;32min\u001b[0m \u001b[0mrange\u001b[0m\u001b[1;33m(\u001b[0m\u001b[0mm\u001b[0m\u001b[1;33m)\u001b[0m \u001b[1;33m:\u001b[0m\u001b[1;33m\u001b[0m\u001b[1;33m\u001b[0m\u001b[0m\n\u001b[1;32m---> 14\u001b[1;33m         \u001b[0mline\u001b[0m \u001b[1;33m=\u001b[0m \u001b[1;33m[\u001b[0m\u001b[0mint\u001b[0m\u001b[1;33m(\u001b[0m\u001b[0mv\u001b[0m\u001b[1;33m)\u001b[0m \u001b[1;32mfor\u001b[0m \u001b[0mv\u001b[0m \u001b[1;32min\u001b[0m \u001b[0minput\u001b[0m\u001b[1;33m(\u001b[0m\u001b[1;33m)\u001b[0m\u001b[1;33m.\u001b[0m\u001b[0msplit\u001b[0m\u001b[1;33m(\u001b[0m\u001b[1;33m)\u001b[0m\u001b[1;33m]\u001b[0m\u001b[1;33m\u001b[0m\u001b[1;33m\u001b[0m\u001b[0m\n\u001b[0m\u001b[0;32m     15\u001b[0m \u001b[1;33m\u001b[0m\u001b[0m\n\u001b[0;32m     16\u001b[0m         \u001b[1;32mif\u001b[0m \u001b[0mline\u001b[0m\u001b[1;33m[\u001b[0m\u001b[1;36m0\u001b[0m\u001b[1;33m]\u001b[0m \u001b[1;33m==\u001b[0m \u001b[1;36m1\u001b[0m \u001b[1;33m:\u001b[0m\u001b[1;33m\u001b[0m\u001b[1;33m\u001b[0m\u001b[0m\n",
      "\u001b[1;32m<ipython-input-19-662354bcfc5e>\u001b[0m in \u001b[0;36m<listcomp>\u001b[1;34m(.0)\u001b[0m\n\u001b[0;32m     12\u001b[0m \u001b[1;33m\u001b[0m\u001b[0m\n\u001b[0;32m     13\u001b[0m     \u001b[1;32mfor\u001b[0m \u001b[0mi\u001b[0m \u001b[1;32min\u001b[0m \u001b[0mrange\u001b[0m\u001b[1;33m(\u001b[0m\u001b[0mm\u001b[0m\u001b[1;33m)\u001b[0m \u001b[1;33m:\u001b[0m\u001b[1;33m\u001b[0m\u001b[1;33m\u001b[0m\u001b[0m\n\u001b[1;32m---> 14\u001b[1;33m         \u001b[0mline\u001b[0m \u001b[1;33m=\u001b[0m \u001b[1;33m[\u001b[0m\u001b[0mint\u001b[0m\u001b[1;33m(\u001b[0m\u001b[0mv\u001b[0m\u001b[1;33m)\u001b[0m \u001b[1;32mfor\u001b[0m \u001b[0mv\u001b[0m \u001b[1;32min\u001b[0m \u001b[0minput\u001b[0m\u001b[1;33m(\u001b[0m\u001b[1;33m)\u001b[0m\u001b[1;33m.\u001b[0m\u001b[0msplit\u001b[0m\u001b[1;33m(\u001b[0m\u001b[1;33m)\u001b[0m\u001b[1;33m]\u001b[0m\u001b[1;33m\u001b[0m\u001b[1;33m\u001b[0m\u001b[0m\n\u001b[0m\u001b[0;32m     15\u001b[0m \u001b[1;33m\u001b[0m\u001b[0m\n\u001b[0;32m     16\u001b[0m         \u001b[1;32mif\u001b[0m \u001b[0mline\u001b[0m\u001b[1;33m[\u001b[0m\u001b[1;36m0\u001b[0m\u001b[1;33m]\u001b[0m \u001b[1;33m==\u001b[0m \u001b[1;36m1\u001b[0m \u001b[1;33m:\u001b[0m\u001b[1;33m\u001b[0m\u001b[1;33m\u001b[0m\u001b[0m\n",
      "\u001b[1;31mValueError\u001b[0m: invalid literal for int() with base 10: '59.'"
     ]
    }
   ],
   "source": [
    "#from orderManager import orderManager\n",
    "\n",
    "def main():\n",
    "    '''\n",
    "    이 부분은 수정하지 마세요.\n",
    "    '''\n",
    "    \n",
    "    line = [int(v) for v in input().split()]\n",
    "    m = line[0]\n",
    "    \n",
    "    manager = orderManager()\n",
    "\n",
    "    for i in range(m) :\n",
    "        line = [int(v) for v in input().split()]\n",
    "\n",
    "        if line[0] == 1 :\n",
    "            manager.addOrder(line[1])\n",
    "\n",
    "        elif line[0] == 2 :\n",
    "            manager.removeOrder(line[1])\n",
    "\n",
    "        elif line[0] == 3 :\n",
    "            myOrder = manager.getOrder(line[1])\n",
    "\n",
    "            if myOrder == -1 :\n",
    "                print(\"-1\")\n",
    "            else :\n",
    "                print(str(manager.getOrder(line[1])))\n",
    "\n",
    "if __name__ == \"__main__\":\n",
    "    main()\n",
    "\n"
   ]
  },
  {
   "cell_type": "markdown",
   "id": "c4b81c3b",
   "metadata": {},
   "source": [
    "07.마무리 및 부록"
   ]
  },
  {
   "cell_type": "markdown",
   "id": "7f11996d",
   "metadata": {},
   "source": [
    "마무리\n",
    "\n",
    "자료구조란?\n",
    "자료를 저장하는 구조\n",
    "\n",
    "자료구조를 공부하는 이유?\n",
    "자료를 잘 저장하기 위해서"
   ]
  },
  {
   "cell_type": "markdown",
   "id": "1bfcfdc2",
   "metadata": {},
   "source": [
    "마무리\n",
    "\n",
    "'자료를 잘 저장한다'는 말의 의미\n",
    "\n",
    "구현하고자 하는 프로그램의 의도에 맞는 자료구조를 사용하여\n",
    "효율적인 성능으로 구현한 경우"
   ]
  },
  {
   "cell_type": "markdown",
   "id": "f5a9c4d4",
   "metadata": {},
   "source": [
    "마무리\n",
    "\n",
    "추상적 자료형이란?\n",
    "\n",
    "자료를 담는 방법과, 자료에 대한 연산에 대한 정의가 담긴 것\n",
    "구현 방법은 정의되어 있지 않다."
   ]
  },
  {
   "cell_type": "markdown",
   "id": "e5906058",
   "metadata": {},
   "source": [
    "마무리\n",
    "\n",
    "추상적 자료형에서의 자료 저장 방법과, 연산 방법을 자세히 구현한 것\n",
    "                         ↓\n",
    "                      자료 구조"
   ]
  },
  {
   "cell_type": "markdown",
   "id": "8580c4c6",
   "metadata": {},
   "source": [
    "마무리\n",
    "\n",
    "리스트라는 추상적 자료형을 구현한 대표적인 두 가지 자료구조는?\n",
    "\n",
    "배열, 연결 리스트"
   ]
  },
  {
   "cell_type": "markdown",
   "id": "ffa63c67",
   "metadata": {},
   "source": [
    "마무리\n",
    "\n",
    "                    배열               연결 리스트\n",
    "장점         특정 위치의 자료 탐색      자료의 삽입과 삭제\n",
    "\n",
    "단점         자료의 삽입과 삭제        특정 위치의 자료 탐색"
   ]
  },
  {
   "cell_type": "markdown",
   "id": "fa8d769e",
   "metadata": {},
   "source": [
    "부록 - 해시 테이블\n",
    "\n",
    "각 데이터(value)를 고유한 key에 대응하도록 저장하는 개념\n",
    "\n",
    "key : 10101 ----------------------> key-value store\n",
    "\n",
    "겹치지 않는 key에 대해서 데이터를 value로 묶어 주고 있음"
   ]
  },
  {
   "cell_type": "markdown",
   "id": "072f9589",
   "metadata": {},
   "source": [
    "부록 - 해시 테이블\n",
    "\n",
    "key가 정수이고, value 역시 정수인\n",
    "Key-Value Store를 구현해보자.\n",
    "\n",
    "Key-Value 쌍을 입력하는 연산은 put,\n",
    "특정 Key의 Value를 조회하는 연산은 get이라고 정의한다."
   ]
  },
  {
   "cell_type": "markdown",
   "id": "1c98cfda",
   "metadata": {},
   "source": [
    "배열의 index를 key로 이용하기\n",
    "\n",
    "배열에 value를 저장하고,\n",
    "배열의 인덱스를 key로 이용하는 방식으로 구현해보자."
   ]
  },
  {
   "cell_type": "markdown",
   "id": "a506ef7a",
   "metadata": {},
   "source": [
    "배열의 index를 key로 이용하기\n",
    "\n",
    "db.put(2, 7)\n",
    "\n",
    "db = kvStore()\n",
    "        0 1 2 3 4 5 6\n",
    "myValue 3   7   6\n",
    "\n",
    "db.get(4)\n",
    "\n",
    "        0 1 2 3 4 5 6\n",
    "myValue 3   7   6\n"
   ]
  },
  {
   "cell_type": "markdown",
   "id": "310fb7f5",
   "metadata": {},
   "source": [
    "배열의 index를 key로 이용하기\n",
    "\n",
    "문제점 : 배열의 크기를 벗어난 인덱스에 추가해야 하는 경우는?\n",
    "\n",
    "db.put(100, 2)\n",
    "\n",
    "db = kvStore()\n",
    "        0 1 2 3 4 5 6 ~~~~~~~ 100\n",
    "myValue 3   7   6              2 \n",
    "\n",
    "#엄청난 비효율 야기"
   ]
  },
  {
   "cell_type": "markdown",
   "id": "fcade03f",
   "metadata": {},
   "source": [
    "배열의 index를 key로 이용하기\n",
    "\n",
    "문제점 : value가 없는 인덱스에 get을 하는 경우는?\n",
    "\n",
    "db.get(3)\n",
    "\n",
    "db = kvStore()\n",
    "        0 1 2 3 4 5 6 \n",
    "myValue 3   7   6      \n",
    "\n",
    "???\n"
   ]
  },
  {
   "cell_type": "markdown",
   "id": "043d2fdb",
   "metadata": {},
   "source": [
    "배열의 index를 key로 이용하기\n",
    "\n",
    "장점 : (운 좋으면) 자료의 쓰기 연산이 빠르다.\n",
    "      자료의 읽기 연산이 빠르다.\n",
    "      \n",
    "단점 : \"자료가 없다\"를 표현하는 것이 쉽지 않다.\n",
    "       공간을 지나치게 낭비될 수 있다."
   ]
  },
  {
   "cell_type": "markdown",
   "id": "b4d04bc0",
   "metadata": {},
   "source": [
    "key와 value를 각각 배열에 저장하기\n",
    "\n",
    "key를 저장하는 배열과 value를 저장하는 배열,\n",
    "두개의 배열을 사용하여 저장해보자."
   ]
  },
  {
   "cell_type": "markdown",
   "id": "af75730b",
   "metadata": {},
   "source": [
    "key와 value를 각각 배열에 저장하기\n",
    "\n",
    "db.put(4, 8)\n",
    "\n",
    "db = kvStore()\n",
    "\n",
    "      0 1    2\n",
    "myKey 2 3    4 \n",
    "\n",
    "        0 1    2\n",
    "myValue 1 7    8"
   ]
  },
  {
   "cell_type": "markdown",
   "id": "3ac45d14",
   "metadata": {},
   "source": [
    "key와 value를 각각 배열에 저장하기\n",
    "\n",
    "db.put(100, 2)\n",
    "\n",
    "db = kvStore()\n",
    "\n",
    "\n",
    "      0 1 2 3\n",
    "myKey 2 3 4 100\n",
    "\n",
    "        0 1 2 3\n",
    "myValue 1 7 8 2"
   ]
  },
  {
   "cell_type": "markdown",
   "id": "305c9320",
   "metadata": {},
   "source": [
    "key와 value를 각각 배열에 저장하기\n",
    "\n",
    "\n",
    "db.get(4)\n",
    "\n",
    "\n",
    "db = kvStore()\n",
    "\n",
    "      0 1 2 3\n",
    "myKey 2 3 4 100\n",
    "\n",
    "        0 1 2 3\n",
    "myValue 1 7 8 2\n"
   ]
  },
  {
   "cell_type": "markdown",
   "id": "86d020a7",
   "metadata": {},
   "source": [
    "key와 value를 각각 배열에 저장하기\n",
    "\n",
    "장점 : 공간의 낭비가 없다.\n",
    "      자료가 없는 경우를 표현할 수 있다.\n",
    "      \n",
    "단점 : 읽기(조회) 연산이 느리다.\n",
    "      자료의 쓰기(입력 등) 연산도 느리다."
   ]
  },
  {
   "cell_type": "markdown",
   "id": "2de32875",
   "metadata": {},
   "source": [
    "해시(hash)\n",
    "\n",
    "해시란 임의의 데이터에 해시 함수를 이용하여\n",
    "고정된 길이의 데이터(문자열 등)으로 변환하는 것을 의미한다.\n",
    "\n",
    "변환하는 과정 자체를 해싱(hashing),\n",
    "변환된 값을 해시 값(hash value)라고도 부른다."
   ]
  },
  {
   "cell_type": "markdown",
   "id": "633c981e",
   "metadata": {},
   "source": [
    "해싱 예시 (SHA-256 알고리즘)\n",
    "\n",
    "해시 알고리즘으로 알려진 대표적인 예시는 SHA-256이 있다.\n",
    "\n",
    "원본 a\n",
    " ↓\n",
    "해시 값 CA978112CA1BBDCAFAC231B39A23DC4DA786EFF8147C4E72B9807785AFEE48BB"
   ]
  },
  {
   "cell_type": "markdown",
   "id": "ecdd1780",
   "metadata": {},
   "source": [
    "해싱 예시(Python 내장 함수)"
   ]
  },
  {
   "cell_type": "code",
   "execution_count": 21,
   "id": "9bfa7386",
   "metadata": {},
   "outputs": [
    {
     "name": "stdout",
     "output_type": "stream",
     "text": [
      "-478350484224635469\n",
      "-478350484224635469\n",
      "-478350484224635469\n",
      "-478350484224635469\n",
      "-478350484224635469\n",
      "-478350484224635469\n",
      "-478350484224635469\n",
      "-478350484224635469\n",
      "-478350484224635469\n",
      "-478350484224635469\n"
     ]
    }
   ],
   "source": [
    "for i in range(10):\n",
    "    print(hash(\"a\"))"
   ]
  },
  {
   "cell_type": "markdown",
   "id": "82b2b3f2",
   "metadata": {},
   "source": [
    "해싱 예시(Python 내장 함수)\n",
    "\n",
    "for i in range(10):\n",
    "    print(hash(\"a\"))\n",
    "    \n",
    "파이썬 내장 함수 hash()를 이용하여 \n",
    "임의의 값의 해시 값(정수)을 알 수 있다.\n",
    "\n",
    "파이썬의 hash() 함수는 보안을 이유로 \n",
    "프로그램을 실행할 때마다 반환값이 달라진다."
   ]
  },
  {
   "cell_type": "markdown",
   "id": "65a1035a",
   "metadata": {},
   "source": [
    "해시(hash)\n",
    "\n",
    "해시를 이용하여 Key-Value-Store를 구현할 수 있다.\n",
    "\n",
    "해시를 이용하여 구현된 Key-Value Store를 \n",
    "해시 테이블(Hash Table),\n",
    "또는 딕셔너리(Dictionary)라고 한다."
   ]
  },
  {
   "cell_type": "markdown",
   "id": "176073a3",
   "metadata": {},
   "source": [
    "해시(hash)\n",
    "\n",
    "Key, Value           해시함수           Key-Value Store\n",
    "\n",
    "(Elice, 98) 1                                 0\n",
    "(Cheshire, 70) 0                              1 # 충돌 발생!\n",
    "(Dodo, 85)      1                             2\n",
    "(Heart Queen, 90)  3                          3\n",
    "                                              4  "
   ]
  },
  {
   "cell_type": "markdown",
   "id": "7b8cef9b",
   "metadata": {},
   "source": [
    "해시 함수의 충돌 : 비둘기집의 원리\n",
    "\n",
    "좋은 해시 함수는 중복되는 해시 값이 최대한 없도록 하여\n",
    "되도록 충돌이 발생하지 않는 함수이다.\n",
    "\n",
    "그러나 해시 함수의 반환값의 경우의 수는 유한하고,\n",
    "입력값의 경우의 수는 무한하기 때문에\n",
    "비둘기집의 원리에 의해 충돌은 어쩔 수 없이 발생한다."
   ]
  },
  {
   "cell_type": "markdown",
   "id": "746d1f7a",
   "metadata": {},
   "source": [
    "해시 함수의 충돌 : 비둘기집의 원리\n",
    "\n",
    "n개의 비둘기집에 (n+1)마리의 비둘기를\n",
    "한 집에 한 마리씩 넣는 것은 불가능하다는 원리를 말한다.\n",
    "\n",
    "비둘기가 최대 1마리씩 들어있는 비둘기집이 n개 있다면\n",
    "전체 비둘기집에는 비둘기가 많아야 n마리 존재한다.\n",
    "따라서 (n+1)마리의 비둘기를 n개의 비둘기집에 한 마리씩 넣는 것은 \n",
    "불가능하다."
   ]
  },
  {
   "cell_type": "markdown",
   "id": "3da8a175",
   "metadata": {},
   "source": [
    "해시 함수의 충돌 : 비둘기집의 원리\n",
    "\n",
    "\n",
    "연락처에 있는 사람 366명의 생일을 올해 달력에 적으려 한다.\n",
    "만약 올해가 윤년이 아니고 2월 29일이 생일인 사람이 없다면\n",
    "한 날짜에 두 사람의 이름을 적어야 하는 경우가 반드시 생긴다."
   ]
  },
  {
   "cell_type": "markdown",
   "id": "c51c5bd9",
   "metadata": {},
   "source": [
    "해시 - 충돌 해결 방법 : 개별 체이닝\n",
    "\n",
    "Key, Value           해시함수           Key-Value Store\n",
    "\n",
    "(Elice, 98) 1                                 0\n",
    "(Cheshire, 70) 0                              1 (Elice, 98) ->(Dodo, 85)\n",
    "(Dodo, 85)      1                             2\n",
    "(Heart Queen, 90)  3                          3\n",
    "                                              4  "
   ]
  },
  {
   "cell_type": "markdown",
   "id": "7b831d81",
   "metadata": {},
   "source": [
    "해시 - 충돌 해결 방법 : 개별 체이닝\n",
    "\n",
    "Key-Value Store의 각 인덱스를 '연결 리스트'로 만들어서\n",
    "동일한 인덱스의 값들을 연결하는 방법이다.\n",
    "\n",
    "위 예에서는 동일한 인덱스(1)를 갖는 Elice와 Dodo 자료를 서로 연결하였다."
   ]
  },
  {
   "cell_type": "markdown",
   "id": "f3c6b2bd",
   "metadata": {},
   "source": [
    "해시 - 충돌 해결 방법 : 오픈 어드레싱\n",
    "\n",
    "Key, Value           해시함수           Key-Value Store\n",
    "\n",
    "(Elice, 98) 1                                 0 (Cheshire, 70)\n",
    "(Cheshire, 70) 0                              1 (Elice, 98) \n",
    "(Dodo, 85)      1 ->2                         2 (Dodo, 85)\n",
    "(Heart Queen, 90)  3                          3 (Heart Queen, 90)\n",
    "                                              4  \n",
    "\n",
    "충돌이 발생했을 때 자료를 저장하기 위해 빈 공간을 탐색하는 방식이다.\n",
    "따라서 모든 원소가 자신의 해시 값과 일치하는 인덱스에 저장된다는 보장은 없다.\n",
    "\n",
    "위 예시에서는 Dodo 자료를 저장하기 위해 가장 가까운 빈 공간을 탐색하였고,\n",
    "그 결과 인덱스 2에 저장하였다.\n",
    "\n",
    "오픈 어드레싱에서 빈 공간을 찾는 방법은 여러 가지가 있지만\n",
    "가장 간단하고 대표적인 방법은 '선형 탐사 방식'이다.\n",
    "\n",
    "앞서 살펴 본 것 처럼, 원래 인덱스의 다음 인덱스부터 탐색하여\n",
    "가장 가까운 빈 공간을 찾는 방법이다.\n",
    "\n",
    "Python에서는 딕셔너리의 해시 값 충돌이 발생하였을 때,\n",
    "오픈 어드레싱 방식으로 해결하도록 구현되어 있다."
   ]
  }
 ],
 "metadata": {
  "kernelspec": {
   "display_name": "Python 3",
   "language": "python",
   "name": "python3"
  },
  "language_info": {
   "codemirror_mode": {
    "name": "ipython",
    "version": 3
   },
   "file_extension": ".py",
   "mimetype": "text/x-python",
   "name": "python",
   "nbconvert_exporter": "python",
   "pygments_lexer": "ipython3",
   "version": "3.8.8"
  }
 },
 "nbformat": 4,
 "nbformat_minor": 5
}
