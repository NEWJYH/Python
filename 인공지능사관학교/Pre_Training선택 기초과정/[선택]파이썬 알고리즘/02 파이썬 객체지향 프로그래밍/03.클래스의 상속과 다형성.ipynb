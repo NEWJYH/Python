{
 "cells": [
  {
   "cell_type": "markdown",
   "id": "2230d41d",
   "metadata": {},
   "source": [
    "클래스의 상속"
   ]
  },
  {
   "cell_type": "markdown",
   "id": "c1a9c804",
   "metadata": {},
   "source": [
    "클래스 더 알아보기\n",
    "\n",
    "여러 클래스의 관계를 정의하는 상속 개념에 대해 배웁니다.\n",
    "데이터의 관계를 정의하며 프로그램의 큰 그림을 그려 봅니다."
   ]
  },
  {
   "cell_type": "markdown",
   "id": "eda7dfda",
   "metadata": {},
   "source": [
    "클래스의 상속"
   ]
  },
  {
   "cell_type": "markdown",
   "id": "42003834",
   "metadata": {},
   "source": [
    "왜 상속이 필요한가요?\n",
    "\n",
    "여러 클래스가 비슷한 속성과 메소드를 공유해야 할 때"
   ]
  },
  {
   "cell_type": "markdown",
   "id": "6d67c9c1",
   "metadata": {},
   "source": [
    "왜 상속이 필요한가요?\n",
    "\n",
    "서로 다른 클래스 간의 계층 구조가 확실할 때"
   ]
  },
  {
   "cell_type": "markdown",
   "id": "b84966ad",
   "metadata": {},
   "source": [
    "예 시\n",
    "페이스북 게시물\n",
    "         \n",
    "게시물 \n",
    "    - 글만 있는 게시물\n",
    "    - 사진을 포함한 게시물\n",
    "    - 동영상을 포함한 게시물\n",
    "    - 링크를 포함한 게시물"
   ]
  },
  {
   "cell_type": "code",
   "execution_count": null,
   "id": "78b1d43d",
   "metadata": {},
   "outputs": [],
   "source": [
    "class Post:\n",
    "    # 생성자\n",
    "    def __init__(self, content):\n",
    "        self.content = content"
   ]
  },
  {
   "cell_type": "markdown",
   "id": "baf4cf4b",
   "metadata": {},
   "source": [
    "이미지가 있는 게시물"
   ]
  },
  {
   "cell_type": "code",
   "execution_count": null,
   "id": "25656e96",
   "metadata": {},
   "outputs": [],
   "source": [
    "class ImagePost:\n",
    "    def __init__(self, content, images):\n",
    "        self.content = content\n",
    "        self.images = images\n",
    "# 속성 다 하나씩 만들 경우\n",
    "# 1. 코딩 시간\n",
    "# 2. 실수 확률 "
   ]
  },
  {
   "cell_type": "code",
   "execution_count": null,
   "id": "2b225d9e",
   "metadata": {},
   "outputs": [],
   "source": [
    "class ImagePost:\n",
    "    def __init__(self, content, images):\n",
    "        self.content = content\n",
    "        self.images = images\n",
    "    \n",
    "    # 메소드 : 이미지의 개수\n",
    "    def num_images(self):\n",
    "        return len(self.images)"
   ]
  },
  {
   "cell_type": "markdown",
   "id": "ba92f154",
   "metadata": {},
   "source": [
    "클래스의 상속\n",
    "\n",
    "부모 : 부모의 속성, 메소드\n",
    "\n",
    "↓\n",
    "\n",
    "자식 : 부모 + 자식의 속성, 메소드 \n",
    "\n",
    "#파이썬에서만! \n",
    "#자바같은 경우 부모에게도 결정권이 있음 private"
   ]
  },
  {
   "cell_type": "markdown",
   "id": "74a2f181",
   "metadata": {},
   "source": [
    "청출어람의 법칙\n",
    "\n",
    "부모 클래스보다 자식 클래스가\n",
    "더 많은 데이터와 기능을 갖고 있다!"
   ]
  },
  {
   "cell_type": "markdown",
   "id": "5ac54b29",
   "metadata": {},
   "source": [
    "상속 따라하기 1"
   ]
  },
  {
   "cell_type": "markdown",
   "id": "a7ae7746",
   "metadata": {},
   "source": [
    "클래스 선언"
   ]
  },
  {
   "cell_type": "code",
   "execution_count": null,
   "id": "697ad8e3",
   "metadata": {},
   "outputs": [],
   "source": [
    "#              Post<- 부모 클래스 \n",
    "class ImagePost(Post):\n",
    "    pass"
   ]
  },
  {
   "cell_type": "markdown",
   "id": "9a87a043",
   "metadata": {},
   "source": [
    "생성자"
   ]
  },
  {
   "cell_type": "code",
   "execution_count": null,
   "id": "25366012",
   "metadata": {},
   "outputs": [],
   "source": [
    "class ImagePost(Post):\n",
    "    def __init__(self, content, images):\n",
    "        # super() 부모클래스에 접근할 때\n",
    "        super().__init__(content)\n",
    "        self.images = images"
   ]
  },
  {
   "cell_type": "markdown",
   "id": "3f1080f5",
   "metadata": {},
   "source": [
    "super\n",
    "\n",
    "class ImagePost(Post):\n",
    "    def __init__(self, content, images):\n",
    "        super().__init__(content) # 리턴값이 부모의 인스턴스\n",
    "        self.images = images\n",
    "\n",
    "부모 클래스에 접근할 때"
   ]
  },
  {
   "cell_type": "markdown",
   "id": "00d3bc22",
   "metadata": {},
   "source": [
    "부모 인스턴스 동시 생성"
   ]
  },
  {
   "cell_type": "code",
   "execution_count": 14,
   "id": "2c16751b",
   "metadata": {},
   "outputs": [],
   "source": [
    "class ImagePost(Post):\n",
    "    def __init__(self, content, images):\n",
    "        super().__init__(content)\n",
    "        self.images = images\n",
    "# 자식을 생성하면 연결되는 부모 인스턴스도 생성됨"
   ]
  },
  {
   "cell_type": "markdown",
   "id": "c6208160",
   "metadata": {},
   "source": [
    "속성 상속"
   ]
  },
  {
   "cell_type": "code",
   "execution_count": 13,
   "id": "2c5ede43",
   "metadata": {},
   "outputs": [],
   "source": [
    "class Post:\n",
    "    def __init__(self, content):\n",
    "        # 2개의 속성\n",
    "        self.content = content\n",
    "        self.likers = []   \n",
    "    def like(self, other):\n",
    "        self.likers.append(other)"
   ]
  },
  {
   "cell_type": "code",
   "execution_count": 8,
   "id": "f080f925",
   "metadata": {},
   "outputs": [
    {
     "name": "stdout",
     "output_type": "stream",
     "text": [
      "[]\n"
     ]
    }
   ],
   "source": [
    "my_post = ImagePost(content = \"#강남맛집\",images = \"shut\")\n",
    "print(my_post.likers) # []"
   ]
  },
  {
   "cell_type": "markdown",
   "id": "0dc5f7f3",
   "metadata": {},
   "source": [
    "메소드 상속"
   ]
  },
  {
   "cell_type": "code",
   "execution_count": 15,
   "id": "01e1d12a",
   "metadata": {},
   "outputs": [],
   "source": [
    "my_post = ImagePost(content = \"#강남맛집\",images = \"shut\")\n",
    "my_post.like(\"bob\")"
   ]
  },
  {
   "cell_type": "markdown",
   "id": "3b23871e",
   "metadata": {},
   "source": [
    "링크가 있는 게시물\n",
    "이번 주 실습에서도 지난 주와 같이 Facebook의 개념들을 클래스로 구현해 봅니다.\n",
    "\n",
    "실습 1에서는 Facebook에서 외부의 사이트로 이동하는 링크가 포함된 게시물(LinkPost)을 구현해 보겠습니다.\n",
    "\n",
    "LinkPost는 다음과 같은 조건들을 만족해야 합니다.\n",
    "\n",
    "Post를 상속받습니다.\n",
    "웹사이트 주소 형식의 문자열 속성 url을 갖습니다.\n",
    "링크를 클릭했을 때의 액션을 정의한 on_click() 메소드를 갖습니다.\n",
    "LinkPost의 생성자는 author, content, url 총 3개의 매개변수를 순서대로 받습니다. 이 실습에서는 author와 post의 형태는 체크하지 않습니다.\n",
    "\n",
    "올바른 웹사이트 주소 형식은 \"http://\" 혹은 \"https://\"로 시작해야 합니다. 이를 확인하기 위해 Python 문자열의 메소드인 .startswith()를 사용합니다. 만일 주소 형식이 올바르지 않을 경우 ValueError를 발생시킵니다.\n",
    "\n",
    "on_click() 메소드에서는 미리 정의된 go_to(link) 함수를 호출합니다. go_to() 메소드는 이동할 웹사이트의 주소를 출력해 줍니다."
   ]
  },
  {
   "cell_type": "code",
   "execution_count": 16,
   "id": "27b8e927",
   "metadata": {},
   "outputs": [
    {
     "name": "stdout",
     "output_type": "stream",
     "text": [
      "https://aca.my.elice.io\n",
      "https://aca.my.elice.io로 이동합니다.\n"
     ]
    }
   ],
   "source": [
    "def go_to(link):\n",
    "    print(f\"{link}로 이동합니다.\")\n",
    "\n",
    "class Post:\n",
    "    def __init__(self, author, content):\n",
    "        self.author = author\n",
    "        self.content = content\n",
    "\n",
    "\n",
    "# 아래에 LinkPost를 선언합니다.\n",
    "\n",
    "class Post:\n",
    "    def __init__(self, author, content):\n",
    "        self.author = author\n",
    "        self.content = content\n",
    "\n",
    "\n",
    "# 아래에 LinkPost를 선언합니다.\n",
    "class LinkPost(Post):\n",
    "    # 생성자\n",
    "    def __init__(self, author, content, url):\n",
    "        super().__init__(author, content)\n",
    "        \n",
    "        valid_url = url.startswith(\"https://\") or url.startswith(\"http://\")\n",
    "        \n",
    "        if not valid_url:\n",
    "            raise ValueError(\"올바르지 않은 주소 형식입니다.\")\n",
    "        self.url = url\n",
    "\n",
    "    def on_click(self):\n",
    "        go_to(self.url)\n",
    "\n",
    "post = LinkPost(\"elice\", \"hello, world!\", url = \"https://aca.my.elice.io\")\n",
    "print(post.url)\n",
    "post.on_click()"
   ]
  },
  {
   "cell_type": "markdown",
   "id": "ff12fc96",
   "metadata": {},
   "source": [
    "상속 따라하기2"
   ]
  },
  {
   "cell_type": "markdown",
   "id": "6481c287",
   "metadata": {},
   "source": [
    "좋아요, 슬퍼요"
   ]
  },
  {
   "cell_type": "code",
   "execution_count": null,
   "id": "4e714ada",
   "metadata": {},
   "outputs": [],
   "source": [
    "class Like:\n",
    "    def __init__(self, post, user):\n",
    "        self.post = post\n",
    "        self.user = user\n",
    "        \n",
    "class Sad:\n",
    "    def __init__(self, post, user):\n",
    "        self.post = post\n",
    "        self.user = user\n",
    "        \n",
    "# 클래스 이름만 다르고 다른게 없어 보인다.\n",
    "# 체계적, 논리적 작성 필요 있음"
   ]
  },
  {
   "cell_type": "markdown",
   "id": "4c35dcd1",
   "metadata": {},
   "source": [
    "추상적인 부모 클래스"
   ]
  },
  {
   "cell_type": "code",
   "execution_count": null,
   "id": "9392e4b2",
   "metadata": {},
   "outputs": [],
   "source": [
    "class Reaction:\n",
    "    def __init__(self, Type, post, user):\n",
    "        self.Type = Type\n",
    "        self.post = post\n",
    "        self.user = user"
   ]
  },
  {
   "cell_type": "code",
   "execution_count": null,
   "id": "91961e53",
   "metadata": {},
   "outputs": [],
   "source": [
    "class Like:\n",
    "    def __init__(self, post, user):\n",
    "        self.post = post\n",
    "        self.user = user"
   ]
  },
  {
   "cell_type": "code",
   "execution_count": null,
   "id": "3d702d4d",
   "metadata": {},
   "outputs": [],
   "source": [
    "class Like(Reaction):\n",
    "    def __init__(self, post, user):\n",
    "        super().__init__(\"LIKE\",post, user)\n",
    "# 내가 받은 매개변수 -> 부모,인자 "
   ]
  },
  {
   "cell_type": "code",
   "execution_count": null,
   "id": "33eb130b",
   "metadata": {},
   "outputs": [],
   "source": [
    "class Sad(Reaction):\n",
    "    def __init__(self, post, user):\n",
    "        super().__init__(\"SAD\", post, user)"
   ]
  },
  {
   "cell_type": "markdown",
   "id": "4d75ab16",
   "metadata": {},
   "source": [
    "추상적인 부모 클래스"
   ]
  },
  {
   "cell_type": "code",
   "execution_count": null,
   "id": "9906a54e",
   "metadata": {},
   "outputs": [],
   "source": [
    "# 이렇게 쓰진 않는다 !!\n",
    "reaction = Reaction(\"vasdjkl\",post, me)\n",
    "\n",
    "# 반드시 구체적인 자식 클래스로 쓴다.\n",
    "like = Like(post, me)"
   ]
  },
  {
   "cell_type": "markdown",
   "id": "ee0a1366",
   "metadata": {},
   "source": [
    "오버라이딩\n",
    "\n",
    "override -ing"
   ]
  },
  {
   "cell_type": "markdown",
   "id": "9ef1de58",
   "metadata": {},
   "source": [
    "클래스 설계 상황\n",
    "\n",
    "모든 게시물에는 댓글을 달 수 있지만,\n",
    "보호 설정을 한 게시물에는 예외적으로 댓글을 달 수 없다."
   ]
  },
  {
   "cell_type": "markdown",
   "id": "7e6376b7",
   "metadata": {},
   "source": [
    "오버라이딩"
   ]
  },
  {
   "cell_type": "code",
   "execution_count": null,
   "id": "2a13717a",
   "metadata": {},
   "outputs": [],
   "source": [
    "class Post:\n",
    "    def comment(self, user, content):\n",
    "        self.comments.append(Comment(user, content))\n",
    "        \n",
    "class ProtectedPost(Post):\n",
    "    def comment(self, user, content):\n",
    "        print(\"Can't comment on protected posts\")"
   ]
  },
  {
   "cell_type": "markdown",
   "id": "fedc1065",
   "metadata": {},
   "source": [
    "게시물에 반응하기\n",
    "Facebook에서는 좋아요 말고도 슬퍼요, 웃겨요 등의 반응을 남길 수 있습니다. 이 반응들은 공통적인 특성들을 갖지만, 분명 서로 다른 독립적인 성질을 갖고 있습니다. 추상적인 클래스를 활용하면 이 성질을 잘 나타낼 수 있습니다.\n",
    "\n",
    "먼저, 모든 반응을 총칭하는 Reaction 클래스를 정의합니다. Reaction 클래스는 다음의 세 가지 속성을 갖습니다.\n",
    "\n",
    "reaction_type: Reaction의 종류를 나타냅니다. 알파벳 대문자로 이루어진 문자열이며, “LIKE”, “LOVE”, “HAHA”, “SAD”, “ANGRY”, “WOW” 중 하나입니다. 이 6개 이외의 값이 들어올 경우 ValueError가 발생합니다.\n",
    "post: Reaction을 남긴 게시물입니다. Post 인스턴스여야 합니다. 아닐 경우, TypeError가 발생합니다.\n",
    "user: Reaction을 남긴 사용자입니다. User 인스턴스여야 합니다. 아닐 경우, TypeError가 발생합니다.\n",
    "Reaction 클래스의 생성 시점에, 주어진 post의 reactions에 자기 자신을 추가합니다. reactions는 Reaction 인스턴스의 리스트입니다.\n",
    "\n",
    "Reaction의 자식 클래스 Like(좋아요)와 Angry(화나요)를 구현합니다.\n",
    "\n",
    "Like와 Angry는 Reaction의 속성을 똑같이 갖습니다. 단, Like의 reaction_type은 \"LIKE\"이고, Angry의 reaction_type은 \"ANGRY\"입니다. 따라서, 자식 클래스들의 생성자는 post와 user, 두 개의 인자만 받습니다.\n",
    "\n",
    "Like는 생성 시점에 이 리액션이 달린 Post의 positive_reactions의 값을 1만큼 증가시킵니다. Angry는 생성 시점에 이 리액션이 달린 Post의 negative_reactions의 값을 1만큼 증가시킵니다."
   ]
  },
  {
   "cell_type": "code",
   "execution_count": 19,
   "id": "f241ef89",
   "metadata": {},
   "outputs": [],
   "source": [
    "class User:\n",
    "    def __init__(self, name):\n",
    "        self.name = name\n",
    "\n",
    "\n",
    "class Post:\n",
    "    def __init__(self, content):\n",
    "        self.content = content\n",
    "        self.reactions = []\n",
    "        self.positive_reactions = 0\n",
    "        self.negative_reactions = 0"
   ]
  },
  {
   "cell_type": "code",
   "execution_count": 20,
   "id": "5b364c5c",
   "metadata": {},
   "outputs": [],
   "source": [
    "# from utils import User, Post\n",
    "\n",
    "class Reaction:\n",
    "    # 아래 코드의 빈 부분을 완성합니다.\n",
    "    def __init__(self, reaction_type, post, user):\n",
    "        if reaction_type not in [\"LIKE\", \"LOVE\", \"HAHA\", \"SAD\", \"ANGRY\", \"WOW\" ]:\n",
    "            raise ValueError(\"올바르지 않은 타입입니다.\")\n",
    "        if not isinstance(post, Post):\n",
    "            raise TypeError(\"Post인스턴스가 아닙니다.\")\n",
    "        if not isinstance(user, User):\n",
    "            raise TypeError(\"User인스턴스가 아닙니다.\")\n",
    "        self.reaction_type = reaction_type\n",
    "        self.post = post\n",
    "        self.user = user\n",
    "        post.reactions.append(self)\n",
    "\n",
    "# 아래 코드의 빈 부분을 완성합니다.\n",
    "class Like(Reaction):\n",
    "    def __init__(self, post, user):\n",
    "        super().__init__(\"LIKE\", post, user)\n",
    "        post.positive_reactions += 1\n",
    "\n",
    "\n",
    "class Angry(Reaction):\n",
    "    # 아래 코드의 빈 부분을 완성합니다.\n",
    "    def __init__(self, post, user):\n",
    "        super().__init__(\"ANGRY\", post, user)\n",
    "        post.negative_reactions += 1\n",
    "        "
   ]
  },
  {
   "cell_type": "markdown",
   "id": "46cd3270",
   "metadata": {},
   "source": [
    "게시물 나만 보기\n",
    "자식 클래스가 부모 클래스를 덮어 쓰는 함수 오버라이딩을 직접 사용해 봅시다.\n",
    "\n",
    "Post는 게시물 클래스입니다. 작성자 author, 내용 content, 공유한 유저의 리스트 shared_users, 나만 보기 설정 여부 is_private을 속성으로 갖습니다. 기본적으로 “나만 보기” 설정은 꺼져 있습니다.\n",
    "\n",
    "PrivatePost는 나만 보기로 설정된 게시물을 나타내는 클래스입니다. 다음의 두 가지 특성을 갖습니다.\n",
    "\n",
    "생성 시점에 is_private 속성이 True로 설정되어 있습니다.\n",
    "공유를 시도할 경우 적절한 메시지와 함께 TypeError가 발생하며, 공유되지 않습니다.\n",
    "함수 오버라이딩을 사용하여 위의 두 조건을 만족하는 PrivatePost 클래스를 완성해 보세요."
   ]
  },
  {
   "cell_type": "code",
   "execution_count": 24,
   "id": "aed409a1",
   "metadata": {},
   "outputs": [
    {
     "name": "stdout",
     "output_type": "stream",
     "text": [
      "['you']\n"
     ]
    },
    {
     "ename": "TypeError",
     "evalue": "No",
     "output_type": "error",
     "traceback": [
      "\u001b[1;31m---------------------------------------------------------------------------\u001b[0m",
      "\u001b[1;31mTypeError\u001b[0m                                 Traceback (most recent call last)",
      "\u001b[1;32m<ipython-input-24-64b566f7f727>\u001b[0m in \u001b[0;36m<module>\u001b[1;34m\u001b[0m\n\u001b[0;32m     28\u001b[0m \u001b[1;33m\u001b[0m\u001b[0m\n\u001b[0;32m     29\u001b[0m \u001b[0mpost\u001b[0m \u001b[1;33m=\u001b[0m \u001b[0mPrivatePost\u001b[0m\u001b[1;33m(\u001b[0m\u001b[1;34m\"me\"\u001b[0m\u001b[1;33m,\u001b[0m\u001b[1;34m\"Hello\"\u001b[0m\u001b[1;33m)\u001b[0m\u001b[1;33m\u001b[0m\u001b[1;33m\u001b[0m\u001b[0m\n\u001b[1;32m---> 30\u001b[1;33m \u001b[0mpost\u001b[0m\u001b[1;33m.\u001b[0m\u001b[0mshare\u001b[0m\u001b[1;33m(\u001b[0m\u001b[1;34m\"you\"\u001b[0m\u001b[1;33m)\u001b[0m\u001b[1;33m\u001b[0m\u001b[1;33m\u001b[0m\u001b[0m\n\u001b[0m\u001b[0;32m     31\u001b[0m \u001b[0mprint\u001b[0m\u001b[1;33m(\u001b[0m\u001b[0mpost\u001b[0m\u001b[1;33m.\u001b[0m\u001b[0mshared_users\u001b[0m\u001b[1;33m)\u001b[0m\u001b[1;33m\u001b[0m\u001b[1;33m\u001b[0m\u001b[0m\n",
      "\u001b[1;32m<ipython-input-24-64b566f7f727>\u001b[0m in \u001b[0;36mshare\u001b[1;34m(self, user)\u001b[0m\n\u001b[0;32m     20\u001b[0m     \u001b[1;31m# share 메소드를 호출 시 TypeError를 발생시킵니다.\u001b[0m\u001b[1;33m\u001b[0m\u001b[1;33m\u001b[0m\u001b[1;33m\u001b[0m\u001b[0m\n\u001b[0;32m     21\u001b[0m     \u001b[1;32mdef\u001b[0m \u001b[0mshare\u001b[0m\u001b[1;33m(\u001b[0m\u001b[0mself\u001b[0m\u001b[1;33m,\u001b[0m \u001b[0muser\u001b[0m\u001b[1;33m)\u001b[0m\u001b[1;33m:\u001b[0m\u001b[1;33m\u001b[0m\u001b[1;33m\u001b[0m\u001b[0m\n\u001b[1;32m---> 22\u001b[1;33m         \u001b[1;32mraise\u001b[0m \u001b[0mTypeError\u001b[0m\u001b[1;33m(\u001b[0m\u001b[1;34m\"No\"\u001b[0m\u001b[1;33m)\u001b[0m\u001b[1;33m\u001b[0m\u001b[1;33m\u001b[0m\u001b[0m\n\u001b[0m\u001b[0;32m     23\u001b[0m \u001b[1;33m\u001b[0m\u001b[0m\n\u001b[0;32m     24\u001b[0m \u001b[1;33m\u001b[0m\u001b[0m\n",
      "\u001b[1;31mTypeError\u001b[0m: No"
     ]
    }
   ],
   "source": [
    "class Post:\n",
    "    def __init__(self, author, content):\n",
    "        self.author = author\n",
    "        self.content = content\n",
    "        self.shared_users = []\n",
    "        self.is_private = False\n",
    "\n",
    "    def share(self, user):\n",
    "        self.shared_users.append(user)\n",
    "        \n",
    "\n",
    "class PrivatePost(Post):\n",
    "    # 생성자를 구현합니다.\n",
    "    # is_private 속성을 True 로 설정합니다.\n",
    "    def __init__(self, author, content):\n",
    "        super().__init__(author, content)\n",
    "        self.is_private = True\n",
    "        \n",
    "    \n",
    "    # share 메소드를 호출 시 TypeError를 발생시킵니다.\n",
    "    def share(self, user):\n",
    "        raise TypeError(\"No\")\n",
    "\n",
    "\n",
    "post = Post(\"me\",\"Hello\")\n",
    "post.share(\"you\")\n",
    "print(post.shared_users)\n",
    "\n",
    "post = PrivatePost(\"me\",\"Hello\")\n",
    "post.share(\"you\")\n",
    "print(post.shared_users)"
   ]
  }
 ],
 "metadata": {
  "kernelspec": {
   "display_name": "Python 3",
   "language": "python",
   "name": "python3"
  },
  "language_info": {
   "codemirror_mode": {
    "name": "ipython",
    "version": 3
   },
   "file_extension": ".py",
   "mimetype": "text/x-python",
   "name": "python",
   "nbconvert_exporter": "python",
   "pygments_lexer": "ipython3",
   "version": "3.8.8"
  }
 },
 "nbformat": 4,
 "nbformat_minor": 5
}
