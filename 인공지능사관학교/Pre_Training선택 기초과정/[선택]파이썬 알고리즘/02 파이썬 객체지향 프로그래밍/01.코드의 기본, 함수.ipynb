{
 "cells": [
  {
   "cell_type": "markdown",
   "id": "cb5afd8e",
   "metadata": {},
   "source": [
    "본격! 프로그래밍\n",
    "\n",
    "코드의 기본, 함수"
   ]
  },
  {
   "cell_type": "markdown",
   "id": "3d6c091c",
   "metadata": {},
   "source": [
    "커리큘럼\n",
    "\n",
    "1. 코드의 기본, 함수\n",
    "    - 코드의 불필요한 반복을 줄여주고, 더 이해하기 쉬운 코드를\n",
    "      만들어주는 함수에 대해 배워봅니다.\n",
    "\n",
    "2. 프로그래밍 세상의 설계도, 클래스 입문\n",
    "    - 보다 논리적인 프로그램을 설계할 수 있게 도와주는\n",
    "      클래스 개념에 대해 배우고, 직접 클래스를 설계해 봅니다.\n",
    "\n",
    "3. 클래스 더 알아보기\n",
    "    - 여러 클래스의 관계를 정의하는 상속 개념에 대해 배웁니다.\n",
    "      데이터의 관계를 정의하며 프로그램의 큰 그림을 그려 봅니다.\n",
    "\n",
    "4. 모듈과 패키지\n",
    "    - 다른 사람이 만든 프로그램을 내 프로그램에서 사용할 수 있게\n",
    "      만들어 주는 모듈과 패키지에 대해 배웁니다.\n",
    "    - 파이썬의 다양한 오픈 소스 패키지를 체험해 봅니다."
   ]
  },
  {
   "cell_type": "markdown",
   "id": "6bfc921e",
   "metadata": {},
   "source": [
    "수강 목표\n",
    "\n",
    "체계적인 프로그램을 설계해 볼 수 있습니다.\n",
    "\n",
    "여러분 주변의 프로그램을 보는 시각이 달라집니다.\n",
    "\n",
    "파이썬과 조금 더 친해집니다."
   ]
  },
  {
   "cell_type": "markdown",
   "id": "3acdd27e",
   "metadata": {},
   "source": [
    "목 차\n",
    "\n",
    "1. 함수의 기초\n",
    "\n",
    "2. Python의 함수 100% 활용하기\n",
    "\n",
    "3. 변수의 스코프"
   ]
  },
  {
   "cell_type": "markdown",
   "id": "9b9ea75e",
   "metadata": {},
   "source": [
    "1. 함수의 기초"
   ]
  },
  {
   "cell_type": "markdown",
   "id": "ce763142",
   "metadata": {},
   "source": [
    "함수란?\n",
    "\n",
    "자주 사용하는 코드를 의미 단위로 묶어 둔 것"
   ]
  },
  {
   "cell_type": "markdown",
   "id": "07814590",
   "metadata": {},
   "source": [
    "함수의 예시"
   ]
  },
  {
   "cell_type": "code",
   "execution_count": null,
   "id": "e3fbd17c",
   "metadata": {},
   "outputs": [],
   "source": [
    "# 태어난 연도를 받아 나이를 리턴\n",
    "def calculate_age(year_of_birth):\n",
    "    this_year = 2018\n",
    "    return this_year - year_of_birth + 1"
   ]
  },
  {
   "cell_type": "code",
   "execution_count": null,
   "id": "fb9ffdc8",
   "metadata": {},
   "outputs": [],
   "source": [
    "# 1부터 6 사이의 숫자를 랜덤하게 리턴\n",
    "def roll_die():\n",
    "    import random\n",
    "    return random.randint(1, 6)"
   ]
  },
  {
   "cell_type": "code",
   "execution_count": null,
   "id": "69c06aee",
   "metadata": {},
   "outputs": [],
   "source": [
    "# second부터 0까지 1초마다 출력\n",
    "def count_down(seconds):\n",
    "    import time\n",
    "    while seconds >= 0 :\n",
    "        print(seconds)\n",
    "        time.sleep(1)\n",
    "        seconds -= 1"
   ]
  },
  {
   "cell_type": "code",
   "execution_count": 2,
   "id": "0c94c3d6",
   "metadata": {},
   "outputs": [],
   "source": [
    "# 1시간마다 현재 시간을 출력\n",
    "def clock_hourly():\n",
    "    import time\n",
    "    while True:\n",
    "        print(time.datetime.now())\n",
    "        time.sleep(3600)"
   ]
  },
  {
   "cell_type": "markdown",
   "id": "eb57461c",
   "metadata": {},
   "source": [
    "함수의 구조"
   ]
  },
  {
   "cell_type": "markdown",
   "id": "1e4f49b5",
   "metadata": {},
   "source": [
    "함수의 구성 요소"
   ]
  },
  {
   "cell_type": "code",
   "execution_count": 3,
   "id": "bbf43007",
   "metadata": {},
   "outputs": [
    {
     "name": "stdout",
     "output_type": "stream",
     "text": [
      "31\n"
     ]
    }
   ],
   "source": [
    "# 태어난 연도를 받아 나이를 리턴\n",
    "\n",
    "# year_of_birth <- 매개변수 : 함수 정의 하는 파트\n",
    "def calculate_age(year_of_birth): \n",
    "    this_year = 2022\n",
    "    return this_year - year_of_birth + 1\n",
    "# this_year - year_of_birth + 1 <- 리턴값\n",
    "\n",
    "# 1992 <- 인자 : 함수를 실제로 사용하는 시점 \n",
    "age = calculate_age(1992)\n",
    "print(age)"
   ]
  },
  {
   "cell_type": "markdown",
   "id": "a243fd18",
   "metadata": {},
   "source": [
    "return, 함수의 끝"
   ]
  },
  {
   "cell_type": "code",
   "execution_count": 4,
   "id": "c1bf22c3",
   "metadata": {},
   "outputs": [],
   "source": [
    "# 태어난 연도를 받아 나이를 리턴\n",
    "def calculate_age(year_of_birth): \n",
    "    this_year = 2022\n",
    "    age = this_year - year_of_birth + 1\n",
    "    return age\n",
    "    print(age) # <- 실행되지 않음\n",
    "\n",
    "# 리턴뒤에 어떤 코드가 있더라도 실행되지 않음"
   ]
  },
  {
   "cell_type": "code",
   "execution_count": null,
   "id": "e5180965",
   "metadata": {},
   "outputs": [],
   "source": [
    "# 리턴도 하고 출력도 하고  싶을 경우\n",
    "def calculate_age(year_of_birth): \n",
    "    this_year = 2022\n",
    "    age = this_year - year_of_birth + 1\n",
    "    print(age)\n",
    "    return age"
   ]
  },
  {
   "cell_type": "markdown",
   "id": "3234f514",
   "metadata": {},
   "source": [
    "return vs print"
   ]
  },
  {
   "cell_type": "code",
   "execution_count": 5,
   "id": "da4d86c5",
   "metadata": {},
   "outputs": [
    {
     "name": "stdout",
     "output_type": "stream",
     "text": [
      "31\n"
     ]
    }
   ],
   "source": [
    "def calculate_age(year_of_birth): \n",
    "    this_year = 2022\n",
    "    return this_year - year_of_birth + 1\n",
    "\n",
    "age = calculate_age(1992)\n",
    "print(age)"
   ]
  },
  {
   "cell_type": "markdown",
   "id": "0321588a",
   "metadata": {},
   "source": [
    "return vs. print\n",
    "코딩에 아직 익숙하지 않은 분들이 많이 헷갈리는 것들 중 하나가 바로 return과 print의 차이입니다. 이 실습을 통해 극복해 봅시다.\n",
    "\n",
    "return\n",
    "함수의 끝이자 결과물을 의미합니다. 한 함수 내에서 여러 번 사용할 수 없으며, 어떤 값을 return 한다고 해서 실행 시 출력되는 것은 아닙니다.\n",
    "\n",
    "print\n",
    "원하는 값을 사용자 화면에 출력합니다. 언제 어디서든 값을 출력할 때 사용할 수 있으며, return 과는 아무런 관계가 없습니다.\n",
    "\n",
    "즉, 다음의 코드를 실행하면 print문이 없기 때문에 아무것도 출력되지 않습니다.\n",
    "\n",
    "def return_three():\n",
    "    return 3"
   ]
  },
  {
   "cell_type": "code",
   "execution_count": null,
   "id": "14598621",
   "metadata": {},
   "outputs": [],
   "source": [
    "def return_magic_number():\n",
    "    magic_number = 42\n",
    "    return magic_number\n",
    "\n",
    "def print_magic_number():\n",
    "    magic_number = 42\n",
    "    print(magic_number)\n",
    "\n",
    "num = return_magic_number()\n",
    "print(num)\n",
    "\n",
    "print_magic_number()"
   ]
  },
  {
   "cell_type": "markdown",
   "id": "d1597265",
   "metadata": {},
   "source": [
    "올바른 이름인가요?\n",
    "이 실습에서는 주어진 값이 올바른 이름 형식을 따르고 있는지 확인하는 함수를 구현해 보겠습니다.\n",
    "\n",
    "우리가 구현해야 할 함수, validate_name(name)은 name이라는 1개의 매개변수를 받습니다. 이 함수는 name이 숫자, 특수기호가 없는 문자열인지 확인합니다. name이 문자열이 아니거나, 숫자 혹은 특수기호를 하나라도 포함하면 False, 아니라면 True를 return 합니다.\n",
    "\n",
    "이 함수를 구현하기 위해 2가지의 새로운 파이썬 기본 변수들을 사용합니다.\n",
    "\n",
    "string.digits: 모든 숫자를 이어 붙인 문자열\"0123456789\" 입니다.\n",
    "string.punctuation: 파이썬에서 기본적으로 입력 가능한 모든 특수문자 (,, ? 등) 을 모아 둔 문자열입니다.\n",
    "\n",
    "Tip!\n",
    "None과 pass 부분을 지우고 코드를 작성해주시면 됩니다."
   ]
  },
  {
   "cell_type": "code",
   "execution_count": null,
   "id": "6cdecced",
   "metadata": {},
   "outputs": [],
   "source": [
    "\n",
    "\n",
    "\n"
   ]
  },
  {
   "cell_type": "markdown",
   "id": "8b1f9a44",
   "metadata": {},
   "source": [
    "올바른 이메일인가요?\n",
    "이 실습에서는 이메일 주소의 형식이 올바른지 확인하는 함수를 구현해 봅니다. 실제로 많은 웹사이트에서 회원가입 시에 이메일 주소의 형식을 체크하고, 올바르지 않다면 사용자에게 경고를 띄워 주고 있습니다.\n",
    "\n",
    "올바른 이메일 형식은 다음의 조건들을 만족합니다.\n",
    "\n",
    "하나의 @을 포함하는 문자열이어야 합니다.\n",
    "@을 기준으로 뒤쪽 부분이 도메인입니다. 도메인은 최소 한 개 이상의 .을 포함해야 하며, 연속된 .을 가질 수 없습니다.\n",
    "우리가 구현할 validate_email(email) 함수는 이메일 주소를 매개변수로 받아, 이 주소가 위의 조건을 만족하는지 확인합니다. 만족하면 True, 아니면 False를 리턴합니다.\n",
    "\n",
    "이 함수를 구현하기 위해, 파이썬 문자열(str)의 기본 메소드인 .count()와 .split()을 사용합니다.\n",
    "\n",
    "a.count(b) 메소드는 a 문자열에 b 문자열이 몇 개 포함되어 있는지 리턴합니다.\n",
    "\n",
    "spell = \"abracadabra\"\n",
    "print(spell.count(\"a\"))\n",
    "#5\n",
    "Copy\n",
    "a.split(b) 메소드는 주어진 문자열 a를 b 기준으로 쪼개어 문자열의 리스트를 리턴합니다.\n",
    "\n",
    "domain = \"www.google.com\"\n",
    "print(domain.split(\".\"))\n",
    "#[\"www\", \"google\", \"com\"]"
   ]
  },
  {
   "cell_type": "code",
   "execution_count": null,
   "id": "5cbcc48c",
   "metadata": {},
   "outputs": [],
   "source": [
    "def validate_email(email):\n",
    "    \n",
    "    # 주소가 문자열인지 확인합니다.\n",
    "    if type(email) is not str:\n",
    "        return False\n",
    "    \n",
    "    # 주소가 하나의 @을 포함하는지 확인합니다.\n",
    "    if email.count(\"@\") != 1:\n",
    "        return False\n",
    "        \n",
    "    # 주소에서 도메인을 추출합니다.\n",
    "    domain = email.split(\"@\")[1]\n",
    "    \n",
    "    # 도메인이 하나 이상의 점을 포함하는지 확인합니다.\n",
    "    if domain.count(\".\") < 1:\n",
    "        return False\n",
    "    \n",
    "    # 도메인을 점 기준으로 쪼개고, 연속하는 점이 없는지 확인합니다.\n",
    "    # 아래의 코드는 완성되어 있습니다. 코드를 이해해 보세요.\n",
    "    parts = domain.split(\".\")\n",
    "    # naver.com -> [\"naver\", \"com\"]\n",
    "    # naver..com -> [\"naver\" ,\"\", \"com\"]\n",
    "    for part in parts:\n",
    "        if part == \"\":\n",
    "            return False\n",
    "    \n",
    "    return True\n",
    "\n",
    "print(validate_email(\"elice@elice.io\"))"
   ]
  },
  {
   "cell_type": "markdown",
   "id": "1f3b941d",
   "metadata": {},
   "source": [
    "2. Python의 함수 100% 활용하기"
   ]
  },
  {
   "cell_type": "markdown",
   "id": "c06c7506",
   "metadata": {},
   "source": [
    "매개변수가 많을 때"
   ]
  },
  {
   "cell_type": "code",
   "execution_count": null,
   "id": "c408f497",
   "metadata": {},
   "outputs": [],
   "source": [
    "def sign_up(email, \n",
    "            password, \n",
    "            name, \n",
    "            city, \n",
    "            gender, \n",
    "            is_vip):\n",
    "    pass\n",
    "\n",
    "\n",
    "# 함수를 사용한다  => 콜 해준다.\n",
    "sign_up(\"alice@elice.io\",\n",
    "        \"c0derL@nd\",\n",
    "        \"Alice\",\n",
    "        \"Seoul\",\n",
    "        \"F\",\n",
    "        False)\n",
    "\n",
    "\n",
    "# 파이썬은 매개변수이름을 넣어서 사용할수 있다.\n",
    "sign_up(email = \"alice@elice.io\",\n",
    "        password = \"c0derL@nd\",\n",
    "        city = \"Seoul\", \n",
    "        name =\"Alice\",\n",
    "        gender=\"F\",\n",
    "        is_vip=False)"
   ]
  },
  {
   "cell_type": "markdown",
   "id": "02ec483c",
   "metadata": {},
   "source": [
    "함수 디자인\n",
    "\n",
    "어떤 커뮤니티의 90% 이상은 가입 시 일반 회원이다.\n",
    "그러나 소수의 회원들은 가입 시부터 VIP로 등록된다."
   ]
  },
  {
   "cell_type": "code",
   "execution_count": null,
   "id": "a1052cf4",
   "metadata": {},
   "outputs": [],
   "source": [
    "def sign_up(email, \n",
    "            password, \n",
    "            name, \n",
    "            city, \n",
    "            gender, \n",
    "            is_vip):\n",
    "    pass\n",
    "\n",
    "alice = sin_up(........., is_vip = False)\n",
    "bob = sin_up(........., is_vip = False)\n",
    "james = sin_up(........., is_vip = False)\n",
    "mansour = sin_up(........., is_vip = True) "
   ]
  },
  {
   "cell_type": "code",
   "execution_count": null,
   "id": "714a9c3b",
   "metadata": {},
   "outputs": [],
   "source": [
    "def sign_up(email, \n",
    "            password, \n",
    "            name, \n",
    "            city, \n",
    "            gender, \n",
    "            is_vip = False):\n",
    "    pass\n",
    "\n",
    "alice = sin_up(.........)\n",
    "bob = sin_up(.........)\n",
    "james = sin_up(.........)\n",
    "mansour = sin_up(........., is_vip = True) "
   ]
  },
  {
   "cell_type": "markdown",
   "id": "a76dd328",
   "metadata": {},
   "source": [
    "파이썬의 내장 함수들"
   ]
  },
  {
   "cell_type": "code",
   "execution_count": 13,
   "id": "d8b3213e",
   "metadata": {},
   "outputs": [
    {
     "name": "stdout",
     "output_type": "stream",
     "text": [
      "ecilE\n"
     ]
    }
   ],
   "source": [
    "max(1, 3) # 3\n",
    "min(1, 3) # 1 \n",
    "\n",
    "abs(-17)  # 17 \n",
    "\n",
    "round(18.8) # 19\n",
    "\n",
    "len(\"Elice\") # 5\n",
    "len([1,3,5]) # 3\n",
    "\n",
    "str(37) # \"37\"\n",
    "\n",
    "int(\"9\") # 9 \n",
    "# int(\"3.14\") # Error\n",
    "\n",
    "range(3) # [0, 1, 2]\n",
    "range(1,4) # [1, 2, 3]\n",
    "\n",
    "a = reversed(\"Elice\") \n",
    "a  = \"\".join(list(a))\n",
    "print(a) # ecilE\n",
    "\n",
    "any([False, True, True]) # True 하나라도 트루가 있다면\n",
    "all([False, True, True]) # False 모두가 True일때만 True"
   ]
  },
  {
   "cell_type": "markdown",
   "id": "794b3212",
   "metadata": {},
   "source": [
    "변수의 스코프 "
   ]
  },
  {
   "cell_type": "code",
   "execution_count": null,
   "id": "37a5726d",
   "metadata": {},
   "outputs": [],
   "source": [
    "this_year = 2018\n",
    "\n",
    "def calculate_age(year_of_birth):\n",
    "    return this_year - year_of_birth + 1\n",
    "\n",
    "# scope 범위\n",
    "# 읽어 올수 있는 부분 \n",
    "# 가장 넓은 스코프 전역 변수\n",
    "# 함수안의 지역 변수"
   ]
  },
  {
   "cell_type": "code",
   "execution_count": null,
   "id": "01a4bb80",
   "metadata": {},
   "outputs": [],
   "source": [
    "def calculate_age(year_of_birth):\n",
    "    this_year = 2018\n",
    "    return this_year - year_of_birth + 1\n",
    "\n",
    "print(f\"올해는 {this_year}년 입니다.\") # 오류\n",
    "# 지역변수는 전역에서 사용 할수 없음"
   ]
  },
  {
   "cell_type": "markdown",
   "id": "b2e70cb6",
   "metadata": {},
   "source": [
    "비밀번호 숨기기\n",
    "우리가 웹사이트에 회원가입을 하면, 대부분의 경우 그 비밀번호가 그대로 저장되지 않습니다. 만일 해커가 서버를 해킹했을 경우, 비밀번호를 그대로 저장해 두었다면 정보가 모두 유출되겠죠? 그래서 비밀번호는 변환하여 저장하는 것이 일반적입니다.\n",
    "\n",
    "이 실습에서는 비밀번호를 암호화하고 다시 복호화하는 (암호화된 문자열을 다시 원래대로 변환하는 것) 아주 기초적인 코드를 작성해 보겠습니다.\n",
    "\n",
    "비밀번호 암호화는 다음과 같은 순서로 이루어집니다.\n",
    "\n",
    "먼저 문자열을 뒤집은 뒤, 글자 단위로 분리합니다.\n",
    "각 글자를 암호화하여 이어 붙입니다. 이 코드는 encode_char()에 구현되어 있습니다.\n",
    "맨 끝에 문자열 길이의 일의 자리 숫자를 붙입니다.\n",
    "“hello”를 예시로 들어보겠습니다.\n",
    "\n",
    "문자열을 뒤집어 “olleh”를 얻습니다.\n",
    "각 글자를 암호화해서 “loovs”를 얻었습니다.\n",
    "총 5글자이므로 끝에 5를 붙여 “loovs5”를 결과물로 내놓습니다.\n",
    "복호화는 반대 순서로 진행합니다.\n",
    "\n",
    "위의 조건을 만족하는 encode(), decode() 함수를 구현해 보세요. 미리 정의된 encode_char(), decode_char(), reverse_string() 함수를 사용하시기 바랍니다.\n",
    "\n",
    "[주의] 우리가 구현하는 암호화는 엄밀하게는 단순 변환이며, 암호화라고 볼 수 없습니다. 이 문제는 여러분에게 함수를 쉽게 익힐 수 있도록 도와드리는 예시일 뿐이고, 실제 웹사이트에서는 규칙성을 가지고 복호화할 수 없는 방식을 사용합니다.\n",
    "\n",
    "\n",
    "Tip!\n",
    "a = a + 1\n",
    "Copy\n",
    "위 식을 연산자 +=으로 다음과 같이 표현할 수 이습니다.\n",
    "\n",
    "a += 1"
   ]
  },
  {
   "cell_type": "code",
   "execution_count": 14,
   "id": "874466b5",
   "metadata": {},
   "outputs": [],
   "source": [
    "import string\n",
    "\n",
    "def encode_char(char):\n",
    "    if char in string.ascii_lowercase:\n",
    "        return chr(ord('z') - ord(char) + ord('a'))\n",
    "    if char in string.ascii_uppercase:\n",
    "        return chr(ord('Z') - ord(char) + ord('A'))\n",
    "    return char\n",
    "\n",
    "\n",
    "def decode_char(char):\n",
    "    if char in string.ascii_lowercase:\n",
    "        return chr(ord('z') - ord(char) + ord('a'))\n",
    "    if char in string.ascii_uppercase:\n",
    "        return chr(ord('Z') - ord(char) + ord('A'))\n",
    "    return char\n",
    "\n",
    "\n",
    "def reverse_string(string):\n",
    "    return ''.join(reversed(string))\n",
    "\n",
    "\n",
    "def encode(password):\n",
    "    \n",
    "    # 문자열을 뒤집습니다.\n",
    "    reversed_password = reverse_string(password)\n",
    "    \n",
    "    # 각 글자를 암호화하여 이어 붙입니다.\n",
    "    encoded = \"\"\n",
    "    for char in reversed_password:\n",
    "        encoded += encode_char(char) \n",
    "    \n",
    "    # 맨 끝에 암호화된 문자열의 길이의 일의 자리 숫자를 붙입니다.\n",
    "    result = encoded + str(len(encoded) % 10)\n",
    "    \n",
    "    return result\n",
    "\n",
    "\n",
    "def decode(encoded_password):\n",
    "    \n",
    "    # 맨 끝에 붙은 수를 제거합니다.\n",
    "    number_stripped = encoded_password[:-1]\n",
    "    \n",
    "    # 각 글자를 복호화하여 이어 붙입니다.\n",
    "    decoded = \"\"\n",
    "    for char in number_stripped:\n",
    "        decoded += decode_char(char)\n",
    "    \n",
    "    # 문자열을 뒤집습니다.\n",
    "    result = reverse_string(decoded)\n",
    "    \n",
    "    return result"
   ]
  }
 ],
 "metadata": {
  "kernelspec": {
   "display_name": "Python 3",
   "language": "python",
   "name": "python3"
  },
  "language_info": {
   "codemirror_mode": {
    "name": "ipython",
    "version": 3
   },
   "file_extension": ".py",
   "mimetype": "text/x-python",
   "name": "python",
   "nbconvert_exporter": "python",
   "pygments_lexer": "ipython3",
   "version": "3.8.8"
  }
 },
 "nbformat": 4,
 "nbformat_minor": 5
}
