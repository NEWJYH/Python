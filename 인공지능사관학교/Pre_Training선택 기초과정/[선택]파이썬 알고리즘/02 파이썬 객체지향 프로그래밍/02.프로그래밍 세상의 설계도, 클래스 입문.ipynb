{
 "cells": [
  {
   "cell_type": "markdown",
   "id": "be63c1f7",
   "metadata": {},
   "source": [
    "목 차\n",
    "\n",
    "1. 이것이 클래스\n",
    "\n",
    "2. 클래스 하나씩 따라하기\n",
    "\n",
    "3. 클래스 다듬기"
   ]
  },
  {
   "cell_type": "markdown",
   "id": "1e7d4802",
   "metadata": {},
   "source": [
    "프로그래밍 세상의 설계도, 클래스 입문\n",
    "\n",
    "보다 논리적인 프로그램을 설계할 수 있게 도와주는\n",
    "클래스 개념에 대해 배우고, 직접 클래스를 설계해 봅니다."
   ]
  },
  {
   "cell_type": "markdown",
   "id": "75f966ef",
   "metadata": {},
   "source": [
    "1. 이것이 클래스"
   ]
  },
  {
   "cell_type": "markdown",
   "id": "643c4d31",
   "metadata": {},
   "source": [
    "클래스란?\n",
    "\n",
    "나타내고자 하는 개념의 설계도"
   ]
  },
  {
   "cell_type": "markdown",
   "id": "70e704f2",
   "metadata": {},
   "source": [
    "페이스북 게시물\n",
    "\n",
    "저장해야하는 데이터 # 필드\n",
    "    - 작성자\n",
    "    - 내용\n",
    "    - 작성한 날짜/시간\n",
    "    - 이미지(없을 수도 있음)\n",
    "    - 링크(없을 수도 있음)\n",
    "    \n",
    "할 수 있는 조작 # 메서드\n",
    "    - 리액션(좋아요, 슬퍼요, ..)\n",
    "    - 댓글 달기\n",
    "    - 내용 수정하기\n",
    "    - 공유하기\n",
    "    - 사진 추가하기"
   ]
  },
  {
   "cell_type": "markdown",
   "id": "d06f8dee",
   "metadata": {},
   "source": [
    "클래스와 인스턴스\n",
    "\n",
    "클래스\n",
    "어떤 데이터가 있는지,\n",
    "어떤 조작을 할수 있는지,\n",
    "어떤 제약조건들이 있는지,\n",
    "명시한 추상적인 설계도\n",
    "\n",
    "인스턴스\n",
    "그 클래스로 만든 실제 예시"
   ]
  },
  {
   "cell_type": "markdown",
   "id": "240282a6",
   "metadata": {},
   "source": [
    "클래스와 인스턴스\n",
    "\n",
    "게시물 클래스\n",
    "게시물 하나에 최대 20장의 사진 (데이터)\n",
    "좋아요,슬퍼요,최고에요 (조작)\n",
    "댓글을 달 수 있음\n",
    "작성자가 공유 여부를 설정 가능 (제약조건)\n",
    "\n",
    "게시물 인스턴스\n",
    "elice의 7월 17일 게시물\n",
    "최XX님의 1월 3일 게시물\n",
    "리X왕 김X뷰의 7월 2일 게시물\n",
    "...."
   ]
  },
  {
   "cell_type": "markdown",
   "id": "41390c0e",
   "metadata": {},
   "source": [
    "클래스 선언"
   ]
  },
  {
   "cell_type": "code",
   "execution_count": null,
   "id": "0fd52aff",
   "metadata": {},
   "outputs": [],
   "source": [
    "class Post:\n",
    "    # 속성 (atrribute), 필드\n",
    "    author = None\n",
    "    comment = []\n",
    "    likes = 0\n",
    "    content = \"What are you doing?\"\n",
    "    \n",
    "    # 메소드(method) : 액션 \n",
    "    def like(self, user):\n",
    "        self.likes += 1\n",
    "        user.liked_posts.append(self)"
   ]
  },
  {
   "cell_type": "markdown",
   "id": "7953b8be",
   "metadata": {},
   "source": [
    "2. 클래스 하나씩 따라하기"
   ]
  },
  {
   "cell_type": "markdown",
   "id": "83fe7745",
   "metadata": {},
   "source": [
    "생성자\n",
    "\n",
    "모든 클래스의 가장 기본이 되는 메소드\n",
    "\n",
    "인스턴스가 처음 만들어질 때 어떻게 셋팅할 것인지 결정"
   ]
  },
  {
   "cell_type": "code",
   "execution_count": null,
   "id": "da900231",
   "metadata": {},
   "outputs": [],
   "source": [
    "class Post:\n",
    "    # 생성자\n",
    "    def __init__(self, author, content):\n",
    "        self.author = author\n",
    "        self.content = content"
   ]
  },
  {
   "cell_type": "markdown",
   "id": "bba4d3c0",
   "metadata": {},
   "source": [
    "생성자의 매개변수 vs 클래스의 속성\n",
    "\n",
    "#생성자\n",
    "계좌개설 신청서(고객용)\n",
    "이름         김코딩\n",
    "주천직원      엘리스\n",
    "#생성자의 매개변수\n",
    "(인스턴스 생성 시 입력)\n",
    "\n",
    "\n",
    "#클래스의 속성\n",
    "계좌개설 확인서(내부용)\n",
    "고객명       김코딩\n",
    "추천직원번호  2435\n",
    "#클래스의 속성\n",
    "(실제로 데이터가 저장되는 이름)"
   ]
  },
  {
   "cell_type": "markdown",
   "id": "bdb0c336",
   "metadata": {},
   "source": [
    "self"
   ]
  },
  {
   "cell_type": "code",
   "execution_count": null,
   "id": "0d509d73",
   "metadata": {},
   "outputs": [],
   "source": [
    "class Post:\n",
    "    def __init__(self, author, content):\n",
    "        self.author = author\n",
    "        self.content = content\n",
    "        \n",
    "# self 클래스 내부의 속성/메소드에 접근할 떄"
   ]
  },
  {
   "cell_type": "markdown",
   "id": "54175f46",
   "metadata": {},
   "source": [
    "생성자 사용"
   ]
  },
  {
   "cell_type": "code",
   "execution_count": 2,
   "id": "b044e7e2",
   "metadata": {},
   "outputs": [
    {
     "name": "stdout",
     "output_type": "stream",
     "text": [
      "elice\n",
      "I love coding!\n"
     ]
    }
   ],
   "source": [
    "class Post:\n",
    "    def __init__(self, author, content):\n",
    "        self.author = author\n",
    "        self.content = content\n",
    "        \n",
    "my_post = Post(\"elice\",\"I love coding!\")\n",
    "print(my_post.author)\n",
    "print(my_post.content)"
   ]
  },
  {
   "cell_type": "markdown",
   "id": "6b6ea27c",
   "metadata": {},
   "source": [
    "첫 게시물\n",
    "이번 주 실습에서는 Facebook의 여러 개념들 (사용자, 게시물, 좋아요 등)을 클래스로 구현해 보겠습니다. 사용자를 가입시키고, 게시물을 작성하면서 클래스와 인스턴스의 개념들을 익혀 봅시다.\n",
    "\n",
    "첫 실습에서는 가장 기본적인 기능인 게시물을 구현해 봅니다. 게시물은 다음과 같은 조건들을 만족해야 합니다.\n",
    "\n",
    "속성으로 게시물의 작성자(author), 내용(content), 댓글의 리스트(comments), 좋아요의 개수(likes)를 가집니다.\n",
    "생성자의 매개변수로 작성자와 내용을 받아 그 값을 속성에 저장합니다.\n",
    "생성자의 인자로 넣어 주는 값은 User 클래스의 인스턴스(작성자)와 길이가 1 이상인 문자열(내용)입니다. 클래스를 사용하는 사람이 조건에 알맞은 값을 넣어 준다고 가정합니다.\n",
    "게시물 생성 시점에 댓글의 리스트는 비어 있고, 좋아요는 하나도 없어야 합니다.\n",
    "조건에 맞게 클래스를 잘 정의했다면, 만든 클래스를 이용해 새로운 인스턴스를 만들어 봅시다.\n",
    "\n",
    "게시물을 작성하기 위해서는 User 인스턴스가 필요합니다. 스켈레톤 코드에 me 라는 사용자가 정의되어 있습니다. 여러분이 선언할 인스턴스 my_post는 작성자가 me 인 게시물입니다. 내용은 조건에 맞는 아무 값이나 넣어도 괜찮습니다.\n",
    "\n",
    "다 작성했다면, 실행을 눌러 여러분이 원하는 대로 게시물이 만들어졌는지 확인해 봅시다!"
   ]
  },
  {
   "cell_type": "code",
   "execution_count": 3,
   "id": "05473713",
   "metadata": {},
   "outputs": [],
   "source": [
    "class User:\n",
    "    def __init__(self, name):\n",
    "        self.name = name\n",
    "        \n",
    "class Post:\n",
    "\n",
    "    # 생성자는 매개변수로 작성자와 내용을 받아,\n",
    "    # 그 값을 속성에 저장합니다.\n",
    "    def __init__(self, author, content):\n",
    "        self.author = author\n",
    "        self.content = content\n",
    "        self.comments = []\n",
    "        self.likes = 0\n",
    "        # 속성들을 초기화합니다.\n",
    "        # 아래의 pass를 지우고 코드를 작성하세요.\n",
    "        pass\n",
    "\n",
    "# 새로운 사용자 me를 생성합니다.\n",
    "# User의 생성자에 원하는 이름(문자열)을 넣어주세요.\n",
    "me = User(\"User\")\n",
    "\n",
    "# 아래의 None을 지우고 코드를 작성하세요.\n",
    "my_post = Post(me,\"content None\")\n"
   ]
  },
  {
   "cell_type": "markdown",
   "id": "0f58fa75",
   "metadata": {},
   "source": [
    "속성과 메소드"
   ]
  },
  {
   "cell_type": "markdown",
   "id": "04f6f0bd",
   "metadata": {},
   "source": [
    "속성을 만들 때 주의할 점"
   ]
  },
  {
   "cell_type": "code",
   "execution_count": null,
   "id": "2ee1bb98",
   "metadata": {},
   "outputs": [],
   "source": [
    "class Post:\n",
    "    def __init__(self, author, content):\n",
    "        self.likes = 0\n",
    "        self.liked_users = []\n",
    "        # 같은 내용을 나타내는 속성이 2개"
   ]
  },
  {
   "cell_type": "code",
   "execution_count": null,
   "id": "8522c3a3",
   "metadata": {},
   "outputs": [],
   "source": [
    "class Post:\n",
    "    def __init__(self, author, content):\n",
    "        ...\n",
    "        \n",
    "my_post = Post(\"elice\",\"I love coding!\")\n",
    "my_post.likes += 1\n",
    "# my_post.liked_users = []  # 모순\n",
    "# 속성을 만들때 주의 할점 : 하나의 개념을 나타내는 속성은 하나야여야 함"
   ]
  },
  {
   "cell_type": "markdown",
   "id": "3a88021c",
   "metadata": {},
   "source": [
    "메소드 만들기"
   ]
  },
  {
   "cell_type": "code",
   "execution_count": null,
   "id": "517cb0ea",
   "metadata": {},
   "outputs": [],
   "source": [
    "class Post:\n",
    "    def like(self, user):\n",
    "        self.liked_user.append(user) # 속성에 추가 "
   ]
  },
  {
   "cell_type": "code",
   "execution_count": null,
   "id": "b3d4d2ed",
   "metadata": {},
   "outputs": [],
   "source": [
    "class Post:\n",
    "    def num_likes(self):\n",
    "        return len(self.liked_user)\n",
    "# 메소드를 속성처럼 사용"
   ]
  },
  {
   "cell_type": "markdown",
   "id": "a120296c",
   "metadata": {},
   "source": [
    "좋아요 누르기\n",
    "실습 2번에서는 1번에서 만든 Post 클래스에 페이스북에서 가장 중요한 기능인 좋아요를 추가해 보겠습니다. 실습 2번의 Post에서 달라지는 점은 다음과 같습니다.\n",
    "\n",
    "1. likes 속성이 좋아요의 개수가 아닌 \n",
    "좋아요를 누른 사람들의 리스트를 의미합니다. \n",
    "이 리스트의 사용자들은 좋아요를 누른 순서대로 정렬되어야 합니다.\n",
    "\n",
    "2. 대신 좋아요의 개수를 얻을 수 있는 \n",
    "num_likes() 메소드를 추가합니다.\n",
    "\n",
    "3.좋아요 누르는 액션을 의미하는 like() 메소드를 추가합니다.\n",
    "이 메소드는 User 클래스의 인스턴스를 매개변수로 받습니다.\n",
    "만약 이미 사용자가 이 게시물에 좋아요를 눌렀다면 새로운 좋아요를 무시합니다.\n",
    "\n",
    "조건에 맞게 Post 클래스를 완성했다면, 직접 인스턴스를 만들어 여러분의 코드를 테스트해 보세요. 잘 작동한다면 제출 버튼을 눌러 채점해 봅시다."
   ]
  },
  {
   "cell_type": "code",
   "execution_count": 11,
   "id": "ff34afe9",
   "metadata": {},
   "outputs": [
    {
     "name": "stdout",
     "output_type": "stream",
     "text": [
      "본격! 프로그래밍\n",
      "['Elice']\n"
     ]
    }
   ],
   "source": [
    "class User:\n",
    "    def __init__(self, name):\n",
    "        self.name = name\n",
    "    def __str__(self):\n",
    "        return f\"{self.name}\"\n",
    "#from user import User\n",
    "\n",
    "class Post:\n",
    "\n",
    "    # 생성자는 매개변수로 작성자와 내용을 받아,\n",
    "    # 그 값을 속성에 저장합니다.\n",
    "    def __init__(self, author, content):\n",
    "        \n",
    "        # 속성들을 초기화합니다.\n",
    "        self.author = author\n",
    "        self.content = content\n",
    "        \n",
    "        # 아래의 코드를 수정하세요.\n",
    "        self.likes = []\n",
    "    \n",
    "    # num_likes 메소드를 생성합니다.\n",
    "    # 아래의 코드를 수정해서 메소드를 완성하세요.\n",
    "    def num_likes(self):\n",
    "        return len(self.likes)\n",
    "        \n",
    "    # like 메소드를 생성합니다.\n",
    "    # 아래의 코드를 수정해서 메소드를 완성하세요.\n",
    "    def like(self, user):\n",
    "        if user in self.likes:\n",
    "            return\n",
    "        self.likes.append(str(user))\n",
    "    \n",
    "\n",
    "# 새로운 사용자 me를 생성합니다.\n",
    "me = User(\"Elice\")\n",
    "\n",
    "# 아래에 자유롭게 인스턴스를 생성하고 테스트해 보세요.\n",
    "my_post = Post(me, \"본격! 프로그래밍\")\n",
    "print(my_post.content)\n",
    "my_post.like(me)\n",
    "print(my_post.likes)"
   ]
  },
  {
   "cell_type": "markdown",
   "id": "5dc934dd",
   "metadata": {},
   "source": [
    "클래스 다듬기"
   ]
  },
  {
   "cell_type": "markdown",
   "id": "ec4cc89e",
   "metadata": {},
   "source": [
    "원하지 않는 값 배제하기"
   ]
  },
  {
   "cell_type": "code",
   "execution_count": null,
   "id": "32b08780",
   "metadata": {},
   "outputs": [],
   "source": [
    "class Post:\n",
    "    def __init__(self, author, content):\n",
    "        ...\n",
    "        \n",
    "my_post = Post(\"elice\", 1457)\n",
    "#                       잘못된 값\n",
    "my_post.like([\"Hello\", \"World\"])\n",
    "#                       잘못된 값"
   ]
  },
  {
   "cell_type": "code",
   "execution_count": 12,
   "id": "34f15756",
   "metadata": {},
   "outputs": [
    {
     "ename": "SyntaxError",
     "evalue": "unexpected EOF while parsing (<ipython-input-12-ea001d1b5a0f>, line 3)",
     "output_type": "error",
     "traceback": [
      "\u001b[1;36m  File \u001b[1;32m\"<ipython-input-12-ea001d1b5a0f>\"\u001b[1;36m, line \u001b[1;32m3\u001b[0m\n\u001b[1;33m    if type(year_of_birth) is not int:\u001b[0m\n\u001b[1;37m                                      ^\u001b[0m\n\u001b[1;31mSyntaxError\u001b[0m\u001b[1;31m:\u001b[0m unexpected EOF while parsing\n"
     ]
    }
   ],
   "source": [
    "class User:\n",
    "    def __init__(self, year_of_birth):\n",
    "        if type(year_of_birth) is not int:\n",
    "            return"
   ]
  },
  {
   "cell_type": "code",
   "execution_count": null,
   "id": "bafd482b",
   "metadata": {},
   "outputs": [],
   "source": [
    "class Post:\n",
    "    def __init__(self, author, content):\n",
    "        if not isinstance(author, User):\n",
    "            return\n",
    "        if type(content) is not str:\n",
    "            return"
   ]
  },
  {
   "cell_type": "code",
   "execution_count": null,
   "id": "d2a00ba1",
   "metadata": {},
   "outputs": [],
   "source": [
    "class User:\n",
    "    def __init__(self, year_of_birth):\n",
    "        if year_of_birth > 2005:\n",
    "            raise Exception(\"Too young\")\n",
    "# Error vs Exception "
   ]
  },
  {
   "cell_type": "markdown",
   "id": "b9bd69f3",
   "metadata": {},
   "source": [
    "회원가입\n",
    "이제는 여러분이 지금까지 import해서 사용한 User 클래스를 구현해 보겠습니다. 이 실습에서는 간단히 사용자의 기본 틀을 잡고, 이번 주의 프로젝트에서 더 실제 같은 사용자 클래스를 구현할 예정입니다. 가벼운 마음으로 시작해 봅시다.\n",
    "\n",
    "User 클래스는 다음과 같은 속성들을 가집니다.\n",
    "\n",
    "email: 사용자의 이메일 주소 (이메일 형식에 맞는 문자열)\n",
    "password: 사용자의 비밀번호 (8자리 이상의 문자열)\n",
    "name: 사용자의 이름 (공백이 아닌 문자열)\n",
    "gender: 성별 (문자열 M, F, O 중 하나)\n",
    "friends: 친구 목록 (User 인스턴스의 리스트)\n",
    "User 클래스의 생성자는 이메일 주소, 비밀번호, 이름, 성별을 순서대로 받습니다. 조건에 맞지 않는 값이 인자로 들어올 경우 적절한 에러 메시지와 함께 ValueError를 발생시킵니다. 사용자 생성 시점에 친구 목록은 비어 있어야 합니다.\n",
    "\n",
    "조건에 맞게 User 클래스를 완성했다면, 직접 인스턴스를 만들어 여러분의 코드를 테스트해 보세요. 잘 작동한다면 제출 버튼을 눌러 채점해 봅시다.\n",
    "\n",
    "\n",
    "이메일이 형식에 알맞은지 확인할 때는, 여러분이 지난 주에 구현한 validate_email() 함수를 사용합시다. 코드의 맨 윗줄에 import 되어 있습니다"
   ]
  },
  {
   "cell_type": "code",
   "execution_count": 14,
   "id": "e1bf4f3a",
   "metadata": {},
   "outputs": [],
   "source": [
    "def validate_email(email):\n",
    "    \n",
    "    # 주소가 문자열인지 확인합니다.\n",
    "    if type(email) is not str:\n",
    "        return False\n",
    "    \n",
    "    # 주소가 하나의 @을 포함하는지 확인합니다.\n",
    "    if email.count(\"@\") != 1:\n",
    "        return False\n",
    "        \n",
    "    # 주소에서 도메인을 추출합니다.\n",
    "    domain = email.split(\"@\")[1]\n",
    "    \n",
    "    # 도메인이 하나 이상의 점을 포함하는지 확인합니다.\n",
    "    if domain.count(\".\") < 1:\n",
    "        return False\n",
    "    \n",
    "    # 도메인을 점 기준으로 쪼개고, 연속하는 점이 없는지 확인합니다.\n",
    "    # 아래의 코드는 완성되어 있습니다. 코드를 이해해 보세요.\n",
    "    parts = domain.split(\".\")\n",
    "    # naver.com -> [\"naver\", \"com\"]\n",
    "    # naver..com -> [\"naver\" ,\"\", \"com\"]\n",
    "    for part in parts:\n",
    "        if part == \"\":\n",
    "            return False\n",
    "    \n",
    "    return True\n",
    "\n",
    "\n",
    "# from validators import validate_email\n",
    "\n",
    "class User:\n",
    "    \n",
    "    def __init__(self, email, password, name, gender):\n",
    "    \n",
    "        # 이메일이 형식에 맞는지 확인하고, 설정합니다.\n",
    "        if not validate_email(email):\n",
    "            raise ValueError(\"이메일 형식이 틀렸습니다.\")\n",
    "        self.email = email\n",
    "        \n",
    "        # 비밀번호가 조건을 만족하는지 확인하고, 설정합니다.\n",
    "        if len(password) < 8:\n",
    "            raise ValueError(\"비밀번호가 너무 짧습니다.\")\n",
    "        self.password = password\n",
    "        \n",
    "        # 사용자의 이름이 조건을 만족하는지 확인하고, 설정합니다.\n",
    "        if name == \"\":\n",
    "            raise ValueError(\"이름을 입력해주세요\")\n",
    "        self.name = name\n",
    "        \n",
    "        # 성별이 조건을 만족하는지 확인하고, 설정합니다.\n",
    "        if gender not in [\"M\",\"F\",\"O\"]:\n",
    "        #if genger != \"M\" and gender != \"F\" and gender != \"O\":\n",
    "            raise ValueError(\"성별을 제대로 선택하세요\")\n",
    "        self.gender = gender\n",
    "        \n",
    "        # 친구 목록을 설정합니다.\n",
    "        self.friends = []\n",
    "\n",
    "me = User(\"me@asdfa.adsf\",\"asdfasdfasf\",\"asdasf\",\"M\")"
   ]
  }
 ],
 "metadata": {
  "kernelspec": {
   "display_name": "Python 3",
   "language": "python",
   "name": "python3"
  },
  "language_info": {
   "codemirror_mode": {
    "name": "ipython",
    "version": 3
   },
   "file_extension": ".py",
   "mimetype": "text/x-python",
   "name": "python",
   "nbconvert_exporter": "python",
   "pygments_lexer": "ipython3",
   "version": "3.8.8"
  }
 },
 "nbformat": 4,
 "nbformat_minor": 5
}
