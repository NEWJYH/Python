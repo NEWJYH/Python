{
 "cells": [
  {
   "cell_type": "markdown",
   "id": "5a4fdba8",
   "metadata": {},
   "source": [
    "모듈과 패키지\n",
    "\n",
    "다른 사람이 만든 프로그램을 내 프로그램에서 사용할 수 있게\n",
    "만들어 주는 모듈과 패키지에 대해 배웁니다.\n",
    "파이썬의 다양한 오픈 소스 패키지를 체험해 봅니다."
   ]
  },
  {
   "cell_type": "markdown",
   "id": "4cabbf9b",
   "metadata": {},
   "source": [
    "목 차\n",
    "\n",
    "1.모듈과 패키지\n",
    "\n",
    "2.matplotlib"
   ]
  },
  {
   "cell_type": "markdown",
   "id": "74c6d6ca",
   "metadata": {},
   "source": [
    "모듈이란?\n",
    "\n",
    "다른 코드에서 사용할 수 있도록 열어 놓은 코드"
   ]
  },
  {
   "cell_type": "markdown",
   "id": "10f8eac0",
   "metadata": {},
   "source": [
    "모듈 불러오기 1"
   ]
  },
  {
   "cell_type": "code",
   "execution_count": 4,
   "id": "ac952dec",
   "metadata": {},
   "outputs": [
    {
     "name": "stdout",
     "output_type": "stream",
     "text": [
      "0123456789\n",
      "!\"#$%&'()*+,-./:;<=>?@[\\]^_`{|}~\n",
      "abcdefghijklmnopqrstuvwxyzABCDEFGHIJKLMNOPQRSTUVWXYZ\n"
     ]
    }
   ],
   "source": [
    "import string\n",
    "\n",
    "print(string.digits) \n",
    "# 0123456789\n",
    "print(string.punctuation) \n",
    "# !\"#$%&'()*+,-./:;<=>?@[\\]^_`{|}~\n",
    "print(string.ascii_letters) \n",
    "# abcdefghijklmnopqrstuvwxyzABCDEFGHIJKLMNOPQRSTUVWXYZ"
   ]
  },
  {
   "cell_type": "markdown",
   "id": "4f23b0f5",
   "metadata": {},
   "source": [
    "모듈 불러오기 2"
   ]
  },
  {
   "cell_type": "code",
   "execution_count": 6,
   "id": "6febf868",
   "metadata": {},
   "outputs": [
    {
     "name": "stdout",
     "output_type": "stream",
     "text": [
      "0123456789\n",
      "!\"#$%&'()*+,-./:;<=>?@[\\]^_`{|}~\n"
     ]
    }
   ],
   "source": [
    "from string import digits, punctuation\n",
    "\n",
    "print(digits)\n",
    "\n",
    "print(punctuation)"
   ]
  },
  {
   "cell_type": "markdown",
   "id": "a96b8f32",
   "metadata": {},
   "source": [
    "모든 코드는 모듈이다"
   ]
  },
  {
   "cell_type": "code",
   "execution_count": null,
   "id": "0f24a1b5",
   "metadata": {},
   "outputs": [],
   "source": [
    "# posts.py\n",
    "\n",
    "class Post:\n",
    "    pass\n",
    "\n",
    "class ImagePost(Post):\n",
    "    pass"
   ]
  },
  {
   "cell_type": "code",
   "execution_count": null,
   "id": "3c07d48c",
   "metadata": {},
   "outputs": [],
   "source": [
    "# timeline.py\n",
    "\n",
    "from posts import Post, ImagePost\n",
    "\n",
    "timeline.add(Post(\"Hello!\"))\n",
    "timeline.add(ImagePost(\"#food\", []))"
   ]
  },
  {
   "cell_type": "markdown",
   "id": "6228d584",
   "metadata": {},
   "source": [
    "패키지란?\n",
    "\n",
    "모듈을 모아 놓은 폴더\n",
    "module, package(포장)"
   ]
  },
  {
   "cell_type": "markdown",
   "id": "87bef186",
   "metadata": {},
   "source": [
    "패키지\n",
    "\n",
    "facebook\n",
    "    - posts.py : post,imagepost\n",
    "    - user.py : user info\n",
    "    - media.py : video, image\n",
    "    - ads.py : ad"
   ]
  },
  {
   "cell_type": "markdown",
   "id": "9d9b1df4",
   "metadata": {},
   "source": [
    "패키지 안의 모듈"
   ]
  },
  {
   "cell_type": "code",
   "execution_count": null,
   "id": "73497efb",
   "metadata": {},
   "outputs": [],
   "source": [
    "import facebook.users\n",
    "from facebook import media\n",
    "from facebook.posts import Post, ImagePost"
   ]
  },
  {
   "cell_type": "markdown",
   "id": "281ef412",
   "metadata": {},
   "source": [
    "matplotlib를 사용해 보자!\n",
    "\n",
    "math / plot(점을 찍다 그래프를 그리다) /  library"
   ]
  },
  {
   "cell_type": "markdown",
   "id": "15dd0c97",
   "metadata": {},
   "source": [
    "matplotlib"
   ]
  },
  {
   "cell_type": "code",
   "execution_count": 7,
   "id": "24727cae",
   "metadata": {},
   "outputs": [
    {
     "data": {
      "text/plain": [
       "<function matplotlib.pyplot.show(close=None, block=None)>"
      ]
     },
     "execution_count": 7,
     "metadata": {},
     "output_type": "execute_result"
    },
    {
     "data": {
      "image/png": "[encoded data removed]",
      "text/plain": [
       "<Figure size 432x288 with 1 Axes>"
      ]
     },
     "metadata": {
      "needs_background": "light"
     },
     "output_type": "display_data"
    }
   ],
   "source": [
    "# 패키지에서 pyplot을 가져온다 \n",
    "# as plt로 사용하겠다.\n",
    "import matplotlib.pyplot as plt\n",
    "\n",
    "# x 축\n",
    "x = [ x for x in range(5)]\n",
    "# y 축 높이\n",
    "y = [3, 5, 8, 2, 5]\n",
    "# plt.bar 막대 그래프\n",
    "# align = \"center\" <- 칸에 중앙에 오게\n",
    "plt.bar(x,y,align = \"center\")\n",
    "# print() 와 같다\n",
    "plt.show"
   ]
  },
  {
   "cell_type": "markdown",
   "id": "e3d3bb40",
   "metadata": {},
   "source": [
    "bar()"
   ]
  },
  {
   "cell_type": "code",
   "execution_count": null,
   "id": "66f0b790",
   "metadata": {},
   "outputs": [],
   "source": [
    "import matplotlib.pyplot as plt\n",
    "\n",
    "# x는 각 막대의 위치\n",
    "# y는 높이\n",
    "plt.bar(x, y)\n",
    "\n",
    "plt.show()"
   ]
  },
  {
   "cell_type": "code",
   "execution_count": 9,
   "id": "ae5c3b6a",
   "metadata": {},
   "outputs": [
    {
     "data": {
      "image/png": "[encoded data removed]",
      "text/plain": [
       "<Figure size 432x288 with 1 Axes>"
      ]
     },
     "metadata": {
      "needs_background": "light"
     },
     "output_type": "display_data"
    }
   ],
   "source": [
    "import matplotlib.pyplot as plt\n",
    "\n",
    "x = range(5) # [0,1,2,3,4] # 위치\n",
    "y = [5,4,3,2,1] # 높이\n",
    "\n",
    "plt.bar(x, y)\n",
    "plt.show()"
   ]
  },
  {
   "cell_type": "markdown",
   "id": "d7772984",
   "metadata": {},
   "source": [
    "xticks()\n",
    "x/ticks"
   ]
  },
  {
   "cell_type": "code",
   "execution_count": 11,
   "id": "875a1a13",
   "metadata": {},
   "outputs": [
    {
     "data": {
      "image/png": "[encoded data removed]",
      "text/plain": [
       "<Figure size 432x288 with 1 Axes>"
      ]
     },
     "metadata": {
      "needs_background": "light"
     },
     "output_type": "display_data"
    }
   ],
   "source": [
    "import matplotlib.pyplot as plt\n",
    "\n",
    "# x축 범위\n",
    "pos = range(4)\n",
    "# x축에 바인딩할 years\n",
    "years = [2015, 2016, 2017, 2018]\n",
    "\n",
    "# y축을 나타낼 온도\n",
    "temperatures = [17, 16, 19, 22]\n",
    "\n",
    "# 막대그래프를 그림\n",
    "# pos x축, y축 온도\n",
    "plt.bar(pos,temperatures)\n",
    "\n",
    "# xticks : pos를 years로 라벨링함\n",
    "plt.xticks(pos, years)\n",
    "\n",
    "# 그래프를 그림\n",
    "plt.show()"
   ]
  },
  {
   "cell_type": "markdown",
   "id": "4805bc79",
   "metadata": {},
   "source": [
    "matplotlib 기초\n",
    "matplotlib은 Python의 가장 기초적이지만 강력한 그래프 모듈입니다. matplotlib을 이용하면 단 몇 줄의 Python 코드만으로도 대부분의 그래프를 쉽게 그려낼 수 있습니다.\n",
    "\n",
    "실습 1에서는 matplotlib을 이용해 막대그래프를 그려 보겠습니다. 채점되지 않는 실습이니 가벼운 마음으로 시작합시다.\n",
    "\n",
    "날짜별 기온 그래프 그리기\n",
    "이번 실습에서는 2018년 7월 1일부터 31일까지의 서울시의 일별 최고기온을 막대 그래프로 그려보겠습니다.\n",
    "\n",
    "먼저, 각 막대의 위치를 결정할 x축 리스트를 생성해야 합니다. 막대의 위치는 0부터 1씩 증가하는 정수로 선언됩니다. 즉, 10개의 막대를 빈 칸 없이 그리고 싶다면 0부터 9까지의 리스트를 생성하면 됩니다. 코드의 x 값에 우리의 데이터에 맞는 적절한 길이의 리스트를 넣어 주세요.\n",
    "\n",
    "이제는 막대의 높이를 설정할 기온 데이터가 필요합니다. 이 값은 코드에 미리 작성되어 있습니다.\n",
    "\n",
    "데이터가 모두 준비되었으니, 막대 그래프를 그려 보겠습니다.\n",
    "\n",
    "plt.bar() 함수를 이용하면 막대 그래프를 그릴 수 있습니다. x와 temperatures를 함수의 인자로 순서대로 넣고, 코드를 실행해 보세요."
   ]
  },
  {
   "cell_type": "code",
   "execution_count": 15,
   "id": "87f87d87",
   "metadata": {},
   "outputs": [
    {
     "data": {
      "image/png": "[encoded data removed]",
      "text/plain": [
       "<Figure size 432x288 with 1 Axes>"
      ]
     },
     "metadata": {
      "needs_background": "light"
     },
     "output_type": "display_data"
    }
   ],
   "source": [
    "import matplotlib.pyplot as plt\n",
    "\n",
    "# 각 막대의 위치를 결정할 리스트를 생성합니다.\n",
    "x = range(1,32)\n",
    "\n",
    "# 각 일 별 최고기온입니다.\n",
    "temperatures = [\n",
    "    22.8, 25.3, 32.6, 31.8, 29.0, 27.1, 29.2,\n",
    "    28.1, 24.2, 26.5, 29.5, 28.2, 30.9, 31.9,\n",
    "    33.2, 34.0, 32.1, 33.2, 34.1, 34.7, 36.9,\n",
    "    38.0, 35.7, 36.8, 34.1, 33.7, 35.4, 35.2,\n",
    "    36.7, 36.9, 38.3\n",
    "]\n",
    "\n",
    "# 막대 그래프를 그립니다.\n",
    "plt.bar(x, temperatures, align = \"center\")\n",
    "\n",
    "plt.show()"
   ]
  },
  {
   "cell_type": "markdown",
   "id": "710f0e97",
   "metadata": {},
   "source": [
    "matplotlib에서 한글 표시하기\n",
    "matplotlib은 기본적으로 로마자 사용 환경에 최적화되어 있습니다. matplotlib의 기본 폰트가 한글을 지원하지 않기 때문에, 차트의 제목, 축, 범주 등에 한글 텍스트를 넣으려면 한글을 지원하는 폰트로 교체해야 합니다.\n",
    "\n",
    "이 실습에서는 matplotlib 폰트 매니저를 통해 폰트를 설정하는 방법을 배워 보겠습니다.\n",
    "\n",
    "미리 작성된 코드를 따라 가며 사용 방법을 익혀 보세요.\n",
    "\n",
    "matplotlib.font_manager를 import 합니다.\n",
    "font_manager 모듈 내에는 FontProperties 클래스가 정의되어 있습니다. 생성자에 폰트의 이름을 넣고 인스턴스를 생성합니다.\n",
    "텍스트를 추가할 때마다 fontproperties 매개변수에 생성한 FontProperties의 인스턴스를 인자로 넣어 줍니다."
   ]
  },
  {
   "cell_type": "code",
   "execution_count": 17,
   "id": "6913b030",
   "metadata": {},
   "outputs": [
    {
     "data": {
      "image/png": "[encoded data removed]",
      "text/plain": [
       "<Figure size 432x288 with 1 Axes>"
      ]
     },
     "metadata": {
      "needs_background": "light"
     },
     "output_type": "display_data"
    }
   ],
   "source": [
    "import matplotlib.pyplot as plt\n",
    "# 폰트 바꾸기 위함\n",
    "import matplotlib.font_manager as fm\n",
    "#from matplotlib import rc\n",
    "\n",
    "# 폰트 생성자에 이름을 넣어줌(경로)\n",
    "#      클래스로 생성\n",
    "font = fm.FontProperties(fname='./NanumBarunGothic.ttf')\n",
    "\n",
    "# x축 각각의 막대 위치 포지션\n",
    "x = range(31)\n",
    "# 막대 높이는 기온 y축\n",
    "temperatures = [\n",
    "    22.8, 25.3, 32.6, 31.8, 29.0, 27.1, 29.2,\n",
    "    28.1, 24.2, 26.5, 29.5, 28.2, 30.9, 31.9,\n",
    "    33.2, 34.0, 32.1, 33.2, 34.1, 34.7, 36.9,\n",
    "    38.0, 35.7, 36.8, 34.1, 33.7, 35.4, 35.2,\n",
    "    36.7, 36.9, 38.3\n",
    "]\n",
    "\n",
    "ticks = []\n",
    "for date in x:\n",
    "    ticks.append(f\"7월 {date + 1}일\")\n",
    "\n",
    "# 막대 그래프를 그립니다.\n",
    "plt.bar(x, temperatures)\n",
    "\n",
    "# 그래프의 제목을 설정합니다. 제목은 상단 중앙에 생성됩니다.\n",
    "plt.title('2018 7월 서울 최고 기온', fontproperties=font)\n",
    "\n",
    "# 그래프의 x축에 들어갈 tick 텍스트를 설정해 줍니다.\n",
    "# xticks 값 변경 x을 ticks로 바꾸고\n",
    "# fontproperties = font로 변경\n",
    "# rotation = \"vertical\" # 수직방향으로\n",
    "plt.xticks(x, ticks, \n",
    "           fontproperties=font, # 폰트 설정\n",
    "           rotation = \"vertical\") # 수직방향으로 변경\n",
    "\n",
    "# 출력\n",
    "plt.show()\n"
   ]
  },
  {
   "cell_type": "markdown",
   "id": "9dd8541b",
   "metadata": {},
   "source": [
    "꺾은선 그래프 그리기\n",
    "기온의 변화를 쉽게 관찰하기에는, 막대 그래프보다 꺾은선 그래프가 더 적절하겠죠? matplotlib은 막대 그래프 외에도 scatter plot, 꺾은선 그래프 등의 다양한 차트 형식을 제공하고 있습니다.\n",
    "\n",
    "plt.bar() 함수 대신, plt.plot() 함수를 사용하면 꺾은선 그래프를 그릴 수 있습니다.\n",
    "\n",
    "영상의 설명을 따라, 2018년 7월의 서울 일자별 최고 기온을 나타내는 꺾은선 그래프를 그려 보세요."
   ]
  },
  {
   "cell_type": "code",
   "execution_count": 19,
   "id": "e9e3a70b",
   "metadata": {},
   "outputs": [
    {
     "data": {
      "image/png": "[encoded data removed]",
      "text/plain": [
       "<Figure size 432x288 with 1 Axes>"
      ]
     },
     "metadata": {
      "needs_background": "light"
     },
     "output_type": "display_data"
    }
   ],
   "source": [
    "import matplotlib.pyplot as plt\n",
    "import matplotlib.font_manager as fm\n",
    "\n",
    "font = fm.FontProperties(fname='./NanumBarunGothic.ttf')\n",
    "\n",
    "x = range(31)\n",
    "temperatures = [\n",
    "    22.8, 25.3, 32.6, 31.8, 29.0, 27.1, 29.2,\n",
    "    28.1, 24.2, 26.5, 29.5, 28.2, 30.9, 31.9,\n",
    "    33.2, 34.0, 32.1, 33.2, 34.1, 34.7, 36.9,\n",
    "    38.0, 35.7, 36.8, 34.1, 33.7, 35.4, 35.2,\n",
    "    36.7, 36.9, 38.3\n",
    "]\n",
    "\n",
    "ticks = []\n",
    "for date in x :\n",
    "    ticks.append(f\"7월 {date + 1}일\")\n",
    "\n",
    "# 꺾은선 그래프를 그립니다.\n",
    "plt.plot(x, temperatures)\n",
    "\n",
    "\n",
    "# 그래프의 제목을 설정합니다. 제목은 상단 중앙에 생성됩니다.\n",
    "plt.title('2018년 7월 서울 최고 기온', fontproperties=font)\n",
    "\n",
    "# 그래프의 x축에 들어갈 tick 텍스트를 설정해 줍니다.\n",
    "plt.xticks(x, ticks, \n",
    "           fontproperties=font,\n",
    "           rotation =\"vertical\")\n",
    "\n",
    "# 엘리스 화면에 그래프를 표시합니다.\n",
    "plt.savefig('0456.png')\n",
    "plt.show()\n",
    "# elice_utils.send_image('graph.png')"
   ]
  },
  {
   "cell_type": "code",
   "execution_count": 20,
   "id": "854143bc",
   "metadata": {},
   "outputs": [
    {
     "data": {
      "image/png": "[encoded data removed]",
      "text/plain": [
       "<Figure size 432x288 with 1 Axes>"
      ]
     },
     "metadata": {
      "needs_background": "light"
     },
     "output_type": "display_data"
    }
   ],
   "source": [
    "import matplotlib.pyplot as plt\n",
    "import matplotlib.font_manager as fm\n",
    "\n",
    "font = fm.FontProperties(fname='./NanumBarunGothic.ttf')\n",
    "\n",
    "x = range(31)\n",
    "temperatures = [\n",
    "    22.8, 25.3, 32.6, 31.8, 29.0, 27.1, 29.2,\n",
    "    28.1, 24.2, 26.5, 29.5, 28.2, 30.9, 31.9,\n",
    "    33.2, 34.0, 32.1, 33.2, 34.1, 34.7, 36.9,\n",
    "    38.0, 35.7, 36.8, 34.1, 33.7, 35.4, 35.2,\n",
    "    36.7, 36.9, 38.3\n",
    "]\n",
    "\n",
    "ticks = []\n",
    "for date in x :\n",
    "    ticks.append(f\"7월 {date + 1}일\")\n",
    "\n",
    "# scatter 그래프를 그립니다.\n",
    "# 데이터의 경향성을 확인할수 있습니다.\n",
    "# 오존농도와 기온 같이 전반적인 경향성을 볼때\n",
    "# scatterplot을 사용하는 것이 좋다.\n",
    "plt.scatter(x, temperatures)\n",
    "\n",
    "\n",
    "# 그래프의 제목을 설정합니다. 제목은 상단 중앙에 생성됩니다.\n",
    "plt.title('2018년 7월 서울 최고 기온', fontproperties=font)\n",
    "\n",
    "# 그래프의 x축에 들어갈 tick 텍스트를 설정해 줍니다.\n",
    "plt.xticks(x, ticks, \n",
    "           fontproperties=font,\n",
    "           rotation =\"vertical\")\n",
    "\n",
    "# 엘리스 화면에 그래프를 표시합니다.\n",
    "plt.savefig('0456.png')\n",
    "plt.show()\n",
    "# elice_utils.send_image('graph.png')"
   ]
  }
 ],
 "metadata": {
  "kernelspec": {
   "display_name": "Python 3",
   "language": "python",
   "name": "python3"
  },
  "language_info": {
   "codemirror_mode": {
    "name": "ipython",
    "version": 3
   },
   "file_extension": ".py",
   "mimetype": "text/x-python",
   "name": "python",
   "nbconvert_exporter": "python",
   "pygments_lexer": "ipython3",
   "version": "3.8.8"
  }
 },
 "nbformat": 4,
 "nbformat_minor": 5
}
