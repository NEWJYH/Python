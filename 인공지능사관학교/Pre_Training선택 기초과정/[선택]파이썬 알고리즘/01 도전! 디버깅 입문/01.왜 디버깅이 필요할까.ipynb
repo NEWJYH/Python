{
 "cells": [
  {
   "cell_type": "markdown",
   "id": "06a19292",
   "metadata": {},
   "source": [
    "일반적인 코딩 수업은...\n",
    "\n",
    "어떻게 하면 좋은 프로그램을 만들까?\n",
    "좋은 코드를 짜려면 어떻게 해야 할까?"
   ]
  },
  {
   "cell_type": "markdown",
   "id": "cb6c0806",
   "metadata": {},
   "source": [
    "도전! 디버깅 입문 수업은...\n",
    "\n",
    "어떻게 하면 실수를 덜 할 수 있을까?\n",
    "틀린 코드를 어떻게 고쳐야 할까?"
   ]
  },
  {
   "cell_type": "markdown",
   "id": "ba6c5675",
   "metadata": {},
   "source": [
    "에러를 만났을 때"
   ]
  },
  {
   "cell_type": "code",
   "execution_count": 3,
   "id": "194e054e",
   "metadata": {},
   "outputs": [
    {
     "ename": "NameError",
     "evalue": "name 'yourname' is not defined",
     "output_type": "error",
     "traceback": [
      "\u001b[1;31m---------------------------------------------------------------------------\u001b[0m",
      "\u001b[1;31mNameError\u001b[0m                                 Traceback (most recent call last)",
      "\u001b[1;32m<ipython-input-3-ebbe1089894f>\u001b[0m in \u001b[0;36m<module>\u001b[1;34m\u001b[0m\n\u001b[0;32m      1\u001b[0m \u001b[1;32mdef\u001b[0m \u001b[0mgreeting\u001b[0m\u001b[1;33m(\u001b[0m\u001b[0myour_name\u001b[0m\u001b[1;33m)\u001b[0m\u001b[1;33m:\u001b[0m\u001b[1;33m\u001b[0m\u001b[1;33m\u001b[0m\u001b[0m\n\u001b[0;32m      2\u001b[0m     \u001b[0mprint\u001b[0m\u001b[1;33m(\u001b[0m\u001b[1;34mf\"Hello, {yourname}!\"\u001b[0m\u001b[1;33m)\u001b[0m\u001b[1;33m\u001b[0m\u001b[1;33m\u001b[0m\u001b[0m\n\u001b[1;32m----> 3\u001b[1;33m \u001b[0mgreeting\u001b[0m\u001b[1;33m(\u001b[0m\u001b[1;34m\"Donald Trump\"\u001b[0m\u001b[1;33m)\u001b[0m\u001b[1;33m\u001b[0m\u001b[1;33m\u001b[0m\u001b[0m\n\u001b[0m",
      "\u001b[1;32m<ipython-input-3-ebbe1089894f>\u001b[0m in \u001b[0;36mgreeting\u001b[1;34m(your_name)\u001b[0m\n\u001b[0;32m      1\u001b[0m \u001b[1;32mdef\u001b[0m \u001b[0mgreeting\u001b[0m\u001b[1;33m(\u001b[0m\u001b[0myour_name\u001b[0m\u001b[1;33m)\u001b[0m\u001b[1;33m:\u001b[0m\u001b[1;33m\u001b[0m\u001b[1;33m\u001b[0m\u001b[0m\n\u001b[1;32m----> 2\u001b[1;33m     \u001b[0mprint\u001b[0m\u001b[1;33m(\u001b[0m\u001b[1;34mf\"Hello, {yourname}!\"\u001b[0m\u001b[1;33m)\u001b[0m\u001b[1;33m\u001b[0m\u001b[1;33m\u001b[0m\u001b[0m\n\u001b[0m\u001b[0;32m      3\u001b[0m \u001b[0mgreeting\u001b[0m\u001b[1;33m(\u001b[0m\u001b[1;34m\"Donald Trump\"\u001b[0m\u001b[1;33m)\u001b[0m\u001b[1;33m\u001b[0m\u001b[1;33m\u001b[0m\u001b[0m\n",
      "\u001b[1;31mNameError\u001b[0m: name 'yourname' is not defined"
     ]
    }
   ],
   "source": [
    "def greeting(your_name):\n",
    "    print(f\"Hello, {yourname}!\") # <- _\n",
    "greeting(\"Donald Trump\")"
   ]
  },
  {
   "cell_type": "code",
   "execution_count": 4,
   "id": "75c591c8",
   "metadata": {},
   "outputs": [
    {
     "name": "stdout",
     "output_type": "stream",
     "text": [
      "Hello, Donald Trump!\n"
     ]
    }
   ],
   "source": [
    "def greeting(your_name):\n",
    "    print(f\"Hello, {your_name}!\")\n",
    "greeting(\"Donald Trump\")"
   ]
  },
  {
   "cell_type": "markdown",
   "id": "ad16f46f",
   "metadata": {},
   "source": [
    "수강 목표\n",
    "\n",
    "버그를 만났을 때 당황하지 않게 됩니다.\n",
    "\n",
    "버그를 해결하는 다양한 방법들을 알게 됩니다.\n",
    "\n",
    "안전한 코드를 작성하는 법을 배웁니다."
   ]
  },
  {
   "cell_type": "markdown",
   "id": "b402f4c2",
   "metadata": {},
   "source": [
    "수강 대상\n",
    "\n",
    "에러를 보기만 해도 안절부절 못 하시는 분들\n",
    "\n",
    "파이썬을 쓸 줄은 알지만 혼자 코딩하는 것이 두려우신 분들\n",
    "\n",
    "안전하고 사용자를 고려한 프로그램을 만들고 싶으신 분들"
   ]
  },
  {
   "cell_type": "markdown",
   "id": "8640790d",
   "metadata": {},
   "source": [
    "커리큘럼 \n",
    "\n",
    "1. 왜 디버깅이 필요할까?\n",
    "    - 프로그래머와 사용자가 겪을 수 있는 다양한 상황을 이해 \n",
    "    - 디버깅이 무엇인지, 디버깅이 왜 중요한지 배웁니다.\n",
    "    \n",
    "2. 에러 읽고 대처하기\n",
    "    - 코딩을 하면서 만나는 다양한 에러 코드를 이해하고,\n",
    "      이에 대처하는 방법을 배워 봅니다.\n",
    "    - 에러를 마주했을 때의 공포감을 극복합니다.\n",
    "    \n",
    "3. 나의 첫 테스트 코드\n",
    "    - 코드가 바뀌어도 올바르게 동작할 수 있도록 도와 주는\n",
    "      테스트 코드를 작성해 봅니다.\n",
    "      \n",
    "4. 실전 디버깅!\n",
    "    - 여러 가지 실전 문제를 풀어 보며,\n",
    "      다양한 버그를 찾아내고 \n",
    "      안전한 코드를 설계하는 능력을 기릅니다."
   ]
  },
  {
   "cell_type": "markdown",
   "id": "2b084317",
   "metadata": {},
   "source": [
    "1. 왜 디버깅이 필요할까?\n",
    "    - 프로그래머와 사용자가 겪을 수 있는 다양한 상황을 이해 \n",
    "    - 디버깅이 무엇인지, 디버깅이 왜 중요한지 배웁니다."
   ]
  },
  {
   "cell_type": "markdown",
   "id": "ffb1a329",
   "metadata": {},
   "source": [
    "목  차\n",
    "\n",
    "1. 버그의 예외\n",
    "\n",
    "2. 디버깅이란?\n",
    "\n",
    "3. 디버깅이 중요한 이유"
   ]
  },
  {
   "cell_type": "markdown",
   "id": "9a7a99e7",
   "metadata": {},
   "source": [
    "[실습] 디버깅 문제 예시"
   ]
  },
  {
   "cell_type": "markdown",
   "id": "3b7c8811",
   "metadata": {},
   "source": [
    "문자열 덧셈\n",
    "“엥? 왜 오류가 나는거지?”\n",
    "\n",
    "연구실에서 근무하는 박00씨는 실험 결과값을 파일로 정리하는 도중에 오류와 마주쳤습니다.\n",
    "\n",
    "실험 결과값 파일명을 각각\n",
    "\n",
    "결과1.txt, 결과2.txt, 결과3.txt …\n",
    "으로 정리하려고 하는 도중에 오류가 발생한 듯 합니다.\n",
    "\n",
    "박00씨를 도와 문제를 해결해봅시다.\n",
    "\n",
    "\n",
    "문제 설명\n",
    "실험 데이터 출력 파일의 양을 나타내는 양의 정수인 nnn이 입력됩니다.\n",
    "\n",
    "다음 nnn줄에 걸쳐 각각 올바르게 파일명을 출력하세요.\n",
    "\n",
    "입출력 예시\n",
    "입력\n",
    "5\n",
    "Copy\n",
    "출력\n",
    "결과1.txt\n",
    "결과2.txt\n",
    "결과3.txt\n",
    "결과4.txt\n",
    "결과5.txt"
   ]
  },
  {
   "cell_type": "code",
   "execution_count": null,
   "id": "808e661b",
   "metadata": {},
   "outputs": [],
   "source": [
    "n = int(input())\n",
    "result = []\n",
    "\n",
    "for i in range(1, n+1) :\n",
    "    result.append(\"결과\" + str(i) + \".txt\");\n",
    "\n",
    "for r in result :\n",
    "    print(r)"
   ]
  },
  {
   "cell_type": "markdown",
   "id": "b39fcf1a",
   "metadata": {},
   "source": []
  },
  {
   "cell_type": "markdown",
   "id": "8464915c",
   "metadata": {},
   "source": [
    "1. 버그의 예외"
   ]
  },
  {
   "cell_type": "markdown",
   "id": "93b6b47f",
   "metadata": {},
   "source": [
    "버그(Bug)\n",
    "\n",
    "코드가 원하는 대로 동작하지 않는 모든 경우\n",
    "\n",
    "- 프로그램이 죽는 (크래시가 발생하는) 경우\n",
    "- 예상한 속도보다 훨씬 느리게 동작하는 경우\n",
    "- 잘못된 결과를 출력하는 경우\n",
    "- 코드 설계 상 일어나면 안 되는 상황이 일어난 경우"
   ]
  },
  {
   "cell_type": "markdown",
   "id": "c8dbb120",
   "metadata": {},
   "source": [
    "예외 (Exception)\n",
    "\n",
    "일반적이지 않은 코드의 동작\n",
    "\n",
    "- 사용자가 프로그램을 강제 종료하는 경우\n",
    "- 분수의 분모에 0이 들어가는 경우\n",
    "- 열고자 하는 파일이 존재하지 않는 경우\n",
    "- 인터넷이 불안정한 경우"
   ]
  },
  {
   "cell_type": "markdown",
   "id": "8d8ed5ac",
   "metadata": {},
   "source": [
    "예외 처리 (Exception handling)\n",
    "\n",
    "인터넷 상의 파일을 불러옴\n",
    "\n",
    "-> 불러오는 동안 로딩 화면을 띄움\n",
    "\n",
    "-> 다 불러온 뒤 파일의 내용을 화면에 표시\n",
    "\n",
    "#위 상황 중 파일을 불러오는 중에 인터넷이 끊겼다면?\n",
    "-> 처리되지 않은 예외는 버그를 만들 수 있음!"
   ]
  },
  {
   "cell_type": "markdown",
   "id": "b114ddb8",
   "metadata": {},
   "source": [
    "예외 처리 (Exception handling)\n",
    "\n",
    "업로드하고 싶은 사진을 선택 -> 사진을 SNS에 업로드\n",
    "\n",
    "#사진 업로드 중에 베터리가 없어 휴대폰이 꺼졌다면?\n",
    "-> 개발자는 사용자의 다양한 상황을 예측할 수 있어야 함"
   ]
  },
  {
   "cell_type": "markdown",
   "id": "b84f917e",
   "metadata": {},
   "source": [
    "2. 디버깅이란?"
   ]
  },
  {
   "cell_type": "markdown",
   "id": "25398194",
   "metadata": {},
   "source": [
    "디버깅이란?\n",
    "\n",
    "사용/테스트 중 찾아낸 버그를 없애 나가는 과정\n",
    "\n",
    "- 버그의 원인을 찾고\n",
    "- 발생한 버그를 해결하고\n",
    "- 비슷한 버그의 재발을 방지하는 것"
   ]
  },
  {
   "cell_type": "markdown",
   "id": "2f2e19e2",
   "metadata": {},
   "source": [
    "버그의 원인 찾기\n",
    "\n",
    "- 어떤 상황에서, 어떤 조작을 했을 때 일어나는가?\n",
    "- 얼마나 잦은 빈도로 발생하는가?\n",
    "- 에러 메시지가 뜬다면 내용이 무엇인가?"
   ]
  },
  {
   "cell_type": "markdown",
   "id": "1d2bdabf",
   "metadata": {},
   "source": [
    "발생한 버그 해결하기\n",
    "\n",
    "- 버그가 발생한 원인을 해결하려면 어떻게 해야 하는가?\n",
    "- 새로운 코드가 일으킬 새로운 버그는 없는가?"
   ]
  },
  {
   "cell_type": "markdown",
   "id": "3f1e1164",
   "metadata": {},
   "source": [
    "버그 재발 방지하기\n",
    "\n",
    "- 버그를 일으킨 코드가 다른곳에서 사용되는가?\n",
    "- 비슷한 설계를 이용한 다른 코드는 없는가?\n",
    "- 고친 코드의 약점은 없는가?\n",
    "- 코드를 지속적으로 검증할 방법은 무엇인가?"
   ]
  },
  {
   "cell_type": "markdown",
   "id": "f9a0895a",
   "metadata": {},
   "source": [
    "3. 디버깅이 중요한 이유"
   ]
  },
  {
   "cell_type": "markdown",
   "id": "d1c4e5b8",
   "metadata": {},
   "source": [
    "사용자 경험과 직결\n",
    "\n",
    "버그로 인한 불쾌한 경험 > 새로운 기능"
   ]
  },
  {
   "cell_type": "markdown",
   "id": "af118056",
   "metadata": {},
   "source": [
    "처음부터 완벽한 코드는 없다\n",
    "\n",
    "코드가 잘 동작하지 않을 때       어... 왜 안 되지?\n",
    "코드가 한 번에 잘동할 때         어... 왜 벌써 되지?\n",
    "\n",
    "빠르게 문제를 파악 / 해결 하는것이 능력! "
   ]
  },
  {
   "cell_type": "markdown",
   "id": "34c23841",
   "metadata": {},
   "source": [
    "실패는 성공의 어머니\n",
    "\n",
    "많은 버그를 경험할 수록,\n",
    "더 안전한 코드를 설계하는 능력이 생긴다!"
   ]
  }
 ],
 "metadata": {
  "kernelspec": {
   "display_name": "Python 3",
   "language": "python",
   "name": "python3"
  },
  "language_info": {
   "codemirror_mode": {
    "name": "ipython",
    "version": 3
   },
   "file_extension": ".py",
   "mimetype": "text/x-python",
   "name": "python",
   "nbconvert_exporter": "python",
   "pygments_lexer": "ipython3",
   "version": "3.8.8"
  }
 },
 "nbformat": 4,
 "nbformat_minor": 5
}
