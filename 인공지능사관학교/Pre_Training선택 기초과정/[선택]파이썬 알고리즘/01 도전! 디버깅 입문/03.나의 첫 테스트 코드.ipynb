{
 "cells": [
  {
   "cell_type": "markdown",
   "id": "8eed3c4e",
   "metadata": {},
   "source": [
    "[이론]\n",
    "왜 테스트 코드가 필요한가요?"
   ]
  },
  {
   "cell_type": "markdown",
   "id": "5abc79dc",
   "metadata": {},
   "source": [
    "커리큘럼\n",
    "\n",
    "나의 첫 테스트 코드\n",
    "\n",
    "- 코드가 바뀌어도 올바르게 동작할 수 있도록 도와 주는\n",
    "  테스트 코드를 작성해 봅니다."
   ]
  },
  {
   "cell_type": "markdown",
   "id": "8088f5a9",
   "metadata": {},
   "source": [
    "목 차\n",
    "\n",
    "1. 왜 테스트 코드가 필요한가요?\n",
    "\n",
    "2. 유닛 테스트\n",
    "\n",
    "3. 파이썬의 unittest"
   ]
  },
  {
   "cell_type": "markdown",
   "id": "e79a4293",
   "metadata": {},
   "source": [
    "1. 왜 테스트 코드가 필요한가요?"
   ]
  },
  {
   "cell_type": "code",
   "execution_count": null,
   "id": "31e652e2",
   "metadata": {},
   "outputs": [],
   "source": [
    "def average(numbers):\n",
    "    return sum(numbers) / len(numbers)"
   ]
  },
  {
   "cell_type": "markdown",
   "id": "87b43e1a",
   "metadata": {},
   "source": [
    "여기서 드는 의문\n",
    "\n",
    "맞게 짠 코드일까요?"
   ]
  },
  {
   "cell_type": "code",
   "execution_count": null,
   "id": "af28c095",
   "metadata": {},
   "outputs": [],
   "source": [
    "def average(numbers):\n",
    "    if len(numbers) > 0:\n",
    "        return sum(numbers) / len(numbers)\n",
    "    print(\"No numbers!\")"
   ]
  },
  {
   "cell_type": "code",
   "execution_count": null,
   "id": "71f6872e",
   "metadata": {},
   "outputs": [],
   "source": [
    "def average(numbers):\n",
    "    try:\n",
    "        return sum(numbers) / len(numbers)\n",
    "    except ZeroDivisionError:\n",
    "        print(\"No numbers!\")"
   ]
  },
  {
   "cell_type": "markdown",
   "id": "9e62460a",
   "metadata": {},
   "source": [
    "여기서 드는 의문\n",
    "\n",
    "둘은 정말 같은 코드일까요?"
   ]
  },
  {
   "cell_type": "markdown",
   "id": "f3384e98",
   "metadata": {},
   "source": [
    "테스트 코드로 알 수 있는 것\n",
    "\n",
    "- 코드가 설계된 대로 작동하는지\n",
    "- 코드를 수정한 후에도 동일하게 작동하는지"
   ]
  },
  {
   "cell_type": "markdown",
   "id": "77548707",
   "metadata": {},
   "source": []
  },
  {
   "cell_type": "markdown",
   "id": "42bd2d26",
   "metadata": {},
   "source": [
    "2. 유닛 테스트"
   ]
  },
  {
   "cell_type": "markdown",
   "id": "f562ec7d",
   "metadata": {},
   "source": [
    "유닛 테스트\n",
    "\n",
    "Unit Test\n",
    " ↓\n",
    " 가장 작은 단위\n",
    " (= 함수 1개)"
   ]
  },
  {
   "cell_type": "markdown",
   "id": "4df6ae59",
   "metadata": {},
   "source": [
    "유닛 테스트\n",
    "\n",
    "주어진 입력(인자)에 대해\n",
    "예상된 출력(리턴 값)을 내 놓는가?"
   ]
  },
  {
   "cell_type": "code",
   "execution_count": null,
   "id": "2245ef50",
   "metadata": {},
   "outputs": [],
   "source": [
    "def is_palindrome(text): \n",
    "    if text[0] == text[-1]:\n",
    "        ....\n",
    "        \n",
    "# 회문인지? is_palindrome\n",
    "# level , 수박이박수, 토마토"
   ]
  },
  {
   "cell_type": "code",
   "execution_count": null,
   "id": "5f29da9b",
   "metadata": {},
   "outputs": [],
   "source": [
    "# 유닛 테스트\n",
    "# assert <- 조건이 True이면 넘어가고 False이면 경고 출력\n",
    "\n",
    "def test_is_palindrome_level():\n",
    "    assert(is_palindrome(\"level\") == True)\n",
    "    \n",
    "def test_is_palindrome_lever():\n",
    "    assert(is_palindrome(\"lever\") == False)\n",
    "\n",
    "# 설계하기 나름\n",
    "def test_is_palindrome_empty():\n",
    "    assert(is_palindrome(\"\")) # ??\n",
    "    \n",
    "def test_is_palindrome_sentence():\n",
    "    assert(is_palindrome(\"Mr. Owl ate my metal worm\")) \n",
    "    # ??"
   ]
  },
  {
   "cell_type": "markdown",
   "id": "bb42530d",
   "metadata": {},
   "source": [
    "유닛 테스트\n",
    "\n",
    "테스트 작성을 어떻게 작성하느냐에 따라\n",
    "어떤 출력을 의도하는지가 결정됨\n",
    "\n",
    "즉, 테스트 == 설계\n",
    "\n",
    "보통 \n",
    "설계 -> 코드 -> 테스트\n",
    "\n",
    "Test-Priven-Development\n",
    "설계 -> 테스트 -> 코드\n",
    "#쉽게 예외등 오류를 확인할수 있음\n",
    "#취향 / 개발공동체 선택 사항"
   ]
  },
  {
   "cell_type": "markdown",
   "id": "f4438c9d",
   "metadata": {},
   "source": [
    "Palindrome 테스트\n",
    "주어진 문자열이 회문(palindrome) 인지 확인하는 is_palindrome() 함수를 테스트해 보겠습니다.\n",
    "\n",
    "is_palindrome() 함수는 다음과 같은 조건을 만족해야 합니다.\n",
    "\n",
    "하나의 문자열을 매개변수로 받습니다.\n",
    "주어진 문자열이 앞으로 읽어도 뒤로 읽어도 같은 회문이라면, True를 리턴합니다. (예시: madam, level, 다시합창합시다)\n",
    "주어진 문자열에서 대소문자, 공백, 특수문자는 무시합니다. 즉, “다시 합창합시다!” 는 회문입니다.\n",
    "빈 문자열은 회문으로 취급합니다.\n",
    "여러분이 작성할 test_is_palindrome() 함수는 assert를 이용해 함수를 테스트합니다. 테스트할 함수 is_palindrome이 매개변수로 주어집니다. 실행했을 때 아무런 에러가 발생하지 않으면 테스트를 모두 통과한 것입니다.\n",
    "\n",
    "위의 조건을 잘 읽고, 테스트 함수를 완성해 보세요."
   ]
  },
  {
   "cell_type": "code",
   "execution_count": 5,
   "id": "73402275",
   "metadata": {},
   "outputs": [],
   "source": [
    "# helper.py\n",
    "import string\n",
    "\n",
    "def is_palindrome(text):\n",
    "    text = ''.join(text.lower().split())\n",
    "    for char in string.punctuation:\n",
    "        text = text.replace(char, \"\")\n",
    "\n",
    "    if text == \"\":\n",
    "        return True\n",
    "    if text[0] != text[-1]:\n",
    "        return False\n",
    "    return is_palindrome(text[1:-1])\n",
    "\n",
    "# main.py\n",
    "# from helper import is_palindrome\n",
    "\n",
    "# 다양한 예시에 대해 함수를 테스트합니다.\n",
    "def test_is_palindrome(is_palindrome):    \n",
    "   # 문자열 \"madam\"에 대해 테스트합니다. 리턴값은 True여야 합니다.\n",
    "    assert(is_palindrome(\"madam\") == True)\n",
    "\n",
    "    # 아래 assert 안의 False들을 지우고 코드를 작성하면 됩니다.\n",
    "    # 올바른 리턴값은 문제 설명의 함수 설계를 보고 생각해 보세요.\n",
    "\n",
    "    # 문자열 \"adam\"에 대해 테스트합니다.\n",
    "    assert(is_palindrome(\"adam\") == False)\n",
    "\n",
    "    # 빈 문자열에 대해 테스트합니다.\n",
    "    assert(is_palindrome(\"\") == True)\n",
    "\n",
    "    # 문자열 \"Step on no pets\"에 대해 테스트합니다.\n",
    "    assert(is_palindrome(\"Step on no pets\") == True)\n",
    "\n",
    "    # 문자열 \"Madam, I'm Adam\"에 대해 테스트합니다.\n",
    "    assert(is_palindrome(\"Madam, I'm Adam\") == True)\n",
    "\n",
    "\n",
    "    # 문자열 \"소주 만 병만 주소\"에 대해 테스트합니다.\n",
    "    assert(is_palindrome(\"소주 만 병만 주소\") == True)\n",
    "    \n",
    "\n",
    "    # 문자열 \"!소주 만 병만 주소?\"에 대해 테스트합니다.\n",
    "    assert(is_palindrome(\"!소주 만 병만 주소?\") == True)\n",
    "\n",
    "\n",
    "    # 문자열 \"소주 만 병쯤만 주소\"에 대해 테스트합니다.\n",
    "    assert(is_palindrome(\"소주 만 병쯤만 주소\") == False)\n",
    "\n",
    "\n",
    "test_is_palindrome(is_palindrome)"
   ]
  },
  {
   "cell_type": "markdown",
   "id": "c8ba6750",
   "metadata": {},
   "source": [
    "유닛 테스트의 조건"
   ]
  },
  {
   "cell_type": "markdown",
   "id": "4c0cc56e",
   "metadata": {},
   "source": [
    "유닛 테스트의 조건\n",
    "\n",
    "1. 읽기 쉽다\n",
    "2. 독립적이다\n",
    "3. 충분히 작다\n",
    "4. 충분히 넓다"
   ]
  },
  {
   "cell_type": "markdown",
   "id": "1611c065",
   "metadata": {},
   "source": [
    "1. 읽기 쉽다 == 내용을 쉽게 이해"
   ]
  },
  {
   "cell_type": "code",
   "execution_count": null,
   "id": "4d750057",
   "metadata": {},
   "outputs": [],
   "source": [
    "# Bad\n",
    "def test1():\n",
    "    assert(is_palindrome(\"level\")==True)\n",
    "    \n",
    "# Good\n",
    "def test_is_palindrome_level():\n",
    "    assert(is_palindrome(\"level\")==True)"
   ]
  },
  {
   "cell_type": "markdown",
   "id": "41988691",
   "metadata": {},
   "source": [
    "2. 독립적이다"
   ]
  },
  {
   "cell_type": "code",
   "execution_count": null,
   "id": "75335e3d",
   "metadata": {},
   "outputs": [],
   "source": [
    "heater = Heater()\n",
    "def test_control_heater_when_cold():\n",
    "    heater.current_temperature = -5.0\n",
    "    heater.preferred_temperature = 18.0\n",
    "    control_heater(heater)\n",
    "    assert(heater.is_turned_on == True)\n",
    "    # .....\n",
    "    \n",
    "def test_control_heater_when_hot():\n",
    "    heater.current_temperature = 25.0\n",
    "    heater.preferred_temperature = 18.0\n",
    "    control_heater(heater)\n",
    "    assert(heater.is_turned_on == False)\n",
    "    # ....."
   ]
  },
  {
   "cell_type": "code",
   "execution_count": null,
   "id": "1cfd5097",
   "metadata": {},
   "outputs": [],
   "source": [
    "# Case1\n",
    "test_control_heater_when_cold() # PASS\n",
    "test_control_heater_when_hot() # PASS\n",
    "\n",
    "# Case2\n",
    "test_control_heater_when_hot() # FAIL\n",
    "test_control_heater_when_cold() # PASS\n",
    "# !!!! 일정하지 않은 테스트 결과 !!!!\n",
    "\n",
    "# 늘 새로운 객체 변수를 만들어서 실행 해야 한다.\n",
    "def test_control_heater_when_cold():\n",
    "    heater = Heater() # 늘 새로운 히터 생성\n",
    "    heater.current_temperature = -5.0\n",
    "    heater.preferred_temperature = 18.0\n",
    "    control_heater(heater)\n",
    "    assert(heater.is_turned_on == True)\n",
    "    \n",
    "def test_control_heater_when_hot():\n",
    "    heater = Heater() # 늘 새로운 히터 생성\n",
    "    heater.current_temperature = 25.0\n",
    "    heater.preferred_temperature = 18.0\n",
    "    control_heater(heater)\n",
    "    assert(heater.is_turned_on == False)\n",
    "    # .....\n",
    "    \n",
    "# 독립적이다.\n",
    "# 두가지 함수가 공유하고 있는 객체, 변수등이 없어야 한다."
   ]
  },
  {
   "cell_type": "markdown",
   "id": "69069a5a",
   "metadata": {},
   "source": [
    "3. 충분히 작다"
   ]
  },
  {
   "cell_type": "code",
   "execution_count": null,
   "id": "02e50229",
   "metadata": {},
   "outputs": [],
   "source": [
    "# Bad\n",
    "def test_heater():\n",
    "    heater = Heater()\n",
    "    # ....\n",
    "    assert(heater.is_turned_on == True)\n",
    "    assert(read_temperature(heater) == \"..\")    \n",
    "# 두가지 일을 한꺼번에 처리 중이다.\n",
    "# 둘중 어느곳이 틀렸는지 확인 불가.\n",
    "\n",
    "# Good\n",
    "def test_control_heater():\n",
    "    assert(heater.is_turned_on == True)\n",
    "    \n",
    "def test_read_temperature():\n",
    "    assert(read_temperature(hater) == \"..\")\n",
    "# 테스트를 분리하는 것이 좋은 코드    "
   ]
  },
  {
   "cell_type": "markdown",
   "id": "c3c5b113",
   "metadata": {},
   "source": [
    "4. 충분히 넓다\n",
    "\n",
    "들어올 수 있는 다양한 입력들을 충분히 고려해야 한다.\n",
    "                    ↓\n",
    "        즉, edge case를 고려해야 한다."
   ]
  },
  {
   "cell_type": "code",
   "execution_count": null,
   "id": "efa4694d",
   "metadata": {},
   "outputs": [],
   "source": [
    "# 2가지 \n",
    "# - hot (현재 > 희망)\n",
    "# - cold (현재 < 희망)\n",
    "\n",
    "# 설정 온도와 현재 온도가 같은 경우\n",
    "def test_control_heater_temperature_same():\n",
    "    heater.current_temperature = 18.0\n",
    "    heater.preferred_temperature = 18.0\n",
    "    control_heater(heater)\n",
    "    assert(???)\n",
    "    \n",
    "# 현재 온도를 측정할 수 없는 경우\n",
    "def test_control_heater_temperature_none():\n",
    "    heater.current_tempature = None\n",
    "    heater.preferred_temperature = 18.0\n",
    "    control_heater(heater)\n",
    "    assert(???)\n",
    "# 테스트 == 설계\n",
    "\n",
    "# 빈 문자열\n",
    "def test_is_palindrome_empty():\n",
    "    assert(is_palindrome(\"\")==???)\n",
    "    \n",
    "# 특수기호로만 이루어진 문자열\n",
    "def test_is_palindrome_empty():\n",
    "    assert(is_palindrome(\">|!@#;?\")==???)"
   ]
  },
  {
   "cell_type": "markdown",
   "id": "33c14021",
   "metadata": {},
   "source": [
    "[실습2] 스마트 홈 테스트"
   ]
  },
  {
   "cell_type": "markdown",
   "id": "7ecee017",
   "metadata": {},
   "source": [
    "스마트 홈 테스트\n",
    "2주차 프로젝트로 작성했던 함수 중, control_heater()를 테스트하는 문제입니다.\n",
    "\n",
    "control_heater() 함수는, heater를 매개변수로 받아, heater.current_temperature(현재 온도)와 heater.preferred_temperature(설정 온도)를 비교한 후, 현재 온도가 더 낮으면 히터를 켜고 (heater.is_turned_on = True), 아니면 끄는 함수입니다.\n",
    "\n",
    "assert문을 활용하여, 함수가 설계대로 작동하는지 확인하는 테스트를 짜 보세요.\n",
    "\n",
    "\n",
    "시작하기 전에\n",
    "smart_home.py 파일을 열어 Heater 클래스가 어떻게 구성되어 있는지 확인해 보세요."
   ]
  },
  {
   "cell_type": "code",
   "execution_count": 7,
   "id": "45bb012a",
   "metadata": {},
   "outputs": [],
   "source": [
    "# smart_home.py\n",
    "class Heater:\n",
    "    # 히터가 켜져 있는지 여부를 나타내는 bool 속성입니다.\n",
    "    is_turned_on = False\n",
    "\n",
    "    # 방 안의 현재 온도를 나타내는 float (소수) 속성입니다.\n",
    "    current_temperature = 0.0\n",
    "\n",
    "    # 사용자가 설정한 목표 온도를 나타내는 float (소수) 속성입니다.\n",
    "    preferred_temperature = 0.0\n",
    "\n",
    "    # 히터를 켭니다.\n",
    "    def turn_on(self):\n",
    "        self.is_turned_on = True\n",
    "    \n",
    "    # 히터를 끕니다.\n",
    "    def turn_off(self):\n",
    "        self.is_turned_on = False\n",
    "\n",
    "# main.py\n",
    "# from smart_home import Heater\n",
    "\n",
    "def control_heater(heater):\n",
    "    a = heater.current_temperature\n",
    "    b = heater.preferred_temperature\n",
    "    if a > b:\n",
    "        heater.turn_off()\n",
    "    else:\n",
    "        heater.turn_on()\n",
    "        \n",
    "# 현재 온도가 설정 온도보다 낮을 때 히터가 자동으로 켜지는지 확인합니다.\n",
    "def test_control_heater_when_cold(control_heater):\n",
    "    heater = Heater()\n",
    "    heater.current_temperature = 2.0\n",
    "    heater.preferred_temperature = 18.0\n",
    "    control_heater(heater)\n",
    "    assert(heater.is_turned_on == True)\n",
    "\n",
    "\n",
    "# 현재 온도가 설정 온도보다 높을 대 히터가 자동으로 꺼지는지 확인합니다.\n",
    "def test_control_heater_when_hot(control_heater):\n",
    "    heater = Heater()\n",
    "    heater.current_temperature = 20.0\n",
    "    heater.preferred_temperature = 18.0\n",
    "    control_heater(heater)\n",
    "    assert(heater.is_turned_on == False)\n",
    "    \n",
    "# 현재 온도와 설정 온도가 같을 때 히터가 자동으로 꺼지는지 확인합니다.\n",
    "def test_control_heater_when_same(control_heater):\n",
    "    heater = Heater()\n",
    "    heater.current_temperature = 18.0\n",
    "    heater.preferred_temperature = 18.0\n",
    "    control_heater(heater)\n",
    "    assert(heater.is_turned_on == False)"
   ]
  },
  {
   "cell_type": "markdown",
   "id": "a9f9a76d",
   "metadata": {},
   "source": [
    "3. 파이썬의 unittest"
   ]
  },
  {
   "cell_type": "markdown",
   "id": "8867b2f8",
   "metadata": {},
   "source": [
    "파이썬의 unittest 모듈"
   ]
  },
  {
   "cell_type": "code",
   "execution_count": 12,
   "id": "c6d84906",
   "metadata": {},
   "outputs": [],
   "source": [
    "import unittest\n",
    "\n",
    "# 클래스 생성             # 상속\n",
    "class IsPalindromeTests(unittest.TestCase):\n",
    "    # 메서드 정의\n",
    "    def test_level(self):\n",
    "        self.assetTrue(is_palindrome(\"level\"))\n",
    "    def test_lever(self):\n",
    "        self.assetFalse(is_palindrome(\"lever\"))\n",
    "    def test_equal(self):\n",
    "        self.assetEqual(is_palindrome(\"level\") == is_palindrome(\"\"))"
   ]
  },
  {
   "cell_type": "markdown",
   "id": "ea9cbe53",
   "metadata": {},
   "source": [
    "unittest"
   ]
  },
  {
   "cell_type": "code",
   "execution_count": null,
   "id": "81b392ed",
   "metadata": {},
   "outputs": [],
   "source": [
    "import unittest\n",
    "\n",
    "class IsPalindromeTest(unittest.TestCase):\n",
    "    #....\n",
    "    \n",
    "unittest.main() # 반드시 이 함수를 실행 해야함 \n",
    "# 실행시\n",
    "# 모듈화된 정리된 상태로 출력됨\n",
    "# ex test_level (__main__.IsPalindromeTests) ... FAIL\n",
    "# ex test_lever (__main__.IsPalindromeTests) ... OK"
   ]
  },
  {
   "cell_type": "markdown",
   "id": "3ed5cf60",
   "metadata": {},
   "source": [
    "unittest 실습\n",
    "이 실습에서는 Python의 기본 내장 모듈인 unittest를 실제로 활용하여 테스트 코드를 작성하는 실습을 해 보겠습니다.\n",
    "\n",
    "여러분의 빠른 적응을 위해, 실습 1 에서 만났던 is_palindrome() 함수를 다시 테스트해 보겠습니다. 실습 1에서는 assert 문을 이용해 테스트 코드를 작성했다면, 여기서는 unittest 모듈을 활용해, 조금 더 실수를 적게 할 수 있는 테스트 코드를 작성해 봅시다.\n",
    "\n",
    "다시 한 번 소개하자면, is_palindrome() 함수는 다음과 같은 조건들을 갖고 있습니다.\n",
    "\n",
    "하나의 문자열을 매개변수로 받습니다.\n",
    "주어진 문자열이 앞으로 읽어도 뒤로 읽어도 같은 회문이라면, True를 리턴합니다. (예시: madam, level, 다시합창합시다)\n",
    "주어진 문자열에서 대소문자, 공백, 특수문자는 무시합니다. 즉, “다시 합창합시다!” 는 회문입니다.\n",
    "빈 문자열은 회문으로 취급합니다.\n",
    "코드를 작성하기 전에 실행을 눌러, 테스트 코드의 결과가 어떻게 나오는지 확인해 보세요. 그리고 모든 테스트를 작성한 뒤에, 올바르게 작동하는지 확인해 보세요."
   ]
  },
  {
   "cell_type": "code",
   "execution_count": 11,
   "id": "025e0f70",
   "metadata": {},
   "outputs": [
    {
     "name": "stderr",
     "output_type": "stream",
     "text": [
      "E\n",
      "======================================================================\n",
      "ERROR: C:\\Users\\joung\\AppData\\Roaming\\jupyter\\runtime\\kernel-cac74e66-9de1-4cb6-b2f0-21a36861508f (unittest.loader._FailedTest)\n",
      "----------------------------------------------------------------------\n",
      "AttributeError: module '__main__' has no attribute 'C:\\Users\\joung\\AppData\\Roaming\\jupyter\\runtime\\kernel-cac74e66-9de1-4cb6-b2f0-21a36861508f'\n",
      "\n",
      "----------------------------------------------------------------------\n",
      "Ran 1 test in 0.001s\n",
      "\n",
      "FAILED (errors=1)\n"
     ]
    },
    {
     "ename": "SystemExit",
     "evalue": "True",
     "output_type": "error",
     "traceback": [
      "An exception has occurred, use %tb to see the full traceback.\n",
      "\u001b[1;31mSystemExit\u001b[0m\u001b[1;31m:\u001b[0m True\n"
     ]
    },
    {
     "name": "stderr",
     "output_type": "stream",
     "text": [
      "C:\\Users\\joung\\anaconda3\\lib\\site-packages\\IPython\\core\\interactiveshell.py:3445: UserWarning: To exit: use 'exit', 'quit', or Ctrl-D.\n",
      "  warn(\"To exit: use 'exit', 'quit', or Ctrl-D.\", stacklevel=1)\n"
     ]
    }
   ],
   "source": [
    "# helper.py\n",
    "import string\n",
    "\n",
    "def is_palindrome(text):\n",
    "    text = ''.join(text.lower().split())\n",
    "    for char in string.punctuation:\n",
    "        text = text.replace(char, \"\")\n",
    "\n",
    "    if text == \"\":\n",
    "        return True\n",
    "    if text[0] != text[-1]:\n",
    "        return False\n",
    "    return is_palindrome(text[1:-1])\n",
    "\n",
    "\n",
    "# main.py\n",
    "import unittest\n",
    "# from helper import is_palindrome\n",
    "\n",
    "# is_palindrome을 테스트하는 테스트 함수들을 포함한 클래스입니다.\n",
    "class IsPalindromeTests(unittest.TestCase):\n",
    "    # 문자열 \"madam\"에 대해 테스트합니다.\n",
    "    def test_madam(self):\n",
    "        self.assertTrue(is_palindrome(\"madam\"))\n",
    "\n",
    "    # 아래의 잘못된 코드들을 지우고 코드를 작성하면 됩니다.\n",
    "    # 올바른 리턴값은 문제 설명의 함수 설계를 보고 생각해 보세요.\n",
    "\n",
    "    # 문자열 \"adam\"에 대해 테스트합니다.\n",
    "    def test_adam(self):\n",
    "        self.assertFalse(is_palindrome(\"adam\"))\n",
    "\n",
    "    # 빈 문자열에 대해 테스트합니다.\n",
    "    def test_empty(self):\n",
    "        self.assertTrue(is_palindrome(\"\"))\n",
    "\n",
    "\n",
    "    # 문자열 \"Step on no pets\"에 대해 테스트합니다.\n",
    "    def test_Step_on_no_pets(self):\n",
    "        self.assertTrue(is_palindrome(\"Step on no pets\"))\n",
    "\n",
    "\n",
    "    # 문자열 \"Madam, I'm Adam\"에 대해 테스트합니다.\n",
    "    def test_Madam_Im_Adam(self):\n",
    "        self.assertTrue(is_palindrome(\"Madam, I'm Adam\"))\n",
    "\n",
    "\n",
    "    # 문자열 \"소주 만 병만 주소\"에 대해 테스트합니다.\n",
    "    def test_soju(self):\n",
    "        self.assertTrue(is_palindrome(\"소주 만 병만 주소\"))\n",
    "\n",
    "    # 문자열 \"!소주 만 병만 주소?\"에 대해 테스트합니다.\n",
    "    def test_soju2(self):\n",
    "        self.assertTrue(is_palindrome(\"!소주 만 병만 주소?\"))\n",
    "\n",
    "    # 문자열 \"소주 만 병쯤만 주소\"에 대해 테스트합니다.\n",
    "    def test_soju3(self):\n",
    "        self.assertFalse(is_palindrome(\"소주 만 병쯤만 주소\"))\n",
    "\n",
    "if __name__ == \"__main__\":\n",
    "    unittest.main()\n",
    "# 실행결과는 조금씩 다르게 나오나\n",
    "# 결과적으로 True False를 반환해줌."
   ]
  },
  {
   "cell_type": "code",
   "execution_count": null,
   "id": "b3700886",
   "metadata": {},
   "outputs": [],
   "source": [
    "# test_Madam_Im_Adam (__main__.IsPalindromeTests) ... ok\n",
    "# test_Step_on_no_pets (__main__.IsPalindromeTests) ... ok\n",
    "# test_adam (__main__.IsPalindromeTests) ... ok\n",
    "# test_empty (__main__.IsPalindromeTests) ... ok\n",
    "# test_madam (__main__.IsPalindromeTests) ... ok\n",
    "# test_soju (__main__.IsPalindromeTests) ... ok\n",
    "\n",
    "# ----------------------------------------------------------------------\n",
    "# Ran 6 tests in 0.001s\n",
    "\n",
    "# OK"
   ]
  }
 ],
 "metadata": {
  "kernelspec": {
   "display_name": "Python 3",
   "language": "python",
   "name": "python3"
  },
  "language_info": {
   "codemirror_mode": {
    "name": "ipython",
    "version": 3
   },
   "file_extension": ".py",
   "mimetype": "text/x-python",
   "name": "python",
   "nbconvert_exporter": "python",
   "pygments_lexer": "ipython3",
   "version": "3.8.8"
  }
 },
 "nbformat": 4,
 "nbformat_minor": 5
}
