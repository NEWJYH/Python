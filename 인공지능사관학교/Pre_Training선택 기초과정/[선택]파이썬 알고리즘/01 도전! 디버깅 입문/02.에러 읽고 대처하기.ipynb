{
 "cells": [
  {
   "cell_type": "markdown",
   "id": "bd1a6674",
   "metadata": {},
   "source": [
    "에러 읽고 대처하기"
   ]
  },
  {
   "cell_type": "markdown",
   "id": "d9df25e7",
   "metadata": {},
   "source": [
    "- 코딩을 하면서 만나는 다양한 에러 코드를 이해하고, 이에 대처하는 방법을 배워 봅니다.\n",
    "- 에러를 마주했을 때의 공포감을 극복합니다."
   ]
  },
  {
   "cell_type": "markdown",
   "id": "7dad0dff",
   "metadata": {},
   "source": [
    "목 차\n",
    "\n",
    "1. 에러 메시지 읽기\n",
    "\n",
    "2. 자주 접하는 에러 코드\n",
    "\n",
    "3. try / except"
   ]
  },
  {
   "cell_type": "markdown",
   "id": "7af6b322",
   "metadata": {},
   "source": [
    "1. 에러 메시지 읽기"
   ]
  },
  {
   "cell_type": "markdown",
   "id": "0b8e6997",
   "metadata": {},
   "source": [
    "에러 메시지 읽기"
   ]
  },
  {
   "cell_type": "code",
   "execution_count": 1,
   "id": "d4459ae5",
   "metadata": {
    "scrolled": true
   },
   "outputs": [
    {
     "ename": "NameError",
     "evalue": "name 'yourname' is not defined",
     "output_type": "error",
     "traceback": [
      "\u001b[1;31m---------------------------------------------------------------------------\u001b[0m",
      "\u001b[1;31mNameError\u001b[0m                                 Traceback (most recent call last)",
      "\u001b[1;32m<ipython-input-1-4ac2d74f242a>\u001b[0m in \u001b[0;36m<module>\u001b[1;34m\u001b[0m\n\u001b[0;32m      2\u001b[0m     \u001b[0mprint\u001b[0m\u001b[1;33m(\u001b[0m\u001b[1;34m\"Hello\"\u001b[0m \u001b[1;33m+\u001b[0m \u001b[0myourname\u001b[0m \u001b[1;33m+\u001b[0m \u001b[1;34m\"!\"\u001b[0m\u001b[1;33m)\u001b[0m\u001b[1;33m\u001b[0m\u001b[1;33m\u001b[0m\u001b[0m\n\u001b[0;32m      3\u001b[0m \u001b[1;33m\u001b[0m\u001b[0m\n\u001b[1;32m----> 4\u001b[1;33m \u001b[0mgreeting\u001b[0m\u001b[1;33m(\u001b[0m\u001b[1;34m\"Donald Trump\"\u001b[0m\u001b[1;33m)\u001b[0m\u001b[1;33m\u001b[0m\u001b[1;33m\u001b[0m\u001b[0m\n\u001b[0m",
      "\u001b[1;32m<ipython-input-1-4ac2d74f242a>\u001b[0m in \u001b[0;36mgreeting\u001b[1;34m(your_name)\u001b[0m\n\u001b[0;32m      1\u001b[0m \u001b[1;32mdef\u001b[0m \u001b[0mgreeting\u001b[0m\u001b[1;33m(\u001b[0m\u001b[0myour_name\u001b[0m\u001b[1;33m)\u001b[0m\u001b[1;33m:\u001b[0m\u001b[1;33m\u001b[0m\u001b[1;33m\u001b[0m\u001b[0m\n\u001b[1;32m----> 2\u001b[1;33m     \u001b[0mprint\u001b[0m\u001b[1;33m(\u001b[0m\u001b[1;34m\"Hello\"\u001b[0m \u001b[1;33m+\u001b[0m \u001b[0myourname\u001b[0m \u001b[1;33m+\u001b[0m \u001b[1;34m\"!\"\u001b[0m\u001b[1;33m)\u001b[0m\u001b[1;33m\u001b[0m\u001b[1;33m\u001b[0m\u001b[0m\n\u001b[0m\u001b[0;32m      3\u001b[0m \u001b[1;33m\u001b[0m\u001b[0m\n\u001b[0;32m      4\u001b[0m \u001b[0mgreeting\u001b[0m\u001b[1;33m(\u001b[0m\u001b[1;34m\"Donald Trump\"\u001b[0m\u001b[1;33m)\u001b[0m\u001b[1;33m\u001b[0m\u001b[1;33m\u001b[0m\u001b[0m\n",
      "\u001b[1;31mNameError\u001b[0m: name 'yourname' is not defined"
     ]
    }
   ],
   "source": [
    "def greeting(your_name):\n",
    "    print(\"Hello\" + yourname + \"!\") # _가없음.\n",
    "    \n",
    "greeting(\"Donald Trump\")"
   ]
  },
  {
   "cell_type": "code",
   "execution_count": 3,
   "id": "65d5bac1",
   "metadata": {},
   "outputs": [
    {
     "name": "stdout",
     "output_type": "stream",
     "text": [
      "Hello, Donald Trump!\n"
     ]
    }
   ],
   "source": [
    "# ---------------------------------------------------------------------------\n",
    "# NameError                                 Traceback (most recent call last)\n",
    "# <ipython-input-1-4ac2d74f242a> in <module>\n",
    "#       2     print(\"Hello\" + yourname + \"!\")\n",
    "#       3 \n",
    "# ----> 4 greeting(\"Donald Trump\")\n",
    "\n",
    "# <ipython-input-1-4ac2d74f242a> in greeting(your_name)\n",
    "#       1 def greeting(your_name):\n",
    "# ----> 2     print(\"Hello\" + yourname + \"!\")\n",
    "#       3 \n",
    "#       4 greeting(\"Donald Trump\")\n",
    "\n",
    "# NameError: name 'yourname' is not defined\n",
    "\n",
    "\n",
    "\n",
    "# 설명\n",
    "# Traceback (most recent call last)\n",
    "# 가장 최근에 한 콜이 마지막에 온다.\n",
    "# A -> B -> C   C가 가장 아래쪽에\n",
    "\n",
    "# # <ipython-input-1-4ac2d74f242a> in <module>\n",
    "# module 어떤 함수에도 포함되지 않는 가장 외부에 코드를 뜻함\n",
    "\n",
    "# <ipython-input-1-4ac2d74f242a> in greeting(your_name)\n",
    "# greeting이라는 함수 안에서 발생\n",
    "# NameError: name 'yourname' is not defined\n",
    "# 맨 마지막 두줄이 진짜 에러를 발생 시킨 구역\n",
    "# yourname is not defined\n",
    "# 이름이 정의되지 않았다.\n",
    "\n",
    "def greeting(your_name):\n",
    "    print(\"Hello, \" + your_name + \"!\")\n",
    "    \n",
    "greeting(\"Donald Trump\")"
   ]
  },
  {
   "cell_type": "markdown",
   "id": "057a5314",
   "metadata": {},
   "source": [
    "에러 메시지 읽기"
   ]
  },
  {
   "cell_type": "code",
   "execution_count": 4,
   "id": "0ec7e5fd",
   "metadata": {},
   "outputs": [
    {
     "ename": "ZeroDivisionError",
     "evalue": "division by zero",
     "output_type": "error",
     "traceback": [
      "\u001b[1;31m---------------------------------------------------------------------------\u001b[0m",
      "\u001b[1;31mZeroDivisionError\u001b[0m                         Traceback (most recent call last)",
      "\u001b[1;32m<ipython-input-4-edd21cc0a06a>\u001b[0m in \u001b[0;36m<module>\u001b[1;34m\u001b[0m\n\u001b[0;32m      2\u001b[0m     \u001b[1;32mreturn\u001b[0m \u001b[0msum\u001b[0m\u001b[1;33m(\u001b[0m\u001b[0mnumbers\u001b[0m\u001b[1;33m)\u001b[0m \u001b[1;33m/\u001b[0m \u001b[0mlen\u001b[0m\u001b[1;33m(\u001b[0m\u001b[0mnumbers\u001b[0m\u001b[1;33m)\u001b[0m\u001b[1;33m\u001b[0m\u001b[1;33m\u001b[0m\u001b[0m\n\u001b[0;32m      3\u001b[0m \u001b[1;33m\u001b[0m\u001b[0m\n\u001b[1;32m----> 4\u001b[1;33m \u001b[0maverage\u001b[0m\u001b[1;33m(\u001b[0m\u001b[1;33m[\u001b[0m\u001b[1;33m]\u001b[0m\u001b[1;33m)\u001b[0m\u001b[1;33m\u001b[0m\u001b[1;33m\u001b[0m\u001b[0m\n\u001b[0m",
      "\u001b[1;32m<ipython-input-4-edd21cc0a06a>\u001b[0m in \u001b[0;36maverage\u001b[1;34m(numbers)\u001b[0m\n\u001b[0;32m      1\u001b[0m \u001b[1;32mdef\u001b[0m \u001b[0maverage\u001b[0m\u001b[1;33m(\u001b[0m\u001b[0mnumbers\u001b[0m\u001b[1;33m)\u001b[0m\u001b[1;33m:\u001b[0m\u001b[1;33m\u001b[0m\u001b[1;33m\u001b[0m\u001b[0m\n\u001b[1;32m----> 2\u001b[1;33m     \u001b[1;32mreturn\u001b[0m \u001b[0msum\u001b[0m\u001b[1;33m(\u001b[0m\u001b[0mnumbers\u001b[0m\u001b[1;33m)\u001b[0m \u001b[1;33m/\u001b[0m \u001b[0mlen\u001b[0m\u001b[1;33m(\u001b[0m\u001b[0mnumbers\u001b[0m\u001b[1;33m)\u001b[0m\u001b[1;33m\u001b[0m\u001b[1;33m\u001b[0m\u001b[0m\n\u001b[0m\u001b[0;32m      3\u001b[0m \u001b[1;33m\u001b[0m\u001b[0m\n\u001b[0;32m      4\u001b[0m \u001b[0maverage\u001b[0m\u001b[1;33m(\u001b[0m\u001b[1;33m[\u001b[0m\u001b[1;33m]\u001b[0m\u001b[1;33m)\u001b[0m\u001b[1;33m\u001b[0m\u001b[1;33m\u001b[0m\u001b[0m\n",
      "\u001b[1;31mZeroDivisionError\u001b[0m: division by zero"
     ]
    }
   ],
   "source": [
    "def average(numbers):\n",
    "    return sum(numbers) / len(numbers)\n",
    "\n",
    "average([])"
   ]
  },
  {
   "cell_type": "code",
   "execution_count": null,
   "id": "999681d8",
   "metadata": {},
   "outputs": [],
   "source": [
    "# ---------------------------------------------------------------------------\n",
    "# ZeroDivisionError                         Traceback (most recent call last)\n",
    "# <ipython-input-4-edd21cc0a06a> in <module>\n",
    "#       2     return sum(numbers) / len(numbers)\n",
    "#       3 \n",
    "# ----> 4 average([])\n",
    "\n",
    "# <ipython-input-4-edd21cc0a06a> in average(numbers)\n",
    "#       1 def average(numbers):\n",
    "# ----> 2     return sum(numbers) / len(numbers)\n",
    "#       3 \n",
    "#       4 average([])\n",
    "\n",
    "# ZeroDivisionError: division by zero"
   ]
  },
  {
   "cell_type": "markdown",
   "id": "54e7a44b",
   "metadata": {},
   "source": [
    "2. 자주 접하는 에러 코드"
   ]
  },
  {
   "cell_type": "markdown",
   "id": "6f34b25e",
   "metadata": {},
   "source": [
    "자주 접하는 에러 코드\n",
    "\n",
    "Syntax error (잘못된 문법) "
   ]
  },
  {
   "cell_type": "code",
   "execution_count": 5,
   "id": "47ea5674",
   "metadata": {},
   "outputs": [
    {
     "ename": "SyntaxError",
     "evalue": "invalid syntax (<ipython-input-5-d118d3af910e>, line 3)",
     "output_type": "error",
     "traceback": [
      "\u001b[1;36m  File \u001b[1;32m\"<ipython-input-5-d118d3af910e>\"\u001b[1;36m, line \u001b[1;32m3\u001b[0m\n\u001b[1;33m    for number in numbers # <- :\u001b[0m\n\u001b[1;37m                          ^\u001b[0m\n\u001b[1;31mSyntaxError\u001b[0m\u001b[1;31m:\u001b[0m invalid syntax\n"
     ]
    }
   ],
   "source": [
    "def add_all(numbers):\n",
    "    result = 0\n",
    "    for number in numbers # <- : \n",
    "        result += number\n",
    "    return result"
   ]
  },
  {
   "cell_type": "code",
   "execution_count": 6,
   "id": "f03f6adc",
   "metadata": {},
   "outputs": [],
   "source": [
    "# File \"<ipython-input-5-d118d3af910e>\", line 3\n",
    "#     for number in numbers # <- :\n",
    "#                           ^\n",
    "# SyntaxError: invalid syntax \n",
    "# 컴퓨터가 이해할수 없는 코드\n",
    "# Traceback이 없음 이해자체를 할수 없기 떄문\n",
    "# 스스로 해결 가능성 높은 오류\n",
    "\n",
    "def add_all(numbers):\n",
    "    result = 0\n",
    "    for number in numbers :\n",
    "        result += number\n",
    "    return result"
   ]
  },
  {
   "cell_type": "markdown",
   "id": "9ccd5a70",
   "metadata": {},
   "source": [
    "자주 접하는 에러 코드\n",
    "\n",
    "Name error"
   ]
  },
  {
   "cell_type": "code",
   "execution_count": 7,
   "id": "dd1a7c31",
   "metadata": {},
   "outputs": [
    {
     "ename": "NameError",
     "evalue": "name 'numbre' is not defined",
     "output_type": "error",
     "traceback": [
      "\u001b[1;31m---------------------------------------------------------------------------\u001b[0m",
      "\u001b[1;31mNameError\u001b[0m                                 Traceback (most recent call last)",
      "\u001b[1;32m<ipython-input-7-d7c67825d7e6>\u001b[0m in \u001b[0;36m<module>\u001b[1;34m\u001b[0m\n\u001b[0;32m      5\u001b[0m     \u001b[1;32mreturn\u001b[0m \u001b[0mresult\u001b[0m\u001b[1;33m\u001b[0m\u001b[1;33m\u001b[0m\u001b[0m\n\u001b[0;32m      6\u001b[0m \u001b[1;33m\u001b[0m\u001b[0m\n\u001b[1;32m----> 7\u001b[1;33m \u001b[0madd_all\u001b[0m\u001b[1;33m(\u001b[0m\u001b[1;33m[\u001b[0m\u001b[1;36m1\u001b[0m\u001b[1;33m,\u001b[0m\u001b[1;36m2\u001b[0m\u001b[1;33m,\u001b[0m\u001b[1;36m3\u001b[0m\u001b[1;33m]\u001b[0m\u001b[1;33m)\u001b[0m\u001b[1;33m\u001b[0m\u001b[1;33m\u001b[0m\u001b[0m\n\u001b[0m",
      "\u001b[1;32m<ipython-input-7-d7c67825d7e6>\u001b[0m in \u001b[0;36madd_all\u001b[1;34m(numbers)\u001b[0m\n\u001b[0;32m      2\u001b[0m     \u001b[0mresult\u001b[0m \u001b[1;33m=\u001b[0m \u001b[1;36m0\u001b[0m\u001b[1;33m\u001b[0m\u001b[1;33m\u001b[0m\u001b[0m\n\u001b[0;32m      3\u001b[0m     \u001b[1;32mfor\u001b[0m \u001b[0mnumber\u001b[0m \u001b[1;32min\u001b[0m \u001b[0mnumbers\u001b[0m \u001b[1;33m:\u001b[0m\u001b[1;33m\u001b[0m\u001b[1;33m\u001b[0m\u001b[0m\n\u001b[1;32m----> 4\u001b[1;33m         \u001b[0mresult\u001b[0m \u001b[1;33m+=\u001b[0m \u001b[0mnumbre\u001b[0m\u001b[1;33m\u001b[0m\u001b[1;33m\u001b[0m\u001b[0m\n\u001b[0m\u001b[0;32m      5\u001b[0m     \u001b[1;32mreturn\u001b[0m \u001b[0mresult\u001b[0m\u001b[1;33m\u001b[0m\u001b[1;33m\u001b[0m\u001b[0m\n\u001b[0;32m      6\u001b[0m \u001b[1;33m\u001b[0m\u001b[0m\n",
      "\u001b[1;31mNameError\u001b[0m: name 'numbre' is not defined"
     ]
    }
   ],
   "source": [
    "def add_all(numbers):\n",
    "    result = 0\n",
    "    for number in numbers :\n",
    "        result += numbre\n",
    "    return result\n",
    "\n",
    "add_all([1,2,3])"
   ]
  },
  {
   "cell_type": "code",
   "execution_count": 8,
   "id": "ddb321c4",
   "metadata": {},
   "outputs": [
    {
     "data": {
      "text/plain": [
       "6"
      ]
     },
     "execution_count": 8,
     "metadata": {},
     "output_type": "execute_result"
    }
   ],
   "source": [
    "# ---------------------------------------------------------------------------\n",
    "# NameError                                 Traceback (most recent call last)\n",
    "# <ipython-input-7-d7c67825d7e6> in <module>\n",
    "#       5     return result\n",
    "#       6 \n",
    "# ----> 7 add_all([1,2,3])\n",
    "\n",
    "# <ipython-input-7-d7c67825d7e6> in add_all(numbers)\n",
    "#       2     result = 0\n",
    "#       3     for number in numbers :\n",
    "# ----> 4         result += numbre\n",
    "#       5     return result\n",
    "#       6 \n",
    "\n",
    "# NameError: name 'numbre' is not defined\n",
    "# 정의한 적 없는 변수\n",
    "\n",
    "def add_all(numbers):\n",
    "    result = 0\n",
    "    for number in numbers :\n",
    "        result += number\n",
    "    return result\n",
    "\n",
    "add_all([1,2,3])"
   ]
  },
  {
   "cell_type": "markdown",
   "id": "7b8cd473",
   "metadata": {},
   "source": [
    "자주 접하는 에러 코드\n",
    "\n",
    "Type error"
   ]
  },
  {
   "cell_type": "code",
   "execution_count": 9,
   "id": "3dcffffa",
   "metadata": {
    "scrolled": true
   },
   "outputs": [
    {
     "ename": "TypeError",
     "evalue": "unsupported operand type(s) for +=: 'int' and 'str'",
     "output_type": "error",
     "traceback": [
      "\u001b[1;31m---------------------------------------------------------------------------\u001b[0m",
      "\u001b[1;31mTypeError\u001b[0m                                 Traceback (most recent call last)",
      "\u001b[1;32m<ipython-input-9-2e611605d87a>\u001b[0m in \u001b[0;36m<module>\u001b[1;34m\u001b[0m\n\u001b[0;32m      5\u001b[0m     \u001b[1;32mreturn\u001b[0m \u001b[0mresult\u001b[0m\u001b[1;33m\u001b[0m\u001b[1;33m\u001b[0m\u001b[0m\n\u001b[0;32m      6\u001b[0m \u001b[1;33m\u001b[0m\u001b[0m\n\u001b[1;32m----> 7\u001b[1;33m \u001b[0madd_all\u001b[0m\u001b[1;33m(\u001b[0m\u001b[1;33m[\u001b[0m\u001b[1;34m\"a\"\u001b[0m\u001b[1;33m,\u001b[0m\u001b[1;34m\"b\"\u001b[0m\u001b[1;33m,\u001b[0m\u001b[1;34m\"c\"\u001b[0m\u001b[1;33m]\u001b[0m\u001b[1;33m)\u001b[0m\u001b[1;33m\u001b[0m\u001b[1;33m\u001b[0m\u001b[0m\n\u001b[0m",
      "\u001b[1;32m<ipython-input-9-2e611605d87a>\u001b[0m in \u001b[0;36madd_all\u001b[1;34m(numbers)\u001b[0m\n\u001b[0;32m      2\u001b[0m     \u001b[0mresult\u001b[0m \u001b[1;33m=\u001b[0m \u001b[1;36m0\u001b[0m\u001b[1;33m\u001b[0m\u001b[1;33m\u001b[0m\u001b[0m\n\u001b[0;32m      3\u001b[0m     \u001b[1;32mfor\u001b[0m \u001b[0mnumber\u001b[0m \u001b[1;32min\u001b[0m \u001b[0mnumbers\u001b[0m \u001b[1;33m:\u001b[0m\u001b[1;33m\u001b[0m\u001b[1;33m\u001b[0m\u001b[0m\n\u001b[1;32m----> 4\u001b[1;33m         \u001b[0mresult\u001b[0m \u001b[1;33m+=\u001b[0m \u001b[0mnumber\u001b[0m\u001b[1;33m\u001b[0m\u001b[1;33m\u001b[0m\u001b[0m\n\u001b[0m\u001b[0;32m      5\u001b[0m     \u001b[1;32mreturn\u001b[0m \u001b[0mresult\u001b[0m\u001b[1;33m\u001b[0m\u001b[1;33m\u001b[0m\u001b[0m\n\u001b[0;32m      6\u001b[0m \u001b[1;33m\u001b[0m\u001b[0m\n",
      "\u001b[1;31mTypeError\u001b[0m: unsupported operand type(s) for +=: 'int' and 'str'"
     ]
    }
   ],
   "source": [
    "def add_all(numbers):\n",
    "    result = 0\n",
    "    for number in numbers :\n",
    "        result += number\n",
    "    return result\n",
    "\n",
    "add_all([\"a\",\"b\",\"c\"])"
   ]
  },
  {
   "cell_type": "code",
   "execution_count": null,
   "id": "f7a64618",
   "metadata": {},
   "outputs": [],
   "source": [
    "# ---------------------------------------------------------------------------\n",
    "# TypeError                                 Traceback (most recent call last)\n",
    "# <ipython-input-9-2e611605d87a> in <module>\n",
    "#       5     return result\n",
    "#       6 \n",
    "# ----> 7 add_all([\"a\",\"b\",\"c\"])\n",
    "\n",
    "# <ipython-input-9-2e611605d87a> in add_all(numbers)\n",
    "#       2     result = 0\n",
    "#       3     for number in numbers :\n",
    "# ----> 4         result += number\n",
    "#       5     return result\n",
    "#       6 \n",
    "\n",
    "# TypeError: unsupported operand type(s) for +=: 'int' and 'str'\n",
    "# 0과 \"a\"를 더할 수 없음"
   ]
  },
  {
   "cell_type": "code",
   "execution_count": 19,
   "id": "18556e5e",
   "metadata": {},
   "outputs": [
    {
     "ename": "TypeError",
     "evalue": "unsupported operand type(s) for +: 'float' and 'str'",
     "output_type": "error",
     "traceback": [
      "\u001b[1;31m---------------------------------------------------------------------------\u001b[0m",
      "\u001b[1;31mTypeError\u001b[0m                                 Traceback (most recent call last)",
      "\u001b[1;32m<ipython-input-19-123f24bcccc4>\u001b[0m in \u001b[0;36m<module>\u001b[1;34m\u001b[0m\n\u001b[0;32m      3\u001b[0m     \u001b[1;32mreturn\u001b[0m \u001b[0mprice_in_krw\u001b[0m \u001b[1;33m+\u001b[0m \u001b[1;34m\"won\"\u001b[0m\u001b[1;33m\u001b[0m\u001b[1;33m\u001b[0m\u001b[0m\n\u001b[0;32m      4\u001b[0m \u001b[1;33m\u001b[0m\u001b[0m\n\u001b[1;32m----> 5\u001b[1;33m \u001b[0musd_to_krw\u001b[0m\u001b[1;33m(\u001b[0m\u001b[1;36m4.99\u001b[0m\u001b[1;33m)\u001b[0m\u001b[1;33m\u001b[0m\u001b[1;33m\u001b[0m\u001b[0m\n\u001b[0m",
      "\u001b[1;32m<ipython-input-19-123f24bcccc4>\u001b[0m in \u001b[0;36musd_to_krw\u001b[1;34m(price)\u001b[0m\n\u001b[0;32m      1\u001b[0m \u001b[1;32mdef\u001b[0m \u001b[0musd_to_krw\u001b[0m\u001b[1;33m(\u001b[0m\u001b[0mprice\u001b[0m\u001b[1;33m)\u001b[0m\u001b[1;33m:\u001b[0m\u001b[1;33m\u001b[0m\u001b[1;33m\u001b[0m\u001b[0m\n\u001b[0;32m      2\u001b[0m     \u001b[0mprice_in_krw\u001b[0m \u001b[1;33m=\u001b[0m \u001b[0mprice\u001b[0m \u001b[1;33m*\u001b[0m \u001b[1;36m1000\u001b[0m\u001b[1;33m\u001b[0m\u001b[1;33m\u001b[0m\u001b[0m\n\u001b[1;32m----> 3\u001b[1;33m     \u001b[1;32mreturn\u001b[0m \u001b[0mprice_in_krw\u001b[0m \u001b[1;33m+\u001b[0m \u001b[1;34m\"won\"\u001b[0m\u001b[1;33m\u001b[0m\u001b[1;33m\u001b[0m\u001b[0m\n\u001b[0m\u001b[0;32m      4\u001b[0m \u001b[1;33m\u001b[0m\u001b[0m\n\u001b[0;32m      5\u001b[0m \u001b[0musd_to_krw\u001b[0m\u001b[1;33m(\u001b[0m\u001b[1;36m4.99\u001b[0m\u001b[1;33m)\u001b[0m\u001b[1;33m\u001b[0m\u001b[1;33m\u001b[0m\u001b[0m\n",
      "\u001b[1;31mTypeError\u001b[0m: unsupported operand type(s) for +: 'float' and 'str'"
     ]
    }
   ],
   "source": [
    "def usd_to_krw(price):\n",
    "    price_in_krw = price * 1000\n",
    "    return price_in_krw + \"won\"\n",
    "\n",
    "usd_to_krw(4.99)"
   ]
  },
  {
   "cell_type": "code",
   "execution_count": 18,
   "id": "9e0e28a3",
   "metadata": {},
   "outputs": [
    {
     "data": {
      "text/plain": [
       "'4990.0won'"
      ]
     },
     "execution_count": 18,
     "metadata": {},
     "output_type": "execute_result"
    }
   ],
   "source": [
    "# ---------------------------------------------------------------------------\n",
    "# TypeError                                 Traceback (most recent call last)\n",
    "# <ipython-input-11-1193939b1ac7> in <module>\n",
    "#       3     return price_in_krw + \"won\"\n",
    "#       4 \n",
    "# ----> 5 usd_to_krw(4.99)\n",
    "\n",
    "# <ipython-input-11-1193939b1ac7> in usd_to_krw(price)\n",
    "#       1 def usd_to_krw(price):\n",
    "#       2     price_in_krw = price * 100\n",
    "# ----> 3     return price_in_krw + \"won\"\n",
    "#       4 \n",
    "#       5 usd_to_krw(4.99)\n",
    "\n",
    "# TypeError: unsupported operand type(s) for +: 'float' and 'str'\n",
    "\n",
    "def usd_to_krw(price):\n",
    "    price_in_krw = price * 1000\n",
    "    return str(price_in_krw) + \"won\"\n",
    "\n",
    "usd_to_krw(4.99)"
   ]
  },
  {
   "cell_type": "code",
   "execution_count": 17,
   "id": "93a3ce3e",
   "metadata": {},
   "outputs": [
    {
     "data": {
      "text/plain": [
       "'5489.0 won'"
      ]
     },
     "execution_count": 17,
     "metadata": {},
     "output_type": "execute_result"
    }
   ],
   "source": [
    "# f스트링\n",
    "\n",
    "def usd_to_krw(price):\n",
    "    price_in_krw = price * 1100\n",
    "    return f\"{price_in_krw} won\"\n",
    "\n",
    "usd_to_krw(4.99)"
   ]
  },
  {
   "cell_type": "markdown",
   "id": "9eb9dba0",
   "metadata": {},
   "source": [
    "성적 정리 1\n",
    "엘리스 선생님이 반 아이들의 성적을 처리하는 프로그램을 만들고 있습니다. 먼저, 평균 점수를 구하는 간단한 함수를 하나 작성하려고 합니다.\n",
    "\n",
    "get_average_score() 함수는 채점된 반 아이들의 시험 점수를 매개변수로 받아, 그 평균을 return 하는 함수입니다. 모든 점수 데이터는 XX점과 같은 문자열 형식으로 되어 있습니다.\n",
    "\n",
    "get_average_score(['10점', '20점', '30점'])\n",
    ">>> '20점'\n",
    "Copy\n",
    "엘리스 선생님이 작성한 코드가 왠지 잘 작동하지 않는 것 같네요. 엘리스 선생님의 코드를 조금 수정해서, 원하는 대로 작동하도록 만들어 주세요.\n",
    "\n",
    "문제 조건\n",
    "매개변수로 주어지는 리스트에는 반드시 1명 이상의 점수가 포함되어 있다고 가정합니다.\n",
    "매개변수로 주어지는 점수는 모두 정수 형태입니다. 즉, 81.5점 같은 점수는 매개변수로 주어지지 않습니다."
   ]
  },
  {
   "cell_type": "code",
   "execution_count": 20,
   "id": "7dfad164",
   "metadata": {},
   "outputs": [
    {
     "data": {
      "text/plain": [
       "'20.0점'"
      ]
     },
     "execution_count": 20,
     "metadata": {},
     "output_type": "execute_result"
    }
   ],
   "source": [
    "def get_average_score(scores):\n",
    "    sum_scores = 0\n",
    "    for score in scores:\n",
    "        # '점'이라는 글자를 제거합니다.\n",
    "        point = int(score[:-1])\n",
    "        \n",
    "        sum_scores += point\n",
    "    \n",
    "    average = sum_scores / len(scores)\n",
    "    return f\"{average}점\"\n",
    "    \n",
    "get_average_score(['10점', '20점', '30점'])\n"
   ]
  },
  {
   "cell_type": "markdown",
   "id": "67e0b4c5",
   "metadata": {},
   "source": [
    "자주 접하는 에러 코드\n",
    "\n",
    "Index, Zero division Error"
   ]
  },
  {
   "cell_type": "markdown",
   "id": "0f53ef96",
   "metadata": {},
   "source": [
    "Index Error"
   ]
  },
  {
   "cell_type": "code",
   "execution_count": 21,
   "id": "47396dcb",
   "metadata": {},
   "outputs": [
    {
     "data": {
      "text/plain": [
       "'h'"
      ]
     },
     "execution_count": 21,
     "metadata": {},
     "output_type": "execute_result"
    }
   ],
   "source": [
    "def first_character(string):\n",
    "    return string[0] \n",
    "\n",
    "first_character(\"hello\") # 'h'"
   ]
  },
  {
   "cell_type": "code",
   "execution_count": 23,
   "id": "de3abadf",
   "metadata": {},
   "outputs": [
    {
     "ename": "IndexError",
     "evalue": "string index out of range",
     "output_type": "error",
     "traceback": [
      "\u001b[1;31m---------------------------------------------------------------------------\u001b[0m",
      "\u001b[1;31mIndexError\u001b[0m                                Traceback (most recent call last)",
      "\u001b[1;32m<ipython-input-23-edc379263f0b>\u001b[0m in \u001b[0;36m<module>\u001b[1;34m\u001b[0m\n\u001b[0;32m      2\u001b[0m     \u001b[1;32mreturn\u001b[0m \u001b[0mstring\u001b[0m\u001b[1;33m[\u001b[0m\u001b[1;36m0\u001b[0m\u001b[1;33m]\u001b[0m\u001b[1;33m\u001b[0m\u001b[1;33m\u001b[0m\u001b[0m\n\u001b[0;32m      3\u001b[0m \u001b[1;33m\u001b[0m\u001b[0m\n\u001b[1;32m----> 4\u001b[1;33m \u001b[0mfirst_character\u001b[0m\u001b[1;33m(\u001b[0m\u001b[1;34m\"\"\u001b[0m\u001b[1;33m)\u001b[0m\u001b[1;33m\u001b[0m\u001b[1;33m\u001b[0m\u001b[0m\n\u001b[0m",
      "\u001b[1;32m<ipython-input-23-edc379263f0b>\u001b[0m in \u001b[0;36mfirst_character\u001b[1;34m(string)\u001b[0m\n\u001b[0;32m      1\u001b[0m \u001b[1;32mdef\u001b[0m \u001b[0mfirst_character\u001b[0m\u001b[1;33m(\u001b[0m\u001b[0mstring\u001b[0m\u001b[1;33m)\u001b[0m\u001b[1;33m:\u001b[0m\u001b[1;33m\u001b[0m\u001b[1;33m\u001b[0m\u001b[0m\n\u001b[1;32m----> 2\u001b[1;33m     \u001b[1;32mreturn\u001b[0m \u001b[0mstring\u001b[0m\u001b[1;33m[\u001b[0m\u001b[1;36m0\u001b[0m\u001b[1;33m]\u001b[0m\u001b[1;33m\u001b[0m\u001b[1;33m\u001b[0m\u001b[0m\n\u001b[0m\u001b[0;32m      3\u001b[0m \u001b[1;33m\u001b[0m\u001b[0m\n\u001b[0;32m      4\u001b[0m \u001b[0mfirst_character\u001b[0m\u001b[1;33m(\u001b[0m\u001b[1;34m\"\"\u001b[0m\u001b[1;33m)\u001b[0m\u001b[1;33m\u001b[0m\u001b[1;33m\u001b[0m\u001b[0m\n",
      "\u001b[1;31mIndexError\u001b[0m: string index out of range"
     ]
    }
   ],
   "source": [
    "def first_character(string):\n",
    "    return string[0] \n",
    "\n",
    "first_character(\"\") "
   ]
  },
  {
   "cell_type": "code",
   "execution_count": 24,
   "id": "e3cbe9e1",
   "metadata": {},
   "outputs": [
    {
     "data": {
      "text/plain": [
       "''"
      ]
     },
     "execution_count": 24,
     "metadata": {},
     "output_type": "execute_result"
    }
   ],
   "source": [
    "# ---------------------------------------------------------------------------\n",
    "# IndexError                                Traceback (most recent call last)\n",
    "# <ipython-input-23-edc379263f0b> in <module>\n",
    "#       2     return string[0]\n",
    "#       3 \n",
    "# ----> 4 first_character(\"\")\n",
    "\n",
    "# <ipython-input-23-edc379263f0b> in first_character(string)\n",
    "#       1 def first_character(string):\n",
    "# ----> 2     return string[0]\n",
    "#       3 \n",
    "#       4 first_character(\"\")\n",
    "\n",
    "# IndexError: string index out of range\n",
    "# 문자열의 0번째 글자가 존재하지 않음\n",
    "def first_character(string):\n",
    "    if len(string) > 0:\n",
    "        return string[0]\n",
    "    return \"\"\n",
    "\n",
    "first_character(\"\") "
   ]
  },
  {
   "cell_type": "markdown",
   "id": "b6b7f649",
   "metadata": {},
   "source": [
    "Zero Division Error"
   ]
  },
  {
   "cell_type": "code",
   "execution_count": 25,
   "id": "7e00d921",
   "metadata": {},
   "outputs": [
    {
     "data": {
      "text/plain": [
       "70.0"
      ]
     },
     "execution_count": 25,
     "metadata": {},
     "output_type": "execute_result"
    }
   ],
   "source": [
    "def average(numbers):\n",
    "    return sum(numbers) / len(numbers)\n",
    "\n",
    "average([60,70,80]) # 70"
   ]
  },
  {
   "cell_type": "code",
   "execution_count": 26,
   "id": "86cb82b1",
   "metadata": {},
   "outputs": [
    {
     "ename": "ZeroDivisionError",
     "evalue": "division by zero",
     "output_type": "error",
     "traceback": [
      "\u001b[1;31m---------------------------------------------------------------------------\u001b[0m",
      "\u001b[1;31mZeroDivisionError\u001b[0m                         Traceback (most recent call last)",
      "\u001b[1;32m<ipython-input-26-bf1b14c60519>\u001b[0m in \u001b[0;36m<module>\u001b[1;34m\u001b[0m\n\u001b[0;32m      1\u001b[0m \u001b[1;32mdef\u001b[0m \u001b[0maverage\u001b[0m\u001b[1;33m(\u001b[0m\u001b[0mnumbers\u001b[0m\u001b[1;33m)\u001b[0m\u001b[1;33m:\u001b[0m\u001b[1;33m\u001b[0m\u001b[1;33m\u001b[0m\u001b[0m\n\u001b[0;32m      2\u001b[0m     \u001b[1;32mreturn\u001b[0m \u001b[0msum\u001b[0m\u001b[1;33m(\u001b[0m\u001b[0mnumbers\u001b[0m\u001b[1;33m)\u001b[0m \u001b[1;33m/\u001b[0m \u001b[0mlen\u001b[0m\u001b[1;33m(\u001b[0m\u001b[0mnumbers\u001b[0m\u001b[1;33m)\u001b[0m\u001b[1;33m\u001b[0m\u001b[1;33m\u001b[0m\u001b[0m\n\u001b[1;32m----> 3\u001b[1;33m \u001b[0maverage\u001b[0m\u001b[1;33m(\u001b[0m\u001b[1;33m[\u001b[0m\u001b[1;33m]\u001b[0m\u001b[1;33m)\u001b[0m\u001b[1;33m\u001b[0m\u001b[1;33m\u001b[0m\u001b[0m\n\u001b[0m",
      "\u001b[1;32m<ipython-input-26-bf1b14c60519>\u001b[0m in \u001b[0;36maverage\u001b[1;34m(numbers)\u001b[0m\n\u001b[0;32m      1\u001b[0m \u001b[1;32mdef\u001b[0m \u001b[0maverage\u001b[0m\u001b[1;33m(\u001b[0m\u001b[0mnumbers\u001b[0m\u001b[1;33m)\u001b[0m\u001b[1;33m:\u001b[0m\u001b[1;33m\u001b[0m\u001b[1;33m\u001b[0m\u001b[0m\n\u001b[1;32m----> 2\u001b[1;33m     \u001b[1;32mreturn\u001b[0m \u001b[0msum\u001b[0m\u001b[1;33m(\u001b[0m\u001b[0mnumbers\u001b[0m\u001b[1;33m)\u001b[0m \u001b[1;33m/\u001b[0m \u001b[0mlen\u001b[0m\u001b[1;33m(\u001b[0m\u001b[0mnumbers\u001b[0m\u001b[1;33m)\u001b[0m\u001b[1;33m\u001b[0m\u001b[1;33m\u001b[0m\u001b[0m\n\u001b[0m\u001b[0;32m      3\u001b[0m \u001b[0maverage\u001b[0m\u001b[1;33m(\u001b[0m\u001b[1;33m[\u001b[0m\u001b[1;33m]\u001b[0m\u001b[1;33m)\u001b[0m\u001b[1;33m\u001b[0m\u001b[1;33m\u001b[0m\u001b[0m\n",
      "\u001b[1;31mZeroDivisionError\u001b[0m: division by zero"
     ]
    }
   ],
   "source": [
    "def average(numbers):\n",
    "    return sum(numbers) / len(numbers)\n",
    "average([])"
   ]
  },
  {
   "cell_type": "code",
   "execution_count": 27,
   "id": "6918bcba",
   "metadata": {},
   "outputs": [
    {
     "name": "stdout",
     "output_type": "stream",
     "text": [
      "No numbers!\n"
     ]
    }
   ],
   "source": [
    "# ---------------------------------------------------------------------------\n",
    "# ZeroDivisionError                         Traceback (most recent call last)\n",
    "# <ipython-input-26-bf1b14c60519> in <module>\n",
    "#       1 def average(numbers):\n",
    "#       2     return sum(numbers) / len(numbers)\n",
    "# ----> 3 average([])\n",
    "\n",
    "# <ipython-input-26-bf1b14c60519> in average(numbers)\n",
    "#       1 def average(numbers):\n",
    "# ----> 2     return sum(numbers) / len(numbers)\n",
    "#       3 average([])\n",
    "\n",
    "# ZeroDivisionError: division by zero\n",
    "\n",
    "def average(numbers):\n",
    "    if len(numbers) > 0 :\n",
    "        return sum(numbers) / len(numbers)\n",
    "    print(\"No numbers!\")\n",
    "average([])"
   ]
  },
  {
   "cell_type": "markdown",
   "id": "b1291bd3",
   "metadata": {},
   "source": [
    "자주 접하는 에러 코드\n",
    "\n",
    "Import Error"
   ]
  },
  {
   "cell_type": "markdown",
   "id": "f177927e",
   "metadata": {},
   "source": [
    "Import Error"
   ]
  },
  {
   "cell_type": "code",
   "execution_count": 28,
   "id": "d488cf42",
   "metadata": {},
   "outputs": [
    {
     "ename": "ImportError",
     "evalue": "cannot import name 'squareroot' from 'math' (unknown location)",
     "output_type": "error",
     "traceback": [
      "\u001b[1;31m---------------------------------------------------------------------------\u001b[0m",
      "\u001b[1;31mImportError\u001b[0m                               Traceback (most recent call last)",
      "\u001b[1;32m<ipython-input-28-daee83d0b0ec>\u001b[0m in \u001b[0;36m<module>\u001b[1;34m\u001b[0m\n\u001b[1;32m----> 1\u001b[1;33m \u001b[1;32mfrom\u001b[0m \u001b[0mmath\u001b[0m \u001b[1;32mimport\u001b[0m \u001b[0msquareroot\u001b[0m\u001b[1;33m\u001b[0m\u001b[1;33m\u001b[0m\u001b[0m\n\u001b[0m\u001b[0;32m      2\u001b[0m \u001b[1;33m\u001b[0m\u001b[0m\n\u001b[0;32m      3\u001b[0m \u001b[0mprint\u001b[0m\u001b[1;33m(\u001b[0m\u001b[0msquareroot\u001b[0m\u001b[1;33m(\u001b[0m\u001b[1;36m4\u001b[0m\u001b[1;33m)\u001b[0m\u001b[1;33m)\u001b[0m\u001b[1;33m\u001b[0m\u001b[1;33m\u001b[0m\u001b[0m\n",
      "\u001b[1;31mImportError\u001b[0m: cannot import name 'squareroot' from 'math' (unknown location)"
     ]
    }
   ],
   "source": [
    "from math import squareroot\n",
    "\n",
    "print(squareroot(4))"
   ]
  },
  {
   "cell_type": "code",
   "execution_count": 29,
   "id": "d3f06f4a",
   "metadata": {},
   "outputs": [
    {
     "name": "stdout",
     "output_type": "stream",
     "text": [
      "2.0\n"
     ]
    }
   ],
   "source": [
    "# ---------------------------------------------------------------------------\n",
    "# ImportError                               Traceback (most recent call last)\n",
    "# <ipython-input-28-daee83d0b0ec> in <module>\n",
    "# ----> 1 from math import squareroot\n",
    "#       2 \n",
    "#       3 print(squareroot(4))\n",
    "\n",
    "# ImportError: cannot import name 'squareroot' from 'math' (unknown location)\n",
    "# 그런 이름을 찾을 수 없음\n",
    "\n",
    "from math import sqrt\n",
    "print(sqrt(4)) # 2.0"
   ]
  },
  {
   "cell_type": "markdown",
   "id": "0b8d85e8",
   "metadata": {},
   "source": [
    "성적 정리 2\n",
    "엘리스 선생님이 여전히 학생들의 성적을 처리하고 있습니다. 엘리스 선생님이 코딩을 잘한다는 이야기를 듣고 다른 선생님들도 성적 처리를 대신 부탁했다고 합니다.\n",
    "\n",
    "다른 선생님들의 채점 결과를 보니 엘리스 선생님과는 조금 다르게, 점수 칸을 빈칸으로 비워 둔 경우가 있었습니다.\n",
    "\n",
    "지난 실습에서 작성한 코드를 수정해서, 다른 선생님들의 채점 결과에도 사용할 수 있도록 만들어 주세요.\n",
    "\n",
    "매개변수로 주어지는 리스트에는 XX점 꼴의 점수 데이터, 혹은 빈 문자열 \"\"가 주어질 수 있습니다.\n",
    "매개변수로 주어진 리스트에 점수 정보가 하나도 없을 수도 있습니다. 이 경우 None을 return 합니다.\n",
    "빈 문자열은 평균의 분자와 분모에 모두 포함되지 않는 데이터입니다. 무시하고 건너뛰면 됩니다."
   ]
  },
  {
   "cell_type": "code",
   "execution_count": 30,
   "id": "6d6c2c94",
   "metadata": {},
   "outputs": [
    {
     "name": "stdout",
     "output_type": "stream",
     "text": [
      "35.0점\n",
      "30.0점\n",
      "None\n"
     ]
    }
   ],
   "source": [
    "def get_average_score(scores):\n",
    "    sum_scores = 0\n",
    "    valid_score_count = 0\n",
    "    for score in scores:\n",
    "        # '점'이라는 글자를 제거합니다.\n",
    "        point = score[:-1]\n",
    "        if point != \"\":\n",
    "            sum_scores += int(point)\n",
    "            valid_score_count += 1\n",
    "    if valid_score_count == 0:\n",
    "        return None\n",
    "    average = sum_scores / valid_score_count\n",
    "    return str(average) + '점'\n",
    "\n",
    "\n",
    "print(get_average_score(['20점', '55점', '30점']))\n",
    "print(get_average_score(['', '30점']))\n",
    "print(get_average_score(['', '']))"
   ]
  },
  {
   "cell_type": "markdown",
   "id": "05f385ec",
   "metadata": {},
   "source": [
    "자주 접하는 에러 코드\n",
    "\n",
    "Recursion Error (심화)"
   ]
  },
  {
   "cell_type": "code",
   "execution_count": 32,
   "id": "7a943040",
   "metadata": {},
   "outputs": [
    {
     "ename": "RecursionError",
     "evalue": "maximum recursion depth exceeded",
     "output_type": "error",
     "traceback": [
      "\u001b[1;31m---------------------------------------------------------------------------\u001b[0m",
      "\u001b[1;31mRecursionError\u001b[0m                            Traceback (most recent call last)",
      "\u001b[1;32m<ipython-input-32-e8c14b4ee818>\u001b[0m in \u001b[0;36m<module>\u001b[1;34m\u001b[0m\n\u001b[0;32m      4\u001b[0m     \u001b[1;32mreturn\u001b[0m \u001b[0mn\u001b[0m \u001b[1;33m+\u001b[0m \u001b[0msum_to\u001b[0m\u001b[1;33m(\u001b[0m\u001b[0mn\u001b[0m\u001b[1;33m-\u001b[0m\u001b[1;36m1\u001b[0m\u001b[1;33m)\u001b[0m\u001b[1;33m\u001b[0m\u001b[1;33m\u001b[0m\u001b[0m\n\u001b[0;32m      5\u001b[0m \u001b[1;33m\u001b[0m\u001b[0m\n\u001b[1;32m----> 6\u001b[1;33m \u001b[0msum_to\u001b[0m\u001b[1;33m(\u001b[0m\u001b[1;36m4\u001b[0m\u001b[1;33m)\u001b[0m\u001b[1;33m\u001b[0m\u001b[1;33m\u001b[0m\u001b[0m\n\u001b[0m",
      "\u001b[1;32m<ipython-input-32-e8c14b4ee818>\u001b[0m in \u001b[0;36msum_to\u001b[1;34m(n)\u001b[0m\n\u001b[0;32m      2\u001b[0m \u001b[1;31m#     if n == 0:\u001b[0m\u001b[1;33m\u001b[0m\u001b[1;33m\u001b[0m\u001b[1;33m\u001b[0m\u001b[0m\n\u001b[0;32m      3\u001b[0m \u001b[1;31m#         return 0\u001b[0m\u001b[1;33m\u001b[0m\u001b[1;33m\u001b[0m\u001b[1;33m\u001b[0m\u001b[0m\n\u001b[1;32m----> 4\u001b[1;33m     \u001b[1;32mreturn\u001b[0m \u001b[0mn\u001b[0m \u001b[1;33m+\u001b[0m \u001b[0msum_to\u001b[0m\u001b[1;33m(\u001b[0m\u001b[0mn\u001b[0m\u001b[1;33m-\u001b[0m\u001b[1;36m1\u001b[0m\u001b[1;33m)\u001b[0m\u001b[1;33m\u001b[0m\u001b[1;33m\u001b[0m\u001b[0m\n\u001b[0m\u001b[0;32m      5\u001b[0m \u001b[1;33m\u001b[0m\u001b[0m\n\u001b[0;32m      6\u001b[0m \u001b[0msum_to\u001b[0m\u001b[1;33m(\u001b[0m\u001b[1;36m4\u001b[0m\u001b[1;33m)\u001b[0m\u001b[1;33m\u001b[0m\u001b[1;33m\u001b[0m\u001b[0m\n",
      "... last 1 frames repeated, from the frame below ...\n",
      "\u001b[1;32m<ipython-input-32-e8c14b4ee818>\u001b[0m in \u001b[0;36msum_to\u001b[1;34m(n)\u001b[0m\n\u001b[0;32m      2\u001b[0m \u001b[1;31m#     if n == 0:\u001b[0m\u001b[1;33m\u001b[0m\u001b[1;33m\u001b[0m\u001b[1;33m\u001b[0m\u001b[0m\n\u001b[0;32m      3\u001b[0m \u001b[1;31m#         return 0\u001b[0m\u001b[1;33m\u001b[0m\u001b[1;33m\u001b[0m\u001b[1;33m\u001b[0m\u001b[0m\n\u001b[1;32m----> 4\u001b[1;33m     \u001b[1;32mreturn\u001b[0m \u001b[0mn\u001b[0m \u001b[1;33m+\u001b[0m \u001b[0msum_to\u001b[0m\u001b[1;33m(\u001b[0m\u001b[0mn\u001b[0m\u001b[1;33m-\u001b[0m\u001b[1;36m1\u001b[0m\u001b[1;33m)\u001b[0m\u001b[1;33m\u001b[0m\u001b[1;33m\u001b[0m\u001b[0m\n\u001b[0m\u001b[0;32m      5\u001b[0m \u001b[1;33m\u001b[0m\u001b[0m\n\u001b[0;32m      6\u001b[0m \u001b[0msum_to\u001b[0m\u001b[1;33m(\u001b[0m\u001b[1;36m4\u001b[0m\u001b[1;33m)\u001b[0m\u001b[1;33m\u001b[0m\u001b[1;33m\u001b[0m\u001b[0m\n",
      "\u001b[1;31mRecursionError\u001b[0m: maximum recursion depth exceeded"
     ]
    }
   ],
   "source": [
    "def sum_to(n):\n",
    "#     if n == 0:\n",
    "#         return 0\n",
    "    return n + sum_to(n-1)\n",
    "    \n",
    "sum_to(4)"
   ]
  },
  {
   "cell_type": "code",
   "execution_count": 33,
   "id": "7755f0bd",
   "metadata": {},
   "outputs": [
    {
     "data": {
      "text/plain": [
       "10"
      ]
     },
     "execution_count": 33,
     "metadata": {},
     "output_type": "execute_result"
    }
   ],
   "source": [
    "# ---------------------------------------------------------------------------\n",
    "# RecursionError                            Traceback (most recent call last)\n",
    "# <ipython-input-32-e8c14b4ee818> in <module>\n",
    "#       4     return n + sum_to(n-1)\n",
    "#       5 \n",
    "# ----> 6 sum_to(4)\n",
    "\n",
    "# <ipython-input-32-e8c14b4ee818> in sum_to(n)\n",
    "#       2 #     if n == 0:\n",
    "#       3 #         return 0\n",
    "# ----> 4     return n + sum_to(n-1)\n",
    "#       5 \n",
    "#       6 sum_to(4)\n",
    "\n",
    "# ... last 1 frames repeated, from the frame below ...\n",
    "\n",
    "# <ipython-input-32-e8c14b4ee818> in sum_to(n)\n",
    "#       2 #     if n == 0:\n",
    "#       3 #         return 0\n",
    "# ----> 4     return n + sum_to(n-1)\n",
    "#       5 \n",
    "#       6 sum_to(4)\n",
    "\n",
    "# RecursionError: maximum recursion depth exceeded\n",
    "# 끝나지 않는 재귀\n",
    "\n",
    "def sum_to(n):\n",
    "    if n == 0:\n",
    "        return 0\n",
    "    return n + sum_to(n-1)\n",
    "    \n",
    "sum_to(4) # 10"
   ]
  },
  {
   "cell_type": "markdown",
   "id": "b8a612bb",
   "metadata": {},
   "source": [
    "재귀 디버깅\n",
    "이 실습은 심화 내용인 재귀에 대해 다룹니다. 재귀에 대한 깊은 이해가 필요하지는 않지만, 재귀라는 단어를 전혀 들어본 적이 없다면 꼭 강의 동영상을 들은 후에 실습을 진행해 주세요.\n",
    "\n",
    "주어진 코드는 강의 동영상에서 보았던 sum_to() 함수입니다. 이 코드는 한 번 실행하면 절대 종료되지 않는 코드라서, 파이썬이 RecursionError를 일으키며 강제로 프로그램을 종료시킵니다.\n",
    "\n",
    "sum_to() 함수의 문제가 무엇인지 강의 동영상을 들으며 찾아 보고, 수정해서 원하는 값을 얻을 수 있게 만들어 주세요."
   ]
  },
  {
   "cell_type": "code",
   "execution_count": null,
   "id": "b0647533",
   "metadata": {},
   "outputs": [],
   "source": [
    "# 1부터 n까지 자연수의 합을 구합니다.\n",
    "def sum_to(n):\n",
    "    if n == 0 :\n",
    "        return 0\n",
    "    return n + sum_to(n - 1)\n",
    "\n",
    "print(sum_to(10))\n"
   ]
  },
  {
   "cell_type": "markdown",
   "id": "598b37d0",
   "metadata": {},
   "source": [
    "3. try / except"
   ]
  },
  {
   "cell_type": "markdown",
   "id": "84d66503",
   "metadata": {},
   "source": [
    "try / except"
   ]
  },
  {
   "cell_type": "markdown",
   "id": "369ccc87",
   "metadata": {},
   "source": [
    "에러 피하기"
   ]
  },
  {
   "cell_type": "code",
   "execution_count": 36,
   "id": "20f48f51",
   "metadata": {},
   "outputs": [],
   "source": [
    "def average(numbers):\n",
    "    return sum(numbers) / len(numbers)"
   ]
  },
  {
   "cell_type": "code",
   "execution_count": null,
   "id": "0d52479d",
   "metadata": {},
   "outputs": [],
   "source": [
    "def average(numbers):\n",
    "    if len(numbers) > 0 :\n",
    "        return sum(numbers) / len(numbers)\n",
    "    print(\"No numbers!\")"
   ]
  },
  {
   "cell_type": "code",
   "execution_count": null,
   "id": "9ad2a24b",
   "metadata": {},
   "outputs": [],
   "source": [
    "def average(numbers):\n",
    "    try :\n",
    "        return sum(numbers)/len(numbers)\n",
    "    except ZeroDivisionError:\n",
    "        print(\"No numbers!\")"
   ]
  },
  {
   "cell_type": "markdown",
   "id": "66cdff6d",
   "metadata": {},
   "source": [
    "성적 정리 3\n",
    "성적 정리 3 에서는 이번 주 두 번째 실습이었던 성적 정리 2의 코드를 리팩토링* 해보겠습니다.\n",
    "\n",
    "성적 정리 2 코드에서 if 문으로 해결했던 예외 처리를 try와 except를 사용하는 코드로 바꿔 보세요.\n",
    "\n",
    "try와 except를 사용하면, 예외적인 경우가 무엇인지 더 명시적으로 나타낼 수 있습니다. 적절한 경우에 사용하면, 코드를 이해하는 데 도움이 됩니다.\n",
    "\n",
    "*리팩토링: 동일한 동작을 하는 코드를 다른 방식으로 짜는 것"
   ]
  },
  {
   "cell_type": "code",
   "execution_count": 37,
   "id": "37a523d3",
   "metadata": {},
   "outputs": [
    {
     "name": "stdout",
     "output_type": "stream",
     "text": [
      "35.0점\n",
      "30.0점\n",
      "None\n"
     ]
    }
   ],
   "source": [
    "def get_average_score(scores):\n",
    "    sum_scores = 0\n",
    "    valid_score_count = 0\n",
    "\n",
    "    for score in scores:\n",
    "        try:\n",
    "            sum_scores += int(score[:-1])\n",
    "            valid_score_count += 1\n",
    "        except ValueError:\n",
    "            pass\n",
    "    \n",
    "#         # 빈 문자열인 경우 세지 않습니다.\n",
    "#         if score == '':\n",
    "#             point = 0\n",
    "    \n",
    "#         # '점'이라는 글자를 제거합니다.\n",
    "#         else:\n",
    "#             point = int(score[:-1])\n",
    "#             valid_score_count += 1\n",
    "        \n",
    "#         sum_scores += point\n",
    "    \n",
    "    if valid_score_count == 0:\n",
    "        return None\n",
    "    \n",
    "    average = sum_scores / valid_score_count\n",
    "    return str(average) + '점'\n",
    "\n",
    "\n",
    "print(get_average_score(['20점', '55점', '30점']))\n",
    "print(get_average_score(['', '30점']))\n",
    "print(get_average_score(['', '']))\n"
   ]
  },
  {
   "cell_type": "code",
   "execution_count": null,
   "id": "dcdcf618",
   "metadata": {},
   "outputs": [],
   "source": [
    "def get_average_score(scores):\n",
    "    sum_scores = 0\n",
    "    valid_score_count = 0\n",
    "\n",
    "    for score in scores:\n",
    "        try:\n",
    "            sum_scores += int(score[:-1])\n",
    "            valid_score_count += 1\n",
    "        except ValueError:\n",
    "            pass\n",
    "    \n",
    "#         # 빈 문자열인 경우 세지 않습니다.\n",
    "#         if score == '':\n",
    "#             point = 0\n",
    "    \n",
    "#         # '점'이라는 글자를 제거합니다.\n",
    "#         else:\n",
    "#             point = int(score[:-1])\n",
    "#             valid_score_count += 1\n",
    "        \n",
    "#         sum_scores += point\n",
    "    \n",
    "    try:\n",
    "        average = sum_scores / valid_score_count\n",
    "    except ZeroDivisionError:\n",
    "        return None\n",
    "        \n",
    "    return str(average) + '점'\n",
    "\n",
    "\n",
    "print(get_average_score(['20점', '55점', '30점']))\n",
    "print(get_average_score(['', '30점']))\n",
    "print(get_average_score(['', '']))"
   ]
  }
 ],
 "metadata": {
  "kernelspec": {
   "display_name": "Python 3",
   "language": "python",
   "name": "python3"
  },
  "language_info": {
   "codemirror_mode": {
    "name": "ipython",
    "version": 3
   },
   "file_extension": ".py",
   "mimetype": "text/x-python",
   "name": "python",
   "nbconvert_exporter": "python",
   "pygments_lexer": "ipython3",
   "version": "3.8.8"
  }
 },
 "nbformat": 4,
 "nbformat_minor": 5
}
