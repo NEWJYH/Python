{
 "cells": [
  {
   "cell_type": "markdown",
   "id": "750901c9",
   "metadata": {},
   "source": [
    "실전 디버깅!\n",
    "\n",
    "실전 문제를 풀어보며,\n",
    "다양한 버그를 찾아내고 안전한 코드를 설계하는 능력을 기릅니다."
   ]
  },
  {
   "cell_type": "markdown",
   "id": "998ddc9f",
   "metadata": {},
   "source": [
    "미션 소개"
   ]
  },
  {
   "cell_type": "markdown",
   "id": "bd454751",
   "metadata": {},
   "source": [
    "계산기"
   ]
  },
  {
   "cell_type": "code",
   "execution_count": null,
   "id": "b3d2519c",
   "metadata": {},
   "outputs": [],
   "source": [
    "class Calculator():\n",
    "    def clear():\n",
    "        pass\n",
    "    def press_digit(digit):\n",
    "        pass\n",
    "    def press_plus():\n",
    "        pass\n",
    "    \n",
    "import unittest\n",
    "\n",
    "class CaculatorTests(unittest,TestCase):\n",
    "    def test_press_one_digit(self):\n",
    "        pass\n",
    "    def test_press_multiple_digits(self):\n",
    "        pass\n",
    "    def test_press_clear_after_writing(self):\n",
    "        pass\n",
    "\n",
    "unittest.main()"
   ]
  },
  {
   "cell_type": "markdown",
   "id": "c50444ae",
   "metadata": {},
   "source": [
    "계산기 테스트 / 디버깅\n",
    "\n",
    "스켈레톤 코드 이해 -> 테스트 코드 작성 -> 테스트 실패한 부분 수정"
   ]
  },
  {
   "cell_type": "markdown",
   "id": "71949869",
   "metadata": {},
   "source": [
    "계산기 디버깅 준비하기 1\n",
    "이번 주 프로젝트에서는 우리가 흔히 사용하는 계산기를 직접 구현합니다.\n",
    "\n",
    "본격적인 실습에 앞서서, 이번 주 프로젝트를 진행하는데 사용되는 클래스 개념을 잠시 짚고 넘어가겠습니다.\n",
    "\n",
    "우리는 Calculator 라는 클래스로 계산기를 표현하고, 계산기의 여러 버튼들을 클래스의 메소드(클래스 안의 함수)로 표현합니다.\n",
    "\n",
    "예를 들어, clear() 함수는, 계산기의 클리어(C 혹은 AC) 버튼을 눌렀을 때의 내부 동작을 나타냅니다.\n",
    "\n",
    "메소드 작성법\n",
    "함수의 모든 메소드는 self를 첫 번째 매개변수로 갖습니다. 이 값은 실제로 메소드를 호출할 때에는 넣어주지 않는 인자입니다.\n",
    "\n",
    "예를 들면, 6번째 줄의 clear 선언에는 self라는 매개변수 1개가 존재하지만, 4번째 줄에서 clear를 호출할 때에는 인자를 넣어주지 않습니다. self는 자기 자신의 속성(클래스가 고유하게 갖는 변수)에 접근하거나 메소드를 호출할 때 사용합니다.\n",
    "\n",
    "이 실습에서 구현할 것\n",
    "이 실습에서는 계산기의 숫자 버튼(0부터 9까지 중 하나)을 눌렀을 때의 동작을 나타내는 press_digit() 함수를 구현합니다.\n",
    "\n",
    "이 함수는 다음과 같은 조건을 만족해야 합니다.\n",
    "\n",
    "한 자리 숫자 1개를 매개변수로 받습니다.\n",
    "현재 화면에 표시된 수(current_number)가 0이라면, 입력한 숫자를 화면에 표시합니다.\n",
    "현재 화면에 표시된 수가 0이 아니라면, 입력한 숫자를 일의 자리에 이어 붙입니다. 예를 들어, 12가 표시되어 있는 상태에서 8을 입력하면 128을 표시합니다.\n",
    "가장 최근에 입력한 버튼 정보(last_input)를 해당 숫자로 바꿉니다.\n",
    "스켈레톤 코드의 clear() 메소드를 참고해서, press_digit() 메소드를 직접 작성해 보세요."
   ]
  },
  {
   "cell_type": "code",
   "execution_count": null,
   "id": "dbbcb56f",
   "metadata": {},
   "outputs": [],
   "source": [
    "class Calculator:\n",
    "    current_number = 0\n",
    "    current_operator = None\n",
    "    memory = None\n",
    "    last_input = None\n",
    "    \n",
    "    def __init__(self):\n",
    "        self.clear()\n",
    "    \n",
    "    def clear(self):\n",
    "        # 현재 화면에 표시되는 숫자를 0으로 바꿉니다.\n",
    "        self.current_number = 0\n",
    "        \n",
    "        # 가장 최근에 입력한 연산자 정보를 삭제합니다.\n",
    "        self.current_operator = None\n",
    "        \n",
    "        # 메모리에 저장된 숫자 정보를 삭제합니다.\n",
    "        self.memory = None\n",
    "        \n",
    "        # 가장 최근에 입력한 버튼 정보를 삭제합니다.\n",
    "        self.last_input = None\n",
    "    \n",
    "    # 아래에 press_digit 메소드를 작성합니다.\n",
    "    def press_digit(self, digit):\n",
    "        assert(type(digit) is int)\n",
    "        assert(0 <= digit <= 9)\n",
    "        \n",
    "        # 1. 현재 화면에 표시된 수가 0이라면 입력한 숫자를 화면에 표시합니다.\n",
    "        if self.current_number == 0:\n",
    "            self.current_number = digit\n",
    "        # 2. 현재 화면에 표시된 수가 0이 아니라면, 입력한 숫자를 일의자리에\n",
    "        #    이어 붙입니다.\n",
    "        elif self.current_number != 0:\n",
    "            self.current_number = int(str(self.memory) + str(digit))\n",
    "        # 가장 최근에 입력한 버튼 정보 입력\n",
    "        # 메모 업데이트\n",
    "        self.memory = self.current_number\n",
    "        # 마지막 입력 버튼 정보 입력\n",
    "        self.last_input = digit\n",
    "        \n",
    "if __name__ == \"__main__\":\n",
    "    ca = Calculator()\n",
    "    ca.press_digit(0)\n",
    "    ca.press_digit(2)\n",
    "    ca.press_digit(3)\n",
    "    print(ca.current_number)"
   ]
  },
  {
   "cell_type": "markdown",
   "id": "72b40e20",
   "metadata": {},
   "source": [
    "계산기 디버깅 준비하기 2\n",
    "이전 실습에 이어서, 이번주 프로젝트를 위한 몸풀기 실습입니다.\n",
    "\n",
    "이번 실습에서 완성할 함수는 2개입니다.\n",
    "\n",
    "operate(): 숫자 2개와 연산자가 주어졌을 때, 그 결과값을 계산합니다. 예를 들어, operate(5, 3, '+')의 결과값은 5 + 3, 즉 8입니다. 연산자는 반드시 '+', '-', '*', '/'중 하나입니다.\n",
    "press_equal(): Calculator 클래스의 메소드입니다. 메모리에 저장된 값과, 현재 화면에 표시된 값과, 가장 최근에 누른 연산자를 이용해 결과값을 구하고 그 값을 화면(current_number)에 표시합니다.\n",
    "\n",
    "잘 이해가 되지 않는다면, 3, +, 5, =을 순서대로 누르는 상황을 생각해 보세요. 마지막 = 버튼을 누르는 시점에 메모리에는 3이, 화면에는 5가, 최근 연산자에는 ‘+’가 저장되어 있습니다. 그 결과 8이 화면에 표시됩니다.\n",
    "\n",
    "스켈레톤 코드에 적힌 설명을 잘 읽고, 함수 2개를 완성해 보세요."
   ]
  },
  {
   "cell_type": "code",
   "execution_count": null,
   "id": "700647d8",
   "metadata": {},
   "outputs": [],
   "source": []
  },
  {
   "cell_type": "markdown",
   "id": "ee935e9a",
   "metadata": {},
   "source": []
  },
  {
   "cell_type": "markdown",
   "id": "ae202acc",
   "metadata": {},
   "source": []
  },
  {
   "cell_type": "markdown",
   "id": "cc1434c6",
   "metadata": {},
   "source": []
  },
  {
   "cell_type": "markdown",
   "id": "8c48104a",
   "metadata": {},
   "source": []
  },
  {
   "cell_type": "markdown",
   "id": "d9de51d1",
   "metadata": {},
   "source": []
  },
  {
   "cell_type": "markdown",
   "id": "e269cb6f",
   "metadata": {},
   "source": []
  },
  {
   "cell_type": "markdown",
   "id": "ba9f51e8",
   "metadata": {},
   "source": []
  }
 ],
 "metadata": {
  "kernelspec": {
   "display_name": "Python 3",
   "language": "python",
   "name": "python3"
  },
  "language_info": {
   "codemirror_mode": {
    "name": "ipython",
    "version": 3
   },
   "file_extension": ".py",
   "mimetype": "text/x-python",
   "name": "python",
   "nbconvert_exporter": "python",
   "pygments_lexer": "ipython3",
   "version": "3.8.8"
  }
 },
 "nbformat": 4,
 "nbformat_minor": 5
}
