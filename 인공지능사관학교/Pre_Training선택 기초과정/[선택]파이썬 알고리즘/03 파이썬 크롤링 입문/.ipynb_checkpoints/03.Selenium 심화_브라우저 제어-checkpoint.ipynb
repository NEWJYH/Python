{
 "cells": [
  {
   "cell_type": "markdown",
   "id": "052e873d",
   "metadata": {},
   "source": [
    "3. Selenium 심화 : 브라우저 제어\n",
    "    - 웹 테스트 자동화 도구인 Selenium을 이용해\n",
    "      브라우저를 제어하는 방법을 배웁니다."
   ]
  },
  {
   "cell_type": "markdown",
   "id": "de44abb0",
   "metadata": {},
   "source": [
    "목 차\n",
    "\n",
    "01. Selenium을 이용한 브라우저 제어\n",
    "\n",
    "02. 브라우저 로딩 기다리기\n",
    "\n",
    "03. 키보드/마우스 입력\n",
    "\n",
    "04. 다양한 입력, ActionChains\n",
    "\n",
    "05. 맺으며"
   ]
  },
  {
   "cell_type": "markdown",
   "id": "69a2e78d",
   "metadata": {},
   "source": [
    "01. Selenium을 이용한 브라우저 제어"
   ]
  },
  {
   "cell_type": "markdown",
   "id": "8c725d99",
   "metadata": {},
   "source": [
    "로그인이 필요한 페이지\n",
    "\n",
    "driver.get(\"https://mail.naver.com\")\n",
    "e_list = driver.find_elements_by_xpath('//div/p')\n",
    "\n",
    "for e in e_list:\n",
    "    print(e.text)\n",
    "    \n",
    "실행 결과\n",
    "-> 로그인 필요"
   ]
  },
  {
   "cell_type": "markdown",
   "id": "20fa2fcd",
   "metadata": {},
   "source": [
    "동적으로 렌더링되는 페이지\n",
    "\n",
    "드랍다운 내리면 html이 있지만\n",
    "닫으면 사라짐"
   ]
  },
  {
   "cell_type": "markdown",
   "id": "7ead1a6b",
   "metadata": {},
   "source": [
    "브라우저 제어\n",
    "\n",
    "1) 로그인 자동화\n",
    "    - 로그인 후에만 나오는 웹페이지 분석을 위해\n",
    "    - ID와 비밀번호 입력 후 로그인 버튼 클릭(또는 엔터키)\n",
    "    => 어떻게?\n",
    "    \n",
    "2) 드랍다운 버튼 클릭\n",
    "    - 드랍다운 버튼을 클릭해야만 나오는 요소의 추출을 위해\n",
    "    - 드랍다운 버튼을 찾아서 클릭\n",
    "    => 어떻게?\n",
    "    \n",
    "답은 Selenium이다!"
   ]
  },
  {
   "cell_type": "markdown",
   "id": "b7dc1565",
   "metadata": {},
   "source": [
    "02. 브라우저 로딩 기다리기"
   ]
  },
  {
   "cell_type": "markdown",
   "id": "329a7290",
   "metadata": {},
   "source": [
    "Scraping 동작 순서\n",
    "\n",
    "Python\n",
    "with webdriver.Firefox() as driver:\n",
    "    driver.get(url) # 웹 페이지 로딩\n",
    "    \n",
    "    e = driver.find_element()\n",
    "    ....\n",
    "    \n",
    "    \n",
    "< 이상적인 경우 >\n",
    "with webdriver.Firefox() as driver:\n",
    "             ↓\n",
    "      driver.get(url) ----------↓\n",
    "             ↓                  ↓\n",
    "             ↓        ←   해당 웹 페이지 로딩 \n",
    "             ↓\n",
    "      e = driver.find_element()\n",
    "             ↓\n",
    "           ....."
   ]
  },
  {
   "cell_type": "markdown",
   "id": "f5f0abbf",
   "metadata": {},
   "source": [
    "Scraping 동작 순서 : 지연된 로딩\n",
    "\n",
    "Python\n",
    "with webdriver.Firefox() as driver:\n",
    "    driver.get(url) # 웹 페이지 로딩\n",
    "    \n",
    "    e = driver.find_element() # error !\n",
    "    ....\n",
    "    \n",
    "    \n",
    "    \n",
    "< 네트워크 문제 등으로 로딩이 늦을 경우 >\n",
    "with webdriver.Firefox() as driver:\n",
    "             ↓\n",
    "      driver.get(url) -----------↓\n",
    "             ↓                  ↓\n",
    "             ↓                  ↓\n",
    "             ↓                  ↓\n",
    "      e = driver.find_element()  ↓ # Error\n",
    "             ↓     ← ← ← ←   해당 웹 페이지 로딩 \n",
    "           ....."
   ]
  },
  {
   "cell_type": "markdown",
   "id": "d6a9a2be",
   "metadata": {},
   "source": [
    "기다리기 : 3가지\n",
    "\n",
    "무조건 기다리기\n",
    "\n",
    "\n",
    "Python\n",
    "import time\n",
    "\n",
    "with webdriver.Firefox() as driver:\n",
    "    driver.get(url) # 웹페이지 로딩\n",
    "    time.sleep(10) # 10초간 기다리기\n",
    "    \n",
    "    e = driver.find_element()\n",
    "    ....\n",
    "    \n",
    "time.sleep()\n",
    "- 파이썬 내장 라이브러리\n",
    "- n초만큼 무조건 기달림\n",
    "- 웹페이지 로딩이 끝났어도 주어진 시간을\n",
    "  계속 기다리기 때문에 비효율적"
   ]
  },
  {
   "cell_type": "markdown",
   "id": "2d082807",
   "metadata": {},
   "source": [
    "암시적 기다리기\n",
    "\n",
    "Python\n",
    "with webdriver.Firefox() as driver:\n",
    "    driver.implicitly_wait(10) # 10초\n",
    "    \n",
    "    driver.get(url) # 웹페이지로딩\n",
    "    \n",
    "    e = driver.find_element()\n",
    "    ....\n",
    "\n",
    "implicitly_wait(n)\n",
    "- 암시적으로 기다림 수행\n",
    "- 웹 페이지를 새로 로딩할 때마다 (driver.get)\n",
    "  최대 n초까지 기다림 \n",
    "- 웹 페이지 로딩이 끝나면 기다리기를 종료하고 코드를 수행 v\n",
    "- 한 번만설정해주면 계속해서 적용"
   ]
  },
  {
   "cell_type": "markdown",
   "id": "3a209092",
   "metadata": {},
   "source": [
    "특정 요소만 로딩이 지연되는 경우\n",
    "\n",
    "웹페이지는 로딩이 됐으나, 요소가 불러와지지 않은 경우"
   ]
  },
  {
   "cell_type": "markdown",
   "id": "3eb55514",
   "metadata": {},
   "source": [
    "지연된 로딩 예시\n",
    "\n",
    "페이지 로딩이 끝남 -> 잠시 후에 광고가 보인다.\n",
    "\n",
    "광고 JS를 통해 넣게 되는데\n",
    "Error 발생"
   ]
  },
  {
   "cell_type": "markdown",
   "id": "fe6c69aa",
   "metadata": {},
   "source": [
    "명시적 기다리기\n",
    "\n",
    "Python\n",
    "from selenium import webdriver\n",
    "from selenium.webdriver.common.by import By\n",
    "from selenium.webdriver.support.ui import WebDriverWait\n",
    "from selenium.webdriver.support import expected_conditions as EC\n",
    "\n",
    "with webdriver.Firefox() as driver:\n",
    "    driver.implicitly_wait(10) # 10초\n",
    "    driver.get(url) # 웹페이지로딩\n",
    "    e = WebDriverWait(driver, 10).until(\n",
    "       EC.presence_of_element_located((By.ID,\"id_name\"))\n",
    "       ) # 해당 요소를 불러올 때까지 10초 기다림\n",
    "       \n",
    "명시적 기다리기\n",
    "- 기다릴 요소를 명시\n",
    "- 명시된 요소가 해당 방식으로 불러와\n",
    "  질 때까지 최대 n초 기다림\n",
    "- 요소는 class_name, xpath등 다양한 방법으로 찾을 수 있음\n",
    "\n",
    "presence_of_element_located\n",
    "- 괄호 안의 요소가 나타날 때까지 기다림"
   ]
  },
  {
   "cell_type": "markdown",
   "id": "17eb0af7",
   "metadata": {},
   "source": [
    "명시적 기다리기\n",
    "\n",
    "Python\n",
    "from selenium import webdriver\n",
    "from selenium.webdriver.common.by import By\n",
    "from selenium.webdriver.support.ui import WebDriverWait\n",
    "from selenium.webdriver.support import expected_conditions as EC\n",
    "\n",
    "with webdriver.Firefox() as driver:\n",
    "    driver.implicitly_wait(10) # 10초\n",
    "    driver.get(url) # 웹페이지로딩\n",
    "    e = WebDriverWait(driver, 10).until(\n",
    "       EC.element_to_be_clickable((By.ID,\"id_name\"))\n",
    "       ) # 해당 요소가 클릭 가능해질때까지 10초 기다림\n",
    "       \n",
    "(By.ID, \"id_name\")\n",
    "- 요소를 찾는 방법과 파라미터를 의미\n",
    "- id 외에 대표적으로 사용하는 것\n",
    "    - (By.XPATH, \"xpath\")\n",
    "    - (By.CLASS, \"class_name\")\n",
    "\n",
    "element_to_be_clickable\n",
    "- 해당 요소가 클릭 가능해질 때까지 기다림\n",
    "\n",
    "6/16"
   ]
  },
  {
   "cell_type": "markdown",
   "id": "1f46ba7c",
   "metadata": {},
   "source": []
  },
  {
   "cell_type": "markdown",
   "id": "f9309955",
   "metadata": {},
   "source": []
  },
  {
   "cell_type": "markdown",
   "id": "1ecd5040",
   "metadata": {},
   "source": []
  },
  {
   "cell_type": "markdown",
   "id": "aa5c57d2",
   "metadata": {},
   "source": []
  },
  {
   "cell_type": "markdown",
   "id": "5ca7cf30",
   "metadata": {},
   "source": []
  },
  {
   "cell_type": "markdown",
   "id": "2ace8ed8",
   "metadata": {},
   "source": []
  },
  {
   "cell_type": "markdown",
   "id": "80ab81f3",
   "metadata": {},
   "source": []
  },
  {
   "cell_type": "markdown",
   "id": "439364a0",
   "metadata": {},
   "source": []
  },
  {
   "cell_type": "markdown",
   "id": "8014b6af",
   "metadata": {},
   "source": []
  },
  {
   "cell_type": "markdown",
   "id": "723db2a8",
   "metadata": {},
   "source": []
  },
  {
   "cell_type": "markdown",
   "id": "e5520f53",
   "metadata": {},
   "source": []
  },
  {
   "cell_type": "markdown",
   "id": "570d4061",
   "metadata": {},
   "source": []
  },
  {
   "cell_type": "markdown",
   "id": "6dccaac0",
   "metadata": {},
   "source": []
  },
  {
   "cell_type": "markdown",
   "id": "470bbb56",
   "metadata": {},
   "source": []
  },
  {
   "cell_type": "markdown",
   "id": "a4fd7268",
   "metadata": {},
   "source": []
  },
  {
   "cell_type": "markdown",
   "id": "4d1ed37c",
   "metadata": {},
   "source": []
  },
  {
   "cell_type": "markdown",
   "id": "cb56b37d",
   "metadata": {},
   "source": []
  },
  {
   "cell_type": "markdown",
   "id": "9236b789",
   "metadata": {},
   "source": []
  },
  {
   "cell_type": "markdown",
   "id": "e67fda5e",
   "metadata": {},
   "source": []
  },
  {
   "cell_type": "markdown",
   "id": "f08edabb",
   "metadata": {},
   "source": []
  },
  {
   "cell_type": "markdown",
   "id": "f67a0343",
   "metadata": {},
   "source": []
  },
  {
   "cell_type": "markdown",
   "id": "2d16eeff",
   "metadata": {},
   "source": []
  },
  {
   "cell_type": "markdown",
   "id": "fa555f77",
   "metadata": {},
   "source": []
  },
  {
   "cell_type": "markdown",
   "id": "e0ab4b94",
   "metadata": {},
   "source": []
  },
  {
   "cell_type": "markdown",
   "id": "ee8645ef",
   "metadata": {},
   "source": []
  },
  {
   "cell_type": "markdown",
   "id": "3ad1831f",
   "metadata": {},
   "source": []
  },
  {
   "cell_type": "markdown",
   "id": "f2347052",
   "metadata": {},
   "source": []
  },
  {
   "cell_type": "markdown",
   "id": "b559990f",
   "metadata": {},
   "source": []
  },
  {
   "cell_type": "markdown",
   "id": "1b998cf1",
   "metadata": {},
   "source": []
  },
  {
   "cell_type": "markdown",
   "id": "32a4cbfc",
   "metadata": {},
   "source": []
  },
  {
   "cell_type": "markdown",
   "id": "ae480672",
   "metadata": {},
   "source": []
  },
  {
   "cell_type": "markdown",
   "id": "3d2b719d",
   "metadata": {},
   "source": []
  },
  {
   "cell_type": "markdown",
   "id": "8db9a044",
   "metadata": {},
   "source": []
  },
  {
   "cell_type": "markdown",
   "id": "1ab0e6c3",
   "metadata": {},
   "source": []
  },
  {
   "cell_type": "markdown",
   "id": "15fe5324",
   "metadata": {},
   "source": []
  },
  {
   "cell_type": "markdown",
   "id": "d1e51733",
   "metadata": {},
   "source": []
  },
  {
   "cell_type": "markdown",
   "id": "316bcf08",
   "metadata": {},
   "source": []
  },
  {
   "cell_type": "markdown",
   "id": "82023609",
   "metadata": {},
   "source": []
  },
  {
   "cell_type": "markdown",
   "id": "fb10ba2c",
   "metadata": {},
   "source": []
  },
  {
   "cell_type": "markdown",
   "id": "847907a6",
   "metadata": {},
   "source": []
  },
  {
   "cell_type": "markdown",
   "id": "46b19bc9",
   "metadata": {},
   "source": []
  },
  {
   "cell_type": "markdown",
   "id": "6cb73c67",
   "metadata": {},
   "source": []
  },
  {
   "cell_type": "markdown",
   "id": "178817b7",
   "metadata": {},
   "source": []
  },
  {
   "cell_type": "markdown",
   "id": "77804cc0",
   "metadata": {},
   "source": []
  },
  {
   "cell_type": "markdown",
   "id": "d03535ca",
   "metadata": {},
   "source": []
  },
  {
   "cell_type": "markdown",
   "id": "842c6c25",
   "metadata": {},
   "source": []
  },
  {
   "cell_type": "markdown",
   "id": "0f960547",
   "metadata": {},
   "source": []
  },
  {
   "cell_type": "markdown",
   "id": "bf258674",
   "metadata": {},
   "source": []
  },
  {
   "cell_type": "markdown",
   "id": "f294a31b",
   "metadata": {},
   "source": []
  },
  {
   "cell_type": "markdown",
   "id": "1e2153e5",
   "metadata": {},
   "source": []
  },
  {
   "cell_type": "markdown",
   "id": "f6b139e0",
   "metadata": {},
   "source": []
  },
  {
   "cell_type": "markdown",
   "id": "08e26624",
   "metadata": {},
   "source": []
  },
  {
   "cell_type": "markdown",
   "id": "26a2d980",
   "metadata": {},
   "source": []
  },
  {
   "cell_type": "markdown",
   "id": "ea0aab06",
   "metadata": {},
   "source": []
  },
  {
   "cell_type": "markdown",
   "id": "4cc3073c",
   "metadata": {},
   "source": []
  },
  {
   "cell_type": "markdown",
   "id": "4e7b5519",
   "metadata": {},
   "source": []
  },
  {
   "cell_type": "markdown",
   "id": "cfdc1e27",
   "metadata": {},
   "source": []
  },
  {
   "cell_type": "markdown",
   "id": "52852377",
   "metadata": {},
   "source": []
  },
  {
   "cell_type": "markdown",
   "id": "9b4ea029",
   "metadata": {},
   "source": []
  },
  {
   "cell_type": "markdown",
   "id": "45fc4b55",
   "metadata": {},
   "source": []
  },
  {
   "cell_type": "markdown",
   "id": "4389695e",
   "metadata": {},
   "source": []
  },
  {
   "cell_type": "markdown",
   "id": "54f7cbd2",
   "metadata": {},
   "source": []
  },
  {
   "cell_type": "markdown",
   "id": "5dafdc29",
   "metadata": {},
   "source": []
  }
 ],
 "metadata": {
  "kernelspec": {
   "display_name": "Python 3",
   "language": "python",
   "name": "python3"
  },
  "language_info": {
   "codemirror_mode": {
    "name": "ipython",
    "version": 3
   },
   "file_extension": ".py",
   "mimetype": "text/x-python",
   "name": "python",
   "nbconvert_exporter": "python",
   "pygments_lexer": "ipython3",
   "version": "3.8.8"
  }
 },
 "nbformat": 4,
 "nbformat_minor": 5
}
