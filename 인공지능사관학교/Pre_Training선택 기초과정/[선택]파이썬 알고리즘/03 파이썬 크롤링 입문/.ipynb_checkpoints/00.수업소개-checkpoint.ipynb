{
 "cells": [
  {
   "cell_type": "markdown",
   "id": "6233af89",
   "metadata": {},
   "source": [
    "파이썬 크롤링 입문"
   ]
  },
  {
   "cell_type": "markdown",
   "id": "dab3716b",
   "metadata": {},
   "source": [
    "커리 큘럼\n",
    "\n",
    "1. HTML 훑어보기\n",
    "    - 웹의 기본이되고, \n",
    "      원하는 정보가 있는 HTML에 대해 배워보는 시간을 가집니다.\n",
    "      \n",
    "2. Selenium 활용 : 스크래핑\n",
    "    - 웹 스크래핑을 도와주는 파이썬 라이브러리 Selenium에 대해 \n",
    "      알아보고, 스크래핑을 할 수 있는 방법을 배웁니다.\n",
    "      \n",
    "3. Selenium 심화 : 브라우저 제어\n",
    "    - 웹 테스트 자동화 도구인 Selenium을 이용해\n",
    "      브라우저를 제어하는 방법을 배웁니다.\n",
    "      \n",
    "4. 웹 스크래핑 프로젝트\n",
    "    - 앞에서 배운 것들을 토대로 다양한 웹 페이지를 스크래핑\n",
    "      해보는 시간을 가집니다."
   ]
  }
 ],
 "metadata": {
  "kernelspec": {
   "display_name": "Python 3",
   "language": "python",
   "name": "python3"
  },
  "language_info": {
   "codemirror_mode": {
    "name": "ipython",
    "version": 3
   },
   "file_extension": ".py",
   "mimetype": "text/x-python",
   "name": "python",
   "nbconvert_exporter": "python",
   "pygments_lexer": "ipython3",
   "version": "3.8.8"
  }
 },
 "nbformat": 4,
 "nbformat_minor": 5
}
