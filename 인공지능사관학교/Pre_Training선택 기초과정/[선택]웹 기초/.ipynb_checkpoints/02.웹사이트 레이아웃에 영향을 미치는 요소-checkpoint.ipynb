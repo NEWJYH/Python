{
 "cells": [
  {
   "cell_type": "markdown",
   "id": "cdbcb8d5",
   "metadata": {},
   "source": [
    "목 차\n",
    "\n",
    "01. 박스모델\n",
    "\n",
    "02. Block 요소와 Inline 요소\n",
    "\n",
    "03. 마진 병합 현상\n",
    "\n",
    "04. 레이아웃에 영향을 미치는 속성\n",
    "\n",
    "05. 쇼핑몰 만들기"
   ]
  },
  {
   "cell_type": "markdown",
   "id": "3fb5d582",
   "metadata": {},
   "source": [
    "01. 박스모델"
   ]
  },
  {
   "cell_type": "markdown",
   "id": "ab4125c3",
   "metadata": {},
   "source": [
    "박스 모델 구조\n",
    "\n",
    "margin\n",
    "border\n",
    "padding\n",
    "\n",
    "content\n",
    "\n",
    "padding\n",
    "border\n",
    "margin"
   ]
  },
  {
   "cell_type": "markdown",
   "id": "730873a7",
   "metadata": {},
   "source": [
    "margin과 padding의 차이\n",
    "\n",
    "Example\n",
    "\n",
    "<style>\n",
    "    div {\n",
    "      margin-left : 100px;\n",
    "      padding-left : 100px;\n",
    "    }\n",
    "</style>\n",
    "\n",
    "\n",
    "margin-left #right,top,botton\n",
    "- border 바깥쪽에서 왼쪽에 여백을 만듬\n",
    "padding-left #right,top,botton\n",
    "- border안쪽에서 왼쪽에 여백을 만듦\n",
    "- 공간이 여백을 포함한 크기로 변경되는 점 유의"
   ]
  },
  {
   "cell_type": "markdown",
   "id": "d30cf65d",
   "metadata": {},
   "source": [
    "margin과 padding의 작성 방법\n",
    "\n",
    "Example\n",
    "<style>\n",
    "    div { margin : 100px 0 0 100px; }\n",
    "</style>\n",
    "\n",
    "\n",
    "top right bottom left 순서로 한줄에 작성 가능\n",
    "#12시 시계방향 "
   ]
  },
  {
   "cell_type": "markdown",
   "id": "25cf0698",
   "metadata": {},
   "source": [
    "박스모델\n",
    "박스 모델은 웹사이트 레이아웃을 구성하는 요소들 중 하나입니다.\n",
    "\n",
    "border를 기준으로, 바깥쪽은 margin,\n",
    "안쪽은 padding입니다.\n",
    "\n",
    "박스 가장 안쪽에는 내용을 담는 content가 있습니다.\n",
    "\n",
    "<div>에 박스모델을 적용해 봅시다.\n",
    "\n",
    "\n",
    "지시사항\n",
    "넓이와 높이를 각각 300px로 설정합니다.\n",
    "배경색을 노란색으로 설정합니다.\n",
    "테두리는 빨간색 실선으로, 두께는 10px로 설정합니다.\n",
    "margin-left과 padding-left를 각각 100px로 설정합니다.\n",
    "Tip\n",
    "padding 값을 수정하면 전체 공간의 크기가 달라져 레이아웃이 틀어질 수 있으므로 유의해야 합니다!\n",
    "\n",
    "margin 값은 margin: (top) (right) (bottom) (left) 처럼 한 줄에 작성할 수도 있습니다.\n",
    "\n",
    "/* 예시 */\n",
    "margin: 0 0 0 100px;\n",
    "Copy\n",
    "[결과 화면]\n",
    "\n",
    "image"
   ]
  },
  {
   "cell_type": "code",
   "execution_count": null,
   "id": "4353524a",
   "metadata": {},
   "outputs": [],
   "source": [
    "'''\n",
    "<!DOCTYPE html>\n",
    "<html>\n",
    "<head>\n",
    "\n",
    "  <meta charset=\"UTF-8\">\n",
    "  <title>박스모델</title>\n",
    "  \n",
    "  <style>\n",
    "    div {\n",
    "      width: 300px;\n",
    "      height: 300px;\n",
    "      background-color: yellow;\n",
    "      \n",
    "      border: solid 10px red;\n",
    "      \n",
    "      /* margin-left: 100px;\n",
    "      padding-left: 100px; */\n",
    "      margin : 0 0 0 100px;\n",
    "      padding : 0 0 0 100px;\n",
    "    }\n",
    "  </style>\n",
    "  \n",
    "</head>\n",
    "<body>\n",
    "\n",
    "  <div>Hello World</div>\n",
    "\n",
    "</body>\n",
    "</html>\n",
    "\n",
    "'''"
   ]
  },
  {
   "cell_type": "markdown",
   "id": "97f0268a",
   "metadata": {},
   "source": [
    "02. Block 요소와 Inline 요소"
   ]
  },
  {
   "cell_type": "markdown",
   "id": "6d632c88",
   "metadata": {},
   "source": [
    "Block 요소와 Inline 요소\n",
    "\n",
    "Example\n",
    "<!-- Block 요소-->\n",
    "<p>Hello Elice</p>\n",
    "<p>Hello Elice</p>\n",
    "<p>Hello Elice</p>\n",
    "\n",
    "// <p>태그 : Block 요소\n",
    "\n",
    "<!-- Inline 요소-->\n",
    "<a>Bye Elice</a>\n",
    "<a>Bye Elice</a>\n",
    "<a>Bye Elice</a>\n",
    "    \n",
    "// <a> 태그 : Inline 요소"
   ]
  },
  {
   "cell_type": "markdown",
   "id": "3f704b13",
   "metadata": {},
   "source": [
    "Block 요소의 특징\n",
    "\n",
    "Example\n",
    "\n",
    "<style>\n",
    "    p {\n",
    "     width : 200px;\n",
    "     height : 200px;\n",
    "     margin-top : 100px;\n",
    "    }\n",
    "</style>\n",
    "\n",
    "- <p> 태그가 대표적\n",
    "- 줄바꿈 현상이 나타남\n",
    "- width / height 값 사용 가능 -> 공간 만들기 가능\n",
    "- margin과 padding 값 사용 가능 -> 상하 배치 작업 가능"
   ]
  },
  {
   "cell_type": "markdown",
   "id": "8c317198",
   "metadata": {},
   "source": [
    "Inline 요소의 특징\n",
    "\n",
    "- <a>, <span>태그 대표적\n",
    "- width / height 값 적용 불가\n",
    "- margin / padding -top,bottom 값 사용 불가"
   ]
  },
  {
   "cell_type": "markdown",
   "id": "e8765bd6",
   "metadata": {},
   "source": [
    "Block 요소와 Inline 요소\n",
    "Block 요소는 줄바꿈 현상이 일어나는 y축 정렬 형태인 반면, Inline 요소는 줄바꿈 현상이 일어나지 않는 x축 정렬 형태입니다.\n",
    "\n",
    "Block 요소는 Inline 요소와 다르게 width와 height를 지정하여 공간을 만들 수 있습니다. 또한, margin과 padding을 사용하여 상하배치 작업이 가능합니다.\n",
    "\n",
    "width, height, margin, padding을 사용하여 두 요소의 차이를 확인해 봅시다!\n",
    "\n",
    "\n",
    "지시사항\n",
    "<p>와 <a> 모두 width과 height를 각각 200px로 설정합니다.\n",
    "두 태그를 구분하기 위해 <p>의 배경색은 노란색(yellow), <a>의 배경색은 분홍색(pink) 으로 설정합니다.\n",
    "<p>와 <a> 모두 margin-top으로 100px를 설정합니다.\n",
    "두 태그들이 어떻게 다르게 출력되는지 확인해보세요!\n",
    "[결과 화면]\n",
    "\n",
    "image"
   ]
  },
  {
   "cell_type": "code",
   "execution_count": null,
   "id": "d90fcdc5",
   "metadata": {},
   "outputs": [],
   "source": [
    "'''\n",
    "<!DOCTYPE html>\n",
    "<html>\n",
    "<head>\n",
    "\n",
    "  <meta charset=\"UTF-8\">\n",
    "  <title>Block 요소와 Inline 요소</title>\n",
    "  \n",
    "  <style>\n",
    "    p { \n",
    "        width : 200px;\n",
    "        height : 200px;\n",
    "        background : yellow;\n",
    "        margin : 100px 0 0 0 ;\n",
    "    }\n",
    "   /*\n",
    "   a태그 인라인 요소 width height 사용 불가\n",
    "   margin,padding top, bottom 사용 불가 (상하만 안됨)(좌우는 가능)\n",
    "   */ \n",
    "    a {\n",
    "        width : 200px;\n",
    "        height : 200px; \n",
    "        background : pink;\n",
    "        margin : 100px 0 0 0 ;\n",
    "\n",
    "    }\n",
    "  </style>\n",
    "  \n",
    "</head>\n",
    "<body>\n",
    "\n",
    "  <!-- Block 요소 -->\n",
    "  <p>Block 요소</p>\n",
    "  <p>Block 요소</p>\n",
    "  <p>Block 요소</p>\n",
    "  \n",
    "  <!-- Inline 요소 -->\n",
    "  <a href=\"#\">Inline 요소</a>\n",
    "  <a href=\"#\">Inline 요소</a>\n",
    "  <a href=\"#\">Inline 요소</a>\n",
    "\n",
    "</body>\n",
    "</html>\n",
    "\n",
    "'''"
   ]
  },
  {
   "cell_type": "markdown",
   "id": "756fe259",
   "metadata": {},
   "source": []
  },
  {
   "cell_type": "markdown",
   "id": "c6e39c09",
   "metadata": {},
   "source": []
  },
  {
   "cell_type": "markdown",
   "id": "e46f5e9d",
   "metadata": {},
   "source": []
  },
  {
   "cell_type": "markdown",
   "id": "fc1344fb",
   "metadata": {},
   "source": []
  },
  {
   "cell_type": "markdown",
   "id": "7ff287ae",
   "metadata": {},
   "source": []
  },
  {
   "cell_type": "markdown",
   "id": "3233d087",
   "metadata": {},
   "source": []
  },
  {
   "cell_type": "markdown",
   "id": "92e04775",
   "metadata": {},
   "source": []
  },
  {
   "cell_type": "code",
   "execution_count": null,
   "id": "3947b90f",
   "metadata": {},
   "outputs": [],
   "source": []
  },
  {
   "cell_type": "markdown",
   "id": "02f25a43",
   "metadata": {},
   "source": []
  },
  {
   "cell_type": "markdown",
   "id": "87042e9d",
   "metadata": {},
   "source": []
  },
  {
   "cell_type": "markdown",
   "id": "71143343",
   "metadata": {},
   "source": []
  },
  {
   "cell_type": "markdown",
   "id": "76f26303",
   "metadata": {},
   "source": []
  },
  {
   "cell_type": "markdown",
   "id": "44a95b1a",
   "metadata": {},
   "source": []
  },
  {
   "cell_type": "markdown",
   "id": "895c1fbf",
   "metadata": {},
   "source": []
  },
  {
   "cell_type": "markdown",
   "id": "d910e91d",
   "metadata": {},
   "source": []
  },
  {
   "cell_type": "markdown",
   "id": "dbd74072",
   "metadata": {},
   "source": []
  },
  {
   "cell_type": "code",
   "execution_count": null,
   "id": "aefc0270",
   "metadata": {},
   "outputs": [],
   "source": []
  },
  {
   "cell_type": "markdown",
   "id": "8a01bce1",
   "metadata": {},
   "source": []
  },
  {
   "cell_type": "markdown",
   "id": "e1d03c3e",
   "metadata": {},
   "source": []
  },
  {
   "cell_type": "markdown",
   "id": "f58743c5",
   "metadata": {},
   "source": []
  },
  {
   "cell_type": "markdown",
   "id": "bf627ee7",
   "metadata": {},
   "source": []
  },
  {
   "cell_type": "markdown",
   "id": "50d2ef68",
   "metadata": {},
   "source": []
  },
  {
   "cell_type": "markdown",
   "id": "9ce89fdd",
   "metadata": {},
   "source": []
  },
  {
   "cell_type": "markdown",
   "id": "7ba060e0",
   "metadata": {},
   "source": []
  },
  {
   "cell_type": "markdown",
   "id": "51c14f7d",
   "metadata": {},
   "source": []
  },
  {
   "cell_type": "code",
   "execution_count": null,
   "id": "5e92c15a",
   "metadata": {},
   "outputs": [],
   "source": []
  },
  {
   "cell_type": "markdown",
   "id": "725d34d2",
   "metadata": {},
   "source": []
  },
  {
   "cell_type": "markdown",
   "id": "3c7bacf9",
   "metadata": {},
   "source": []
  },
  {
   "cell_type": "markdown",
   "id": "eee85b55",
   "metadata": {},
   "source": []
  },
  {
   "cell_type": "markdown",
   "id": "63d42142",
   "metadata": {},
   "source": []
  },
  {
   "cell_type": "markdown",
   "id": "8213e8d4",
   "metadata": {},
   "source": []
  },
  {
   "cell_type": "markdown",
   "id": "97577157",
   "metadata": {},
   "source": []
  },
  {
   "cell_type": "markdown",
   "id": "2b1b2b00",
   "metadata": {},
   "source": []
  },
  {
   "cell_type": "code",
   "execution_count": null,
   "id": "75c65fe6",
   "metadata": {},
   "outputs": [],
   "source": []
  },
  {
   "cell_type": "markdown",
   "id": "22a2bd6f",
   "metadata": {},
   "source": []
  },
  {
   "cell_type": "markdown",
   "id": "1e695c39",
   "metadata": {},
   "source": []
  },
  {
   "cell_type": "markdown",
   "id": "b4365643",
   "metadata": {},
   "source": []
  },
  {
   "cell_type": "markdown",
   "id": "be6c0bc8",
   "metadata": {},
   "source": []
  },
  {
   "cell_type": "markdown",
   "id": "9b0a1ff6",
   "metadata": {},
   "source": []
  },
  {
   "cell_type": "markdown",
   "id": "464e725b",
   "metadata": {},
   "source": []
  },
  {
   "cell_type": "markdown",
   "id": "6752e67b",
   "metadata": {},
   "source": []
  },
  {
   "cell_type": "code",
   "execution_count": null,
   "id": "c80f1bab",
   "metadata": {},
   "outputs": [],
   "source": []
  },
  {
   "cell_type": "markdown",
   "id": "635a9288",
   "metadata": {},
   "source": []
  },
  {
   "cell_type": "markdown",
   "id": "dc207861",
   "metadata": {},
   "source": []
  },
  {
   "cell_type": "markdown",
   "id": "5438ed20",
   "metadata": {},
   "source": []
  },
  {
   "cell_type": "markdown",
   "id": "b3dba504",
   "metadata": {},
   "source": []
  },
  {
   "cell_type": "markdown",
   "id": "de29e5da",
   "metadata": {},
   "source": []
  },
  {
   "cell_type": "markdown",
   "id": "c29a9590",
   "metadata": {},
   "source": []
  },
  {
   "cell_type": "markdown",
   "id": "6a872dd6",
   "metadata": {},
   "source": []
  },
  {
   "cell_type": "markdown",
   "id": "c0af3f16",
   "metadata": {},
   "source": []
  },
  {
   "cell_type": "markdown",
   "id": "f0c38c3c",
   "metadata": {},
   "source": []
  },
  {
   "cell_type": "code",
   "execution_count": null,
   "id": "b2df31bc",
   "metadata": {},
   "outputs": [],
   "source": []
  },
  {
   "cell_type": "markdown",
   "id": "235e1979",
   "metadata": {},
   "source": []
  },
  {
   "cell_type": "markdown",
   "id": "90644442",
   "metadata": {},
   "source": []
  },
  {
   "cell_type": "markdown",
   "id": "bdd9a77a",
   "metadata": {},
   "source": []
  },
  {
   "cell_type": "markdown",
   "id": "9a0b8988",
   "metadata": {},
   "source": []
  },
  {
   "cell_type": "code",
   "execution_count": null,
   "id": "76354e33",
   "metadata": {},
   "outputs": [],
   "source": []
  },
  {
   "cell_type": "markdown",
   "id": "91cd8344",
   "metadata": {},
   "source": []
  },
  {
   "cell_type": "markdown",
   "id": "bcd89874",
   "metadata": {},
   "source": []
  },
  {
   "cell_type": "markdown",
   "id": "6e7ce055",
   "metadata": {},
   "source": []
  },
  {
   "cell_type": "markdown",
   "id": "ca048779",
   "metadata": {},
   "source": []
  },
  {
   "cell_type": "markdown",
   "id": "2663e86c",
   "metadata": {},
   "source": []
  },
  {
   "cell_type": "markdown",
   "id": "38da185d",
   "metadata": {},
   "source": []
  },
  {
   "cell_type": "markdown",
   "id": "86d40cfb",
   "metadata": {},
   "source": []
  },
  {
   "cell_type": "code",
   "execution_count": null,
   "id": "d347a198",
   "metadata": {},
   "outputs": [],
   "source": []
  },
  {
   "cell_type": "markdown",
   "id": "fec649af",
   "metadata": {},
   "source": []
  },
  {
   "cell_type": "markdown",
   "id": "26c40215",
   "metadata": {},
   "source": []
  },
  {
   "cell_type": "markdown",
   "id": "181ce825",
   "metadata": {},
   "source": []
  },
  {
   "cell_type": "markdown",
   "id": "66794670",
   "metadata": {},
   "source": []
  },
  {
   "cell_type": "markdown",
   "id": "e41ef9b6",
   "metadata": {},
   "source": []
  },
  {
   "cell_type": "markdown",
   "id": "e291dd13",
   "metadata": {},
   "source": []
  },
  {
   "cell_type": "markdown",
   "id": "711bf043",
   "metadata": {},
   "source": []
  },
  {
   "cell_type": "code",
   "execution_count": null,
   "id": "47915c1a",
   "metadata": {},
   "outputs": [],
   "source": []
  },
  {
   "cell_type": "markdown",
   "id": "7a1551ee",
   "metadata": {},
   "source": []
  },
  {
   "cell_type": "markdown",
   "id": "ff553f81",
   "metadata": {},
   "source": []
  },
  {
   "cell_type": "markdown",
   "id": "9b5fcaf8",
   "metadata": {},
   "source": []
  },
  {
   "cell_type": "markdown",
   "id": "f0e73ada",
   "metadata": {},
   "source": []
  },
  {
   "cell_type": "markdown",
   "id": "98839af7",
   "metadata": {},
   "source": []
  },
  {
   "cell_type": "markdown",
   "id": "ee6b20b7",
   "metadata": {},
   "source": []
  },
  {
   "cell_type": "markdown",
   "id": "0de89f23",
   "metadata": {},
   "source": []
  },
  {
   "cell_type": "code",
   "execution_count": null,
   "id": "96e526d0",
   "metadata": {},
   "outputs": [],
   "source": []
  },
  {
   "cell_type": "markdown",
   "id": "8b33aefb",
   "metadata": {},
   "source": []
  },
  {
   "cell_type": "markdown",
   "id": "7298be6f",
   "metadata": {},
   "source": []
  },
  {
   "cell_type": "markdown",
   "id": "448c13ac",
   "metadata": {},
   "source": []
  },
  {
   "cell_type": "markdown",
   "id": "d27f5d7f",
   "metadata": {},
   "source": []
  },
  {
   "cell_type": "markdown",
   "id": "47f025c1",
   "metadata": {},
   "source": []
  },
  {
   "cell_type": "markdown",
   "id": "2dcec1da",
   "metadata": {},
   "source": []
  },
  {
   "cell_type": "markdown",
   "id": "5d051064",
   "metadata": {},
   "source": []
  },
  {
   "cell_type": "code",
   "execution_count": null,
   "id": "77871b73",
   "metadata": {},
   "outputs": [],
   "source": []
  },
  {
   "cell_type": "markdown",
   "id": "14153e3d",
   "metadata": {},
   "source": []
  },
  {
   "cell_type": "markdown",
   "id": "91e599be",
   "metadata": {},
   "source": []
  },
  {
   "cell_type": "code",
   "execution_count": null,
   "id": "026c5993",
   "metadata": {},
   "outputs": [],
   "source": []
  },
  {
   "cell_type": "code",
   "execution_count": null,
   "id": "e99cecd2",
   "metadata": {},
   "outputs": [],
   "source": []
  },
  {
   "cell_type": "code",
   "execution_count": null,
   "id": "9bf3fedc",
   "metadata": {},
   "outputs": [],
   "source": []
  },
  {
   "cell_type": "code",
   "execution_count": null,
   "id": "62b3f190",
   "metadata": {},
   "outputs": [],
   "source": []
  },
  {
   "cell_type": "code",
   "execution_count": null,
   "id": "245cc9a8",
   "metadata": {},
   "outputs": [],
   "source": []
  },
  {
   "cell_type": "code",
   "execution_count": null,
   "id": "e452213f",
   "metadata": {},
   "outputs": [],
   "source": []
  },
  {
   "cell_type": "code",
   "execution_count": null,
   "id": "e96cea8a",
   "metadata": {},
   "outputs": [],
   "source": []
  },
  {
   "cell_type": "code",
   "execution_count": null,
   "id": "c43f577a",
   "metadata": {},
   "outputs": [],
   "source": []
  },
  {
   "cell_type": "code",
   "execution_count": null,
   "id": "6161563d",
   "metadata": {},
   "outputs": [],
   "source": []
  },
  {
   "cell_type": "code",
   "execution_count": null,
   "id": "fb3b8c54",
   "metadata": {},
   "outputs": [],
   "source": []
  },
  {
   "cell_type": "code",
   "execution_count": null,
   "id": "10e29a51",
   "metadata": {},
   "outputs": [],
   "source": []
  },
  {
   "cell_type": "code",
   "execution_count": null,
   "id": "63931963",
   "metadata": {},
   "outputs": [],
   "source": []
  },
  {
   "cell_type": "code",
   "execution_count": null,
   "id": "d32f081a",
   "metadata": {},
   "outputs": [],
   "source": []
  },
  {
   "cell_type": "code",
   "execution_count": null,
   "id": "fad35b09",
   "metadata": {},
   "outputs": [],
   "source": []
  },
  {
   "cell_type": "code",
   "execution_count": null,
   "id": "7acaac8b",
   "metadata": {},
   "outputs": [],
   "source": []
  },
  {
   "cell_type": "code",
   "execution_count": null,
   "id": "23333ed2",
   "metadata": {},
   "outputs": [],
   "source": []
  },
  {
   "cell_type": "code",
   "execution_count": null,
   "id": "217bd449",
   "metadata": {},
   "outputs": [],
   "source": []
  },
  {
   "cell_type": "code",
   "execution_count": null,
   "id": "9b018229",
   "metadata": {},
   "outputs": [],
   "source": []
  },
  {
   "cell_type": "code",
   "execution_count": null,
   "id": "c689ba48",
   "metadata": {},
   "outputs": [],
   "source": []
  },
  {
   "cell_type": "code",
   "execution_count": null,
   "id": "6f127223",
   "metadata": {},
   "outputs": [],
   "source": []
  },
  {
   "cell_type": "code",
   "execution_count": null,
   "id": "0759fdfa",
   "metadata": {},
   "outputs": [],
   "source": []
  }
 ],
 "metadata": {
  "kernelspec": {
   "display_name": "Python 3",
   "language": "python",
   "name": "python3"
  },
  "language_info": {
   "codemirror_mode": {
    "name": "ipython",
    "version": 3
   },
   "file_extension": ".py",
   "mimetype": "text/x-python",
   "name": "python",
   "nbconvert_exporter": "python",
   "pygments_lexer": "ipython3",
   "version": "3.8.8"
  }
 },
 "nbformat": 4,
 "nbformat_minor": 5
}
