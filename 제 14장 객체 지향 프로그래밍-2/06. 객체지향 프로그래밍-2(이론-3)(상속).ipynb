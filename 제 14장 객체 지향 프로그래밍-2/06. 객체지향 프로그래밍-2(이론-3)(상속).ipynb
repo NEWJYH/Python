{
 "cells": [
  {
   "cell_type": "markdown",
   "id": "e319a100",
   "metadata": {},
   "source": [
    "6. 클래스 상속"
   ]
  },
  {
   "cell_type": "markdown",
   "id": "48612ed2",
   "metadata": {},
   "source": [
    "1) 상속이란?\n",
    "    - 클래스의 상속(Inheritance)은 기존 클래스에 있는 필드와 메서드를\n",
    "      그대로 물려받은 새로운 클래스를 만드는 것이다.\n",
    "      \n",
    "    - 상속 받은 후에는 새로운 클래스에서 추가로 필드나 메서드를 \n",
    "      만들어서 사용해도 된다.\n",
    "      \n",
    "    - 승용차 클래스와 트럭 클랙스를 생성한다고 가정해보자.\n",
    "      우리는 앞 장에서 배운 내용으로 각 클래스를 생성 할 수 있다.\n",
    "      다음을 보자."
   ]
  },
  {
   "cell_type": "code",
   "execution_count": 3,
   "id": "6b974a9f",
   "metadata": {},
   "outputs": [
    {
     "name": "stdout",
     "output_type": "stream",
     "text": [
      "Car 생성자 호출\n",
      "Truck 생성자 호출\n"
     ]
    },
    {
     "data": {
      "text/plain": [
       "4"
      ]
     },
     "execution_count": 3,
     "metadata": {},
     "output_type": "execute_result"
    }
   ],
   "source": [
    "class Car:\n",
    "    '''Superclass'''\n",
    "    def __init__(self,color =\"black\",speed = 0,seat = 4):\n",
    "        print(\"Car 생성자 호출\")\n",
    "        self.color = color\n",
    "        self.speed = speed \n",
    "        self.seat = seat\n",
    "        \n",
    "    def Upspeed(self, value):\n",
    "        self.speed += value\n",
    "        \n",
    "    def Downspeed(self, value):\n",
    "        self.speed -= value\n",
    "        \n",
    "    def Getseat(self):\n",
    "        return self.seat\n",
    "    \n",
    "        \n",
    "class Truck(Car):\n",
    "    '''Subclass'''\n",
    "    def __init__(self, weight=100):\n",
    "        super().__init__()\n",
    "        print(\"Truck 생성자 호출\")\n",
    "        self.weight = weight\n",
    "        \n",
    "    \n",
    "    def GetWeight(self):\n",
    "        return self.weight\n",
    "    \n",
    "    \n",
    "MyTruck = Truck()\n",
    "MyTruck.Getseat()"
   ]
  },
  {
   "cell_type": "markdown",
   "id": "09cfb070",
   "metadata": {},
   "source": [
    "1) 상속이란?\n",
    "    - 승용차와 트럭은 공통된 부분이 많다.\n",
    "      필드 중에는 색상, 속도가 공통되고, \n",
    "      메서드는 속도 올리기() 속도 내리기() 메서드가 공통된다.\n",
    "      \n",
    "      차이점이라면 승용차는 좌석 수 필드가 필요하고, \n",
    "      트럭은 적재량 필드가 필요하며,\n",
    "      각각을 알아내는 좌석 수 알아보기()메서드와 적재량 알아보기()\n",
    "      메서드가 필요하다.\n",
    "      \n",
    "    - 자동차 각각 모두 클래스로 생성하는 것 보다는 승용차, 트럭의 \n",
    "      공통적인 특징을 자동차라는 클래스로 생성한 후\n",
    "      승용차와 트럭은 자동차 클래스의 특징을 그대로 물려받고,\n",
    "      필요한 필드와 메서드만 추가하면 상당히 효율적이지 않을까?"
   ]
  },
  {
   "cell_type": "markdown",
   "id": "62c1fee4",
   "metadata": {},
   "source": [
    "1) 상속이란?\n",
    "    - 공통된 내용을 자동차 클래스에 두고 상속 받음으로써,\n",
    "      일관되고 효율적인 프로그래밍이 가능하다.\n",
    "      참고로 상위 클래스인 자동차 클래스를 슈퍼 클래스 또는 부모 클래스\n",
    "      조상 클래스 라고도 하며,\n",
    "      하위 승용차와 트럭 클래스는 서브 클래스, 자식클래스, 자손 클래스\n",
    "      라고도 한다.\n",
    "      상속을 구현하는 문법은 서브 클래스를 정의할때\n",
    "      괄호 안에 슈퍼 클래스의 이름을 넣으면 된다.\n",
    "     \n",
    "      class 서브클래스(슈퍼클래스):\n",
    "          # 이 부분에 서브 클래스의 내용 코딩\n",
    "          \n",
    "    - 승용차와 트럭의 공통되는 필드인 색상, 속도\n",
    "      공통되는 메서드인 속도 올리고 내리기()를 자동차 클래스에 정의했다.\n",
    "      그리고 자동차 클래스를 상속받아서 승용차와 트럭 클래스를 만들었다.\n",
    "      승용차 클래스에서는 자동차 클래스의 필드와 메서드를 그대로\n",
    "      이어받고, 좌석 수 필드와 좌석수 알아보기()메서드를 추가했다.\n",
    "      트럭 클래스도마찬가지로 자동차 클래스의 필드와 메서드를 그대로\n",
    "      이어 받고, 적재량 필드아 적재량 알아보기()메서드를 추가 했다."
   ]
  },
  {
   "cell_type": "code",
   "execution_count": 8,
   "id": "d700714b",
   "metadata": {},
   "outputs": [
    {
     "name": "stdout",
     "output_type": "stream",
     "text": [
      "Sub 클래스 호출\n",
      "Super 클래스 호출\n"
     ]
    },
    {
     "data": {
      "text/plain": [
       "50"
      ]
     },
     "execution_count": 8,
     "metadata": {},
     "output_type": "execute_result"
    }
   ],
   "source": [
    "class Car:\n",
    "    def __init__(self,speed = 0):\n",
    "        print(\"Super 클래스 호출\")\n",
    "        self.speed = speed\n",
    "    \n",
    "    def upSpeed(self, value):\n",
    "        self.speed += value\n",
    "        \n",
    "class Sadan(Car):\n",
    "    def __init__(self,color =\"Black\"):\n",
    "        print(\"Sub 클래스 호출\")\n",
    "        super().__init__()\n",
    "        self.color = color\n",
    "        \n",
    "MySadan = Sadan()\n",
    "MySadan.color\n",
    "MySadan.speed\n",
    "MySadan.upSpeed(50)\n",
    "MySadan.speed\n"
   ]
  }
 ],
 "metadata": {
  "kernelspec": {
   "display_name": "Python 3",
   "language": "python",
   "name": "python3"
  },
  "language_info": {
   "codemirror_mode": {
    "name": "ipython",
    "version": 3
   },
   "file_extension": ".py",
   "mimetype": "text/x-python",
   "name": "python",
   "nbconvert_exporter": "python",
   "pygments_lexer": "ipython3",
   "version": "3.8.8"
  }
 },
 "nbformat": 4,
 "nbformat_minor": 5
}
