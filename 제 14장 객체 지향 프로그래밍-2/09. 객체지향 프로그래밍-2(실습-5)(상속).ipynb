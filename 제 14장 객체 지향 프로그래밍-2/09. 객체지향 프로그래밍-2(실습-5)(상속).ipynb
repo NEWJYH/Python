{
 "cells": [
  {
   "cell_type": "code",
   "execution_count": 5,
   "id": "9ec7fda6",
   "metadata": {},
   "outputs": [],
   "source": [
    "# Phone 클래스 정의(조상 클래스)\n",
    "# 모든 클래스의 최고 조상 클래스는 object 클래스이다.\n",
    "class Phone(object):\n",
    "    # 생성자\n",
    "    def __init__(self):\n",
    "        self.model = \"\"\n",
    "        self.color = \"\"\n",
    "        self.power = False\n",
    "        self.bell = False\n",
    "    # 메서드 정의\n",
    "    def Power(self):\n",
    "        self.power = not self.power\n",
    "        print(f\"전원 : {self.power}\")\n",
    "            \n",
    "    def Bell(self):\n",
    "        self.bell = not self.bell\n",
    "        print(f\"벨: {self.bell}\")\n",
    "        \n",
    "    def Connect(self):\n",
    "        self.Bell()\n",
    "        print(\"통화가 연결되었습니다.\")\n",
    "        \n",
    "    def sendVoice(self, message):\n",
    "        print(f\"자신 : {message}\")\n",
    "    def receiveVoice(self, message):\n",
    "        print(f\"상대방 : {message}\")\n",
    "        \n",
    "    def hangUp(self):\n",
    "        print(\"전화를 끊습니다.\")\n",
    "        \n"
   ]
  },
  {
   "cell_type": "code",
   "execution_count": 6,
   "id": "2af44da2",
   "metadata": {},
   "outputs": [],
   "source": [
    "# Phone 클래스의 자손클래스인 DmbPhone 클래스 정의\n",
    "# from Phone import *\n",
    "class DmbPhone(Phone):\n",
    "    def __init__(self, model, color, channel=0):\n",
    "        # 조상 클래스 생성자 호출 2가지 방법\n",
    "        # 자손 클래스 생성자 구현부의 첫 줄에 적어주시길 권장\n",
    "        #super.__init__()\n",
    "        Phone.__init__(self)\n",
    "        self.model = model\n",
    "        self.color = color\n",
    "        self.channel = channel\n",
    "        \n",
    "    # 메서드 추가\n",
    "    def turnOnDmb(self):\n",
    "        print(f\"채널 : {self.channel}번 방송수신을 시작합니다.\")\n",
    "        \n",
    "    def turnOffDmb(self):\n",
    "        print(f\"DMB 방송수신을 멈춥니다.\")\n",
    "        \n",
    "    def ChangeChannelDmb(self,channel):\n",
    "        self.channel = channel\n",
    "        print(f\"채널 : {self.channel}번으로 바꿉니다.\")"
   ]
  },
  {
   "cell_type": "code",
   "execution_count": 7,
   "id": "cd2e18b0",
   "metadata": {
    "scrolled": true
   },
   "outputs": [
    {
     "name": "stdout",
     "output_type": "stream",
     "text": [
      "모델 : 파이썬폰\n",
      "색상 : 검정색\n",
      "채널 : 0\n",
      "전원 : True\n",
      "벨: True\n",
      "벨: False\n",
      "통화가 연결되었습니다.\n",
      "자신 : 여보세요\n",
      "상대방 : 안녕하세요! 저는 홍길동입니다.\n",
      "자신 : 안녕하세요 반갑습니다.\n",
      "전화를 끊습니다.\n",
      "채널 : 0번 방송수신을 시작합니다.\n",
      "채널 : 15번으로 바꿉니다.\n",
      "DMB 방송수신을 멈춥니다.\n",
      "전원 : False\n"
     ]
    }
   ],
   "source": [
    "# from DmbPhone import *\n",
    "\n",
    "if __name__ == \"__main__\":\n",
    "    # 자손 클래스의 인스턴스 생성\n",
    "    dmbphone = DmbPhone(\"파이썬폰\",\"검정색\")\n",
    "    # 조상 클래스에게 상속받은 필드\n",
    "    print(f\"모델 : {dmbphone.model}\")\n",
    "    print(f\"색상 : {dmbphone.color}\")\n",
    "    # 자손클래스 필드\n",
    "    print(f\"채널 : {dmbphone.channel}\")\n",
    "    dmbphone.Power()\n",
    "    dmbphone.Bell()\n",
    "    dmbphone.Connect()\n",
    "    dmbphone.sendVoice(\"여보세요\")\n",
    "    dmbphone.receiveVoice(\"안녕하세요! 저는 홍길동입니다.\")\n",
    "    dmbphone.sendVoice(\"안녕하세요 반갑습니다.\")\n",
    "    dmbphone.hangUp()\n",
    "    \n",
    "    # 자손 클래스에서 만든 DMB 기능\n",
    "    dmbphone.turnOnDmb()\n",
    "    dmbphone.ChangeChannelDmb(15)\n",
    "    dmbphone.turnOffDmb()\n",
    "    dmbphone.Power()"
   ]
  }
 ],
 "metadata": {
  "kernelspec": {
   "display_name": "Python 3",
   "language": "python",
   "name": "python3"
  },
  "language_info": {
   "codemirror_mode": {
    "name": "ipython",
    "version": 3
   },
   "file_extension": ".py",
   "mimetype": "text/x-python",
   "name": "python",
   "nbconvert_exporter": "python",
   "pygments_lexer": "ipython3",
   "version": "3.8.8"
  }
 },
 "nbformat": 4,
 "nbformat_minor": 5
}
