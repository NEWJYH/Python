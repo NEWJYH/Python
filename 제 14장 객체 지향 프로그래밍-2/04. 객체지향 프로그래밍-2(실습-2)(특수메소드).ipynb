{
 "cells": [
  {
   "cell_type": "code",
   "execution_count": 18,
   "id": "b78f027f",
   "metadata": {},
   "outputs": [
    {
     "name": "stdout",
     "output_type": "stream",
     "text": [
      "5.0,5.0\n",
      "6.0,6.0\n",
      "-5.0,4.0\n",
      "11.0,11.0\n",
      "11.0,2.0\n",
      "-25.0,20.0\n",
      "False\n"
     ]
    }
   ],
   "source": [
    "# 특수 메소드2\n",
    "\n",
    "# Vector2D 클래스 정의\n",
    "class Vector2D:\n",
    "    def __init__(self,x,y):\n",
    "        self.x = x\n",
    "        self.y = y\n",
    "    \n",
    "    def __add__(self,other): # 새로운 인스턴스를 생성해서 반환한다.\n",
    "        return Vector2D(self.x + other.x, self.y + other.y)\n",
    "    \n",
    "    def __sub__(self,other): # 새로운 인스턴스를 생성해서 반환한다.\n",
    "        return Vector2D(self.x - other.x, self.y - other.y)\n",
    "    \n",
    "    def __mul__(self,other):\n",
    "        return Vector2D(self.x * other.x, self.y * other.y)\n",
    "    \n",
    "    def __eq__(self,other):\n",
    "        return self.x == other.x and self.y == other.y\n",
    "    \n",
    "    def __str__(self):\n",
    "        return f\"{self.x},{self.y}\"\n",
    "    \n",
    "v1 = Vector2D(5.,5.)\n",
    "v2 = Vector2D(6.,6.)\n",
    "v3 = Vector2D(-5.,4.)\n",
    "v4 = v1 + v2 # 여기서 __add__()가 호출된다.\n",
    "v5 = v2 - v3\n",
    "v6 = v1 * v3\n",
    "a = [v1,v2,v3,v4,v5,v6]\n",
    "for i in a :\n",
    "    print(i)\n",
    "print(v1 == v2)"
   ]
  },
  {
   "cell_type": "code",
   "execution_count": 23,
   "id": "04a70cff",
   "metadata": {},
   "outputs": [
    {
     "name": "stdout",
     "output_type": "stream",
     "text": [
      "제목 : 파이썬, 저자 : 인프런, 페이지수 : 874\n",
      "874\n"
     ]
    }
   ],
   "source": [
    "# 특수 메서드를 이용하여 len() 새롭게 메소드를 다른 용도로 정의를\n",
    "# 해보는 실습\n",
    "\n",
    "class Book:\n",
    "    def __init__(self,title,author,pages):\n",
    "        self.title = title\n",
    "        self.author = author\n",
    "        self.pages = pages\n",
    "        \n",
    "    def __str__(self):\n",
    "        return f\"제목 : {self.title}, 저자 : {self.author}, 페이지수 : {self.pages}\"\n",
    "    \n",
    "    def __len__(self):\n",
    "        return self.pages\n",
    "    \n",
    "if __name__ ==\"__main__\":\n",
    "    book = Book(\"파이썬\",\"인프런\",874)\n",
    "    print(book)\n",
    "    print(len(book))"
   ]
  }
 ],
 "metadata": {
  "kernelspec": {
   "display_name": "Python 3",
   "language": "python",
   "name": "python3"
  },
  "language_info": {
   "codemirror_mode": {
    "name": "ipython",
    "version": 3
   },
   "file_extension": ".py",
   "mimetype": "text/x-python",
   "name": "python",
   "nbconvert_exporter": "python",
   "pygments_lexer": "ipython3",
   "version": "3.8.8"
  }
 },
 "nbformat": 4,
 "nbformat_minor": 5
}
