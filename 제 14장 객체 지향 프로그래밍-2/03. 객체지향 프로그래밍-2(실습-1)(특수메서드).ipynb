{
 "cells": [
  {
   "cell_type": "code",
   "execution_count": 6,
   "id": "02fc49ee",
   "metadata": {
    "scrolled": true
   },
   "outputs": [
    {
     "name": "stdout",
     "output_type": "stream",
     "text": [
      "인스턴스의 주소 1501305953200\n",
      "cnt의 주소 140736222275504\n",
      "함수 내 인스턴스의 주소 1501305953200\n",
      "함수 내 cnt의 주소 140736222275504\n",
      "함수 내 반복문안 cnt의 주소 140736222275504\n",
      "0  0\n",
      "함수 내 반복문안 cnt의 주소 140736222275472\n",
      "1  1\n",
      "함수 내 반복문안 cnt의 주소 140736222275440\n",
      "2  4\n",
      "함수 내 반복문안 cnt의 주소 140736222275408\n",
      "3  9\n",
      "함수 내 반복문안 cnt의 주소 140736222275376\n",
      "4  16\n",
      "cnt의 주소 140736222275504\n",
      "인스턴스의 주소 1501305953200\n",
      "사각형의 변의 길이 5\n",
      "반복횟수 5\n"
     ]
    }
   ],
   "source": [
    "# 인스턴스가 함수의 인자값으로 전달될 때는 함수에서 인스턴스의 값을\n",
    "# 변경할 수가 있다. 그 이유는 인스턴스는 함수에 매개변수로 전달될때\n",
    "# 참조(주소)값이 전달이 되어서 변경이 가능하다.\n",
    "# 리스트를 생각하면 쉽게 이해가 될 것이다.\n",
    "\n",
    "# 사각형을 클래스로 정의한다.\n",
    "class Rectangle:\n",
    "    def __init__(self, side=0):\n",
    "        self.side = side\n",
    "        \n",
    "    def getArea(self):\n",
    "        return self.side **2\n",
    "\n",
    "# 사각형 객체와 반복 횟수를 받아서 변을 증가 시키면서 면적을 출력한다.\n",
    "def printAreas(r,n):\n",
    "    print(f\"함수 내 인스턴스의 주소 {id(myRect)}\")\n",
    "    print(f\"함수 내 cnt의 주소 {id(n)}\")\n",
    "    while n >= 1 : # 객체의 변수가 증가된다.\n",
    "        print(f\"함수 내 반복문안 cnt의 주소 {id(n)}\")\n",
    "        print(f\"{r.side}  {r.getArea()}\")\n",
    "        r.side += 1\n",
    "        n -= 1\n",
    "            \n",
    "# printArea()를 호출하여서 객체의 내용이 변경되는지를 확인한다.\n",
    "myRect = Rectangle()\n",
    "print(f\"인스턴스의 주소 {id(myRect)}\")\n",
    "count = 5\n",
    "print(f\"cnt의 주소 {id(count)}\")\n",
    "\n",
    "printAreas(myRect,count)\n",
    "print(f\"cnt의 주소 {id(count)}\")\n",
    "print(f\"인스턴스의 주소 {id(myRect)}\")\n",
    "print(f\"사각형의 변의 길이 {myRect.side}\")\n",
    "print(f\"반복횟수 {count}\")"
   ]
  },
  {
   "cell_type": "code",
   "execution_count": 19,
   "id": "06a7f022",
   "metadata": {},
   "outputs": [
    {
     "name": "stdout",
     "output_type": "stream",
     "text": [
      "__eq__()호출됨\n",
      "원의 반지름이 동일 합니다\n"
     ]
    }
   ],
   "source": [
    "# 특수 메소드 : 인스턴스 간에 산술연산과 비교연산을 해주는 메서드\n",
    "# 예) 인스턴스 a, 와 인스턴스 b가 존재한다면\n",
    "# 주소 + 주소가 되는 형태이기 때문에 연산 자체가 불가하다.\n",
    "# + 연산이 가능하게끔 하기 위해서 __add__() 클래스 안에 메소드로\n",
    "# 정의를 해주면 피연산자가 인스턴스라면  + 연산을 하게 되면 \n",
    "# 자동으로 __add__()호출해준다.\n",
    "\n",
    "# == 연산 실습\n",
    "class Circle:\n",
    "    def __init__(self, radius = 0):\n",
    "        self.radius = radius\n",
    "    # 두개의 인스턴스를 매개변수로 받는다.(주소값 공유)    \n",
    "    def __eq__(self,other):\n",
    "        print(\"__eq__()호출됨\")\n",
    "        return self.radius == other.radius\n",
    "    \n",
    "if __name__ == \"__main__\":\n",
    "    c1 = Circle(10)\n",
    "    c2 = Circle(10)\n",
    "    # 주소값끼리의 연산은 불가능하다.\n",
    "    # 인스턴스간의 == 연산자는 __eq__()를 호출하는 것이다.\n",
    "    if c1 == c2 :\n",
    "        print(\"원의 반지름이 동일 합니다\")"
   ]
  }
 ],
 "metadata": {
  "kernelspec": {
   "display_name": "Python 3",
   "language": "python",
   "name": "python3"
  },
  "language_info": {
   "codemirror_mode": {
    "name": "ipython",
    "version": 3
   },
   "file_extension": ".py",
   "mimetype": "text/x-python",
   "name": "python",
   "nbconvert_exporter": "python",
   "pygments_lexer": "ipython3",
   "version": "3.8.8"
  }
 },
 "nbformat": 4,
 "nbformat_minor": 5
}
