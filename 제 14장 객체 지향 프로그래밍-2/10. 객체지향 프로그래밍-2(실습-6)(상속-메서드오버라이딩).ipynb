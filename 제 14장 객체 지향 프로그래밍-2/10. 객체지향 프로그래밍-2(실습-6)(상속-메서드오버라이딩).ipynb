{
 "cells": [
  {
   "cell_type": "code",
   "execution_count": 1,
   "id": "90936e7f",
   "metadata": {},
   "outputs": [],
   "source": [
    "# 메서드 오버라이딩\n",
    "# 상속 관계에서 조상 클래스에 멤버 메서드를 자손 클래스에서\n",
    "# 상속받아서 자신의 기능에 맞게끔 수정을 한다.(modify, change)\n",
    "# 재정의라고 한다.\n",
    "# 단 메서드의 선언부는 반드시 동일하고 구현부만 \n",
    "# 다르게 하는 것이다.\n",
    "\n",
    "# super class\n",
    "class Car:\n",
    "    def __init__(self):\n",
    "        self.speed = 0\n",
    "        \n",
    "    def upSpeed(self,value):\n",
    "        if value <= 0:\n",
    "            return\n",
    "        self.speed += value\n",
    "        print(f\"현재 속도(조상 클래스) : {self.speed}\")\n",
    "        \n",
    "# child class\n",
    "class Sedan(Car):\n",
    "    def __init__(self):\n",
    "        super().__init__()\n",
    "        \n",
    "    def upSpeed(self,value):\n",
    "        if value <= 0:\n",
    "            return\n",
    "        self.speed += value\n",
    "        # 150km 속도를 넘지 못하게 한다.\n",
    "        if self.speed > 150:\n",
    "            self.speed = 150\n",
    "            print(\"150 km 넘을 수 없습니다.\")\n",
    "        print(f\"현재 속도(자손 클래스) : {self.speed}\")\n",
    "        \n",
    "# child class\n",
    "class Truck(Car):\n",
    "    # 구현부에 pass를 적으면, 조상클래스의 멤버만 상속받고\n",
    "    # 자신의 멤버는 추가하지 않겠다.\n",
    "    pass\n"
   ]
  },
  {
   "cell_type": "code",
   "execution_count": 8,
   "id": "207b3743",
   "metadata": {},
   "outputs": [
    {
     "name": "stdout",
     "output_type": "stream",
     "text": [
      "승용차의 속도 150 km 넘을 수 없습니다.\n",
      "현재 속도(자손 클래스) : 150\n",
      "\n",
      "트럭의 현재 속도(조상 클래스) : 200\n",
      "\n"
     ]
    }
   ],
   "source": [
    "if __name__ == \"__main__\":\n",
    "    sedan1,truck1 = None,None\n",
    "    \n",
    "    sedan1 = Sedan()\n",
    "    truck1 = Truck()\n",
    "\n",
    "    print(f\"승용차의 속도 \" ,end =\"\")\n",
    "    # 메서드 오버라이딩이 되어진 자손클래스의 upSpeed()메서드가 호출됨\n",
    "    sedan1.upSpeed(200)\n",
    "    print()\n",
    "    print(f\"트럭의 \",end=\"\")\n",
    "    truck1.upSpeed(200)\n",
    "    print()"
   ]
  },
  {
   "cell_type": "code",
   "execution_count": null,
   "id": "ebf7ea6c",
   "metadata": {},
   "outputs": [],
   "source": [
    "# 파이썬 접근 제한자\n",
    "# public -> name # 내부,외부\n",
    "# protected -> _name # 내부, 자식\n",
    "# private -> __name # 내부"
   ]
  }
 ],
 "metadata": {
  "kernelspec": {
   "display_name": "Python 3",
   "language": "python",
   "name": "python3"
  },
  "language_info": {
   "codemirror_mode": {
    "name": "ipython",
    "version": 3
   },
   "file_extension": ".py",
   "mimetype": "text/x-python",
   "name": "python",
   "nbconvert_exporter": "python",
   "pygments_lexer": "ipython3",
   "version": "3.8.8"
  }
 },
 "nbformat": 4,
 "nbformat_minor": 5
}
