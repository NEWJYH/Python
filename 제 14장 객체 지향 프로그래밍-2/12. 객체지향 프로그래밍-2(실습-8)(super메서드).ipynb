{
 "cells": [
  {
   "cell_type": "code",
   "execution_count": null,
   "id": "1a9099f1",
   "metadata": {},
   "outputs": [],
   "source": [
    "# super() 메서드 : 자손 클래스에서 메서드 오버라이딩을 할 때,\n",
    "# 조상 클래스의 메서드나 필드를 사용해야하는 경우가 종종 있다.\n",
    "# 이럴 때 사용하는 것이 슈퍼 메서드이다."
   ]
  },
  {
   "cell_type": "code",
   "execution_count": 42,
   "id": "437a30a4",
   "metadata": {},
   "outputs": [],
   "source": [
    "class Car:\n",
    "    value = \"조상 클래스 필드 값\"\n",
    "    \n",
    "    def carMethod(self):\n",
    "        print(\"조상 클래스 메서드 호출\")\n",
    "        \n",
    "class Sedan(Car):\n",
    "    value =\"자손 클래스 필드 값\"\n",
    "    def carMethod(self):\n",
    "        super().carMethod()\n",
    "        print(\"자손 클래스 메서드 호출\")\n",
    "        print(f\"조상 클래스의 value 값 : {super().value}\")\n",
    "        print(f\"자손 클래스의 value 값 : {self.value}\")        "
   ]
  },
  {
   "cell_type": "code",
   "execution_count": 43,
   "id": "11cfe7e5",
   "metadata": {},
   "outputs": [
    {
     "name": "stdout",
     "output_type": "stream",
     "text": [
      "조상 클래스 메서드 호출\n",
      "자손 클래스 메서드 호출\n",
      "조상 클래스의 value 값 : 조상 클래스 필드 값\n",
      "자손 클래스의 value 값 : 자손 클래스 필드 값\n"
     ]
    }
   ],
   "source": [
    "sedan = Sedan()\n",
    "sedan.carMethod()"
   ]
  },
  {
   "cell_type": "code",
   "execution_count": 44,
   "id": "d89130e9",
   "metadata": {},
   "outputs": [],
   "source": [
    "# 조상 클래스 정의\n",
    "class Disk:\n",
    "    _capacity = 0  # 용량\n",
    "    _rpm = 0       # 회전속도\n",
    "    \n",
    "    def __init__(self,capacity,rpm):\n",
    "        self._capacity = capacity\n",
    "        self._rpm = rpm\n",
    "        \n",
    "    def getCapacity(self):\n",
    "        return self._capacity\n",
    "    def getRpm(self):\n",
    "        return self._rpm\n",
    "    \n",
    "    def __str__(self):\n",
    "        return f\"디스크의 용량은 {self._capacity}기가 이며\\n디스크의 회전속도는 {self._rpm}입니다.\"\n",
    "        "
   ]
  },
  {
   "cell_type": "code",
   "execution_count": 45,
   "id": "17233174",
   "metadata": {},
   "outputs": [],
   "source": [
    "# from Disk import *\n",
    "\n",
    "# 자손 클래스 정의\n",
    "class HddDisk(Disk):\n",
    "    __capacity = 0\n",
    "    __rpm = 0\n",
    "    \n",
    "    def __init__(self,capacity, rpm):\n",
    "        super().__init__(capacity,rpm)\n",
    "        self.__capacity = self._capacity\n",
    "        self.__rpm = self._rpm\n",
    "        \n",
    "    def getCapacity(self):\n",
    "        return self.__capacity\n",
    "    def getRpm(self):\n",
    "        return self.__rpm\n",
    "    \n",
    "    def __str__(self):\n",
    "        return f'HDD 디스크 용량은 {self.__capacity}기가 이며\\n디스크의 회전속도는 {self.__rpm}입니다.'"
   ]
  },
  {
   "cell_type": "code",
   "execution_count": 46,
   "id": "dd9b2c3d",
   "metadata": {},
   "outputs": [
    {
     "name": "stdout",
     "output_type": "stream",
     "text": [
      "디스크의 용량은 500기가 이며\n",
      "디스크의 회전속도는 7200입니다.\n",
      "HDD 디스크 용량은 32기가 이며\n",
      "디스크의 회전속도는 520입니다.\n"
     ]
    }
   ],
   "source": [
    "# from HddDisk import *\n",
    "disk = Disk(500,7200)\n",
    "hddDisk = HddDisk(32,520)\n",
    "print(disk)\n",
    "print(hddDisk)"
   ]
  }
 ],
 "metadata": {
  "kernelspec": {
   "display_name": "Python 3",
   "language": "python",
   "name": "python3"
  },
  "language_info": {
   "codemirror_mode": {
    "name": "ipython",
    "version": 3
   },
   "file_extension": ".py",
   "mimetype": "text/x-python",
   "name": "python",
   "nbconvert_exporter": "python",
   "pygments_lexer": "ipython3",
   "version": "3.8.8"
  }
 },
 "nbformat": 4,
 "nbformat_minor": 5
}
