{
 "cells": [
  {
   "cell_type": "code",
   "execution_count": null,
   "id": "802c35c7",
   "metadata": {},
   "outputs": [],
   "source": [
    "# 변수에 종류\n",
    "# 1. 지역 변수 : 함수안에서 선언되는 변수\n",
    "# 2. 전역 변수 : 함수 외부에서 선언되는 변수, 프로그램 종료시 소멸\n",
    "# 3. 인스턴스 변수 : 클래스 안에 선언된 변수, 앞에 self. 이 붙어준다.\n",
    "# 4. 클래스 변수 : 클래스 안에 서언된 변수, 앞에 클래스명. 이 붙어준다.\n",
    "#               : static 개념으로 클래스에 귀속 인스턴스마다 호출시\n",
    "#               : 값이 전부 같음"
   ]
  },
  {
   "cell_type": "code",
   "execution_count": 2,
   "id": "ffb86543",
   "metadata": {},
   "outputs": [
    {
     "name": "stdout",
     "output_type": "stream",
     "text": [
      "생성자 호출\n",
      "4\n",
      "리스트의 값 : [1, 2, '서울', '서울']\n"
     ]
    }
   ],
   "source": [
    "class Bag:\n",
    "    def __init__(self):\n",
    "        print(\"생성자 호출\")\n",
    "        self.data = []\n",
    "    \n",
    "    def add(self,x):\n",
    "        self.data.append(x)\n",
    "        \n",
    "    def add2(self,x):\n",
    "        # 클래스 내에서 자신의 메소드를 호출하기 위해서\n",
    "        # self.을 붙여주도록 한다.\n",
    "        self.add(x)\n",
    "        self.add(x)        \n",
    "    \n",
    "    def __len__(self):\n",
    "        return len(self.data)\n",
    "    \n",
    "    def __str__(self):\n",
    "        return f\"리스트의 값 : {self.data}\"\n",
    "        \n",
    "        \n",
    "if __name__ == \"__main__\":\n",
    "    bag = Bag()\n",
    "    bag.add(1)\n",
    "    bag.add(2)\n",
    "    bag.add2(\"서울\")\n",
    "    print(len(bag))\n",
    "    print(bag)"
   ]
  },
  {
   "cell_type": "code",
   "execution_count": 18,
   "id": "d8c04d42",
   "metadata": {},
   "outputs": [
    {
     "name": "stdout",
     "output_type": "stream",
     "text": [
      "None\n",
      "False\n"
     ]
    }
   ],
   "source": [
    "# None 참조값 : 변수가 아무것도 가르키고 있지 않다면 None으로 초기화를\n",
    "# 해주는 것이 권장사항이다.\n",
    "# 모든 변수는 초기화를 해주는 것이 제일 좋다.\n",
    "# None(C언어 등에서는 null)은 아무것도 참조하지 않고 있다는 특별한 값\n",
    "class TV:\n",
    "    def __init__(self,power,channel,volume):\n",
    "        self.power = power\n",
    "        self.channel = channel\n",
    "        self.volume = volume\n",
    "    \n",
    "    def setPower(self):\n",
    "        self.power = not self.power\n",
    "        return f'{self.power}'\n",
    "    def __str__(self):\n",
    "        return f\"{self.power}\"\n",
    "        \n",
    "if __name__ == \"__main__\":\n",
    "    tv = None\n",
    "    print(tv) # 결과가 None 나오는것이 당연하다. 인스턴스 생성 x\n",
    "    tv = TV(True,48,52)\n",
    "    tv.setPower()\n",
    "    print(tv)"
   ]
  },
  {
   "cell_type": "code",
   "execution_count": 20,
   "id": "0e73b2ee",
   "metadata": {},
   "outputs": [
    {
     "name": "stdout",
     "output_type": "stream",
     "text": [
      "HP : 20\n"
     ]
    }
   ],
   "source": [
    "# 클래스 안에 상수를 많이 사용한다.\n",
    "# 상수는 보통 클래스 변수 형태로 지정하여 사용한다.\n",
    "\n",
    "class Charactor:\n",
    "    # 상수값 정의\n",
    "    WEAK = 0\n",
    "    NORMAL = 10\n",
    "    STRONG = 20\n",
    "    VERY_STRONG = 30\n",
    "    \n",
    "    def __init__(self):\n",
    "        self.__hp = Charactor.NORMAL\n",
    "        \n",
    "    def levelUp(self):\n",
    "        self.__hp = Charactor.STRONG\n",
    "        \n",
    "    def damage(self):\n",
    "        self.__hp = Charactor.WEAK\n",
    "        \n",
    "    def __str__(self):\n",
    "        return f\"HP : {self.__hp}\"\n",
    "        \n",
    "if __name__ == \"__main__\":\n",
    "    ch = Charactor()\n",
    "    ch.levelUp()\n",
    "    print(ch)"
   ]
  }
 ],
 "metadata": {
  "kernelspec": {
   "display_name": "Python 3",
   "language": "python",
   "name": "python3"
  },
  "language_info": {
   "codemirror_mode": {
    "name": "ipython",
    "version": 3
   },
   "file_extension": ".py",
   "mimetype": "text/x-python",
   "name": "python",
   "nbconvert_exporter": "python",
   "pygments_lexer": "ipython3",
   "version": "3.8.8"
  }
 },
 "nbformat": 4,
 "nbformat_minor": 5
}
