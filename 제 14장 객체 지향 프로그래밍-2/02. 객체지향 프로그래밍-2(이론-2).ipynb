{
 "cells": [
  {
   "cell_type": "markdown",
   "id": "579ceab6",
   "metadata": {},
   "source": [
    "2. 특수 메소드"
   ]
  },
  {
   "cell_type": "markdown",
   "id": "d3a623b4",
   "metadata": {},
   "source": [
    "3) 특수 메소드를 이용한 사례\n",
    "    - 연산 뿐만 아니라 len()과 같은 내장 함수도 \n",
    "      특수 메소드로 우리가 정의할 수 있다.\n",
    "      예를 들어서 책을 나타내는 클래스 Book을 만들고 \n",
    "      len()함수는 책의 페이지를 반환하는 것으로 하자."
   ]
  },
  {
   "cell_type": "code",
   "execution_count": 1,
   "id": "0f783e29",
   "metadata": {},
   "outputs": [],
   "source": [
    "class Book:\n",
    "    def __init__(self, title, author, pages):\n",
    "        self.title = title\n",
    "        self.author = author\n",
    "        self.pages = pages\n",
    "        \n",
    "    def __str__(self):\n",
    "        return f\"제목 : {self.title} 저자 : {self.author} 페이지 : {self.pages}\"\n",
    "    \n",
    "    def __len__(self):\n",
    "        return self.pages\n",
    "# 객체 지향 개념\n",
    "\n",
    "# 오버로딩 : 같은 이름의 메서드로 매개변수와 데이터 타입, 순서에 따라서\n",
    "# 다른 메서드가 호출되는 것 new\n",
    "# 파이썬에서 지원하지 않음 (분기문으로 사용가능)\n",
    "\n",
    "# 오버라이딩 : 상속관계, \n",
    "# 같은 메서드명, 매개변수도 동일\n",
    "# 개수도 동일 한데 그것을 구현부만 다르게 한다. [modify]\n",
    "# 파이썬에서 지원"
   ]
  },
  {
   "cell_type": "code",
   "execution_count": 3,
   "id": "92bc69d0",
   "metadata": {},
   "outputs": [
    {
     "name": "stdout",
     "output_type": "stream",
     "text": [
      "제목 : Data Structure 저자 : Chun 페이지 : 650\n",
      "650\n"
     ]
    }
   ],
   "source": [
    "book = Book(\"Data Structure\",\"Chun\",650)\n",
    "print(book)\n",
    "print(len(book))"
   ]
  },
  {
   "cell_type": "markdown",
   "id": "091825eb",
   "metadata": {},
   "source": [
    "3. 파이썬에서의 변수의 종류"
   ]
  },
  {
   "cell_type": "markdown",
   "id": "92c6ea30",
   "metadata": {},
   "source": [
    "1) 변수의 종류\n",
    "    - 앞에서 이미 인스턴스 변수, 클래스 변수에 대해서 학습하였다.\n",
    "      하지만 다시 한번 복기하는 차원으로 정리해 두도록 하자.\n",
    "       1. 지역 변수 - 함수 안에서 선언되는 변수\n",
    "       2. 전역 변수 - 함수 외부에 선언되는 변수\n",
    "       3. 인스턴스 변수 - 클래스 안에 선언된 변수, 앞에 self가 붙는다.\n",
    "       4. 클래스 변수 - 클래스 안에 선언된 변수, 클래스명.변수명 \n",
    "    - Bag이라는 클래스를 다음과 같이 정의하였다. 여기서 data 변수가 \n",
    "      인스턴스 변수이다. 인스턴스 변수를 클래스 안에서 사용하려면\n",
    "      항상 앞에 self. 를 붙여야 한다. self.를 붙이지 않으면\n",
    "      파이썬은 지역 변수를 새로 생성할 것이다."
   ]
  },
  {
   "cell_type": "code",
   "execution_count": 4,
   "id": "18bd7bda",
   "metadata": {},
   "outputs": [],
   "source": [
    "class Bag:\n",
    "    def __init__(self):\n",
    "        self.data = []\n",
    "        \n",
    "    def add(self,x):\n",
    "        self.data.append(x)\n",
    "        \n",
    "    def add2(self,x):\n",
    "        self.add(x)\n",
    "        self.add(x)"
   ]
  },
  {
   "cell_type": "markdown",
   "id": "10d14d18",
   "metadata": {},
   "source": [
    "1) 변수의 종류\n",
    "    - 메소드도 마찬가지이다. 클래스 안에서 메소드를 호출하려면 항상 \n",
    "      앞에 self.를 붙여야 한다. add()메소드를 클래스 안에서\n",
    "      사용하려면 self.add()라고 하여야 파이썬이 올바르게 연결한다."
   ]
  },
  {
   "cell_type": "markdown",
   "id": "e1e1efb7",
   "metadata": {},
   "source": [
    "4. None 참조값"
   ]
  },
  {
   "cell_type": "markdown",
   "id": "87448415",
   "metadata": {},
   "source": [
    "1) None 참조값이란?\n",
    "    - 변수가 현재 아무 것도 가리키고 있지 않다면 None으로 설정하는 것이 좋다.\n",
    "      None은 아무것도 참조하고 있지 않다는 것을 나타내는 특별한 값이다.\n",
    "      예를 들어서 현재 Tv 변수가 아무런 값을 가지고 있지 않다면 다음과 같이\n",
    "      설정하는 것이 좋다"
   ]
  },
  {
   "cell_type": "code",
   "execution_count": 5,
   "id": "19bbffa0",
   "metadata": {},
   "outputs": [],
   "source": [
    "Tv = None"
   ]
  },
  {
   "cell_type": "markdown",
   "id": "68cc31aa",
   "metadata": {},
   "source": [
    "1) None 참조값이란?\n",
    "    - 어떤 변수가 None인지 아닌지 검사하려면 다음과 같이하면 된다"
   ]
  },
  {
   "cell_type": "code",
   "execution_count": 7,
   "id": "43b061bb",
   "metadata": {},
   "outputs": [
    {
     "name": "stdout",
     "output_type": "stream",
     "text": [
      "현재 Tv가 없습니다.\n",
      "현재 Tv가 없습니다2\n"
     ]
    }
   ],
   "source": [
    "if Tv is None:\n",
    "    print(\"현재 Tv가 없습니다.\")\n",
    "if Tv == None:\n",
    "    print(\"현재 Tv가 없습니다2\")"
   ]
  },
  {
   "cell_type": "markdown",
   "id": "1678c3a9",
   "metadata": {},
   "source": [
    "1) None 참조값이란?\n",
    "    - None을 가지고 있는 변수를 이용하여 어떤 객체의 멤버를 호출하는 것은 \n",
    "      오류가 된다.(Tv가 없는데 어떻게 작동을 시키겠는가?)"
   ]
  },
  {
   "cell_type": "code",
   "execution_count": null,
   "id": "853870e1",
   "metadata": {},
   "outputs": [],
   "source": [
    "Tv = None\n",
    "tv.setChannel(5) # 오류이다."
   ]
  },
  {
   "cell_type": "markdown",
   "id": "a5d0139e",
   "metadata": {},
   "source": [
    "5. 상수 정의"
   ]
  },
  {
   "cell_type": "markdown",
   "id": "951925ec",
   "metadata": {},
   "source": [
    "1) 클래스의 상수 정의\n",
    "    - 상수들은 흔히 클래스 변수로 정의된다.\n",
    "      예를 들어서 게임에서 몬스터의 건강 상태를 몇 개의 상수로 표현해보자."
   ]
  },
  {
   "cell_type": "code",
   "execution_count": 1,
   "id": "7a7eeb7d",
   "metadata": {},
   "outputs": [],
   "source": [
    "class Monster:\n",
    "    # 상수 값 정의\n",
    "    WEAK = 0\n",
    "    NORMAL = 10\n",
    "    STRONG = 20\n",
    "    VERY_STRONG = 30\n",
    "    \n",
    "    def __init__(self):\n",
    "        self.__health = Monster.NORMAL"
   ]
  },
  {
   "cell_type": "markdown",
   "id": "599330ee",
   "metadata": {},
   "source": [
    "1) 클래스의 상수 정의\n",
    "    - 만약 몬스터가 먹이를 먹었다면 건강이 좋아질 것이다.\n",
    "      eat()메소드가 호출되면 건강 상태를 STRONG으로 변경해보자."
   ]
  },
  {
   "cell_type": "code",
   "execution_count": 2,
   "id": "3cdd92a0",
   "metadata": {},
   "outputs": [],
   "source": [
    "class Monster:\n",
    "    # 상수 값 정의\n",
    "    WEAK = 0\n",
    "    NORMAL = 10\n",
    "    STRONG = 20\n",
    "    VERY_STRONG = 30\n",
    "    \n",
    "    def __init__(self):\n",
    "        self.__health = Monster.NORMAL\n",
    "        \n",
    "    def eat(self):\n",
    "        self.__health = Monster.STRONG"
   ]
  },
  {
   "cell_type": "markdown",
   "id": "9a12c363",
   "metadata": {},
   "source": [
    "1) 클래스의 상수 정의\n",
    "    - 한 번씩 다른 캐릭터를 공격하면 건강이 약해진다고 하자.\n",
    "      이것은 다음과 같이 구현할 수 있다."
   ]
  },
  {
   "cell_type": "code",
   "execution_count": 3,
   "id": "e0fb9ad9",
   "metadata": {},
   "outputs": [],
   "source": [
    "class Monster:\n",
    "    # 상수 값 정의\n",
    "    WEAK = 0\n",
    "    NORMAL = 10\n",
    "    STRONG = 20\n",
    "    VERY_STRONG = 30\n",
    "    \n",
    "    def __init__(self):\n",
    "        self.__health = Monster.NORMAL\n",
    "        \n",
    "    def eat(self):\n",
    "        self.__health = Monster.STRONG\n",
    "        \n",
    "    def attack(self):\n",
    "        self.__health = Monster.WEAK"
   ]
  }
 ],
 "metadata": {
  "kernelspec": {
   "display_name": "Python 3",
   "language": "python",
   "name": "python3"
  },
  "language_info": {
   "codemirror_mode": {
    "name": "ipython",
    "version": 3
   },
   "file_extension": ".py",
   "mimetype": "text/x-python",
   "name": "python",
   "nbconvert_exporter": "python",
   "pygments_lexer": "ipython3",
   "version": "3.8.8"
  }
 },
 "nbformat": 4,
 "nbformat_minor": 5
}
