{
 "cells": [
  {
   "cell_type": "code",
   "execution_count": null,
   "id": "2da6c8b7",
   "metadata": {},
   "outputs": [],
   "source": [
    "# 클래스의 상속 : \n",
    "# 조상(부모, 슈퍼) 클래스의 멤버(필드, 메서드, 생성자 제외)들을\n",
    "# 그대로 자손(자식,서브) 클래스가 물려받아 새로운 클래스를 \n",
    "# 만드는 것이다. 이렇게 상속이 이루어지면 직접적인 관계가 이루어진다.\n",
    "# 조상 클래스의 멤버가 추가, 삭제, 수정에 따라서 자손 클래스가 영향을\n",
    "# 받는다.\n",
    "# 역으로 자손 클래스의 멤버가 추가, 삭제, 수정되면 조상클래스에\n",
    "# 영향을 끼치지 않는다.\n",
    "# 자손클래스로 내려가면 갈수록 멤버의 갯수가 많아지고, 반대로\n",
    "# 조상클래스로 올라가면 멤버의 갯수가 적어진다."
   ]
  },
  {
   "cell_type": "code",
   "execution_count": 34,
   "id": "5f6f1166",
   "metadata": {},
   "outputs": [
    {
     "name": "stdout",
     "output_type": "stream",
     "text": [
      "현재 속도(조상클래스) : 100\n",
      "문의 갯수(조상클래스) : 4\n",
      "현재 속도(조상클래스) : 250\n",
      "문의 갯수(조상클래스) : 4\n",
      "현재 속도(자손클래스) : 150\n"
     ]
    }
   ],
   "source": [
    "# 조상 클래스\n",
    "class Car:\n",
    "    # 조상 클래스의 멤버는 3개이다.(하나는 필드 하나는 메서드)\n",
    "    def __init__(self,value,door):\n",
    "        self.speed = value\n",
    "        self.door = door\n",
    "        \n",
    "    def upSpeed(self, value):\n",
    "        self.speed += value\n",
    "        print(f\"현재 속도(조상클래스) : {self.speed}\")\n",
    "        print(f\"문의 갯수(조상클래스) : {self.door}\")\n",
    "        \n",
    "# 자손 클래스\n",
    "class Sedan(Car):\n",
    "    # 자손클래스의 멤버는 4개가 되는 것이다.\n",
    "    def __init__(self,value):\n",
    "        #super().__init__(value,4)\n",
    "        Car.__init__(self,value,4)\n",
    "    \n",
    "    # 자손클래스에서 추가한 메서드\n",
    "    def downSpeed(self, value):\n",
    "        self.speed -= value\n",
    "        print(f\"현재 속도(자손클래스) : {self.speed}\")\n",
    "\n",
    "if __name__ == \"__main__\":\n",
    "    # car 인스턴스에는 downSpeed() 메서드가 없다.\n",
    "    # 호출할수가 없다.\n",
    "    car = Car(50,4)\n",
    "    car.upSpeed(50) # Car 클래스의 메소드 호출\n",
    "    sedan = Sedan(100)\n",
    "    sedan.upSpeed(150) # 조상클래스 메소드 호출\n",
    "    sedan.downSpeed(100) # 자손클래스 메소드 호출"
   ]
  }
 ],
 "metadata": {
  "kernelspec": {
   "display_name": "Python 3",
   "language": "python",
   "name": "python3"
  },
  "language_info": {
   "codemirror_mode": {
    "name": "ipython",
    "version": 3
   },
   "file_extension": ".py",
   "mimetype": "text/x-python",
   "name": "python",
   "nbconvert_exporter": "python",
   "pygments_lexer": "ipython3",
   "version": "3.8.8"
  }
 },
 "nbformat": 4,
 "nbformat_minor": 5
}
