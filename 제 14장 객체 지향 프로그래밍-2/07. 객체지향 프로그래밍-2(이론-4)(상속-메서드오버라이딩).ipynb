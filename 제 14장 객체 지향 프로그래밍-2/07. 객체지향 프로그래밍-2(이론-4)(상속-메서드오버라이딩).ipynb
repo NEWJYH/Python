{
 "cells": [
  {
   "cell_type": "markdown",
   "id": "11d6633b",
   "metadata": {},
   "source": [
    "6. 클래스 상속"
   ]
  },
  {
   "cell_type": "markdown",
   "id": "cc7b125c",
   "metadata": {},
   "source": [
    "2) 메서드 오버라이딩\n",
    "    - 메서드 오버라이딩(Overriding)은 \n",
    "      상위 클래스의 메서드를 서브 클래스에서 재정의 하는 것이다.\n",
    "      \n",
    "    - 트럭의 속도에는 제한이 없지만, 승용차는 안전을 이유로 속도를 \n",
    "      최대 150km로 제한해야 한다고 가정하자.\n",
    "      \n",
    "    - 슈퍼 클래스(자동차)를 상속받는 서브 클래스(승용차,트럭)는 \n",
    "      속도 올리기()메서드를 상속받기 때문에 원칙적으로 속도올리기()\n",
    "      메서드는 다시 만들 필요가 없다.\n",
    "      하지만, 승용차는 속도에 제한이 있어 자동차의 속도 올리기()\n",
    "      의 내용이 달라져야 한다면 승용차 클래스에서 속도 올리기()\n",
    "      구현부를 다시 만들어서 사용한다.\n",
    "      이렇게 슈퍼 클래스에 있는 메서드를 서브 클래스에서 \n",
    "      다시 만들어서 사용하는 것을 \n",
    "      \n",
    "    - 메서드 '오버라이딩' 또는 '재정의' 라고 한다."
   ]
  },
  {
   "cell_type": "markdown",
   "id": "06b72113",
   "metadata": {},
   "source": [
    "2) 메서드 오버라이딩\n",
    "    - 아래 예제 코드를 보자"
   ]
  },
  {
   "cell_type": "code",
   "execution_count": 7,
   "id": "a5ecf5c0",
   "metadata": {},
   "outputs": [
    {
     "name": "stdout",
     "output_type": "stream",
     "text": [
      "현재 속도(슈퍼 클래스) : 200\n",
      "현재 속도(서브 클래스) : 150\n"
     ]
    }
   ],
   "source": [
    "# 클래스 선언 부분 #\n",
    "class Car:\n",
    "    speed = 0\n",
    "    def upSpeed(self, value):\n",
    "        self.speed += value\n",
    "        print(f\"현재 속도(슈퍼 클래스) : {self.speed}\")\n",
    "\n",
    "class Sedan(Car):\n",
    "#     def __init__(self):\n",
    "#         super().__init__()\n",
    "        \n",
    "    def upSpeed(self, value):\n",
    "        self.speed += value\n",
    "        if self.speed > 150:\n",
    "            self.speed = 150\n",
    "        print(f\"현재 속도(서브 클래스) : {self.speed}\")\n",
    "        \n",
    "class Truck(Car):\n",
    "#     def __init__(self):\n",
    "#         super().__init__()\n",
    "    pass\n",
    "\n",
    "\n",
    "# 변수 선언 부분 #\n",
    "sedan1,truck1 = None,None\n",
    "\n",
    "\n",
    "# 메인 코드 부분 # \n",
    "truck1 = Truck()\n",
    "sedan1 = Sedan()\n",
    "truck1.upSpeed(200)\n",
    "sedan1.upSpeed(200)"
   ]
  },
  {
   "cell_type": "markdown",
   "id": "3e232022",
   "metadata": {},
   "source": [
    "2) 메서드 오버라이딩\n",
    "    - 서브 클래스(Sedan)의 upSpeed() 메서드를 재정의 한다.\n",
    "      그리고 Sedan 인스턴스이 upSpeed()를 호출하면 재정의된\n",
    "      upSpeed() 메서드를 호출한다.\n",
    "      서브 클래스(Truck)에는 아무런 내용도 없으므로,\n",
    "      슈퍼 클래스(Car)의 메서드를 모두 그대로 상속 받는다.\n",
    "      그리고 Truck 인스턴스의 upSpeed()를 호출하면\n",
    "      슈퍼클래스(Car)의 upSpeed() 메서드를 호출한다."
   ]
  },
  {
   "cell_type": "markdown",
   "id": "77f23f06",
   "metadata": {},
   "source": [
    "2) 메서드 오버라이딩\n",
    "    - 또 다른 예제 코드를 보자. \n",
    "      복잡해 보이지만 어려운 내용은 아니니 천천히 분석해보도록 하자."
   ]
  },
  {
   "cell_type": "code",
   "execution_count": 1,
   "id": "b7ffce17",
   "metadata": {
    "scrolled": false
   },
   "outputs": [],
   "source": [
    "import turtle\n",
    "import random\n",
    "\n",
    "# 클래스 선언 부분 #\n",
    "# 슈퍼 클래스 # \n",
    "class Shape: \n",
    "    myTurtle = None\n",
    "    cx, cy = 0, 0      # 도형의 중심점\n",
    "    \n",
    "    def __init__(self):\n",
    "        self.myTurtle = turtle.Turtle(\"turtle\")\n",
    "        \n",
    "    def setPen(self): # 펜 생상과 두께 무작위로 뽑기\n",
    "        r = random.random() # 0.0 <= x < 1.0\n",
    "        g = random.random()\n",
    "        b = random.random()\n",
    "        self.myTurtle.pencolor(r,g,b)\n",
    "        pSize = random.randrange(1,10) # 1~9 사이의 값 랜덤\n",
    "        self.myTurtle.pensize(pSize)\n",
    "        \n",
    "    def drawShape(self): # 오버라이딩 하기위함(추상적메서드로 사용)\n",
    "        pass\n",
    "    \n",
    "# 서브 클래스 # \n",
    "class Rectangle(Shape): \n",
    "    width, height = [0]*2\n",
    "    def __init__(self, x, y):\n",
    "        super().__init__()\n",
    "        #Shape.__init__(self) # 슈퍼클래스의 생성자 호출\n",
    "        self.cx = x\n",
    "        self.cy = y\n",
    "        self.width = random.randrange(20,100)\n",
    "        self.height = random.randrange(20,100)\n",
    "        \n",
    "    def drawShape(self): # 오버라이딩\n",
    "        # 네모 그리기 # \n",
    "        sx1,sy1,sx2,sy2 = [0]*4 # 위쪽 위 x,y와 오르쪾 아래 X,Y\n",
    "        sx1 = self.cx - self.width/2\n",
    "        sy1 = self.cy - self.height/2\n",
    "        sx2 = self.cx + self.width/2\n",
    "        sy2 = self.cy + self.height/2\n",
    "        self.setPen() # 부모클래스 메서드\n",
    "        self.myTurtle.penup()\n",
    "        self.myTurtle.pendown()\n",
    "        self.myTurtle.goto(sx1,sy2)\n",
    "        self.myTurtle.goto(sx2,sy2)\n",
    "        self.myTurtle.goto(sx2,sy1)\n",
    "        self.myTurtle.goto(sx1,sy1)\n",
    "        \n",
    "# 함수 선언 부분\n",
    "def screenLeftClick(x, y):\n",
    "    rect = Rectangle(x,y)\n",
    "    rect.drawShape()\n",
    "    \n",
    "# 메인 코드 부분\n",
    "turtle.title(\"객체 지향 사각형 그리기\")\n",
    "# 화면을 클릭시 매개변수로 들어온 함수를 실행, 마우스 왼쪽 클릭\n",
    "turtle.onscreenclick(screenLeftClick,1)\n",
    "turtle.done() # 터틀창 자동 닫기 방지함"
   ]
  },
  {
   "cell_type": "markdown",
   "id": "457110b7",
   "metadata": {},
   "source": [
    "3) super() 메서드\n",
    "    - 서브 클래스에서 메서드 오버라이딩을 할 때,\n",
    "      슈퍼 클래스의 메서드나 속성을 사용해야하는 경우가 있다.\n",
    "      이럴때는 super()메서드를 사용하면 된다."
   ]
  },
  {
   "cell_type": "code",
   "execution_count": 1,
   "id": "b9f6793a",
   "metadata": {},
   "outputs": [
    {
     "name": "stdout",
     "output_type": "stream",
     "text": [
      "슈퍼 클래스 메서드 실행 ~\n",
      "서브 클래스 메서드 실행\n",
      "슈퍼 값\n"
     ]
    }
   ],
   "source": [
    "class Car:\n",
    "    value = \"슈퍼 값\"\n",
    "    def carMethod(self):\n",
    "        print(\"슈퍼 클래스 메서드 실행 ~\")\n",
    "        \n",
    "class Sedan(Car):\n",
    "    value = \"서브 값\"\n",
    "    def carMethod(self):\n",
    "        super().carMethod() # Car 클래스의 carMethod()가 실행됨\n",
    "        print(\"서브 클래스 메서드 실행\")\n",
    "        print(super().value) # Car 클래스의 value가 출력됨\n",
    "        \n",
    "sedan1 = Sedan()\n",
    "sedan1.carMethod()"
   ]
  }
 ],
 "metadata": {
  "kernelspec": {
   "display_name": "Python 3",
   "language": "python",
   "name": "python3"
  },
  "language_info": {
   "codemirror_mode": {
    "name": "ipython",
    "version": 3
   },
   "file_extension": ".py",
   "mimetype": "text/x-python",
   "name": "python",
   "nbconvert_exporter": "python",
   "pygments_lexer": "ipython3",
   "version": "3.8.8"
  }
 },
 "nbformat": 4,
 "nbformat_minor": 5
}
