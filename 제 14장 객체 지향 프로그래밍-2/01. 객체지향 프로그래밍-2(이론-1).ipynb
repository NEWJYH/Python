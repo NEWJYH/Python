{
 "cells": [
  {
   "cell_type": "markdown",
   "id": "6ba6de07",
   "metadata": {},
   "source": [
    "제 14장 객체 지향 프로그래밍-2 "
   ]
  },
  {
   "cell_type": "markdown",
   "id": "6d7c9e97",
   "metadata": {},
   "source": [
    "1. 인스턴스를 함수의 인자값으로 전달할 때"
   ]
  },
  {
   "cell_type": "markdown",
   "id": "c1ed0b07",
   "metadata": {},
   "source": [
    "1) 인스턴스를 함수의 인자값으로 전달할 때\n",
    "    - 인스턴스가 함수로 전달되었을 때, 만약 함수 안에서 인스턴스를 변경하면 어떻게 될까?\n",
    "      이것은 어떤 인스턴스가 전달되었느냐에 따라 달라진다.\n",
    "      만약 숫자나 문자열과 같은 변경 불가능한 인스턴스가 전달되면 이들 인스턴스는 변경되지\n",
    "      않는다. 하지만 인스턴스가 전달되면 인스턴스를 변경할 수 있다.\n",
    "      예를 들어 다음과 같은 예제를 보자."
   ]
  },
  {
   "cell_type": "code",
   "execution_count": 11,
   "id": "521f5f51",
   "metadata": {},
   "outputs": [
    {
     "name": "stdout",
     "output_type": "stream",
     "text": [
      "0  0\n",
      "1  1\n",
      "2  4\n",
      "3  9\n",
      "4  16\n",
      "사각형의 변의 길이 5\n",
      "반복횟수 5\n"
     ]
    }
   ],
   "source": [
    "# 사각형을 클래스로 정의한다.\n",
    "class Rectangle:\n",
    "    def __init__(self, side=0):\n",
    "        self.side = side\n",
    "        \n",
    "    def getArea(self):\n",
    "        return self.side **2\n",
    "\n",
    "# 사각형 객체와 반복 횟수를 받아서 변을 증가 시키면서 면적을 출력한다.\n",
    "def printAreas(r,n):\n",
    "    while n >= 1 : # 객체의 변수가 증가된다.\n",
    "        print(f\"{r.side}  {r.getArea()}\")\n",
    "        r.side += 1\n",
    "        n -= 1\n",
    "            \n",
    "# printArea()를 호출하여서 객체의 내용이 변경되는지를 확인한다.\n",
    "myRect = Rectangle()\n",
    "count = 5\n",
    "printAreas(myRect,count)\n",
    "print(f\"사각형의 변의 길이 {myRect.side}\")\n",
    "print(f\"반복횟수 {count}\")"
   ]
  },
  {
   "cell_type": "markdown",
   "id": "e331b2ab",
   "metadata": {},
   "source": [
    "1) 인스턴스를 함수의 인자값으로 전달할 때\n",
    "    - 정사각형을 클래스 Rectangle로 정의하였다.\n",
    "      클래스 Rectangle은 side 변수와 getArea() 메소드를 가지고 있다.\n",
    "      Rectangle의 인스턴스를 생성하고 이것을 printAreas()메소드에 \n",
    "      전달하였다 printAreas() 메소드에서는 객체의 side변수를 증가시키면서\n",
    "      getArea()메소드를 호출하여 사각형의 면적을 출력한다.\n",
    "      \n",
    "      함수에 인스턴스를 전달하면 객체의 참조값이 전달된다.\n",
    "      \n",
    "      myRect와 같은 인스턴스는 변경 가능하므로 함수 안에서 인스턴스의 내용을\n",
    "      변경하면 원본 객체가 변경된다.\n",
    "      반면에 count와 같은 숫자는 변경 불가능한 객체이므로\n",
    "      함수 안에서 n을 변경하여도 원본 변수인 count의 값은 변경되지 않는다."
   ]
  },
  {
   "cell_type": "markdown",
   "id": "7884eba3",
   "metadata": {},
   "source": [
    "2. 특수 메소드"
   ]
  },
  {
   "cell_type": "markdown",
   "id": "5398dc1d",
   "metadata": {},
   "source": [
    "1) 특수 메소드의 개념\n",
    "    - 파이썬에는 연산자(+,-,*,/)에 관련된 메소드(special method)가 있다.\n",
    "      이들 메소드는 우리가 객체에 대하여 +,-,*,/ 와 같은 연산을\n",
    "      적용하면 자동으로 호출된다. 특수 메소드를 이용하면 객체의 상황에\n",
    "      맞는 자연스러운 연산을 정의할 수 있어서 편리할 때가 많다.\n",
    "      예를 들어서 원을 나타내는 클래스 Circle에 대하여 다음과 같이\n",
    "      __eq__() 메소드를 정의하였다고 하자."
   ]
  },
  {
   "cell_type": "code",
   "execution_count": 16,
   "id": "353f4928",
   "metadata": {},
   "outputs": [],
   "source": [
    "class Circle:\n",
    "    def __init__(self,radius):\n",
    "        self.radius = radius\n",
    "    # 같은지 틀리는지 eq메소드가 정의된 객체는 연산자를 이용하여\n",
    "    # 서로 비교할 수 있다.\n",
    "    def __eq__(self,other):\n",
    "        return self.radius == other.radius"
   ]
  },
  {
   "cell_type": "markdown",
   "id": "4322ae7f",
   "metadata": {},
   "source": [
    "1) 특수 메소드의 개념\n",
    "    - __eq__() 메소드가 정의된 객체는 연산자를 이용하여 서로 비교할 수 있다."
   ]
  },
  {
   "cell_type": "code",
   "execution_count": 17,
   "id": "986b3da6",
   "metadata": {},
   "outputs": [
    {
     "name": "stdout",
     "output_type": "stream",
     "text": [
      "원의 반지름은 동일합니다.\n"
     ]
    }
   ],
   "source": [
    "c1 = Circle(10)\n",
    "c2 = Circle(10)\n",
    "\n",
    "if c1 == c2:\n",
    "    print(\"원의 반지름은 동일합니다.\")"
   ]
  },
  {
   "cell_type": "markdown",
   "id": "635e806b",
   "metadata": {},
   "source": [
    "2) 특수 메소드 표\n",
    "\n",
    "연산자          메소드                  설명\n",
    "\n",
    "x + y         __add__(self, y)        덧셈\n",
    "x - y         __sub__(self, y)        뺄셈\n",
    "z * y         __mul__(self, y)        곱셈\n",
    "x / y         __truediv__(self, y)    실수 나눗셈\n",
    "x // y        __floordiv__(self, y)   정수 나눗셈\n",
    "x % y         __mod__(self, y)        나머지\n",
    "divmod(x, y)  __divmod__(self, y)     실수 나눗셈과 나머지\n",
    "x ** y        __pow__(self, y)        지수\n",
    "x << y        __lshift__(self, y)     왼쪽 비트 이동\n",
    "x >> y        __rshift__(self, y)     오른쪽 비트 이동\n",
    "x <= y        __le__(self, y)         less than or equal(작거나 같다)\n",
    "x < y         __lt__(self, y)         less than(작다)\n",
    "x >= y        __ge__(self, y)         greater than or equal(크거나 같다)\n",
    "x > y         __gt__(self, y)         greater than(크다)\n",
    "x == y        __eq__(self, y)         같다\n",
    "x != y        __neq__(self, y)        같지 않다"
   ]
  },
  {
   "cell_type": "markdown",
   "id": "4bd011ae",
   "metadata": {},
   "source": [
    "3) 특수 메소드를 이용한 사례\n",
    "    - 2차원 공간에서 벡터(vector)는 (a,b)와 같이 2개의 실수로 표현될 수 있다.\n",
    "      각 벡터 간에는 덧셈이나 뺄셈이 정의 된다."
   ]
  },
  {
   "cell_type": "code",
   "execution_count": 33,
   "id": "58ca14b4",
   "metadata": {},
   "outputs": [
    {
     "name": "stdout",
     "output_type": "stream",
     "text": [
      "(1.0, 1.0)\n",
      "True\n"
     ]
    }
   ],
   "source": [
    "class Vector2D:\n",
    "    def __init__(self,x,y):\n",
    "        self.x = x\n",
    "        self.y = y\n",
    "        \n",
    "    def __add__(self,other): # 새로운 인스턴스를 생성해서 반환한다.\n",
    "        return Vector2D(self.x + other.x, self.y + other.y)\n",
    "    \n",
    "    def __sub__(self,other): # 새로운 인스턴스를 생성해서 반환한다.\n",
    "        return Vector2D(self.x - other.x, self.y - other.y)\n",
    "        \n",
    "    def __eq__(self,other):\n",
    "        return self.x == other.x and self.y == other.y\n",
    "    \n",
    "    def __str__(self):\n",
    "        return (self.x,self.y)\n",
    "    \n",
    "u = Vector2D(0.,1.)\n",
    "v = Vector2D(1.,0.)\n",
    "W = Vector2D(1.,1.)\n",
    "a = u + v # 여기서 __add__()가 호출된다.\n",
    "# print(a)\n",
    "print(a.__str__())\n",
    "print(W == a)"
   ]
  }
 ],
 "metadata": {
  "kernelspec": {
   "display_name": "Python 3",
   "language": "python",
   "name": "python3"
  },
  "language_info": {
   "codemirror_mode": {
    "name": "ipython",
    "version": 3
   },
   "file_extension": ".py",
   "mimetype": "text/x-python",
   "name": "python",
   "nbconvert_exporter": "python",
   "pygments_lexer": "ipython3",
   "version": "3.8.8"
  }
 },
 "nbformat": 4,
 "nbformat_minor": 5
}
