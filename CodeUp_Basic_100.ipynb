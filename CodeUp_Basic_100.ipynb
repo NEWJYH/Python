{
 "cells": [
  {
   "cell_type": "code",
   "execution_count": null,
   "id": "aaee1ee1",
   "metadata": {},
   "outputs": [],
   "source": [
    "# 1번\n",
    "print(\"Hello\")"
   ]
  },
  {
   "cell_type": "code",
   "execution_count": 1,
   "id": "63c3c9a8",
   "metadata": {},
   "outputs": [
    {
     "name": "stdout",
     "output_type": "stream",
     "text": [
      "Hello World\n"
     ]
    }
   ],
   "source": [
    "# 2번\n",
    "print(\"Hello World\")"
   ]
  },
  {
   "cell_type": "code",
   "execution_count": 2,
   "id": "69d944d8",
   "metadata": {},
   "outputs": [
    {
     "name": "stdout",
     "output_type": "stream",
     "text": [
      "Hello\n",
      "World\n"
     ]
    }
   ],
   "source": [
    "# 3번\n",
    "print(\"Hello\\nWorld\")"
   ]
  },
  {
   "cell_type": "code",
   "execution_count": 3,
   "id": "b61b6afb",
   "metadata": {},
   "outputs": [
    {
     "name": "stdout",
     "output_type": "stream",
     "text": [
      "'Hello'\n"
     ]
    }
   ],
   "source": [
    "# 4번\n",
    "print(\"'Hello'\")"
   ]
  },
  {
   "cell_type": "code",
   "execution_count": 4,
   "id": "9a9612f5",
   "metadata": {},
   "outputs": [
    {
     "name": "stdout",
     "output_type": "stream",
     "text": [
      "\"Hello World\"\n"
     ]
    }
   ],
   "source": [
    "# 5번\n",
    "print('\"Hello World\"')"
   ]
  },
  {
   "cell_type": "code",
   "execution_count": 5,
   "id": "4178918f",
   "metadata": {},
   "outputs": [
    {
     "name": "stdout",
     "output_type": "stream",
     "text": [
      "\"!@#$%^&*()'\n"
     ]
    }
   ],
   "source": [
    "# 6번\n",
    "print(\"\\\"!@#$%^&*()'\")"
   ]
  },
  {
   "cell_type": "code",
   "execution_count": 9,
   "id": "9aaba8d3",
   "metadata": {},
   "outputs": [
    {
     "name": "stdout",
     "output_type": "stream",
     "text": [
      "\"C:\\Download\\'hello'.py\"\n"
     ]
    }
   ],
   "source": [
    "# 7번\n",
    "print(\"\\\"C:\\Download\\\\'hello'.py\\\"\")"
   ]
  },
  {
   "cell_type": "code",
   "execution_count": 12,
   "id": "3d84a042",
   "metadata": {},
   "outputs": [
    {
     "name": "stdout",
     "output_type": "stream",
     "text": [
      "print(\"Hello\\nWorld\")\n"
     ]
    }
   ],
   "source": [
    "# 8번\n",
    "print(\"print(\\\"Hello\\\\nWorld\\\")\")"
   ]
  },
  {
   "cell_type": "code",
   "execution_count": 14,
   "id": "214877c1",
   "metadata": {},
   "outputs": [
    {
     "name": "stdout",
     "output_type": "stream",
     "text": [
      "a\n",
      "a\n"
     ]
    }
   ],
   "source": [
    "# 9번\n",
    "a = input()\n",
    "print(a)"
   ]
  },
  {
   "cell_type": "code",
   "execution_count": 15,
   "id": "58b9f078",
   "metadata": {},
   "outputs": [
    {
     "name": "stdout",
     "output_type": "stream",
     "text": [
      "5\n",
      "5\n"
     ]
    }
   ],
   "source": [
    "# 10번\n",
    "a = int(input())\n",
    "print(a)"
   ]
  },
  {
   "cell_type": "code",
   "execution_count": null,
   "id": "bcaf2450",
   "metadata": {},
   "outputs": [],
   "source": [
    "# 11번\n",
    "a = float(input())\n",
    "print(a)"
   ]
  },
  {
   "cell_type": "code",
   "execution_count": null,
   "id": "d85a15c0",
   "metadata": {},
   "outputs": [],
   "source": [
    "# 12번\n",
    "a = int(input())\n",
    "b = int(input())\n",
    "print(a)\n",
    "print(b)"
   ]
  },
  {
   "cell_type": "code",
   "execution_count": 16,
   "id": "9fda1f22",
   "metadata": {},
   "outputs": [
    {
     "name": "stdout",
     "output_type": "stream",
     "text": [
      "ㅁ\n",
      "ㅁ\n",
      "ㅁ\n",
      "ㅁ\n"
     ]
    }
   ],
   "source": [
    "# 13번\n",
    "a = input()\n",
    "b = input()\n",
    "print(b)\n",
    "print(a)\n"
   ]
  },
  {
   "cell_type": "code",
   "execution_count": 19,
   "id": "8ea43774",
   "metadata": {},
   "outputs": [
    {
     "name": "stdout",
     "output_type": "stream",
     "text": [
      "0.2\n",
      "0.2\n",
      "0.2\n",
      "0.2\n"
     ]
    }
   ],
   "source": [
    "# 14번\n",
    "a = float(input())\n",
    "for i in range(3):\n",
    "    print(a)"
   ]
  },
  {
   "cell_type": "code",
   "execution_count": 23,
   "id": "3110c993",
   "metadata": {},
   "outputs": [
    {
     "name": "stdout",
     "output_type": "stream",
     "text": [
      "1 2\n",
      "1\n",
      "2\n"
     ]
    }
   ],
   "source": [
    "# 15\n",
    "a,b =input().split()\n",
    "a,b = int(a),int(b)\n",
    "print(a)\n",
    "print(b)"
   ]
  },
  {
   "cell_type": "code",
   "execution_count": 25,
   "id": "d9ce53ff",
   "metadata": {},
   "outputs": [
    {
     "name": "stdout",
     "output_type": "stream",
     "text": [
      "a b\n",
      "b a\n"
     ]
    }
   ],
   "source": [
    "# 16\n",
    "a,b = input().split()\n",
    "print(b,a)"
   ]
  },
  {
   "cell_type": "code",
   "execution_count": 38,
   "id": "ded781aa",
   "metadata": {},
   "outputs": [
    {
     "name": "stdout",
     "output_type": "stream",
     "text": [
      "C-B\n",
      "C-B C-B C-B "
     ]
    }
   ],
   "source": [
    "# 17\n",
    "a = input()\n",
    "print(a,a,a)"
   ]
  },
  {
   "cell_type": "code",
   "execution_count": 39,
   "id": "80ab1e85",
   "metadata": {},
   "outputs": [
    {
     "name": "stdout",
     "output_type": "stream",
     "text": [
      "12:36\n",
      "12:36\n"
     ]
    }
   ],
   "source": [
    "# 18\n",
    "a,b= input().split(\":\")\n",
    "print(a,b,sep=\":\")\n"
   ]
  },
  {
   "cell_type": "code",
   "execution_count": 40,
   "id": "6edc8b42",
   "metadata": {},
   "outputs": [
    {
     "name": "stdout",
     "output_type": "stream",
     "text": [
      "2022.11.06\n",
      "06-11-2022\n"
     ]
    }
   ],
   "source": [
    "# 19\n",
    "a,b,c = input().split(\".\")\n",
    "print(c,b,a,sep=\"-\")"
   ]
  },
  {
   "cell_type": "code",
   "execution_count": 41,
   "id": "b936853b",
   "metadata": {},
   "outputs": [
    {
     "name": "stdout",
     "output_type": "stream",
     "text": [
      "111111-1111111\n",
      "1111111111111\n"
     ]
    }
   ],
   "source": [
    "# 20\n",
    "a,b = input().split(\"-\")\n",
    "print(a+b)"
   ]
  },
  {
   "cell_type": "code",
   "execution_count": 42,
   "id": "debc12a4",
   "metadata": {},
   "outputs": [
    {
     "name": "stdout",
     "output_type": "stream",
     "text": [
      "korea\n",
      "k\n",
      "o\n",
      "r\n",
      "e\n",
      "a\n"
     ]
    }
   ],
   "source": [
    "# 21\n",
    "a = input()\n",
    "\n",
    "for i in range(len(a)):\n",
    "    print(a[i])\n"
   ]
  },
  {
   "cell_type": "code",
   "execution_count": 1,
   "id": "20914cb0",
   "metadata": {},
   "outputs": [
    {
     "name": "stdout",
     "output_type": "stream",
     "text": [
      "200304\n",
      "20 03 04\n"
     ]
    }
   ],
   "source": [
    "# 22\n",
    "a = input()\n",
    "\n",
    "ex0 = a[0:2]\n",
    "ex1 = a[2:4]\n",
    "ex2 = a[4:6]\n",
    "print(ex0,ex1,ex2)"
   ]
  },
  {
   "cell_type": "code",
   "execution_count": 2,
   "id": "9d8345fd",
   "metadata": {},
   "outputs": [
    {
     "name": "stdout",
     "output_type": "stream",
     "text": [
      "17:23:57\n",
      "23\n"
     ]
    }
   ],
   "source": [
    "# 23\n",
    "a,b,c = input().split(\":\")\n",
    "print(b)"
   ]
  },
  {
   "cell_type": "code",
   "execution_count": 3,
   "id": "5ba2079d",
   "metadata": {},
   "outputs": [
    {
     "name": "stdout",
     "output_type": "stream",
     "text": [
      "hello world\n",
      "helloworld\n"
     ]
    }
   ],
   "source": [
    "# 24\n",
    "a,b = input().split(\" \")\n",
    "print(a+b)\n"
   ]
  },
  {
   "cell_type": "code",
   "execution_count": 6,
   "id": "15272a3a",
   "metadata": {},
   "outputs": [
    {
     "name": "stdout",
     "output_type": "stream",
     "text": [
      "3 -6\n",
      "-3\n"
     ]
    }
   ],
   "source": [
    "# 25\n",
    "\n",
    "a,b = input().split()\n",
    "a = int(a)\n",
    "b = int(b)\n",
    "\n",
    "print(a+b)"
   ]
  },
  {
   "cell_type": "code",
   "execution_count": 7,
   "id": "d4856335",
   "metadata": {},
   "outputs": [
    {
     "name": "stdout",
     "output_type": "stream",
     "text": [
      ".1\n",
      ".9\n",
      "1.0\n"
     ]
    }
   ],
   "source": [
    "# 26\n",
    "a = float(input())\n",
    "b = float(input())\n",
    "print(a+b)"
   ]
  },
  {
   "cell_type": "code",
   "execution_count": 15,
   "id": "df0fdac0",
   "metadata": {},
   "outputs": [
    {
     "name": "stdout",
     "output_type": "stream",
     "text": [
      "255\n",
      "ff\n"
     ]
    }
   ],
   "source": [
    "#27\n",
    "a = int(input())\n",
    "print(\"%x\"%a)"
   ]
  },
  {
   "cell_type": "code",
   "execution_count": 20,
   "id": "7728b290",
   "metadata": {},
   "outputs": [
    {
     "name": "stdout",
     "output_type": "stream",
     "text": [
      "10\n",
      "A\n"
     ]
    }
   ],
   "source": [
    "#28\n",
    "a = int(input())\n",
    "print(\"%X\"%a)"
   ]
  },
  {
   "cell_type": "code",
   "execution_count": 22,
   "id": "70e8bde9",
   "metadata": {},
   "outputs": [
    {
     "name": "stdout",
     "output_type": "stream",
     "text": [
      "f\n",
      "17\n"
     ]
    }
   ],
   "source": [
    "#29\n",
    "a = input()\n",
    "n = int(a,16)\n",
    "print(\"%o\"%n)"
   ]
  },
  {
   "cell_type": "code",
   "execution_count": 24,
   "id": "605047d5",
   "metadata": {},
   "outputs": [
    {
     "name": "stdout",
     "output_type": "stream",
     "text": [
      "A\n",
      "65\n"
     ]
    }
   ],
   "source": [
    "# 30  유니코드 변환 A->65\n",
    "n = ord(input())\n",
    "print(n)"
   ]
  },
  {
   "cell_type": "code",
   "execution_count": 26,
   "id": "f5fdeb4d",
   "metadata": {},
   "outputs": [
    {
     "name": "stdout",
     "output_type": "stream",
     "text": [
      "65\n",
      "A\n"
     ]
    }
   ],
   "source": [
    "# 31 유니코드 변환 숫자 -> 유니코드 문자\n",
    "c = int(input())\n",
    "print(chr(c))"
   ]
  },
  {
   "cell_type": "code",
   "execution_count": 27,
   "id": "96fd4f1e",
   "metadata": {},
   "outputs": [
    {
     "name": "stdout",
     "output_type": "stream",
     "text": [
      "5\n",
      "-5\n"
     ]
    }
   ],
   "source": [
    "#32\n",
    "n = int(input())\n",
    "print(-n)"
   ]
  },
  {
   "cell_type": "code",
   "execution_count": 29,
   "id": "7b50b8b4",
   "metadata": {},
   "outputs": [
    {
     "name": "stdout",
     "output_type": "stream",
     "text": [
      "a\n",
      "b\n"
     ]
    }
   ],
   "source": [
    "# 33 유니코드 문자로 받아서 다음 문자출력하기\n",
    "a = ord(input())\n",
    "print(chr(a+1))"
   ]
  },
  {
   "cell_type": "code",
   "execution_count": 31,
   "id": "01a66aa0",
   "metadata": {},
   "outputs": [
    {
     "name": "stdout",
     "output_type": "stream",
     "text": [
      "123 -123\n",
      "246\n"
     ]
    }
   ],
   "source": [
    "# 34\n",
    "a,b = input().split(\" \")\n",
    "a = int(a)\n",
    "b = int(b)\n",
    "print(a-b)"
   ]
  },
  {
   "cell_type": "code",
   "execution_count": 33,
   "id": "f9fc4dae",
   "metadata": {},
   "outputs": [
    {
     "name": "stdout",
     "output_type": "stream",
     "text": [
      ".5 2.0\n",
      "1.0\n"
     ]
    }
   ],
   "source": [
    "# 35\n",
    "a,b = input().split()\n",
    "a = float(a)\n",
    "b = float(b)\n",
    "print(a*b)"
   ]
  },
  {
   "cell_type": "code",
   "execution_count": 34,
   "id": "391f9414",
   "metadata": {},
   "outputs": [
    {
     "name": "stdout",
     "output_type": "stream",
     "text": [
      "love 3\n",
      "lovelovelove"
     ]
    }
   ],
   "source": [
    "# 36\n",
    "a,b = input().split()\n",
    "b = int(b)\n",
    "for i in range(b):\n",
    "    print(a,end=\"\")"
   ]
  },
  {
   "cell_type": "code",
   "execution_count": 35,
   "id": "dd5e0906",
   "metadata": {},
   "outputs": [
    {
     "name": "stdout",
     "output_type": "stream",
     "text": [
      "3\n",
      "I Love CS\n",
      "I Love CSI Love CSI Love CS"
     ]
    }
   ],
   "source": [
    "# 37\n",
    "a = int(input())\n",
    "b= input()\n",
    "for _ in range(a):\n",
    "    print(b,end=\"\")"
   ]
  },
  {
   "cell_type": "code",
   "execution_count": 36,
   "id": "f5a56f17",
   "metadata": {},
   "outputs": [
    {
     "name": "stdout",
     "output_type": "stream",
     "text": [
      "2 10\n",
      "1024\n"
     ]
    }
   ],
   "source": [
    "# 38\n",
    "a,b = input().split()\n",
    "a,b = int(a) ,int(b)\n",
    "answer = a**b\n",
    "print(answer)"
   ]
  },
  {
   "cell_type": "code",
   "execution_count": 37,
   "id": "bb2697cd",
   "metadata": {},
   "outputs": [
    {
     "name": "stdout",
     "output_type": "stream",
     "text": [
      "4.0 2.0\n",
      "16.0\n"
     ]
    }
   ],
   "source": [
    "# 39\n",
    "a,b = input().split()\n",
    "a,b = float(a) ,float(b)\n",
    "answer = a**b\n",
    "print(answer)"
   ]
  },
  {
   "cell_type": "code",
   "execution_count": 38,
   "id": "7372511d",
   "metadata": {},
   "outputs": [
    {
     "name": "stdout",
     "output_type": "stream",
     "text": [
      "10 3\n",
      "3\n"
     ]
    }
   ],
   "source": [
    "# 40\n",
    "a,b = input().split()\n",
    "a,b = int(a),int(b)\n",
    "print(a//b)"
   ]
  },
  {
   "cell_type": "code",
   "execution_count": 40,
   "id": "989370d3",
   "metadata": {},
   "outputs": [
    {
     "name": "stdout",
     "output_type": "stream",
     "text": [
      "10 3\n",
      "1\n"
     ]
    }
   ],
   "source": [
    "# 41\n",
    "a,b = input().split()\n",
    "a,b = int(a),int(b)\n",
    "print(a%b)"
   ]
  },
  {
   "cell_type": "code",
   "execution_count": 48,
   "id": "04c92de0",
   "metadata": {},
   "outputs": [
    {
     "name": "stdout",
     "output_type": "stream",
     "text": [
      "3.141592\n",
      "3.14\n",
      "3.14\n",
      "3.14\n"
     ]
    }
   ],
   "source": [
    "# 42\n",
    "a = float(input())\n",
    "print(f\"{a:.2f}\")\n",
    "print(format(a,\".2f\"))\n",
    "print(round(a,2))"
   ]
  },
  {
   "cell_type": "code",
   "execution_count": 49,
   "id": "4e9c1316",
   "metadata": {},
   "outputs": [
    {
     "name": "stdout",
     "output_type": "stream",
     "text": [
      "10.0 3.0\n",
      "3.333\n"
     ]
    }
   ],
   "source": [
    "# 43\n",
    "a,b = input().split()\n",
    "a,b = float(a) ,float(b)\n",
    "\n",
    "answer = a/b\n",
    "print(f\"{answer:.3f}\")"
   ]
  },
  {
   "cell_type": "code",
   "execution_count": 50,
   "id": "c550ab17",
   "metadata": {},
   "outputs": [
    {
     "name": "stdout",
     "output_type": "stream",
     "text": [
      "10 3\n",
      "13\n",
      "7\n",
      "30\n",
      "3\n",
      "1\n",
      "3.33\n"
     ]
    }
   ],
   "source": [
    "# 44\n",
    "a,b = input().split()\n",
    "a,b = int(a),int(b)\n",
    "print(a+b)\n",
    "print(a-b)\n",
    "print(a*b)\n",
    "print(a//b)\n",
    "print(a%b)\n",
    "print(f\"{a/b:.2f}\")"
   ]
  },
  {
   "cell_type": "code",
   "execution_count": 51,
   "id": "15a8cf82",
   "metadata": {},
   "outputs": [
    {
     "name": "stdout",
     "output_type": "stream",
     "text": [
      "1 2 3\n",
      "6 2.00\n"
     ]
    }
   ],
   "source": [
    "# 45\n",
    "a,b,c = input().split()\n",
    "a,b,c = int(a),int(b), int(c)\n",
    "sum = a + b + c\n",
    "avg = sum / 3\n",
    "print(f\"{sum} {avg:.2f}\")"
   ]
  },
  {
   "cell_type": "code",
   "execution_count": 56,
   "id": "57adb178",
   "metadata": {},
   "outputs": [
    {
     "name": "stdout",
     "output_type": "stream",
     "text": [
      "1024\n",
      "2048\n"
     ]
    }
   ],
   "source": [
    "# 46 비트시프트 연산\n",
    "a = int(input())\n",
    "print(a<<1)"
   ]
  },
  {
   "cell_type": "code",
   "execution_count": 57,
   "id": "97d1d1a0",
   "metadata": {},
   "outputs": [
    {
     "name": "stdout",
     "output_type": "stream",
     "text": [
      "1 3\n",
      "8\n"
     ]
    }
   ],
   "source": [
    "# 47 비트시프트 연산\n",
    "# a = 2\n",
    "# b = 10\n",
    "# print(a << b)  #210 = 1024 가 출력된다.\n",
    "a,b = input().split()\n",
    "a,b = int(a),int(b)\n",
    "answer = a<<b\n",
    "print(answer)"
   ]
  },
  {
   "cell_type": "code",
   "execution_count": 59,
   "id": "acd0ce1c",
   "metadata": {},
   "outputs": [
    {
     "name": "stdout",
     "output_type": "stream",
     "text": [
      "9 1\n",
      "False\n"
     ]
    }
   ],
   "source": [
    "# 48 \n",
    "a,b = input().split()\n",
    "a,b = int(a),int(b)\n",
    "print(a<b)"
   ]
  },
  {
   "cell_type": "code",
   "execution_count": 60,
   "id": "9f1cf40f",
   "metadata": {},
   "outputs": [
    {
     "name": "stdout",
     "output_type": "stream",
     "text": [
      "0 0\n",
      "True\n"
     ]
    }
   ],
   "source": [
    "# 49\n",
    "a,b = input().split()\n",
    "a,b = int(a),int(b)\n",
    "print(a==b)"
   ]
  },
  {
   "cell_type": "code",
   "execution_count": 61,
   "id": "757e2710",
   "metadata": {},
   "outputs": [
    {
     "name": "stdout",
     "output_type": "stream",
     "text": [
      "0 -1\n",
      "False\n"
     ]
    }
   ],
   "source": [
    "# 50\n",
    "a,b = input().split()\n",
    "a,b = int(a),int(b)\n",
    "print(a<=b)"
   ]
  },
  {
   "cell_type": "code",
   "execution_count": 62,
   "id": "fc0e7554",
   "metadata": {},
   "outputs": [
    {
     "name": "stdout",
     "output_type": "stream",
     "text": [
      "0 1\n",
      "True\n"
     ]
    }
   ],
   "source": [
    "# 51\n",
    "a,b = input().split()\n",
    "a,b = int(a),int(b)\n",
    "print(a!=b)"
   ]
  },
  {
   "cell_type": "code",
   "execution_count": 63,
   "id": "d2c3aaa0",
   "metadata": {},
   "outputs": [
    {
     "name": "stdout",
     "output_type": "stream",
     "text": [
      "0\n",
      "False\n"
     ]
    }
   ],
   "source": [
    "# 52\n",
    "n = int(input())\n",
    "print(bool(n))"
   ]
  },
  {
   "cell_type": "code",
   "execution_count": 64,
   "id": "d4d4a265",
   "metadata": {},
   "outputs": [
    {
     "name": "stdout",
     "output_type": "stream",
     "text": [
      "1\n",
      "False\n"
     ]
    }
   ],
   "source": [
    "# 53\n",
    "n = int(input())\n",
    "print(not bool(n))"
   ]
  },
  {
   "cell_type": "code",
   "execution_count": 67,
   "id": "f6ba5dcc",
   "metadata": {},
   "outputs": [
    {
     "name": "stdout",
     "output_type": "stream",
     "text": [
      "1 1\n",
      "True\n"
     ]
    }
   ],
   "source": [
    "# 54\n",
    "a,b = input().split()\n",
    "a,b = bool(int(a)),bool(int(b))\n",
    "c = a and b\n",
    "print(c)"
   ]
  },
  {
   "cell_type": "code",
   "execution_count": 70,
   "id": "f012263a",
   "metadata": {},
   "outputs": [
    {
     "name": "stdout",
     "output_type": "stream",
     "text": [
      "1 0\n",
      "True\n"
     ]
    }
   ],
   "source": [
    "# 55\n",
    "a,b = input().split()\n",
    "a,b = bool(int(a)),bool(int(b))\n",
    "c = a or b\n",
    "print(c)"
   ]
  },
  {
   "cell_type": "code",
   "execution_count": 71,
   "id": "d927dd85",
   "metadata": {},
   "outputs": [
    {
     "name": "stdout",
     "output_type": "stream",
     "text": [
      "1 1\n",
      "False\n"
     ]
    }
   ],
   "source": [
    "# 56\n",
    "a,b = input().split()\n",
    "a,b = bool(int(a)),bool(int(b))\n",
    "c = a != b\n",
    "print(c)"
   ]
  },
  {
   "cell_type": "code",
   "execution_count": 73,
   "id": "64e629e7",
   "metadata": {},
   "outputs": [
    {
     "name": "stdout",
     "output_type": "stream",
     "text": [
      "0 0\n",
      "True\n"
     ]
    }
   ],
   "source": [
    "# 57\n",
    "a,b = input().split()\n",
    "a,b = bool(int(a)),bool(int(b))\n",
    "c = a == b\n",
    "print(c)"
   ]
  },
  {
   "cell_type": "code",
   "execution_count": 77,
   "id": "68270f1e",
   "metadata": {},
   "outputs": [
    {
     "name": "stdout",
     "output_type": "stream",
     "text": [
      "0 0\n",
      "True\n"
     ]
    }
   ],
   "source": [
    "# 58 모두 False일때만 true 출력\n",
    "a,b = input().split()\n",
    "a,b = bool(int(a)),bool(int(b))\n",
    "c = not (a or b)\n",
    "print(c)"
   ]
  },
  {
   "cell_type": "code",
   "execution_count": 78,
   "id": "01619896",
   "metadata": {},
   "outputs": [
    {
     "name": "stdout",
     "output_type": "stream",
     "text": [
      "2\n",
      "-3\n"
     ]
    }
   ],
   "source": [
    "# 59 기초-비트단위논리연산\n",
    "a = int(input())\n",
    "b = ~a\n",
    "print(b)"
   ]
  },
  {
   "cell_type": "code",
   "execution_count": 79,
   "id": "bb166038",
   "metadata": {},
   "outputs": [
    {
     "name": "stdout",
     "output_type": "stream",
     "text": [
      "3 5\n",
      "1\n"
     ]
    }
   ],
   "source": [
    "# 60 [기초-비트단위논리연산] 비트단위로 AND 하여 출력하기(설명)(py)\n",
    "a,b = input().split()\n",
    "a,b = int(a),int(b)\n",
    "c = a&b\n",
    "print(c)"
   ]
  },
  {
   "cell_type": "code",
   "execution_count": 81,
   "id": "b17b5342",
   "metadata": {},
   "outputs": [
    {
     "name": "stdout",
     "output_type": "stream",
     "text": [
      "3 5\n",
      "7\n"
     ]
    }
   ],
   "source": [
    "# 61 [기초-비트단위논리연산] 비트단위로 OR 하여 출력하기(설명)(py)\n",
    "a,b = input().split()\n",
    "a,b = int(a),int(b)\n",
    "c = a|b\n",
    "print(c)"
   ]
  },
  {
   "cell_type": "code",
   "execution_count": null,
   "id": "9ba27f12",
   "metadata": {},
   "outputs": [],
   "source": [
    "# 62 [기초-비트단위논리연산] 비트단위로 XOR 하여 출력하기(설명)(py)\n",
    "a,b = input().split()\n",
    "a,b = int(a),int(b)\n",
    "c = a^b\n",
    "print(c)"
   ]
  },
  {
   "cell_type": "code",
   "execution_count": 83,
   "id": "0153b2e0",
   "metadata": {},
   "outputs": [
    {
     "name": "stdout",
     "output_type": "stream",
     "text": [
      "3 5\n",
      "5\n"
     ]
    }
   ],
   "source": [
    "# 63 [기초-3항연산] 정수 2개 입력받아 큰 값 출력하기(설명)(py)\n",
    "a,b = input().split()\n",
    "a,b = int(a),int(b)\n",
    "\n",
    "c = a if a>=b else b\n",
    "print(c)"
   ]
  },
  {
   "cell_type": "code",
   "execution_count": 89,
   "id": "ae05423c",
   "metadata": {},
   "outputs": [
    {
     "name": "stdout",
     "output_type": "stream",
     "text": [
      "10 3 7\n",
      "3\n"
     ]
    }
   ],
   "source": [
    "# 64\n",
    "a,b,c = input().split()\n",
    "a,b,c = int(a),int(b),int(c)\n",
    "\n",
    "answer = a if a<b else b \n",
    "answer = answer if answer < c else c\n",
    "print(answer)"
   ]
  },
  {
   "cell_type": "code",
   "execution_count": null,
   "id": "d0532a4d",
   "metadata": {},
   "outputs": [],
   "source": [
    "# 65 [기초-조건/선택실행구조] 정수 3개 입력받아 짝수만 출력하기(설명)(py)\n",
    "a,b,c = map(int, input().split())\n",
    "list = [a,b,c]\n",
    "for i in list:\n",
    "    if i%2 ==0:\n",
    "        print(i)"
   ]
  },
  {
   "cell_type": "code",
   "execution_count": 94,
   "id": "0802f148",
   "metadata": {},
   "outputs": [
    {
     "name": "stdout",
     "output_type": "stream",
     "text": [
      "1 2 4\n",
      "2\n",
      "4\n"
     ]
    }
   ],
   "source": [
    "# 66 [기초-조건/선택실행구조] 정수 3개 입력받아 짝/홀 출력하기(설명)(py)\n",
    "a,b,c = map(int, input().split())\n",
    "list = [a,b,c]\n",
    "for i in list:\n",
    "    if i % 2 ==0:\n",
    "        print(\"even\")\n",
    "    else:\n",
    "        print(\"odd\")"
   ]
  },
  {
   "cell_type": "code",
   "execution_count": 95,
   "id": "578e6b60",
   "metadata": {},
   "outputs": [
    {
     "name": "stdout",
     "output_type": "stream",
     "text": [
      "-2147483648\n",
      "A\n"
     ]
    }
   ],
   "source": [
    "# 67\n",
    "a = int(input())\n",
    "if a < 0:\n",
    "    if a%2==0:\n",
    "        print(\"A\")\n",
    "    else:\n",
    "        print(\"B\")\n",
    "else:\n",
    "    if a%2 ==0:\n",
    "        print(\"C\")\n",
    "    else:\n",
    "        print(\"D\")"
   ]
  },
  {
   "cell_type": "code",
   "execution_count": null,
   "id": "4eb0c946",
   "metadata": {},
   "outputs": [],
   "source": [
    "# 68 [기초-조건/선택실행구조] 점수 입력받아 평가 출력하기(설명)(py)\n",
    "#  90 ~ 100 : A\n",
    "# 70 ~   89 : B\n",
    "# 40 ~   69 : C\n",
    "#  0 ~   39 : D\n",
    "\n",
    "a = int(input())\n",
    "\n",
    "if a >=90 :\n",
    "    print(\"A\")\n",
    "elif a>=70:\n",
    "    print(\"B\")\n",
    "elif a>=40:\n",
    "    print(\"C\")\n",
    "else:\n",
    "    print(\"D\")"
   ]
  },
  {
   "cell_type": "code",
   "execution_count": null,
   "id": "bca191c5",
   "metadata": {},
   "outputs": [],
   "source": [
    "# 69 [기초-조건/선택실행구조] 평가 입력받아 다르게 출력하기(py)\n",
    "a = input()\n",
    "\n",
    "if a ==\"A\":\n",
    "    print(\"best!!!\")\n",
    "elif a == \"B\":\n",
    "    print(\"good!!\")\n",
    "elif a == \"C\":\n",
    "    print(\"run!\")\n",
    "elif a == \"D\":\n",
    "    print(\"slowly~\")\n",
    "else:\n",
    "    print(\"what?\")"
   ]
  },
  {
   "cell_type": "code",
   "execution_count": null,
   "id": "66c4ebe7",
   "metadata": {},
   "outputs": [],
   "source": [
    "# 70 \n",
    "\n",
    "# 12, 1, 2 : winter\n",
    "#  3, 4, 5 : spring\n",
    "#  6, 7, 8 : summer\n",
    "#  9, 10, 11 : fall\n",
    "winter = [12,1,2]\n",
    "spring = [3,4,5]\n",
    "summer = [6,7,8]\n",
    "fall = [9,10,11]\n",
    "a = int(input())\n",
    "\n",
    "if a in winter :\n",
    "    print(\"winter\")\n",
    "elif a in spring:\n",
    "    print(\"spring\")\n",
    "elif a in summer:\n",
    "    print(\"summer\")\n",
    "else:\n",
    "    print(\"fall\")"
   ]
  },
  {
   "cell_type": "code",
   "execution_count": 2,
   "id": "abe9ec04",
   "metadata": {},
   "outputs": [
    {
     "name": "stdout",
     "output_type": "stream",
     "text": [
      "0\n"
     ]
    }
   ],
   "source": [
    "# 71[기초-반복실행구조] 0 입력될 때까지 무한 출력하기(설명)(py)\n",
    "while True:\n",
    "    a = int(input())\n",
    "    if a == 0:\n",
    "        break\n",
    "    else:\n",
    "        print(a)"
   ]
  },
  {
   "cell_type": "code",
   "execution_count": 1,
   "id": "278084c7",
   "metadata": {},
   "outputs": [
    {
     "name": "stdout",
     "output_type": "stream",
     "text": [
      "5\n",
      "5\n",
      "4\n",
      "3\n",
      "2\n",
      "1\n"
     ]
    }
   ],
   "source": [
    "# 72 [기초-반복실행구조] 정수 1개 입력받아 카운트다운 출력하기1(설명)(py)\n",
    "a = int(input())\n",
    "\n",
    "for i in range(a,0,-1):\n",
    "    print(i)"
   ]
  },
  {
   "cell_type": "code",
   "execution_count": 6,
   "id": "b35137ea",
   "metadata": {},
   "outputs": [
    {
     "name": "stdout",
     "output_type": "stream",
     "text": [
      "5\n",
      "4\n",
      "3\n",
      "2\n",
      "1\n",
      "0\n"
     ]
    }
   ],
   "source": [
    "# 73 [기초-반복실행구조] 정수 1개 입력받아 카운트다운 출력하기2(py)\n",
    "\n",
    "a = int(input())\n",
    "while a != 0:\n",
    "    a -=1\n",
    "    print(a)\n",
    "    \n",
    "    "
   ]
  },
  {
   "cell_type": "code",
   "execution_count": null,
   "id": "8836b1c3",
   "metadata": {},
   "outputs": [],
   "source": [
    "# 74 [기초-반복실행구조] 문자 1개 입력받아 알파벳 출력하기(설명)(py)"
   ]
  },
  {
   "cell_type": "code",
   "execution_count": 7,
   "id": "6255b46b",
   "metadata": {},
   "outputs": [
    {
     "name": "stdout",
     "output_type": "stream",
     "text": [
      "f\n",
      "a b c d e f "
     ]
    }
   ],
   "source": [
    "c = ord(input())\n",
    "t = ord('a')\n",
    "while t<=c :\n",
    "    print(chr(t), end=' ')\n",
    "    t += 1"
   ]
  },
  {
   "cell_type": "code",
   "execution_count": 8,
   "id": "81f363a1",
   "metadata": {},
   "outputs": [
    {
     "name": "stdout",
     "output_type": "stream",
     "text": [
      "4\n",
      "0\n",
      "1\n",
      "2\n",
      "3\n",
      "4\n"
     ]
    }
   ],
   "source": [
    "# 75 [기초-반복실행구조] 정수 1개 입력받아 그 수까지 출력하기1(py)\n",
    "\n",
    "a = int(input())\n",
    "for i in range(a+1):\n",
    "    print(i)\n",
    "    "
   ]
  },
  {
   "cell_type": "code",
   "execution_count": 9,
   "id": "237a0c69",
   "metadata": {},
   "outputs": [
    {
     "name": "stdout",
     "output_type": "stream",
     "text": [
      "4\n",
      "0\n",
      "1\n",
      "2\n",
      "3\n",
      "4\n"
     ]
    }
   ],
   "source": [
    "# 76 [기초-반복실행구조] 정수 1개 입력받아 그 수까지 출력하기2(설명)(py)\n",
    "\n",
    "a = int(input())\n",
    "for i in range(a+1):\n",
    "    print(i)"
   ]
  },
  {
   "cell_type": "code",
   "execution_count": null,
   "id": "da29d91e",
   "metadata": {},
   "outputs": [],
   "source": [
    "# 77 [기초-종합] 짝수 합 구하기(설명)(py)\n",
    "\n",
    "a = int(input())\n",
    "sum = 0\n",
    "\n",
    "for i in range(a+1):\n",
    "    if i%2==0:\n",
    "        sum += i\n",
    "\n",
    "print(sum)"
   ]
  },
  {
   "cell_type": "code",
   "execution_count": null,
   "id": "7388c58d",
   "metadata": {},
   "outputs": [],
   "source": [
    "# 78 [기초-종합] 원하는 문자가 입력될 때까지 반복 출력하기(py)\n",
    "while True:\n",
    "    a = input()\n",
    "    print(a)\n",
    "    if a == 'q':\n",
    "        break\n",
    "    "
   ]
  },
  {
   "cell_type": "code",
   "execution_count": 14,
   "id": "735ebe5d",
   "metadata": {},
   "outputs": [
    {
     "name": "stdout",
     "output_type": "stream",
     "text": [
      "55\n",
      "10\n"
     ]
    }
   ],
   "source": [
    "# 79  [기초-종합] 언제까지 더해야 할까?(py)\n",
    "n=int(input())\n",
    "i=0\n",
    "total=0\n",
    "while total<=n:\n",
    "    total+=i \n",
    "    if total>=n:\n",
    "        break\n",
    "    else:\n",
    "        i+=1\n",
    "print(i)"
   ]
  },
  {
   "cell_type": "code",
   "execution_count": 15,
   "id": "76aae189",
   "metadata": {},
   "outputs": [
    {
     "name": "stdout",
     "output_type": "stream",
     "text": [
      "2 3\n",
      "1 1\n",
      "1 2\n",
      "1 3\n",
      "2 1\n",
      "2 2\n",
      "2 3\n"
     ]
    }
   ],
   "source": [
    "# 80  [기초-종합] 주사위 2개 던지기(설명)(py)\n",
    "a,b = map(int, input().split())\n",
    "for i in range(1,a+1):\n",
    "    for j in range(1,b+1):\n",
    "        print(str(i),str(j))"
   ]
  },
  {
   "cell_type": "code",
   "execution_count": 4,
   "id": "a4232d1a",
   "metadata": {},
   "outputs": [
    {
     "name": "stdout",
     "output_type": "stream",
     "text": [
      "B\n",
      "B*1=B\n",
      "B*2=16\n",
      "B*3=21\n",
      "B*4=2C\n",
      "B*5=37\n",
      "B*6=42\n",
      "B*7=4D\n",
      "B*8=58\n",
      "B*9=63\n",
      "B*A=6E\n",
      "B*B=79\n",
      "B*C=84\n",
      "B*D=8F\n",
      "B*E=9A\n",
      "B*F=A5\n"
     ]
    }
   ],
   "source": [
    "# 81 [기초-종합] 16진수 구구단 출력하기(py)\n",
    "# 16진수(0, 1, 2, 3, 4, 5, 6, 7, 8, 9, A, B, C, D, E, F)를 배운\n",
    "# 영일이는 16진수끼리 곱하는 16진수 구구단?에 대해서 궁금해졌다.\n",
    "# A, B, C, D, E, F 중 하나가 입력될 때,\n",
    "# 1부터 F까지 곱한 16진수 구구단의 내용을 출력해보자.\n",
    "# (단, A ~ F 까지만 입력된다.)\n",
    "\n",
    "n = input()\n",
    "n = int(n,16)\n",
    "\n",
    "for i in range(1,16):\n",
    "    print('%X'%n, '*%X'%i, '=%X'%(n*i), sep='')"
   ]
  },
  {
   "cell_type": "code",
   "execution_count": 12,
   "id": "34c4fcd5",
   "metadata": {},
   "outputs": [
    {
     "name": "stdout",
     "output_type": "stream",
     "text": [
      "9\n",
      "1 2 X 4 5 X 7 8 X "
     ]
    }
   ],
   "source": [
    "# 82 [기초-종합] 3 6 9 게임의 왕이 되자(설명)(py)\n",
    "\n",
    "a = int(input())\n",
    "for i in range(1,a+1):\n",
    "    if i%10 == 3:\n",
    "        print(\"X\",end=\" \")\n",
    "    elif i%10 == 6:\n",
    "        print(\"X\",end=\" \")\n",
    "    elif i%10 ==9:\n",
    "         print(\"X\",end=\" \")\n",
    "    else:\n",
    "        print(str(i),end=\" \")\n",
    "        "
   ]
  },
  {
   "cell_type": "code",
   "execution_count": 14,
   "id": "c8c9d7b4",
   "metadata": {},
   "outputs": [
    {
     "name": "stdout",
     "output_type": "stream",
     "text": [
      "2 2 2\n",
      "0 0 0\n",
      "0 1 1\n",
      "0 0 0\n",
      "0 1 1\n",
      "1 0 0\n",
      "1 1 1\n",
      "1 0 0\n",
      "1 1 1\n",
      "8\n"
     ]
    }
   ],
   "source": [
    "# 83 : [기초-종합] 빛 섞어 색 만들기(설명)(py\n",
    "\n",
    "a,b,c = map(int, input().split())\n",
    "cnt = 0\n",
    "for x in range(a):\n",
    "    for y in range(b):\n",
    "        for z in range(c):\n",
    "            print(x,y,z)\n",
    "            cnt += 1\n",
    "            \n",
    "print(cnt)"
   ]
  },
  {
   "cell_type": "markdown",
   "id": "a80e53b5",
   "metadata": {},
   "source": [
    "# 84 : [기초-종합] 소리 파일 저장용량 계산하기(py)\n",
    "\n",
    "소리가 컴퓨터에 저장될 때에는 디지털 데이터화 되어 저장된다.\n",
    "\n",
    "마이크를 통해 1초에 적게는 수십 번, 많게는 수만 번 소리의 강약을 체크하고,\n",
    "한 번씩 체크할 때 마다 그 값을 정수값으로 바꾸어 저장하는 방식으로 소리를 파일로 저장할 수 있다.\n",
    "\n",
    "값을 저장할 때에는 비트를 사용하는 정도에 따라 세세한 녹음 정도를 결정할 수 있고,\n",
    "좌우(스테레오) 채널로 저장하면 2배… 5.1채널이면 6배의 저장공간이 필요하고,\n",
    "녹음 시간이 길면 그 만큼 더 많은 저장공간이 필요하다.\n",
    "\n",
    "1초 동안 마이크로 소리강약을 체크하는 횟수를 h\n",
    "(헤르쯔, Hz 는 1초에 몇 번? 체크하는가를 의미한다.)\n",
    "\n",
    "한 번 체크한 값을 저장할 때 사용하는 비트수를 b\n",
    "(2비트를 사용하면 0 또는 1 두 가지, 16비트를 사용하면 65536가지..)\n",
    "\n",
    "좌우 등 소리를 저장할 트랙 개수인 채널 개수를 c\n",
    "(모노는 1개, 스테레오는 2개의 트랙으로 저장함을 의미한다.)\n",
    "\n",
    "녹음할 시간(초) s가 주어질 때,\n",
    "\n",
    "필요한 저장 용량을 계산하는 프로그램을 작성해보자.\n",
    "\n",
    "실제로, 일반적인 CD 음질(44.1KHz, 16bit, 스테레오)로 1초 동안 저장하려면\n",
    "44100 * 16 * 2 * 1 bit의 저장공간이 필요한데,\n",
    "44100*16*2*1/8/1024/1024 로 계산하면 약 0.168 MB 정도가 필요하다.\n",
    "\n",
    "이렇게 녹음하는 방식을 PCM(Pulse Code Modulation) 방법이라고 하는데,\n",
    "압축하지 않은 순수한(raw) 소리 데이터 파일은 대표적으로 *.wav 가 있다.\n",
    "\n",
    "**\n",
    "      8 bit(비트)           = 1byte(바이트)       # 8bit=1Byte\n",
    "1024 Byte(210 byte) = 1KB(킬로 바이트)  # 1024Byte=1KB\n",
    "1024 KB(210 KB)      = 1MB(메가 바이트)\n",
    "1024 MB(210 MB)     = 1GB(기가 바이트)\n",
    "1024 GB(210 GB)      = 1TB(테라 바이트)"
   ]
  },
  {
   "cell_type": "code",
   "execution_count": 18,
   "id": "5e4068dc",
   "metadata": {},
   "outputs": [
    {
     "name": "stdout",
     "output_type": "stream",
     "text": [
      "44100 16 2 10\n",
      "1.7 MB\n"
     ]
    }
   ],
   "source": [
    "a,b,c,d = map(int,input().split())\n",
    "\n",
    "answer = (a * b * c * d ) / (8 * 1024**2)\n",
    "print(f\"{answer:.1f} MB\")"
   ]
  },
  {
   "cell_type": "code",
   "execution_count": null,
   "id": "a06b73a2",
   "metadata": {},
   "outputs": [],
   "source": [
    "# 85 [기초-종합] 그림 파일 저장용량 계산하기(py)"
   ]
  },
  {
   "cell_type": "markdown",
   "id": "ba5f3a0e",
   "metadata": {},
   "source": [
    "이미지가 컴퓨터에 저장될 때에도 디지털 데이터화 되어 저장된다.\n",
    "\n",
    "가장 기본적인 방법으로는 그림을 구성하는 한 점(pixel, 픽셀)의 색상을\n",
    "빨강(r), 초록(g), 파랑(b)의 3가지의 빛의 세기 값으로 따로 변환하여 저장하는 것인데,\n",
    "\n",
    "예를 들어 r, g, b 각 색에 대해서 8비트(0~255, 256가지 가능)씩을 사용한다고 하면,\n",
    "\n",
    "한 점의 색상은 3가지 r, g, b의 8비트+8비트+8비트로 총 24비트로 표현해서\n",
    "총 2^24 가지의 서로 다른 빛의 색깔을 사용할 수 있는 것이다.\n",
    "\n",
    "그렇게 저장하는 점을 모아 하나의 큰 이미지를 저장할 수 있게 되는데,\n",
    "1024 * 768 사이즈에 각 점에 대해 24비트로 저장하면 그 이미지를 저장하기 위한\n",
    "저장 용량을 계산할 수 있다.\n",
    "\n",
    "이렇게 이미지의 원래(raw) 데이터를 압축하지 않고 그대로 저장하는 대표적인 이미지 파일이\n",
    "*.bmp 파일이며, 비트로 그림을 구성한다고 하여 비트맵 방식 또는 래스터 방식이라고 한다.\n",
    "\n",
    "이미지의 가로 해상도 w, 세로 해상도 h, 한 픽셀을 저장하기 위한 비트 b 가 주어질 때,\n",
    "압축하지 않고 저장하기 위해 필요한 저장 용량을 계산하는 프로그램을 작성해 보자.\n",
    "\n",
    "예를 들어\n",
    "일반적인 1024 * 768 사이즈(해상도)의 각점에 대해\n",
    "24비트(rgb 각각 8비트씩 3개)로 저장하려면\n",
    "1024 * 768 * 24 bit의 저장공간이 필요한데,\n",
    "1024*768*24/8/1024/1024 로 계산하면 약 2.25 MB 정도가 필요하다.\n",
    "\n",
    "실제 그런지 확인하고 싶다면, 간단한 그림 편집/수정 프로그램을 통해 확인할 수 있다.\n",
    "\n",
    "**\n",
    "      8 bit(비트)           = 1byte(바이트)     #       8bit=1Byte\n",
    "1024 Byte(210 byte) = 1KB(킬로 바이트)  # 1024Byte=1KB\n",
    "1024 KB(210 KB)      = 1MB(메가 바이트)\n",
    "1024 MB(210 MB)     = 1GB(기가 바이트)\n",
    "1024 GB(210 GB)      = 1TB(테라 바이트)"
   ]
  },
  {
   "cell_type": "code",
   "execution_count": 20,
   "id": "a42a1963",
   "metadata": {},
   "outputs": [
    {
     "name": "stdout",
     "output_type": "stream",
     "text": [
      "1024 768 24\n",
      "2.25 MB\n"
     ]
    }
   ],
   "source": [
    "a,b,c = map(int,input().split())\n",
    "\n",
    "answer = (a * b * c) / (8 * 1024**2)\n",
    "\n",
    "print(f\"{answer:.2f} MB\")"
   ]
  },
  {
   "cell_type": "code",
   "execution_count": 25,
   "id": "01efa48e",
   "metadata": {},
   "outputs": [
    {
     "name": "stdout",
     "output_type": "stream",
     "text": [
      "57\n",
      "66\n"
     ]
    }
   ],
   "source": [
    "# 86 [기초-종합] 거기까지! 이제 그만~(설명)(py)\n",
    "sum = 0\n",
    "cnt = 1\n",
    "USER_INPUT = int(input())\n",
    "\n",
    "while True:\n",
    "    sum += cnt\n",
    "    cnt+=1\n",
    "    if USER_INPUT <= sum:\n",
    "        print(sum)\n",
    "        break\n"
   ]
  },
  {
   "cell_type": "code",
   "execution_count": 26,
   "id": "3f23acef",
   "metadata": {},
   "outputs": [
    {
     "name": "stdout",
     "output_type": "stream",
     "text": [
      "10\n",
      "1 2 4 5 7 8 10 "
     ]
    }
   ],
   "source": [
    "# 87  [기초-종합] 3의 배수는 통과(설명)(py\n",
    "USER_INPUT = int(input())\n",
    "\n",
    "for i in range(1,USER_INPUT+1):\n",
    "    if i%3 == 0 :\n",
    "        None\n",
    "    else:\n",
    "        print(i,end=\" \")\n"
   ]
  },
  {
   "cell_type": "code",
   "execution_count": 28,
   "id": "058e2b49",
   "metadata": {},
   "outputs": [
    {
     "name": "stdout",
     "output_type": "stream",
     "text": [
      "1 3 5\n",
      "13\n"
     ]
    }
   ],
   "source": [
    "# 88 [기초-종합] 수 나열하기1(py)\n",
    "a,b,c = map(int,input().split())\n",
    "# a 시작값 b등차값 c 인수 \n",
    "# 1 3 5\n",
    "y = a + (c-1)*b\n",
    "# 13\n",
    "print(y)\n"
   ]
  },
  {
   "cell_type": "code",
   "execution_count": 30,
   "id": "4cbcdf4a",
   "metadata": {},
   "outputs": [
    {
     "name": "stdout",
     "output_type": "stream",
     "text": [
      "2 3 7\n",
      "1458\n"
     ]
    }
   ],
   "source": [
    "# 89 [기초-종합] 수 나열하기2(py) \n",
    "\n",
    "a,b,c = map(int,input().split())\n",
    "\n",
    "y = a * (b ** (c-1))\n",
    "print(y)"
   ]
  },
  {
   "cell_type": "code",
   "execution_count": 4,
   "id": "83004244",
   "metadata": {},
   "outputs": [
    {
     "name": "stdout",
     "output_type": "stream",
     "text": [
      "1 -2 1 8\n",
      "-85\n"
     ]
    }
   ],
   "source": [
    "# 90 : [기초-종합] 수 나열하기3(py)\n",
    "# a = 시작값\n",
    "# m = 곱할값\n",
    "# d = 더할값\n",
    "# n = 면번째 인자인지?\n",
    "a,m,d,n = map(int,input().split())\n",
    "\n",
    "\n",
    "\n",
    "for i in range(n-1):\n",
    "    a = (a * m) + d\n",
    "print(a)"
   ]
  },
  {
   "cell_type": "code",
   "execution_count": 5,
   "id": "243af1f8",
   "metadata": {},
   "outputs": [
    {
     "name": "stdout",
     "output_type": "stream",
     "text": [
      "3 7 9\n",
      "63\n"
     ]
    }
   ],
   "source": [
    "# 91 [기초-종합] 함께 문제 푸는 날(설명)(py)\n",
    "a,b,c = map(int,input().split())\n",
    "day = 1\n",
    "while True:\n",
    "    day += 1\n",
    "    if day%a == 0 and day%b== 0 and day%c == 0:\n",
    "        break\n",
    "print(day)\n",
    "        "
   ]
  },
  {
   "cell_type": "code",
   "execution_count": null,
   "id": "3a497f1c",
   "metadata": {},
   "outputs": [],
   "source": [
    "# 92 : [기초-리스트] 이상한 출석 번호 부르기1(설명)(py)\n",
    "# 10\n",
    "# 1 3 2 2 5 6 7 4 5 9"
   ]
  },
  {
   "cell_type": "code",
   "execution_count": 24,
   "id": "5625ac82",
   "metadata": {},
   "outputs": [
    {
     "name": "stdout",
     "output_type": "stream",
     "text": [
      "10\n",
      "1 3 2 2 5 6 7 4 5 9\n",
      "1 2 1 1 2 1 1 0 1 0 0 0 0 0 0 0 0 0 0 0 0 0 0 "
     ]
    }
   ],
   "source": [
    "a = int(input())\n",
    "numbers = list(map(int,input().split()))\n",
    "Class = [ 0 for _ in range(23)]\n",
    "\n",
    "for i in range(a):\n",
    "    Class[numbers[i]-1] += 1\n",
    "    \n",
    "for i in Class:\n",
    "    print(i, end=\" \")"
   ]
  },
  {
   "cell_type": "code",
   "execution_count": 26,
   "id": "f37211bd",
   "metadata": {},
   "outputs": [
    {
     "name": "stdout",
     "output_type": "stream",
     "text": [
      "10\n",
      "10 10 4 2 3 6 6 7 9 8 5\n",
      "[5, 8, 9, 7, 6, 6, 3, 2, 4, 10, 10]\n"
     ]
    }
   ],
   "source": [
    "# 93 [기초-리스트] 이상한 출석 번호 부르기2(py)\n",
    "# 10\n",
    "# 10 4 2 3 6 6 7 9 8 5\n",
    "\n",
    "a = int(input())\n",
    "b = list(map(int,input().split()))\n",
    "b.reverse()\n",
    "for i in b:\n",
    "    print(i, end =\" \")"
   ]
  },
  {
   "cell_type": "code",
   "execution_count": 27,
   "id": "8248657b",
   "metadata": {},
   "outputs": [
    {
     "name": "stdout",
     "output_type": "stream",
     "text": [
      "10\n",
      "10 4 2 3 6 6 7 9 8 5\n",
      "2\n"
     ]
    }
   ],
   "source": [
    "# 94 기초-리스트] 이상한 출석 번호 부르기3(py)\n",
    "a = int(input())\n",
    "b = list(map(int, input().split()))\n",
    "answer = min(b)\n",
    "print(answer)"
   ]
  },
  {
   "cell_type": "code",
   "execution_count": 36,
   "id": "bc8d2865",
   "metadata": {},
   "outputs": [
    {
     "name": "stdout",
     "output_type": "stream",
     "text": [
      "5\n",
      "1 1\n",
      "2 2\n",
      "3 3\n",
      "4 4\n",
      "5 5\n",
      "1 0 0 0 0 0 0 0 0 0 0 0 0 0 0 0 0 0 0 \n",
      "0 1 0 0 0 0 0 0 0 0 0 0 0 0 0 0 0 0 0 \n",
      "0 0 1 0 0 0 0 0 0 0 0 0 0 0 0 0 0 0 0 \n",
      "0 0 0 1 0 0 0 0 0 0 0 0 0 0 0 0 0 0 0 \n",
      "0 0 0 0 1 0 0 0 0 0 0 0 0 0 0 0 0 0 0 \n",
      "0 0 0 0 0 0 0 0 0 0 0 0 0 0 0 0 0 0 0 \n",
      "0 0 0 0 0 0 0 0 0 0 0 0 0 0 0 0 0 0 0 \n",
      "0 0 0 0 0 0 0 0 0 0 0 0 0 0 0 0 0 0 0 \n",
      "0 0 0 0 0 0 0 0 0 0 0 0 0 0 0 0 0 0 0 \n",
      "0 0 0 0 0 0 0 0 0 0 0 0 0 0 0 0 0 0 0 \n",
      "0 0 0 0 0 0 0 0 0 0 0 0 0 0 0 0 0 0 0 \n",
      "0 0 0 0 0 0 0 0 0 0 0 0 0 0 0 0 0 0 0 \n",
      "0 0 0 0 0 0 0 0 0 0 0 0 0 0 0 0 0 0 0 \n",
      "0 0 0 0 0 0 0 0 0 0 0 0 0 0 0 0 0 0 0 \n",
      "0 0 0 0 0 0 0 0 0 0 0 0 0 0 0 0 0 0 0 \n",
      "0 0 0 0 0 0 0 0 0 0 0 0 0 0 0 0 0 0 0 \n",
      "0 0 0 0 0 0 0 0 0 0 0 0 0 0 0 0 0 0 0 \n",
      "0 0 0 0 0 0 0 0 0 0 0 0 0 0 0 0 0 0 0 \n",
      "0 0 0 0 0 0 0 0 0 0 0 0 0 0 0 0 0 0 0 \n"
     ]
    }
   ],
   "source": [
    "# 95 [기초-리스트] 바둑판에 흰 돌 놓기(설명)(py)\n",
    "\n",
    "# 바둑판 19줄 x 19줄 \n",
    "a = int(input())\n",
    "position = []\n",
    "for i in range(a):\n",
    "    x,y = map(int, input().split())\n",
    "    position.append([x,y])\n",
    "\n",
    "\n",
    "\n",
    "for y in range(1,20):\n",
    "    for x in range(1,20):\n",
    "        if [x, y] in position:\n",
    "            print(1,end=\" \")\n",
    "        else:\n",
    "            print(0,end=\" \")\n",
    "    print()"
   ]
  },
  {
   "cell_type": "code",
   "execution_count": 33,
   "id": "4486477f",
   "metadata": {},
   "outputs": [
    {
     "name": "stdout",
     "output_type": "stream",
     "text": [
      "10\n",
      "1 1\n",
      "2 2\n",
      "3 3\n",
      "4 4\n",
      "5 5\n",
      "6 6\n",
      "7 7\n",
      "8 8\n",
      "9 9\n",
      "10 1\n",
      "1 0 0 0 0 0 0 0 0 0 0 0 0 0 0 0 0 0 0 \n",
      "0 1 0 0 0 0 0 0 0 0 0 0 0 0 0 0 0 0 0 \n",
      "0 0 1 0 0 0 0 0 0 0 0 0 0 0 0 0 0 0 0 \n",
      "0 0 0 1 0 0 0 0 0 0 0 0 0 0 0 0 0 0 0 \n",
      "0 0 0 0 1 0 0 0 0 0 0 0 0 0 0 0 0 0 0 \n",
      "0 0 0 0 0 1 0 0 0 0 0 0 0 0 0 0 0 0 0 \n",
      "0 0 0 0 0 0 1 0 0 0 0 0 0 0 0 0 0 0 0 \n",
      "0 0 0 0 0 0 0 1 0 0 0 0 0 0 0 0 0 0 0 \n",
      "0 0 0 0 0 0 0 0 1 0 0 0 0 0 0 0 0 0 0 \n",
      "1 0 0 0 0 0 0 0 0 0 0 0 0 0 0 0 0 0 0 \n",
      "0 0 0 0 0 0 0 0 0 0 0 0 0 0 0 0 0 0 0 \n",
      "0 0 0 0 0 0 0 0 0 0 0 0 0 0 0 0 0 0 0 \n",
      "0 0 0 0 0 0 0 0 0 0 0 0 0 0 0 0 0 0 0 \n",
      "0 0 0 0 0 0 0 0 0 0 0 0 0 0 0 0 0 0 0 \n",
      "0 0 0 0 0 0 0 0 0 0 0 0 0 0 0 0 0 0 0 \n",
      "0 0 0 0 0 0 0 0 0 0 0 0 0 0 0 0 0 0 0 \n",
      "0 0 0 0 0 0 0 0 0 0 0 0 0 0 0 0 0 0 0 \n",
      "0 0 0 0 0 0 0 0 0 0 0 0 0 0 0 0 0 0 0 \n",
      "0 0 0 0 0 0 0 0 0 0 0 0 0 0 0 0 0 0 0 \n"
     ]
    }
   ],
   "source": [
    "d=[] \n",
    "for i in range(20) :\n",
    "    d.append([]) \n",
    "    for j in range(20) :\n",
    "        d[i].append(0)\n",
    "\n",
    "n = int(input()) \n",
    "for i in range(n) :\n",
    "    x, y = input().split()\n",
    "    d[int(x)][int(y)] = 1 \n",
    "\n",
    "for i in range(1, 20) :\n",
    "    for j in range(1, 20) :\n",
    "        print(d[i][j], end=' ')\n",
    "    print()\n",
    "\n"
   ]
  },
  {
   "cell_type": "code",
   "execution_count": null,
   "id": "b8f30ad0",
   "metadata": {},
   "outputs": [
    {
     "name": "stdout",
     "output_type": "stream",
     "text": [
      "ㅊ\n"
     ]
    }
   ],
   "source": [
    "# 96 : [기초-리스트] 바둑알 십자 뒤집기(py)\n",
    "d=[] \n",
    "for i in range(20) : \n",
    "    d.append([]) \n",
    "    for j in range(20) : \n",
    "        d[i].append(0) \n",
    "        \n",
    "for i in range(19) :\n",
    "    a = input().split() \n",
    "    for j in range(19) : \n",
    "        d[i+1][j+1] = int(a[j]) \n",
    "        \n",
    "n = int(input()) \n",
    "for i in range(n) : \n",
    "    x,y=input().split() \n",
    "    x=int(x) \n",
    "    y=int(y) \n",
    "    for j in range(1, 20) :\n",
    "        if d[j][y]==0 : \n",
    "            d[j][y]=1 \n",
    "        else : d[j][y]=0 \n",
    "        \n",
    "        if d[x][j]==0 : \n",
    "            d[x][j]=1 \n",
    "        else : \n",
    "            d[x][j]=0 \n",
    "        \n",
    "for i in range(1, 20) :\n",
    "    for j in range(1, 20) :\n",
    "        print(d[i][j], end=' ') \n",
    "    print()\n",
    "\n"
   ]
  },
  {
   "cell_type": "code",
   "execution_count": 1,
   "id": "0038d485",
   "metadata": {},
   "outputs": [
    {
     "name": "stdout",
     "output_type": "stream",
     "text": [
      "5 5\n",
      "3\n",
      "2 0 1 1\n",
      "3 1 2 3\n",
      "4 1 2 5\n",
      "[2, 0, 1, 1]\n",
      "[3, 1, 2, 3]\n",
      "[4, 1, 2, 5]\n"
     ]
    }
   ],
   "source": [
    "# 97  [기초-리스트] 설탕과자 뽑기(py)\n",
    "\n",
    "h, w = map(int, input().split()) \n",
    "n = int(input()) \n",
    "\n",
    "zeros = [[0] * w for _ in range(h)] \n",
    "\n",
    "for i in range(n):\n",
    "    l, d, x, y = map(int, input().split()) \n",
    "    for j in range(l):\n",
    "        if d == 0: \n",
    "            zeros[x-1][y-1+j] = 1 \n",
    "        else: \n",
    "            zeros[x-1+j][y-1] = 1 \n",
    "            \n",
    "for i in range(h): \n",
    "    for j in range(w): \n",
    "        print(zeros[i][j], end=' ') \n",
    "    print()"
   ]
  },
  {
   "cell_type": "code",
   "execution_count": 3,
   "id": "eab2a8d2",
   "metadata": {},
   "outputs": [
    {
     "name": "stdout",
     "output_type": "stream",
     "text": [
      "1 1 1 1 1 1 1 1 1 1\n",
      "1 0 0 1 0 0 0 0 0 1\n",
      "1 0 0 1 1 1 0 0 0 1\n",
      "1 0 0 0 0 0 0 1 0 1\n",
      "1 0 0 0 0 0 0 1 0 1\n",
      "1 0 0 0 0 1 0 1 0 1\n",
      "1 0 0 0 0 1 2 1 0 1\n",
      "1 0 0 0 0 1 0 0 0 1\n",
      "1 0 0 0 0 0 0 0 0 1\n",
      "1 1 1 1 1 1 1 1 1 1\n",
      "1 1 1 1 1 1 1 1 1 1 \n",
      "1 9 9 1 0 0 0 0 0 1 \n",
      "1 0 9 1 1 1 0 0 0 1 \n",
      "1 0 9 9 9 9 9 1 0 1 \n",
      "1 0 0 0 0 0 9 1 0 1 \n",
      "1 0 0 0 0 1 9 1 0 1 \n",
      "1 0 0 0 0 1 9 1 0 1 \n",
      "1 0 0 0 0 1 0 0 0 1 \n",
      "1 0 0 0 0 0 0 0 0 1 \n",
      "1 1 1 1 1 1 1 1 1 1 \n"
     ]
    }
   ],
   "source": [
    "# 98 : [기초-리스트] 성실한 개미(py)\n",
    "\n",
    "m=[] \n",
    "for i in range(12) : \n",
    "    m.append([]) \n",
    "    for j in range(12) : \n",
    "        m[i].append(0) \n",
    "        \n",
    "for i in range(10) : \n",
    "    a=input().split() \n",
    "    for j in range(10) : \n",
    "        m[i+1][j+1]=int(a[j]) \n",
    "        \n",
    "x = 2 \n",
    "y = 2 \n",
    "while True : \n",
    "    if m[x][y] == 0 : \n",
    "        m[x][y] = 9 \n",
    "    elif m[x][y] == 2 : \n",
    "        m[x][y] = 9 \n",
    "        break \n",
    "        \n",
    "    if (m[x][y+1]==1 and m[x+1][y]==1) or (x==9 and y==9) : \n",
    "        break \n",
    "        \n",
    "    if m[x][y+1] != 1 :\n",
    "        y += 1 \n",
    "    elif m[x+1][y] != 1 : \n",
    "        x += 1 \n",
    "        \n",
    "for i in range(1, 11) : \n",
    "    for j in range(1, 11) : \n",
    "        print(m[i][j], end=' ') \n",
    "    print()"
   ]
  }
 ],
 "metadata": {
  "kernelspec": {
   "display_name": "Python 3",
   "language": "python",
   "name": "python3"
  },
  "language_info": {
   "codemirror_mode": {
    "name": "ipython",
    "version": 3
   },
   "file_extension": ".py",
   "mimetype": "text/x-python",
   "name": "python",
   "nbconvert_exporter": "python",
   "pygments_lexer": "ipython3",
   "version": "3.8.8"
  }
 },
 "nbformat": 4,
 "nbformat_minor": 5
}
