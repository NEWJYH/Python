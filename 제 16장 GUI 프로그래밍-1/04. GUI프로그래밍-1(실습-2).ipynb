{
 "cells": [
  {
   "cell_type": "code",
   "execution_count": 1,
   "id": "ac1f2523",
   "metadata": {},
   "outputs": [],
   "source": [
    "# 간단한 이벤트 처리에 대한 실습\n",
    "# tkinter 프로그램은 이벤트에 기반을 두고 동작이 된다.\n",
    "# 이벤트 : 근원지, 리스너, 이벤트핸들러(함수, 콜백함수)로 3가지로 구성\n",
    "# 이벤트 핸들러를 등록하기 위해서는 Button 의 생성자 매개변수 command에 \n",
    "# 함수명을 지정 해주면 된다.\n",
    "\n",
    "from tkinter import *\n",
    "\n",
    "# 콜백 함수 정의\n",
    "def callback():\n",
    "    button[\"text\"] =\"버튼이 클릭되었음\"\n",
    "    \n",
    "window = Tk()\n",
    "# 버튼을 생성할 때 버튼을 클릭하는 이벤트가 발생하면 callback 함수가 실행된다.\n",
    "button = Button(window, text =\"클릭\",command = callback)\n",
    "button.pack(side=LEFT)\n",
    "window.mainloop()"
   ]
  },
  {
   "cell_type": "code",
   "execution_count": 9,
   "id": "91fbb10b",
   "metadata": {},
   "outputs": [],
   "source": [
    "from tkinter import *\n",
    "\n",
    "window = Tk()\n",
    "counter = 0\n",
    "\n",
    "# 이벤트 핸들러, 콜백 함수 작성\n",
    "def clicked():\n",
    "    global counter # 전역변수 counter를 사용하겠다라는 의미\n",
    "    counter += 1\n",
    "    label[\"text\"] = \"버튼 클릭횟수\" + str(counter)\n",
    "    \n",
    "def reset():\n",
    "    global counter\n",
    "    counter = 0\n",
    "    label[\"text\"] = \"리셋되었음\"\n",
    "    \n",
    "if __name__ == \"__main__\":\n",
    "    label = Label(window, text = \"아직 클릭되지 않았음\")\n",
    "    label.pack()\n",
    "    button = Button(window,text=\"증가\", command = clicked)\n",
    "    button.pack()\n",
    "    button1 = Button(window, text = \"리셋\",command = reset)\n",
    "    button1.pack()\n",
    "    window.mainloop()"
   ]
  },
  {
   "cell_type": "code",
   "execution_count": 28,
   "id": "a00d0071",
   "metadata": {},
   "outputs": [
    {
     "name": "stdout",
     "output_type": "stream",
     "text": [
      "Hello 버튼이 클릭되었음\n",
      "Hello 버튼이 클릭되었음\n",
      "Hello 버튼이 클릭되었음\n",
      "Hello 버튼이 클릭되었음\n",
      "quit 버튼이 클릭되었음\n",
      "quit 버튼이 클릭되었음\n",
      "quit 버튼이 클릭되었음\n",
      "quit 버튼이 클릭되었음\n"
     ]
    },
    {
     "data": {
      "text/plain": [
       "<__main__.App at 0x22130d872e0>"
      ]
     },
     "execution_count": 28,
     "metadata": {},
     "output_type": "execute_result"
    }
   ],
   "source": [
    "# 클래스로 만들어서 이벤트를 처리하는 방법\n",
    "# 클래스로 프레임을 감싸는 방법\n",
    "# 아래와 같이 규모가 있는 프로그램을 작성할 때는 코드를\n",
    "# 클래스로 감싸는것이 좋다.\n",
    "from tkinter import *\n",
    "\n",
    "class App:\n",
    "    def __init__(self):\n",
    "        self.window = Tk()\n",
    "        self.label = Label(self.window, text = \"클래스실습\")\n",
    "        self.label.pack()\n",
    "        self.helloB = Button(self.window,\n",
    "                        text=\"Hello\", \n",
    "                        command = self.hello,\n",
    "                       fg =\"red\")\n",
    "        self.helloB.pack(side=LEFT)\n",
    "        self.quitB = Button(self.window,\n",
    "                      text=\"Quit\",\n",
    "                      command=self.quit)\n",
    "        self.quitB.pack(side=LEFT)\n",
    "        self.window.mainloop()\n",
    "        \n",
    "    def hello(self):\n",
    "        self.label[\"text\"] = \"Hello 버튼이 클릭 되었음\"\n",
    "        print(\"Hello 버튼이 클릭되었음\")\n",
    "        \n",
    "    def quit(self):\n",
    "        self.label[\"text\"] = \"quit 버튼이 클릭 되었음\"\n",
    "        print(\"quit 버튼이 클릭되었음\")\n",
    "App()"
   ]
  }
 ],
 "metadata": {
  "kernelspec": {
   "display_name": "Python 3",
   "language": "python",
   "name": "python3"
  },
  "language_info": {
   "codemirror_mode": {
    "name": "ipython",
    "version": 3
   },
   "file_extension": ".py",
   "mimetype": "text/x-python",
   "name": "python",
   "nbconvert_exporter": "python",
   "pygments_lexer": "ipython3",
   "version": "3.8.8"
  }
 },
 "nbformat": 4,
 "nbformat_minor": 5
}
