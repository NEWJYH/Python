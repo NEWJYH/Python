{
 "cells": [
  {
   "cell_type": "code",
   "execution_count": 2,
   "id": "08637075",
   "metadata": {},
   "outputs": [],
   "source": [
    "# 유연한 격자배치 관리자를 실습해보기\n",
    "from tkinter import *\n",
    "\n",
    "window = Tk()\n",
    "\n",
    "# 레이블 생성\n",
    "Label(window, text =\"너비\").grid(row=0)\n",
    "Label(window, text =\"높이\").grid(row=1)\n",
    "\n",
    "# 엔트리 생성\n",
    "e1 = Entry(window)\n",
    "e2 = Entry(window)\n",
    "e1.grid(row=0,column=1)\n",
    "e2.grid(row=1,column=1)\n",
    "\n",
    "# 이미지를 가진 레이블을 생성하여 2열과 2행에 걸쳐서 표식한다.\n",
    "photo = PhotoImage(file=\"09apple.gif\")\n",
    "# 이미지 인식 못할시 쥬피터 껏다 키기\n",
    "label = Label(window, image = photo)\n",
    "\n",
    "# 이미지를 셀들의 병합으로 나타내고 있다.\n",
    "                                # 열병합            # 행병합\n",
    "label.grid(row = 0, column = 2, columnspan = 2, rowspan = 2)\n",
    "\n",
    "# 첫 번째 버튼은 2열에 걸쳐서 표식한다.\n",
    "Button(window, text = \"이미지저장\").grid(row=2,column=0, columnspan = 2)\n",
    "# 두 번쨰 세번째 버튼은 2열과 3열에 표식한다.\n",
    "Button(window, text = \"확대\").grid(row=2,column=2)\n",
    "Button(window, text = \"축소\").grid(row=2,column=3)\n",
    "\n",
    "\n",
    "window.mainloop()"
   ]
  },
  {
   "cell_type": "code",
   "execution_count": 9,
   "id": "bd236990",
   "metadata": {},
   "outputs": [],
   "source": [
    "# 온도 변환기 이벤트 처리\n",
    "from tkinter import *\n",
    "\n",
    "# 이벤트 처리 함수\n",
    "def process():\n",
    "    # e1 엔트리 클래스에서 \n",
    "    # 사용자가 입력한 값을 get() 메서드를 통해서 가져옴\n",
    "    tf = float(e1.get()) \n",
    "    tc = (tf-32.0)*5.0/9.0 # 화씨에서 섭씨로 변경함\n",
    "    e2.delete(0,END) # e2엔트리의 값을 처음부터 끝까지 다 지운다.\n",
    "    e2.insert(0,str(tc))\n",
    "    \n",
    "def process1():\n",
    "    tc = float(e2.get())\n",
    "    tf = (tc*9.0/5.0) + 32.0\n",
    "    e1.delete(0,END)\n",
    "    e1.insert(0,str(tf))\n",
    "    \n",
    "window = Tk()\n",
    "Label(window, text =\"화씨\").grid(row=0,column=0)\n",
    "Label(window, text =\"섭씨\").grid(row=1,column=0)\n",
    "\n",
    "e1 = Entry(window)\n",
    "e1.grid(row=0,column=1)\n",
    "# grid 메서드는 None 반환함\n",
    "e2 = Entry(window)\n",
    "e2.grid(row=1,column=1)\n",
    "\n",
    "Button(window, text = \"화씨->섭씨\",command = process).grid(row=2, column=0)\n",
    "Button(window, text =\"섭씨->화씨\", command = process1).grid(row=2, column=1)\n",
    "window.mainloop()"
   ]
  }
 ],
 "metadata": {
  "kernelspec": {
   "display_name": "Python 3",
   "language": "python",
   "name": "python3"
  },
  "language_info": {
   "codemirror_mode": {
    "name": "ipython",
    "version": 3
   },
   "file_extension": ".py",
   "mimetype": "text/x-python",
   "name": "python",
   "nbconvert_exporter": "python",
   "pygments_lexer": "ipython3",
   "version": "3.8.8"
  }
 },
 "nbformat": 4,
 "nbformat_minor": 5
}
