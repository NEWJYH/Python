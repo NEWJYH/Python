{
 "cells": [
  {
   "cell_type": "markdown",
   "id": "15c14da8",
   "metadata": {},
   "source": [
    "3. 버튼과 이벤트 처리"
   ]
  },
  {
   "cell_type": "markdown",
   "id": "d8fcd7ba",
   "metadata": {},
   "source": [
    "1) 버튼과 이벤트 처리\n",
    "    - 버튼을 아주 많이 사용되는 위젯이다.\n",
    "      버튼은 다양한 용도로 사용되는 표준 tkinter 위젯이다.\n",
    "      버튼은 사용자와 상호작용을 할 목적으로 설계된 위젯이다.\n",
    "      우리가 마우스로 버튼을 누르면 어떤 동작이 시작된다.\n",
    "      버튼은 텍스트와 이미지를 포함할 수 있다.\n",
    "      레이블은 다양한 글꼴로 텍스트를 표시 할 수 있지만,\n",
    "      버튼은 하나의 글꼴만 사용할 수 있다.\n",
    "      버튼의 텍스트는 여러 줄 이상에 걸쳐 있을 수 있다.\n",
    "      우리는 특정한 함수를 버튼에 등록할 수 있다.\n",
    "      버튼이 눌리면 등록된 함수가 호출된다.\n",
    "      간단한 버튼 프로그램을 작성해보자."
   ]
  },
  {
   "cell_type": "code",
   "execution_count": 4,
   "id": "6dc98556",
   "metadata": {},
   "outputs": [],
   "source": [
    "from tkinter import *\n",
    "\n",
    "window = Tk()\n",
    "b1 = Button(window, text = \"이것이 파이썬 버튼입니다.\")\n",
    "b1.pack()\n",
    "window.mainloop()"
   ]
  },
  {
   "cell_type": "markdown",
   "id": "6c3c82dc",
   "metadata": {},
   "source": [
    "1) 버튼과 이벤트 처리\n",
    "    - 파이썬 버튼 Button 클래스로 생성할 수 있다.\n",
    "      첫 번째 인수는 루트 윈도우이고 text 인수는 버튼의 텍스트를 나타낸다.\n",
    "      버튼을 생성한 후에는 반드시 pack()을 호출하여야 화면에\n",
    "      버튼이 표시된다.\n",
    "      이번에도 한줄씩 자세히 분석해보자."
   ]
  },
  {
   "cell_type": "code",
   "execution_count": 3,
   "id": "1b162af9",
   "metadata": {},
   "outputs": [],
   "source": [
    "from tkinter import *\n",
    "window = Tk() \n",
    "window.title(\"temp\") # 윈도우 타이틀 설정\n",
    "label = Label(window, text = \"Hello World\") # 라벨 설정\n",
    "label.pack() # 라벨 펙\n",
    "window.geometry(\"1920x1080\") # 사이즈 설정\n",
    "window.option_add(\"*Font\",\"궁서 25\") # 옵션추가\n",
    "btn = Button(window, text = \"버튼\") # 버튼 생성\n",
    "btn.pack() # 버튼 배치\n",
    "window.mainloop() # 창실행"
   ]
  },
  {
   "cell_type": "markdown",
   "id": "31fa41e4",
   "metadata": {},
   "source": [
    "1) 버튼과 이벤트 처리\n",
    "    - 첫 번째로 해야 할 일은 tkinter의 모듈을 가져오는 것이다.\n",
    "      그 다음 루트 윈도우를 생성하고 변수 window에 할당한다.\n",
    "      이 문장이 실행되면 작은 윈도우가 화면에 등장하며\n",
    "      제목이 \"tk\"일 것이다.\n",
    "      그리고 Button의 생성자의 첫 번째 인수는 부모 윈도우이다.\n",
    "      인수의 나머지는 키워드 text로 전달된다.\n",
    "      버튼은 아직 윈도우에 표시되지 않는다.\n",
    "      버튼이 화면에 표시되려면 배치관리자 안에 배치되어야 한다.\n",
    "      가장 일반적인 두 개의 배치 관리자는 pack과 grid이다.\n",
    "      압축 배치 관리자로 위젯을 부모 안에 압축하여 배치할 수 있다.\n",
    "      side(TOP, LEFT, RIGHT, BOTTOM)를 지정할 수 있으며\n",
    "      위젯은 부모의 경계에 배치된다.\n",
    "      경계선은 특별히 지정하지않으면 기본값은 TOP이다.\n",
    "      그리고 윈도우의 이벤트 루프를 시작한다."
   ]
  },
  {
   "cell_type": "markdown",
   "id": "cfe8d7d0",
   "metadata": {},
   "source": [
    "2) 배치 관리자 소개\n",
    "    - 배치 관리자는 차후에 자세히 설명할것이지만,\n",
    "      여기서는 버튼을 가지고 간단하게 소개한다.\n",
    "      다음과 같이 버튼을 하나 더 생성해보자."
   ]
  },
  {
   "cell_type": "code",
   "execution_count": 6,
   "id": "521258e0",
   "metadata": {},
   "outputs": [],
   "source": [
    "from tkinter import *\n",
    "window = Tk()\n",
    "b1 = Button(window, text = \"파이썬버튼\")\n",
    "b2 = Button(window, text = \"파이썬버튼2\")\n",
    "b1.pack()\n",
    "b2.pack()\n",
    "window.mainloop()"
   ]
  },
  {
   "cell_type": "markdown",
   "id": "f21b6302",
   "metadata": {},
   "source": [
    "2) 배치 관리자 소개\n",
    "    - b1.pack()이 실행되면 버튼 b1이 윈도우에 배치되고\n",
    "      윈도우 자체가 버튼의 크기로 축소되는 것을 알수 있다.\n",
    "      두 번째 버튼 b2가 배치되면 윈도우가 이것을 수용할 수 있도록 확장된다.\n",
    "      기본적으로 pack 배치관리자는 위젯을 추가된 순서에 따라 수직으로 쌓는다."
   ]
  },
  {
   "cell_type": "markdown",
   "id": "11a74b68",
   "metadata": {},
   "source": [
    "2) 배치 관리자 소개\n",
    "    - 이제 앞의 프로그램에서 일부를 변경하여 실행해보자."
   ]
  },
  {
   "cell_type": "code",
   "execution_count": 10,
   "id": "a5382630",
   "metadata": {},
   "outputs": [],
   "source": [
    "# 패안마바\n",
    "# 패딩은 안쪽 여백 \n",
    "# 마진은 바깥쪽 여백을 지정\n",
    "from tkinter import *\n",
    "window = Tk()\n",
    "b1 = Button(window, text = \"이것이 파이썬 버튼입니다.\")\n",
    "b2 = Button(window, text = \"이것이 파이썬 버튼입니다.\")\n",
    "b1.pack(side =  LEFT)\n",
    "b2.pack(side =  LEFT)\n",
    "window.mainloop()\n",
    "# 압축 배치 관리자는 위젯을 수직으로 배치하거나 수평으로 배치하는데 사용된다.\n",
    "# 디폴트는 TOP\n",
    "# 현재 버튼은 너무 압축되어 보인다. 약간의 패딩을 추가하여 이 문제를 \n",
    "# 해결할 수 있다.\n",
    "# \"pady\"는 상단과 하단에 픽셀을 추가하고, \"padx\"는 외쪽 및 오른 쪽에\n",
    "# 픽셀을 추가한다."
   ]
  },
  {
   "cell_type": "code",
   "execution_count": 12,
   "id": "6bba0681",
   "metadata": {},
   "outputs": [],
   "source": [
    "from tkinter import *\n",
    "window = Tk()\n",
    "b1 = Button(window,text=\"이것이 파이썬 버튼입니다.\")\n",
    "b2 = Button(window,text=\"이것이 파이썬 버튼입니다.\")\n",
    "b1.pack(side=LEFT,padx =10)\n",
    "b2.pack(side=LEFT,padx =10)\n",
    "window.mainloop()\n",
    "# padx에 각각 10px씩 주었고, 실행결과를 보면 왼쪽 여백이 생성된 것을\n",
    "# 확인할수 있다.\n",
    "# 패딩이란 것은 안쪽 여백을 나타내는 것이다."
   ]
  },
  {
   "cell_type": "markdown",
   "id": "c0985f23",
   "metadata": {},
   "source": [
    "2) 배치 관리자 소개\n",
    "    - 버튼의 텍스트는 다음과 같은 문장으로 언제든지 변경할수 있다."
   ]
  },
  {
   "cell_type": "code",
   "execution_count": 13,
   "id": "5a826376",
   "metadata": {},
   "outputs": [],
   "source": [
    "from tkinter import *\n",
    "window = Tk()\n",
    "b1 = Button(window,text=\"이것이 파이썬 버튼입니다.\")\n",
    "b2 = Button(window,text=\"이것이 파이썬 버튼입니다.\")\n",
    "b1.pack(side=LEFT,padx =10)\n",
    "b2.pack(side=LEFT,padx =10)\n",
    "b1[\"text\"] = \"One\"\n",
    "b2[\"text\"] = \"Two\"\n",
    "window.mainloop()"
   ]
  },
  {
   "cell_type": "markdown",
   "id": "98c35fe2",
   "metadata": {},
   "source": [
    "3) 이벤트 처리 소개\n",
    "    - tkinter 프로그램은 이벤트에 기반을 두고 동작된다.\n",
    "      이벤트에 대해서는 이번 장의 후반부에서 자세히 설명한다.\n",
    "      여기서는 버튼의 이벤트를 처리하는 방법만 간략하게 설명하고 지나가자.\n",
    "      실제로 버튼의 이벤트가 가장 많이 이용된다."
   ]
  },
  {
   "cell_type": "code",
   "execution_count": null,
   "id": "68b53d55",
   "metadata": {},
   "outputs": [],
   "source": [
    "# 이벤트가 발생하면 라이브러리에서 사용자가 지정한 콜백 함수를\n",
    "# 호출하는 개념입니다."
   ]
  },
  {
   "cell_type": "markdown",
   "id": "b74fb573",
   "metadata": {},
   "source": [
    "3) 이벤트 처리 소개\n",
    "    - 사용자가 버튼을 클릭하면 버튼에서는 이벤트가 발생한다.\n",
    "      버튼에 이벤트를 처리하는 함수를 붙일 수 있다.\n",
    "      버튼에 이벤트를 처리하는 함수가 연결되어 있으면 이벤트가 발생했을 때,\n",
    "      그 함수가 호출된다.\n",
    "      이벤트가 발생하였을떄 호출되는 이러한 함수를 \n",
    "      콜백함수(callback function), 또는 핸들러(handler)라고 한다.\n",
    "      버튼에 콜백 함수를 등록하려면 버튼의 생성자를 호출할 때,\n",
    "      command 매개변수에 이벤트를 처리하는 함수의 이름을 지정해면 된다."
   ]
  },
  {
   "cell_type": "code",
   "execution_count": null,
   "id": "33b56f4e",
   "metadata": {},
   "outputs": [],
   "source": [
    "button = Button(window, text=\"one\",command = 함수 이름)\n",
    "# 버튼이 클릭되면 command에 지정된 함수가 호출된다."
   ]
  },
  {
   "cell_type": "markdown",
   "id": "f65980f0",
   "metadata": {},
   "source": [
    "3) 이벤트 처리 소개\n",
    "    - 버튼을 하나 생성하고 버튼을 클릭하면 버튼의 텍스트가 변경되는 프로그램"
   ]
  },
  {
   "cell_type": "code",
   "execution_count": 20,
   "id": "c72ee0f0",
   "metadata": {},
   "outputs": [],
   "source": [
    "from tkinter import *\n",
    "\n",
    "def callback():\n",
    "    button[\"text\"] = \"버튼이 클릭되었음!\"\n",
    "    \n",
    "window = Tk()\n",
    "button = Button(window, text=\"클릭\",command = callback)\n",
    "button.pack(side=LEFT)\n",
    "window.mainloop()\n",
    "# 프로그램의 첫 부분을 보면 callback()이라는 함수를 정의한다.\n",
    "# 이 함수는 Button()생성자 호출에서 이벤트 처리함수로 등록되어\n",
    "# 위와 같은 결과를 나타낸다."
   ]
  },
  {
   "cell_type": "markdown",
   "id": "a586bcb3",
   "metadata": {},
   "source": [
    "3) 이벤트 처리 소개\n",
    "    - 이번에는 레이블과 버튼을 동시에 표시하는 코드를 살펴보자"
   ]
  },
  {
   "cell_type": "code",
   "execution_count": 25,
   "id": "a7f713e0",
   "metadata": {},
   "outputs": [],
   "source": [
    "from tkinter import *\n",
    "window = Tk()\n",
    "label = Label(window, text = \"안녕하세요\")\n",
    "label.pack()\n",
    "mytext = \" 버튼을 쉽게 만들 수 있습니다.\"\n",
    "button = Button(window, text = mytext)\n",
    "button.pack(side = TOP)\n",
    "window.mainloop()\n",
    "# 이벤트 처리부분은 따로 정의하지 않아서 버튼을 클릭해도 아무런 행위가 \n",
    "# 일어나지 않는다."
   ]
  },
  {
   "cell_type": "markdown",
   "id": "fad5501e",
   "metadata": {},
   "source": []
  },
  {
   "cell_type": "code",
   "execution_count": 27,
   "id": "aea956ff",
   "metadata": {},
   "outputs": [],
   "source": [
    "# mycode\n",
    "Num = 0\n",
    "def Print():\n",
    "    global Num \n",
    "    Num += 1\n",
    "    btn = Button(window, text = f\"{Num}\",command =Print)\n",
    "    btn.pack(side=LEFT,padx = 1)\n",
    "\n",
    "from tkinter import *\n",
    "window = Tk() \n",
    "window.title(\"temp\") # 윈도우 타이틀 설정\n",
    "label = Label(window, text = \"Hello World\") # 라벨 설정\n",
    "label.pack() # 라벨 펙\n",
    "window.geometry(\"1920x1080\") # 사이즈 설정\n",
    "window.option_add(\"*Font\",\"궁서 25\") # 옵션추가\n",
    "btn = Button(window, text = \"버튼\",command=Print) # 버튼 생성\n",
    "btn.pack() # 버튼 배치\n",
    "btn2 = Button(window, text = \"zzz\")\n",
    "btn2.pack()\n",
    "window.mainloop() # 창실행"
   ]
  }
 ],
 "metadata": {
  "kernelspec": {
   "display_name": "Python 3",
   "language": "python",
   "name": "python3"
  },
  "language_info": {
   "codemirror_mode": {
    "name": "ipython",
    "version": 3
   },
   "file_extension": ".py",
   "mimetype": "text/x-python",
   "name": "python",
   "nbconvert_exporter": "python",
   "pygments_lexer": "ipython3",
   "version": "3.8.8"
  }
 },
 "nbformat": 4,
 "nbformat_minor": 5
}
