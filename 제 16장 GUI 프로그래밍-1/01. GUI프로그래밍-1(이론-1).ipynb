{
 "cells": [
  {
   "cell_type": "markdown",
   "id": "7a1d7d33",
   "metadata": {},
   "source": [
    "제 16장 GUI 프로그래밍-1"
   ]
  },
  {
   "cell_type": "markdown",
   "id": "66ebb613",
   "metadata": {},
   "source": [
    "1. tkinter란?"
   ]
  },
  {
   "cell_type": "markdown",
   "id": "450ed3c2",
   "metadata": {},
   "source": [
    "1) tkinter란?\n",
    "    - tkinter는 파이썬에서 그래픽 사용자 인터페이스\n",
    "      (GUI : graphic user interface)를 개발할 때 필요한 모듈이다.\n",
    "      GUI는 사용자가 컴퓨터를 사용할 때, 그래픽을 통하여\n",
    "      상호작용할 수 있는 환경을 말한다. 우리는 지금까지 키보드와 콘솔 창을\n",
    "      통하여 작업을 수행시켰고, 작업의 결과는 화면에 문자로 표시하였다.\n",
    "      이런 방식도 괜찮은 방법이지만 최근에는 많이 사용되지 않는다.\n",
    "      요즘 대부분의 프로그램에서 사용자는 마우스를 이용하여 화면에 \n",
    "      표시된 메뉴를 선택하여 작업을 하고 실행 결과도 화면에 그래픽으로\n",
    "      표시된다.\n",
    "      \n",
    "    - 이번 장에서는 tkinter를 소개한다. tkinter를 이용하면 윈도우를 \n",
    "      생성하고 버튼이나 레이블과 같은 위젯을 이용하여서 사용자와\n",
    "      상호작용하는 프로그램을 작성할 수 있다.\n",
    "      파이썬에서는 GUI 프로그램을 개밸하기 위한 다양한 모듈들이 있지만\n",
    "      tkinter가 가장 많은 지지를 받고 있다.\n",
    "      tkinter를 이용하여 프로그램을 작성하다 보면 파이썬 프로그래밍의\n",
    "      여러가지 개념을 쉽게 이해할 수 있을 것이다.\n",
    "      \n",
    "     - tkinter의 첫 번째 버전은 1991년에 발표되었다.\n",
    "       이후로 Tk는 아주 성공적이었다. 왜냐하면 다른 툴깃보다 배우기 쉽고\n",
    "       사용하기 간편하였기 때문이다.\n",
    "       그런 이유로 많은 언어 바인딩이 개발되었으며 Perl, Python,Ruby등을\n",
    "       위한 인터페이스가 존재한다.\n",
    "       \n",
    "      - tkinter는 \"Tk interface의 약자이다.\n",
    "        만약 tkinter가 없었다면 많은 사용자에게 파이썬은 그닥\n",
    "        매력적이지 못했을 수도 있다.\n",
    "        tkinter가 파이썬의 유일한 GUI 모듈은 아니지만\n",
    "        현재 가장 많이 사용되는 GUI 모듈이다."
   ]
  },
  {
   "cell_type": "markdown",
   "id": "cbcc9bca",
   "metadata": {},
   "source": [
    "2. 첫 번째 tkinter 프로그램"
   ]
  },
  {
   "cell_type": "markdown",
   "id": "718807c0",
   "metadata": {},
   "source": [
    "1) 첫 번째 tkinter 프로그램\n",
    "    - 아주 간단한 예로 레이블만을 가지고 있는 윈도우를 작성해보자.\n",
    "      레이블(label)은 텍스트를 표시하는 위젯이다.\n",
    "      위젯(widget: window gadget의 준말)이란 윈도우와 같은\n",
    "      GUI 기반 운영체제에서 많이 사용하는 각종 시각적인 요소를 말한다.\n",
    "      대표적으로 버튼이나 레이블, 텍스트 필드, 메뉴 등을 들 수 있다.\n",
    "      레이블은 사용자가 볼 수 있지만 상호작용할 수는 없다.\n",
    "    \n",
    "    - 화면에 윈도우를 하나 생성하고 여기에 \"Hello World\"를 \n",
    "      표시하는 레이블을 배치한다."
   ]
  },
  {
   "cell_type": "code",
   "execution_count": 10,
   "id": "8a4a017b",
   "metadata": {},
   "outputs": [],
   "source": [
    "# tkinter는 파이썬 기본 패키지\n",
    "from tkinter import *\n",
    "\n",
    "# 루트 윈도우 생성하기\n",
    "window = Tk() # 윈도우를 나타냄\n",
    "# Tk클래스가 윈도우를 나타낸다.\n",
    "# Tk클래스 객체를 생성하면 하나의 윈도우가 생성됨\n",
    "# 각 프로그램은 오직 하나의 루트 윈도우를 가져야한다.\n",
    "# 다른 위젯보다 항상 먼저 생성되어야한다.\n",
    "\n",
    "\n",
    "# 루트 윈도우 자식으로 레이블 위젯을 생성\n",
    "# 레이블 위젯은 텍스트나 이미지를 표시할수 있는 위젯\n",
    "label = Label(window, text=\"Hello World\")\n",
    "# 여기서는 텍스트를 표시\n",
    "\n",
    "# 레이블을 텍스트 표시할 정도로만 레이블 위젯의 크기를 축소하라는 의미\n",
    "label.pack()\n",
    "# pack()이 호출되어야 위젯이 화면에 나타남\n",
    "\n",
    "# 윈도우는 tkinter의 이벤트 루프에 들어가기 전까지는 나타나지 않는다.\n",
    "window.mainloop()\n"
   ]
  },
  {
   "cell_type": "markdown",
   "id": "19e1d151",
   "metadata": {},
   "source": [
    "1) 첫 번째 tkinter 프로그램\n",
    "    - 처음 나온 tkinter 프로그램이므로 한 줄씩 자세히 분석해보자.\n",
    "    from tkinter import *\n",
    "    - 제일 먼저 해야 할 일은 tkinter 모듈을 포함시키는 것이다.\n",
    "      tkinter 모듈은 파이썬 기본 패키지에 포함되어 있다.\n",
    "      tkinter 모듈은 Tk 툴킷을 사용하는데 필요한 모든 클래스와\n",
    "      함수를 가지고 있다. 일반적인 경우에는 tkinter모듈에서 \n",
    "      모든 것을 포함시키면 딘다.\n",
    "      파이썬 2.x 버전에서는 모듈이름이 Tkinter로 되어 있다."
   ]
  },
  {
   "cell_type": "markdown",
   "id": "cb84d9ca",
   "metadata": {},
   "source": [
    "1) 첫 번째 tkinter 프로그램\n",
    "    window = Tk()\n",
    "    - 그 다음으로 루트 윈도우를 생성해야한다.\n",
    "      tkinter 모듈 안에 있는 Tk클래스가 윈도우를 나타낸다.\n",
    "      Tk 클래스는 제목을 가지고 있는 일반적인 윈도우이다.\n",
    "      Tk 클래스의 객체를 생성하면 화면에 하나의 윈도우가 생성된다.\n",
    "      이 윈도우안에 여러가지 위젯을 추가할 수 있다.\n",
    "      각 프로그램은 오직 하나의 루트 윈도우를 가져야 한다.\n",
    "      루트 윈도우는 다른 위젯보다 먼저 생성되어야 한다.\n",
    "      \n",
    "     label = Label(window, text=\"Hello World!\")\n",
    "     - 다음으로 루트 윈도우의 자식으로 레이블 위젯을 생성한다.\n",
    "       레이블 위젯은 텍스트나 이미지를 표시할 수 있는 위젯이다.\n",
    "       여기서는 텍스트 \"Hello World!\"을 표시한다.\n",
    "     label.pack()\n",
    "     - 위젯에 대하여 pack()메소드가 호출된다.\n",
    "       pack()은 텍스트를 표시할 정도로만 \n",
    "       레이블 위젯의 크기를 축소하라는 의미이다.\n",
    "       pack() 이 호출되어야 위젯이 화면에 나타난다."
   ]
  },
  {
   "cell_type": "markdown",
   "id": "9527bb73",
   "metadata": {},
   "source": [
    "1) 첫 번째 tkinter 프로그램\n",
    "    window.mainloop()\n",
    "    - pack()이 호출되면 위젯이 화면에 나타난다.\n",
    "      하지만 윈도우는 우리가 tkinter의 이벤트 루프에 들어가기 전까지는\n",
    "      나타나지 않는다. 이 프로그램은 우리가 윈도우를 닫을 때까지,\n",
    "      이벤트 루프에서 대기한다. 이벤트 루프는 사용자로부터\n",
    "      오는 마우스나 키보드 이벤트 뿐만 아니라 윈도우 시스템에서 오는\n",
    "      여러가지 이벤트도 함께 처리한다.\n",
    "      또 tkinter 자신에 의하여 큐에 넣어지는 이벤트도 처리한다.\n",
    "      예를 들면 배치관리 이벤트가 그것이다.\n",
    "      우리의 프로그램에서 pack() 메소드가 배치관리 이벤트를 추가한다.\n",
    "      따라서 프로그램이 메인 루프에 진입하기 전까지는 화면에\n",
    "      윈도우가 나타나지 않을 것이다."
   ]
  },
  {
   "cell_type": "code",
   "execution_count": 12,
   "id": "87ddeaed",
   "metadata": {},
   "outputs": [],
   "source": [
    "from tkinter import *\n",
    "window = Tk() \n",
    "window.title(\"temp\") # 윈도우 타이틀 설정\n",
    "label = Label(window, text=\"Hello World\") # 라벨 설정\n",
    "label.pack() # 라벨 펙\n",
    "window.geometry(\"500x200\") # 사이즈 설정\n",
    "window.option_add(\"*Font\",\"궁서 25\") # 옵션추가\n",
    "btn = Button(window,text=\"버튼\") # 버튼 생성\n",
    "btn.pack() # 버튼 배치\n",
    "window.mainloop() # 창실행"
   ]
  }
 ],
 "metadata": {
  "kernelspec": {
   "display_name": "Python 3",
   "language": "python",
   "name": "python3"
  },
  "language_info": {
   "codemirror_mode": {
    "name": "ipython",
    "version": 3
   },
   "file_extension": ".py",
   "mimetype": "text/x-python",
   "name": "python",
   "nbconvert_exporter": "python",
   "pygments_lexer": "ipython3",
   "version": "3.8.8"
  }
 },
 "nbformat": 4,
 "nbformat_minor": 5
}
