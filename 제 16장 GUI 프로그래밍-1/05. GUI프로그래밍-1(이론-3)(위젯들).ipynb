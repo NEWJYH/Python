{
 "cells": [
  {
   "cell_type": "markdown",
   "id": "12ac2c62",
   "metadata": {},
   "source": [
    "4. tkinter의 위젯들"
   ]
  },
  {
   "cell_type": "markdown",
   "id": "176140b5",
   "metadata": {},
   "source": [
    "1) 위젯 클래스\n",
    "    - tkinter는 GUI 작성에 필요한 위젯들을 제공한다.\n",
    "      필수적인 위젯 만을 골라서 학습할 것이다.\n",
    "          - Button : 간단한 버튼으로 명령을 수행할 때 사용된다.\n",
    "          - Canvas : 화면에 무언가를 그릴 때 사용한다.\n",
    "          - Checkbutton : 2가지의 구별되는 값을 가지는 변수를 표현한다.\n",
    "          - Entry : 한 줄의 텍스트를 입력 받는 필드이다.\n",
    "          - Frame : 컨테이너 클래스이다.\n",
    "                     프레임은 경계선과 배경을 가지고 있다.\n",
    "                     다른 위젯들을 그룹핑 하는데 사용된다.\n",
    "          - Label : 텍스트나 이미지를 표시한다.\n",
    "          - Listbox : 선택 사항을 표시한다.\n",
    "          - Menu : 메뉴를 표시한다.\n",
    "                    풀다운 메뉴나 팝업 메뉴가 가능하다.\n",
    "          - Menubutton : 메뉴 버튼이다. 풀다운 메뉴가 가능하다.\n",
    "          - Message : 텍스트를 표시한다.\n",
    "                        레이블 위젯과 비슷하다.\n",
    "                        하지만 자동적으로 주어진 크기로 텍스트를 \n",
    "                        축소할 수 있다.\n",
    "          - Radiobutton : 여러 값을 가질 수 있는 변수를 표시한다."
   ]
  },
  {
   "cell_type": "markdown",
   "id": "4bb122c1",
   "metadata": {},
   "source": [
    "1) 위젯 클래스\n",
    "    - Scale : 슬라이더를 끌어서 수치값을 입력하는데 사용된다.\n",
    "    - scrollbar : 캔버스, 엔트리, 리스트 박스, 텍스트 위젯을 위한 \n",
    "                  스크롤바를 제공한다.\n",
    "    - Text : 형식을 가지는 텍스트를 표시한다.\n",
    "             여러 가지 스타일과 속성으로 텍스트를 표시할 수 있다.\n",
    "    - Toplevel : 최상위 윈도우로 표시되는 독립적인 컨테이너 위젯이다.\n",
    "    - LabelFrame : 경계선과 제목을 가지는 프레임 위젯의 변형이다.\n",
    "    - Panedwindow : 자식 위젯들을 크기 조절이 가능한 패널로 관리하는\n",
    "                    컨테이너 위젯이다.\n",
    "    - Spinbox : 특정한 범위에서 값을 선택하는 엔트리 위젯의 변형\n",
    "2) 단순 위젯과 컨테이너 위젯\n",
    "    - 파이썬이 제공하는 위젯은 크게 단순 위젯과 컨테이너 위젯으로 나누어진다.\n",
    "      컨테이너란 다른 위젯들을 내부에 넣을 수 있는 위젯을 의미한다."
   ]
  },
  {
   "cell_type": "markdown",
   "id": "eb63ad98",
   "metadata": {},
   "source": [
    "2) 단순 위젯과 컨테이너 위젯\n",
    "    - 단순 위젯 : 단순한 위젯으로서 Button, Canvas, Checkbutton\n",
    "                Entry, Label, Message 등이 여기 속한다.\n",
    "                \n",
    "    - 컨테이너 컴포넌트 : 다른 컴포넌트를 안에 포함할 수 있는 컴포넌트로서\n",
    "                       Frame, Toplevel, LabelFrame, PanedWindow\n",
    "                       등이 여기 속한다.\n",
    "                       \n",
    "3) 배치 관리자\n",
    "    - 배치 관리자는 컨테이너 안에서 위젯들의 위치와 크기를 결정하는 객체이다.\n",
    "      독서실에서는 보통 관리자가 있어서 독서실에 출입하는 학생들의 위치를 \n",
    "      결정해준다.\n",
    "      배치 관리자도 위젯들의 위치와 크기를 관리한다.\n",
    "          - grid : 격자 배치 관리자(grid geometry manager)는 \n",
    "                   테이블 형태의 배치를 가능하게 한다.\n",
    "                   위젯을 2차원적인 그리드에 배치한다.\n",
    "                   격자 배치 관리자를 사용하려면 grid()메소드를 사용한다.\n",
    "          - Pack : 압축 배치 관리자(pack geometry manager)는 \n",
    "                   위젯들을 부모 위젯 안에 압축한다.\n",
    "                   자식 위젯들을 사각형 블록으로 간주하여\n",
    "                   프레임 안에 배치한다. 압축 배치 관리자를 사용하려면\n",
    "                   pack() 메소드를 사용한다.\n",
    "          - Place : 절대 배치 관리자(place geometry manager)는\n",
    "                    주어진 위치에 위젯을 배치한다.\n",
    "                    절대 배치 관리자를 사용하려면 place() 메소드를 사용한다"
   ]
  },
  {
   "cell_type": "markdown",
   "id": "e054f667",
   "metadata": {},
   "source": [
    "5. 색상과 폰트"
   ]
  },
  {
   "cell_type": "markdown",
   "id": "d3442a00",
   "metadata": {},
   "source": [
    "1) 색상\n",
    "    - 대부분의 위젯은 배경(bg)과 전경(fg_글색) 속성을 사용하여 \n",
    "      위젯 및 텍스트 색상을 지정할 수 있다.\n",
    "      색을 지정하려면 색상 이름(영어)을 사용하면 된다.\n",
    "      예를 들어서 red,white,blue와 같은 색상의 이름을 사용하면 된다.\n",
    "      버튼의 배경색과 전경색은 다음과 같은 형식으로 변경이 가능하다."
   ]
  },
  {
   "cell_type": "code",
   "execution_count": 2,
   "id": "ed519922",
   "metadata": {},
   "outputs": [],
   "source": [
    "from tkinter import *\n",
    "window = Tk()\n",
    "button = Button(window, text ='버튼을 클릭하세요')\n",
    "button.pack()\n",
    "button[\"fg\"] = \"yellow\"\n",
    "button[\"bg\"] = \"green\"\n",
    "window.mainloop()"
   ]
  },
  {
   "cell_type": "markdown",
   "id": "c7aea314",
   "metadata": {},
   "source": [
    "1) 색상\n",
    "    - 또 다른 방법은 \"#ff0000\"과 같은 형식으로 RGB값을 16진수로 표시하는\n",
    "      방법이다."
   ]
  },
  {
   "cell_type": "code",
   "execution_count": 3,
   "id": "9022c5f4",
   "metadata": {},
   "outputs": [],
   "source": [
    "from tkinter import *\n",
    "window = Tk()\n",
    "button = Button(window, text ='버튼을 클릭하세요')\n",
    "button.pack()\n",
    "button[\"fg\"] = \"#ff0000\"\n",
    "button[\"bg\"] = \"#00ff00\"\n",
    "window.mainloop()"
   ]
  },
  {
   "cell_type": "markdown",
   "id": "97f5660e",
   "metadata": {},
   "source": [
    "1) 색상\n",
    "    - tkinter.colorchooser 모듈의 askcolor()를 호출하면 대화상자를 통하여\n",
    "      색상의 값을 입력 받을 수 있다."
   ]
  },
  {
   "cell_type": "code",
   "execution_count": 6,
   "id": "9f70d1da",
   "metadata": {},
   "outputs": [
    {
     "name": "stdout",
     "output_type": "stream",
     "text": [
      "((235, 2, 20), '#eb0214')\n"
     ]
    }
   ],
   "source": [
    "from tkinter import *\n",
    "from tkinter.colorchooser import *\n",
    "\n",
    "color = colorchooser.askcolor()\n",
    "print(color)\n",
    "# 구글 칼라피커 검색 "
   ]
  },
  {
   "cell_type": "markdown",
   "id": "65c116c0",
   "metadata": {},
   "source": [
    "2) 폰트\n",
    "    - 텍스트를 표시하는 위젯을 사용할 때, 폰트를 지정할 수 있다.\n",
    "      모든 위젯은 디폴트 폰트를 가지고 있기 때문에 레이블과 버튼 등\n",
    "      간단한 요소에서는 폰트를 지정할 필요는 없다.\n",
    "      물론 얼마든지 폰트를 변경하여도 된다.\n",
    "      Tk 8.0부터는 플랫폼 독립적인 폰트 기술자를 지원한다.\n",
    "      폰트를 튜플로 지정할 수 있는데 \n",
    "      여기에는 (폰트이름, 폰트의 크기, 폰트 스타일)과 같은 형식을 사용한다.\n",
    "      예를 들면 다음과 같다.\n",
    "      (\"Times\", 10, \"bold\")\n",
    "      (\"Helvetica\", 10, \"bold italic\")\n",
    "      (\"Symbol\",8)\n",
    "      \n",
    "    - 거의 모든 위젯이 font라는 속성을 가지고 있다.\n",
    "      이것을 변경하면 폰트가 변경된다.\n",
    "      예를 들어서 레이블 위젯의 폰트를 (\"Helvetica\",16)으로 변경하는 문장은\n",
    "      다음과 같다.\n",
    "      w = Label(window, text = \"안녕\", font = (\"Helvetica\", 16))\n",
    "      \n",
    "    - 폰트는 문자열로 지정이 가능하다.\n",
    "      문자열 \"Helvetica 16\"은 (\"Helvetica\", 16)과 같은 의미이다.\n",
    "      폰트도 미리 객체로 생성해 놓고 여러 곳에서 사용하면 메모리를 \n",
    "      절약할 수 있다.\n",
    "      간단한 예제로 첫 번째 버튼을 누르면 레이블의 폰트가 작아졋다가\n",
    "      두 번째 버튼을 누르면 폰트가 커지는 프로그램을 작성해보자."
   ]
  },
  {
   "cell_type": "code",
   "execution_count": 4,
   "id": "ba63024e",
   "metadata": {},
   "outputs": [],
   "source": [
    "import tkinter as tk\n",
    "import tkinter.font as font # tkinter.font를 font로 접근\n",
    "\n",
    "class App:\n",
    "    def __init__(self):\n",
    "        root = tk.Tk()\n",
    "        self.customFont = font.Font(family = \"Helvetica\", size = 12)\n",
    "        buttonframe = tk.Frame()\n",
    "        label = tk.Label(root, text = \"Hello, World\", font = self.customFont)\n",
    "        buttonframe.pack()\n",
    "        label.pack()\n",
    "        bigger = tk.Button(root,text=\"폰트 크게\",command = self.BigFont)\n",
    "        smaller = tk.Button(root,text=\"폰트 작게\",command = self.SmallFont)\n",
    "        bigger.pack()\n",
    "        smaller.pack()\n",
    "        root.mainloop()\n",
    "        \n",
    "    def BigFont(self):\n",
    "        size = self.customFont[\"size\"]\n",
    "        self.customFont.configure(size= size +2)\n",
    "    def SmallFont(self):\n",
    "        size = self.customFont[\"size\"]\n",
    "        self.customFont.configure(size= size -2)\n",
    "        \n",
    "app = App()\n",
    "\n",
    "# 폰트 객체는 tkinter.font.Font(family = \"Helvetica\", size =512)\n",
    "# 를 호출하면 생성된다.\n",
    "# 폰트의 속성을 변경하려면 폰트 객체의 configure()메소드를 호출한다."
   ]
  }
 ],
 "metadata": {
  "kernelspec": {
   "display_name": "Python 3",
   "language": "python",
   "name": "python3"
  },
  "language_info": {
   "codemirror_mode": {
    "name": "ipython",
    "version": 3
   },
   "file_extension": ".py",
   "mimetype": "text/x-python",
   "name": "python",
   "nbconvert_exporter": "python",
   "pygments_lexer": "ipython3",
   "version": "3.8.8"
  }
 },
 "nbformat": 4,
 "nbformat_minor": 5
}
