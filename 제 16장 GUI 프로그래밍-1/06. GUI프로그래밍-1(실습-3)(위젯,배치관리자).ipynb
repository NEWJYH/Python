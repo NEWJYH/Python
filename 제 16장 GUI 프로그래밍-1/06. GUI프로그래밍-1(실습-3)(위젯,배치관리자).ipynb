{
 "cells": [
  {
   "cell_type": "code",
   "execution_count": 11,
   "id": "af033e89",
   "metadata": {},
   "outputs": [],
   "source": [
    "# 단순 위젯 : Entry 위젯\n",
    "# Entry 위젯 : 사용자가 키보드로 입력한 내용을 전달하는 위젯,\n",
    "# ID나 Password 등 입력받을때 사용\n",
    "# get이라는 메서드를 사용하면 입력한 내용을 가져올 수가 있다.\n",
    "# 사용자의 입력을 삭제하려면 delete() 사용한다.\n",
    "\n",
    "from tkinter import *\n",
    "\n",
    "window = Tk()\n",
    "window.title(\"엔트리 위젯 실습\")\n",
    "\n",
    "label = Label(window,\n",
    "             text = \"엔트리 위젯 실습\")\n",
    "label.pack()\n",
    "\n",
    "# 루트 윈도우의 크기를 설정하는 방법\n",
    "window.geometry(\"400x200\")\n",
    "\n",
    "# Entry 위젯은 height 속성이 없다.\n",
    "entry = Entry(window, \n",
    "              fg = \"black\", # 글자색\n",
    "              bg = \"yellow\", # 배경색\n",
    "              width = 80)\n",
    "\n",
    "entry.pack()\n",
    "window.mainloop()"
   ]
  },
  {
   "cell_type": "code",
   "execution_count": null,
   "id": "6a559c77",
   "metadata": {},
   "outputs": [],
   "source": [
    "# 배치 관리자에 대한 실습"
   ]
  },
  {
   "cell_type": "code",
   "execution_count": 18,
   "id": "0d72acfa",
   "metadata": {},
   "outputs": [],
   "source": [
    "# 1. Pack : 압축 배치 관리자\n",
    "# 위젯들을 사각형 블록으로 간주하여 컨테이너 위젯 안에 상하로 배치한다.\n",
    "from tkinter import *\n",
    "\n",
    "window = Tk()\n",
    "\n",
    "button1 = Button(window, text =\"박스 #1\",bg =\"red\",fg=\"white\").pack(side=LEFT)\n",
    "button2 = Button(window, text =\"박스 #2\",bg =\"green\",fg=\"black\").pack()\n",
    "button3 = Button(window, text =\"박스 #3\",bg =\"orange\",fg=\"white\").pack()\n",
    "\n",
    "\n",
    "window.mainloop()"
   ]
  },
  {
   "cell_type": "code",
   "execution_count": 20,
   "id": "fc5da8a8",
   "metadata": {},
   "outputs": [],
   "source": [
    "# 2. Grid : 격자 배치 관리자\n",
    "# 루트 윈도우를 테이블의 셀로 분할되고, 각 위젯은 특정한 셀에 배치된다.\n",
    "# 얼마나 많은 행과 열이 실제로 필요한지 추적하고,\n",
    "# 가장 큰 위젯을 수용할 수 있도록 행과 열의 크기를 결정한다.\n",
    "# 모든 행이 같은 높이가 될 필요는 없다.\n",
    "# 동일한 폭을 가질 필요도 없다.\n",
    "# 행과 열의 번호는 0부터 시작한다.\n",
    "from tkinter import *\n",
    "\n",
    "window = Tk()\n",
    "b1 = Button(window, text =\"박스 #1\", bg = \"red\", fg =\"white\")\n",
    "b2 = Button(window, text =\"박스 #2\", bg = \"green\", fg =\"white\")\n",
    "b3 = Button(window, text =\"박스 #3\", bg = \"orange\", fg =\"white\")\n",
    "b4 = Button(window, text =\"박스 #4\", bg = \"black\", fg =\"white\")\n",
    "\n",
    "b1.grid(row=0, column=0)\n",
    "b2.grid(row=0, column=1)\n",
    "b3.grid(row=1, column=0)\n",
    "b4.grid(row=1, column=1)\n",
    "\n",
    "window.mainloop()"
   ]
  },
  {
   "cell_type": "code",
   "execution_count": 21,
   "id": "8ea5f98a",
   "metadata": {},
   "outputs": [],
   "source": [
    "# 3. Place : 절대 위치 배치 관리자\n",
    "# 절대 위치를 사용하여 위젯을 배치시킨다.\n",
    "# x,y를 매개변수로 사용한다.\n",
    "\n",
    "from tkinter import *\n",
    "\n",
    "window = Tk()\n",
    "window.geometry(\"500x500\")\n",
    "b1 = Button(window, text =\"박스 #1\", bg = \"red\", fg =\"white\")\n",
    "# x, y 매개변수는 좌표값에 해당하여 절대적인 위치에 위젯을 배치시킨다.\n",
    "b1.place(x=10,y=10)\n",
    "b2 = Button(window, text =\"박스 #2\", bg = \"green\", fg =\"white\")\n",
    "b2.place(x=100,y=50)\n",
    "b3 = Button(window, text =\"박스 #3\", bg = \"orange\", fg =\"white\")\n",
    "b3.place(x=100,y=100)\n",
    "b4 = Button(window, text =\"박스 #4\", bg = \"black\", fg =\"white\")\n",
    "b4.place(x=200,y=200)\n",
    "\n",
    "\n",
    "window.mainloop()"
   ]
  }
 ],
 "metadata": {
  "kernelspec": {
   "display_name": "Python 3",
   "language": "python",
   "name": "python3"
  },
  "language_info": {
   "codemirror_mode": {
    "name": "ipython",
    "version": 3
   },
   "file_extension": ".py",
   "mimetype": "text/x-python",
   "name": "python",
   "nbconvert_exporter": "python",
   "pygments_lexer": "ipython3",
   "version": "3.8.8"
  }
 },
 "nbformat": 4,
 "nbformat_minor": 5
}
