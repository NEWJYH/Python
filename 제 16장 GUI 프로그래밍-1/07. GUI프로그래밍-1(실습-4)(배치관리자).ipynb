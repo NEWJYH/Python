{
 "cells": [
  {
   "cell_type": "code",
   "execution_count": 11,
   "id": "f016ede3",
   "metadata": {},
   "outputs": [],
   "source": [
    "# 여러 배치 관리자 혼용하여 실습하기\n",
    "from tkinter import *\n",
    "window = Tk()\n",
    "\n",
    "# 가로 600픽셀 세로 100픽셀의 크기를 가지는 윈도우이다.\n",
    "window.geometry(\"600x100\")\n",
    "\n",
    "# frame은 위젯이긴 하나 단순 위젯이 아니고 \n",
    "# 컨테이너 위젯이다.\n",
    "# 루트 윈도우 안에 프레임을 만든다.\n",
    "frame = Frame(window)\n",
    "\n",
    "# 버튼 3개를 프레임 안에 생성하고 배치한것이다.\n",
    "button1 = Button(frame, text=\"버튼 #1\", bg=\"red\", fg=\"white\",width = 10,height = 2)\n",
    "button2 = Button(frame, text=\"버튼 #2\", bg=\"green\", fg=\"white\")\n",
    "button3 = Button(frame, text=\"버튼 #3\", bg=\"orange\", fg=\"white\")\n",
    "button1.pack(side=LEFT)\n",
    "button2.pack(side=LEFT)\n",
    "button3.pack(side=LEFT)\n",
    "\n",
    "label = Label(window,text = \"이 레이블은 버튼들 위에 배치가 됩니다.\")\n",
    "# 레이블은 루트 윈도우에 압축 배치 관리자로 배치가 된다.\n",
    "label.pack()\n",
    "# 프레임도 루트 윈도우에 압축 배치 관리자로 배치가 된다.\n",
    "frame.pack()\n",
    "\n",
    "window.mainloop()"
   ]
  },
  {
   "cell_type": "code",
   "execution_count": 19,
   "id": "b01d1749",
   "metadata": {},
   "outputs": [],
   "source": [
    "# 온도 변환기 UI 만들기\n",
    "from tkinter import *\n",
    "window = Tk()\n",
    "Label(window, text =\"화씨\").grid(row=0,column=0)\n",
    "Label(window, text =\"섭씨\").grid(row=1,column=0)\n",
    "e1 = Entry(window).grid(row=0,column=1)\n",
    "e2 = Entry(window).grid(row=1,column=1)\n",
    "\n",
    "Button(window, text = \"화씨->섭씨\").grid(row=2, column=0)\n",
    "Button(window, text =\"섭씨->화씨\").grid(row=2, column=1)\n",
    "window.mainloop()"
   ]
  }
 ],
 "metadata": {
  "kernelspec": {
   "display_name": "Python 3",
   "language": "python",
   "name": "python3"
  },
  "language_info": {
   "codemirror_mode": {
    "name": "ipython",
    "version": 3
   },
   "file_extension": ".py",
   "mimetype": "text/x-python",
   "name": "python",
   "nbconvert_exporter": "python",
   "pygments_lexer": "ipython3",
   "version": "3.8.8"
  }
 },
 "nbformat": 4,
 "nbformat_minor": 5
}
