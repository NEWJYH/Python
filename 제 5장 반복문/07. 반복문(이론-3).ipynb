{
 "cells": [
  {
   "cell_type": "markdown",
   "id": "bc7d2d36",
   "metadata": {},
   "source": [
    "3. while 문"
   ]
  },
  {
   "cell_type": "markdown",
   "id": "3c7fd3cd",
   "metadata": {},
   "source": [
    "1) while문의 개요\n",
    "    - while문은 어떤 조건을 정해 놓고 반복을 하는 구조를 말한다.\n",
    "      예를 들어, 자동차 경주에서 반드시 트랙을 10번 돌아야 한다면\n",
    "      반복하는 조건은 \"횟수가 11번 미만인가요?\"가 될것이다.\n",
    "      반복을 결정하는 조건이 있고 조건이 참이면 반복을 하고\n",
    "      그렇지 않으면 반복 루프를 빠져나가게 된다.\n",
    "      "
   ]
  },
  {
   "cell_type": "markdown",
   "id": "c335af10",
   "metadata": {},
   "source": [
    "2) while문의 구조\n",
    "    - while문의 구조는 while문의 옆에 반복의 조건을 기술한다.\n",
    "      조건이 만족되는 동안, 블록 안의 문장이 반복 실행 된다."
   ]
  },
  {
   "cell_type": "code",
   "execution_count": 1,
   "id": "266377b3",
   "metadata": {},
   "outputs": [
    {
     "name": "stdout",
     "output_type": "stream",
     "text": [
      "환영합니다.\n",
      "환영합니다.\n",
      "환영합니다.\n",
      "환영합니다.\n",
      "환영합니다.\n",
      "반복을 종료 합니다.\n"
     ]
    }
   ],
   "source": [
    "i = 0\n",
    "while i < 5:\n",
    "    print(\"환영합니다.\")\n",
    "    i += 1\n",
    "print(\"반복이 종료되었습니다.\")"
   ]
  },
  {
   "cell_type": "markdown",
   "id": "b1b89b61",
   "metadata": {},
   "source": [
    "2) while문의 구조\n",
    "    - 하지만 위의 코드에서 i의 증가가 없다면 어떻게 될까?\n",
    "      그렇다 그냥 계속 루프를 돌 것이다. 그 이유는 바로 조건 이 계속\n",
    "      참이기 때문인 것이다.\n",
    "      이러한 것을 무한 루프(infinite loop)라고 하면 이런 형태가\n",
    "      나오지 않도록 프로그램을 작성해야 한다.\n",
    "      \n",
    "    - 그럼에도 불구하고 우리 주변에는 무한루프로 되어져있는 프로그램들이\n",
    "      상당히 많이 존재한다.\n",
    "      여러분들이 사용하는 에어컨, TV, 모니터, 자판기 등등 여러가지가 있다.\n",
    "      근데 여기서 중요한 건 분명히 이러한 물건들은 반드시\n",
    "      무한 루프를 빠져나가는 곳이 존재한다.\n",
    "      하여, 무한 루프를 프로그램으로 작성할 때는 어떤 조건일 때 이 루프를\n",
    "      빠져나가는지를 반드시 기술해야 한다."
   ]
  },
  {
   "cell_type": "markdown",
   "id": "427fbdef",
   "metadata": {},
   "source": [
    "4. 보초값(sentinel) 사용하기"
   ]
  },
  {
   "cell_type": "markdown",
   "id": "2a6d5a5c",
   "metadata": {},
   "source": [
    "1) 보초값의 개념\n",
    "     - 이제는 반복문을 활용하여 사용자가 입력하는 5개의 정수의 합을 \n",
    "       우리는 구할수 있다. 하지만 만약 입력될 데이터의 정확한 개수가\n",
    "       미리 알려지지 않거나 데이터가 너무 많아서 개수를 알기 힘든 경우에는\n",
    "       어떻게 할까?\n",
    "       이런 경우에는 데이터의 끝에다 끝을 알리는 특후나 데이터를 놓으면 \n",
    "       될 것이다. 데이터의 끝을 아리는데 사용되는 데이터 값을\n",
    "       통상 보초값(sentinel)이라고 칭한다.\n",
    "       보초값은 일반적인 데이터 값에서 절대 등장할수 없는 값으로 \n",
    "       선택하는 것이 좋다. 예를 들어 성적을 입력 받아 성적의 평균을 구하는\n",
    "       프로그램이면, 음수나 100을 초과하는 값을 센티널 즉, 보초값\n",
    "       으로 선택하는 것이 좋을 것이다.\n",
    "       \n",
    "     - 예를 들어서 사용자로부터 임의의 개수의 성적을 받아서\n",
    "       평균을 계산한 후 출력하는 프로그램을 작성한다면,\n",
    "       센티널로 음수의 값을 사용하면 될 것이며, 사용자가 음수를 입력하는\n",
    "       순간 반복을 중단하면 될 것이다.\n",
    "       "
   ]
  },
  {
   "cell_type": "markdown",
   "id": "7971cf27",
   "metadata": {},
   "source": [
    "2) 보초값의 예제\n",
    "     - 앞서 말한 예제 코드이다. 살펴보도록 하자."
   ]
  },
  {
   "cell_type": "code",
   "execution_count": 4,
   "id": "9179750a",
   "metadata": {},
   "outputs": [
    {
     "name": "stdout",
     "output_type": "stream",
     "text": [
      "종료 하시려면 음수 값을 입력해주세요.\n",
      "성적을 입력하시오: 10\n",
      "성적을 입력하시오: 10\n",
      "성적을 입력하시오: 10\n",
      "성적을 입력하시오: 10\n",
      "성적을 입력하시오: 10\n",
      "성적을 입력하시오: -1\n",
      "당신의 성적의 평균은 10.00입니다.\n"
     ]
    }
   ],
   "source": [
    "# while문을 이용한 성적의 평균 구하기 프로그램\n",
    "# 필요한 변수들을 초기화 한다.\n",
    "n = 0\n",
    "sum = 0\n",
    "score = 0\n",
    "\n",
    "print(\"종료 하시려면 음수 값을 입력해주세요.\")\n",
    "# score가 0 이상이면 반복\n",
    "# 성적을 입력받아서 합계를 구하고 학생 수를 센다.\n",
    "while score >= 0:\n",
    "    score = int(input(\"성적을 입력하시오: \"))\n",
    "    if score >= 0:\n",
    "        sum += score\n",
    "        n += 1\n",
    "    else:\n",
    "        break\n",
    "        \n",
    "# 평균을 계산하고 화면에 출력한다.\n",
    "if  n > 0 :\n",
    "    average = sum / n\n",
    "print(f\"당신의 성적의 평균은 {average:>5,.2f}입니다.\")"
   ]
  },
  {
   "cell_type": "markdown",
   "id": "f497147a",
   "metadata": {},
   "source": [
    "6. 문자열 처리하기"
   ]
  },
  {
   "cell_type": "markdown",
   "id": "3fe599e3",
   "metadata": {},
   "source": [
    "1) 반복문으로 문자열 처리하기\n",
    "    - 문자열을 처리하는 용도로도 반복문이 많이 사용된다.\n",
    "      아래 간단한 예제를 살펴보자."
   ]
  },
  {
   "cell_type": "code",
   "execution_count": 5,
   "id": "2b09c755",
   "metadata": {},
   "outputs": [
    {
     "name": "stdout",
     "output_type": "stream",
     "text": [
      "a p p l e "
     ]
    }
   ],
   "source": [
    "fruit = \"apple\"\n",
    "for letter in fruit:\n",
    "    print(letter, end = \" \")"
   ]
  },
  {
   "cell_type": "markdown",
   "id": "d9e79291",
   "metadata": {},
   "source": [
    "    !!!\n",
    "    - 문자열도 앞서 강의했듯이 시퀸스의 일종이라는 것이다."
   ]
  },
  {
   "cell_type": "markdown",
   "id": "bb5e83db",
   "metadata": {},
   "source": [
    "2) 반복문으로 문자열 처리 예제\n",
    "    - 문자열을 받아서 모음을 전부 없애는 코드는 아래와 같이 작성할 수 있다."
   ]
  },
  {
   "cell_type": "code",
   "execution_count": 7,
   "id": "44d01583",
   "metadata": {},
   "outputs": [
    {
     "name": "stdout",
     "output_type": "stream",
     "text": [
      "문자열을 입력하시오 : kkkoommm\n",
      "kkkmmm\n"
     ]
    }
   ],
   "source": [
    "s = input(\"문자열을 입력하시오 : \")\n",
    "\n",
    "vowels = \"aeiouAEIOU\"\n",
    "result = \"\"\n",
    "for letter in s :\n",
    "    if letter not in vowels:\n",
    "        result += letter\n",
    "print(result)"
   ]
  }
 ],
 "metadata": {
  "kernelspec": {
   "display_name": "Python 3",
   "language": "python",
   "name": "python3"
  },
  "language_info": {
   "codemirror_mode": {
    "name": "ipython",
    "version": 3
   },
   "file_extension": ".py",
   "mimetype": "text/x-python",
   "name": "python",
   "nbconvert_exporter": "python",
   "pygments_lexer": "ipython3",
   "version": "3.8.8"
  }
 },
 "nbformat": 4,
 "nbformat_minor": 5
}
