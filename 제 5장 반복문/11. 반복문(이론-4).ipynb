{
 "cells": [
  {
   "cell_type": "markdown",
   "id": "9ba9750f",
   "metadata": {},
   "source": [
    "5. 중첩 루프 사용하기"
   ]
  },
  {
   "cell_type": "markdown",
   "id": "dd58c1da",
   "metadata": {},
   "source": [
    "1) 중첩 루프의 개념\n",
    "    - 반복문은 중첩하여 사용될 수 있다.\n",
    "      즉, 반복문 안에 다른 반복문이 포함될 수 있다.\n",
    "      즉, 이러한 형태를 중첩 반복문(nested loop)라고 한다.\n",
    "      외부에 위치하는 반복문을 외부 반복문(outer loop)라고 하며,\n",
    "      안쪽의 반복문을 내부 반복문(inner loop)라고 한다.\n",
    "      \n",
    "      중요한 것은 내부 반복문은 외부 반복문이 한번 반복할 떄 마다\n",
    "      새롭게 실행된다는 점이다."
   ]
  },
  {
   "cell_type": "markdown",
   "id": "3e200398",
   "metadata": {},
   "source": [
    "2) 중첩 반복문의 예제\n",
    "    - 중첩 반복문은 실제 프로그래밍에서 매우 자주 등장한다.\n",
    "      예를 들어서 테이블(표)과 비슷한 데이터를 처리하는데\n",
    "      유용하다.\n",
    "      아래 예제는 * 기호를 사각형 모양으로 출력한것이다."
   ]
  },
  {
   "cell_type": "code",
   "execution_count": 2,
   "id": "e2321a93",
   "metadata": {},
   "outputs": [
    {
     "name": "stdout",
     "output_type": "stream",
     "text": [
      "**********\n",
      "**********\n",
      "**********\n",
      "**********\n",
      "**********\n"
     ]
    }
   ],
   "source": [
    "# 중첩 for문을 이용하여 *기호를 사각형모양으로 출력하는 프로그램\n",
    "for y in range(5):\n",
    "    for x in range(10):\n",
    "        print(\"*\",end=\"\")\n",
    "    print()# 내부 반복문이 종료될 때 마다 실행"
   ]
  },
  {
   "cell_type": "markdown",
   "id": "5e29f250",
   "metadata": {},
   "source": [
    "6. 문자열 처리하기"
   ]
  },
  {
   "cell_type": "markdown",
   "id": "2b915b8a",
   "metadata": {},
   "source": [
    "1) 반복문으로 문자열 처리하기\n",
    "    - 문자열을 처리하는 용도로도 반복문이 많이 사용된다.\n",
    "      아래 간단한 예제를 살펴보자."
   ]
  },
  {
   "cell_type": "code",
   "execution_count": 6,
   "id": "d5f8be55",
   "metadata": {},
   "outputs": [
    {
     "name": "stdout",
     "output_type": "stream",
     "text": [
      "a p p l e \n"
     ]
    }
   ],
   "source": [
    "fruit = \"apple\"\n",
    "for letter in fruit:\n",
    "    print(letter,end=\" \")\n",
    "print()"
   ]
  },
  {
   "cell_type": "markdown",
   "id": "1f703367",
   "metadata": {},
   "source": [
    "    - 문자열도 앞서 봤듯이 시퀸스의 일종이라는 것이다."
   ]
  },
  {
   "cell_type": "markdown",
   "id": "de34e705",
   "metadata": {},
   "source": [
    "2) 반복문으로 문자열 처리 예제\n",
    "    - 문자열을 받아서 모음을 전부 없애는 코드는 아래와 같이 작성할수 있다."
   ]
  },
  {
   "cell_type": "code",
   "execution_count": 7,
   "id": "770ea853",
   "metadata": {},
   "outputs": [
    {
     "name": "stdout",
     "output_type": "stream",
     "text": [
      "문자열을 입력하시오 : asfdasdfasdfwerwierowi\n",
      "sfdsdfsdfwrwrw\n"
     ]
    }
   ],
   "source": [
    "s = input(\"문자열을 입력하시오 : \")\n",
    "\n",
    "vowels = \"aeiouAEIOU\"\n",
    "\n",
    "result = \"\"\n",
    "for letter in s:\n",
    "    if letter not in vowels:\n",
    "        result += letter\n",
    "print(result)"
   ]
  },
  {
   "cell_type": "markdown",
   "id": "28033ec4",
   "metadata": {},
   "source": [
    "2) 반복문으로 문자열 처리 예제\n",
    "    - 문자열 중에서 자음과 모음의 갯수를 집계하는 프로그램 예제\n",
    "   "
   ]
  },
  {
   "cell_type": "code",
   "execution_count": 10,
   "id": "2de09a0d",
   "metadata": {},
   "outputs": [
    {
     "name": "stdout",
     "output_type": "stream",
     "text": [
      "문자열을 입력하세요consonants\n",
      "모음의 갯수 : 3\n",
      "자음의 갯수 : 7\n"
     ]
    }
   ],
   "source": [
    "original = input(\"문자열을 입력하세요\")\n",
    "word = original.lower() # 입력받은 문자를 소문자로 변경한다.\n",
    "vowels = 0\n",
    "consonants = 0\n",
    "\n",
    "\n",
    "if len(original) > 0  and original.isalpha():# 문자열의 길이가 0초과이고, 알파벳이라면?\n",
    "    for char in word: # 각 문자에 대한 반복을 실행\n",
    "        if char in 'aeiou': # 모음이라면\n",
    "            vowels = vowels + 1 # vowels 1증가\n",
    "        else: # 모음이 아니라면\n",
    "            consonants = consonants + 1 # consonants 1증가\n",
    "\n",
    "print(f\"모음의 갯수 : {vowels}\")\n",
    "print(f\"자음의 갯수 : {consonants}\")"
   ]
  }
 ],
 "metadata": {
  "kernelspec": {
   "display_name": "Python 3",
   "language": "python",
   "name": "python3"
  },
  "language_info": {
   "codemirror_mode": {
    "name": "ipython",
    "version": 3
   },
   "file_extension": ".py",
   "mimetype": "text/x-python",
   "name": "python",
   "nbconvert_exporter": "python",
   "pygments_lexer": "ipython3",
   "version": "3.8.8"
  }
 },
 "nbformat": 4,
 "nbformat_minor": 5
}
