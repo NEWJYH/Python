{
 "cells": [
  {
   "cell_type": "code",
   "execution_count": 1,
   "id": "ec3b73b4",
   "metadata": {},
   "outputs": [
    {
     "name": "stdout",
     "output_type": "stream",
     "text": [
      "반갑습니다.\n",
      "반갑습니다.\n",
      "반갑습니다.\n",
      "반갑습니다.\n",
      "반갑습니다.\n",
      "반복이 종료 되었습니다.\n"
     ]
    }
   ],
   "source": [
    "# while 문의 실습\n",
    "\n",
    "# while 문은 조건을 정해 놓고 반복을 하는 구조이다.\n",
    "\n",
    "i = 0\n",
    "while i < 5:\n",
    "    print(f\"반갑습니다.\")\n",
    "    i += 1\n",
    "print(\"반복이 종료 되었습니다.\")"
   ]
  },
  {
   "cell_type": "code",
   "execution_count": 2,
   "id": "4bc8afe3",
   "metadata": {},
   "outputs": [
    {
     "name": "stdout",
     "output_type": "stream",
     "text": [
      "0 1 2 3 4 5 6 7 8 9 "
     ]
    }
   ],
   "source": [
    "# 숫자 0에서 9까지 줄바꿈을 하지 않고 출력해보기(while문 사용)\n",
    "i = 0 \n",
    "while i < 10:\n",
    "    print(i, end=\" \")\n",
    "    i += 1"
   ]
  },
  {
   "cell_type": "code",
   "execution_count": 4,
   "id": "d9ad397b",
   "metadata": {},
   "outputs": [
    {
     "name": "stdout",
     "output_type": "stream",
     "text": [
      " i 는 1 sum = 1\n",
      " i 는 2 sum = 3\n",
      " i 는 3 sum = 6\n",
      " i 는 4 sum = 10\n",
      " i 는 5 sum = 15\n",
      " i 는 6 sum = 21\n",
      " i 는 7 sum = 28\n",
      " i 는 8 sum = 36\n",
      " i 는 9 sum = 45\n",
      " i 는 10 sum = 55\n",
      "\n",
      "반복이 종료되었습니다.\n",
      "\n",
      "sum = 55\n"
     ]
    }
   ],
   "source": [
    "# 1 ~ 10 까지의 누계합을 구하는 예제\n",
    "\n",
    "i = 1\n",
    "sum = 0\n",
    "\n",
    "while i <= 10 :\n",
    "    sum += i\n",
    "    print(f\" i 는 {i} sum = {sum }\")\n",
    "    i += 1\n",
    "\n",
    "print(\"\\n반복이 종료되었습니다.\\n\")    \n",
    "print(f\"sum = {sum}\")"
   ]
  },
  {
   "cell_type": "code",
   "execution_count": 7,
   "id": "9533b0cf",
   "metadata": {},
   "outputs": [
    {
     "name": "stdout",
     "output_type": "stream",
     "text": [
      " n팩토리얼 n을 입력해주세요10\n",
      "1! = 1\n",
      "2! = 2\n",
      "3! = 6\n",
      "4! = 24\n",
      "5! = 120\n",
      "6! = 720\n",
      "7! = 5040\n",
      "8! = 40320\n",
      "9! = 362880\n",
      "10! = 3628800\n",
      "입력한 값 10 ! 의 값 = 3628800\n"
     ]
    }
   ],
   "source": [
    "# while 문을 사용하여 팩토리얼을 구하는 예제\n",
    "input_num = int(input(\" n팩토리얼 n을 입력해주세요\"))\n",
    "\n",
    "fa = 1\n",
    "i = 1\n",
    "while i <= input_num :\n",
    "    fa *= i\n",
    "    print(f\"{i}! = {fa}\")\n",
    "    i += 1\n",
    "print(f\"입력한 값 {input_num}!의 값 = {fa}\")"
   ]
  },
  {
   "cell_type": "code",
   "execution_count": 12,
   "id": "2a7a4a5c",
   "metadata": {},
   "outputs": [
    {
     "name": "stdout",
     "output_type": "stream",
     "text": [
      "3 x 1 =  3\n",
      "3 x 2 =  6\n",
      "3 x 3 =  9\n",
      "3 x 4 = 12\n",
      "3 x 5 = 15\n",
      "3 x 6 = 18\n",
      "3 x 7 = 21\n",
      "3 x 8 = 24\n",
      "3 x 9 = 27\n"
     ]
    }
   ],
   "source": [
    "# while 문을 사용해서 3단을 출력하는 예제\n",
    "# inputnum = int(input(\"구구단 단 수를 입력하세요 : \"))\n",
    "inputnum = 3\n",
    "i = 1\n",
    "while i <= 9:\n",
    "    print(f\"{inputnum} x {i} = {i * inputnum:>2}\")\n",
    "    i += 1\n"
   ]
  },
  {
   "cell_type": "code",
   "execution_count": 15,
   "id": "c66a7c1e",
   "metadata": {},
   "outputs": [
    {
     "name": "stdout",
     "output_type": "stream",
     "text": [
      "3의 배수의 합은 1683 입니다.\n"
     ]
    }
   ],
   "source": [
    "# 1부터 100 사이의 3의 배수의 합을 구하시오\n",
    "\n",
    "sum = 0\n",
    "i = 1\n",
    "while i <= 100:\n",
    "    if i%3 == 0 :\n",
    "        sum += i\n",
    "    i += 1\n",
    "print(f\"3의 배수의 합은 {sum} 입니다.\")"
   ]
  },
  {
   "cell_type": "code",
   "execution_count": 17,
   "id": "86a02b2f",
   "metadata": {},
   "outputs": [
    {
     "name": "stdout",
     "output_type": "stream",
     "text": [
      "각 자리수의 합을 출력하는 프로그램  : 5425\n",
      "16\n"
     ]
    }
   ],
   "source": [
    "# 정수 안에 각 자리수의 합을 계산하는 예제\n",
    "# 예를 들면 1234라는 숫자가 있다고 한다면 \n",
    "# ( 1 + 2 + 3 + 4 )를 계산하는 것이다.\n",
    "\n",
    "num = int(input(\"각 자리수의 합을 출력하는 프로그램  : \"))\n",
    "num = str(num)\n",
    "\n",
    "lennum = len(num)\n",
    "\n",
    "i = 0 \n",
    "sum = 0\n",
    "while i < lennum :\n",
    "    sum += int(num[i])\n",
    "    i += 1\n",
    "print(sum)"
   ]
  }
 ],
 "metadata": {
  "kernelspec": {
   "display_name": "Python 3",
   "language": "python",
   "name": "python3"
  },
  "language_info": {
   "codemirror_mode": {
    "name": "ipython",
    "version": 3
   },
   "file_extension": ".py",
   "mimetype": "text/x-python",
   "name": "python",
   "nbconvert_exporter": "python",
   "pygments_lexer": "ipython3",
   "version": "3.8.8"
  }
 },
 "nbformat": 4,
 "nbformat_minor": 5
}
