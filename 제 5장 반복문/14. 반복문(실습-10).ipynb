{
 "cells": [
  {
   "cell_type": "code",
   "execution_count": 3,
   "id": "28f667fe",
   "metadata": {},
   "outputs": [
    {
     "name": "stdout",
     "output_type": "stream",
     "text": [
      "a p p l e \n",
      "문자열을 입력하세요(영문자) : asdfasfdakjs;flkajs;fqoweriqnwepfona jsa;ldkfjaqo\n",
      "자음만 출력 : sdfsfdkjs;flkjs;fqwrqnwpfn js;ldkfjq\n"
     ]
    }
   ],
   "source": [
    "# 반복문으로 문자열 관련 처리하기 실습\n",
    "fruit = \"apple\"\n",
    "# fruit 문자열 변수에 값을 하나씩 문자형태로 가져와서 출력하는 코드\n",
    "for letter in fruit:\n",
    "    print(letter, end=\" \")\n",
    "print()\n",
    "# 사용자로부터 문자열(영문)을 입력받아서 모음을 없애는 코드\n",
    "s = input(\"문자열을 입력하세요(영문자) : \")\n",
    "# 영문자의 모음의 문자열\n",
    "vowels = \"aeiouAEIOU\"\n",
    "result = \"\"\n",
    "\n",
    "for letter in s:\n",
    "    # 하나씩 반복하는 문자가 모음 문자열에 존재하지 않는다면 참\n",
    "    if letter not in vowels:\n",
    "        result += letter\n",
    "\n",
    "print(\"자음만 출력 :\",result)"
   ]
  },
  {
   "cell_type": "code",
   "execution_count": 7,
   "id": "fa982f2e",
   "metadata": {},
   "outputs": [
    {
     "name": "stdout",
     "output_type": "stream",
     "text": [
      "문자열을 입력하세요 : apple\n",
      "입력한 문자열 apple\n",
      "문자의 갯수5\n",
      "모음의 개수 : 2\n",
      "자음의 개수 : 3\n"
     ]
    }
   ],
   "source": [
    "# 문자열을 입력받아서 자음과 모음의 개수를 집계하는 코드\n",
    "original = input(\"문자열을 입력하세요 : \")\n",
    "# 입력 받은 문자열을 전부 소문자로 만든다\n",
    "word = original.lower()\n",
    "# 대문자로 바꾸고 싶다면 upper()\n",
    "vowels = 0\n",
    "consonants = 0\n",
    "# 문자열의 길이가 0 초과하고, 알파벳이라면 ..참을 반환\n",
    "if len(original) > 0 and original.isalpha():\n",
    "    for ch in word:\n",
    "        # 루프변수의 값이 모음에 해당한다면..\n",
    "        if ch in \"aeiou\":\n",
    "            vowels += 1\n",
    "        else:\n",
    "            consonants += 1\n",
    "        \n",
    "print(f\"입력한 문자열 {original}\\n문자의 개수{len(original)}\")\n",
    "print(f\"모음의 개수 : {vowels}\")\n",
    "print(f\"자음의 개수 : {consonants}\")"
   ]
  },
  {
   "cell_type": "code",
   "execution_count": 10,
   "id": "1d63d836",
   "metadata": {},
   "outputs": [
    {
     "name": "stdout",
     "output_type": "stream",
     "text": [
      "문자열을 입력해주세요 : phone 123 ^\n",
      "해당하는 문자는 알파벳, 숫자, 공백이 아닙니다\n",
      "입력한 문자열 :  phone 123 ^\n",
      "입력한 문자열의 길이 :  11\n",
      "입력한 문자열 중 알파벳의 수 :  5\n",
      "입력한 문자열 중 숫자의 수 :  3\n",
      "입력한 문자열 중 스페이스(공백)의 수:  2\n"
     ]
    }
   ],
   "source": [
    "# 사용자로부터 문자열을 입력받아서\n",
    "# 알파벳 문자의 개수, 숫자의 개수,\n",
    "# 스페이스(공백)의 개수를 출력하는 프로그램을 작성하시오.\n",
    "\n",
    "word = input(\"문자열을 입력해주세요 : \")\n",
    " \n",
    "alpabat = 0\n",
    "number = 0\n",
    "space = 0\n",
    "\n",
    "if len(s) > 0:\n",
    "    for ch in word:\n",
    "        if ch.isspace():\n",
    "            space += 1\n",
    "        elif ch.isdigit():\n",
    "            number += 1\n",
    "        elif ch.isalpha():\n",
    "            alpabat += 1\n",
    "        else:\n",
    "            print(\"해당하는 문자는 알파벳, 숫자, 공백이 아닙니다\")\n",
    "\n",
    "print(\"입력한 문자열 : \", word)\n",
    "print(\"입력한 문자열의 길이 : \",len(word))\n",
    "print(\"입력한 문자열 중 알파벳의 수 : \", alpabat)\n",
    "print(\"입력한 문자열 중 숫자의 수 : \",number)\n",
    "print(\"입력한 문자열 중 스페이스(공백)의 수: \", space)\n",
    "            "
   ]
  },
  {
   "cell_type": "code",
   "execution_count": 11,
   "id": "8c57fe1e",
   "metadata": {
    "scrolled": true
   },
   "outputs": [
    {
     "name": "stdout",
     "output_type": "stream",
     "text": [
      "Please log your phone number : \n",
      "010-1111 1111\n",
      "0101111 1111\n",
      "당신의 전화번호를 입력하세요 . (-포함) : 010 111 111\n",
      "'-'를 제거한 전화번호 :  010111111\n"
     ]
    }
   ],
   "source": [
    "# 사용자로부터 전화번호를 입력받다 보면 \"-\"를 적는 경우가 많다.\n",
    "# \"-\"을 합하여 입력받도록 하고 출력할 때는 \"-\"삭제를 한 문자열을\n",
    "# 출력하는 프로그램을 작성하시오.\n",
    "\n",
    "phone_num = input(\"당신의 전화번호를 입력하세요 . (-포함) : \")\n",
    "new_phone_num = \"\"\n",
    "for ch in phone_num:\n",
    "    if ch != \"-\" and ch != \" \":\n",
    "        new_phone_num += ch\n",
    "        \n",
    "print(f\"'-'를 제거한 전화번호 : \", new_phone_num)\n",
    "\n",
    "        "
   ]
  }
 ],
 "metadata": {
  "kernelspec": {
   "display_name": "Python 3",
   "language": "python",
   "name": "python3"
  },
  "language_info": {
   "codemirror_mode": {
    "name": "ipython",
    "version": 3
   },
   "file_extension": ".py",
   "mimetype": "text/x-python",
   "name": "python",
   "nbconvert_exporter": "python",
   "pygments_lexer": "ipython3",
   "version": "3.8.8"
  }
 },
 "nbformat": 4,
 "nbformat_minor": 5
}
