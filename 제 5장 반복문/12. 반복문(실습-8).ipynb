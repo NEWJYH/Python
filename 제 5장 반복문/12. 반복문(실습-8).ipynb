{
 "cells": [
  {
   "cell_type": "code",
   "execution_count": 2,
   "id": "09b344de",
   "metadata": {},
   "outputs": [
    {
     "name": "stdout",
     "output_type": "stream",
     "text": [
      "**********\n",
      "**********\n",
      "**********\n",
      "**********\n",
      "**********\n"
     ]
    }
   ],
   "source": [
    "# 중첩 루프(nested loop, 더블 루프)에 대한 실습\n",
    "\n",
    "# 중첩 루프는 반복문 안에 또 다른 반복문이 들어가 있는 형태를 말한다.\n",
    "\n",
    "# 중요하게 기억해야 할 것은 내부 반복문은 외부 반복문이 한번 반복할때마다\n",
    "# 새롭게 실행해야 한다는 점이다.\n",
    "# 이 중첩 루프는 테이블(표)와 비슷한 형태로 출력하고자 할 때 사용하면 아주 좋다.\n",
    "# 2차원 형태로 나타내어질 수 있다.\n",
    "\n",
    "# *로 사각형 만들기\n",
    "\n",
    "for y in range(5):\n",
    "    for x in range(10):\n",
    "        print(\"*\",end =\"\")\n",
    "    print() "
   ]
  },
  {
   "cell_type": "code",
   "execution_count": 29,
   "id": "2ed0a38d",
   "metadata": {},
   "outputs": [
    {
     "name": "stdout",
     "output_type": "stream",
     "text": [
      "*\n",
      "**\n",
      "***\n",
      "****\n",
      "*****\n",
      "------------------\n",
      "*\n",
      "**\n",
      "***\n",
      "****\n",
      "*****\n",
      "------------------\n",
      "정수값 : 1, string zz, float 1.2\n",
      "정수값 : 1, string zz, float 1.2\n",
      "정수값 : 1.2, string zz, float 1\n",
      "숫자 '  300'\n",
      "숫자 '300  '\n",
      "*    \n",
      "**   \n",
      "***  \n",
      "**** \n",
      "*****\n",
      "------------------\n",
      "*****\n",
      "****\n",
      "***\n",
      "**\n",
      "*\n",
      "------------------\n",
      "*****\n",
      "**** \n",
      "***  \n",
      "**   \n",
      "*    \n",
      "f스트링\n",
      "*****\n",
      "****\n",
      "***\n",
      "**\n",
      "*\n"
     ]
    }
   ],
   "source": [
    "# 더블 루프를 사용하여 아래와 같이 출력하는 프로그램을 작성하시오.\n",
    "# *\n",
    "# **\n",
    "# ***\n",
    "# ****\n",
    "# *****\n",
    "\n",
    "for y in range(1,6):\n",
    "    for x in range(y):\n",
    "        print(\"*\",end=\"\")\n",
    "    print()\n",
    "print(\"------------------\")\n",
    "for i in range(5):\n",
    "    for j in range(i + 1):\n",
    "        print(\"*\",end=\"\")\n",
    "    print()\n",
    "print(\"------------------\")\n",
    "# format()함수 이용\n",
    "# format 함수는 {}이용하고 숫자도 같이 이용된다.\n",
    "print(\"정수값 : {}, string {}, float {}\".format(1,\"zz\",1.2))\n",
    "# index를 활용하여 해당하는 값들을 출력할수 있다.\n",
    "print(\"정수값 : {0}, string {1}, float {2}\".format(1,\"zz\",1.2))\n",
    "print(\"정수값 : {2}, string {1}, float {0}\".format(1,\"zz\",1.2))\n",
    "\n",
    "# format()는 공간확보 및 0으로 채우는 기능도 지원한다.\n",
    "# 콜론(:)을 기준으로 우측은 > 좌측은 < , 부등호를 사용해서 방향을 지정해 줄 수 있다.\n",
    "print(\"숫자 '{:>5d}'\".format(300)) # 오른쪽 >으로 밀어서 출력\n",
    "print(\"숫자 '{:<5d}'\".format(300)) # 왼쪽 <으로 밀어서 출력\n",
    "\n",
    "for i in range(5):\n",
    "    print(\"{:<5}\".format(\"*\" * (i+1)))\n",
    "print(\"------------------\")    \n",
    "# 역 직삼각형만들기\n",
    "# 1. 더블루프\n",
    "# 2. 포멧\n",
    "\n",
    "# 1 . 더블루프\n",
    "for y in range(5,0,-1):\n",
    "    for x in range(y):\n",
    "        print(\"*\",end=\"\")\n",
    "    print()\n",
    "print(\"------------------\")        \n",
    "# 2. format()\n",
    "for i in range(5,0,-1):\n",
    "    print(\"{:<5}\".format(\"*\" * (i)))\n",
    "    \n",
    "# f스트링 이용\n",
    "print(\"f스트링\")\n",
    "for i in range(5,0,-1):\n",
    "    print(f\"{'*'*i}\")"
   ]
  }
 ],
 "metadata": {
  "kernelspec": {
   "display_name": "Python 3",
   "language": "python",
   "name": "python3"
  },
  "language_info": {
   "codemirror_mode": {
    "name": "ipython",
    "version": 3
   },
   "file_extension": ".py",
   "mimetype": "text/x-python",
   "name": "python",
   "nbconvert_exporter": "python",
   "pygments_lexer": "ipython3",
   "version": "3.8.8"
  }
 },
 "nbformat": 4,
 "nbformat_minor": 5
}
