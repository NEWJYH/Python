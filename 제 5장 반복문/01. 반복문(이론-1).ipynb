{
 "cells": [
  {
   "cell_type": "markdown",
   "id": "df98f397",
   "metadata": {},
   "source": [
    "1. 반복문(iteration)의 필요성"
   ]
  },
  {
   "cell_type": "markdown",
   "id": "8b57919c",
   "metadata": {},
   "source": [
    "1) 반복문의 필요성\n",
    "    - 인간은 항상 새롭고 흥미로운 것을 좋아하는 경향이 많아서,\n",
    "      똑같은 작업을 반복하는 것을 지루해한다. 어찌 보면 당연한 일이다.\n",
    "      예를 들어 공장에서 똑같은 공정에서 매일 똑같은 일만 반복한다면\n",
    "      그건 정말 지루하기 짝이 없을 것이다.\n",
    "      하여, 이런 경우에 프로그래밍을 통해 자동화를 시키면 \n",
    "      컴퓨터를 통하여 인간은 그 반복적인 작업에서\n",
    "      벗어날수 있을 것이다.\n",
    "      \n",
    "    - 이처럼 동일한 명령어를 여러번 실행하는 것을 반복이라고 한다.\n",
    "      반복은 아주 자주 나타나기 때문에 파이썬은 반복을 쉽게 할 수 있는\n",
    "      구조를 가지고 있다. for문과 while문이 바로 반복문인 것이다."
   ]
  },
  {
   "cell_type": "code",
   "execution_count": 1,
   "id": "f679f92e",
   "metadata": {},
   "outputs": [
    {
     "name": "stdout",
     "output_type": "stream",
     "text": [
      "환영합니다.\n",
      "환영합니다.\n",
      "환영합니다.\n",
      "환영합니다.\n",
      "환영합니다.\n"
     ]
    }
   ],
   "source": [
    "print(\"환영합니다.\")\n",
    "print(\"환영합니다.\")\n",
    "print(\"환영합니다.\")\n",
    "print(\"환영합니다.\")\n",
    "print(\"환영합니다.\")"
   ]
  },
  {
   "cell_type": "code",
   "execution_count": 3,
   "id": "b53bd39c",
   "metadata": {},
   "outputs": [
    {
     "name": "stdout",
     "output_type": "stream",
     "text": [
      "환영합니다.\n",
      "환영합니다.\n",
      "환영합니다.\n",
      "환영합니다.\n",
      "환영합니다.\n",
      "환영\n",
      "환영\n",
      "환영\n",
      "환영\n"
     ]
    }
   ],
   "source": [
    "for i in range(5):\n",
    "    print(\"환영합니다.\")\n",
    "\n",
    "# 위 for문에서 range()함수는 정수들의 리스트를 생성한다.\n",
    "# 예를 들면 range(5)는 0,1,2,3,4까지 정수를 생성하여서 반환한다.\n",
    "# 하여, for문은 리스트의 첫번째 숫자인 0부터 4까지 반복하고 종료한다.\n",
    "for i in range(1,5):\n",
    "    print(\"환영\")\n",
    "# range(a,b):\n",
    "# a부터 b-1까지\n"
   ]
  },
  {
   "cell_type": "markdown",
   "id": "0168faa6",
   "metadata": {},
   "source": [
    "1) 반복문의 필요성\n",
    "    - 위와 같이 \"환영합니다\"라는 문자열을 출력하고 싶다면\n",
    "      지금까지 배운 것으로는 좌측과 같이 작성을 해야하지만\n",
    "      반복문을 이용하면 위와 같이 단 2줄이면 가능한 것이다.\n",
    "      \n",
    "    - 파이썬에서 지원하는 반복문에는 2가지 종류가 있다.\n",
    "      개발자가 현재 상황에 맞는 구조를 선택하여 사용하면 될것이다.\n",
    "      1. for문 : 정해진 횟수만큼 반복하는 구조이다.\n",
    "      2. while문 : 어떤 조건이 만족되는 동안, 반복을 계속하는 구조이다.\n",
    "                   (통상, 무한루프용으로 많이 사용된다.)"
   ]
  }
 ],
 "metadata": {
  "kernelspec": {
   "display_name": "Python 3",
   "language": "python",
   "name": "python3"
  },
  "language_info": {
   "codemirror_mode": {
    "name": "ipython",
    "version": 3
   },
   "file_extension": ".py",
   "mimetype": "text/x-python",
   "name": "python",
   "nbconvert_exporter": "python",
   "pygments_lexer": "ipython3",
   "version": "3.8.8"
  }
 },
 "nbformat": 4,
 "nbformat_minor": 5
}
