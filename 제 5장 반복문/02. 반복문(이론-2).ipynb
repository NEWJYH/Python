{
 "cells": [
  {
   "cell_type": "markdown",
   "id": "8c5adb28",
   "metadata": {},
   "source": [
    "2. for문"
   ]
  },
  {
   "cell_type": "markdown",
   "id": "4133fac1",
   "metadata": {},
   "source": [
    "1) for문\n",
    "    - for문은 정해진 횟수만큼 반복할 때 사용하는 반복 구조이다.\n",
    "      for 루프(loop)라고도 한다. for 문은 반복 구조 중에서 \n",
    "      가장 많이 사용하는데 그것은 당연히 장점이 많기 때문이다.\n",
    "      \n",
    "      for 변수 in 시퀸스 :\n",
    "         반복문장\n",
    "         반복문장\n",
    "         \n",
    "        변수 : 각 반복마다 변수의 값이 넠테이너의 요소값으로 설정된다.\n",
    "        시퀸스 : 리스트처럼 요소를 가지고 있는 객체이다.\n",
    "        반복문장 : 블록으로 들여 쓰기를 해야 한다.        "
   ]
  },
  {
   "cell_type": "markdown",
   "id": "2b64e81c",
   "metadata": {},
   "source": [
    "2) 리스트에 대한 반복\n",
    "    - 시퀸스는 어떻게 만드는지 확인해보자.\n",
    "      문자열이나 리스트가 바로 시퀸스이다.\n",
    "      리스트에 대하여 반복하는 아래 예제를 한번 보도록 한다."
   ]
  },
  {
   "cell_type": "code",
   "execution_count": 2,
   "id": "def0f897",
   "metadata": {},
   "outputs": [
    {
     "name": "stdout",
     "output_type": "stream",
     "text": [
      "안녕!철수\n",
      "안녕!영희\n",
      "안녕!길동\n",
      "안녕!유신\n"
     ]
    }
   ],
   "source": [
    "for name in [\"철수\",\"영희\",\"길동\",\"유신\"]:\n",
    "    print(\"안녕!\" + name)"
   ]
  },
  {
   "cell_type": "markdown",
   "id": "78cd3fd8",
   "metadata": {},
   "source": [
    "    - for 문장에 있는 변수 name은 루프 변수라고 칭한다.\n",
    "      변수 이름은 얼마든지 변경 가능하다.\n",
    "      역시 루프 코드도 들여쓰기 규칙이 적용된다.\n",
    "      한번 반복이 끝나면 처리할 항목이 더 있는지 검사한 후\n",
    "      처리할게 없다면 루프는 종료된다."
   ]
  },
  {
   "cell_type": "markdown",
   "id": "18c47701",
   "metadata": {},
   "source": [
    "3) 정수 리스트에 대한 반복\n",
    "    - 이번에는 정수 리스트에서 정수를 하나씩 꺼내서 \n",
    "      출력하는 코드를 살펴보자. "
   ]
  },
  {
   "cell_type": "code",
   "execution_count": 3,
   "id": "f1a3ffe8",
   "metadata": {},
   "outputs": [
    {
     "name": "stdout",
     "output_type": "stream",
     "text": [
      "0123456789"
     ]
    }
   ],
   "source": [
    "for i in [0,1,2,3,4,5,6,7,8,9]:\n",
    "    print(i,end=\"\")"
   ]
  },
  {
   "cell_type": "markdown",
   "id": "b5c16260",
   "metadata": {},
   "source": [
    "3) 정수 리스트에 대한 반복\n",
    "    - 위의 코드는 리스트에 들어 있는 정수들을 for문이 실행되면서\n",
    "    - 이들 리스트에서 정수를 하나씩 꺼내면서 변수 i에 할당하며,\n",
    "      각 반복에서 변수 i의 값을 출력한다.\n",
    "      단, 여기서 print(i, end =\"\")는 변수 i의 값을 출력한 후\n",
    "      줄을 바꾸지 말고 출력해라 라는 의미로 해석하면 된다."
   ]
  },
  {
   "cell_type": "markdown",
   "id": "d91769b7",
   "metadata": {},
   "source": [
    "4) range(x)함수\n",
    "    - 0부터 9까지 정수들의 리스트는 불편하지만 만들 수 있다.\n",
    "      숫자 10개면 손으로 쓸수 있지만 숫자가 100만개 라면 어떻게 할가?\n",
    "      골치가 아플 것이다. 이때 좀더 편리한 방법으로 유용한 함수가\n",
    "      바로 range()함수이다.\n",
    "    - range(x)함수를 이용하면 특정 구간의 정수들을 생성할 수 있다.\n",
    "      예를 들면 range(10)하면 0 ~ 9 까지의 정수가 생성된다."
   ]
  },
  {
   "cell_type": "code",
   "execution_count": 7,
   "id": "3e3ff43a",
   "metadata": {
    "scrolled": true
   },
   "outputs": [
    {
     "name": "stdout",
     "output_type": "stream",
     "text": [
      "45\n"
     ]
    }
   ],
   "source": [
    "sum = 0\n",
    "for i in range(10):\n",
    "    sum = sum + i\n",
    "print(sum)"
   ]
  },
  {
   "cell_type": "code",
   "execution_count": 20,
   "id": "e6dbf806",
   "metadata": {},
   "outputs": [
    {
     "name": "stdout",
     "output_type": "stream",
     "text": [
      "[0, 1, 2, 3, 4, 5, 6, 7, 8, 9]\n",
      "[1, 11, 21, 31, 41, 51, 61, 71, 81, 91]\n",
      "[101, 99, 97, 95, 93, 91, 89, 87, 85, 83, 81, 79, 77, 75, 73, 71, 69, 67, 65, 63, 61, 59, 57, 55, 53, 51, 49, 47, 45, 43, 41, 39, 37, 35, 33, 31, 29, 27, 25, 23, 21, 19, 17, 15, 13, 11, 9, 7, 5, 3]\n",
      "[-23, -22]\n"
     ]
    }
   ],
   "source": [
    "testlist = list(range(10))\n",
    "print(testlist)\n",
    "testlist2 = list(range(1,101,10))\n",
    "print(testlist2)\n",
    "testlist3 = list(range(101,1,-2))\n",
    "print(testlist3)\n",
    "testlist4 = list(range(-23,-21,1))\n",
    "print(testlist4)"
   ]
  },
  {
   "cell_type": "markdown",
   "id": "8ca537f5",
   "metadata": {},
   "source": [
    "5) range(start,stop)함수\n",
    "    - 아울러 range(start,stop)의 매개변수 2개를 가지는 함수도 \n",
    "      사용할수 있다.\n",
    "      이 함수를 호출하면 start부터 시작하여 storp-1 까지의 정수가 \n",
    "      생성된다.\n",
    "      이때 stop은 포함되지 않는다."
   ]
  },
  {
   "cell_type": "code",
   "execution_count": 21,
   "id": "dbc8d166",
   "metadata": {},
   "outputs": [
    {
     "name": "stdout",
     "output_type": "stream",
     "text": [
      "45\n"
     ]
    }
   ],
   "source": [
    "sum = 0\n",
    "for i in range(0,10):\n",
    "    sum = sum + i\n",
    "print(sum)"
   ]
  },
  {
   "cell_type": "markdown",
   "id": "8d949cdb",
   "metadata": {},
   "source": [
    "6) range(start, stop, step) 함수\n",
    "    - start부터 stop - 1 까지 step의 간격으로 정수를 생성한다.\n",
    "      예를 등러서 range(0,10,2)와 같이 호출되면 0부터 2씩 건너 뛰면서\n",
    "      10보다 작은 정수 [0, 2, 4, 6, 8]가 생성된다.\n",
    "      \n",
    "      range([Start,] stop, [step])\n",
    "      \n",
    "    - range() 함수는 start 부터 stop -1 까지 step의 간격으로\n",
    "      정수들을 생성한다.\n",
    "      start와 step이 대괄호로 싸여져 있는데 \n",
    "      이런 내용을 생략할 수 있다는 의미다. \n",
    "      생략시 start는 0, step은 1로 간주된다.\n",
    "      \n",
    "      아직은 초보적인 수준이라 위의 내용을 이해하는 것이 중요하다.\n",
    "      하지만 추후 중급 수준으로 가게 된다면 range()함수가 연속적인 값들을\n",
    "      생성할 때 메모리의 낭비를 막기 위해 파이썬 버전 3부터는 \n",
    "      제네레이터라는 객체를 리턴한다.\n",
    "      이 부분은 뒤에서 나올 것이니 한 번 들어봤다 정도로 일단 가볍게 \n",
    "      넘어가도록 하자."
   ]
  },
  {
   "cell_type": "markdown",
   "id": "e53663e1",
   "metadata": {},
   "source": [
    "7) 문자열 반복\n",
    "     - 문자열도 시퀸스의 일부분이다.\n",
    "       따라서 문자열을 대상으로 반복문은 얼마든지 만들 수 있다.\n",
    "       문자열 \"a,b,c,d,e,f\"에 들어 있는 문자들을 처리하면\n",
    "       아래와 같이 반복문을 만들어서 사용하면 될것이다."
   ]
  },
  {
   "cell_type": "code",
   "execution_count": 23,
   "id": "7bbbfa08",
   "metadata": {},
   "outputs": [
    {
     "name": "stdout",
     "output_type": "stream",
     "text": [
      "a b c d e f "
     ]
    }
   ],
   "source": [
    "for c in \"abcdef\":\n",
    "    print(c,end=\" \")"
   ]
  },
  {
   "cell_type": "markdown",
   "id": "a2922a54",
   "metadata": {},
   "source": [
    "8) 반복이 끝나면 어떻게 될까?\n",
    "    - 반복문이 끝나면 당연한 말이겠지만 반복문 아래에 있는 문장이 실행된다."
   ]
  },
  {
   "cell_type": "code",
   "execution_count": 24,
   "id": "9c8fd597",
   "metadata": {},
   "outputs": [
    {
     "name": "stdout",
     "output_type": "stream",
     "text": [
      "0 1 2 3 4 반복문 종료\n"
     ]
    }
   ],
   "source": [
    "for i in range(0,5):\n",
    "    print(i,end = \" \")\n",
    "    \n",
    "print(\"반복문 종료\")"
   ]
  }
 ],
 "metadata": {
  "kernelspec": {
   "display_name": "Python 3",
   "language": "python",
   "name": "python3"
  },
  "language_info": {
   "codemirror_mode": {
    "name": "ipython",
    "version": 3
   },
   "file_extension": ".py",
   "mimetype": "text/x-python",
   "name": "python",
   "nbconvert_exporter": "python",
   "pygments_lexer": "ipython3",
   "version": "3.8.8"
  }
 },
 "nbformat": 4,
 "nbformat_minor": 5
}
