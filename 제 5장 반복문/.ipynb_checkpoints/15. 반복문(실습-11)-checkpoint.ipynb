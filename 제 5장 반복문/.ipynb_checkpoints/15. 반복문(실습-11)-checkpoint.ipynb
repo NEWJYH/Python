{
 "cells": [
  {
   "cell_type": "code",
   "execution_count": 1,
   "id": "bdc1a1f2",
   "metadata": {},
   "outputs": [
    {
     "name": "stdout",
     "output_type": "stream",
     "text": [
      "문자열을 입력해주세요 : \n",
      "가나다라마바사 아자차카타파하\n",
      "입력한 문자열은 가나다라마바사 아자차카타파하\n",
      "공백을 제거한 문자열은 가나다라마바사아자차카타파하\n"
     ]
    }
   ],
   "source": [
    "# 문자열을 사용자로부터 입력을 받아 공백을 제거하는 프로그램을 작성하시오.\n",
    "\n",
    "statements = input(\"문자열을 입력해주세요 : \\n\")\n",
    "result = \"\"\n",
    "for ch in statements:\n",
    "    if ch != \" \":\n",
    "        result += ch\n",
    "print(f\"입력한 문자열은 {statements}\")\n",
    "print(f\"공백을 제거한 문자열은 {result}\")"
   ]
  },
  {
   "cell_type": "code",
   "execution_count": 9,
   "id": "bc8dbbc9",
   "metadata": {},
   "outputs": [
    {
     "name": "stdout",
     "output_type": "stream",
     "text": [
      "문자열을 입력해주세요 : \n",
      "안녕하세요?\n",
      "?요세하녕안"
     ]
    }
   ],
   "source": [
    "# 입력받은 문자열을 거꾸로 출력하는 프로그램을 작성하시오.\n",
    "statements = input(\"문자열을 입력해주세요 : \\n\")\n",
    "# 안녕하세요?\n",
    "# ?요세하녕안\n",
    "\n",
    "count = len(statements)\n",
    "\n",
    "for i in range(count-1, -1,-1):\n",
    "    print(statements[i],end=\"\")\n",
    "    "
   ]
  },
  {
   "cell_type": "code",
   "execution_count": 17,
   "id": "37520f7d",
   "metadata": {},
   "outputs": [
    {
     "name": "stdout",
     "output_type": "stream",
     "text": [
      "문자열을 입력하세요 : 안녕하세요\n",
      "입력한 문자열 : 안녕하세요\n",
      "역순으로 출력한 문자열 : 요세하녕안\n",
      "['요', '세', '하', '녕', '안']\n"
     ]
    }
   ],
   "source": [
    "# 입력받은 문자열을 거꾸로 출력하는 프로그램을 작성하시오.\n",
    "statements = input(\"문자열을 입력하세요 : \")\n",
    "s_reverse = \"\"\n",
    "\n",
    "# for문을 활용한 방법\n",
    "for ch in statements:\n",
    "    s_reverse = ch + s_reverse\n",
    "\n",
    "print(\"입력한 문자열 : \" + statements)\n",
    "print(\"역순으로 출력한 문자열 : \" + s_reverse)\n",
    "\n"
   ]
  },
  {
   "cell_type": "code",
   "execution_count": 20,
   "id": "00e68e89",
   "metadata": {},
   "outputs": [
    {
     "name": "stdout",
     "output_type": "stream",
     "text": [
      "요세하녕안\n"
     ]
    }
   ],
   "source": [
    "s_list = list(statements)\n",
    "s_list.reverse()\n",
    "# reverse() 는 리스트 타입으 역순으로 바꿔주는 함수이다.\n",
    "# join() 함수는 역순으로 된 문자열을 연결해서 출력을 하고 있는 코드\n",
    "print(\"\".join(s_list))\n",
    "\n",
    "\n"
   ]
  },
  {
   "cell_type": "code",
   "execution_count": 22,
   "id": "56028ab6",
   "metadata": {},
   "outputs": [
    {
     "name": "stdout",
     "output_type": "stream",
     "text": [
      "요세하녕안\n",
      "안녕하세요\n"
     ]
    }
   ],
   "source": [
    "s1 = statements\n",
    "# reversed() 는 문자열 역순으로 함수로 받아줘야함\n",
    "# 원본이 변하지 않음\n",
    "print(\"\".join(reversed(s1)))\n",
    "\n",
    "print(s1)"
   ]
  },
  {
   "cell_type": "code",
   "execution_count": 26,
   "id": "27c4b2ff",
   "metadata": {},
   "outputs": [
    {
     "name": "stdout",
     "output_type": "stream",
     "text": [
      "요세하녕안\n",
      "세하녕안\n"
     ]
    }
   ],
   "source": [
    "print(statements[::-1])\n",
    "# 파이썬에서는 [::-1]를 사용하여 문자열을 역순으로 출력할수 있다.\n",
    "\n",
    "# 문자열 3번째 인덱스부터 역순으로 출력하는 방법이다.\n",
    "print(statements[3::-1])"
   ]
  },
  {
   "cell_type": "code",
   "execution_count": 30,
   "id": "2ec46b82",
   "metadata": {
    "scrolled": true
   },
   "outputs": [
    {
     "name": "stdout",
     "output_type": "stream",
     "text": [
      "왼쪽 공백 제거 \n",
      "안녕    \n",
      "원본 문자열 \n",
      "     안녕    \n",
      "오른쪽 공백 제거\n",
      "     안녕\n",
      "양쪽 공백 제거 \n",
      "안녕\n"
     ]
    }
   ],
   "source": [
    "statements = \"     안녕    \"\n",
    "# 왼쪽 공백만 제거하는 함수\n",
    "print(\"왼쪽 공백 제거 \\n\" + statements.lstrip())\n",
    "print(\"원본 문자열 \\n\" + statements)\n",
    "# 오른쪽 공백만 제거하는 함수\n",
    "print(\"오른쪽 공백 제거\\n\" + statements.rstrip())\n",
    "\n",
    "# 양쪽 공백을 다 제거하는 함수\n",
    "print(\"양쪽 공백 제거 \\n\" + statements.strip())"
   ]
  },
  {
   "cell_type": "code",
   "execution_count": 32,
   "id": "9be7a7fb",
   "metadata": {},
   "outputs": [
    {
     "name": "stdout",
     "output_type": "stream",
     "text": [
      "['나는', '열심히', '파이썬', '공부를', '합니다.']\n",
      "나는열심히파이썬공부를합니다.\n"
     ]
    }
   ],
   "source": [
    "# 문자열 나누기\n",
    "statement = \"나는 열심히 파이썬 공부를 합니다.\"\n",
    "print(statement.split())\n",
    "print(\"\".join(statement.split()))"
   ]
  }
 ],
 "metadata": {
  "kernelspec": {
   "display_name": "Python 3",
   "language": "python",
   "name": "python3"
  },
  "language_info": {
   "codemirror_mode": {
    "name": "ipython",
    "version": 3
   },
   "file_extension": ".py",
   "mimetype": "text/x-python",
   "name": "python",
   "nbconvert_exporter": "python",
   "pygments_lexer": "ipython3",
   "version": "3.8.8"
  }
 },
 "nbformat": 4,
 "nbformat_minor": 5
}
