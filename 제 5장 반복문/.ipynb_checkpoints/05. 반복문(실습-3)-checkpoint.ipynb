{
 "cells": [
  {
   "cell_type": "code",
   "execution_count": 6,
   "id": "7e30802b",
   "metadata": {},
   "outputs": [
    {
     "name": "stdout",
     "output_type": "stream",
     "text": [
      "n! :: 팩토리얼 값을 구할 정수를 입력하시오 n = : 4\n",
      "24\n"
     ]
    }
   ],
   "source": [
    "# for문을 이용하여 팩토리얼(factorial)을 계산하는 프로그램을 작성하시오.\n",
    "# 팩토리얼 n! \n",
    "# 1부터 n까지의 정수를 모두 곱한 것을 의미하는 것이다.\n",
    "\n",
    "factorial = 1\n",
    "number = int(input(\"n! :: 팩토리얼 값을 구할 정수를 입력하시오 n = : \"))\n",
    "\n",
    "for i in range(1, number + 1):\n",
    "    factorial *= i\n",
    "\n",
    "print(factorial)"
   ]
  },
  {
   "cell_type": "code",
   "execution_count": 10,
   "id": "3b8c0d1b",
   "metadata": {},
   "outputs": [
    {
     "name": "stdout",
     "output_type": "stream",
     "text": [
      "피보나치 수열을 만들 정수를 입력하세요 : 5\n",
      "n3 = 1 n3 = 1 n3 = 2 n3 = 3 "
     ]
    }
   ],
   "source": [
    "# 피보나치 수열을 구하는 프로그램을 만들기\n",
    "# 피보나치 수열 앞의 2개의 수를 더해서 다음수를 결정 짓는 수열\n",
    "# 예) 13까지의 피보나치 수열의 값은?\n",
    "\n",
    "n1 = 1\n",
    "n2 = 1\n",
    "n3 = 1\n",
    "fi = int(input(\"피보나치 수열을 만들 정수를 입력하세요 : \"))\n",
    "\n",
    "for i in range(1, fi):\n",
    "    if i < 3:\n",
    "        n3 = 1\n",
    "    else:\n",
    "        n3 = n1 + n2\n",
    "        n1 = n2 \n",
    "        n2 = n3\n",
    "    if n3 < fi:\n",
    "        print(f\"n3 = {n3}\", end=\" \")"
   ]
  },
  {
   "cell_type": "code",
   "execution_count": 22,
   "id": "bec4327d",
   "metadata": {},
   "outputs": [
    {
     "name": "stdout",
     "output_type": "stream",
     "text": [
      "화씨   0도는 섭씨 -17.78도 입니다.\n",
      "화씨  10도는 섭씨 -12.22도 입니다.\n",
      "화씨  20도는 섭씨  -6.67도 입니다.\n",
      "화씨  30도는 섭씨  -1.11도 입니다.\n",
      "화씨  40도는 섭씨   4.44도 입니다.\n",
      "화씨  50도는 섭씨  10.00도 입니다.\n",
      "화씨  60도는 섭씨  15.56도 입니다.\n",
      "화씨  70도는 섭씨  21.11도 입니다.\n",
      "화씨  80도는 섭씨  26.67도 입니다.\n",
      "화씨  90도는 섭씨  32.22도 입니다.\n",
      "화씨 100도는 섭씨  37.78도 입니다.\n"
     ]
    }
   ],
   "source": [
    "# 화씨온도 - 섭씨 온도 변환 테이블을 출력하는 프로그램을 작성해보자.\n",
    "# for 문을 사용하여 실수로 나타내도록 한다. 화씨 0도부터 100도까지\n",
    "# 10도 단위로 증가시키면서 대응되는 섭씨온도를 출력하도록 하자.\n",
    "# 공식 : C = (F - 32) * 5 / 9\n",
    "\n",
    "for t in range(0,101, 10):\n",
    "    c = (t - 32) * 5 / 9\n",
    "    print(f\"화씨 {t:>3}도는 섭씨 {c:>6,.2f}도 입니다.\")"
   ]
  },
  {
   "cell_type": "code",
   "execution_count": null,
   "id": "cca2ec7c",
   "metadata": {},
   "outputs": [],
   "source": [
    "# 파이썬 양식문자 종류, format 함수 정리\n",
    "# https://reddb.tistory.com/71"
   ]
  }
 ],
 "metadata": {
  "kernelspec": {
   "display_name": "Python 3",
   "language": "python",
   "name": "python3"
  },
  "language_info": {
   "codemirror_mode": {
    "name": "ipython",
    "version": 3
   },
   "file_extension": ".py",
   "mimetype": "text/x-python",
   "name": "python",
   "nbconvert_exporter": "python",
   "pygments_lexer": "ipython3",
   "version": "3.8.8"
  }
 },
 "nbformat": 4,
 "nbformat_minor": 5
}
