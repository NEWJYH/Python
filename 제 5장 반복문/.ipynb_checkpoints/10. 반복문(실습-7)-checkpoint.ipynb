{
 "cells": [
  {
   "cell_type": "code",
   "execution_count": 8,
   "id": "8ae4acda",
   "metadata": {},
   "outputs": [
    {
     "name": "stdout",
     "output_type": "stream",
     "text": [
      "삼품의 금액을 입력하세요 (끝 입력시 종료)4500\n",
      "삼품의 금액을 입력하세요 (끝 입력시 종료)끝\n",
      "구매한 물품의 수 1 가격 합 4500원\n"
     ]
    }
   ],
   "source": [
    "# 무한 루프 \n",
    "\n",
    "# 사용자로부터 상품금액을 입력받아서\n",
    "# 상품의 총 가격을 계산하는 프로그램 만들기\n",
    "# 사용자가 몇개의 상품을 살지 모르니까 무한푸르를 이용하고\n",
    "# 사용자가 끝 이라고 입력하면 루프를 탈출하게 조건을 주도록 한다.\n",
    "\n",
    "from operator import eq\n",
    "\n",
    "total = 0\n",
    "count = 0\n",
    "while True:\n",
    "    seles = input(\"삼품의 금액을 입력하세요 (끝 입력시 종료)\")\n",
    "    if eq(seles,\"끝\"):\n",
    "        print(f\"구매한 물품의 수 {count} 가격 합 {total}원\")\n",
    "        break\n",
    "    else:\n",
    "        total += int(seles)\n",
    "        count += 1"
   ]
  },
  {
   "cell_type": "code",
   "execution_count": 15,
   "id": "bee3bc7d",
   "metadata": {},
   "outputs": [
    {
     "name": "stdout",
     "output_type": "stream",
     "text": [
      "1 증속 2감속 3중지\n",
      "2\n",
      "현재 속도는 0 입니다.\n",
      "1 증속 2감속 3중지\n",
      "2\n",
      "현재 속도는 0 입니다.\n",
      "1 증속 2감속 3중지\n",
      "2\n",
      "현재 속도는 0 입니다.\n",
      "1 증속 2감속 3중지\n",
      "2\n",
      "현재 속도는 0 입니다.\n",
      "1 증속 2감속 3중지\n",
      "2\n",
      "현재 속도는 0 입니다.\n",
      "1 증속 2감속 3중지\n",
      "2\n",
      "현재 속도는 0 입니다.\n",
      "1 증속 2감속 3중지\n",
      "2\n",
      "현재 속도는 0 입니다.\n",
      "1 증속 2감속 3중지\n",
      "2\n",
      "현재 속도는 0 입니다.\n",
      "1 증속 2감속 3중지\n",
      "2\n",
      "현재 속도는 0 입니다.\n",
      "1 증속 2감속 3중지\n",
      "2\n",
      "현재 속도는 0 입니다.\n",
      "1 증속 2감속 3중지\n",
      "2\n",
      "현재 속도는 0 입니다.\n",
      "1 증속 2감속 3중지\n",
      "\n"
     ]
    },
    {
     "ename": "ValueError",
     "evalue": "invalid literal for int() with base 10: ''",
     "output_type": "error",
     "traceback": [
      "\u001b[1;31m---------------------------------------------------------------------------\u001b[0m",
      "\u001b[1;31mValueError\u001b[0m                                Traceback (most recent call last)",
      "\u001b[1;32m<ipython-input-15-1f6095991237>\u001b[0m in \u001b[0;36m<module>\u001b[1;34m\u001b[0m\n\u001b[0;32m      9\u001b[0m \u001b[0mrun\u001b[0m \u001b[1;33m=\u001b[0m \u001b[1;32mTrue\u001b[0m\u001b[1;33m\u001b[0m\u001b[1;33m\u001b[0m\u001b[0m\n\u001b[0;32m     10\u001b[0m \u001b[1;32mwhile\u001b[0m \u001b[0mrun\u001b[0m\u001b[1;33m:\u001b[0m\u001b[1;33m\u001b[0m\u001b[1;33m\u001b[0m\u001b[0m\n\u001b[1;32m---> 11\u001b[1;33m     \u001b[0mInput_num\u001b[0m \u001b[1;33m=\u001b[0m \u001b[0mint\u001b[0m\u001b[1;33m(\u001b[0m\u001b[0minput\u001b[0m\u001b[1;33m(\u001b[0m\u001b[1;34m\"1 증속 2감속 3중지\\n\"\u001b[0m\u001b[1;33m)\u001b[0m\u001b[1;33m)\u001b[0m\u001b[1;33m\u001b[0m\u001b[1;33m\u001b[0m\u001b[0m\n\u001b[0m\u001b[0;32m     12\u001b[0m     \u001b[1;32mif\u001b[0m \u001b[0mInput_num\u001b[0m \u001b[1;33m==\u001b[0m \u001b[1;36m1\u001b[0m\u001b[1;33m:\u001b[0m\u001b[1;33m\u001b[0m\u001b[1;33m\u001b[0m\u001b[0m\n\u001b[0;32m     13\u001b[0m         \u001b[0mspeed\u001b[0m \u001b[1;33m+=\u001b[0m \u001b[1;36m10\u001b[0m\u001b[1;33m\u001b[0m\u001b[1;33m\u001b[0m\u001b[0m\n",
      "\u001b[1;31mValueError\u001b[0m: invalid literal for int() with base 10: ''"
     ]
    }
   ],
   "source": [
    "# 1번을 누르면 증속, 2번을 누르면 감속, \n",
    "# 53번을 누르면 중지 를 출력하고\n",
    "# 사용자의 입력을 1,2,3으로 받아서\n",
    "# 증속을 하면 속도를 10씩 증가 하고 출력해준다.\n",
    "# 감속을 하면 10씩 감소\n",
    "# 중지를 하면 flag변수를 이용하여 무한루프를 빠져나간다.\n",
    "\n",
    "speed = 0\n",
    "run = True\n",
    "while run:\n",
    "    Input_num = int(input(\"1 증속 2감속 3중지\\n\"))\n",
    "    if Input_num == 1:\n",
    "        speed += 10\n",
    "    elif Input_num == 2:\n",
    "        speed -= 10\n",
    "        if speed < 0:\n",
    "            speed = 0\n",
    "    elif Input_num == 3:\n",
    "        run = False\n",
    "    else:\n",
    "        continue\n",
    "    print(f\"현재 속도는 {speed} 입니다.\" )"
   ]
  }
 ],
 "metadata": {
  "kernelspec": {
   "display_name": "Python 3",
   "language": "python",
   "name": "python3"
  },
  "language_info": {
   "codemirror_mode": {
    "name": "ipython",
    "version": 3
   },
   "file_extension": ".py",
   "mimetype": "text/x-python",
   "name": "python",
   "nbconvert_exporter": "python",
   "pygments_lexer": "ipython3",
   "version": "3.8.8"
  }
 },
 "nbformat": 4,
 "nbformat_minor": 5
}
