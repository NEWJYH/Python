{
 "cells": [
  {
   "cell_type": "code",
   "execution_count": 4,
   "id": "3aa46ed3",
   "metadata": {},
   "outputs": [
    {
     "name": "stdout",
     "output_type": "stream",
     "text": [
      "Write!  number used by iteration : 10\n",
      "1부터 10까지의 합은 55 입니다.\n"
     ]
    }
   ],
   "source": [
    "# 1부터 사용자가 입력한 수 num 까지 더해서\n",
    "# 합계를 구하는 프로그램을 for문을 이용해서 작성하시오.\n",
    "USER_INPUT = int(input(\"Write!  number used by iteration : \"))\n",
    "\n",
    "start = 1\n",
    "stop = USER_INPUT + 1\n",
    "step =1 \n",
    "\n",
    "sum = 0\n",
    "\n",
    "for i in range(start, stop, step):\n",
    "    sum += i\n",
    "\n",
    "print(f\"{start}부터 {USER_INPUT}까지의 합은 {sum} 입니다.\")"
   ]
  },
  {
   "cell_type": "code",
   "execution_count": 11,
   "id": "2715a875",
   "metadata": {},
   "outputs": [
    {
     "name": "stdout",
     "output_type": "stream",
     "text": [
      "0 1 3 6 10 15 21 28 36 45 55 66 78 91 105 120 136 153 171 190 210 231 253 276 300 325 351 378 406 435 465 496 528 561 595 630 666 703 741 780 820 861 903 946 990 1035 1081 1128 1176 1225 1275 1326 1378 1431 1485 1540 1596 1653 1711 1770 1830 1891 1953 2016 \n",
      "마지막으로 더해지는 i의 값 : 63 \n"
     ]
    }
   ],
   "source": [
    "# 1에서 100까지 누적값을 구하는데\n",
    "# 누적값이 2000이상이되면 for문을 빠져나오는 프로그램을 작성하시오.\n",
    "sum = 0\n",
    "for i in range(101):\n",
    "    if sum >= 2000:\n",
    "        print()\n",
    "        print(f\"마지막으로 더해지는 i의 값 : {i - 1} \")\n",
    "        break\n",
    "    else:\n",
    "        sum += i\n",
    "        print(sum, end=\" \")"
   ]
  },
  {
   "cell_type": "code",
   "execution_count": null,
   "id": "71c6df17",
   "metadata": {},
   "outputs": [],
   "source": [
    "# 중단점 거는 방법 \n",
    "# https://ichi.pro/ko/jupyter-noteubug-dibeoging-eulo-saengsanseong-hyangsang-179441719638626\n",
    "# import pdb; pdb.set_trace()\n",
    "# print(변수) 등 명령을 내릴수 있음\n",
    "# q를 누르면 종료됨 \n",
    "\n",
    "# 디버그\n",
    "# https://stricky.tistory.com/93\n",
    "# %debug (힘수명)"
   ]
  }
 ],
 "metadata": {
  "kernelspec": {
   "display_name": "Python 3",
   "language": "python",
   "name": "python3"
  },
  "language_info": {
   "codemirror_mode": {
    "name": "ipython",
    "version": 3
   },
   "file_extension": ".py",
   "mimetype": "text/x-python",
   "name": "python",
   "nbconvert_exporter": "python",
   "pygments_lexer": "ipython3",
   "version": "3.8.8"
  }
 },
 "nbformat": 4,
 "nbformat_minor": 5
}
