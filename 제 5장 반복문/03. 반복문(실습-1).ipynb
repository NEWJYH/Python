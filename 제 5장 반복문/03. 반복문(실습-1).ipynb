{
 "cells": [
  {
   "cell_type": "code",
   "execution_count": 2,
   "id": "4f7a425c",
   "metadata": {},
   "outputs": [
    {
     "name": "stdout",
     "output_type": "stream",
     "text": [
      "안녕하세요\n",
      "안녕하세요\n",
      "안녕하세요\n",
      "안녕하세요\n",
      "안녕하세요\n"
     ]
    }
   ],
   "source": [
    "# 반복문(iteration)에 대한 실습\n",
    "print(\"안녕하세요\")\n",
    "print(\"안녕하세요\")\n",
    "print(\"안녕하세요\")\n",
    "print(\"안녕하세요\")\n",
    "print(\"안녕하세요\")"
   ]
  },
  {
   "cell_type": "code",
   "execution_count": 17,
   "id": "b0fde44d",
   "metadata": {},
   "outputs": [
    {
     "name": "stdout",
     "output_type": "stream",
     "text": [
      "안녕하세요\n",
      "안녕하세요\n",
      "안녕하세요\n",
      "안녕하세요\n",
      "안녕하세요\n",
      "<class 'range'>\n",
      "Hello \n",
      "Hello \n",
      "Hello \n",
      "Hello \n",
      "Hello \n",
      "반갑습니다 신씨\n",
      "반갑습니다 김씨\n",
      "반갑습니다 김씨\n",
      "반갑습니다 홍씨\n",
      "반갑습니다 김씨\n",
      "0, 1, 2, 4\n"
     ]
    }
   ],
   "source": [
    "# 위와 같이 안녕하세요 를 5번 출력하려면 \n",
    "# print()함수를 5번 호출해야 하는 번거로움이 존재하며,\n",
    "# 1000번 이상 출력한다면 짜증 날 것이다.\n",
    "\n",
    "# 위의 출력 내용과 동일하게 for문을 이용하여 작성해보자.\n",
    "for x in [0, 1, 2, 3, 4]:\n",
    "    print(\"안녕하세요\")\n",
    "# 동일한 이유로 짜증이 날것이다.\n",
    "\n",
    "\n",
    "# range()함수를 사용해보자.    \n",
    "print(type(range(5))) # <class 'range'>\n",
    "\n",
    "for i in range(5):\n",
    "    print(\"Hello \")\n",
    "# range()를 이용하면 위의 정수 리스트를 사용하는 것보다\n",
    "# 훨씬 효율적인 코드이며 \n",
    "# 가독성도 좋다.\n",
    "\n",
    "# range()함수는 리스트 타입으로 반환해준다.\n",
    "# range(x) : 0부터 x-1까지 정수 리스트 타입으로 반환 해준다.\n",
    "\n",
    "# 문자열 리스트를 시퀀스로 가질 때의 for 문\n",
    "s = [\"신은혁\",\"김연아\",\"김철수\",\"홍길동\",\"김남길\"]\n",
    "for name in s :\n",
    "    print(f\"반갑습니다 {name[0]}씨\")\n",
    "    \n",
    "# 출바꿈을 하지 않게 하는 end 인자값을 확인해보기\n",
    "for x in [0,1,2,3,4]:\n",
    "    if x == 4:\n",
    "        print(x)\n",
    "        break\n",
    "    if x == 3 :\n",
    "        continue\n",
    "    print(x, end=\", \")"
   ]
  },
  {
   "cell_type": "code",
   "execution_count": 45,
   "id": "131c7268",
   "metadata": {},
   "outputs": [
    {
     "name": "stdout",
     "output_type": "stream",
     "text": [
      "0, 1, 3, 6, 10, 15, 21, 28, 36, 45, \n",
      "0, 1, 3, 6, 10, 15, 21, 28, 36, 45, \n",
      "1, 3, 6, 10, 15, 21, 28, 36, 45, 55\n",
      "\n",
      "1부터 10 까지의 합은 55\n",
      "0, 3, 9, 18\n",
      "\n",
      "0부터 9 까지의 3만큼 건너 뛴 합은 18\n",
      "shin Eun Hyuk\n",
      "s h i n   E u n   H y u k \n",
      "shin Eun Hyuk\n"
     ]
    }
   ],
   "source": [
    "# range() 함수 실습하기\n",
    "\n",
    "# 1. range(x) 매개변수 1개 짜리 함수를 이용\n",
    "sum = 0\n",
    "for i in range(10):\n",
    "    sum = sum + i\n",
    "    print(sum, end =\", \")\n",
    "print()   \n",
    "# 2. range(start, stop) 매개변수 2개짜리 함수를 이용\n",
    "sum = 0\n",
    "for i in range(0,10):\n",
    "    sum = sum + i\n",
    "    print(sum, end =\", \")\n",
    "print()\n",
    "# \n",
    "sum = 0\n",
    "start = 1\n",
    "stop = 11\n",
    "\n",
    "for i in range(start, stop):\n",
    "    sum = sum + i\n",
    "    if i == stop -1:\n",
    "        print(sum)\n",
    "        break\n",
    "    print(sum,end=\", \")\n",
    "print()\n",
    "print(f\"{start}부터 {stop-1} 까지의 합은 {sum}\")\n",
    "\n",
    "# 3.range(start, stop, step) 매개변수 3개짜리 함수를 이용\n",
    "# 누적을 하는데 stop 값은 포함하지 않는다.\n",
    "# 누적을 시킬 때 step만큼 건너 띄어 리스트를 생성한다.\n",
    "\n",
    "sum = 0\n",
    "start = 0\n",
    "stop = 10\n",
    "step = 3\n",
    "for i in range(start, stop, step):\n",
    "    sum = sum + i\n",
    "    if i == stop -1:\n",
    "        print(sum)\n",
    "        break\n",
    "    print(sum,end=\", \")\n",
    "print()\n",
    "print(f\"{start}부터 {stop-1} 까지의 {step}만큼 건너 뛴 합은 {sum}\")\n",
    "\n",
    "# 문자열 실습\n",
    "# 문자열도 시퀀스의 대상에 포함된다.\n",
    "# 하여 for문을 통해 문자를 추출하여 출력할 수 가 있다.\n",
    "s = \"shin Eun Hyuk\"\n",
    "print(s)\n",
    "for ch in s :\n",
    "    print(ch, end=\" \")"
   ]
  }
 ],
 "metadata": {
  "kernelspec": {
   "display_name": "Python 3",
   "language": "python",
   "name": "python3"
  },
  "language_info": {
   "codemirror_mode": {
    "name": "ipython",
    "version": 3
   },
   "file_extension": ".py",
   "mimetype": "text/x-python",
   "name": "python",
   "nbconvert_exporter": "python",
   "pygments_lexer": "ipython3",
   "version": "3.8.8"
  }
 },
 "nbformat": 4,
 "nbformat_minor": 5
}
