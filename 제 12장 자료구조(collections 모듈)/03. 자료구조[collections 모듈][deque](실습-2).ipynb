{
 "cells": [
  {
   "cell_type": "code",
   "execution_count": 2,
   "id": "59536ec2",
   "metadata": {},
   "outputs": [],
   "source": [
    "from collections import deque\n",
    "# 과연 deque가 리스트와 비교해서 얼마나 성능 차이가 나는지 확인\n",
    "\n",
    "# deque 와 list 의 성능 테스트 비교"
   ]
  },
  {
   "cell_type": "code",
   "execution_count": 3,
   "id": "8993a984",
   "metadata": {},
   "outputs": [
    {
     "name": "stdout",
     "output_type": "stream",
     "text": [
      "deque append (s)시간 0.010970115661621094\n",
      "deque append (n_s)시간 10970200\n",
      "list append (s)시간 0.013994932174682617\n",
      "list append (n_s)시간 13994800\n"
     ]
    }
   ],
   "source": [
    "import time\n",
    "# 저장 성능 테스트\n",
    "# time 모듈 # 성능 테스트를 하기 위해서 time모듈을 가지고옴\n",
    "# 아무런 요소가 없는 deque를 생성함\n",
    "deque_test = deque()\n",
    "start = time.time() # 시작 시간을 저장(second 단위)\n",
    "start_ns = time.time_ns()\n",
    "\n",
    "for i in range(100000):\n",
    "    deque_test.append(i)\n",
    "\n",
    "end = time.time()\n",
    "end_ns = time.time_ns()\n",
    "print(f\"deque append (s)시간 {end - start}\")\n",
    "print(f\"deque append (n_s)시간 {end_ns - start_ns}\")\n",
    "\n",
    "# 비교하기 위한 빈 리스트 생성\n",
    "list_test = list()\n",
    "start = time.time() # 시작 시간을 저장(second 단위)\n",
    "start_ns = time.time_ns()\n",
    "\n",
    "for i in range(100000):\n",
    "    list_test.append(i)\n",
    "end = time.time()\n",
    "end_ns = time.time_ns()\n",
    "print(f\"list append (s)시간 {end - start}\")\n",
    "print(f\"list append (n_s)시간 {end_ns - start_ns}\")"
   ]
  },
  {
   "cell_type": "code",
   "execution_count": 8,
   "id": "c83d2f9b",
   "metadata": {},
   "outputs": [
    {
     "name": "stdout",
     "output_type": "stream",
     "text": [
      "deque pop (s)시간 13.039368152618408\n",
      "deque pop (n_s)시간 13039368200\n",
      "list pop (s)시간 13.334270715713501\n",
      "list pop (n_s)시간 13334270800\n"
     ]
    }
   ],
   "source": [
    "# 추출기능 테스트\n",
    "start = time.time() # 시작 시간을 저장(second 단위)\n",
    "start_ns = time.time_ns()\n",
    "\n",
    "for i in range(100000):\n",
    "    deque_test.pop()\n",
    "\n",
    "end = time.time()\n",
    "end_ns = time.time_ns()\n",
    "print(f\"deque pop (s)시간 {end - start}\")\n",
    "print(f\"deque pop (n_s)시간 {end_ns - start_ns}\")\n",
    "\n",
    "# 리스트 테스트 \n",
    "start = time.time() # 시작 시간을 저장(second 단위)\n",
    "start_ns = time.time_ns()\n",
    "for i in range(100000):\n",
    "    list_test.pop()\n",
    "end = time.time()\n",
    "end_ns = time.time_ns()\n",
    "print(f\"list pop (s)시간 {end - start}\")\n",
    "print(f\"list pop (n_s)시간 {end_ns - start_ns}\")"
   ]
  },
  {
   "cell_type": "code",
   "execution_count": 4,
   "id": "df2a598e",
   "metadata": {},
   "outputs": [
    {
     "name": "stdout",
     "output_type": "stream",
     "text": [
      "deque popleft (s)시간 0.014960765838623047\n",
      "deque popleft (n_s)시간 14960800\n",
      "list pop(0) (s)시간 1.0781159400939941\n",
      "list pop(0) (n_s)시간 1078115800\n"
     ]
    }
   ],
   "source": [
    "start = time.time() # 시작 시간을 저장(second 단위)\n",
    "start_ns = time.time_ns()\n",
    "\n",
    "for i in range(100000):\n",
    "    deque_test.popleft()\n",
    "\n",
    "end = time.time()\n",
    "end_ns = time.time_ns()\n",
    "print(f\"deque popleft (s)시간 {end - start}\")\n",
    "print(f\"deque popleft (n_s)시간 {end_ns - start_ns}\")\n",
    "\n",
    "# 리스트 테스트 \n",
    "start = time.time() # 시작 시간을 저장(second 단위)\n",
    "start_ns = time.time_ns()\n",
    "for i in range(100000):\n",
    "    list_test.pop(0)\n",
    "end = time.time()\n",
    "end_ns = time.time_ns()\n",
    "print(f\"list pop(0) (s)시간 {end - start}\")\n",
    "print(f\"list pop(0) (n_s)시간 {end_ns - start_ns}\")\n",
    "# 결론은 list와 deque를 성능 테스트를 해보니\n",
    "# 데이터를 추가할때는 deque가 훨씬 좋은 성능을 발휘한다.\n",
    "# 또한 대용량 일수록 더욱더 많은 차이를 나타낸다.\n",
    "# 추출할 때 역시 deque가 list보다 훨씬 빠른 성능을 보인다.\n",
    "# 데이터의 용량이 크면 클수록 deque를 사용하는 것을\n",
    "# 고려해 봐야 한다."
   ]
  }
 ],
 "metadata": {
  "kernelspec": {
   "display_name": "Python 3",
   "language": "python",
   "name": "python3"
  },
  "language_info": {
   "codemirror_mode": {
    "name": "ipython",
    "version": 3
   },
   "file_extension": ".py",
   "mimetype": "text/x-python",
   "name": "python",
   "nbconvert_exporter": "python",
   "pygments_lexer": "ipython3",
   "version": "3.8.8"
  }
 },
 "nbformat": 4,
 "nbformat_minor": 5
}
