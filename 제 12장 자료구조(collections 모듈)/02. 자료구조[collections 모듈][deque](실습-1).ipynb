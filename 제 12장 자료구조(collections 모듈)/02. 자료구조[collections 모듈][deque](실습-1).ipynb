{
 "cells": [
  {
   "cell_type": "code",
   "execution_count": null,
   "id": "b178ae05",
   "metadata": {},
   "outputs": [],
   "source": [
    "# collections 모듈\n",
    "# 기존의 배웠던 자료구조 list, 큐, 스택, 튜플, 딕셔너리\n",
    "# 를 좀더 확장하여 제작된 파이썬의 내장 모듈이다."
   ]
  },
  {
   "cell_type": "code",
   "execution_count": null,
   "id": "fd3a943d",
   "metadata": {},
   "outputs": [],
   "source": [
    "# 1.deque(데크, double-ended queue) 모듈은\n",
    "# 스택과 큐를 모두 지원하는 모듈이다.\n",
    "# 양방향으로 데이터를 입출력 할 수 있는 자료 구조이다."
   ]
  },
  {
   "cell_type": "code",
   "execution_count": 7,
   "id": "9d858edf",
   "metadata": {},
   "outputs": [
    {
     "name": "stdout",
     "output_type": "stream",
     "text": [
      "deque([])\n",
      "deque([0, 1, 2, 3, 4])\n",
      "4\n",
      "deque([0, 1, 2, 3])\n",
      "3\n",
      "deque([0, 1, 2])\n",
      "2\n",
      "deque([0, 1])\n"
     ]
    }
   ],
   "source": [
    "from collections import deque\n",
    "\n",
    "# 아무 요소가 없는 deque를 생성함\n",
    "deque_list = deque()\n",
    "print(deque_list)\n",
    "# 아래 코드는 기존 리스트와 같이 데이터가 추가됨\n",
    "for i in range(5):\n",
    "    deque_list.append(i)\n",
    "print(deque_list)\n",
    "\n",
    "# deque에 있는 요소들을 삭제하기\n",
    "# print(deque_list.pop(0)) \n",
    "# TypeError: pop() takes no arguments (1 given)\n",
    "# deque에서는 pop()에 인덱스 지원이 되지않는다.\n",
    "print(deque_list.pop()) # 4 \n",
    "print(deque_list)\n",
    "print(deque_list.pop()) # 3\n",
    "print(deque_list)\n",
    "print(deque_list.pop()) # 2 \n",
    "print(deque_list) # deque([0, 1])\n",
    "# deque에서는 스택도 지원하는 모듈이므로 pop() 사용하면\n",
    "# 늦게 들어간 데이터부터 삭제됨을 알수 있다."
   ]
  },
  {
   "cell_type": "code",
   "execution_count": 10,
   "id": "202d8413",
   "metadata": {},
   "outputs": [
    {
     "name": "stdout",
     "output_type": "stream",
     "text": [
      "deque([4, 3, 2, 1, 0])\n",
      "0\n",
      "deque([4, 3, 2, 1])\n",
      "1\n",
      "deque([4, 3, 2])\n",
      "2\n",
      "deque([4, 3])\n"
     ]
    }
   ],
   "source": [
    "deque_list.clear()\n",
    "# deque의 appendleft()메서드사용\n",
    "# 새로운 요소들을 왼쪽부터 입력되게 하여\n",
    "# 먼저 들어간 값부터 출력될수 있도록한다.\n",
    "# 양방향으로 데이터 입력이 가능한 것이다.\n",
    "for i in range(5):\n",
    "    deque_list.appendleft(i)\n",
    "print(deque_list) # deque([4, 3, 2, 1, 0])\n",
    "print(deque_list.pop()) # 0\n",
    "print(deque_list)\n",
    "print(deque_list.pop()) # 1\n",
    "print(deque_list)\n",
    "print(deque_list.pop()) # 2\n",
    "print(deque_list) # deque([4, 3])"
   ]
  },
  {
   "cell_type": "code",
   "execution_count": null,
   "id": "054055b6",
   "metadata": {},
   "outputs": [],
   "source": [
    "# deque 모듈은 원형 연결리스트(linked list)의 특성을 지원 한다.\n",
    "# 연결 리스트는 데이터를 저장을 할 때,\n",
    "# 요소의 값을 한 쪽으로 연결한 후,\n",
    "# 요소의 다음 값의 주소를 저장하여 연결하는 기법이다."
   ]
  },
  {
   "cell_type": "code",
   "execution_count": 14,
   "id": "24b8a572",
   "metadata": {},
   "outputs": [
    {
     "name": "stdout",
     "output_type": "stream",
     "text": [
      "deque([4, 3, 2, 1, 0])\n",
      "deque([0, 4, 3, 2, 1])\n",
      "deque([4, 3, 2, 1, 0])\n"
     ]
    }
   ],
   "source": [
    "deque_list.clear()\n",
    "for i in range(5):\n",
    "    deque_list.appendleft(i)\n",
    "print(deque_list) # deque([4, 3, 2, 1, 0])\n",
    "# 헤드 4\n",
    "\n",
    "# rotate()\n",
    "deque_list.rotate(1)\n",
    "print(deque_list) # deque([0, 4, 3, 2, 1])\n",
    "# 헤드 0\n",
    "\n",
    "deque_list.rotate(-1)\n",
    "print(deque_list)\n",
    "# 헤드 4\n",
    "\n",
    "# rotate(n) : 요소들을 n만큼 회전 해주는 메소드이다.\n",
    "# 단, 양수이면 시계방향(오른쪽) 회전을 하고\n",
    "# 음수이면 반시계(왼쪽) 으로 회전한다."
   ]
  },
  {
   "cell_type": "code",
   "execution_count": 16,
   "id": "a19c5637",
   "metadata": {},
   "outputs": [
    {
     "name": "stdout",
     "output_type": "stream",
     "text": [
      "deque([4, 3, 2, 1, 0])\n",
      "deque([0, 1, 2, 3, 4])\n"
     ]
    }
   ],
   "source": [
    "deque_list.clear()\n",
    "for i in range(5):\n",
    "    deque_list.appendleft(i)\n",
    "print(deque_list)\n",
    "# reversed() 메소드는 기존 요소들을 반대로 \n",
    "# 저장 할 수 있게힌다.\n",
    "print(deque(reversed(deque_list)))"
   ]
  },
  {
   "cell_type": "code",
   "execution_count": 20,
   "id": "df74215c",
   "metadata": {},
   "outputs": [
    {
     "name": "stdout",
     "output_type": "stream",
     "text": [
      "deque([0, 1, 2, 3, 4, 5, 6, 7, 8])\n",
      "deque([-1, -2, -3, 0, 1, 2, 3, 4, 5, 6, 7, 8])\n"
     ]
    }
   ],
   "source": [
    "deque_list.clear()\n",
    "for i in range(5):\n",
    "    deque_list.appendleft(i)\n",
    "deque_list.reverse()\n",
    "# extend() 우측에 한번에 붙이기\n",
    "deque_list.extend([5,6,7,8])\n",
    "print(deque_list)\n",
    "# extendleft() 좌측에 한번에 붙이기\n",
    "deque_list.extendleft([-3,-2,-1])\n",
    "print(deque_list)"
   ]
  },
  {
   "cell_type": "code",
   "execution_count": 22,
   "id": "a4bac30a",
   "metadata": {},
   "outputs": [
    {
     "name": "stdout",
     "output_type": "stream",
     "text": [
      "deque([])\n",
      "deque(['c', 'd', 'e'], maxlen=3)\n"
     ]
    }
   ],
   "source": [
    "deque_list.clear()\n",
    "print(deque_list)\n",
    "basedata = [\"a\",\"b\",\"c\",\"d\",\"e\"]\n",
    "# maxlen 매개변수는 deque의 사이즈를 고정시켜버리는 인자값이다.\n",
    "# \n",
    "deque_list = deque(basedata, maxlen=3)\n",
    "print(deque_list)"
   ]
  },
  {
   "cell_type": "code",
   "execution_count": 27,
   "id": "e21e1a1d",
   "metadata": {},
   "outputs": [
    {
     "name": "stdout",
     "output_type": "stream",
     "text": [
      "deque([], maxlen=3)\n",
      "deque([300, 10, 20], maxlen=3)\n",
      "300\n",
      "deque([10, 20], maxlen=3)\n"
     ]
    }
   ],
   "source": [
    "deque_list.clear()\n",
    "print(deque_list)\n",
    "basedata = [100,200,300,10,20]\n",
    "# maxlen 매개변수는 deque의 사이즈를 고정시켜버리는 인자값이다.\n",
    "# 과감하게 먼저 들어온 100,200은 버려버린다.\n",
    "deque_list = deque(basedata, maxlen=3)\n",
    "print(deque_list)\n",
    "# popleft() 메서드는 deque에서 요소의 왼쪽에 있는 것을\n",
    "# 삭제한다.\n",
    "print(deque_list.popleft()) # 300\n",
    "print(deque_list) # deque([10, 20], maxlen=3)"
   ]
  }
 ],
 "metadata": {
  "kernelspec": {
   "display_name": "Python 3",
   "language": "python",
   "name": "python3"
  },
  "language_info": {
   "codemirror_mode": {
    "name": "ipython",
    "version": 3
   },
   "file_extension": ".py",
   "mimetype": "text/x-python",
   "name": "python",
   "nbconvert_exporter": "python",
   "pygments_lexer": "ipython3",
   "version": "3.8.8"
  }
 },
 "nbformat": 4,
 "nbformat_minor": 5
}
