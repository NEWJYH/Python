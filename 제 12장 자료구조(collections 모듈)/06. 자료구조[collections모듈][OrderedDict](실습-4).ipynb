{
 "cells": [
  {
   "cell_type": "code",
   "execution_count": 18,
   "id": "03a8aea1",
   "metadata": {},
   "outputs": [
    {
     "name": "stdout",
     "output_type": "stream",
     "text": [
      "2403498164464\n",
      "2403498898224\n",
      "True\n",
      "False\n"
     ]
    }
   ],
   "source": [
    "from collections import OrderedDict\n",
    "# 동등성은 논리적 동등이라는 것을 의미한다.\n",
    "# 논리적 동등이란 주소는 다르지만 안에 들어간 요소들의 값이\n",
    "# 순서가 비록 틀리더라도 논리적 동등이라고 바라보는 시점이다.\n",
    "str1 = \"신은혁\"\n",
    "str2 = \"신은혁\"\n",
    "print(id(str1))\n",
    "print(id(str2))\n",
    "print(str1==str2) # True\n",
    "print(str1 is str2) # False"
   ]
  },
  {
   "cell_type": "code",
   "execution_count": 24,
   "id": "32769b2b",
   "metadata": {},
   "outputs": [
    {
     "name": "stdout",
     "output_type": "stream",
     "text": [
      "2403498984000\n",
      "2403498983936\n",
      "True\n",
      "2403497805760\n",
      "2403497806912\n",
      "False\n"
     ]
    }
   ],
   "source": [
    "# 일반적인 딕셔너리의 동등성 비교\n",
    "dic1 = {\"가\":1,\"나\":2,\"다\":3}\n",
    "dic2 = {\"가\":1,\"다\":3,\"나\":2}\n",
    "print(id(dic1))\n",
    "print(id(dic2))\n",
    "print(dic1 == dic2) # True\n",
    "\n",
    "from collections import OrderedDict\n",
    "# OrderedDict 는 두 개의 OrderedDict를 비교할 떄 해당하는 값들의\n",
    "# 순서와 해당하는 키와 값이 같아야지만 동등하게 바라본다.\n",
    "# 일반적인 딕셔너리보다 좀 더 깐깐하고 디테일하게 비교하는 것이 \n",
    "# OrderedDict의 특징이다.\n",
    "ordered_dic1 = OrderedDict({\"가\":1,\"나\":2,\"다\":3})\n",
    "ordered_dic2 = OrderedDict({\"가\":1,\"다\":3,\"나\":2})\n",
    "print(id(ordered_dic1))\n",
    "print(id(ordered_dic2))\n",
    "print(ordered_dic1 == ordered_dic2) # False\n",
    "\n",
    "# 결론\n",
    "# 1. OrderedDict 모듈은 딕셔너리의 순서대로 저장하지 않는 방식을\n",
    "#    순서대로 저장하는 방식으로 개선되었다.(pythonversion 3.6) \n",
    "\n",
    "# 2. 딕셔너리의 동등성 비교에서 일반적인 딕셔너리는 순서를 유지하지\n",
    "#    않아도 해당 키와 값이 동등하다면 True를 리턴하지만,\n",
    "#    OrderedDict는 순서와 키와 값이 무조건 같아야 True를 \n",
    "#    리턴하는 동등성 비교로 개선되었다.\n",
    "\n",
    "# OrderedDict 를 사용하면 정확한 데이터의 순서나 값을 유지하는데\n",
    "# 일반 딕셔너리에 비해서는 엄청 좋은 면이 존재한다.\n",
    "\n",
    "# 일반 딕셔너리보다는 OrderedDict 모듈을 이용하는 것이 좋다."
   ]
  }
 ],
 "metadata": {
  "kernelspec": {
   "display_name": "Python 3",
   "language": "python",
   "name": "python3"
  },
  "language_info": {
   "codemirror_mode": {
    "name": "ipython",
    "version": 3
   },
   "file_extension": ".py",
   "mimetype": "text/x-python",
   "name": "python",
   "nbconvert_exporter": "python",
   "pygments_lexer": "ipython3",
   "version": "3.8.8"
  }
 },
 "nbformat": 4,
 "nbformat_minor": 5
}
