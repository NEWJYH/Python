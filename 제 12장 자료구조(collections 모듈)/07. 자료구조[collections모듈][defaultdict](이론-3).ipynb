{
 "cells": [
  {
   "cell_type": "markdown",
   "id": "e19e2684",
   "metadata": {},
   "source": [
    "3. collections 모듈"
   ]
  },
  {
   "cell_type": "markdown",
   "id": "3938e520",
   "metadata": {},
   "source": [
    "4) defaultdict 모듈\n",
    "    - defaultdict 모듈은 딕셔너리의 요소를 생성할 때 키에 기본 값을\n",
    "      저장하는 방법이다. 새로운 키를 생성할 때 별다른 조치 없이\n",
    "      신규 값을 생성할 수 있다. 실제 딕셔너리에서는 키를 생성하지 않고\n",
    "      해당 키의 값을 호출하려고 할때, 오류가 발생한다.\n",
    "      즉, 코드에서 first의 키 값을 별도로 생성하지 않은 채 바로\n",
    "      호출하여 오류가 발생하였다."
   ]
  },
  {
   "cell_type": "code",
   "execution_count": 1,
   "id": "70893331",
   "metadata": {},
   "outputs": [
    {
     "ename": "KeyError",
     "evalue": "'first'",
     "output_type": "error",
     "traceback": [
      "\u001b[1;31m---------------------------------------------------------------------------\u001b[0m",
      "\u001b[1;31mKeyError\u001b[0m                                  Traceback (most recent call last)",
      "\u001b[1;32m<ipython-input-1-3b4ee8f5b4c3>\u001b[0m in \u001b[0;36m<module>\u001b[1;34m\u001b[0m\n\u001b[0;32m      1\u001b[0m \u001b[0md\u001b[0m \u001b[1;33m=\u001b[0m \u001b[0mdict\u001b[0m\u001b[1;33m(\u001b[0m\u001b[1;33m)\u001b[0m\u001b[1;33m\u001b[0m\u001b[1;33m\u001b[0m\u001b[0m\n\u001b[1;32m----> 2\u001b[1;33m \u001b[0mprint\u001b[0m\u001b[1;33m(\u001b[0m\u001b[0md\u001b[0m\u001b[1;33m[\u001b[0m\u001b[1;34m\"first\"\u001b[0m\u001b[1;33m]\u001b[0m\u001b[1;33m)\u001b[0m\u001b[1;33m\u001b[0m\u001b[1;33m\u001b[0m\u001b[0m\n\u001b[0m",
      "\u001b[1;31mKeyError\u001b[0m: 'first'"
     ]
    }
   ],
   "source": [
    "d = dict()\n",
    "print(d[\"first\"])"
   ]
  },
  {
   "cell_type": "markdown",
   "id": "40dd635d",
   "metadata": {},
   "source": [
    "4) defaultdict 모듈\n",
    "    - 그렇다면 defaultdict는 어떻게 작동할까? "
   ]
  },
  {
   "cell_type": "code",
   "execution_count": 3,
   "id": "80991e45",
   "metadata": {},
   "outputs": [
    {
     "name": "stdout",
     "output_type": "stream",
     "text": [
      "0\n"
     ]
    }
   ],
   "source": [
    "from collections import defaultdict\n",
    "d = defaultdict(lambda : 0)\n",
    "print(d[\"first\"])"
   ]
  },
  {
   "cell_type": "markdown",
   "id": "7e6efe0e",
   "metadata": {},
   "source": [
    "4) defaultdict 모듈\n",
    "    - 앞서 람다함수를 배운 적을 기억하는가? (lambda 인자 : 표현식)\n",
    "      으로 문법으로 되어 함수 호출을 간단히 해주는 방법이 있다.\n",
    "      위의 코드에서 lambda : 0은 defaultdict의 키에 해당하는\n",
    "      값을 기본적으로 0으로 설정하겠다라는 것이다.\n",
    "      아울러, 어떤 키가 들어오더라도 처음 값은 전부 0으로 설정한다는\n",
    "      뜻이다."
   ]
  },
  {
   "cell_type": "markdown",
   "id": "1e95c9ce",
   "metadata": {},
   "source": [
    "4) defalutdict 모듈\n",
    "    - 또 다른 것으로 defaultdict를 활용해 다음과 같이\n",
    "      기본 값이 int로 선언해주고, 기존에 없던 key를 호출하면\n",
    "      다음과 같이 해당키가 0으로 자동 초기화 되는 것을 볼 수 있다."
   ]
  },
  {
   "cell_type": "code",
   "execution_count": 4,
   "id": "4cbb72bd",
   "metadata": {},
   "outputs": [
    {
     "name": "stdout",
     "output_type": "stream",
     "text": [
      "0\n",
      "defaultdict(<class 'int'>, {'a': 0})\n"
     ]
    }
   ],
   "source": [
    "from collections import defaultdict\n",
    "d_dict = defaultdict(int)\n",
    "print(d_dict[\"a\"])\n",
    "print(d_dict)"
   ]
  },
  {
   "cell_type": "markdown",
   "id": "91c38d98",
   "metadata": {},
   "source": [
    "4) defalutdict 모듈\n",
    "    - 또한 심지어 미리 선언하지 않은 key에 해당하는 값에다가 \n",
    "      값을 더해주는것도 가능하다."
   ]
  },
  {
   "cell_type": "code",
   "execution_count": 8,
   "id": "98ff1ede",
   "metadata": {},
   "outputs": [
    {
     "name": "stdout",
     "output_type": "stream",
     "text": [
      "defaultdict(<class 'int'>, {'a': 10})\n"
     ]
    }
   ],
   "source": [
    "from collections import defaultdict\n",
    "d_dict = defaultdict(int)\n",
    "d_dict[\"a\"] += 10\n",
    "print(d_dict)"
   ]
  },
  {
   "cell_type": "markdown",
   "id": "aecc4316",
   "metadata": {},
   "source": [
    "4) defalutdict 모듈\n",
    "    - 또 다른 예제로 함수를 이용하여 딕셔너리를 초기화하는 코드를 보자"
   ]
  },
  {
   "cell_type": "code",
   "execution_count": 10,
   "id": "7dfe4389",
   "metadata": {},
   "outputs": [],
   "source": [
    "def countLetter(word):\n",
    "    counter={}\n",
    "    for letter in word:\n",
    "        if letter not in counter:\n",
    "            counter[letter] = 0\n",
    "        counter[letter] += 1\n",
    "    return counter # 결과는 전부 1로 초기화가 이루어진다."
   ]
  },
  {
   "cell_type": "markdown",
   "id": "a81e2b10",
   "metadata": {},
   "source": [
    "4) defalutdict 모듈\n",
    "    - for 루프 안에 if 조건절을 통해서 counter 딕셔너리에 어떤\n",
    "      글자가 키(key)로 존재하지 않는 경우, 해당 키에 대한 \n",
    "      기본값을 0으로 세팅해주고 있다. 이러한 코딩 패턴은 파이썬에서\n",
    "      딕셔너리를 사용할 때 상당히 자주 접할 수 있는데,\n",
    "      코드 가독성 측면에서는 이렇게 사소한 처리가 주요 흐름을\n",
    "      파악하는데 방해가 되기도 합니다.\n",
    "      \n",
    "    - 하여 좀 더 좋은 방법은 딕셔너리의 dict.setdefault()함수를 \n",
    "      사용하는 방법이 있지만, 이역시도 루프를 돌 때마다 setedfault()\n",
    "      함수가 호출되므로 좀 비효율적이다.\n",
    "      하여 defaultdict()를 이용하면 이런 루프로 부터 딕셔너러리의\n",
    "      기본값 처리 코드를 좀 더 효율적으로 기본값으로\n",
    "      초기화 할 수가 있다."
   ]
  },
  {
   "cell_type": "code",
   "execution_count": 11,
   "id": "39e4e7b0",
   "metadata": {},
   "outputs": [],
   "source": [
    "from collections import defaultdict\n",
    "def countLetter(word):\n",
    "    counter = defaultdict(int)\n",
    "    for letter in word:\n",
    "        counter[letter] += 1\n",
    "    return counter"
   ]
  },
  {
   "cell_type": "markdown",
   "id": "38ac7921",
   "metadata": {},
   "source": [
    "4) defaultdict 모듈\n",
    "    - 이번 예제는 함수를 이용하여 각 알파벳의 글자의 수를 세어서\n",
    "      저장을 하고 딕셔너리를 리턴하는 코드"
   ]
  },
  {
   "cell_type": "code",
   "execution_count": 13,
   "id": "561cb788",
   "metadata": {},
   "outputs": [
    {
     "name": "stdout",
     "output_type": "stream",
     "text": [
      "defaultdict(<class 'list'>, {2: ['감자', '사과'], 1: ['귤', '배'], 3: ['오징어', '꼼장어']})\n"
     ]
    }
   ],
   "source": [
    "from collections import defaultdict\n",
    "def groupWords(words):\n",
    "    grouper = defaultdict(list)\n",
    "    for word in words:\n",
    "        length = len(word)\n",
    "        grouper[length].append(word)\n",
    "    return grouper\n",
    "li1 = [\"감자\",\"귤\",\"사과\",\"배\",\"오징어\",\"꼼장어\"]\n",
    "dic2 = groupWords(li1)\n",
    "print(dic2)"
   ]
  },
  {
   "cell_type": "markdown",
   "id": "fa6b45fe",
   "metadata": {},
   "source": [
    "4) defaultdict 모듈\n",
    "    - 위의 내용을 set을 이용하여 만들면 아래 코드와 같다"
   ]
  },
  {
   "cell_type": "code",
   "execution_count": 15,
   "id": "40331efd",
   "metadata": {},
   "outputs": [
    {
     "name": "stdout",
     "output_type": "stream",
     "text": [
      "defaultdict(<class 'set'>, {2: {'한국', '중국'}, 3: {'브라질'}})\n"
     ]
    }
   ],
   "source": [
    "from collections import defaultdict\n",
    "def groupWords(words):\n",
    "    grouper = defaultdict(set)\n",
    "    for word in words:\n",
    "        length = len(word)\n",
    "        grouper[length].add(word)\n",
    "    return grouper\n",
    "set1 = set()\n",
    "set1.add(\"한국\")\n",
    "set1.add(\"중국\")\n",
    "set1.add(\"브라질\")\n",
    "set2 = groupWords(set1)\n",
    "print(set2)"
   ]
  },
  {
   "cell_type": "markdown",
   "id": "0c60a9bd",
   "metadata": {},
   "source": [
    "4) defaultdict 모듈\n",
    "    - 이외에도 defaultdict의 초깃값은 아래 코드처럼 리스트 형태로도\n",
    "      설정할 수 있다."
   ]
  },
  {
   "cell_type": "code",
   "execution_count": 16,
   "id": "8e4c72b1",
   "metadata": {},
   "outputs": [
    {
     "name": "stdout",
     "output_type": "stream",
     "text": [
      "dict_items([('Cyellow', [1]), ('blue', [2, 4]), ('yellow', [3]), ('red', [1])])\n"
     ]
    }
   ],
   "source": [
    "from collections import defaultdict\n",
    "\n",
    "s = [('Cyellow',1),('blue',2),(\"yellow\",3),(\"blue\",4),(\"red\",1)]\n",
    "d = defaultdict(list)\n",
    "for k,v in s:\n",
    "    d[k].append(v)\n",
    "print(d.items())"
   ]
  },
  {
   "cell_type": "markdown",
   "id": "f3820da6",
   "metadata": {},
   "source": [
    "4) defaultdict 모듈\n",
    "    - 변수에 튜플 데이터들을 이차원 리스트 형태로 저장하였다.\n",
    "      d = defaultdict(list)로 초깃값을 리스트 형태로 선언한다.\n",
    "      그 다음 모든 값이 리스트에 들어가 for문을 사용하여 새로운 값을\n",
    "      추가할 수 있다. 이렇게 하면 위의 s 변수처럼 같은 이름을\n",
    "      가진 여러개의 키key가 생긴다. defaultdict 모듈은 이런 키의 \n",
    "      값들을 하나로 만들 때 사용할 수 있는 방법 중 하나다."
   ]
  }
 ],
 "metadata": {
  "kernelspec": {
   "display_name": "Python 3",
   "language": "python",
   "name": "python3"
  },
  "language_info": {
   "codemirror_mode": {
    "name": "ipython",
    "version": 3
   },
   "file_extension": ".py",
   "mimetype": "text/x-python",
   "name": "python",
   "nbconvert_exporter": "python",
   "pygments_lexer": "ipython3",
   "version": "3.8.8"
  }
 },
 "nbformat": 4,
 "nbformat_minor": 5
}
