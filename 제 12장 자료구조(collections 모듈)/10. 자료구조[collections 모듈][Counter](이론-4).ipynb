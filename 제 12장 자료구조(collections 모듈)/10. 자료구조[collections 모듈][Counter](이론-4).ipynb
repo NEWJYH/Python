{
 "cells": [
  {
   "cell_type": "markdown",
   "id": "6883050f",
   "metadata": {},
   "source": [
    "3. collections 모듈"
   ]
  },
  {
   "cell_type": "markdown",
   "id": "cbe1870a",
   "metadata": {},
   "source": [
    "5) Counter 모듈\n",
    "    - Counter 모듈은 시퀸스 자료형의 데이터 값의 개수를\n",
    "      딕셔너리 형태로 반환하는 자료구조이다.\n",
    "      즉, 리스트나 문자열 같은 시퀸스 자료형 안의 값 중 같은 것이\n",
    "      몇개 있는지 반환한다. 다음 코드를 살펴 보자"
   ]
  },
  {
   "cell_type": "code",
   "execution_count": 2,
   "id": "f594c981",
   "metadata": {},
   "outputs": [
    {
     "name": "stdout",
     "output_type": "stream",
     "text": [
      "['g', 'a', 'l', 'l', 'a', 'h', 'a', 'd']\n",
      "Counter({'a': 3, 'l': 2, 'g': 1, 'h': 1, 'd': 1})\n"
     ]
    }
   ],
   "source": [
    "from collections import Counter\n",
    "text = list(\"gallahad\")\n",
    "print(text)\n",
    "c = Counter(text)\n",
    "print(c)"
   ]
  },
  {
   "cell_type": "markdown",
   "id": "e94ee4e6",
   "metadata": {},
   "source": [
    "5) Counter 모듈\n",
    "    - 위 코드에서는 기존 문자열 값인 'gallahad'를 리스트형으로\n",
    "      변환한 후, text 변수에 저장하였다.\n",
    "      사실 'gallagad'자체도 시퀸스 자료형인 문자열이므로\n",
    "      굳이 리스트로 변환할 필요는 없지만, 이해를 톱기 위해\n",
    "      리스트 형태로 저장하였다. c라는 Counter 객체를 생성하면서\n",
    "      text 변수를 초깃값으로 설정하고 이를 출력하면,\n",
    "      위 결과처럼 각 알파벳이 몇개씩 있는지 쉽게 확인할 수 있다.\n",
    "      c[\"a\"] 처럼 딕셔너리 형태의 문법을 그대로 이용해\n",
    "      특정 텍스트의 개수도 바로 출력할수 있다."
   ]
  },
  {
   "cell_type": "markdown",
   "id": "0fc2247c",
   "metadata": {},
   "source": [
    "5) Counter 모듈\n",
    "    - Counter()에는 값 = 개수 형태로 입력이 가능하다.\n",
    "      예를 들어, Counter(a=2,b=3,c=2)는 \n",
    "      ['a','a','b','b','b','c','c'] 와 같다.\n",
    "      아래의 코드를 통해 출력 값을 확인할 수 있다."
   ]
  },
  {
   "cell_type": "code",
   "execution_count": 5,
   "id": "867f4a8f",
   "metadata": {},
   "outputs": [
    {
     "name": "stdout",
     "output_type": "stream",
     "text": [
      "Counter({'b': 3, 'a': 2, 'c': 2})\n",
      "['a', 'a', 'b', 'b', 'b', 'c', 'c']\n"
     ]
    }
   ],
   "source": [
    "from collections import Counter\n",
    "c = Counter(a=2,b=3,c=2)\n",
    "print(c)\n",
    "print(sorted(c.elements()))"
   ]
  },
  {
   "cell_type": "markdown",
   "id": "38b2f460",
   "metadata": {},
   "source": [
    "5) Counter 모듈\n",
    "    - elements()는 Counter로 주어진 값의 요소에 해당하는 값을\n",
    "      풀어서 반환한다. 요소는 무작위로 반환하며, 요소 수가 1보다\n",
    "      작은 경우 elements()는 이를 출력하지 않는다.\n",
    "      elements()는 대소문자를 구분하며,\n",
    "      sorted()를 이용하여 정렬해 질 수 있다."
   ]
  },
  {
   "cell_type": "markdown",
   "id": "df1aec66",
   "metadata": {},
   "source": [
    "5) Counter 모듈\n",
    "    - 앞서 defaultdict를 사용하여 각 문자의 개수를 셌는데,\n",
    "      Counter를 이용하면 그런 작업을 매우 쉽게 할 수 있다.\n",
    "      다음과 같이 코드를 작성하면 정렬까지 끝낸 결과물을 확인할 수\n",
    "      있는데, 이전에서 수행한 작업을 단 한 줄의 코드로 \n",
    "      작성한 것을 확인할 수 있다."
   ]
  },
  {
   "cell_type": "code",
   "execution_count": 12,
   "id": "2e0dad0f",
   "metadata": {},
   "outputs": [
    {
     "name": "stdout",
     "output_type": "stream",
     "text": [
      "Counter({'and': 3, 'to': 3, 'a': 2, 'press': 2, 'release': 2, 'can': 2, 'you': 2, 'is': 1, 'the': 1, 'quickest': 1, 'easiest': 1, 'way': 1, 'get': 1, 'free': 1, 'publicity.': 1, 'if': 1, 'well': 1, 'written,': 1, 'result': 1, 'in': 1, 'multiple': 1, 'published': 1, 'articles': 1, 'about': 1, 'your': 1, 'firm': 1, 'its': 1, 'products.': 1, 'that': 1, 'mean': 1, 'new': 1, 'prospects': 1, 'contacting': 1, 'asking': 1, 'sell': 1, 'them....': 1})\n"
     ]
    }
   ],
   "source": [
    "text = '''A press release is the quickest \n",
    "and easiest way to get free publicity. \n",
    "If well written, a press release can result \n",
    "in multiple published articles about your firm \n",
    "and its products. \n",
    "And that can mean new prospects contacting you \n",
    "asking you to sell to them....'''.lower().split()\n",
    "a = Counter(text)\n",
    "print(a)"
   ]
  },
  {
   "cell_type": "markdown",
   "id": "12734ee4",
   "metadata": {},
   "source": [
    "5) Counter 모듈\n",
    "    - Counter는 단순히 시퀸스 자료형의 데이터를 세는 역할도 있지만\n",
    "      딕셔너리 형태나 키워드 형태의 매개변수를 사용하여\n",
    "      Counter를 생성할 수도 있다."
   ]
  },
  {
   "cell_type": "markdown",
   "id": "7187a388",
   "metadata": {},
   "source": [
    "5) Counter 모듈\n",
    "    - 먼저 딕셔너리 형태로 Counter 객체를 생성하는 방법이다.\n",
    "      다음 코드를 보면 {'red':4,'blue':2}라는 초깃값을 사용하여\n",
    "      Counter를 생성한 것을 확인할 수 있다.\n",
    "      또한, elements() 함수를 사용하여, 각 요소의 개수만큼\n",
    "      리스트형의 결과를 출력하는 것을 확인할 수 있다."
   ]
  },
  {
   "cell_type": "code",
   "execution_count": 16,
   "id": "d91fcfdc",
   "metadata": {},
   "outputs": [
    {
     "name": "stdout",
     "output_type": "stream",
     "text": [
      "Counter({'red': 4, 'blue': 2})\n",
      "['red', 'red', 'red', 'red', 'blue', 'blue']\n",
      "['H', 'e', 'l', 'l', 'o', 'o', ' ', 'P', 'y', 't', 'h', 'n']\n",
      "[' ', 'H', 'P', 'e', 'h', 'l', 'l', 'n', 'o', 'o', 't', 'y']\n"
     ]
    }
   ],
   "source": [
    "from collections import Counter\n",
    "c = Counter({'red':4,'blue':2})\n",
    "print(c)\n",
    "print(list(c.elements()))\n",
    "c = Counter(\"Hello Python\")\n",
    "print(list(c.elements()))\n",
    "print(sorted(c.elements()))"
   ]
  },
  {
   "cell_type": "markdown",
   "id": "0d283ad3",
   "metadata": {},
   "source": [
    "5) Counter 모듈\n",
    "    - update()는 Counter의 값을 갱신하는 것을 의미한다.\n",
    "      딕셔너리의 update와 비슷하지만 입력값을 문자열 형태로\n",
    "      도 입력가능하다.\n",
    "      다음 코드는 입력 값을 문자열로 했을 떄와\n",
    "      딕셔너리 형태로 입력했을 때이다."
   ]
  },
  {
   "cell_type": "code",
   "execution_count": 23,
   "id": "758b33f5",
   "metadata": {},
   "outputs": [
    {
     "name": "stdout",
     "output_type": "stream",
     "text": [
      "Counter()\n",
      "Counter({'a': 1, 'b': 1, 'c': 1, 'd': 1, 'e': 1, 'f': 1, 'g': 1})\n",
      "Counter({'f': 4, 'e': 3, 'a': 1, 'b': 1, 'c': 1, 'd': 1, 'g': 1})\n",
      "Counter({'f': 5, 'e': 3, 'a': 1, 'b': 1, 'c': 1, 'd': 1, 'g': 1})\n"
     ]
    }
   ],
   "source": [
    "from collections import Counter\n",
    "# 문자열\n",
    "a = Counter()\n",
    "print(a)\n",
    "a.update(\"abcdefg\")\n",
    "print(a)\n",
    "# 딕셔너리\n",
    "a.update({'f':3,'e':2})\n",
    "print(a)\n",
    "a[\"f\"] += 1\n",
    "print(a)"
   ]
  },
  {
   "cell_type": "markdown",
   "id": "890e559f",
   "metadata": {},
   "source": [
    "5) Counter 모듈\n",
    "    - most_common(n)은 입력된 값의 요소들 중 빈도수(frequency)\n",
    "      가 높은 순으로 상위 n개를 리스트(list) 안의 튜플 형태로 \n",
    "      반환한다. n을 입력하지 않은 경우, 요소 전체를 [('값',개수)]\n",
    "      의 형태로 반환한다."
   ]
  },
  {
   "cell_type": "code",
   "execution_count": 22,
   "id": "c4b2b006",
   "metadata": {},
   "outputs": [
    {
     "name": "stdout",
     "output_type": "stream",
     "text": [
      "[('a', 3), ('p', 3), ('e', 3), (',', 2), (' ', 2), ('r', 2), ('g', 2), ('l', 1), ('o', 1), ('n', 1)]\n",
      "[('a', 3), ('p', 3), ('e', 3)]\n"
     ]
    }
   ],
   "source": [
    "c2 = Counter('apple, orange, grape')\n",
    "print(c2.most_common())\n",
    "print(c2.most_common(3))\n"
   ]
  },
  {
   "cell_type": "markdown",
   "id": "9969e2bb",
   "metadata": {},
   "source": [
    "5) Counter 모듈\n",
    "    - subtract()는 말 그대로 요소를 빼는 것을 의미한다.\n",
    "      다만, 요소가 없는 경우는 음수의 값이 출력된다.\n",
    "      다음 코드에 문자열 'hello python'에서 'i love python'을\n",
    "      subtract()를 이용해서 뺴주게 되면 \"hello python\"에 \n",
    "      존재하지 않는 \"i,v\"는 음수가 나타나게 된다"
   ]
  },
  {
   "cell_type": "code",
   "execution_count": 24,
   "id": "56d2861e",
   "metadata": {},
   "outputs": [
    {
     "name": "stdout",
     "output_type": "stream",
     "text": [
      "Counter({'h': 1, 'l': 1, 'e': 0, 'o': 0, 'p': 0, 'y': 0, 't': 0, 'n': 0, ' ': -1, 'i': -1, 'v': -1})\n"
     ]
    }
   ],
   "source": [
    "from collections import Counter\n",
    "c3 = Counter(\"hello python\")\n",
    "c4 = Counter(\"i love python\")\n",
    "c3.subtract(c4)\n",
    "print(c3)"
   ]
  },
  {
   "cell_type": "code",
   "execution_count": 26,
   "id": "cc690b0c",
   "metadata": {},
   "outputs": [
    {
     "name": "stdout",
     "output_type": "stream",
     "text": [
      "Counter({'a': 3, 'b': 0, 'c': -3, 'd': -6})\n"
     ]
    }
   ],
   "source": [
    "c = Counter(a=4,b=2,c=0,d=-2)\n",
    "d = Counter(a=1,b=2,c=3,d=4)\n",
    "c.subtract(d)\n",
    "print(c)"
   ]
  },
  {
   "cell_type": "markdown",
   "id": "13383d8b",
   "metadata": {},
   "source": [
    "5) Counter 모듈\n",
    "    - Counter()는 산술/집합 연산이 가능하다.\n",
    "    - 덧셈(+)"
   ]
  },
  {
   "cell_type": "code",
   "execution_count": null,
   "id": "1752ce89",
   "metadata": {},
   "outputs": [],
   "source": [
    "from collections import Counter\n",
    "a = Counter(['a','b','c','b','d','a'])\n",
    "print(a)\n",
    "b = Counter(\"aaeroplane\")\n",
    "print(b)\n",
    "print(a+b)"
   ]
  },
  {
   "cell_type": "markdown",
   "id": "ef360a39",
   "metadata": {},
   "source": [
    "5) Counter 모듈\n",
    "    - Counter의 뺄셈은 음수 값은 출력하지 않는다."
   ]
  },
  {
   "cell_type": "code",
   "execution_count": 32,
   "id": "90d84da1",
   "metadata": {},
   "outputs": [
    {
     "name": "stdout",
     "output_type": "stream",
     "text": [
      "Counter({'d': 2, 'a': 1, 'c': 1})\n"
     ]
    }
   ],
   "source": [
    "import collections\n",
    "a = collections.Counter(\"aabbccdd\")\n",
    "b = collections.Counter(\"abbbce\")\n",
    "print(a-b)"
   ]
  },
  {
   "cell_type": "markdown",
   "id": "5e954afd",
   "metadata": {},
   "source": [
    "5) Counter 모듈\n",
    "    - Counter의 교집합 및 합집합의 출력값은 \n",
    "      {값:개수}의 딕셔너리 형태로 반환된다."
   ]
  },
  {
   "cell_type": "code",
   "execution_count": 34,
   "id": "2608bea7",
   "metadata": {},
   "outputs": [
    {
     "name": "stdout",
     "output_type": "stream",
     "text": [
      "Counter({'a': 2, 'b': 2, 'c': 1})\n",
      "Counter({'a': 2, 'b': 2, 'c': 2, 'd': 2, 'e': 1})\n"
     ]
    }
   ],
   "source": [
    "from collections import Counter\n",
    "a = Counter('aabbccdd')\n",
    "b = Counter('aabbce')\n",
    "print(a&b)\n",
    "print(a|b)"
   ]
  },
  {
   "cell_type": "markdown",
   "id": "3824de21",
   "metadata": {},
   "source": [
    "5) Counter 모듈\n",
    "    - 각각의 결과에서 보듯이 + 기호는 두 Counter 객체에 있는\n",
    "      각 요소를 더한 것이고, & 기호는 두 객체에 같은 값만이\n",
    "      있을 때, 즉 교집합의 경우에만 출력하였다.\n",
    "      반대로 | 기호는 두 Counter 객체에서 하나가 포함되어 있다면\n",
    "      그리고 좀 더 큰 값이 있다면 그 값으로 합집합을 적용하였다."
   ]
  }
 ],
 "metadata": {
  "kernelspec": {
   "display_name": "Python 3",
   "language": "python",
   "name": "python3"
  },
  "language_info": {
   "codemirror_mode": {
    "name": "ipython",
    "version": 3
   },
   "file_extension": ".py",
   "mimetype": "text/x-python",
   "name": "python",
   "nbconvert_exporter": "python",
   "pygments_lexer": "ipython3",
   "version": "3.8.8"
  }
 },
 "nbformat": 4,
 "nbformat_minor": 5
}
