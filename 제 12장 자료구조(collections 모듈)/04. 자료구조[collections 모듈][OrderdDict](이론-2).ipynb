{
 "cells": [
  {
   "cell_type": "markdown",
   "id": "ac2accd5",
   "metadata": {},
   "source": [
    "3. collections 모듈"
   ]
  },
  {
   "cell_type": "markdown",
   "id": "3f1ebff0",
   "metadata": {},
   "source": [
    "3) OrderedDict 모듈 \n",
    "   // 3.6버전 이상부터는 일반 딕셔너리도 순서를 가짐\n",
    "   // 하위 호환성이나 입력순서가 매우 중요하다면\n",
    "   // OrderedDict을 사용하는게 좋음.\n",
    "   \n",
    "   \n",
    "3) OrderedDict 모듈    \n",
    "    - OrderedDict 모듈은 이름 그대로 순서를 가진 딕셔너리 객체\n",
    "      이다. 앞에서 딕셔너리는 순서를 보장하지 않는 객체 라는 것을\n",
    "      언급하였다. 닥셔너리 파일을 저장하면 키는 저장 순서와\n",
    "      상관 없이 저장된다. 다음 코드를 보자."
   ]
  },
  {
   "cell_type": "code",
   "execution_count": 6,
   "id": "fda34991",
   "metadata": {},
   "outputs": [
    {
     "name": "stdout",
     "output_type": "stream",
     "text": [
      "x 100\n",
      "l 500\n",
      "y 200\n",
      "z 300\n",
      "q 400\n"
     ]
    }
   ],
   "source": [
    "d = {}\n",
    "d[\"x\"] = 100\n",
    "d[\"l\"] = 500\n",
    "d[\"y\"] = 200\n",
    "d[\"z\"] = 300\n",
    "d[\"q\"] = 400\n",
    "for k, v in d.items():\n",
    "    print(k,v)"
   ]
  },
  {
   "cell_type": "markdown",
   "id": "384a8388",
   "metadata": {},
   "source": [
    "3) OrderedDict 모듈 \n",
    "    - 이 코드의 결과는 컴퓨터마다 다를 수 있다.(3.6버전 미만)\n",
    "      하지만 OrderedDict는 키의 순서를 보장한다.\n",
    "      가장 기본적인 방법은 입력한 순서대로 결과를\n",
    "      출력하는 것이다."
   ]
  },
  {
   "cell_type": "code",
   "execution_count": 7,
   "id": "f1b434b7",
   "metadata": {},
   "outputs": [
    {
     "name": "stdout",
     "output_type": "stream",
     "text": [
      "x 100\n",
      "l 500\n",
      "y 200\n",
      "z 300\n",
      "q 400\n"
     ]
    }
   ],
   "source": [
    "from collections import OrderedDict\n",
    "d = OrderedDict()\n",
    "d[\"x\"] = 100\n",
    "d[\"l\"] = 500\n",
    "d[\"y\"] = 200\n",
    "d[\"z\"] = 300\n",
    "d[\"q\"] = 400\n",
    "for k, v in d.items():\n",
    "    print(k,v)"
   ]
  },
  {
   "cell_type": "markdown",
   "id": "afa24585",
   "metadata": {},
   "source": [
    "3) OrderedDict 모듈 \n",
    "    - 위 코드의 결과는 어떤 컴퓨터든 상관없이 순서대로\n",
    "      키 값 쌍이 출력된다.\n",
    "      \n",
    "    - 가장 많이 사용하는 경우는 딕셔너리로 데이터를 처리 시키나\n",
    "      값으로 데이터를 정렬할 때이다.\n",
    "      예를 들어, 키를 이용하여 주민등록 번호를 번호 순서대로\n",
    "      정렬한 후, 데이터를 출력할 수 있다."
   ]
  },
  {
   "cell_type": "code",
   "execution_count": 11,
   "id": "70361c63",
   "metadata": {},
   "outputs": [
    {
     "name": "stdout",
     "output_type": "stream",
     "text": [
      "l 500\n",
      "q 400\n",
      "x 100\n",
      "y 200\n",
      "z 300\n"
     ]
    }
   ],
   "source": [
    "# 3) OrderedDict 모듈 \n",
    "def sort_by_key(t):\n",
    "    return t[0]\n",
    "\n",
    "from collections import OrderedDict\n",
    "d = OrderedDict()\n",
    "d[\"x\"] = 100\n",
    "d[\"l\"] = 500\n",
    "d[\"y\"] = 200\n",
    "d[\"z\"] = 300\n",
    "d[\"q\"] = 400\n",
    "for k,y in OrderedDict(sorted(d.items(), key=sort_by_key)).items():\n",
    "    print(k,y)"
   ]
  },
  {
   "cell_type": "code",
   "execution_count": 16,
   "id": "bc2b4341",
   "metadata": {},
   "outputs": [
    {
     "name": "stdout",
     "output_type": "stream",
     "text": [
      "x 100\n",
      "y 200\n",
      "z 300\n",
      "q 400\n",
      "l 500\n"
     ]
    }
   ],
   "source": [
    "from collections import OrderedDict\n",
    "d = OrderedDict()\n",
    "d[\"x\"] = 100\n",
    "d[\"l\"] = 500\n",
    "d[\"y\"] = 200\n",
    "d[\"z\"] = 300\n",
    "d[\"q\"] = 400\n",
    "for k,y in OrderedDict(sorted(d.items(),key = lambda x : x[1])).items():\n",
    "    print(k,y)"
   ]
  },
  {
   "cell_type": "markdown",
   "id": "19fe5249",
   "metadata": {},
   "source": [
    "3) OrderedDict 모듈 \n",
    "    - 위의 코드의 결과는 딕셔너리의 값인 변수를 리스트 형태로\n",
    "      만든 다음, sorted()함수를 사용하여 정렬한다.\n",
    "      sorted(d.items(),key=sort_by_key)의 코드만 \n",
    "      따로 실행하면 다음 처럼 정렬되어 이차원 형태로 출력되는\n",
    "      값을 확인할수 있다."
   ]
  },
  {
   "cell_type": "code",
   "execution_count": 10,
   "id": "3f132961",
   "metadata": {},
   "outputs": [
    {
     "data": {
      "text/plain": [
       "[('l', 500), ('q', 400), ('x', 100), ('y', 200), ('z', 300)]"
      ]
     },
     "execution_count": 10,
     "metadata": {},
     "output_type": "execute_result"
    }
   ],
   "source": [
    "sorted(d.items(), key=sort_by_key)"
   ]
  },
  {
   "cell_type": "markdown",
   "id": "99435276",
   "metadata": {},
   "source": [
    "3) OrderedDict 모듈 \n",
    "    - 즉, 기존의 딕셔너리 변수를 리스트로 추출하고,\n",
    "      sorted() 함수로 키를 기준으로 정렬한 후,\n",
    "      다시 OrderedDict로 감싸주는 (wrapping)방식이다.\n",
    "      이렇게 하면 기존의 딕셔너리나 리스트의 순서를 지키면서\n",
    "      딕셔너리 형태로 관리 할 수 있게 되는 것이다."
   ]
  },
  {
   "cell_type": "markdown",
   "id": "f029055d",
   "metadata": {},
   "source": [
    "3) OrderedDict 모듈 \n",
    "    - 딕셔너리의 동등성 비교를 할 때는 데이터의 키와 값이 동일하다면\n",
    "      데이터의 순서가 무시 된다."
   ]
  },
  {
   "cell_type": "code",
   "execution_count": 17,
   "id": "dc7475b3",
   "metadata": {},
   "outputs": [
    {
     "name": "stdout",
     "output_type": "stream",
     "text": [
      "True\n"
     ]
    }
   ],
   "source": [
    "dic1 = {'A':1,'B':2,'c':3}\n",
    "dic2 = {'B':2,'A':1,'c':3}\n",
    "print(dic1 == dic2)"
   ]
  },
  {
   "cell_type": "markdown",
   "id": "f2d6e570",
   "metadata": {},
   "source": [
    "3) OrderedDict 모듈 \n",
    "    - OrderedDict 경우 데이터의 순서까지 고려해서 좀 더 엄격하게 \n",
    "      동등성 비교가 됩니다."
   ]
  },
  {
   "cell_type": "code",
   "execution_count": 18,
   "id": "6625713e",
   "metadata": {},
   "outputs": [
    {
     "name": "stdout",
     "output_type": "stream",
     "text": [
      "False\n"
     ]
    }
   ],
   "source": [
    "from collections import OrderedDict\n",
    "ordered_dic1 = OrderedDict({'A':1,'B':2,'c':3})\n",
    "ordered_dic2 = OrderedDict({'B':2,'A':1,'c':3})\n",
    "print(ordered_dic1 == ordered_dic2)"
   ]
  },
  {
   "cell_type": "markdown",
   "id": "ecc4d681",
   "metadata": {},
   "source": [
    "#24:53"
   ]
  },
  {
   "cell_type": "markdown",
   "id": "beec713c",
   "metadata": {},
   "source": []
  },
  {
   "cell_type": "markdown",
   "id": "c4f73e1f",
   "metadata": {},
   "source": []
  },
  {
   "cell_type": "markdown",
   "id": "af9026fa",
   "metadata": {},
   "source": []
  },
  {
   "cell_type": "markdown",
   "id": "66afb43f",
   "metadata": {},
   "source": []
  },
  {
   "cell_type": "markdown",
   "id": "17ea7de7",
   "metadata": {},
   "source": []
  },
  {
   "cell_type": "markdown",
   "id": "41608770",
   "metadata": {},
   "source": []
  }
 ],
 "metadata": {
  "kernelspec": {
   "display_name": "Python 3",
   "language": "python",
   "name": "python3"
  },
  "language_info": {
   "codemirror_mode": {
    "name": "ipython",
    "version": 3
   },
   "file_extension": ".py",
   "mimetype": "text/x-python",
   "name": "python",
   "nbconvert_exporter": "python",
   "pygments_lexer": "ipython3",
   "version": "3.8.8"
  }
 },
 "nbformat": 4,
 "nbformat_minor": 5
}
