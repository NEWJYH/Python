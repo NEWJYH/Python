{
 "cells": [
  {
   "cell_type": "markdown",
   "id": "23377055",
   "metadata": {},
   "source": [
    "제 12장 자료구조 - collections모듈"
   ]
  },
  {
   "cell_type": "markdown",
   "id": "59bb180d",
   "metadata": {},
   "source": [
    "3. collections 모듈"
   ]
  },
  {
   "cell_type": "markdown",
   "id": "f43b7e66",
   "metadata": {},
   "source": [
    "1) collections 모듈\n",
    "    - 파이썬의 내장 자료구조(built-in data structure)\n",
    "      모듈인 collections에 대해 알아보자.\n",
    "    \n",
    "    - Collections 모듈은 이미 앞에서 배운 다양한 자료구조인\n",
    "      리스트, 튜플, 딕셔너리 등을 확장하여 제작된 파이썬의\n",
    "      내장 모듈이다.\n",
    "      기존에 배웠던 자료구조보다 효율적이고 편리하다.\n",
    "      collections 모듈은 deque, OrderdDict,Defaultdict,\n",
    "      Counter, nametuple 등을 제공한다.\n",
    "      각 자료구조를 호출하는 코드는 다음과 같다."
   ]
  },
  {
   "cell_type": "code",
   "execution_count": 1,
   "id": "e56ec4b7",
   "metadata": {},
   "outputs": [],
   "source": [
    "from collections import deque\n",
    "from collections import OrderedDict\n",
    "from collections import defaultdict\n",
    "from collections import Counter\n",
    "from collections import namedtuple"
   ]
  },
  {
   "cell_type": "markdown",
   "id": "478c6c7b",
   "metadata": {},
   "source": [
    "2) deque 모듈\n",
    "    - deque(데크, double-ended queue) 모듈은\n",
    "      스택과 큐를 모두 지원하는 모듈이다.\n",
    "     \n",
    "    - deque를 사용하기 위해서는 리스트와 비슷한 형식으로\n",
    "      데이터를 저장해야 한다.\n",
    "      append() 함수를 사용하면 기존 리스트 처럼 데이터가\n",
    "      인덱스(index) 번호를 늘리면서 쌓이기 시작한다.\n",
    "      다음 코드를 확인해보자."
   ]
  },
  {
   "cell_type": "code",
   "execution_count": 13,
   "id": "fc37d6e3",
   "metadata": {},
   "outputs": [
    {
     "name": "stdout",
     "output_type": "stream",
     "text": [
      "['__add__', '__bool__', '__class__', '__contains__', '__copy__', '__delattr__', '__delitem__', '__dir__', '__doc__', '__eq__', '__format__', '__ge__', '__getattribute__', '__getitem__', '__gt__', '__hash__', '__iadd__', '__imul__', '__init__', '__init_subclass__', '__iter__', '__le__', '__len__', '__lt__', '__mul__', '__ne__', '__new__', '__reduce__', '__reduce_ex__', '__repr__', '__reversed__', '__rmul__', '__setattr__', '__setitem__', '__sizeof__', '__str__', '__subclasshook__', 'append', 'appendleft', 'clear', 'copy', 'count', 'extend', 'extendleft', 'index', 'insert', 'maxlen', 'pop', 'popleft', 'remove', 'reverse', 'rotate']\n"
     ]
    }
   ],
   "source": [
    "from collections import deque\n",
    "deque_list = deque()\n",
    "print(dir(deque_list))"
   ]
  },
  {
   "cell_type": "code",
   "execution_count": 14,
   "id": "369e8b04",
   "metadata": {},
   "outputs": [
    {
     "name": "stdout",
     "output_type": "stream",
     "text": [
      "deque([0, 1, 2, 3, 4])\n"
     ]
    }
   ],
   "source": [
    "for i in range(5):\n",
    "    deque_list.append(i)\n",
    "print(deque_list)"
   ]
  },
  {
   "cell_type": "markdown",
   "id": "6d6ecaee",
   "metadata": {},
   "source": [
    "2) deque 모듈\n",
    "    - 여기서 다음 코드와 같이 deque_list.pop()을 작성하면,\n",
    "      오른쪽 요소부터 하나씩 출력된다.\n",
    "      즉, 스택처럼 나중에 넣은 값부터 하나씩 추출할수 있다."
   ]
  },
  {
   "cell_type": "code",
   "execution_count": 15,
   "id": "db0bdc03",
   "metadata": {},
   "outputs": [
    {
     "name": "stdout",
     "output_type": "stream",
     "text": [
      "4\n",
      "3\n",
      "2\n",
      "deque([0, 1])\n"
     ]
    }
   ],
   "source": [
    "print(deque_list.pop())\n",
    "print(deque_list.pop())\n",
    "print(deque_list.pop())\n",
    "print(deque_list)"
   ]
  },
  {
   "cell_type": "markdown",
   "id": "82b09f8c",
   "metadata": {},
   "source": [
    "2) deque 모듈\n",
    "    - 그렇다면 deque에서 큐는 어떻게 사용할까?\n",
    "      pop(0)을 입력하면 실행될 것 같지만,\n",
    "      이 함수는 deque에서 작동하지 않는다.\n",
    "      대신 deque는 appendleft() 함수로 새로운 값을 \n",
    "      왼쪽부터 입력하게 하여 먼저 들어간 값부터\n",
    "      출력할수 있도록 할 수 있다.\n",
    "      이런 특징으로 양방향에서 데이터를 처리할 수가 있는 \n",
    "      자료구조인 것이다."
   ]
  },
  {
   "cell_type": "code",
   "execution_count": 21,
   "id": "d0dccbc1",
   "metadata": {},
   "outputs": [
    {
     "name": "stdout",
     "output_type": "stream",
     "text": [
      "deque([4, 3, 2, 1, 0])\n"
     ]
    }
   ],
   "source": [
    "from collections import deque\n",
    "deque_list = deque()\n",
    "for i in range(5):\n",
    "    deque_list.appendleft(i)\n",
    "print(deque_list)"
   ]
  },
  {
   "cell_type": "markdown",
   "id": "7357cee4",
   "metadata": {},
   "source": [
    "2) deque 모듈\n",
    "    - deque 모듈은 기존 리스트와 비교할 때 몇 가지 장점이 있다.\n",
    "      먼저, deque는 연결 리스트(Linked list)의 특성을 지원한다\n",
    "      연결 리스트는 데이터를 저장할 때 요소의 값을 한 쪽으로\n",
    "      연결한 후, 요소의 다음 값의 주소값을 저장하여\n",
    "      데이터를 연결하는 기법이다.\n",
    "      아래 그림과 같이 데이터가 저장된다.\n",
    "      \n",
    "      헤드 ->   |12(0) : 테일 | -> |56(1) :테일| -> (0)"
   ]
  },
  {
   "cell_type": "markdown",
   "id": "66301b67",
   "metadata": {},
   "source": [
    "2) deque 모듈\n",
    "    - 연결 리스트는 우측 그림처럼 다음 요소의 주소값을 저장하므로\n",
    "      데이터를 원형으로 저장할 수 있다.\n",
    "      또한, 마지막 요소에 첫 번째 값의 주소를 저장한다면 \n",
    "      해당 값을 찾아 갈 수 있다.\n",
    "      이러한 특징 때문에 가능한 기능중 하나가 rotate() 함수이다\n",
    "      \n",
    "    - rotate()는 기존 deque에 저장된 요소들의 값 \n",
    "      인덱스를 바꾸는 기법이다.\n",
    "      연결 리스트는 양 쪽 끝의 요소들을 연결할 수 있으므로\n",
    "      원형 데이터 구조를 가질 수 있다.\n",
    "      이러한 특징을 이용하여 각 요소의 인덱스 번호를 하나씩 \n",
    "      옮긴다면 실제로 요소를 옮기지 않더라도 \n",
    "      인덱스 번호를 바꿀 수 있다."
   ]
  },
  {
   "cell_type": "code",
   "execution_count": 29,
   "id": "58635e16",
   "metadata": {},
   "outputs": [
    {
     "name": "stdout",
     "output_type": "stream",
     "text": [
      "deque([4, 3, 2, 1, 0])\n",
      "deque([0, 4, 3, 2, 1])\n",
      "deque([4, 3, 2, 1, 0])\n",
      "deque([4, 3, 2, 1, 0])\n",
      "deque([0, 4, 3, 2, 1])\n",
      "deque([2, 1, 0, 4, 3])\n"
     ]
    }
   ],
   "source": [
    "from collections import deque\n",
    "deque_list = deque()\n",
    "for i in range(5):\n",
    "    deque_list.appendleft(i)\n",
    "print(deque_list)\n",
    "\n",
    "# rotate() \n",
    "deque_list.rotate()\n",
    "print(deque_list) # 마지막값 앞으로 들어옴\n",
    "deque_list.rotate(-1)\n",
    "print(deque_list) # 다시 마지막값 뒤로 감\n",
    "deque_list.rotate(0) \n",
    "print(deque_list)# 그대로임\n",
    "deque_list.rotate(1)# 마지막값 앞으로 이동 0번 1번으로\n",
    "print(deque_list)\n",
    "deque_list.rotate(2) \n",
    "print(deque_list)# 2개 앞으로 들어옴"
   ]
  },
  {
   "cell_type": "markdown",
   "id": "33705c31",
   "metadata": {},
   "source": [
    "2) deque 모듈\n",
    "    - 다음 코드를 살펴보면, 기존 데이터에 rotate(2) 함수를 \n",
    "      입력하니 1과 0의 값이 두 칸 씩 이동하여 0번째, 1번째\n",
    "      인덱스로 옮겨진것을 확인할 수 있다.\n",
    "      다시 rotate(2)를 사용하면 3과 2가 0번째, 1번째 \n",
    "      인덱스로 이동한다."
   ]
  },
  {
   "cell_type": "code",
   "execution_count": 47,
   "id": "31f26830",
   "metadata": {},
   "outputs": [
    {
     "name": "stdout",
     "output_type": "stream",
     "text": [
      "deque([4, 3, 2, 1, 0])\n",
      "deque([4, 3, 2, 1, 0])\n",
      "deque([1, 0, 4, 3, 2])\n",
      "deque([3, 2, 1, 0, 4])\n",
      "deque([4, 3, 2, 1, 0])\n"
     ]
    }
   ],
   "source": [
    "from collections import deque\n",
    "deque_list = deque()\n",
    "for i in range(5):\n",
    "    deque_list.appendleft(i)\n",
    "print(deque_list) # deque([4, 3, 2, 1, 0])\n",
    "# rotate() 함수 실습\n",
    "d = deque_list\n",
    "print(d) # deque([4, 3, 2, 1, 0])\n",
    "\n",
    "d.rotate(2)\n",
    "print(d) # deque([1, 0, 4, 3, 2])\n",
    "d.rotate(2)\n",
    "print(d) # deque([3, 2, 1, 0, 4])\n",
    "\n",
    "d.rotate(-4)\n",
    "print(d) # deque([4, 3, 2, 1, 0])\n",
    "# rotate(n)은 요소들(elements)을 n값 만큼 회전 해주는 메소드이다.\n",
    "# n의 값이 음수이면 (negative) 왼쪽으로 회전하고,\n",
    "# n의 값이 양수이면 오른쪽으로 회전한다.\n",
    "# rotate() n = 1 이 디폴트이고 0을 넣을시 아무 반응없다."
   ]
  },
  {
   "cell_type": "markdown",
   "id": "0e89f455",
   "metadata": {},
   "source": [
    "2) deque 모듈\n",
    "    - 이외에도 deque 모듈은 다양한 기능을 제공한다.\n",
    "      예를 들어서 reversed()함수를 사용하여\n",
    "      기존과 반대로 데이터를 저장할 수 있다."
   ]
  },
  {
   "cell_type": "code",
   "execution_count": 44,
   "id": "4a0fc10f",
   "metadata": {},
   "outputs": [
    {
     "name": "stdout",
     "output_type": "stream",
     "text": [
      "deque([0, 1, 2, 3, 4])\n"
     ]
    }
   ],
   "source": [
    "print(deque(reversed(deque_list)))"
   ]
  },
  {
   "cell_type": "markdown",
   "id": "0bf018fb",
   "metadata": {},
   "source": [
    "2) deque 모듈\n",
    "    - 또한, deque 모듈은 기존의 리스트에서 지원하는 함수도 \n",
    "      지원한다. extend()나 extendleft()함수를 사용하면,\n",
    "      리스트가 통째로 오른쪽이나 왼쪽으로 추가된다."
   ]
  },
  {
   "cell_type": "code",
   "execution_count": 50,
   "id": "ae69f3ce",
   "metadata": {},
   "outputs": [
    {
     "name": "stdout",
     "output_type": "stream",
     "text": [
      "deque([0, 1, 2, 3, 4, 5, 6, 7])\n",
      "deque([0, 1, 2, 3, 4, 5, 6, 7, 5, 6, 7])\n",
      "deque([-1, -2, -3, 0, 1, 2, 3, 4, 5, 6, 7, 5, 6, 7])\n"
     ]
    }
   ],
   "source": [
    "print(deque_list)\n",
    "deque_list.extend([5,6,7])\n",
    "print(deque_list)\n",
    "deque_list.extendleft([-3,-2,-1])\n",
    "print(deque_list)"
   ]
  },
  {
   "cell_type": "markdown",
   "id": "c8002691",
   "metadata": {},
   "source": [
    "2) deque 모듈\n",
    "    - 마지막으로 deque 모듈은 메모리 효율적 사용과 빠른 속도라는\n",
    "      측면에서 유용하다.\n",
    "      앞에서 제시한 여러가지 함수는 기존 리스트에서도 모두\n",
    "      사용할 수 있다. 그러나 이미 만들어진 deque의 메모리 저장\n",
    "      방식으로 인해 사용자가 조금 더 효율적으로 데이터를\n",
    "      저장하고 삭제할 수 있다.\n",
    "      \n",
    "    - 대용량의 큐나 스택을 처리할 일이 있다면 deque의 사용을\n",
    "      권장한다."
   ]
  }
 ],
 "metadata": {
  "kernelspec": {
   "display_name": "Python 3",
   "language": "python",
   "name": "python3"
  },
  "language_info": {
   "codemirror_mode": {
    "name": "ipython",
    "version": 3
   },
   "file_extension": ".py",
   "mimetype": "text/x-python",
   "name": "python",
   "nbconvert_exporter": "python",
   "pygments_lexer": "ipython3",
   "version": "3.8.8"
  }
 },
 "nbformat": 4,
 "nbformat_minor": 5
}
