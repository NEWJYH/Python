{
 "cells": [
  {
   "cell_type": "code",
   "execution_count": 4,
   "id": "5f46a838",
   "metadata": {},
   "outputs": [
    {
     "name": "stdout",
     "output_type": "stream",
     "text": [
      "a 100\n",
      "b 200\n",
      "c 300\n",
      "d 400\n",
      "e 500\n"
     ]
    }
   ],
   "source": [
    "# OrderedDict 모듈 이름 그대로 순서를 가지는 딕셔너리 객체이다.\n",
    "# 원래, 딕셔너리는 순서를 보장하지 않는 객체이다.\n",
    "\n",
    "# 일반적인 딕셔너리 테스트\n",
    "# 일반적인 딕셔너리는 순서를 보장하지 않음\n",
    "# 그 이유는 딕셔너리는 인덱스가 없기 때문이다.\n",
    "# 파이썬 버전이 3.6이상이 됨으로써 일반 딕셔너리가 입력된 순서대로\n",
    "# 정확하게 출력이 되고 있다.\n",
    "# 하지만 파이썬 버전이 2.x 에서는 순서가\n",
    "# 중구난방으로 나오고 잇는 것을 파이썬 튜터를 통하여 확인해 보았다.\n",
    "# 3.8부터는 OrderedDict와 같이 동작함.\n",
    "dic = {}\n",
    "dic[\"a\"] = 100\n",
    "dic[\"b\"] = 200\n",
    "dic[\"c\"] = 300\n",
    "dic[\"d\"] = 400\n",
    "dic[\"e\"] = 500\n",
    "\n",
    "for k,v in dic.items():\n",
    "    print(k,v)"
   ]
  },
  {
   "cell_type": "code",
   "execution_count": 6,
   "id": "925cd39b",
   "metadata": {},
   "outputs": [
    {
     "name": "stdout",
     "output_type": "stream",
     "text": [
      "a 100\n",
      "b 200\n",
      "c 300\n",
      "d 400\n",
      "e 500\n"
     ]
    }
   ],
   "source": [
    "# OrderedDict는 딕셔너리의 순서와 동등성 비교를 개선한 모듈이다.\n",
    "\n",
    "from collections import OrderedDict\n",
    "\n",
    "dic = OrderedDict()\n",
    "dic[\"a\"] = 100\n",
    "dic[\"b\"] = 200\n",
    "dic[\"c\"] = 300\n",
    "dic[\"d\"] = 400\n",
    "dic[\"e\"] = 500\n",
    "\n",
    "for k,v in dic.items():\n",
    "    print(k,v)"
   ]
  },
  {
   "cell_type": "code",
   "execution_count": 17,
   "id": "73391123",
   "metadata": {},
   "outputs": [
    {
     "name": "stdout",
     "output_type": "stream",
     "text": [
      "<class 'list'>\n",
      "['a', 'b', 'c', 'd', 'e']\n",
      "[100, 200, 300, 400, 500]\n",
      "400\n"
     ]
    }
   ],
   "source": [
    "# 일반 딕셔너리를 정렬하여 OrderedDict로 포장하기\n",
    "dic = {}\n",
    "dic[\"d\"] = 100\n",
    "dic[\"c\"] = 200\n",
    "dic[\"b\"] = 300\n",
    "dic[\"a\"] = 400\n",
    "dic[\"e\"] = 500\n",
    "# 키의 값으로 정렬을 해봄\n",
    "li1 = sorted(dic.keys())\n",
    "li2 = sorted(dic.values())\n",
    "print(type(li1))\n",
    "print(li1)\n",
    "print(li2)\n",
    "print(dic[\"a\"])"
   ]
  },
  {
   "cell_type": "code",
   "execution_count": 28,
   "id": "4e770193",
   "metadata": {},
   "outputs": [
    {
     "name": "stdout",
     "output_type": "stream",
     "text": [
      "b 100\n",
      "c 300\n",
      "d 400\n",
      "a 500\n"
     ]
    }
   ],
   "source": [
    "from collections import OrderedDict\n",
    "\n",
    "# 넘어 오는 키의 값은 딕셔너리의 요소이다.\n",
    "# 하여 0번째 인덱스는 키 값이 될 것이다.\n",
    "def sort_by_key(t):\n",
    "    return t[0]\n",
    "\n",
    "dic = {}\n",
    "dic[\"c\"] = 300\n",
    "dic[\"a\"] = 500\n",
    "dic[\"d\"] = 400\n",
    "dic[\"b\"] = 100\n",
    "\n",
    "# li1 = sorted(dic.items(), key = sort_by_key)\n",
    "#print(li1)\n",
    "\n",
    "# 일반 딕셔너리의 내용을 sorted() 를 이용하여 정렬을 하면 \n",
    "# 키를 기준으로 정렬된 리스트가 리턴된다.\n",
    "# OrderedDict()로 포장(wrapping)을 하고 있다.\n",
    "# 기존의 딕셔너리나 리스트의 순서를 지키면서 딕셔너리의 형태로\n",
    "# 관리를 할수가 있다.\n",
    "\n",
    "for k, v in OrderedDict(sorted(dic.items(), key = sort_by_key)).items():\n",
    "    print(k,v)"
   ]
  }
 ],
 "metadata": {
  "kernelspec": {
   "display_name": "Python 3",
   "language": "python",
   "name": "python3"
  },
  "language_info": {
   "codemirror_mode": {
    "name": "ipython",
    "version": 3
   },
   "file_extension": ".py",
   "mimetype": "text/x-python",
   "name": "python",
   "nbconvert_exporter": "python",
   "pygments_lexer": "ipython3",
   "version": "3.8.8"
  }
 },
 "nbformat": 4,
 "nbformat_minor": 5
}
