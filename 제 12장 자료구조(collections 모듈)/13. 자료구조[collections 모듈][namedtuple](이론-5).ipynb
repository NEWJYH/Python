{
 "cells": [
  {
   "cell_type": "markdown",
   "id": "eb42a0d1",
   "metadata": {},
   "source": [
    "3. collections 모듈"
   ]
  },
  {
   "cell_type": "markdown",
   "id": "2285e46d",
   "metadata": {},
   "source": [
    "6) namedtuple 모듈\n",
    "    - namedtuple 모듈은 튜플의 형태로 데이터 구조체를 저장하는\n",
    "      방법이다. 어떤 특정 데이터는 저마다 규정된 정보가 있다.\n",
    "      예를 들어, 학생이라는정보를 컴퓨터에 저장하기 위해\n",
    "      몇가지 변수(학번,이름,학년,학과 등)가 있다.\n",
    "      이러한 정보를 하나의 리스트로 만들어 이차원 리스트 형태로 \n",
    "      구성해도 될 것이다.\n",
    "      그러나 이 경우 나중에 리스트를 다른 사람이 사용한다면\n",
    "      누구의 정보인지 모르는 경우가 발생하여 사용이 어려울 수 있다\n",
    "      그래서 이러한 정보를 하나의 튜플 형태로 구성해\n",
    "      손쉰게 사용할수 있는 자료구조가 namedtuple이다.\n",
    "      C같은 언어에서는 struct라는 이름으로 사용되고 있다."
   ]
  },
  {
   "cell_type": "code",
   "execution_count": 2,
   "id": "a7861d79",
   "metadata": {},
   "outputs": [
    {
     "name": "stdout",
     "output_type": "stream",
     "text": [
      "John은 28세의 남성 입니다\n",
      "sally은 24세의 여성 입니다\n"
     ]
    }
   ],
   "source": [
    "# 일반 tuple()의 경우\n",
    "a = (\"John\",28,\"남\")\n",
    "b = (\"sally\",24,\"여\")\n",
    "for n in [a,b]:\n",
    "    print(f\"{n[0]}은 {n[1]}세의 {n[2]}성 입니다\")"
   ]
  },
  {
   "cell_type": "code",
   "execution_count": 11,
   "id": "b726d19c",
   "metadata": {},
   "outputs": [
    {
     "name": "stdout",
     "output_type": "stream",
     "text": [
      "Jhon 28 남\n",
      "Sally 28 여\n"
     ]
    }
   ],
   "source": [
    "from collections import namedtuple\n",
    "Person = namedtuple(\"Person\",\"name age gender\")\n",
    "P1 = Person(name=\"Jhon\",age=28,gender=\"남\")\n",
    "P2 = Person(name=\"Sally\",age=28,gender=\"여\")\n",
    "for n in [P1,P2]:\n",
    "    print(n.name,n.age,n.gender)\n",
    "    \n",
    "a = namedtuple(\"typename\",\"field_names\")"
   ]
  },
  {
   "cell_type": "markdown",
   "id": "afc505f8",
   "metadata": {},
   "source": [
    "6) namedtuple 모듈\n",
    "    - collections.namedtuple()의 _make()함수는 기존에 생성된\n",
    "      namedtuple()에 새로운 인스턴스(객체)를 생성하는 메소드이다."
   ]
  },
  {
   "cell_type": "code",
   "execution_count": 15,
   "id": "f54c8a8f",
   "metadata": {},
   "outputs": [
    {
     "name": "stdout",
     "output_type": "stream",
     "text": [
      "jhon은 28세의 남성 입니다.\n",
      "sally은 28세의 여성 입니다.\n",
      "Tom은 24세의 남성 입니다.\n"
     ]
    },
    {
     "data": {
      "text/plain": [
       "['__add__',\n",
       " '__class__',\n",
       " '__contains__',\n",
       " '__delattr__',\n",
       " '__dir__',\n",
       " '__doc__',\n",
       " '__eq__',\n",
       " '__format__',\n",
       " '__ge__',\n",
       " '__getattribute__',\n",
       " '__getitem__',\n",
       " '__getnewargs__',\n",
       " '__gt__',\n",
       " '__hash__',\n",
       " '__init__',\n",
       " '__init_subclass__',\n",
       " '__iter__',\n",
       " '__le__',\n",
       " '__len__',\n",
       " '__lt__',\n",
       " '__module__',\n",
       " '__mul__',\n",
       " '__ne__',\n",
       " '__new__',\n",
       " '__reduce__',\n",
       " '__reduce_ex__',\n",
       " '__repr__',\n",
       " '__rmul__',\n",
       " '__setattr__',\n",
       " '__sizeof__',\n",
       " '__slots__',\n",
       " '__str__',\n",
       " '__subclasshook__',\n",
       " '_asdict',\n",
       " '_field_defaults',\n",
       " '_fields',\n",
       " '_fields_defaults',\n",
       " '_make',\n",
       " '_replace',\n",
       " 'age',\n",
       " 'count',\n",
       " 'gender',\n",
       " 'index',\n",
       " 'name']"
      ]
     },
     "execution_count": 15,
     "metadata": {},
     "output_type": "execute_result"
    }
   ],
   "source": [
    "from collections import namedtuple\n",
    "Person = namedtuple(\"Person\",\"name age gender\")\n",
    "p1 = Person(name=\"jhon\",age = 28, gender=\"남\")\n",
    "p2 = Person(name=\"sally\",age = 28, gender=\"여\")\n",
    "\n",
    "# make()를 이용하여 새로운 객체 생성\n",
    "p3 = Person._make([\"Tom\",24,\"남\"])\n",
    "\n",
    "for n in [p1,p2,p3]:\n",
    "    print(f\"{n.name}은 {n.age}세의 {n.gender}성 입니다.\")\n",
    "    \n",
    "dir(p3)"
   ]
  },
  {
   "cell_type": "markdown",
   "id": "e763b78c",
   "metadata": {},
   "source": [
    "6) namedtuple 모듈\n",
    "    - collections.namedtuple()의 _replace()함수는\n",
    "      인스턴스(객체)의 값을 변경할 때 사용하는 함수이다."
   ]
  },
  {
   "cell_type": "code",
   "execution_count": 21,
   "id": "edace170",
   "metadata": {},
   "outputs": [
    {
     "name": "stdout",
     "output_type": "stream",
     "text": [
      "존은 28세의 남성 입니다.\n",
      "카터은 24세의 남성 입니다.\n",
      "쉔은 28세의 여성 입니다.\n",
      "Nao은 28세의 남성 입니다.\n",
      "카터은 27세의 남성 입니다.\n",
      "쉔은 23세의 여성 입니다.\n"
     ]
    }
   ],
   "source": [
    "from collections import *\n",
    "Person = namedtuple(\"Person\",\"name age gender\")\n",
    "p1 = Person._make([\"존\",28,\"남\"])\n",
    "p2 = Person._make([\"카터\",24,\"남\"])\n",
    "p3 = Person._make([\"쉔\",28,\"여\"])\n",
    "for n in [p1,p2,p3]:\n",
    "    print(f\"{n.name}은 {n.age}세의 {n.gender}성 입니다.\")\n",
    "    \n",
    "p1 = p1._replace(name=\"Nao\")\n",
    "p2 = p2._replace(age=27)\n",
    "p3 = p3._replace(age=23)\n",
    "for n in [p1,p2,p3]:\n",
    "    print(f\"{n.name}은 {n.age}세의 {n.gender}성 입니다.\")"
   ]
  },
  {
   "cell_type": "markdown",
   "id": "2bdc53c4",
   "metadata": {},
   "source": [
    "6) namedtuple 모듈\n",
    "    - collections.namedtuple()의 _fields는 생성된\n",
    "      namedtuple()의 필드명(field_names)를 tuple() 형식으로\n",
    "      return 해준다."
   ]
  },
  {
   "cell_type": "code",
   "execution_count": 23,
   "id": "5db9e348",
   "metadata": {},
   "outputs": [
    {
     "name": "stdout",
     "output_type": "stream",
     "text": [
      "존은 28세의 남성 입니다.\n",
      "캐디은 23세의 여성 입니다.\n",
      "쉔은 23세의 여성 입니다.\n",
      "('name', 'age', 'gender')\n"
     ]
    }
   ],
   "source": [
    "from collections import namedtuple\n",
    "Person = namedtuple(\"Person\",\"name age gender\")\n",
    "p1 = Person._make([\"존\",28,\"남\"])\n",
    "p2 = Person._make([\"캐디\",23,\"여\"])\n",
    "for n in [p1,p2,p3]:\n",
    "    print(f\"{n.name}은 {n.age}세의 {n.gender}성 입니다.\")\n",
    "# fields를 이용하여 필드명 출력\n",
    "print(p1._fields)"
   ]
  },
  {
   "cell_type": "markdown",
   "id": "79b8c837",
   "metadata": {},
   "source": [
    "6) namedtuple 모듈\n",
    "    - getattr()는 namedtuple()의 메소드는 아니지만,\n",
    "      field_names로 namedtuple()의 인스턴스(객체)의 값을 \n",
    "      추출해준다."
   ]
  },
  {
   "cell_type": "code",
   "execution_count": 28,
   "id": "93215944",
   "metadata": {},
   "outputs": [
    {
     "name": "stdout",
     "output_type": "stream",
     "text": [
      "존은 28세의 남성 입니다.\n",
      "캐디은 23세의 여성 입니다.\n",
      "쉔은 23세의 여성 입니다.\n",
      "getattr 함수 사용\n",
      "존\n"
     ]
    }
   ],
   "source": [
    "p1 = Person._make([\"존\",28,\"남\"])\n",
    "p2 = Person._make([\"캐디\",23,\"여\"])\n",
    "for n in [p1,p2,p3]:\n",
    "    print(f\"{n.name}은 {n.age}세의 {n.gender}성 입니다.\")\n",
    "\n",
    "print(\"getattr 함수 사용\")\n",
    "print(getattr(p1,\"name\"))"
   ]
  },
  {
   "cell_type": "markdown",
   "id": "c6ddd380",
   "metadata": {},
   "source": [
    "6) namedtuple 모듈\n",
    "    - namedtuple()dml double-star-operator(**)는\n",
    "      딕셔너리(dict)를 namedtuple()로 변환해준다."
   ]
  },
  {
   "cell_type": "code",
   "execution_count": 29,
   "id": "711b96ab",
   "metadata": {},
   "outputs": [
    {
     "name": "stdout",
     "output_type": "stream",
     "text": [
      "존은 18세의 남성 입니다.\n",
      "케디은 19세의 여성 입니다.\n",
      "Tom은 18세의 남성 입니다.\n"
     ]
    }
   ],
   "source": [
    "from collections import namedtuple\n",
    "Person = namedtuple(\"Person\",\"name age gender\")\n",
    "p1 = Person._make([\"존\",18,\"남\"])\n",
    "p2 = Person._make([\"케디\",19,\"여\"])\n",
    "# double-star-operator\n",
    "dic = {\"name\":\"Tom\",\"age\":18,\"gender\":\"남\"}\n",
    "p3 = Person(**dic)\n",
    "\n",
    "for n in [p1,p2,p3]:\n",
    "    print(f\"{n.name}은 {n.age}세의 {n.gender}성 입니다.\")\n",
    "   \n"
   ]
  },
  {
   "cell_type": "markdown",
   "id": "8b3455e8",
   "metadata": {},
   "source": [
    "6) namedtuple 모듈\n",
    "    - 지금까지 다양한 종류의 collections 모듈에 대해 학습하였다.\n",
    "      파이썬을 처음 배운다면 collections 모듈을 자유자재로\n",
    "      사용하기 쉽지 않다.\n",
    "      하지만 collections 모듈은 난이도가 올라갈수록 많이 사용하는\n",
    "      모듈이다. 다양한 사용법과 사용 사례에 대해 익혀두면\n",
    "      엄청난 도움이 될 것이다."
   ]
  }
 ],
 "metadata": {
  "kernelspec": {
   "display_name": "Python 3",
   "language": "python",
   "name": "python3"
  },
  "language_info": {
   "codemirror_mode": {
    "name": "ipython",
    "version": 3
   },
   "file_extension": ".py",
   "mimetype": "text/x-python",
   "name": "python",
   "nbconvert_exporter": "python",
   "pygments_lexer": "ipython3",
   "version": "3.8.8"
  }
 },
 "nbformat": 4,
 "nbformat_minor": 5
}
