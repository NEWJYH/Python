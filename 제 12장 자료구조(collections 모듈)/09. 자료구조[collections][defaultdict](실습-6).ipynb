{
 "cells": [
  {
   "cell_type": "code",
   "execution_count": 34,
   "id": "20f7048e",
   "metadata": {},
   "outputs": [
    {
     "name": "stdout",
     "output_type": "stream",
     "text": [
      "defaultdict(<class 'list'>, {})\n",
      "defaultdict(<class 'list'>, {2: ['감자', '사과'], 1: ['귤', '배'], 3: ['오징어', '꼼장어'], 4: ['불가사리']})\n",
      "[(1, ['귤', '배']), (2, ['감자', '사과']), (3, ['오징어', '꼼장어']), (4, ['불가사리'])]\n"
     ]
    }
   ],
   "source": [
    "# defaultdict\n",
    "# 함수를 이용하여 각 알파벳의 글자의 수를 세어서 저장을 하고\n",
    "# 딕셔너리를 리턴하는 코드를 보자.\n",
    "from collections import defaultdict\n",
    "\n",
    "def counterWords(words):\n",
    "    grouper = defaultdict(list)\n",
    "    print(grouper)\n",
    "    for word in words:\n",
    "        length = len(word)\n",
    "        grouper[length].append(word)\n",
    "    print(grouper)\n",
    "    return sorted(grouper.items(), key = lambda x : x[0])\n",
    "  \n",
    "    \n",
    "if __name__==\"__main__\":\n",
    "    li1 = [\"감자\",\"귤\",\"사과\",\"배\",\"오징어\",\"꼼장어\",\"불가사리\"]\n",
    "    k = counterWords(li1)\n",
    "    print(k)"
   ]
  },
  {
   "cell_type": "code",
   "execution_count": 35,
   "id": "2a6209d4",
   "metadata": {},
   "outputs": [
    {
     "name": "stdout",
     "output_type": "stream",
     "text": [
      "defaultdict(<class 'set'>, {})\n",
      "defaultdict(<class 'set'>, {7: {'사우디아라비아'}, 2: {'한국', '미국'}, 3: {'스페인'}, 6: {'우즈베키스탄'}})\n",
      "OrderedDict([(2, {'한국', '미국'}), (3, {'스페인'}), (6, {'우즈베키스탄'}), (7, {'사우디아라비아'})])\n"
     ]
    }
   ],
   "source": [
    "# 함수를 이용하여 각 알파벳의 글자의 수를 세어서 키로 저장을 하고\n",
    "# 딕셔너리를 리턴하는 코드를 보자.(set)\n",
    "from collections import defaultdict, OrderedDict\n",
    "\n",
    "def counterWords(words):\n",
    "    grouper = defaultdict(set)\n",
    "    print(grouper)\n",
    "    for word in words:\n",
    "        length = len(word)\n",
    "        grouper[length].add(word)\n",
    "    print(grouper)\n",
    "    \n",
    "    return OrderedDict(sorted(grouper.items(), key = lambda x : x[0]))\n",
    "  \n",
    "    \n",
    "if __name__==\"__main__\":\n",
    "    set1 = set()\n",
    "    set1.add(\"한국\")\n",
    "    set1.add(\"미국\")    \n",
    "    set1.add(\"우즈베키스탄\")\n",
    "    set1.add(\"사우디아라비아\")\n",
    "    set1.add(\"스페인\") \n",
    "    dic1 = counterWords(set1)\n",
    "    print(dic1)\n",
    "        "
   ]
  },
  {
   "cell_type": "code",
   "execution_count": 36,
   "id": "c11ddb68",
   "metadata": {},
   "outputs": [
    {
     "name": "stdout",
     "output_type": "stream",
     "text": [
      "defaultdict(<class 'list'>, {'Yellow': [1, 1], 'Blue': [2, 4], 'Green': [3], 'red': [1]})\n"
     ]
    }
   ],
   "source": [
    "# defaultdict에 초기값을 리스트 형태로 만드는 실습\n",
    "from collections import defaultdict\n",
    "\n",
    "li1 = [(\"Yellow\", 1),(\"Blue\", 2),(\"Green\", 3),(\"Blue\", 4),(\"red\", 1),(\"Yellow\", 1)]\n",
    "dic1 = defaultdict(list)\n",
    "for k,v in li1:\n",
    "    dic1[k].append(v)\n",
    "print(dic1)"
   ]
  }
 ],
 "metadata": {
  "kernelspec": {
   "display_name": "Python 3",
   "language": "python",
   "name": "python3"
  },
  "language_info": {
   "codemirror_mode": {
    "name": "ipython",
    "version": 3
   },
   "file_extension": ".py",
   "mimetype": "text/x-python",
   "name": "python",
   "nbconvert_exporter": "python",
   "pygments_lexer": "ipython3",
   "version": "3.8.8"
  }
 },
 "nbformat": 4,
 "nbformat_minor": 5
}
