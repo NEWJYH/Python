{
 "cells": [
  {
   "cell_type": "code",
   "execution_count": 5,
   "id": "c4a1c516",
   "metadata": {},
   "outputs": [
    {
     "name": "stdout",
     "output_type": "stream",
     "text": [
      "['h', 'i', ' ', 's', 'c', 'h', 'o', 'o', 'l']\n",
      "<class 'list'>\n",
      "<class 'collections.Counter'>\n",
      "Counter({'h': 2, 'o': 2, 'i': 1, ' ': 1, 's': 1, 'c': 1, 'l': 1})\n",
      "2\n"
     ]
    }
   ],
   "source": [
    "# Counter 모듈\n",
    "# 시퀀스 자료형의 데이터의 값의 개수를 딕셔너리 형태로 반환\n",
    "# 해주는 자료구조이다.\n",
    "# 같은 값이 몇 개가 존재하는지 쉽게 알아보고자 할 때\n",
    "# 사용하면 편리하다.\n",
    "\n",
    "from collections import Counter\n",
    "# 문자열을 가지고 리스트를 생성함\n",
    "text = list(\"hi school\")\n",
    "print(text)\n",
    "print(type(text))\n",
    "# Counter 객체를 만드는데 인자값으로 리스트형을 주었다.\n",
    "count = Counter(text)\n",
    "print(type(count))\n",
    "print(count)\n",
    "# 시퀀스 자료형에서 어떤 특수 문자의 개수를 알고 싶을 때도\n",
    "# 사용하면 된다.\n",
    "print(count[\"h\"])"
   ]
  },
  {
   "cell_type": "code",
   "execution_count": 14,
   "id": "3eb691c5",
   "metadata": {},
   "outputs": [
    {
     "name": "stdout",
     "output_type": "stream",
     "text": [
      "Counter({'c': 5, 'a': 3, 'b': 2})\n",
      "['a', 'a', 'a', 'b', 'b', 'c', 'c', 'c', 'c', 'c']\n"
     ]
    }
   ],
   "source": [
    "# Counter() 객체를 만들 때, 값 = 개수 와 같은 형태로 입력도 \n",
    "# 가능하다.\n",
    "count = Counter(b=2,c=5,a=3)\n",
    "print(count)\n",
    "# elements()는 Counter로 주어진 값의 요소에 해당하는 값을 풀어서\n",
    "# 반환을 한다.\n",
    "# 요소는 무작위적으로 반환하며 \n",
    "# 요소의 수가 1보다 작을 경우에는 elements()는 이를\n",
    "# 출력하지 않는다.\n",
    "# 대소문자를 구별하며, sorted()메서드로 정렬이 되어진다.\n",
    "print(sorted(count.elements()))"
   ]
  },
  {
   "cell_type": "code",
   "execution_count": 17,
   "id": "81e50dce",
   "metadata": {},
   "outputs": [
    {
     "name": "stdout",
     "output_type": "stream",
     "text": [
      "Counter({'나': 5, '가': 3})\n",
      "Counter({'나': 5, '가': 4})\n"
     ]
    }
   ],
   "source": [
    "count = Counter({\"가\":3,\"나\":5})\n",
    "print(count)\n",
    "count[\"가\"] += 1\n",
    "print(count)"
   ]
  },
  {
   "cell_type": "code",
   "execution_count": null,
   "id": "788ab210",
   "metadata": {},
   "outputs": [],
   "source": [
    "# 값 = 개수 형태로 Counter객체를 만들 때는 문자열은 \n",
    "# 매개변수로 쓸수가 없다.\n",
    "# 문자열 자체를 매개변수로 넣어 주는 것은 아래와 같이 가능하다.\n",
    "count = Counter(\"가나다라마바사\")\n",
    "print(count)"
   ]
  },
  {
   "cell_type": "code",
   "execution_count": 21,
   "id": "ae63a7d5",
   "metadata": {},
   "outputs": [
    {
     "name": "stdout",
     "output_type": "stream",
     "text": [
      "['abcdefg', 'abcdefg', 'repeat', 'count!', 'you', 'can', 'do', 'it', 'nice', 'to', 'meet', 'you.', 'a', 'counttelephone']\n",
      "Counter({'abcdefg': 2, 'repeat': 1, 'count!': 1, 'you': 1, 'can': 1, 'do': 1, 'it': 1, 'nice': 1, 'to': 1, 'meet': 1, 'you.': 1, 'a': 1, 'counttelephone': 1})\n"
     ]
    }
   ],
   "source": [
    "text =\"abcdefg abcdefg repeat count! you can do it nice to meet you. A count\"\n",
    "text += \"telephone\"\n",
    "text = text.lower().split()\n",
    "# lower()소문자로, split() 공백으로 나눠진 리스트로\n",
    "print(text)\n",
    "print(Counter(text))"
   ]
  },
  {
   "cell_type": "code",
   "execution_count": 34,
   "id": "e200e12f",
   "metadata": {},
   "outputs": [
    {
     "name": "stdout",
     "output_type": "stream",
     "text": [
      "Counter({'가': 4, '나': 3})\n",
      "['가', '가', '가', '가', '나', '나', '나']\n",
      "defaultdict(<class 'int'>, {'가': 4, '나': 3})\n"
     ]
    }
   ],
   "source": [
    "# 딕셔너리 형태로 Counter 객체를 생성하는 방법\n",
    "from collections import defaultdict\n",
    "\n",
    "count = Counter({\"가\":4,\"나\":3})\n",
    "print(count)\n",
    "print(list(count.elements())) \n",
    "# elements는 시퀀스형태로 나옴 리스트나 튜플 형태로 받아야함\n",
    "a = defaultdict(int)\n",
    "a.update(count)\n",
    "print(a)"
   ]
  }
 ],
 "metadata": {
  "kernelspec": {
   "display_name": "Python 3",
   "language": "python",
   "name": "python3"
  },
  "language_info": {
   "codemirror_mode": {
    "name": "ipython",
    "version": 3
   },
   "file_extension": ".py",
   "mimetype": "text/x-python",
   "name": "python",
   "nbconvert_exporter": "python",
   "pygments_lexer": "ipython3",
   "version": "3.8.8"
  }
 },
 "nbformat": 4,
 "nbformat_minor": 5
}
