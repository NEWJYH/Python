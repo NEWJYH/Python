{
 "cells": [
  {
   "cell_type": "code",
   "execution_count": 4,
   "id": "2f6af982",
   "metadata": {},
   "outputs": [
    {
     "name": "stdout",
     "output_type": "stream",
     "text": [
      "{}\n",
      "None\n"
     ]
    }
   ],
   "source": [
    "# defaultdict\n",
    "# defaultdict 모듈은 딕셔너리의 요소를 생성할 때,\n",
    "# 키에 기본값을 지정하는 방법이다.\n",
    "\n",
    "# 일반적인 딕셔너리를 생성하고 키의 값으로 값을 알아 낼 수가 있다.\n",
    "dic = dict()\n",
    "print(dic)\n",
    "#print(dic[\"a\"])\n",
    "# KeyError: 'a'\n",
    "# 비어진 딕셔너리에 'a'라는 키는 없다는 오류가 발생한다.\n",
    "print(dic.get(\"a\"))"
   ]
  },
  {
   "cell_type": "code",
   "execution_count": 8,
   "id": "0d30ed04",
   "metadata": {},
   "outputs": [
    {
     "name": "stdout",
     "output_type": "stream",
     "text": [
      "0\n",
      "0\n",
      "defaultdict(<function <lambda> at 0x0000024B0DD8A430>, {'a': 0})\n"
     ]
    }
   ],
   "source": [
    "from collections import defaultdict\n",
    "# defaultdict 의 아직 모르는 모든 키에 대해서 기본 값을 0으로 정하겠다.\n",
    "dic = defaultdict(lambda : 0) # lambda를 이용하여 0을 리턴하게 만듬\n",
    "print(dic[\"a\"])\n",
    "print(dic.get(\"a\"))\n",
    "print(dic)\n"
   ]
  },
  {
   "cell_type": "code",
   "execution_count": 12,
   "id": "0f50f489",
   "metadata": {},
   "outputs": [
    {
     "name": "stdout",
     "output_type": "stream",
     "text": [
      "100\n",
      "100\n",
      "defaultdict(<class 'int'>, {'a': 100})\n"
     ]
    }
   ],
   "source": [
    "dic = defaultdict(int) \n",
    "# 키에 대한 값을 int형으로 설정하였다.\n",
    "dic[\"a\"] += 100 # 해당 키에 대한 값에다가 연산을 할 수도 있다.\n",
    "print(dic[\"a\"])\n",
    "print(dic.get(\"a\"))\n",
    "print(dic)"
   ]
  },
  {
   "cell_type": "code",
   "execution_count": 10,
   "id": "e52ce7a6",
   "metadata": {},
   "outputs": [
    {
     "name": "stdout",
     "output_type": "stream",
     "text": [
      "0.0\n",
      "0.0\n",
      "defaultdict(<class 'float'>, {'a': 0.0})\n"
     ]
    }
   ],
   "source": [
    "dic = defaultdict(float) \n",
    "# 키에 대한 값을 float형으로 설정하였다.\n",
    "print(dic[\"a\"])\n",
    "print(dic.get(\"a\"))\n",
    "print(dic)"
   ]
  },
  {
   "cell_type": "code",
   "execution_count": 11,
   "id": "4b0cc855",
   "metadata": {},
   "outputs": [
    {
     "name": "stdout",
     "output_type": "stream",
     "text": [
      "\n",
      "\n",
      "defaultdict(<class 'str'>, {'a': ''})\n"
     ]
    }
   ],
   "source": [
    "dic = defaultdict(str) \n",
    "# 키에 대한 값을 str형으로 설정하였다.\n",
    "print(dic[\"a\"])\n",
    "print(dic.get(\"a\"))\n",
    "print(dic)"
   ]
  },
  {
   "cell_type": "code",
   "execution_count": 15,
   "id": "4d51d24d",
   "metadata": {},
   "outputs": [
    {
     "name": "stdout",
     "output_type": "stream",
     "text": [
      "dict_items([('가', 1), ('나', 1), ('다', 1), ('라', 1), ('마', 1), ('바', 1)])\n"
     ]
    }
   ],
   "source": [
    "# 함수를 이용해서 딕셔너리를 초기화 하는 코드를 실습하기\n",
    "# 일반 딕셔너리를 함수를 이용하여 초기화 방법\n",
    "def countLetters(words):\n",
    "    counter = {}\n",
    "    for word in words:\n",
    "        # 넘어온 문자열의 값 하나가 키가 되고 \n",
    "        # 그 키의 기본값을 0으로 설정함\n",
    "        if word not in counter:\n",
    "            counter[word] = 0\n",
    "        counter[word] += 1\n",
    "    return counter\n",
    "\n",
    "if __name__==\"__main__\":\n",
    "    dic = countLetters(\"가나다라마바\")\n",
    "    print(dic.items())  "
   ]
  },
  {
   "cell_type": "code",
   "execution_count": 18,
   "id": "8b6f4134",
   "metadata": {},
   "outputs": [
    {
     "name": "stdout",
     "output_type": "stream",
     "text": [
      "dict_items([('가', 1), ('나', 1), ('다', 1), ('라', 1), ('마', 1), ('바', 1)])\n"
     ]
    }
   ],
   "source": [
    "from collections import defaultdict\n",
    "# setdefault() 메서드를 이용한 초기화 방법\n",
    "def countLetters_setdefault(words):\n",
    "    counter = {}\n",
    "    for word in words:\n",
    "        if word not in counter:\n",
    "            counter.setdefault(word, 0)\n",
    "        counter[word] += 1\n",
    "    return counter\n",
    "\n",
    "if __name__==\"__main__\":\n",
    "    dic = countLetters_setdefault(\"가나다라마바\")\n",
    "    print(dic.items())      "
   ]
  },
  {
   "cell_type": "code",
   "execution_count": 20,
   "id": "af6e319e",
   "metadata": {},
   "outputs": [
    {
     "name": "stdout",
     "output_type": "stream",
     "text": [
      "dict_items([('가', 1), ('나', 1), ('다', 1), ('라', 1), ('마', 1), ('바', 1)])\n"
     ]
    }
   ],
   "source": [
    "from collections import defaultdict\n",
    "# setdefault() 메서드를 이용한 초기화 방법\n",
    "def countLetters_default(words):\n",
    "    counter = defaultdict(int)\n",
    "    for word in words:\n",
    "        counter[word] += 1\n",
    "    return counter\n",
    "\n",
    "if __name__==\"__main__\":\n",
    "    dic = countLetters_default(\"가나다라마바\")\n",
    "    print(dic.items())      "
   ]
  }
 ],
 "metadata": {
  "kernelspec": {
   "display_name": "Python 3",
   "language": "python",
   "name": "python3"
  },
  "language_info": {
   "codemirror_mode": {
    "name": "ipython",
    "version": 3
   },
   "file_extension": ".py",
   "mimetype": "text/x-python",
   "name": "python",
   "nbconvert_exporter": "python",
   "pygments_lexer": "ipython3",
   "version": "3.8.8"
  }
 },
 "nbformat": 4,
 "nbformat_minor": 5
}
