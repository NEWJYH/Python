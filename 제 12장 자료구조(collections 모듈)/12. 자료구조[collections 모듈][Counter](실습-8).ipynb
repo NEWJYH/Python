{
 "cells": [
  {
   "cell_type": "code",
   "execution_count": 7,
   "id": "0410a735",
   "metadata": {},
   "outputs": [
    {
     "name": "stdout",
     "output_type": "stream",
     "text": [
      "Counter()\n",
      "Counter({'안': 1, '녕': 1, '하': 1, '세': 1, '요': 1})\n",
      "Counter({'요': 6, '안': 4, '녕': 1, '하': 1, '세': 1})\n",
      "['안', '안', '안', '안', '녕', '하', '세', '요', '요', '요', '요', '요', '요']\n"
     ]
    }
   ],
   "source": [
    "# Counter 모듈의 메서드 실습\n",
    "# update 카운터의 값을 갱신하는 것을 의미\n",
    "from collections import Counter\n",
    "# 문자열을 갱신\n",
    "count = Counter()\n",
    "print(count)\n",
    "count.update(\"안녕하세요\")\n",
    "print(count)\n",
    "count.update({\"안\":3,\"요\":5})\n",
    "print(count)\n",
    "print(list(count.elements()))"
   ]
  },
  {
   "cell_type": "code",
   "execution_count": 9,
   "id": "e48eed49",
   "metadata": {},
   "outputs": [
    {
     "name": "stdout",
     "output_type": "stream",
     "text": [
      "[('a', 3), ('p', 3), ('e', 3), (',', 2), (' ', 2), ('r', 2), ('g', 2), ('l', 1), ('o', 1), ('n', 1)]\n",
      "[('a', 3), ('p', 3), ('e', 3), (',', 2), (' ', 2)]\n"
     ]
    }
   ],
   "source": [
    "# most_common(n) : 입력된 값의 요소들 중에서 빈도수가 높은 순으로\n",
    "# 상위 n개 리스트 안에 튜플 형태로 반환하는 메서드\n",
    "count = Counter(\"apple, orange, grape\")\n",
    "\n",
    "# 매개변수를 주지 않았을 때는 \n",
    "# 전체 문자열을 대상으로 값과 빈도수를 출력\n",
    "print(count.most_common())\n",
    "\n",
    "# 매개변수를 주었을때는\n",
    "# 전체 문자열을 대상으로\n",
    "# 빈도수가 높은 순으로 n개 만큼 출력해준다.\n",
    "print(count.most_common(5))"
   ]
  },
  {
   "cell_type": "code",
   "execution_count": 10,
   "id": "5ee75a14",
   "metadata": {},
   "outputs": [
    {
     "name": "stdout",
     "output_type": "stream",
     "text": [
      "Counter({'습': 1, '니': 1, ' ': 1, '안': 1, '녕': 1, '하': 1, '세': 1, '요': 1, '반': 0, '갑': 0, '다': 0, '.': 0, '친': -1, '구': -1, '야': -1})\n"
     ]
    }
   ],
   "source": [
    "# subtract() : 단어 그대로 요소의 값을 빼는 것을 의미한다.\n",
    "# 요소가 없는 경우에는 음수의 값을 출력한다.\n",
    "a = Counter(\"반갑습니다. 안녕하세요\")\n",
    "b = Counter(\"반갑다.친구야\")\n",
    "a.subtract(b)\n",
    "print(a)"
   ]
  },
  {
   "cell_type": "code",
   "execution_count": 14,
   "id": "abaee99d",
   "metadata": {},
   "outputs": [
    {
     "name": "stdout",
     "output_type": "stream",
     "text": [
      "Counter({'a': 2, 'b': 1, 'c': 1, 'd': 1, 'e': 1})\n",
      "Counter({'p': 2, 'a': 1, 'l': 1, 'e': 1})\n",
      "Counter({'a': 3, 'e': 2, 'p': 2, 'b': 1, 'c': 1, 'd': 1, 'l': 1})\n",
      "Counter({'a': 1, 'b': 1, 'c': 1, 'd': 1})\n"
     ]
    }
   ],
   "source": [
    "# Counter() 는 산술/집합 연산이 가능하다.\n",
    "c1 = Counter(\"a b c d e a \".split())\n",
    "c2 = Counter(\"apple\")\n",
    "print(c1)\n",
    "print(c2)\n",
    "print(c1+c2)\n",
    "# 연산자로 뺄셈을 하면 음수의 값은 출력하지 않는다.\n",
    "# subtract와의 차이\n",
    "print(c1-c2)"
   ]
  },
  {
   "cell_type": "code",
   "execution_count": 16,
   "id": "e9cb1504",
   "metadata": {},
   "outputs": [
    {
     "name": "stdout",
     "output_type": "stream",
     "text": [
      "Counter({'a': 1, 'b': 1, 'c': 1, 'd': 1})\n",
      "Counter({'a': 1, 'b': 1, 'c': 1, 'd': 1, 'e': 1, 'f': 1, 'g': 1, '가': 1, '나': 1, '다': 1, '라': 1})\n"
     ]
    }
   ],
   "source": [
    "# Counter 모듈의 교집합 및 합집합의 출력하는 기능\n",
    "c1 = Counter(\"abcdefg\")\n",
    "c2 = Counter(\"abcd가나다라\")\n",
    "# 교집합을 하고자 할 때는 & 연산자를 사용한다\n",
    "print(c1&c2)\n",
    "# 합집합을 하고자 할 때는 | 연산자를 사용한다.\n",
    "print(c1|c2)"
   ]
  }
 ],
 "metadata": {
  "kernelspec": {
   "display_name": "Python 3",
   "language": "python",
   "name": "python3"
  },
  "language_info": {
   "codemirror_mode": {
    "name": "ipython",
    "version": 3
   },
   "file_extension": ".py",
   "mimetype": "text/x-python",
   "name": "python",
   "nbconvert_exporter": "python",
   "pygments_lexer": "ipython3",
   "version": "3.8.8"
  }
 },
 "nbformat": 4,
 "nbformat_minor": 5
}
