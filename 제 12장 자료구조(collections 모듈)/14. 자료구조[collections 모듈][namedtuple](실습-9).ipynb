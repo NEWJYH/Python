{
 "cells": [
  {
   "cell_type": "code",
   "execution_count": 1,
   "id": "ebe4dfb8",
   "metadata": {},
   "outputs": [
    {
     "name": "stdout",
     "output_type": "stream",
     "text": [
      "신은혁는 14세의 남성입니다.\n",
      "강은비는 17세의 여성입니다.\n"
     ]
    }
   ],
   "source": [
    "# namedtuple 모듈은 튜플의 형태로 데이터를 구조화에 맞게끔\n",
    "# 저장하는 자료구조이다.\n",
    "\n",
    "# 일반적인 튜플의 경우\n",
    "person1 = (\"신은혁\",14,\"남\")\n",
    "person2 = (\"강은비\",17,\"여\")\n",
    "for n in[person1,person2]:\n",
    "    print(f\"{n[0]}는 {n[1]}세의 {n[2]}성입니다.\")"
   ]
  },
  {
   "cell_type": "code",
   "execution_count": 5,
   "id": "ab6ccc46",
   "metadata": {},
   "outputs": [
    {
     "name": "stdout",
     "output_type": "stream",
     "text": [
      "김연아 20 여성\n",
      "신은혁 10 남자\n",
      "호두 1 여성\n"
     ]
    }
   ],
   "source": [
    "# namedtuple인 경우\n",
    "from collections import *\n",
    "Person = namedtuple(\"Person\",\"name age gender\")\n",
    "p1 = Person._make([\"김연아\",20,\"여성\"])\n",
    "p2 = Person._make([\"신은혁\",10,\"남자\"])\n",
    "p3 = Person(name=\"호두\",age=1,gender=\"여성\")\n",
    "\n",
    "for n in [p1,p2,p3]:\n",
    "    # 일반적인 튜플은 .(접근연산자)를 사용하지못하지만\n",
    "    # namedtuple은 가능하다.\n",
    "    print(n.name,n.age,n.gender)\n",
    "    # Person이라고 정의를 해놓았고 그의 필드들이 3개가\n",
    "    # 존재하고 있기 떄문에\n",
    "    # namedtuple은 .(접근연산자)를 이용할수 있다.\n",
    "    # 인덱스로도 가능하다."
   ]
  },
  {
   "cell_type": "code",
   "execution_count": 6,
   "id": "f11b2a5c",
   "metadata": {},
   "outputs": [],
   "source": [
    "# namedtuple의 메서드\n",
    "# _make() 메서드 : 기존에 생성된 namedtuple에 새로운 인스턴스\n",
    "# 를 생성해주는 메소드이다.\n",
    "# 매서드 안에 매개변수로 들어가는 것은 시퀀스 자료형이여야 한다.\n",
    "p4 = Person._make([\"우주\",15,\"남자\"])"
   ]
  },
  {
   "cell_type": "code",
   "execution_count": 15,
   "id": "251db6ad",
   "metadata": {},
   "outputs": [
    {
     "name": "stdout",
     "output_type": "stream",
     "text": [
      "Person(name='김동수', age=1, gender='여성')\n"
     ]
    }
   ],
   "source": [
    "# p1[0]= \"김동수\"\n",
    "# namedtuple도 직접적인 수정은 일반튜플과 같이 접근불가\n",
    "# namedtuple에서는 인덱스를 통한 값변경은 되지 않지만\n",
    "# _replace()메소드로 값의 변경이 가능하다 리턴값으로 주기 때문에\n",
    "# 받아줘야함\n",
    "p3 = p3._replace(name=\"김동수\")\n",
    "print(p3)"
   ]
  }
 ],
 "metadata": {
  "kernelspec": {
   "display_name": "Python 3",
   "language": "python",
   "name": "python3"
  },
  "language_info": {
   "codemirror_mode": {
    "name": "ipython",
    "version": 3
   },
   "file_extension": ".py",
   "mimetype": "text/x-python",
   "name": "python",
   "nbconvert_exporter": "python",
   "pygments_lexer": "ipython3",
   "version": "3.8.8"
  }
 },
 "nbformat": 4,
 "nbformat_minor": 5
}
