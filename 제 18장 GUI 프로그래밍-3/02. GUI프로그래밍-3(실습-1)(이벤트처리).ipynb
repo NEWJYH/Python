{
 "cells": [
  {
   "cell_type": "code",
   "execution_count": 3,
   "id": "886b944f",
   "metadata": {},
   "outputs": [
    {
     "name": "stdout",
     "output_type": "stream",
     "text": [
      "29 54 에서 마우스 왼쪽 이벤트 발생\n",
      "29 54 에서 마우스 오른쪽 이벤트 발생\n",
      "31 54 에서 마우스 휠 이벤트 발생\n"
     ]
    }
   ],
   "source": [
    "# 이벤트 처리\n",
    "# bind() 함수를 이용하여 이벤트 처리\n",
    "# 문법 : 위젯.bind(이벤트지정자, 이벤트 처리 함수)\n",
    "\n",
    "from tkinter import *\n",
    "\n",
    "window = Tk()\n",
    "# 이벤트 처리함수 정의\n",
    "def callback1(event):\n",
    "    print(event.x,event.y,\"에서 마우스 왼쪽 이벤트 발생\")\n",
    "\n",
    "def callback2(event):\n",
    "    print(event.x,event.y,\"에서 마우스 휠 이벤트 발생\")\n",
    "\n",
    "def callback3(event):\n",
    "    print(event.x,event.y,\"에서 마우스 오른쪽 이벤트 발생\")\n",
    "\n",
    "    \n",
    "frame = Frame(window,\n",
    "             width=200,\n",
    "             height=200)\n",
    "# frame에 이벤트 등록하는 것\n",
    "# 프로그램을 실행하고 \n",
    "# 마우스 왼쪽 버튼을 클릭했을 떄, callback함수가 실행\n",
    "frame.bind(\"<Button-1>\",callback1)\n",
    "# 휠 버튼 클릭시 \n",
    "frame.bind(\"<Button-2>\",callback2)\n",
    "# 오른쪽 버튼 클릭시\n",
    "frame.bind(\"<Button-3>\",callback3)\n",
    "\n",
    "frame.pack()\n",
    "\n",
    "window.mainloop()"
   ]
  },
  {
   "cell_type": "code",
   "execution_count": 9,
   "id": "90154807",
   "metadata": {},
   "outputs": [],
   "source": [
    "# 이벤트 처리 실습 : 키 이벤트 실습\n",
    "# focus_set() : 원하는 위젯으로 포커스를 이동시킬수 있는 메소드\n",
    "from tkinter import *\n",
    "\n",
    "window = Tk()\n",
    "\n",
    "# 이벤트 처리함수 정의\n",
    "def key(event):\n",
    "    print(repr(event.char),\"가 눌렸습니다.\")\n",
    "    \n",
    "def callback(event):\n",
    "    # 함수가 실행되면 키보드 포커스를 소유하고 있는 위젯\n",
    "    frame.focus_set()\n",
    "    print(event.x,event.y,\"에서 마우스 이벤트 발생\")\n",
    "\n",
    "frame = Frame(window,\n",
    "             width=200,\n",
    "             height=200)\n",
    "# 이벤트 바인딩\n",
    "frame.bind(\"<Key>\",key)\n",
    "frame.bind(\"<Button-1>\",callback)\n",
    "frame.pack()\n",
    "\n",
    "window.mainloop()"
   ]
  },
  {
   "cell_type": "code",
   "execution_count": 10,
   "id": "e5e52504",
   "metadata": {},
   "outputs": [
    {
     "name": "stdout",
     "output_type": "stream",
     "text": [
      "단일 클릭, 왼쪽 버튼\n",
      "단일 클릭, 왼쪽 버튼\n",
      "더블 클릭, 왼쪽 버튼\n",
      "단일 클릭, 왼쪽 버튼\n",
      "더블 클릭, 왼쪽 버튼\n",
      "단일 클릭, 왼쪽 버튼\n",
      "더블 클릭, 왼쪽 버튼\n",
      "단일 클릭, 왼쪽 버튼\n",
      "더블 클릭, 왼쪽 버튼\n",
      "단일 클릭, 왼쪽 버튼\n",
      "더블 클릭, 왼쪽 버튼\n",
      "단일 클릭, 왼쪽 버튼\n",
      "더블 클릭, 왼쪽 버튼\n",
      "단일 클릭, 왼쪽 버튼\n",
      "더블 클릭, 왼쪽 버튼\n",
      "더블 클릭, 왼쪽 버튼\n",
      "단일 클릭, 왼쪽 버튼\n",
      "더블 클릭, 왼쪽 버튼\n",
      "더블 클릭, 왼쪽 버튼\n",
      "더블 클릭, 왼쪽 버튼\n",
      "더블 클릭, 왼쪽 버튼\n",
      "더블 클릭, 왼쪽 버튼\n",
      "더블 클릭, 왼쪽 버튼\n"
     ]
    }
   ],
   "source": [
    "# 마우스 단일 클릭과 더블 클릭에 대한 실습\n",
    "from tkinter import *\n",
    "\n",
    "\n",
    "# 이벤트 처리 함수 정의\n",
    "def sleft(event):\n",
    "    print(\"단일 클릭, 왼쪽 버튼\")\n",
    "    \n",
    "def dleft(event):\n",
    "    print(\"더블 클릭, 왼쪽 버튼\")\n",
    "    \n",
    "button = Button(None,text=\"마우스 클릭\")\n",
    "\n",
    "# 버튼 바인딩 처리\n",
    "button.bind(\"<Button-1>\",sleft)\n",
    "# 더블 클릭 바인딩 처리\n",
    "# 더블 클릭의 타입은 <Double-1>로 지정해주어야함\n",
    "button.bind(\"<Double-1>\",dleft)\n",
    "button.pack()\n",
    "\n",
    "button.mainloop()"
   ]
  }
 ],
 "metadata": {
  "kernelspec": {
   "display_name": "Python 3",
   "language": "python",
   "name": "python3"
  },
  "language_info": {
   "codemirror_mode": {
    "name": "ipython",
    "version": 3
   },
   "file_extension": ".py",
   "mimetype": "text/x-python",
   "name": "python",
   "nbconvert_exporter": "python",
   "pygments_lexer": "ipython3",
   "version": "3.8.8"
  }
 },
 "nbformat": 4,
 "nbformat_minor": 5
}
