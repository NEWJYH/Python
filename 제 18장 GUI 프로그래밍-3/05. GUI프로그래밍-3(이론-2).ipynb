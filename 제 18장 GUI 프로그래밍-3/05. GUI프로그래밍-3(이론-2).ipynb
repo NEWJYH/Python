{
 "cells": [
  {
   "cell_type": "markdown",
   "id": "c2a86a50",
   "metadata": {},
   "source": [
    "2. 메뉴와 대화상자"
   ]
  },
  {
   "cell_type": "markdown",
   "id": "785ed02a",
   "metadata": {},
   "source": [
    "1) 메뉴의 생성\n",
    "    - 기본 윈도우창에 메뉴를 추가해 보자.\n",
    "      간단한 예로 메뉴를 만드는 구성 개념과 형식은 다음과 같다.\n",
    "      \n",
    "      상위 메뉴\n",
    "         ㄴ 하위 메뉴 1\n",
    "         ㄴ 하위 메뉴 2   \n",
    "         \n",
    "      메뉴 자체 = Menu(부모윈도우)\n",
    "      부모윈도우.config(menu= 메뉴자체)\n",
    "      \n",
    "      상위 메뉴 = Menu(메뉴자체)\n",
    "      메뉴자체.add_cascade(label=\"상위메뉴텍스트\", menu=상위메뉴)\n",
    "      상위메뉴.add_command(label=\"하위메뉴1\", command=함수1)\n",
    "      상위자체.add_cascade(label=\"하위메뉴2\", command=함수2)\n",
    "    - 메뉴는 대부분 이런 형태로 구성된다."
   ]
  },
  {
   "cell_type": "code",
   "execution_count": 12,
   "id": "72d016ba",
   "metadata": {},
   "outputs": [],
   "source": [
    "from tkinter import *\n",
    "window = Tk()\n",
    "TopMenu = Menu(window)\n",
    "window.config(menu=TopMenu)\n",
    "Up = Menu(TopMenu)\n",
    "TopMenu.add_cascade(label=\"상위메뉴텍스트\",menu=Up)\n",
    "Up.add_command(label=\"하위메뉴1\")\n",
    "Up.add_command(label=\"하위메뉴2\")\n",
    "\n",
    "window.mainloop()"
   ]
  },
  {
   "cell_type": "markdown",
   "id": "91b03b30",
   "metadata": {},
   "source": [
    "1) 메뉴의 생성\n",
    "    - [파일] 메뉴 아래에 [열기]와 [종료] 하위 메뉴가 있는 코드를 실제 작성해보자.\n",
    "      먼저 메뉴의 겉모양만 생성한다."
   ]
  },
  {
   "cell_type": "code",
   "execution_count": 11,
   "id": "309d856b",
   "metadata": {},
   "outputs": [],
   "source": [
    "from tkinter import *\n",
    "window = Tk()\n",
    "# 메인메뉴 변수에 Menu설정(부모윈도우)\n",
    "mainMenu = Menu(window) \n",
    "\n",
    "# 메인메뉴를 윈도우 속성에 추가 함\n",
    "# config 구성\n",
    "window.config(menu=mainMenu)\n",
    "\n",
    "# 윈도우 - 메인메뉴 하위에 파일 메뉴생성\n",
    "fileMenu = Menu(mainMenu)\n",
    "\n",
    "# 메인메뉴에 파일과 하위 메뉴를 전달한다.\n",
    "# cascade 종속\n",
    "mainMenu.add_cascade(label=\"파일\",menu = fileMenu)\n",
    "\n",
    "fileMenu.add_command(label=\"열기\")\n",
    "# separator를 통하여 구분줄을 생성\n",
    "fileMenu.add_separator() \n",
    "fileMenu.add_command(label=\"종료\")\n",
    "\n",
    "window.mainloop()"
   ]
  },
  {
   "cell_type": "markdown",
   "id": "18c71c70",
   "metadata": {},
   "source": [
    "1) 메뉴의 생성\n",
    "    - 먼저 Menu(부모윈도우)로 mainMenu 변수를 생성한다.\n",
    "      MainMenu는 메뉴자체를 나타내는 변수이다.\n",
    "      그리고 생성한 메뉴 자체를 윈도우창의 메뉴로 지정한다.\n",
    "      상위 메뉴인 [파일]을 생성하고, 메뉴 자체에 부착한다.\n",
    "      [파일]메뉴는 선택하고 끝나는 것이 아니라, \n",
    "      \n",
    "    - 그 아래에 다른 메뉴가 확장되어야 하므로 add_cascade() 함수를 사용한다.\n",
    "      [파일]메뉴의 하위에 [열기]메뉴를 준비한다.\n",
    "      [열기]메뉴는 선택할 때 어떤 작동을 해야하므로, add_command()함수를 사용한다\n",
    "      메뉴 사이에 구분선을 넣고, 같은 방식으로 하위 메뉴를 생성한다.\n",
    "      메뉴의 겉모양만 있을 뿐 선택해도 작동은 하지 않는다."
   ]
  },
  {
   "cell_type": "markdown",
   "id": "f7bd9ba0",
   "metadata": {},
   "source": [
    "1) 메뉴의 생성\n",
    "    - 메뉴를 선택하면 작동할 수 있도록 코드를 추가해보자."
   ]
  },
  {
   "cell_type": "code",
   "execution_count": 13,
   "id": "bf252559",
   "metadata": {},
   "outputs": [],
   "source": [
    "from tkinter import *\n",
    "from tkinter import messagebox\n",
    "\n",
    "# 함수선언 부분\n",
    "def func_open():\n",
    "    messagebox.showinfo(\"메뉴 선택\",\"열기 메뉴를 선택함\")\n",
    "    \n",
    "def func_exit():\n",
    "    # 윈도우 종료\n",
    "    window.quit()\n",
    "    # 메모리에서 제거\n",
    "    window.destroy()\n",
    "    \n",
    "# 메인 코드 부분\n",
    "window = Tk()\n",
    "mainMenu = Menu(window)\n",
    "window.config(menu=mainMenu)\n",
    "\n",
    "fileMenu = Menu(mainMenu)\n",
    "mainMenu.add_cascade(label=\"파일\",menu=fileMenu)\n",
    "fileMenu.add_command(label=\"열기\",command=func_open)\n",
    "fileMenu.add_separator()\n",
    "fileMenu.add_command(label=\"종료\",command=func_exit)\n",
    "window.mainloop()"
   ]
  },
  {
   "cell_type": "markdown",
   "id": "d4502d90",
   "metadata": {},
   "source": [
    "1) 메뉴의 생성\n",
    "    - [열기] 메뉴를 선택하면 무언가 작동을 해야 하므로\n",
    "      add_command()함수를 사용한다.\n",
    "      그리고 선택할 때 실행될 함수명을 command값으로 사용한다.\n",
    "      즉 [파일] 메뉴를 선택하면 하위 메뉴가 확장되고,\n",
    "      [열기]메뉴를 선택하면 fun_open()함수가 실행된다.\n",
    "      [종료]메뉴도 같은 방식으로 하위 메뉴를 생성한다.\n",
    "      [열기]메뉴를 선택하면 간단한 메시지창이 열리고,\n",
    "      [종료]메뉴를 선택하면 프로그램이 종료된다."
   ]
  },
  {
   "cell_type": "markdown",
   "id": "68c690b7",
   "metadata": {},
   "source": [
    "2) 대화상자의 생성과 사용\n",
    "    - 파이썬은 대화상자를 몇 개 제공한다.\n",
    "      기본적인 메시지창을 표시하는 messagebox.showinfo()는 앞에서 사용했었다.\n",
    "      이외에도 숫자나 문자를 입력 받을 수 있도록 tkinter.simpledialog 모듈을\n",
    "      임포트한 후 askinteger() 및 askstring()등을 사용할수 있다.\n",
    "      간단한 코드로 확인해보자."
   ]
  },
  {
   "cell_type": "code",
   "execution_count": 15,
   "id": "8a71b2c2",
   "metadata": {},
   "outputs": [],
   "source": [
    "from tkinter import *\n",
    "from tkinter.simpledialog import *\n",
    "\n",
    "# 윈도우 설정\n",
    "window = Tk()\n",
    "# 윈도우 크기 설정\n",
    "window.geometry(\"400x100\")\n",
    "\n",
    "label1 = Label(window, text=\"입력된 값\")\n",
    "label1.pack()\n",
    "value = askinteger(\"확대배수\",\n",
    "                  \"주사위 숫자(1~6)을 입력하세요\",\n",
    "                  minvalue = 1,\n",
    "                  maxvalue = 6)\n",
    "\n",
    "label1.configure(text=str(value))\n",
    "window.mainloop()"
   ]
  },
  {
   "cell_type": "markdown",
   "id": "593da48b",
   "metadata": {},
   "source": [
    "2) 대화상자의 생성과 사용\n",
    "    - 입력창을 사용하려고 tkinter.simpledialog 모듈을 임포트한다.\n",
    "      그리고 레이블을 하나 준비한다.\n",
    "      askinteger(\"제목\",\"내용\",옵션) 함수로 정수를 사용자로부터 입력 받는다.\n",
    "      옵션 중에 minvalue는 최솟값이고, maxvalue는 최댓값이다.\n",
    "      이 값을 벗어나서 입력하면 경고창을 표시하며 입력되지 않는다.\n",
    "      입력받은 숫자를 문자열로 변경해서 레이블에 쓴다.\n",
    "      실수를 입력 받으려면 askfloat()함수를 사용하고,\n",
    "      문자열을 입력받으려면 askstring()함수를 사용하면 된다.\n",
    "      파일을 열거나 저장할 때 표시하는 대화상자도 있다.\n",
    "      tkinter.filedialog모듈을 임포트한 후 askopenfilename()이나\n",
    "      asksavesfile()함수를 사용하면 된다."
   ]
  },
  {
   "cell_type": "markdown",
   "id": "4dc461ca",
   "metadata": {},
   "source": [
    "2) 대화상자의 생성과 사용\n",
    "    - 그림 파일인 GIF 파일을 선택하는 코드이다.\n",
    "      코드로 사용 방법을 확인해 보자."
   ]
  },
  {
   "cell_type": "code",
   "execution_count": 17,
   "id": "4fd0b367",
   "metadata": {},
   "outputs": [],
   "source": [
    "from tkinter import *\n",
    "from tkinter.filedialog import *\n",
    "\n",
    "window = Tk()\n",
    "window.geometry(\"400x100\")\n",
    "label1 = Label(window,\n",
    "              text=\"선택된 파일 이름\")\n",
    "label1.pack()\n",
    "\n",
    "filename = askopenfilename(parent=window,\n",
    "                           filetypes=((\"GIF 파일\",\"*.gif\"),\n",
    "                                      (\"모든 파일\",\"*.*\")))\n",
    "label1.configure(text=str(filename))\n",
    "window.mainloop()"
   ]
  },
  {
   "cell_type": "markdown",
   "id": "4e0fb553",
   "metadata": {},
   "source": [
    "2) 대화상자의 생성과 사용\n",
    "    - tkinter.filedialog 모듈을 임포트하고,\n",
    "      askopenfilename() 함수를 사용한다.\n",
    "      함수의 배개변수 중 parent는 부모윈도우를 지정한다.\n",
    "      관심있게 볼 것은 filetypes인데,\n",
    "      값으로 튜플을 받는다.\n",
    "      그리고 각 튜플 안에는 다시 튜플로\n",
    "      (\"표시할 글자\",\"확장명\")형식을 구성한다.\n",
    "      첫 번째 값은 (\"GIF 파일\",\"*.gif\")이다.\n",
    "      그래서 실행 화면에서 오른쪽 아래를 보면현재 GIF 파일만 \n",
    "      표시한다. 이 부분을 클릭해서 \"모든 파일\"을 선택하면\n",
    "      모든 파일을 볼수 있다.\n",
    "      askopenfilename()함수는 경로를 포함해서 선택한 파일의\n",
    "      파일명을 반환한다.\n",
    "      그리고 filename을 출력한다."
   ]
  },
  {
   "cell_type": "markdown",
   "id": "1809d6f0",
   "metadata": {},
   "source": [
    "2) 대화상자의 생성과 사용\n",
    "    - 이번에는 파일을 저장하는 코드를 보자.\n",
    "      저장 대화상자는 매개변수가 약간 다르다."
   ]
  },
  {
   "cell_type": "code",
   "execution_count": 20,
   "id": "e59c12b8",
   "metadata": {},
   "outputs": [
    {
     "ename": "AttributeError",
     "evalue": "'NoneType' object has no attribute 'close'",
     "output_type": "error",
     "traceback": [
      "\u001b[1;31m---------------------------------------------------------------------------\u001b[0m",
      "\u001b[1;31mAttributeError\u001b[0m                            Traceback (most recent call last)",
      "\u001b[1;32m<ipython-input-20-a14e84baaa4f>\u001b[0m in \u001b[0;36m<module>\u001b[1;34m\u001b[0m\n\u001b[0;32m     15\u001b[0m \u001b[1;33m\u001b[0m\u001b[0m\n\u001b[0;32m     16\u001b[0m \u001b[0mlabel1\u001b[0m\u001b[1;33m.\u001b[0m\u001b[0mconfigure\u001b[0m\u001b[1;33m(\u001b[0m\u001b[0mtext\u001b[0m \u001b[1;33m=\u001b[0m \u001b[0msaveFp\u001b[0m\u001b[1;33m)\u001b[0m\u001b[1;33m\u001b[0m\u001b[1;33m\u001b[0m\u001b[0m\n\u001b[1;32m---> 17\u001b[1;33m \u001b[0msaveFp\u001b[0m\u001b[1;33m.\u001b[0m\u001b[0mclose\u001b[0m\u001b[1;33m(\u001b[0m\u001b[1;33m)\u001b[0m\u001b[1;33m\u001b[0m\u001b[1;33m\u001b[0m\u001b[0m\n\u001b[0m\u001b[0;32m     18\u001b[0m \u001b[0mwindow\u001b[0m\u001b[1;33m.\u001b[0m\u001b[0mmainloop\u001b[0m\u001b[1;33m(\u001b[0m\u001b[1;33m)\u001b[0m\u001b[1;33m\u001b[0m\u001b[1;33m\u001b[0m\u001b[0m\n",
      "\u001b[1;31mAttributeError\u001b[0m: 'NoneType' object has no attribute 'close'"
     ]
    }
   ],
   "source": [
    "from tkinter import *\n",
    "from tkinter.filedialog import *\n",
    "\n",
    "window = Tk()\n",
    "window.geometry(\"400x100\")\n",
    "\n",
    "label1 = Label(window,text=\"선택된 파일 이름\")\n",
    "label1.pack()\n",
    "\n",
    "saveFp = asksaveasfile(parent=window,\n",
    "                     mode=\"w\",\n",
    "                     defaultextension=\".jpg\",\n",
    "                     filetypes=((\"jpg 파일\",\"*.jpeg\"),\n",
    "                               (\"모든 파일\",\"*.*\")))\n",
    "\n",
    "label1.configure(text = saveFp)\n",
    "saveFp.close()\n",
    "window.mainloop()"
   ]
  },
  {
   "cell_type": "markdown",
   "id": "3e75681e",
   "metadata": {},
   "source": [
    "2) 대화상자의 생성과 사용\n",
    "    - 위의 프로그램을 실행하면 [다른 이름으로 저장] 대화상자가 열린다.\n",
    "      그리고 기존에 있는 파일명을 입력하고 (저장)버튼을 누르면 \n",
    "      기존 파일을 바꿀 것인지 묻는 메시지창을 표시한다.\n",
    "      주의할 점은 askopenfilename()함수는 파일 경로와 파일명 문자열만 반환하지만,\n",
    "      asksaveasfile()함수는 다른정보도 함께 반환한다는 것이다.\n",
    "      반환된 값 중에서 name과 관련된 것이 새로 저장할 파일명이 들어 있는 부분이다.\n",
    "      assaveasfile()함수의 매개변수 중 mode=\"w\"는 씍 모드라는 의미이다.\n",
    "      그리고 defaultextension=\".jpg\"는 특별히 확장명을 지정하지 않으면\n",
    "      확장명을 .jpg로 붙인다는 의미이다.\n",
    "      label1에 saveFp의 내용을 text에 대입시켜서 출력한다.\n",
    "      그리고 파일을 닫는다.\n",
    "      그리고 실행된 이후에는 파일의 기록이 완료된다."
   ]
  }
 ],
 "metadata": {
  "kernelspec": {
   "display_name": "Python 3",
   "language": "python",
   "name": "python3"
  },
  "language_info": {
   "codemirror_mode": {
    "name": "ipython",
    "version": 3
   },
   "file_extension": ".py",
   "mimetype": "text/x-python",
   "name": "python",
   "nbconvert_exporter": "python",
   "pygments_lexer": "ipython3",
   "version": "3.8.8"
  }
 },
 "nbformat": 4,
 "nbformat_minor": 5
}
