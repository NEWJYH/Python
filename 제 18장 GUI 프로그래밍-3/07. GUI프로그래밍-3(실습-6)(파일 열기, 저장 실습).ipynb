{
 "cells": [
  {
   "cell_type": "code",
   "execution_count": 1,
   "id": "ff9437eb",
   "metadata": {},
   "outputs": [],
   "source": [
    "# 파일 열기, 저장 실습\n",
    "\n",
    "# 파일 열기 filedialog를 임포트를 해야 한다.\n",
    "from tkinter import *\n",
    "from tkinter.filedialog import *\n",
    "\n",
    "window = Tk()\n",
    "window.title(\"파일 열기\")\n",
    "window.geometry(\"400x100\")\n",
    "\n",
    "lbl1 = Label(window,\n",
    "            text=\"선택된 파일 이름\")\n",
    "\n",
    "lbl1.pack()\n",
    "\n",
    "# askopenfilename() 함수는\n",
    "# filetypes 에 들어가는 값이 퓨틀 형태로 들어간다.\n",
    "# 경로를 포함해서 선택한 파일명을 반환한다.\n",
    "filename = askopenfilename(parent=window,\n",
    "                          filetypes=((\"GIF 파일\",\"*.햘\"),\n",
    "                                     (\"모든 파일\",\"*.*\")))\n",
    "\n",
    "# 선택 되어진 파일 이름이 라벨에 표시된다.\n",
    "lbl1.configure(text=str(filename))\n",
    "\n",
    "\n",
    "window.mainloop()"
   ]
  },
  {
   "cell_type": "code",
   "execution_count": 3,
   "id": "a1b20a4e",
   "metadata": {},
   "outputs": [
    {
     "ename": "AttributeError",
     "evalue": "'NoneType' object has no attribute 'close'",
     "output_type": "error",
     "traceback": [
      "\u001b[1;31m---------------------------------------------------------------------------\u001b[0m",
      "\u001b[1;31mAttributeError\u001b[0m                            Traceback (most recent call last)",
      "\u001b[1;32m<ipython-input-3-ca58c458d3a3>\u001b[0m in \u001b[0;36m<module>\u001b[1;34m\u001b[0m\n\u001b[0;32m     28\u001b[0m \u001b[1;33m\u001b[0m\u001b[0m\n\u001b[0;32m     29\u001b[0m \u001b[1;31m# 리소스를 사용을 다 하면 반드시 close() 호출을 해줘야한다.\u001b[0m\u001b[1;33m\u001b[0m\u001b[1;33m\u001b[0m\u001b[1;33m\u001b[0m\u001b[0m\n\u001b[1;32m---> 30\u001b[1;33m \u001b[0msaveFp\u001b[0m\u001b[1;33m.\u001b[0m\u001b[0mclose\u001b[0m\u001b[1;33m(\u001b[0m\u001b[1;33m)\u001b[0m\u001b[1;33m\u001b[0m\u001b[1;33m\u001b[0m\u001b[0m\n\u001b[0m\u001b[0;32m     31\u001b[0m \u001b[1;33m\u001b[0m\u001b[0m\n\u001b[0;32m     32\u001b[0m \u001b[0mwindow\u001b[0m\u001b[1;33m.\u001b[0m\u001b[0mmainloop\u001b[0m\u001b[1;33m(\u001b[0m\u001b[1;33m)\u001b[0m\u001b[1;33m\u001b[0m\u001b[1;33m\u001b[0m\u001b[0m\n",
      "\u001b[1;31mAttributeError\u001b[0m: 'NoneType' object has no attribute 'close'"
     ]
    }
   ],
   "source": [
    "# 파일 저장 실습\n",
    "\n",
    "# 파일 저장 filedialog를 임포트를 해야 한다.\n",
    "from tkinter import *\n",
    "from tkinter.filedialog import *\n",
    "\n",
    "window = Tk()\n",
    "window.title(\"파일 저장\")\n",
    "window.geometry(\"400x100\")\n",
    "\n",
    "lbl1 = Label(window,\n",
    "            text=\"저장된 파일 이름\")\n",
    "\n",
    "lbl1.pack()\n",
    "\n",
    "# asksaveasfile() mode=\"w\"매개변수는\n",
    "# 쓰기 모드라는 의미이다.\n",
    "# defaultextension 매개변수는 사용자가 확장자를 입력하지 않는다면\n",
    "# 기본적으로 사용하는 확장자이다.\n",
    "# 파일 포인터가 있어서 리소스를 사용하는 것이다.\n",
    "saveFp = asksaveasfile(parent=window,\n",
    "                      mode=\"w\",\n",
    "                      defaultextension=\".jpg\",\n",
    "                      filetypes=((\"jpg 파일\",\"*.jpg\"),\n",
    "                                 (\"모든파일\",\"*.*\")))\n",
    "\n",
    "lbl1.configure(text=saveFp)\n",
    "\n",
    "# 리소스를 사용을 다 하면 반드시 close() 호출을 해줘야한다.\n",
    "saveFp.close()\n",
    "\n",
    "window.mainloop()"
   ]
  }
 ],
 "metadata": {
  "kernelspec": {
   "display_name": "Python 3",
   "language": "python",
   "name": "python3"
  },
  "language_info": {
   "codemirror_mode": {
    "name": "ipython",
    "version": 3
   },
   "file_extension": ".py",
   "mimetype": "text/x-python",
   "name": "python",
   "nbconvert_exporter": "python",
   "pygments_lexer": "ipython3",
   "version": "3.8.8"
  }
 },
 "nbformat": 4,
 "nbformat_minor": 5
}
