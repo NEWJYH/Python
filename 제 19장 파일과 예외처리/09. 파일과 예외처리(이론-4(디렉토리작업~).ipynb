{
 "cells": [
  {
   "cell_type": "markdown",
   "id": "5689a021",
   "metadata": {},
   "source": [
    "8) 디렉토리 작업\n",
    "    - 파이썬 프로그램으로 파일을 처리하다 보면 어떤 디렉토리에 있는\n",
    "      전체 파일을 찾아서 처리해야 하는 경우가 종종 있다.\n",
    "      이때는 OS모듈에서 제공하는 도구들을 사용할 수 있다.\n",
    "      \n",
    "    - 현재 파이썬 프로그램이 실행되는 디렉토리를 \n",
    "      작업 디렉토리(CVD : Current Working Directory)라고 한다.\n",
    "      \n",
    "    - 작업 디렉토리를 얻으려면 다음과 같은 함수를 호출하여 사용한다.\n",
    "      \n",
    "      dir = os.getcwd()\n",
    "      \n",
    "    - 우리가 처리하는 데이터 파일들이 data와 같은 서브 디렉토리에 저장되어 \n",
    "      있다면 다음과 같은 문장으로 작업 디렉토리를 변경할 수 있다.\n",
    "      \n",
    "      subdir = \"data\"\n",
    "      os.chdir(subdir)\n",
    "      \n",
    "    - 작업 디렉토리 안에 있는 파일들의 리스트를 얻으려면 listdir()함수를 사용한다.\n",
    "    \n",
    "      for filename in os.listdir():\n",
    "          print(filename)"
   ]
  },
  {
   "cell_type": "markdown",
   "id": "6127ca27",
   "metadata": {},
   "source": [
    "8) 디렉토리 작업\n",
    "    - listdir() 함수는 작업 디렉토리 안에 있는 파일 뿐만 아니라\n",
    "      디렉토리 이름도 반환한다. 파일만 처리하려면 다음과 같이\n",
    "      isfile() 함수를 사용한다.\n",
    "      \n",
    "      if os.path.isfile(filename):\n",
    "          print(\"파일입니다\")\n",
    "          \n",
    "    - 파일의 확장자를 검사하려면 endswith()를 사용한다.\n",
    "      예를 들어서 작업 디렉토리에서 확장자가 \".jpg\"인 파일을 전부\n",
    "      찾아서 파일 이름을 출력하는 프로그램은 다음과 같다."
   ]
  },
  {
   "cell_type": "code",
   "execution_count": 30,
   "id": "92ecbf64",
   "metadata": {},
   "outputs": [
    {
     "name": "stdout",
     "output_type": "stream",
     "text": [
      "C:\\Users\\joung\\Desktop\\22Python\\inflearn\\Part6\\예제소스\\19장(파일과 예외처리)\n",
      "---\n",
      "['.ipynb_checkpoints', '09. 파일과 예외처리(이론-4).ipynb', 'ap_exist.py', 'counter_letters.py', 'ex01.py', 'ex02.py', 'ex03.py', 'ex04.py', 'ex05.py', 'ex06.py', 'ex07.py', 'ex08.py', 'ex09.py', 'ex10.py', 'ex11.py', 'ex12.py', 'ex13.py', 'ex14.py', 'files', 'image_copy.py', 'sales_processing.py', 'sample.png', 'sample_copy.png', 'save.dat', 'save.p']\n",
      "sample.png\n",
      "sample_copy.png\n"
     ]
    }
   ],
   "source": [
    "import os \n",
    "cwd = os.getcwd()\n",
    "files = os.listdir()\n",
    "\n",
    "print(cwd)\n",
    "print(\"---\")\n",
    "print(files)\n",
    "\n",
    "for name in files:\n",
    "    if os.path.isfile(name):\n",
    "        if name.endswith(\".png\"):\n",
    "            print(name)"
   ]
  },
  {
   "cell_type": "markdown",
   "id": "47712841",
   "metadata": {},
   "source": [
    "9) 이진 파일과 임의 접근 파일\n",
    "    - 파일과 이진 파일의 차이점을 살펴보자.\n",
    "      텍스트 파일에서는 모든 정보가 문자열로 변환되어서 파일에 기록되었다.\n",
    "      즉 정수값도 print()를 통하여 문자열로 변환된 후 에 파일에 쓰였다.\n",
    "      즉 123456와 같은 정수값을 화면에 출력하려면 6개의 문자 \"1\"...\"6\"으로\n",
    "      변환하여 출력하였다. 이 변환은 print()함수가 담당하였다.\n",
    "      \n",
    "    - 반면에 이진 파일(binary file)은 데이터가 직접 저장되어 있는 파일이다.\n",
    "      즉 정수 123456는 문자열로 변환되지 않고 0 1 226 64 와 같은 이진수 형태로\n",
    "      그대로 파일에 기록되는 것이다. 이진 파일의 장점은 효율성이다.\n",
    "      우리가 텍스트 파일에서 숫자 데이터를 읽으려면 문자열을 읽어서 int()와 같은\n",
    "      함수를 사용하여 숫자로 변환하여야 하기 때문이다.\n",
    "      이 과정은 시간이 많이 걸리며 비효율적이다.\n",
    "      이진 파일을 사용하면 이러한 변환 과정이 필요 없이 바로 숫자 데이터를\n",
    "      읽을 수 있으며 텍스트 파일에 비하여 저장 공간도 더 적게 차지한다."
   ]
  },
  {
   "cell_type": "markdown",
   "id": "161e110b",
   "metadata": {},
   "source": [
    "9) 이진 파일과 임의 접근 파일\n",
    "    - 이진 파일의 단점은 인간이 파일의 내용을 확인하기 힘들다는 점이다.\n",
    "      문자 데이터가 아니므로 모니터나 프린터로 출력하는 것이 불가능하다.\n",
    "      또한 텍스트파일은 컴퓨터의 기종이 달라도 파일을 이동할 수 있다.\n",
    "      왜냐하면 아스키 코드로 되어 있기 때문에 다른 컴퓨터에서도\n",
    "      읽을 수 있기 때문이다. 그러나 이진 파일의 경우, \n",
    "      정수나 실수 데이터를 표현하는 방식이 컴퓨터의 시스템마다 다를 수 있기 때문에\n",
    "      이식성이 떨어진다. 따라서 이식성이 중요하다면 약간 비효율적이더라도\n",
    "      텍스트 형식의 파일을 사용하는 것이 좋다.\n",
    "      하지만, 데이터가 상당히 크고 실행속도가 중요하다면 이진 파일로 하는 것이\n",
    "      좋을 것이다. 이진 파일에서 데이터를 읽으려면 다음과 같이 파일을 열어야 한다.\n",
    "      \n",
    "      infile = open(filename,\"rb\")\n",
    "      \n",
    "    - 입력 파일에서 8 바이트를 읽으려면 다음과 같은 문장을 사용한다.\n",
    "      \n",
    "      bytesArray = infile.read(8)\n",
    "      \n",
    "      bytesArray는 바이트형의 시퀸스로부터 0부터 255까지의 값들의 모임이다.\n",
    "      첫 번째 바이트를 꺼내려면 다음과 같은 문장을 사용하면 된다.\n",
    "      \n",
    "      byte1 = byteArray[0]\n",
    "      \n",
    "    - 이진 파일에 바이트들을 저장하려면 다음과 같이 한다.\n",
    "      \n",
    "      outfile = open(filename,\"wb\")\n",
    "      bytesArray = bytes([255,128,0,1])\n",
    "      outfile.write(bytesArray)"
   ]
  },
  {
   "cell_type": "markdown",
   "id": "cdccc060",
   "metadata": {},
   "source": [
    "10) 순차접근과 임의 접근\n",
    "    - 지금가지의 파일 입출력 방법은 모두 데이터를 \n",
    "      파일의 처음부터 순차적으로 읽거나 기록하는 것이었다.\n",
    "      이것을 순차 접근(sequential access) 방법이라고 한다.\n",
    "      이러한 방법은 한번 읽은 데이터를 다시 읽으려면 \n",
    "      현재의 파일의 파일을 닫고 파일을 다시 열어야 한다.\n",
    "      또한 앞부분을 읽지 않고 중간이나 마지막으로 건너 뛸수도 없다.\n",
    "      \n",
    "      또 다른 파일 입출력 방법으로 임의 접근(random access) 방법이 있다.\n",
    "      임의 접근 방법은 파일의 어느 위치에서든지 읽기와 쓰기가 가능하다.\n",
    "      \n",
    "    - 임의 접근의 원리는 모든 파일에는 \n",
    "      파일 포인터(file pointer)라는 것이 존재한다.\n",
    "      파일 포인터는 읽기와 쓰기 동작이 현재 어떤 위치에서 이루어지는지를 \n",
    "      나타낸다. 새 파일이 만들어 지게 되면 파일 포인터의 값이 0이고 \n",
    "      이것은 파일의 시작부분을 가르킨다.\n",
    "      기존의 파일의 경우, 추가 모드에서 열렸을 경우에는 파일의 끝이 되고,\n",
    "      다른 모드인 경우에는 파일의 시작부분을 가르킨다.\n",
    "    "
   ]
  },
  {
   "cell_type": "markdown",
   "id": "cedfe8d0",
   "metadata": {},
   "source": [
    "10) 순차접근과 임의 접근\n",
    "    - 파일에서 읽기나 쓰기가 수행되면 파일 포인터가 갱신된다.\n",
    "      예를 들어 읽기 모드로 파일을 열고, 100바이트를 읽었다면\n",
    "      파일 포인터의 값이 100이 된다. 다음에 다시 200바이트를 읽었다면\n",
    "      파일 포인터는300이 된다. 우리가 입출력 함수를 사용하면\n",
    "      그 함수의 내부에서 파일 포인터의 값이 변경된다.\n",
    "      사실 프로그래머는 파일 포인터에 대하여 크게 신경 쓸 필요는 없다.\n",
    "      \n",
    "    - 보통 순차적으로 데이터를 읽게 되면 파일 포인터는 파일의 시작 위치에서\n",
    "      순차적으로 증가하여 파일의 끝으로 이동한다.\n",
    "      그러나 만약 파일의 데이터를 전체를 다 읽지 않고 부분적으로\n",
    "      골라서 읽고 싶은 경우에는 파일 포인터를 이동시켜서 \n",
    "      임의 파일에 엑세스 할수있다. 임의(random)이라는 말은 임의의 위치에서\n",
    "      데이터를 읽을 수 있다는 의미이다.\n",
    "      예를 들어서 데이터를 파일의 시작 부분으로부터 1000바이트 위치에서 읽었다가\n",
    "      다시 시작 위치로부터 500바이트 떨어진 위치에 읽어야 하는 경우도 있다.\n",
    "      즉 데이터를 임의의 위치에서 읽는 기능이 필요한 경우도 있는 것이다.\n",
    "      이 때는 위치 표시자를 조작하여야만 파일을 원하는 임의의 위치에서 읽을 수\n",
    "      있다. 위치 표시자를 조작하는 함수는 seek()이다.\n",
    "      \n",
    "      infile.seek(position)\n",
    "      \n",
    "    - 현재의 위치는 tell() 함수로 알 수 있다."
   ]
  },
  {
   "cell_type": "code",
   "execution_count": null,
   "id": "dbb1f3db",
   "metadata": {},
   "outputs": [],
   "source": [
    "f= open(\"test.txt\",\"w\")\n",
    "f.write(\"asfasdfasf\\nasdfasdfsdf\\nasdfasdfsdaf\\n\")\n",
    "f.close()"
   ]
  },
  {
   "cell_type": "code",
   "execution_count": 3,
   "id": "4657d30d",
   "metadata": {},
   "outputs": [
    {
     "name": "stdout",
     "output_type": "stream",
     "text": [
      "읽은 문자열 :  asfasdfasf\n",
      "현재위치 10\n",
      "읽은 문자열 :  asfasdfasf\n"
     ]
    }
   ],
   "source": [
    "# 텍스트 파일에서 몇개의 문자를 읽은 후에 seek()를 이용하여\n",
    "# 다시 파일의 처음으로 돌아가보자.\n",
    "\n",
    "infile = open(\"test.txt\",\"r\")\n",
    "\n",
    "str = infile.read(10)\n",
    "\n",
    "print(\"읽은 문자열 : \",str)\n",
    "# 현재 위치\n",
    "position = infile.tell()\n",
    "\n",
    "print(\"현재위치\",position)\n",
    "position = infile.seek(0)\n",
    "str = infile.read(10)\n",
    "print(\"읽은 문자열 : \",str)\n",
    "\n",
    "infile.close()"
   ]
  }
 ],
 "metadata": {
  "kernelspec": {
   "display_name": "Python 3",
   "language": "python",
   "name": "python3"
  },
  "language_info": {
   "codemirror_mode": {
    "name": "ipython",
    "version": 3
   },
   "file_extension": ".py",
   "mimetype": "text/x-python",
   "name": "python",
   "nbconvert_exporter": "python",
   "pygments_lexer": "ipython3",
   "version": "3.8.8"
  }
 },
 "nbformat": 4,
 "nbformat_minor": 5
}
