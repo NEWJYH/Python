{
 "cells": [
  {
   "cell_type": "markdown",
   "id": "422500d0",
   "metadata": {},
   "source": [
    "13) 예외 처리\n",
    "    - 우리가 사는 세상은 완벽하지 않다.\n",
    "      사용자들은 잘못된 데이터를 입력할 수도 있고,\n",
    "      우리가 릴리즈 하고자 하는 파일이 컴퓨터에 존재하지 않을 수 있으며\n",
    "      인터넷이 다운될 수도 있다.\n",
    "      프로그래머에 의하여 많은 버그들이 프로그램에 추가될 수도 있다.\n",
    "      예를 들어 배열의 인덱스가 한계를 넘을 수도 있다.\n",
    "      지금까지는 이러한 문제들을 전혀 생각하지 않았지만 이번 장부터는\n",
    "      현실을 직시해보자.\n",
    "      \n",
    "    - 오류가 발생하였다면 우리는 무엇을 어떻게 하여야 하는가?\n",
    "      먼저 침착하게 오류의 내용을 살펴보아야 한다.\n",
    "      파이썬은 상당히 발전된 오류 보고 시스템을 가지고 있어서 소스 파일의\n",
    "      몇 번째 문장에서 오류가 발생했는지를 우리에게 알려준다.\n",
    "      따라서 해당 문장으로 가서 살펴 보아야 할 것이다.\n",
    "      \n",
    "    - 예를 들어서 파일을 열어서 데이터를 읽는 프로그램에서 파일이 없다면\n",
    "      당장 오류가 발생되며 종료될 것이다.\n",
    "      또 정수를 0으로 나눈다면 오류가 발생할 것이다."
   ]
  },
  {
   "cell_type": "code",
   "execution_count": 1,
   "id": "28763ec8",
   "metadata": {},
   "outputs": [
    {
     "ename": "ZeroDivisionError",
     "evalue": "division by zero",
     "output_type": "error",
     "traceback": [
      "\u001b[1;31m---------------------------------------------------------------------------\u001b[0m",
      "\u001b[1;31mZeroDivisionError\u001b[0m                         Traceback (most recent call last)",
      "\u001b[1;32m<ipython-input-1-a0066295c7a0>\u001b[0m in \u001b[0;36m<module>\u001b[1;34m\u001b[0m\n\u001b[0;32m      1\u001b[0m \u001b[1;33m(\u001b[0m\u001b[0mx\u001b[0m\u001b[1;33m,\u001b[0m\u001b[0my\u001b[0m\u001b[1;33m)\u001b[0m \u001b[1;33m=\u001b[0m \u001b[1;33m(\u001b[0m\u001b[1;36m2\u001b[0m\u001b[1;33m,\u001b[0m\u001b[1;36m0\u001b[0m\u001b[1;33m)\u001b[0m\u001b[1;33m\u001b[0m\u001b[1;33m\u001b[0m\u001b[0m\n\u001b[0;32m      2\u001b[0m \u001b[1;33m\u001b[0m\u001b[0m\n\u001b[1;32m----> 3\u001b[1;33m \u001b[0mz\u001b[0m\u001b[1;33m=\u001b[0m \u001b[0mx\u001b[0m\u001b[1;33m/\u001b[0m\u001b[0my\u001b[0m\u001b[1;33m\u001b[0m\u001b[1;33m\u001b[0m\u001b[0m\n\u001b[0m",
      "\u001b[1;31mZeroDivisionError\u001b[0m: division by zero"
     ]
    }
   ],
   "source": [
    "(x,y) = (2,0)\n",
    "\n",
    "z= x/y"
   ]
  },
  {
   "cell_type": "markdown",
   "id": "375ed27e",
   "metadata": {},
   "source": [
    "13) 예외 처리\n",
    "    - 위의 프로그램에서는 ZeroDivisionError 오류가 발생하였고\n",
    "      파이썬 인터프리터는 어디서 오류가 발생되었는지를 자세하게 보고 한다.\n",
    "      이러한 오류 메시지를 역추적(trackback)메시지라고 한다."
   ]
  },
  {
   "cell_type": "markdown",
   "id": "8efaeb57",
   "metadata": {},
   "source": [
    "13) 예외 처리\n",
    "    - 파이썬에서 실행 도중에 발생하는 오류를 예외(exception)라고 부른다.\n",
    "      만약 우리가 만든 프로그램을 사용하던 사용자가 오류를 만났다고 가정하자.\n",
    "      대개의 경우 오류가 발생하면 프로그램이 종료된다.\n",
    "      오류가 발생하여서 사용자가 이제까지 작업하던 데이터를 모두 잃어버렸다면\n",
    "      사용자는 절망하게 될 것이다.\n",
    "      따라서 우리는 오류가 발생했을 때 오류를 사용자에게 알려주고\n",
    "      모든 데이터를 저장하게 한 후에 사용자가 우아하게(gracefully)프로그램을\n",
    "      종료할 수 있도록 하는 것이 바람직할 것이다.\n",
    "      오류를 처리한 후에 계속 실행할 수 있다면 더 나은 프로그램이 될 수 있다.\n",
    "      파이썬에서는 예외처리를 통하여 이러한 기능을 제공할 수 있다.\n",
    "      \n",
    "    - 오류의 종류\n",
    "        사용자 입력 오류 : 사용자가 정수를 입력해야하는데 실수를 입력할수 있다.\n",
    "        장치 오류 : 네트워크가 안된다거나 하드 디스크 작동이 실패할수 있다.\n",
    "        코드 오류 : 잘못된 인덱스를 사용하여서 배열에 접근할 수 있다."
   ]
  },
  {
   "cell_type": "markdown",
   "id": "146f3868",
   "metadata": {},
   "source": [
    "13) 예외 처리\n",
    "    - 잘 알려진 오류에는 다음과 같은 것들이 있다.\n",
    "        IOError : 파일을 열 수 없으면 발생한다.\n",
    "        ImportError : 파이썬이 모듈을 찾을 수 없으면 발생한다.\n",
    "        ValueError : 연산이나 내장 함수에서 인수가 적절치 않은 값을 가지고 있으면\n",
    "                     발생한다.\n",
    "    - 오류를 처리하는 전통적인 방법은 메소드가 오류 코드를 반환하는 것이지만,\n",
    "      이 방법은 항상 가능한 것은 아니다.\n",
    "      그리고 상당히 코드가 지저분하게 된다.\n",
    "      파이썬에서는 try-except블록을 사용하여서 오류를 처리할 수 있다.\n",
    "      오류가 발생하면 프로그램의 정상적인 실행 흐름이 중단되고\n",
    "      오류를 설명하는 예외(exception)가 생성되며 이 예외가 오류 처리 코드로\n",
    "      전달된다.\n",
    "      \n",
    "    - 그렇다면 파이썬에서 예외 처리기는 어떻게 작성해야 할까?\n",
    "      예외 처리기는 try 블록과 except 블록으로 이루어진다.\n",
    "      기본적으로 try블록에서 발생된 예외를 except 블록에서 처리한다.\n",
    "      17:00"
   ]
  },
  {
   "cell_type": "markdown",
   "id": "1da8114d",
   "metadata": {},
   "source": []
  },
  {
   "cell_type": "code",
   "execution_count": null,
   "id": "da43923a",
   "metadata": {},
   "outputs": [],
   "source": []
  },
  {
   "cell_type": "code",
   "execution_count": null,
   "id": "870188cf",
   "metadata": {},
   "outputs": [],
   "source": []
  },
  {
   "cell_type": "code",
   "execution_count": null,
   "id": "2b40f6b3",
   "metadata": {},
   "outputs": [],
   "source": []
  },
  {
   "cell_type": "code",
   "execution_count": null,
   "id": "675edca6",
   "metadata": {},
   "outputs": [],
   "source": []
  },
  {
   "cell_type": "code",
   "execution_count": null,
   "id": "e8f15677",
   "metadata": {},
   "outputs": [],
   "source": []
  },
  {
   "cell_type": "code",
   "execution_count": null,
   "id": "5a7c3af1",
   "metadata": {},
   "outputs": [],
   "source": []
  },
  {
   "cell_type": "code",
   "execution_count": null,
   "id": "8deea6ab",
   "metadata": {},
   "outputs": [],
   "source": []
  },
  {
   "cell_type": "code",
   "execution_count": null,
   "id": "72850b05",
   "metadata": {},
   "outputs": [],
   "source": []
  }
 ],
 "metadata": {
  "kernelspec": {
   "display_name": "Python 3",
   "language": "python",
   "name": "python3"
  },
  "language_info": {
   "codemirror_mode": {
    "name": "ipython",
    "version": 3
   },
   "file_extension": ".py",
   "mimetype": "text/x-python",
   "name": "python",
   "nbconvert_exporter": "python",
   "pygments_lexer": "ipython3",
   "version": "3.8.8"
  }
 },
 "nbformat": 4,
 "nbformat_minor": 5
}
