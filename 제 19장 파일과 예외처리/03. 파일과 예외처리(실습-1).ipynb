{
 "cells": [
  {
   "cell_type": "code",
   "execution_count": 2,
   "id": "09cf7994",
   "metadata": {},
   "outputs": [
    {
     "name": "stdout",
     "output_type": "stream",
     "text": [
      "김연아\n",
      "홍길동\n",
      "신은혁\n"
     ]
    }
   ],
   "source": [
    "# 파일은 데이터를 영구적으로 저장하는 형태이다.\n",
    "# 파일을 다루는 방법에 대해서 알아보자.\n",
    "# 1. 파일을 열기\n",
    "\n",
    "# 파일경로\n",
    "filemap = r\"C:\\Users\\joung\\Desktop\\22Python\\inflearn\\Part6\\제 19장 파일과 예외처리\\03text.txt\"\n",
    "\n",
    "# open() 내장 함수는 파일을 열고자 할 때 사용하는 함수이다.\n",
    "file = open(filemap,\"r\",encoding=\"utf-8\")\n",
    "# readline() 함수는 파일에서 내용을 읽어 오는데\n",
    "# 줄단위로 읽어 온다.\n",
    "# 개행문자(\\n)까지 가져온다.\n",
    "# line = file.readline()\n",
    "# while line != \"\":\n",
    "#     print(line)\n",
    "#     line = file.readline()\n",
    "#  결과\n",
    "# 김연아 \n",
    "\n",
    "# 홍길동\n",
    "\n",
    "# 신은혁\n",
    "\n",
    "# 개행문자 지우기\n",
    "line = file.readline().rstrip()\n",
    "while line != \"\":\n",
    "    print(line)\n",
    "    # rstrip()메서드는 오른쪽 공백을 제거하는 함수인데\n",
    "    # \\n,\\t 등을 다 제거를 해준다.\n",
    "    line = file.readline().rstrip()\n",
    "# 결과\n",
    "# 김연아\n",
    "# 홍길동\n",
    "# 신은혁\n",
    "\n",
    "\n",
    "# 반드시 파일을 닫아줘야함.\n",
    "file.close()"
   ]
  },
  {
   "cell_type": "code",
   "execution_count": 7,
   "id": "8cfd3688",
   "metadata": {},
   "outputs": [
    {
     "name": "stdout",
     "output_type": "stream",
     "text": [
      "김연아\n",
      "신은혁\n",
      "박태환\n"
     ]
    }
   ],
   "source": [
    "# 파일에 쓰기 실습\n",
    "\n",
    "# 없는 파일 이름을 적어보자.\n",
    "# open() 는 모드가 읽기 모드는 파일이 없으면 FileNotFoundError가 발생한다.\n",
    "# 하지만 open()함수에서 쓰기모드, 추가모드로 바꾸면 \n",
    "# 새로운 파일을 생성한다.\n",
    "path = r\"C:\\Users\\joung\\Desktop\\22Python\\inflearn\\Part6\\제 19장 파일과 예외처리\\03_1text.txt\"\n",
    "\n",
    "# 모드가 쓰기 모드인 경우는 파일이 없을 때는 파일도 생성하고\n",
    "# write() 함수를 통해서 데이터를 파일에 보내면\n",
    "# 기존에 내용이 있다면 다 지우고 새로 보낸 데이터로 대체된다.\n",
    "file = open(path,\"w\",encoding=\"utf-8\")\n",
    "text = \"김연아\"\n",
    "file.write(text+\"\\n\")\n",
    "file.close()\n",
    "\n",
    "# 추가모드는 기존에 있던 내용은 그대로 두고 \n",
    "# 그 뒤에 연결해서 데이터를 추가한다.\n",
    "file = open(path,\"a\",encoding=\"utf-8\")\n",
    "text=\"신은혁\"\n",
    "file.write(text+\"\\n\")\n",
    "# print 문의 매개변수인 file을 이용하면\n",
    "# 해당 파일에 내용을 추가할 수도 있다.\n",
    "print(\"박태환\\n\" , file = file)\n",
    "file.close()\n",
    "\n",
    "file = open(path,\"r\",encoding=\"utf-8\")\n",
    "line = file.readline().rstrip()\n",
    "while line != \"\":\n",
    "    print(line)\n",
    "    line = file.readline().rstrip()\n",
    "    \n",
    "file.close()"
   ]
  },
  {
   "cell_type": "code",
   "execution_count": 10,
   "id": "cf87e922",
   "metadata": {},
   "outputs": [
    {
     "name": "stdout",
     "output_type": "stream",
     "text": [
      "김연아\n"
     ]
    }
   ],
   "source": [
    "# 파일을 닫는 3가지 방법\n",
    "\n",
    "# 1번째 방법 : close() 호출\n",
    "# 단점은 파일을 가지고 작업하다가 에러가 발생하면 \n",
    "# 파일이 제대로 닫히지 않는 경우가 발생한다.\n",
    "file = open(path,\"r\",encoding=\"utf-8\")\n",
    "line = file.readline().rstrip()\n",
    "print(line)\n",
    "file.close()\n",
    "\n"
   ]
  },
  {
   "cell_type": "code",
   "execution_count": 12,
   "id": "8c3e2366",
   "metadata": {},
   "outputs": [
    {
     "name": "stdout",
     "output_type": "stream",
     "text": [
      "김연아\n",
      "finally\n"
     ]
    },
    {
     "ename": "NameError",
     "evalue": "name 'ecsfdsfa' is not defined",
     "output_type": "error",
     "traceback": [
      "\u001b[1;31m---------------------------------------------------------------------------\u001b[0m",
      "\u001b[1;31mNameError\u001b[0m                                 Traceback (most recent call last)",
      "\u001b[1;32m<ipython-input-12-fb51b3ed17aa>\u001b[0m in \u001b[0;36m<module>\u001b[1;34m\u001b[0m\n\u001b[0;32m      4\u001b[0m     \u001b[0mline\u001b[0m \u001b[1;33m=\u001b[0m \u001b[0mfile\u001b[0m\u001b[1;33m.\u001b[0m\u001b[0mreadline\u001b[0m\u001b[1;33m(\u001b[0m\u001b[1;33m)\u001b[0m\u001b[1;33m.\u001b[0m\u001b[0mrstrip\u001b[0m\u001b[1;33m(\u001b[0m\u001b[1;33m)\u001b[0m\u001b[1;33m\u001b[0m\u001b[1;33m\u001b[0m\u001b[0m\n\u001b[0;32m      5\u001b[0m     \u001b[0mprint\u001b[0m\u001b[1;33m(\u001b[0m\u001b[0mline\u001b[0m\u001b[1;33m)\u001b[0m\u001b[1;33m\u001b[0m\u001b[1;33m\u001b[0m\u001b[0m\n\u001b[1;32m----> 6\u001b[1;33m     \u001b[0mprint\u001b[0m\u001b[1;33m(\u001b[0m\u001b[0mecsfdsfa\u001b[0m\u001b[1;33m)\u001b[0m\u001b[1;33m\u001b[0m\u001b[1;33m\u001b[0m\u001b[0m\n\u001b[0m\u001b[0;32m      7\u001b[0m \u001b[1;32mfinally\u001b[0m\u001b[1;33m:\u001b[0m\u001b[1;33m\u001b[0m\u001b[1;33m\u001b[0m\u001b[0m\n\u001b[0;32m      8\u001b[0m     \u001b[0mprint\u001b[0m\u001b[1;33m(\u001b[0m\u001b[1;34m\"finally\"\u001b[0m\u001b[1;33m)\u001b[0m\u001b[1;33m\u001b[0m\u001b[1;33m\u001b[0m\u001b[0m\n",
      "\u001b[1;31mNameError\u001b[0m: name 'ecsfdsfa' is not defined"
     ]
    }
   ],
   "source": [
    "# 2번째 방법 : try..finally\n",
    "try:\n",
    "    file = open(path,\"r\",encoding=\"utf-8\")\n",
    "    line = file.readline().rstrip()\n",
    "    print(line)\n",
    "    # 오류발생시킴\n",
    "    print(ecsfdsfa)\n",
    "finally:\n",
    "    # 무조건 실행되는 부분이기 때문에\n",
    "    # 1번째 방법보다 안전하다.\n",
    "    print(\"finally\")\n",
    "    file.close()"
   ]
  },
  {
   "cell_type": "code",
   "execution_count": 17,
   "id": "7bce9bf9",
   "metadata": {},
   "outputs": [
    {
     "name": "stdout",
     "output_type": "stream",
     "text": [
      "김연아\n"
     ]
    }
   ],
   "source": [
    "# 3번째 방법 : with 명령문\n",
    "# with 명령문 내외 블록이 종료 될때 파일이 자동으로 닫힌다.\n",
    "# close() 내부적으로 호출이 된다.(권장 방법)\n",
    "with open(path,\"r\",encoding=\"utf-8\") as file:\n",
    "    line = file.readline().rstrip()\n",
    "    print(line)\n",
    "    #print(ecsfdsfa)\n",
    "    \n"
   ]
  }
 ],
 "metadata": {
  "kernelspec": {
   "display_name": "Python 3",
   "language": "python",
   "name": "python3"
  },
  "language_info": {
   "codemirror_mode": {
    "name": "ipython",
    "version": 3
   },
   "file_extension": ".py",
   "mimetype": "text/x-python",
   "name": "python",
   "nbconvert_exporter": "python",
   "pygments_lexer": "ipython3",
   "version": "3.8.8"
  }
 },
 "nbformat": 4,
 "nbformat_minor": 5
}
