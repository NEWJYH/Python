{
 "cells": [
  {
   "cell_type": "code",
   "execution_count": 2,
   "id": "50953c57",
   "metadata": {},
   "outputs": [],
   "source": [
    "# ex11\n",
    "# 딕셔너리의 파일 쓰기와 파일 읽기\n",
    "import pickle\n",
    "\n",
    "# 딕셔너리를 만듬\n",
    "gameOption = {\n",
    "    \"Sound\":8,\n",
    "    \"VideoQulity\":\"HIGH\",\n",
    "    \"Money\":100000,\n",
    "    \"WeaponList\":[\"gun\",\"missile\",\"knife\"]\n",
    "}\n",
    "\n",
    "file = open(\"save.p\",\"wb\") # 이진 파일 저장\n",
    "pickle.dump(gameOption,file) # 딕셔너리를 피클 모듈을 이용하여 파일로 저장\n",
    "file.close()"
   ]
  },
  {
   "cell_type": "code",
   "execution_count": 3,
   "id": "0d665a5c",
   "metadata": {},
   "outputs": [
    {
     "name": "stdout",
     "output_type": "stream",
     "text": [
      "{'Sound': 8, 'VideoQulity': 'HIGH', 'Money': 100000, 'WeaponList': ['gun', 'missile', 'knife']}\n"
     ]
    }
   ],
   "source": [
    "# 파일 읽어오기\n",
    "import pickle\n",
    "\n",
    "file = open(\"save.p\",\"rb\") # 이진 파일 읽기\n",
    "obj = pickle.load(file)\n",
    "print(obj)\n",
    "file.close()"
   ]
  },
  {
   "cell_type": "code",
   "execution_count": 45,
   "id": "4f2c7b69",
   "metadata": {
    "scrolled": true
   },
   "outputs": [
    {
     "name": "stdout",
     "output_type": "stream",
     "text": [
      "10th Amendment\n",
      "11th Amendment\n",
      "12th Amendment\n",
      "13th Amendment\n",
      "14th Amendment\n",
      "15th Amendment\n",
      "16th Amendment\n",
      "17th Amendment\n",
      "18th Amendment\n",
      "19th Amendment\n",
      "20th Amendment\n",
      "21st Amendment\n",
      "22nd Amendment\n",
      "23rd Amendment\n",
      "24th Amendment\n",
      "25th Amendment\n",
      "26th Amendment\n",
      "27th Amendment\n"
     ]
    }
   ],
   "source": [
    "# 정규식 실습 \n",
    "import re\n",
    "path = r\"files/\"\n",
    "filename = \"uscons.txt\"\n",
    "\n",
    "file = open(path+filename,\"r\")\n",
    "for line in file:\n",
    "    line = line.strip() # 오른쪽 공백 없애기\n",
    "    if re.search(\"^[0-9]+\",line): # 숫자로 시작하는 문장 걸러내는 조건식\n",
    "        print(line)"
   ]
  },
  {
   "cell_type": "code",
   "execution_count": 56,
   "id": "86d9632e",
   "metadata": {},
   "outputs": [
    {
     "name": "stdout",
     "output_type": "stream",
     "text": [
      "['101', '102', '103']\n"
     ]
    }
   ],
   "source": [
    "# 정규식\n",
    "import re\n",
    "\n",
    "# 문자열 생성\n",
    "text = \"\"\"\n",
    "101 COM Python Program \n",
    "102 MAT  LinearAlgebra \n",
    "103 ENG  Computer\n",
    "\"\"\"\n",
    "# 모든 것을 찾을 때\n",
    "# findall()는 파일이나 문자열에서 찾고자 하는 것을 모두 찾는다.\n",
    "s = re.findall('\\d+',text) # 숫자 한번이상 반복하는 정규표현식\n",
    "print(s)\n"
   ]
  }
 ],
 "metadata": {
  "kernelspec": {
   "display_name": "Python 3",
   "language": "python",
   "name": "python3"
  },
  "language_info": {
   "codemirror_mode": {
    "name": "ipython",
    "version": 3
   },
   "file_extension": ".py",
   "mimetype": "text/x-python",
   "name": "python",
   "nbconvert_exporter": "python",
   "pygments_lexer": "ipython3",
   "version": "3.8.8"
  }
 },
 "nbformat": 4,
 "nbformat_minor": 5
}
