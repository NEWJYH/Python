{
 "cells": [
  {
   "cell_type": "code",
   "execution_count": 2,
   "id": "e6ddb837",
   "metadata": {},
   "outputs": [
    {
     "name": "stdout",
     "output_type": "stream",
     "text": [
      "[40032, 8485, 11806, 19279, 59646, 10687, 10708, 31750, 34034, 596, 4195, 21690, 12336, 33754, 35898, 8962, 915, 26653, 32531, 44879, 13730, 4512, 11322, 665, 8810, 270]\n"
     ]
    }
   ],
   "source": [
    "# ap_exist.py\n",
    "\n",
    "# 하나의 파일을 읽어서 그 안에 알파벳이 몇 개가 있는지 확인하는 \n",
    "# 프로그램을 작성하기\n",
    "\n",
    "counter = [0] * 26 # 0으로 초기화된 26개의 데이터를 갖는 리스트 생성\n",
    "path = r\"files/\"\n",
    "infile = open(path+\"mobydick.txt\",\"r\")\n",
    "ch = infile.read(1)\n",
    "while ch != \"\":\n",
    "    # 만약 알파벳이라면?\n",
    "    if ch.isalpha():\n",
    "        ch  = ch.upper() # 대문자로 바꾸기\n",
    "        # 알파벳이라면...\n",
    "        if ch >= \"A\" and ch <= \"Z\":\n",
    "            # 알파벳이 맞다면, 아스키코드에서 A는 65 \n",
    "            # A의 인덱스를 0으로 잡고 counter리스트에 추가하면된다.\n",
    "            # ord()함수는 유니코드를 반환 \n",
    "            # A를 빼면 현재 알파벳의 문자번호를 알수가 있다.\n",
    "            i = ord(ch) - ord(\"A\") \n",
    "            counter[i] += 1\n",
    "    \n",
    "    ch = infile.read(1)\n",
    "            \n",
    "print(counter)            \n",
    "infile.close()\n",
    "        "
   ]
  },
  {
   "cell_type": "code",
   "execution_count": 6,
   "id": "a633e931",
   "metadata": {},
   "outputs": [
    {
     "name": "stdout",
     "output_type": "stream",
     "text": [
      "파일명을 입력하세요: words.txt\n",
      "{'a': 36648, 'r': 35209, 'd': 19367, 'v': 5130, 'k': 3943, 'w': 4127, 'o': 29054, 'l': 26398, 'f': 6876, 'n': 34477, 'b': 9047, 'c': 19909, 'u': 16501, 's': 41431, 't': 33933, 'e': 56003, 'm': 12944, 'h': 10401, 'i': 42630, 'y': 8349, 'g': 14299, 'j': 807, 'z': 715, 'p': 14118, 'q': 870, 'x': 1391}\n"
     ]
    }
   ],
   "source": [
    "# counter_letters.py\n",
    "\n",
    "# 사용자로부터 파일 안에 문자들의 개수를 세는 프로그램을 작성하기\n",
    "path = r\"files/\"\n",
    "filename = input(\"파일명을 입력하세요: \").strip()\n",
    "\n",
    "infile = open(path+filename,\"r\")\n",
    "\n",
    "# 결과를 담을 딕셔너리\n",
    "freqs = {}\n",
    "\n",
    "for line in infile:\n",
    "    for char in line.strip(): # 문자들의 양쪽 공백 제거함\n",
    "        # 알파벳이 아니라면?\n",
    "        if not char.isalpha():\n",
    "            continue # 반복문 아래 코드 실행않고 넘어감.\n",
    "        # 문자가 있다면?\n",
    "        if char in freqs:\n",
    "            freqs[char] += 1 # 문자하나를 누적\n",
    "        # 문자가 없다면?\n",
    "        else:\n",
    "            freqs[char] = 1 \n",
    "\n",
    "print(freqs)\n",
    "\n",
    "infile.close()"
   ]
  }
 ],
 "metadata": {
  "kernelspec": {
   "display_name": "Python 3",
   "language": "python",
   "name": "python3"
  },
  "language_info": {
   "codemirror_mode": {
    "name": "ipython",
    "version": 3
   },
   "file_extension": ".py",
   "mimetype": "text/x-python",
   "name": "python",
   "nbconvert_exporter": "python",
   "pygments_lexer": "ipython3",
   "version": "3.8.8"
  }
 },
 "nbformat": 4,
 "nbformat_minor": 5
}
