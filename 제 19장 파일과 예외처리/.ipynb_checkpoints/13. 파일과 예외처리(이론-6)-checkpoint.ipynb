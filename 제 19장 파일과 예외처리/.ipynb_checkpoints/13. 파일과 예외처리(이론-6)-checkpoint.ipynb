{
 "cells": [
  {
   "cell_type": "markdown",
   "id": "422500d0",
   "metadata": {},
   "source": [
    "13) 예외 처리\n",
    "    - 우리가 사는 세상은 완벽하지 않다.\n",
    "      사용자들은 잘못된 데이터를 입력할 수도 있고,\n",
    "      우리가 릴리즈 하고자 하는 파일이 컴퓨터에 존재하지 않을 수 있으며\n",
    "      인터넷이 다운될 수도 있다.\n",
    "      프로그래머에 의하여 많은 버그들이 프로그램에 추가될 수도 있다.\n",
    "      예를 들어 배열의 인덱스가 한계를 넘을 수도 있다.\n",
    "      지금까지는 이러한 문제들을 전혀 생각하지 않았지만 이번 장부터는\n",
    "      현실을 직시해보자.\n",
    "      \n",
    "    - 오류가 발생하였다면 우리는 무엇을 어떻게 하여야 하는가?\n",
    "      먼저 침착하게 오류의 내용을 살펴보아야 한다.\n",
    "      파이썬은 상당히 발전된 오류 보고 시스템을 가지고 있어서 소스 파일의\n",
    "      몇 번째 문장에서 오류가 발생했는지를 우리에게 알려준다.\n",
    "      따라서 해당 문장으로 가서 살펴 보아야 할 것이다.\n",
    "      \n",
    "    - 예를 들어서 파일을 열어서 데이터를 읽는 프로그램에서 파일이 없다면\n",
    "      당장 오류가 발생되며 종료될 것이다.\n",
    "      또 정수를 0으로 나눈다면 오류가 발생할 것이다."
   ]
  },
  {
   "cell_type": "code",
   "execution_count": 1,
   "id": "28763ec8",
   "metadata": {},
   "outputs": [
    {
     "ename": "ZeroDivisionError",
     "evalue": "division by zero",
     "output_type": "error",
     "traceback": [
      "\u001b[1;31m---------------------------------------------------------------------------\u001b[0m",
      "\u001b[1;31mZeroDivisionError\u001b[0m                         Traceback (most recent call last)",
      "\u001b[1;32m<ipython-input-1-a0066295c7a0>\u001b[0m in \u001b[0;36m<module>\u001b[1;34m\u001b[0m\n\u001b[0;32m      1\u001b[0m \u001b[1;33m(\u001b[0m\u001b[0mx\u001b[0m\u001b[1;33m,\u001b[0m\u001b[0my\u001b[0m\u001b[1;33m)\u001b[0m \u001b[1;33m=\u001b[0m \u001b[1;33m(\u001b[0m\u001b[1;36m2\u001b[0m\u001b[1;33m,\u001b[0m\u001b[1;36m0\u001b[0m\u001b[1;33m)\u001b[0m\u001b[1;33m\u001b[0m\u001b[1;33m\u001b[0m\u001b[0m\n\u001b[0;32m      2\u001b[0m \u001b[1;33m\u001b[0m\u001b[0m\n\u001b[1;32m----> 3\u001b[1;33m \u001b[0mz\u001b[0m\u001b[1;33m=\u001b[0m \u001b[0mx\u001b[0m\u001b[1;33m/\u001b[0m\u001b[0my\u001b[0m\u001b[1;33m\u001b[0m\u001b[1;33m\u001b[0m\u001b[0m\n\u001b[0m",
      "\u001b[1;31mZeroDivisionError\u001b[0m: division by zero"
     ]
    }
   ],
   "source": [
    "(x,y) = (2,0)\n",
    "\n",
    "z= x/y"
   ]
  },
  {
   "cell_type": "markdown",
   "id": "375ed27e",
   "metadata": {},
   "source": [
    "13) 예외 처리\n",
    "    - 위의 프로그램에서는 ZeroDivisionError 오류가 발생하였고\n",
    "      파이썬 인터프리터는 어디서 오류가 발생되었는지를 자세하게 보고 한다.\n",
    "      이러한 오류 메시지를 역추적(trackback)메시지라고 한다."
   ]
  },
  {
   "cell_type": "markdown",
   "id": "8efaeb57",
   "metadata": {},
   "source": [
    "13) 예외 처리\n",
    "    - 파이썬에서 실행 도중에 발생하는 오류를 예외(exception)라고 부른다.\n",
    "      만약 우리가 만든 프로그램을 사용하던 사용자가 오류를 만났다고 가정하자.\n",
    "      대개의 경우 오류가 발생하면 프로그램이 종료된다.\n",
    "      오류가 발생하여서 사용자가 이제까지 작업하던 데이터를 모두 잃어버렸다면\n",
    "      사용자는 절망하게 될 것이다.\n",
    "      따라서 우리는 오류가 발생했을 때 오류를 사용자에게 알려주고\n",
    "      모든 데이터를 저장하게 한 후에 사용자가 우아하게(gracefully)프로그램을\n",
    "      종료할 수 있도록 하는 것이 바람직할 것이다.\n",
    "      오류를 처리한 후에 계속 실행할 수 있다면 더 나은 프로그램이 될 수 있다.\n",
    "      파이썬에서는 예외처리를 통하여 이러한 기능을 제공할 수 있다.\n",
    "      \n",
    "    - 오류의 종류\n",
    "        사용자 입력 오류 : 사용자가 정수를 입력해야하는데 실수를 입력할수 있다.\n",
    "        장치 오류 : 네트워크가 안된다거나 하드 디스크 작동이 실패할수 있다.\n",
    "        코드 오류 : 잘못된 인덱스를 사용하여서 배열에 접근할 수 있다."
   ]
  },
  {
   "cell_type": "markdown",
   "id": "146f3868",
   "metadata": {},
   "source": [
    "13) 예외 처리\n",
    "    - 잘 알려진 오류에는 다음과 같은 것들이 있다.\n",
    "        IOError : 파일을 열 수 없으면 발생한다.\n",
    "        ImportError : 파이썬이 모듈을 찾을 수 없으면 발생한다.\n",
    "        ValueError : 연산이나 내장 함수에서 인수가 적절치 않은 값을 가지고 있으면\n",
    "                     발생한다.\n",
    "                     \n",
    "    - 오류를 처리하는 전통적인 방법은 메소드가 오류 코드를 반환하는 것이지만,\n",
    "      이 방법은 항상 가능한 것은 아니다.\n",
    "      그리고 상당히 코드가 지저분하게 된다.\n",
    "      파이썬에서는 try-except블록을 사용하여서 오류를 처리할 수 있다.\n",
    "      오류가 발생하면 프로그램의 정상적인 실행 흐름이 중단되고\n",
    "      오류를 설명하는 예외(exception)가 생성되며 이 예외가 오류 처리 코드로\n",
    "      전달된다.\n",
    "      \n",
    "    - 그렇다면 파이썬에서 예외 처리기는 어떻게 작성해야 할까?\n",
    "      예외 처리기는 try 블록과 except 블록으로 이루어진다.\n",
    "      기본적으로 try블록에서 발생된 예외를 except 블록에서 처리한다.\n",
    "      "
   ]
  },
  {
   "cell_type": "markdown",
   "id": "1da8114d",
   "metadata": {},
   "source": [
    "13) 예외 처리\n",
    "    - 예외 처리기의 기본 형식은 다음과 같다."
   ]
  },
  {
   "cell_type": "code",
   "execution_count": 7,
   "id": "93f1989c",
   "metadata": {},
   "outputs": [
    {
     "name": "stdout",
     "output_type": "stream",
     "text": [
      "0으로 나누는 예외\n"
     ]
    }
   ],
   "source": [
    "try:\n",
    "    # 예외가 발생할 수 있는 문장\n",
    "    x = 2\n",
    "    y = 0\n",
    "    z = x/y\n",
    "except ZeroDivisionError: # 예외\n",
    "    # 예외 처리하는 문장\n",
    "    print(\"0으로 나누는 예외\")"
   ]
  },
  {
   "cell_type": "markdown",
   "id": "b6d2c2d7",
   "metadata": {},
   "source": [
    "13) 예외 처리\n",
    "    - 먼저 try 블록에는 예외가 발생할 가능성이 있는 문장들이 들어간다.\n",
    "      except블록에는 자신이 처리할 수 있는 예외의 종류를 지정하고\n",
    "      그 예외를 처리하기 위한 코드가 들어간다.\n",
    "      \n",
    "    - 예를 들어서 앞에서 등장한 0으로 나누는 예외를 처리하면\n",
    "      다음과 같이 코드를 작성하면 된다."
   ]
  },
  {
   "cell_type": "code",
   "execution_count": 8,
   "id": "ae75d3b8",
   "metadata": {},
   "outputs": [
    {
     "name": "stdout",
     "output_type": "stream",
     "text": [
      "0으로 나누는 예외\n"
     ]
    }
   ],
   "source": [
    "x,z = 2,0\n",
    "try:\n",
    "    z = x/y\n",
    "    \n",
    "except ZeroDivisionError:\n",
    "    print(\"0으로 나누는 예외\")"
   ]
  },
  {
   "cell_type": "markdown",
   "id": "23d797a3",
   "metadata": {},
   "source": [
    "13) 예외 처리\n",
    "    - 만약 시스템이 내보내는 예외 메시지를 출력하고 싶으면 다음과 같이 한다."
   ]
  },
  {
   "cell_type": "code",
   "execution_count": 9,
   "id": "2d6c9e0d",
   "metadata": {},
   "outputs": [
    {
     "name": "stdout",
     "output_type": "stream",
     "text": [
      "division by zero\n",
      "0으로 나누는 예외\n"
     ]
    }
   ],
   "source": [
    "x,z = 2,0\n",
    "try:\n",
    "    z = x/y\n",
    "    \n",
    "except ZeroDivisionError as e:\n",
    "    print(e)\n",
    "    print(\"0으로 나누는 예외\")"
   ]
  },
  {
   "cell_type": "markdown",
   "id": "8762823a",
   "metadata": {},
   "source": [
    "13) 예외 처리\n",
    "    - 사용자가 숫자를 입력할 때도 오류가 발생할 수 있다.\n",
    "      예를 들어서 정수를 받아야 되는데 사용자가 실수를 입력하면 다음과 같이\n",
    "      오류가 발생한다."
   ]
  },
  {
   "cell_type": "code",
   "execution_count": 10,
   "id": "38a9e1c7",
   "metadata": {},
   "outputs": [
    {
     "name": "stdout",
     "output_type": "stream",
     "text": [
      "숫자를 입력하세요 : 2.5\n"
     ]
    },
    {
     "ename": "ValueError",
     "evalue": "invalid literal for int() with base 10: '2.5'",
     "output_type": "error",
     "traceback": [
      "\u001b[1;31m---------------------------------------------------------------------------\u001b[0m",
      "\u001b[1;31mValueError\u001b[0m                                Traceback (most recent call last)",
      "\u001b[1;32m<ipython-input-10-e19e47f8bb7a>\u001b[0m in \u001b[0;36m<module>\u001b[1;34m\u001b[0m\n\u001b[1;32m----> 1\u001b[1;33m \u001b[0mn\u001b[0m \u001b[1;33m=\u001b[0m \u001b[0mint\u001b[0m\u001b[1;33m(\u001b[0m\u001b[0minput\u001b[0m\u001b[1;33m(\u001b[0m\u001b[1;34m\"숫자를 입력하세요 : \"\u001b[0m\u001b[1;33m)\u001b[0m\u001b[1;33m)\u001b[0m\u001b[1;33m\u001b[0m\u001b[1;33m\u001b[0m\u001b[0m\n\u001b[0m",
      "\u001b[1;31mValueError\u001b[0m: invalid literal for int() with base 10: '2.5'"
     ]
    }
   ],
   "source": [
    "n = int(input(\"숫자를 입력하세요 : \"))"
   ]
  },
  {
   "cell_type": "markdown",
   "id": "23676483",
   "metadata": {},
   "source": [
    "13) 예외 처리\n",
    "    - 이러한 경우에도 다음과 같이 try-except 구조를 사용하여 \n",
    "      오류를 처리할 수 있다."
   ]
  },
  {
   "cell_type": "code",
   "execution_count": 7,
   "id": "039b57b1",
   "metadata": {},
   "outputs": [
    {
     "name": "stdout",
     "output_type": "stream",
     "text": [
      "숫자를 입력하세요23.5\n",
      "invalid literal for int() with base 10: '23.5'\n",
      "정수가 아닙니다. 다시입력하세요\n",
      "숫자를 입력하세요5\n",
      "정수 입력이 성공하였습니다.\n"
     ]
    }
   ],
   "source": [
    "while True:\n",
    "    try:\n",
    "        n = input(\"숫자를 입력하세요 :\")\n",
    "        n = int(n)\n",
    "        break\n",
    "    except ValueError as e:\n",
    "        print(e)\n",
    "        print(\"정수가 아닙니다. 다시입력하세요\")\n",
    "        \n",
    "print(\"정수 입력이 성공하였습니다.\")"
   ]
  },
  {
   "cell_type": "markdown",
   "id": "3e3eda6f",
   "metadata": {},
   "source": [
    "13) 예외 처리\n",
    "    - 파일을 열 때도 오류가 많이 발생한다.\n",
    "      파일 오류를 처리하는 문장을 작성해 보면 다음과 같다."
   ]
  },
  {
   "cell_type": "code",
   "execution_count": 8,
   "id": "7ef8e5a5",
   "metadata": {},
   "outputs": [
    {
     "name": "stdout",
     "output_type": "stream",
     "text": [
      "파일 이름을 입력하세요 : ㅁㄴㅇㄹ\n",
      "파일 ㅁㄴㅇㄹ을 발견할 수 없습니다.\n"
     ]
    }
   ],
   "source": [
    "try:\n",
    "    fname = input(\"파일 이름을 입력하세요 : \")\n",
    "    infile = open(fname,\"r\")\n",
    "except IOError:\n",
    "    print(f\"파일 {fname}을 발견할 수 없습니다.\")"
   ]
  },
  {
   "cell_type": "markdown",
   "id": "c8eb090c",
   "metadata": {},
   "source": [
    "13) 예외 처리\n",
    "    - try/except 블록에서 예외가 발생하는 경우와 발생하지 않는 경우의 실행 흐름을\n",
    "      비교하여 보자. 먼저 예외가 발생하지 않는 경우에는 except 블록의 코드는\n",
    "      실행되지 않는다. 예외가 발생한 경우에는 except 블록의 코드가 실행된다.\n",
    "      \n",
    "    - 다중 예외 처리 구조를 작성 할 수 있는데 하나의 try문장은 여러 개의 except\n",
    "      문장을 가질 수 있다.\n",
    "      이것은 하나의 문장에서 많은 예외가 발생할 수 있는 경우에 유용하다.\n",
    "      except 뒤에 예외를 나타내는 클래스 이름을 적어주면 특정 예외를\n",
    "      처리하는 except절이 된다. except 절 뒤에는 else 절을 추가할 수 있다.\n",
    "      try블록이 아무런 예외도 발생하지 않을 때 실행되는 블록이다."
   ]
  },
  {
   "cell_type": "code",
   "execution_count": 9,
   "id": "eed1d68a",
   "metadata": {},
   "outputs": [
    {
     "ename": "IndentationError",
     "evalue": "expected an indented block (<ipython-input-9-df1aa9f2067f>, line 3)",
     "output_type": "error",
     "traceback": [
      "\u001b[1;36m  File \u001b[1;32m\"<ipython-input-9-df1aa9f2067f>\"\u001b[1;36m, line \u001b[1;32m3\u001b[0m\n\u001b[1;33m    except exception as e :\u001b[0m\n\u001b[1;37m    ^\u001b[0m\n\u001b[1;31mIndentationError\u001b[0m\u001b[1;31m:\u001b[0m expected an indented block\n"
     ]
    }
   ],
   "source": [
    "try: # 예외가 발생할 수 있는 문장\n",
    "    \n",
    "except exception1: # exception1 예외가 발생하면 여기서 처리한다.\n",
    "    \n",
    "except exception2: # exception2 예외가 발생하면 여기서 처리한다.\n",
    "    \n",
    "else: # 예외가 없다면 이 블록이 실행된다."
   ]
  },
  {
   "cell_type": "code",
   "execution_count": 14,
   "id": "71933733",
   "metadata": {},
   "outputs": [
    {
     "name": "stdout",
     "output_type": "stream",
     "text": [
      "z = 0.0\n"
     ]
    }
   ],
   "source": [
    "x,y = 0,1\n",
    "try: # 예외가 발생할 수 있는 문장\n",
    "    z = x/y\n",
    "except Exception as e : # exception1 예외가 발생하면 여기서 처리한다.\n",
    "    print(e)\n",
    "else: # 예외가 없다면 이 블록이 실행된다.\n",
    "    print(f\"z = {z}\")"
   ]
  },
  {
   "cell_type": "markdown",
   "id": "09c5f87a",
   "metadata": {},
   "source": [
    "13) 예외 처리\n",
    "    - 예를 들어보자.\n",
    "      파일을 열어서 문자열을 기록한 후에 발생할 수 있는 IOError 예외를 처리하고\n",
    "      예외가 발생하지 않았으면 성공적으로 파일을 기록하였다는 \n",
    "      메시지를 출력하는 프로그램을 작성해보자."
   ]
  },
  {
   "cell_type": "code",
   "execution_count": 18,
   "id": "2f5cc05d",
   "metadata": {},
   "outputs": [
    {
     "name": "stdout",
     "output_type": "stream",
     "text": [
      "파일을 성공적으로 기록하였습니다.\n",
      "파일 닫음\n"
     ]
    }
   ],
   "source": [
    "try:\n",
    "    fh = open(\"13text.txt\",\"w\",encoding=\"utf-8\")\n",
    "    fh.write(\"테스트 데이터를 파일에 씁니다.\\n\")\n",
    "    \n",
    "except Exception as e:\n",
    "    print(e)\n",
    "    if e == \"IOError\":\n",
    "        print(\"파일을 찾을 수 없거나 데이터를 쓸 수 없습니다.\")\n",
    "else:\n",
    "    print(\"파일을 성공적으로 기록하였습니다.\")\n",
    "finally:\n",
    "    fh.close()\n",
    "    print(\"파일 닫음\")"
   ]
  },
  {
   "cell_type": "markdown",
   "id": "366e3dd8",
   "metadata": {},
   "source": [
    "13) 예외 처리\n",
    "    - 만약 우리가 except 블록을 만들 때 자세한 예외의 내용을 적지 않으면\n",
    "      어떠한 예외라도 처리할 수 있는 except 블록이 된다."
   ]
  },
  {
   "cell_type": "code",
   "execution_count": null,
   "id": "62bf9853",
   "metadata": {},
   "outputs": [],
   "source": [
    "try: # 예외가 발생할수 있는 문장\n",
    "    \n",
    "except: # 어떠한 예외라도 발생하면 여기서 치이다.\n",
    "    \n",
    "else: # 예외가 없다면 이 블록이 실행된다."
   ]
  },
  {
   "cell_type": "markdown",
   "id": "ad4c7cbe",
   "metadata": {},
   "source": [
    "13) 예외 처리\n",
    "    - try-finally 블록이란 방법도 있는데 finally블록은\n",
    "      오류가 발생한 경우나 발생하지 않은 경우에도 항상 실행되어야 하는 문장을\n",
    "      두는 블록이다.\n",
    "      finally 블록은 항상 실행된다."
   ]
  },
  {
   "cell_type": "code",
   "execution_count": null,
   "id": "541b92ee",
   "metadata": {},
   "outputs": [],
   "source": [
    "try: # 예외가 발생 할 수 있는 문장\n",
    "    \n",
    "finally: # 항상 실행된다."
   ]
  },
  {
   "cell_type": "markdown",
   "id": "c2fe3bb0",
   "metadata": {},
   "source": [
    "13) 예외 처리\n",
    "    - 파일을 다루는 경우에는 예외 여부와 상관없이 항상 파일을 닫아야 한다.\n",
    "      이러한 경우에 finally 블록이 사용하면 되겠다."
   ]
  },
  {
   "cell_type": "code",
   "execution_count": 21,
   "id": "8fca7a29",
   "metadata": {},
   "outputs": [
    {
     "name": "stdout",
     "output_type": "stream",
     "text": [
      "테스트 데이터 기록 완료\n",
      "파일 닫기 완료\n"
     ]
    }
   ],
   "source": [
    "try:# 오류가 발생할수 있는 코드\n",
    "    f=open(\"13test.txt\",\"w\")\n",
    "    f.write(\"테스트 데이터를 파일에 씁니다.\")\n",
    "    print(\"테스트 데이터 기록 완료\")\n",
    "except Exception as e: # 오류가 발생하였다면 실행할 코드\n",
    "    print(f\"{e} 파일을 찾을 수 없거나 데이터를 쓸수 없습니다.\")\n",
    "    \n",
    "else: # 오류가 발생하지 않았을 경우에 실행할 코드\n",
    "    f.write(\"\\nHello\")\n",
    "finally: # 무조건 실행할 코드\n",
    "    f.close()\n",
    "    print(\"파일 닫기 완료\")"
   ]
  },
  {
   "cell_type": "markdown",
   "id": "4fc90934",
   "metadata": {},
   "source": [
    "13) 예외 처리\n",
    "    - 근본적인 질문을 던져보자.\n",
    "      예외 객체는 누가 생성하는 것일까?\n",
    "      예외는 주로 라이브러리에서 많이 발생하지만 실제로는 어떤 코드라도 예외를\n",
    "      발생시킬 수 있다. 파이썬에는 예외 객체를 생성하는 키워드가 있다.\n",
    "      바로 raise 키워드이다. \n",
    "      파이썬에서는 오류가 감지되면 raise 문을 사용하여 예외를 생성한다.\n",
    "      \n",
    "      raise exception\n",
    "      \n",
    "    - 위의 형식에서 exception은 예외의 종류이다.\n",
    "      예외의 종류는 우리가 문자열이나 객체로 정의할 수 있다.\n",
    "      예외의 종류가 반드시 있어야 하는 것은 아니지만 있어야 의미가 있다.\n",
    "      파이썬에서 사용하는 예외는 물론 클래스이다.\n",
    "      간단하게 문자열을 이용하여 예외를 정의하고 예외를 발생시켜 보자."
   ]
  },
  {
   "cell_type": "code",
   "execution_count": 22,
   "id": "b4b695f4",
   "metadata": {},
   "outputs": [
    {
     "ename": "NameError",
     "evalue": "Hello",
     "output_type": "error",
     "traceback": [
      "\u001b[1;31m---------------------------------------------------------------------------\u001b[0m",
      "\u001b[1;31mNameError\u001b[0m                                 Traceback (most recent call last)",
      "\u001b[1;32m<ipython-input-22-5a38defef8e4>\u001b[0m in \u001b[0;36m<module>\u001b[1;34m\u001b[0m\n\u001b[1;32m----> 1\u001b[1;33m \u001b[1;32mraise\u001b[0m \u001b[0mNameError\u001b[0m\u001b[1;33m(\u001b[0m\u001b[1;34m\"Hello\"\u001b[0m\u001b[1;33m)\u001b[0m\u001b[1;33m\u001b[0m\u001b[1;33m\u001b[0m\u001b[0m\n\u001b[0m",
      "\u001b[1;31mNameError\u001b[0m: Hello"
     ]
    }
   ],
   "source": [
    "raise NameError(\"Hello\")"
   ]
  },
  {
   "cell_type": "code",
   "execution_count": 24,
   "id": "c82a9a2a",
   "metadata": {},
   "outputs": [
    {
     "ename": "NameError",
     "evalue": "Exist",
     "output_type": "error",
     "traceback": [
      "\u001b[1;31m---------------------------------------------------------------------------\u001b[0m",
      "\u001b[1;31mNameError\u001b[0m                                 Traceback (most recent call last)",
      "\u001b[1;32m<ipython-input-24-915e7465ea94>\u001b[0m in \u001b[0;36m<module>\u001b[1;34m\u001b[0m\n\u001b[1;32m----> 1\u001b[1;33m \u001b[1;32mraise\u001b[0m \u001b[0mNameError\u001b[0m\u001b[1;33m(\u001b[0m\u001b[1;34m\"Exist\"\u001b[0m\u001b[1;33m)\u001b[0m\u001b[1;33m\u001b[0m\u001b[1;33m\u001b[0m\u001b[0m\n\u001b[0m",
      "\u001b[1;31mNameError\u001b[0m: Exist"
     ]
    }
   ],
   "source": [
    "raise NameError(\"Exist\")"
   ]
  }
 ],
 "metadata": {
  "kernelspec": {
   "display_name": "Python 3",
   "language": "python",
   "name": "python3"
  },
  "language_info": {
   "codemirror_mode": {
    "name": "ipython",
    "version": 3
   },
   "file_extension": ".py",
   "mimetype": "text/x-python",
   "name": "python",
   "nbconvert_exporter": "python",
   "pygments_lexer": "ipython3",
   "version": "3.8.8"
  }
 },
 "nbformat": 4,
 "nbformat_minor": 5
}
