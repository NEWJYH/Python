{
 "cells": [
  {
   "cell_type": "code",
   "execution_count": 11,
   "id": "408364f4",
   "metadata": {},
   "outputs": [],
   "source": [
    "# 파이썬에서 파일을 쓰는 방법\n",
    "\n",
    "# write() : 빈칸(\\n)이 필요하면 직접 입력해야 한다.\n",
    "#           기본적으로 파일에 쓰는 방법이다.\n",
    "\n",
    "# writelines() : 리스트 등으로 된 여러 문장을 입력하기 위해서 사용한다.\n",
    "#                문자열을 빈칸(\\n)으로 연결하기 위해서 join() 사용한다.\n",
    "\n",
    "\n",
    "# 1. write 함수 사용\n",
    "with open(\"05write_test.txt\",\"w\",encoding=\"utf-8\") as file:\n",
    "    file.write(\"안녕하세요 반갑습니다\\n\")\n",
    "    file.write(\"저는 홍길동 입니다\\n\")\n",
    "    file.close()"
   ]
  },
  {
   "cell_type": "code",
   "execution_count": 12,
   "id": "922f9ed3",
   "metadata": {},
   "outputs": [
    {
     "name": "stdout",
     "output_type": "stream",
     "text": [
      "안녕하세요 반갑습니다\n",
      "저는 홍길동 입니다\n",
      "\n"
     ]
    }
   ],
   "source": [
    "with open(\"05write_test.txt\",\"r\",encoding=\"utf-8\") as file:\n",
    "    text = file.read()\n",
    "    print(text)"
   ]
  },
  {
   "cell_type": "code",
   "execution_count": 13,
   "id": "bcb4217d",
   "metadata": {},
   "outputs": [],
   "source": [
    "# 모드 \"a\" 추가모드로 \n",
    "\n",
    "# 2.writelines 함수 사용\n",
    "with open(\"05write_test.txt\",\"a\",encoding=\"utf-8\") as file:\n",
    "    # 리스트 형태로 바로 파일에 기록했다.\n",
    "    file.writelines([\"하나\",\"둘\",\"셋\",\"넷\",\"다섯\",\"화이팅\"])\n",
    "    file.write(\"\\n\")\n",
    "    # 리스트를 보내기는 하는데 \\n이라는 것과 리스트 내용과 합치는 join()를\n",
    "    # 이용하여 파일에 기록했다.\n",
    "    file.writelines(\"\\n\".join([\"하나\",\"둘\",\"셋\",\"넷\",\"다섯\",\"화이팅\"]))\n",
    "    file.write(\"\\n\")"
   ]
  },
  {
   "cell_type": "code",
   "execution_count": 14,
   "id": "591c0fa1",
   "metadata": {},
   "outputs": [
    {
     "name": "stdout",
     "output_type": "stream",
     "text": [
      "안녕하세요 반갑습니다\n",
      "저는 홍길동 입니다\n",
      "하나둘셋넷다섯화이팅\n",
      "하나\n",
      "둘\n",
      "셋\n",
      "넷\n",
      "다섯\n",
      "화이팅\n",
      "\n"
     ]
    }
   ],
   "source": [
    "with open(\"05write_test.txt\",\"r\",encoding=\"utf-8\") as file:\n",
    "    text = file.read()\n",
    "    print(text)"
   ]
  },
  {
   "cell_type": "code",
   "execution_count": 21,
   "id": "4cac64ce",
   "metadata": {},
   "outputs": [
    {
     "name": "stdout",
     "output_type": "stream",
     "text": [
      "파일 포인터의 현재 위치 :  0\n",
      "안녕하세요 반갑습니다\n",
      "저는 홍길동 입니다\n",
      "하나둘셋넷다섯화이팅\n",
      "하나\n",
      "둘\n",
      "셋\n",
      "넷\n",
      "다섯\n",
      "화이팅\n",
      "\n",
      "파일 포인터의 현재 위치 :  135\n",
      "-----------------------------------\n",
      "파일 포인터의 현재 위치 :  0\n",
      "파일 포인터의 현재 위치 :  3\n",
      "녕하세요 반갑습니다\n",
      "저는 홍길동 입니다\n",
      "하나둘셋넷다섯화\n"
     ]
    }
   ],
   "source": [
    "# 파이썬 파일 현재 위치 확인 및 변경 하는 실습\n",
    "# tell() : 파일의 현재 위치를 확인할 떄 사용한다.\n",
    "# seek() : 파일의 현재 위치를 변경할 때 사용한다.\n",
    "# seek(0) : 파일의 처음 위치로 돌아간다.\n",
    "\n",
    "with open(\"05write_test.txt\",\"r\",encoding=\"utf-8\") as file:\n",
    "    print(\"파일 포인터의 현재 위치 : \",file.tell())\n",
    "    print(file.read())\n",
    "    print(\"파일 포인터의 현재 위치 : \",file.tell())\n",
    "    print(\"-----------------------------------\")\n",
    "    # 맨처음 위치로 파일 포인터를 돌아가게끔 함\n",
    "    file.seek(0)\n",
    "    print(\"파일 포인터의 현재 위치 : \",file.tell())\n",
    "    # utf-8에서 한글은 한글자가 3바이트\n",
    "    # 3바이트 단위로 끊어서 seek() 해주지 않으면\n",
    "    # 오류 발생\n",
    "    # 'utf-8' codec can't decode byte 0x95 in position 0: invalid start byte\n",
    "    file.seek(3)\n",
    "    print(\"파일 포인터의 현재 위치 : \",file.tell())\n",
    "    # 30바이트 만큼 읽어서 출력하시오.\n",
    "    print(file.read(30))"
   ]
  }
 ],
 "metadata": {
  "kernelspec": {
   "display_name": "Python 3",
   "language": "python",
   "name": "python3"
  },
  "language_info": {
   "codemirror_mode": {
    "name": "ipython",
    "version": 3
   },
   "file_extension": ".py",
   "mimetype": "text/x-python",
   "name": "python",
   "nbconvert_exporter": "python",
   "pygments_lexer": "ipython3",
   "version": "3.8.8"
  }
 },
 "nbformat": 4,
 "nbformat_minor": 5
}
