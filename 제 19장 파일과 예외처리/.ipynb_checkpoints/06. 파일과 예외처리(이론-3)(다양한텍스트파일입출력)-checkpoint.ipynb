{
 "cells": [
  {
   "cell_type": "markdown",
   "id": "26e223c6",
   "metadata": {},
   "source": [
    "2. 다양한 텍스트 파일 입출력 방법"
   ]
  },
  {
   "cell_type": "markdown",
   "id": "abbaf2f0",
   "metadata": {},
   "source": [
    "1) for-each 구문을 이용하는 방법\n",
    "    - 앞에서는 readline()메소드를 호출하여서 파일의 한 줄을 읽었는데 \n",
    "      더 간단한 방법이 있다. \n",
    "      \n",
    "    - 파일을 문자열들이 저장되어 있는 시퀸스(컨테이너) 객체로 볼 수 있다.\n",
    "      따라서 for-each 구문을 이용하여 다음과 같이 작성할 수도 있다.\n",
    "      아래의 코드는 파일의 모든 줄을 읽어서 콘솔에 출력한다."
   ]
  },
  {
   "cell_type": "code",
   "execution_count": null,
   "id": "0b24ffc3",
   "metadata": {},
   "outputs": [],
   "source": [
    "infile = open(\"scores.txt\",\"r\")\n",
    "for line in infile:\n",
    "    pirnt(line)"
   ]
  },
  {
   "cell_type": "markdown",
   "id": "d1069f88",
   "metadata": {},
   "source": [
    "1) for-each 구문을 이용하는 방법\n",
    "    - 각 반복문에서 변수 line에 파일의 한 줄이 할당된다.\n",
    "      파일 객체의 readline()을 사용할 것인지,\n",
    "      for-each 구문을 사용할 것인지는 전적으로 프로그래머의 선택이다.\n",
    "      for-each 구문을 사용하여 파일을 읽은 후에, 다시 읽으려면 파일을\n",
    "      닫았다가 열어야 한다."
   ]
  },
  {
   "cell_type": "markdown",
   "id": "6ee01feb",
   "metadata": {},
   "source": [
    "2) 줄바꿈 문자 제거\n",
    "    - 우리가 파일에서 텍스트를 읽으면 기본적으로 줄바꿈 문자가 들어간다.\n",
    "      이것을 없애려면 strip() 함수를 호출한다.\n",
    "      텍스트 데이터에서 원치 않는 글자들을 제거하는 것은 데이터 과학에서도 \n",
    "      중요한 작업인데, 파이썬의 경우 strip()함수만 잘 사용하면 된다.\n",
    "      strip()은 문자열의 첫 부분과 끝부분에서 줄바꿈 문자 같은 공백 문자를\n",
    "      제거한다. 문자사이의 공백은 제거하지 않는다.\n",
    "      rstrip()과 lstrip()은 문자열의 오른쪽 끝과 왼쪽 끝에서 \n",
    "      원치 않는 문자를 삭제할 떄 사용한다."
   ]
  },
  {
   "cell_type": "markdown",
   "id": "4c3b57ff",
   "metadata": {},
   "source": [
    "3) 단어로 분리하기\n",
    "    - 텍스트 파일에서 단어를 읽어야 한다면 어떻게 할 것인가?\n",
    "      예를 들어서 속담이 저장된 파일에서 단어를 분리하여 리스트로 만들고 싶다고 하자.\n",
    "      이 때 사용할 수 있는 것이 split() 메소드이다.\n",
    "      문자열 객체의 split() 메소드는 공백문자를 이용하여 문자열에서 \n",
    "      단어들을 분리한다."
   ]
  },
  {
   "cell_type": "code",
   "execution_count": null,
   "id": "97485190",
   "metadata": {},
   "outputs": [],
   "source": [
    "infile = open(\"proverb.txt\",\"r\")\n",
    "for line in infile:\n",
    "    line = line.rstrip() # 오른쪽 공백 문자 제거\n",
    "    word_list = line.split() # 단어들 분리\n",
    "    for word in word_list: # 리스트에 들어 있는 단어 출력\n",
    "        print(word)\n",
    "infile.close()"
   ]
  },
  {
   "cell_type": "markdown",
   "id": "b7ca42e5",
   "metadata": {},
   "source": [
    "3) 단어로 분리하기\n",
    "    - 만약 텍스트를 단어로 분리한 후에, 단어에 들어 있는 모든 문장 부호들을\n",
    "      제거하고 싶으면 아래와 같이 호출하면 된다."
   ]
  },
  {
   "cell_type": "code",
   "execution_count": null,
   "id": "3fa0dbf8",
   "metadata": {},
   "outputs": [],
   "source": [
    "word = word.rstrip(\".,?!\")"
   ]
  },
  {
   "cell_type": "markdown",
   "id": "f2fb9603",
   "metadata": {},
   "source": [
    "3) 단어로 분리하기\n",
    "    - split()를 호출할 때 우리는 분리자(separator)를 지정할 수 있다.\n",
    "      예를 들어서 다음과 같이 (,) 글자를 사용하여 문자열을 단어로 분리하려면 \n",
    "      다음과 같이 한다."
   ]
  },
  {
   "cell_type": "code",
   "execution_count": 2,
   "id": "8fab227d",
   "metadata": {},
   "outputs": [
    {
     "name": "stdout",
     "output_type": "stream",
     "text": [
      "['apple', 'grape', 'banana', 'pear']\n"
     ]
    }
   ],
   "source": [
    "line = \"apple, grape, banana, pear\"\n",
    "word_list = line.split(\", \")\n",
    "print(word_list)"
   ]
  },
  {
   "cell_type": "markdown",
   "id": "9616db26",
   "metadata": {},
   "source": [
    "4) 파일 전체 읽기\n",
    "    - 우리는 텍스트가 들어 있는 파일을 한 번에 다 읽을 수도 있다.\n",
    "      read()를 호출하면 파일의 모든 문자가 하나의 거대한 문자열로 반환된다.\n",
    "    - 다만 파일이 무척 크다면 이들 방법은 많은 양의 메모리를 필요로 하므로\n",
    "      좋은 방법은 아니다.\n",
    "    - readlines() 메소드를 사용하는 것이다.\n",
    "      readlines()는 각 줄이 저장된 리스트를 반환한다."
   ]
  },
  {
   "cell_type": "markdown",
   "id": "fc1b8803",
   "metadata": {},
   "source": [
    "5) 문자 단위로 읽기\n",
    "    - 우리는 read()를 이용하여 원하는 만큼 글자를 읽을 수도 있다.\n",
    "      예를 들면 한 문자를 읽고 싶으면 read(1)을 호출한다."
   ]
  },
  {
   "cell_type": "code",
   "execution_count": null,
   "id": "bd9ab26d",
   "metadata": {},
   "outputs": [],
   "source": [
    "infile = open(\"input.txt\",\"r\")\n",
    "ch = infile.read(1)\n",
    "while ch != \"\":\n",
    "    print(ch)\n",
    "    ch = infile.read(1)\n",
    "infile.close()"
   ]
  },
  {
   "cell_type": "markdown",
   "id": "72520fc2",
   "metadata": {},
   "source": [
    "6) 문자 인코딩\n",
    "    - 컴퓨터에서 문자를 나타낼 때는 정수 형태의 문자 코드를 사용한다.\n",
    "      가장 잘 알려진 것이 아스키 코드이다. 아스키 코드는 각 글자에 128개의 인코딩\n",
    "      값을 정의한다.\n",
    "      예를 들어서 문자 A의 아스키 코드값은 65이다.\n",
    "      하지만 최근에는 세계의 모든 문자를 나타낼 수 있는 유니코드를 사용한다.\n",
    "      유니코드 중에서 가장 많이 사용되는 인코딩은 UTF-8이다.\n",
    "      UTF-8에서는 각 문자를 1개에서 4개의 바이트로 인코딩한다.(한글3바이트)\n",
    "      텍스트 파일을 처리할 때 문자 인코딩이 중요한 이유는 인코딩에 따라서\n",
    "      동일한 파일이라도 파일을 이루는 바이트가 달라지기 때문이다.\n",
    "      윈도우에서도 아직도 갈팔지팡이다. 따라서 메모장으로 텍스트 파일을 만들면\n",
    "      ANSI 코드로 저장할 것인지, UTF-8 코드로 저장할 것인지를 사용자가 지정하도록\n",
    "      되어 있다. 과거의 텍스트 파일은 거의 ANSI 코드이다.\n",
    "      파이썬에서는 운영체제로부터 문자 인코딩 설정을 가져온다.\n",
    "      따라서 사용자가 UTF-8기반의 파일을 열 때는 특별히 다음과 같이 인코딩을\n",
    "      지정하여야 한다."
   ]
  },
  {
   "cell_type": "markdown",
   "id": "bc373514",
   "metadata": {},
   "source": [
    "6) 문자 인코딩\n",
    "    - 아래와 같이 인코딩을 처리하면 된다."
   ]
  },
  {
   "cell_type": "code",
   "execution_count": null,
   "id": "62eeb348",
   "metadata": {},
   "outputs": [],
   "source": [
    "infile = open(\"input.txt\",\"r\",encoding=\"utf-8\")"
   ]
  },
  {
   "cell_type": "markdown",
   "id": "ed22784b",
   "metadata": {},
   "source": [
    "6) 문자 인코딩\n",
    "    - 외국과 텍스트 파일을 교환할 때는 항상 UTF-8로 인코딩하는 것이 좋다.\n",
    "      거의 요즘은 UTF-8이 주류를 이루고 있다."
   ]
  },
  {
   "cell_type": "markdown",
   "id": "6452311b",
   "metadata": {},
   "source": [
    "7) CSV(Comma-Seperated Values)파일 처리\n",
    "    - CSV는 테이블 형식의 데이터를 저장하고 이동하는데 사용되는 \n",
    "      구조화된 텍스트 파일 형식이다.\n",
    "      \n",
    "      CSV는 Microsoft Excel과 같은 스프레드시트에 적합한 형식이다.\n",
    "      공공기관에서 제공하는 데이터는 CSV 형식의 데이터 세트가 많다.\n",
    "      \n",
    "    - 파이썬 모듈은 csv는 CSV reader와 CSV writer를 제공한다.\n",
    "      예를 들어서 d:드라이브에 서울의 기상 정보가 저장된 \n",
    "      \"weather.csv\"라는 파일이 있다고 하자.\n",
    "      \n",
    "      다음과 같은 코드로 CSV 파일을 읽을 수 있다. \n",
    "      다음 슬라이드에서 보자."
   ]
  },
  {
   "cell_type": "code",
   "execution_count": null,
   "id": "1ee0039a",
   "metadata": {},
   "outputs": [],
   "source": [
    "import csv # csv 모듈을 불러온다.\n",
    "f = open(r\"d:/weather.csv\") # csv파일을 열어서 f에 저장한다.\n",
    "data = csv.reader(f) # reader() 함수를 이용하여 읽는다.\n",
    "header = next(data) # 헤더를 제거한다.\n",
    "\n",
    "for row in data: # 반복 루프를 사용하여 데이터를 읽는다.\n",
    "    print(row)\n",
    "f.close()"
   ]
  }
 ],
 "metadata": {
  "kernelspec": {
   "display_name": "Python 3",
   "language": "python",
   "name": "python3"
  },
  "language_info": {
   "codemirror_mode": {
    "name": "ipython",
    "version": 3
   },
   "file_extension": ".py",
   "mimetype": "text/x-python",
   "name": "python",
   "nbconvert_exporter": "python",
   "pygments_lexer": "ipython3",
   "version": "3.8.8"
  }
 },
 "nbformat": 4,
 "nbformat_minor": 5
}
