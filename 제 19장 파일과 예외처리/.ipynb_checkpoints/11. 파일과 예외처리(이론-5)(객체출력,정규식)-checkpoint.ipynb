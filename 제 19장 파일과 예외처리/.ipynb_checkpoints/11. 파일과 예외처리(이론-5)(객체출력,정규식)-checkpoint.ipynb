{
 "cells": [
  {
   "cell_type": "markdown",
   "id": "18e3dcc1",
   "metadata": {},
   "source": [
    "11) 객체 출력\n",
    "    - 우리는 앞에서 문자열데이터를 텍스트 파일에 쓰고 읽는 방법을 중점적으로\n",
    "      학습하였다. 하지만 우리의 프로그램에서는 다음과 같은 딕셔너리도 상당히\n",
    "      자주 나타난다.\n",
    "      \n",
    "      gameOption = {\n",
    "          \"Sound\":8,\n",
    "          \"VideoQuality\":\"HIGH\",\n",
    "          \"Money\":1000000,\n",
    "          \"WeaponList\":[\"gun\", \"missile\", \"knife\"]\n",
    "      }\n",
    "      \n",
    "    - 위와 같은 딕셔너리도 파일에 저장할 수 있을까?\n",
    "      다시 말하면 딕셔너리나 리스트와 같은 객체도 파일에 쓸 수 있을까?\n",
    "      예를 들어서 객체를 파일에 쓰고,\n",
    "      파일에서 읽을 수 있다면 상당히 편리할 것이다.\n",
    "      예를 들어서 게임에서 플레이어의 현재 상태를 파일에 저장하였다가\n",
    "      다시 불러올 수 있다면 좋을 것이다.\n",
    "      \n",
    "    - 딕셔너리도 같은 객체를 파일에 저장하기 위하여 \n",
    "      파이썬에서는 다양한 방법이 제공된다. \n",
    "      가장 많이 사용되는 모듈은 pickle 모듈이다.\n",
    "      pickle 모듈의 dump()와 load() 메소드를 사용하면 객체를 쓰고 읽을 수 있다.\n",
    "    \n",
    "    - pickle 모듈을 사용하려면 다음과 같이 먼저 포함시켜야 한다.\n",
    "     \n",
    "      import pickle"
   ]
  },
  {
   "cell_type": "markdown",
   "id": "8786f4c9",
   "metadata": {},
   "source": [
    "11) 객체 출력\n",
    "    - 객체를 pickle 모듈로 압축하려면 dump() 함수를 사용한다.\n",
    "      이것은 실제 피클을 병 안에 넣는 것으로 기억하면 편할 것이다.\n",
    "      dump() 함수는 파일 객체를 필요로 한다.\n",
    "      \n",
    "      file = open(\"save.p\", \"w\")\n",
    "      \n",
    "    - 우리는 \"w\" 파일모드를 사용하였는데 우리가 이 파일안에 새로운 내용을\n",
    "      써야하기 때문이다. 어떤 파일 이름이나 확장자도 사용할 수 있다.\n",
    "      우리는 확장자로 \".p\"를 사용한다.\n",
    "    - 최종적으로 pickle모듈의 dump()를 호출하면 된다.\n",
    "    \n",
    "      pickle.dump(gameOption, file)"
   ]
  },
  {
   "cell_type": "markdown",
   "id": "a1e61786",
   "metadata": {},
   "source": [
    "12) 정규식\n",
    "    - 정규식(reqular expression)이란 특정한 규칙을 가지고 있는 문자들을\n",
    "      메타 문자를 이용하여 표현하는 수식이다.\n",
    "      메타 문자는 카드 게임에서 와일드카드나 마찬가지이다.\n",
    "      카드 게임에서 와일드카드란 조커와 같이 자기가 편리한 대로 사용할\n",
    "      수 있는 만능 카드를 말한다.\n",
    "      또 컴퓨터 디렉토리에서 파일의 이름을 정확하게 알 수 없을 때 사용하는\n",
    "      *나 ?도 정규식을 이용하는 것이다.\n",
    "      \n",
    "    - 정규식은 또 하나의 언어라서 자세히 알기에는 너무 복잡하다.\n",
    "      우리는 최소한도로만 알아보자.\n",
    "      정규식에서 사용되는 메타문자(와일드카드)의 의미를 요약하면 다음과 같다.\n",
    "      \n",
    "      \n",
    "       식            기능          설명\n",
    "       ^            시작           문자열의 시작을 표시\n",
    "       $            끝             문자열의 끝을 표시\n",
    "       .            문자           한 개의 문자와 일치\n",
    "       \\d           숫자           한 개의 숫자와 일치\n",
    "       \\w           문자와 숫자     한 개의 문자나 숫자와 일치\n",
    "       \\s           공백문자       공백, 탭, 줄바꿈, 캐리지리턴 문자와 일치\n",
    "       \\S           공백문자제외    공백문자를 제외한 모든 문자\n",
    "       *            반복           0번이상 반복\n",
    "       +            반복           1번이상 반복\n",
    "       [abc]        문자범위        [abc]는 a또는 b또는 c를 나타낸다.\n",
    "       [^abc]       문자범위        [abc]가 아닌 어떠한 문자\n",
    "       \n",
    "       \n",
    "    - 메타 문자중에서 가장 중요한 문자는 점(.)과 별표(*)이다.\n",
    "      점은 어떤 문자가 와도 상관없다는 의미이다.\n",
    "      별표는 몇 번 반복되어도 상관없다는 것을 의미한다."
   ]
  },
  {
   "cell_type": "markdown",
   "id": "080efbcb",
   "metadata": {},
   "source": [
    "12) 정규식\n",
    "    - ^X-Men.*\n",
    "     ^ 문자열의 시작 , . 어떤문자 ,* 몇번이고 올수 있음\n",
    "     \n",
    "    - 위의 정규식은 문자열은 X-Men으로 시작하여야 되고 \n",
    "      그 이후에는 어떤 문자가 반복되더라도 좋다는 것을 나타낸다.\n",
    "      위의 정규식은 다음과 같은 문자열들과 매치된다.\n",
    "      \"X-Men: First Class\",\"X-Men: Days of Future Past\",\n",
    "      \"X-Men Orinins: Wolverine\"\n",
    "      \n",
    "    - 파이썬에서 정규식을 사용하려면 re 모듈을 포함시켜야 한다.\n",
    "    \n",
    "      import re\n",
    "      \n",
    "    - 이어서 re.search()를 사용하면 정규식에 매치되는 문자열을 찾을 수 있다.\n",
    "      findall()을 사용하면 정규식을 만족하는 모든 문자열들을\n",
    "      추출할수 있다."
   ]
  },
  {
   "cell_type": "markdown",
   "id": "6901d657",
   "metadata": {},
   "source": [
    "12) 정규식\n",
    "    - 예를 들어보자.\n",
    "      어떤 텍스트 파일에서 숫자로 시작되는 줄만을 추출하고자 한다.\n",
    "      제일 먼저 숫자 문자열을 정규식으로 나타내여야 한다.\n",
    "      숫자로만 된 문자열을 식별하고 싶으면 [0-9]+라고 표시하면 된다.\n",
    "      [0-9]는 0에서 9까지의 문자중에서 하나를 의미하고\n",
    "      수는 1회이상 반복을 의미하기 때문이다.\n",
    "      예를 들어서 미국 헌법에서 숫자로 시작되는 줄만을 출력하는\n",
    "      프로그램은 다음과 같다."
   ]
  },
  {
   "cell_type": "code",
   "execution_count": 13,
   "id": "80e63c13",
   "metadata": {},
   "outputs": [
    {
     "name": "stdout",
     "output_type": "stream",
     "text": [
      "10th Amendment\n",
      "11th Amendment\n",
      "12th Amendment\n",
      "13th Amendment\n",
      "14th Amendment\n",
      "15th Amendment\n",
      "16th Amendment\n",
      "17th Amendment\n",
      "18th Amendment\n",
      "19th Amendment\n",
      "20th Amendment\n",
      "21st Amendment\n",
      "22nd Amendment\n",
      "23rd Amendment\n",
      "24th Amendment\n",
      "25th Amendment\n",
      "26th Amendment\n",
      "27th Amendment\n"
     ]
    }
   ],
   "source": [
    "import re\n",
    "path = r\"files/\"\n",
    "f = open(path+\"uscons.txt\",\"r\")\n",
    "for line in f:\n",
    "    \n",
    "    line = line.rstrip()\n",
    "    #print(line)\n",
    "    #print(\"----------------------------------------------------------\")\n",
    "    if re.search('^[0-9]+',line):\n",
    "        #print(\"re\")\n",
    "        #print(\"=========================================================\")\n",
    "        print(line)\n",
    "        \n",
    "f.close()"
   ]
  }
 ],
 "metadata": {
  "kernelspec": {
   "display_name": "Python 3",
   "language": "python",
   "name": "python3"
  },
  "language_info": {
   "codemirror_mode": {
    "name": "ipython",
    "version": 3
   },
   "file_extension": ".py",
   "mimetype": "text/x-python",
   "name": "python",
   "nbconvert_exporter": "python",
   "pygments_lexer": "ipython3",
   "version": "3.8.8"
  }
 },
 "nbformat": 4,
 "nbformat_minor": 5
}
