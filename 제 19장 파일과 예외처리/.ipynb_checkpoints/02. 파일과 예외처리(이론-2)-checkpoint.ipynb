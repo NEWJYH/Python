{
 "cells": [
  {
   "cell_type": "markdown",
   "id": "4431ef8b",
   "metadata": {},
   "source": [
    "5) 파일에서 읽기\n",
    "    - 파일을 열면 파일 포인터가 맨 첫 부분을 가르킨다.\n",
    "      readline()은 현재 위치에서 시작하여서 현재 줄의 끝에 도달할 때까지\n",
    "      텍스트를 읽어서 반환한다.\n",
    "      이후에 파일 포인터는 다음 줄로 이동한다.\n",
    "      readline()은 줄의 끝을 나타내는 줄 바꿈 문자까지 포함하여서\n",
    "      우리에게 반환한다.\n",
    "      만약 input.txt 파일에 다음과 같이 2줄이 저장되어 있다고 하자.\n",
    "      \n",
    "      input.txt의 내용\n",
    "      홍길동\n",
    "      김정수\n",
    "      \n",
    "    - 첫 번째 readline() 호출은 \"홍길동\\n\" 문자열을 반환한다.\n",
    "      두 번째 readline() 호출은 \"김정수\\n\" 문자열을 반환한다.\n",
    "      세 번째 readline() 호출은 더이상 데이터가 없기 떄문에\n",
    "      공백 문자열 \"\"이 반환된다. 아래 코드를 보자."
   ]
  },
  {
   "cell_type": "code",
   "execution_count": 3,
   "id": "bd68e0d3",
   "metadata": {},
   "outputs": [
    {
     "name": "stdout",
     "output_type": "stream",
     "text": [
      "홍길동\n",
      "\n",
      "김철수\n"
     ]
    }
   ],
   "source": [
    "infile = open(\"02input.txt\",\"r\",encoding=\"UTF-8\")\n",
    "line = infile.readline()\n",
    "while line != \"\":\n",
    "    print(line)\n",
    "    line = infile.readline()\n",
    "\n",
    "infile.close()"
   ]
  },
  {
   "cell_type": "markdown",
   "id": "9f36e72a",
   "metadata": {},
   "source": [
    "5) 파일에서 읽기\n",
    "    - 여기서 홍길동 다음에 빈 줄이 출력되는 것은 line 변수 안에 \n",
    "      줄바꿈 문자인 \"\\n\"이 저장되어 있기 때문이다.\n",
    "      줄바꿈 문자를 삭제하여 rstrip()메소드를 사용한다.\n",
    "      \n",
    "      rstrip()은 줄바꿈 문자와 같은 공백 문자들을 삭제하는 메소드이다.\n",
    "      \n",
    "      line = infile.readline().rstrip()\n",
    "      \n",
    "      파일 안에 숫자 데이터가 저장되어 있다고 하자.\n",
    "      이 때는 int()나 float() 함수를 사용하여서 문자열을 숫자로 \n",
    "      변환하여야 한다.\n",
    "      \n",
    "      value = int(line)\n",
    "      value2 = float(line)"
   ]
  },
  {
   "cell_type": "code",
   "execution_count": 5,
   "id": "947e976e",
   "metadata": {},
   "outputs": [
    {
     "name": "stdout",
     "output_type": "stream",
     "text": [
      "홍길동\n",
      "김철수\n"
     ]
    }
   ],
   "source": [
    "infile = open(\"02input.txt\",\"r\",encoding=\"UTF-8\")\n",
    "line = infile.readline().rstrip()\n",
    "while line != \"\":\n",
    "    print(line)\n",
    "    line = infile.readline().rstrip()\n",
    "\n",
    "infile.close()"
   ]
  },
  {
   "cell_type": "markdown",
   "id": "9a1af92b",
   "metadata": {},
   "source": [
    "6) 파일에서 쓰기\n",
    "    - \"w\" 모드로 파일을 열었다면 우리는 텍스트를 쓸 수 있다.\n",
    "      이 때는 write() 메소드를 사용한다. \n",
    "      예를 들어서 문자열 \"김영희\"를 파일에 쓰려면 다음과 같은 명령문을 사용한다."
   ]
  },
  {
   "cell_type": "code",
   "execution_count": 5,
   "id": "7bfed32b",
   "metadata": {},
   "outputs": [],
   "source": [
    "outfile = open(\"02.2input.txt\",\"w\",encoding=\"UTF-8\")\n",
    "outfile.write(\"김영희\\n\")\n",
    "\n",
    "print(\"김영희\",file=outfile)\n",
    "outfile.close()"
   ]
  },
  {
   "cell_type": "code",
   "execution_count": 7,
   "id": "cdda71f5",
   "metadata": {},
   "outputs": [
    {
     "name": "stdout",
     "output_type": "stream",
     "text": [
      "김영희\n",
      "김영희\n"
     ]
    }
   ],
   "source": [
    "infile = open(\"02.2input.txt\",\"r\",encoding=\"UTF-8\")\n",
    "\n",
    "line = infile.readline().rstrip()\n",
    "while line != \"\":\n",
    "    print(line)\n",
    "    line = infile.readline().rstrip()\n",
    "infile.close()"
   ]
  },
  {
   "cell_type": "markdown",
   "id": "53d03323",
   "metadata": {},
   "source": [
    "6) 파일에서 쓰기\n",
    "    - 콘솔에서 출력 할 때는 print(0 함수가 자동으로 줄바꿈 문자를 붙이지만,\n",
    "      파일에 쓸 때는 우리가 줄바꿈 문자를 붙여서 보내주어야 한다.\n",
    "      write() 메서드의 중요한 내용은 데이터가 있는 파일에 'W'모드로 쓰면\n",
    "      기존의 데이터는 지워진다.\n",
    "      추가하려면 'a'모드를 사용한다.\n",
    "      \n",
    "    - print()함수를 이용해서도 파일에 텍스트를 출력할 수 있다.\n",
    "      file매개 변수를 통하여 파일 객체를 전달하면 된다.\n",
    "      \n",
    "      print(\"김영희\",file=outfile)"
   ]
  },
  {
   "cell_type": "markdown",
   "id": "1ef976d0",
   "metadata": {},
   "source": [
    "7) 파일 닫기\n",
    "    - 파일 작업을 마쳤으면 파일을 제대로 닫아야 한다.\n",
    "      파일을 닫으면 파일과 연결된 자원이 해제된다.\n",
    "      파이썬에서 close()를 호출하여 파일을 닫는다.\n",
    "      파이썬에는 참조되지 않은 객체를 정리하는 쓰레기 수집기(GC)가 있지만\n",
    "      파일을 닫을 때 이것에 너무 의존해서는 안된다."
   ]
  },
  {
   "cell_type": "code",
   "execution_count": 9,
   "id": "5eb91ce6",
   "metadata": {},
   "outputs": [],
   "source": [
    "f = open(\"02text.txt\",\"w\", encoding=\"UTF-8\") # 파일을 연다\n",
    "f.write(\"홍길동\\n\")\n",
    "f.close() # 파일을 닫는다."
   ]
  },
  {
   "cell_type": "markdown",
   "id": "c8d320a2",
   "metadata": {},
   "source": [
    "7) 파일 닫기\n",
    "    - 위의 방법은 완전히 안전하지는 않다.\n",
    "      만약 파일 작업을 수행할 때 오류가 발생하면 파일을 닫지 않고 코드가 \n",
    "      종료될 수 있다. 보다 안전한 방법은 이번 장 후반에 학습하는 \n",
    "      try..finally 블록을 사용하는 것이다."
   ]
  },
  {
   "cell_type": "code",
   "execution_count": 10,
   "id": "84fd3612",
   "metadata": {},
   "outputs": [],
   "source": [
    "try:\n",
    "    f = open(\"02text.txt\",\"w\",encoding=\"utf-8\")\n",
    "    f.write(\"홍길동\\n\") # 여기서 여러가지 작업을 한다.\n",
    "    \n",
    "finally:\n",
    "    f.close() # 예외가 발생하더라도 반드시 실행된다."
   ]
  },
  {
   "cell_type": "markdown",
   "id": "23a9c724",
   "metadata": {},
   "source": [
    "7) 파일 닫기\n",
    "    - 위와 같이 프로그램 흐름을 중지시키는 예외가 발생하더라도 파일이 올바르게\n",
    "      닫히도록 보장한다.\n",
    "      \n",
    "    - 파일을 닫는 가장 좋은 방법은 with 명령문을 사용하는 것이다.\n",
    "      이 방법에서는 with명령문 내의 블록이 종료될 때\n",
    "      파일이 자동으로 닫힌다. \n",
    "      close() 호출이 내부적으로 자동 호출이 되는 것이다."
   ]
  },
  {
   "cell_type": "code",
   "execution_count": 12,
   "id": "6ead71d5",
   "metadata": {},
   "outputs": [],
   "source": [
    "with open(\"02text.txt\",\"a\", encoding=\"utf-8\") as f:\n",
    "    f.write(\"김영희\\n\")\n",
    "# 블록을 빠져나옴녀 자동으로 파일이 닫혀진다."
   ]
  }
 ],
 "metadata": {
  "kernelspec": {
   "display_name": "Python 3",
   "language": "python",
   "name": "python3"
  },
  "language_info": {
   "codemirror_mode": {
    "name": "ipython",
    "version": 3
   },
   "file_extension": ".py",
   "mimetype": "text/x-python",
   "name": "python",
   "nbconvert_exporter": "python",
   "pygments_lexer": "ipython3",
   "version": "3.8.8"
  }
 },
 "nbformat": 4,
 "nbformat_minor": 5
}
