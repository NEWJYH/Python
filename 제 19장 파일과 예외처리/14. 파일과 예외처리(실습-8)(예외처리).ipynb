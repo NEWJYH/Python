{
 "cells": [
  {
   "cell_type": "code",
   "execution_count": 1,
   "id": "a16346b3",
   "metadata": {},
   "outputs": [
    {
     "ename": "ZeroDivisionError",
     "evalue": "division by zero",
     "output_type": "error",
     "traceback": [
      "\u001b[1;31m---------------------------------------------------------------------------\u001b[0m",
      "\u001b[1;31mZeroDivisionError\u001b[0m                         Traceback (most recent call last)",
      "\u001b[1;32m<ipython-input-1-8bb748d5b5e7>\u001b[0m in \u001b[0;36m<module>\u001b[1;34m\u001b[0m\n\u001b[0;32m      1\u001b[0m \u001b[0mx\u001b[0m\u001b[1;33m,\u001b[0m\u001b[0my\u001b[0m \u001b[1;33m=\u001b[0m \u001b[1;36m2\u001b[0m\u001b[1;33m,\u001b[0m\u001b[1;36m0\u001b[0m\u001b[1;33m\u001b[0m\u001b[1;33m\u001b[0m\u001b[0m\n\u001b[1;32m----> 2\u001b[1;33m \u001b[0mz\u001b[0m \u001b[1;33m=\u001b[0m \u001b[0mx\u001b[0m\u001b[1;33m/\u001b[0m\u001b[0my\u001b[0m\u001b[1;33m\u001b[0m\u001b[1;33m\u001b[0m\u001b[0m\n\u001b[0m",
      "\u001b[1;31mZeroDivisionError\u001b[0m: division by zero"
     ]
    }
   ],
   "source": [
    "x,y = 2,0\n",
    "z = x/y"
   ]
  },
  {
   "cell_type": "code",
   "execution_count": 9,
   "id": "0324f03f",
   "metadata": {},
   "outputs": [
    {
     "name": "stdout",
     "output_type": "stream",
     "text": [
      "0으로 나눌수 없습니다.\n",
      "division by zero\n",
      "오류있음\n",
      "코드 실행 완료\n"
     ]
    }
   ],
   "source": [
    "# 예외 처리 실습\n",
    "# 예외 처리의 목적은 프로그램의 정상적인 종료를 만들어 주는 것이다.\n",
    "x,y = 2,0\n",
    "try:\n",
    "    z = x/y\n",
    "    print(\"try\")\n",
    "except Exception as e :\n",
    "    print(\"0으로 나눌수 없습니다.\")\n",
    "    print(e)\n",
    "    print(\"오류 있음\")\n",
    "else:\n",
    "    print(\"오류 없음\")\n",
    "finally:\n",
    "    print(\"코드 실행 완료\")"
   ]
  },
  {
   "cell_type": "code",
   "execution_count": 11,
   "id": "c41d0a0c",
   "metadata": {},
   "outputs": [
    {
     "name": "stdout",
     "output_type": "stream",
     "text": [
      "숫자를 입력하세요 : 23.777\n",
      "정수가 아닙니다.\n"
     ]
    }
   ],
   "source": [
    "# 정수를 받고자 할때의 예외처리\n",
    "try:\n",
    "    n = int(input(\"숫자를 입력하세요 : \"))\n",
    "except ValueError:\n",
    "    print(\"정수가 아닙니다.\")"
   ]
  },
  {
   "cell_type": "code",
   "execution_count": 12,
   "id": "423ab978",
   "metadata": {},
   "outputs": [
    {
     "name": "stdout",
     "output_type": "stream",
     "text": [
      "파일 이름을 입력하세요: 4564.py\n"
     ]
    },
    {
     "ename": "FileNotFoundError",
     "evalue": "[Errno 2] No such file or directory: '4564.py'",
     "output_type": "error",
     "traceback": [
      "\u001b[1;31m---------------------------------------------------------------------------\u001b[0m",
      "\u001b[1;31mFileNotFoundError\u001b[0m                         Traceback (most recent call last)",
      "\u001b[1;32m<ipython-input-12-0052ab2d82f6>\u001b[0m in \u001b[0;36m<module>\u001b[1;34m\u001b[0m\n\u001b[0;32m      1\u001b[0m \u001b[1;31m# 파일에 대한 예외처리\u001b[0m\u001b[1;33m\u001b[0m\u001b[1;33m\u001b[0m\u001b[1;33m\u001b[0m\u001b[0m\n\u001b[0;32m      2\u001b[0m \u001b[0mfname\u001b[0m \u001b[1;33m=\u001b[0m \u001b[0minput\u001b[0m\u001b[1;33m(\u001b[0m\u001b[1;34m\"파일 이름을 입력하세요: \"\u001b[0m\u001b[1;33m)\u001b[0m\u001b[1;33m\u001b[0m\u001b[1;33m\u001b[0m\u001b[0m\n\u001b[1;32m----> 3\u001b[1;33m \u001b[0minfile\u001b[0m \u001b[1;33m=\u001b[0m \u001b[0mopen\u001b[0m\u001b[1;33m(\u001b[0m\u001b[0mfname\u001b[0m\u001b[1;33m,\u001b[0m\u001b[1;34m\"r\"\u001b[0m\u001b[1;33m)\u001b[0m\u001b[1;33m\u001b[0m\u001b[1;33m\u001b[0m\u001b[0m\n\u001b[0m\u001b[0;32m      4\u001b[0m \u001b[0minfile\u001b[0m\u001b[1;33m.\u001b[0m\u001b[0mclose\u001b[0m\u001b[1;33m(\u001b[0m\u001b[1;33m)\u001b[0m\u001b[1;33m\u001b[0m\u001b[1;33m\u001b[0m\u001b[0m\n",
      "\u001b[1;31mFileNotFoundError\u001b[0m: [Errno 2] No such file or directory: '4564.py'"
     ]
    }
   ],
   "source": [
    "# 파일에 대한 예외처리\n",
    "fname = input(\"파일 이름을 입력하세요: \")\n",
    "infile = open(fname,\"r\")\n",
    "infile.close()"
   ]
  },
  {
   "cell_type": "code",
   "execution_count": 22,
   "id": "76507825",
   "metadata": {},
   "outputs": [
    {
     "name": "stdout",
     "output_type": "stream",
     "text": [
      "파일 이름을 입력하세요: 14_test.txt\n",
      "Hello\n",
      "파일에 내용을 기재합니다.\n",
      "\n"
     ]
    }
   ],
   "source": [
    "# 파일에 대한 예외처리\n",
    "try:\n",
    "    fname = input(\"파일 이름을 입력하세요: \")\n",
    "    infile = open(fname,\"r\")\n",
    "except Exception as e:\n",
    "    print(e)\n",
    "    print(\"해당하는 파일이 존재하지 않습니다.\")\n",
    "else:\n",
    "    string = infile.read()\n",
    "    print(string)\n",
    "finally:\n",
    "    infile.close()"
   ]
  },
  {
   "cell_type": "code",
   "execution_count": 21,
   "id": "998b7336",
   "metadata": {},
   "outputs": [
    {
     "name": "stdout",
     "output_type": "stream",
     "text": [
      "파일 이름을 입력하세요: 14_test.txt\n",
      "파일 입력 완료\n",
      "파일 닫기\n"
     ]
    }
   ],
   "source": [
    "# 파일에 대한 예외처리\n",
    "end = \"\\n\"\n",
    "try:\n",
    "    fname = input(\"파일 이름을 입력하세요: \")\n",
    "    infile = open(fname,\"w\")\n",
    "    infile.write(\"Hello\"+end)\n",
    "    infile.write(\"파일에 내용을 기재합니다.\"+end)\n",
    "except Exception as e:\n",
    "    print(e)\n",
    "    print(\"해당하는 파일이 존재하지 않습니다.\")\n",
    "else:\n",
    "    print(\"파일 입력 완료\")\n",
    "finally:\n",
    "    infile.close()\n",
    "    print(\"파일 닫기\")"
   ]
  },
  {
   "cell_type": "code",
   "execution_count": 25,
   "id": "4df7f555",
   "metadata": {},
   "outputs": [
    {
     "ename": "NameError",
     "evalue": "\n비밀번호가 잘못 되었습니다.\n입력 가능 기회는 총 3번입니다.",
     "output_type": "error",
     "traceback": [
      "\u001b[1;31m---------------------------------------------------------------------------\u001b[0m",
      "\u001b[1;31mNameError\u001b[0m                                 Traceback (most recent call last)",
      "\u001b[1;32m<ipython-input-25-c71cf0018a9f>\u001b[0m in \u001b[0;36m<module>\u001b[1;34m\u001b[0m\n\u001b[0;32m      1\u001b[0m \u001b[1;31m# 예외를 강제로 발생시키기\u001b[0m\u001b[1;33m\u001b[0m\u001b[1;33m\u001b[0m\u001b[1;33m\u001b[0m\u001b[0m\n\u001b[1;32m----> 2\u001b[1;33m raise NameError('''\n\u001b[0m\u001b[0;32m      3\u001b[0m \u001b[0m비밀번호가\u001b[0m \u001b[0m잘못\u001b[0m \u001b[0m되었습니다\u001b[0m\u001b[1;33m.\u001b[0m\u001b[1;33m\u001b[0m\u001b[1;33m\u001b[0m\u001b[0m\n\u001b[0;32m      4\u001b[0m 입력 가능 기회는 총 3번입니다.''')\n",
      "\u001b[1;31mNameError\u001b[0m: \n비밀번호가 잘못 되었습니다.\n입력 가능 기회는 총 3번입니다."
     ]
    }
   ],
   "source": [
    "# 예외를 강제로 발생시키기\n",
    "raise NameError('''\n",
    "비밀번호가 잘못 되었습니다.\n",
    "입력 가능 기회는 총 3번입니다.''')"
   ]
  }
 ],
 "metadata": {
  "kernelspec": {
   "display_name": "Python 3",
   "language": "python",
   "name": "python3"
  },
  "language_info": {
   "codemirror_mode": {
    "name": "ipython",
    "version": 3
   },
   "file_extension": ".py",
   "mimetype": "text/x-python",
   "name": "python",
   "nbconvert_exporter": "python",
   "pygments_lexer": "ipython3",
   "version": "3.8.8"
  }
 },
 "nbformat": 4,
 "nbformat_minor": 5
}
