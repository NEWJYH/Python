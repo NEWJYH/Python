{
 "cells": [
  {
   "cell_type": "code",
   "execution_count": 3,
   "id": "6962b006",
   "metadata": {},
   "outputs": [],
   "source": [
    "# sales_processing\n",
    "path = \"04_sales.txt\"\n",
    "txt = \"100000\\n100000\\n100000\\n50000\\n150000\\n\"\n",
    "with open(path,\"w\",encoding=\"utf-8\") as file:\n",
    "    file.write(txt)\n"
   ]
  },
  {
   "cell_type": "code",
   "execution_count": 10,
   "id": "13f0c5ff",
   "metadata": {},
   "outputs": [
    {
     "name": "stdout",
     "output_type": "stream",
     "text": [
      "100000\n",
      "100000\n",
      "100000\n",
      "50000\n",
      "150000\n",
      "총 매출 : 500000\n",
      "평균 매출 : 100000.0\n"
     ]
    }
   ],
   "source": [
    "# path 파일을 읽어서 총 매출과 평균 일 매출을 \n",
    "# 파일로 내보내는 프로그램을 작성하시오\n",
    "# 내보내는 파일 이름은 04summary.txt로 하시오.\n",
    "\n",
    "# 각 매출을 담을 변수 선언\n",
    "salessum = 0\n",
    "countday = 0\n",
    "\n",
    "path = \"04_sales.txt\"\n",
    "with open(path,\"r\",encoding=\"utf-8\") as file:\n",
    "    line = file.readline().rstrip()\n",
    "    while line != \"\":\n",
    "        print(line)\n",
    "        salessum += int(line)\n",
    "        countday +=1\n",
    "        line = file.readline().rstrip()\n",
    "\n",
    "path = \"04summary.txt\"\n",
    "with open(path,\"w\",encoding=\"utf-8\") as file:\n",
    "    file.write(\"총 매출 : \"+str(salessum)+\"\\n\")\n",
    "    file.write(\"평균 매출 : \"+str(salessum/countday)+\"\\n\")  \n",
    "    \n",
    "    \n",
    "# 확인해보기\n",
    "with open(path,\"r\",encoding=\"utf-8\") as file:\n",
    "    line = file.readline().rstrip()\n",
    "    while line != \"\":\n",
    "        print(line)\n",
    "        line = file.readline().rstrip()"
   ]
  },
  {
   "cell_type": "code",
   "execution_count": 12,
   "id": "66fd0250",
   "metadata": {},
   "outputs": [
    {
     "name": "stdout",
     "output_type": "stream",
     "text": [
      "입력 파일 이름 : 04_sales.txt\n",
      "출력파일 이름 : 04summary.txt\n"
     ]
    }
   ],
   "source": [
    "# 선생님\n",
    "# path 파일을 읽어서 총 매출과 평균 일 매출을 \n",
    "# 파일로 내보내는 프로그램을 작성하시오\n",
    "# 내보내는 파일 이름은 04summary.txt로 하시오.\n",
    "\n",
    "# 사용자로부터 입력 파일 이름과 출력 파일 이름을 입력 받는다.\n",
    "infilename = input(\"입력 파일 이름 : \")\n",
    "# \"04_sales.txt\"\n",
    "outfilename = input(\"출력파일 이름 : \")\n",
    "# \"04summary.txt\"\n",
    "\n",
    "# 입출력을 하기 위해서 file을 연다.\n",
    "# 중요한 것은 encoding 부분을 동일하게 가져가야만 글자가 깨지는 것을\n",
    "# 방지할 수가 있기 때문에\n",
    "# 반드시 파일간에 읽고 쓸때는 반드시 동일하게 하도록하는 습관을 들이도록 하자.\n",
    "infile = open(infilename,\"r\", encoding = \"utf-8\")\n",
    "outfile = open(outfilename, \"w\", encoding = \"utf-8\")\n",
    "\n",
    "# 합계와 횧수를 위한 변수를 정의한다.\n",
    "Sum = 0\n",
    "count = 0\n",
    "\n",
    "# 입력 파일에서 한 줄을 읽어서 합계를 계산하고 \n",
    "# 평균을 구하기 위해서 count 변수값을\n",
    "# 1씩 증가시키고 있다.\n",
    "line = infile.readline()\n",
    "while line != \"\":\n",
    "    sales_num = int(line)\n",
    "    Sum += sales_num\n",
    "    count += 1\n",
    "    line = infile.readline()\n",
    "\n",
    "# 총매출과 평균 일 매출을 summary.txt에 기록하고 있다.\n",
    "line = \"\\n\"\n",
    "outfile.write(\"총 매출 = \" + str(Sum)+line)\n",
    "outfile.write(\"평균 일매출 = \" + str(Sum/count)+line)\n",
    "  \n",
    "# 파일은 꼭 닫아준다.\n",
    "infile.close()\n",
    "outfile.close()"
   ]
  },
  {
   "cell_type": "code",
   "execution_count": null,
   "id": "bc271164",
   "metadata": {},
   "outputs": [],
   "source": [
    "# 파이썬에서 파일을 읽는 방법\n",
    "\n",
    "# read(), readline(), readlines()함수를 사용하여 파일을 읽는다.\n",
    "\n",
    "# read() : 모든 파일의 내용을 읽어 들인다.\n",
    "\n",
    "# readline() : 한번에 한 라인씩 읽어 들인다.\n",
    "#              반복문을 함께 사용한다.\n",
    "\n",
    "# readlines() : 여러 라인을 리스트에 저장한다. \n",
    "#               기본적으로 빈칸(개행,\\n)이 포함된다."
   ]
  },
  {
   "cell_type": "code",
   "execution_count": 21,
   "id": "f2586d66",
   "metadata": {},
   "outputs": [
    {
     "name": "stdout",
     "output_type": "stream",
     "text": [
      "1.read() 함수로 읽기\n",
      "안녕하세요 저는 이모탈입니다.\n",
      "지금은 파일 입출력에 대해서 공부를 하고 있는 중입니다.\n",
      "하나\n",
      "둘\n",
      "셋\n",
      "넷\n",
      "다섯\n",
      "자 다들 화이팅 합시다.\n",
      "\n",
      "2.readline() 함수로 읽기\n",
      "안녕하세요 저는 이모탈입니다.\n",
      "지금은 파일 입출력에 대해서 공부를 하고 있는 중입니다.\n",
      "하나\n",
      "둘\n",
      "셋\n",
      "넷\n",
      "다섯\n",
      "자 다들 화이팅 합시다.\n",
      "3.readlines() 함수로 읽기\n",
      "<class 'list'>\n",
      "['안녕하세요 저는 이모탈입니다.\\n', '지금은 파일 입출력에 대해서 공부를 하고 있는 중입니다.\\n', '하나\\n', '둘\\n', '셋\\n', '넷\\n', '다섯\\n', '자 다들 화이팅 합시다.\\n']\n",
      "안녕하세요 저는 이모탈입니다.\n",
      "지금은 파일 입출력에 대해서 공부를 하고 있는 중입니다.\n",
      "하나\n",
      "둘\n",
      "셋\n",
      "넷\n",
      "다섯\n",
      "자 다들 화이팅 합시다.\n",
      "\n"
     ]
    }
   ],
   "source": [
    "# read()로 04text.txt를 읽는 방법\n",
    "filename = \"04text.txt\"\n",
    "\n",
    "print(\"1.read() 함수로 읽기\")\n",
    "with open(filename,\"r\",encoding=\"utf-8\") as file:\n",
    "    string = file.read()\n",
    "    print(string)\n",
    "    \n",
    "print(\"2.readline() 함수로 읽기\")\n",
    "with open(filename,\"r\",encoding=\"utf-8\") as file:\n",
    "    string = file.readline().rstrip()\n",
    "    while string != \"\":\n",
    "        print(string)\n",
    "        string = file.readline().rstrip()\n",
    "        \n",
    "print(\"3.readlines() 함수로 읽기\")\n",
    "with open(filename,\"r\",encoding=\"utf-8\") as file:\n",
    "    string = file.readlines()\n",
    "    print(type(string))\n",
    "    print(string)\n",
    "    string = \"\".join(string)\n",
    "    print(string)    "
   ]
  }
 ],
 "metadata": {
  "kernelspec": {
   "display_name": "Python 3",
   "language": "python",
   "name": "python3"
  },
  "language_info": {
   "codemirror_mode": {
    "name": "ipython",
    "version": 3
   },
   "file_extension": ".py",
   "mimetype": "text/x-python",
   "name": "python",
   "nbconvert_exporter": "python",
   "pygments_lexer": "ipython3",
   "version": "3.8.8"
  }
 },
 "nbformat": 4,
 "nbformat_minor": 5
}
