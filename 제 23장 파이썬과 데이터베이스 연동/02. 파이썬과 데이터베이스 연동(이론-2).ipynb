{
 "cells": [
  {
   "cell_type": "markdown",
   "id": "686835a8",
   "metadata": {},
   "source": [
    "2. 데이터베이스의 기본"
   ]
  },
  {
   "cell_type": "markdown",
   "id": "1a18435e",
   "metadata": {},
   "source": [
    "3) 데이터베이스 관련 용어\n",
    "    - 건물을 지으려면 먼저 설계도를 그려야 하듯이 데이터베이스도\n",
    "      구축하려면 데이터베이스 모델링이라는 작업이 필요하다.\n",
    "      \n",
    "    - 데이터 베이스 모델링은 현실 세계에서 사용되는 데이터를 DBMS에 \n",
    "      어떻게 옮겨 놓을지 결정하는 과정이다."
   ]
  },
  {
   "cell_type": "markdown",
   "id": "32237603",
   "metadata": {},
   "source": [
    "3) 데이터베이스 관련 용어\n",
    "    - 네이버나 카카오 등 포털사이트의 회원가입 절차를 생각해 보자.\n",
    "      포털사이트에는 회원이 필요하며, 사람들이 회원으로 가입한다.\n",
    "      그렇다면 이 '회원'을 어떻게 DMBS에 넣을 것인가를 고민해야 한다.\n",
    "      회원인 사람의 몸을 컴퓨터에 넣을 수는 없기 때문에 회원을 나타낼 수 있는\n",
    "      특성(또는 속성)을 추출해서 그 특성을 DBMS에 데이터로 넣어야 하는 것이다.\n",
    "      즉 회원의 신분을 나타내는 정보 중 대표적인 이름, 생년월일, 이메일,\n",
    "      주소, 연락처 등 정보를 DBMS에 저장해야 한다.\n",
    "      이런 정보를 그냥 단편적으로 저장하는 것이 아니라 \n",
    "      테이블(Table)이라는 표 형태의 틀에 맞추어서 넣어야 한다."
   ]
  },
  {
   "cell_type": "markdown",
   "id": "48974314",
   "metadata": {},
   "source": [
    "3) 데이터베이스 관련 용어\n",
    "    - 용어들 리스트(사진)\n",
    "        - 데이터 : \n",
    "            john, lee@paran.com, 1980 등\n",
    "            하나하나의 단편적인 정보를 의미한다.\n",
    "        \n",
    "        - 테이블 : \n",
    "            회원 데이터가 표 형태로 표현된 것이다.\n",
    "            지금은 네이버 데이터베이스를 구현하려고 회원 정보를\n",
    "            보관할 테이블을 만들었다.\n",
    "        \n",
    "        - 데이터베이스(DB) : \n",
    "            테이블이 저장되는 저장소로, 주로 원통 모양으로 표현한다.\n",
    "            네이버 데이터베이스, A데이터베이스, B데이터베이스 총 3개가 있다.\n",
    "            각 데이터베이스에는 고유한 이름이 있어야 한다.\n",
    "            여기서사용하는(또는 생성하는) 데이터베이스의 이름은 \n",
    "            네이버 데이터베이스이다.\n",
    "                           \n",
    "        - DBMS(DataBase Management System) :\n",
    "              데이터 베이스를 관리하는 시스템 또는 소프트웨어를 의미한다.\n",
    "              SQLite 소프트웨어가 이에 해당한다.\n",
    "              \n",
    "        - 열(컬럼 또는 필드) : \n",
    "            각 테이블은 1개 이상의 열로 구성된다.\n",
    "            회원 테이블은 아이디, 회원이름, 이메일, 출생 연도 등 열 4개로 구성\n",
    "        \n",
    "        - 열 이름 :\n",
    "            각 열을 구분하는 이름이다.\n",
    "            열 이름은 각 테이블 안에서 중복되지 않아야 한다.\n",
    "            \n",
    "        - 데이터 형식 : \n",
    "            열의 데이터 형식으로 테이블을 생성할 때 \n",
    "            열 이름과 함께 지정해야 한다.\n",
    "            회원 테이블의 회원 이름 열은 당연히 숫자 형식이 아닌\n",
    "            문자 형식이어야 한다.\n",
    "            또 출생연도는 숫자(특히, 정수) 형식이어야 될 것이다.\n",
    "            출생연도에는 빠른88같은 글자를 입력하면 안되기 떄문이다.\n",
    "            \n",
    "            \n",
    "검색 키워드 : DDL, DCL, DML"
   ]
  },
  {
   "cell_type": "markdown",
   "id": "813a509f",
   "metadata": {},
   "source": [
    "3) 데이터베이스 관련 용어\n",
    "    - 용어들 리스트\n",
    "        - 행(로우) : \n",
    "            실직적인 데이터로, 'john/John Bann/john @naver/1990'\n",
    "            은 하나의 행 데이터이다.\n",
    "            \n",
    "        - SQL(Structured Query Language : 구조화된 질의 언어) :\n",
    "            DBMS(SQLite)에서 어떤 작업을 하고 싶다면 DBMS가 알아듣는\n",
    "            말로 자세히 지시해야 한다.\n",
    "            SQL은 사용자와 DBMS가 소통하는 말(언어)이다.\n",
    "            \n",
    "    - 일부 용어는 SQL 내용만으로도 책 한 권으로는 부족하다.\n",
    "      SQLite를 사용하려면 기본적으로 DBMS의 기본 개념과 용어 정도는 \n",
    "      숙지하고 있어야 한다.\n",
    "      이제 SQL 문법과 사용 방법을 알아보자."
   ]
  },
  {
   "cell_type": "markdown",
   "id": "a3426ff6",
   "metadata": {},
   "source": [
    "3. 데이터베이스의 구축"
   ]
  },
  {
   "cell_type": "markdown",
   "id": "a2ecfca8",
   "metadata": {},
   "source": [
    "데이터베이스 관련 용어와 기본 개념을 익혔다면 이제 아래 그림과 같은 과정을\n",
    "따라서 데이터베이스를 SQLite에서 구축해 보자.\n",
    "이는 SQLite에만 적용되는 사항이 아니라 일반적인 관계형 DBMS에 공통으로\n",
    "적용되는 사항이다.\n",
    "\n",
    "그런데 파이썬에는 SQLite가 내장되어 있으므로 따로 설치할 필요가 없다.\n",
    "여기서는 단지 데이터베이스 환경을 구축하고,\n",
    "데이터베이스 언어인 SQL문을 연습하려고 PC용 SQLite를 설치하는 것이다.\n",
    "\n",
    "    1단계               2단계             3단계\n",
    " DBMS 설치          데이터베이스 구축      응용 프로그램에서 구축된 데이터 활용\n",
    "                    1. 데이터베이스 생성\n",
    "                    2. 테이블 생성\n",
    "                    3. 데이터 입력\n",
    "                    4. 데이터 조회 및 활용"
   ]
  },
  {
   "cell_type": "markdown",
   "id": "96a02b13",
   "metadata": {},
   "source": [
    "1) 1단계 : DBMS 설치\n",
    "    - 데이터베이스를 구축하려면 먼저 SQLite를 설치해야 한다.\n",
    "      아래 그림과 같이 http://www.sqlite.org/download.html에 접속한다.\n",
    "      'Precompiled Binaries for Windows' 항목에서 \n",
    "      sqlite-tools win 32-x86-버전.zip 파일을 클릭해 다운로드 한다.\n",
    "      \n",
    "    - 그림과 같이다운로드한 파일(sqlite-tools-win32-x86-3130000.zip)의\n",
    "      압축을 풀고, 폴더명을 sqlite로 변경한다.\n",
    "      "
   ]
  },
  {
   "cell_type": "markdown",
   "id": "b754c737",
   "metadata": {},
   "source": [
    "2) 2단계 : 데이터베이스 구축\n",
    "    - 데이터베이스를 구축하려면 먼저 SQLite에 접속해야 한다.\n",
    "      그림과 같이 파일 탐색기에서 sqlite3.exe 파일을 더블 클릭해 실행하면\n",
    "      명령 프롬프트창이 열리면서 sqlite>로 표시된다.\n",
    "      \n",
    "    - SQLite가 실행되었으므로 이제 DBMS가 이해하는 SQL언어를 사용할 수 있다."
   ]
  },
  {
   "cell_type": "markdown",
   "id": "74562e23",
   "metadata": {},
   "source": [
    "3) [프로그램 1] 완성\n",
    "    - [프로그램 1]은 파이썬 코드를 작성하는 것이 아니라,\n",
    "      SQLite에서 다음 데이터베이스를 완성하는 것이다.\n",
    "      그림과 같이 2단계를 차례로 진행하면 완성된다.\n",
    "      \n",
    "      1. 데이터베이스 생성\n",
    "          : 데이터베이스를 생성하거나 열려면 'open 데이터베이스이름' 명령어를\n",
    "            실행한다. 이 명령어는 데이터베이스가 있다면 열어 주고,\n",
    "            없다면 새로 생성한다.\n",
    "            다음 명령어를 실행하면 네이버 데이터베이스(이름 : naverDB)가\n",
    "            생성된다. 물론 naverDB의 내부는 아직 비어 있다.\n",
    "            \n",
    "     - Tip\n",
    "         자주 사용하는 sqlite 명령어\n",
    "         .table : 현재 데이터베이스의 테이블 목록을 보여준다.\n",
    "         .schema 테이블 이름 : 테이블의 열 및 데이터 형식등 정보를 보여준다.\n",
    "         .header on : SELECT 문으로 출력할 때 헤더를 보여 준다.\n",
    "         .mode column : SELECT문으로 출력할 때 컬럼 모드로 출력한다.\n",
    "         .quit : SQLite를 종료한다.\n",
    "         SELECT 문 사용전 '.header on', 'mode column'을 설정하면 \n",
    "         결과 화면 보기 좋게 출력된다.\n",
    "         \n",
    "         2. 테이블 생성\n",
    "             : 앞에서 만든 naverDB 안에 테이블을 생성해 보자.\n",
    "               테이블을 생성하는 SQL문의 형식은 다음과 같다.\n",
    "         \n",
    "         * CREATE TABLE 테이블이름(열이름1 데이터형식, 열이름2 데이터형식..);\n",
    "         * 생성된 테이블을 삭제하려면 'DROP TABLE 테이블이름'형식을 사용한다.\n",
    "         \n",
    "         3. 테이블에 데이터 입력\n",
    "             : 이제는 생성한 회원 테이블(userTable)에 행 데이터를 입력할\n",
    "               차례이다. 행 데이터를 입력하는 SQL문의 형식은 다음과 같다.\n",
    "         \n",
    "         * INSERT INTO 테이블이름 VALUES(값1,값2,...);\n",
    "         * 행 데이터를 삭제하려면 'DELETE FROM 테이블 이름 WHERE 열이름=값;'\n",
    "           형식을 사용하자.\n",
    "         * 행 데이터의 값 수정하려면 'UPDATE 테이블 이름 SET 열이름 = 새값\n",
    "           WHERE 열이름 = 값;' 형식을 사용하자.\n",
    "           \n",
    "         4. 데이터 조회 및 활용\n",
    "             : 데이터를 조회 및 활용하는 SQL문은 SELECT로 일반적인 형식은\n",
    "               다음과 같다.\n",
    "               결과로 데이터가 4건 확인되었으므로 [프로그램 1]을\n",
    "               성공적으로 마친 것이다.\n",
    "          \n",
    "          * SELECT FROM 테이블이름;"
   ]
  },
  {
   "cell_type": "markdown",
   "id": "819d8580",
   "metadata": {},
   "source": [
    "3) [프로그램 1] 완성\n",
    "    - SELECT 문을 WHERE 조건과 함께 사용할 수도 있다.\n",
    "      형식은 다음과 같다.\n",
    "    * SELECT 열이름1, 열이름2, FROM 테이블이름 WHERE 조건;\n",
    "    - 몇 가지 예를 들면 다음과 같다.\n",
    "    \n",
    "    1은 1990년 이전에 태어난 사람의 아이디와 출생연도를 확인한다.\n",
    "    \n",
    "    2는 아이디가 \"lee\"인 사람의 모든 정보를 조회하는데 \n",
    "    여기서는 모든 열을 의미한다.\n",
    "    \n",
    "    3은 조회한 결과를 정렬하려고 ORDER BY문을 사용한다.\n",
    "    전체 테이블을 출생연도가 작은(오름차순)순서로 정렬하려면 \n",
    "    다음과 같이 조회할 수 있다.\n",
    "    반대로 큰(내림차순) 순서부터 조회하려면 맨 뒤에 DESC를 붙인다.\n",
    "    \n",
    "    4는 작업이 모두 끝나 SQLite를 종료한다.\n",
    "    \n",
    "sqlite> SELECT id, birthYear FROM userTable WHERE birthYear <= 1990; 1\n",
    "john 1990\n",
    "lee 1988\n",
    "park 1980\n",
    "sqlite> SELECT * FROM userTable WHERE id = 'lee'; 2\n",
    "lee LEE Pal lee@paran.com 1988\n",
    "sqlite> SELECT * FROM userTble ORDER BY birthyear; 3\n",
    "park Park Su park@gmail.com 1980\n",
    "lee Lee Pal lee@paran.com 1988\n",
    "john John Bannijohn@naver.com 1990\n",
    "kim Kim Chi kim@daum.net 1992\n",
    "sqlite> .quit 4 "
   ]
  }
 ],
 "metadata": {
  "kernelspec": {
   "display_name": "Python 3",
   "language": "python",
   "name": "python3"
  },
  "language_info": {
   "codemirror_mode": {
    "name": "ipython",
    "version": 3
   },
   "file_extension": ".py",
   "mimetype": "text/x-python",
   "name": "python",
   "nbconvert_exporter": "python",
   "pygments_lexer": "ipython3",
   "version": "3.8.8"
  }
 },
 "nbformat": 4,
 "nbformat_minor": 5
}
