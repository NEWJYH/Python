{
 "cells": [
  {
   "cell_type": "markdown",
   "id": "b890bf0b",
   "metadata": {},
   "source": [
    "4. 세트(Set)"
   ]
  },
  {
   "cell_type": "markdown",
   "id": "97a77b11",
   "metadata": {},
   "source": [
    "2) 요소 추가하고 삭제하기\n",
    "    - 세트는 변경 가능한 객체이다.\n",
    "      따라서 세트에 요소를 추가하거나 삭제할 수 있다.\n",
    "      그러나 세트의 요소에는 인덱스가 없기 때문에\n",
    "      인덱싱이나 슬라이싱 연산은 의미가 없다."
   ]
  },
  {
   "cell_type": "code",
   "execution_count": 1,
   "id": "1f015e1c",
   "metadata": {},
   "outputs": [
    {
     "ename": "TypeError",
     "evalue": "'set' object is not subscriptable",
     "output_type": "error",
     "traceback": [
      "\u001b[1;31m---------------------------------------------------------------------------\u001b[0m",
      "\u001b[1;31mTypeError\u001b[0m                                 Traceback (most recent call last)",
      "\u001b[1;32m<ipython-input-1-a8b3b262da35>\u001b[0m in \u001b[0;36m<module>\u001b[1;34m\u001b[0m\n\u001b[0;32m      1\u001b[0m \u001b[0mnumbers\u001b[0m\u001b[1;33m=\u001b[0m\u001b[1;33m{\u001b[0m\u001b[1;36m2\u001b[0m\u001b[1;33m,\u001b[0m\u001b[1;36m1\u001b[0m\u001b[1;33m,\u001b[0m\u001b[1;36m3\u001b[0m\u001b[1;33m}\u001b[0m\u001b[1;33m\u001b[0m\u001b[1;33m\u001b[0m\u001b[0m\n\u001b[1;32m----> 2\u001b[1;33m \u001b[0mprint\u001b[0m\u001b[1;33m(\u001b[0m\u001b[0mnumbers\u001b[0m\u001b[1;33m[\u001b[0m\u001b[1;36m0\u001b[0m\u001b[1;33m]\u001b[0m\u001b[1;33m)\u001b[0m\u001b[1;33m\u001b[0m\u001b[1;33m\u001b[0m\u001b[0m\n\u001b[0m",
      "\u001b[1;31mTypeError\u001b[0m: 'set' object is not subscriptable"
     ]
    }
   ],
   "source": [
    "numbers={2,1,3}\n",
    "print(numbers[0])"
   ]
  },
  {
   "cell_type": "markdown",
   "id": "098ed4b3",
   "metadata": {},
   "source": [
    "2) 요소 추가하고 삭제하기\n",
    "    - add() 메소드를 이용하여 하나의 요소를 추가할 수 있다.\n",
    "      예를 들어서 다음과 같은 문장이 가능하다."
   ]
  },
  {
   "cell_type": "code",
   "execution_count": 2,
   "id": "3ab0b014",
   "metadata": {},
   "outputs": [
    {
     "name": "stdout",
     "output_type": "stream",
     "text": [
      "{1, 2, 3, 4}\n"
     ]
    }
   ],
   "source": [
    "numbers={2,1,3}\n",
    "numbers.add(4)\n",
    "print(numbers)"
   ]
  },
  {
   "cell_type": "markdown",
   "id": "def0d3d1",
   "metadata": {},
   "source": [
    "2) 요소 추가하고 삭제하기\n",
    "    - 여러 개의 요소는 update() 메소드로 추가할 수 있다.\n",
    "      물론 중복된 요소는 추가되지 않는다."
   ]
  },
  {
   "cell_type": "code",
   "execution_count": 7,
   "id": "009a9fe4",
   "metadata": {},
   "outputs": [
    {
     "name": "stdout",
     "output_type": "stream",
     "text": [
      "{1, 2, 3, 4, 5}\n"
     ]
    }
   ],
   "source": [
    "numbers={2,1,3}\n",
    "numbers.update([2,3,4,5])\n",
    "\n",
    "#numbers.update(1,50,60,70)\n",
    "# TypeError: 'int' object is not iterable\n",
    "# 이터러블 객체 리스트로만 추가 가능\n",
    "print(numbers)"
   ]
  },
  {
   "cell_type": "markdown",
   "id": "51ba8f9b",
   "metadata": {},
   "source": [
    "2) 요소 추가하고 삭제하기\n",
    "    - 요소를 삭제할 때는 discard() 메소드를 사용할 수 있다."
   ]
  },
  {
   "cell_type": "code",
   "execution_count": 12,
   "id": "cde5c206",
   "metadata": {},
   "outputs": [
    {
     "name": "stdout",
     "output_type": "stream",
     "text": [
      "{1, 2, 3}\n"
     ]
    },
    {
     "ename": "KeyError",
     "evalue": "1",
     "output_type": "error",
     "traceback": [
      "\u001b[1;31m---------------------------------------------------------------------------\u001b[0m",
      "\u001b[1;31mKeyError\u001b[0m                                  Traceback (most recent call last)",
      "\u001b[1;32m<ipython-input-12-1ef84e309caf>\u001b[0m in \u001b[0;36m<module>\u001b[1;34m\u001b[0m\n\u001b[0;32m      4\u001b[0m \u001b[0mprint\u001b[0m\u001b[1;33m(\u001b[0m\u001b[0mnumbers\u001b[0m\u001b[1;33m)\u001b[0m\u001b[1;33m\u001b[0m\u001b[1;33m\u001b[0m\u001b[0m\n\u001b[0;32m      5\u001b[0m \u001b[0mnumbers\u001b[0m\u001b[1;33m.\u001b[0m\u001b[0mremove\u001b[0m\u001b[1;33m(\u001b[0m\u001b[1;36m1\u001b[0m\u001b[1;33m)\u001b[0m\u001b[1;33m\u001b[0m\u001b[1;33m\u001b[0m\u001b[0m\n\u001b[1;32m----> 6\u001b[1;33m \u001b[0mnumbers\u001b[0m\u001b[1;33m.\u001b[0m\u001b[0mremove\u001b[0m\u001b[1;33m(\u001b[0m\u001b[1;36m1\u001b[0m\u001b[1;33m)\u001b[0m\u001b[1;33m\u001b[0m\u001b[1;33m\u001b[0m\u001b[0m\n\u001b[0m\u001b[0;32m      7\u001b[0m \u001b[1;33m\u001b[0m\u001b[0m\n\u001b[0;32m      8\u001b[0m \u001b[0mprint\u001b[0m\u001b[1;33m(\u001b[0m\u001b[0mnumbers\u001b[0m\u001b[1;33m)\u001b[0m\u001b[1;33m\u001b[0m\u001b[1;33m\u001b[0m\u001b[0m\n",
      "\u001b[1;31mKeyError\u001b[0m: 1"
     ]
    }
   ],
   "source": [
    "numbers = {2,1,3,5}\n",
    "numbers.discard(5)\n",
    "# discard는 요소가 없어도 Error를 일으키지 않음\n",
    "print(numbers)\n",
    "numbers.remove(1)\n",
    "# numbers.remove(1)\n",
    "# KeyError  요소가 없으면 Error 발생\n",
    "print(numbers)"
   ]
  },
  {
   "cell_type": "markdown",
   "id": "f423112d",
   "metadata": {},
   "source": [
    "2) 요소 추가하고 삭제하기\n",
    "    - remove()메소드도 사용할 수 있다.\n",
    "      만약 세트에 없는 요소를 삭제하려고 하면\n",
    "      remove()는 예외를 발생시킨다."
   ]
  },
  {
   "cell_type": "code",
   "execution_count": 13,
   "id": "bc8da757",
   "metadata": {},
   "outputs": [
    {
     "ename": "KeyError",
     "evalue": "6",
     "output_type": "error",
     "traceback": [
      "\u001b[1;31m---------------------------------------------------------------------------\u001b[0m",
      "\u001b[1;31mKeyError\u001b[0m                                  Traceback (most recent call last)",
      "\u001b[1;32m<ipython-input-13-c26cf3f8c151>\u001b[0m in \u001b[0;36m<module>\u001b[1;34m\u001b[0m\n\u001b[0;32m      1\u001b[0m \u001b[0mnumbers\u001b[0m \u001b[1;33m=\u001b[0m \u001b[1;33m{\u001b[0m\u001b[1;36m2\u001b[0m\u001b[1;33m,\u001b[0m\u001b[1;36m1\u001b[0m\u001b[1;33m,\u001b[0m\u001b[1;36m3\u001b[0m\u001b[1;33m,\u001b[0m\u001b[1;36m5\u001b[0m\u001b[1;33m}\u001b[0m\u001b[1;33m\u001b[0m\u001b[1;33m\u001b[0m\u001b[0m\n\u001b[1;32m----> 2\u001b[1;33m \u001b[0mnumbers\u001b[0m\u001b[1;33m.\u001b[0m\u001b[0mremove\u001b[0m\u001b[1;33m(\u001b[0m\u001b[1;36m6\u001b[0m\u001b[1;33m)\u001b[0m\u001b[1;33m\u001b[0m\u001b[1;33m\u001b[0m\u001b[0m\n\u001b[0m",
      "\u001b[1;31mKeyError\u001b[0m: 6"
     ]
    }
   ],
   "source": [
    "numbers = {2,1,3,5}\n",
    "numbers.remove(6)"
   ]
  },
  {
   "cell_type": "markdown",
   "id": "1f085108",
   "metadata": {},
   "source": [
    "2) 요소 추가하고 삭제하기\n",
    "    - clear() 메소드는 세트의 전체 요소를 지운다."
   ]
  },
  {
   "cell_type": "code",
   "execution_count": 15,
   "id": "b224b333",
   "metadata": {},
   "outputs": [
    {
     "name": "stdout",
     "output_type": "stream",
     "text": [
      "set()\n",
      "0\n"
     ]
    }
   ],
   "source": [
    "numbers = {2,1,3,5}\n",
    "numbers.clear()\n",
    "print(numbers) # set()\n",
    "print(len(numbers)) # 0"
   ]
  },
  {
   "cell_type": "markdown",
   "id": "46654144",
   "metadata": {},
   "source": [
    "3) 부분 집합 연산\n",
    "    - 2개의 세트가 같은지도 검사할 수 있다.\n",
    "      이것은 ==와 != 연산자를 사용하는 것이 가장 쉽다."
   ]
  },
  {
   "cell_type": "code",
   "execution_count": 16,
   "id": "6b8034b2",
   "metadata": {},
   "outputs": [
    {
     "name": "stdout",
     "output_type": "stream",
     "text": [
      "True\n"
     ]
    }
   ],
   "source": [
    "a = {1,2,3}\n",
    "b = {3,2,1}\n",
    "print(a==b)"
   ]
  },
  {
   "cell_type": "markdown",
   "id": "d8be76f7",
   "metadata": {},
   "source": [
    "3) 부분 집합 연산\n",
    "    - < 연산자와 <= 연산자를 사용하면 세트가 진 부분 집합인지,\n",
    "      부분 집합인지 검사할 수 있다. >와 >= 연산자를 \n",
    "      사용하면 진상위 집합\n",
    "      (A⊃B이고 A≠B인 경우 진상위 집합 이라고 한다.\n",
    "      즉, 상위 집합이지만 두 집합이 같지 않다.)\n",
    "      상위 집합도 검사할 수 있다."
   ]
  },
  {
   "cell_type": "code",
   "execution_count": 21,
   "id": "ce551859",
   "metadata": {},
   "outputs": [
    {
     "name": "stdout",
     "output_type": "stream",
     "text": [
      "True\n"
     ]
    }
   ],
   "source": [
    "A = {1,2,3,4,5}\n",
    "B = {1,2,3}\n",
    "print(A>B)"
   ]
  },
  {
   "cell_type": "markdown",
   "id": "92543db5",
   "metadata": {},
   "source": [
    "3) 부분 집합 연산\n",
    "    - 부분집합인지를 검사하는 메소드는 issubset()이다."
   ]
  },
  {
   "cell_type": "code",
   "execution_count": 19,
   "id": "34f3c4b2",
   "metadata": {},
   "outputs": [
    {
     "name": "stdout",
     "output_type": "stream",
     "text": [
      "True\n"
     ]
    }
   ],
   "source": [
    "A = {1,2,3,4,5}\n",
    "B = {1,2,3}\n",
    "print(B.issubset(A))\n",
    "# 파라미터 A ⊃ B\n",
    "# B는 A에 포함되는가?\n",
    "# B is subset (A)\n",
    "# B는 A의 부분집합인가? "
   ]
  },
  {
   "cell_type": "markdown",
   "id": "87468303",
   "metadata": {},
   "source": [
    "3) 부분 집합 연산\n",
    "    - 상위 집합인지 검사하는 메소드는 issuperset()이다."
   ]
  },
  {
   "cell_type": "code",
   "execution_count": 23,
   "id": "4c9c8c87",
   "metadata": {},
   "outputs": [
    {
     "name": "stdout",
     "output_type": "stream",
     "text": [
      "True\n"
     ]
    }
   ],
   "source": [
    "A = {1,2,3,4,5}\n",
    "B = {1,2,3}\n",
    "print(A.issuperset(B))\n",
    "# A가 상위집합인가 B보다?\n",
    "# A is superset (B)"
   ]
  },
  {
   "cell_type": "markdown",
   "id": "86540fad",
   "metadata": {},
   "source": [
    "3) 부분 집합 연산\n",
    "    - 요소가 집합에 포함되어 있는지는 in 키워드를 이용하여\n",
    "      검사할 수 있다."
   ]
  },
  {
   "cell_type": "code",
   "execution_count": 26,
   "id": "aa0e66c2",
   "metadata": {},
   "outputs": [
    {
     "name": "stdout",
     "output_type": "stream",
     "text": [
      "True\n",
      "True\n"
     ]
    }
   ],
   "source": [
    "mySet = set(\"banana\")\n",
    "print('a'in mySet)\n",
    "print('p' not in mySet)"
   ]
  },
  {
   "cell_type": "markdown",
   "id": "c2540b50",
   "metadata": {},
   "source": [
    "4) 집합 연산\n",
    "    - 세트가 유용한 이유는 교집합이나 합집합과 같은\n",
    "      여러가지 집합 연산을 지원하기 때문이다.\n",
    "      이것은 연산자나 메소드로 수핼할 수 있다.\n",
    "      일단 다음과 같이 2개의 집합이 \n",
    "      세트로 정의되어 있다고 가정하자."
   ]
  },
  {
   "cell_type": "code",
   "execution_count": 30,
   "id": "bf83ddaa",
   "metadata": {},
   "outputs": [
    {
     "name": "stdout",
     "output_type": "stream",
     "text": [
      "{3}\n",
      "{1, 2, 3, 4, 5}\n"
     ]
    }
   ],
   "source": [
    "A = {1,2,3}\n",
    "B = {3,4,5}\n",
    "C = A & B # (교집합)\n",
    "D = A|B # (합집합)\n",
    "print(C) # {3}\n",
    "print(D) # {1, 2, 3, 4, 5}"
   ]
  },
  {
   "cell_type": "markdown",
   "id": "40ef9965",
   "metadata": {},
   "source": [
    "4) 집합 연산\n",
    "    - 합집합은 2개의 집합을 합하는 연산이다.\n",
    "      물론 중복되는 요소는 제외된다.\n",
    "      합집합은 | 연산자나 union() 메소드를 사용한다."
   ]
  },
  {
   "cell_type": "code",
   "execution_count": 35,
   "id": "8993dd33",
   "metadata": {},
   "outputs": [
    {
     "name": "stdout",
     "output_type": "stream",
     "text": [
      "{1, 2, 3, 4, 5}\n",
      "{1, 2, 3, 4, 5}\n"
     ]
    }
   ],
   "source": [
    "A = {1,2,3}\n",
    "B = {3,4,5}\n",
    "C = A|B \n",
    "print(C) # {1, 2, 3, 4, 5}\n",
    "D = A.union(B)\n",
    "print(D) # {1, 2, 3, 4, 5}"
   ]
  },
  {
   "cell_type": "markdown",
   "id": "979f88e7",
   "metadata": {},
   "source": [
    "4) 집합 연산\n",
    "    - 교집합은 2개의 집합에서 겹치는 요소를 구하는 연산이다.\n",
    "      교집합은 & 연산자나 intersection() 메소드를 사용한다."
   ]
  },
  {
   "cell_type": "code",
   "execution_count": 37,
   "id": "aee76486",
   "metadata": {},
   "outputs": [
    {
     "name": "stdout",
     "output_type": "stream",
     "text": [
      "{3}\n",
      "{3}\n"
     ]
    }
   ],
   "source": [
    "A = {1,2,3}\n",
    "B = {3,4,5}\n",
    "C = A & B\n",
    "print(C) # {3}\n",
    "D = A.intersection(B)\n",
    "print(D) # {3}"
   ]
  },
  {
   "cell_type": "markdown",
   "id": "73728b71",
   "metadata": {},
   "source": [
    "4) 집합 연산\n",
    "    - 차집합은 하나의 집합에서 다른 집합의 요소를 뺴는 것이다.\n",
    "      차집합은 - 연산자나 difference() 메소드를 사용한다."
   ]
  },
  {
   "cell_type": "code",
   "execution_count": 39,
   "id": "58a1733b",
   "metadata": {},
   "outputs": [
    {
     "name": "stdout",
     "output_type": "stream",
     "text": [
      "{1, 2}\n",
      "{1, 2}\n"
     ]
    }
   ],
   "source": [
    "A = {1,2,3}\n",
    "B = {3,4,5}\n",
    "C = A - B\n",
    "print(C) # {1, 2}\n",
    "D = A.difference(B)\n",
    "print(D) # {1, 2}"
   ]
  },
  {
   "cell_type": "markdown",
   "id": "a9415895",
   "metadata": {},
   "source": [
    "4) 집합 연산\n",
    "    - 집합에 대해서도 all(), any(), enumerate(),\n",
    "      len(), max(), min(), sorted(), sum() 등의 \n",
    "      메소드는 사용할 수 있다.\n",
    "      \n",
    "    - all()은 세트의 모든 요소가 \n",
    "      True인 경우 세트가 True가 된다.\n",
    "    - any()는 하나의 요소라도 True이면 True를 반환한다."
   ]
  },
  {
   "cell_type": "code",
   "execution_count": 45,
   "id": "286418a3",
   "metadata": {},
   "outputs": [
    {
     "name": "stdout",
     "output_type": "stream",
     "text": [
      "True\n",
      "False\n",
      "True\n",
      "True\n"
     ]
    }
   ],
   "source": [
    "A = {1,2,3}\n",
    "B = {0,4,5}\n",
    "print(all(A)) # True\n",
    "print(all(B)) # False\n",
    "print(any(A)) # True\n",
    "print(any(B)) # True\n",
    "# all == and &\n",
    "# any == or ||"
   ]
  }
 ],
 "metadata": {
  "kernelspec": {
   "display_name": "Python 3",
   "language": "python",
   "name": "python3"
  },
  "language_info": {
   "codemirror_mode": {
    "name": "ipython",
    "version": 3
   },
   "file_extension": ".py",
   "mimetype": "text/x-python",
   "name": "python",
   "nbconvert_exporter": "python",
   "pygments_lexer": "ipython3",
   "version": "3.8.8"
  }
 },
 "nbformat": 4,
 "nbformat_minor": 5
}
