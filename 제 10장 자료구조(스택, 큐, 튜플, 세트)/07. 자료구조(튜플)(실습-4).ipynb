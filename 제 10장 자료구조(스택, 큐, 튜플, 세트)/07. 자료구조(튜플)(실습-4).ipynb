{
 "cells": [
  {
   "cell_type": "code",
   "execution_count": 34,
   "id": "b3d25779",
   "metadata": {},
   "outputs": [
    {
     "name": "stdout",
     "output_type": "stream",
     "text": [
      "값 변경 전 (10, 20)\n",
      "값 변경 후 (20, 10)\n",
      "===================\n",
      "값 변경 전 (10, 20)\n",
      "값 변경 후 (20, 10)\n"
     ]
    }
   ],
   "source": [
    "# 튜플 대입 연산에 대한 실습\n",
    "# 튜플 패킹(packing) : 튜플에다가 값을 저장\n",
    "# 튜플 언패킹(unpacking) : 튜플에서 값을 추출해서 변수에 대입하는 과정\n",
    "\n",
    "# 값을 교환할 때 일반적 방법\n",
    "x = 10\n",
    "y = 20\n",
    "print(f\"값 변경 전 {x,y}\")\n",
    "temp = 0 # 빈컵의 역할\n",
    "temp = x\n",
    "x = y\n",
    "y = temp\n",
    "print(f\"값 변경 후 {x,y}\")\n",
    "print(\"===================\")\n",
    "\n",
    "\n",
    "# 값을 교환할 떄 : 튜플을 이용하는 방법\n",
    "a = 10\n",
    "b = 20\n",
    "print(f\"값 변경 전 {a,b}\")\n",
    "a,b = b,a\n",
    "print(f\"값 변경 후 {a,b}\")\n",
    "\n",
    "# Not enough values to unpack (expected 3, got 2)\n",
    "# (x,y,z) = (10,20,)\n",
    "# 인자값들이서로 맞게끔 줘야한다.\n",
    "# 맞게끔 주지 않는다면 unpack이라는 value 에러가 발생함"
   ]
  },
  {
   "cell_type": "code",
   "execution_count": 35,
   "id": "31dd7c31",
   "metadata": {},
   "outputs": [
    {
     "name": "stdout",
     "output_type": "stream",
     "text": [
      "신은혁\n",
      "14\n",
      "중학생\n"
     ]
    }
   ],
   "source": [
    "# 여러 개의 변수를 한 번에 할당하는 방법\n",
    "Person = (\"신은혁\",14,\"중학생\")\n",
    "name, age, student_grade = Person\n",
    "print(name)\n",
    "print(age)\n",
    "print(student_grade)"
   ]
  },
  {
   "cell_type": "code",
   "execution_count": 36,
   "id": "edecc975",
   "metadata": {},
   "outputs": [
    {
     "name": "stdout",
     "output_type": "stream",
     "text": [
      "원의 반지름을 입력하시오 : 10\n",
      "원의 넓이는 314.1592653589793 이고 원의 둘레는 62.83185307179586 이다\n"
     ]
    }
   ],
   "source": [
    "# 문제 : 원의 넓이와 둘레를 동시에 반환하는 함수를 작성하고\n",
    "#       테스트하라.\n",
    "#       반지름은 사용자로부터 입력을 받는다.\n",
    "\n",
    "# 출력 결과\n",
    "# 원의 반지름을 입력하시오 : 10\n",
    "# 원의 넓이는 314.1592653589793이고 원의 둘레는 ......이다.\n",
    "\n",
    "def circle(radious):\n",
    "    import math\n",
    "    area = math.pi * radious**2 \n",
    "    circumference = 2*math.pi*radious\n",
    "    return area,circumference\n",
    "\n",
    "USER_INPUT = float(input(\"원의 반지름을 입력하시오 : \"))\n",
    "area, circumference = circle(USER_INPUT)\n",
    "print(f\"원의 넓이는 {area} 이고 원의 둘레는 {circumference} 이다\")"
   ]
  },
  {
   "cell_type": "code",
   "execution_count": 40,
   "id": "cec5ddfb",
   "metadata": {},
   "outputs": [
    {
     "name": "stdout",
     "output_type": "stream",
     "text": [
      "1번째 학생의 총점은 170이고 평균은 85.0 입니다\n",
      "2번째 학생의 총점은 160이고 평균은 80.0 입니다\n",
      "3번째 학생의 총점은 190이고 평균은 95.0 입니다\n"
     ]
    }
   ],
   "source": [
    "# 문제 : data_list = [(90,80),(85,75),(90,100)]\n",
    "# 튜플을 원소로하는 리스트를 활용하여\n",
    "# 학생의 총점과 평균(소수 첫째자리)을 출력하는 프로그램을 작성하시오\n",
    "\n",
    "# 조건 enumerate() 함수를 이용한다.\n",
    "\n",
    "# 출력 결과\n",
    "# 1번 학생의 총점은 170점이고 평균은 85.0입니다.\n",
    "# 2번 학생의 총점은 160점이고 평균은 80.0입니다.\n",
    "# 3번 학생의 총점은 180점이고 평균은 95.0입니다.\n",
    "data_list = [(90,80),(85,75),(90,100)]\n",
    "\n",
    "# enumerate() 함수의 역할 :\n",
    "# 반복문 사용시 몇 번째 반복을 돌고 있는지 확인할때 사용한다.\n",
    "# 인덱스 번호와 요소를 튜플로 반환해준다.\n",
    "for i, scores in enumerate(data_list):\n",
    "    # print(i, score)\n",
    "    hap = 0\n",
    "    # 학생 1명씩 점수를 누적시킴\n",
    "    for score in scores:\n",
    "        hap+= score\n",
    "    print(f\"{i+1}번째 학생의 총점은 {hap}이고 평균은 {hap/2} 입니다\")"
   ]
  },
  {
   "cell_type": "code",
   "execution_count": null,
   "id": "d1e8c13a",
   "metadata": {},
   "outputs": [],
   "source": [
    "# https://www.daleseo.com/python-enumerate/"
   ]
  }
 ],
 "metadata": {
  "kernelspec": {
   "display_name": "Python 3",
   "language": "python",
   "name": "python3"
  },
  "language_info": {
   "codemirror_mode": {
    "name": "ipython",
    "version": 3
   },
   "file_extension": ".py",
   "mimetype": "text/x-python",
   "name": "python",
   "nbconvert_exporter": "python",
   "pygments_lexer": "ipython3",
   "version": "3.8.8"
  }
 },
 "nbformat": 4,
 "nbformat_minor": 5
}
