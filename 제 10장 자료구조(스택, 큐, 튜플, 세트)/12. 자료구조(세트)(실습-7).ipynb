{
 "cells": [
  {
   "cell_type": "code",
   "execution_count": 4,
   "id": "8fdbf07b",
   "metadata": {},
   "outputs": [
    {
     "name": "stdout",
     "output_type": "stream",
     "text": [
      "{'손연재'}\n",
      "{'손연재'}\n"
     ]
    }
   ],
   "source": [
    "# 문제\n",
    "# 아래와 같이 두개의 세트가 있다.\n",
    "# 두개의 세트에 있는 사람이름 중에\n",
    "# 2개의 파티에 참석한 사람은 누구인가를 출력하시오.\n",
    "partyA = set([\"신은혁\",\"김연아\",\"손연재\",\"김철수\"])\n",
    "partyB = set([\"최양락\",\"김기훈\",\"손연재\",\"안철수\"])\n",
    "intersection = partyA.intersection(partyB)\n",
    "intersectionoperatoruse = partyA&partyB\n",
    "print(intersectionoperatoruse)\n",
    "# 출력 결과는 \n",
    "# 두개의 파티에 모두 참석한 사람은 아래와 같습니다.\n",
    "print(intersection)\n"
   ]
  },
  {
   "cell_type": "code",
   "execution_count": 6,
   "id": "e14f8c34",
   "metadata": {},
   "outputs": [
    {
     "name": "stdout",
     "output_type": "stream",
     "text": [
      "{'김연아', '김철수', '신은혁'}\n",
      "{'김연아', '김철수', '신은혁'}\n"
     ]
    }
   ],
   "source": [
    "onlyPartyA = partyA.difference(partyB)\n",
    "onlyPartyAoperatoruse = partyA-partyB\n",
    "print(onlyPartyAoperatoruse)\n",
    "print(onlyPartyA)"
   ]
  },
  {
   "cell_type": "code",
   "execution_count": 10,
   "id": "c4fbf0ac",
   "metadata": {},
   "outputs": [
    {
     "name": "stdout",
     "output_type": "stream",
     "text": [
      "입력 파일 이름 : 12.words.txt\n",
      "사용된 단어의 개수 : 18\n",
      "{'a', 'fast', 'of', 'bad', 'ends', 'birds', 'together', 'travels', 'half', 'that', 'alls', 'well', 'news', 'is', 'done', 'feather', 'flock', 'begun'}\n"
     ]
    }
   ],
   "source": [
    "# 문제 : 텍스트 파일을 읽어서 단어를 얼마나 다양하게\n",
    "#        사용하여 문서를 작성하였는지를 계산하는 프로그램을\n",
    "#        작성하시오.\n",
    "\n",
    "# 출력 결과\n",
    "# 입력 파일 이름 : word.txt\n",
    "# 사용된 단어의 개수 : 18\n",
    "#file_name = \"12.words.txt\"\n",
    "#f = open(file_name,'r',encoding=\"utf-8\")\n",
    "\n",
    "# 단어에서 마침표를 제거하고 소문자로 만드는 함수\n",
    "def process(word):\n",
    "    out_str =\"\"\n",
    "    for ch in word:\n",
    "        if ch.isalpha(): # 영문자라면\n",
    "            out_str += ch\n",
    "    return out_str.lower() # 단어를 소문자로 리턴\n",
    "\n",
    "if __name__==\"__main__\":\n",
    "    words = set() # 비어있는 세트를 만든다.\n",
    "    f_name =input(\"입력 파일 이름 : \")\n",
    "    file = open(f_name, mode='r')\n",
    "    # 파일을 읽기모드로 설정하고 연다.\n",
    "    # 파일에 모든 줄에 대해 반복한다.\n",
    "    for line in file:\n",
    "        linewords = line.split() \n",
    "        # 한라인을 읽어와서 단어(토큰)별로 분리하고 있다.\n",
    "        for word in linewords:\n",
    "            words.add(process(word)) \n",
    "            # 단어를 세트에 추가한다.\n",
    "    print(f\"사용된 단어의 개수 : {len(words)}\")\n",
    "    print(words)\n",
    "    file.close()"
   ]
  }
 ],
 "metadata": {
  "kernelspec": {
   "display_name": "Python 3",
   "language": "python",
   "name": "python3"
  },
  "language_info": {
   "codemirror_mode": {
    "name": "ipython",
    "version": 3
   },
   "file_extension": ".py",
   "mimetype": "text/x-python",
   "name": "python",
   "nbconvert_exporter": "python",
   "pygments_lexer": "ipython3",
   "version": "3.8.8"
  }
 },
 "nbformat": 4,
 "nbformat_minor": 5
}
