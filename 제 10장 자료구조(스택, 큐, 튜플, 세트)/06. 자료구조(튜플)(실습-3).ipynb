{
 "cells": [
  {
   "cell_type": "code",
   "execution_count": 18,
   "id": "62214d30",
   "metadata": {},
   "outputs": [
    {
     "name": "stdout",
     "output_type": "stream",
     "text": [
      "('red', 'blue', 'yellow')\n",
      "<class 'tuple'>\n",
      "(1, 2, 3, 4, 5)\n",
      "(1, 2.2, 'hi')\n",
      "()\n",
      "10\n",
      "<class 'int'>\n",
      "(10,)\n",
      "<class 'tuple'>\n",
      "[1, 2, 3, 4, 5]\n",
      "(1, 2, 3, 4, 5)\n",
      "(1, 2.2, 'hi')\n",
      "<class 'tuple'>\n",
      "t1의 주소 2546035723712\n",
      "((1, 2.2, 'hi'), (3.3, 4.4, 5.5))\n",
      "<class 'tuple'>\n",
      "t2의 주소 2546039416832\n",
      "t2의 주소 2546035723712\n",
      "True\n"
     ]
    }
   ],
   "source": [
    "# 튜플(tuple)에 대한 실습\n",
    "# 튜플의 특징 : 리스트에 반하여 변경이 불가능한 객체이다.\n",
    "#             리스트에 비해서 속도가 빠르다.\n",
    "#             튜플도 시퀀스의 일종이다.\n",
    "#              +, * min(),max(),len() tuple() 연산과\n",
    "#             내장함수가 사용가능하다.\n",
    "\n",
    "# 리스트는 대괄호 []로 요소를 감싸지만, \n",
    "# 튜플은 ()로 요소를 감싼다.\n",
    "colors = (\"red\",\"blue\",\"yellow\")\n",
    "print(colors) # ('red', 'blue', 'yellow')\n",
    "print(type(colors)) # <class 'tuple'>\n",
    "\n",
    "numbers = (1,2,3,4,5,)\n",
    "print(numbers) # (1, 2, 3, 4, 5)\n",
    "\n",
    "# 튜플도 리스트와 마찬가지로 여러가지 자료형을 섞어서 생성할 수 있다.\n",
    "tuple1 = (1,2.2,\"hi\")\n",
    "print(tuple1) # (1, 2.2, 'hi')\n",
    "\n",
    "# 공백 튜플 만들기\n",
    "tuple2 = () # ()\n",
    "print(tuple2)\n",
    "# 튜플은 한번 생성되어지면 더이상 추가, 삭제 수정이 불가하다.\n",
    "\n",
    "# 하나의 값만 가지는 튜플을 생성할때는\n",
    "# 반드시 요소 뒤에 ,(콤마)를 적어줘야 한다.\n",
    "# 그렇지 아니하면 그냥 일반 정수나 문자열로 인식한다.\n",
    "tuple3 = (10)\n",
    "print(tuple3) # 10\n",
    "print(type(tuple3)) # <class 'int'>\n",
    "tuple3 = (10,)\n",
    "print(tuple3) # (10,)\n",
    "print(type(tuple3)) # <class 'tuple'>\n",
    "\n",
    "li = [1,2,3,4,5]\n",
    "# 리스트를 내장함수인 tuple()로 tuple로 만들수가 있다.\n",
    "tuple4 = tuple(li)\n",
    "print(li) # [1, 2, 3, 4, 5]\n",
    "print(tuple4) # (1, 2, 3, 4, 5)\n",
    "\n",
    "# 튜플도 리스트와 마찬가지로 내장 튜플을 가질수 있다.\n",
    "t1 = (1,2.2,\"hi\")\n",
    "t2 = t1, (3.3,4.4,5.5)\n",
    "print(t1)  # 1, 2.2, 'hi')\n",
    "print(type(t1)) # <class 'tuple'>\n",
    "print(f\"t1의 주소 {id(t1)}\") # t1의 주소 2546035736256\n",
    "print(t2) # ((1, 2.2, 'hi'), (3.3, 4.4, 5.5))\n",
    "print(type(t2)) # <class 'tuple'>\n",
    "print(f\"t2의 주소 {id(t2)}\") # t2의 주소 2546016157504\n",
    "print(f\"t2의 주소 {id(t2[0])}\") # t2[0]의 주소 2546035736256\n",
    "print(id(t2[0]) == id(t1)) # True"
   ]
  },
  {
   "cell_type": "code",
   "execution_count": 20,
   "id": "cf4471e1",
   "metadata": {},
   "outputs": [
    {
     "name": "stdout",
     "output_type": "stream",
     "text": [
      "t4의 길이 4\n"
     ]
    },
    {
     "ename": "TypeError",
     "evalue": "'>' not supported between instances of 'str' and 'int'",
     "output_type": "error",
     "traceback": [
      "\u001b[1;31m---------------------------------------------------------------------------\u001b[0m",
      "\u001b[1;31mTypeError\u001b[0m                                 Traceback (most recent call last)",
      "\u001b[1;32m<ipython-input-20-9d474e2ac736>\u001b[0m in \u001b[0;36m<module>\u001b[1;34m\u001b[0m\n\u001b[0;32m      1\u001b[0m \u001b[0mt4\u001b[0m \u001b[1;33m=\u001b[0m \u001b[1;33m(\u001b[0m\u001b[1;36m1\u001b[0m\u001b[1;33m,\u001b[0m\u001b[1;36m2\u001b[0m\u001b[1;33m,\u001b[0m\u001b[1;36m3\u001b[0m\u001b[1;33m,\u001b[0m\u001b[1;34m\"안녕\"\u001b[0m\u001b[1;33m)\u001b[0m\u001b[1;33m\u001b[0m\u001b[1;33m\u001b[0m\u001b[0m\n\u001b[0;32m      2\u001b[0m \u001b[0mprint\u001b[0m\u001b[1;33m(\u001b[0m\u001b[1;34mf\"t4의 길이 {len(t4)}\"\u001b[0m\u001b[1;33m)\u001b[0m\u001b[1;33m\u001b[0m\u001b[1;33m\u001b[0m\u001b[0m\n\u001b[1;32m----> 3\u001b[1;33m \u001b[0mprint\u001b[0m\u001b[1;33m(\u001b[0m\u001b[1;34mf\"t4의 가장 큰값 {max(t4)}\"\u001b[0m\u001b[1;33m)\u001b[0m\u001b[1;33m\u001b[0m\u001b[1;33m\u001b[0m\u001b[0m\n\u001b[0m",
      "\u001b[1;31mTypeError\u001b[0m: '>' not supported between instances of 'str' and 'int'"
     ]
    }
   ],
   "source": [
    "t4 = (1,2,3,\"안녕\")\n",
    "print(f\"t4의 길이 {len(t4)}\")\n",
    "# ypeError: '>' not supported between instances of 'str' and 'int'\n",
    "# 서로 다른 데이터 타입이 튜플의 요소로 존재한다면 비교가 되지 않는다.\n",
    "print(f\"t4의 가장 큰값 {max(t4)}\")"
   ]
  },
  {
   "cell_type": "code",
   "execution_count": 22,
   "id": "ab604dda",
   "metadata": {},
   "outputs": [
    {
     "name": "stdout",
     "output_type": "stream",
     "text": [
      "t4의 길이 4\n",
      "t4의 가장 큰값 4\n",
      "t4의 가장 작은값 1\n"
     ]
    }
   ],
   "source": [
    "# 튜플도 시퀀스의 일종이므로 아래와 같이 내장함수를 사용가능하다.\n",
    "t4 = (1,2,3,4)\n",
    "print(f\"t4의 길이 {len(t4)}\")\n",
    "print(f\"t4의 가장 큰값 {max(t4)}\")\n",
    "print(f\"t4의 가장 작은값 {min(t4)}\")"
   ]
  },
  {
   "cell_type": "code",
   "execution_count": 32,
   "id": "4495a558",
   "metadata": {},
   "outputs": [
    {
     "name": "stdout",
     "output_type": "stream",
     "text": [
      "철수\n",
      "5.5\n",
      "(5.5,)\n",
      "(5.5, '철수')\n",
      "(5.5, '철수', 3, 2.2)\n",
      "True\n"
     ]
    }
   ],
   "source": [
    "# 인덱싱\n",
    "t10 = (1,2.2,3,\"철수\",5.5)\n",
    "print(t10[3])\n",
    "print(t10[-1])\n",
    "\n",
    "# 슬라이싱\n",
    "print(t10[4:5])\n",
    "print(t10[-1:-3:-1])\n",
    "print(t10[-1:0:-1])\n",
    "\n",
    "# cmp()함수는 미지원 \n",
    "# dir() 함수는 \n",
    "# 사용할수 있는 함수들을 출력 해주는 역할을 하는 함수이다.\n",
    "t1 = (1,2.2,3)\n",
    "t2 = (1,2.2,3)\n",
    "print(t1.__eq__(t2)) # True\n",
    "# 튜플을 비교를 하고자 한다면 __eq__()를 사용하도록 하자."
   ]
  }
 ],
 "metadata": {
  "kernelspec": {
   "display_name": "Python 3",
   "language": "python",
   "name": "python3"
  },
  "language_info": {
   "codemirror_mode": {
    "name": "ipython",
    "version": 3
   },
   "file_extension": ".py",
   "mimetype": "text/x-python",
   "name": "python",
   "nbconvert_exporter": "python",
   "pygments_lexer": "ipython3",
   "version": "3.8.8"
  }
 },
 "nbformat": 4,
 "nbformat_minor": 5
}
