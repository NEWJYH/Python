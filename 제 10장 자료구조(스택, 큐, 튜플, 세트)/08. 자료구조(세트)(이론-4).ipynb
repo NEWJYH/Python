{
 "cells": [
  {
   "cell_type": "markdown",
   "id": "d4df4517",
   "metadata": {},
   "source": [
    "4. 세트(Set)"
   ]
  },
  {
   "cell_type": "markdown",
   "id": "e660f8ed",
   "metadata": {},
   "source": [
    "1) 세트(set)\n",
    "    - 세트(set)는 우리가 수학에서 배웠던 집합이다.\n",
    "      세트는 중복되지 않은 항목들이 모인 것이다.\n",
    "      세트의 항목 간에는 순서가 없다.\n",
    "      (인덱싱 x 슬라이싱 x)\n",
    "      만약 응용 프로그램에서 순서 없는 항목들의 집합을 원한다면\n",
    "      세트가 최선의 선택이 된다. 하지만 중복된 항목은 없어야 한다.\n",
    "      파이썬에서 세트를 생성하려면 \n",
    "      요소들을 중괄호 기호 {}로 감싸면 된다.\n",
    "      \n",
    "      세트 = { 항목1, 항목2, 항목3, .....항목n}\n",
    "      \n",
    "    - 중복을 불허하는 특징 때문에 프로그래밍에서 매우 유용하다.\n",
    "      대표적으로 문서 하나에 들어가 잇는 단어 종류의 개수를 셀\n",
    "      때 모든 단어를 추출한 후 세트로 변환하면, 단어 종류의 개수를\n",
    "      쉽게 파악할 수 있다.\n",
    "      \n",
    "    - 세트는 중괄호 기호 안에 항목들을 쉼표로 분리하여 놓으면 된다."
   ]
  },
  {
   "cell_type": "code",
   "execution_count": 16,
   "id": "6f8fe1cb",
   "metadata": {},
   "outputs": [
    {
     "name": "stdout",
     "output_type": "stream",
     "text": [
      "{1, 2, 3}\n",
      "3\n",
      "{1, 2, 3, 4, 5, 6}\n",
      "{2, 3, 4, 5, 6}\n",
      "{2, 3, 4, 5, 6, 10}\n",
      "{2, 3, 4, 5, 6}\n",
      "{3, 4, 5, 6}\n"
     ]
    }
   ],
   "source": [
    "numbers = {2,1,3}\n",
    "print(numbers) # {1, 2, 3}\n",
    "# 세트의 크기는 len() 함수로 알수 있다.\n",
    "print(len(numbers)) # 3\n",
    "\n",
    "# mycode\n",
    "mylist = [1,2,3,4,5,6,1,2,3,4,5,6]\n",
    "myset = set(mylist)\n",
    "print(myset) # {1, 2, 3, 4, 5, 6}\n",
    "# 셋 알아보기\n",
    "myset.pop()\n",
    "print(myset)\n",
    "myset.add(10)\n",
    "print(myset)\n",
    "myset.discard(10)\n",
    "myset.discard(10)\n",
    "print(myset)\n",
    "myset.remove(2)\n",
    "print(myset)\n",
    "# myset.remove(2)\n",
    "# discard는 없어도 에러가 안나지만 remove는 에러가남\n",
    "\n",
    "# https://wikidocs.net/1015\n",
    "# ※ 중복을 허용하지 않는 set의 특징은 \n",
    "# 자료형의 중복을 제거하기 위한 필터 역할로 종종 사용하기도 한다."
   ]
  },
  {
   "cell_type": "markdown",
   "id": "7c7d91ee",
   "metadata": {},
   "source": [
    "1) 세트(set)\n",
    "    - 세트를 만들 때, 문자열로 이루어진 세트도 생성할 수 있으며,\n",
    "      여러가지 자료형을 섞어도 된다."
   ]
  },
  {
   "cell_type": "code",
   "execution_count": 9,
   "id": "5dc5c103",
   "metadata": {},
   "outputs": [],
   "source": [
    "fruits = {\"Apple\",\"Banana\",\"Pineapple\"}\n",
    "mySet = {1.0,2.0,\"Hello world\",(1,2,3)}"
   ]
  },
  {
   "cell_type": "markdown",
   "id": "fdd6cf50",
   "metadata": {},
   "source": [
    "1) 세트(set)\n",
    "    - 세트는 집합이기 때문에 요소가 중복되면 자동으로\n",
    "      중복된 요소를 제거한다."
   ]
  },
  {
   "cell_type": "code",
   "execution_count": 11,
   "id": "7d6bfcf2",
   "metadata": {},
   "outputs": [
    {
     "name": "stdout",
     "output_type": "stream",
     "text": [
      "{'Paris', 'London', 'Seoul', 'Berlin'}\n"
     ]
    }
   ],
   "source": [
    "cities = {\"Paris\",\"Seoul\",\"London\",\"Berlin\",\"Paris\",\"Seoul\"}\n",
    "print(cities) # {'Paris', 'London', 'Seoul', 'Berlin'}"
   ]
  },
  {
   "cell_type": "markdown",
   "id": "bbba1568",
   "metadata": {},
   "source": [
    "1) 세트(set)\n",
    "    - 비어 있는 세트를 생성하려면 set()함수를 사용한다."
   ]
  },
  {
   "cell_type": "code",
   "execution_count": 12,
   "id": "7ca27509",
   "metadata": {},
   "outputs": [
    {
     "name": "stdout",
     "output_type": "stream",
     "text": [
      "set()\n"
     ]
    }
   ],
   "source": [
    "numbers = set()\n",
    "print(numbers)"
   ]
  },
  {
   "cell_type": "markdown",
   "id": "f47fcd7d",
   "metadata": {},
   "source": [
    "1) 세트(set)\n",
    "    - 어떤 항목이 세트 안에 있는지 검사하려면 \n",
    "      in 연산자를 사용하면 된다."
   ]
  },
  {
   "cell_type": "code",
   "execution_count": 13,
   "id": "96de9c51",
   "metadata": {},
   "outputs": [
    {
     "name": "stdout",
     "output_type": "stream",
     "text": [
      "집합안에 1이 있습니다.\n"
     ]
    }
   ],
   "source": [
    "numbers = {2,1,3}\n",
    "if 1 in numbers:\n",
    "    print(f\"집합안에 {1}이 있습니다.\")"
   ]
  },
  {
   "cell_type": "markdown",
   "id": "2bd3cda9",
   "metadata": {},
   "source": [
    "1) 세트(set)\n",
    "    - 세트의 항목은 순서가 없기 때문에 위치를 가지고\n",
    "      세트의 항목에 접근할 수는 없다.\n",
    "      하지만 for 반복문을 이용하여 각 항목들에 접근할 수 있다."
   ]
  },
  {
   "cell_type": "code",
   "execution_count": 14,
   "id": "8feb9918",
   "metadata": {},
   "outputs": [
    {
     "name": "stdout",
     "output_type": "stream",
     "text": [
      "1 2 3 "
     ]
    }
   ],
   "source": [
    "numbers = {2,1,3}\n",
    "for x in numbers:\n",
    "    print(x, end=\" \")"
   ]
  },
  {
   "cell_type": "markdown",
   "id": "906530bb",
   "metadata": {},
   "source": [
    "1) 세트(set)\n",
    "    - !!!\n",
    "    - 여기서 주의 할점은 항목들이 출력되는 순서는 \n",
    "      입력되는 순서와 다를 수도 있다는 점이다.\n",
    "      우리의 예제에서도 입력된 순서는 2,1,3이지만\n",
    "      출력되는순서는 1,2,3 이다.\n",
    "      \n",
    "    - 만약 정렬된 순서로 항목을 출력하기 원한다면\n",
    "      다음과 같이 sorted()함수를 사용하면 된다."
   ]
  },
  {
   "cell_type": "code",
   "execution_count": 15,
   "id": "45953c9e",
   "metadata": {},
   "outputs": [
    {
     "name": "stdout",
     "output_type": "stream",
     "text": [
      "1 2 3 "
     ]
    }
   ],
   "source": [
    "for x in sorted(numbers):\n",
    "    print(x,end=\" \")"
   ]
  },
  {
   "cell_type": "markdown",
   "id": "4df542f3",
   "metadata": {},
   "source": [
    "1) 세트(set)\n",
    "    - 세트는 모든 요소들을 해싱(hashing)을 이용하여 저장하고 관리\n",
    "      한다. 따라서 요소들은 해싱가능(hashable)하여야 한다.\n",
    "      \n",
    "    - !!!!\n",
    "      해싱이란 아주 간단히 설명하자면 각각의 객체에 식별할수 있는\n",
    "      숫자 코드를 부여하여 객체를 테이블에 저장하는 것이다."
   ]
  },
  {
   "cell_type": "markdown",
   "id": "16d707f2",
   "metadata": {},
   "source": [
    "1) 세트(set)\n",
    "    - 파이썬에서 요소가 해싱 가능하려면 해쉬 코드를 가져야 하고\n",
    "      그 값이 변경이 되면 안된다.\n",
    "      따라서 세트는 변경 가능한 항목을 가지면 안된다.\n",
    "      예를 들어서 세트 안에 리스트를 넣으면 안된다."
   ]
  },
  {
   "cell_type": "code",
   "execution_count": 17,
   "id": "a6d7b2b3",
   "metadata": {},
   "outputs": [
    {
     "ename": "TypeError",
     "evalue": "unhashable type: 'list'",
     "output_type": "error",
     "traceback": [
      "\u001b[1;31m---------------------------------------------------------------------------\u001b[0m",
      "\u001b[1;31mTypeError\u001b[0m                                 Traceback (most recent call last)",
      "\u001b[1;32m<ipython-input-17-98800b71b13f>\u001b[0m in \u001b[0;36m<module>\u001b[1;34m\u001b[0m\n\u001b[1;32m----> 1\u001b[1;33m \u001b[0mnumbers\u001b[0m \u001b[1;33m=\u001b[0m \u001b[1;33m{\u001b[0m\u001b[1;36m1\u001b[0m\u001b[1;33m,\u001b[0m\u001b[1;36m2\u001b[0m\u001b[1;33m,\u001b[0m\u001b[1;33m[\u001b[0m\u001b[1;36m3\u001b[0m\u001b[1;33m,\u001b[0m\u001b[1;36m4\u001b[0m\u001b[1;33m,\u001b[0m\u001b[1;36m5\u001b[0m\u001b[1;33m]\u001b[0m\u001b[1;33m}\u001b[0m\u001b[1;33m\u001b[0m\u001b[1;33m\u001b[0m\u001b[0m\n\u001b[0m",
      "\u001b[1;31mTypeError\u001b[0m: unhashable type: 'list'"
     ]
    }
   ],
   "source": [
    "numbers = {1,2,[3,4,5]}\n",
    "# TypeError: unhashable type: 'list'"
   ]
  },
  {
   "cell_type": "markdown",
   "id": "817f7064",
   "metadata": {},
   "source": [
    "1) 세트(set)\n",
    "    - 하지만 리스트로부터 세트를 생성하는 것은 가능하다."
   ]
  },
  {
   "cell_type": "code",
   "execution_count": 18,
   "id": "75f03ecf",
   "metadata": {},
   "outputs": [
    {
     "name": "stdout",
     "output_type": "stream",
     "text": [
      "{1, 2, 3, 4, 5}\n"
     ]
    }
   ],
   "source": [
    "print(set([1,2,3,4,5]))"
   ]
  },
  {
   "cell_type": "markdown",
   "id": "135ddb60",
   "metadata": {},
   "source": [
    "1) 세트(set)\n",
    "    - 문자열로부터 세트를 생성하는 것도 가능하다."
   ]
  },
  {
   "cell_type": "code",
   "execution_count": 20,
   "id": "7e476f56",
   "metadata": {},
   "outputs": [
    {
     "name": "stdout",
     "output_type": "stream",
     "text": [
      "{'d', 'a', 'c', 'f', 'b', 'e'}\n",
      "['a', 'b', 'c', 'd', 'e', 'f']\n"
     ]
    }
   ],
   "source": [
    "print(set(\"abcdefa\")) # 출력 결곽도 매번 다를 수 있다.\n",
    "print(sorted(set(\"abcdefa\")))"
   ]
  },
  {
   "cell_type": "markdown",
   "id": "d3105f35",
   "metadata": {},
   "source": [
    "1) 세트(set)\n",
    "    - 집합의 요소에 대하여 반복하려면 \n",
    "      다음과 같은 문장을 사용하면 된다."
   ]
  },
  {
   "cell_type": "code",
   "execution_count": 28,
   "id": "ca9ede41",
   "metadata": {},
   "outputs": [
    {
     "name": "stdout",
     "output_type": "stream",
     "text": [
      "a b n "
     ]
    }
   ],
   "source": [
    "for char in set(\"banana\"):\n",
    "    print(char, end=\" \")"
   ]
  }
 ],
 "metadata": {
  "kernelspec": {
   "display_name": "Python 3",
   "language": "python",
   "name": "python3"
  },
  "language_info": {
   "codemirror_mode": {
    "name": "ipython",
    "version": 3
   },
   "file_extension": ".py",
   "mimetype": "text/x-python",
   "name": "python",
   "nbconvert_exporter": "python",
   "pygments_lexer": "ipython3",
   "version": "3.8.8"
  }
 },
 "nbformat": 4,
 "nbformat_minor": 5
}
