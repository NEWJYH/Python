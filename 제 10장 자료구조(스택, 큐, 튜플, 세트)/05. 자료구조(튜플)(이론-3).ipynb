{
 "cells": [
  {
   "cell_type": "markdown",
   "id": "2b46b729",
   "metadata": {},
   "source": [
    "3. 튜플"
   ]
  },
  {
   "cell_type": "markdown",
   "id": "52ba5c8d",
   "metadata": {},
   "source": [
    "1) 튜플(tuple)의 개념\n",
    "    - 튜플(tuple)은 리스트와 아주 유사하다.\n",
    "      하지만 튜플의 내용은 변경될 수 없다.\n",
    "      어떻게 보면 리스트보다 튜플이 불편하다.\n",
    "      그렇다면 왜 튜플을 사용하는 것일까?\n",
    "      어떤경우에는 리스트가 한번에 만들어지면 내용을 변경할 수 없게 \n",
    "      하는 것이 도움이 된다.\n",
    "      !!!\n",
    "      이유는 변경될 수 있는 객체이기 때문에 실수로 요소를 추가하거나,\n",
    "      삭제, 변경될수 있기 때문이다.\n",
    "      또 튜플은 리스트에 비하여 접근 속도가 빠르다.\n",
    "      아울러 튜플도 시퀸스의 일종이다.\n",
    "      !!!!\n",
    "      \n",
    "    - 시퀴스에 속하는 자료구조들은 동일한 연산을 지원한다.\n",
    "      인덱싱(indexing), 슬라이싱(slicing), 덧셈 연산(adding),\n",
    "      곱셉연산(multiplying)이 지원된다.\n",
    "      \n",
    "    - 예를 들어서 색상을 저장하는 튜플을 생성하면 다음과 같다."
   ]
  },
  {
   "cell_type": "code",
   "execution_count": 4,
   "id": "7f27a5b9",
   "metadata": {},
   "outputs": [
    {
     "name": "stdout",
     "output_type": "stream",
     "text": [
      "('red', 'green', 'blue')\n",
      "(1, 2, 3, 4, 5)\n",
      "[1, 2, 3, 4, 5] [1, 2, 3, 4, 5, 6, 7, 8, 9, 10, 11, 12]\n",
      "([1, 2, 3, 4, 5], [1, 2, 3, 4, 5, 6, 7, 8, 9, 10, 11, 12], 3)\n",
      "([1, 3, 4, 5], [1, 2, 3, 4, 5, 6, 7, 8, 9, 10, 11, 12], 3)\n"
     ]
    }
   ],
   "source": [
    "colors = (\"red\",\"green\",\"blue\")\n",
    "print(colors)\n",
    "numbers = (1,2,3,4,5)\n",
    "print(numbers)\n",
    "# 튜플 테스트\n",
    "list1 = [i for i in range(1,6)]\n",
    "list2 = list(range(1,13))\n",
    "print(list1,list2)\n",
    "my_tuple = (list1,list2,3)\n",
    "print(my_tuple)\n",
    "list1.pop(1)\n",
    "print(my_tuple)\n",
    "# 튜플안 뮤터블 객체는 변화함 # 절대 변화 안함 x"
   ]
  },
  {
   "cell_type": "markdown",
   "id": "eb9b420f",
   "metadata": {},
   "source": [
    "1) 튜플(tuple)의 개념\n",
    "    - 물론 정수를 저장하는 튜플도 생성할 수 있다."
   ]
  },
  {
   "cell_type": "code",
   "execution_count": 5,
   "id": "c63dd6ef",
   "metadata": {},
   "outputs": [
    {
     "name": "stdout",
     "output_type": "stream",
     "text": [
      "(1, 2, 3, 4, 5)\n"
     ]
    }
   ],
   "source": [
    "numbers = tuple(range(1,6))\n",
    "print(numbers)"
   ]
  },
  {
   "cell_type": "markdown",
   "id": "0d88b566",
   "metadata": {},
   "source": [
    "1) 튜플(tuple)의 개념\n",
    "    - 튜플도 리스트와 마찬가지로 여러 가지 자료형의 값을\n",
    "      섞어서 생성할 수 있다."
   ]
  },
  {
   "cell_type": "code",
   "execution_count": 6,
   "id": "fdc2d084",
   "metadata": {},
   "outputs": [
    {
     "name": "stdout",
     "output_type": "stream",
     "text": [
      "(1, 2, 'hello')\n"
     ]
    }
   ],
   "source": [
    "t = (1,2,\"hello\")\n",
    "print(t)"
   ]
  },
  {
   "cell_type": "markdown",
   "id": "b45a6fac",
   "metadata": {},
   "source": [
    "1) 튜플(tuple)의 개념\n",
    "    - 공백 튜플은 단순히 소괄호만 적어주면 된다.\n",
    "      !!!\n",
    "    - 하나의 값만 가진 튜플을 생성할 때는 반드시 값 다음에\n",
    "      쉼표를 붙여야 한다.\n",
    "      !!!\n",
    "      쉼표가 없으면 단순한 수식으로 처리된다.\n",
    "      즉 (10)은 정수 10이나 마찬가지이다."
   ]
  },
  {
   "cell_type": "code",
   "execution_count": 7,
   "id": "f6c4f931",
   "metadata": {},
   "outputs": [
    {
     "name": "stdout",
     "output_type": "stream",
     "text": [
      "(10,)\n",
      "10\n"
     ]
    }
   ],
   "source": [
    "t = (10,)\n",
    "t1 = (10)\n",
    "print(t)\n",
    "print(t1)"
   ]
  },
  {
   "cell_type": "markdown",
   "id": "f3785c95",
   "metadata": {},
   "source": [
    "1) 튜플(tuple)의 개념\n",
    "    - 또 리스트로부터 튜플을 생성할 수 도 있다."
   ]
  },
  {
   "cell_type": "code",
   "execution_count": 8,
   "id": "14a68bed",
   "metadata": {},
   "outputs": [
    {
     "name": "stdout",
     "output_type": "stream",
     "text": [
      "(1, 2, 3, 4, 5)\n"
     ]
    }
   ],
   "source": [
    "t = tuple([1,2,3,4,5])\n",
    "print(t)"
   ]
  },
  {
   "cell_type": "markdown",
   "id": "221a1efb",
   "metadata": {},
   "source": [
    "1) 튜플(tuple)의 개념\n",
    "    - 튜플도 리스트와 마찬가지로 내부에 다른 튜플을 가질 수 있다."
   ]
  },
  {
   "cell_type": "code",
   "execution_count": 9,
   "id": "b9eb5e89",
   "metadata": {},
   "outputs": [
    {
     "name": "stdout",
     "output_type": "stream",
     "text": [
      "((1, 2, 'hello'), (1, 2, 4, 5, 6))\n"
     ]
    }
   ],
   "source": [
    "t = (1,2,\"hello\")\n",
    "u = t, (1,2,4,5,6)\n",
    "print(u)"
   ]
  },
  {
   "cell_type": "markdown",
   "id": "55d13f38",
   "metadata": {},
   "source": [
    "1) 튜플(tuple)의 개념\n",
    "    - 튜플은 시퀸스의 일종이기 때문에 \n",
    "      모든 시퀸스 연산이 적용된다.\n",
    "      len(), min(), max()와 같은 함수들을 사용할수 있다."
   ]
  },
  {
   "cell_type": "code",
   "execution_count": 10,
   "id": "e3f7fe32",
   "metadata": {},
   "outputs": [
    {
     "name": "stdout",
     "output_type": "stream",
     "text": [
      "5\n"
     ]
    }
   ],
   "source": [
    "numbers = (1,2,3,4,5)\n",
    "print(len(numbers))"
   ]
  },
  {
   "cell_type": "markdown",
   "id": "ae2d10b0",
   "metadata": {},
   "source": [
    "1) 튜플(tuple)의 개념\n",
    "    - 튜플은 변경될 수 없는 객체이므로 튜플의 요소는 변경될 수 없다."
   ]
  },
  {
   "cell_type": "code",
   "execution_count": 11,
   "id": "483caf89",
   "metadata": {},
   "outputs": [
    {
     "ename": "TypeError",
     "evalue": "'tuple' object does not support item assignment",
     "output_type": "error",
     "traceback": [
      "\u001b[1;31m---------------------------------------------------------------------------\u001b[0m",
      "\u001b[1;31mTypeError\u001b[0m                                 Traceback (most recent call last)",
      "\u001b[1;32m<ipython-input-11-56a059ae2616>\u001b[0m in \u001b[0;36m<module>\u001b[1;34m\u001b[0m\n\u001b[0;32m      1\u001b[0m \u001b[0mt1\u001b[0m \u001b[1;33m=\u001b[0m \u001b[1;33m(\u001b[0m\u001b[1;36m1\u001b[0m\u001b[1;33m,\u001b[0m\u001b[1;36m2\u001b[0m\u001b[1;33m,\u001b[0m\u001b[1;36m3\u001b[0m\u001b[1;33m,\u001b[0m\u001b[1;36m4\u001b[0m\u001b[1;33m,\u001b[0m\u001b[1;36m5\u001b[0m\u001b[1;33m)\u001b[0m\u001b[1;33m\u001b[0m\u001b[1;33m\u001b[0m\u001b[0m\n\u001b[1;32m----> 2\u001b[1;33m \u001b[0mt1\u001b[0m\u001b[1;33m[\u001b[0m\u001b[1;36m0\u001b[0m\u001b[1;33m]\u001b[0m \u001b[1;33m=\u001b[0m \u001b[1;36m100\u001b[0m\u001b[1;33m\u001b[0m\u001b[1;33m\u001b[0m\u001b[0m\n\u001b[0m",
      "\u001b[1;31mTypeError\u001b[0m: 'tuple' object does not support item assignment"
     ]
    }
   ],
   "source": [
    "t1 = (1,2,3,4,5)\n",
    "t1[0] = 100"
   ]
  },
  {
   "cell_type": "markdown",
   "id": "844892af",
   "metadata": {},
   "source": [
    "1) 튜플(tuple)의 개념\n",
    "    - 하지만 2개의 튜플을 합하여 새로운 튜플을 만들 수는 있다.\n",
    "      새로운 튜플을 만드는 것은 허용되지만 한번 만들어진\n",
    "      튜플을 수정할 수 없는 것이다."
   ]
  },
  {
   "cell_type": "code",
   "execution_count": 13,
   "id": "0767ecf4",
   "metadata": {},
   "outputs": [
    {
     "name": "stdout",
     "output_type": "stream",
     "text": [
      "(1, 2, 3, 4, 5, 'red', 'blue', 'green')\n"
     ]
    }
   ],
   "source": [
    "numbers = (1,2,3,4,5)\n",
    "colors =(\"red\",\"blue\",\"green\")\n",
    "t = numbers + colors\n",
    "print(t)"
   ]
  },
  {
   "cell_type": "markdown",
   "id": "10c135f8",
   "metadata": {},
   "source": [
    "2) 기본적인 튜플 연산들\n",
    "    - 튜플은 +와 *와 같은 연산자에 반응한다.\n",
    "      리스트와 동일하게 +는 접합을 의미하고 *는 반복을 의미한다.\n",
    "      물론 튜플은 변경이 불가능하므로 \n",
    "      연산의 결과는 새로운 튜플이된다.  \n",
    "    - 실제로 튜플은 시퀸스가 제공하는 모든 일반 연산을 사용할 수 있다\n",
    "    \n",
    "    \n",
    "    파이썬 수식            결과              설명\n",
    "    len((1,2,3))         3                튜플의 길이\n",
    "    (1,2,3) + (4,5,6)    (1,2,3,4,5,6)     접합\n",
    "    (\"Hi!,) * 4          (Hi!,Hi!,Hi!,Hi!) 반복\n",
    "    3 in (1,2,3)         True              멤버쉽\n",
    "    for x in (1,2,3):print(x)  1 2 3       반복"
   ]
  },
  {
   "cell_type": "markdown",
   "id": "88e6d849",
   "metadata": {},
   "source": [
    "3) 인덱싱, 슬라이싱, 매트릭스\n",
    "    - 튜플도 시퀸스의 일종이기 때문에 인덱싱과 슬라이싱은\n",
    "      문자열이나 리스트와 동일하게 동작한다.\n",
    "      다음과 같은 튜플을 가정하자.\n",
    "      t = (\"apple\",\"banana\",\"strawberry\")\n",
    "    - 인덱싱과 슬라이싱의 결과는 다음과 같다.\n"
   ]
  },
  {
   "cell_type": "code",
   "execution_count": 16,
   "id": "b3c7c82f",
   "metadata": {},
   "outputs": [
    {
     "name": "stdout",
     "output_type": "stream",
     "text": [
      "banana\n",
      "banana\n",
      "('banana', 'strawberry')\n"
     ]
    }
   ],
   "source": [
    "t = (\"apple\",\"banana\",\"strawberry\")\n",
    "print(t[1]) # -> \"banana\"(인덱스는0부터 시작한다)\n",
    "print(t[-2]) # -> \"banana\" (음수 인덱스는 오른쪽부터 왼쪽으로 진행)\n",
    "print(t[1:]) # -> (\"banana, \"strawberry\")(슬라이싱은 튜플의 한부분 추출"
   ]
  },
  {
   "cell_type": "markdown",
   "id": "302f674e",
   "metadata": {},
   "source": [
    "4) 괄호가 없는 튜플\n",
    "    - 퓨틀은(...)을 사용하여 감싸는 것이 원칙이다.\n",
    "      하지만 만약 괄호 없이 나열된 객체들은 기본적으로 튜플로 간주됨"
   ]
  },
  {
   "cell_type": "code",
   "execution_count": 15,
   "id": "e64315e9",
   "metadata": {
    "scrolled": true
   },
   "outputs": [
    {
     "name": "stdout",
     "output_type": "stream",
     "text": [
      "('physics', 'chemistry', 'language')\n",
      "(1, 2, 3, 4, 5)\n",
      "('a', 'b', 'c')\n"
     ]
    }
   ],
   "source": [
    "t1 = \"physics\",\"chemistry\",\"language\"\n",
    "t2 = 1,2,3,4,5\n",
    "t3 = \"a\",\"b\",\"c\"\n",
    "print(t1)\n",
    "print(t2)\n",
    "print(t3)"
   ]
  },
  {
   "cell_type": "markdown",
   "id": "3d900e39",
   "metadata": {},
   "source": [
    "5) 튜플 내장 함수\n",
    "    - 튜플은 다음과 같은 내장 함수를 지원하고, 시퀸스가 제공하는\n",
    "      모든 함수는 사용이 가능하다."
   ]
  },
  {
   "cell_type": "code",
   "execution_count": 23,
   "id": "2df82bde",
   "metadata": {},
   "outputs": [
    {
     "data": {
      "text/plain": [
       "(1, 2, 3)"
      ]
     },
     "execution_count": 23,
     "metadata": {},
     "output_type": "execute_result"
    }
   ],
   "source": [
    "t1 = (1,)\n",
    "t2 = (4,)\n",
    "# cmp 2개의 튜플을 비교한다.\n",
    "#a = cmp(t1,t2)\n",
    "#print(a)\n",
    "# 파이선 2.대 버전에서 사용이 가능했다.\n",
    "# 지금은 사용할수 없음 \n",
    "# 직접 함수로 만들어 사용가능하다.\n",
    "# cmp(...)\n",
    "#    cmp(x, y) -> integer\n",
    "#    Return negative if x<y, zero if x==y, positive if x>y.\n",
    "\n",
    "len(t1)\n",
    "# 튜플의 길이를 반환한다.\n",
    "\n",
    "max(t1)\n",
    "# 튜플에 저장된 최대값을 반환한다.\n",
    "\n",
    "min(t1)\n",
    "# 튜플에 저장된 최소값을 반환한다.\n",
    "\n",
    "seq = [1,2,3]\n",
    "tuple(seq)\n",
    "# 리스트를 튜플로 변환한다."
   ]
  },
  {
   "cell_type": "markdown",
   "id": "0aa1e90d",
   "metadata": {},
   "source": [
    "6) 튜플 대입 연산\n",
    "    - !!!\n",
    "      파이썬은 튜플 대입 연산(tuple assignment)이라는 기능을 \n",
    "      가지고 있다.\n",
    "      이 기능은 튜플에서 여러 개의 변수로 한번에 값을 대입하는\n",
    "      강력한 기능이다."
   ]
  },
  {
   "cell_type": "code",
   "execution_count": 20,
   "id": "ccc1d08b",
   "metadata": {},
   "outputs": [
    {
     "name": "stdout",
     "output_type": "stream",
     "text": [
      "철수\n",
      "19\n",
      "CS\n"
     ]
    }
   ],
   "source": [
    "student1 = (\"철수\",19,\"CS\")\n",
    "(name,age,major) = student1\n",
    "print(name)\n",
    "print(age)\n",
    "print(major)"
   ]
  },
  {
   "cell_type": "markdown",
   "id": "604ddcf0",
   "metadata": {},
   "source": [
    "6) 튜플 대입 연산\n",
    "    - 튜플에 값을 저장하는 과정을 \n",
    "      튜플 패킹(tuple packing)이라고도 한다. \n",
    "      \n",
    "      반대로 튜플에서 값을 꺼내서 변수에 대입하는\n",
    "      과정을 튜플 언패킹(tuple unpacking)이라고도 생각할 수 있다.\n",
    " \n",
    "    - 튜플 대입 연산을 가장 효과적으로 사용하는 예가 \n",
    "      변수의 값을 교환하는 경우이다.\n",
    "      일반적인 프로그래밍 언어에서 변수 x와 y의 값을 교환하려면\n",
    "      다음과 같은 문장을 작성하여야 한다.\n",
    "      temp = x \n",
    "      x = y\n",
    "      y = temp\n",
    "      \n",
    "    - 하지만 튜플에서는 다음과 같이 튜플 대입 연산을 사용하여\n",
    "      한 문장으로 작성하는 것이 가능하다.\n",
    "      (x,y) = (y,x)\n",
    "      \n",
    "    - 왼쪽 변수들이 모인 튜플이고 오른쪽은 값들이 모인 튜플이 된다.\n",
    "      값은 해당되는 변수에 대입된다.\n",
    "      대입되기 전에 오른쪽 수식들이 먼저 계산되므로 혼동이 발생할\n",
    "      소지는 없다.\n",
    "      단 이경우에 변수의 개수와 값의 개수는 일치하여야 한다."
   ]
  },
  {
   "cell_type": "code",
   "execution_count": 25,
   "id": "9973d1c2",
   "metadata": {},
   "outputs": [
    {
     "ename": "ValueError",
     "evalue": "not enough values to unpack (expected 3, got 2)",
     "output_type": "error",
     "traceback": [
      "\u001b[1;31m---------------------------------------------------------------------------\u001b[0m",
      "\u001b[1;31mValueError\u001b[0m                                Traceback (most recent call last)",
      "\u001b[1;32m<ipython-input-25-6453c993d2e0>\u001b[0m in \u001b[0;36m<module>\u001b[1;34m\u001b[0m\n\u001b[1;32m----> 1\u001b[1;33m \u001b[1;33m(\u001b[0m\u001b[0mx\u001b[0m\u001b[1;33m,\u001b[0m\u001b[0my\u001b[0m\u001b[1;33m,\u001b[0m\u001b[0mz\u001b[0m\u001b[1;33m)\u001b[0m \u001b[1;33m=\u001b[0m \u001b[1;33m(\u001b[0m\u001b[1;36m1\u001b[0m\u001b[1;33m,\u001b[0m\u001b[1;36m2\u001b[0m\u001b[1;33m)\u001b[0m\u001b[1;33m\u001b[0m\u001b[1;33m\u001b[0m\u001b[0m\n\u001b[0m",
      "\u001b[1;31mValueError\u001b[0m: not enough values to unpack (expected 3, got 2)"
     ]
    }
   ],
   "source": [
    "(x,y,z) = (1,2)"
   ]
  }
 ],
 "metadata": {
  "kernelspec": {
   "display_name": "Python 3",
   "language": "python",
   "name": "python3"
  },
  "language_info": {
   "codemirror_mode": {
    "name": "ipython",
    "version": 3
   },
   "file_extension": ".py",
   "mimetype": "text/x-python",
   "name": "python",
   "nbconvert_exporter": "python",
   "pygments_lexer": "ipython3",
   "version": "3.8.8"
  }
 },
 "nbformat": 4,
 "nbformat_minor": 5
}
