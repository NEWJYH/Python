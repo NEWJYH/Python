{
 "cells": [
  {
   "cell_type": "code",
   "execution_count": 7,
   "id": "412652a1",
   "metadata": {},
   "outputs": [
    {
     "name": "stdout",
     "output_type": "stream",
     "text": [
      "True\n",
      "False\n",
      "True\n",
      "True\n",
      "False\n",
      "False\n"
     ]
    }
   ],
   "source": [
    "# 부분 집합 관련 세트 연산\n",
    "SET1 = {10,20,30}\n",
    "SET2 = {10,20,30}\n",
    "# 2개의 세트가 같은지 검사하는 방법 ==, !=\n",
    "print(SET1 == SET2) # True\n",
    "print(SET1 != SET2) # False"
   ]
  },
  {
   "cell_type": "code",
   "execution_count": 12,
   "id": "1ab0ad3b",
   "metadata": {},
   "outputs": [
    {
     "name": "stdout",
     "output_type": "stream",
     "text": [
      "True\n",
      "True\n",
      "False\n",
      "False\n",
      "True\n",
      "False\n",
      "True\n",
      "False\n"
     ]
    }
   ],
   "source": [
    "SET1 = {10,20,30,40,50,60}\n",
    "SET2 = {10,20,30}\n",
    "# 부등호 연산을 이용하여 부분집합인지 아닌지 알수 있는 방법\n",
    "print(SET1>SET2) # True\n",
    "print(SET1>=SET2) # True\n",
    "print(SET1<SET2) # False\n",
    "print(SET1<=SET2) # False\n",
    "# 진상위 집합의 개념 SET2집합이 SET1집합에 포함되지만 \n",
    "# 서로 집합은 동일하지 않은 집합을 의미한다.\n",
    "\n",
    "# 함수를 이용한 방법\n",
    "# issubset a가 b의 부분집합인가?\n",
    "# a.is subset(b)\n",
    "SET1 = {10,20,30,40,50,60}\n",
    "SET2 = {10,20,30}\n",
    "print(SET2.issubset(SET1)) # True\n",
    "print(SET1.issubset(SET2)) # False\n",
    "\n",
    "# 상위 집합인지 확인하는 방법\n",
    "# a가 b의 상위 집합인가?\n",
    "# a.is superset(b)\n",
    "SET1 = {10,20,30,40,50,60}\n",
    "SET2 = {10,20,30}\n",
    "print(SET1.issuperset(SET2)) # True\n",
    "print(SET2.issuperset(SET1)) # False"
   ]
  },
  {
   "cell_type": "code",
   "execution_count": 16,
   "id": "e7952f2a",
   "metadata": {},
   "outputs": [
    {
     "name": "stdout",
     "output_type": "stream",
     "text": [
      "{'녕', '하', '요', '안', '세'}\n",
      "안 문자는 SET_STRING에 포함되어있습니다\n"
     ]
    }
   ],
   "source": [
    "\n",
    "# 세트의 요소가 포함되어있는지 확인하는 방법\n",
    "SET_STRING = set(\"안녕하세요\")\n",
    "print(SET_STRING)\n",
    "\n",
    "if \"안\" in SET_STRING:\n",
    "    print(\"안 문자는 SET_STRING에 포함되어있습니다\")"
   ]
  },
  {
   "cell_type": "code",
   "execution_count": 19,
   "id": "6cdf9bc0",
   "metadata": {},
   "outputs": [
    {
     "name": "stdout",
     "output_type": "stream",
     "text": [
      "{100, 40, 200, 10, 300, 50, 20, 60, 30}\n",
      "{100, 40, 200, 10, 300, 50, 20, 60, 30}\n"
     ]
    }
   ],
   "source": [
    "# 집합 연산을 할 수 있는 것이 세트라는 자료구조의 장점이다.\n",
    "# 합집합 ( | 파이프, union() 메서드 사용)\n",
    "SET1 = {10,20,30,40,50,60}\n",
    "SET2 = {100,200,300}\n",
    "SET3 = SET1 | SET2\n",
    "print(SET3)\n",
    "SET4 = SET1.union(SET2)\n",
    "print(SET4)"
   ]
  },
  {
   "cell_type": "code",
   "execution_count": 22,
   "id": "944cd508",
   "metadata": {},
   "outputs": [
    {
     "name": "stdout",
     "output_type": "stream",
     "text": [
      "{10, 20, 30}\n",
      "{10, 20, 30}\n"
     ]
    }
   ],
   "source": [
    "# 교집합\n",
    "# 두개의 집합에서 겹치는 요소를 구하는 연산\n",
    "SET1 = {10,20,30,40,50,60}\n",
    "SET2 = {10,20,30}\n",
    "# 교집합 ( & 엔드, intersection() 메서드 사용)\n",
    "SET3 = SET1 & SET2\n",
    "print(SET3)\n",
    "SET4 = SET1.intersection(SET2)\n",
    "print(SET4)"
   ]
  },
  {
   "cell_type": "code",
   "execution_count": 24,
   "id": "ac2d1fdf",
   "metadata": {},
   "outputs": [
    {
     "name": "stdout",
     "output_type": "stream",
     "text": [
      "{40, 50, 60}\n",
      "{40, 50, 60}\n"
     ]
    }
   ],
   "source": [
    "# 차집합은 하나의 집합에서 다른 집합의 요소를 빼고 남은 집합\n",
    "# 방법 : 연산자 -를 사용하거나, difference() 메서드를 사용한다.\n",
    "SET1 = {10,20,30,40,50,60}\n",
    "SET2 = {10,20,30}\n",
    "SET3 = SET1-SET2\n",
    "print(SET3)\n",
    "SET4 = SET1.difference(SET2)\n",
    "print(SET4)"
   ]
  },
  {
   "cell_type": "code",
   "execution_count": 31,
   "id": "a290b017",
   "metadata": {},
   "outputs": [
    {
     "name": "stdout",
     "output_type": "stream",
     "text": [
      "False\n",
      "True\n",
      "True\n",
      "True\n",
      "False\n",
      "False\n"
     ]
    }
   ],
   "source": [
    "# all() 메서드는 집합에서 모든 값이 참이여야지만 참을 리턴\n",
    "# any() 메서드는 집합에서 값이 하나라도 참이면 참을 리턴\n",
    "\n",
    "SET1 = {0,10,20,30,40,50,60}\n",
    "print(all(SET1)) # False\n",
    "print(any(SET1)) # True\n",
    "SET1 = {10,20,30,40,50,60}\n",
    "print(all(SET1)) # True\n",
    "print(any(SET1)) # True\n",
    "SET2 = {0}\n",
    "print(all(SET2)) # False\n",
    "print(any(SET2)) # False"
   ]
  },
  {
   "cell_type": "code",
   "execution_count": 33,
   "id": "58e9360f",
   "metadata": {},
   "outputs": [
    {
     "name": "stdout",
     "output_type": "stream",
     "text": [
      "True\n",
      "False\n"
     ]
    }
   ],
   "source": [
    "# 집합이 아에 다른지를 확인하고 싶을 때(같은 요소가 없다)\n",
    "SET1 = {10,20,30,40,50,60}\n",
    "SET2 = {0}\n",
    "print(SET1.isdisjoint(SET2)) # True\n",
    "SET1 = {10,20,30,40,50,60}\n",
    "SET2 = {10}\n",
    "print(SET1.isdisjoint(SET2)) # False"
   ]
  },
  {
   "cell_type": "code",
   "execution_count": 36,
   "id": "35ffbb26",
   "metadata": {},
   "outputs": [
    {
     "name": "stdout",
     "output_type": "stream",
     "text": [
      "40\n",
      "{10, 50, 20, 60, 30}\n"
     ]
    }
   ],
   "source": [
    "# pop() 로 집합의 요소를 제거할 수 있는데,\n",
    "# 순서가 없이 마구잡이로 빠진다 \n",
    "# 또한 index 지정이 불가능하다.\n",
    "SET1 = {10,20,30,40,50,60}\n",
    "returnvalue = SET1.pop()\n",
    "print(returnvalue)\n",
    "print(SET1)"
   ]
  },
  {
   "cell_type": "code",
   "execution_count": 46,
   "id": "c4342b0f",
   "metadata": {},
   "outputs": [
    {
     "name": "stdout",
     "output_type": "stream",
     "text": [
      "40 일본 10 영국 50 20 가나 60 우크라이나 30 \n",
      "0\n"
     ]
    }
   ],
   "source": [
    "SET1 = {\"가나\",\"우크라이나\",\"일본\",\"영국\",10,20,30,40,50,60}\n",
    "for _ in range(len(SET1)):\n",
    "    print(SET1.pop(),end=\" \")\n",
    "print()\n",
    "\n",
    "print(len(SET1))"
   ]
  }
 ],
 "metadata": {
  "kernelspec": {
   "display_name": "Python 3",
   "language": "python",
   "name": "python3"
  },
  "language_info": {
   "codemirror_mode": {
    "name": "ipython",
    "version": 3
   },
   "file_extension": ".py",
   "mimetype": "text/x-python",
   "name": "python",
   "nbconvert_exporter": "python",
   "pygments_lexer": "ipython3",
   "version": "3.8.8"
  }
 },
 "nbformat": 4,
 "nbformat_minor": 5
}
