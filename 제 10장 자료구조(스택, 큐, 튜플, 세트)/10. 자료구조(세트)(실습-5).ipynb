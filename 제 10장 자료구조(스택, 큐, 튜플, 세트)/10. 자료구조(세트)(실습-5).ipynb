{
 "cells": [
  {
   "cell_type": "code",
   "execution_count": null,
   "id": "a58e58d9",
   "metadata": {},
   "outputs": [],
   "source": [
    "# Set(셋,세트)은 수학의 집합과 같은 개념이다.\n",
    "\n",
    "# 세트의 특징 : 요소들의 중복을 허용하지 않는다. \n",
    "#              순서를 유지하지 않는다.\n",
    "#              중괄호를 이용하여 세트를 만든다. {}"
   ]
  },
  {
   "cell_type": "code",
   "execution_count": 35,
   "id": "a1d4ed43",
   "metadata": {},
   "outputs": [
    {
     "name": "stdout",
     "output_type": "stream",
     "text": [
      "{1, 2, 3, 34, 5}\n",
      "{'사람', '안녕', '자동차', '하이'}\n",
      "5\n",
      "4\n",
      "{'사람', 1, 2, 3, '안녕', '하이', '자동차'}\n",
      "set3에는 안녕 이라는 단어가 존재합니다.\n",
      "사람 1 2 3 안녕 하이 자동차 "
     ]
    }
   ],
   "source": [
    "# 세트는 입력 순서와 동일하게 출력하지 않는다.\n",
    "set1 = {2,1,34,5,3}\n",
    "print(set1)\n",
    "set2 = {\"안녕\",\"하이\",\"사람\",\"자동차\"}\n",
    "print(set2)\n",
    "# 아울러 세트는 시퀀스형 자료형이다 보니\n",
    "# 일반적인 함수를 사용할수 있다.\n",
    "print(len(set1))\n",
    "print(len(set2))\n",
    "\n",
    "# 세트는 중복을 허용하지 않는 특징이 있으므로\n",
    "# 중복된 값은 출력되지 않는다.\n",
    "set3 = {1,\"안녕\",\"하이\",\"사람\",\"자동차\",\"안녕\",\"하이\",1,2,3}\n",
    "print(set3)\n",
    "\n",
    "# 비어있는 세트를 만드는 방법\n",
    "set4 = set()\n",
    "# 비어있는 세트를 만드는 방법은 {}를 사용하지 않고\n",
    "# set()함수를  사용한다.\n",
    "\n",
    "\n",
    "# 세트에 요소가 있는지 확인하는 방법\n",
    "if \"안녕\" in set3:\n",
    "    print(f\"set3에는 안녕 이라는 단어가 존재합니다.\")\n",
    "\n",
    "# 세트의 요소를 루프를 통하여 출력하는 방법\n",
    "for value in set3:\n",
    "    print(value, end=\" \")\n",
    "    \n",
    "    \n",
    "# 세트는 순서를 유지하지 않기 때문에 인덱싱과 슬라이싱이 \n",
    "# 되지 않는다.\n",
    "# set3[0] = 80\n",
    "# print(set3)\n",
    "# TypeError: 'set' object does not support item assignment\n",
    "# print(set3[0])\n",
    "# TypeError: 'set' object is not subscriptable\n"
   ]
  },
  {
   "cell_type": "code",
   "execution_count": 38,
   "id": "b81a40c2",
   "metadata": {},
   "outputs": [
    {
     "name": "stdout",
     "output_type": "stream",
     "text": [
      "{'가을', '여름', '봄', '겨울'}\n"
     ]
    }
   ],
   "source": [
    "# 세트에 값을 추가하기\n",
    "# 세트는 모든 요소들을 해싱기법을 이용하여 저장하고\n",
    "# 관리한다.\n",
    "# 그래서 요소들은 해싱가능(hashable)하여야 한다.\n",
    "# 해싱이란 각각의 객체에 식별할수 있는 해쉬코드를 부여하여\n",
    "# 객체를 테이블에 저장을 하는 것이다.\n",
    "# 검색 키워드 해싱알고리즘\n",
    "set1 = set()\n",
    "set1.add(\"봄\")\n",
    "set1.add(\"여름\")\n",
    "set1.add(\"가을\")\n",
    "set1.add(\"겨울\")\n",
    "print(set1)"
   ]
  },
  {
   "cell_type": "code",
   "execution_count": 41,
   "id": "49236bbd",
   "metadata": {},
   "outputs": [
    {
     "name": "stdout",
     "output_type": "stream",
     "text": [
      "{1.1, 2, '자동차', (10, 20)}\n"
     ]
    }
   ],
   "source": [
    "# 세트는 요소가 해싱이 가능하려면 해쉬 코드를 가져야한다\n",
    "# 해싱이 될려면 그 값이 변하면 안된다.\n",
    "# 세트는 변경가능한 항목을 가지면 안된다.\n",
    "# set1 = {1.1, 2, \"자동차\", [10,20]}\n",
    "# TypeError: unhashable type: 'list'\n",
    "# 리스트를 요소로 가지지 못하고 Error 발생\n",
    "set1 = {1.1, 2, \"자동차\", (10,20)}\n",
    "print(set1)\n",
    "# 튜플은 값 변경이 이루어지지않는 객체 이므로\n",
    "# 세트에 요소가 될수가 있다."
   ]
  },
  {
   "cell_type": "code",
   "execution_count": 48,
   "id": "c5840104",
   "metadata": {},
   "outputs": [
    {
     "name": "stdout",
     "output_type": "stream",
     "text": [
      "{'인', 2, 3, 4, 5, '인간', '간'}\n",
      "{'인', 2, 3, 4, 5, '인간', '간', '인간1'}\n"
     ]
    }
   ],
   "source": [
    "# 여러 개의 요소를 추가하려면, update()메서드를 사용하면 된다.\n",
    "# update가 받는 매개변수의 타입은 \n",
    "# 이터러블 객체(문자) 또는 리스트이다. \n",
    "set1 = set()\n",
    "set1.update(\"인간\",[\"인간\",2,3,4,5])\n",
    "print(set1)\n",
    "set1.add(\"인간1\")\n",
    "print(set1)"
   ]
  },
  {
   "cell_type": "code",
   "execution_count": 53,
   "id": "4d25e15e",
   "metadata": {},
   "outputs": [
    {
     "name": "stdout",
     "output_type": "stream",
     "text": [
      "{2, 3, 4, 5, 6}\n",
      "None\n",
      "{3, 4, 5, 6}\n"
     ]
    },
    {
     "ename": "KeyError",
     "evalue": "2",
     "output_type": "error",
     "traceback": [
      "\u001b[1;31m---------------------------------------------------------------------------\u001b[0m",
      "\u001b[1;31mKeyError\u001b[0m                                  Traceback (most recent call last)",
      "\u001b[1;32m<ipython-input-53-c467049f2b76>\u001b[0m in \u001b[0;36m<module>\u001b[1;34m\u001b[0m\n\u001b[0;32m      7\u001b[0m \u001b[0mset1\u001b[0m\u001b[1;33m.\u001b[0m\u001b[0mremove\u001b[0m\u001b[1;33m(\u001b[0m\u001b[1;36m2\u001b[0m\u001b[1;33m)\u001b[0m\u001b[1;33m\u001b[0m\u001b[1;33m\u001b[0m\u001b[0m\n\u001b[0;32m      8\u001b[0m \u001b[0mprint\u001b[0m\u001b[1;33m(\u001b[0m\u001b[0mset1\u001b[0m\u001b[1;33m)\u001b[0m\u001b[1;33m\u001b[0m\u001b[1;33m\u001b[0m\u001b[0m\n\u001b[1;32m----> 9\u001b[1;33m \u001b[0mset1\u001b[0m\u001b[1;33m.\u001b[0m\u001b[0mremove\u001b[0m\u001b[1;33m(\u001b[0m\u001b[1;36m2\u001b[0m\u001b[1;33m)\u001b[0m\u001b[1;33m\u001b[0m\u001b[1;33m\u001b[0m\u001b[0m\n\u001b[0m\u001b[0;32m     10\u001b[0m \u001b[0mprint\u001b[0m\u001b[1;33m(\u001b[0m\u001b[0mset1\u001b[0m\u001b[1;33m)\u001b[0m\u001b[1;33m\u001b[0m\u001b[1;33m\u001b[0m\u001b[0m\n",
      "\u001b[1;31mKeyError\u001b[0m: 2"
     ]
    }
   ],
   "source": [
    "# 세트의 요소를 삭제\n",
    "set1 = {1,2,3,4,5,6}\n",
    "a = set1.discard(1)\n",
    "print(set1)\n",
    "print(a) # None\n",
    "# discard 매서드는 리턴값이 없다.\n",
    "set1.remove(2)\n",
    "print(set1)\n",
    "# set1.remove(2) # KeyError: 2\n",
    "# 2는 이미 삭제 되었으므로 키에러를 발생시킨다.\n",
    "print(set1)\n"
   ]
  },
  {
   "cell_type": "code",
   "execution_count": 54,
   "id": "70f7cf67",
   "metadata": {},
   "outputs": [
    {
     "name": "stdout",
     "output_type": "stream",
     "text": [
      "set()\n"
     ]
    }
   ],
   "source": [
    "# 세트의 전체 요소 삭제\n",
    "set1.clear()\n",
    "print(set1)"
   ]
  }
 ],
 "metadata": {
  "kernelspec": {
   "display_name": "Python 3",
   "language": "python",
   "name": "python3"
  },
  "language_info": {
   "codemirror_mode": {
    "name": "ipython",
    "version": 3
   },
   "file_extension": ".py",
   "mimetype": "text/x-python",
   "name": "python",
   "nbconvert_exporter": "python",
   "pygments_lexer": "ipython3",
   "version": "3.8.8"
  }
 },
 "nbformat": 4,
 "nbformat_minor": 5
}
