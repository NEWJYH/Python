{
 "cells": [
  {
   "cell_type": "code",
   "execution_count": null,
   "id": "46f41dfa",
   "metadata": {},
   "outputs": [],
   "source": [
    "# 큐(Queue) : 선입선출(First In First Out) 구조\n",
    "#            수도호스, 파이프\n",
    "#            먼저 들어간 데이터가 먼저 나오는 형식\n",
    "\n",
    "# 다른 언어에서는 \n",
    "# 큐에서는 삽입할 때는 offer(), 추출시에는 poll() 사용한다."
   ]
  },
  {
   "cell_type": "code",
   "execution_count": 4,
   "id": "7d579887",
   "metadata": {},
   "outputs": [
    {
     "name": "stdout",
     "output_type": "stream",
     "text": [
      "[10, 20, 30, 40, 50]\n",
      "10\n",
      "20\n",
      "[30, 40, 50]\n"
     ]
    }
   ],
   "source": [
    "queue = []\n",
    "queue.append(10)\n",
    "queue.append(20)\n",
    "queue.append(30)\n",
    "queue.append(40)\n",
    "queue.append(50)\n",
    "print(queue)\n",
    "# 인덱스가 제일 빠른 데이터를 추출해야 되기 떄문에\n",
    "# 인덱스를 매개변수로 준다.\n",
    "print(queue.pop(0)) # 10\n",
    "print(queue.pop(0)) # 20\n",
    "print(queue) # [30, 40, 50]"
   ]
  },
  {
   "cell_type": "code",
   "execution_count": 10,
   "id": "33586b93",
   "metadata": {},
   "outputs": [
    {
     "name": "stdout",
     "output_type": "stream",
     "text": [
      "큐의 현재 상태 [1]\n",
      "큐의 현재 상태 [1, 2]\n",
      "큐의 현재 상태 [1, 2, 3]\n",
      "큐의 현재 상태 [1, 2, 3, 4]\n",
      "큐의 현재 상태 [1, 2, 3, 4, 5]\n",
      "큐의 현재 상태 [2, 3, 4, 5]\n",
      "큐의 현재 상태 [3, 4, 5]\n",
      "큐의 현재 상태 [4, 5]\n",
      "큐의 현재 상태 [5]\n",
      "큐가 비어있습니다.\n"
     ]
    }
   ],
   "source": [
    "# 함수를 만들어서 Queue 실습하기\n",
    "\n",
    "# 큐에 저장하는 함수\n",
    "def offer(list, data):\n",
    "    list.append(data)\n",
    "    \n",
    "# 큐에서 삭제하는 함수\n",
    "def poll(list):\n",
    "    if len(list) > 0:\n",
    "         list.pop(0)\n",
    "    else:\n",
    "        print(\"리스트가 비어있습니다.\")\n",
    "        return False\n",
    "\n",
    "def queue_offer(queue):\n",
    "    for i in range(1,6):\n",
    "        offer(queue, i)\n",
    "        print(f\"큐의 현재 상태 {queue}\")\n",
    "    \n",
    "def queue_poll(queue):\n",
    "     for i in range(1,6):\n",
    "            poll(queue)\n",
    "            if len(queue) == 0:\n",
    "                print(\"큐가 비어있습니다.\")\n",
    "            else:\n",
    "                print(f\"큐의 현재 상태 {queue}\")  \n",
    "\n",
    "\n",
    "if __name__ == \"__main__\":\n",
    "    queue=[]\n",
    "    queue_offer(queue)\n",
    "    queue_poll(queue)"
   ]
  }
 ],
 "metadata": {
  "kernelspec": {
   "display_name": "Python 3",
   "language": "python",
   "name": "python3"
  },
  "language_info": {
   "codemirror_mode": {
    "name": "ipython",
    "version": 3
   },
   "file_extension": ".py",
   "mimetype": "text/x-python",
   "name": "python",
   "nbconvert_exporter": "python",
   "pygments_lexer": "ipython3",
   "version": "3.8.8"
  }
 },
 "nbformat": 4,
 "nbformat_minor": 5
}
