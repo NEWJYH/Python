{
 "cells": [
  {
   "cell_type": "code",
   "execution_count": null,
   "id": "3d6e53e4",
   "metadata": {},
   "outputs": [],
   "source": [
    "# 제 10장 자료구조 - 스택,큐\n",
    "\n",
    "# 자료구조 : 데이터의 특징을 고려하여 데이터를 저장하는 방법\n",
    "# 자료구조의 특징 : 최대한 메모리를 효율적으로 저장 및 반환하는 방법\n",
    "#                 으로 데이터를 관리하는 것\n",
    "#                 대용량일수록 빨리 저장하고 빨리 검색하고,\n",
    "#                 메모리를 최대한 효율적으로 사용하면서\n",
    "#                 유저들에게 실행결과를 빨리 돌려주는 방법"
   ]
  },
  {
   "cell_type": "code",
   "execution_count": 10,
   "id": "cac1f63e",
   "metadata": {},
   "outputs": [
    {
     "name": "stdout",
     "output_type": "stream",
     "text": [
      "[10, 20, 30, 40, 50]\n",
      "50\n",
      "[10, 20, 30, 40]\n",
      "40\n",
      "[10, 20, 30]\n"
     ]
    }
   ],
   "source": [
    "# 스택(stack) : 택시 기사님의 동전통, LIFO(Last In First Out)\n",
    "# 데이터를 저장하는 것을 push(), \n",
    "# 데이터를 추출할 떄는 pop()이라고 한다.\n",
    "\n",
    "stack_data = []\n",
    "\n",
    "# 스택에 값을 push 하고 있다.\n",
    "stack_data.append(10)\n",
    "stack_data.append(20)\n",
    "stack_data.append(30)\n",
    "stack_data.append(40)\n",
    "stack_data.append(50)\n",
    "print(stack_data)\n",
    "\n",
    "# 스택에서 값을 꺼내기 위해서 pop()메서드를 사용한다.\n",
    "# pop() 메서드는 스택에서 마지막으로 들어온 데이터를 삭제하면서\n",
    "# 삭제된 데이터를 반환한다.\n",
    "print(stack_data.pop()) # 50\n",
    "print(stack_data) # [10, 20, 30, 40]\n",
    "print(stack_data.pop()) # 40\n",
    "print(stack_data) # [10, 20, 30]"
   ]
  },
  {
   "cell_type": "code",
   "execution_count": 3,
   "id": "e68e2916",
   "metadata": {},
   "outputs": [
    {
     "name": "stdout",
     "output_type": "stream",
     "text": [
      "문자열을 입력해주세요 : 안녕하세요\n",
      "['안', '녕', '하', '세', '요']\n",
      "['요', '세', '하', '녕', '안']\n"
     ]
    }
   ],
   "source": [
    "# 입력받은 텍스트를 역순으로 추출하는 프로그램\n",
    "\n",
    "word = input(\"문자열을 입력해주세요 : \")\n",
    "\n",
    "# list()메서드를 사용하여 문자열을 리스트로 변환하고 있다.\n",
    "word_list = list(word)\n",
    "print(word_list)\n",
    "\n",
    "result = []\n",
    "for _ in range(len(word_list)):\n",
    "    # 사용자에게서 입력받은 문자 리스트의 마지막 부분부터 \n",
    "    # result[]에 담고 있다.\n",
    "    result.append(word_list.pop())\n",
    "    \n",
    "print(result)"
   ]
  },
  {
   "cell_type": "code",
   "execution_count": 12,
   "id": "5b3188bc",
   "metadata": {},
   "outputs": [
    {
     "name": "stdout",
     "output_type": "stream",
     "text": [
      "현재 스택 상태 : [1]\n",
      "현재 스택 상태 : [1, 2]\n",
      "현재 스택 상태 : [1, 2, 3]\n",
      "현재 스택 상태 : [1, 2, 3, 4]\n",
      "현재 스택 상태 : [1, 2, 3, 4, 5]\n",
      "현재 스택 상태 : [1, 2, 3, 4]\n",
      "현재 스택 상태 : [1, 2, 3]\n",
      "현재 스택 상태 : [1, 2]\n",
      "현재 스택 상태 : [1]\n",
      "스택이 비어있습니다.\n"
     ]
    }
   ],
   "source": [
    "# 함수를 만들어서 스택 사용하는 실습\n",
    "def push(list, data):\n",
    "    list.append(data)\n",
    "    \n",
    "def pop(list):\n",
    "    # 유효성 검사 (스택에 데이터가 없으면 에러 발생)\n",
    "    if len(list) > 0:\n",
    "        return list.pop()\n",
    "    else:\n",
    "        print(\"스택이 비었습니다.\")\n",
    "        return False\n",
    "    \n",
    "def push_data(stack):\n",
    "    for i in range(1,6):\n",
    "        push(stack,i)\n",
    "        print(f\"현재 스택 상태 : {stack}\")\n",
    "        \n",
    "def pop_data(stack):\n",
    "     for j in range(1,6):\n",
    "        pop(stack)\n",
    "        if len(stack) == 0:\n",
    "            print(\"스택이 비어있습니다.\")\n",
    "        else:\n",
    "            print(f\"현재 스택 상태 : {stack}\")\n",
    "            \n",
    "    \n",
    "if __name__ ==\"__main__\": # 프로그램의 시작점\n",
    "    stack=[]\n",
    "    push_data(stack)\n",
    "    pop_data(stack)"
   ]
  }
 ],
 "metadata": {
  "kernelspec": {
   "display_name": "Python 3",
   "language": "python",
   "name": "python3"
  },
  "language_info": {
   "codemirror_mode": {
    "name": "ipython",
    "version": 3
   },
   "file_extension": ".py",
   "mimetype": "text/x-python",
   "name": "python",
   "nbconvert_exporter": "python",
   "pygments_lexer": "ipython3",
   "version": "3.8.8"
  }
 },
 "nbformat": 4,
 "nbformat_minor": 5
}
