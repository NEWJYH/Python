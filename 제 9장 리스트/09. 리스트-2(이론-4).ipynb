{
 "cells": [
  {
   "cell_type": "markdown",
   "id": "6fc7f661",
   "metadata": {},
   "source": [
    "4. 일반적인 리스트 연산들"
   ]
  },
  {
   "cell_type": "markdown",
   "id": "6e7ea9c9",
   "metadata": {},
   "source": [
    "4) 파일을 읽어서 리스트에 저장하기\n",
    "    - 파일에서 데이터를 읽어서 리스트에 저장하는 작업은 \n",
    "      아주 많이 등장한다. 기본적인 방법을 알아두자."
   ]
  },
  {
   "cell_type": "code",
   "execution_count": 8,
   "id": "9ec77c66",
   "metadata": {},
   "outputs": [
    {
     "name": "stdout",
     "output_type": "stream",
     "text": [
      "['이것은 간단한 테스트입니다.', '알겠습니까 휴먼?', '휴먼?', '이것을 읽어보았다면 정상은 아닙니다 휴먼?']\n"
     ]
    }
   ],
   "source": [
    "# https://lchit.tistory.com/17   (python open file)\n",
    "data = []\n",
    "f = open(\"check.txt\", \"r\", encoding=\"utf-8\")\n",
    "#         파일명입력시(같은 폴더내에 있을떄)\n",
    "#         파일 경로 + 파일명 \n",
    "for line in f.readlines(): # 파일에 저장된 모든 줄을 읽는다.\n",
    "    data.append(line.strip()) # 줄바꿈 문자를 삭제한 후에 리스트에 추가한다.\n",
    "print(data)"
   ]
  },
  {
   "cell_type": "markdown",
   "id": "68f0c4b9",
   "metadata": {},
   "source": [
    "5) 정렬하기\n",
    "    - 정렬이란 \n",
    "      리스트 안에 저장된 값을 순서에 따라서 나열하는 것이다.\n",
    "      리스트에서 정렬은 sort() 메소드를 이용하여\n",
    "      쉽게 수행할 수 있다."
   ]
  },
  {
   "cell_type": "code",
   "execution_count": 9,
   "id": "66076fc6",
   "metadata": {},
   "outputs": [
    {
     "name": "stdout",
     "output_type": "stream",
     "text": [
      "[1, 2, 3, 4, 5]\n"
     ]
    }
   ],
   "source": [
    "a = [3,2,1,5,4]\n",
    "a.sort()\n",
    "print(a)"
   ]
  },
  {
   "cell_type": "markdown",
   "id": "b2965cfe",
   "metadata": {},
   "source": [
    "5) 정렬하기\n",
    "    - 하지만 경우에 따라서는 우리가 정렬을 구현해야 하는 \n",
    "      경우도 있다. 따라서 기본적인 방법은 알아두자.\n",
    "      \n",
    "      선택정렬은 가장 이해하기 쉬운 정렬 방법이다.\n",
    "      \n",
    "      먼저 두 개의 리스트가 있다고 가정하자. 왼쪽에는 정렬된\n",
    "      리스트가 있고 오른쪽에는 정렬되지 않은 리스트가 있다.\n",
    "      초기 상태에서 정렬되어야할 숫자들은 모두 정렬되지 않은\n",
    "      오른쪽 리스트에 들어 있다. 선택 정렬은 오른쪽 리스트를\n",
    "      탐색하여 가장 작은 숫자를 찾고 이 작은 숫자를 왼쪽\n",
    "      리스트로 옮긴다. 다음에 다시 오른쪽 리스트에 남아 있는 \n",
    "      숫자 중에서 다시 가장 작은 숫자를 찾아서 왼쪽 리스트로 \n",
    "      옮긴다. 이 과정을 오른쪽 리스트가 공백 상태가 될 떄까지\n",
    "      계속한다."
   ]
  },
  {
   "cell_type": "markdown",
   "id": "ef0dfc33",
   "metadata": {},
   "source": [
    "선택정렬\n",
    "\n",
    "왼쪽 리스트            오른쪽리스트               설명\n",
    "[]                    [5,3,8,1,2,7]           초기상태\n",
    "[1]                   [5,3,8,2,7]             1선택\n",
    "[1,2]                 [5,3,8,7]               2선택\n",
    "[1,2,3]               [5,8,7]                 3선택\n",
    "[1,2,3,5]             [8,7]                   5선택\n",
    "[1,2,3,5,7]           [8]                     7선택\n",
    "[1,2,3,5,7,8]         []                      8선택"
   ]
  },
  {
   "cell_type": "markdown",
   "id": "9cfe803f",
   "metadata": {},
   "source": [
    "5) 정렬하기\n",
    "    - 앞의 슬라이드에 표의 방법을 구현하기 위해서는 \n",
    "    \n",
    "      메모리를 절약하기 위하여 입력 리스트 외에 추가적인\n",
    "      공간을 사용하지 않는 선택 정렬 알고리즘을 생각해 보자.\n",
    "      \n",
    "      이렇게 입력 리스트 이외에는 다른 추가 메모리를 요구하지\n",
    "      않는 정렬방법을 제자리 정렬(in-place sort)이라고 한다.\n",
    "      아래 그림에서 보면 하나의 값을 변수에 담고\n",
    "      리스트의 루핑을 돌면서 계속 비교를 한다.\n",
    "      비교를 하다 보면 최소값이 바뀔 수도 있고 \n",
    "      처음 값이 최소값이 될 수도 있다.\n",
    "      리스트에서 최소값이 발견되면 0번째 인덱스와 최소값의 \n",
    "      인덱스를 가지고 서로 교환한다. 이런 작업을 리스트의\n",
    "      끝까지 하게 되면 비로소 전체 숫자들이 오름차순 정렬이\n",
    "      이루어진다."
   ]
  },
  {
   "cell_type": "code",
   "execution_count": 42,
   "id": "1d982e45",
   "metadata": {},
   "outputs": [
    {
     "name": "stdout",
     "output_type": "stream",
     "text": [
      "[7, 9, 5, 1, 8]\n",
      "check\n",
      "check\n",
      "함수 내부 [1, 9, 5, 7, 8]\n",
      "check\n",
      "함수 내부 [1, 5, 9, 7, 8]\n",
      "check\n",
      "함수 내부 [1, 5, 7, 9, 8]\n",
      "check\n",
      "함수 내부 [1, 5, 7, 8, 9]\n",
      "[1, 5, 7, 8, 9]\n"
     ]
    }
   ],
   "source": [
    "# 알고리즘 정렬 문제 포인트를 잘 집자\n",
    "\n",
    "# 선택 정렬은 그 리스트에 인덱스에 중점을 두고 봐야한다.\n",
    "# 0번 인덱스를 기준으로 시작해서\n",
    "# 루프 1번에서 처음부터 마지막 인덱스 전까지\n",
    "# 두번쨰 루프에서 첫번째인덱스 +1 부터 마지막 인덱스까지 \n",
    "# 최소인덱스를 구해서 바꾸는 형식이다.\n",
    "# 이점을 중점으로 보면 이해하기 쉬울것이다.\n",
    "def selection_sort(arr):\n",
    "    for i in range(len(arr) - 1): # 전체 순회\n",
    "        min_idx = i\n",
    "        for j in range(i + 1, len(arr)):\n",
    "            if arr[j] < arr[min_idx]:\n",
    "                print(\"check\")\n",
    "                min_idx = j\n",
    "        arr[i], arr[min_idx] = arr[min_idx], arr[i]\n",
    "        print(f\"함수 내부 {arr}\")\n",
    " \n",
    "arr = [7,9,5,1,8]\n",
    "print(arr)\n",
    "selection_sort(arr)\n",
    "print(arr)\n",
    "\n",
    "# 선택정렬 말고도 버블정렬, \n",
    "# 삽입정렬, \n",
    "# 병합정렬, \n",
    "# 퀵정렬, \n",
    "# 힙정렬이 존재한다."
   ]
  }
 ],
 "metadata": {
  "kernelspec": {
   "display_name": "Python 3",
   "language": "python",
   "name": "python3"
  },
  "language_info": {
   "codemirror_mode": {
    "name": "ipython",
    "version": 3
   },
   "file_extension": ".py",
   "mimetype": "text/x-python",
   "name": "python",
   "nbconvert_exporter": "python",
   "pygments_lexer": "ipython3",
   "version": "3.8.8"
  }
 },
 "nbformat": 4,
 "nbformat_minor": 5
}
