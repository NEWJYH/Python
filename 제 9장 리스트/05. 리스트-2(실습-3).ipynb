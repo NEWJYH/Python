{
 "cells": [
  {
   "cell_type": "code",
   "execution_count": null,
   "id": "c3220795",
   "metadata": {},
   "outputs": [],
   "source": [
    "# 친구 관리 프로그램 만들기\n",
    "# 출력결과\n",
    "# ------------------\n",
    "# 1. 친구 리스트 출력\n",
    "# 2. 친구 추가\n",
    "# 3. 친구 삭제\n",
    "# 4. 이름 변경\n",
    "# 9 . 종료\n",
    "# 메뉴를 선택하시오 : 2\n",
    "# 이름을 입력하시오 : 홍길동\n",
    "# ------------------\n",
    "# 1. 친구 리스트 출력\n",
    "# 2. 친구 추가\n",
    "# 3. 친구 삭제\n",
    "# 4. 이름 변경\n",
    "# 9 . 종료\n",
    "# 메뉴를 선택하시오 : 1\n",
    "# [\"홍길동\"]"
   ]
  },
  {
   "cell_type": "code",
   "execution_count": 11,
   "id": "7aa3dbdf",
   "metadata": {},
   "outputs": [
    {
     "name": "stdout",
     "output_type": "stream",
     "text": [
      "1. 친구 리스트 출력\n",
      "2. 친구추가\n",
      "3. 친구삭제\n",
      "4. 이름변경\n",
      "9. 종료\n",
      "메뉴를 선택하시오: 9\n",
      "프로그램을 종료합니다.\n"
     ]
    }
   ],
   "source": [
    "# 친구_리스트\n",
    "friend_list = []\n",
    "\n",
    "# 선택지 번호\n",
    "select_number = 0\n",
    "\n",
    "while select_number != 9:\n",
    "    try:\n",
    "        print(\"1. 친구 리스트 출력\")\n",
    "        print(\"2. 친구추가\")\n",
    "        print(\"3. 친구삭제\")\n",
    "        print(\"4. 이름변경\")\n",
    "        print(\"9. 종료\")\n",
    "        select_number = int(input(\"메뉴를 선택하시오: \"))\n",
    "        if select_number == 1:\n",
    "            print(friend_list)\n",
    "        elif select_number == 2:\n",
    "            friend_list.append(input(\"이름을 입력하시오: \"))\n",
    "        elif select_number == 3:\n",
    "            friend_list.remove(input(\"이름을 입력하시오: \"))\n",
    "        elif select_number == 4:\n",
    "            index = friend_list.index(input(\"기존 이름을 입력하시오: \"))\n",
    "            friend_list[index] = input(\"변경할 이름을 입력하시오 :\")\n",
    "        elif select_number == 9:\n",
    "            print(\"프로그램을 종료합니다.\")\n",
    "    except Exception as e:\n",
    "        print(e)\n",
    "        print(\"잘못된 입력입니다\")\n",
    "    finally:\n",
    "        continue"
   ]
  },
  {
   "cell_type": "code",
   "execution_count": 10,
   "id": "08da887f",
   "metadata": {},
   "outputs": [
    {
     "name": "stdout",
     "output_type": "stream",
     "text": [
      "1. 친구 리스트 출력\n",
      "2. 친구추가\n",
      "3. 친구삭제\n",
      "4. 이름변경\n",
      "9. 종료\n",
      "메뉴를 선택하시오 : 9\n",
      "프로그램을 종료합니다.\n"
     ]
    }
   ],
   "source": [
    "# 출력 문구를 나타내는 함수\n",
    "def menu_print():\n",
    "    print(\"1. 친구 리스트 출력\")\n",
    "    print(\"2. 친구추가\")\n",
    "    print(\"3. 친구삭제\")\n",
    "    print(\"4. 이름변경\")\n",
    "    print(\"9. 종료\")\n",
    "\n",
    "# 메뉴 번호를 저장\n",
    "menu_choice = 0\n",
    "# 친구 목록을 저장할 리스트\n",
    "friends = []\n",
    "\n",
    "while True:\n",
    "    menu_print()\n",
    "    menu_choice = int(input(\"메뉴를 선택하시오 : \"))\n",
    "    \n",
    "    # 무한 루프 빠져나가는 코드\n",
    "    if menu_choice == 9:\n",
    "        print(\"프로그램을 종료합니다.\")\n",
    "        break\n",
    "    elif menu_choice == 1:\n",
    "        print(\"친구 리스트입니다.\")\n",
    "        print(friends)\n",
    "    elif menu_choice == 2:\n",
    "        name = input(\"이름을 입력하시오 : \")\n",
    "        friends.append(name)\n",
    "    elif menu_choice == 3:\n",
    "        del_name = input(\"삭제하고 싶은 이름을 입력하세요 : \")\n",
    "        if del_name in friends: # 리스트에 이름이 존재한다면?\n",
    "            friends.remove(del_name)\n",
    "            print(del_name+\"님이 삭제되었습니다.\")\n",
    "        else:\n",
    "            print(del_name+\"님은 존재하지 않습니다.\")\n",
    "    elif menu_choice == 4:\n",
    "        old_name = input(\"변경하고 싶은 이름을 입력하세요 : \")\n",
    "        if old_name in friends:\n",
    "            index = friends.index(old_name)\n",
    "            new_name = input(\"새로운 이름을 입력하세요 : \")\n",
    "            friends[index] = new_name\n",
    "            print(f\"변경전 이름 : {old_name}\\n새로운 이름 : {new_name}\")\n",
    "        else:\n",
    "            print(old_name+\"님은 존재하지 않습니다.\")\n",
    "            "
   ]
  }
 ],
 "metadata": {
  "kernelspec": {
   "display_name": "Python 3",
   "language": "python",
   "name": "python3"
  },
  "language_info": {
   "codemirror_mode": {
    "name": "ipython",
    "version": 3
   },
   "file_extension": ".py",
   "mimetype": "text/x-python",
   "name": "python",
   "nbconvert_exporter": "python",
   "pygments_lexer": "ipython3",
   "version": "3.8.8"
  }
 },
 "nbformat": 4,
 "nbformat_minor": 5
}
