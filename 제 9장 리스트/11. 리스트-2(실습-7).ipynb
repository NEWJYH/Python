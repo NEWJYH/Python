{
 "cells": [
  {
   "cell_type": "code",
   "execution_count": 1,
   "id": "f00c4688",
   "metadata": {},
   "outputs": [
    {
     "name": "stdout",
     "output_type": "stream",
     "text": [
      "[-1, 4, 8, 9, 10]\n"
     ]
    }
   ],
   "source": [
    "# 정렬하기에 대한 실습\n",
    "list1 = [4,8,9,-1,10]\n",
    "# 리스트 객체에서 제공해주는 sort()를 이용하여 정렬하는 방법\n",
    "list1.sort()\n",
    "print(list1)"
   ]
  },
  {
   "cell_type": "code",
   "execution_count": 3,
   "id": "61c95992",
   "metadata": {},
   "outputs": [
    {
     "name": "stdout",
     "output_type": "stream",
     "text": [
      "[10, 9, 8, 4, -1]\n"
     ]
    }
   ],
   "source": [
    "list1 = [4,8,9,-1,10]\n",
    "list1.sort(reverse=True)\n",
    "# reverse = True  \n",
    "# 내림차순 정렬(높은숫자에서 낮은 숫자로)\n",
    "print(list1)"
   ]
  },
  {
   "cell_type": "code",
   "execution_count": 7,
   "id": "ab96f4fd",
   "metadata": {},
   "outputs": [
    {
     "name": "stdout",
     "output_type": "stream",
     "text": [
      "[-50, -25, 1, 5, 7, 8, 9, 30, 50]\n"
     ]
    }
   ],
   "source": [
    "# 선택 정렬 알고리즘을 통한 정렬하기\n",
    "# 선택 정렬이라는 방식은 리스트에 중에 일단 최솟값을 찾는다.\n",
    "# 최솟값을 맨 앞에 위치한 값과 교체한다.\n",
    "# 맨 처음 위치를 뺀 나머지 리스트를 똑같은 방법으로 루핑한다.\n",
    "# 최종적으로 정렬이 이루어진다.\n",
    "\n",
    "# 선택 정렬은 제자리 정렬이기 때문에 \n",
    "# 더블루프를 사용해야 한다.\n",
    "def selectionSort(li):\n",
    "    for i in range(len(li)-1):\n",
    "        min_idx = i\n",
    "        for j in range(i+1,len(li)):\n",
    "            if li[j] < li[min_idx]:\n",
    "                min_idx = j\n",
    "        li[i], li[min_idx] = li[min_idx], li[i]\n",
    "    return li\n",
    "\n",
    "    \n",
    "li = [7,9,5,1,8,30,-25,50,-50]\n",
    "selectionSort(li)\n",
    "print(li)"
   ]
  },
  {
   "cell_type": "code",
   "execution_count": 15,
   "id": "6fe58d7c",
   "metadata": {},
   "outputs": [
    {
     "name": "stdout",
     "output_type": "stream",
     "text": [
      "파라미터로 들어온 li\n",
      "[7, 9, 5, 1, 8, 30, -25, 50, -50]\n",
      "순회 시작\n",
      "1 번째 순회 입니다.\n",
      "하위 루프 내  비교 횟수 4\n",
      "함수 내부 [-50, 9, 5, 1, 8, 30, -25, 50, 7]\n",
      "2 번째 순회 입니다.\n",
      "하위 루프 내  비교 횟수 3\n",
      "함수 내부 [-50, -25, 5, 1, 8, 30, 9, 50, 7]\n",
      "3 번째 순회 입니다.\n",
      "하위 루프 내  비교 횟수 1\n",
      "함수 내부 [-50, -25, 1, 5, 8, 30, 9, 50, 7]\n",
      "4 번째 순회 입니다.\n",
      "하위 루프 내  비교 횟수 0\n",
      "함수 내부 [-50, -25, 1, 5, 8, 30, 9, 50, 7]\n",
      "5 번째 순회 입니다.\n",
      "하위 루프 내  비교 횟수 1\n",
      "함수 내부 [-50, -25, 1, 5, 7, 30, 9, 50, 8]\n",
      "6 번째 순회 입니다.\n",
      "하위 루프 내  비교 횟수 2\n",
      "함수 내부 [-50, -25, 1, 5, 7, 8, 9, 50, 30]\n",
      "7 번째 순회 입니다.\n",
      "하위 루프 내  비교 횟수 0\n",
      "함수 내부 [-50, -25, 1, 5, 7, 8, 9, 50, 30]\n",
      "8 번째 순회 입니다.\n",
      "하위 루프 내  비교 횟수 1\n",
      "함수 내부 [-50, -25, 1, 5, 7, 8, 9, 30, 50]\n",
      "[-50, -25, 1, 5, 7, 8, 9, 30, 50]\n",
      "12\n"
     ]
    }
   ],
   "source": [
    "def selectionSort(li):\n",
    "    print(f\"파라미터로 들어온 li\\n{li}\")\n",
    "    # 인덱스값 비교가 이루어질때 올라갈 변수 설정(총 횟수)\n",
    "    cnt = 0\n",
    "    print(f\"순회 시작\")\n",
    "    for i in range(len(li)-1):\n",
    "        print(f\"{i+1} 번째 순회 입니다.\")\n",
    "        min_idx = i\n",
    "        # 출력용 변수 설정(바깥 루프 1번당 출력할 변수)\n",
    "        k = 0\n",
    "        for j in range(i+1,len(li)):\n",
    "            # 최소값 체크\n",
    "            if li[j] < li[min_idx]:\n",
    "                # 교환 횟수\n",
    "                k += 1\n",
    "                cnt += 1\n",
    "                min_idx = j\n",
    "        li[i], li[min_idx] = li[min_idx], li[i]\n",
    "        print(f\"하위 루프 내  비교 횟수 {k}\")\n",
    "        print(\"함수 내부\", li)\n",
    "        \n",
    "        \n",
    "    return cnt\n",
    "\n",
    "if __name__==\"__main__\":\n",
    "    li = [7,9,5,1,8,30,-25,50,-50]\n",
    "    cnt = selectionSort(li)\n",
    "    print(li)\n",
    "    print(cnt)"
   ]
  },
  {
   "cell_type": "code",
   "execution_count": 25,
   "id": "2b0625d2",
   "metadata": {},
   "outputs": [
    {
     "name": "stdout",
     "output_type": "stream",
     "text": [
      "[-50, -25, 1, 5, 7, 8, 9, 30, 50]\n"
     ]
    }
   ],
   "source": [
    "# 버블 정렬 알고리즘\n",
    "\n",
    "# 인접한 두 원소를 검사하여 정렬하는 방법\n",
    "# 정확도는 높다.\n",
    "# 데이터가 많아지면 질수록 속도가 떨어진다.\n",
    "def bubble_sort(li):\n",
    "    list_length = len(li)\n",
    "    for i in range(list_length - 1):\n",
    "        for j in range(list_length-i-1):\n",
    "            if li[j] > li[j+1]:\n",
    "                li[j], li[j+1] = li[j+1], li[j]\n",
    "                \n",
    "if __name__==\"__main__\":\n",
    "    li = [7,9,5,1,8,30,-25,50,-50]                \n",
    "    bubble_sort(li)\n",
    "    print(li)"
   ]
  },
  {
   "cell_type": "code",
   "execution_count": 24,
   "id": "04df6528",
   "metadata": {},
   "outputs": [
    {
     "name": "stdout",
     "output_type": "stream",
     "text": [
      "들어온 리스트\n",
      "[10, 9, 25, 7, -5]\n",
      "-----------------------------\n",
      "1번 루프 안입니다.\n",
      "1번 루프 i 값은 0\n",
      "2번 루프 안 입니다.\n",
      "2번 루프 j 값은 0\n",
      "\n",
      "조건만족\n",
      "li[0] = 10 > li[1] = 9\n",
      "li[j]와 li[j+1]을 바꿈\n",
      "li = [9, 10, 25, 7, -5]\n",
      "\n",
      "2번 루프 안 입니다.\n",
      "2번 루프 j 값은 1\n",
      "\n",
      "2번 루프 안 입니다.\n",
      "2번 루프 j 값은 2\n",
      "\n",
      "조건만족\n",
      "li[2] = 25 > li[3] = 7\n",
      "li[j]와 li[j+1]을 바꿈\n",
      "li = [9, 10, 7, 25, -5]\n",
      "\n",
      "2번 루프 안 입니다.\n",
      "2번 루프 j 값은 3\n",
      "\n",
      "조건만족\n",
      "li[3] = 25 > li[4] = -5\n",
      "li[j]와 li[j+1]을 바꿈\n",
      "li = [9, 10, 7, -5, 25]\n",
      "\n",
      "1번 순회 li = [9, 10, 7, -5, 25]\n",
      "-----------------------------\n",
      "\n",
      "\n",
      "1번 루프 안입니다.\n",
      "1번 루프 i 값은 1\n",
      "2번 루프 안 입니다.\n",
      "2번 루프 j 값은 0\n",
      "\n",
      "2번 루프 안 입니다.\n",
      "2번 루프 j 값은 1\n",
      "\n",
      "조건만족\n",
      "li[1] = 10 > li[2] = 7\n",
      "li[j]와 li[j+1]을 바꿈\n",
      "li = [9, 7, 10, -5, 25]\n",
      "\n",
      "2번 루프 안 입니다.\n",
      "2번 루프 j 값은 2\n",
      "\n",
      "조건만족\n",
      "li[2] = 10 > li[3] = -5\n",
      "li[j]와 li[j+1]을 바꿈\n",
      "li = [9, 7, -5, 10, 25]\n",
      "\n",
      "2번 순회 li = [9, 7, -5, 10, 25]\n",
      "-----------------------------\n",
      "\n",
      "\n",
      "1번 루프 안입니다.\n",
      "1번 루프 i 값은 2\n",
      "2번 루프 안 입니다.\n",
      "2번 루프 j 값은 0\n",
      "\n",
      "조건만족\n",
      "li[0] = 9 > li[1] = 7\n",
      "li[j]와 li[j+1]을 바꿈\n",
      "li = [7, 9, -5, 10, 25]\n",
      "\n",
      "2번 루프 안 입니다.\n",
      "2번 루프 j 값은 1\n",
      "\n",
      "조건만족\n",
      "li[1] = 9 > li[2] = -5\n",
      "li[j]와 li[j+1]을 바꿈\n",
      "li = [7, -5, 9, 10, 25]\n",
      "\n",
      "3번 순회 li = [7, -5, 9, 10, 25]\n",
      "-----------------------------\n",
      "\n",
      "\n",
      "1번 루프 안입니다.\n",
      "1번 루프 i 값은 3\n",
      "2번 루프 안 입니다.\n",
      "2번 루프 j 값은 0\n",
      "\n",
      "조건만족\n",
      "li[0] = 7 > li[1] = -5\n",
      "li[j]와 li[j+1]을 바꿈\n",
      "li = [-5, 7, 9, 10, 25]\n",
      "\n",
      "4번 순회 li = [-5, 7, 9, 10, 25]\n",
      "-----------------------------\n",
      "\n",
      "\n",
      "[-5, 7, 9, 10, 25]\n"
     ]
    }
   ],
   "source": [
    "def buble_sort(li):\n",
    "    print(\"들어온 리스트\")\n",
    "    print(li)\n",
    "    # 인자로 들어온 리스트 길이\n",
    "    list_length = len(li)\n",
    "    # 인자로 들어온 리스트 길이 만큼 1번 루프\n",
    "    print(\"-----------------------------\")\n",
    "    for i in range(list_length - 1):\n",
    "        print(\"1번 루프 안입니다.\")\n",
    "        print(f\"1번 루프 i 값은 {i}\")\n",
    "        # 인자로 들어온 리스트 길이 만큼에서 \n",
    "        # 이미 비교 마친 i번만끔 뺀 루프\n",
    "        for j in range(list_length-1-i):\n",
    "            print(\"2번 루프 안 입니다.\")\n",
    "            print(f\"2번 루프 j 값은 {j}\")\n",
    "            print()\n",
    "            if li[j] > li[j+1]:\n",
    "                print(\"조건만족\")\n",
    "                print(f\"li[{j}] = {li[j]} > li[{j+1}] = {li[j+1]}\")\n",
    "                print(\"li[j]와 li[j+1]을 바꿈\")\n",
    "                li[j], li[j+1] = li[j+1], li[j]\n",
    "                print(f\"li = {li}\")\n",
    "                print()\n",
    "        \n",
    "        print(f\"{i+1}번 순회 li = {li}\")\n",
    "        print(\"-----------------------------\")\n",
    "        print()\n",
    "        print()\n",
    "\n",
    "                \n",
    "                \n",
    "if __name__==\"__main__\":\n",
    "    li = [10,9,25,7,-5]                \n",
    "    buble_sort(li)\n",
    "    print(li)"
   ]
  },
  {
   "cell_type": "code",
   "execution_count": 17,
   "id": "24b0693b",
   "metadata": {},
   "outputs": [
    {
     "name": "stdout",
     "output_type": "stream",
     "text": [
      "[1, 2, 3, 4, 5]\n"
     ]
    }
   ],
   "source": [
    "# 버블 정렬\n",
    "\n",
    "# 공간 복잡도\n",
    "# O(1)\n",
    "# 별도의 추가 공간을 사용하지 않고 \n",
    "# 주어진 배열이 차지하고 있는 공간 내에서 값들의 위치만 바꿈\n",
    "\n",
    "# 시간 복잡도 \n",
    "# 우선 루프문을 통해 맨 뒤부터 맨 앞까지 모든 인덱스에 접근해야 하기 때문에\n",
    "# 기본적으로 O(N)을 시간을 소모하며, \n",
    "# 하나의 루프에서는 인접한 값들의 대소 비교 및 자리 교대를 위해서 \n",
    "# O(N)을 시간이 필요하게 됩니다. \n",
    "# 따라서 거품 정렬은 총 O(N^2)의 시간 복잡도를 가지는 정렬 알고리즘입니다.\n",
    "\n",
    "def bubble_sort(arr):\n",
    "    for i in range(len(arr) - 1, 0, -1):\n",
    "        for j in range(i):\n",
    "            if arr[j] > arr[j + 1]:\n",
    "                arr[j], arr[j + 1] = arr[j + 1], arr[j]\n",
    "\n",
    "\n",
    "arr = [4,3,5,1,2]                \n",
    "bubble_sort(arr)\n",
    "print(arr)"
   ]
  },
  {
   "cell_type": "code",
   "execution_count": null,
   "id": "e495e23a",
   "metadata": {},
   "outputs": [],
   "source": [
    "# 버블 정렬은 인덱스 0번과 0번 +1 번과 비교 하고 \n",
    "# 만약 0+1이 더 작다면 두수를 바꿉니다.\n",
    "# 다음으로 바뀐수 0+1 부터 다시 비교하여 0+1 +1 과 비교\n",
    "# 조건 만족시 바꿉니다.\n",
    "# 그렇기 때문에 모든 값을 비교하기 위해서는\n",
    "\n",
    "# 2중 루프를 사용해야합니다.\n",
    "# 1중루프(상위 루프)가 리스트 길이만큼 반복하고\n",
    "\n",
    "# 2중루프(하위 루프)는 리스트 길이에서 \n",
    "# 상위루프 i값만큼 제외하여 반복합니다. "
   ]
  }
 ],
 "metadata": {
  "kernelspec": {
   "display_name": "Python 3",
   "language": "python",
   "name": "python3"
  },
  "language_info": {
   "codemirror_mode": {
    "name": "ipython",
    "version": 3
   },
   "file_extension": ".py",
   "mimetype": "text/x-python",
   "name": "python",
   "nbconvert_exporter": "python",
   "pygments_lexer": "ipython3",
   "version": "3.8.8"
  }
 },
 "nbformat": 4,
 "nbformat_minor": 5
}
