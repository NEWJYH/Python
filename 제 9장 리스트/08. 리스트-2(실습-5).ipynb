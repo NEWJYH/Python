{
 "cells": [
  {
   "cell_type": "code",
   "execution_count": 2,
   "id": "e47bb45e",
   "metadata": {},
   "outputs": [
    {
     "name": "stdout",
     "output_type": "stream",
     "text": [
      "찾고자 하는 단어를 입력해주세요 : red\n",
      "찾고자 하는 단어가 2째 인덱스에 존재합니다.\n"
     ]
    }
   ],
   "source": [
    "# 탐색하기\n",
    "# 주어진 데이터 내에서 어떠한 특정한 값을 찾는 행위가 탐색하는 것이다.\n",
    "# index()를 이용하여 일반적인 탐색이 가능하다.\n",
    "list_word = \"gold blue red yellow green\".split()\n",
    "search_word = input(\"찾고자 하는 단어를 입력해주세요 : \")\n",
    "\n",
    "if search_word in list_word:\n",
    "    index = list_word.index(search_word)\n",
    "    print(f\"찾고자 하는 단어가 {index}째 인덱스에 존재합니다.\")\n",
    "else:\n",
    "    print(\"찾고자 하는 단어가 없습니다.\")"
   ]
  },
  {
   "cell_type": "code",
   "execution_count": 33,
   "id": "562fb3ff",
   "metadata": {},
   "outputs": [
    {
     "name": "stdout",
     "output_type": "stream",
     "text": [
      "탐색할 숫자 : 100\n",
      "\n",
      "리스트에 탐색하는 수 100의 존재는 True\n",
      "같은수의 갯수는 4개\n",
      "그 수의 인덱스는 : [9, 10, 11, 12] 입니다\n"
     ]
    }
   ],
   "source": [
    "# 프로그래머가 직접 탐색을 하는 알고리즘을 \n",
    "# 구현해야 하는 경우도 상당히 많다.\n",
    "# 탐색의 가장 기본적인 방법이 순차 탐색이다.\n",
    "# 순차 탐색은 리스트의 요소를 순서대로 하나씩 꺼내서 \n",
    "# 탐색키 값과 비교해서 성공하면 루프를 빠져나오고\n",
    "# 루프를 다 했음에도 없다면 해당하는 탐색 키가 존재하지 않음을 의미\n",
    "\n",
    "def number_search(list, key):\n",
    "    cnt = 0\n",
    "    check = False\n",
    "    list_ck=[]\n",
    "    \n",
    "    for i in range(len(list)):\n",
    "        if key == list[i]:\n",
    "            cnt += 1\n",
    "            check = True\n",
    "            list_ck.append(i)\n",
    "            \n",
    "    return check, list_ck, cnt \n",
    "\n",
    "# 같은 수가 존재한다면 그 갯수도 몇개인지 출력하시오.\n",
    "num = [x for x in range(10,101,10)] + [100,100,100]\n",
    "\n",
    "USER_INPUT = int(input(\"탐색할 숫자 : \"))\n",
    "\n",
    "check, list_ck, cnt = number_search(num, USER_INPUT)\n",
    "\n",
    "print(f\"\\n리스트에 탐색하는 수 {USER_INPUT}의 존재는 {check}\\n같은수의 갯수는 {cnt}개\\n그 수의 인덱스는 : {list_ck} 입니다.\")"
   ]
  }
 ],
 "metadata": {
  "kernelspec": {
   "display_name": "Python 3",
   "language": "python",
   "name": "python3"
  },
  "language_info": {
   "codemirror_mode": {
    "name": "ipython",
    "version": 3
   },
   "file_extension": ".py",
   "mimetype": "text/x-python",
   "name": "python",
   "nbconvert_exporter": "python",
   "pygments_lexer": "ipython3",
   "version": "3.8.8"
  }
 },
 "nbformat": 4,
 "nbformat_minor": 5
}
