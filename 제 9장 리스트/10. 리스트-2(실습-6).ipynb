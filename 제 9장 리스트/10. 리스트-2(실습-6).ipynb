{
 "cells": [
  {
   "cell_type": "code",
   "execution_count": 23,
   "id": "61283c79",
   "metadata": {
    "scrolled": false
   },
   "outputs": [
    {
     "name": "stdout",
     "output_type": "stream",
     "text": [
      "<_io.TextIOWrapper name='check.txt' mode='r' encoding='utf-8'>\n",
      "<class '_io.TextIOWrapper'>\n",
      "['이것은 간단한 테스트입니다.', '알겠습니까 휴먼?', '휴먼?', '이것을 읽어보았다면 정상은 아닙니다 휴먼?']\n",
      "[]\n",
      "[True]\n"
     ]
    }
   ],
   "source": [
    "# 기본적인 파일 입출력 실습\n",
    "data = []\n",
    "\n",
    "DATAPATH = \"check.txt\"\n",
    "# 파일의 경로를 지정, 읽기모드, 문자셋 UTF-8\n",
    "# 설정해서 해당 파일을 열고 \n",
    "# 메모리에 로딩된 파일의 주소를 반환한다.\n",
    "f = open(DATAPATH , mode = \"r\", encoding=\"utf-8\")\n",
    "# mode = 생략가능\n",
    "print(f) \n",
    "# <_io.TextIOWrapper name='check.txt' mode='r' encoding='utf-8'>\n",
    "print(type(f)) \n",
    "# <class '_io.TextIOWrapper'>\n",
    "# io는 input output의 약자.\n",
    "\n",
    "# readlines() 메서드는 파일의 저장된 내용을 한번에 다 읽는다.\n",
    "for line in f.readlines(): \n",
    "    data.append(line.strip())\n",
    "    # strip() 메서드는 문자열의 양쪽 공백 문자 제거하는 역할이지만.\n",
    "    # 파일을 읽어들일때는 엔터키 제거를 해준다.\n",
    "\n",
    "print(data)\n",
    "# ['이것은 간단한 테스트입니다.', '알겠습니까 휴먼?', '휴먼?', '이것을 읽어보았다면 정상은 아닙니다 휴먼?']\n",
    "\n",
    "# readline()?\n",
    "data2=[]\n",
    "for line in f.readline():\n",
    "    data2.append(line)\n",
    "print(data2) \n",
    "# []\n",
    "\n",
    "# readable() \n",
    "data3=[]\n",
    "TrueorFalse = f.readable()\n",
    "data3.append(TrueorFalse)\n",
    "print(data3)\n",
    "# [True]\n",
    "\n",
    "# 프로그램에서 리소스를 다 사용했으면 \n",
    "# 반드시 close()메서드를 호출하도록 한다.\n",
    "f.close()"
   ]
  },
  {
   "cell_type": "code",
   "execution_count": 41,
   "id": "c0b03b3b",
   "metadata": {},
   "outputs": [
    {
     "name": "stdout",
     "output_type": "stream",
     "text": [
      "쓰기완료\n",
      "우리는 파이썬을 공부합니다.\n",
      "\n",
      "저놈도 파이썬을 공부합니다.\n"
     ]
    }
   ],
   "source": [
    "# 파일에 내용을 쓰는 방법\n",
    "data = []\n",
    "DATAPATH = \"check.txt\"\n",
    "# mode = \"w\" or \"wt\"\n",
    "# 파일의 모드가 w인 경우에는 기존 파일의 내용을 덮어 써버린다.\n",
    "f = open(DATAPATH , mode = \"w\", encoding=\"utf-8\")\n",
    "f.write(\"우리는 파이썬을 공부합니다.\\n\")\n",
    "f.write(\"저놈도 파이썬을 공부합니다.\")\n",
    "print(\"쓰기완료\")\n",
    "f.close()\n",
    "\n",
    "f = open(DATAPATH , mode = \"r\", encoding=\"utf-8\")\n",
    "for line in f.readlines(): \n",
    "    print(line)\n",
    "f.close()"
   ]
  },
  {
   "cell_type": "code",
   "execution_count": 42,
   "id": "38d4a971",
   "metadata": {},
   "outputs": [
    {
     "name": "stdout",
     "output_type": "stream",
     "text": [
      "추가완료\n",
      "우리는 파이썬을 공부합니다.\n",
      "\n",
      "저놈도 파이썬을 공부합니다.\n",
      "\n",
      "1. 우리는 파이썬을 공부합니다.\n",
      "\n",
      "2. 저놈도 파이썬을 공부합니다.\n",
      "읽기완료\n"
     ]
    }
   ],
   "source": [
    "# mode =\"a\"\n",
    "# 기존파일의 내용에 추가를 해줍니다.\n",
    "DATAPATH = \"check.txt\"\n",
    "\n",
    "f = open(DATAPATH , mode = \"a\", encoding=\"utf-8\")\n",
    "f.write(\"\\n\")\n",
    "f.write(\"1. 우리는 파이썬을 공부합니다.\\n\")\n",
    "f.write(\"2. 저놈도 파이썬을 공부합니다.\")\n",
    "print(\"추가완료\")\n",
    "f.close()\n",
    "\n",
    "f = open(DATAPATH , mode = \"r\", encoding=\"utf-8\")\n",
    "for line in f.readlines(): \n",
    "    print(line)\n",
    "print(\"읽기완료\")\n",
    "f.close()"
   ]
  },
  {
   "cell_type": "code",
   "execution_count": 46,
   "id": "75b31413",
   "metadata": {},
   "outputs": [],
   "source": [
    "# csv 파일 읽어보기\n",
    "#import csv\n",
    "#DATAPATH = \"test.csv\"\n",
    "\n",
    "f = open(DATAPATH, mode = \"r\", encoding=\"utf-8\")\n",
    "reader = csv.reader(f)\n",
    "print(reader)\n",
    "# <_csv.reader object at 0x000001D92C3DBBE0>\n",
    "# 파일 포인터를 출력함.\n",
    "for txt in reader:\n",
    "    print(txt)\n",
    "\n",
    "f.close()"
   ]
  },
  {
   "cell_type": "code",
   "execution_count": null,
   "id": "2ade4d8b",
   "metadata": {},
   "outputs": [],
   "source": [
    "# csv vs (xls or xlsx) \n",
    "# https://m.blog.naver.com/nohsundong/221397615799"
   ]
  }
 ],
 "metadata": {
  "kernelspec": {
   "display_name": "Python 3",
   "language": "python",
   "name": "python3"
  },
  "language_info": {
   "codemirror_mode": {
    "name": "ipython",
    "version": 3
   },
   "file_extension": ".py",
   "mimetype": "text/x-python",
   "name": "python",
   "nbconvert_exporter": "python",
   "pygments_lexer": "ipython3",
   "version": "3.8.8"
  }
 },
 "nbformat": 4,
 "nbformat_minor": 5
}
