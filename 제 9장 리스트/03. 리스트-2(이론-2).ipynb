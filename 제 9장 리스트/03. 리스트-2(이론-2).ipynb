{
 "cells": [
  {
   "cell_type": "markdown",
   "id": "cde3612a",
   "metadata": {},
   "source": [
    "3. 리스트 함축"
   ]
  },
  {
   "cell_type": "markdown",
   "id": "f6150263",
   "metadata": {},
   "source": [
    "1) 리스트 함축(list comprehensions)\n",
    "    - 파이썬은 \"리스트 함축(list comprhensions)\"  \n",
    "      \"리스트 컴프리헨션\"이라는 개념을 지원한다.\n",
    "      comprehension은 함축, 포함, 내포라는 의미이다.\n",
    "      \n",
    "      리스트 함축은 수학자들이 집합을 정의하는 것과 유사하다.\n",
    "      \n",
    "      수학에서 제곱값의 집합은 (x^2| x ∈ N)와 같이 정의된다.\n",
    "      즉, 자연수에 속하는 x에 대하여 x^2값들이 모여서 집합을 생성한다.\n",
    "      파이썬에서 리스트를 수학과 유사하게 정의할 수 있다.\n",
    "      파이썬에는 다음과 같이 0부터 9까지의 자연수에 대하여\n",
    "      제곱값의 리스트를 정의할수 있다."
   ]
  },
  {
   "cell_type": "code",
   "execution_count": 1,
   "id": "9c65408b",
   "metadata": {},
   "outputs": [
    {
     "name": "stdout",
     "output_type": "stream",
     "text": [
      "[0, 1, 4, 9, 16, 25, 36, 49, 64, 81]\n"
     ]
    }
   ],
   "source": [
    "s = [x**2 for x in range(10)]\n",
    "print(s)"
   ]
  },
  {
   "cell_type": "markdown",
   "id": "f087a93d",
   "metadata": {},
   "source": [
    "1) 리스트 함축(list comprehensions)\n",
    "    - 위의 문장을 해석해보면 다음과 같다.\n",
    "      range(10)에 속하는 모든 정수에 대하여 x**2을 계산하여서\n",
    "      리스트를 생성한다.\n",
    "      결과적으로 아래와 같은 리스트가 된다."
   ]
  },
  {
   "cell_type": "code",
   "execution_count": null,
   "id": "c8edcc7d",
   "metadata": {},
   "outputs": [],
   "source": [
    "s = [0, 1, 4, 9, 16, 25, 36, 49, 64, 81]"
   ]
  },
  {
   "cell_type": "markdown",
   "id": "dd970518",
   "metadata": {},
   "source": [
    "1) 리스트 함축(list comprehensions)\n",
    "    - 리스트 함축은 다음과 같은 형식을 가진다.\n",
    "        - [expression for i in old_list if filter(i)]\n",
    "            출력식        변수의 범위       선택사항 조건"
   ]
  },
  {
   "cell_type": "code",
   "execution_count": null,
   "id": "9c229edc",
   "metadata": {},
   "outputs": [],
   "source": [
    "new_list = []\n",
    "for i in old_list:\n",
    "    if filter(i):\n",
    "        new_list.append(i)"
   ]
  },
  {
   "cell_type": "code",
   "execution_count": 21,
   "id": "6f0b52e5",
   "metadata": {},
   "outputs": [
    {
     "name": "stdout",
     "output_type": "stream",
     "text": [
      "[0, 1, 4, 9, 16, 25, 36, 49, 64, 81]\n",
      "[1, 9, 25, 49, 81]\n",
      "[0, 1, 4, 9, 16, 25, 36, 49, 64, 81]\n",
      "[1, 9, 25, 49, 81]\n",
      "[0, 1, 2, 3, 4, 5, 6, 7, 8, 9]\n"
     ]
    }
   ],
   "source": [
    "s = [x**2 for x in range(10)]\n",
    "print(s)\n",
    "s = [x**2 for x in range(10) if x%2!=0]\n",
    "print(s)\n",
    "s = list(map(lambda x:x**2,range(10)))\n",
    "print(s)\n",
    "s = list(map(lambda x:x**2,[x for x in range(10) if x%2!=0]))\n",
    "print(s)\n",
    "s = list(range(10))\n",
    "print(s)"
   ]
  },
  {
   "cell_type": "markdown",
   "id": "566bdf6d",
   "metadata": {},
   "source": [
    "1) 리스트 함축(list comprehensions)\n",
    "    - 리스트 함축을 사용하면 아주 간결하게 리스트를 생성할 수 있다는\n",
    "      큰 장점이 존재한다.\n",
    "      앞 슬라이드에서 보았던 제곱의 집합을 리스트 함축으로 표현한 \n",
    "      예를 다시 한번 분석해보자"
   ]
  },
  {
   "cell_type": "code",
   "execution_count": 28,
   "id": "26fcc067",
   "metadata": {},
   "outputs": [
    {
     "name": "stdout",
     "output_type": "stream",
     "text": [
      "[1, 9, 25, 49, 81]\n",
      "[1, 9, 25, 49, 81]\n"
     ]
    }
   ],
   "source": [
    "s = [x**2 for x in range(10) if x%2!=0]\n",
    "print(s)\n",
    "# 위 아래 코드는 동일 \n",
    "# 한줄로 표현 가능\n",
    "s = []\n",
    "for x in range(10):\n",
    "    if x%2 !=0:\n",
    "        s.append(x**2)\n",
    "print(s)"
   ]
  },
  {
   "cell_type": "markdown",
   "id": "107813e5",
   "metadata": {},
   "source": [
    "1) 리스트 함축(list comprehensions)\n",
    "    - x는 입력 리스트의 요소를 나타내는 변수이다.\n",
    "    - x**2는 출력식으로서 새로운 리스트의 요소를 생성한다.\n",
    "    - range(10)은 입력 리스트를 나타낸다."
   ]
  },
  {
   "cell_type": "code",
   "execution_count": 25,
   "id": "4617d08c",
   "metadata": {},
   "outputs": [
    {
     "name": "stdout",
     "output_type": "stream",
     "text": [
      "[0, 1, 4, 9, 16, 25, 36, 49, 64, 81]\n"
     ]
    }
   ],
   "source": [
    "squares = []\n",
    "for x in range(10):\n",
    "    squares.append(x**2)\n",
    "print(squares) "
   ]
  },
  {
   "cell_type": "code",
   "execution_count": 26,
   "id": "87a428f6",
   "metadata": {},
   "outputs": [
    {
     "name": "stdout",
     "output_type": "stream",
     "text": [
      "[6, 8, 10]\n"
     ]
    }
   ],
   "source": [
    "list1 = [3,4,5]\n",
    "list2 = [x*2 for x in list1]\n",
    "print(list2)"
   ]
  },
  {
   "cell_type": "markdown",
   "id": "597ba4bb",
   "metadata": {},
   "source": [
    "2) 조건이 붙는 리스트 함축\n",
    "    - 리스트 함축에는 if를 사용하여 조건이 추가될 수 있다.\n",
    "      예를 들어 0부터 9사이의 정수 중에서 짝수의 집합을\n",
    "      리스트 함축으로 표현하면 다음과 같다."
   ]
  },
  {
   "cell_type": "code",
   "execution_count": 29,
   "id": "cee15563",
   "metadata": {},
   "outputs": [
    {
     "name": "stdout",
     "output_type": "stream",
     "text": [
      "[0, 2, 4, 6, 8]\n"
     ]
    }
   ],
   "source": [
    "M = [x for x in range(10) if x%2 ==0]\n",
    "print(M)"
   ]
  },
  {
   "cell_type": "markdown",
   "id": "ff91b8bb",
   "metadata": {},
   "source": [
    "3) 다양한 자료형에 대한 리스트 함축\n",
    "    - 리스트 함축은 숫자에 대해서만 적용되는 것이 아니다.\n",
    "      어떤 자료형에 대해서도 리스트 함축을 적용할 수 있다.\n",
    "      단어를 저장하는 리스트를 가정하자.\n",
    "      단어의 첫 글자만 추출하여 리스트로 만드는 문장을 작성해보자."
   ]
  },
  {
   "cell_type": "code",
   "execution_count": 33,
   "id": "255e0296",
   "metadata": {},
   "outputs": [
    {
     "name": "stdout",
     "output_type": "stream",
     "text": [
      "['All', 'good', 'things', 'must', 'come', 'to', 'an', 'end.']\n",
      "['A', 'g', 't', 'm', 'c', 't', 'a', 'e']\n"
     ]
    }
   ],
   "source": [
    "list1 = \"All good things must come to an end.\".split()\n",
    "print(list1)\n",
    "items = [word[0] for word in list1]\n",
    "print(items)"
   ]
  },
  {
   "cell_type": "markdown",
   "id": "94848fd6",
   "metadata": {},
   "source": [
    "3) 다양한 자료형에 대한 리스트 함축\n",
    "    - 추가적인 예로 문자열을 구성하는 단어를 추출하여 단어의 길이를\n",
    "      계산하고 이것을 모아서 새로운 리스트로 생성해보자."
   ]
  },
  {
   "cell_type": "code",
   "execution_count": 38,
   "id": "adb4716e",
   "metadata": {},
   "outputs": [
    {
     "name": "stdout",
     "output_type": "stream",
     "text": [
      "[5, 5, 4, 8, 6, 3, 3, 7]\n"
     ]
    }
   ],
   "source": [
    "word_list = \"Don't count your chickens before the are hatched\".split()\n",
    "result_list = [len(w) for w in word_list]\n",
    "print(result_list)"
   ]
  },
  {
   "cell_type": "markdown",
   "id": "13f41e61",
   "metadata": {},
   "source": [
    "3) 다양한 자료형에 대한 리스트 함축\n",
    "    - 첫 번째 문장에서 문자열을 분리하여 리스트를 만든다.\n",
    "      두 번째 문장에서 word_list 리스트에 있는 각각의 단어에 대하여\n",
    "      단어의 길이를 계산하여 리스트에 추가한다.\n",
    "      세 번째 문장에서 result_list를 출력한다.\n",
    "      실행 결과는 다음과 같다.\n",
    "      [5, 5, 4, 8, 6, 3, 3, 7]"
   ]
  },
  {
   "cell_type": "markdown",
   "id": "3163336e",
   "metadata": {},
   "source": [
    "4) 상호곱(Cross product) 형태의 집합 (카티션곱_데이터베이스)\n",
    "    - 리스트 함축은 2개의 집합의 상호곱 형태로도 표현할 수 있다.\n",
    "      예를 들어서 색상의 집합과 자동차의 집합을 상호 곱하여 \n",
    "      새로운 리스트를 생성할 수 있다.\n",
    "    - 아래의 코드는 colors 리스트의 원소와 cars 리스트의 원소가\n",
    "      하나씩 짝지어져서 튜플이 되고 이 튜플이 모여서 리스트가 된다."
   ]
  },
  {
   "cell_type": "code",
   "execution_count": 45,
   "id": "90d0dc2e",
   "metadata": {},
   "outputs": [
    {
     "name": "stdout",
     "output_type": "stream",
     "text": [
      "[('white', 'bmw5'), ('white', 'sonata'), ('white', 'malibu'), ('white', 'sm6'), ('silver', 'bmw5'), ('silver', 'sonata'), ('silver', 'malibu'), ('silver', 'sm6'), ('black', 'bmw5'), ('black', 'sonata'), ('black', 'malibu'), ('black', 'sm6')]\n"
     ]
    }
   ],
   "source": [
    "colors = \"white silver black\".split()\n",
    "cars = \"bmw5 sonata malibu sm6\".split()\n",
    "colored_cars = [ (x,y) for x in colors for y in cars]\n",
    "print(colored_cars)"
   ]
  },
  {
   "cell_type": "markdown",
   "id": "66077549",
   "metadata": {},
   "source": [
    "데이터 베이스\n",
    "카티션 곱 = 크로스 조인 \n",
    "10개 x 10개\n",
    "100개의 데이터가 됨 "
   ]
  }
 ],
 "metadata": {
  "kernelspec": {
   "display_name": "Python 3",
   "language": "python",
   "name": "python3"
  },
  "language_info": {
   "codemirror_mode": {
    "name": "ipython",
    "version": 3
   },
   "file_extension": ".py",
   "mimetype": "text/x-python",
   "name": "python",
   "nbconvert_exporter": "python",
   "pygments_lexer": "ipython3",
   "version": "3.8.8"
  }
 },
 "nbformat": 4,
 "nbformat_minor": 5
}
