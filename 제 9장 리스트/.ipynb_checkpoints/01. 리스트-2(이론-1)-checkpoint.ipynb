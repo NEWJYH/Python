{
 "cells": [
  {
   "cell_type": "markdown",
   "id": "08b66378",
   "metadata": {},
   "source": [
    "제 9장 리스트-2"
   ]
  },
  {
   "cell_type": "markdown",
   "id": "984867f6",
   "metadata": {},
   "source": [
    "1. 리스트 복사하기"
   ]
  },
  {
   "cell_type": "markdown",
   "id": "e4c7d560",
   "metadata": {},
   "source": [
    "1) 얕은 복사(shallow copy)\n",
    "    - 파이썬에서 리스트 변수는 리스트 객체를 직접 저장하고 있지 않다.\n",
    "      리스트 자체는 다른 곳에 저장되고 \n",
    "      \n",
    "      !!!!\n",
    "      리스트의 참조값(reference)만 변수에 저장된다.\n",
    "      \n",
    "      참조 값이란 메모리에서 리스트 객체의 주소 값이다.\n",
    "      !!!!\n",
    "      \n",
    "      평상시에는 이런 사소한 것에 신경 쓸 필요 없다.\n",
    "      하지만, 리스트를 복사하려고 할 때는 약간 신경을 써야한다.\n",
    "    - 만약 리스트를 복사하기 위하여 아래와 같은 문장을 실행하였다고 하자.\n",
    "      어떤 일이 벌어질까?\n",
    "    - 결론부터 말하자면 리스트는 복사되지 않는다.\n",
    "      !!\n",
    "      scores와 values는 모두 동일한 리스트 객체를 가르키고 있다.\n",
    "      !!\n",
    "      values는 scores 리스트의 별칭이나 마찬가지 이다.\n",
    "      이것을 얕은 복사(shallow copy)라고 한다."
   ]
  },
  {
   "cell_type": "code",
   "execution_count": 14,
   "id": "cd3662b4",
   "metadata": {},
   "outputs": [
    {
     "name": "stdout",
     "output_type": "stream",
     "text": [
      "scores = [10, 20, 30, 40, 50]\n",
      "values = [10, 20, 30, 40, 50]\n",
      "values[2] = 99\n",
      "scores = [10, 20, 99, 40, 50]\n",
      "values = [10, 20, 99, 40, 50]\n",
      "-------------------------------------------------\n",
      "[10, 20, 99, 40, 50]\n",
      "[10, 20, 99, 40, 50]\n",
      "[10, 20, 99, 40, 50]\n",
      "[10, 0, 99, 40, 50]\n"
     ]
    }
   ],
   "source": [
    "scores = [10, 20, 30, 40, 50]\n",
    "values = scores\n",
    "print(f\"scores = {scores}\")\n",
    "print(f\"values = {values}\")\n",
    "# 만약 values를 통하여 리스트 요소의 값을 변경한다면 \n",
    "# scores리스트도 변경된다. 이것을 확인해보자.\n",
    "print(\"values[2] = 99\")\n",
    "values[2] = 99\n",
    "print(f\"scores = {scores}\")\n",
    "print(f\"values = {values}\")\n",
    "# 위의 결과와 마찬가지로 얕은 복사는 원본 리스트의 값까지 변경시킨다.\n",
    "# 그 이유는 같은 주소값을 가지고 있기 때문이다.\n",
    "print(\"-------------------------------------------------\")\n",
    "#from copy import deepcopy\n",
    "#values = deepcopy(scores)\n",
    "import copy\n",
    "values = copy.deepcopy(scores)\n",
    "print(scores)\n",
    "print(values)\n",
    "values[1] = 0\n",
    "print(scores)\n",
    "print(values)"
   ]
  },
  {
   "cell_type": "markdown",
   "id": "0747dd7a",
   "metadata": {},
   "source": [
    "2) 깊은 복사(deep copy)\n",
    "    - 그렇다면 리스트를 올바르게 복사하는 방법은 무엇일까?\n",
    "      이것을 깊은 복사(deep copy)라고 한다.\n",
    "      몇 가지 방법이 있다.\n",
    "      \n",
    "    - 첫 번째 방법은 list() 메소드를 사용하는 것이다.\n",
    "      list() 내장 함수는 리스트를 받아서 복사본을 생성하여 반환한다ㅏ."
   ]
  },
  {
   "cell_type": "code",
   "execution_count": 21,
   "id": "eb254f34",
   "metadata": {},
   "outputs": [
    {
     "name": "stdout",
     "output_type": "stream",
     "text": [
      "[10, 20, 30, 40, 50]\n",
      "[10, 20, 99, 40, 50]\n"
     ]
    }
   ],
   "source": [
    "scores = [10,20,30,40,50]\n",
    "values = list(scores)\n",
    "values[2] = 99\n",
    "print(scores)\n",
    "print(values)"
   ]
  },
  {
   "cell_type": "markdown",
   "id": "99d63371",
   "metadata": {},
   "source": [
    "2) 깊은 복사(deep copy)\n",
    "    - 두 번째 방법은 deepcopy()나 copy() 메소드를 사용하는 방법도 있다.\n",
    "      deepcopy()나 copy() 내장 함수도 리스트를 받아서 복사본을 생성한다.\n",
    "      깊은 복사를 하게 되면 다른 주소값을 지니게 되어 원본 리스트에는\n",
    "      영향을 끼치지 아니한다."
   ]
  },
  {
   "cell_type": "code",
   "execution_count": 34,
   "id": "96989703",
   "metadata": {},
   "outputs": [
    {
     "name": "stdout",
     "output_type": "stream",
     "text": [
      "scores = [10, 20, 30, 40, 150]\n",
      "values = [10, 20, 1, 40, 150]\n",
      "False\n",
      "False\n",
      "True\n",
      "list()\n",
      "True\n",
      "copy\n",
      "True\n",
      "deepcopy\n",
      "False\n"
     ]
    }
   ],
   "source": [
    "from copy import copy,deepcopy\n",
    "scores = [10, 20, 30, 40, 150]\n",
    "values = deepcopy(scores)\n",
    "values[2] = 1\n",
    "print(f\"scores = {scores}\")\n",
    "print(f\"values = {values}\")\n",
    "# 참고로 비교 연산자였던 ==은 리스트 요소의 값을 비교하여 같다면\n",
    "# True를 리턴하였지만, 주소값을 비교하는 키워드는 바로 is이다.\n",
    "# 얕은 복사를 하면 주소값이 같고, 깊은 복사를 하면 주소값이 틀리다.\n",
    "print(scores is values) # False\n",
    "values = scores.copy()\n",
    "print(scores is values) # False\n",
    "values = scores\n",
    "print(scores is scores) # True\n",
    "\n",
    "\n",
    "\n",
    "# 만약 리스트 안에 뮤터블 객체가 있다면 copy()도 얕은 복사가 된다.\n",
    "# 그때는 deepcopy()를 사용해야한다.\n",
    "   \n",
    "\n",
    "# my code\n",
    "print(\"list()\")\n",
    "list1 = [[1,2],2]\n",
    "list2 = list(list1) # list()도 뮤터블 객체는 얕은 복사됨\n",
    "print(list1[0] is list2[0]) # True\n",
    "print(\"copy\")\n",
    "list2 = copy(list1) # copy도 뮤터블 객체는 얕은 복사됨\n",
    "print(list1[0] is list2[0]) # True\n",
    "print(\"deepcopy\")\n",
    "list2 = deepcopy(list1) # deepcopy는 뮤터블 객체도 깊은 복사됨\n",
    "print(list1[0] is list2[0]) # False\n",
    "\n",
    "\n",
    "\n",
    "# 반드시 뮤터블 객체가 포함된다면 deepcopy()를 사용하여 깊은 복사하는 것이 좋다."
   ]
  },
  {
   "cell_type": "markdown",
   "id": "4d571a06",
   "metadata": {},
   "source": [
    "2) 깊은 복사(deep copy)\n",
    "    - 마지막으로 세 번째 방법은 [:] 인덱스를 이용하는 것이다."
   ]
  },
  {
   "cell_type": "code",
   "execution_count": 39,
   "id": "a89124c3",
   "metadata": {},
   "outputs": [
    {
     "name": "stdout",
     "output_type": "stream",
     "text": [
      "[10, 20, 99, 40, 50]\n",
      "[10, 20, 30, 40, 50]\n",
      "True\n",
      "True\n"
     ]
    }
   ],
   "source": [
    "scores = [10, 20, 30, 40, 50]\n",
    "values = scores[:]\n",
    "values[2] = 99\n",
    "print(values)\n",
    "print(scores)\n",
    "\n",
    "# mycode\n",
    "scores = [[10,0],1,2]\n",
    "values = scores[:]\n",
    "print(values[0] is scores[0]) # True\n",
    "print(f\"{id(values[0]) == id(scores[0])}\") # True\n",
    "# 뮤터블 객체에 대한 얕은 복사이다."
   ]
  },
  {
   "cell_type": "markdown",
   "id": "7bd5fe12",
   "metadata": {},
   "source": [
    "2. 리스트와 함수"
   ]
  },
  {
   "cell_type": "markdown",
   "id": "c35406c4",
   "metadata": {},
   "source": [
    "1) \"값으로 호출하기\"와 \"참조로 호출하기\"\n",
    "    - 이미 우리는 앞서서 함수로 인수를 전달하는 방식에는 \n",
    "      다음과 같이 2가지 방법이 있다는 것을 알고 있다.\n",
    "      \n",
    "    1. 값으로 호출하기(call by value) : \n",
    "        - 함수로 변수를 전달할 떄, 변수의 값이 복사되는 방식으로 가장 많이 사용\n",
    "        \n",
    "    2. 참조로 호출하기(call by reference) :\n",
    "        - 함수로 변수를 전달할 때, 변수의 참조가 전달되는 방법이다.\n",
    "          함수에서 매개 변수를 통하여 원본 변수를 변경할 수 있다.\n",
    "          \n",
    "    - 그렇다면 파이썬에서는 어떤 방법을 사용하는가?\n",
    "      \n",
    "      파이썬에서는 정수나 문자열 처럼 변경 불가능한 immutable 객체들은\n",
    "      \"값으로 호출하기\"방법으로 전달된다.\n",
    "      \n",
    "      객체의 참조값이 함수의 매개변수로 전달되지만 함수 안에서 객체의 값을\n",
    "      변경하면 새로운 객체가 생성되기 때문이다."
   ]
  },
  {
   "cell_type": "code",
   "execution_count": 46,
   "id": "9d1aa72c",
   "metadata": {},
   "outputs": [
    {
     "name": "stdout",
     "output_type": "stream",
     "text": [
      "y = 10 id = 140708631095376\n",
      "x = 10 id = 140708631095376\n",
      "x = 42 id = 140708631096400\n",
      "y = 10 id = 140708631095376\n"
     ]
    }
   ],
   "source": [
    "def func1(x):\n",
    "    print(f\"x = {x} id = {id(x)}\")\n",
    "    x = 42 # 새로운 객체 생성\n",
    "    print(f\"x = {x} id = {id(x)}\")\n",
    "    \n",
    "y = 10\n",
    "print(f\"y = {y} id = {id(y)}\")\n",
    "func1(y)\n",
    "print(f\"y = {y} id = {id(y)}\")"
   ]
  },
  {
   "cell_type": "markdown",
   "id": "f876fafd",
   "metadata": {},
   "source": [
    "1) \"값으로 호출하기\"와 \"참조로 호출하기\"\n",
    "    - 변경가능한 객체인 리스트를 함수에 전달하면 어떻게 될까?\n",
    "      상황은 달라진다. 리스트는 참조값으로 전달된다.\n",
    "      리스트는 함수 안에서 변경할 수 있다.\n",
    "      즉 리스트의 요소들은 변경될수 있다는 것이다."
   ]
  },
  {
   "cell_type": "code",
   "execution_count": 47,
   "id": "6bb4df08",
   "metadata": {},
   "outputs": [
    {
     "name": "stdout",
     "output_type": "stream",
     "text": [
      "[0, 1, 2, 3, 4, 5, 6, 7, 8]\n",
      "[99, 1, 2, 3, 4, 5, 6, 7, 8]\n"
     ]
    }
   ],
   "source": [
    "def func2(list):\n",
    "    list[0] = 99\n",
    "    \n",
    "values = [0,1,2,3,4,5,6,7,8]\n",
    "print(values)\n",
    "func2(values)\n",
    "print(values)\n"
   ]
  }
 ],
 "metadata": {
  "kernelspec": {
   "display_name": "Python 3",
   "language": "python",
   "name": "python3"
  },
  "language_info": {
   "codemirror_mode": {
    "name": "ipython",
    "version": 3
   },
   "file_extension": ".py",
   "mimetype": "text/x-python",
   "name": "python",
   "nbconvert_exporter": "python",
   "pygments_lexer": "ipython3",
   "version": "3.8.8"
  }
 },
 "nbformat": 4,
 "nbformat_minor": 5
}
