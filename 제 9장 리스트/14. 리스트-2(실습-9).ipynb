{
 "cells": [
  {
   "cell_type": "code",
   "execution_count": null,
   "id": "e053fa6a",
   "metadata": {},
   "outputs": [],
   "source": [
    "# 성적 처리 프로그램 만들기(단 2차원 리스트를 이용)\n",
    "# 주어진 성적\n",
    "# score = [[100,100,100],\n",
    "#          [20,20,20],\n",
    "#          [30,30,30],\n",
    "#          [40,40,40],\n",
    "#          [50,50,50]]\n",
    "\n",
    "# 출력 결과\n",
    "# 번호 국어 영어 수학 총점 평균\n",
    "# -------------------------\n",
    "# 1 100 100 100 300 100.00\n",
    "# 2 20  20  20  60  20.00\n",
    "# 3 30  30  30  30  30.00\n",
    "# 4 40  40  40  40  40.00\n",
    "# 5 50  50  50  50  50.00\n",
    "# -------------------------\n",
    "# 총점 240 240 240 720 48.00"
   ]
  },
  {
   "cell_type": "code",
   "execution_count": 51,
   "id": "0c03345f",
   "metadata": {},
   "outputs": [
    {
     "name": "stdout",
     "output_type": "stream",
     "text": [
      "번호\t국어\t영어\t수학\t총점\t   평균\n",
      "-----------------------------------------------\n",
      "1\t100\t100\t100\t300\t100.00\t\n",
      "2\t 20\t 20\t 20\t 60\t 20.00\t\n",
      "3\t 30\t 30\t 30\t 90\t 30.00\t\n",
      "4\t 40\t 40\t 40\t120\t 40.00\t\n",
      "5\t 50\t 50\t 50\t150\t 50.00\t\n",
      "-----------------------------------------------\n",
      "총점\t240\t240\t240\t720\t240.00\n"
     ]
    }
   ],
   "source": [
    "# 문제 풀이\n",
    "score = [[100,100,100],\n",
    "         [20,20,20],\n",
    "         [30,30,30],\n",
    "         [40,40,40],\n",
    "         [50,50,50]]\n",
    "# 과목별 총점\n",
    "korTotal = 0\n",
    "engTotal = 0\n",
    "mathTotal = 0\n",
    "\n",
    "# 전체합계와 평균을 저장하기 위한 변수\n",
    "totalSum = 0\n",
    "avg = 0.0\n",
    "# 출력 상단부 \n",
    "print(f\"번호\\t국어\\t영어\\t수학\\t총점\\t   평균\") \n",
    "print(f\"-----------------------------------------------\")\n",
    "for i in range(len(score)):\n",
    "    Sum = 0 # 개인별 총점\n",
    "    average = 0 # 개인별 평균\n",
    "    korTotal += score[i][0] # 국어 점수 누적\n",
    "    engTotal += score[i][1] # 영어 점수 누적\n",
    "    mathTotal += score[i][2] # 수학 점수 누적\n",
    "    # 번호를 출력하는 부분\n",
    "    print(f\"{i+1}\",end=\"\\t\")\n",
    "    for j in range(len(score[i])):        \n",
    "        Sum += score[i][j] # 개인별 총점\n",
    "        print(f\"{score[i][j]:>3}\",end=\"\\t\")\n",
    "    average = Sum/len(score[i]) # 개인별 평균\n",
    "    print(f\"{Sum:>3}\",end='\\t')\n",
    "    print(f\"{average:>6,.2f}\",end='\\t')\n",
    "    print()\n",
    "        \n",
    "    totalSum += Sum # 총합\n",
    "    avg += average # 전체 평균\n",
    "\n",
    "print(f\"-----------------------------------------------\")\n",
    "print(f\"총점\\t{korTotal:>3}\\t{engTotal:>3}\\t{mathTotal:>3}\\t{totalSum:>3}\\t{avg:>6,.2f}\")"
   ]
  }
 ],
 "metadata": {
  "kernelspec": {
   "display_name": "Python 3",
   "language": "python",
   "name": "python3"
  },
  "language_info": {
   "codemirror_mode": {
    "name": "ipython",
    "version": 3
   },
   "file_extension": ".py",
   "mimetype": "text/x-python",
   "name": "python",
   "nbconvert_exporter": "python",
   "pygments_lexer": "ipython3",
   "version": "3.8.8"
  }
 },
 "nbformat": 4,
 "nbformat_minor": 5
}
