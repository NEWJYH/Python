{
 "cells": [
  {
   "cell_type": "code",
   "execution_count": 5,
   "id": "cc7f0176",
   "metadata": {},
   "outputs": [
    {
     "name": "stdout",
     "output_type": "stream",
     "text": [
      "scores의 주소값 1878955272448\n",
      "refer의 주소값 1878955272448\n",
      "-----------------------------------\n",
      "scores의 주소값 1878955272448\n",
      "refer의 주소값 1878955272448\n",
      "refer [100, -100, 20, 30, 40, 50, -70]\n",
      "scores [100, -100, 20, 30, 40, 50, -70]\n"
     ]
    }
   ],
   "source": [
    "# 리스트 복사하기\n",
    "# 얕은 복사(shallow copy) : \n",
    "# 주소값을 공유하는 개념, 원본 리스트에 영향을 끼치는 복사 방법\n",
    "# 진정한 복사가 아니다.\n",
    "scores = [10,20,30,40,50]\n",
    "refer = scores # scores의 주소값을 refer 변수에게 복사\n",
    "print(f\"scores의 주소값 {id(scores)}\")\n",
    "print(f\"refer의 주소값 {id(refer)}\")\n",
    "print(\"-----------------------------------\")\n",
    "\n",
    "refer[0] = 100\n",
    "refer.append(-70)\n",
    "refer.insert(1,-100)\n",
    "print(f\"scores의 주소값 {id(scores)}\")\n",
    "print(f\"refer의 주소값 {id(refer)}\")\n",
    "print(f\"refer {refer}\")\n",
    "print(f\"scores {scores}\")"
   ]
  },
  {
   "cell_type": "code",
   "execution_count": 19,
   "id": "2e96c7d3",
   "metadata": {},
   "outputs": [
    {
     "name": "stdout",
     "output_type": "stream",
     "text": [
      "list() 사용\n",
      "scores의 주소값 1878953979136\n",
      "refer의 주소값 1878954680256\n",
      "refer [100, 20, -123, 30, 40, 50, -500]\n",
      "scores [10, 20, 30, 40, 50]\n",
      "scores의 주소값 1878953979136\n",
      "refer의 주소값 1878954680256\n",
      "=================================\n",
      "copy모듈의 copy 사용\n",
      "scores의 주소값 1878955272384\n",
      "refer의 주소값 1878953979712\n",
      "refer [100, 20, -123, 30, 40, 50, -500]\n",
      "scores [10, 20, 30, 40, 50]\n",
      "scores의 주소값 1878955272384\n",
      "refer의 주소값 1878953979712\n",
      "=================================\n",
      "copy모듈의 deepcopy 사용\n",
      "scores의 주소값 1878954680256\n",
      "refer의 주소값 1878955714304\n",
      "refer [100, 20, -123, 30, 40, 50, -500]\n",
      "scores [10, 20, 30, 40, 50]\n",
      "scores의 주소값 1878954680256\n",
      "refer의 주소값 1878955714304\n",
      "=================================\n",
      "[:]을 이용하여 깊은 복사\n",
      "scores의 주소값 1878953979712\n",
      "refer의 주소값 1878953979072\n",
      "refer [100, 20, -123, 30, 40, 50, -500]\n",
      "scores [10, 20, 30, 40, 50]\n",
      "scores의 주소값 1878953979712\n",
      "refer의 주소값 1878953979072\n"
     ]
    }
   ],
   "source": [
    "# 리스트 복사하기\n",
    "\n",
    "# 깊은 복사(deep copy):\n",
    "# 주소값을 공유하는 얕은 복사가 아니라 새로운 리스트 객체를 생성해서\n",
    "# 새로운 주소값이 할당이 되어 원본 리스트 객체에는 전혀 영향을 끼치지 않는다.\n",
    "# 아래와 같이 3가지 방법으로 만든 리스트가 새로운 객체가 된다.\n",
    "# 하여 깊은 복사가 진정한 복사의 방법이다.\n",
    "\n",
    "# ----deepcopy()!!(뮤터블원소도 깊은 복사가됨)\n",
    "# list(),[;],copy()는 뮤터블 원소는 얕은 복사됨\n",
    "\n",
    "\n",
    "# 3가지 방법\n",
    "\n",
    "# 1번째 방법 list()를 이용하는 방법\n",
    "print(\"list() 사용\")\n",
    "scores = [10,20,30,40,50]\n",
    "refer = list(scores)\n",
    "print(f\"scores의 주소값 {id(scores)}\")\n",
    "print(f\"refer의 주소값 {id(refer)}\")\n",
    "refer[0] = 100\n",
    "refer.append(-500)\n",
    "refer.insert(2,-123)\n",
    "print(f\"refer {refer}\")\n",
    "print(f\"scores {scores}\")\n",
    "print(f\"scores의 주소값 {id(scores)}\")\n",
    "print(f\"refer의 주소값 {id(refer)}\")\n",
    "# 뮤터블 객체를 복사한다면 얕은 복사입니다.\n",
    "print(\"=================================\")\n",
    "\n",
    "\n",
    "# 2번째 방법 copy 모듈에 copy()\n",
    "print(\"copy모듈의 copy 사용\")\n",
    "import copy\n",
    "scores = [10,20,30,40,50]\n",
    "refer = copy.copy(scores)\n",
    "print(f\"scores의 주소값 {id(scores)}\")\n",
    "print(f\"refer의 주소값 {id(refer)}\")\n",
    "refer[0] = 100\n",
    "refer.append(-500)\n",
    "refer.insert(2,-123)\n",
    "print(f\"refer {refer}\")\n",
    "print(f\"scores {scores}\")\n",
    "print(f\"scores의 주소값 {id(scores)}\")\n",
    "print(f\"refer의 주소값 {id(refer)}\")\n",
    "# 뮤터블 객체를 복사한다면 얕은 복사입니다.\n",
    "print(\"=================================\")\n",
    "\n",
    "# 2번째 방법 copy 모듈에 deepcopy()\n",
    "print(\"copy모듈의 deepcopy 사용\")\n",
    "scores = [10,20,30,40,50]\n",
    "refer = copy.deepcopy(scores)\n",
    "print(f\"scores의 주소값 {id(scores)}\")\n",
    "print(f\"refer의 주소값 {id(refer)}\")\n",
    "refer[0] = 100\n",
    "refer.append(-500)\n",
    "refer.insert(2,-123)\n",
    "print(f\"refer {refer}\")\n",
    "print(f\"scores {scores}\")\n",
    "print(f\"scores의 주소값 {id(scores)}\")\n",
    "print(f\"refer의 주소값 {id(refer)}\")\n",
    "# 뮤터블 객체에도 깊은 복사가 일어납니다.\n",
    "print(\"=================================\")\n",
    "\n",
    "# 3번째 방법 [:] 인덱스를 이용하여 깊은 복사를 하는 방법\n",
    "print(\"[:]을 이용하여 깊은 복사\")\n",
    "scores = [10,20,30,40,50]\n",
    "refer = scores[:]\n",
    "print(f\"scores의 주소값 {id(scores)}\")\n",
    "print(f\"refer의 주소값 {id(refer)}\")\n",
    "refer[0] = 100\n",
    "refer.append(-500)\n",
    "refer.insert(2,-123)\n",
    "print(f\"refer {refer}\")\n",
    "print(f\"scores {scores}\")\n",
    "print(f\"scores의 주소값 {id(scores)}\")\n",
    "print(f\"refer의 주소값 {id(refer)}\")\n",
    "# 뮤터블 객체를 복사한다면 얕은 복사입니다."
   ]
  },
  {
   "cell_type": "code",
   "execution_count": 21,
   "id": "c978d445",
   "metadata": {},
   "outputs": [
    {
     "name": "stdout",
     "output_type": "stream",
     "text": [
      "y = 안녕 address = 1878955632272\n",
      "x = 안녕 address = 1878955632272\n",
      "x = 안녕하세요 address = 1878955633040\n",
      "y = 안녕 address = 1878955632272\n"
     ]
    }
   ],
   "source": [
    "# call by value , call by reference\n",
    "\n",
    "def func(x):\n",
    "    print(f\"x = {x} address = {id(x)}\")\n",
    "    x += \"하세요\"\n",
    "    print(f\"x = {x} address = {id(x)}\")\n",
    "    \n",
    "y = \"안녕\"\n",
    "print(f\"y = {y} address = {id(y)}\")\n",
    "func(y)\n",
    "print(f\"y = {y} address = {id(y)}\")"
   ]
  },
  {
   "cell_type": "code",
   "execution_count": 22,
   "id": "6e208f93",
   "metadata": {},
   "outputs": [
    {
     "name": "stdout",
     "output_type": "stream",
     "text": [
      "y = [10, 20, 30] address = 1878953978496\n",
      "x = [10, 20, 30] address = 1878953978496\n",
      "x = [10, 20, 30, 40] address = 1878953978496\n",
      "y = [10, 20, 30, 40] address = 1878953978496\n"
     ]
    }
   ],
   "source": [
    "def func_list(x):\n",
    "    print(f\"x = {x} address = {id(x)}\")\n",
    "    x.append(40)\n",
    "    print(f\"x = {x} address = {id(x)}\")\n",
    "\n",
    "y = [10, 20, 30]   \n",
    "print(f\"y = {y} address = {id(y)}\")\n",
    "func_list(y)\n",
    "print(f\"y = {y} address = {id(y)}\")"
   ]
  }
 ],
 "metadata": {
  "kernelspec": {
   "display_name": "Python 3",
   "language": "python",
   "name": "python3"
  },
  "language_info": {
   "codemirror_mode": {
    "name": "ipython",
    "version": 3
   },
   "file_extension": ".py",
   "mimetype": "text/x-python",
   "name": "python",
   "nbconvert_exporter": "python",
   "pygments_lexer": "ipython3",
   "version": "3.8.8"
  }
 },
 "nbformat": 4,
 "nbformat_minor": 5
}
