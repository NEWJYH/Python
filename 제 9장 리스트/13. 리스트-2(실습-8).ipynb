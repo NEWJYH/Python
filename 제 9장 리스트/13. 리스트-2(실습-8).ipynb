{
 "cells": [
  {
   "cell_type": "code",
   "execution_count": 10,
   "id": "443db6ad",
   "metadata": {},
   "outputs": [
    {
     "name": "stdout",
     "output_type": "stream",
     "text": [
      "해당하는 값들을 출력해보기\n",
      "[[1, 2, 3, 4, 5], [6, 7, 8, 9, 10], [11, 12, 13, 14, 15]]\n",
      "[1, 2, 3, 4, 5]\n",
      "[6, 7, 8, 9, 10]\n",
      "[11, 12, 13, 14, 15]\n",
      "---------------------\n",
      "해당하는 리스트의 주소값 출력해보기\n",
      "2670007184256\n",
      "2670007183872\n",
      "2670007183936\n",
      "2670007184000\n",
      "---------------------\n",
      "해당하는 리스트의 길이를 출력해보기\n",
      "3\n",
      "5\n",
      "5\n",
      "5\n",
      "---------------------\n",
      "1\t2\t3\t4\t5\t\n",
      "6\t7\t8\t9\t10\t\n",
      "11\t12\t13\t14\t15\t\n"
     ]
    }
   ],
   "source": [
    "# 2차원 리스트에 대한 실습\n",
    "double_list =[[1,2,3,4,5],\n",
    "              [6,7,8,9,10],\n",
    "              [11,12,13,14,15]]\n",
    "\n",
    "# 해당하는 값들을 출력해보기\n",
    "print(\"해당하는 값들을 출력해보기\")\n",
    "print(double_list)\n",
    "print(double_list[0])\n",
    "print(double_list[1])\n",
    "print(double_list[2])\n",
    "print(\"---------------------\")\n",
    "# 해당하는 리스트의 주소값을 출력해보기\n",
    "print(\"해당하는 리스트의 주소값 출력해보기\")\n",
    "print(id(double_list))\n",
    "print(id(double_list[0]))\n",
    "print(id(double_list[1]))\n",
    "print(id(double_list[2]))\n",
    "print(\"---------------------\")\n",
    "# 해당하는 리스트의 길이를 출력해보기\n",
    "print(\"해당하는 리스트의 길이를 출력해보기\")\n",
    "print(len(double_list))\n",
    "print(len(double_list[0]))\n",
    "print(len(double_list[1]))\n",
    "print(len(double_list[2]))\n",
    "print(\"---------------------\")\n",
    "\n",
    "# 2차원 리스트의 출력을 할려면 반드시 더블루프를 사용해야 한다.\n",
    "for i in range(len(double_list)):\n",
    "    for j in range(len(double_list[i])):\n",
    "        print(double_list[i][j], end=\"\\t\")\n",
    "    print()"
   ]
  },
  {
   "cell_type": "code",
   "execution_count": 16,
   "id": "995b0a86",
   "metadata": {},
   "outputs": [
    {
     "name": "stdout",
     "output_type": "stream",
     "text": [
      "원하는 행을 입력해주세요 : 5\n",
      "원하는 열을 입력해주세요 : 5\n",
      "[[0, 0, 0, 0, 0], [0, 0, 0, 0, 0], [0, 0, 0, 0, 0], [0, 0, 0, 0, 0], [0, 0, 0, 0, 0]]\n",
      "[[0, 0, 0, 0, 0], [0, 0, 0, 0, 0], [0, 0, 0, 0, 0], [0, 0, 0, 0, 0], [0, 0, 0, 0, 0]]\n"
     ]
    }
   ],
   "source": [
    "# 2차원 리스트는 정적인 것보다는 동적으로 생성하여 사용하는 경우가 많다.\n",
    "rows = int(input(\"원하는 행을 입력해주세요 : \"))\n",
    "cols = int(input(\"원하는 열을 입력해주세요 : \"))\n",
    "# 일반적인 2차원 리스트 동적생성 방법\n",
    "double_list1 = []\n",
    "for row in range(rows):\n",
    "    double_list1 += [[0] * cols]\n",
    "\n",
    "# 리스트 함축을 이용한 방법 \n",
    "double_list2 = [[0]*cols for row in range(rows)]   \n",
    "\n",
    "print(double_list1)\n",
    "print(double_list2)"
   ]
  },
  {
   "cell_type": "code",
   "execution_count": 20,
   "id": "3dca3c74",
   "metadata": {},
   "outputs": [
    {
     "name": "stdout",
     "output_type": "stream",
     "text": [
      "[10, 2, 3]\n",
      "[[1, -7], [3, 4]]\n"
     ]
    }
   ],
   "source": [
    "# 1차원 리스트에서는 list1[0] 값이 변수와 동일하다.\n",
    "# 2차원 리스트에서는 list2[1][1] 값이 변수와 동일하다.\n",
    "li1 = [1,2,3]\n",
    "li1[0] = 10 # 1차원 리스트에 값을 저장하는 형태\n",
    "print(li1)\n",
    "\n",
    "li2 = [[1,2],[3,4]]\n",
    "li2[0][1] = -7 # 2차원 리스트에 값을 저장하는 형태\n",
    "print(li2)"
   ]
  },
  {
   "cell_type": "code",
   "execution_count": 26,
   "id": "da1f4ace",
   "metadata": {},
   "outputs": [
    {
     "name": "stdout",
     "output_type": "stream",
     "text": [
      "88\n",
      "True\n",
      "True\n",
      "True\n",
      "88\n"
     ]
    }
   ],
   "source": [
    "# 행의 합계를 구하는 실습\n",
    "double_list =[[1,2,3,4,5],\n",
    "              [6,7,8],\n",
    "              [11,12,14,15]]\n",
    "\n",
    "Sum1 = sum(double_list[0])\n",
    "Sum2 = sum(double_list[1])\n",
    "Sum3 = sum(double_list[2])\n",
    "print(Sum1+Sum2+Sum3)\n",
    "\n",
    "def list_sum(li):\n",
    "    hap = 0\n",
    "    for i in range(len(li)):\n",
    "        hap+= li[i]\n",
    "    return hap\n",
    "\n",
    "DSum1 = list_sum(double_list[0])\n",
    "DSum2 = list_sum(double_list[1])\n",
    "DSum3 = list_sum(double_list[2])\n",
    "\n",
    "print(Sum1 == DSum1)\n",
    "print(Sum2 == DSum2)\n",
    "print(Sum3 == DSum3)\n",
    "\n",
    "hap = 0\n",
    "for row in range(len(double_list)):\n",
    "    for col in range(len(double_list[row])):\n",
    "        hap += double_list[row][col]\n",
    "\n",
    "print(hap)"
   ]
  },
  {
   "cell_type": "code",
   "execution_count": 29,
   "id": "ebc3f1fc",
   "metadata": {},
   "outputs": [
    {
     "name": "stdout",
     "output_type": "stream",
     "text": [
      "1 0 1 0 1 0 1 0 1 0 \n",
      "0 1 0 1 0 1 0 1 0 1 \n",
      "1 0 1 0 1 0 1 0 1 0 \n",
      "0 1 0 1 0 1 0 1 0 1 \n",
      "1 0 1 0 1 0 1 0 1 0 \n",
      "0 1 0 1 0 1 0 1 0 1 \n",
      "1 0 1 0 1 0 1 0 1 0 \n",
      "0 1 0 1 0 1 0 1 0 1 \n",
      "1 0 1 0 1 0 1 0 1 0 \n",
      "0 1 0 1 0 1 0 1 0 1 \n"
     ]
    }
   ],
   "source": [
    "# 2차원 리스트 체커보드 형태로 나타내는 함수\n",
    "def printList(li):\n",
    "    for row in range(len(li)):\n",
    "        for col in range(len(li[row])):\n",
    "            print(li[row][col],end=\" \")\n",
    "        print()\n",
    "        \n",
    "# 2차원 리스트를 체커 보드 형태로 초기화 하는 함수\n",
    "def list_init(li):\n",
    "    for row in range(len(li)):\n",
    "        for col in range(len(li[row])):\n",
    "            if (row+col)%2 == 0:\n",
    "                li[row][col] = 1\n",
    "            else:\n",
    "                 li[row][col] = 0\n",
    "\n",
    "# 2차원 리스트 만드는 함수\n",
    "def make_db_list(rows,cols,num=0,li=[]):\n",
    "    li = [[num]*cols for row in range(rows)]\n",
    "    return li\n",
    "\n",
    "if __name__==\"__main__\":\n",
    "    li = make_db_list(10,10)\n",
    "    list_init(li)\n",
    "    printList(li)"
   ]
  }
 ],
 "metadata": {
  "kernelspec": {
   "display_name": "Python 3",
   "language": "python",
   "name": "python3"
  },
  "language_info": {
   "codemirror_mode": {
    "name": "ipython",
    "version": 3
   },
   "file_extension": ".py",
   "mimetype": "text/x-python",
   "name": "python",
   "nbconvert_exporter": "python",
   "pygments_lexer": "ipython3",
   "version": "3.8.8"
  }
 },
 "nbformat": 4,
 "nbformat_minor": 5
}
