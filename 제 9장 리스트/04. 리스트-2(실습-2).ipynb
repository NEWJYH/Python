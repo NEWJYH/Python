{
 "cells": [
  {
   "cell_type": "code",
   "execution_count": 1,
   "id": "3d5487bd",
   "metadata": {},
   "outputs": [
    {
     "name": "stdout",
     "output_type": "stream",
     "text": [
      "[1, 4, 9, 16, 25, 36, 49, 64, 81, 100]\n"
     ]
    }
   ],
   "source": [
    "# 리스트 함축\n",
    "# 리스트 함축은 수학에서 집합을 정의 하는 것과 매우 유사하다.\n",
    "\n",
    "# 일반적 코드(리스트 함축을 사용하지 않은 경우)\n",
    "squares = []\n",
    "for x in range(1,11):\n",
    "    squares.append(x**2)\n",
    "print(squares)"
   ]
  },
  {
   "cell_type": "code",
   "execution_count": 2,
   "id": "002d6b22",
   "metadata": {},
   "outputs": [
    {
     "name": "stdout",
     "output_type": "stream",
     "text": [
      "[1, 4, 9, 16, 25, 36, 49, 64, 81, 100]\n"
     ]
    }
   ],
   "source": [
    "# 리스트 함축 개념을 이용하여 위와 똑같은 결과 출력하기\n",
    "# 위의 일반적인 코드보다 코드가 간결하고 쉽게 리스트를 생성 할 수 있다.\n",
    "# 리스트 함축 문법 : 출력식 반복문 조건문(옵션)\n",
    "squares = [x**2 for x in range(1,11)]\n",
    "print(squares)"
   ]
  },
  {
   "cell_type": "code",
   "execution_count": 5,
   "id": "703f77dc",
   "metadata": {},
   "outputs": [
    {
     "name": "stdout",
     "output_type": "stream",
     "text": [
      "홀수 :  [1, 3, 5, 7, 9, 11, 13, 15, 17, 19]\n",
      "짝수 :  [2, 4, 6, 8, 10, 12, 14, 16, 18, 20]\n"
     ]
    }
   ],
   "source": [
    "# 조건이 붙는 리스트 함축(조건문 if를 사용하겠다.)\n",
    "# 조건식이 참이 되는 것만 리스트 요소로 생성시킨다.\n",
    "odd_list = [x for x in range(1,21) if x % 2 != 0]\n",
    "print(\"홀수 : \",odd_list)\n",
    "even_list = [x for x in range(1,21) if x % 2 == 0]\n",
    "print(\"짝수 : \",even_list)"
   ]
  },
  {
   "cell_type": "code",
   "execution_count": 11,
   "id": "e86de6b8",
   "metadata": {},
   "outputs": [
    {
     "name": "stdout",
     "output_type": "stream",
     "text": [
      "2 단 :  [2, 4, 6, 8, 10, 12, 14, 16, 18]\n",
      "3 단 :  [3, 6, 9, 12, 15, 18, 21, 24, 27]\n",
      "4 단 :  [4, 8, 12, 16, 20, 24, 28, 32, 36]\n",
      "5 단 :  [5, 10, 15, 20, 25, 30, 35, 40, 45]\n",
      "6 단 :  [6, 12, 18, 24, 30, 36, 42, 48, 54]\n",
      "7 단 :  [7, 14, 21, 28, 35, 42, 49, 56, 63]\n",
      "8 단 :  [8, 16, 24, 32, 40, 48, 56, 64, 72]\n",
      "9 단 :  [9, 18, 27, 36, 45, 54, 63, 72, 81]\n"
     ]
    }
   ],
   "source": [
    "# 반복문 2번 사용하여 구구단의 값을 출력해보자.\n",
    "gugudan_list = [i*j for i in range(2,10) for j in range(1,10)]\n",
    "a = 0\n",
    "b = 0\n",
    "for i in range(2,10):\n",
    "    a = 9*(i-1)\n",
    "    print( i, \"단 : \",gugudan_list[b:9*(i-1)])\n",
    "    b = a "
   ]
  },
  {
   "cell_type": "code",
   "execution_count": 14,
   "id": "88b2a4e8",
   "metadata": {},
   "outputs": [
    {
     "name": "stdout",
     "output_type": "stream",
     "text": [
      "['K', '대', '서', '한', 'E']\n",
      "['A', '국', '시', '산', 'D']\n"
     ]
    }
   ],
   "source": [
    "# 문자열에 대한 리스트 함축\n",
    "list1 = [\"KOREA\",\"대한민국\",\"서울특별시\",\"한라산\",\"END\"]\n",
    "list2 = [word[0] for word in list1]\n",
    "print(list2)\n",
    "list2 = [word[-1] for word in list1]\n",
    "print(list2)"
   ]
  },
  {
   "cell_type": "code",
   "execution_count": 15,
   "id": "4b73cee3",
   "metadata": {},
   "outputs": [
    {
     "name": "stdout",
     "output_type": "stream",
     "text": [
      "[5, 4, 5, 3, 3]\n"
     ]
    }
   ],
   "source": [
    "# 문자열의 길이만 가지는 리스트를 생성하는 예제\n",
    "list1 = [\"KOREA\",\"대한민국\",\"서울특별시\",\"한라산\",\"END\"]\n",
    "list2 = [len(word) for word in list1]\n",
    "print(list2)"
   ]
  },
  {
   "cell_type": "code",
   "execution_count": 20,
   "id": "048208bb",
   "metadata": {},
   "outputs": [
    {
     "name": "stdout",
     "output_type": "stream",
     "text": [
      "['흰색-그랜저', '흰색-소나타', '흰색-스파크', '흰색-아반떼', '흰색-봉고', '브라운-그랜저', '브라운-소나타', '브라운-스파크', '브라운-아반떼', '브라운-봉고', '검정색-그랜저', '검정색-소나타', '검정색-스파크', '검정색-아반떼', '검정색-봉고']\n"
     ]
    }
   ],
   "source": [
    "# 상호곱(cross Product)\n",
    "colors = [\"흰색\",\"브라운\",\"검정색\"]\n",
    "cars = [\"그랜저\",\"소나타\",\"스파크\",\"아반떼\",\"봉고\"]\n",
    "colors_cars=[x+\"-\"+y for x in colors \n",
    "                     for y in cars]\n",
    "print(colors_cars)"
   ]
  }
 ],
 "metadata": {
  "kernelspec": {
   "display_name": "Python 3",
   "language": "python",
   "name": "python3"
  },
  "language_info": {
   "codemirror_mode": {
    "name": "ipython",
    "version": 3
   },
   "file_extension": ".py",
   "mimetype": "text/x-python",
   "name": "python",
   "nbconvert_exporter": "python",
   "pygments_lexer": "ipython3",
   "version": "3.8.8"
  }
 },
 "nbformat": 4,
 "nbformat_minor": 5
}
