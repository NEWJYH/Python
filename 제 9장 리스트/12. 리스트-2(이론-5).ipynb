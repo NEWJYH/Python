{
 "cells": [
  {
   "cell_type": "markdown",
   "id": "d5727ee3",
   "metadata": {},
   "source": [
    "5. 2차원 리스트란?"
   ]
  },
  {
   "cell_type": "markdown",
   "id": "dc3a91ad",
   "metadata": {},
   "source": [
    "1) 2차원 리스트\n",
    "    - 2차원 테이블을 이용하여 많은 일들을 처리한다.\n",
    "      예를 들어서 학생들의 과목별 성적도 2차원 형태로 나타낼 수 있다.\n",
    "      \n",
    "      학생    국어     영어    수학    과학    사회\n",
    "      김철수  1        2      3       4      5\n",
    "      김영희  6        7      8       9      10\n",
    "      최지영  11       12     13      14     15\n",
    "      \n",
    "    - 파이썬에서는 리스트를 2차원으로 만들수 있다.\n",
    "      행렬과 같은 개념으로 이해를 하면 편리할 것이다.\n",
    "      \n",
    "            1열      2열       3열       4열        5열\n",
    "      \n",
    "    1행   s[0][0]  s[0][1]   s[0][2]  s[0][3]    s[0][4]\n",
    "  \n",
    "    2행   s[1][0]  s[1][1]   s[1][2]  s[1][3]    s[1][4]\n",
    "    \n",
    "    3행   s[2][0]  s[2][1]   s[2][2]  s[2][3]    s[2][4]"
   ]
  },
  {
   "cell_type": "code",
   "execution_count": 15,
   "id": "3877734c",
   "metadata": {},
   "outputs": [
    {
     "name": "stdout",
     "output_type": "stream",
     "text": [
      "2차원 리스트 출력\n",
      "  1  2  3  4  5\n",
      "  6  7  8  9 10\n",
      " 11 12 13 14 15\n"
     ]
    }
   ],
   "source": [
    "lista = [[1,2,3,4,5],\n",
    "        [6,7,8,9,10],\n",
    "        [11,12,13,14,15]]\n",
    "\n",
    "# 위 아래는 같다 .\n",
    "\n",
    "lista = [[1,2,3,4,5], [6,7,8,9,10], [11,12,13,14,15]]\n",
    "\n",
    "\n",
    "print(\"2차원 리스트 출력\")\n",
    "for i in range(len(lista)):\n",
    "    for j in range(len(lista[i])):\n",
    "        print(f\"{lista[i][j]:>3}\",end=\"\")\n",
    "    print()"
   ]
  },
  {
   "cell_type": "markdown",
   "id": "5032726d",
   "metadata": {},
   "source": [
    "2) 2차원 리스트 예제와 연결 구조\n",
    "    - 2차원 리스트의 예제는 아래와 같다."
   ]
  },
  {
   "cell_type": "code",
   "execution_count": 11,
   "id": "b4ff0d48",
   "metadata": {},
   "outputs": [
    {
     "name": "stdout",
     "output_type": "stream",
     "text": [
      "[[1, 2, 3, 4, 5], [6, 7, 8, 9, 10], [11, 12, 13, 14, 15]]\n",
      "True\n"
     ]
    }
   ],
   "source": [
    "a = [1,2,3,4,5]\n",
    "b = [6,7,8,9,10]\n",
    "c = [11,12,13,14,15]\n",
    "s = [a, b, c]\n",
    "a = [[1,2,3,4,5], [6,7,8,9,10], [11,12,13,14,15]]\n",
    "print(s)\n",
    "print(s == a) # True"
   ]
  },
  {
   "cell_type": "markdown",
   "id": "8f391971",
   "metadata": {},
   "source": [
    "2) 2차원 리스트 예제와 연결 구조\n",
    "    - 위의 코드에서 리스트 [1,2,3,4,5]가 첫 번째 행을 나타내고 \n",
    "      리스트 [6,7,8,9,10] 이 두 번째 행을 나타낸다.\n",
    "      파이썬 튜터를 이용하여 그림의 개념을 확인해보자."
   ]
  },
  {
   "cell_type": "markdown",
   "id": "9596e308",
   "metadata": {},
   "source": [
    "3) 2차원 리스트 동적 생성\n",
    "    - 위의 2차원 리스트는 초기값이 미리 결정되어 있어서 정적으로 \n",
    "      생성되었다.\n",
    "      실제로는 동적으로 2차원 리스트를 생성하는 경우가 더 많다.\n",
    "      리스트의 크기가 매우 큰 경우에도 동적으로 생성하여야 한다.\n",
    "      가장 많이 사용되는 방법부터 살펴보자."
   ]
  },
  {
   "cell_type": "code",
   "execution_count": 18,
   "id": "cde45207",
   "metadata": {},
   "outputs": [
    {
     "name": "stdout",
     "output_type": "stream",
     "text": [
      "t = [[0, 0, 0, 0, 0], [0, 0, 0, 0, 0], [0, 0, 0, 0, 0]]\n",
      "s = [[0, 0, 0, 0, 0], [0, 0, 0, 0, 0], [0, 0, 0, 0, 0]]\n"
     ]
    }
   ],
   "source": [
    "# 동적으로 2차원 리스트를 생성한다.\n",
    "rows = 3 # 행\n",
    "cols = 5 # 열 \n",
    "\n",
    "\n",
    "t = []\n",
    "for row in range(rows):\n",
    "    t += [[0]*cols]\n",
    "print(f\"t = {t}\")\n",
    "# t = [[0, 0, 0, 0, 0], [0, 0, 0, 0, 0], [0, 0, 0, 0, 0]]\n",
    "\n",
    "s = [([0]*cols) for row in range(rows)] # 리스트 함축\n",
    "print(f\"s = {s}\")\n",
    "# s = [[0, 0, 0, 0, 0], [0, 0, 0, 0, 0], [0, 0, 0, 0, 0]]"
   ]
  },
  {
   "cell_type": "markdown",
   "id": "922c72f4",
   "metadata": {},
   "source": [
    "4) 2차원 리스트 요소 접근\n",
    "    - 2차원 리스트에서 요소에 접근하려면 2개의 인덱스 번호를 지정해야한다.\n",
    "      첫 번째 번호가 행 번호이고, 두 번째 번호가 열 번호이다.\n",
    "      예를 들어서 2차원 리스트 s에서 2번째 행의 1번째 열에 있는 요소는\n",
    "      s[2][1]가 된다.\n",
    "      \n",
    "    - 2차원 리스트에 저장된 모든 값을 출력하려면 아래와 같이 \n",
    "      더블 루프를 사용하여야 한다."
   ]
  },
  {
   "cell_type": "code",
   "execution_count": 19,
   "id": "4864f4eb",
   "metadata": {},
   "outputs": [
    {
     "name": "stdout",
     "output_type": "stream",
     "text": [
      "1\t2\t3\t4\t5\t\n",
      "6\t7\t8\t9\t10\t\n",
      "11\t12\t13\t14\t15\t\n"
     ]
    }
   ],
   "source": [
    "s = [[1,2,3,4,5], [6,7,8,9,10], [11,12,13,14,15]]\n",
    "# 행과 열의 개수를 구한다.\n",
    "rows = len(s)\n",
    "cols = len(s[0])\n",
    "for i in range(rows):\n",
    "    for j in range(cols):\n",
    "        print(s[i][j], end =\"\\t\")\n",
    "    print()\n",
    "        "
   ]
  },
  {
   "cell_type": "markdown",
   "id": "ef87ab83",
   "metadata": {},
   "source": [
    "4) 2차원 리스트 요소 접근\n",
    "    - 여기서 len(s)는 행의 개수이고 len(s[0])은 첫번째 행에 들어 있는\n",
    "      열의 개수이다.\n",
    "      리스트 안에 다른 리스트를 내장하는 것도 가능하다.\n",
    "      이것은 실제 프로그래밍에서 많이 사용된다."
   ]
  },
  {
   "cell_type": "code",
   "execution_count": 26,
   "id": "5ebea784",
   "metadata": {},
   "outputs": [
    {
     "name": "stdout",
     "output_type": "stream",
     "text": [
      "[['a', 'b', 'c'], [1, 2, 3]]\n"
     ]
    }
   ],
   "source": [
    "a = ['a','b','c']\n",
    "n = [1,2,3]\n",
    "x = [a,n] # 리스트 x안에 a와 n이 들어있다.\n",
    "print(x)"
   ]
  },
  {
   "cell_type": "markdown",
   "id": "44e751e8",
   "metadata": {},
   "source": [
    "6. 2차원 리스트 연산"
   ]
  },
  {
   "cell_type": "markdown",
   "id": "27b20d0b",
   "metadata": {},
   "source": [
    "1) 행 합계 계산\n",
    "    - 아마 2차원 리스트에서 가장 기본적인 연산은 행의 합계나 \n",
    "      열의 합계일 것이다.\n",
    "      엑셀에서의 작업을 떠올리면 될 것이다.\n",
    "      0번째 행의 합계를 계산해보면 다음과 같다."
   ]
  },
  {
   "cell_type": "code",
   "execution_count": 54,
   "id": "28ebb791",
   "metadata": {
    "scrolled": true
   },
   "outputs": [
    {
     "name": "stdout",
     "output_type": "stream",
     "text": [
      "15\n",
      "15\n"
     ]
    }
   ],
   "source": [
    "s = [[1,2,3,4,5], [6,7,8,9,10], [11,12,13,14,15]]\n",
    "cols = len(s[0])\n",
    "Sum = 0\n",
    "\n",
    "for i in range(cols):\n",
    "    Sum += s[0][i]\n",
    "print(Sum)\n",
    "\n",
    "Sum = sum(s[0])\n",
    "print(Sum)\n",
    "\n",
    "# 예약어 를 변수로 사용했을 경우 \n",
    "# 예약어를 다시 쓰려고 하면 TypeError: 'int' object is not callable\n",
    "# Error가 발생한다.\n",
    "# 이럴 경우 예약어 변수를 다른 변수로 옮기고 \n",
    "# del 변수명 \n",
    "# 해주면 정상적으로 사용할수 있다."
   ]
  },
  {
   "cell_type": "markdown",
   "id": "c0dce887",
   "metadata": {},
   "source": [
    "2) 요소 접근하기\n",
    "    - 2차원 리스트는 이미지를 처리할 때도 사용된다.\n",
    "      이미지도 본질적으로 각 화소(픽셀)의 값을 2차원적으로 나열한 \n",
    "      것이기 때문이다.\n",
    "      하나의 화소에서 이웃 화소들의 인덱스를 찾아보자.\n",
    "      즉, 화소의 위치가 (r,c)라고 했을 때, 상하좌우에 있는 화소들의\n",
    "      인덱스는 얼마가 될까?\n",
    "      \n",
    "      (r-1,c-1) (r-1,c) (r-1,c+1)\n",
    "      (r,c-1)    (r,c)  (r,c+1)\n",
    "      (r+1,c-1) (r+1,c) (r+1,c+1)"
   ]
  },
  {
   "cell_type": "markdown",
   "id": "384bfa8d",
   "metadata": {},
   "source": [
    "3) 2차원 리스트와 함수\n",
    "    - 2차원 리스트도 객체이므로 함수로 전달할 수 있다.\n",
    "      만약 함수에서 리스트를 변경하면 원본 리스트가 변경된다.\n",
    "      하나의 예로 다음과 같이 1과 0 이 반복되는 \n",
    "      체커보드 형태의 10x10크기의 2차원 리스트를 \n",
    "      초기화하는 함수 init()를 작성하고 테스트 해보자."
   ]
  },
  {
   "cell_type": "code",
   "execution_count": 56,
   "id": "939027dd",
   "metadata": {},
   "outputs": [
    {
     "name": "stdout",
     "output_type": "stream",
     "text": [
      "1 0 1 0 1 0 1 0 1 0 \n",
      "0 1 0 1 0 1 0 1 0 1 \n",
      "1 0 1 0 1 0 1 0 1 0 \n",
      "0 1 0 1 0 1 0 1 0 1 \n",
      "1 0 1 0 1 0 1 0 1 0 \n",
      "0 1 0 1 0 1 0 1 0 1 \n",
      "1 0 1 0 1 0 1 0 1 0 \n",
      "0 1 0 1 0 1 0 1 0 1 \n",
      "1 0 1 0 1 0 1 0 1 0 \n",
      "0 1 0 1 0 1 0 1 0 1 \n"
     ]
    }
   ],
   "source": [
    "table=[]\n",
    "# 2차원 리스트를 화면에 출력한다.\n",
    "def printList(mylist):\n",
    "    for row in range(len(mylist)):\n",
    "        for col in range(len(mylist[0])):\n",
    "            print(mylist[row][col],end=\" \")\n",
    "        print()\n",
    "        \n",
    "# 2차원 리스트를 체커보드 형태로 초기화 한다.\n",
    "def init(mylist):\n",
    "    for row in range(len(mylist)):\n",
    "        for col in range(len(mylist[row])):\n",
    "            if (row+col)%2==0:# (row +col)이 짝수이면 1을 저장\n",
    "                table[row][col]=1\n",
    "                \n",
    "\n",
    "if __name__==\"__main__\":\n",
    "    for row in range(10): # 0으로 초기화된 2차원 리스트를 생성한다.\n",
    "        table +=[[0]*10]\n",
    "    init(table)\n",
    "    printList(table)"
   ]
  }
 ],
 "metadata": {
  "kernelspec": {
   "display_name": "Python 3",
   "language": "python",
   "name": "python3"
  },
  "language_info": {
   "codemirror_mode": {
    "name": "ipython",
    "version": 3
   },
   "file_extension": ".py",
   "mimetype": "text/x-python",
   "name": "python",
   "nbconvert_exporter": "python",
   "pygments_lexer": "ipython3",
   "version": "3.8.8"
  }
 },
 "nbformat": 4,
 "nbformat_minor": 5
}
