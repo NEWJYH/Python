{
 "cells": [
  {
   "cell_type": "code",
   "execution_count": 6,
   "id": "9de673a8",
   "metadata": {},
   "outputs": [
    {
     "name": "stdout",
     "output_type": "stream",
     "text": [
      "최소값 : -9\n",
      "최대값 : 100\n",
      "최소 price : 500\n",
      "최대 price : 20000\n"
     ]
    }
   ],
   "source": [
    "# 일반적인 리스트 연산들 실습\n",
    "# 최소값 최대값을 구하는 알고리즘\n",
    "\n",
    "# 아래 코드는 이미 앞서서 배운바 있다.\n",
    "# 파이썬 내장 함수를 이용하여 최소값과 최대값을 구하는 코드이다.\n",
    "num = [1,5,-9,100]\n",
    "print(\"최소값 :\",min(num))\n",
    "print(\"최대값 :\",max(num))\n",
    "\n",
    "# 최대값과 최소값을 구하는 알고리즘은 상당히 중요한 개념이므로\n",
    "# 아래의 코드를 이해 하도록 하자.\n",
    "prices = [1000,3000,500,10000,20000,700]\n",
    "# 먼저 prices[]에 있는 0번째 인덱스 값을 변수에 저장을 한다.\n",
    "lowPrice = prices[0]\n",
    "highPrice = prices[0]\n",
    "# 그후, 루프를 돌면서 조건식으로 값이 작으면 해당하는 값을\n",
    "# lowPrice 변수에 재저장\n",
    "for i in range(1,len(prices)):\n",
    "    if prices[i] < lowPrice:\n",
    "        lowPrice = prices[i]\n",
    "    if prices[i] > highPrice:\n",
    "        highPrice = prices[i]\n",
    "        \n",
    "print(f\"최소 price : {lowPrice}\")\n",
    "print(f\"최대 price : {highPrice}\")"
   ]
  },
  {
   "cell_type": "code",
   "execution_count": 10,
   "id": "d7e7d3a0",
   "metadata": {},
   "outputs": [
    {
     "name": "stdout",
     "output_type": "stream",
     "text": [
      "가장 짧은 단어 : cat\n",
      "가장   긴 단어 : tiger\n",
      "가장 짧은 단어 : 가세요\n",
      "가장   긴 단어 : 하이\n"
     ]
    }
   ],
   "source": [
    "# 문자열에서 가장 짧은 문자열을 구하는 알고리즘 코드\n",
    "words = [\"dog\",\"cat\",\"horse\",\"lion\",\"tiger\",\"elephant\"]\n",
    "print(f\"가장 짧은 단어 :\", min(words))\n",
    "print(f\"가장   긴 단어 :\", max(words))\n",
    "words = [\"안녕\",\"하이\",\"반갑습니다\",\"가세요\",\"세요\",\"오랜만입니다\"]\n",
    "print(f\"가장 짧은 단어 :\", min(words))\n",
    "print(f\"가장   긴 단어 :\", max(words))\n",
    "# 영어문자열 리스트에서 min과 max는 첫글자 아스키코드에 따라 나온다.\n",
    "# 한글문자열 리스트에서는 min과 max는 유니코드에 따라 나온다.\n",
    "# 즉 len()함수를 사용해야한다."
   ]
  },
  {
   "cell_type": "code",
   "execution_count": 26,
   "id": "aafd7571",
   "metadata": {},
   "outputs": [
    {
     "name": "stdout",
     "output_type": "stream",
     "text": [
      "cat\n",
      "['dog', 'cat']\n"
     ]
    }
   ],
   "source": [
    "# 문자열에서 가장 짧은 문자열을 구하는 알고리즘 코드\n",
    "words = [\"dog\",\"cat\",\"horse\",\"lion\",\"tiger\",\"elephant\",\"bi\"]\n",
    "shortest_word = words[0]\n",
    "list_word = []\n",
    "for i in range(1,len(words)):\n",
    "    if len(words[i]) <= len(shortest_word):\n",
    "        if len(words[i]) < len(shortest_word):\n",
    "            list_word.clear()\n",
    "            list_word.append(words[i])\n",
    "            shortest_word = words[i]\n",
    "        else:\n",
    "            list_word.append(shortest_word)\n",
    "            list_word.append(words[i])\n",
    "            shortest_word = words[i]\n",
    "    \n",
    "       \n",
    "            \n",
    "print(shortest_word)\n",
    "print(list_word)"
   ]
  }
 ],
 "metadata": {
  "kernelspec": {
   "display_name": "Python 3",
   "language": "python",
   "name": "python3"
  },
  "language_info": {
   "codemirror_mode": {
    "name": "ipython",
    "version": 3
   },
   "file_extension": ".py",
   "mimetype": "text/x-python",
   "name": "python",
   "nbconvert_exporter": "python",
   "pygments_lexer": "ipython3",
   "version": "3.8.8"
  }
 },
 "nbformat": 4,
 "nbformat_minor": 5
}
