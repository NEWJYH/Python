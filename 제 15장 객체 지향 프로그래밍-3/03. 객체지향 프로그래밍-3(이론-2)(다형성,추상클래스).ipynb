{
 "cells": [
  {
   "cell_type": "markdown",
   "id": "8583f07e",
   "metadata": {},
   "source": [
    "2. 다형성(polymorphism)"
   ]
  },
  {
   "cell_type": "markdown",
   "id": "8ca36ac4",
   "metadata": {},
   "source": [
    "1) 다형성의 개념\n",
    "    - \"여러 가지 형태를 가질 수 있는 능력\"이다.\n",
    "      물론 이 부분은 사전적 의미이며, 아울러 다형성은 보이는 이름은\n",
    "      같지만 실제 모습 혹은 행위는 다른 특징을 말한다.\n",
    "       \n",
    "    - 다형성은 크게 형식의 다형성과 메서드의 다형성으로 나눌 수 있다.\n",
    "      형식의 다형성은 특정 변수에 참조하는 인스턴스가 다를 수 있음을\n",
    "      의미한다. 그리고 메서드의 다형성은 특정 변수를 호출하는 메서드는\n",
    "      실제 참조하는 인스턴스에 따라 서로 다르게 정의한 메서드를\n",
    "      호출할수 있음을 의미한다. 아래 코드를 보자."
   ]
  },
  {
   "cell_type": "code",
   "execution_count": 2,
   "id": "ee222b7e",
   "metadata": {},
   "outputs": [
    {
     "name": "stdout",
     "output_type": "stream",
     "text": [
      "이름 : 호돌이\n",
      "종류 : 호랑이\n",
      "나이 : 8\n",
      "몸무게 : 180\n",
      "어흥\n",
      "--------------------------------\n",
      "이름 : 땡칠이\n",
      "종류 : 개\n",
      "나이 : 4\n",
      "몸무게 : 8\n",
      "멍멍\n",
      "--------------------------------\n"
     ]
    }
   ],
   "source": [
    "class Animal:\n",
    "    def __init__(self,name,age,weight,instance):\n",
    "        self.__name = name\n",
    "        self.__age = age\n",
    "        self.__weight = weight\n",
    "        self.__instance = instance\n",
    "        \n",
    "    def show(self):\n",
    "        print(f\"이름 : {self.__name}\")\n",
    "        print(f\"종류 : {self.__instance.d_name}\")        \n",
    "        print(f\"나이 : {self.__age}\")        \n",
    "        print(f\"몸무게 : {self.__weight}\")        \n",
    "        self.__instance.sound()\n",
    "        print(\"--------------------------------\")\n",
    "        \n",
    "class Tiger:\n",
    "    d_name = \"호랑이\"\n",
    "    def sound(self):\n",
    "        print(\"어흥\")\n",
    "        \n",
    "class Dog:\n",
    "    d_name = \"개\"\n",
    "    def sound(self):\n",
    "        print(\"멍멍\")\n",
    "        \n",
    "ani1 = Animal(\"호돌이\",8,180,Tiger())\n",
    "ani2 = Animal(\"땡칠이\",4,8,Dog())\n",
    "ani1.show()\n",
    "ani2.show()"
   ]
  },
  {
   "cell_type": "markdown",
   "id": "ed4920ce",
   "metadata": {},
   "source": [
    "2. 추상 클래스"
   ]
  },
  {
   "cell_type": "markdown",
   "id": "dfd2558d",
   "metadata": {},
   "source": [
    "1) 추상 클래스\n",
    "    - 파이썬은 추상 클래스(abstract class)라는 기능을 제공한다.\n",
    "      추상 클래스는 메서드의 목록만 가진 클래스이며 상속 받는 클래스에서\n",
    "      메서드 구현을 강제하기 위해 사용한다.\n",
    "      \n",
    "    - 먼저 추상 클래스를 만들려면 import로 abc 모듈을 \n",
    "      가져와야한다.(abc 모듈은 abstract base class의 약자이다.)\n",
    "      그리고 클래스의 ()(괄호) 안에 metaclass = ABCMeta를 지정하고\n",
    "      메서드를 만들 때 위에 @abstractmethod를 붙여서 \n",
    "      추상 메서드로 지정한다."
   ]
  },
  {
   "cell_type": "code",
   "execution_count": 4,
   "id": "cfb0059f",
   "metadata": {},
   "outputs": [
    {
     "ename": "TypeError",
     "evalue": "Can't instantiate abstract class Student with abstract methods go_to_school",
     "output_type": "error",
     "traceback": [
      "\u001b[1;31m---------------------------------------------------------------------------\u001b[0m",
      "\u001b[1;31mTypeError\u001b[0m                                 Traceback (most recent call last)",
      "\u001b[1;32m<ipython-input-4-16a6019097f9>\u001b[0m in \u001b[0;36m<module>\u001b[1;34m\u001b[0m\n\u001b[0;32m     15\u001b[0m         \u001b[0mprint\u001b[0m\u001b[1;33m(\u001b[0m\u001b[1;34m\"공부하기\"\u001b[0m\u001b[1;33m)\u001b[0m\u001b[1;33m\u001b[0m\u001b[1;33m\u001b[0m\u001b[0m\n\u001b[0;32m     16\u001b[0m \u001b[1;33m\u001b[0m\u001b[0m\n\u001b[1;32m---> 17\u001b[1;33m \u001b[0mjames\u001b[0m \u001b[1;33m=\u001b[0m \u001b[0mStudent\u001b[0m\u001b[1;33m(\u001b[0m\u001b[1;33m)\u001b[0m\u001b[1;33m\u001b[0m\u001b[1;33m\u001b[0m\u001b[0m\n\u001b[0m\u001b[0;32m     18\u001b[0m \u001b[0mjames\u001b[0m\u001b[1;33m.\u001b[0m\u001b[0mstudy\u001b[0m\u001b[1;33m(\u001b[0m\u001b[1;33m)\u001b[0m\u001b[1;33m\u001b[0m\u001b[1;33m\u001b[0m\u001b[0m\n",
      "\u001b[1;31mTypeError\u001b[0m: Can't instantiate abstract class Student with abstract methods go_to_school"
     ]
    }
   ],
   "source": [
    "from abc import * \n",
    "\n",
    "class StudentBase(metaclass = ABCMeta):\n",
    "    @abstractmethod\n",
    "    def study(self):\n",
    "        pass\n",
    "    \n",
    "    @abstractmethod\n",
    "    def go_to_school(self):\n",
    "        pass\n",
    "    \n",
    "\n",
    "class Student(StudentBase):\n",
    "    def study(self):\n",
    "        print(\"공부하기\")\n",
    "        \n",
    "james = Student()\n",
    "james.study()"
   ]
  },
  {
   "cell_type": "markdown",
   "id": "30cdb27d",
   "metadata": {},
   "source": [
    "1) 추상 클래스\n",
    "    - 실행을 해보면 에러가 발생합니다.\n",
    "      이유는 추상 클래스 StudentBase에서는 추상 메서드로 study와\n",
    "      go_to_school을 구현했다. 하지만 StudentBase를 상속받은\n",
    "      Student에서 study메서드만 구현하고, go_to_school 메서드는\n",
    "      구현하지 않았으므로 에러가 발생한다.\n",
    "      그 이유는 추상 메서드를 하나라도 구현하지 않았다면\n",
    "      추상 클래스는 인스턴스를 생성할 수가 없기 때문이다."
   ]
  },
  {
   "cell_type": "markdown",
   "id": "b9093165",
   "metadata": {},
   "source": [
    "1) 추상 클래스\n",
    "    - 추상 클래스를 상속 받앗다면 @(어노테이이션)absctractmethod가 붙은\n",
    "      추상 메서드를 모두 구현해야 한다.\n",
    "      다음과 같이 Student 클래스에서 go_to_school() 메서드도 \n",
    "      구현해 주도록 한다."
   ]
  },
  {
   "cell_type": "code",
   "execution_count": 9,
   "id": "024a1e78",
   "metadata": {
    "scrolled": true
   },
   "outputs": [
    {
     "name": "stdout",
     "output_type": "stream",
     "text": [
      "공부하기\n",
      "학교가기\n"
     ]
    }
   ],
   "source": [
    "from abc import * \n",
    "\n",
    "class StudentBase(metaclass = ABCMeta):\n",
    "    @abstractmethod\n",
    "    def study(self):\n",
    "        pass\n",
    "    \n",
    "    @abstractmethod\n",
    "    def go_to_school(self):\n",
    "        pass\n",
    "    \n",
    "\n",
    "class Student(StudentBase):\n",
    "    def study(self):\n",
    "        print(\"공부하기\")\n",
    "    \n",
    "    def go_to_school(self):\n",
    "        print(\"학교가기\")\n",
    "    \n",
    "james = Student()\n",
    "james.study()\n",
    "james.go_to_school()"
   ]
  },
  {
   "cell_type": "markdown",
   "id": "c551e8ef",
   "metadata": {},
   "source": [
    "2) 추상 클래스의 용도\n",
    "    - 추상클래스는 인스턴스를 만들 수가 없다.\n",
    "      그 이유는 추상 메서드가 존재하기 떄문이다.\n",
    "      추상 메서드를 하나라도 가지고 있다면 그 클래스는 추상 클래스가 되며\n",
    "      인스턴스를 생성할 수 없다.\n",
    "      \n",
    "    - 그럼 추상 클래스는 왜 사용하는 것일까?\n",
    "      그 이유는 바로 추상클래스를 상속받는 각각의 자손 클래스에서\n",
    "      다른 내용으로 구현될 것을 예상하고 뼈대만 만든 것이다."
   ]
  }
 ],
 "metadata": {
  "kernelspec": {
   "display_name": "Python 3",
   "language": "python",
   "name": "python3"
  },
  "language_info": {
   "codemirror_mode": {
    "name": "ipython",
    "version": 3
   },
   "file_extension": ".py",
   "mimetype": "text/x-python",
   "name": "python",
   "nbconvert_exporter": "python",
   "pygments_lexer": "ipython3",
   "version": "3.8.8"
  }
 },
 "nbformat": 4,
 "nbformat_minor": 5
}
