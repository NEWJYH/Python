{
 "cells": [
  {
   "cell_type": "code",
   "execution_count": 8,
   "id": "685c8ab8",
   "metadata": {},
   "outputs": [
    {
     "name": "stdout",
     "output_type": "stream",
     "text": [
      "이름 : 호돌이\n",
      "종류 : 호랑이\n",
      "나이 : 8\n",
      "몸무게 : 180\n",
      "어흥\n",
      "--------------------------------------\n",
      "이름 : 행복이\n",
      "종류 : 개\n",
      "나이 : 6\n",
      "몸무게 : 4\n",
      "멍멍\n",
      "--------------------------------------\n",
      "이름 : 애옹이\n",
      "종류 : 고양이\n",
      "나이 : 4\n",
      "몸무게 : 3\n",
      "야옹\n",
      "--------------------------------------\n"
     ]
    }
   ],
   "source": [
    "# 다형성의 개념은\n",
    "# 여러가지 형태를 가질수 있는 능력이다.\n",
    "# 보이는 실제 모습 혹은 행위는 다른 특징을 지닐 수 있다.\n",
    "# 형식의 다형성, 메서드의 다형성으로 나뉠 수가 있다.\n",
    "\n",
    "# 1. 형식의 다형성 예제\n",
    "class Animal:\n",
    "    def __init__(self,name,age,weight,instance):\n",
    "        self.__name = name\n",
    "        self.__age = age\n",
    "        self.__weight = weight\n",
    "        # 아래 코드는 클래스의 인스턴스를 받는다.\n",
    "        self.__instance = instance\n",
    "        \n",
    "    def show(self):\n",
    "        print(f\"이름 : {self.__name}\")\n",
    "        print(f\"종류 : {self.__instance.d_name}\")\n",
    "        print(f\"나이 : {self.__age}\")\n",
    "        print(f\"몸무게 : {self.__weight}\")\n",
    "        # 매개변수로 넘어오는 클래스의 메서드인 sound() 각각 호출\n",
    "        self.__instance.sound()\n",
    "        print(\"--------------------------------------\")\n",
    "        \n",
    "class Tiger:\n",
    "    d_name = \"호랑이\"\n",
    "    def sound(self):\n",
    "        print(\"어흥\")\n",
    "        \n",
    "class Dog:\n",
    "    d_name = \"개\"\n",
    "    def sound(self):\n",
    "        print(\"멍멍\")\n",
    "        \n",
    "class Cat:\n",
    "    d_name = \"고양이\"\n",
    "    def sound(self):\n",
    "        print(\"야옹\")\n",
    "        \n",
    "        \n",
    "if __name__ == \"__main__\":\n",
    "    ani1 = Animal(\"호돌이\",8,180,Tiger())\n",
    "    ani1.show()\n",
    "    ani2 = Animal(\"행복이\",6,4,Dog())\n",
    "    ani2.show()\n",
    "    ani3 = Animal(\"애옹이\",4,3,Cat())\n",
    "    ani3.show()"
   ]
  },
  {
   "cell_type": "code",
   "execution_count": 12,
   "id": "11be7627",
   "metadata": {},
   "outputs": [
    {
     "name": "stdout",
     "output_type": "stream",
     "text": [
      "데이브 물건을 팝니다.\n",
      "존스 물건을 팝니다.\n",
      "케이 물건을 팝니다.\n",
      "김갑수 물건을 개발합니다.\n"
     ]
    }
   ],
   "source": [
    "# 2. 메서드의 다형성\n",
    "class SalesWorker:\n",
    "    def __init__(self,name):\n",
    "        self.__name = name\n",
    "        \n",
    "    def work(self):\n",
    "        print(f\"{self.__name} 물건을 팝니다.\")\n",
    "        \n",
    "class DevWorker(SalesWorker):\n",
    "    def __init__(self,name):\n",
    "        super().__init__(self)\n",
    "        self.__name = name\n",
    "        \n",
    "    def work(self):\n",
    "        print(f\"{self.__name} 물건을 개발합니다.\")\n",
    "\n",
    "if __name__ == \"__main__\":\n",
    "    worker1 = SalesWorker(\"데이브\")\n",
    "    worker2 = SalesWorker(\"존스\")\n",
    "    worker3 = SalesWorker(\"케이\")\n",
    "    worker4 = DevWorker(\"김갑수\")\n",
    "    \n",
    "    workers = [worker1,worker2,worker3,worker4]\n",
    "    # 인스턴스의 타입에 따라 코드는 동일하나, 실제 호출되는 work()\n",
    "    # 메서드가 달라 출력 결과가 다르다.\n",
    "    for i in workers:\n",
    "        i.work()\n",
    "    \n",
    "        "
   ]
  }
 ],
 "metadata": {
  "kernelspec": {
   "display_name": "Python 3",
   "language": "python",
   "name": "python3"
  },
  "language_info": {
   "codemirror_mode": {
    "name": "ipython",
    "version": 3
   },
   "file_extension": ".py",
   "mimetype": "text/x-python",
   "name": "python",
   "nbconvert_exporter": "python",
   "pygments_lexer": "ipython3",
   "version": "3.8.8"
  }
 },
 "nbformat": 4,
 "nbformat_minor": 5
}
