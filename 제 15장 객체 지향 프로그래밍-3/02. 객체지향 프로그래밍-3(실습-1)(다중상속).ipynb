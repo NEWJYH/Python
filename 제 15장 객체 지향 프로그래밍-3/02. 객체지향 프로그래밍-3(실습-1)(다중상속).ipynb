{
 "cells": [
  {
   "cell_type": "code",
   "execution_count": null,
   "id": "65da0b6b",
   "metadata": {},
   "outputs": [],
   "source": [
    "# 클래스의 다중 상속에 대한 실습\n",
    "# 다중상속 : 여러 조상 클래스로부터 상속을 받아서\n",
    "#           새로운 클래스를 만드는 것\n",
    "\n",
    "# 조상 클래스를 몇개를 상속 받아도 상관 없다.\n",
    "\n",
    "# 다중 상속의 문제점 \n",
    "# 1. 다중 상속을 하다 보면 조상 클래스에서 같은 이름을 가진\n",
    "#   맴버가 존재할수 있기 때문에 충돌성을 배제할수 없다.\n",
    "# 2. 하나의 조상 클래스를 두 번 이상 상속을 받을 가능성이 크다.\n",
    "\n",
    "# 파이썬에서는 단일, 다중 상속을 다 지원하기 때문에 알고는 넘어가도록 하자."
   ]
  },
  {
   "cell_type": "code",
   "execution_count": 3,
   "id": "1b29ae66",
   "metadata": {},
   "outputs": [
    {
     "name": "stdout",
     "output_type": "stream",
     "text": [
      "Person : 안녕하세요\n",
      "University : 학점 관리\n",
      "study : 공부를 합니다\n"
     ]
    }
   ],
   "source": [
    "class Person:\n",
    "    def greeting(self):\n",
    "        print(\"Person : 안녕하세요\")\n",
    "        \n",
    "class University:\n",
    "    def manage_credit(self):\n",
    "        print(\"University : 학점 관리\")\n",
    "\n",
    "# 두개의 조상 클래스를 상속 받음        \n",
    "class Undergraduate(Person,University):\n",
    "    def study(self):\n",
    "        print(\"study : 공부를 합니다\")\n",
    "        \n",
    "if __name__ == \"__main__\":\n",
    "    student = Undergraduate()\n",
    "    student.greeting()\n",
    "    student.manage_credit()\n",
    "    student.study()"
   ]
  },
  {
   "cell_type": "code",
   "execution_count": 17,
   "id": "a1a4277d",
   "metadata": {},
   "outputs": [
    {
     "name": "stdout",
     "output_type": "stream",
     "text": [
      "나는 사람입니다.\n",
      "나는 학생입니다.\n",
      "나는 사람입니다.\n",
      "나는 근로자입니다.\n",
      "나는 파트타임 근로자입니다.\n",
      "Student클래스의 greeting 메서드 호출됨\n",
      "[<class '__main__.PartTimer'>, <class '__main__.Student'>, <class '__main__.Worker'>, <class '__main__.Person'>, <class 'object'>]\n"
     ]
    }
   ],
   "source": [
    "# 다중 상속에 대한 실습\n",
    "class Person:\n",
    "    def __init__(self):\n",
    "        print(\"나는 사람입니다.\")\n",
    "    def greeting(self):\n",
    "        print(\"Person클래스의 greeting 메서드 호출됨\")\n",
    "        \n",
    "class Student(Person):\n",
    "    def __init__(self):\n",
    "        Person.__init__(self)\n",
    "        print(\"나는 학생입니다.\")\n",
    "    def greeting(self):\n",
    "        print(\"Student클래스의 greeting 메서드 호출됨\")\n",
    "        \n",
    "    \n",
    "class Worker(Person):\n",
    "    def __init__(self):\n",
    "        Person.__init__(self)\n",
    "        print(\"나는 근로자입니다.\")\n",
    "    def greeting(self):\n",
    "        print(\"Worker클래스의 greeting 메서드 호출됨\")\n",
    "        \n",
    "\n",
    "# 다중 상속\n",
    "class PartTimer(Student,Worker):\n",
    "    def __init__(self):\n",
    "        Student.__init__(self)\n",
    "        Worker.__init__(self)\n",
    "        print(\"나는 파트타임 근로자입니다.\")\n",
    "#     def greeting(self):\n",
    "#         print(\"PartTimer클래스의 greeting 메서드 호출됨\")\n",
    "        \n",
    "        \n",
    "if __name__ == \"__main__\":\n",
    "    parttimer = PartTimer()\n",
    "    # 다이아몬드 상속 문제점은 같은 이름의 멤버가 있다면\n",
    "    # 자손클래스에서 해당 메서드를 오버라이딩 하지 않았다면\n",
    "    # 도대체 어떤 조상클래스의 메서드가 호출되는지를 알 수가 없다.\n",
    "    # 이문제를 해결하기 위해서 파이썬에서는 \n",
    "    # MRO(Method Resolution Order) 기법을 따른다.\n",
    "    parttimer.greeting()\n",
    "    print(PartTimer.mro())\n",
    "    # mro 사용법\n",
    "    # 클래스명.mro()\n",
    "    # MRO 기법은 복잡한 상속관계를 지닐 때 어떠한 멤버가 호출이 \n",
    "    # 먼저 되는지 알아볼 수 있는 편리한 방법이다."
   ]
  }
 ],
 "metadata": {
  "kernelspec": {
   "display_name": "Python 3",
   "language": "python",
   "name": "python3"
  },
  "language_info": {
   "codemirror_mode": {
    "name": "ipython",
    "version": 3
   },
   "file_extension": ".py",
   "mimetype": "text/x-python",
   "name": "python",
   "nbconvert_exporter": "python",
   "pygments_lexer": "ipython3",
   "version": "3.8.8"
  }
 },
 "nbformat": 4,
 "nbformat_minor": 5
}
