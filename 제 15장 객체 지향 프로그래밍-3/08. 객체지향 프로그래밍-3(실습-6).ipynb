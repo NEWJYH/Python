{
 "cells": [
  {
   "cell_type": "code",
   "execution_count": 1,
   "id": "59469557",
   "metadata": {},
   "outputs": [],
   "source": [
    "# 추상클래스에 대한 실습\n",
    "# 조상 클래스 정의\n",
    "from abc import *\n",
    "\n",
    "class Unit(metaclass = ABCMeta):\n",
    "    x,y = 0,0\n",
    "    name = \"\"\n",
    "    \n",
    "    # 해당하는 Unit 들은 움직임이 다 다르기 때문에 \n",
    "    # 추상메서드로 선언\n",
    "    @abstractmethod\n",
    "    def move(self,x,y):\n",
    "        pass\n",
    "    \n",
    "    def stop(self, name, x, y):\n",
    "        self.x = x\n",
    "        self.y = y\n",
    "        self.name = name\n",
    "        print(f\"현재 위치 : {self.x} ,{self.y}\")\n",
    "        print(f\"{self.name}이 멈춥니다.\")"
   ]
  },
  {
   "cell_type": "code",
   "execution_count": 2,
   "id": "a71763a3",
   "metadata": {},
   "outputs": [],
   "source": [
    "# from Unit import * \n",
    "class Tank(Unit):\n",
    "    mode = \"\"\n",
    "    \n",
    "    # 조상 클래스 추상 메서드 오버라이딩\n",
    "    def move(self,x,y):\n",
    "        self.x = x\n",
    "        self.y = y\n",
    "        print(f\"탱크 위치 {self.x}, {self.y}로 이동\")\n",
    "        \n",
    "    # 탱크의 자신만의 고유 기능\n",
    "    def sizeMode(self):\n",
    "        self.mode = \"공격모드 : 시즈모드 변환\"\n",
    "        print(self.mode)"
   ]
  },
  {
   "cell_type": "code",
   "execution_count": 9,
   "id": "a50ef74d",
   "metadata": {},
   "outputs": [],
   "source": [
    "# from Unit import * \n",
    "class DropShip(Unit):\n",
    "    mode = \"\"\n",
    "    \n",
    "    # 조상 클래스 추상 메서드 오버라이딩\n",
    "    def move(self,x,y):\n",
    "        self.x = x\n",
    "        self.y = y\n",
    "        print(f\"드랍쉽 위치 {self.x}, {self.y}로 이동\")\n",
    "        \n",
    "    # 드랍쉽의 자신만의 고유 기능\n",
    "    def load(self):\n",
    "        self.mode = \"탑승모드 : 유닛 탑승 완료 !\"\n",
    "        print(self.mode)\n",
    "        \n",
    "    def Unload(self):\n",
    "        self.mode = \"탑승모드 : 유닛 하강 완료 !\"\n",
    "        print(self.mode)\n",
    "        "
   ]
  },
  {
   "cell_type": "code",
   "execution_count": 10,
   "id": "fc59321b",
   "metadata": {},
   "outputs": [],
   "source": [
    "# from Unit import *\n",
    "class Marine(Unit):\n",
    "    mode = \"\"\n",
    "    \n",
    "    # 조상 클래스 추상 메서드 오버라이딩\n",
    "    def move(self,x,y):\n",
    "        self.x = x\n",
    "        self.y = y\n",
    "        print(f\"마린의 위치 {self.x}, {self.y}로 이동\")\n",
    "        \n",
    "    # 마린 자신만의 고유 기능\n",
    "    def stimPack(self):\n",
    "        self.mode = \"공격모드 : 스팀팩 장전 !\"\n",
    "        print(self.mode)"
   ]
  },
  {
   "cell_type": "code",
   "execution_count": 12,
   "id": "72d63afb",
   "metadata": {},
   "outputs": [
    {
     "name": "stdout",
     "output_type": "stream",
     "text": [
      "-----------------\n",
      "탱크 위치 100, 300로 이동\n",
      "공격모드 : 시즈모드 변환\n",
      "현재 위치 : 300 ,400\n",
      "탱크이 멈춥니다.\n",
      "-----------------\n",
      "마린의 위치 200, 550로 이동\n",
      "공격모드 : 스팀팩 장전 !\n",
      "현재 위치 : 600 ,900\n",
      "마린이 멈춥니다.\n",
      "-----------------\n",
      "드랍쉽 위치 1000, 2000로 이동\n",
      "탑승모드 : 유닛 탑승 완료 !\n",
      "탑승모드 : 유닛 하강 완료 !\n",
      "현재 위치 : 0 ,0\n",
      "드랍쉽이 멈춥니다.\n",
      "-----------------\n"
     ]
    }
   ],
   "source": [
    "# from Tank import *\n",
    "# from Dropship import *\n",
    "# from Marine import *\n",
    "if __name__ == \"__main__\":\n",
    "    print(\"-----------------\")\n",
    "    tank = Tank()\n",
    "    tank.move(100, 300)\n",
    "    tank.sizeMode()\n",
    "    tank.stop(\"탱크\",300,400)\n",
    "    print(\"-----------------\")\n",
    "    marine = Marine()\n",
    "    marine.move(200,550)\n",
    "    marine.stimPack()\n",
    "    marine.stop(\"마린\",600,900)\n",
    "    print(\"-----------------\")\n",
    "    dropship = DropShip()\n",
    "    dropship.move(1000,2000)\n",
    "    dropship.load()\n",
    "    dropship.Unload()\n",
    "    dropship.stop(\"드랍쉽\",0,0)\n",
    "    print(\"-----------------\")\n",
    "    "
   ]
  }
 ],
 "metadata": {
  "kernelspec": {
   "display_name": "Python 3",
   "language": "python",
   "name": "python3"
  },
  "language_info": {
   "codemirror_mode": {
    "name": "ipython",
    "version": 3
   },
   "file_extension": ".py",
   "mimetype": "text/x-python",
   "name": "python",
   "nbconvert_exporter": "python",
   "pygments_lexer": "ipython3",
   "version": "3.8.8"
  }
 },
 "nbformat": 4,
 "nbformat_minor": 5
}
