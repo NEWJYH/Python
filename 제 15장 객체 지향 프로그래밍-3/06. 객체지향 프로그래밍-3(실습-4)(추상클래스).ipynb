{
 "cells": [
  {
   "cell_type": "code",
   "execution_count": 2,
   "id": "7ff752b3",
   "metadata": {},
   "outputs": [
    {
     "ename": "TypeError",
     "evalue": "Can't instantiate abstract class StudentBase with abstract methods go_to_school, study",
     "output_type": "error",
     "traceback": [
      "\u001b[1;31m---------------------------------------------------------------------------\u001b[0m",
      "\u001b[1;31mTypeError\u001b[0m                                 Traceback (most recent call last)",
      "\u001b[1;32m<ipython-input-2-8cacb32a54f1>\u001b[0m in \u001b[0;36m<module>\u001b[1;34m\u001b[0m\n\u001b[0;32m     19\u001b[0m \u001b[1;33m\u001b[0m\u001b[0m\n\u001b[0;32m     20\u001b[0m \u001b[1;32mif\u001b[0m \u001b[0m__name__\u001b[0m \u001b[1;33m==\u001b[0m\u001b[1;34m\"__main__\"\u001b[0m\u001b[1;33m:\u001b[0m\u001b[1;33m\u001b[0m\u001b[1;33m\u001b[0m\u001b[0m\n\u001b[1;32m---> 21\u001b[1;33m     \u001b[0mstudent\u001b[0m \u001b[1;33m=\u001b[0m \u001b[0mStudentBase\u001b[0m\u001b[1;33m(\u001b[0m\u001b[1;33m)\u001b[0m\u001b[1;33m\u001b[0m\u001b[1;33m\u001b[0m\u001b[0m\n\u001b[0m",
      "\u001b[1;31mTypeError\u001b[0m: Can't instantiate abstract class StudentBase with abstract methods go_to_school, study"
     ]
    }
   ],
   "source": [
    "# 추상클래스 실습\n",
    "# 추상클래스 : 클래스안에 최소 추상메서드가 1개 이상 존재하면\n",
    "#             그 클래스를 추상클래스다라고 함.\n",
    "# abc (abstract base class 약자)모듈을 이용하여 만든다.\n",
    "# @abstractmethod 라는 어노테이션을 추상메서드 위에 붙여준다.\n",
    "# 추상메서드는 선언부만 존재하고 구현부는 없는 메서드 이다.\n",
    "# 추상클래스는 인스턴스를 절대로 생성할 수가 없다.\n",
    "\n",
    "from abc import * \n",
    "class StudentBase(metaclass = ABCMeta):\n",
    "    @abstractmethod\n",
    "    def study(self):\n",
    "        pass\n",
    "    # 아래 어노테이션은 인터프리터에게 study 메서드가 추상 메서드이다.\n",
    "    # 라고 잘 체크하라는 명령을 준다.\n",
    "    @abstractmethod\n",
    "    def go_to_school(self):\n",
    "        pass\n",
    "    \n",
    "if __name__ ==\"__main__\":\n",
    "    # student = StudentBase()\n",
    "    # 추상 클래스는 절대로 인스턴스를 생성할수 없다.\n",
    "    # 상속을 통하여 자손클래스에서 추상메서드를 전부 오버라이딩\n",
    "    # 했을때 인스턴스 생성이 가능하다.(중요)"
   ]
  },
  {
   "cell_type": "code",
   "execution_count": 4,
   "id": "d9e46cff",
   "metadata": {},
   "outputs": [
    {
     "name": "stdout",
     "output_type": "stream",
     "text": [
      "공부하기\n",
      "학교가기\n"
     ]
    }
   ],
   "source": [
    "from abc import * \n",
    "class StudentBase(metaclass = ABCMeta):\n",
    "    @abstractmethod\n",
    "    def study(self):\n",
    "        pass\n",
    "    # 아래 어노테이션은 인터프리터에게 study 메서드가 추상 메서드이다.\n",
    "    # 라고 잘 체크하라는 명령을 준다.\n",
    "    @abstractmethod\n",
    "    def go_to_school(self):\n",
    "        pass\n",
    "    \n",
    "    \n",
    "class Student(StudentBase):\n",
    "    def study(self):\n",
    "        print(\"공부하기\")\n",
    "    def go_to_school(self):\n",
    "        print(\"학교가기\")\n",
    "    \n",
    "if __name__ ==\"__main__\":\n",
    "    student = Student()\n",
    "    student.study()\n",
    "    student.go_to_school()\n",
    "    # 추상 클래스의 용도 : \n",
    "    # 상속 받는 각각의 자손클래스에서\n",
    "    # 다른 내용으로 구현될 것을 예상하고\n",
    "    # 뼈대(가이드 라인)만 만든다.\n",
    "    "
   ]
  }
 ],
 "metadata": {
  "kernelspec": {
   "display_name": "Python 3",
   "language": "python",
   "name": "python3"
  },
  "language_info": {
   "codemirror_mode": {
    "name": "ipython",
    "version": 3
   },
   "file_extension": ".py",
   "mimetype": "text/x-python",
   "name": "python",
   "nbconvert_exporter": "python",
   "pygments_lexer": "ipython3",
   "version": "3.8.8"
  }
 },
 "nbformat": 4,
 "nbformat_minor": 5
}
