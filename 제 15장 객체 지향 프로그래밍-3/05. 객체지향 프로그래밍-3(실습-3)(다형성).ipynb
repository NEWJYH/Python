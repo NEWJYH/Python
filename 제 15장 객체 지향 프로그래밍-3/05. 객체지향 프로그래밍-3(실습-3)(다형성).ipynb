{
 "cells": [
  {
   "cell_type": "code",
   "execution_count": 20,
   "id": "76fce663",
   "metadata": {},
   "outputs": [
    {
     "name": "stdout",
     "output_type": "stream",
     "text": [
      "TV를 구매하셨습니다\n",
      "잔액 : 700만원, 포인트 : 30포인트\n",
      "Computer를 구매하셨습니다\n",
      "잔액 : 600만원, 포인트 : 40포인트\n",
      "Audio를 구매하셨습니다\n",
      "잔액 : 550만원, 포인트 : 45포인트\n",
      "잔액이 부족합니다.\n",
      "잔액 : 550만원, 포인트 : 45포인트\n"
     ]
    }
   ],
   "source": [
    "# 다형성 실습\n",
    "class Product:\n",
    "    \n",
    "    def __init__(self,price):\n",
    "        self.price = price\n",
    "        # 보너스 점수는 제품 가격의 10프로를 적립함.\n",
    "        self.bonusPoint = int(self.price / 10.0)\n",
    "        \n",
    "class Tv(Product):\n",
    "    def __init__(self,price):\n",
    "        super().__init__(price)\n",
    "    # 무엇을 구매를 했는지 확인하기 위해서 __str__ 재정의\n",
    "    def __str__(self):\n",
    "        return \"TV\"\n",
    "    \n",
    "class Computer(Product):\n",
    "    def __init__(self,price):\n",
    "        super().__init__(price)\n",
    "    # 무엇을 구매를 했는지 확인하기 위해서 __str__ 재정의\n",
    "    def __str__(self):\n",
    "        return \"Computer\"\n",
    "    \n",
    "class Audio(Product):\n",
    "    def __init__(self,price):\n",
    "        super().__init__(price)\n",
    "    # 무엇을 구매를 했는지 확인하기 위해서 __str__ 재정의\n",
    "    def __str__(self):\n",
    "        return \"Audio\"\n",
    "\n",
    "    \n",
    "# 물건을 사는 독립적 클래스\n",
    "class Buyer:\n",
    "    def __init__(self,money=1000,bonusPoint=0):\n",
    "        self.money = money\n",
    "        self.bonusPoint = bonusPoint\n",
    "    # 매개변수의 다형성을 이용\n",
    "    def buy(self, product):\n",
    "        if self.money < product.price:\n",
    "            print(\"잔액이 부족합니다.\")\n",
    "            return\n",
    "        else:\n",
    "            self.money -= product.price\n",
    "            self.bonusPoint += product.bonusPoint\n",
    "            print(product.__str__()+\"를 구매하셨습니다\")\n",
    "            \n",
    "    def __str__(self):\n",
    "        return f\"잔액 : {self.money}만원, 포인트 : {self.bonusPoint}포인트\"\n",
    "            \n",
    "    \n",
    "if __name__ == \"__main__\":\n",
    "    buyer = Buyer()\n",
    "    tv = Tv(300)\n",
    "    computer = Computer(100)\n",
    "    audio = Audio(50)\n",
    "    buyer.buy(tv)\n",
    "    print(buyer)\n",
    "    buyer.buy(computer)\n",
    "    print(buyer)\n",
    "    buyer.buy(audio)\n",
    "    print(buyer)\n",
    "    buyer.buy(Tv(600))\n",
    "    print(buyer)"
   ]
  }
 ],
 "metadata": {
  "kernelspec": {
   "display_name": "Python 3",
   "language": "python",
   "name": "python3"
  },
  "language_info": {
   "codemirror_mode": {
    "name": "ipython",
    "version": 3
   },
   "file_extension": ".py",
   "mimetype": "text/x-python",
   "name": "python",
   "nbconvert_exporter": "python",
   "pygments_lexer": "ipython3",
   "version": "3.8.8"
  }
 },
 "nbformat": 4,
 "nbformat_minor": 5
}
