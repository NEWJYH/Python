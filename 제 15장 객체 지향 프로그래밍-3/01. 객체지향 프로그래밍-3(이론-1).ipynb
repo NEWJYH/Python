{
 "cells": [
  {
   "cell_type": "markdown",
   "id": "1eb50f8c",
   "metadata": {},
   "source": [
    "제 15장 객체 지향 프로그래밍-3"
   ]
  },
  {
   "cell_type": "markdown",
   "id": "5472223e",
   "metadata": {},
   "source": [
    "1. 클래스 다중 상속"
   ]
  },
  {
   "cell_type": "markdown",
   "id": "0466c6e3",
   "metadata": {},
   "source": [
    "1) 다중 상속\n",
    "    - 다중 상속은 여러 기반 클래스로부터 상속을 받아서 \n",
    "      파생 클래스를 만드는 방법입니다.\n",
    "      \n",
    "    - 다음과 같이 클래스를 만들 떄 ()(괄호) 안에 클래스 이름을 ,(콤마)로 구분해서\n",
    "      클래스명을 적어둔다."
   ]
  },
  {
   "cell_type": "code",
   "execution_count": null,
   "id": "7f9e9eea",
   "metadata": {},
   "outputs": [],
   "source": [
    "class 기반클래스이름1:\n",
    "    코드\n",
    "class 기반클래스이름2:\n",
    "    코드\n",
    "class 파생클래스이름(기반클래스이름1,기반클래스이름2):\n",
    "    코드"
   ]
  },
  {
   "cell_type": "markdown",
   "id": "7bc52f1a",
   "metadata": {},
   "source": [
    "1) 다중 상속\n",
    "    - 원래 다중 상속은 C++은 지원하지만, 자바 언어에서는 단일 상속만 지원하며,\n",
    "      다중 상속의 대체 방법으로 포함이라는 방법을 사용한다. \n",
    "      C# 인터페이스\n",
    "      \n",
    "   - 다중 상속의 문제점\n",
    "      1. 상속받은 여러 기초 클래스에 같은 이름의 멤버가 존재할 가능성이 있다(충돌)\n",
    "      2. 하나의 클래스를 간접적으로 두번 이상 상속받을 가능성이 있다.\n",
    "      \n",
    "    - 위와 같은 이유로 다중 상속은 잘 사용하지 않지만, \n",
    "      파이썬에서는 다중 상속을 지원하기에 알고는 넘어가자는 것이다."
   ]
  },
  {
   "cell_type": "markdown",
   "id": "c7fa9de3",
   "metadata": {},
   "source": [
    "2) 다중 상속의 예제\n",
    "    - Person 클래스와 University 클래스를 만든 뒤 다중 상속으로\n",
    "      Undergraduate 클래스를 만들어 보자."
   ]
  },
  {
   "cell_type": "code",
   "execution_count": 1,
   "id": "ccb86475",
   "metadata": {},
   "outputs": [
    {
     "name": "stdout",
     "output_type": "stream",
     "text": [
      "Person : 안녕하세요\n",
      "University : 학점 관리\n",
      "study : 공부하기\n"
     ]
    }
   ],
   "source": [
    "class Person:\n",
    "    def greeting(self):\n",
    "        print(\"Person : 안녕하세요\")\n",
    "        \n",
    "class University:\n",
    "    def manage_credit(self):\n",
    "        print(\"University : 학점 관리\")\n",
    "        \n",
    "class Undergraduate(Person,University):\n",
    "    def study(self):\n",
    "        print(\"study : 공부하기\")\n",
    "        \n",
    "james = Undergraduate()\n",
    "james.greeting() # Person 기반클래스의 greeting 메서드 호출\n",
    "james.manage_credit() # University 기반클래스의 manage_credit 메서드 호출\n",
    "james.study() # 파생클래스 자기 자신 study 메서드 호출"
   ]
  },
  {
   "cell_type": "markdown",
   "id": "2d75c3c1",
   "metadata": {},
   "source": [
    "2) 다중 상속의 예제\n",
    "    - 먼저 기반 클래스 Person과 University를 만들었습니다.\n",
    "      그 다음 파생 클래스 Undergraduate를 만들때 \n",
    "      class Undergraduate(Person, University):와 같이 괄호 안에\n",
    "      Person, University를 콤마로 구분해서 적었습니다.\n",
    "      이렇게 하면 두 기반 클래스의 기능을 모두 상속받습니다."
   ]
  },
  {
   "cell_type": "markdown",
   "id": "774b473b",
   "metadata": {},
   "source": [
    "3) 다이아몬드 상속\n",
    "    - 그럼 조금 복잡한 클래스 상속을 해 보겠습니다. \n",
    "      여기서는 편의상 클래스 이름을 A,B,C,D 로 하겠습니다."
   ]
  },
  {
   "cell_type": "code",
   "execution_count": 5,
   "id": "2c1cc904",
   "metadata": {},
   "outputs": [
    {
     "name": "stdout",
     "output_type": "stream",
     "text": [
      "B 안녕하세요\n"
     ]
    }
   ],
   "source": [
    "class A:\n",
    "    def greeting(self):\n",
    "        print(\"A 안녕하세요\")\n",
    "class B(A):\n",
    "    def greeting(self):\n",
    "        print(\"B 안녕하세요\")\n",
    "class C(A):\n",
    "    def greeting(self):\n",
    "        print(\"C 안녕하세요\")\n",
    "class D(B,C):\n",
    "    pass\n",
    "\n",
    "x = D()\n",
    "x.greeting()"
   ]
  },
  {
   "cell_type": "markdown",
   "id": "a18057cb",
   "metadata": {},
   "source": [
    "3) 다이아몬드 상속\n",
    "    - 위 코드에서 기반 클래스 A가 있고 B,C는 A를 상속받는다.\n",
    "      긜고 다시 D는 B와C를 상속받는다.\n",
    "      \n",
    "     - 프로그래밍에서는 이렇게 모호한 상태를 좋아하지 않는다.\n",
    "       프로그램이 어떨 때는 A의 메서드를 호출하고, 또 어떨 때는 B또는 C의\n",
    "       메서드를 호출한다면, 상당한 문제이다.\n",
    "       \n",
    "     - 그래서 다이아몬드 상속은 문제가 많다고 해서 죽음의 다이아몬드라고도 부르며\n",
    "       웬만해선 잘 사용하지 않는다."
   ]
  },
  {
   "cell_type": "markdown",
   "id": "43e3fe9b",
   "metadata": {},
   "source": [
    "3) 다이아몬드 상속\n",
    "    - 클래스 간의 관계가 다이아몬드 같이 생겼다고해서 \n",
    "      객체지향 프로그래밍에서는 이런 상속 관계를 다이아몬드 상속이라 부른다.\n",
    "      \n",
    "    - 여기서 클래스 A를 상속받아서 B,C를 만들고,\n",
    "      클래스 B와 C를 상속받아서 D를 만들었다.\n",
    "      그리고 A,B,C 모두 greeting()이라는 메서드를 가지고 있다면\n",
    "      D는 어떤 클래스의 메서드를 호출해야 하나? 상당히 곤란하다."
   ]
  },
  {
   "cell_type": "markdown",
   "id": "675dbe9c",
   "metadata": {},
   "source": [
    "4) 다이아몬드 상속 문제점의 해결책\n",
    "    - 파이썬에서는 다이아몬드 상속 문제점의 해결책으로 메서드 탐색 순서\n",
    "      (Method Resolution Order, MRO)를 따른다.\n",
    "      다음과 같이 클래스 D에 메서드 mro()를 사용해보면 메서드 탐색 순서가 나온다."
   ]
  },
  {
   "cell_type": "code",
   "execution_count": 6,
   "id": "714a0caa",
   "metadata": {},
   "outputs": [
    {
     "data": {
      "text/plain": [
       "[__main__.D, __main__.B, __main__.C, __main__.A, object]"
      ]
     },
     "execution_count": 6,
     "metadata": {},
     "output_type": "execute_result"
    }
   ],
   "source": [
    "D.mro()"
   ]
  },
  {
   "cell_type": "markdown",
   "id": "8fd7dcf7",
   "metadata": {},
   "source": [
    "4) 다이아몬드 상속 문제점의 해결책\n",
    "    - MRO에 따르면 D의 메서드 호출 순서는 자기 자신D,\n",
    "      그 다음이 B이다. 따라서 D로 인스턴스를 만들고 greeting을 호출하면\n",
    "      B의 greeting이 호출된다. (D는 greeting 메서드가 없다.)"
   ]
  },
  {
   "cell_type": "code",
   "execution_count": 7,
   "id": "3b7f2295",
   "metadata": {},
   "outputs": [
    {
     "name": "stdout",
     "output_type": "stream",
     "text": [
      "B 안녕하세요\n"
     ]
    }
   ],
   "source": [
    "x = D()\n",
    "x.greeting() "
   ]
  },
  {
   "cell_type": "markdown",
   "id": "58096fe4",
   "metadata": {},
   "source": [
    "4) 다이아몬드 상속 문제점의 해결책\n",
    "    - 파이썬은 다중 상속을 한다면 class D(B,C):의 클래스 목록 중\n",
    "      왼쪽에서 오른쪽 순서대로 메서드를 찾는다.\n",
    "      그러므로 같은 메서드가 있다면 B가 우선한다.\n",
    "      만약 상속관계가 복잡하게 얽혀 있다면 MRO를 살펴보는 것이 편리하다."
   ]
  }
 ],
 "metadata": {
  "kernelspec": {
   "display_name": "Python 3",
   "language": "python",
   "name": "python3"
  },
  "language_info": {
   "codemirror_mode": {
    "name": "ipython",
    "version": 3
   },
   "file_extension": ".py",
   "mimetype": "text/x-python",
   "name": "python",
   "nbconvert_exporter": "python",
   "pygments_lexer": "ipython3",
   "version": "3.8.8"
  }
 },
 "nbformat": 4,
 "nbformat_minor": 5
}
