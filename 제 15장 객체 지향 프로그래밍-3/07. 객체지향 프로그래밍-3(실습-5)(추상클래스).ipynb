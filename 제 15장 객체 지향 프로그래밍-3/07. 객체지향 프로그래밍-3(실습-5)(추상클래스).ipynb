{
 "cells": [
  {
   "cell_type": "code",
   "execution_count": 5,
   "id": "9b44c6a3",
   "metadata": {},
   "outputs": [],
   "source": [
    "# ContentSender\n",
    "\n",
    "# 추상 클래스에 대한 실습\n",
    "# 조상 클래스인 추상클래스 정의\n",
    "from abc import *\n",
    "\n",
    "class ContentSender(metaclass = ABCMeta):\n",
    "    # 추상 클래스라고 하여도 \n",
    "    # 추상 메서드의 목록만 존재해야 될 이유는 전혀 없다.\n",
    "    # 추상 클래스도 멤버변수, 생성자, 추상메서드를 가질수 있다.\n",
    "    title = \"\"\n",
    "    name = \"\"\n",
    "    def __init__(self, title, name):\n",
    "        self.title = title\n",
    "        self.name = name\n",
    "        \n",
    "    @abstractmethod\n",
    "    def sendMsg(self,recipient):\n",
    "        pass\n",
    "\n",
    "    \n",
    "# from ContentSender import * \n",
    "# KaKaoSender\n",
    "class KaKaoSender(ContentSender):\n",
    "    \n",
    "    def __init__(self,title,name,content):\n",
    "        # 조상 클래스 생성자 호출\n",
    "        super().__init__(title,name)\n",
    "        self.content = content\n",
    "        \n",
    "    def sendMsg(self, recipient):\n",
    "        print(f\"제목 = {self.title}\")\n",
    "        print(f\"이름 = {self.name}\")\n",
    "        print(f\"내용 = {self.content}\")\n",
    "        print(f\"받는 사람 = {recipient}\")\n",
    "\n",
    "# from ContentSender import * \n",
    "# KaKaoSender\n",
    "class SmsSender(ContentSender):\n",
    "    \n",
    "    def __init__(self,title,name,content):\n",
    "        # 조상 클래스 생성자 호출\n",
    "        super().__init__(title,name)\n",
    "        self.content = content\n",
    "        \n",
    "    def sendMsg(self, recipient):\n",
    "        print(f\"제목 = {self.title}\")\n",
    "        print(f\"이름 = {self.name}\")\n",
    "        print(f\"내용 = {self.content}\")\n",
    "        print(f\"받는 사람 = {recipient}\")\n"
   ]
  },
  {
   "cell_type": "code",
   "execution_count": 8,
   "id": "838958d5",
   "metadata": {},
   "outputs": [
    {
     "name": "stdout",
     "output_type": "stream",
     "text": [
      "제목 = 카카오톡\n",
      "이름 = 이재훈\n",
      "내용 = 100만원 갚아라\n",
      "받는 사람 = 빛쟁이 이재훈\n",
      "제목 = SMS 문자\n",
      "이름 = 신은혁\n",
      "내용 = 파이썬못함\n",
      "받는 사람 = 좀잘해보자\n"
     ]
    }
   ],
   "source": [
    "# from SmsSender import *\n",
    "# from KaKaoSender import *\n",
    "\n",
    "if __name__ == \"__main__\":\n",
    "    cs1 = KaKaoSender(\"카카오톡\",\"이재훈\",\"100만원 갚아라\")\n",
    "    cs1.sendMsg(\"빛쟁이 이재훈\")\n",
    "    cs2 = SmsSender(\"SMS 문자\",\"신은혁\",\"파이썬못함\")\n",
    "    cs2.sendMsg(\"좀잘해보자\")"
   ]
  }
 ],
 "metadata": {
  "kernelspec": {
   "display_name": "Python 3",
   "language": "python",
   "name": "python3"
  },
  "language_info": {
   "codemirror_mode": {
    "name": "ipython",
    "version": 3
   },
   "file_extension": ".py",
   "mimetype": "text/x-python",
   "name": "python",
   "nbconvert_exporter": "python",
   "pygments_lexer": "ipython3",
   "version": "3.8.8"
  }
 },
 "nbformat": 4,
 "nbformat_minor": 5
}
