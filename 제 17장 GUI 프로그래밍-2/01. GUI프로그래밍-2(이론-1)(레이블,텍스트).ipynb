{
 "cells": [
  {
   "cell_type": "markdown",
   "id": "ad622bc6",
   "metadata": {},
   "source": [
    "제 17장 GUI 프로그래밍-2"
   ]
  },
  {
   "cell_type": "markdown",
   "id": "5e05e3ec",
   "metadata": {},
   "source": [
    "1. 레이블"
   ]
  },
  {
   "cell_type": "markdown",
   "id": "0af1e226",
   "metadata": {},
   "source": [
    "1) 레이블 위젯\n",
    "    - 레이블은 기본적으로 텍스트를 표시하는 위젯이지만\n",
    "      이미지도 함께 표시할 수 있다.\n",
    "      w = Label(parent, option, ....)      "
   ]
  },
  {
   "cell_type": "markdown",
   "id": "b7340695",
   "metadata": {},
   "source": [
    "2) 레이블로 화면에 이미지 표시하기\n",
    "    - 레이블은 이미지도 표시할 수 있다.\n",
    "      PhotoImage 클래스의 생성자를 호출할 때, 이미지 파일 이름을 주면 된다."
   ]
  },
  {
   "cell_type": "code",
   "execution_count": 1,
   "id": "9cd6b964",
   "metadata": {},
   "outputs": [
    {
     "name": "stdout",
     "output_type": "stream",
     "text": [
      "pyimage1\n"
     ]
    }
   ],
   "source": [
    "from tkinter import *\n",
    "\n",
    "# 윈도우 생성\n",
    "window = Tk()\n",
    "# 포토변수에 이미지를 불러옴\n",
    "photo = PhotoImage(file = \"01a1.gif\")\n",
    "# W변수에 라벨을 추가함\n",
    "W = Label(window, image = photo)\n",
    "#W.photo = photo\n",
    "#print(W.photo)\n",
    "# 압축배치관리자사용\n",
    "W.pack()\n",
    "window.mainloop()"
   ]
  },
  {
   "cell_type": "markdown",
   "id": "cef2e7f2",
   "metadata": {},
   "source": [
    "2) 레이블로 화면에 이미지 표시하기\n",
    "    - PhotoImage 클래스의 생성자에 이미지 파일의 이름을 주면\n",
    "      이미지 파일을 객체로 만들 수 있다.\n",
    "      레이블을 생성할 때, 이미지 객체를 image 매개변수를 통하여 전달한다."
   ]
  },
  {
   "cell_type": "markdown",
   "id": "afa6de04",
   "metadata": {},
   "source": [
    "3) 레이블에 이미지와 텍스트를 동시에 나타내기\n",
    "    - 레이블은 텍스트와 이미지를 동시에 표시할 수 있다.\n",
    "      \"justify\" 매개변수는 LEFT, RIGHT 또는 정렬 값을 가질수 있다.\n",
    "      padx는 텍스트 라벨 주위에 수평 패딩을 추가하는데 사용될수 있다.\n",
    "      기본 패딩은 1픽셀이다. pady 수직 패딩도 유사하다."
   ]
  },
  {
   "cell_type": "code",
   "execution_count": 1,
   "id": "cfd0e22e",
   "metadata": {},
   "outputs": [],
   "source": [
    "from tkinter import * \n",
    "\n",
    "# 윈도우 생성\n",
    "window = Tk()\n",
    "\n",
    "# 이미지 불러오기\n",
    "photo = PhotoImage(file=\"01a1.gif\")\n",
    "\n",
    "# 이미지는 윈도우 오른쪽으로 배치\n",
    "Label(window,image=photo).pack(side=RIGHT)\n",
    "\n",
    "message = '''삶이 그대를 속일지라도 슬퍼하거나 노하지말라!\n",
    "우울한 날들을 견디면 : 믿으라, 기쁨의 날이 오리니. 마음은 미래에 사는 것 현재는 슬픈것\n",
    ": 모든 것은 순간적인 것, 지나가는 것이니 그리고 지나가는 것은 훗날 소중하게 되리니'''\n",
    "\n",
    "# 글자는 윈도우 왼쪽으로 배치\n",
    "Label(window, justify=LEFT,padx=10,text = message).pack(side=LEFT)\n",
    "\n",
    "# 윈도우 메인루프 \n",
    "window.mainloop()"
   ]
  },
  {
   "cell_type": "markdown",
   "id": "dbf11ae1",
   "metadata": {},
   "source": [
    "4) 레이블의 색상과 폰트 변경하기\n",
    "    - 레이블은 font 속성을 설정하면 폰트를 변경할 수 있다.\n",
    "      또 색상은 fg(foreground), bg(background)속성을 사용하여\n",
    "      변경한다."
   ]
  },
  {
   "cell_type": "code",
   "execution_count": 3,
   "id": "c263fdb2",
   "metadata": {},
   "outputs": [],
   "source": [
    "from tkinter import * \n",
    "\n",
    "# 윈도우 생성\n",
    "window = Tk()\n",
    "# 라벨 생성 및 배치관리자 사용\n",
    "Label(window,\n",
    "     text = \"Times Font 폰트와 빨강색을 사용합니다.\",\n",
    "     fg = \"red\",\n",
    "     font = \"Times 32 bold italic\").pack()\n",
    "\n",
    "# 라벨 생성 및 배치관리자 사용\n",
    "Label(window,\n",
    "     text = \"Helvetica 폰트와 녹색을 사용합니다.\",\n",
    "     fg = \"green\",\n",
    "     bg = \"yellow\",\n",
    "     font = \"Helvetica 32 bold italic\").pack()\n",
    "\n",
    "# 윈도우 메인루프 \n",
    "window.mainloop()"
   ]
  },
  {
   "cell_type": "markdown",
   "id": "2660a264",
   "metadata": {},
   "source": [
    "2. 텍스트 입력"
   ]
  },
  {
   "cell_type": "markdown",
   "id": "048973bc",
   "metadata": {},
   "source": [
    "1) 엔트리 위젯\n",
    "    - 엔트리(Entry) 위젯도 tkinter의 기본 위젯 중의 하나이다.\n",
    "      응용 프로그램에서 사용자로부터 입력을 받을 때 사용한다.\n",
    "      즉 사용자가 입력한 텍스트 문자열을 가져 오는데 사용된다.\n",
    "      \n",
    "      이 위젯을 이용하면 사용자가 한 줄의 텍스트를 입력할 수 있다.\n",
    "      \n",
    "      사용자가 위젯의 가능한 디스플레이 공간보다 더 긴 문자열을 입력하면,\n",
    "      문자열이 스크롤 된다. 이때 화살표 키를 이용하여 문자열의 보이지 않는\n",
    "      부분으로 이동할 수 있다.\n",
    "      \n",
    "      여러 줄의 텍스트를 입력할 경우 텍스트 위젯을 사용하는 것이 좋다.\n",
    "      Entry 위젯은 단일 글꼴로 제한된다.\n",
    "      \n",
    "      엔트리 위젯의 구문은 다음과 같다.\n",
    "      w = Entry(parent, option, ...)\n",
    "      \n",
    "    - \"parent\"는 위젯이 배치되는 부모 창을 나타낸다.\n",
    "      다른 위젯과 마찬가지로 추가 옵션을 사용하여 위젯의 모습에 영향을 \n",
    "      미칠 수 있다. 옵션은 비어 있을 수 있다.\n",
    "      \n",
    "      \n",
    "      다음 두 개의 입력 필드를 사용하여 이름과 나이를 입력받는 프로그램이다.\n",
    "      우리는 옵션 없이 엔트리 위젯을 사용한다."
   ]
  },
  {
   "cell_type": "code",
   "execution_count": 21,
   "id": "758ef85f",
   "metadata": {},
   "outputs": [
    {
     "name": "stdout",
     "output_type": "stream",
     "text": [
      "김종인 24\n",
      " \n"
     ]
    }
   ],
   "source": [
    "def save():\n",
    "    name = e1.get()\n",
    "    age = e2.get()\n",
    "    print(a,b)\n",
    "def reset():\n",
    "    e1.delete(0,END)\n",
    "    e2.delete(0,END)\n",
    "\n",
    "\n",
    "from tkinter import *\n",
    "window = Tk()\n",
    "Label(window, text = \"이름\").grid(row=0)\n",
    "Label(window, text = \"나이\").grid(row=1)\n",
    "e1 = Entry(window)\n",
    "e2 = Entry(window)\n",
    "e1.grid(row=0,column=1)\n",
    "e2.grid(row=1,column=1)\n",
    "Button(window,text =\"저장\",command = save).grid(row=2,column=1)\n",
    "Button(window,text =\"취소\",command = reset).grid(row=2,column=0)\n",
    "\n",
    "window.mainloop()"
   ]
  },
  {
   "cell_type": "markdown",
   "id": "d41b84a3",
   "metadata": {},
   "source": [
    "1) 엔트리 위젯\n",
    "    - 위의 프로그램에서는 사용자가 데이터를 입력할 수 있도록 엔트리 위젯을\n",
    "      생성하고 배치하였다. 어떻게 엔트리 위젯의 내용을 읽을 수 있을까?\n",
    "      get()메소드를 사용하면 된다.\n",
    "      위의 프로그램에서 show 와 quit 2개의 버튼을 추가해보자.\n",
    "      show버튼을 누르면 show() 함수가 호출되게 연결한다.\n",
    "      show는 get()메소드를 사용한다.\n",
    "      show()는 사용자가 이 버튼을 클릭할 떄마다, 엔트리 위젯의 내용을\n",
    "      인터프리터 쉘에 출력한다."
   ]
  },
  {
   "cell_type": "code",
   "execution_count": 2,
   "id": "5290f97e",
   "metadata": {},
   "outputs": [],
   "source": [
    "from tkinter import *\n",
    "\n",
    "def show():\n",
    "    if len(e1.get()) < 2:\n",
    "        pass\n",
    "    else:\n",
    "        print(e1.get(),e2.get())\n",
    "\n",
    "window = Tk()\n",
    "\n",
    "Label(window, text = \"이름\").grid(row=0)\n",
    "Label(window, text = \"나이\").grid(row=1)\n",
    "\n",
    "e1 = Entry(window)\n",
    "e2 = Entry(window)\n",
    "e1.grid(row=0,column=1)\n",
    "e2.grid(row=1,column=1)\n",
    "\n",
    "# sticky 매개변수는 주어진 \n",
    "# 기본 배치(중앙 정렬을 다른 정렬로 바꿀 때 사용한다.)\n",
    "# W는 West로 좌측을 나타낸다.\n",
    "Button(window,text =\"보이기\",command = show).grid(row=2,\n",
    "                                               column=1,\n",
    "                                               sticky=W,\n",
    "                                               pady=4)\n",
    "\n",
    "Button(window,text =\"종료\",command = window.quit).grid(row=2,\n",
    "                                               column=0,\n",
    "                                              sticky=W,\n",
    "                                              pady=4)\n",
    "\n",
    "window.mainloop()"
   ]
  },
  {
   "cell_type": "markdown",
   "id": "24e7245d",
   "metadata": {},
   "source": [
    "2) 텍스트 위젯\n",
    "    - 텍스트 위젯(text widget)은 멀티 라인 텍스트 영역에 사용된다.\n",
    "      텍스트 위젯은 아주 강력하고 유연성이 있으며 다양한 작업에 사용될 수 있다\n",
    "      텍스트 위젯의 주요 용도는 간단한 머리 라인 영역을 제공하는 것이지만\n",
    "      텍스트 위젯은 간단한 텍스트 편집기 또는 웹 브라우저로도 사용이 가능하다."
   ]
  },
  {
   "cell_type": "markdown",
   "id": "a682b0df",
   "metadata": {},
   "source": [
    "2) 텍스트 위젯\n",
    "    - 텍스트 위젯은 링크를 표시하거나 이미지, HTML을 표시하는데도 \n",
    "      사용될수 있다.\n",
    "      심지어 텍스트를 표시할 때, CSS 스타일을 사용할 수도 있다.\n",
    "      Text()메소드를 이용하면 텍스트 위젯을 만들 수 있다.\n",
    "      간단한 예로 30문자 X 2줄의 크기를 가지는 텍스트 위젯을 생성해보자.\n",
    "      우리는 insert()를 이용하여 텍스트 위젯에 데이터를 추가할 수 있다."
   ]
  },
  {
   "cell_type": "code",
   "execution_count": 2,
   "id": "0373f171",
   "metadata": {},
   "outputs": [],
   "source": [
    "from tkinter import * \n",
    "\n",
    "window = Tk()\n",
    "T = Text(window, height = 2, width = 60) # 60을 2로 나눔-> 30문자 2줄\n",
    "T.pack()\n",
    "T.insert(END, \"텍스트 위젯은 여러 줄의 \\n텍스트를 표시할수 있습니다.\")\n",
    "# END 매개변수는 텍스트 끝부분에 추가할 것을 의미함\n",
    "window.mainloop()"
   ]
  }
 ],
 "metadata": {
  "kernelspec": {
   "display_name": "Python 3",
   "language": "python",
   "name": "python3"
  },
  "language_info": {
   "codemirror_mode": {
    "name": "ipython",
    "version": 3
   },
   "file_extension": ".py",
   "mimetype": "text/x-python",
   "name": "python",
   "nbconvert_exporter": "python",
   "pygments_lexer": "ipython3",
   "version": "3.8.8"
  }
 },
 "nbformat": 4,
 "nbformat_minor": 5
}
