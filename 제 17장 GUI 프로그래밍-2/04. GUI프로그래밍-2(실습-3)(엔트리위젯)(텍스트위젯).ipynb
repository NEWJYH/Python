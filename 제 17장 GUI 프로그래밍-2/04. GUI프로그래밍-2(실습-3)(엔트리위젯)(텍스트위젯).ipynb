{
 "cells": [
  {
   "cell_type": "code",
   "execution_count": 3,
   "id": "546dbaaa",
   "metadata": {},
   "outputs": [],
   "source": [
    "# 엔트리 위젯(타 언어에서는 TextField): \n",
    "# 사용자가 데이터를 입력할수 있도록 해주는 위젯이다.\n",
    "\n",
    "from tkinter import *\n",
    "\n",
    "def show():\n",
    "    print(f\"이름 : {e1.get()}\\n나이 : {e2.get()}\")\n",
    "    \n",
    "window = Tk()\n",
    "Label(window, text = \"이름\").grid(row = 0, column = 0)\n",
    "Label(window, text = \"나이\").grid(row = 1, column = 0)\n",
    "\n",
    "# 엔트리 객체 만들기\n",
    "e1 = Entry(window)\n",
    "e2 = Entry(window)\n",
    "\n",
    "e1.grid(row=0,column=1)\n",
    "e2.grid(row=1,column=1)\n",
    "\n",
    "# 버튼 생성\n",
    "# window.quit은 윈도우 창을 닫을 때 사용하는 메서드\n",
    "b1 = Button(window,\n",
    "            text =\"종료\",\n",
    "            command=window.quit)\n",
    "\n",
    "b2 = Button(window,\n",
    "            text =\"보이기\",\n",
    "            command=show)\n",
    "\n",
    "b1.grid(row=2, \n",
    "        column=0,\n",
    "        sticky=W,\n",
    "        pady=5)\n",
    "# sticky 속성은 버튼의 주어진 기본배치값(중앙정렬)을 \n",
    "# 다른 정렬로 바꿀때 사용한다.\n",
    "\n",
    "b2.grid(row=2,\n",
    "        column=1,\n",
    "        sticky=W,\n",
    "        pady=5)\n",
    "\n",
    "\n",
    "window.mainloop()"
   ]
  },
  {
   "cell_type": "code",
   "execution_count": 6,
   "id": "9445ac0d",
   "metadata": {},
   "outputs": [],
   "source": [
    "# 텍스트 위젯 : 멀티 라인 텍스트 영역에 사용하는 것,\n",
    "# 타언어에서는 TextArea라고 호칭한다.\n",
    "from tkinter import * \n",
    "\n",
    "window = Tk()\n",
    "\n",
    "# 텍스트 위젯 인스턴스 생성\n",
    "# width의 값은 숫자나 알파벳은 1자리, 한글은 2자리를 차지한다.\n",
    "t = Text(window,\n",
    "        height = 50,\n",
    "        width = 100)\n",
    "# END 매개변수는 텍스트를 끝 부분에 추가하는 것을 의미\n",
    "t.insert(END,\"텍스트 위젯은 여러 줄의\\n텍스트를 표시할 수 있습니다.\")\n",
    "t.pack()\n",
    "window.mainloop()"
   ]
  }
 ],
 "metadata": {
  "kernelspec": {
   "display_name": "Python 3",
   "language": "python",
   "name": "python3"
  },
  "language_info": {
   "codemirror_mode": {
    "name": "ipython",
    "version": 3
   },
   "file_extension": ".py",
   "mimetype": "text/x-python",
   "name": "python",
   "nbconvert_exporter": "python",
   "pygments_lexer": "ipython3",
   "version": "3.8.8"
  }
 },
 "nbformat": 4,
 "nbformat_minor": 5
}
