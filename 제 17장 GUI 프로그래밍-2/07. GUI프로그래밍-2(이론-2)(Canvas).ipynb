{
 "cells": [
  {
   "cell_type": "markdown",
   "id": "dde2d0e2",
   "metadata": {},
   "source": [
    "3. tkinter를 이용한 그래픽"
   ]
  },
  {
   "cell_type": "markdown",
   "id": "a34c6087",
   "metadata": {},
   "source": [
    "1) 캔버스 생성\n",
    "    - tkinter를 이용하여 버튼이나 레이블만 생성할 수 있는 것은 아니다.\n",
    "      점, 선, 사각형, 원을 그릴 수 있다.\n",
    "      파이썬에서는 윈도우에 직접 그림을 그리지 않고 캔버스(canvas)\n",
    "      라는 위젯을 윈도우에 생성한 후에 캔버스에 그림을 그리게 되어 있다.\n",
    "      Canvas 위젯을 사용하면 많은 그래픽 기능을 사용할 수 있다.\n",
    "      Canvas 위젯을 이용하여 그래프를 그린다거나\n",
    "      그래픽 에디터를 작성할 수도 있고 많은 정류의 커스텀 위젯을 작성할 수 있다.\n",
    "      캔버스 위젯도 tkinter에 포함되어 있다.\n",
    "      다음과 같은 절차가 필요하다."
   ]
  },
  {
   "cell_type": "code",
   "execution_count": 2,
   "id": "a5aab9de",
   "metadata": {},
   "outputs": [],
   "source": [
    "from tkinter import *\n",
    "window = Tk()\n",
    "w = Canvas(window,\n",
    "          width = 300,\n",
    "          height = 200,\n",
    "          bg = \"black\")\n",
    "w.pack()\n",
    "window.mainloop()"
   ]
  },
  {
   "cell_type": "markdown",
   "id": "3cfb0fb1",
   "metadata": {},
   "source": [
    "1) 캔버스 생성\n",
    "    - 캔버스를 생성하려면 Canvas() 생성자를 호출한다.\n",
    "      이때 윈도우 위젯과 캔버스의 가로와 세로 길이를 전달한다.\n",
    "      캔버스가 생성되면 pack()을 호출해 주어야 화면에 나타난다.\n",
    "\n",
    "2) 선과 사각형 그리기\n",
    "    - 그림을 그리기 위해서는 좌표계가 있어야 한다.\n",
    "      일반적으로 그래픽에서는 다음과 같은 좌표계를 사용한다.\n",
    "      수학에서 카테시안 좌표계를 사용하지만 \n",
    "      그래픽에서는 왼쪽 상단이(0,0)이 되는 좌표계를 사용한다.\n",
    "      카테시안 좌표계는 x,y좌표가 0,0이면 중앙의 점을 나타낸다."
   ]
  },
  {
   "cell_type": "markdown",
   "id": "7f917db7",
   "metadata": {},
   "source": [
    "2) 선과 사각형 그리기\n",
    "    - 캔버스에 직선과 사각형을 그리는 코드는 다음과 같다."
   ]
  },
  {
   "cell_type": "code",
   "execution_count": 6,
   "id": "ad572da6",
   "metadata": {},
   "outputs": [],
   "source": [
    "from tkinter import *\n",
    "window = Tk()\n",
    "w = Canvas(window,\n",
    "          width = 300,\n",
    "          height = 200)\n",
    "w.pack()\n",
    "\n",
    "# 선그리기\n",
    "# 시작좌표 0,0 끝좌표 300,200 \n",
    "w.create_line(0,0,300,200)\n",
    "\n",
    "# 선그리기\n",
    "# 시작좌표 0,0 끝좌표 300,100\n",
    "# 채우기 red\n",
    "w.create_line(0,0,300,100, fill=\"red\")\n",
    "\n",
    "# 사각형 만들기 \n",
    "# 시작좌표 50,20 끝좌표 200,100\n",
    "# 채우기 파란색\n",
    "w.create_rectangle(50,25,200,100, fill=\"blue\")\n",
    "\n",
    "\n",
    "window.mainloop()"
   ]
  },
  {
   "cell_type": "markdown",
   "id": "280be73b",
   "metadata": {},
   "source": [
    "2) 선과 사각형 그리기\n",
    "    - 우리가 생성한 캔버스는 300픽셀의 폭과 200픽셀의 높이를 가지고 있다.\n",
    "      화면 왼쪽 상단의 좌표는 0,0이다.\n",
    "      화면 오른쪽 하단의 좌표는 300,200이 된다.\n",
    "      \n",
    "    - 다음 문장은 캔버스 위젯 위에 0,0에서 300,200까지 직선을 그린다.\n",
    "      w.create_line(0,0,300,200)"
   ]
  },
  {
   "cell_type": "code",
   "execution_count": 7,
   "id": "c6915d34",
   "metadata": {},
   "outputs": [],
   "source": [
    "from tkinter import *\n",
    "window = Tk()\n",
    "w = Canvas(window,\n",
    "          width = 300,\n",
    "          height = 200)\n",
    "w.pack()\n",
    "\n",
    "# 선그리기\n",
    "# 시작좌표 0,0 끝좌표 300,200 \n",
    "w.create_line(0,0,300,200)\n",
    "\n",
    "window.mainloop()"
   ]
  },
  {
   "cell_type": "markdown",
   "id": "b7999f3b",
   "metadata": {},
   "source": [
    "2) 선과 사각형 그리기\n",
    "    - 다음 문장은 캔버스 위젯 위에 0,0에서 300,100까지 직선을 그린다.\n",
    "      매개 변수 fill 을 통하여 직선의 색상을 빨강색으로 설정하였다.\n",
    "      w.create_line(0,0,300,100,fill=\"red\")\n",
    "      \n",
    "    "
   ]
  },
  {
   "cell_type": "code",
   "execution_count": 8,
   "id": "88e3bfa9",
   "metadata": {},
   "outputs": [],
   "source": [
    "from tkinter import *\n",
    "window = Tk()\n",
    "w = Canvas(window,\n",
    "          width = 300,\n",
    "          height = 200)\n",
    "w.pack()\n",
    "\n",
    "# 선그리기\n",
    "# 시작좌표 0,0 끝좌표 300,200 \n",
    "w.create_line(0,0,300,100,fill=\"red\")\n",
    "\n",
    "window.mainloop()"
   ]
  },
  {
   "cell_type": "markdown",
   "id": "cc5571e5",
   "metadata": {},
   "source": [
    "2) 선과 사각형 그리기\n",
    "    - 다음 문장은 캔버스 위젯 위에 사각형을 그린다.\n",
    "      create_rectangle()에 전달되는 매개변수는 사각형의 왼쪽 상단의 좌표와\n",
    "      오른쪽 하단의 좌표이다. \n",
    "      매개 변수 fill을 통해 채우기 색상을 파란색으로 한다."
   ]
  },
  {
   "cell_type": "code",
   "execution_count": 9,
   "id": "6d92a749",
   "metadata": {},
   "outputs": [],
   "source": [
    "from tkinter import *\n",
    "window = Tk()\n",
    "w = Canvas(window,\n",
    "          width = 300,\n",
    "          height = 200)\n",
    "w.pack()\n",
    "\n",
    "# 사각형 만들기 \n",
    "# 시작좌표 50,20 끝좌표 200,100\n",
    "# 채우기 파란색\n",
    "w.create_rectangle(50,25,200,100, fill=\"blue\")\n",
    "\n",
    "\n",
    "window.mainloop()"
   ]
  },
  {
   "cell_type": "markdown",
   "id": "d19bf2df",
   "metadata": {},
   "source": [
    "2) 선과 사각형 그리기\n",
    "    - 캔버스 위젯에 추가된 항목(선, 사각형, 원)들은 삭제하기 전까지 유지된다.\n",
    "      만약 그리기 속성을 변경하고 싶으면 coords(), itemconfig(),\n",
    "      move()를 사용할 수 있다.\n",
    "      필요 없을 때는 delete()를 이용하여 삭제할 수 있다.\n",
    "      캔버스에 그리기 항목이 많아지면 무척 느려지므로 필요없는 경우에는\n",
    "      지체 없이 삭제하도록 하자."
   ]
  },
  {
   "cell_type": "code",
   "execution_count": 16,
   "id": "065c6193",
   "metadata": {},
   "outputs": [],
   "source": [
    "from tkinter import *\n",
    "window = Tk()\n",
    "w = Canvas(window,width=300,height=200)\n",
    "w.pack()\n",
    "i = w.create_line(0,0,300,200,fill=\"red\")\n",
    "w.coords(i,0,0,300,100) # 좌표를 변경한다.\n",
    "w.itemconfig(i,fill=\"blue\") # 색상을 변경한다.\n",
    "# w.delete(i) # 삭제한다.\n",
    "# w.delete(ALL) # 모든 항목을 삭제한다.\n",
    "window.mainloop()"
   ]
  },
  {
   "cell_type": "markdown",
   "id": "cb5f653b",
   "metadata": {},
   "source": [
    "2) 선과 사각형 그리기\n",
    "    - 삭제해버리면 화면에 아무것도 표시가 되지 않으므로\n",
    "      삭제 메소드는 주석 처리하였다. create_line() 함수는 식별자를 반환한다.\n",
    "      따라서 이것을 변수에 기억하여 두었다가 삭제 시에 사용하면 된다."
   ]
  },
  {
   "cell_type": "markdown",
   "id": "4ad54a36",
   "metadata": {},
   "source": [
    "3) 색상 설정하기\n",
    "    - 앞에서 색상에 대해서 강의한 대로 색을 지정하려면 색상 이름(영어)을 \n",
    "      사용하면 된다. 예를 들어서 \"red\",\"white\",\"blue\"와 같은\n",
    "      색상의 이름을 사용하면 된다.\n",
    "    - 앞에서 직선이나 사각형을 그릴 때 fill이라고 하는 이름 매개 변수를\n",
    "      사용하여 색상을 지정하였다. fill의 도형의 채우기 색상이다.\n",
    "      채우기가 색상이 아니고 경계선의 색상을 지정하려면 어떻게 해야할까?\n",
    "      outline이라는 이름 매개 변수를 사용하면 된다."
   ]
  },
  {
   "cell_type": "code",
   "execution_count": 17,
   "id": "136303c6",
   "metadata": {},
   "outputs": [],
   "source": [
    "from tkinter import *\n",
    "window = Tk()\n",
    "w = Canvas(window,\n",
    "          width = 300,\n",
    "          height = 200)\n",
    "w.pack()\n",
    "\n",
    "# 사각형 만들기 \n",
    "# 시작좌표 50,20 끝좌표 200,100\n",
    "# 채우기 파란색\n",
    "w.create_rectangle(50,25,200,100, outline=\"blue\")\n",
    "\n",
    "\n",
    "window.mainloop()"
   ]
  },
  {
   "cell_type": "markdown",
   "id": "fcc627d7",
   "metadata": {},
   "source": [
    "4) 일반적인 색상\n",
    "    - 이름이 있는 색상이 아니면 어떻게 해야 할까?\n",
    "      이 세상에 있는 색상은 빨간색(red), 녹색(green), 파란색(blue)\n",
    "      을 잘 섞으면 전부 만들 수 있다. \n",
    "      따라서 빨간색,녹색,파란색 성분의 양을 숫자로 지정하면 된다.\n",
    "      일반적으로 0에서 255사이의 색상을 사용한다.\n",
    "      \n",
    "      따라서 (0,0,0)은 빨간색, 녹색, 파란색 성분이 \n",
    "      전부 0이라는 의미가 되고 검정색을 나타낸다.\n",
    "      \n",
    "      (255,255,255)는 빨간색,녹색,파란색 성분이 \n",
    "      전부 255이라는 의미가 되고 흰색을 나타낸다."
   ]
  },
  {
   "cell_type": "markdown",
   "id": "90ce6e8f",
   "metadata": {},
   "source": [
    "4) 일반적인 색상\n",
    "    - 파이썬에서는 빨간색, 녹색, 파란색 성분을 16진수로 표시한다.\n",
    "      16진수는 0부터 F까지의 기호를 사용한다. 0123456789ABCDEF\n",
    "      A가 10, B가 11, C가 12, D가 13, E가 14, F가 15와 같다.\n",
    "      16진수로 흰색은 \"#FFFFFF\"가 된다.\n",
    "      #기호는 16진수임을 알려주는 기호이다. \n",
    "      이번에는 우리가 만든 색상을 이용하여 사각형을 채워보자."
   ]
  },
  {
   "cell_type": "code",
   "execution_count": 19,
   "id": "a979665c",
   "metadata": {},
   "outputs": [],
   "source": [
    "from tkinter import *\n",
    "window = Tk()\n",
    "w = Canvas(window, width = 300, height = 200)\n",
    "w.pack()\n",
    "w.create_rectangle(50,25,200,100,fill=\"#FA88AB\",outline=\"white\")\n",
    "window.mainloop()"
   ]
  },
  {
   "cell_type": "markdown",
   "id": "9ee536d8",
   "metadata": {},
   "source": [
    "5) 색상을 사용자로부터 입력받기\n",
    "    - tkinter.colorchooser 모듈의 askcolor()를 호출하면 \n",
    "      대화상자를 통하여 사용자로부터 색상의 값을 입력받을 수 있다."
   ]
  },
  {
   "cell_type": "code",
   "execution_count": 20,
   "id": "3f31fefb",
   "metadata": {},
   "outputs": [
    {
     "name": "stdout",
     "output_type": "stream",
     "text": [
      "((208, 173, 228), '#d0ade4')\n"
     ]
    }
   ],
   "source": [
    "from tkinter import colorchooser\n",
    "\n",
    "color = colorchooser.askcolor()\n",
    "print(color)"
   ]
  },
  {
   "cell_type": "markdown",
   "id": "ec17eab8",
   "metadata": {},
   "source": [
    "5) 색상을 사용자로부터 입력받기\n",
    "    - askcolor()는 결과를 퓨틀로 반환한다.\n",
    "      튜플의 첫 번째 3개의 숫자는 빨간색, 녹색, 파란색 성분의 값을 나타낸다.\n",
    "      튜플의 2번째 요소는 색상을 16진수로 표현한 문자열이다.\n",
    "      이 튜플을 이용하여 색상을 지정하면 된다.\n",
    "      사각형을 그릴 때 사용자에게 색상을 물어보도록 코드를 변경하자."
   ]
  },
  {
   "cell_type": "code",
   "execution_count": 4,
   "id": "021c5f2a",
   "metadata": {},
   "outputs": [],
   "source": [
    "from tkinter import *\n",
    "from tkinter import colorchooser\n",
    "\n",
    "window = Tk()\n",
    "w = Canvas(window, width = 300, height = 200)\n",
    "w.pack()\n",
    "color = colorchooser.askcolor()\n",
    "w.create_rectangle(50,25,200,100, fill=color[1])\n",
    "window.mainloop()"
   ]
  },
  {
   "cell_type": "markdown",
   "id": "740edf87",
   "metadata": {},
   "source": [
    "6) 기초 도형 그리기"
   ]
  },
  {
   "cell_type": "code",
   "execution_count": 1,
   "id": "9e83b45c",
   "metadata": {},
   "outputs": [],
   "source": [
    "from tkinter import *\n",
    "from tkinter import colorchooser\n",
    "\n",
    "window = Tk()\n",
    "w = Canvas(window, width = 300, height = 200)\n",
    "w.pack()\n",
    "color = colorchooser.askcolor()\n",
    "\n",
    "w.create_rectangle(50,25,200,100, fill=color[1])\n",
    "\n",
    "# 도형의 종류\n",
    "\n",
    "# 사각형에 내접한 원이 그려지고 원중에서 90도만 그려진다\n",
    "w.create_arc(10,10,100,150,extent=90, fill=color[1])\n",
    "\n",
    "# 타원\n",
    "# 타원은 지정된 사각형 안에 그려진다.\n",
    "w.create_oval(15,25,100,125)\n",
    "\n",
    "# 폴리곤\n",
    "# (10,10)에서 출발하여서 (150,110)으로가고 최종적으로 (250,20)에서 종료된다.\n",
    "w.create_polygon(10,10,150,110,250,20, fill = \"yellow\")\n",
    "\n",
    "# 텍스트의 중앙 위치를 나타내는 (x,y)좌표 색상을 표시하는 매개변수 fill\n",
    "# 폰트를 나타내는 매개 변수 font\n",
    "w.create_text(100,20,\n",
    "             text=\"Sing Street\",\n",
    "             fill=\"blue\",\n",
    "             font=(\"Courier\",20))\n",
    "\n",
    "window.mainloop()\n"
   ]
  },
  {
   "cell_type": "markdown",
   "id": "6543a9eb",
   "metadata": {},
   "source": [
    "7) 이미지 표시하기\n",
    "    - 화면에 이미지를 표시하는 것은 게임과 같은 애플리케이션에서\n",
    "      무척 중요한 기능이다.\n",
    "      tkinter에서 임지를 표시하려면 먼저 이미지를 로드 하여야 한다.\n",
    "      그 후에 create_image() 함수를 사용하면 된다.\n",
    "      \n",
    "    - 파이썬이 접근할 수 있는 디렉토리에 이미지가 있어야 한다.\n",
    "      예를 들어서 d드라이브에 있는 starship.png 이미지 파일을 두어도 된다.\n",
    "      tkinter가 읽을 수 있는 아미지 파일은 png파일과 GIF 등이 있다.\n",
    "      만약 다른 형식의 미지 파일을 읽는 기능이 필요하다면 \n",
    "      Python Imaging Library를 사용하여야 한다.\n",
    "      d 드라이브에 있는 startship.png 이미지 파일을 읽어서\n",
    "      캔버스에 표시하는 예제는 다음과 같다."
   ]
  },
  {
   "cell_type": "code",
   "execution_count": null,
   "id": "0962f2bf",
   "metadata": {},
   "outputs": [],
   "source": [
    "from tkinter import *\n",
    "window = Tk()\n",
    "canvas = Canvas(window,\n",
    "               width = 300,\n",
    "               height = 200)\n",
    "canvas.pack()\n",
    "img = PhotoImage(file=\"D:\\\\starship.png\")\n",
    "canvas.create_image(20,20, anchor=NW,image=img)\n",
    "window.mainloop()"
   ]
  },
  {
   "cell_type": "markdown",
   "id": "6af749d3",
   "metadata": {},
   "source": [
    "7) 이미지 표시하기\n",
    "    - d 드라이브에 있는 starship.png 이미지 파일은 PhotoImage()에 의하여\n",
    "      읽혀져서 img 변수에 저장되었다.\n",
    "      이미지가 올바르게 읽혀졌다면, create_image() 함수가 이미지를 화면에 \n",
    "      표시한다. create_image()함수의 첫번째 매개 변수는 이미지가 표시되는\n",
    "      좌표이다. ancor=NW는 이미지의 왼쪽 상단 (North, West)을 기준점으로\n",
    "      사용하라는 것을 의미한다. 즉 이미지의 왼쪽 상단이 좌표(20,20)에\n",
    "      놓여진다. 마지막 매개변수 image는 표시할 이미지가 저장된 변수이다."
   ]
  }
 ],
 "metadata": {
  "kernelspec": {
   "display_name": "Python 3",
   "language": "python",
   "name": "python3"
  },
  "language_info": {
   "codemirror_mode": {
    "name": "ipython",
    "version": 3
   },
   "file_extension": ".py",
   "mimetype": "text/x-python",
   "name": "python",
   "nbconvert_exporter": "python",
   "pygments_lexer": "ipython3",
   "version": "3.8.8"
  }
 },
 "nbformat": 4,
 "nbformat_minor": 5
}
