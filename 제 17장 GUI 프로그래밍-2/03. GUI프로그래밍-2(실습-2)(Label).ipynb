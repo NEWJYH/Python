{
 "cells": [
  {
   "cell_type": "code",
   "execution_count": 3,
   "id": "0ec15547",
   "metadata": {},
   "outputs": [
    {
     "name": "stdout",
     "output_type": "stream",
     "text": [
      "레이블 예제\n",
      "레이블 예제\n",
      "레이블 예제\n",
      "레이블 예제\n",
      "레이블 예제\n",
      "레이블 예제\n",
      "레이블 예제\n",
      "레이블 예제\n",
      "레이블 예제\n",
      "레이블 예제\n",
      "레이블 예제\n",
      "레이블 예제\n",
      "레이블 예제\n",
      "레이블 예제\n",
      "레이블 예제\n",
      "레이블 예제\n",
      "레이블 예제\n",
      "레이블 예제\n",
      "레이블 예제\n"
     ]
    }
   ],
   "source": [
    "# 레이블의 텍스트 값을 가져오는 방법 실습하기\n",
    "\n",
    "# 1번째 방법 : cget() 이용\n",
    "from tkinter import * \n",
    "\n",
    "class Test():\n",
    "    def __init__(self):\n",
    "        self.root = Tk() # f루트 윈도우를 생성\n",
    "        self.root.geometry(\"200x80\") # 윈도우의 크기 설정\n",
    "        self.label = Label(self.root, \n",
    "                          text = \"레이블 예제\")\n",
    "        # 버튼을 클릭하면 readLabelText() 메서드가 호출됨\n",
    "        self.button = Button(self.root, \n",
    "                               text = \"레이블의 텍스트 값 읽기\",\n",
    "                               command = self.readLabelText)\n",
    "        \n",
    "        self.button.pack()\n",
    "        self.label.pack()\n",
    "        self.root.mainloop()\n",
    "        \n",
    "    def readLabelText(self):\n",
    "        # 레이블에 있는 text 속성의 값을 출력하는 메서드\n",
    "        print(self.label.cget(\"text\"))\n",
    "        \n",
    "if __name__ == \"__main__\":\n",
    "    app = Test()"
   ]
  },
  {
   "cell_type": "code",
   "execution_count": 4,
   "id": "e2c573da",
   "metadata": {},
   "outputs": [
    {
     "name": "stdout",
     "output_type": "stream",
     "text": [
      "레이블 예제\n",
      "레이블 예제\n",
      "레이블 예제\n",
      "레이블 예제\n",
      "레이블 예제\n",
      "레이블 예제\n",
      "레이블 예제\n",
      "레이블 예제\n",
      "레이블 예제\n",
      "레이블 예제\n",
      "레이블 예제\n",
      "레이블 예제\n",
      "레이블 예제\n",
      "레이블 예제\n",
      "레이블 예제\n",
      "레이블 예제\n",
      "레이블 예제\n",
      "레이블 예제\n",
      "레이블 예제\n",
      "레이블 예제\n",
      "레이블 예제\n",
      "레이블 예제\n",
      "레이블 예제\n",
      "레이블 예제\n"
     ]
    }
   ],
   "source": [
    "# 2번째 방법 : 레이블 객체도 \"text\"키에 접근해서 레이블 텍스트 얻기\n",
    "from tkinter import * \n",
    "\n",
    "class Test():\n",
    "    def __init__(self):\n",
    "        self.root = Tk() # f루트 윈도우를 생성\n",
    "        self.root.geometry(\"200x80\") # 윈도우의 크기 설정\n",
    "        self.label = Label(self.root, \n",
    "                          text = \"레이블 예제\")\n",
    "        # 버튼을 클릭하면 readLabelText() 메서드가 호출됨\n",
    "        self.button = Button(self.root, \n",
    "                               text = \"레이블의 텍스트 값 읽기\",\n",
    "                               command = self.readLabelText)\n",
    "        \n",
    "        self.button.pack()\n",
    "        self.label.pack()\n",
    "        self.root.mainloop()\n",
    "        \n",
    "    def readLabelText(self):\n",
    "        # 레이블에 있는 text 키의 값을 출력하는 메서드\n",
    "        print(self.label[\"text\"])\n",
    "        \n",
    "if __name__ == \"__main__\":\n",
    "    app = Test()"
   ]
  },
  {
   "cell_type": "code",
   "execution_count": 6,
   "id": "619275df",
   "metadata": {},
   "outputs": [
    {
     "name": "stdout",
     "output_type": "stream",
     "text": [
      "레이블 예제\n",
      "레이블 예제\n",
      "레이블 예제\n",
      "레이블 예제\n",
      "레이블 예제\n"
     ]
    }
   ],
   "source": [
    "# 3번쨰 방법 : Stringvar 클래스를 이용하여 레이블에 텍스트를 얻는 방법\n",
    "# Stringvar 클래스는 ktinter 문자열 변수를 만드는 tkinter 생성자의 한 유형\n",
    "from tkinter import * \n",
    "class Test():\n",
    "    def __init__(self):\n",
    "        self.root = Tk() # f루트 윈도우를 생성\n",
    "        self.root.geometry(\"200x80\") # 윈도우의 크기 설정\n",
    "        self.text = StringVar() # StringVar() 인스턴스 생성\n",
    "        self.text.set(\"레이블 예제\") #StringVar() 에 문자열 지정\n",
    "        \n",
    "        # 대입\n",
    "        self.label = Label(self.root, \n",
    "                          text = \"레이블 예제\",\n",
    "                          textvariable = self.text)\n",
    "        # 버튼을 클릭하면 readLabelText() 메서드가 호출됨\n",
    "        self.button = Button(self.root, \n",
    "                               text = \"레이블의 텍스트 값 읽기\",\n",
    "                               command = self.readLabelText)\n",
    "        \n",
    "        self.button.pack()\n",
    "        self.label.pack()\n",
    "        self.root.mainloop()\n",
    "        \n",
    "    def readLabelText(self):\n",
    "        # StringVar 클래스를 이용하여 레이블 텍스트를 얻는 방법\n",
    "        print(self.text.get())\n",
    "        \n",
    "if __name__ == \"__main__\":\n",
    "    app = Test()"
   ]
  }
 ],
 "metadata": {
  "kernelspec": {
   "display_name": "Python 3",
   "language": "python",
   "name": "python3"
  },
  "language_info": {
   "codemirror_mode": {
    "name": "ipython",
    "version": 3
   },
   "file_extension": ".py",
   "mimetype": "text/x-python",
   "name": "python",
   "nbconvert_exporter": "python",
   "pygments_lexer": "ipython3",
   "version": "3.8.8"
  }
 },
 "nbformat": 4,
 "nbformat_minor": 5
}
