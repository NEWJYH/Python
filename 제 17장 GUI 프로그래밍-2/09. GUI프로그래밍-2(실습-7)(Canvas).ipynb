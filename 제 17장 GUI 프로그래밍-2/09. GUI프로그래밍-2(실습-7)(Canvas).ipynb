{
 "cells": [
  {
   "cell_type": "code",
   "execution_count": 9,
   "id": "e9d61b7c",
   "metadata": {},
   "outputs": [],
   "source": [
    "# Random_drow_rectangle\n",
    "# 랜덤하게 사각형을 윈도우창에 나타내기 실습\n",
    "import random\n",
    "from tkinter import *\n",
    "\n",
    "window = Tk()\n",
    "canvas = Canvas(window,\n",
    "               width = 600,\n",
    "               height = 500,\n",
    "               bg = \"white\")\n",
    "canvas.pack()\n",
    "\n",
    "# 7개의 색상을 리스트로 생성\n",
    "color = [\"red\",\"orange\",\"black\",\"yellow\",\"violet\",\"green\"]\n",
    "\n",
    "def draw_rect():\n",
    "    canvas.delete(ALL)\n",
    "    x = random.randint(0,600)\n",
    "    y = random.randint(0,500)\n",
    "    w = random.randrange(100)\n",
    "    h = random.randrange(100)\n",
    "    # random.choice()는 매개변수로 \n",
    "    # 들어간 시퀸스 자료형의 인덱스를 무작위로\n",
    "    # 랜덤하게 생성해준다.\n",
    "    canvas.create_rectangle(x,y,w,h, fill=random.choice(color))\n",
    "\n",
    "\n",
    "button = Button(window,\n",
    "               text=\"사각형그리기\",\n",
    "               width=20,\n",
    "               height=5,\n",
    "               command=draw_rect)\n",
    "button.pack()\n",
    "\n",
    "window.mainloop()"
   ]
  }
 ],
 "metadata": {
  "kernelspec": {
   "display_name": "Python 3",
   "language": "python",
   "name": "python3"
  },
  "language_info": {
   "codemirror_mode": {
    "name": "ipython",
    "version": 3
   },
   "file_extension": ".py",
   "mimetype": "text/x-python",
   "name": "python",
   "nbconvert_exporter": "python",
   "pygments_lexer": "ipython3",
   "version": "3.8.8"
  }
 },
 "nbformat": 4,
 "nbformat_minor": 5
}
