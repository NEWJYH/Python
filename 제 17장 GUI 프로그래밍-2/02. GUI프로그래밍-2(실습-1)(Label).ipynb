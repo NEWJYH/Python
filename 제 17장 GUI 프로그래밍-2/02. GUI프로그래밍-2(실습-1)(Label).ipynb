{
 "cells": [
  {
   "cell_type": "code",
   "execution_count": 1,
   "id": "9fb03a3b",
   "metadata": {},
   "outputs": [],
   "source": [
    "# Label 에 대한 실습\n",
    "# Label 위젯에 이미지 표시하기 실습\n",
    "from tkinter import *\n",
    "\n",
    "window = Tk()\n",
    "# 이미지 인스턴스를 생성하여 photo 변수에 저장\n",
    "photo = PhotoImage(file =\"images/a1.gif\")\n",
    "lbl = Label(window, image=photo)\n",
    "# 이미지 객체를 레이블에서 참조를 얻는 것이다\n",
    "# lbl.photo = photo\n",
    "lbl.pack()\n",
    "\n",
    "window.mainloop()"
   ]
  },
  {
   "cell_type": "code",
   "execution_count": 4,
   "id": "cce2fcc4",
   "metadata": {},
   "outputs": [],
   "source": [
    "# Label에 이미지와 텍스트를 동시에 나타내기\n",
    "\n",
    "from tkinter import *\n",
    "\n",
    "window = Tk()\n",
    "photo = PhotoImage(file = \"images/w2.gif\")\n",
    "# 이미지가 들어가 있는 레이블은 윈도우의 우측에 배치\n",
    "# PhotoImage 클래스는 jpg 확장자를 지원하지 않는다.\n",
    "lbl = Label(window, image = photo).pack(side = RIGHT) \n",
    "msg = \"안녕반갑다. ㅁㅁ;니;ㅁ니ㅏㅇㄹ;ㅁ닝;ㄴ미ㅏ러;미낭ㄻ;날머ㅣㄴ;ㅣ알먼ㄹR\" \\\n",
    "      \"안녕반갑다. ㅁㅁ;니;ㅁ니ㅏㅇㄹ;ㅁ닝;ㄴ미ㅏ러;미낭ㄻ;날머ㅣㄴ;ㅣ알먼ㄹ\"\n",
    "\n",
    "# 텍스트를 출력\n",
    "lbl2 = Label(window, \n",
    "            justify=LEFT, # 텍스트를 왼쪽 정렬\n",
    "             # \"justify\" 매개변수는 LEFT, RIGHT 또는 정렬 값을 가질수 있다.\n",
    "            padx = 10,\n",
    "            text = msg).pack(side=LEFT)\n",
    "\n",
    "window.mainloop()"
   ]
  },
  {
   "cell_type": "code",
   "execution_count": 8,
   "id": "f5cb4e0b",
   "metadata": {},
   "outputs": [],
   "source": [
    "# 레이블에 색상과 폰트를 변경하기 실습\n",
    "\n",
    "from tkinter import * \n",
    "\n",
    "window = Tk()\n",
    "\n",
    "lbl = Label(window,\n",
    "            text = \"고딕체 폰트와 빨간색을 사용합니다.\",\n",
    "            fg = \"red\",\n",
    "            bg = \"black\",\n",
    "            font = \"고딕 32 bold italic\")\n",
    "\n",
    "lbl.pack()\n",
    "\n",
    "lbl1 = Label(window,\n",
    "             text = \"궁서체 폰트와 파란색을 사용합니다.\",\n",
    "             fg = \"blue\",\n",
    "             bg = \"yellow\",\n",
    "             font = \"궁서 32 bold italic\")\n",
    "\n",
    "lbl1.pack()\n",
    "\n",
    "window.mainloop()"
   ]
  }
 ],
 "metadata": {
  "kernelspec": {
   "display_name": "Python 3",
   "language": "python",
   "name": "python3"
  },
  "language_info": {
   "codemirror_mode": {
    "name": "ipython",
    "version": 3
   },
   "file_extension": ".py",
   "mimetype": "text/x-python",
   "name": "python",
   "nbconvert_exporter": "python",
   "pygments_lexer": "ipython3",
   "version": "3.8.8"
  }
 },
 "nbformat": 4,
 "nbformat_minor": 5
}
