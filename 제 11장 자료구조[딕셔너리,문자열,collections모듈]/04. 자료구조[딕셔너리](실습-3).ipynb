{
 "cells": [
  {
   "cell_type": "code",
   "execution_count": null,
   "id": "2fd497e7",
   "metadata": {},
   "outputs": [],
   "source": [
    "# 영한 사전 만들기\n",
    "# 공백 딕셔너리 생성하고 여기에 영어단어를 키로 하고 설명을 값으로 저장하면\n",
    "# 될 것이다.\n",
    "# 출력 결과\n",
    "# 단어를 입력하시오 : one\n",
    "# 하나\n",
    "# 단어를 입력하시오 : python\n",
    "# 해당하는 단어가 없습니다."
   ]
  },
  {
   "cell_type": "code",
   "execution_count": 10,
   "id": "57d2eb59",
   "metadata": {},
   "outputs": [
    {
     "name": "stdout",
     "output_type": "stream",
     "text": [
      "단어를 입력하시오 : ㅂ\n",
      "해당하는 단어가 없습니다.\n",
      "단어를 입력하시오 : q\n",
      "영어사전을 종료합니다.\n"
     ]
    }
   ],
   "source": [
    "English_dic = {} # 빈 딕셔너리 생성\n",
    "\n",
    "def Dictionary_add(dictname,key,value):\n",
    "    dictname[key] = value\n",
    "    \n",
    "def Dictionary_search(dictname, key):\n",
    "    if key in dictname.keys():\n",
    "        print(dictname[key])\n",
    "    else:\n",
    "        print(\"해당하는 단어가 없습니다.\")\n",
    "       \n",
    "\n",
    "Dictionary_add(English_dic,\"one\",\"하나\")\n",
    "Dictionary_add(English_dic,\"value\",\"값\")\n",
    "\n",
    "while True:\n",
    "    USER_INPUT = input(\"단어를 입력하시오 : \")\n",
    "    if USER_INPUT == \"q\" or USER_INPUT == \"Q\":\n",
    "        print(\"영어사전을 종료합니다.\")\n",
    "        break\n",
    "    Dictionary_search(English_dic,USER_INPUT)\n",
    "    \n"
   ]
  },
  {
   "cell_type": "code",
   "execution_count": 13,
   "id": "d3c555f2",
   "metadata": {},
   "outputs": [
    {
     "name": "stdout",
     "output_type": "stream",
     "text": [
      "단어를 입력하시오(종료하시려면 종료 라고 입력해주세요) : exit\n",
      "프로그램을 종료합니다\n"
     ]
    }
   ],
   "source": [
    "eng_dict = dict() # 빈 딕셔너리 생성\n",
    "exitkey = [\"종료\",\"끄기\",\"exit\",\"Exit\",\"Exit()\",\"exit()\"]\n",
    "# 빈 딕셔너리에 데이터를 추가하기\n",
    "eng_dict[\"one\"] = \"하나\"\n",
    "eng_dict[\"two\"] = \"둘\"\n",
    "eng_dict[\"three\"] = \"셋\"\n",
    "eng_dict[\"four\"] = \"넷\"\n",
    "eng_dict[\"five\"] = \"다섯\"\n",
    "\n",
    "while True:\n",
    "    word = input(\"단어를 입력하시오(종료하시려면 종료 라고 입력해주세요) : \")\n",
    "    if word in exitkey:\n",
    "        print(\"프로그램을 종료합니다\")\n",
    "        break\n",
    "    if word in eng_dict:\n",
    "        print(eng_dict[word])\n",
    "    else:\n",
    "        print(\"해당하는 단어가 없습니다.\")"
   ]
  },
  {
   "cell_type": "code",
   "execution_count": 16,
   "id": "3645c87c",
   "metadata": {},
   "outputs": [
    {
     "name": "stdout",
     "output_type": "stream",
     "text": [
      "파일 이름 입력04.words.txt\n",
      "{'신은혁': 2, '은': 1, 'asia': 1, '구역': 1, '부분에': 1, '살고': 1, '있습니다.': 1, 'do': 1, 'you': 1, 'know': 1}\n"
     ]
    }
   ],
   "source": [
    "# 사용자가 지정하는 파일을 읽어서 파일에 저장되어진 각각의 단어가\n",
    "# 몇번이나 나오는지 계산하는 프로그램을 작성하여 보자.\n",
    "# 출력 결과\n",
    "# 파일이름 입력 : 04.words.txt\n",
    "# {\"asia\": 3, \"do\":2, \"신은혁\": 2}\n",
    "\n",
    "# 파일 이름 입력받기\n",
    "f_name = input(\"파일 이름 입력\")\n",
    "\n",
    "file = open(f_name, mode = \"r\", encoding = \"utf-8\")\n",
    "\n",
    "word_count = dict() # 빈 딕셔너리 생성\n",
    "\n",
    "for line in file: # 파일로부터 한줄씩 읽어온다.\n",
    "    words = line.split() # 읽어온 한줄문장을 단어(토큰)으로 나눈다.\n",
    "    for word in words: # 단어리스트에 해당하는 단어 만큼 루프\n",
    "        if word not in word_count: # 단어리스트에 단어가 없다면\n",
    "            word_count[word] = 1\n",
    "        else: # 존재 한다면\n",
    "            word_count[word] += 1\n",
    "\n",
    "print(word_count)\n",
    "file.close()"
   ]
  },
  {
   "cell_type": "code",
   "execution_count": null,
   "id": "2261be78",
   "metadata": {},
   "outputs": [],
   "source": []
  }
 ],
 "metadata": {
  "kernelspec": {
   "display_name": "Python 3",
   "language": "python",
   "name": "python3"
  },
  "language_info": {
   "codemirror_mode": {
    "name": "ipython",
    "version": 3
   },
   "file_extension": ".py",
   "mimetype": "text/x-python",
   "name": "python",
   "nbconvert_exporter": "python",
   "pygments_lexer": "ipython3",
   "version": "3.8.8"
  }
 },
 "nbformat": 4,
 "nbformat_minor": 5
}
