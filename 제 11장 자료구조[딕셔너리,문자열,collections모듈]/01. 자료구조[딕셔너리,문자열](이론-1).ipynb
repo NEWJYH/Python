{
 "cells": [
  {
   "cell_type": "markdown",
   "id": "52658b65",
   "metadata": {},
   "source": [
    "제 11장 자료구조[딕셔너리, 문자열, collections모듈]"
   ]
  },
  {
   "cell_type": "markdown",
   "id": "c841278a",
   "metadata": {},
   "source": [
    "1. 딕셔너리(dictionary)"
   ]
  },
  {
   "cell_type": "markdown",
   "id": "1c9f159f",
   "metadata": {},
   "source": [
    "1) 딕셔너리 개념\n",
    "    - 딕셔너리(dictionary)는 사전이라는 의미이다.\n",
    "      사전에는 단어와 단어의 설명이 저장되어 있다.\n",
    "      파이썬의 딕셔너리는 \n",
    "      키(key)와 값(value)의 쌍을 저장할수 있는 객체이다.\n",
    "      그리고 키를 이용하여 값을 검색할수 있다\n",
    "      \n",
    "    - 딕셔너리에서 키는 해시가능한 객체이어야 하고\n",
    "      중복되는 값은 허용하지 않는다."
   ]
  },
  {
   "cell_type": "markdown",
   "id": "c8e63d85",
   "metadata": {},
   "source": [
    "2) 딕셔너리 생성\n",
    "    - 딕셔너리는 중괄호 안에 항목을 쉼표로 분리시켜서 나열하면\n",
    "      된다. 항목은 키(key)와 값(value)으로 구성된다.\n",
    "      \n",
    "      딕셔너리 = { 키1:값1,키2:값2,키3:값3.... }"
   ]
  },
  {
   "cell_type": "markdown",
   "id": "3ace4001",
   "metadata": {},
   "source": [
    "2) 딕셔너리 생성\n",
    "    - 값은 어떤 객체이든지 가능하지만 \n",
    "      키는 변경 불가능한 객체이어야 한다.\n",
    "      즉, 문자열이나 숫자이어야 한다.\n",
    "      만약 딕셔너리에서 키가 변경 가능하다면\n",
    "      많은 문제가 발생되기 때문이다."
   ]
  },
  {
   "cell_type": "code",
   "execution_count": null,
   "id": "4cacb132",
   "metadata": {},
   "outputs": [],
   "source": [
    "d = {1:\"apple\",2:\"banana\"}"
   ]
  },
  {
   "cell_type": "markdown",
   "id": "4b44932e",
   "metadata": {},
   "source": [
    "2) 딕셔너리 생성\n",
    "    - 위의 문장은 2개의 항목을 가진 딕셔너리를 생성한다.\n",
    "      각 항목은 \"키:값\"의 형식으로 구성된다.\n",
    "      첫 번째 항목의 키는 1이고 값은 \"apple\"이다.\n",
    "      두 번째 항목의 키는 2이고 값은 \"banana\"이다.\n",
    "      키의 자료형은 혼합되어도 된다.\n",
    "      \n",
    "    - 예를 들어서 사람들의 이름과 전화번호를 딕셔너리로\n",
    "      저장해보면 다음과 같이 될 것이다."
   ]
  },
  {
   "cell_type": "code",
   "execution_count": 2,
   "id": "ccf622f2",
   "metadata": {},
   "outputs": [
    {
     "name": "stdout",
     "output_type": "stream",
     "text": [
      "{'kim': '0101234568', 'park': '010123456789', 'Lee': '01012345680'}\n"
     ]
    }
   ],
   "source": [
    "contacts ={\"kim\":\"0101234568\",\"park\":\"010123456789\",\"Lee\":\"01012345680\"}\n",
    "print(contacts)"
   ]
  },
  {
   "cell_type": "markdown",
   "id": "ea8cf575",
   "metadata": {},
   "source": [
    "2) 딕셔너리 생성\n",
    "    - 공백 딕셔너리는 {}로 생성한다."
   ]
  },
  {
   "cell_type": "code",
   "execution_count": null,
   "id": "1eee50f8",
   "metadata": {},
   "outputs": [],
   "source": [
    "d = {}"
   ]
  },
  {
   "cell_type": "markdown",
   "id": "6efe8257",
   "metadata": {},
   "source": [
    "2) 딕셔너리 생성\n",
    "    - {}은 수학에서 집합을 나타내는 기호 아니었던가?\n",
    "      하지만 파이썬에서는 집합보다 딕셔너리가 많이 사용되기\n",
    "      때문에 {}은 공백 딕셔너리를 나타내고 공백 집합은 set()을\n",
    "      사용해서 생성한다."
   ]
  },
  {
   "cell_type": "markdown",
   "id": "f6972dc2",
   "metadata": {},
   "source": [
    "3) 항목 접근하기\n",
    "    - 딕셔너리에서 항목을 꺼낼 때는 항목의 키를 사용하면 된다.\n",
    "      키를 []안에 지정하던지 아니면 get()메소드를 사용해도 된다.\n",
    "      예를 들어 연락처에서 이름이 \"kim\"인 사람의 전화번호를\n",
    "      꺼내려면 다음과 같은 문장을 사용한다."
   ]
  },
  {
   "cell_type": "code",
   "execution_count": 17,
   "id": "67fbac11",
   "metadata": {},
   "outputs": [
    {
     "name": "stdout",
     "output_type": "stream",
     "text": [
      "0101234568\n"
     ]
    },
    {
     "data": {
      "text/plain": [
       "'0101234568'"
      ]
     },
     "execution_count": 17,
     "metadata": {},
     "output_type": "execute_result"
    }
   ],
   "source": [
    "contacts ={\"kim\":\"0101234568\",\"park\":\"010123456789\",\"Lee\":\"01012345680\"}\n",
    "print(contacts[\"kim\"])\n",
    "contacts.get(\"kim\")"
   ]
  },
  {
   "cell_type": "markdown",
   "id": "98c556db",
   "metadata": {},
   "source": [
    "3) 항목 접근하기\n",
    "    - 만약 키가 딕셔너리에 없으면 keyError가 발생한다.\n",
    "      get()을 사용했을 때, 키가 없으면 None이 반환된다.\n",
    "      키가 없을 때 디폴트 값을 사용하려면\n",
    "      get()의 두 번째 인수로 디폴트 값을 전달한다."
   ]
  },
  {
   "cell_type": "code",
   "execution_count": 7,
   "id": "c02fe4bc",
   "metadata": {},
   "outputs": [
    {
     "name": "stdout",
     "output_type": "stream",
     "text": [
      "010114\n",
      "{'kim': '0101234568', 'park': '010123456789', 'Lee': '01012345680'}\n"
     ]
    }
   ],
   "source": [
    "number = contacts.get(\"choi\",\"010114\")\n",
    "print(number)\n",
    "print(contacts)"
   ]
  },
  {
   "cell_type": "markdown",
   "id": "c52727bc",
   "metadata": {},
   "source": [
    "3) 항목 접근하기\n",
    "    - 키가 딕셔너리에 있는지를 알려면 in 연산자를 사용한다."
   ]
  },
  {
   "cell_type": "code",
   "execution_count": 6,
   "id": "b23de540",
   "metadata": {},
   "outputs": [
    {
     "name": "stdout",
     "output_type": "stream",
     "text": [
      "True\n"
     ]
    }
   ],
   "source": [
    "print(\"kim\"in contacts)"
   ]
  },
  {
   "cell_type": "markdown",
   "id": "70954854",
   "metadata": {},
   "source": [
    "4) 항목 추가하기\n",
    "    - 딕셔너리도 변경 가능한 컨테이너이다.\n",
    "      따라서 우리는 딕셔너리에 항목을 추가하거나 삭제할 수 있다.\n",
    "      예를 들어서 연락처 딕셔너리에 새로운 연락처를 등록하려면 \n",
    "      다음과 같다."
   ]
  },
  {
   "cell_type": "code",
   "execution_count": 18,
   "id": "362e54ac",
   "metadata": {},
   "outputs": [
    {
     "name": "stdout",
     "output_type": "stream",
     "text": [
      "{'kim': '0101234568', 'park': '010123456789', 'Lee': '01012345680', 'choi': '010567891234'}\n"
     ]
    }
   ],
   "source": [
    "contacts[\"choi\"] = \"010567891234\"\n",
    "print(contacts)"
   ]
  },
  {
   "cell_type": "markdown",
   "id": "63bad671",
   "metadata": {},
   "source": [
    "5) 항목 삭제하기\n",
    "    - 딕셔너리에서 특정한 항목은 pop()을 호출하여 삭제할 수 있다\n",
    "      pop()메소드는 주어진 키에 해당되는 항목을 삭제하고\n",
    "      항목의 값을 반환한다."
   ]
  },
  {
   "cell_type": "code",
   "execution_count": 31,
   "id": "a654dd73",
   "metadata": {},
   "outputs": [
    {
     "name": "stdout",
     "output_type": "stream",
     "text": [
      "0101234568\n",
      "{'park': '010123456789', 'Lee': '01012345680', 'choi': '010567891234'}\n",
      "dict_keys(['park', 'Lee', 'choi'])\n",
      "dict_items([('park', '010123456789'), ('Lee', '01012345680'), ('choi', '010567891234')])\n",
      "dict_values(['010123456789', '01012345680', '010567891234'])\n"
     ]
    }
   ],
   "source": [
    "print(contacts.pop(\"kim\"))\n",
    "print(contacts)\n",
    "\n",
    "# mycode\n",
    "# 키만 뽑아오기\n",
    "print(contacts.keys())\n",
    "# 키와 벨류 뽑아오기\n",
    "print(contacts.items())\n",
    "# 값만 뽑아오기\n",
    "print(contacts.values())"
   ]
  },
  {
   "cell_type": "markdown",
   "id": "44918833",
   "metadata": {},
   "source": [
    "5) 항목 삭제하기\n",
    "    - 아니면 del 키워드를 이용하여도 된다."
   ]
  },
  {
   "cell_type": "code",
   "execution_count": 32,
   "id": "44173618",
   "metadata": {},
   "outputs": [
    {
     "name": "stdout",
     "output_type": "stream",
     "text": [
      "{'park': '010123456789', 'Lee': '01012345680'}\n"
     ]
    }
   ],
   "source": [
    "contacts ={\"kim\":\"0101234568\",\"park\":\"010123456789\",\"Lee\":\"01012345680\"}\n",
    "del contacts[\"kim\"]\n",
    "print(contacts)"
   ]
  },
  {
   "cell_type": "markdown",
   "id": "1318f476",
   "metadata": {},
   "source": [
    "5) 항목 삭제하기\n",
    "    - 딕셔너리의 모든 항목을 삭제하려면 clear()를 사용한다."
   ]
  },
  {
   "cell_type": "markdown",
   "id": "42a67cbb",
   "metadata": {},
   "source": [
    "6) 항목 순회하기\n",
    "    - 딕셔너리에 저장된 항목을 순차적으로 순회하려면 \n",
    "      for 루프를 사용하면 된다."
   ]
  },
  {
   "cell_type": "code",
   "execution_count": 41,
   "id": "528a6d2b",
   "metadata": {},
   "outputs": [
    {
     "name": "stdout",
     "output_type": "stream",
     "text": [
      "('korean', 80)('math', 90)('english', 80)\n",
      "korean math english \n",
      "korean math english \n",
      "80 90 80 \n"
     ]
    }
   ],
   "source": [
    "scores = {\"korean\":80,\"math\":90,\"english\":80}\n",
    "\n",
    "for item in scores.items(): # 키와 벨류 모두 출력됨\n",
    "    print(item, end= \"\")\n",
    "print()\n",
    "\n",
    "#mycode\n",
    "for item in scores: # 키만 출력됨\n",
    "    print(item,end=\" \")\n",
    "print()\n",
    "\n",
    "for item in scores.keys(): # 키만 출력됨\n",
    "    print(item,end=\" \")\n",
    "print()\n",
    "\n",
    "for item in scores.values(): # 값만 출력됨\n",
    "    print(item,end=\" \")\n",
    "print()"
   ]
  },
  {
   "cell_type": "markdown",
   "id": "394f3484",
   "metadata": {},
   "source": [
    "6) 항목 순회하기\n",
    "    - 위의 코드에서 for item in scores을 사용하면\n",
    "      키만 출력되므로 items()메소드를 사용하여 키와 값을\n",
    "      함께 출력하도록 변경하였다."
   ]
  },
  {
   "cell_type": "markdown",
   "id": "a561135e",
   "metadata": {},
   "source": [
    "7) 항목 있는지 검사하기\n",
    "    - 어떤 키가 딕셔너리에 있는지를 알려면 in 연산자를 사용한다."
   ]
  },
  {
   "cell_type": "code",
   "execution_count": 42,
   "id": "1fd0de0f",
   "metadata": {},
   "outputs": [
    {
     "name": "stdout",
     "output_type": "stream",
     "text": [
      "True\n",
      "True\n"
     ]
    }
   ],
   "source": [
    "squares = {1:1,3:9,5:25,7:49,9:81}\n",
    "print(1 in squares) # True\n",
    "print(2 not in squares) # True"
   ]
  },
  {
   "cell_type": "markdown",
   "id": "4b5f91a3",
   "metadata": {},
   "source": [
    "8) 딕셔너리 함축\n",
    "    - 딕셔너리 함축(Dictionary Comprehension)은\n",
    "      새로운 딕셔너리를 생성하는 간결한 방법이다.\n",
    "      리스트 함축과 매우 유사하다.\n",
    "      딕셔너리 함축은 {}안의 (key:value)와 for 문장으로 \n",
    "      이루어 진다.\n",
    "      아래는 0에서 5까지의 정수로부터 3제곱값을 생성하는 코드다."
   ]
  },
  {
   "cell_type": "code",
   "execution_count": 43,
   "id": "1daef704",
   "metadata": {},
   "outputs": [
    {
     "name": "stdout",
     "output_type": "stream",
     "text": [
      "{0: 0, 1: 1, 2: 8, 3: 27, 4: 64, 5: 125}\n"
     ]
    }
   ],
   "source": [
    "triples = {x:x**3 for x in range(6)}\n",
    "print(triples)"
   ]
  },
  {
   "cell_type": "markdown",
   "id": "127e343d",
   "metadata": {},
   "source": [
    "9) 정렬\n",
    "    - 파이썬 딕셔너리는 근본적으로 요소들을 특정 순서대로 \n",
    "      저장하지 않는다. 예를 들어서 다음과 같이 정렬된 순서로\n",
    "      딕셔너리를 생성하더라도 최종 순서는 알수가 없다."
   ]
  },
  {
   "cell_type": "code",
   "execution_count": 49,
   "id": "842a6ad9",
   "metadata": {},
   "outputs": [
    {
     "name": "stdout",
     "output_type": "stream",
     "text": [
      "{'bags': 1, 'books': 5, 'bottle': 4, 'coin': 7, 'cups': 2, 'pens': 3}\n"
     ]
    }
   ],
   "source": [
    "dic = {\"bags\":1,\"books\":5,\"bottle\":4,\"coin\":7,\"cups\":2,\"pens\":3}\n",
    "print(dic)"
   ]
  },
  {
   "cell_type": "markdown",
   "id": "97278240",
   "metadata": {},
   "source": [
    "9) 정렬\n",
    "    - 위의 딕셔너리를 리스트로 변환하여 보면 다음과 같다.\n",
    "      입력한 요소의 순서와는 다름을 알 수 있다."
   ]
  },
  {
   "cell_type": "code",
   "execution_count": 50,
   "id": "a99e3dc0",
   "metadata": {},
   "outputs": [
    {
     "name": "stdout",
     "output_type": "stream",
     "text": [
      "['bags', 'books', 'bottle', 'coin', 'cups', 'pens']\n"
     ]
    }
   ],
   "source": [
    "print(list(dic)) # ? "
   ]
  },
  {
   "cell_type": "markdown",
   "id": "6b199178",
   "metadata": {},
   "source": [
    "9) 정렬\n",
    "    - 딕셔너리의 키를 정렬하려면 가장 간단한 방법은\n",
    "      파이썬의 내장함수인 sorted()함수를 사용하는 것이다.\n",
    "      sorted()함수는 딕셔너리 객체를 받아서\n",
    "      정렬된 키들의 리스트를 반환한다."
   ]
  },
  {
   "cell_type": "code",
   "execution_count": 51,
   "id": "fcf934fd",
   "metadata": {
    "scrolled": true
   },
   "outputs": [
    {
     "name": "stdout",
     "output_type": "stream",
     "text": [
      "['bags', 'books', 'bottle', 'coin', 'cups', 'pens']\n"
     ]
    }
   ],
   "source": [
    "print(sorted(dic))"
   ]
  },
  {
   "cell_type": "markdown",
   "id": "5e52f317",
   "metadata": {},
   "source": [
    "9) 정렬\n",
    "    - 만약 딕셔너리의 값을 정렬하고 싶으면 values()메소드를\n",
    "      사용하여 다음과 같이 한다."
   ]
  },
  {
   "cell_type": "code",
   "execution_count": 53,
   "id": "85537e1d",
   "metadata": {},
   "outputs": [
    {
     "name": "stdout",
     "output_type": "stream",
     "text": [
      "[1, 2, 3, 4, 5, 7]\n",
      "[('bags', 1), ('books', 5), ('bottle', 4), ('coin', 7), ('cups', 2), ('pens', 3)]\n"
     ]
    }
   ],
   "source": [
    "print(sorted(dic.values()))\n",
    "\n",
    "# mycode\n",
    "print(sorted(dic.items()))"
   ]
  },
  {
   "cell_type": "markdown",
   "id": "7053df85",
   "metadata": {},
   "source": [
    "9) 정렬\n",
    "    - 만약 딕셔너리의 값에 따라서 키들을 정렬하고 싶으면\n",
    "      sorted() 함수에 요소들을 비교할때 사용하는 키를 \n",
    "      지정하여야 한다."
   ]
  },
  {
   "cell_type": "code",
   "execution_count": 54,
   "id": "19348eb9",
   "metadata": {},
   "outputs": [
    {
     "name": "stdout",
     "output_type": "stream",
     "text": [
      "['bags', 'cups', 'pens', 'bottle', 'books', 'coin']\n"
     ]
    }
   ],
   "source": [
    "# 값에 따라 정렬된 dic의 키들\n",
    "print(sorted(dic,key=dic.__getitem__))"
   ]
  },
  {
   "cell_type": "markdown",
   "id": "433cceb5",
   "metadata": {},
   "source": [
    "10) 딕셔너리 함수\n",
    "    - 키만 출력하기 위해서는 keys() 함수를 사용한다.\n",
    "      이 함수를 사용하면, 키가 리스트 형태로 출력된다."
   ]
  },
  {
   "cell_type": "code",
   "execution_count": 55,
   "id": "ca906848",
   "metadata": {},
   "outputs": [
    {
     "name": "stdout",
     "output_type": "stream",
     "text": [
      "dict_keys(['bags', 'books', 'bottle', 'coin', 'cups', 'pens'])\n"
     ]
    }
   ],
   "source": [
    "print(dic.keys()) # 딕셔너리의 키만 출력"
   ]
  },
  {
   "cell_type": "markdown",
   "id": "d015c64b",
   "metadata": {},
   "source": [
    "10) 딕셔너리 함수\n",
    "    - 다음의 값을 출력하기 위해서는 values()함수를 사용한다."
   ]
  },
  {
   "cell_type": "code",
   "execution_count": 56,
   "id": "ce499a63",
   "metadata": {},
   "outputs": [
    {
     "name": "stdout",
     "output_type": "stream",
     "text": [
      "dict_values([1, 5, 4, 7, 2, 3])\n"
     ]
    }
   ],
   "source": [
    "print(dic.values())"
   ]
  }
 ],
 "metadata": {
  "kernelspec": {
   "display_name": "Python 3",
   "language": "python",
   "name": "python3"
  },
  "language_info": {
   "codemirror_mode": {
    "name": "ipython",
    "version": 3
   },
   "file_extension": ".py",
   "mimetype": "text/x-python",
   "name": "python",
   "nbconvert_exporter": "python",
   "pygments_lexer": "ipython3",
   "version": "3.8.8"
  }
 },
 "nbformat": 4,
 "nbformat_minor": 5
}
