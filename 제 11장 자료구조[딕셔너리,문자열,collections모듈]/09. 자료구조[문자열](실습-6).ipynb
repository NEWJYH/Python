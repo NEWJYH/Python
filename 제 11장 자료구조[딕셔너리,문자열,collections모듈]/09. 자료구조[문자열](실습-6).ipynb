{
 "cells": [
  {
   "cell_type": "code",
   "execution_count": null,
   "id": "2560561c",
   "metadata": {},
   "outputs": [],
   "source": [
    "# 회문이라는 것은 앞으로 읽으나 뒤로 읽으나 동일한 문장을 의미한다.\n",
    "# 예를 들면 \"mom\",\"civic\",\"dad\"등이 회문의 예이다.\n",
    "# 사용자로부터 문자열을 입력받고 회문인지 아닌지 검사하는 프로그램을\n",
    "# 작성해보자.\n",
    "# 출력결과\n",
    "# 문자열을 입력하시오 : dad\n",
    "# 회문입니다."
   ]
  },
  {
   "cell_type": "code",
   "execution_count": 11,
   "id": "83430af4",
   "metadata": {},
   "outputs": [
    {
     "name": "stdout",
     "output_type": "stream",
     "text": [
      "문자열을 입력하세요 : 소 주 만 병 만 주 소     \n",
      "소 소\n",
      "주 주\n",
      "만 만\n",
      "병 병\n",
      "소주만병만주소은 회문 입니다.\n"
     ]
    }
   ],
   "source": [
    "def main():\n",
    "        string = input(\"문자열을 입력하세요 : \")\n",
    "        string = string.replace(\" \",\"\")\n",
    "        \n",
    "        if check(string):\n",
    "            print(f\"{string}은 회문 입니다.\")\n",
    "        else:\n",
    "            print(f\"{string}은 회문이 아닙니다.\")\n",
    "\n",
    "def check(s):\n",
    "    # 단어의 처음 인덱스와 마지막 인덱스를 저장하는 코드\n",
    "    low = 0\n",
    "    high = len(s) -1\n",
    "    while True:\n",
    "        # 회문이라면\n",
    "        if low > high:\n",
    "            return True\n",
    "        s1 = s[low]\n",
    "        s2 = s[high]\n",
    "        print(s1,s2)\n",
    "        if s1 == s2:\n",
    "            low += 1\n",
    "            high -= 1\n",
    "        else:\n",
    "            return False\n",
    "    \n",
    "    \n",
    "if __name__==\"__main__\":\n",
    "    main()"
   ]
  },
  {
   "cell_type": "code",
   "execution_count": 13,
   "id": "3d80f603",
   "metadata": {},
   "outputs": [
    {
     "name": "stdout",
     "output_type": "stream",
     "text": [
      "문자열을 입력하시오 : A picture is worth a thousand words.\n",
      "{'digits': 0, 'spaces': 6, 'alpahs': 29}\n"
     ]
    }
   ],
   "source": [
    "# 문제 \n",
    "# 문자열 안에 있는 문자의 개수, 숫자의 개수, 공백의 개수를 \n",
    "# 계산하는 프로그램을 작성하시오\n",
    "# 출력 결과\n",
    "# 문자열을 입력하시오 : A picture is worth a thousand words.\n",
    "# {\"digits\": 0, ....}\n",
    "words = input(\"문자열을 입력하시오 : \")\n",
    "word_dict = dict()\n",
    "word_dict[\"digits\"] = 0\n",
    "word_dict[\"spaces\"] = 0\n",
    "word_dict[\"alpahs\"] = 0\n",
    "\n",
    "for word in words:\n",
    "    if word.isalpha():\n",
    "        word_dict[\"alpahs\"] += 1\n",
    "    elif word.isdigit():\n",
    "        word_dict[\"digits\"] += 1\n",
    "    elif word.isspace():\n",
    "        word_dict[\"spaces\"] += 1\n",
    "    \n",
    "print(word_dict)\n",
    "        "
   ]
  },
  {
   "cell_type": "code",
   "execution_count": 18,
   "id": "fa430653",
   "metadata": {},
   "outputs": [
    {
     "name": "stdout",
     "output_type": "stream",
     "text": [
      "문자열을 입력하세요 : print(\"Hello World\")\n",
      "{'digits': 0, 'spaces': 1, 'alphas': 15}\n"
     ]
    }
   ],
   "source": [
    "def main():\n",
    "    string = input(\"문자열을 입력하세요 : \")\n",
    "    dic1 = {\"digits\":0, \"spaces\":0, \"alphas\":0}\n",
    "    for i in string:\n",
    "        if i.isalpha():\n",
    "            dic1[\"alphas\"] += 1\n",
    "        elif i.isdigit():\n",
    "            dic1[\"digits\"] += 1       \n",
    "        elif i.isspace():\n",
    "            dic1[\"spaces\"] += 1\n",
    "            \n",
    "    print(dic1)\n",
    "    \n",
    "if __name__ == \"__main__\":\n",
    "    main()"
   ]
  }
 ],
 "metadata": {
  "kernelspec": {
   "display_name": "Python 3",
   "language": "python",
   "name": "python3"
  },
  "language_info": {
   "codemirror_mode": {
    "name": "ipython",
    "version": 3
   },
   "file_extension": ".py",
   "mimetype": "text/x-python",
   "name": "python",
   "nbconvert_exporter": "python",
   "pygments_lexer": "ipython3",
   "version": "3.8.8"
  }
 },
 "nbformat": 4,
 "nbformat_minor": 5
}
