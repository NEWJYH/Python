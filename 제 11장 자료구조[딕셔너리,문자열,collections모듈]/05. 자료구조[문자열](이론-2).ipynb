{
 "cells": [
  {
   "cell_type": "markdown",
   "id": "cfacb8a4",
   "metadata": {},
   "source": [
    "2. 문자열"
   ]
  },
  {
   "cell_type": "markdown",
   "id": "c5760943",
   "metadata": {},
   "source": [
    "1) 문자열(string)\n",
    "    - 이미 앞선 강의에서 몇 번이나 살펴보았던 문자열(string)은 \n",
    "      프로그래밍에서 아주 빈번하게 다루어지는 데이터형식이다.\n",
    "      문자열은 문자들의 시퀸스로 정의된다.\n",
    "      글자들이 실(string)로 묶여 있는 것이 문자열이라고 생각하면 된다.\n",
    "      \n",
    "    - 파이썬에서는 str 클래스가 문자열을 나타낸다.\n",
    "      str클래스는 파이썬의 내장 클래스이다. 파이썬에서 문자열 리터럴은\n",
    "      작은 따옴표나 큰 따옴표로 감싸서 표현한다.\n",
    "      문자열은 str클래스의 생성자를 호출하여 생성할 수도 있고\n",
    "      아니면 문자열 리터럴을 이용하여 생성하여도 된다."
   ]
  },
  {
   "cell_type": "code",
   "execution_count": null,
   "id": "6450a41c",
   "metadata": {},
   "outputs": [],
   "source": [
    "s1 = str(\"hello\") # 생성자 이용\n",
    "s2 = \"Hello\"# 리터럴 생성"
   ]
  },
  {
   "cell_type": "markdown",
   "id": "602cf911",
   "metadata": {},
   "source": [
    "1) 문자열(string)\n",
    "    - 이제는 다들 알고 있다시피 문자열은 변경 불가능한 객체이다.\n",
    "      문자열 객체가 생성되면 객체는 더 이상 변결될 수 없다.\n",
    "      문자열은 변경될 수 없기 때문에, 변경된 문자열이 필요하면\n",
    "      새로운 문자열 객체를 생성하게 된다.\n",
    "      예를 들어서 수식(\"Hello\" + \"World\")는 \"Hello\"와 \"World\" \n",
    "      문자열 객체를 합쳐서 새로운 문자열 객체인 \"Hello World\"를 \n",
    "      생성한다. 문자열도 크게 보면 시퀸스(sequence)라는 자료구조에 \n",
    "      속한다. 따라서 앞에서 학습하였던 인덱싱이나 슬라이싱과 같은\n",
    "      연산들과 len()과 같은 내장 함수들이 모두 적용된다."
   ]
  },
  {
   "cell_type": "markdown",
   "id": "d1b71dc9",
   "metadata": {},
   "source": [
    "2) 개별 문자 접근하기\n",
    "    - 문자열은 문자들로 이루어져 있다.\n",
    "      문자열 중에서 하나의 문자를 추출하려면 어떻게 해야 하는지 이미\n",
    "      잘 알고 있다. 바로 문자열에서 하나의 문자를 추출하는 \n",
    "      인덱싱(indexing)이란 문자열에 [과]을 붙여서 문자를 추출하는 \n",
    "      것이다. [과] 사이에는 인덱스가 들어간다."
   ]
  },
  {
   "cell_type": "code",
   "execution_count": 8,
   "id": "7b784997",
   "metadata": {},
   "outputs": [
    {
     "name": "stdout",
     "output_type": "stream",
     "text": [
      "a\n",
      "f\n"
     ]
    }
   ],
   "source": [
    "word = \"abcedf\"\n",
    "print(word[0])\n",
    "print(word[5])"
   ]
  },
  {
   "cell_type": "markdown",
   "id": "5bb7c83f",
   "metadata": {},
   "source": [
    "2) 개별 문자 접근하기\n",
    "    - 너무나 잘 알고 있지만 인덱스(index)는 문자열에 포함된\n",
    "      각각의 문자에 매겨진 번호이다.\n",
    "      예를 들어서 문자열 \"abcdef\"에서 각 문자의 인덱스는 다음과 같다.\n",
    "      a b c d e f\n",
    "      0 1 2 3 4 5\n",
    "      \n",
    "    - 인덱스는 음수가 될수 있다. \n",
    "      이것은 파이썬의 특별한 기능이다.\n",
    "      인덱스가 음수가 되면 오른쪽에서 왼쪽으로 번호가 매겨진다.\n",
    "       a  b  c  d  e  f\n",
    "      -6 -5 -4 -3 -2 -1"
   ]
  },
  {
   "cell_type": "markdown",
   "id": "b24c93ca",
   "metadata": {},
   "source": [
    "2) 개별 문자 접근하기\n",
    "    - 파이썬 문자열은 변경 불가능한 객체이다.\n",
    "      따라서 다음과 같이 문자열의 일부 글자를 바꾸려고 하면 오류가\n",
    "      발생한다."
   ]
  },
  {
   "cell_type": "code",
   "execution_count": 9,
   "id": "3cae29e2",
   "metadata": {},
   "outputs": [
    {
     "ename": "TypeError",
     "evalue": "'str' object does not support item assignment",
     "output_type": "error",
     "traceback": [
      "\u001b[1;31m---------------------------------------------------------------------------\u001b[0m",
      "\u001b[1;31mTypeError\u001b[0m                                 Traceback (most recent call last)",
      "\u001b[1;32m<ipython-input-9-b1e8d95f0d93>\u001b[0m in \u001b[0;36m<module>\u001b[1;34m\u001b[0m\n\u001b[0;32m      1\u001b[0m \u001b[0mword\u001b[0m \u001b[1;33m=\u001b[0m \u001b[1;34m\"abcedf\"\u001b[0m\u001b[1;33m\u001b[0m\u001b[1;33m\u001b[0m\u001b[0m\n\u001b[1;32m----> 2\u001b[1;33m \u001b[0mword\u001b[0m\u001b[1;33m[\u001b[0m\u001b[1;36m0\u001b[0m\u001b[1;33m]\u001b[0m\u001b[1;33m=\u001b[0m\u001b[1;34m\"d\"\u001b[0m\u001b[1;33m\u001b[0m\u001b[1;33m\u001b[0m\u001b[0m\n\u001b[0m",
      "\u001b[1;31mTypeError\u001b[0m: 'str' object does not support item assignment"
     ]
    }
   ],
   "source": [
    "word = \"abcedf\"\n",
    "word[0]=\"d\""
   ]
  },
  {
   "cell_type": "markdown",
   "id": "3dc2c3ba",
   "metadata": {},
   "source": [
    "3) 슬라이싱\n",
    "    - 문자열에서 여러 개의 문자들을 추출할 수 있을까?\n",
    "      파이썬 문자열에는 슬라이싱(slicing)도 지원된다.\n",
    "      슬라이싱이란 문자열의 일부를 잘라서 서브 문자열을 만드는 연산으로\n",
    "      파이썬의 두드러진 장점 중의 하나이다.\n",
    "      슬라이싱을 이용하면 원하는 부분을 쉽게 잘라낼 수 있다."
   ]
  },
  {
   "cell_type": "code",
   "execution_count": 10,
   "id": "62ecb3cb",
   "metadata": {},
   "outputs": [
    {
     "name": "stdout",
     "output_type": "stream",
     "text": [
      "Hello\n"
     ]
    }
   ],
   "source": [
    "s = \"Hello World\"\n",
    "print(s[0:5])"
   ]
  },
  {
   "cell_type": "markdown",
   "id": "68e6b04e",
   "metadata": {},
   "source": [
    "3) 슬라이싱\n",
    "    - 위의 문장에서s[0:5]은 문자열 s의 특정 구간을 나타내느 수식으로\n",
    "      \"0부터 4까지\"의 구간을 의미한다.\n",
    "      0이 시작위치고 5가 종료 위치이다.\n",
    "      종료 위치는 5는 구간에 포함되지 않는다는 것에 주의해야 한다.\n",
    "      이렇게 콜론(:)을 이용하여서 특정한 구간을 지정하는 것이 \n",
    "      슬라이싱이다.\n",
    "      \"H  e  l  l  o     W  o  r  l  d\"\n",
    "       0  1  2  3  4  5  6  7  8  9  10\n",
    "      -11-10-9 -8 -7 -6 -5 -4 -3 -2  -1"
   ]
  },
  {
   "cell_type": "code",
   "execution_count": 17,
   "id": "a80d934d",
   "metadata": {},
   "outputs": [
    {
     "name": "stdout",
     "output_type": "stream",
     "text": [
      "i = 0 ,s[0] = H\n",
      "i = 1 ,s[1] = e\n",
      "i = 2 ,s[2] = l\n",
      "i = 3 ,s[3] = l\n",
      "i = 4 ,s[4] = o\n",
      "i = 5 ,s[5] =  \n",
      "i = 6 ,s[6] = W\n",
      "i = 7 ,s[7] = o\n",
      "i = 8 ,s[8] = r\n",
      "i = 9 ,s[9] = l\n",
      "i = 10 ,s[10] = d\n",
      "역순\n",
      "i = -11 ,s[-11] = H\n",
      "i = -10 ,s[-10] = e\n",
      "i = -9 ,s[-9] = l\n",
      "i = -8 ,s[-8] = l\n",
      "i = -7 ,s[-7] = o\n",
      "i = -6 ,s[-6] =  \n",
      "i = -5 ,s[-5] = W\n",
      "i = -4 ,s[-4] = o\n",
      "i = -3 ,s[-3] = r\n",
      "i = -2 ,s[-2] = l\n",
      "i = -1 ,s[-1] = d\n"
     ]
    }
   ],
   "source": [
    "s = \"Hello World\"\n",
    "for i in range(len(s)):\n",
    "    print(f\"i = {i} ,s[{i}] = {s[i]}\")\n",
    "\n",
    "print(\"역순\")\n",
    "for i in range(-len(s),0,1):\n",
    "    print(f\"i = {i} ,s[{i}] = {s[i]}\")"
   ]
  },
  {
   "cell_type": "markdown",
   "id": "71cb2aff",
   "metadata": {},
   "source": [
    "3) 슬라이싱\n",
    "    - 슬라이싱이 동작되는 원리를 쉽게 기억하려면 인덱스가 문자들 사이에\n",
    "      있다고 생각하는 것이다.\n",
    "      첫 번째 문자의 왼쪽 끝이 번호는 0이 된다. \n",
    "      마지막 문자의 오른쪽 끝은 인덱스 n-1이 된다. 여기서 n은 문자열의\n",
    "      크기이다. 위의 그림에서 첫 번째 번호들은 6부터 11까지의 위치를\n",
    "      보여주고 있다. 두 번째 줄의 번호들은 음수 인덱스를 보여주고 있다."
   ]
  },
  {
   "cell_type": "code",
   "execution_count": 18,
   "id": "2b8d3867",
   "metadata": {},
   "outputs": [
    {
     "name": "stdout",
     "output_type": "stream",
     "text": [
      "Py\n",
      "tho\n"
     ]
    }
   ],
   "source": [
    "word = \"Python\"\n",
    "print(word[0:2])\n",
    "print(word[2:5])"
   ]
  },
  {
   "cell_type": "markdown",
   "id": "4232bfb8",
   "metadata": {},
   "source": [
    "3) 슬라이싱\n",
    "    - 시작 인덱스가 생략되면 문자열의 처음이라고 가정된다.\n",
    "      문자열의 마지막까지 지정하려면 종료 인덱스를 생략"
   ]
  },
  {
   "cell_type": "code",
   "execution_count": 25,
   "id": "89ad7e6f",
   "metadata": {},
   "outputs": [
    {
     "name": "stdout",
     "output_type": "stream",
     "text": [
      "Py\n",
      "on\n",
      "98 년\n",
      "03 월\n",
      "26 일\n",
      "['123456', '7891234']\n",
      "12 년\n",
      "34 월\n",
      "56 일\n"
     ]
    }
   ],
   "source": [
    "word = \"Python\"\n",
    "print(word[:2])\n",
    "print(word[4:])\n",
    "# 주민등록번호로 출생년도와 월 일을 추가한 예제\n",
    "reg = \"980326\"\n",
    "print(f\"{reg[0:2]} 년\")\n",
    "print(f\"{reg[2:4]} 월\")\n",
    "print(f\"{reg[4:6]} 일\")\n",
    "#\n",
    "reg = \"123456-7891234\"\n",
    "reg = reg.split(\"-\")\n",
    "print(reg)\n",
    "first = reg[0]\n",
    "second = reg[1]\n",
    "print(f\"{first[0:2]} 년\")\n",
    "print(f\"{first[2:4]} 월\")\n",
    "print(f\"{first[4:6]} 일\")"
   ]
  },
  {
   "cell_type": "markdown",
   "id": "06666eb8",
   "metadata": {},
   "source": [
    "3) 슬라이싱\n",
    "    - 음수가 아닌 인덱스를 사용하는 경우, \n",
    "      슬라이스의 길이는 인덱스의 차이이다. \n",
    "      예를 들어서 word[1:3]의 길이는 2이다.\n",
    "      !!!!\n",
    "      슬라이싱에서 시작 인덱스나 종료 인덱스로 적절치 못한 값을 사용하\n",
    "      더라도 파이썬은 자동으로 적절한 값으로 변경하여 실행한다."
   ]
  },
  {
   "cell_type": "code",
   "execution_count": 26,
   "id": "71952365",
   "metadata": {},
   "outputs": [
    {
     "name": "stdout",
     "output_type": "stream",
     "text": [
      "Python\n",
      "thon\n"
     ]
    }
   ],
   "source": [
    "word = \"Python\"\n",
    "print(word[:42])\n",
    "print(word[2:42])"
   ]
  },
  {
   "cell_type": "markdown",
   "id": "f037a347",
   "metadata": {},
   "source": [
    "3) 슬라이싱\n",
    "    - 파이썬 문자열은 변경될 수 없다.\n",
    "      이것은 불변(immutable)하다고 한다.\n",
    "      따라서 문자열의 인덱스 위치에 문자를 저장하는 것은 오류이다.\n",
    "      만약 다른 문자열이 필요하다면 \n",
    "      개발자가 새로운 문자열을 생성하면 된다."
   ]
  },
  {
   "cell_type": "code",
   "execution_count": 37,
   "id": "9db6fd2b",
   "metadata": {},
   "outputs": [
    {
     "name": "stdout",
     "output_type": "stream",
     "text": [
      "Jython\n",
      "Pypy\n"
     ]
    }
   ],
   "source": [
    "word = \"Python\"\n",
    "print(\"J\" + word[1:])\n",
    "print(word[:2] + \"py\")"
   ]
  },
  {
   "cell_type": "markdown",
   "id": "9e550ca2",
   "metadata": {},
   "source": [
    "4) 문자열 비교하기\n",
    "    - 문자열과 문자열을 비교할 수 있을까?\n",
    "      예를 들어 어떤 문자열이 사전에서 먼저 나오는지를 검사할 수 있을까?\n",
    "      파이썬에서는 관계 연산자를 이용하여서 문자열과 문자열을 비교할 수 \n",
    "      있다. 예를 들어서 \"apple\"은 \"banana\"보다 사전에서 앞에 있다.\n",
    "      어떤 문자열이 사전에서 앞에 있으면 < 연산자를 적용했을 때\n",
    "      참이 된다."
   ]
  },
  {
   "cell_type": "code",
   "execution_count": 1,
   "id": "7d8271b6",
   "metadata": {},
   "outputs": [
    {
     "name": "stdout",
     "output_type": "stream",
     "text": [
      "True\n"
     ]
    }
   ],
   "source": [
    "print(\"apple\" < \"banana\")"
   ]
  },
  {
   "cell_type": "markdown",
   "id": "7b41835c",
   "metadata": {},
   "source": [
    "4) 문자열 비교하기\n",
    "    - 마찬 가지로 ==, !=, <,> 연산자를 문자열에도 적용할 수 있다.\n",
    "      이것은 어디에 사용할 수 있을까?\n",
    "      사용자로부터 받은 문자열들의 순서를 정할 때 사용할 수 있다.\n",
    "      그리고 문자열들의 정렬에도 사용할 수 있다."
   ]
  },
  {
   "cell_type": "code",
   "execution_count": 7,
   "id": "e5b7b543",
   "metadata": {},
   "outputs": [
    {
     "name": "stdout",
     "output_type": "stream",
     "text": [
      "문자열을 입력하시오 : apple\n",
      "문자열을 입력하시오 : bananan\n",
      "apple 이 앞에 있음\n",
      "APPLE\n",
      "apple\n"
     ]
    }
   ],
   "source": [
    "a = input(\"문자열을 입력하시오 : \")\n",
    "b = input(\"문자열을 입력하시오 : \")\n",
    "\n",
    "if a < b:\n",
    "    print(f\"{a} 이 앞에 있음\")\n",
    "else:\n",
    "    print(f\"{b} 이 앞에 있음\")\n",
    "# 영어 아스키 코드 \n",
    "# 한글 유니코드 구분\n",
    "print(a.upper())\n",
    "print(a.lower())"
   ]
  },
  {
   "cell_type": "markdown",
   "id": "b2981271",
   "metadata": {},
   "source": [
    "5) 반복하여 문자 처리하기\n",
    "    - 문자열에 들어 있는 각각의 문자들에 대하여 어떤 연산을 \n",
    "      반복할 수 있다.\n",
    "      예를 들어서 문자열 안의 모든 문자를 \n",
    "      하나씩 출력하는 코드는 다음과 같다. "
   ]
  },
  {
   "cell_type": "code",
   "execution_count": 8,
   "id": "d215ccd4",
   "metadata": {},
   "outputs": [
    {
     "name": "stdout",
     "output_type": "stream",
     "text": [
      "문자열을 입력하시오 : we are one\n",
      "w\n",
      "e\n",
      " \n",
      "a\n",
      "r\n",
      "e\n",
      " \n",
      "o\n",
      "n\n",
      "e\n"
     ]
    }
   ],
   "source": [
    "string = input(\"문자열을 입력하시오 : \")\n",
    "for cha in string:\n",
    "    print(cha)"
   ]
  },
  {
   "cell_type": "markdown",
   "id": "1328c348",
   "metadata": {},
   "source": [
    "5) 반복하여 문자 처리하기\n",
    "    - 문자열 안의 문자들을 특정한 순서로 방문하기 원한다면 \n",
    "      인덱스 연산자를 사용하는 것이 편리하다.\n",
    "      예를 들어서 홀수 번째 문자만을 방문하기 원한다면 \n",
    "      다음과 같은 코드를 사용한다."
   ]
  },
  {
   "cell_type": "code",
   "execution_count": 14,
   "id": "9b96c668",
   "metadata": {},
   "outputs": [
    {
     "name": "stdout",
     "output_type": "stream",
     "text": [
      "문자열을 입력하시오 : 5) 반복하여 문자 처리하기\n",
      ")\n",
      "반\n",
      "하\n",
      " \n",
      "자\n",
      "처\n",
      "하\n"
     ]
    }
   ],
   "source": [
    "string = input(\"문자열을 입력하시오 : \")\n",
    "for i in range(1,len(string),2):\n",
    "    print(string[i])"
   ]
  },
  {
   "cell_type": "markdown",
   "id": "a6e6d051",
   "metadata": {},
   "source": [
    "5) 반복하여 문자 처리하기\n",
    "    - 이제까지는 문자열 객체에 연산자를 적용하는 방법만 설명하였다.\n",
    "      이제부터는 str클래스가 가지고 있는 유용한 메소드에 대해 알아보자.\n",
    "      !!!\n",
    "      클래스를 사용하는 이유는 다른 사람들이 작성한 \n",
    "      유용한 메소드를 사용하기 위해서이다."
   ]
  }
 ],
 "metadata": {
  "kernelspec": {
   "display_name": "Python 3",
   "language": "python",
   "name": "python3"
  },
  "language_info": {
   "codemirror_mode": {
    "name": "ipython",
    "version": 3
   },
   "file_extension": ".py",
   "mimetype": "text/x-python",
   "name": "python",
   "nbconvert_exporter": "python",
   "pygments_lexer": "ipython3",
   "version": "3.8.8"
  }
 },
 "nbformat": 4,
 "nbformat_minor": 5
}
