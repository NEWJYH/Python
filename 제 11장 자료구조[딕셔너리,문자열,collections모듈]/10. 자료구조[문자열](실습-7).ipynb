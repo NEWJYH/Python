{
 "cells": [
  {
   "cell_type": "code",
   "execution_count": null,
   "id": "1f0848a6",
   "metadata": {},
   "outputs": [],
   "source": [
    "# 문제 \n",
    "# 머리 글자어(acronym)은 NATO(North Atlantic Treaty Organization)\n",
    "# 각 단어의 첫글자를 모아서 문자열이다.\n",
    "# 사용자로부터 문장을 입력하면 해당되는 머리 글자어를 출력하는 프로그램을 \n",
    "# 만들어 보자.\n",
    "# 출력 결과\n",
    "# 문자열을 입력하시오 : North Atlantic Treaty Organization\n",
    "# NATO"
   ]
  },
  {
   "cell_type": "code",
   "execution_count": 16,
   "id": "ebcb354e",
   "metadata": {},
   "outputs": [
    {
     "name": "stdout",
     "output_type": "stream",
     "text": [
      "문자열을 입력하시오 : north atlantic treaty organization\n",
      "NATO\n"
     ]
    }
   ],
   "source": [
    "def main():\n",
    "    USER_INPUT = input(\"문자열을 입력하시오 : \")\n",
    "    # USER_INPUT = USER_INPUT.upper()\n",
    "    answer = Head_hunting(USER_INPUT)\n",
    "    print(answer)\n",
    "    \n",
    "def Head_hunting(string):\n",
    "    string_li = string.split()\n",
    "    NewStr = \"\"\n",
    "    for i in range(len(string_li)):\n",
    "        NewStr += string_li[i][0]\n",
    "    return NewStr.upper()\n",
    "\n",
    "if __name__ == \"__main__\":\n",
    "    main()"
   ]
  },
  {
   "cell_type": "code",
   "execution_count": 3,
   "id": "b7a31629",
   "metadata": {},
   "outputs": [
    {
     "name": "stdout",
     "output_type": "stream",
     "text": [
      "문자열을 입력하시오 : North Atlantic Treaty Organization\n",
      "머리문자열 NATO\n"
     ]
    }
   ],
   "source": [
    "def main():\n",
    "    string = input(\"문자열을 입력하시오 : \")\n",
    "    acronym = \"\"\n",
    "    for word in string.upper().split():\n",
    "        acronym += word[0]\n",
    "        \n",
    "    print(\"머리문자열 \" + acronym)\n",
    "\n",
    "if __name__ == \"__main__\":\n",
    "    main()"
   ]
  },
  {
   "cell_type": "code",
   "execution_count": null,
   "id": "68b4d5c9",
   "metadata": {},
   "outputs": [],
   "source": [
    "# CSV 파일은 split() 메소드로 이용하여 파싱(분석)될 수 있다.\n",
    "# CSV 파일을 읽는 프로그램을 작성해보자."
   ]
  },
  {
   "cell_type": "code",
   "execution_count": 14,
   "id": "85ae41be",
   "metadata": {},
   "outputs": [
    {
     "name": "stdout",
     "output_type": "stream",
     "text": [
      "1,김정수,2017-01-19 11:30,25\n",
      "<class 'str'>\n",
      "===============\n",
      "   1\n",
      "   김정수\n",
      "   2017-01-19 11:30\n",
      "   25\n",
      "2,박민구,2017-02-07 10:22,35\n",
      "<class 'str'>\n",
      "===============\n",
      "   2\n",
      "   박민구\n",
      "   2017-02-07 10:22\n",
      "   35\n",
      "3,정순미,2017-01-22 9:10,33\n",
      "<class 'str'>\n",
      "===============\n",
      "   3\n",
      "   정순미\n",
      "   2017-01-22 9:10\n",
      "   33\n",
      "4,김정현,2017-02-22 14:09,45\n",
      "<class 'str'>\n",
      "===============\n",
      "   4\n",
      "   김정현\n",
      "   2017-02-22 14:09\n",
      "   45\n",
      "5,홍미진,2017-04-01 18:00,17\n",
      "<class 'str'>\n",
      "===============\n",
      "   5\n",
      "   홍미진\n",
      "   2017-04-01 18:00\n",
      "   17\n",
      "6,김순철,2017-05-14 22:33,22\n",
      "<class 'str'>\n",
      "===============\n",
      "   6\n",
      "   김순철\n",
      "   2017-05-14 22:33\n",
      "   22\n",
      "7,이동철,2017-03-01 23:44,27\n",
      "<class 'str'>\n",
      "===============\n",
      "   7\n",
      "   이동철\n",
      "   2017-03-01 23:44\n",
      "   27\n",
      "8,박지숙,2017-01-11 6:04,30\n",
      "<class 'str'>\n",
      "===============\n",
      "   8\n",
      "   박지숙\n",
      "   2017-01-11 6:04\n",
      "   30\n",
      "9,김은미,2017-02-08 7:44,51\n",
      "<class 'str'>\n",
      "===============\n",
      "   9\n",
      "   김은미\n",
      "   2017-02-08 7:44\n",
      "   51\n",
      "10,장혁철,2017-12-01 13:01,16\n",
      "<class 'str'>\n",
      "===============\n",
      "   10\n",
      "   장혁철\n",
      "   2017-12-01 13:01\n",
      "   16\n"
     ]
    }
   ],
   "source": [
    "def main():\n",
    "    file_name = \"10.sample.csv\"\n",
    "    file = open(file_name, mode = \"r\")\n",
    "    # read(): 파일을 처음부터 끝까지 읽을 때 사용\n",
    "    # readline() : 파일의 내용을 한 줄씩 읽어들일때 사용\n",
    "    # readlines() : 파일을 읽으면 한줄, 한줄이 각각 리스트의 원소로\n",
    "    #               들어간다.\n",
    "    for line in file.readlines():\n",
    "        # 공백 문자 제거하기\n",
    "        line = line.strip()\n",
    "        print(line)\n",
    "        print(type(line))\n",
    "        print(\"===============\")\n",
    "        # 한 라인을 단어로 분리한다.\n",
    "        words = line.split(\",\")\n",
    "        for word in words:\n",
    "            print(f\"   {word}\")\n",
    "    file.close()\n",
    "\n",
    "if __name__ == \"__main__\":\n",
    "    main()"
   ]
  }
 ],
 "metadata": {
  "kernelspec": {
   "display_name": "Python 3",
   "language": "python",
   "name": "python3"
  },
  "language_info": {
   "codemirror_mode": {
    "name": "ipython",
    "version": 3
   },
   "file_extension": ".py",
   "mimetype": "text/x-python",
   "name": "python",
   "nbconvert_exporter": "python",
   "pygments_lexer": "ipython3",
   "version": "3.8.8"
  }
 },
 "nbformat": 4,
 "nbformat_minor": 5
}
