{
 "cells": [
  {
   "cell_type": "markdown",
   "id": "4b084908",
   "metadata": {},
   "source": [
    "2. 문자열"
   ]
  },
  {
   "cell_type": "markdown",
   "id": "4ad868db",
   "metadata": {},
   "source": [
    "6) 문자열에서 단어 분리\n",
    "    - 문자열에서 단어를 분리할 때 사용하는 메소드는 split()이다.\n",
    "      split()는 문자열 안의 단어를 분리하여서 단어들의\n",
    "      리스트로 만들어서 반환한다.\n",
    "      상당히 유용한 메소드이다."
   ]
  },
  {
   "cell_type": "code",
   "execution_count": 1,
   "id": "49e642c7",
   "metadata": {},
   "outputs": [
    {
     "name": "stdout",
     "output_type": "stream",
     "text": [
      "['Never', 'put', 'off', 'till', 'tomorrow', 'what', 'you', 'can', 'do', 'today']\n"
     ]
    }
   ],
   "source": [
    "S = \"Never put off till tomorrow what you can do today\"\n",
    "print(S.split())"
   ]
  },
  {
   "cell_type": "markdown",
   "id": "317f4b18",
   "metadata": {},
   "source": [
    "6) 문자열에서 단어 분리\n",
    "    - split()는 기본적으로 스페이스 문자를 이용하여 단어들을 분리한다.\n",
    "      만약 분리자(seperator)로 다른 문자를 사용하고 싶다면\n",
    "      split()으 인자로 전달하면 된다."
   ]
  },
  {
   "cell_type": "code",
   "execution_count": 8,
   "id": "05dda9c3",
   "metadata": {},
   "outputs": [
    {
     "name": "stdout",
     "output_type": "stream",
     "text": [
      "['M', 'ss', 'ss', 'pp', '']\n"
     ]
    }
   ],
   "source": [
    "s = \"Mississippi\"\n",
    "print(s.split(\"i\"))"
   ]
  },
  {
   "cell_type": "markdown",
   "id": "a8bd4488",
   "metadata": {},
   "source": [
    "7) 문자열의 검사\n",
    "    - 문자열이 알파벳으로 구성되어 있는지 아니면 숫자로만 구성되어 있는지\n",
    "      를 검사할때는 isalpha()와 isdigit()를 사용할수 있다."
   ]
  },
  {
   "cell_type": "code",
   "execution_count": 3,
   "id": "8824b176",
   "metadata": {},
   "outputs": [
    {
     "name": "stdout",
     "output_type": "stream",
     "text": [
      "True\n",
      "True\n"
     ]
    }
   ],
   "source": [
    "s = 'abcdefg'\n",
    "print(s.isalpha())\n",
    "n = '123456'\n",
    "print(n.isdigit())"
   ]
  },
  {
   "cell_type": "markdown",
   "id": "ce3d1834",
   "metadata": {},
   "source": [
    "7) 문자열의 검사\n",
    "    - 유사한 메소드로 islower() - 소문자인지 검사,\n",
    "      isupper() - 대문자인지 검사,\n",
    "      isspace() - 공백 문자로만 되어 있는지 검사,\n",
    "      isalnum() - 영문, 숫자인지 검사 등이 있다.\n",
    "      사용자에게서 연도를 입력받았을 때,숫자인지를 검사하는 코드는\n",
    "      다음과 같다."
   ]
  },
  {
   "cell_type": "code",
   "execution_count": 10,
   "id": "c208355a",
   "metadata": {},
   "outputs": [
    {
     "name": "stdout",
     "output_type": "stream",
     "text": [
      "연도를 입력하세요asdf\n",
      "숫자만을 입력해주세요\n"
     ]
    }
   ],
   "source": [
    "s = input(\"연도를 입력하세요\")\n",
    "if not s.isdigit():\n",
    "    print(\"숫자만을 입력해주세요\")"
   ]
  },
  {
   "cell_type": "markdown",
   "id": "3f60c386",
   "metadata": {},
   "source": [
    "8) 부분 문자열 검색\n",
    "    - 문자열 안의 부분 문자열을 찾기 위하여 \n",
    "      startswith(s), endswith(s), find(s), rfind(s), count(s)\n",
    "      등의 메소드를 사용할 수 있다.\n",
    "      startswith(s)는 문자열 s로 시작되는 문자열이면 True가 반환된다.\n",
    "      endswith(s)는 문자열 s로 종료되는 문자열이면 True가 반환된다.\n",
    "      예를 들어서 사용자가 입력한 문자열이 파이썬 소스 파일 이름인지를\n",
    "      검사하려면 다음과 같이 하면 될것이다."
   ]
  },
  {
   "cell_type": "code",
   "execution_count": 16,
   "id": "1de26b9b",
   "metadata": {},
   "outputs": [
    {
     "name": "stdout",
     "output_type": "stream",
     "text": [
      "파이썬 소스 파일 이름을 입력하시오 : s.py\n",
      "올바른 이름입니다.\n",
      "0\n"
     ]
    }
   ],
   "source": [
    "s = input(\"파이썬 소스 파일 이름을 입력하시오 : \")\n",
    "if s.endswith(\".py\"):\n",
    "    print(\"올바른 이름입니다.\")\n",
    "else:\n",
    "    print(\"올바른 이름이 아닙니다.\")\n",
    "    \n",
    "print(s.find(\"s\")) \n",
    "# find(1,2,3) \n",
    "# 1 찾을 문자열 혹은 문자\n",
    "# 2 시작 인덱스\n",
    "# 3 끝인덱스\n",
    "# rfind(1,2,3)\n",
    "# 위와 같으나 오른쪽부터 찾음\n",
    "# count(1,2,3)\n",
    "# find와 사용법 같음 \n",
    "# 같은 문자열(문자)의 갯수를 반환해줌"
   ]
  },
  {
   "cell_type": "markdown",
   "id": "61a7ec16",
   "metadata": {},
   "source": [
    "9) 문자열 변환하기\n",
    "    - 문자열의 모든 문자를 대문자로 만들어간 소문자로 만들려면\n",
    "      upper()와 lower()를 사용한다.\n",
    "      첫 번째 문자만을 대문자로 하려면 capitalize(), title()를 사용한다.\n",
    "      하나의 문자를 다른 문자로 바꾸려면 replace(s1,s2)를 사용한다.\n",
    "      또한 swapcase()는 대문자를 소문자로, 소문자를 대문자로 변경한다."
   ]
  },
  {
   "cell_type": "code",
   "execution_count": 18,
   "id": "f7e4559c",
   "metadata": {},
   "outputs": [
    {
     "name": "stdout",
     "output_type": "stream",
     "text": [
      "파이썬 소스 파일 이름을 입력하시오 : txt\n",
      "txt\n",
      "TXT\n",
      "Txt\n",
      "CxC\n"
     ]
    }
   ],
   "source": [
    "s = input(\"파이썬 소스 파일 이름을 입력하시오 : \") # txt로 입력 했다 가정\n",
    "print(s.lower())\n",
    "print(s.upper())\n",
    "print(s.title())\n",
    "print(s.replace(\"t\",\"C\"))"
   ]
  },
  {
   "cell_type": "markdown",
   "id": "cf962b98",
   "metadata": {},
   "source": [
    "9) 문자열 변환하기\n",
    "    - format()는 포맷 {}을 만들어 놓고 문자열을 생성하는데 사용한다."
   ]
  },
  {
   "cell_type": "code",
   "execution_count": 20,
   "id": "965cf0c0",
   "metadata": {},
   "outputs": [
    {
     "name": "stdout",
     "output_type": "stream",
     "text": [
      "abc\n"
     ]
    }
   ],
   "source": [
    "a = \"{}b{}\"\n",
    "print(a.format(\"a\",\"c\"))"
   ]
  },
  {
   "cell_type": "markdown",
   "id": "8d1a3e35",
   "metadata": {},
   "source": [
    "9) 문자열 변환하기\n",
    "    - join()는 리스트 같은 iterable 인자를 전달받아서\n",
    "      문자열로 연결하는데 사용한다."
   ]
  },
  {
   "cell_type": "code",
   "execution_count": 25,
   "id": "13bef152",
   "metadata": {},
   "outputs": [
    {
     "name": "stdout",
     "output_type": "stream",
     "text": [
      "a#b#c\n"
     ]
    }
   ],
   "source": [
    "string = [\"a\",\"b\",\"c\"]\n",
    "print(\"#\".join(string))"
   ]
  },
  {
   "cell_type": "markdown",
   "id": "2b1fe821",
   "metadata": {},
   "source": [
    "9) 문자열 변환하기\n",
    "    - partition()는 전달한 구분자로 문자열을 나눔(분리),\n",
    "      결과는 튜플(구분자도 포함)로 된다.\n",
    "      예를 들면 이메일, 전화 번호 등 저장할 떄 유용하다."
   ]
  },
  {
   "cell_type": "code",
   "execution_count": 26,
   "id": "16168682",
   "metadata": {},
   "outputs": [
    {
     "name": "stdout",
     "output_type": "stream",
     "text": [
      "('seojae', '@', 'gmail.com')\n"
     ]
    }
   ],
   "source": [
    "string = \"seojae@gmail.com\"\n",
    "print(string.partition(\"@\"))"
   ]
  },
  {
   "cell_type": "markdown",
   "id": "46f3bfff",
   "metadata": {},
   "source": [
    "9) 문자열 변환하기\n",
    "    - count()는 특정 단어(문자열)의 수를 구하며, 없으면 0을 반환한다."
   ]
  },
  {
   "cell_type": "code",
   "execution_count": 27,
   "id": "9cbb7613",
   "metadata": {},
   "outputs": [
    {
     "name": "stdout",
     "output_type": "stream",
     "text": [
      "2\n"
     ]
    }
   ],
   "source": [
    "string = 'aabc'\n",
    "print(string.count('a'))"
   ]
  },
  {
   "cell_type": "markdown",
   "id": "f235f37e",
   "metadata": {},
   "source": [
    "9) 문자열 변환하기\n",
    "    - find()는 특정 단어를 찾아 인덱스를 리턴(없으면 -1을 리턴)\n",
    "      단, 처음찾은 값만 리턴한다.\n",
    "      비슷한 메서드로 앞에서 배운 index()가 잇지만\n",
    "      index()는 찾고자 하는 값이 없다면 예외를 발생시킨다."
   ]
  },
  {
   "cell_type": "code",
   "execution_count": 32,
   "id": "6662e83c",
   "metadata": {},
   "outputs": [
    {
     "name": "stdout",
     "output_type": "stream",
     "text": [
      "0\n",
      "3\n",
      "0\n",
      "3\n"
     ]
    },
    {
     "ename": "ValueError",
     "evalue": "substring not found",
     "output_type": "error",
     "traceback": [
      "\u001b[1;31m---------------------------------------------------------------------------\u001b[0m",
      "\u001b[1;31mValueError\u001b[0m                                Traceback (most recent call last)",
      "\u001b[1;32m<ipython-input-32-635ac3daa34d>\u001b[0m in \u001b[0;36m<module>\u001b[1;34m\u001b[0m\n\u001b[0;32m      7\u001b[0m \u001b[0mprint\u001b[0m\u001b[1;33m(\u001b[0m\u001b[0mstring\u001b[0m\u001b[1;33m.\u001b[0m\u001b[0mindex\u001b[0m\u001b[1;33m(\u001b[0m\u001b[1;34m\"a\"\u001b[0m\u001b[1;33m)\u001b[0m\u001b[1;33m)\u001b[0m\u001b[1;33m\u001b[0m\u001b[1;33m\u001b[0m\u001b[0m\n\u001b[0;32m      8\u001b[0m \u001b[0mprint\u001b[0m\u001b[1;33m(\u001b[0m\u001b[0mstring\u001b[0m\u001b[1;33m.\u001b[0m\u001b[0mrindex\u001b[0m\u001b[1;33m(\u001b[0m\u001b[1;34m\"a\"\u001b[0m\u001b[1;33m)\u001b[0m\u001b[1;33m)\u001b[0m\u001b[1;33m\u001b[0m\u001b[1;33m\u001b[0m\u001b[0m\n\u001b[1;32m----> 9\u001b[1;33m \u001b[0mprint\u001b[0m\u001b[1;33m(\u001b[0m\u001b[0mstring\u001b[0m\u001b[1;33m.\u001b[0m\u001b[0mrindex\u001b[0m\u001b[1;33m(\u001b[0m\u001b[1;34m\"ㅂ\"\u001b[0m\u001b[1;33m)\u001b[0m\u001b[1;33m)\u001b[0m\u001b[1;33m\u001b[0m\u001b[1;33m\u001b[0m\u001b[0m\n\u001b[0m",
      "\u001b[1;31mValueError\u001b[0m: substring not found"
     ]
    }
   ],
   "source": [
    "string = \"abca\"\n",
    "print(string.find(\"a\"))\n",
    "print(string.rfind(\"a\"))\n",
    "# 위 find는 예외발생 x 없으면 -1을 리턴\n",
    "\n",
    "# 아래 index는 없으면 예외 발생\n",
    "print(string.index(\"a\"))\n",
    "print(string.rindex(\"a\"))\n",
    "# print(string.rindex(\"ㅂ\")) # ValueError: substring not found"
   ]
  },
  {
   "cell_type": "markdown",
   "id": "fbd9c396",
   "metadata": {},
   "source": [
    "9) 문자열 변환하기\n",
    "    - 마지막으로 조건문에 많이 사용하는 것이 \n",
    "      isdeciaml(), isdigit() - 숫자(decimal, 10진수인가),\n",
    "      isnumeric()숫자인가 등이 존재한다."
   ]
  },
  {
   "cell_type": "markdown",
   "id": "d59bdaed",
   "metadata": {},
   "source": [
    "10) 문자열에서 공백 문자 제거하기\n",
    "    - 공백 문자(whitespace character)란 스테이스나 탭,\n",
    "      줄바꿈 문자를 의미한다.\n",
    "      문자열에서 공백 문자를 제거하려면\n",
    "      strip(), lstrip(), rstrip()을 사용한다.\n",
    "      lstrip()은 왼쪽 공백 문자만을 제거하고,\n",
    "      rstrip()은 오른쪽 공백 문자만을 제거한다.\n",
    "      strip()은 왼쪽과 오른쪽 공백 문자를 모두 제거한다.\n",
    "      문자열 중간의 공백 문자는 제거되지 않는다."
   ]
  },
  {
   "cell_type": "code",
   "execution_count": 33,
   "id": "c5c3272b",
   "metadata": {},
   "outputs": [
    {
     "name": "stdout",
     "output_type": "stream",
     "text": [
      "Little by little the little bird builds its nest\n"
     ]
    }
   ],
   "source": [
    "s = \"    Little by little the little bird builds its nest    \"\n",
    "print(s.strip())"
   ]
  }
 ],
 "metadata": {
  "kernelspec": {
   "display_name": "Python 3",
   "language": "python",
   "name": "python3"
  },
  "language_info": {
   "codemirror_mode": {
    "name": "ipython",
    "version": 3
   },
   "file_extension": ".py",
   "mimetype": "text/x-python",
   "name": "python",
   "nbconvert_exporter": "python",
   "pygments_lexer": "ipython3",
   "version": "3.8.8"
  }
 },
 "nbformat": 4,
 "nbformat_minor": 5
}
