{
 "cells": [
  {
   "cell_type": "code",
   "execution_count": 3,
   "id": "32a9d332",
   "metadata": {},
   "outputs": [
    {
     "name": "stdout",
     "output_type": "stream",
     "text": [
      "{1: '사과', 2: '토마토', 3: '오렌지'}\n"
     ]
    }
   ],
   "source": [
    "# dictionary\n",
    "# 사전과 매우 유사하다.\n",
    "# 사전에는 단어와 단어의 설명이 저장되어 있다.\n",
    "# 파이썬에서는 키(key)와 값(value)의 쌍을 저장할 수 있는\n",
    "# 객체를 딕셔너리라고 한다.\n",
    "\n",
    "# 딕셔너리 생성방법 { } 안에 키:값 형태로 넣어주면된다.\n",
    "dic1 = {1:\"사과\",2:\"토마토\",3:\"오렌지\"}\n",
    "print(dic1) # {1: '사과', 2: '토마토', 3: '오렌지'}\n",
    "\n",
    "# 딕셔너리에 키값은 변경불가능한 객체이어야 한다.\n",
    "# 문자열이나 숫자를 권장한다.\n",
    "# dic1 = {[1]:\"사과\",2:\"토마토\",3:\"오렌지\"}\n",
    "# TypeError: unhashable type: 'list'\n",
    "# 위와 같이 키값을 리스트로 주니 TypeError가 발생한다."
   ]
  },
  {
   "cell_type": "code",
   "execution_count": 5,
   "id": "5f154456",
   "metadata": {},
   "outputs": [
    {
     "name": "stdout",
     "output_type": "stream",
     "text": [
      "{1: '사과', '2': '토마토', (3,): '오렌지'}\n"
     ]
    }
   ],
   "source": [
    "# 딕셔너리의 키값의 자료형은 혼합되어도 된다.\n",
    "# (권장하지 않음)\n",
    "dic2 = {1:\"사과\",\"2\":\"토마토\",(3,):\"오렌지\"}\n",
    "print(dic2)"
   ]
  },
  {
   "cell_type": "code",
   "execution_count": 8,
   "id": "5fd7416b",
   "metadata": {},
   "outputs": [
    {
     "name": "stdout",
     "output_type": "stream",
     "text": [
      "{}\n",
      "set()\n",
      "<class 'set'>\n"
     ]
    }
   ],
   "source": [
    "# 공백 딕셔너리를 만드는방법\n",
    "dic3 = {}\n",
    "print(dic3)\n",
    "\n",
    "\n",
    "# set객체도 역시 {}사용하기 때문에 혼돈이 있을 수가 있다.\n",
    "# set을 생성할때는 set()메서드를 사용한다.\n",
    "set1 = set()\n",
    "print(set1)\n",
    "print(type(set1))"
   ]
  },
  {
   "cell_type": "code",
   "execution_count": 16,
   "id": "83369ffd",
   "metadata": {},
   "outputs": [
    {
     "name": "stdout",
     "output_type": "stream",
     "text": [
      "오렌지\n",
      "사과\n",
      "None\n",
      "오이\n"
     ]
    }
   ],
   "source": [
    "dic4 = {1:\"사과\",2:\"토마토\",3:\"오렌지\"}\n",
    "\n",
    "# 딕셔너리 항목 추출하는 방법\n",
    "\n",
    "# 첫 번째 방법은 []안에 키값을 주면 값을 얻을 수 있다.\n",
    "print(dic4[3]) # 인덱스가 아닌 키 값이다.\n",
    "\n",
    "# 두 번째 방법 get()를 사용하는 방법\n",
    "print(dic4.get(1))\n",
    "\n",
    "# 만약에 키가 딕셔너리에 존재하지않으면 KeyError가 발생\n",
    "print(dic4.get(5)) # None\n",
    "# print(dic4[4]) # KeyError: 4\n",
    "\n",
    "# 키가 딕셔너리에 없으면 디폴트 값을 사용하는 방법 (잘안씀)\n",
    "# 키가 없을때 디폴트 값으로 생성하려면\n",
    "# get메서드에 두번째 인자에 작성한다.\n",
    "print(dic4.get(5,\"오이\"))"
   ]
  },
  {
   "cell_type": "code",
   "execution_count": 20,
   "id": "11ad91df",
   "metadata": {},
   "outputs": [
    {
     "name": "stdout",
     "output_type": "stream",
     "text": [
      "True\n",
      "True\n"
     ]
    }
   ],
   "source": [
    "# 키가 딕셔너리에 존재하는지 알아보는 방법\n",
    "dic4 = {1:\"사과\",2:\"토마토\",3:\"오렌지\"}\n",
    "\n",
    "print(1 in dic4)\n",
    "print(5 not in dic4)"
   ]
  },
  {
   "cell_type": "code",
   "execution_count": 23,
   "id": "54f925d4",
   "metadata": {},
   "outputs": [
    {
     "name": "stdout",
     "output_type": "stream",
     "text": [
      "2763438965888\n",
      "{1: '사과', 2: '토마토', 3: '오렌지', 4: '거봉'}\n",
      "2763438965888\n"
     ]
    }
   ],
   "source": [
    "# 딕셔너리에 항목을 추가하는 방법\n",
    "# 딕셔너리는 변경 가능한 객체이다.\n",
    "# 하여 값을 추가,삭제 해도 동일한 주소값을 가지고 있다.\n",
    "dic5 = {1:\"사과\",2:\"토마토\",3:\"오렌지\"}\n",
    "print(id(dic5))\n",
    "\n",
    "\n",
    "dic5[4] = \"거봉\"\n",
    "print(dic5)\n",
    "print(id(dic5))"
   ]
  },
  {
   "cell_type": "code",
   "execution_count": 25,
   "id": "0c818349",
   "metadata": {},
   "outputs": [
    {
     "name": "stdout",
     "output_type": "stream",
     "text": [
      "토마토\n",
      "{1: '사과', 3: '오렌지'}\n",
      "{2: '토마토', 3: '오렌지'}\n"
     ]
    }
   ],
   "source": [
    "# 딕셔너리의 항목을 삭제하는 방법\n",
    "dic6 = {1:\"사과\",2:\"토마토\",3:\"오렌지\"}\n",
    "# pop()메서드를 이용하여 주어진 키를 주면 \n",
    "# 키에 해당하는 항목이 삭제가 이루어진다.\n",
    "a = dic6.pop(2)\n",
    "print(a)\n",
    "print(dic6)\n",
    "\n",
    "dic7 = {1:\"사과\",2:\"토마토\",3:\"오렌지\"}\n",
    "# 또 다른 삭제 방법은 del이라는 키워드를 이용한다.\n",
    "del dic7[1] # 리턴값 없음\n",
    "print(dic7)"
   ]
  },
  {
   "cell_type": "code",
   "execution_count": 26,
   "id": "78f96f2d",
   "metadata": {},
   "outputs": [
    {
     "name": "stdout",
     "output_type": "stream",
     "text": [
      "None\n",
      "{}\n"
     ]
    }
   ],
   "source": [
    "# 딕셔너리의 모든 항목을 삭제하고자 할 때는 clear()사용하면 된다.\n",
    "a = dic7.clear()\n",
    "print(a) # 리턴값 없음\n",
    "print(dic7)"
   ]
  }
 ],
 "metadata": {
  "kernelspec": {
   "display_name": "Python 3",
   "language": "python",
   "name": "python3"
  },
  "language_info": {
   "codemirror_mode": {
    "name": "ipython",
    "version": 3
   },
   "file_extension": ".py",
   "mimetype": "text/x-python",
   "name": "python",
   "nbconvert_exporter": "python",
   "pygments_lexer": "ipython3",
   "version": "3.8.8"
  }
 },
 "nbformat": 4,
 "nbformat_minor": 5
}
