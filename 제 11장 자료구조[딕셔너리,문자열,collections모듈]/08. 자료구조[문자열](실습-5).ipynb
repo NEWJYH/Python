{
 "cells": [
  {
   "cell_type": "code",
   "execution_count": 16,
   "id": "0408a28f",
   "metadata": {},
   "outputs": [
    {
     "name": "stdout",
     "output_type": "stream",
     "text": [
      "파이썬 소스를 입력해주세요sadfasfd.py\n",
      "올바른 파일 이름입니다.\n",
      "올바른 파일 이름입니다.\n"
     ]
    }
   ],
   "source": [
    "# 부분 문자열 검색 실습\n",
    "string = input(\"파이썬 소스를 입력해주세요\")\n",
    "# endswith(문자열) 메소드는 인자값 문자열로 끝이나면 True를 리턴한다.\n",
    "if string.endswith(\".py\"):\n",
    "    print(\"올바른 파일 이름입니다.\")\n",
    "else:\n",
    "    print(\"잘못된 파일 이름입니다.\")\n",
    "if string[-3:] == '.py':\n",
    "    print(\"올바른 파일 이름입니다.\")\n",
    "else:\n",
    "    print(\"잘못된 파일 이름입니다.\")\n",
    "    "
   ]
  },
  {
   "cell_type": "code",
   "execution_count": 17,
   "id": "bea34c84",
   "metadata": {},
   "outputs": [
    {
     "name": "stdout",
     "output_type": "stream",
     "text": [
      "2021년 파일 입니다.\n"
     ]
    }
   ],
   "source": [
    "string = \"2021-03-04.txt\"\n",
    "# startswith(문자열) 메소드는 인자값이 문자열로 시작하면 True를 리턴한다.\n",
    "if string.startswith(\"2021\"):\n",
    "    print(\"2021년 파일 입니다.\")\n",
    "else:\n",
    "    print(\"2021년 파일이 아닙니다.\")"
   ]
  },
  {
   "cell_type": "code",
   "execution_count": 22,
   "id": "7e653d3f",
   "metadata": {},
   "outputs": [
    {
     "name": "stdout",
     "output_type": "stream",
     "text": [
      "영어단어를 입력하세요 : kr\n",
      "KR\n",
      "kr\n",
      "Kr\n",
      "Kr\n",
      "KR\n"
     ]
    }
   ],
   "source": [
    "string = input(\"영어단어를 입력하세요 : \")\n",
    "print(string.upper()) # 전체를 대문자로 바꿔줌\n",
    "\n",
    "print(string.lower()) # 전체를 소문자로 바꿔줌\n",
    "\n",
    "print(string.title()) # 첫문자만 대문자로 바꿔줌\n",
    "print(string.capitalize()) # 첫문자만 대문자로 바꿔줌\n",
    "\n",
    "print(string.swapcase()) # 대문자는 소문자로 소문자는 대문자로 바꿔줌"
   ]
  },
  {
   "cell_type": "code",
   "execution_count": 27,
   "id": "6dce2411",
   "metadata": {},
   "outputs": [
    {
     "name": "stdout",
     "output_type": "stream",
     "text": [
      "abc\n"
     ]
    }
   ],
   "source": [
    "# format()는 포멧 {}을 만들어 놓고 문자열을 생성하는데 사용하는 것이다.\n",
    "string = \"{}b{}\"\n",
    "print(string.format(\"a\",\"c\"))"
   ]
  },
  {
   "cell_type": "code",
   "execution_count": 28,
   "id": "0897786c",
   "metadata": {},
   "outputs": [
    {
     "name": "stdout",
     "output_type": "stream",
     "text": [
      "a!b!가\n"
     ]
    }
   ],
   "source": [
    "# join() 메서드는 리스트 같은 이터러블(iterable) : 반복인자 \n",
    "# 를 전달 받아서 문자열로 연결하는데 사용한다.\n",
    "string=[\"a\",\"b\",\"가\"]\n",
    "print(\"!\".join(string))"
   ]
  },
  {
   "cell_type": "code",
   "execution_count": 30,
   "id": "1ab814d6",
   "metadata": {},
   "outputs": [
    {
     "name": "stdout",
     "output_type": "stream",
     "text": [
      "('ddd', '@', 'gmail.com')\n"
     ]
    }
   ],
   "source": [
    "# partition() 메서드\n",
    "string=\"ddd@gmail.com\"\n",
    "print(string.partition(\"@\"))\n",
    "# 튜플형태로 인자값으로 구분하여 인자값까지 출력함.\n",
    "# 리턴 타입은 튜플이다."
   ]
  },
  {
   "cell_type": "code",
   "execution_count": 32,
   "id": "d6cbd3e7",
   "metadata": {},
   "outputs": [
    {
     "name": "stdout",
     "output_type": "stream",
     "text": [
      "3\n",
      "0\n"
     ]
    }
   ],
   "source": [
    "# count()는 인자값으로 들어오는 값을 문자열에서 몇개 있는지 카운팅을 해준다.\n",
    "string =\"aaabbbvcc\"\n",
    "print(string.count(\"a\")) # 3\n",
    "print(string.count(\"z\")) # 0\n",
    "# 찾는 인자값이 없다면 0을 리턴해준다."
   ]
  },
  {
   "cell_type": "code",
   "execution_count": 36,
   "id": "a15b519f",
   "metadata": {},
   "outputs": [
    {
     "name": "stdout",
     "output_type": "stream",
     "text": [
      "1\n",
      "-1\n",
      "1\n"
     ]
    },
    {
     "ename": "ValueError",
     "evalue": "substring not found",
     "output_type": "error",
     "traceback": [
      "\u001b[1;31m---------------------------------------------------------------------------\u001b[0m",
      "\u001b[1;31mValueError\u001b[0m                                Traceback (most recent call last)",
      "\u001b[1;32m<ipython-input-36-b5134a21c8e8>\u001b[0m in \u001b[0;36m<module>\u001b[1;34m\u001b[0m\n\u001b[0;32m      7\u001b[0m \u001b[0mprint\u001b[0m\u001b[1;33m(\u001b[0m\u001b[0mstring\u001b[0m\u001b[1;33m.\u001b[0m\u001b[0mfind\u001b[0m\u001b[1;33m(\u001b[0m\u001b[1;34m\"ㅋ\"\u001b[0m\u001b[1;33m)\u001b[0m\u001b[1;33m)\u001b[0m \u001b[1;31m# 없다면  -1리턴\u001b[0m\u001b[1;33m\u001b[0m\u001b[1;33m\u001b[0m\u001b[0m\n\u001b[0;32m      8\u001b[0m \u001b[0mprint\u001b[0m\u001b[1;33m(\u001b[0m\u001b[0mstring\u001b[0m\u001b[1;33m.\u001b[0m\u001b[0mindex\u001b[0m\u001b[1;33m(\u001b[0m\u001b[1;34m\"p\"\u001b[0m\u001b[1;33m)\u001b[0m\u001b[1;33m)\u001b[0m \u001b[1;31m# 1\u001b[0m\u001b[1;33m\u001b[0m\u001b[1;33m\u001b[0m\u001b[0m\n\u001b[1;32m----> 9\u001b[1;33m \u001b[0mprint\u001b[0m\u001b[1;33m(\u001b[0m\u001b[0mstring\u001b[0m\u001b[1;33m.\u001b[0m\u001b[0mindex\u001b[0m\u001b[1;33m(\u001b[0m\u001b[1;34m\"z\"\u001b[0m\u001b[1;33m)\u001b[0m\u001b[1;33m)\u001b[0m\u001b[1;33m\u001b[0m\u001b[1;33m\u001b[0m\u001b[0m\n\u001b[0m",
      "\u001b[1;31mValueError\u001b[0m: substring not found"
     ]
    }
   ],
   "source": [
    "# find() 메서드\n",
    "# find 메서드는 특정 첫단어를 찾아서 인덱스를 리턴해준다. \n",
    "# 없다면 -1을 리턴\n",
    "# 앞에서 본 index 메서드와 다른 차이점\n",
    "# index는 없다면 에러를 발생시킨다.\n",
    "string = \"apple\"\n",
    "print(string.find(\"p\")) # 1\n",
    "print(string.find(\"ㅋ\")) # 없다면  -1리턴\n",
    "print(string.index(\"p\")) # 1\n",
    "# print(string.index(\"z\")) # ValueError: substring not found"
   ]
  },
  {
   "cell_type": "code",
   "execution_count": 48,
   "id": "86235aa7",
   "metadata": {},
   "outputs": [
    {
     "name": "stdout",
     "output_type": "stream",
     "text": [
      "aaaaaaaaaa  bbbbbbbbbbb   ccccccccc\n",
      "aaaaaaaaaa  bbbbbbbbbbb   ccccccccc      \n",
      "     aaaaaaaaaa  bbbbbbbbbbb   ccccccccc\n",
      "     aaaaaaaaaa  bbbbbbbbbbb   ccccccccc      \n"
     ]
    }
   ],
   "source": [
    "# 문자열에서 공백을 제거하는 방법\n",
    "# strip() 양쪽 공백 제거, 탭, 줄바꿈도 제거 \n",
    "# rstrip() 오른쪽 공백만 제거\n",
    "# lstrip() 왼쪽 공백만 제거\n",
    "# 단 메소드로 문자열 중간에 존재하는 공백은 제거할 방법이 없다.(함수로 해결)\n",
    "# split() + map()사용하여 해결가능\n",
    "string  = \"     aaaaaaaaaa  bbbbbbbbbbb   ccccccccc      \"\n",
    "print(string.strip())\n",
    "print(string.lstrip())\n",
    "print(string.rstrip())"
   ]
  }
 ],
 "metadata": {
  "kernelspec": {
   "display_name": "Python 3",
   "language": "python",
   "name": "python3"
  },
  "language_info": {
   "codemirror_mode": {
    "name": "ipython",
    "version": 3
   },
   "file_extension": ".py",
   "mimetype": "text/x-python",
   "name": "python",
   "nbconvert_exporter": "python",
   "pygments_lexer": "ipython3",
   "version": "3.8.8"
  }
 },
 "nbformat": 4,
 "nbformat_minor": 5
}
