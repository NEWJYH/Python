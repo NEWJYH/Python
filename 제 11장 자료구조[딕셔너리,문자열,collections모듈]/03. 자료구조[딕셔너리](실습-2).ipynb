{
 "cells": [
  {
   "cell_type": "code",
   "execution_count": 17,
   "id": "5e9e0415",
   "metadata": {},
   "outputs": [
    {
     "name": "stdout",
     "output_type": "stream",
     "text": [
      "dict_keys(['국어', '수학', '영어'])\n",
      "<class 'dict_keys'>\n",
      "국어 수학 영어 \n",
      "국어 수학 영어 \n",
      "------------------------------------------------\n",
      "dict_values([80, 90, 80])\n",
      "<class 'dict_values'>\n",
      "80 90 80 \n",
      "------------------------------------------------\n",
      "dict_items([('국어', 80), ('수학', 90), ('영어', 80)])\n",
      "<class 'dict_items'>\n",
      "('국어', 80) ('수학', 90) ('영어', 80) \n",
      "------------------------------------------------\n",
      "{1: 1, 2: 8, 3: 27, 4: 64, 5: 125}\n",
      "<class 'dict'>\n"
     ]
    }
   ],
   "source": [
    "# 딕셔너리의 항목들을 순회하는 방법\n",
    "scores = {\"국어\":80,\"수학\":90,\"영어\":80}\n",
    "# 키 값만 출력 되도록 루프를 돌게한다.\n",
    "\n",
    "print(scores.keys()) # 리스트 타입으로 반환해줌\n",
    "print(type(scores.keys())) # <class 'dict_keys'>\n",
    "# 1. print()문을 이용하여 keys()를 사용하면\n",
    "#   반환값의 형태가 dict_keys([]) 타입으로 출력\n",
    "\n",
    "# 2. 아래와 같이 루프를 돌리면 키값만 출력이 된다.\n",
    "for subject in scores:\n",
    "    print(subject, end=\" \")\n",
    "print()\n",
    "for subject in scores.keys():\n",
    "    print(subject, end=\" \")\n",
    "print()\n",
    "print(\"------------------------------------------------\")\n",
    "\n",
    "print(scores.values()) # 리스트 타입으로 반환해줌\n",
    "print(type(scores.values())) # <class 'dict_values'>\n",
    "\n",
    "for value in scores.values():\n",
    "    print(value, end=\" \")\n",
    "print()\n",
    "\n",
    "print(\"------------------------------------------------\")\n",
    "\n",
    "# 키와 값을 동시에 출력하는 방법\n",
    "print(scores.items()) # 리스트 타입으로 반환해줌\n",
    "print(type(scores.items())) # <class 'dict_items'>\n",
    "\n",
    "for item in scores.items():\n",
    "    print(item, end=\" \")\n",
    "print()\n",
    "\n",
    "print(\"------------------------------------------------\")\n",
    "\n",
    "# 딕셔너리 함축(dictionary comprehension) \n",
    "# 방법은 코드를 간결하게 만들고\n",
    "# 가독성도 좋아진다.\n",
    "triples = {x:x**3 for x in range(1,6)}\n",
    "print(triples) # {1: 1, 2: 8, 3: 27, 4: 64, 5: 125}\n",
    "print(type(triples)) # <class 'dict'>"
   ]
  },
  {
   "cell_type": "code",
   "execution_count": 31,
   "id": "9573a114",
   "metadata": {},
   "outputs": [
    {
     "name": "stdout",
     "output_type": "stream",
     "text": [
      "{'pens': 6, 'bags': 1, 'books': 5, 'bottles': 4, 'coins': 3, 'cups': 2}\n",
      "['pens', 'bags', 'books', 'bottles', 'coins', 'cups']\n",
      "['pens', 'bags', 'books', 'bottles', 'coins', 'cups']\n",
      "['bags', 'books', 'bottles', 'coins', 'cups', 'pens']\n",
      "['bags', 'books', 'bottles', 'coins', 'cups', 'pens']\n",
      "[1, 2, 3, 4, 5, 6]\n",
      "[1, 2, 3, 4, 5, 6]\n",
      "------------------------------------------------\n",
      "['bags', 'cups', 'coins', 'bottles', 'books', 'pens']\n",
      "<built-in method __getitem__ of dict object at 0x0000021C0896D800>\n",
      "<class 'builtin_function_or_method'>\n",
      "['__class__', '__contains__', '__delattr__', '__delitem__', '__dir__', '__doc__', '__eq__', '__format__', '__ge__', '__getattribute__', '__getitem__', '__gt__', '__hash__', '__init__', '__init_subclass__', '__iter__', '__le__', '__len__', '__lt__', '__ne__', '__new__', '__reduce__', '__reduce_ex__', '__repr__', '__reversed__', '__setattr__', '__setitem__', '__sizeof__', '__str__', '__subclasshook__', 'clear', 'copy', 'fromkeys', 'get', 'items', 'keys', 'pop', 'popitem', 'setdefault', 'update', 'values']\n"
     ]
    }
   ],
   "source": [
    "# 딕셔너리의 정렬(dictionary sort)방법 실습하기\n",
    "# 파이썬에서 딕셔너리는 근본적으로 요소들이 순서가 없기 때문에\n",
    "# 순서대로 저장하지 않는다.\n",
    "dic1 = {\"pens\":6,\"bags\":1, \"books\":5, \"bottles\":4, \"coins\":3, \"cups\":2}\n",
    "print(dic1)\n",
    "\n",
    "# 딕셔너리를 리스트로 변환\n",
    "# 키 값만 출력\n",
    "li1 = list(dic1)\n",
    "print(li1)\n",
    "li2 = list(dic1.keys())\n",
    "print(li2)\n",
    "\n",
    "# 딕셔너리의 키를 정렬하고자 한다면 \n",
    "# 내장함수인 sorted() 함수를 이용하면 된다.\n",
    "li3 = sorted(dic1)\n",
    "print(li3)\n",
    "print(sorted(dic1))\n",
    "\n",
    "# 딕셔너리의 값을 정렬하고자 한다면 \n",
    "# values()함수와 sorted()를 같이 사용하면 된다.\n",
    "li4 = sorted(dic1.values())\n",
    "print(li4)\n",
    "print(sorted(dic1.values()))\n",
    "print(\"------------------------------------------------\")\n",
    "# 딕셔너리의 값에 따라 키들을 정렬하고 싶은 경우에는\n",
    "# sorted()함수에 요소들을 비교할때 사용하는 \n",
    "# key를 지정해주면 된다.\n",
    "print(sorted(dic1,key=dic1.__getitem__))\n",
    "print(dic1.__getitem__)\n",
    "print(type(dic1.__getitem__)) # <class 'builtin_function_or_method'>\n",
    "print(dir(dic1))"
   ]
  }
 ],
 "metadata": {
  "kernelspec": {
   "display_name": "Python 3",
   "language": "python",
   "name": "python3"
  },
  "language_info": {
   "codemirror_mode": {
    "name": "ipython",
    "version": 3
   },
   "file_extension": ".py",
   "mimetype": "text/x-python",
   "name": "python",
   "nbconvert_exporter": "python",
   "pygments_lexer": "ipython3",
   "version": "3.8.8"
  }
 },
 "nbformat": 4,
 "nbformat_minor": 5
}
