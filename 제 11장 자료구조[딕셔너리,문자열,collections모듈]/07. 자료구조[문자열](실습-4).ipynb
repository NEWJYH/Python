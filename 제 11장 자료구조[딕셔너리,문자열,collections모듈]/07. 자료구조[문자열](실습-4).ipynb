{
 "cells": [
  {
   "cell_type": "code",
   "execution_count": 3,
   "id": "c283c94b",
   "metadata": {},
   "outputs": [
    {
     "name": "stdout",
     "output_type": "stream",
     "text": [
      "Pyt\n",
      "Python\n"
     ]
    }
   ],
   "source": [
    "# 문자열에 대한 실습\n",
    "# 슬라이싱이란 것은 문자열에서 부분문자열로 만드는 잘라내는 작업을 의미한다.\n",
    "word = \"Python\"\n",
    "word1 = word[0:3]\n",
    "print(word1)\n",
    "\n",
    "print(word[:100]) # Python\n",
    "# 파이썬은 슬라이싱할때 범위를 잘못입력해도 잡아준다.\n",
    "# 슬라이싱 시작인덱스나 종료 인덱스로 적절하지 못한 값을 사용하더라도\n",
    "# 파이썬 인터프리터가 자동으로 적절한 값으로 변경하여 실행시켜준다.\n",
    "# 좋은것은 아닙니다.(혼돈의 여지 생성)"
   ]
  },
  {
   "cell_type": "code",
   "execution_count": 12,
   "id": "dc067b9f",
   "metadata": {},
   "outputs": [
    {
     "name": "stdout",
     "output_type": "stream",
     "text": [
      "True\n",
      "'\\ud30c\\uc774\\uc36c'\n",
      "97\n",
      "98\n",
      "a\n",
      "A\n"
     ]
    }
   ],
   "source": [
    "# 문자열 비교하기(연산자)\n",
    "print(\"apple\"<\"banana\") # True\n",
    "# 영어는 아스키 코드 순서로 함\n",
    "\n",
    "# ascii()는 문자열이 알파벳이면 그대로 출력시켜주고\n",
    "# 알파벳이 아니면 유니코드로 변경해서 출력해준다.\n",
    "print(ascii(\"파이썬\"))\n",
    "\n",
    "# ord() 영문자를 아스키 코드로 출력해주는 함수\n",
    "# ord()는 인자로 문자열(영어 또는 아스키코드에 있는 문자)를 넣으면\n",
    "# 아스키 코드 번호를 알려준다.\n",
    "print(ord(\"a\")) # 97\n",
    "print(ord(\"b\")) # 98\n",
    "\n",
    "# chr()는 아스키코드(숫자)를 입력하면 해당하는 문자를 출력해준다.\n",
    "print(chr(97))\n",
    "print(chr(65))"
   ]
  },
  {
   "cell_type": "code",
   "execution_count": 22,
   "id": "aac1b0fc",
   "metadata": {},
   "outputs": [
    {
     "name": "stdout",
     "output_type": "stream",
     "text": [
      "<class 'list'>\n",
      "['안녕', 'john', '난', '지금', '학교', '가고', '있어']\n",
      "<class 'list'>\n",
      "['안녕', 'john', '난', '지금', '학교', '가고', '있어']\n",
      "<class 'list'>\n",
      "['안', '녕,john,난', ',지금', ',학교', ',가', '고,', '있', '어']\n",
      "<class 'list'>\n",
      "['안/녕,john,난/,지금/,학교/,가/고,/있/어']\n",
      "<class 'list'>\n",
      "['안', '녕', 'john', '난', '', '지금', '', '학교', '', '가', '고', '', '있', '어']\n"
     ]
    }
   ],
   "source": [
    "# 스트링 함수에 포함된 메서드 확인\n",
    "# str 클래스의 메서드 실습\n",
    "# split() : 문자열에서 단어(토큰)을 분리하고자 할 때 사용하는 메서드이다.\n",
    "# 인자값으로 구분자 (seperator)를 주게 되면 \n",
    "# 주어진 구분자로 문자열을 분리한다. 리턴값은 리스트형식\n",
    "# 기본인자 값은 공백이다.\n",
    "string1 = \"안녕 john 난 지금 학교 가고 있어\"\n",
    "li1 = string1.split() # 공백으로 분리\n",
    "print(type(li1))\n",
    "print(li1)\n",
    "\n",
    "string2 = \"안녕,john,난,지금,학교,가고,있어\"\n",
    "li2 = string2.split(\",\") # 콤마로 분리\n",
    "print(type(li2))\n",
    "print(li2)\n",
    "\n",
    "string3 = \"안/녕,john,난/,지금/,학교/,가/고,/있/어\"\n",
    "li3 = string3.split(\"/\") # 콤마로 분리\n",
    "print(type(li3))\n",
    "print(li3)\n",
    "\n",
    "# split() 메서드는 구분자를 하나밖에 받지 않는다.\n",
    "string4 = \"안/녕,john,난/,지금/,학교/,가/고,/있/어\"\n",
    "li4 = string4.split(\"/,|\") # \n",
    "print(type(li4))\n",
    "print(li4)\n",
    "\n",
    "# 정규 표현식을 사용하기 위해서\n",
    "# regex 모듈을 인스톨하자\n",
    "#!pip install regex\n",
    "import regex\n",
    "string4 = \"안/녕,john,난/,지금/,학교/,가/고,/있/어\"\n",
    "# regex.split(\"구분자\",\"문자열\")\n",
    "li4 = regex.split(\"[/,|]\",string4)  # 정규표현식으로 분리\n",
    "print(type(li4))\n",
    "print(li4)"
   ]
  },
  {
   "cell_type": "code",
   "execution_count": 32,
   "id": "e811d347",
   "metadata": {},
   "outputs": [
    {
     "name": "stdout",
     "output_type": "stream",
     "text": [
      "True\n",
      "False\n",
      "True\n",
      "True\n",
      "True\n",
      "False\n",
      "False\n",
      "True\n"
     ]
    }
   ],
   "source": [
    "# 문자열을 검사\n",
    "\n",
    "# 오직 알파벳으로만 이루어져야 True\n",
    "string = \"abcdef\"\n",
    "print(string.isalpha()) # True\n",
    "string = \"abcdef1\"\n",
    "print(string.isalpha()) # False\n",
    "\n",
    "# 문자열이 10진수 인지 확인 하는 코드\n",
    "string = '123456'\n",
    "print(string.isdigit()) # True\n",
    "print(string.isdecimal()) # True\n",
    "\n",
    "# 문자열이 알파벳과 숫자로 되어 있는지 확인하는 코드\n",
    "string = \"abcd12345\"\n",
    "# 문자열이 영문자, 숫자인지 동시에 확인하는 코드\n",
    "print(string.isalnum()) # True\n",
    "\n",
    "print(string.isalpha()) # False\n",
    "print(string.isdigit()) # False\n",
    "\n",
    "\n",
    "string =\"Ⅵ\"\n",
    "# isnumeric()은 굉장히 넓은 의미인데,\n",
    "# 숫자값 표현에 해당하는 문자열을 True로 인정해준다. ㅈ 한자 \n",
    "print(string.isnumeric()) # False\n",
    "# str 클래스에서 음수, 실수 판별하는 메서드는 없다.\n",
    "# 함수로 만들어서 스플릿해서 만들어 내서 사용하자."
   ]
  },
  {
   "cell_type": "code",
   "execution_count": 33,
   "id": "2246e750",
   "metadata": {},
   "outputs": [
    {
     "name": "stdout",
     "output_type": "stream",
     "text": [
      "True\n"
     ]
    }
   ],
   "source": [
    "# 공백 확인\n",
    "string = \"  \"\n",
    "print(string.isspace()) # 공백인지 확인 하는 것"
   ]
  }
 ],
 "metadata": {
  "kernelspec": {
   "display_name": "Python 3",
   "language": "python",
   "name": "python3"
  },
  "language_info": {
   "codemirror_mode": {
    "name": "ipython",
    "version": 3
   },
   "file_extension": ".py",
   "mimetype": "text/x-python",
   "name": "python",
   "nbconvert_exporter": "python",
   "pygments_lexer": "ipython3",
   "version": "3.8.8"
  }
 },
 "nbformat": 4,
 "nbformat_minor": 5
}
