{
 "cells": [
  {
   "cell_type": "code",
   "execution_count": null,
   "id": "cccb4903",
   "metadata": {},
   "outputs": [],
   "source": [
    "# 터틀 그래픽을 이용\n",
    "\n",
    "# 터틀 그래픽 기본 예제 \n",
    "# import turtle\n",
    "# t = turtle.Pen()\n",
    "# t.shape(\"turtle\")\n",
    "# t.pencolor(\"blue\")\n",
    "# t.forward(100)\n",
    "# t.right(90)"
   ]
  },
  {
   "cell_type": "code",
   "execution_count": 1,
   "id": "426e34c2",
   "metadata": {},
   "outputs": [
    {
     "name": "stdout",
     "output_type": "stream",
     "text": [
      "왼쪽=left, 오른쪽=right, 종료=quit 입력 :left\n",
      "left를 입력했습니다.\n",
      "왼쪽=left, 오른쪽=right, 종료=quit 입력 :right\n",
      "right를 입력했습니다.\n",
      "왼쪽=left, 오른쪽=right, 종료=quit 입력 :left\n",
      "left를 입력했습니다.\n",
      "왼쪽=left, 오른쪽=right, 종료=quit 입력 :right\n",
      "right를 입력했습니다.\n",
      "왼쪽=left, 오른쪽=right, 종료=quit 입력 :quit\n",
      "종료되었습니다.\n",
      "총 입력 횟수 : 4\n"
     ]
    }
   ],
   "source": [
    "# 사용자에게 명령어를 입력 받아서 터틀 그래픽을 제어를 해보자.\n",
    "# 즉 사용자가 \"left\"를 입력하면 터틀 그래픽이 왼쪽으로 회전하게 되고\n",
    "# \"right\"를 입력했다면 오른쪽으로 회전하게 하는 프로그램을 만들기\n",
    "\n",
    "import turtle\n",
    "# 펜의 기능을 t라는 변수에 저장함\n",
    "t = turtle.Pen()\n",
    "\n",
    "# 반복문을 무한루프 돌려서 if구문을 이용하여 방향을 제어하는 코드\n",
    "# 무한 루프를 프로그래밍을 했다면 반드시 루프를 탈출하는 코드가 반드시 있어야된다.\n",
    "count = 0  \n",
    "while True:\n",
    "    direction = input(\"왼쪽=left, 오른쪽=right, 종료=quit 입력 :\")\n",
    "    count += 1\n",
    "    if direction == \"right\":\n",
    "        print(\"right를 입력했습니다.\")\n",
    "        t.right(50)\n",
    "        t.forward(50)\n",
    "    elif direction == \"left\":\n",
    "        print(\"left를 입력했습니다.\")\n",
    "        t.left(50)\n",
    "        t.forward(50)\n",
    "    elif direction == \"quit\":\n",
    "        # break는 무한루프를 빠져나가라는 키워드 이다.\n",
    "        print(\"종료되었습니다.\")\n",
    "        count -=1\n",
    "        print(\"총 입력 횟수 :\",count)\n",
    "        break\n",
    "    \n",
    "        "
   ]
  },
  {
   "cell_type": "code",
   "execution_count": 5,
   "id": "f8c55546",
   "metadata": {},
   "outputs": [
    {
     "name": "stdout",
     "output_type": "stream",
     "text": [
      "여객 수화물의 무게를 입력해주세요(kg) : 25.67\n",
      "기준 무게 초과로 추가비용 20000원이 발생합니다.\n",
      "항공 요금은 기본료100000 와 추가 비용20000원으로 120000원입니다.\n",
      "즐거운 여행되십시오.\n"
     ]
    }
   ],
   "source": [
    "# 항공사에서는 짐을 부칠 때, \n",
    "# 20kg이 넘어가면 20,000원의 추가 비용을 내야 한다\n",
    "# 20kg 미만이면 수수료는 없다. \n",
    "# 사용자로부터 짐의 무게를 입력 받고 사용자가 지불해야하는 금액이 얼마인지\n",
    "# 계산하는 프로그램을 작성해보자.\n",
    "\n",
    "FORMAL_PRICE = 100000\n",
    "\n",
    "ADD_PRIECE = 20000\n",
    "\n",
    "STANDARD_WEIGHT = 20\n",
    "\n",
    "sum_Price = 0\n",
    "\n",
    "baggage_Weight = float(input(\"여객 수화물의 무게를 입력해주세요(kg) : \"))\n",
    "\n",
    "if baggage_Weight >= STANDARD_WEIGHT :\n",
    "    sum_Price = FORMAL_PRICE + ADD_PRIECE\n",
    "    print(f\"기준 무게 초과로 추가비용 {ADD_PRIECE}원이 발생합니다.\")\n",
    "else :\n",
    "    sum_Price = FORMAL_PRICE\n",
    "    \n",
    "print(f\"항공 요금은 기본료{FORMAL_PRICE} 와 추가 비용{ADD_PRIECE}원으로 {sum_Price}원입니다.\\n즐거운 여행되십시오.\")"
   ]
  },
  {
   "cell_type": "code",
   "execution_count": 10,
   "id": "79056aa8",
   "metadata": {},
   "outputs": [
    {
     "name": "stdout",
     "output_type": "stream",
     "text": [
      "홀수 짝수 구분하는 똥같은 프로그램\n",
      "실수를 입력해주세요 :5\n",
      "\n",
      "입력하신 정수는 5입니다.\n",
      "홀수입니다.\n"
     ]
    }
   ],
   "source": [
    "# 사용자로부터 \n",
    "# 정수를 입력받아서 \n",
    "# 홀수인지 짝수인지를 말해주는 프로그램을 작성해보자.\n",
    "\n",
    "print(\"홀수 짝수 구분하는 똥같은 프로그램\")\n",
    "\n",
    "input_Number = int(input(\"양의 정수를 입력해주세요 :\"))\n",
    "print(f\"\\n입력하신 정수는 {input_Number}입니다.\")\n",
    "\n",
    "if input_Number % 2 == 0 :\n",
    "    print(\"짝수입니다.\")\n",
    "else:\n",
    "    print(\"홀수입니다.\")\n",
    "    "
   ]
  },
  {
   "cell_type": "code",
   "execution_count": 17,
   "id": "86d60e46",
   "metadata": {},
   "outputs": [
    {
     "name": "stdout",
     "output_type": "stream",
     "text": [
      "둘중 큰수를 찾는 개똥 같은 프로그램\n",
      "두개의 정수를 입력해주세요.\n",
      "1번째 수를 입력해주세요 :54\n",
      "2번째 수를 입력해주세요 :35\n",
      "입력하신 숫자는 54 ,35입니다.\n",
      "1번째 수 54이 큰수입니다.\n",
      "둘중 큰수는  54\n"
     ]
    }
   ],
   "source": [
    "# 사용자로부터 두개의 정수를 입력 받아서\n",
    "# 둘중에서 큰 수를 출력하는 프로그램 만들기\n",
    "print(\"둘중 큰수를 찾는 개똥 같은 프로그램\")\n",
    "\n",
    "print(\"두개의 정수를 입력해주세요.\")\n",
    "\n",
    "input_Num1 = int(input(\"1번째 수를 입력해주세요 :\"))\n",
    "input_Num2 = int(input(\"2번째 수를 입력해주세요 :\"))\n",
    "\n",
    "print(f\"입력하신 숫자는 {input_Num1} ,{input_Num2}입니다.\")\n",
    "\n",
    "maximum = 0\n",
    "if input_Num1 > input_Num2:\n",
    "    print(f\" {input_Num1} 1번째 수가 큰수입니다.\")\n",
    "    maximum = input_Num1\n",
    "elif input_Num1 == input_Num2:\n",
    "    print(f\"1번째 수와  2번째 수는 {input_Num1}로 동일합니다.\")\n",
    "    maximum = input_Num2\n",
    "else:\n",
    "    maximum = input_Num1\n",
    "    print(f\" {input_Num2} 2번째 수가 큰수입니다.\")\n",
    "    \n",
    "print(\"큰수 저장 : \",    maximum)"
   ]
  }
 ],
 "metadata": {
  "kernelspec": {
   "display_name": "Python 3",
   "language": "python",
   "name": "python3"
  },
  "language_info": {
   "codemirror_mode": {
    "name": "ipython",
    "version": 3
   },
   "file_extension": ".py",
   "mimetype": "text/x-python",
   "name": "python",
   "nbconvert_exporter": "python",
   "pygments_lexer": "ipython3",
   "version": "3.8.8"
  }
 },
 "nbformat": 4,
 "nbformat_minor": 5
}
