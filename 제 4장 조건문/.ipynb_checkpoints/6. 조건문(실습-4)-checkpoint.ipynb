{
 "cells": [
  {
   "cell_type": "code",
   "execution_count": 10,
   "id": "c36854bb",
   "metadata": {},
   "outputs": [
    {
     "name": "stdout",
     "output_type": "stream",
     "text": [
      "놀이기구를 탈수 있습니다.\n",
      "놀이기구를 탈수 없습니다.\n",
      "참입니다\n",
      "=========================\n",
      "거짓입니다\n"
     ]
    }
   ],
   "source": [
    "# 논리 연산자(logical operator)는 두 개 이상의 조건을 조합해서\n",
    "# 참인지 거짓인지 계산할 때 사용하는 연산자 이다.\n",
    "\n",
    "# 논리 연산자의 종류\n",
    "# and(논리곱), or(논리합), not(논리부정)\n",
    "\n",
    "# and 논리 연산자의 실습\n",
    "# 모든 조건이 참이여야 참을 반환\n",
    "name = \"신은혁\"\n",
    "age = 14\n",
    "height = 120\n",
    "\n",
    "if age >= 14 and height >= 120 :\n",
    "    print(\"놀이기구를 탈수 있습니다.\")\n",
    "else:\n",
    "    print(\"놀이기구를 탈수 없습니다.\")\n",
    "    \n",
    "# or 논리 연산자의 실습\n",
    "# 모든 조건중 하나라도 참이면 참을 반환\n",
    "# 모든 조건이 거짓이여야만 거짓\n",
    "if age >= 15 or height < 120 :\n",
    "    print(\"놀이기구를 탈수 있습니다.\")\n",
    "else:\n",
    "    print(\"놀이기구를 탈수 없습니다.\")\n",
    "    \n",
    "# 논리 부정 연산자 not 실습\n",
    "\n",
    "if not (1==0) :\n",
    "    print(\"참입니다\")\n",
    "print(\"=========================\")\n",
    "if not (1==1) :\n",
    "    print(\"참입니다\")\n",
    "else:\n",
    "    print(\"거짓입니다\")"
   ]
  },
  {
   "cell_type": "code",
   "execution_count": 13,
   "id": "68657268",
   "metadata": {},
   "outputs": [
    {
     "name": "stdout",
     "output_type": "stream",
     "text": [
      "이수학점 입력 : 160\n",
      "이수 평점 입력 : 3.28\n",
      "졸업가능\n"
     ]
    }
   ],
   "source": [
    "# 대학교를 졸업하려면 적어도 140학점을 이수해야 하고 \n",
    "# 평점은 2.0은 되어야 한다고 해보자.\n",
    "# 이것을 프로그램으로 만들어 보자.\n",
    "# 사용자에게 자신의 이수학점과 평점을 입력받아서\n",
    "# 졸업가능 여부를 확인하는 것을 코드로 작성해보자.\n",
    "\n",
    "# 사용자에게 입력받을 데이터 2가지\n",
    "\n",
    "# 1. 이수학점\n",
    "input_1 = int(input(\"이수학점 입력 : \")) \n",
    "# 2. 이수평점\n",
    "input_2 = float(input(\"이수 평점 입력 : \"))\n",
    "\n",
    "# 졸업최소 학점\n",
    "r_t1 = 140\n",
    "# 졸업최소 평점\n",
    "r_t2 = 2.0\n",
    "\n",
    "if input_1 >= r_t1 and input_2 >= r_t2 :\n",
    "    print(\"졸업가능\")\n",
    "else:\n",
    "    print(\"졸업불가능\")\n"
   ]
  },
  {
   "cell_type": "code",
   "execution_count": 22,
   "id": "cadd5d74",
   "metadata": {
    "scrolled": true
   },
   "outputs": [
    {
     "name": "stdout",
     "output_type": "stream",
     "text": [
      "몸무게를 입력하세요(kg) : 65\n",
      "키를 입력하세요(cm) : 172\n",
      "BMI 는 21.97입니다.\n",
      "표준입니다\n"
     ]
    }
   ],
   "source": [
    "# 몸무게와 키를 입력받고 BMI가 20.0이상이고 25미만 이면\n",
    "# 표준입니다. 라고 출력하고 아니면 체중관리가 필요합니다. 라고\n",
    "# 출력하는 프로그램 만들기\n",
    "\n",
    "# BMI 공식 :\n",
    "# 체중(kg) / 키의 제곱 (m)\n",
    "\n",
    "# 몸무게 입력받기\n",
    "weight = float(input(\"몸무게를 입력하세요(kg) : \"))\n",
    "height = float(input(\"키를 입력하세요(cm) : \")) \n",
    "BMI = weight / ((height * 0.01)**2)\n",
    "\n",
    "print(f\"BMI 는 {BMI:.2f}입니다.\")\n",
    "if 25.0 > BMI >=20.0 :\n",
    "    print(\"표준입니다\")\n",
    "else:\n",
    "    print(\"체중관리가 필요합니다\")"
   ]
  }
 ],
 "metadata": {
  "kernelspec": {
   "display_name": "Python 3",
   "language": "python",
   "name": "python3"
  },
  "language_info": {
   "codemirror_mode": {
    "name": "ipython",
    "version": 3
   },
   "file_extension": ".py",
   "mimetype": "text/x-python",
   "name": "python",
   "nbconvert_exporter": "python",
   "pygments_lexer": "ipython3",
   "version": "3.8.8"
  }
 },
 "nbformat": 4,
 "nbformat_minor": 5
}
