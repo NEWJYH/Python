{
 "cells": [
  {
   "cell_type": "markdown",
   "id": "31dec1ad",
   "metadata": {},
   "source": [
    "2. 순서도"
   ]
  },
  {
   "cell_type": "markdown",
   "id": "8a459c6e",
   "metadata": {},
   "source": [
    "1) 순서도\n",
    "    - 순서도는 프로그램을 작성하기 전에 그림으로 한번 그려보는 것을 말한다.\n",
    "      물론 현재의 객체지향 프로그램에 있어서는 좀 퇴색이 되는 경향이 \n",
    "      없지 않아 있지만 프로그램의 초창기 절차지향적 프로그래밍을 할 때는\n",
    "      많이 사용되었다.\n",
    "      하지만 아직까지도 컴퓨터 구조론에 나오고 자격증 시험에도 나오기 때문에\n",
    "      알아두면 좋다.\n",
    "    - 순서도의 기호는 아래와 같다.\n",
    "  "
   ]
  },
  {
   "cell_type": "markdown",
   "id": "5a45d53c",
   "metadata": {},
   "source": [
    "기호                설명\n",
    "동그라미            시작 / 종료\n",
    "화살표            도형들을 연결한다\n",
    "평행사변형          입력 과 출력\n",
    "직사각형             처리(실행)\n",
    "마름모               판단(분기)\n",
    "\n",
    "! 문제 \n",
    "비가 올 때 어떻게 대처할 것인지를 순서도로 그려보라.\n",
    "비가 오지 않으면 외출한다.\n",
    "비가 오면 우산을 가지고 있는지 검사한다.\n",
    "우산을 가지고 있다면 외출한다.\n",
    "우산을 가지고 있지 않다면 무한정 비가 그칠때까지 기다린다."
   ]
  },
  {
   "cell_type": "markdown",
   "id": "829bfda6",
   "metadata": {},
   "source": [
    "3. 블록"
   ]
  },
  {
   "cell_type": "markdown",
   "id": "281a0768",
   "metadata": {},
   "source": [
    "1) 블록(block)을 만드는 방법\n",
    "    - 만약 조건이 참인 경우에 여러 개의 문장이 실행되어야 한다면 \n",
    "      어떻게 해야 하는지에 대해서 알아보도록 하자.\n",
    "      예를 들어 성적이 90점 이상이면 합격과 동시에 장학금도 받을 수 있다고  \n",
    "      출력하려면 이런 경우에 2개의 출력 함수를 이용해서 2줄이\n",
    "      작성되어야 할것이다.\n",
    "      이런 경우는 아래의 형태로 프로그래밍을 하면 될것이다."
   ]
  },
  {
   "cell_type": "code",
   "execution_count": null,
   "id": "3b481d97",
   "metadata": {},
   "outputs": [],
   "source": [
    "score = 99\n",
    "if score >= 90:\n",
    "    print(\"합격입니다.\")\n",
    "    print(\"장학금도 받을 수 있습니다.\")"
   ]
  },
  {
   "cell_type": "markdown",
   "id": "21813053",
   "metadata": {},
   "source": [
    "1) 블록(block)을 만드는 방법\n",
    "    - 위의 코드는 score의 값이 90이상이라면 print()함수를 호출하는 \n",
    "      2개의 문장이 실행된다.\n",
    "      !! 단 주의해야 할것은 if문 아래 코드는 동일한 개수의 공백\n",
    "         을 가지고 있어야 한다는 것이다.\n",
    "         이들 모두 동일한 블록(block)에 속해 있는 것이다.\n",
    "      하나의 블록에 속하는 문장들은 모두 같이 실행된다.\n",
    "      "
   ]
  },
  {
   "cell_type": "markdown",
   "id": "15d6498d",
   "metadata": {},
   "source": [
    "2) 블록(block)의 들여쓰기\n",
    "    - 블록 안에 다시 새로운 블록을 만드는 것도 가능하다.\n",
    "      아래 코드를 참조하여 블록의 이해하도록 하자."
   ]
  },
  {
   "cell_type": "code",
   "execution_count": 2,
   "id": "04f18652",
   "metadata": {},
   "outputs": [
    {
     "name": "stdout",
     "output_type": "stream",
     "text": [
      "200.0 할인되었음!\n"
     ]
    }
   ],
   "source": [
    "sales = 2000\n",
    "\n",
    "# 들여쓰기 수준 0\n",
    "if sales > 1000 :\n",
    "    # 들여쓰기 수준 1\n",
    "    discount = sales * 0.1\n",
    "    print(discount,\"할인되었음!\")\n",
    "else :\n",
    "    if sales > 500 :\n",
    "        # 들여쓰기 수준 2\n",
    "        discount = sales * 0.05\n",
    "        print(discount,\"할인되었음!\")\n",
    "    else:\n",
    "        print(\"할인은 없습니다.\")"
   ]
  },
  {
   "cell_type": "markdown",
   "id": "50a4f4e5",
   "metadata": {},
   "source": [
    "2) 블록(block)의 들여쓰기\n",
    "    - 소스의 가독성을 높이려면 들여쓰기를 할 때 \n",
    "      일관된 방법을 사용하는 것이 좋다.\n",
    "      즉 TAB 키를 사용했다면 프로그램의 나머지 부분에서 TAB키를 사용하여서\n",
    "      블록의 공간을 똑같이 해주는 것이 편리하다는 것이다.\n",
    "      "
   ]
  },
  {
   "cell_type": "markdown",
   "id": "d8c569a2",
   "metadata": {},
   "source": [
    "4. 논리 연산자"
   ]
  },
  {
   "cell_type": "markdown",
   "id": "ea9f868d",
   "metadata": {},
   "source": [
    "1) 논리 연산자의 개요\n",
    "    - 논리 연산자(logical operator)는 여러 개의 조건을 조합하여\n",
    "      참인지 거짓인지 따질 때 사용한다.\n",
    "      AND(논리곱), OR(논리합), NOT(논리 부정)이 있다.\n",
    "    - 놀이공원에서 놀이기구를 탈 수 있는 조건을 논리 수식으로 작성하여 보면\n",
    "      age>= 10 and height >= 165\n",
    "      [나이가 10살이상 이며 키가 165이상이여야 만족]\n",
    "      [1조건과 2조건 둘다 만족하여야함]\n",
    "      \n",
    "    - 논리 연산자는 아래의 표와 같다.\n",
    "      \n",
    "      연산       의미\n",
    "      x and y   AND 연산, x와 y가 모두 참이여야 참\n",
    "      x or y    OR 연산, x나 y중에서 하나만 참이면 참, 모두 거짓이면 거짓\n",
    "      not x     NOT 연산, x가 참이면 거짓, x가 거짓이면 참 \n",
    "      \n",
    "      \n",
    "2) 논리 연산자의 예시"
   ]
  },
  {
   "cell_type": "code",
   "execution_count": 4,
   "id": "72d81e96",
   "metadata": {},
   "outputs": [
    {
     "name": "stdout",
     "output_type": "stream",
     "text": [
      "놀이기구를 탈수 있습니다.\n"
     ]
    }
   ],
   "source": [
    "age = 20\n",
    "height = 180\n",
    "if age>= 10 and height>=165:\n",
    "    print(\"놀이기구를 탈수 있습니다.\")\n",
    "else :\n",
    "    print(\"놀이기구를 탈수 없습니다.\")"
   ]
  },
  {
   "cell_type": "markdown",
   "id": "d6b77b32",
   "metadata": {},
   "source": [
    "2) 논리 연산자의 예시\n",
    "    - 주의해야 될 점이 있는데, 논리 연산자를 작성할 때\n",
    "      and 연산자의 경우, 여러 개의 조건 중에서 처음 조건이 거짓이라면\n",
    "      다른 조건들은 전혀 검사조차 하지 않는다는 점이다.\n",
    "      그 이유는 첫 번째 조건이 어차피 거짓이니깐 나머지 \n",
    "      조건들은 계산하지 않아도 전체 수식은 거짓이 되기 때문이다.\n",
    "      예를 들면 아래와 같다.\n",
    "      2 > 22 and x < 5 라면 벌써 첫 번째 조건이 거짓이므로\n",
    "      x < 5 라는 조건식은 검사를 안한다는 것이다.\n",
    "      이런 계산을 단축 계산이라고도 한다.\n",
    "\n",
    "3) 논리 부정 연산자\n",
    "    - 논리 부정을 나타내는 not 연산자는 조건이 참이면 전체 수식이 거짓으로\n",
    "      만들고, 조건이 거짓이면 전체 수식 값을 참으로 만들어 준다.\n",
    "      예를 들면 not(1==0)는 참이 된다.\n",
    "      1==0은 원래 거짓이지만 not가 참으로 만들어 주는 것이다."
   ]
  }
 ],
 "metadata": {
  "kernelspec": {
   "display_name": "Python 3",
   "language": "python",
   "name": "python3"
  },
  "language_info": {
   "codemirror_mode": {
    "name": "ipython",
    "version": 3
   },
   "file_extension": ".py",
   "mimetype": "text/x-python",
   "name": "python",
   "nbconvert_exporter": "python",
   "pygments_lexer": "ipython3",
   "version": "3.8.8"
  }
 },
 "nbformat": 4,
 "nbformat_minor": 5
}
