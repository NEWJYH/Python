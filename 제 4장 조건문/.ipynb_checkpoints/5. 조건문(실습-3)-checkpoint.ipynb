{
 "cells": [
  {
   "cell_type": "code",
   "execution_count": 3,
   "id": "ea625336",
   "metadata": {},
   "outputs": [
    {
     "ename": "IndentationError",
     "evalue": "unindent does not match any outer indentation level (<tokenize>, line 8)",
     "output_type": "error",
     "traceback": [
      "\u001b[1;36m  File \u001b[1;32m\"<tokenize>\"\u001b[1;36m, line \u001b[1;32m8\u001b[0m\n\u001b[1;33m    print(\"장학금도 받을 수 있습니다.\")\u001b[0m\n\u001b[1;37m    ^\u001b[0m\n\u001b[1;31mIndentationError\u001b[0m\u001b[1;31m:\u001b[0m unindent does not match any outer indentation level\n"
     ]
    }
   ],
   "source": [
    "# 블록의 중요성에 대한 실습\n",
    "# 타 언어(java, c, c++)에서는 블록을 중괄호로 감싸서 들여쓰기를\n",
    "# 해야된다 라는 문법이 없다.\n",
    "\n",
    "score = 95\n",
    "if score >= 95:\n",
    "    print(\"합격입니다\")\n",
    "    print(\"장학금도 받을 수 있습니다.\")\n",
    "# 파이썬에서 블록을 만들 때, 반드시 공간을 동일하게 줘야 한다.\n",
    "# 파이썬의 문법에서는 블록(실행문장이 여러 개일때)을 만들때,\n",
    "# 들여쓰기를 해야하며, 이렇게 해주어야 프로그램의 가독성이 좋아진다."
   ]
  },
  {
   "cell_type": "code",
   "execution_count": 11,
   "id": "b4257fb0",
   "metadata": {},
   "outputs": [
    {
     "name": "stdout",
     "output_type": "stream",
     "text": [
      "구입 금액을 입력하세요 : 55555\n",
      "구입금액 :55555 할인율 :5.0% 할인 금액 : 2777.75 최종 지불금액 52777\n"
     ]
    }
   ],
   "source": [
    "# 쇼핑몰에서 물건을 구매할 때, \n",
    "# 구입액이 5만원 이상이면 5%의 할인을 해준다고 하자.\n",
    "# 사용자에게 구입 금액을 입력받고 \n",
    "# 최종적으로 할인 금액과 지불금액을 출력하는 프로그램 만들기\n",
    "\n",
    "# 구입 금액 입력\n",
    "charge = int(input(\"구입 금액을 입력하세요 : \"))\n",
    "\n",
    "# 할인 기준 금액\n",
    "standard_charge = 50000\n",
    "\n",
    "# 할인율 지정\n",
    "discount_ChargeRate = 0.05\n",
    "\n",
    "# 최종 할인 금액 설정\n",
    "discount_charge = 0\n",
    "\n",
    "if charge >= standard_charge:\n",
    "    discount_charge = int(charge * (1 - discount_ChargeRate)) \n",
    "    print(f\"구입금액 :{charge} 할인율 :{discount_ChargeRate * 100}% 할인 금액 : {charge * discount_ChargeRate } 최종 지불금액 {discount_charge }\")    \n",
    "else:\n",
    "    print(\"할인 금액 미만입니다.\")\n",
    "    print(f\"구입금액 :{charge} 할인율 :{ 0 }% 할인 금액 : {0} 최종 지불금액 {charge}\")    \n",
    "    "
   ]
  },
  {
   "cell_type": "code",
   "execution_count": 34,
   "id": "21a2ff07",
   "metadata": {},
   "outputs": [
    {
     "name": "stdout",
     "output_type": "stream",
     "text": [
      "문자열을 입력하세요 : monday\n",
      "입력한 문자열 : monday\n",
      "문자의 수 6\n",
      "입력한 문자열의 문자수는 짝수\n",
      "중간 문자 2개는 \n",
      "nd\n"
     ]
    }
   ],
   "source": [
    "# 문자열의 중앙에 있는 문자를 추출해서 출력을 하는 프로그램 만들기\n",
    "# 예를 들어 문자열이 weekday라면 중앙의 문자는 k가 된다.\n",
    "# 하지만 만약 문자열이 짝수개의 문자를 가지고 있다면 중앙의 문자를 2개의\n",
    "# 문자를 출력한다.\n",
    "# 예를 들어 monday라면 nd를 출력하도록 한다.\n",
    "\n",
    "# 1. 문자열 입력 받기\n",
    "input_String = input(\"문자열을 입력하세요 : \")\n",
    "print(f\"입력한 문자열 : {input_String}\")\n",
    "\n",
    "# 2. 문자열의 길이 체크하기\n",
    "len_String = len(input_String)\n",
    "print(f\"문자의 수 {len_String}\")\n",
    "# 3. 문자열이 짝수일 경우 중앙 2글자 출력 홀수일경우 1글자 출력\n",
    "if len_String % 2 == 0:\n",
    "    print(\"입력한 문자열의 문자수는 짝수\")\n",
    "    # 짝수 일 경우\n",
    "    # 짝수 일 경우 \n",
    "    # len//2 -1 이 처음 출력할 인덱스이다.\n",
    "    half_Index = len_String//2 -1\n",
    "    print(\"중간 문자 2개는 \")\n",
    "    result = input_String[half_Index] + input_String[half_Index +1]\n",
    "    print(result)\n",
    "else:\n",
    "    print(\"입력한 문자열의 문자수는 홀수\")\n",
    "    half_index = len_String // 2\n",
    "    # 3일 경우 0 1 2 #   \n",
    "    # 5일 경우 0 1 2 3 4 #\n",
    "    # 7일 경우 0 1 2 3 4 5 6 # \n",
    "    # 9알 경우 0 1 2 3 4 5 6 7 8 # \n",
    "    print(\"중간문자는\")\n",
    "    result = input_String[half_index]\n",
    "    print(result)"
   ]
  }
 ],
 "metadata": {
  "kernelspec": {
   "display_name": "Python 3",
   "language": "python",
   "name": "python3"
  },
  "language_info": {
   "codemirror_mode": {
    "name": "ipython",
    "version": 3
   },
   "file_extension": ".py",
   "mimetype": "text/x-python",
   "name": "python",
   "nbconvert_exporter": "python",
   "pygments_lexer": "ipython3",
   "version": "3.8.8"
  }
 },
 "nbformat": 4,
 "nbformat_minor": 5
}
