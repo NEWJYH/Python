{
 "cells": [
  {
   "cell_type": "code",
   "execution_count": 6,
   "id": "f9646452",
   "metadata": {
    "scrolled": true
   },
   "outputs": [
    {
     "name": "stdout",
     "output_type": "stream",
     "text": [
      "합격입니다.\n"
     ]
    }
   ],
   "source": [
    "# 조건문 실습(if -else구문, if구문)\n",
    "\n",
    "score = 60\n",
    "# 수식(관계식)다음에 : 기호는 인터프리터에게 아직 문장이 끝나지 않았음을\n",
    "# 알리는 기호다.\n",
    "\n",
    "# if -else 구문은 50프로 확률을 지닌다. \"모 아니면 도 \"일 경웨 사용하도록 하자\n",
    "if score >= 60 :\n",
    "    print(\"합격입니다.\")\n",
    "else :\n",
    "    print(\"불합격입니다.\")\n",
    "\n",
    "# 파이썬에서는 수식(관계식)을 나타내고자 할 때, 괄호()를 사용해도 되긴 하나\n",
    "# 괄호를 쓰지 않고 표현하도록 하자."
   ]
  },
  {
   "cell_type": "code",
   "execution_count": 13,
   "id": "a087fcd8",
   "metadata": {},
   "outputs": [
    {
     "name": "stdout",
     "output_type": "stream",
     "text": [
      "나이를 입력하세요.123023456\n",
      "주류 구입이 가능한 연령입니다.\n"
     ]
    }
   ],
   "source": [
    "age = int(input(\"나이를 입력하세요.\"))\n",
    "\n",
    "if age >= 20 :\n",
    "    print(\"주류 구입이 가능한 연령입니다.\")\n",
    "else :\n",
    "    print(\"아직 미성년자라 주류 구입이 안됩니다.\")"
   ]
  },
  {
   "cell_type": "code",
   "execution_count": 17,
   "id": "955d3562",
   "metadata": {},
   "outputs": [
    {
     "name": "stdout",
     "output_type": "stream",
     "text": [
      "점수 90점 이상입니다. 학점은 A 등급입니다.\n",
      "점수 80점 이상입니다. 학점은 B 등급입니다.\n",
      "점수 70점 이상입니다. 학점은 C 등급입니다.\n",
      "점수 60점 이상입니다. 학점은 D 등급입니다.\n"
     ]
    }
   ],
   "source": [
    "# 조건문 if구문만 사용\n",
    "\n",
    "score = 99\n",
    "\n",
    "if score >= 90 :\n",
    "    print(\"점수 90점 이상입니다. 학점은 A 등급입니다.\")\n",
    "if score >= 80 :\n",
    "    print(\"점수 80점 이상입니다. 학점은 B 등급입니다.\")\n",
    "if score >= 70 :\n",
    "    print(\"점수 70점 이상입니다. 학점은 C 등급입니다.\")\n",
    "if score >= 60 :\n",
    "    print(\"점수 60점 이상입니다. 학점은 D 등급입니다.\")\n",
    "\n",
    "# 몇십개의 if 구문이 존재하더라도, CPU는 모든 if문을 참조한다.\n",
    "# 그러므로 애플리케이션 프로그램의 성능은 떨어질 수 밖에 없다."
   ]
  },
  {
   "cell_type": "code",
   "execution_count": 22,
   "id": "9e682df1",
   "metadata": {},
   "outputs": [
    {
     "name": "stdout",
     "output_type": "stream",
     "text": [
      "점수 90점 이상입니다. 학점은 A 등급입니다.\n"
     ]
    }
   ],
   "source": [
    "# elif문 사용\n",
    "\n",
    "score = 90\n",
    "\n",
    "if score >= 90 :\n",
    "    print(\"점수 90점 이상입니다. 학점은 A 등급입니다.\")\n",
    "elif score >= 80 :\n",
    "    print(\"점수 80점 이상입니다. 학점은 B 등급입니다.\")\n",
    "elif score >= 70 :\n",
    "    print(\"점수 70점 이상입니다. 학점은 C 등급입니다.\")\n",
    "elif score >= 60 :\n",
    "    print(\"점수 60점 이상입니다. 학점은 D 등급입니다.\")\n"
   ]
  },
  {
   "cell_type": "code",
   "execution_count": 12,
   "id": "db58a4a6",
   "metadata": {},
   "outputs": [
    {
     "name": "stdout",
     "output_type": "stream",
     "text": [
      "성별을 입력하세요 예) 남자 여자 : 전차포\n",
      "잘못된 입력입니다\n"
     ]
    }
   ],
   "source": [
    "# 사용자로부터 성별을 입력 받아서 해당하는 성별을 출력하는 프로그램 만들기\n",
    "\n",
    "gender = input(\"성별을 입력하세요 예) 남자 여자 : \")\n",
    "\n",
    "if gender == \"남자\" or gender == \"남\":\n",
    "    print(\"남자입니다.\")\n",
    "if gender == \"여자\" or  gender == \"여\":\n",
    "    print(\"여자입니다.\")\n",
    "else:\n",
    "    print(\"잘못된 입력입니다\")"
   ]
  },
  {
   "cell_type": "code",
   "execution_count": 18,
   "id": "8ac9bb69",
   "metadata": {},
   "outputs": [
    {
     "name": "stdout",
     "output_type": "stream",
     "text": [
      "<class 'bool'>\n",
      "flag는 참임으로 조건식 만족하여 실행됩니다\n",
      "flag를 not flag로 바꿉니다\n",
      "flag는 False임으로 조건식을 만족하여 실행됩니다.\n"
     ]
    }
   ],
   "source": [
    "# boolean 변수\n",
    "# True or False\n",
    "\n",
    "\n",
    "# 부울(bool) 변수 알아보기\n",
    "# 부울변수의 용도는 플래그 변수 형태로 사용을 많이 한다.\n",
    "\n",
    "flag = True\n",
    "# 타 프로그래밍 언어에서는 bool변수에 값은 소문자로 시작하는 true를 사용하지만\n",
    "# 파이썬은 대문자로 시작하는 True False를 사용함을 잊지 않도록 하자.\n",
    "print(type(flag))\n",
    "\n",
    "if flag :\n",
    "    print(\"flag는 참임으로 조건식 만족하여 실행됩니다\")\n",
    "\n",
    "    \n",
    "flag = not flag\n",
    "print(\"flag를 not flag로 바꿉니다\")\n",
    "if flag == False:\n",
    "    print(\"flag는 False임으로 조건식을 만족하여 실행됩니다.\")\n",
    "    \n",
    "# 파이썬에서 부울 변수의 값을 바꾸기 위해서는 not 연산자를 이용하면 된다.\n"
   ]
  }
 ],
 "metadata": {
  "kernelspec": {
   "display_name": "Python 3",
   "language": "python",
   "name": "python3"
  },
  "language_info": {
   "codemirror_mode": {
    "name": "ipython",
    "version": 3
   },
   "file_extension": ".py",
   "mimetype": "text/x-python",
   "name": "python",
   "nbconvert_exporter": "python",
   "pygments_lexer": "ipython3",
   "version": "3.8.8"
  }
 },
 "nbformat": 4,
 "nbformat_minor": 5
}
