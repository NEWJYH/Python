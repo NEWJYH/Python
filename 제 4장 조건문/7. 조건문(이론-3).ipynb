{
 "cells": [
  {
   "cell_type": "markdown",
   "id": "66909460",
   "metadata": {},
   "source": [
    "5. if ~elif 문"
   ]
  },
  {
   "cell_type": "markdown",
   "id": "1a16fe41",
   "metadata": {},
   "source": [
    "1) if ~ elif문의 개요\n",
    "    - 종종 우리는 조건에 따라서 \n",
    "      다중으로 분기되는 결정을 내려야 하는 경우가 있다.\n",
    "      \n",
    "    - 예를 들어 학생들의 성적을 받아서 학점을 출력하는 프로그램을\n",
    "      작성하여 실행하여 보자.\n",
    "      성적이 90점 이상이라면 A학점, \n",
    "      80점이상 90점 미만이라면 B학점,\n",
    "      70점이상 80점 미만이라면 C학점\n",
    "      과 같이 결정하는 것이다."
   ]
  },
  {
   "cell_type": "code",
   "execution_count": 2,
   "id": "c02e8519",
   "metadata": {},
   "outputs": [
    {
     "name": "stdout",
     "output_type": "stream",
     "text": [
      "성적을 입력하시오 : 59\n",
      "학점 : F\n"
     ]
    }
   ],
   "source": [
    "score = int(input(\"성적을 입력하시오 : \"))\n",
    "\n",
    "if score >= 90:\n",
    "    print(\"학점 : A\")\n",
    "elif score >=80:\n",
    "    print(\"학점 : B\")\n",
    "elif score >=70:\n",
    "    print(\"학점 : C\")\n",
    "elif score >=60:\n",
    "    print(\"학점 : D\")\n",
    "else:\n",
    "    print(\"학점 : F\")    "
   ]
  },
  {
   "cell_type": "markdown",
   "id": "f7b8b2ce",
   "metadata": {},
   "source": [
    "6. 중첩 if ~ else 문"
   ]
  },
  {
   "cell_type": "markdown",
   "id": "cec2b2c4",
   "metadata": {},
   "source": [
    "1) 중첩 if ~ else 문의 개요\n",
    "    - 지금까지는 if ~ else 문장만을 사용하였다.\n",
    "      하지만 만약 조건문 안에 또 다른 조건문을 넣어야 한다면\n",
    "      이제 중첩 if ~else 구문을 사용해야 한다.\n",
    "    - if ~ else 구문 안에는 여러 개(무제한)의\n",
    "      구문이 포함될수 있다. 들여쓰기로 중첩의 수준을 알 수 있다.\n",
    "    - 이러한 구조는 자칫하면 프로그래밍을 한 자신도\n",
    "      못알아 볼수있으니, 많이 사용하지 않는 것이 바람직하며,\n",
    "      통상 2개의 if ~else 구문정도만 해도 거의 다 문제를 해결된다.\n",
    "      물론 조건을 어떻게 생각하느냐에 달려 있는 것이다."
   ]
  },
  {
   "cell_type": "code",
   "execution_count": 3,
   "id": "0cb68469",
   "metadata": {},
   "outputs": [
    {
     "name": "stdout",
     "output_type": "stream",
     "text": [
      "사과의 상태를 입력하시오 : 신선\n",
      "사과 1개의 가격을 입력하시오 : 850\n",
      "10개를 산다.\n"
     ]
    }
   ],
   "source": [
    "appleQuality = input(\"사과의 상태를 입력하시오 : \")\n",
    "applePrice = int(input(\"사과 1개의 가격을 입력하시오 : \"))\n",
    "\n",
    "if appleQuality == \"신선\":\n",
    "    if applePrice < 1000:\n",
    "        print(\"10개를 산다.\")\n",
    "    else:\n",
    "        print(\"5개를 산다.\")\n",
    "else:\n",
    "    print(\"사과를 사지 않는다.\")"
   ]
  },
  {
   "cell_type": "markdown",
   "id": "008934cd",
   "metadata": {},
   "source": [
    "7. 문자열과 숫자의 저장 구조"
   ]
  },
  {
   "cell_type": "markdown",
   "id": "e9c74df4",
   "metadata": {},
   "source": [
    "1) 문자열과 숫자 저장 구조\n",
    "    - 숫자 100과 문자열 \"100\"은 어떤 차이가 있을까?\n",
    "      유사해 보이지만 컴퓨터에서는 이것을 상당히 다르게 처리한다.\n",
    "      우리가 조건식을 만들 때도 문자열과 숫자를 구별하여야 한다.\n",
    "    - 앞서 이미위의 내용에 대해서 학습하였고 실습도 진행한 바 \n",
    "      저장 구조만 설명하겠다.\n",
    "      \n",
    "      문자열 \"100\"의 저장구조\n",
    "      '1' '0' '0'            \n",
    "      \n",
    "      숫자 100의 저장구조\n",
    "      01100100\n",
    "      진법 변환 : 컴퓨터공학도 진법 전환 자유자재로 할줄 알아야함\n",
    "      \n",
    "    - if문에서의 조건식에서도 위의 개념이 그대로"
   ]
  },
  {
   "cell_type": "code",
   "execution_count": 1,
   "id": "5aef970a",
   "metadata": {},
   "outputs": [
    {
     "name": "stdout",
     "output_type": "stream",
     "text": [
      "숫자 100입니다.\n"
     ]
    }
   ],
   "source": [
    "s =\"100\"\n",
    "number = int(s)\n",
    "if number == 100:\n",
    "    print(\"숫자 100입니다.\")"
   ]
  }
 ],
 "metadata": {
  "kernelspec": {
   "display_name": "Python 3",
   "language": "python",
   "name": "python3"
  },
  "language_info": {
   "codemirror_mode": {
    "name": "ipython",
    "version": 3
   },
   "file_extension": ".py",
   "mimetype": "text/x-python",
   "name": "python",
   "nbconvert_exporter": "python",
   "pygments_lexer": "ipython3",
   "version": "3.8.8"
  }
 },
 "nbformat": 4,
 "nbformat_minor": 5
}
