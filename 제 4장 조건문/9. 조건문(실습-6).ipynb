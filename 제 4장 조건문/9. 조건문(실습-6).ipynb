{
 "cells": [
  {
   "cell_type": "code",
   "execution_count": 6,
   "id": "b0bb3a2f",
   "metadata": {},
   "outputs": [
    {
     "name": "stdout",
     "output_type": "stream",
     "text": [
      "태어난 연도를 입력해주세요 : 2021\n",
      "현재 나이  2\n",
      "미취학 아동입니다\n"
     ]
    }
   ],
   "source": [
    "# 사용자로부터 태어난 연도를 입력받아서 \n",
    "# 초등학생인지 중학생인지 고등학생 또는 대학생인지\n",
    "# 어디에 해당하는 지를 출력하는 프로그램을 작성 해보시오.(현재 나이)\n",
    "\n",
    "# 나이 : 8 ~ 13(초등학생), 14 ~ 16(중학생), 17~ 19(고등학생)\n",
    "#       20 ~ 27(대학생) 이외의 나이라면 일반인으로 분류를 하도록 한다.\n",
    "\n",
    "birth_year = int(input(\"태어난 연도를 입력해주세요 : \"))\n",
    "\n",
    "# 나이 계산 \n",
    "age = (2022 - birth_year) + 1\n",
    "print(\"현재 나이 \",age)\n",
    "\n",
    "if age >= 28 :\n",
    "    print(\"일반인입니다.\")\n",
    "elif age >= 20 :\n",
    "    print(\"대학생입니다.\")\n",
    "elif age >= 17 :\n",
    "    print(\"고등학생입니다.\")\n",
    "elif age >= 14 :\n",
    "    print(\"중학생입니다.\")\n",
    "elif age >= 8 :\n",
    "    print(\"초등학생입니다.\")\n",
    "else :\n",
    "    print(\"미취학 아동입니다\")"
   ]
  },
  {
   "cell_type": "code",
   "execution_count": 8,
   "id": "4c341b00",
   "metadata": {},
   "outputs": [
    {
     "name": "stdout",
     "output_type": "stream",
     "text": [
      "ID를 입력하세요 : 김연아\n",
      "패쓰워드를 입력하세요 : 1234\n",
      "김연아 님이 로그인 하셨습니다.\n"
     ]
    }
   ],
   "source": [
    "# 중복(nested) if ~ else 구문\n",
    "\n",
    "# 사용자로부터 ID를 입력받아서\n",
    "# 등록되어진 ID인지를 검사하는 프로그램을 작성하는데, \n",
    "# 등록된 아이디를 리스트에 저장하도록 한다.\n",
    "# 아이디가 등록되 있다면 패스워드를 물어보도록 한다.\n",
    "# 단, 패스워드는 \"1234\"라고 가정하도록 한다.\n",
    "\n",
    "# 아이디들의 값들을 리스트에 저장하는 코드\n",
    "user_list = [\"신은혁\",\"김연아\",\"손연재\",\"박길수\",\"지창욱\"]\n",
    "# 패스워드 정의\n",
    "pw = \"1234\"\n",
    "\n",
    "id_ = input(\"ID를 입력하세요 : \")\n",
    "\n",
    "if id_ in user_list :\n",
    "    # 사용자가 입력한 id가 user_list 에 있는지 확인하는 코드\n",
    "    password =input(\"패쓰워드를 입력하세요 : \")\n",
    "    if pw == password :\n",
    "        print(id_,\"님이 로그인 하셨습니다.\")\n",
    "    else:\n",
    "        print(\"패스워드가 틀렸습니다.\")\n",
    "else:\n",
    "    print(\"등록된 아이디가 존재하지 않습니다\")"
   ]
  },
  {
   "cell_type": "code",
   "execution_count": 15,
   "id": "f36a020f",
   "metadata": {},
   "outputs": [
    {
     "name": "stdout",
     "output_type": "stream",
     "text": [
      "점수를 입력해주세요 : 55\n",
      "입력한 점수 :  55\n",
      "학점은  F\n"
     ]
    }
   ],
   "source": [
    "# 학점을 세부적으로 나누는 프로그램을 작성하기(중첩 if문 사용)\n",
    "# 조건\n",
    "# 1. 사용자로부터 점수를 입력받는다.\n",
    "# 2. 점수가 95점 이상 100점 이하라면 A+\n",
    "# 3. 점수가 90점이상 94이하라면 A0\n",
    "# 다른 B, C, D 학점도 위와 같이 출력한다.\n",
    "# 단, F는 그냥 출력하도록하자.\n",
    "\n",
    "score = int(input(\"점수를 입력해주세요 : \"))\n",
    "\n",
    "grade = \"\"\n",
    "\n",
    "print(\"입력한 점수 : \", score)\n",
    "\n",
    "if score >= 90 :\n",
    "    if score >= 95 :\n",
    "        grade = \"A+\"\n",
    "    else :\n",
    "        grade = \"A0\"\n",
    "elif score >= 80:\n",
    "    if score >= 85:\n",
    "        grade = \"B+\"\n",
    "    else :\n",
    "        grade = \"B0\"\n",
    "elif score >= 70:\n",
    "    if score >= 75:\n",
    "        grade = \"C+\"\n",
    "    else :\n",
    "        grade = \"C0\"\n",
    "elif score >= 60:\n",
    "    if score >= 65:\n",
    "        grade = \"D+\"\n",
    "    else :\n",
    "        grade = \"D0\"\n",
    "else:\n",
    "    grade = \"F\"\n",
    "    \n",
    "print(\"학점은 \",grade)\n"
   ]
  }
 ],
 "metadata": {
  "kernelspec": {
   "display_name": "Python 3",
   "language": "python",
   "name": "python3"
  },
  "language_info": {
   "codemirror_mode": {
    "name": "ipython",
    "version": 3
   },
   "file_extension": ".py",
   "mimetype": "text/x-python",
   "name": "python",
   "nbconvert_exporter": "python",
   "pygments_lexer": "ipython3",
   "version": "3.8.8"
  }
 },
 "nbformat": 4,
 "nbformat_minor": 5
}
