{
 "cells": [
  {
   "cell_type": "markdown",
   "id": "4facf6ae",
   "metadata": {},
   "source": [
    "제 4장 조건문"
   ]
  },
  {
   "cell_type": "markdown",
   "id": "1fb18f7b",
   "metadata": {},
   "source": [
    " python에서는 기본적으로는 switch문 선택 x \n",
    " 스위치문은 한정적된 값을 나타낼때 가독성이 높음\n",
    " 스위치구문은 if문으로 대체 가능"
   ]
  },
  {
   "cell_type": "markdown",
   "id": "3f65d40a",
   "metadata": {},
   "source": [
    "1. 조건문의 개요"
   ]
  },
  {
   "cell_type": "markdown",
   "id": "e63d9d58",
   "metadata": {},
   "source": [
    "1) 조건문의 구조\n",
    "    - 우리가 문제를 해결할 때 어떤 조건에 따라서 두개 또는 \n",
    "      여러 개의 실행 경로 가운데 하나를 선택해야 하는 경우가 종종 있다.\n",
    "    - 프로그램도 외부에서 들어오는 정보에 따라서 많은 선택을 하게 된다.\n",
    "      이런 식으로 조건에 따라 결정을 내리는 문장을 조건문이라고 한다.\n",
    "      if -else 문은 조건에 따라서 2개 중에서 하나를 선택해야 하는 경우에\n",
    "      사용되는 문장이다.\n",
    "      예를 들어서 성적이 60점 이상이면 합격, 60점 미만이면 불합격으로\n",
    "      처리해야 한다고 하면 코드는 아래와 같을 것이다."
   ]
  },
  {
   "cell_type": "code",
   "execution_count": null,
   "id": "b47efeb7",
   "metadata": {},
   "outputs": [],
   "source": [
    "score = int(input(\"점수를 입력하세요\"))\n",
    "\n",
    "if score >= 60:\n",
    "    print(\"합격입니다.\")\n",
    "else:\n",
    "    print(\"불합격입니다.\")"
   ]
  },
  {
   "cell_type": "markdown",
   "id": "51ff6b5e",
   "metadata": {},
   "source": [
    "    if -else 문장은 조건이 참이면 이것을 실행하고 조건이 참이 아니라\n",
    "    거짓이면 저것을 실행하라고 말하는 것과 동일하다.\n",
    "    if -else문에서는 조건을 수식으로 표현하는데 \n",
    "    이것을 '조건식'이라고 한다.\n",
    "    하여 조건식의 결과는 참 이나 거짓으로 무조건 나오는 것이다."
   ]
  },
  {
   "cell_type": "markdown",
   "id": "a6af1f04",
   "metadata": {},
   "source": [
    "1) 조건문의 구조\n",
    "    - 조건식 뒤에는 콜론(:)이 있다. 콜론(:)은 파이썬 인터프리터에게\n",
    "      \"아직 전체 문장이 끝나지 않았으니 자시 해석을 미뤄달라\"고 요청하는\n",
    "      기호라고 생각하자.\n",
    "      if-else문은 주어진 조건식을 계산하여 조건식이 참(True)으로 계산되면\n",
    "      if아래에 있는 문장을 실행하고 거짓이면 else 아래의 문장을 실행한다."
   ]
  },
  {
   "cell_type": "code",
   "execution_count": 12,
   "id": "af0c02f4",
   "metadata": {},
   "outputs": [
    {
     "name": "stdout",
     "output_type": "stream",
     "text": [
      "마트에서 주류를 구입할 수 있습니다.\n"
     ]
    }
   ],
   "source": [
    "age = 19\n",
    "if age >= 19 :\n",
    "    print(\"마트에서 주류를 구입할 수 있습니다.\")\n",
    "else :\n",
    "    print(\"성인이 되지 않았습니다. 다음에 이용해주세요.\")"
   ]
  },
  {
   "cell_type": "markdown",
   "id": "172e1b88",
   "metadata": {},
   "source": [
    "1) 조건문의 구조\n",
    "    - 하지만, if -else 구문은 딱 \"모 아니면 도\"라는 형태이기 때문에\n",
    "      50%의 확률을 지닐수가 있게 된다.\n",
    "    - 아울러 때에 따라 else문은 생략이 가능하다."
   ]
  },
  {
   "cell_type": "code",
   "execution_count": 13,
   "id": "ee5d5558",
   "metadata": {},
   "outputs": [
    {
     "name": "stdout",
     "output_type": "stream",
     "text": [
      "내가 제일 좋아하는 숫자는 7 입니다.\n"
     ]
    }
   ],
   "source": [
    "like_number = 7\n",
    "if like_number == 7 :\n",
    "    print(\"내가 제일 좋아하는 숫자는\", like_number,\"입니다.\")"
   ]
  },
  {
   "cell_type": "markdown",
   "id": "b5580521",
   "metadata": {},
   "source": [
    "2) 비교(관계) 연산자\n",
    "    - 비교(관계)연산자는 두 개의 피연산자를 비교하는데 사용된다.\n",
    "      예를 들어 \"변수 x가 변수 y보다 큰지\"를 따지는데 사용된다.\n",
    "      관계 연산자의 결과는 참(True) 아니면 거짓(False)으로 계산된다.\n",
    "    - 비교 연산자의 종류는 아래와 같다.\n",
    "    \n",
    "    \n",
    "    연산                     의미\n",
    "    x == y                 x와 y가 같은가?\n",
    "    x != y                 x와 y가 다른가?\n",
    "    x > y                  x가 y보다 큰가?\n",
    "    x < y                  x가 y보다 작은가?\n",
    "    x >= y                 x가 y보다 크거나 같은가?\n",
    "    x <= y                 x가 y보다 작거나 같은가?\n",
    "    "
   ]
  },
  {
   "cell_type": "markdown",
   "id": "d88b9fb5",
   "metadata": {},
   "source": [
    "2) 비교(관계) 연산자\n",
    "    - 관계 수식은 참이나 거짓이라는 값을 생성한다. \n",
    "      (100 > 50)이라는 관계식이 있다면 이것은 참(True)를 생성한다.\n",
    "      하지만 반대로 (100 < 50)이라면 거짓(False)를 생성한다."
   ]
  },
  {
   "cell_type": "code",
   "execution_count": 15,
   "id": "43673307",
   "metadata": {},
   "outputs": [
    {
     "name": "stdout",
     "output_type": "stream",
     "text": [
      "True\n",
      "False\n",
      "False\n",
      "True\n"
     ]
    }
   ],
   "source": [
    "print(2==2)\n",
    "print(2==3)\n",
    "print(2==\"2\")\n",
    "print(\"hello\"==\"hello\")"
   ]
  },
  {
   "cell_type": "markdown",
   "id": "9e9f95e2",
   "metadata": {},
   "source": [
    "2) 관계 연산자\n",
    "    - 조건식에서는 변수를 사용할 수 있다. 즉 (x > y)와 같은 수식이\n",
    "      가능하다라는 것이다. 변수 x가 변수 y보다 크면 이 수식의 값은\n",
    "      1이된다. 반대로 변수 x의 값이 y보다 작다면 0이된다.\n",
    "      통상 프로그래밍 언어에서는 0은 False를 의미하면서\n",
    "      0이외의 양수는 True로 본다.\n",
    "      하여 양수의 대표값인 1이 True가 되는것이다."
   ]
  },
  {
   "cell_type": "code",
   "execution_count": 16,
   "id": "99db4054",
   "metadata": {},
   "outputs": [
    {
     "data": {
      "text/plain": [
       "True"
      ]
     },
     "execution_count": 16,
     "metadata": {},
     "output_type": "execute_result"
    }
   ],
   "source": [
    "age = 20\n",
    "age >= 10"
   ]
  },
  {
   "cell_type": "markdown",
   "id": "3d8cf8fe",
   "metadata": {},
   "source": [
    "2) 관계 연산자\n",
    "    - 아래 코드를 실행하면 아무런 출력이 되질 않는다.\n",
    "      왜 그럴까? 그건 조건문에서 age가 20살보다 커야만 참이되어\n",
    "      출력문이 실행되는 것이다. 하지만 age가 정확히 20이기 때문에\n",
    "      출력 문장을 실행하지 않는 것이다."
   ]
  },
  {
   "cell_type": "code",
   "execution_count": 19,
   "id": "8332c74d",
   "metadata": {},
   "outputs": [
    {
     "name": "stdout",
     "output_type": "stream",
     "text": [
      "20대 시군요\n"
     ]
    }
   ],
   "source": [
    "age = 20\n",
    "if age > 20 :\n",
    "    print(\"1_20대 시군요\")\n",
    "# 위와 같을 때는 연산자를 > 대신 >=로 교체하면 출력 문장이 실행될 것이다.\n",
    "age = 20\n",
    "if age >= 20 :\n",
    "    print(\"2_20대 시군요\")"
   ]
  },
  {
   "cell_type": "markdown",
   "id": "165ac294",
   "metadata": {},
   "source": [
    "3) 부울 변수\n",
    "     - 조건식에서 결과는 항상 True 아니면 False이다.\n",
    "       파이썬에서는 참과 거짓을 저장하는 변수를 만들 수 있는데\n",
    "       이러한 변수를 부울(bool)변수라고 칭한다.\n",
    "       정수, 실수, 문자열 변수는 많은 값을 가지지만 부울 변수는 딱\n",
    "       2가지 True, False라는 값만 가진다.\n",
    "       이 부울 변수는 프로그래밍 플래그(flag)변수로 많이 사용된다."
   ]
  },
  {
   "cell_type": "code",
   "execution_count": 24,
   "id": "0ca1e814",
   "metadata": {},
   "outputs": [
    {
     "data": {
      "text/plain": [
       "True"
      ]
     },
     "execution_count": 24,
     "metadata": {},
     "output_type": "execute_result"
    }
   ],
   "source": [
    "flag = True\n",
    "flag"
   ]
  },
  {
   "cell_type": "markdown",
   "id": "472d00bc",
   "metadata": {},
   "source": [
    "3) 부울 변수\n",
    "    - 다른 변수처럼 부울값은 수식에서 사용될 수 있으며 \n",
    "      변수 안에 저장될 수 있다.\n",
    "      파이썬에서는 참을 표현할 떄, 소문자로 시작하는 true가 아니고\n",
    "      대문자로 시작하는 True를 사용한다는 점은 타 언어와의 차이점이다."
   ]
  },
  {
   "cell_type": "code",
   "execution_count": 25,
   "id": "3371a23d",
   "metadata": {},
   "outputs": [
    {
     "data": {
      "text/plain": [
       "False"
      ]
     },
     "execution_count": 25,
     "metadata": {},
     "output_type": "execute_result"
    }
   ],
   "source": [
    "flag = False\n",
    "flag"
   ]
  },
  {
   "cell_type": "markdown",
   "id": "1ab05392",
   "metadata": {},
   "source": [
    "참고 : 부울형\n",
    "\"부울형\"이란 자료형은 19세기 영국의 수학자였던 George Boole을 기리기 위하여\n",
    "만들어졌다. 부울은 0과 1(또는 참과 거짓)만을 사용하는 논리 시스템을 고안하였다. 이것이 결국은 현재적인 pc의 초석이 되었다.\n",
    "컴퓨터는 결정을 내리기 위해서는 부울형의 수식을 사용한다.\n",
    "즉, 실행 경로 중에서 하나를 선택할 때는 부울형의 값에 따르는 것이다."
   ]
  }
 ],
 "metadata": {
  "kernelspec": {
   "display_name": "Python 3",
   "language": "python",
   "name": "python3"
  },
  "language_info": {
   "codemirror_mode": {
    "name": "ipython",
    "version": 3
   },
   "file_extension": ".py",
   "mimetype": "text/x-python",
   "name": "python",
   "nbconvert_exporter": "python",
   "pygments_lexer": "ipython3",
   "version": "3.8.8"
  }
 },
 "nbformat": 4,
 "nbformat_minor": 5
}
