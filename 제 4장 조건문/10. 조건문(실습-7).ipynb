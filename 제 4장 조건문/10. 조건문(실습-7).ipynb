{
 "cells": [
  {
   "cell_type": "code",
   "execution_count": 2,
   "id": "971da14c",
   "metadata": {},
   "outputs": [
    {
     "name": "stdout",
     "output_type": "stream",
     "text": [
      "월을 입력하세요 : 4\n",
      "4 월의 일수는 30일\n"
     ]
    }
   ],
   "source": [
    "# 사용자로부터 달을 입력받아서 \n",
    "# 입력 받은 달의 일수를 구하는 프로그램을 작성하시오.\n",
    "\n",
    "month = int(input(\"월을 입력하세요 : \"))\n",
    "\n",
    "if month == 2:\n",
    "    print(month,\"월의 일수는 28일\")\n",
    "elif (month == 4)or(month == 6)or (month ==9) or (month == 11) :\n",
    "    print(month,\"월의 일수는 30일\")\n",
    "else:\n",
    "    print(month,\"월의 일수는 31일\")\n",
    "    "
   ]
  },
  {
   "cell_type": "code",
   "execution_count": 4,
   "id": "29d9f078",
   "metadata": {},
   "outputs": [
    {
     "name": "stdout",
     "output_type": "stream",
     "text": [
      "연도를 입력해주세요 : 2020\n",
      "2020 년은 윤년입니다.\n"
     ]
    }
   ],
   "source": [
    "# 사용자로부터 연도를 입력받고 윤년인지 아닌지를 판단하는 프로그램 만들기\n",
    "\n",
    "# 윤년의 조건\n",
    "# 연도가 4로 나누어 떨어지면 윤년이나 \n",
    "# 100으로 나눠 떨어지는 연도는 제외한다.\n",
    "# 400으로 나눠 떨어지는 연도는 윤년이다.\n",
    "\n",
    "year = int(input(\"연도를 입력해주세요 : \"))\n",
    "\n",
    "if year % 4 == 0 and  year % 100 != 0 or year % 400 == 0:\n",
    "    print(year,\"년은 윤년입니다.\")\n",
    "else :\n",
    "    print(year,\"년은 윤년이 아닙니다.\")"
   ]
  },
  {
   "cell_type": "code",
   "execution_count": 1,
   "id": "e8ec29bf",
   "metadata": {},
   "outputs": [
    {
     "name": "stdout",
     "output_type": "stream",
     "text": [
      "숫자를 맞춰보세요.(1 ~ 100)50\n",
      "입력한 숫자가 더 큽니다.\n",
      "남은 도전횟수는 4번 입니다.\n",
      "숫자를 맞춰보세요.(1 ~ 100)25\n",
      "입력한 숫자가 더 큽니다.\n",
      "남은 도전횟수는 3번 입니다.\n",
      "숫자를 맞춰보세요.(1 ~ 100)12\n",
      "입력한 숫자가 더 작습니다.\n",
      "남은 도전횟수는 2번 입니다.\n",
      "숫자를 맞춰보세요.(1 ~ 100)18\n",
      "입력한 숫자가 더 작습니다.\n",
      "남은 도전횟수는 1번 입니다.\n",
      "숫자를 맞춰보세요.(1 ~ 100)21\n",
      "입력한 숫자가 더 작습니다.\n",
      "남은 도전횟수는 0번 입니다.\n",
      "패배하였습니다. 정답은 23\n"
     ]
    }
   ],
   "source": [
    "# 게임을 만들어볼것이다.\n",
    "# 숫자 추측 게임을 만들기\n",
    "from random import *\n",
    "\n",
    "# 1 ~ 100까지의 임의의 수(난수)를 발생시키는 코드\n",
    "rand_num = randint(1,100)\n",
    "\n",
    "count = 5\n",
    "while count > 0 :\n",
    "    count -= 1    \n",
    "    user_input = int(input(\"숫자를 맞춰보세요.(1 ~ 100)\"))\n",
    "    if user_input == rand_num :\n",
    "        print(f\"도전 횟수 {count}번\")\n",
    "        print(\"정답입니다. 게임을 종료합니다. \")\n",
    "        break;\n",
    "    elif user_input > rand_num:\n",
    "        print(\"입력한 숫자가 더 큽니다.\")\n",
    "    elif rand_num > user_input:\n",
    "        print(\"입력한 숫자가 더 작습니다.\")\n",
    "    print(f\"남은 도전횟수는 {count}번 입니다.\")\n",
    "    if count == 0 :\n",
    "        print(\"패배하였습니다. 정답은\",rand_num)\n"
   ]
  }
 ],
 "metadata": {
  "kernelspec": {
   "display_name": "Python 3",
   "language": "python",
   "name": "python3"
  },
  "language_info": {
   "codemirror_mode": {
    "name": "ipython",
    "version": 3
   },
   "file_extension": ".py",
   "mimetype": "text/x-python",
   "name": "python",
   "nbconvert_exporter": "python",
   "pygments_lexer": "ipython3",
   "version": "3.8.8"
  }
 },
 "nbformat": 4,
 "nbformat_minor": 5
}
